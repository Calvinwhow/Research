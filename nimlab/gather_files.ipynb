{
 "cells": [
  {
   "cell_type": "code",
   "execution_count": 54,
   "metadata": {},
   "outputs": [],
   "source": [
    "import os\n",
    "from glob import glob\n",
    "import platform\n",
    "import shutil\n"
   ]
  },
  {
   "cell_type": "code",
   "execution_count": 55,
   "metadata": {},
   "outputs": [
    {
     "name": "stdout",
     "output_type": "stream",
     "text": [
      "I have set pathnames in the Mac style\n",
      "I will save to: /Users/cu135/Dropbox (Partners HealthCare)/memory/seeds/non_fl_vtas_bilateral_t_con\n"
     ]
    }
   ],
   "source": [
    "save = True\n",
    "## Paths Input Here\n",
    "if platform.uname().system == 'Darwin': #------------------------------Mac OS X---------------------------------------------------------------\n",
    "    conn_path = r'/Users/cu135/Dropbox (Partners HealthCare)/AD_dataset'\n",
    "    out_dir = r'/Users/cu135/Dropbox (Partners HealthCare)/memory/seeds/non_fl_vtas_bilateral_t_con'\n",
    "    file = '*/stimulations/MNI_ICBM_2009b_NLIN_ASYM/gs_20180403170745/GSP_1000_Yeo_2011_Full Set (Yeo 2011)/vat_seed_compound_fMRI_efield_func_seed_T.nii'\n",
    "    print('I have set pathnames in the Mac style')\n",
    "    print('I will save to:', out_dir)\n",
    "else: #----------------------------------------------------------------Windows----------------------------------------------------------------\n",
    "    conn_path = r''\n",
    "    print('I have set pathnames in the Windows style')\n",
    "\n",
    "if os.path.isdir(out_dir) != True:\n",
    "    os.makedirs(out_dir)\n",
    "    \n",
    "#If a patient ID is in a directory, set this to true\n",
    "id_in_dir = True"
   ]
  },
  {
   "attachments": {},
   "cell_type": "markdown",
   "metadata": {},
   "source": [
    "## Note:\n",
    "This will not work if the files are stored in the cloud and are not yet downloaded. So, you must have them acccessible on the computer (nonzeo byte count)."
   ]
  },
  {
   "cell_type": "code",
   "execution_count": 56,
   "metadata": {},
   "outputs": [],
   "source": [
    "import re\n",
    "from pathlib import Path\n",
    "\n",
    "def extract_subdir(path):\n",
    "    # path = Path(path)\n",
    "    # print(path)\n",
    "    match = re.search(r'\\/(\\d+)\\/', path.replace(\" \", r\"\\ \"))\n",
    "    if match:\n",
    "        return str(match.group(1))\n",
    "    else:\n",
    "        return None"
   ]
  },
  {
   "cell_type": "code",
   "execution_count": 57,
   "metadata": {},
   "outputs": [
    {
     "name": "stdout",
     "output_type": "stream",
     "text": [
      "Found 46 files\n"
     ]
    }
   ],
   "source": [
    "globbed = glob(os.path.join(conn_path, file))\n",
    "print(f'Found {len(globbed)} files')"
   ]
  },
  {
   "cell_type": "code",
   "execution_count": 58,
   "metadata": {},
   "outputs": [
    {
     "name": "stdout",
     "output_type": "stream",
     "text": [
      "glob: /Users/cu135/Dropbox (Partners HealthCare)/AD_dataset/135/stimulations/MNI_ICBM_2009b_NLIN_ASYM/gs_20180403170745/GSP_1000_Yeo_2011_Full Set (Yeo 2011)/vat_seed_compound_fMRI_efield_func_seed_T.nii\n",
      "135\n",
      "glob: /Users/cu135/Dropbox (Partners HealthCare)/AD_dataset/104/stimulations/MNI_ICBM_2009b_NLIN_ASYM/gs_20180403170745/GSP_1000_Yeo_2011_Full Set (Yeo 2011)/vat_seed_compound_fMRI_efield_func_seed_T.nii\n",
      "104\n",
      "glob: /Users/cu135/Dropbox (Partners HealthCare)/AD_dataset/103/stimulations/MNI_ICBM_2009b_NLIN_ASYM/gs_20180403170745/GSP_1000_Yeo_2011_Full Set (Yeo 2011)/vat_seed_compound_fMRI_efield_func_seed_T.nii\n",
      "103\n",
      "glob: /Users/cu135/Dropbox (Partners HealthCare)/AD_dataset/150/stimulations/MNI_ICBM_2009b_NLIN_ASYM/gs_20180403170745/GSP_1000_Yeo_2011_Full Set (Yeo 2011)/vat_seed_compound_fMRI_efield_func_seed_T.nii\n",
      "150\n",
      "glob: /Users/cu135/Dropbox (Partners HealthCare)/AD_dataset/102/stimulations/MNI_ICBM_2009b_NLIN_ASYM/gs_20180403170745/GSP_1000_Yeo_2011_Full Set (Yeo 2011)/vat_seed_compound_fMRI_efield_func_seed_T.nii\n",
      "102\n",
      "glob: /Users/cu135/Dropbox (Partners HealthCare)/AD_dataset/105/stimulations/MNI_ICBM_2009b_NLIN_ASYM/gs_20180403170745/GSP_1000_Yeo_2011_Full Set (Yeo 2011)/vat_seed_compound_fMRI_efield_func_seed_T.nii\n",
      "105\n",
      "glob: /Users/cu135/Dropbox (Partners HealthCare)/AD_dataset/133/stimulations/MNI_ICBM_2009b_NLIN_ASYM/gs_20180403170745/GSP_1000_Yeo_2011_Full Set (Yeo 2011)/vat_seed_compound_fMRI_efield_func_seed_T.nii\n",
      "133\n",
      "glob: /Users/cu135/Dropbox (Partners HealthCare)/AD_dataset/134/stimulations/MNI_ICBM_2009b_NLIN_ASYM/gs_20180403170745/GSP_1000_Yeo_2011_Full Set (Yeo 2011)/vat_seed_compound_fMRI_efield_func_seed_T.nii\n",
      "134\n",
      "glob: /Users/cu135/Dropbox (Partners HealthCare)/AD_dataset/145/stimulations/MNI_ICBM_2009b_NLIN_ASYM/gs_20180403170745/GSP_1000_Yeo_2011_Full Set (Yeo 2011)/vat_seed_compound_fMRI_efield_func_seed_T.nii\n",
      "145\n",
      "glob: /Users/cu135/Dropbox (Partners HealthCare)/AD_dataset/142/stimulations/MNI_ICBM_2009b_NLIN_ASYM/gs_20180403170745/GSP_1000_Yeo_2011_Full Set (Yeo 2011)/vat_seed_compound_fMRI_efield_func_seed_T.nii\n",
      "142\n",
      "glob: /Users/cu135/Dropbox (Partners HealthCare)/AD_dataset/129/stimulations/MNI_ICBM_2009b_NLIN_ASYM/gs_20180403170745/GSP_1000_Yeo_2011_Full Set (Yeo 2011)/vat_seed_compound_fMRI_efield_func_seed_T.nii\n",
      "129\n",
      "glob: /Users/cu135/Dropbox (Partners HealthCare)/AD_dataset/116/stimulations/MNI_ICBM_2009b_NLIN_ASYM/gs_20180403170745/GSP_1000_Yeo_2011_Full Set (Yeo 2011)/vat_seed_compound_fMRI_efield_func_seed_T.nii\n",
      "116\n",
      "glob: /Users/cu135/Dropbox (Partners HealthCare)/AD_dataset/111/stimulations/MNI_ICBM_2009b_NLIN_ASYM/gs_20180403170745/GSP_1000_Yeo_2011_Full Set (Yeo 2011)/vat_seed_compound_fMRI_efield_func_seed_T.nii\n",
      "111\n",
      "glob: /Users/cu135/Dropbox (Partners HealthCare)/AD_dataset/118/stimulations/MNI_ICBM_2009b_NLIN_ASYM/gs_20180403170745/GSP_1000_Yeo_2011_Full Set (Yeo 2011)/vat_seed_compound_fMRI_efield_func_seed_T.nii\n",
      "118\n",
      "glob: /Users/cu135/Dropbox (Partners HealthCare)/AD_dataset/127/stimulations/MNI_ICBM_2009b_NLIN_ASYM/gs_20180403170745/GSP_1000_Yeo_2011_Full Set (Yeo 2011)/vat_seed_compound_fMRI_efield_func_seed_T.nii\n",
      "127\n",
      "glob: /Users/cu135/Dropbox (Partners HealthCare)/AD_dataset/120/stimulations/MNI_ICBM_2009b_NLIN_ASYM/gs_20180403170745/GSP_1000_Yeo_2011_Full Set (Yeo 2011)/vat_seed_compound_fMRI_efield_func_seed_T.nii\n",
      "120\n",
      "glob: /Users/cu135/Dropbox (Partners HealthCare)/AD_dataset/143/stimulations/MNI_ICBM_2009b_NLIN_ASYM/gs_20180403170745/GSP_1000_Yeo_2011_Full Set (Yeo 2011)/vat_seed_compound_fMRI_efield_func_seed_T.nii\n",
      "143\n",
      "glob: /Users/cu135/Dropbox (Partners HealthCare)/AD_dataset/144/stimulations/MNI_ICBM_2009b_NLIN_ASYM/gs_20180403170745/GSP_1000_Yeo_2011_Full Set (Yeo 2011)/vat_seed_compound_fMRI_efield_func_seed_T.nii\n",
      "144\n",
      "glob: /Users/cu135/Dropbox (Partners HealthCare)/AD_dataset/121/stimulations/MNI_ICBM_2009b_NLIN_ASYM/gs_20180403170745/GSP_1000_Yeo_2011_Full Set (Yeo 2011)/vat_seed_compound_fMRI_efield_func_seed_T.nii\n",
      "121\n",
      "glob: /Users/cu135/Dropbox (Partners HealthCare)/AD_dataset/119/stimulations/MNI_ICBM_2009b_NLIN_ASYM/gs_20180403170745/GSP_1000_Yeo_2011_Full Set (Yeo 2011)/vat_seed_compound_fMRI_efield_func_seed_T.nii\n",
      "119\n",
      "glob: /Users/cu135/Dropbox (Partners HealthCare)/AD_dataset/126/stimulations/MNI_ICBM_2009b_NLIN_ASYM/gs_20180403170745/GSP_1000_Yeo_2011_Full Set (Yeo 2011)/vat_seed_compound_fMRI_efield_func_seed_T.nii\n",
      "126\n",
      "glob: /Users/cu135/Dropbox (Partners HealthCare)/AD_dataset/110/stimulations/MNI_ICBM_2009b_NLIN_ASYM/gs_20180403170745/GSP_1000_Yeo_2011_Full Set (Yeo 2011)/vat_seed_compound_fMRI_efield_func_seed_T.nii\n",
      "110\n",
      "glob: /Users/cu135/Dropbox (Partners HealthCare)/AD_dataset/128/stimulations/MNI_ICBM_2009b_NLIN_ASYM/gs_20180403170745/GSP_1000_Yeo_2011_Full Set (Yeo 2011)/vat_seed_compound_fMRI_efield_func_seed_T.nii\n",
      "128\n",
      "glob: /Users/cu135/Dropbox (Partners HealthCare)/AD_dataset/131/stimulations/MNI_ICBM_2009b_NLIN_ASYM/gs_20180403170745/GSP_1000_Yeo_2011_Full Set (Yeo 2011)/vat_seed_compound_fMRI_efield_func_seed_T.nii\n",
      "131\n",
      "glob: /Users/cu135/Dropbox (Partners HealthCare)/AD_dataset/109/stimulations/MNI_ICBM_2009b_NLIN_ASYM/gs_20180403170745/GSP_1000_Yeo_2011_Full Set (Yeo 2011)/vat_seed_compound_fMRI_efield_func_seed_T.nii\n",
      "109\n",
      "glob: /Users/cu135/Dropbox (Partners HealthCare)/AD_dataset/107/stimulations/MNI_ICBM_2009b_NLIN_ASYM/gs_20180403170745/GSP_1000_Yeo_2011_Full Set (Yeo 2011)/vat_seed_compound_fMRI_efield_func_seed_T.nii\n",
      "107\n",
      "glob: /Users/cu135/Dropbox (Partners HealthCare)/AD_dataset/138/stimulations/MNI_ICBM_2009b_NLIN_ASYM/gs_20180403170745/GSP_1000_Yeo_2011_Full Set (Yeo 2011)/vat_seed_compound_fMRI_efield_func_seed_T.nii\n",
      "138\n",
      "glob: /Users/cu135/Dropbox (Partners HealthCare)/AD_dataset/106/stimulations/MNI_ICBM_2009b_NLIN_ASYM/gs_20180403170745/GSP_1000_Yeo_2011_Full Set (Yeo 2011)/vat_seed_compound_fMRI_efield_func_seed_T.nii\n",
      "106\n",
      "glob: /Users/cu135/Dropbox (Partners HealthCare)/AD_dataset/139/stimulations/MNI_ICBM_2009b_NLIN_ASYM/gs_20180403170745/GSP_1000_Yeo_2011_Full Set (Yeo 2011)/vat_seed_compound_fMRI_efield_func_seed_T.nii\n",
      "139\n",
      "glob: /Users/cu135/Dropbox (Partners HealthCare)/AD_dataset/101/stimulations/MNI_ICBM_2009b_NLIN_ASYM/gs_20180403170745/GSP_1000_Yeo_2011_Full Set (Yeo 2011)/vat_seed_compound_fMRI_efield_func_seed_T.nii\n",
      "101\n",
      "glob: /Users/cu135/Dropbox (Partners HealthCare)/AD_dataset/137/stimulations/MNI_ICBM_2009b_NLIN_ASYM/gs_20180403170745/GSP_1000_Yeo_2011_Full Set (Yeo 2011)/vat_seed_compound_fMRI_efield_func_seed_T.nii\n",
      "137\n",
      "glob: /Users/cu135/Dropbox (Partners HealthCare)/AD_dataset/108/stimulations/MNI_ICBM_2009b_NLIN_ASYM/gs_20180403170745/GSP_1000_Yeo_2011_Full Set (Yeo 2011)/vat_seed_compound_fMRI_efield_func_seed_T.nii\n",
      "108\n",
      "glob: /Users/cu135/Dropbox (Partners HealthCare)/AD_dataset/130/stimulations/MNI_ICBM_2009b_NLIN_ASYM/gs_20180403170745/GSP_1000_Yeo_2011_Full Set (Yeo 2011)/vat_seed_compound_fMRI_efield_func_seed_T.nii\n",
      "130\n",
      "glob: /Users/cu135/Dropbox (Partners HealthCare)/AD_dataset/115/stimulations/MNI_ICBM_2009b_NLIN_ASYM/gs_20180403170745/GSP_1000_Yeo_2011_Full Set (Yeo 2011)/vat_seed_compound_fMRI_efield_func_seed_T.nii\n",
      "115\n",
      "glob: /Users/cu135/Dropbox (Partners HealthCare)/AD_dataset/123/stimulations/MNI_ICBM_2009b_NLIN_ASYM/gs_20180403170745/GSP_1000_Yeo_2011_Full Set (Yeo 2011)/vat_seed_compound_fMRI_efield_func_seed_T.nii\n",
      "123\n",
      "glob: /Users/cu135/Dropbox (Partners HealthCare)/AD_dataset/124/stimulations/MNI_ICBM_2009b_NLIN_ASYM/gs_20180403170745/GSP_1000_Yeo_2011_Full Set (Yeo 2011)/vat_seed_compound_fMRI_efield_func_seed_T.nii\n",
      "124\n",
      "glob: /Users/cu135/Dropbox (Partners HealthCare)/AD_dataset/148/stimulations/MNI_ICBM_2009b_NLIN_ASYM/gs_20180403170745/GSP_1000_Yeo_2011_Full Set (Yeo 2011)/vat_seed_compound_fMRI_efield_func_seed_T.nii\n",
      "148\n",
      "glob: /Users/cu135/Dropbox (Partners HealthCare)/AD_dataset/141/stimulations/MNI_ICBM_2009b_NLIN_ASYM/gs_20180403170745/GSP_1000_Yeo_2011_Full Set (Yeo 2011)/vat_seed_compound_fMRI_efield_func_seed_T.nii\n",
      "141\n",
      "glob: /Users/cu135/Dropbox (Partners HealthCare)/AD_dataset/146/stimulations/MNI_ICBM_2009b_NLIN_ASYM/gs_20180403170745/GSP_1000_Yeo_2011_Full Set (Yeo 2011)/vat_seed_compound_fMRI_efield_func_seed_T.nii\n",
      "146\n",
      "glob: /Users/cu135/Dropbox (Partners HealthCare)/AD_dataset/125/stimulations/MNI_ICBM_2009b_NLIN_ASYM/gs_20180403170745/GSP_1000_Yeo_2011_Full Set (Yeo 2011)/vat_seed_compound_fMRI_efield_func_seed_T.nii\n",
      "125\n",
      "glob: /Users/cu135/Dropbox (Partners HealthCare)/AD_dataset/122/stimulations/MNI_ICBM_2009b_NLIN_ASYM/gs_20180403170745/GSP_1000_Yeo_2011_Full Set (Yeo 2011)/vat_seed_compound_fMRI_efield_func_seed_T.nii\n",
      "122\n",
      "glob: /Users/cu135/Dropbox (Partners HealthCare)/AD_dataset/114/stimulations/MNI_ICBM_2009b_NLIN_ASYM/gs_20180403170745/GSP_1000_Yeo_2011_Full Set (Yeo 2011)/vat_seed_compound_fMRI_efield_func_seed_T.nii\n",
      "114\n",
      "glob: /Users/cu135/Dropbox (Partners HealthCare)/AD_dataset/113/stimulations/MNI_ICBM_2009b_NLIN_ASYM/gs_20180403170745/GSP_1000_Yeo_2011_Full Set (Yeo 2011)/vat_seed_compound_fMRI_efield_func_seed_T.nii\n",
      "113\n",
      "glob: /Users/cu135/Dropbox (Partners HealthCare)/AD_dataset/147/stimulations/MNI_ICBM_2009b_NLIN_ASYM/gs_20180403170745/GSP_1000_Yeo_2011_Full Set (Yeo 2011)/vat_seed_compound_fMRI_efield_func_seed_T.nii\n",
      "147\n",
      "glob: /Users/cu135/Dropbox (Partners HealthCare)/AD_dataset/140/stimulations/MNI_ICBM_2009b_NLIN_ASYM/gs_20180403170745/GSP_1000_Yeo_2011_Full Set (Yeo 2011)/vat_seed_compound_fMRI_efield_func_seed_T.nii\n",
      "140\n",
      "glob: /Users/cu135/Dropbox (Partners HealthCare)/AD_dataset/149/stimulations/MNI_ICBM_2009b_NLIN_ASYM/gs_20180403170745/GSP_1000_Yeo_2011_Full Set (Yeo 2011)/vat_seed_compound_fMRI_efield_func_seed_T.nii\n",
      "149\n",
      "saved to : /Users/cu135/Dropbox (Partners HealthCare)/memory/seeds/non_fl_vtas_bilateral_t_con/149_vat_seed_compound_fMRI_efield_func_seed_T.nii\n"
     ]
    }
   ],
   "source": [
    "for glob in globbed:\n",
    "    #Manipulate naming convention\n",
    "    print('glob:', glob)\n",
    "    scan_name, extension = os.path.splitext(os.path.basename(glob))\n",
    "    if id_in_dir:\n",
    "        patient_id = extract_subdir(glob)\n",
    "        print(patient_id)\n",
    "    else:\n",
    "        patient_id = os.path.basename(os.path.dirname(glob))\n",
    "    savename = out_dir + '/' + patient_id + '_' + scan_name + extension\n",
    "    \n",
    "    #Additional Filename Manipulation if desired\n",
    "    patient_id = savename.split(out_dir)[1]\n",
    "    \n",
    "    #Save the file\n",
    "    shutil.copy(glob, savename)\n",
    "print('saved to :', savename)"
   ]
  },
  {
   "cell_type": "code",
   "execution_count": null,
   "metadata": {},
   "outputs": [],
   "source": []
  }
 ],
 "metadata": {
  "kernelspec": {
   "display_name": "nimlab_py310",
   "language": "python",
   "name": "python3"
  },
  "language_info": {
   "codemirror_mode": {
    "name": "ipython",
    "version": 3
   },
   "file_extension": ".py",
   "mimetype": "text/x-python",
   "name": "python",
   "nbconvert_exporter": "python",
   "pygments_lexer": "ipython3",
   "version": "3.10.8"
  },
  "orig_nbformat": 4,
  "vscode": {
   "interpreter": {
    "hash": "62880161f19d28ddb8a8f59c63374d84ace356c39e36cc839cb3fb3bb03fb010"
   }
  }
 },
 "nbformat": 4,
 "nbformat_minor": 2
}
