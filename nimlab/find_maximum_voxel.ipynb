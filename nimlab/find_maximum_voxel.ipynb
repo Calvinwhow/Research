{
 "cells": [
  {
   "cell_type": "code",
   "execution_count": 1,
   "metadata": {},
   "outputs": [],
   "source": [
    "from calvin_utils.matrix_utilities import find_maximum_voxel, convert_index_to_coordinate\n",
    "from calvin_utils.generate_nifti import gen_sphere_roi\n",
    "\n",
    "from nimlab import datasets as nimds\n",
    "import numpy as np\n",
    "from nilearn import image, plotting, maskers\n",
    "import nibabel as nib\n",
    "import os\n",
    "import pandas as pd\n",
    "import glob\n",
    "import platform\n",
    "import warnings\n",
    "warnings.filterwarnings('ignore')\n",
    "import nilearn\n",
    "\n",
    "#Imports for selecting location\n",
    "import tkinter as tk\n",
    "from tkinter import filedialog\n"
   ]
  },
  {
   "cell_type": "code",
   "execution_count": 9,
   "metadata": {},
   "outputs": [
    {
     "name": "stdout",
     "output_type": "stream",
     "text": [
      "Found matrix at:  /Users/cu135/Dropbox (Partners HealthCare)/yeo_analysis/to_default_frontop_ventral_seeds/yeo_seeds_only_default_fronto_ventral/Component One Map.nii\n",
      "Found output directory at:  /Users/cu135/Dropbox (Partners HealthCare)/yeo_analysis/to_default_frontop_ventral_seeds/yeo_seeds_only_default_fronto_ventral/matrix_maxima/max_voxel.nii\n"
     ]
    }
   ],
   "source": [
    "# Get files to use\n",
    "use_gui = False\n",
    "if use_gui == False:\n",
    "    matrix_path = r'/Users/cu135/Dropbox (Partners HealthCare)/yeo_analysis/to_default_frontop_ventral_seeds/yeo_seeds_only_default_fronto_ventral/Component One Map.nii'\n",
    "    out_dir = os.path.join(os.path.dirname(matrix_path), f'matrix_maxima/max_voxel.nii')\n",
    "\n",
    "else: \n",
    "    root = tk.Tk();\n",
    "    root.withdraw();\n",
    "    matrix_path = filedialog.askopenfilename(title='Please select file to operate on');\n",
    "    out_dir = filedialog.askdirectory(title='Please select directory to save to');\n",
    "    out_name = os.path.join(out_dir, (os.path.basename(matrix_path).split('.')[0] + '/max_voxel.nii'))\n",
    "print('Found matrix at: ', matrix_path)\n",
    "print('Found output directory at: ', out_dir)\n"
   ]
  },
  {
   "cell_type": "code",
   "execution_count": 10,
   "metadata": {},
   "outputs": [
    {
     "name": "stdout",
     "output_type": "stream",
     "text": [
      "[21, 72, 34]\n"
     ]
    }
   ],
   "source": [
    "#Get indices of max voxel\n",
    "mni_mask_img = nimds.get_img(\"mni_icbm152\")\n",
    "mni_mask_matrix = mni_mask_img.get_fdata()\n",
    "\n",
    "matrix_img = image.load_img(matrix_path)\n",
    "matrix_matrix = matrix_img.get_fdata()\n",
    "matrix_matrix = np.nan_to_num(matrix_matrix, nan=0, posinf=0, neginf=0)\n",
    "\n",
    "\n",
    "max_indices = find_maximum_voxel(matrix=matrix_matrix, mask=mni_mask_matrix)\n",
    "max_indices = [t[0] for t in max_indices]\n",
    "print(max_indices)"
   ]
  },
  {
   "cell_type": "code",
   "execution_count": 11,
   "metadata": {},
   "outputs": [
    {
     "name": "stdout",
     "output_type": "stream",
     "text": [
      "7\n",
      "I will binarize wihtin the sphere\n",
      "saved to:  /Users/cu135/Dropbox (Partners HealthCare)/yeo_analysis/to_default_frontop_ventral_seeds/yeo_seeds_only_default_fronto_ventral/matrix_maxima/max_voxel.niix_pos48.0_y_pos18.0_z_neg4.0.nii\n"
     ]
    }
   ],
   "source": [
    "#Get MNI Coordinates of Max Voxel\n",
    "from nibabel.affines import apply_affine\n",
    "\n",
    "coordinate_affine_matrix = mni_mask_img.affine\n",
    "mni_coords = apply_affine(coordinate_affine_matrix, max_indices)\n",
    "\n",
    "#Generate the ROI\n",
    "from calvin_utils.generate_nifti import generate_spherical_roi\n",
    "sphere_at_maxima = generate_spherical_roi(mni_coords[0], mni_coords[1], mni_coords[2], out_dir=out_dir, radius=2)"
   ]
  },
  {
   "cell_type": "code",
   "execution_count": 45,
   "metadata": {},
   "outputs": [
    {
     "name": "stdout",
     "output_type": "stream",
     "text": [
      "7\n",
      "I will binarize wihtin the sphere\n",
      "saved to:  /Users/cu135/Dropbox (Partners HealthCare)/memory/functional_networks/seeds/matrix_maximax_neg46.0_y_neg52.0_z_pos56.0.nii\n"
     ]
    }
   ],
   "source": [
    "\n"
   ]
  },
  {
   "cell_type": "code",
   "execution_count": null,
   "metadata": {},
   "outputs": [],
   "source": []
  }
 ],
 "metadata": {
  "kernelspec": {
   "display_name": "Python3.10 (nimlab)",
   "language": "python",
   "name": "nimlab_py310"
  },
  "language_info": {
   "codemirror_mode": {
    "name": "ipython",
    "version": 3
   },
   "file_extension": ".py",
   "mimetype": "text/x-python",
   "name": "python",
   "nbconvert_exporter": "python",
   "pygments_lexer": "ipython3",
   "version": "3.10.8"
  },
  "orig_nbformat": 4
 },
 "nbformat": 4,
 "nbformat_minor": 2
}
