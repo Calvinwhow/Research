{
 "cells": [
  {
   "cell_type": "markdown",
   "metadata": {},
   "source": [
    "Find Files to Add Together"
   ]
  },
  {
   "cell_type": "code",
   "execution_count": 1,
   "metadata": {},
   "outputs": [],
   "source": [
    "import glob\n",
    "\n",
    "def find_files(root_dir, target_str):\n",
    "    \"\"\"\n",
    "    Return a list of files globbed using a root directory and a target string.\n",
    "\n",
    "    Args:\n",
    "        root_dir (str): The root directory to start the search.\n",
    "        target_str (str): The target string to match in file names.\n",
    "\n",
    "    Returns:\n",
    "        list: A list of file paths matching the target string.\n",
    "    \n",
    "    # Example usage:\n",
    "    root_directory = '/path/to/root/directory'\n",
    "    target_string = 'example'\n",
    "\n",
    "    files_matching_target = find_files(root_directory, target_string)\n",
    "    print(files_matching_target)\n",
    "    \"\"\"\n",
    "    search_pattern = f\"{root_dir}/**/*{target_str}*\"\n",
    "    files = glob.glob(search_pattern, recursive=True)\n",
    "    return files\n"
   ]
  },
  {
   "cell_type": "markdown",
   "metadata": {},
   "source": [
    "Define the Root Directory and Target String of Files to Add"
   ]
  },
  {
   "cell_type": "code",
   "execution_count": 6,
   "metadata": {},
   "outputs": [],
   "source": [
    "path = '/Users/cu135/Dropbox (Partners HealthCare)/studies/atrophy_seeds_2023/shared_analysis/niftis_for_elmira/atrophy_seeds/sub-*/ses-01/thresholded_tissue_segment_z_scores'\n",
    "target = '*cerebrospinal_fluid*'"
   ]
  },
  {
   "cell_type": "code",
   "execution_count": 7,
   "metadata": {},
   "outputs": [
    {
     "data": {
      "text/plain": [
       "['/Users/cu135/Dropbox (Partners HealthCare)/studies/atrophy_seeds_2023/shared_analysis/niftis_for_elmira/atrophy_seeds/sub-021/ses-01/thresholded_tissue_segment_z_scores/sub-021_cerebrospinal_fluid_generated_nifti.nii',\n",
       " '/Users/cu135/Dropbox (Partners HealthCare)/studies/atrophy_seeds_2023/shared_analysis/niftis_for_elmira/atrophy_seeds/sub-026/ses-01/thresholded_tissue_segment_z_scores/sub-026_cerebrospinal_fluid_generated_nifti.nii',\n",
       " '/Users/cu135/Dropbox (Partners HealthCare)/studies/atrophy_seeds_2023/shared_analysis/niftis_for_elmira/atrophy_seeds/sub-019/ses-01/thresholded_tissue_segment_z_scores/sub-019_cerebrospinal_fluid_generated_nifti.nii',\n",
       " '/Users/cu135/Dropbox (Partners HealthCare)/studies/atrophy_seeds_2023/shared_analysis/niftis_for_elmira/atrophy_seeds/sub-010/ses-01/thresholded_tissue_segment_z_scores/sub-010_cerebrospinal_fluid_generated_nifti.nii',\n",
       " '/Users/cu135/Dropbox (Partners HealthCare)/studies/atrophy_seeds_2023/shared_analysis/niftis_for_elmira/atrophy_seeds/sub-017/ses-01/thresholded_tissue_segment_z_scores/sub-017_cerebrospinal_fluid_generated_nifti.nii',\n",
       " '/Users/cu135/Dropbox (Partners HealthCare)/studies/atrophy_seeds_2023/shared_analysis/niftis_for_elmira/atrophy_seeds/sub-028/ses-01/thresholded_tissue_segment_z_scores/sub-028_cerebrospinal_fluid_generated_nifti.nii',\n",
       " '/Users/cu135/Dropbox (Partners HealthCare)/studies/atrophy_seeds_2023/shared_analysis/niftis_for_elmira/atrophy_seeds/sub-043/ses-01/thresholded_tissue_segment_z_scores/sub-043_cerebrospinal_fluid_generated_nifti.nii',\n",
       " '/Users/cu135/Dropbox (Partners HealthCare)/studies/atrophy_seeds_2023/shared_analysis/niftis_for_elmira/atrophy_seeds/sub-044/ses-01/thresholded_tissue_segment_z_scores/sub-044_cerebrospinal_fluid_generated_nifti.nii',\n",
       " '/Users/cu135/Dropbox (Partners HealthCare)/studies/atrophy_seeds_2023/shared_analysis/niftis_for_elmira/atrophy_seeds/sub-016/ses-01/thresholded_tissue_segment_z_scores/sub-016_cerebrospinal_fluid_generated_nifti.nii',\n",
       " '/Users/cu135/Dropbox (Partners HealthCare)/studies/atrophy_seeds_2023/shared_analysis/niftis_for_elmira/atrophy_seeds/sub-029/ses-01/thresholded_tissue_segment_z_scores/sub-029_cerebrospinal_fluid_generated_nifti.nii',\n",
       " '/Users/cu135/Dropbox (Partners HealthCare)/studies/atrophy_seeds_2023/shared_analysis/niftis_for_elmira/atrophy_seeds/sub-011/ses-01/thresholded_tissue_segment_z_scores/sub-011_cerebrospinal_fluid_generated_nifti.nii',\n",
       " '/Users/cu135/Dropbox (Partners HealthCare)/studies/atrophy_seeds_2023/shared_analysis/niftis_for_elmira/atrophy_seeds/sub-027/ses-01/thresholded_tissue_segment_z_scores/sub-027_cerebrospinal_fluid_generated_nifti.nii',\n",
       " '/Users/cu135/Dropbox (Partners HealthCare)/studies/atrophy_seeds_2023/shared_analysis/niftis_for_elmira/atrophy_seeds/sub-018/ses-01/thresholded_tissue_segment_z_scores/sub-018_cerebrospinal_fluid_generated_nifti.nii',\n",
       " '/Users/cu135/Dropbox (Partners HealthCare)/studies/atrophy_seeds_2023/shared_analysis/niftis_for_elmira/atrophy_seeds/sub-020/ses-01/thresholded_tissue_segment_z_scores/sub-020_cerebrospinal_fluid_generated_nifti.nii',\n",
       " '/Users/cu135/Dropbox (Partners HealthCare)/studies/atrophy_seeds_2023/shared_analysis/niftis_for_elmira/atrophy_seeds/sub-045/ses-01/thresholded_tissue_segment_z_scores/sub-045_cerebrospinal_fluid_generated_nifti.nii',\n",
       " '/Users/cu135/Dropbox (Partners HealthCare)/studies/atrophy_seeds_2023/shared_analysis/niftis_for_elmira/atrophy_seeds/sub-042/ses-01/thresholded_tissue_segment_z_scores/sub-042_cerebrospinal_fluid_generated_nifti.nii',\n",
       " '/Users/cu135/Dropbox (Partners HealthCare)/studies/atrophy_seeds_2023/shared_analysis/niftis_for_elmira/atrophy_seeds/sub-002/ses-01/thresholded_tissue_segment_z_scores/sub-002_cerebrospinal_fluid_generated_nifti.nii',\n",
       " '/Users/cu135/Dropbox (Partners HealthCare)/studies/atrophy_seeds_2023/shared_analysis/niftis_for_elmira/atrophy_seeds/sub-005/ses-01/thresholded_tissue_segment_z_scores/sub-005_cerebrospinal_fluid_generated_nifti.nii',\n",
       " '/Users/cu135/Dropbox (Partners HealthCare)/studies/atrophy_seeds_2023/shared_analysis/niftis_for_elmira/atrophy_seeds/sub-033/ses-01/thresholded_tissue_segment_z_scores/sub-033_cerebrospinal_fluid_generated_nifti.nii',\n",
       " '/Users/cu135/Dropbox (Partners HealthCare)/studies/atrophy_seeds_2023/shared_analysis/niftis_for_elmira/atrophy_seeds/sub-034/ses-01/thresholded_tissue_segment_z_scores/sub-034_cerebrospinal_fluid_generated_nifti.nii',\n",
       " '/Users/cu135/Dropbox (Partners HealthCare)/studies/atrophy_seeds_2023/shared_analysis/niftis_for_elmira/atrophy_seeds/sub-050/ses-01/thresholded_tissue_segment_z_scores/sub-050_cerebrospinal_fluid_generated_nifti.nii',\n",
       " '/Users/cu135/Dropbox (Partners HealthCare)/studies/atrophy_seeds_2023/shared_analysis/niftis_for_elmira/atrophy_seeds/sub-035/ses-01/thresholded_tissue_segment_z_scores/sub-035_cerebrospinal_fluid_generated_nifti.nii',\n",
       " '/Users/cu135/Dropbox (Partners HealthCare)/studies/atrophy_seeds_2023/shared_analysis/niftis_for_elmira/atrophy_seeds/sub-032/ses-01/thresholded_tissue_segment_z_scores/sub-032_cerebrospinal_fluid_generated_nifti.nii',\n",
       " '/Users/cu135/Dropbox (Partners HealthCare)/studies/atrophy_seeds_2023/shared_analysis/niftis_for_elmira/atrophy_seeds/sub-004/ses-01/thresholded_tissue_segment_z_scores/sub-004_cerebrospinal_fluid_generated_nifti.nii',\n",
       " '/Users/cu135/Dropbox (Partners HealthCare)/studies/atrophy_seeds_2023/shared_analysis/niftis_for_elmira/atrophy_seeds/sub-003/ses-01/thresholded_tissue_segment_z_scores/sub-003_cerebrospinal_fluid_generated_nifti.nii',\n",
       " '/Users/cu135/Dropbox (Partners HealthCare)/studies/atrophy_seeds_2023/shared_analysis/niftis_for_elmira/atrophy_seeds/sub-047/ses-01/thresholded_tissue_segment_z_scores/sub-047_cerebrospinal_fluid_generated_nifti.nii',\n",
       " '/Users/cu135/Dropbox (Partners HealthCare)/studies/atrophy_seeds_2023/shared_analysis/niftis_for_elmira/atrophy_seeds/sub-040/ses-01/thresholded_tissue_segment_z_scores/sub-040_cerebrospinal_fluid_generated_nifti.nii',\n",
       " '/Users/cu135/Dropbox (Partners HealthCare)/studies/atrophy_seeds_2023/shared_analysis/niftis_for_elmira/atrophy_seeds/sub-049/ses-01/thresholded_tissue_segment_z_scores/sub-049_cerebrospinal_fluid_generated_nifti.nii',\n",
       " '/Users/cu135/Dropbox (Partners HealthCare)/studies/atrophy_seeds_2023/shared_analysis/niftis_for_elmira/atrophy_seeds/sub-025/ses-01/thresholded_tissue_segment_z_scores/sub-025_cerebrospinal_fluid_generated_nifti.nii',\n",
       " '/Users/cu135/Dropbox (Partners HealthCare)/studies/atrophy_seeds_2023/shared_analysis/niftis_for_elmira/atrophy_seeds/sub-022/ses-01/thresholded_tissue_segment_z_scores/sub-022_cerebrospinal_fluid_generated_nifti.nii',\n",
       " '/Users/cu135/Dropbox (Partners HealthCare)/studies/atrophy_seeds_2023/shared_analysis/niftis_for_elmira/atrophy_seeds/sub-014/ses-01/thresholded_tissue_segment_z_scores/sub-014_cerebrospinal_fluid_generated_nifti.nii',\n",
       " '/Users/cu135/Dropbox (Partners HealthCare)/studies/atrophy_seeds_2023/shared_analysis/niftis_for_elmira/atrophy_seeds/sub-013/ses-01/thresholded_tissue_segment_z_scores/sub-013_cerebrospinal_fluid_generated_nifti.nii',\n",
       " '/Users/cu135/Dropbox (Partners HealthCare)/studies/atrophy_seeds_2023/shared_analysis/niftis_for_elmira/atrophy_seeds/sub-048/ses-01/thresholded_tissue_segment_z_scores/sub-048_cerebrospinal_fluid_generated_nifti.nii',\n",
       " '/Users/cu135/Dropbox (Partners HealthCare)/studies/atrophy_seeds_2023/shared_analysis/niftis_for_elmira/atrophy_seeds/sub-041/ses-01/thresholded_tissue_segment_z_scores/sub-041_cerebrospinal_fluid_generated_nifti.nii',\n",
       " '/Users/cu135/Dropbox (Partners HealthCare)/studies/atrophy_seeds_2023/shared_analysis/niftis_for_elmira/atrophy_seeds/sub-046/ses-01/thresholded_tissue_segment_z_scores/sub-046_cerebrospinal_fluid_generated_nifti.nii',\n",
       " '/Users/cu135/Dropbox (Partners HealthCare)/studies/atrophy_seeds_2023/shared_analysis/niftis_for_elmira/atrophy_seeds/sub-012/ses-01/thresholded_tissue_segment_z_scores/sub-012_cerebrospinal_fluid_generated_nifti.nii',\n",
       " '/Users/cu135/Dropbox (Partners HealthCare)/studies/atrophy_seeds_2023/shared_analysis/niftis_for_elmira/atrophy_seeds/sub-015/ses-01/thresholded_tissue_segment_z_scores/sub-015_cerebrospinal_fluid_generated_nifti.nii',\n",
       " '/Users/cu135/Dropbox (Partners HealthCare)/studies/atrophy_seeds_2023/shared_analysis/niftis_for_elmira/atrophy_seeds/sub-023/ses-01/thresholded_tissue_segment_z_scores/sub-023_cerebrospinal_fluid_generated_nifti.nii',\n",
       " '/Users/cu135/Dropbox (Partners HealthCare)/studies/atrophy_seeds_2023/shared_analysis/niftis_for_elmira/atrophy_seeds/sub-024/ses-01/thresholded_tissue_segment_z_scores/sub-024_cerebrospinal_fluid_generated_nifti.nii',\n",
       " '/Users/cu135/Dropbox (Partners HealthCare)/studies/atrophy_seeds_2023/shared_analysis/niftis_for_elmira/atrophy_seeds/sub-039/ses-01/thresholded_tissue_segment_z_scores/sub-039_cerebrospinal_fluid_generated_nifti.nii',\n",
       " '/Users/cu135/Dropbox (Partners HealthCare)/studies/atrophy_seeds_2023/shared_analysis/niftis_for_elmira/atrophy_seeds/sub-006/ses-01/thresholded_tissue_segment_z_scores/sub-006_cerebrospinal_fluid_generated_nifti.nii',\n",
       " '/Users/cu135/Dropbox (Partners HealthCare)/studies/atrophy_seeds_2023/shared_analysis/niftis_for_elmira/atrophy_seeds/sub-001/ses-01/thresholded_tissue_segment_z_scores/sub-001_cerebrospinal_fluid_generated_nifti.nii',\n",
       " '/Users/cu135/Dropbox (Partners HealthCare)/studies/atrophy_seeds_2023/shared_analysis/niftis_for_elmira/atrophy_seeds/sub-008/ses-01/thresholded_tissue_segment_z_scores/sub-008_cerebrospinal_fluid_generated_nifti.nii',\n",
       " '/Users/cu135/Dropbox (Partners HealthCare)/studies/atrophy_seeds_2023/shared_analysis/niftis_for_elmira/atrophy_seeds/sub-037/ses-01/thresholded_tissue_segment_z_scores/sub-037_cerebrospinal_fluid_generated_nifti.nii',\n",
       " '/Users/cu135/Dropbox (Partners HealthCare)/studies/atrophy_seeds_2023/shared_analysis/niftis_for_elmira/atrophy_seeds/sub-030/ses-01/thresholded_tissue_segment_z_scores/sub-030_cerebrospinal_fluid_generated_nifti.nii',\n",
       " '/Users/cu135/Dropbox (Partners HealthCare)/studies/atrophy_seeds_2023/shared_analysis/niftis_for_elmira/atrophy_seeds/sub-031/ses-01/thresholded_tissue_segment_z_scores/sub-031_cerebrospinal_fluid_generated_nifti.nii',\n",
       " '/Users/cu135/Dropbox (Partners HealthCare)/studies/atrophy_seeds_2023/shared_analysis/niftis_for_elmira/atrophy_seeds/sub-009/ses-01/thresholded_tissue_segment_z_scores/sub-009_cerebrospinal_fluid_generated_nifti.nii',\n",
       " '/Users/cu135/Dropbox (Partners HealthCare)/studies/atrophy_seeds_2023/shared_analysis/niftis_for_elmira/atrophy_seeds/sub-036/ses-01/thresholded_tissue_segment_z_scores/sub-036_cerebrospinal_fluid_generated_nifti.nii',\n",
       " '/Users/cu135/Dropbox (Partners HealthCare)/studies/atrophy_seeds_2023/shared_analysis/niftis_for_elmira/atrophy_seeds/sub-038/ses-01/thresholded_tissue_segment_z_scores/sub-038_cerebrospinal_fluid_generated_nifti.nii',\n",
       " '/Users/cu135/Dropbox (Partners HealthCare)/studies/atrophy_seeds_2023/shared_analysis/niftis_for_elmira/atrophy_seeds/sub-007/ses-01/thresholded_tissue_segment_z_scores/sub-007_cerebrospinal_fluid_generated_nifti.nii']"
      ]
     },
     "execution_count": 7,
     "metadata": {},
     "output_type": "execute_result"
    }
   ],
   "source": [
    "file_list = find_files(path, target)\n",
    "file_list"
   ]
  },
  {
   "cell_type": "markdown",
   "metadata": {},
   "source": [
    "Edit the Files Above to Select the Specific Files you Want to Combine"
   ]
  },
  {
   "cell_type": "code",
   "execution_count": 8,
   "metadata": {},
   "outputs": [],
   "source": [
    "file_list = [\n",
    " '/Users/cu135/Dropbox (Partners HealthCare)/studies/atrophy_seeds_2023/shared_analysis/niftis_for_elmira/atrophy_seeds/sub-029/ses-01/thresholded_tissue_segment_z_scores/sub-029_cerebrospinal_fluid_generated_nifti.nii',\n",
    " '/Users/cu135/Dropbox (Partners HealthCare)/studies/atrophy_seeds_2023/shared_analysis/niftis_for_elmira/atrophy_seeds/sub-045/ses-01/thresholded_tissue_segment_z_scores/sub-045_cerebrospinal_fluid_generated_nifti.nii',\n",
    " '/Users/cu135/Dropbox (Partners HealthCare)/studies/atrophy_seeds_2023/shared_analysis/niftis_for_elmira/atrophy_seeds/sub-042/ses-01/thresholded_tissue_segment_z_scores/sub-042_cerebrospinal_fluid_generated_nifti.nii',\n",
    " '/Users/cu135/Dropbox (Partners HealthCare)/studies/atrophy_seeds_2023/shared_analysis/niftis_for_elmira/atrophy_seeds/sub-005/ses-01/thresholded_tissue_segment_z_scores/sub-005_cerebrospinal_fluid_generated_nifti.nii',\n",
    " '/Users/cu135/Dropbox (Partners HealthCare)/studies/atrophy_seeds_2023/shared_analysis/niftis_for_elmira/atrophy_seeds/sub-003/ses-01/thresholded_tissue_segment_z_scores/sub-003_cerebrospinal_fluid_generated_nifti.nii',\n",
    " '/Users/cu135/Dropbox (Partners HealthCare)/studies/atrophy_seeds_2023/shared_analysis/niftis_for_elmira/atrophy_seeds/sub-022/ses-01/thresholded_tissue_segment_z_scores/sub-022_cerebrospinal_fluid_generated_nifti.nii',\n",
    " '/Users/cu135/Dropbox (Partners HealthCare)/studies/atrophy_seeds_2023/shared_analysis/niftis_for_elmira/atrophy_seeds/sub-046/ses-01/thresholded_tissue_segment_z_scores/sub-046_cerebrospinal_fluid_generated_nifti.nii',\n",
    " '/Users/cu135/Dropbox (Partners HealthCare)/studies/atrophy_seeds_2023/shared_analysis/niftis_for_elmira/atrophy_seeds/sub-024/ses-01/thresholded_tissue_segment_z_scores/sub-024_cerebrospinal_fluid_generated_nifti.nii',\n",
    " '/Users/cu135/Dropbox (Partners HealthCare)/studies/atrophy_seeds_2023/shared_analysis/niftis_for_elmira/atrophy_seeds/sub-007/ses-01/thresholded_tissue_segment_z_scores/sub-007_cerebrospinal_fluid_generated_nifti.nii']"
   ]
  },
  {
   "cell_type": "markdown",
   "metadata": {},
   "source": [
    "Add Niftis Toghether\n",
    "- This expects a list of file paths where the paths define the niftis to be added. \n",
    "- This expects an output path which defines the absolute path to the file to be created. "
   ]
  },
  {
   "cell_type": "code",
   "execution_count": 20,
   "metadata": {},
   "outputs": [],
   "source": [
    "import subprocess\n",
    "from tqdm import tqdm\n",
    "\n",
    "def add_nifti_files(file_paths, output_path):\n",
    "    \"\"\"\n",
    "    Add together multiple NIfTI files using FSL's fslmaths command.\n",
    "    \n",
    "    Args:\n",
    "        file_paths (list): List of input file paths.\n",
    "        output_path (str): Output file path for the summary file.\n",
    "        \n",
    "    # Example usage:\n",
    "    # file_paths = ['/path/to/input1.nii.gz', '/path/to/input2.nii.gz', ..., '/path/to/input20.nii.gz']\n",
    "    # output_path = '/path/to/output_summary.nii.gz'\n",
    "\n",
    "    # add_nifti_files(file_paths, output_path)\n",
    "    \"\"\"\n",
    "    # Check if there are any files to process\n",
    "    if not file_paths:\n",
    "        print(\"No input files provided.\")\n",
    "        return\n",
    "    \n",
    "    # Construct the fslmaths command\n",
    "    command = ['fslmaths']\n",
    "    \n",
    "    # Add each input file to the command\n",
    "    for file_path in tqdm(file_paths, desc=\"Adding NIfTI files\", unit=\"file\"):\n",
    "        command.extend([file_path, '-add'])\n",
    "    \n",
    "    # Add the output path\n",
    "    command.append(output_path)\n",
    "    print(\"Attempting command: \\n \", command)\n",
    "    try:\n",
    "        # Execute the command\n",
    "        subprocess.run(command, check=True)\n",
    "        print(\"Summary file created successfully.\")\n",
    "    except subprocess.CalledProcessError as e:\n",
    "        print(f\"Error: {e}\")"
   ]
  },
  {
   "cell_type": "markdown",
   "metadata": {},
   "source": [
    "Define Output"
   ]
  },
  {
   "cell_type": "code",
   "execution_count": 21,
   "metadata": {},
   "outputs": [],
   "source": [
    "output_path = '/Users/cu135/Dropbox (Partners HealthCare)/studies/atrophy_seeds_2023/shared_analysis/niftis_for_elmira/combined_atrophy_seeds/combined_ad_seeds/csf_ad_seeds.nii'"
   ]
  },
  {
   "cell_type": "markdown",
   "metadata": {},
   "source": [
    "Run it"
   ]
  },
  {
   "cell_type": "code",
   "execution_count": 22,
   "metadata": {},
   "outputs": [
    {
     "name": "stderr",
     "output_type": "stream",
     "text": [
      "Adding NIfTI files: 100%|██████████| 9/9 [00:00<00:00, 110700.11file/s]"
     ]
    },
    {
     "name": "stdout",
     "output_type": "stream",
     "text": [
      "Attempting command: \n",
      "  ['fslmaths', '/Users/cu135/Dropbox (Partners HealthCare)/studies/atrophy_seeds_2023/shared_analysis/niftis_for_elmira/atrophy_seeds/sub-029/ses-01/thresholded_tissue_segment_z_scores/sub-029_cerebrospinal_fluid_generated_nifti.nii', '-add', '/Users/cu135/Dropbox (Partners HealthCare)/studies/atrophy_seeds_2023/shared_analysis/niftis_for_elmira/atrophy_seeds/sub-045/ses-01/thresholded_tissue_segment_z_scores/sub-045_cerebrospinal_fluid_generated_nifti.nii', '-add', '/Users/cu135/Dropbox (Partners HealthCare)/studies/atrophy_seeds_2023/shared_analysis/niftis_for_elmira/atrophy_seeds/sub-042/ses-01/thresholded_tissue_segment_z_scores/sub-042_cerebrospinal_fluid_generated_nifti.nii', '-add', '/Users/cu135/Dropbox (Partners HealthCare)/studies/atrophy_seeds_2023/shared_analysis/niftis_for_elmira/atrophy_seeds/sub-005/ses-01/thresholded_tissue_segment_z_scores/sub-005_cerebrospinal_fluid_generated_nifti.nii', '-add', '/Users/cu135/Dropbox (Partners HealthCare)/studies/atrophy_seeds_2023/shared_analysis/niftis_for_elmira/atrophy_seeds/sub-003/ses-01/thresholded_tissue_segment_z_scores/sub-003_cerebrospinal_fluid_generated_nifti.nii', '-add', '/Users/cu135/Dropbox (Partners HealthCare)/studies/atrophy_seeds_2023/shared_analysis/niftis_for_elmira/atrophy_seeds/sub-022/ses-01/thresholded_tissue_segment_z_scores/sub-022_cerebrospinal_fluid_generated_nifti.nii', '-add', '/Users/cu135/Dropbox (Partners HealthCare)/studies/atrophy_seeds_2023/shared_analysis/niftis_for_elmira/atrophy_seeds/sub-046/ses-01/thresholded_tissue_segment_z_scores/sub-046_cerebrospinal_fluid_generated_nifti.nii', '-add', '/Users/cu135/Dropbox (Partners HealthCare)/studies/atrophy_seeds_2023/shared_analysis/niftis_for_elmira/atrophy_seeds/sub-024/ses-01/thresholded_tissue_segment_z_scores/sub-024_cerebrospinal_fluid_generated_nifti.nii', '-add', '/Users/cu135/Dropbox (Partners HealthCare)/studies/atrophy_seeds_2023/shared_analysis/niftis_for_elmira/atrophy_seeds/sub-007/ses-01/thresholded_tissue_segment_z_scores/sub-007_cerebrospinal_fluid_generated_nifti.nii', '-add', '/Users/cu135/Dropbox (Partners HealthCare)/studies/atrophy_seeds_2023/shared_analysis/niftis_for_elmira/combined_atrophy_seeds/combined_ad_seeds/csf_ad_seeds.nii']\n"
     ]
    },
    {
     "name": "stderr",
     "output_type": "stream",
     "text": [
      "\n"
     ]
    },
    {
     "ename": "FileNotFoundError",
     "evalue": "[Errno 2] No such file or directory: 'fslmaths'",
     "output_type": "error",
     "traceback": [
      "\u001b[0;31m---------------------------------------------------------------------------\u001b[0m",
      "\u001b[0;31mFileNotFoundError\u001b[0m                         Traceback (most recent call last)",
      "Cell \u001b[0;32mIn[22], line 1\u001b[0m\n\u001b[0;32m----> 1\u001b[0m \u001b[43madd_nifti_files\u001b[49m\u001b[43m(\u001b[49m\u001b[43mfile_paths\u001b[49m\u001b[38;5;241;43m=\u001b[39;49m\u001b[43mfile_list\u001b[49m\u001b[43m,\u001b[49m\u001b[43m \u001b[49m\u001b[43moutput_path\u001b[49m\u001b[38;5;241;43m=\u001b[39;49m\u001b[43moutput_path\u001b[49m\u001b[43m)\u001b[49m\n",
      "Cell \u001b[0;32mIn[20], line 35\u001b[0m, in \u001b[0;36madd_nifti_files\u001b[0;34m(file_paths, output_path)\u001b[0m\n\u001b[1;32m     32\u001b[0m \u001b[38;5;28mprint\u001b[39m(\u001b[38;5;124m\"\u001b[39m\u001b[38;5;124mAttempting command: \u001b[39m\u001b[38;5;130;01m\\n\u001b[39;00m\u001b[38;5;124m \u001b[39m\u001b[38;5;124m\"\u001b[39m, command)\n\u001b[1;32m     33\u001b[0m \u001b[38;5;28;01mtry\u001b[39;00m:\n\u001b[1;32m     34\u001b[0m     \u001b[38;5;66;03m# Execute the command\u001b[39;00m\n\u001b[0;32m---> 35\u001b[0m     \u001b[43msubprocess\u001b[49m\u001b[38;5;241;43m.\u001b[39;49m\u001b[43mrun\u001b[49m\u001b[43m(\u001b[49m\u001b[43mcommand\u001b[49m\u001b[43m,\u001b[49m\u001b[43m \u001b[49m\u001b[43mcheck\u001b[49m\u001b[38;5;241;43m=\u001b[39;49m\u001b[38;5;28;43;01mTrue\u001b[39;49;00m\u001b[43m)\u001b[49m\n\u001b[1;32m     36\u001b[0m     \u001b[38;5;28mprint\u001b[39m(\u001b[38;5;124m\"\u001b[39m\u001b[38;5;124mSummary file created successfully.\u001b[39m\u001b[38;5;124m\"\u001b[39m)\n\u001b[1;32m     37\u001b[0m \u001b[38;5;28;01mexcept\u001b[39;00m subprocess\u001b[38;5;241m.\u001b[39mCalledProcessError \u001b[38;5;28;01mas\u001b[39;00m e:\n",
      "File \u001b[0;32m/usr/local/Caskroom/mambaforge/base/envs/nimlab_py310/lib/python3.10/subprocess.py:503\u001b[0m, in \u001b[0;36mrun\u001b[0;34m(input, capture_output, timeout, check, *popenargs, **kwargs)\u001b[0m\n\u001b[1;32m    500\u001b[0m     kwargs[\u001b[38;5;124m'\u001b[39m\u001b[38;5;124mstdout\u001b[39m\u001b[38;5;124m'\u001b[39m] \u001b[38;5;241m=\u001b[39m PIPE\n\u001b[1;32m    501\u001b[0m     kwargs[\u001b[38;5;124m'\u001b[39m\u001b[38;5;124mstderr\u001b[39m\u001b[38;5;124m'\u001b[39m] \u001b[38;5;241m=\u001b[39m PIPE\n\u001b[0;32m--> 503\u001b[0m \u001b[38;5;28;01mwith\u001b[39;00m \u001b[43mPopen\u001b[49m\u001b[43m(\u001b[49m\u001b[38;5;241;43m*\u001b[39;49m\u001b[43mpopenargs\u001b[49m\u001b[43m,\u001b[49m\u001b[43m \u001b[49m\u001b[38;5;241;43m*\u001b[39;49m\u001b[38;5;241;43m*\u001b[39;49m\u001b[43mkwargs\u001b[49m\u001b[43m)\u001b[49m \u001b[38;5;28;01mas\u001b[39;00m process:\n\u001b[1;32m    504\u001b[0m     \u001b[38;5;28;01mtry\u001b[39;00m:\n\u001b[1;32m    505\u001b[0m         stdout, stderr \u001b[38;5;241m=\u001b[39m process\u001b[38;5;241m.\u001b[39mcommunicate(\u001b[38;5;28minput\u001b[39m, timeout\u001b[38;5;241m=\u001b[39mtimeout)\n",
      "File \u001b[0;32m/usr/local/Caskroom/mambaforge/base/envs/nimlab_py310/lib/python3.10/subprocess.py:971\u001b[0m, in \u001b[0;36mPopen.__init__\u001b[0;34m(self, args, bufsize, executable, stdin, stdout, stderr, preexec_fn, close_fds, shell, cwd, env, universal_newlines, startupinfo, creationflags, restore_signals, start_new_session, pass_fds, user, group, extra_groups, encoding, errors, text, umask, pipesize)\u001b[0m\n\u001b[1;32m    967\u001b[0m         \u001b[38;5;28;01mif\u001b[39;00m \u001b[38;5;28mself\u001b[39m\u001b[38;5;241m.\u001b[39mtext_mode:\n\u001b[1;32m    968\u001b[0m             \u001b[38;5;28mself\u001b[39m\u001b[38;5;241m.\u001b[39mstderr \u001b[38;5;241m=\u001b[39m io\u001b[38;5;241m.\u001b[39mTextIOWrapper(\u001b[38;5;28mself\u001b[39m\u001b[38;5;241m.\u001b[39mstderr,\n\u001b[1;32m    969\u001b[0m                     encoding\u001b[38;5;241m=\u001b[39mencoding, errors\u001b[38;5;241m=\u001b[39merrors)\n\u001b[0;32m--> 971\u001b[0m     \u001b[38;5;28;43mself\u001b[39;49m\u001b[38;5;241;43m.\u001b[39;49m\u001b[43m_execute_child\u001b[49m\u001b[43m(\u001b[49m\u001b[43margs\u001b[49m\u001b[43m,\u001b[49m\u001b[43m \u001b[49m\u001b[43mexecutable\u001b[49m\u001b[43m,\u001b[49m\u001b[43m \u001b[49m\u001b[43mpreexec_fn\u001b[49m\u001b[43m,\u001b[49m\u001b[43m \u001b[49m\u001b[43mclose_fds\u001b[49m\u001b[43m,\u001b[49m\n\u001b[1;32m    972\u001b[0m \u001b[43m                        \u001b[49m\u001b[43mpass_fds\u001b[49m\u001b[43m,\u001b[49m\u001b[43m \u001b[49m\u001b[43mcwd\u001b[49m\u001b[43m,\u001b[49m\u001b[43m \u001b[49m\u001b[43menv\u001b[49m\u001b[43m,\u001b[49m\n\u001b[1;32m    973\u001b[0m \u001b[43m                        \u001b[49m\u001b[43mstartupinfo\u001b[49m\u001b[43m,\u001b[49m\u001b[43m \u001b[49m\u001b[43mcreationflags\u001b[49m\u001b[43m,\u001b[49m\u001b[43m \u001b[49m\u001b[43mshell\u001b[49m\u001b[43m,\u001b[49m\n\u001b[1;32m    974\u001b[0m \u001b[43m                        \u001b[49m\u001b[43mp2cread\u001b[49m\u001b[43m,\u001b[49m\u001b[43m \u001b[49m\u001b[43mp2cwrite\u001b[49m\u001b[43m,\u001b[49m\n\u001b[1;32m    975\u001b[0m \u001b[43m                        \u001b[49m\u001b[43mc2pread\u001b[49m\u001b[43m,\u001b[49m\u001b[43m \u001b[49m\u001b[43mc2pwrite\u001b[49m\u001b[43m,\u001b[49m\n\u001b[1;32m    976\u001b[0m \u001b[43m                        \u001b[49m\u001b[43merrread\u001b[49m\u001b[43m,\u001b[49m\u001b[43m \u001b[49m\u001b[43merrwrite\u001b[49m\u001b[43m,\u001b[49m\n\u001b[1;32m    977\u001b[0m \u001b[43m                        \u001b[49m\u001b[43mrestore_signals\u001b[49m\u001b[43m,\u001b[49m\n\u001b[1;32m    978\u001b[0m \u001b[43m                        \u001b[49m\u001b[43mgid\u001b[49m\u001b[43m,\u001b[49m\u001b[43m \u001b[49m\u001b[43mgids\u001b[49m\u001b[43m,\u001b[49m\u001b[43m \u001b[49m\u001b[43muid\u001b[49m\u001b[43m,\u001b[49m\u001b[43m \u001b[49m\u001b[43mumask\u001b[49m\u001b[43m,\u001b[49m\n\u001b[1;32m    979\u001b[0m \u001b[43m                        \u001b[49m\u001b[43mstart_new_session\u001b[49m\u001b[43m)\u001b[49m\n\u001b[1;32m    980\u001b[0m \u001b[38;5;28;01mexcept\u001b[39;00m:\n\u001b[1;32m    981\u001b[0m     \u001b[38;5;66;03m# Cleanup if the child failed starting.\u001b[39;00m\n\u001b[1;32m    982\u001b[0m     \u001b[38;5;28;01mfor\u001b[39;00m f \u001b[38;5;129;01min\u001b[39;00m \u001b[38;5;28mfilter\u001b[39m(\u001b[38;5;28;01mNone\u001b[39;00m, (\u001b[38;5;28mself\u001b[39m\u001b[38;5;241m.\u001b[39mstdin, \u001b[38;5;28mself\u001b[39m\u001b[38;5;241m.\u001b[39mstdout, \u001b[38;5;28mself\u001b[39m\u001b[38;5;241m.\u001b[39mstderr)):\n",
      "File \u001b[0;32m/usr/local/Caskroom/mambaforge/base/envs/nimlab_py310/lib/python3.10/subprocess.py:1847\u001b[0m, in \u001b[0;36mPopen._execute_child\u001b[0;34m(self, args, executable, preexec_fn, close_fds, pass_fds, cwd, env, startupinfo, creationflags, shell, p2cread, p2cwrite, c2pread, c2pwrite, errread, errwrite, restore_signals, gid, gids, uid, umask, start_new_session)\u001b[0m\n\u001b[1;32m   1845\u001b[0m     \u001b[38;5;28;01mif\u001b[39;00m errno_num \u001b[38;5;241m!=\u001b[39m \u001b[38;5;241m0\u001b[39m:\n\u001b[1;32m   1846\u001b[0m         err_msg \u001b[38;5;241m=\u001b[39m os\u001b[38;5;241m.\u001b[39mstrerror(errno_num)\n\u001b[0;32m-> 1847\u001b[0m     \u001b[38;5;28;01mraise\u001b[39;00m child_exception_type(errno_num, err_msg, err_filename)\n\u001b[1;32m   1848\u001b[0m \u001b[38;5;28;01mraise\u001b[39;00m child_exception_type(err_msg)\n",
      "\u001b[0;31mFileNotFoundError\u001b[0m: [Errno 2] No such file or directory: 'fslmaths'"
     ]
    }
   ],
   "source": [
    "add_nifti_files(file_paths=file_list, output_path=output_path)"
   ]
  },
  {
   "cell_type": "markdown",
   "metadata": {},
   "source": [
    "Done\n",
    "- Calvin"
   ]
  },
  {
   "cell_type": "code",
   "execution_count": 13,
   "metadata": {},
   "outputs": [
    {
     "name": "stdout",
     "output_type": "stream",
     "text": [
      "PATH in subprocess: /usr/local/Caskroom/mambaforge/base/envs/nimlab_py310/bin:/Users/cu135/fsl/condabin:/usr/bin:/bin:/usr/sbin:/sbin:/usr/local/bin\n",
      "\n"
     ]
    }
   ],
   "source": [
    "result = subprocess.run(\"/bin/echo $PATH\", shell=True, capture_output=True, text=True)\n",
    "print(\"PATH in subprocess:\", result.stdout)\n"
   ]
  },
  {
   "cell_type": "code",
   "execution_count": null,
   "metadata": {},
   "outputs": [],
   "source": []
  }
 ],
 "metadata": {
  "kernelspec": {
   "display_name": "Python 3",
   "language": "python",
   "name": "python3"
  },
  "language_info": {
   "codemirror_mode": {
    "name": "ipython",
    "version": 3
   },
   "file_extension": ".py",
   "mimetype": "text/x-python",
   "name": "python",
   "nbconvert_exporter": "python",
   "pygments_lexer": "ipython3",
   "version": "3.10.8"
  }
 },
 "nbformat": 4,
 "nbformat_minor": 2
}
