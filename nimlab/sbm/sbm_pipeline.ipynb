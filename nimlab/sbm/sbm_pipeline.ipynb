{
 "cells": [
  {
   "cell_type": "markdown",
   "metadata": {},
   "source": [
    "# Automated Method - Under Construction"
   ]
  },
  {
   "cell_type": "code",
   "execution_count": 3,
   "metadata": {},
   "outputs": [],
   "source": [
    "bids_dir = r\"C:\\Users\\Calvin\\Dropbox (Partners HealthCare)\\resources\\datasets\\ADNI\\neuroimaging\\raws\\wdrew_reconall\"\n",
    "dockerfile_path = r\"C:\\Users\\Calvin\\Documents\\Software\\Research\\nimlab\\sbm\\dockerfiles\\fsl_freesurfer.Dockerfile\""
   ]
  },
  {
   "cell_type": "code",
   "execution_count": 6,
   "metadata": {},
   "outputs": [],
   "source": [
    "import subprocess\n",
    "import sys\n",
    "import os\n",
    "import sys\n",
    "import platform\n",
    "import subprocess\n",
    "\n",
    "class CalvinSBM:\n",
    "    \"\"\"\n",
    "    CalvinSBM is a class for orchestrating neuroimaging data processing using Docker.\n",
    "    \"\"\"\n",
    "\n",
    "    @staticmethod\n",
    "    def build_docker_image(dockerfile_path):\n",
    "        \"\"\"\n",
    "        Builds the Docker image from the specified Dockerfile.\n",
    "\n",
    "        Args:\n",
    "            dockerfile_path (str): The path to the Dockerfile.\n",
    "        \"\"\"\n",
    "        try:\n",
    "            print(\"Building Docker image...\")\n",
    "            subprocess.call(f\"docker build -t sbm:latest -f {dockerfile_path} .\", shell=True, stdout=None, stderr=None)\n",
    "            # subprocess.run([\"docker\", \"build\", \"-t\", \"cat12:latest\", \"-f\", dockerfile_path, \".\"], check=True)\n",
    "            print(\"Docker image built successfully.\")\n",
    "        except subprocess.CalledProcessError as e:\n",
    "            print(f\"An error occurred while building the Docker image: {e}\")\n",
    "            sys.exit(1)\n",
    "\n",
    "    @staticmethod\n",
    "    def convert_path_for_docker(path):\n",
    "        \"\"\"\n",
    "        Converts a Windows path to a Docker-compatible path (if running on Windows).\n",
    "\n",
    "        Args:\n",
    "            path (str): The original file system path.\n",
    "\n",
    "        Returns:\n",
    "            str: The converted path suitable for Docker volume mounting.\n",
    "        \"\"\"\n",
    "        if platform.system() == \"Windows\":\n",
    "            return path.replace(\"\\\\\", \"/\") #.replace(\"C:\", \"C\")\n",
    "        return path\n",
    "\n",
    "    @staticmethod\n",
    "    def run_docker_on_folder(folder_path):\n",
    "        \"\"\"\n",
    "        Runs the Docker container on the specified folder containing NIfTI files.\n",
    "\n",
    "        Args:\n",
    "            folder_path (str): The path to the folder containing NIfTI files.\n",
    "        \"\"\"\n",
    "        try:\n",
    "            docker_path = CalvinSBM.convert_path_for_docker(folder_path)\n",
    "            print(f\"Processing folder with Docker: {folder_path}\")\n",
    "            subprocess.run([\"docker\", \"run\", \"--rm\", \"-v\", f\"{docker_path}:/data\", \"sbm:latest\"], check=True)\n",
    "            print(f\"Finished processing: {folder_path}\")\n",
    "        except subprocess.CalledProcessError as e:\n",
    "            print(f\"An error occurred while processing {folder_path} with Docker: {e}\")\n",
    "\n",
    "    @staticmethod\n",
    "    def submit_hpc_jobs(data_dir, docker_script_path, job_script_path):\n",
    "        \"\"\"\n",
    "        Submits jobs to an HPC scheduler for processing each subdirectory \n",
    "        in the specified data directory.\n",
    "\n",
    "        Args:\n",
    "            data_dir (str): The path to the directory containing subdirectories with NIfTI files.\n",
    "            docker_script_path (str): The path to the Docker run script.\n",
    "            job_script_path (str): The path to the job submission script for HPC.\n",
    "        \"\"\"\n",
    "        # Ensure the data directory exists\n",
    "        if not os.path.isdir(data_dir):\n",
    "            print(f\"Data directory does not exist: {data_dir}\")\n",
    "            sys.exit(1)\n",
    "\n",
    "        # Iterate over all subdirectories and submit a job for each\n",
    "        for folder_name in os.listdir(data_dir):\n",
    "            folder_path = os.path.join(data_dir, folder_name)\n",
    "            if os.path.isdir(folder_path):\n",
    "                CalvinSBM.submit_hpc_job(folder_path, docker_script_path, job_script_path)\n",
    "\n",
    "    @staticmethod\n",
    "    def submit_hpc_job(folder_path, docker_script_path, job_script_path):\n",
    "        \"\"\"\n",
    "        Submits a single job to an HPC scheduler for processing a given folder.\n",
    "\n",
    "        Args:\n",
    "            folder_path (str): The path to the folder to process.\n",
    "            docker_script_path (str): The path to the Docker run script.\n",
    "            job_script_path (str): The path to the job submission script for HPC.\n",
    "        \"\"\"\n",
    "        try:\n",
    "            print(f\"Submitting job for folder: {folder_path}\")\n",
    "            # Replace the following line with your HPC's job submission command\n",
    "            subprocess.run([\n",
    "                \"bsub\", \"-J\", \"cat12_job\", \n",
    "                \"-o\", \"/path/to/output.txt\", \n",
    "                \"-e\", \"/path/to/error.txt\", \n",
    "                \"-q\", \"normal\", \n",
    "                \"-R\", \"rusage[mem=6000]\", \n",
    "                \"python\", docker_script_path, folder_path\n",
    "            ], check=True)\n",
    "        except subprocess.CalledProcessError as e:\n",
    "            print(f\"An error occurred while submitting {folder_path}: {e}\")"
   ]
  },
  {
   "cell_type": "code",
   "execution_count": 8,
   "metadata": {},
   "outputs": [
    {
     "name": "stdout",
     "output_type": "stream",
     "text": [
      "Building Docker image...\n",
      "Docker image built successfully.\n"
     ]
    }
   ],
   "source": [
    "CalvinSBM.build_docker_image(dockerfile_path)"
   ]
  },
  {
   "cell_type": "code",
   "execution_count": null,
   "metadata": {},
   "outputs": [],
   "source": [
    "science@aan.com"
   ]
  },
  {
   "cell_type": "code",
   "execution_count": null,
   "metadata": {},
   "outputs": [],
   "source": [
    "!docker run -v \"C:/Users/Calvin/Dropbox (Partners HealthCare)/resources/datasets/ADNI/neuroimaging/raws/wdrew_reconall\":/data sbm:latest /data/list_subdirs.sh"
   ]
  },
  {
   "cell_type": "markdown",
   "metadata": {},
   "source": [
    "# Manual Method\n",
    "- Step 1: cd to directory with dockerfile in it. \n",
    "- Step 2: > docker build -t lab:latest -f Dockerfile.lab .\n",
    "- Step 3: wait for completion\n",
    "- Step 4 (give run apermission to script): chmod +x /path/to/host/directory/run-script.sh\n",
    "- Step 5: make sure your target BIDS directory has data available offline if you are running from cloud storage\n",
    "- Step 6 (Run container, but mount data and scripts directory, then ask the container to execute your script.): \n",
    "    - **Run Conversion to FS5 Space Gifti**\n",
    "    <!-- - docker run -v \"C:/Users/Calvin/Documents/Software/Research/nimlab/sbm/scripts:/scripts\" -v \"C:/Users/Calvin/Dropbox (Partners HealthCare)/studies/atrophy_seeds_2023/shared_analysis/niftis_for_elmira/wdrew_reconall:/opt/freesurfer-6.0.1/subjects\" sbm:latest /scripts/calvin_cort_thick_to_fs5.sh\n",
    "    - Test -->\n",
    "        - docker run -v \"C:/Users/Calvin/Documents/Software/Research/nimlab/sbm/scripts:/scripts\" -v \"C:/Users/Calvin/Dropbox (Partners HealthCare)/resources/datasets/ADNI/neuroimaging/raws/wdrew_reconall:/data\" sbm:latest /scripts/calvin_cort_thick_to_fs5.sh\n",
    "    - **Run Conversion to MNI152 Volume Sppace Nifti**\n",
    "        - Note: This expects BIDS organization structure.\n",
    "        - docker run -v \"/Users/cu135/Library/CloudStorage/OneDrive-Personal/OneDrive_Documents/Work/Software/Research/nimlab/sbm/scripts:/scripts\" -v \"/Users/cu135/Dropbox (Partners HealthCare)/studies/atrophy_seeds_2023/shared_analysis/niftis_for_elmira/wmaps/sbm:/data\" sbm:latest /scripts/calvin_fs5_to_mni152.sh"
   ]
  },
  {
   "cell_type": "markdown",
   "metadata": {},
   "source": []
  }
 ],
 "metadata": {
  "kernelspec": {
   "display_name": "nimlab",
   "language": "python",
   "name": "python3"
  },
  "language_info": {
   "codemirror_mode": {
    "name": "ipython",
    "version": 3
   },
   "file_extension": ".py",
   "mimetype": "text/x-python",
   "name": "python",
   "nbconvert_exporter": "python",
   "pygments_lexer": "ipython3",
   "version": "3.11.4"
  }
 },
 "nbformat": 4,
 "nbformat_minor": 2
}
