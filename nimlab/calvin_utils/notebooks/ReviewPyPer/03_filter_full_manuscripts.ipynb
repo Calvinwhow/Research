{
 "cells": [
  {
   "cell_type": "markdown",
   "metadata": {},
   "source": [
    "# 00 - Provide Paths to Relevant Files\n",
    "\n",
    "json_file_path is the path to the segmented JSON generated at the end of notebook 02. "
   ]
  },
  {
   "cell_type": "code",
   "execution_count": 1,
   "metadata": {},
   "outputs": [],
   "source": [
    "api_key_path = \"/Users/cu135/Library/CloudStorage/OneDrive-Personal/OneDrive_Documents/Work/Software/Research/nimlab/openai_key.txt\"\n",
    "json_file_path = \"/Users/cu135/Library/CloudStorage/OneDrive-Personal/OneDrive_Documents/Work/Software/Research/nimlab/gpt_document_reader/cognitive_examinations/labeled_text/research_labeled_sections.json\"\n"
   ]
  },
  {
   "cell_type": "markdown",
   "metadata": {},
   "source": [
    "# 01 - Define Inclusion/Exclusion Questions\n",
    "\n",
    "Examples generated below:"
   ]
  },
  {
   "cell_type": "code",
   "execution_count": 2,
   "metadata": {},
   "outputs": [
    {
     "name": "stdout",
     "output_type": "stream",
     "text": [
      "Here are example inclusion questions:\n",
      "{\n",
      "    \"Amnesia case report? (Y/N)\": \"case_report\",\n",
      "    \"Published in English? (Y/N)\": \"is_english\"\n",
      "}\n",
      "Here are example exclusion questions:\n",
      "{\n",
      "    \"Transient amnesia, reversible amnesia symptom, severe confabulation or drug use, toxicity, epilepsy-related confusion, psychological or psychiatric-related amnesia (functional amnesia)\": \"other_cause\",\n",
      "    \"Did not examine/report both retrograde and anterograde memory domains\": \"not_both_domains\",\n",
      "    \"Without descriptive/qualitative/quantitative data on amnesia severity/memory tests/questions/scenarios/details\": \"not_enough_information\",\n",
      "    \"Had global cognitive impairment disproportionate to memory loss\": \"disproportionate_impairment\",\n",
      "    \"Without measurable lesion-related brain MR/CT scans\": \"no_scan\",\n",
      "    \"Had focal or widespread brain atrophy\": \"neurodegenerative\",\n",
      "    \"Atypical cases with selective (e.g., semantic) memory loss or material/topographic-specific memory loss\": \"atypical_case\"\n",
      "}\n",
      "Here is a question template\n",
      "{\n",
      "    \" ? (metric/metric/metric)\": \"question_label\"\n",
      "}\n"
     ]
    }
   ],
   "source": [
    "from calvin_utils.gpt_sys_review.gpt_utils import QuestionTemplate\n",
    "\n",
    "question_template = QuestionTemplate()\n",
    "question_template.inclusion_exclusion_questions()"
   ]
  },
  {
   "cell_type": "markdown",
   "metadata": {},
   "source": [
    "**Critical Note**\n",
    "- You should phrase these questions such that a Yes results in the manuscript 'passing'\n",
    "- This can be made more robust by having users deliberately map a Yes for each question to whether it is good or not. "
   ]
  },
  {
   "cell_type": "code",
   "execution_count": 3,
   "metadata": {},
   "outputs": [],
   "source": [
    "question = {\n",
    "    \"Prioritizing implicit and explicit information, do you think this includes research on a software-based test? Such as if an iPad or web application is mentioned. (Yes/No)\": \"software_based\",\n",
    "    \"Prioritizing implicit and explicit information, do you think this uses cognitive examinations? A cognitive examination is a test wherein a patient performs a task and is scored on the output, like the Montreal Cognitive Examination. (Yes/No)\": \"cognitive_exam\",\n",
    "    \"Prioritizing implicit and explicit information, do you think the cognitive examination is self-administered or otherwise unsupervised? (Yes/No)\": \"unsupervised\"\n",
    "}"
   ]
  },
  {
   "cell_type": "markdown",
   "metadata": {},
   "source": [
    "# 02 - Ask Questions"
   ]
  },
  {
   "cell_type": "markdown",
   "metadata": {},
   "source": [
    "Define the segmented labels you want to consider. \n",
    "\n",
    "Define the article type you want to consider from case or research"
   ]
  },
  {
   "cell_type": "code",
   "execution_count": 4,
   "metadata": {},
   "outputs": [],
   "source": [
    "# Define the keys you want to consider (exclude 'References')\n",
    "keys_to_consider = [ \"Abstract\", \"Methods\", \"Results\" ]  # Add or remove keys as per your requirement\n",
    "\n",
    "# Define the type of article and questions\n",
    "article_type = \"research\""
   ]
  },
  {
   "cell_type": "markdown",
   "metadata": {},
   "source": [
    "Set test_mode=True during your first few runs, while you tune your questions to get the answers you need"
   ]
  },
  {
   "cell_type": "code",
   "execution_count": 5,
   "metadata": {},
   "outputs": [],
   "source": [
    "test_mode=False"
   ]
  },
  {
   "cell_type": "markdown",
   "metadata": {},
   "source": [
    "Submit Questions"
   ]
  },
  {
   "cell_type": "code",
   "execution_count": 6,
   "metadata": {},
   "outputs": [
    {
     "name": "stderr",
     "output_type": "stream",
     "text": [
      "  0%|          | 0/49 [00:00<?, ?it/s]"
     ]
    },
    {
     "name": "stderr",
     "output_type": "stream",
     "text": [
      " 10%|█         | 5/49 [02:37<24:12, 33.01s/it]"
     ]
    },
    {
     "name": "stdout",
     "output_type": "stream",
     "text": [
      "Rate limit error: Rate limit reached for default-gpt-3.5-turbo in organization org-Y2tKyCPFO6tIjtCtOVZ7c9tr on tokens per min. Limit: 90000 / min. Current: 88529 / min. Contact us through our help center at help.openai.com if you continue to have issues.. Retrying Question No. 0 Attempt:(1)\n"
     ]
    },
    {
     "name": "stderr",
     "output_type": "stream",
     "text": [
      " 12%|█▏        | 6/49 [03:19<25:47, 35.99s/it]"
     ]
    },
    {
     "name": "stdout",
     "output_type": "stream",
     "text": [
      "Rate limit error: Rate limit reached for default-gpt-3.5-turbo in organization org-Y2tKyCPFO6tIjtCtOVZ7c9tr on tokens per min. Limit: 90000 / min. Current: 87873 / min. Contact us through our help center at help.openai.com if you continue to have issues.. Retrying Question No. 0 Attempt:(1)\n"
     ]
    },
    {
     "name": "stderr",
     "output_type": "stream",
     "text": [
      " 16%|█▋        | 8/49 [04:42<25:21, 37.11s/it]"
     ]
    },
    {
     "name": "stdout",
     "output_type": "stream",
     "text": [
      "Rate limit error: Rate limit reached for default-gpt-3.5-turbo in organization org-Y2tKyCPFO6tIjtCtOVZ7c9tr on tokens per min. Limit: 90000 / min. Current: 88013 / min. Contact us through our help center at help.openai.com if you continue to have issues.. Retrying Question No. 2 Attempt:(1)\n",
      "An error occurred: Request timed out: HTTPSConnectionPool(host='api.openai.com', port=443): Read timed out. (read timeout=600). Retrying Question No. 0 Attempt:(1)\n"
     ]
    },
    {
     "name": "stderr",
     "output_type": "stream",
     "text": [
      " 22%|██▏       | 11/49 [16:29<1:17:49, 122.89s/it]"
     ]
    },
    {
     "name": "stdout",
     "output_type": "stream",
     "text": [
      "An error occurred: Request timed out: HTTPSConnectionPool(host='api.openai.com', port=443): Read timed out. (read timeout=600). Retrying Question No. 0 Attempt:(1)\n"
     ]
    },
    {
     "name": "stderr",
     "output_type": "stream",
     "text": [
      " 31%|███       | 15/49 [27:36<57:57, 102.29s/it]  "
     ]
    },
    {
     "name": "stdout",
     "output_type": "stream",
     "text": [
      "Rate limit error: Rate limit reached for default-gpt-3.5-turbo in organization org-Y2tKyCPFO6tIjtCtOVZ7c9tr on tokens per min. Limit: 90000 / min. Current: 88790 / min. Contact us through our help center at help.openai.com if you continue to have issues.. Retrying Question No. 2 Attempt:(1)\n"
     ]
    },
    {
     "name": "stderr",
     "output_type": "stream",
     "text": [
      " 37%|███▋      | 18/49 [29:26<28:35, 55.35s/it] "
     ]
    },
    {
     "name": "stdout",
     "output_type": "stream",
     "text": [
      "An error occurred: Request timed out: HTTPSConnectionPool(host='api.openai.com', port=443): Read timed out. (read timeout=600). Retrying Question No. 1 Attempt:(1)\n"
     ]
    },
    {
     "name": "stderr",
     "output_type": "stream",
     "text": [
      " 49%|████▉     | 24/49 [40:48<19:52, 47.68s/it]   "
     ]
    },
    {
     "name": "stdout",
     "output_type": "stream",
     "text": [
      "Rate limit error: Rate limit reached for default-gpt-3.5-turbo in organization org-Y2tKyCPFO6tIjtCtOVZ7c9tr on tokens per min. Limit: 90000 / min. Current: 87371 / min. Contact us through our help center at help.openai.com if you continue to have issues.. Retrying Question No. 2 Attempt:(1)\n"
     ]
    },
    {
     "name": "stderr",
     "output_type": "stream",
     "text": [
      " 51%|█████     | 25/49 [41:56<21:29, 53.74s/it]"
     ]
    },
    {
     "name": "stdout",
     "output_type": "stream",
     "text": [
      "An error occurred: Request timed out: HTTPSConnectionPool(host='api.openai.com', port=443): Read timed out. (read timeout=600). Retrying Question No. 2 Attempt:(1)\n"
     ]
    },
    {
     "name": "stderr",
     "output_type": "stream",
     "text": [
      " 61%|██████    | 30/49 [54:39<25:24, 80.22s/it]   "
     ]
    },
    {
     "name": "stdout",
     "output_type": "stream",
     "text": [
      "Rate limit error: Rate limit reached for default-gpt-3.5-turbo in organization org-Y2tKyCPFO6tIjtCtOVZ7c9tr on tokens per min. Limit: 90000 / min. Current: 87847 / min. Contact us through our help center at help.openai.com if you continue to have issues.. Retrying Question No. 1 Attempt:(1)\n"
     ]
    },
    {
     "name": "stderr",
     "output_type": "stream",
     "text": [
      " 67%|██████▋   | 33/49 [56:17<12:04, 45.30s/it]"
     ]
    },
    {
     "name": "stdout",
     "output_type": "stream",
     "text": [
      "Rate limit error: Rate limit reached for default-gpt-3.5-turbo in organization org-Y2tKyCPFO6tIjtCtOVZ7c9tr on tokens per min. Limit: 90000 / min. Current: 88330 / min. Contact us through our help center at help.openai.com if you continue to have issues.. Retrying Question No. 1 Attempt:(1)\n"
     ]
    },
    {
     "name": "stderr",
     "output_type": "stream",
     "text": [
      " 76%|███████▌  | 37/49 [58:30<06:44, 33.74s/it]"
     ]
    },
    {
     "name": "stdout",
     "output_type": "stream",
     "text": [
      "Rate limit error: Rate limit reached for default-gpt-3.5-turbo in organization org-Y2tKyCPFO6tIjtCtOVZ7c9tr on tokens per min. Limit: 90000 / min. Current: 88626 / min. Contact us through our help center at help.openai.com if you continue to have issues.. Retrying Question No. 2 Attempt:(1)\n"
     ]
    },
    {
     "name": "stderr",
     "output_type": "stream",
     "text": [
      " 84%|████████▎ | 41/49 [1:00:43<03:52, 29.04s/it]"
     ]
    },
    {
     "name": "stdout",
     "output_type": "stream",
     "text": [
      "Rate limit error: Rate limit reached for default-gpt-3.5-turbo in organization org-Y2tKyCPFO6tIjtCtOVZ7c9tr on tokens per min. Limit: 90000 / min. Current: 88444 / min. Contact us through our help center at help.openai.com if you continue to have issues.. Retrying Question No. 2 Attempt:(1)\n"
     ]
    },
    {
     "name": "stderr",
     "output_type": "stream",
     "text": [
      " 88%|████████▊ | 43/49 [1:02:29<03:54, 39.08s/it]"
     ]
    },
    {
     "name": "stdout",
     "output_type": "stream",
     "text": [
      "Rate limit error: Rate limit reached for default-gpt-3.5-turbo in organization org-Y2tKyCPFO6tIjtCtOVZ7c9tr on tokens per min. Limit: 90000 / min. Current: 88318 / min. Contact us through our help center at help.openai.com if you continue to have issues.. Retrying Question No. 0 Attempt:(1)\n"
     ]
    },
    {
     "name": "stderr",
     "output_type": "stream",
     "text": [
      " 92%|█████████▏| 45/49 [1:04:03<02:51, 42.95s/it]"
     ]
    },
    {
     "name": "stdout",
     "output_type": "stream",
     "text": [
      "Rate limit error: Rate limit reached for default-gpt-3.5-turbo in organization org-Y2tKyCPFO6tIjtCtOVZ7c9tr on tokens per min. Limit: 90000 / min. Current: 87641 / min. Contact us through our help center at help.openai.com if you continue to have issues.. Retrying Question No. 2 Attempt:(1)\n"
     ]
    },
    {
     "name": "stderr",
     "output_type": "stream",
     "text": [
      " 98%|█████████▊| 48/49 [1:05:24<00:29, 29.32s/it]"
     ]
    },
    {
     "name": "stdout",
     "output_type": "stream",
     "text": [
      "Rate limit error: Rate limit reached for default-gpt-3.5-turbo in organization org-Y2tKyCPFO6tIjtCtOVZ7c9tr on tokens per min. Limit: 90000 / min. Current: 87953 / min. Contact us through our help center at help.openai.com if you continue to have issues.. Retrying Question No. 1 Attempt:(1)\n"
     ]
    },
    {
     "name": "stderr",
     "output_type": "stream",
     "text": [
      "100%|██████████| 49/49 [1:06:50<00:00, 81.86s/it]"
     ]
    },
    {
     "name": "stdout",
     "output_type": "stream",
     "text": [
      "Saved to: /Users/cu135/Library/CloudStorage/OneDrive-Personal/OneDrive_Documents/Work/Software/Research/nimlab/gpt_document_reader/cognitive_examinations/labeled_text/../research_extractions/research_evaluations.json\n"
     ]
    },
    {
     "name": "stderr",
     "output_type": "stream",
     "text": [
      "\n"
     ]
    }
   ],
   "source": [
    "from calvin_utils.gpt_sys_review.gpt_utils import OpenAIChatEvaluator\n",
    "evaluator = OpenAIChatEvaluator(api_key_path=api_key_path, json_file_path=json_file_path, keys_to_consider=keys_to_consider, question_type=article_type, model_choice=\"gpt3_small\",  question=question, test_mode=test_mode)\n",
    "answers = evaluator.evaluate_all_files()\n",
    "new_json_path = evaluator.save_to_json(answers)"
   ]
  },
  {
   "cell_type": "markdown",
   "metadata": {},
   "source": [
    "# 03 - Summarize the Results"
   ]
  },
  {
   "cell_type": "code",
   "execution_count": 7,
   "metadata": {},
   "outputs": [],
   "source": [
    "new_json_path = '/Users/cu135/Library/CloudStorage/OneDrive-Personal/OneDrive_Documents/Work/Software/Research/nimlab/gpt_document_reader/cognitive_examinations/labeled_text/../research_extractions/research_evaluations.json'"
   ]
  },
  {
   "cell_type": "code",
   "execution_count": 8,
   "metadata": {},
   "outputs": [
    {
     "name": "stderr",
     "output_type": "stream",
     "text": [
      "/Users/cu135/.local/lib/python3.10/site-packages/fuzzywuzzy/fuzz.py:11: UserWarning: Using slow pure-python SequenceMatcher. Install python-Levenshtein to remove this warning\n",
      "  warnings.warn('Using slow pure-python SequenceMatcher. Install python-Levenshtein to remove this warning')\n"
     ]
    },
    {
     "data": {
      "text/html": [
       "<div>\n",
       "<style scoped>\n",
       "    .dataframe tbody tr th:only-of-type {\n",
       "        vertical-align: middle;\n",
       "    }\n",
       "\n",
       "    .dataframe tbody tr th {\n",
       "        vertical-align: top;\n",
       "    }\n",
       "\n",
       "    .dataframe thead th {\n",
       "        text-align: right;\n",
       "    }\n",
       "</style>\n",
       "<table border=\"1\" class=\"dataframe\">\n",
       "  <thead>\n",
       "    <tr style=\"text-align: right;\">\n",
       "      <th></th>\n",
       "      <th>Prioritizing implicit and explicit information, do you think this includes research on a software-based test? Such as if an iPad or web application is mentioned. (Yes/No)</th>\n",
       "      <th>Prioritizing implicit and explicit information, do you think this uses cognitive examinations? A cognitive examination is a test wherein a patient performs a task and is scored on the output, like the Montreal Cognitive Examination. (Yes/No)</th>\n",
       "      <th>Prioritizing implicit and explicit information, do you think the cognitive examination is self-administered or otherwise unsupervised? (Yes/No)</th>\n",
       "    </tr>\n",
       "  </thead>\n",
       "  <tbody>\n",
       "    <tr>\n",
       "      <th>Initial validation of a web-based self-administered neuropsychological test battery for older adults and seniors_OCR.txt</th>\n",
       "      <td>1</td>\n",
       "      <td>1</td>\n",
       "      <td>1</td>\n",
       "    </tr>\n",
       "    <tr>\n",
       "      <th>Diagnostic Performance of a Tablet Computer-Based Cognitive Screening Test for Identification of Amnestic Mild Cognitive Impairment_OCR.txt</th>\n",
       "      <td>0</td>\n",
       "      <td>1</td>\n",
       "      <td>0</td>\n",
       "    </tr>\n",
       "    <tr>\n",
       "      <th>Examining 3-month test-retest reliability and reliable change using the Cambridge Neuropsychological Test Automated Battery_OCR.txt</th>\n",
       "      <td>0</td>\n",
       "      <td>1</td>\n",
       "      <td>0</td>\n",
       "    </tr>\n",
       "    <tr>\n",
       "      <th>Optimizing cCOG, a Web-based tool, to detect dementia with Lewy Bodies_OCR.txt</th>\n",
       "      <td>1</td>\n",
       "      <td>1</td>\n",
       "      <td>1</td>\n",
       "    </tr>\n",
       "    <tr>\n",
       "      <th>A Rapid, Mobile Neurocognitive Screening Test to Aid in Identifying Cognitive Impairment and Dementia (BrainCheck)_OCR.txt</th>\n",
       "      <td>1</td>\n",
       "      <td>1</td>\n",
       "      <td>1</td>\n",
       "    </tr>\n",
       "    <tr>\n",
       "      <th>Computer Assessment of Mild Cognitive Impairment_OCR.txt</th>\n",
       "      <td>0</td>\n",
       "      <td>1</td>\n",
       "      <td>1</td>\n",
       "    </tr>\n",
       "    <tr>\n",
       "      <th>Development of a self-administered web-based test for longitudinal cognitive assessment_OCR.txt</th>\n",
       "      <td>1</td>\n",
       "      <td>1</td>\n",
       "      <td>1</td>\n",
       "    </tr>\n",
       "    <tr>\n",
       "      <th>Reliability and validity of the Automatic Cognitive Assessment Delivery (ACAD)_OCR.txt</th>\n",
       "      <td>1</td>\n",
       "      <td>1</td>\n",
       "      <td>1</td>\n",
       "    </tr>\n",
       "    <tr>\n",
       "      <th>Remote assessment of cognitive dysfunction in hematologic malignancies using web-based neuropsychological testing_OCR.txt</th>\n",
       "      <td>1</td>\n",
       "      <td>1</td>\n",
       "      <td>1</td>\n",
       "    </tr>\n",
       "    <tr>\n",
       "      <th>Fully automated cognitive screening tool based on assessment of speech and language_OCR.txt</th>\n",
       "      <td>0</td>\n",
       "      <td>1</td>\n",
       "      <td>0</td>\n",
       "    </tr>\n",
       "    <tr>\n",
       "      <th>Validation of the automated neuropsychological assessment metrics for assessing cognitive impairment in systemic lupus erythematosus_OCR.txt</th>\n",
       "      <td>0</td>\n",
       "      <td>1</td>\n",
       "      <td>0</td>\n",
       "    </tr>\n",
       "    <tr>\n",
       "      <th>Validity of a brief computerized cognitive screening test in dementia_OCR.txt</th>\n",
       "      <td>0</td>\n",
       "      <td>1</td>\n",
       "      <td>0</td>\n",
       "    </tr>\n",
       "    <tr>\n",
       "      <th>Psychometric comparison of standard and computerized administration of the Alzheimer’s Disease Assessment Scale Cognitive Subscale (ADASCog)_OCR.txt</th>\n",
       "      <td>0</td>\n",
       "      <td>0</td>\n",
       "      <td>0</td>\n",
       "    </tr>\n",
       "    <tr>\n",
       "      <th>The validity and reliability of a Computerized Dementia Screening Test developed in Korea_OCR.txt</th>\n",
       "      <td>0</td>\n",
       "      <td>1</td>\n",
       "      <td>0</td>\n",
       "    </tr>\n",
       "    <tr>\n",
       "      <th>A Novel Computerized Cognitive Stress Test to Detect Mild Cognitive Impairment_OCR.txt</th>\n",
       "      <td>1</td>\n",
       "      <td>1</td>\n",
       "      <td>0</td>\n",
       "    </tr>\n",
       "    <tr>\n",
       "      <th>Development and Validation of a Web-Based Screening Tool for Monitoring Cognitive Status_OCR.txt</th>\n",
       "      <td>1</td>\n",
       "      <td>1</td>\n",
       "      <td>0</td>\n",
       "    </tr>\n",
       "    <tr>\n",
       "      <th>Validity of the MemTrax Memory Test Compared to the Montreal Cognitive Assessment in the Detection of Mild Cognitive Impairment and Dementia due to Alzheimer’s Disease in a Chinese Cohort_OCR.txt</th>\n",
       "      <td>1</td>\n",
       "      <td>1</td>\n",
       "      <td>0</td>\n",
       "    </tr>\n",
       "    <tr>\n",
       "      <th>Test–retest reliability of RC21X a web-based cognitive and neuromotor performance measurement tool_OCR.txt</th>\n",
       "      <td>1</td>\n",
       "      <td>1</td>\n",
       "      <td>1</td>\n",
       "    </tr>\n",
       "    <tr>\n",
       "      <th>cCOGAweb-basedcognitivetesttoolfordetectingneurodegenerativedisorders_OCR.txt</th>\n",
       "      <td>1</td>\n",
       "      <td>1</td>\n",
       "      <td>1</td>\n",
       "    </tr>\n",
       "    <tr>\n",
       "      <th>Examination of the accuracy of Cogniciti’s self-administered, online, Brain Health Assessment in detecting amnestic mild cognitive impairment_OCR.txt</th>\n",
       "      <td>1</td>\n",
       "      <td>1</td>\n",
       "      <td>1</td>\n",
       "    </tr>\n",
       "    <tr>\n",
       "      <th>Tablet-Based Assessment of Cognitive Function Among Heart Failure Patients_OCR.txt</th>\n",
       "      <td>1</td>\n",
       "      <td>1</td>\n",
       "      <td>1</td>\n",
       "    </tr>\n",
       "    <tr>\n",
       "      <th>A highly feasible, reliable, and fully remote protocol for mobile app‐based cognitive assessment in cognitively healthy older adults_OCR.txt</th>\n",
       "      <td>1</td>\n",
       "      <td>1</td>\n",
       "      <td>1</td>\n",
       "    </tr>\n",
       "    <tr>\n",
       "      <th>Development and validity of the Computer‐Based Cognitive Assessment Tool for intervention in community‐dwelling older individuals_OCR.txt</th>\n",
       "      <td>1</td>\n",
       "      <td>1</td>\n",
       "      <td>0</td>\n",
       "    </tr>\n",
       "    <tr>\n",
       "      <th>C-TOC (Cognitive Testing on Computer)_Investigating the Usability and Validity of a Novel Self-administered Cognitive Assessment Tool in Aging and Early Dementia_OCR.txt</th>\n",
       "      <td>0</td>\n",
       "      <td>1</td>\n",
       "      <td>0</td>\n",
       "    </tr>\n",
       "    <tr>\n",
       "      <th>Novel computerized neurocognitive test battery is sensitive to cancer-related cognitive deficits in survivors_OCR.txt</th>\n",
       "      <td>0</td>\n",
       "      <td>1</td>\n",
       "      <td>1</td>\n",
       "    </tr>\n",
       "    <tr>\n",
       "      <th>Comparison of an Electronic and Paper-based Montreal Cognitive Assessment Tool_OCR.txt</th>\n",
       "      <td>1</td>\n",
       "      <td>1</td>\n",
       "      <td>1</td>\n",
       "    </tr>\n",
       "    <tr>\n",
       "      <th>A Comparison of Electronic and Paper Versions of the Montreal Cognitive Assessment_OCR.txt</th>\n",
       "      <td>1</td>\n",
       "      <td>1</td>\n",
       "      <td>0</td>\n",
       "    </tr>\n",
       "    <tr>\n",
       "      <th>A massive dataset of the NeuroCognitive Performance Test, a web-based cognitive assessment_OCR.txt</th>\n",
       "      <td>1</td>\n",
       "      <td>1</td>\n",
       "      <td>1</td>\n",
       "    </tr>\n",
       "    <tr>\n",
       "      <th>Computerized Block Games for Automated Cognitive Assessment Development and Evaluation Study_OCR.txt</th>\n",
       "      <td>1</td>\n",
       "      <td>1</td>\n",
       "      <td>1</td>\n",
       "    </tr>\n",
       "    <tr>\n",
       "      <th>Touchscreen tablet-based cognitive assessment versus paper-based assessments for traumatic brain injury_OCR.txt</th>\n",
       "      <td>1</td>\n",
       "      <td>1</td>\n",
       "      <td>0</td>\n",
       "    </tr>\n",
       "    <tr>\n",
       "      <th>A novel computer adaptive word list memory test optimized for remote assessment_ Psychometric properties and associations with neurodegenerative biomarkers in older women without dementia_OCR.txt</th>\n",
       "      <td>1</td>\n",
       "      <td>1</td>\n",
       "      <td>1</td>\n",
       "    </tr>\n",
       "    <tr>\n",
       "      <th>A Self-Administered Computerized Test for Screening for Cognitive Impairment in Community Social Centers_OCR.txt</th>\n",
       "      <td>0</td>\n",
       "      <td>1</td>\n",
       "      <td>1</td>\n",
       "    </tr>\n",
       "    <tr>\n",
       "      <th>Accuracy of the SWAY Mobile Cognitive Assessment Application_OCR.txt</th>\n",
       "      <td>1</td>\n",
       "      <td>1</td>\n",
       "      <td>1</td>\n",
       "    </tr>\n",
       "    <tr>\n",
       "      <th>Reliability and validity of the NeuroCognitive Performance Test, a web-based neuropsychological assessment_OCR.txt</th>\n",
       "      <td>1</td>\n",
       "      <td>1</td>\n",
       "      <td>1</td>\n",
       "    </tr>\n",
       "    <tr>\n",
       "      <th>A Validity Measure for the Automated Neuropsychological Assessment Metrics_OCR.txt</th>\n",
       "      <td>0</td>\n",
       "      <td>0</td>\n",
       "      <td>0</td>\n",
       "    </tr>\n",
       "    <tr>\n",
       "      <th>Introducing the tablet-based Oxford Cognitive Screen-Plus (OCS-Plus) as an assessment tool for subtle cognitive impairments_OCR.txt</th>\n",
       "      <td>0</td>\n",
       "      <td>1</td>\n",
       "      <td>0</td>\n",
       "    </tr>\n",
       "    <tr>\n",
       "      <th>Validation_of_the_Computerized_Cognitive_Assessmen_OCR.txt</th>\n",
       "      <td>1</td>\n",
       "      <td>1</td>\n",
       "      <td>1</td>\n",
       "    </tr>\n",
       "    <tr>\n",
       "      <th>A Computerized Cognitive Test Battery for Detection of Dementia and Mild Cognitive Impairment Instrument Validation Study_OCR.txt</th>\n",
       "      <td>1</td>\n",
       "      <td>1</td>\n",
       "      <td>1</td>\n",
       "    </tr>\n",
       "    <tr>\n",
       "      <th>contributions-of-the-computer-administered-neuropsychological-screen-for-mild-cognitive-impairment-cans-mci-for-the-diagnosis-of-mci-in-brazil_OCR.txt</th>\n",
       "      <td>0</td>\n",
       "      <td>1</td>\n",
       "      <td>1</td>\n",
       "    </tr>\n",
       "    <tr>\n",
       "      <th>A comparison of the Cambridge Automated Neuropsychological Test Battery  CANTAB  with  traditional  neuropsychological testing instruments_OCR.txt</th>\n",
       "      <td>0</td>\n",
       "      <td>1</td>\n",
       "      <td>0</td>\n",
       "    </tr>\n",
       "    <tr>\n",
       "      <th>Computerized Neurocognitive Scanning I. Methodology and Validation in Healthy People_OCR.txt</th>\n",
       "      <td>0</td>\n",
       "      <td>1</td>\n",
       "      <td>0</td>\n",
       "    </tr>\n",
       "    <tr>\n",
       "      <th>Validation of SATURN, a free, electronic, self-administered cognitive screening test_OCR.txt</th>\n",
       "      <td>1</td>\n",
       "      <td>1</td>\n",
       "      <td>1</td>\n",
       "    </tr>\n",
       "    <tr>\n",
       "      <th>Test–Retest Reliability and Reliable Change Estimates for Four Mobile Cognitive Tests Administered Virtually in Community-Dwelling Adults_OCR.txt</th>\n",
       "      <td>1</td>\n",
       "      <td>1</td>\n",
       "      <td>1</td>\n",
       "    </tr>\n",
       "    <tr>\n",
       "      <th>Asynchronous Remote Assessment for Cognitive Impairment_OCR.txt</th>\n",
       "      <td>0</td>\n",
       "      <td>1</td>\n",
       "      <td>1</td>\n",
       "    </tr>\n",
       "    <tr>\n",
       "      <th>Validity of a Novel Touch Screen Tablet-Based Assessment for Mild Cognitive Impairment and Probable AD in Older Adults_OCR.txt</th>\n",
       "      <td>1</td>\n",
       "      <td>1</td>\n",
       "      <td>1</td>\n",
       "    </tr>\n",
       "    <tr>\n",
       "      <th>A Validation Study of the Inbrain CST a Tablet Computer-based Cognitive Screening Test for Elderly People with Cognitive Impairment_OCR.txt</th>\n",
       "      <td>1</td>\n",
       "      <td>1</td>\n",
       "      <td>0</td>\n",
       "    </tr>\n",
       "    <tr>\n",
       "      <th>Tele-Global Examination of Mental State (Tele-GEMS) an open tool for the remote neuropsychological screening_OCR.txt</th>\n",
       "      <td>0</td>\n",
       "      <td>1</td>\n",
       "      <td>0</td>\n",
       "    </tr>\n",
       "    <tr>\n",
       "      <th>Validity of the Web-Based, Self-Directed, NeuroCognitive Performance Test in Mild Cognitive Impairment_OCR.txt</th>\n",
       "      <td>1</td>\n",
       "      <td>1</td>\n",
       "      <td>1</td>\n",
       "    </tr>\n",
       "    <tr>\n",
       "      <th>Validation of a mobile game-based assessment of cognitive control among children and adolescents_OCR.txt</th>\n",
       "      <td>1</td>\n",
       "      <td>1</td>\n",
       "      <td>1</td>\n",
       "    </tr>\n",
       "  </tbody>\n",
       "</table>\n",
       "</div>"
      ],
      "text/plain": [
       "                                                    Prioritizing implicit and explicit information, do you think this includes research on a software-based test? Such as if an iPad or web application is mentioned. (Yes/No)  \\\n",
       "Initial validation of a web-based self-administ...                                                  1                                                                                                                            \n",
       "Diagnostic Performance of a Tablet Computer-Bas...                                                  0                                                                                                                            \n",
       "Examining 3-month test-retest reliability and r...                                                  0                                                                                                                            \n",
       "Optimizing cCOG, a Web-based tool, to detect de...                                                  1                                                                                                                            \n",
       "A Rapid, Mobile Neurocognitive Screening Test t...                                                  1                                                                                                                            \n",
       "Computer Assessment of Mild Cognitive Impairmen...                                                  0                                                                                                                            \n",
       "Development of a self-administered web-based te...                                                  1                                                                                                                            \n",
       "Reliability and validity of the Automatic Cogni...                                                  1                                                                                                                            \n",
       "Remote assessment of cognitive dysfunction in h...                                                  1                                                                                                                            \n",
       "Fully automated cognitive screening tool based ...                                                  0                                                                                                                            \n",
       "Validation of the automated neuropsychological ...                                                  0                                                                                                                            \n",
       "Validity of a brief computerized cognitive scre...                                                  0                                                                                                                            \n",
       "Psychometric comparison of standard and compute...                                                  0                                                                                                                            \n",
       "The validity and reliability of a Computerized ...                                                  0                                                                                                                            \n",
       "A Novel Computerized Cognitive Stress Test to D...                                                  1                                                                                                                            \n",
       "Development and Validation of a Web-Based Scree...                                                  1                                                                                                                            \n",
       "Validity of the MemTrax Memory Test Compared to...                                                  1                                                                                                                            \n",
       "Test–retest reliability of RC21X a web-based co...                                                  1                                                                                                                            \n",
       "cCOGAweb-basedcognitivetesttoolfordetectingneur...                                                  1                                                                                                                            \n",
       "Examination of the accuracy of Cogniciti’s self...                                                  1                                                                                                                            \n",
       "Tablet-Based Assessment of Cognitive Function A...                                                  1                                                                                                                            \n",
       "A highly feasible, reliable, and fully remote p...                                                  1                                                                                                                            \n",
       "Development and validity of the Computer‐Based ...                                                  1                                                                                                                            \n",
       "C-TOC (Cognitive Testing on Computer)_Investiga...                                                  0                                                                                                                            \n",
       "Novel computerized neurocognitive test battery ...                                                  0                                                                                                                            \n",
       "Comparison of an Electronic and Paper-based Mon...                                                  1                                                                                                                            \n",
       "A Comparison of Electronic and Paper Versions o...                                                  1                                                                                                                            \n",
       "A massive dataset of the NeuroCognitive Perform...                                                  1                                                                                                                            \n",
       "Computerized Block Games for Automated Cognitiv...                                                  1                                                                                                                            \n",
       "Touchscreen tablet-based cognitive assessment v...                                                  1                                                                                                                            \n",
       "A novel computer adaptive word list memory test...                                                  1                                                                                                                            \n",
       "A Self-Administered Computerized Test for Scree...                                                  0                                                                                                                            \n",
       "Accuracy of the SWAY Mobile Cognitive Assessmen...                                                  1                                                                                                                            \n",
       "Reliability and validity of the NeuroCognitive ...                                                  1                                                                                                                            \n",
       "A Validity Measure for the Automated Neuropsych...                                                  0                                                                                                                            \n",
       "Introducing the tablet-based Oxford Cognitive S...                                                  0                                                                                                                            \n",
       "Validation_of_the_Computerized_Cognitive_Assess...                                                  1                                                                                                                            \n",
       "A Computerized Cognitive Test Battery for Detec...                                                  1                                                                                                                            \n",
       "contributions-of-the-computer-administered-neur...                                                  0                                                                                                                            \n",
       "A comparison of the Cambridge Automated Neurops...                                                  0                                                                                                                            \n",
       "Computerized Neurocognitive Scanning I. Methodo...                                                  0                                                                                                                            \n",
       "Validation of SATURN, a free, electronic, self-...                                                  1                                                                                                                            \n",
       "Test–Retest Reliability and Reliable Change Est...                                                  1                                                                                                                            \n",
       "Asynchronous Remote Assessment for Cognitive Im...                                                  0                                                                                                                            \n",
       "Validity of a Novel Touch Screen Tablet-Based A...                                                  1                                                                                                                            \n",
       "A Validation Study of the Inbrain CST a Tablet ...                                                  1                                                                                                                            \n",
       "Tele-Global Examination of Mental State (Tele-G...                                                  0                                                                                                                            \n",
       "Validity of the Web-Based, Self-Directed, Neuro...                                                  1                                                                                                                            \n",
       "Validation of a mobile game-based assessment of...                                                  1                                                                                                                            \n",
       "\n",
       "                                                    Prioritizing implicit and explicit information, do you think this uses cognitive examinations? A cognitive examination is a test wherein a patient performs a task and is scored on the output, like the Montreal Cognitive Examination. (Yes/No)  \\\n",
       "Initial validation of a web-based self-administ...                                                  1                                                                                                                                                                                                   \n",
       "Diagnostic Performance of a Tablet Computer-Bas...                                                  1                                                                                                                                                                                                   \n",
       "Examining 3-month test-retest reliability and r...                                                  1                                                                                                                                                                                                   \n",
       "Optimizing cCOG, a Web-based tool, to detect de...                                                  1                                                                                                                                                                                                   \n",
       "A Rapid, Mobile Neurocognitive Screening Test t...                                                  1                                                                                                                                                                                                   \n",
       "Computer Assessment of Mild Cognitive Impairmen...                                                  1                                                                                                                                                                                                   \n",
       "Development of a self-administered web-based te...                                                  1                                                                                                                                                                                                   \n",
       "Reliability and validity of the Automatic Cogni...                                                  1                                                                                                                                                                                                   \n",
       "Remote assessment of cognitive dysfunction in h...                                                  1                                                                                                                                                                                                   \n",
       "Fully automated cognitive screening tool based ...                                                  1                                                                                                                                                                                                   \n",
       "Validation of the automated neuropsychological ...                                                  1                                                                                                                                                                                                   \n",
       "Validity of a brief computerized cognitive scre...                                                  1                                                                                                                                                                                                   \n",
       "Psychometric comparison of standard and compute...                                                  0                                                                                                                                                                                                   \n",
       "The validity and reliability of a Computerized ...                                                  1                                                                                                                                                                                                   \n",
       "A Novel Computerized Cognitive Stress Test to D...                                                  1                                                                                                                                                                                                   \n",
       "Development and Validation of a Web-Based Scree...                                                  1                                                                                                                                                                                                   \n",
       "Validity of the MemTrax Memory Test Compared to...                                                  1                                                                                                                                                                                                   \n",
       "Test–retest reliability of RC21X a web-based co...                                                  1                                                                                                                                                                                                   \n",
       "cCOGAweb-basedcognitivetesttoolfordetectingneur...                                                  1                                                                                                                                                                                                   \n",
       "Examination of the accuracy of Cogniciti’s self...                                                  1                                                                                                                                                                                                   \n",
       "Tablet-Based Assessment of Cognitive Function A...                                                  1                                                                                                                                                                                                   \n",
       "A highly feasible, reliable, and fully remote p...                                                  1                                                                                                                                                                                                   \n",
       "Development and validity of the Computer‐Based ...                                                  1                                                                                                                                                                                                   \n",
       "C-TOC (Cognitive Testing on Computer)_Investiga...                                                  1                                                                                                                                                                                                   \n",
       "Novel computerized neurocognitive test battery ...                                                  1                                                                                                                                                                                                   \n",
       "Comparison of an Electronic and Paper-based Mon...                                                  1                                                                                                                                                                                                   \n",
       "A Comparison of Electronic and Paper Versions o...                                                  1                                                                                                                                                                                                   \n",
       "A massive dataset of the NeuroCognitive Perform...                                                  1                                                                                                                                                                                                   \n",
       "Computerized Block Games for Automated Cognitiv...                                                  1                                                                                                                                                                                                   \n",
       "Touchscreen tablet-based cognitive assessment v...                                                  1                                                                                                                                                                                                   \n",
       "A novel computer adaptive word list memory test...                                                  1                                                                                                                                                                                                   \n",
       "A Self-Administered Computerized Test for Scree...                                                  1                                                                                                                                                                                                   \n",
       "Accuracy of the SWAY Mobile Cognitive Assessmen...                                                  1                                                                                                                                                                                                   \n",
       "Reliability and validity of the NeuroCognitive ...                                                  1                                                                                                                                                                                                   \n",
       "A Validity Measure for the Automated Neuropsych...                                                  0                                                                                                                                                                                                   \n",
       "Introducing the tablet-based Oxford Cognitive S...                                                  1                                                                                                                                                                                                   \n",
       "Validation_of_the_Computerized_Cognitive_Assess...                                                  1                                                                                                                                                                                                   \n",
       "A Computerized Cognitive Test Battery for Detec...                                                  1                                                                                                                                                                                                   \n",
       "contributions-of-the-computer-administered-neur...                                                  1                                                                                                                                                                                                   \n",
       "A comparison of the Cambridge Automated Neurops...                                                  1                                                                                                                                                                                                   \n",
       "Computerized Neurocognitive Scanning I. Methodo...                                                  1                                                                                                                                                                                                   \n",
       "Validation of SATURN, a free, electronic, self-...                                                  1                                                                                                                                                                                                   \n",
       "Test–Retest Reliability and Reliable Change Est...                                                  1                                                                                                                                                                                                   \n",
       "Asynchronous Remote Assessment for Cognitive Im...                                                  1                                                                                                                                                                                                   \n",
       "Validity of a Novel Touch Screen Tablet-Based A...                                                  1                                                                                                                                                                                                   \n",
       "A Validation Study of the Inbrain CST a Tablet ...                                                  1                                                                                                                                                                                                   \n",
       "Tele-Global Examination of Mental State (Tele-G...                                                  1                                                                                                                                                                                                   \n",
       "Validity of the Web-Based, Self-Directed, Neuro...                                                  1                                                                                                                                                                                                   \n",
       "Validation of a mobile game-based assessment of...                                                  1                                                                                                                                                                                                   \n",
       "\n",
       "                                                    Prioritizing implicit and explicit information, do you think the cognitive examination is self-administered or otherwise unsupervised? (Yes/No)  \n",
       "Initial validation of a web-based self-administ...                                                  1                                                                                                \n",
       "Diagnostic Performance of a Tablet Computer-Bas...                                                  0                                                                                                \n",
       "Examining 3-month test-retest reliability and r...                                                  0                                                                                                \n",
       "Optimizing cCOG, a Web-based tool, to detect de...                                                  1                                                                                                \n",
       "A Rapid, Mobile Neurocognitive Screening Test t...                                                  1                                                                                                \n",
       "Computer Assessment of Mild Cognitive Impairmen...                                                  1                                                                                                \n",
       "Development of a self-administered web-based te...                                                  1                                                                                                \n",
       "Reliability and validity of the Automatic Cogni...                                                  1                                                                                                \n",
       "Remote assessment of cognitive dysfunction in h...                                                  1                                                                                                \n",
       "Fully automated cognitive screening tool based ...                                                  0                                                                                                \n",
       "Validation of the automated neuropsychological ...                                                  0                                                                                                \n",
       "Validity of a brief computerized cognitive scre...                                                  0                                                                                                \n",
       "Psychometric comparison of standard and compute...                                                  0                                                                                                \n",
       "The validity and reliability of a Computerized ...                                                  0                                                                                                \n",
       "A Novel Computerized Cognitive Stress Test to D...                                                  0                                                                                                \n",
       "Development and Validation of a Web-Based Scree...                                                  0                                                                                                \n",
       "Validity of the MemTrax Memory Test Compared to...                                                  0                                                                                                \n",
       "Test–retest reliability of RC21X a web-based co...                                                  1                                                                                                \n",
       "cCOGAweb-basedcognitivetesttoolfordetectingneur...                                                  1                                                                                                \n",
       "Examination of the accuracy of Cogniciti’s self...                                                  1                                                                                                \n",
       "Tablet-Based Assessment of Cognitive Function A...                                                  1                                                                                                \n",
       "A highly feasible, reliable, and fully remote p...                                                  1                                                                                                \n",
       "Development and validity of the Computer‐Based ...                                                  0                                                                                                \n",
       "C-TOC (Cognitive Testing on Computer)_Investiga...                                                  0                                                                                                \n",
       "Novel computerized neurocognitive test battery ...                                                  1                                                                                                \n",
       "Comparison of an Electronic and Paper-based Mon...                                                  1                                                                                                \n",
       "A Comparison of Electronic and Paper Versions o...                                                  0                                                                                                \n",
       "A massive dataset of the NeuroCognitive Perform...                                                  1                                                                                                \n",
       "Computerized Block Games for Automated Cognitiv...                                                  1                                                                                                \n",
       "Touchscreen tablet-based cognitive assessment v...                                                  0                                                                                                \n",
       "A novel computer adaptive word list memory test...                                                  1                                                                                                \n",
       "A Self-Administered Computerized Test for Scree...                                                  1                                                                                                \n",
       "Accuracy of the SWAY Mobile Cognitive Assessmen...                                                  1                                                                                                \n",
       "Reliability and validity of the NeuroCognitive ...                                                  1                                                                                                \n",
       "A Validity Measure for the Automated Neuropsych...                                                  0                                                                                                \n",
       "Introducing the tablet-based Oxford Cognitive S...                                                  0                                                                                                \n",
       "Validation_of_the_Computerized_Cognitive_Assess...                                                  1                                                                                                \n",
       "A Computerized Cognitive Test Battery for Detec...                                                  1                                                                                                \n",
       "contributions-of-the-computer-administered-neur...                                                  1                                                                                                \n",
       "A comparison of the Cambridge Automated Neurops...                                                  0                                                                                                \n",
       "Computerized Neurocognitive Scanning I. Methodo...                                                  0                                                                                                \n",
       "Validation of SATURN, a free, electronic, self-...                                                  1                                                                                                \n",
       "Test–Retest Reliability and Reliable Change Est...                                                  1                                                                                                \n",
       "Asynchronous Remote Assessment for Cognitive Im...                                                  1                                                                                                \n",
       "Validity of a Novel Touch Screen Tablet-Based A...                                                  1                                                                                                \n",
       "A Validation Study of the Inbrain CST a Tablet ...                                                  0                                                                                                \n",
       "Tele-Global Examination of Mental State (Tele-G...                                                  0                                                                                                \n",
       "Validity of the Web-Based, Self-Directed, Neuro...                                                  1                                                                                                \n",
       "Validation of a mobile game-based assessment of...                                                  1                                                                                                "
      ]
     },
     "execution_count": 8,
     "metadata": {},
     "output_type": "execute_result"
    }
   ],
   "source": [
    "from calvin_utils.gpt_sys_review.json_utils import InclusionExclusionSummarizer\n",
    "summarizer = InclusionExclusionSummarizer(new_json_path)\n",
    "result_df = summarizer.run()\n",
    "result_df"
   ]
  }
 ],
 "metadata": {
  "kernelspec": {
   "display_name": "nimlab_py310",
   "language": "python",
   "name": "python3"
  },
  "language_info": {
   "codemirror_mode": {
    "name": "ipython",
    "version": 3
   },
   "file_extension": ".py",
   "mimetype": "text/x-python",
   "name": "python",
   "nbconvert_exporter": "python",
   "pygments_lexer": "ipython3",
   "version": "3.10.8"
  },
  "orig_nbformat": 4
 },
 "nbformat": 4,
 "nbformat_minor": 2
}
