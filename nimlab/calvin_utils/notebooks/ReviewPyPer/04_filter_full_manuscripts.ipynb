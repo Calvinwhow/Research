{
 "cells": [
  {
   "cell_type": "markdown",
   "metadata": {},
   "source": [
    "# 00 - Provide Paths to Relevant Files\n",
    "\n",
    "json_file_path is the path to the segmented JSON generated at the end of notebook 02. "
   ]
  },
  {
   "cell_type": "code",
   "execution_count": 1,
   "metadata": {},
   "outputs": [],
   "source": [
    "api_key_path = \"/Users/cu135/Library/CloudStorage/OneDrive-Personal/OneDrive_Documents/Work/Software/Research/nimlab/gpt_document_reader/openai_key.txt\"\n",
    "json_file_path = \"/Users/cu135/Dropbox (Partners HealthCare)/studies/review_pyper/raws/labeled_text/case_labeled_sections.json\"\n"
   ]
  },
  {
   "cell_type": "markdown",
   "metadata": {},
   "source": [
    "# 01 - Define Inclusion/Exclusion Questions\n",
    "\n",
    "Examples generated below:"
   ]
  },
  {
   "cell_type": "code",
   "execution_count": 2,
   "metadata": {},
   "outputs": [
    {
     "name": "stdout",
     "output_type": "stream",
     "text": [
      "Here are example inclusion questions:\n",
      "{\n",
      "    \"Amnesia case report? (Y/N)\": \"case_report\",\n",
      "    \"Published in English? (Y/N)\": \"is_english\"\n",
      "}\n",
      "Here are example exclusion questions:\n",
      "{\n",
      "    \"Transient amnesia, reversible amnesia symptom, severe confabulation or drug use, toxicity, epilepsy-related confusion, psychological or psychiatric-related amnesia (functional amnesia)\": \"other_cause\",\n",
      "    \"Did not examine/report both retrograde and anterograde memory domains\": \"not_both_domains\",\n",
      "    \"Without descriptive/qualitative/quantitative data on amnesia severity/memory tests/questions/scenarios/details\": \"not_enough_information\",\n",
      "    \"Had global cognitive impairment disproportionate to memory loss\": \"disproportionate_impairment\",\n",
      "    \"Without measurable lesion-related brain MR/CT scans\": \"no_scan\",\n",
      "    \"Had focal or widespread brain atrophy\": \"neurodegenerative\",\n",
      "    \"Atypical cases with selective (e.g., semantic) memory loss or material/topographic-specific memory loss\": \"atypical_case\"\n",
      "}\n",
      "Here is a question template\n",
      "{\n",
      "    \" ? (metric/metric/metric)\": \"question_label\"\n",
      "}\n"
     ]
    }
   ],
   "source": [
    "from calvin_utils.gpt_sys_review.gpt_utils import QuestionTemplate\n",
    "\n",
    "question_template = QuestionTemplate()\n",
    "question_template.inclusion_exclusion_questions()"
   ]
  },
  {
   "cell_type": "markdown",
   "metadata": {},
   "source": [
    "**Critical Note**\n",
    "- You are going to define a dictionary with questions as keys (first) and outcomes as values (second).\n",
    "- The value determines if you are answering a positive question or a negative question.\n",
    "- If the question is positive (a yes is good), set the value to 1.\n",
    "- If the question is negative (a yes is bad), set the value to 0.\n",
    "- A good paper will be denoted by 1, with a bad paper denoted by 0."
   ]
  },
  {
   "cell_type": "code",
   "execution_count": 3,
   "metadata": {},
   "outputs": [],
   "source": [
    "question = {\n",
    "    \"Prioritizing implicit and explicit information, do you think this is amnesia case report or case series? (Yes/No)\": 1,\n",
    "    \"Prioritizing implicit and explicit information, do you think this is a case of transient amnesia, reversible amnesia, confabulation, epilepsy, toxicity, neurodegenerative disease, or functional/psychiatric neurological disorder? . (Yes/No)\": 0,\n",
    "    \"Prioritizing implicit and explicit information, do you think this examined both retrograde and anterograde amnesia? For example, if they report scores or a clinical examination examining retrograde and anterograde amnesia. (Yes/No)\": 1,\n",
    "    \"Prioritizing implicit and explicit information, do you think this has some sort of qualitative or quantitative measurments on memory severity? For example, a case with neuropsychological measurements on memory tests. (Yes/No)\": 1,\n",
    "    \"Prioritizing implicit and explicit information, do you think the memory loss might be due to global cognitive impairment? For example, a stroke resulting in executive, memory, language, and more changes is a global impairment. (Yes/No)\": 0,\n",
    "    \"Prioritizing implicit and explicit information, do you think this case report has a figure with neuroimaging? (Yes/No)\": 1,\n",
    "    \"Prioritizing implicit and explicit information, do you think this case report had brain atrophy, either focally or globally suggesting neurodegeneration? (Yes/No)\": 0,\n",
    "    \"Prioritizing implicit and explicit information, do you think this is due to atypical memory loss, where only a subset of memory is impaired? For example, if just spatial memory is lost. (Yes/No)\": 0,\n",
    "    \"Prioritizing implicit and explicit information, do you think this in English? (Yes/No)\": 0\n",
    "}"
   ]
  },
  {
   "cell_type": "markdown",
   "metadata": {},
   "source": [
    "# 02 - Ask Questions"
   ]
  },
  {
   "cell_type": "markdown",
   "metadata": {},
   "source": [
    "Define the segmented labels you want to consider. \n",
    "\n",
    "Define the article type you want to consider from case or research"
   ]
  },
  {
   "cell_type": "code",
   "execution_count": 4,
   "metadata": {},
   "outputs": [],
   "source": [
    "# Define the keys you want to consider (exclude 'References')\n",
    "keys_to_consider = [ \"case_report\" ]  # Add or remove keys as per your requirement\n",
    "\n",
    "# Define the type of article and questions\n",
    "article_type = \"case\""
   ]
  },
  {
   "cell_type": "markdown",
   "metadata": {},
   "source": [
    "Set test_mode=True during your first few runs, while you tune your questions to get the answers you need"
   ]
  },
  {
   "cell_type": "code",
   "execution_count": 5,
   "metadata": {},
   "outputs": [],
   "source": [
    "test_mode=False"
   ]
  },
  {
   "cell_type": "markdown",
   "metadata": {},
   "source": [
    "Submit Questions"
   ]
  },
  {
   "cell_type": "code",
   "execution_count": 6,
   "metadata": {},
   "outputs": [
    {
     "name": "stderr",
     "output_type": "stream",
     "text": [
      "  0%|          | 0/87 [00:00<?, ?it/s]"
     ]
    },
    {
     "name": "stdout",
     "output_type": "stream",
     "text": [
      "Rate limit error: Rate limit reached for gpt-4 in organization org-Y2tKyCPFO6tIjtCtOVZ7c9tr on tokens per min. Limit: 10000 / min. Please try again in 6ms. Visit https://platform.openai.com/account/rate-limits to learn more.. Retrying Question No. 3 Attempt:(1)\n",
      "Rate limit error: Rate limit reached for gpt-4 in organization org-Y2tKyCPFO6tIjtCtOVZ7c9tr on tokens per min. Limit: 10000 / min. Please try again in 6ms. Visit https://platform.openai.com/account/rate-limits to learn more.. Retrying Question No. 4 Attempt:(1)\n",
      "Rate limit error: Rate limit reached for gpt-4 in organization org-Y2tKyCPFO6tIjtCtOVZ7c9tr on tokens per min. Limit: 10000 / min. Please try again in 6ms. Visit https://platform.openai.com/account/rate-limits to learn more.. Retrying Question No. 6 Attempt:(1)\n",
      "Rate limit error: Rate limit reached for gpt-4 in organization org-Y2tKyCPFO6tIjtCtOVZ7c9tr on tokens per min. Limit: 10000 / min. Please try again in 6ms. Visit https://platform.openai.com/account/rate-limits to learn more.. Retrying Question No. 7 Attempt:(1)\n"
     ]
    },
    {
     "name": "stderr",
     "output_type": "stream",
     "text": [
      "  1%|          | 1/87 [02:12<3:09:54, 132.49s/it]"
     ]
    },
    {
     "name": "stdout",
     "output_type": "stream",
     "text": [
      "Rate limit error: Rate limit reached for gpt-4 in organization org-Y2tKyCPFO6tIjtCtOVZ7c9tr on tokens per min. Limit: 10000 / min. Please try again in 6ms. Visit https://platform.openai.com/account/rate-limits to learn more.. Retrying Question No. 0 Attempt:(1)\n",
      "Rate limit error: Rate limit reached for gpt-4 in organization org-Y2tKyCPFO6tIjtCtOVZ7c9tr on tokens per min. Limit: 10000 / min. Please try again in 6ms. Visit https://platform.openai.com/account/rate-limits to learn more.. Retrying Question No. 3 Attempt:(1)\n",
      "Rate limit error: Rate limit reached for gpt-4 in organization org-Y2tKyCPFO6tIjtCtOVZ7c9tr on tokens per min. Limit: 10000 / min. Please try again in 6ms. Visit https://platform.openai.com/account/rate-limits to learn more.. Retrying Question No. 5 Attempt:(1)\n",
      "Rate limit error: Rate limit reached for gpt-4 in organization org-Y2tKyCPFO6tIjtCtOVZ7c9tr on tokens per min. Limit: 10000 / min. Please try again in 6ms. Visit https://platform.openai.com/account/rate-limits to learn more.. Retrying Question No. 7 Attempt:(1)\n"
     ]
    },
    {
     "name": "stderr",
     "output_type": "stream",
     "text": [
      "  2%|▏         | 2/87 [04:26<3:08:52, 133.32s/it]"
     ]
    },
    {
     "name": "stdout",
     "output_type": "stream",
     "text": [
      "Rate limit error: Rate limit reached for gpt-4 in organization org-Y2tKyCPFO6tIjtCtOVZ7c9tr on tokens per min. Limit: 10000 / min. Please try again in 6ms. Visit https://platform.openai.com/account/rate-limits to learn more.. Retrying Question No. 0 Attempt:(1)\n",
      "Rate limit error: Rate limit reached for gpt-4 in organization org-Y2tKyCPFO6tIjtCtOVZ7c9tr on tokens per min. Limit: 10000 / min. Please try again in 6ms. Visit https://platform.openai.com/account/rate-limits to learn more.. Retrying Question No. 3 Attempt:(1)\n",
      "Rate limit error: Rate limit reached for gpt-4 in organization org-Y2tKyCPFO6tIjtCtOVZ7c9tr on tokens per min. Limit: 10000 / min. Please try again in 6ms. Visit https://platform.openai.com/account/rate-limits to learn more.. Retrying Question No. 6 Attempt:(1)\n",
      "Rate limit error: Rate limit reached for gpt-4 in organization org-Y2tKyCPFO6tIjtCtOVZ7c9tr on tokens per min. Limit: 10000 / min. Please try again in 6ms. Visit https://platform.openai.com/account/rate-limits to learn more.. Retrying Question No. 8 Attempt:(1)\n"
     ]
    },
    {
     "name": "stderr",
     "output_type": "stream",
     "text": [
      "  3%|▎         | 3/87 [06:40<3:07:04, 133.62s/it]"
     ]
    },
    {
     "name": "stdout",
     "output_type": "stream",
     "text": [
      "Rate limit error: Rate limit reached for gpt-4 in organization org-Y2tKyCPFO6tIjtCtOVZ7c9tr on tokens per min. Limit: 10000 / min. Please try again in 6ms. Visit https://platform.openai.com/account/rate-limits to learn more.. Retrying Question No. 0 Attempt:(1)\n",
      "Rate limit error: Rate limit reached for gpt-4 in organization org-Y2tKyCPFO6tIjtCtOVZ7c9tr on tokens per min. Limit: 10000 / min. Please try again in 6ms. Visit https://platform.openai.com/account/rate-limits to learn more.. Retrying Question No. 1 Attempt:(1)\n",
      "Rate limit error: Rate limit reached for gpt-4 in organization org-Y2tKyCPFO6tIjtCtOVZ7c9tr on tokens per min. Limit: 10000 / min. Please try again in 6ms. Visit https://platform.openai.com/account/rate-limits to learn more.. Retrying Question No. 2 Attempt:(1)\n",
      "Rate limit error: Rate limit reached for gpt-4 in organization org-Y2tKyCPFO6tIjtCtOVZ7c9tr on tokens per min. Limit: 10000 / min. Please try again in 6ms. Visit https://platform.openai.com/account/rate-limits to learn more.. Retrying Question No. 3 Attempt:(1)\n",
      "Rate limit error: Rate limit reached for gpt-4 in organization org-Y2tKyCPFO6tIjtCtOVZ7c9tr on tokens per min. Limit: 10000 / min. Please try again in 6ms. Visit https://platform.openai.com/account/rate-limits to learn more.. Retrying Question No. 4 Attempt:(1)\n",
      "Rate limit error: Rate limit reached for gpt-4 in organization org-Y2tKyCPFO6tIjtCtOVZ7c9tr on tokens per min. Limit: 10000 / min. Please try again in 6ms. Visit https://platform.openai.com/account/rate-limits to learn more.. Retrying Question No. 5 Attempt:(1)\n",
      "Rate limit error: Rate limit reached for gpt-4 in organization org-Y2tKyCPFO6tIjtCtOVZ7c9tr on tokens per min. Limit: 10000 / min. Please try again in 6ms. Visit https://platform.openai.com/account/rate-limits to learn more.. Retrying Question No. 6 Attempt:(1)\n",
      "Rate limit error: Rate limit reached for gpt-4 in organization org-Y2tKyCPFO6tIjtCtOVZ7c9tr on tokens per min. Limit: 10000 / min. Please try again in 6ms. Visit https://platform.openai.com/account/rate-limits to learn more.. Retrying Question No. 7 Attempt:(1)\n",
      "Rate limit error: Rate limit reached for gpt-4 in organization org-Y2tKyCPFO6tIjtCtOVZ7c9tr on tokens per min. Limit: 10000 / min. Please try again in 6ms. Visit https://platform.openai.com/account/rate-limits to learn more.. Retrying Question No. 8 Attempt:(1)\n",
      "Rate limit error: Rate limit reached for gpt-4 in organization org-Y2tKyCPFO6tIjtCtOVZ7c9tr on tokens per min. Limit: 10000 / min. Please try again in 6ms. Visit https://platform.openai.com/account/rate-limits to learn more.. Retrying Question No. 0 Attempt:(1)\n",
      "Rate limit error: Rate limit reached for gpt-4 in organization org-Y2tKyCPFO6tIjtCtOVZ7c9tr on tokens per min. Limit: 10000 / min. Please try again in 6ms. Visit https://platform.openai.com/account/rate-limits to learn more.. Retrying Question No. 0 Attempt:(2)\n",
      "Rate limit error: Rate limit reached for gpt-4 in organization org-Y2tKyCPFO6tIjtCtOVZ7c9tr on tokens per min. Limit: 10000 / min. Please try again in 6ms. Visit https://platform.openai.com/account/rate-limits to learn more.. Retrying Question No. 1 Attempt:(1)\n",
      "Rate limit error: Rate limit reached for gpt-4 in organization org-Y2tKyCPFO6tIjtCtOVZ7c9tr on tokens per min. Limit: 10000 / min. Please try again in 6ms. Visit https://platform.openai.com/account/rate-limits to learn more.. Retrying Question No. 2 Attempt:(1)\n",
      "Rate limit error: Rate limit reached for gpt-4 in organization org-Y2tKyCPFO6tIjtCtOVZ7c9tr on tokens per min. Limit: 10000 / min. Please try again in 6ms. Visit https://platform.openai.com/account/rate-limits to learn more.. Retrying Question No. 3 Attempt:(1)\n",
      "Rate limit error: Rate limit reached for gpt-4 in organization org-Y2tKyCPFO6tIjtCtOVZ7c9tr on tokens per min. Limit: 10000 / min. Please try again in 6ms. Visit https://platform.openai.com/account/rate-limits to learn more.. Retrying Question No. 4 Attempt:(1)\n",
      "Rate limit error: Rate limit reached for gpt-4 in organization org-Y2tKyCPFO6tIjtCtOVZ7c9tr on tokens per min. Limit: 10000 / min. Please try again in 6ms. Visit https://platform.openai.com/account/rate-limits to learn more.. Retrying Question No. 5 Attempt:(1)\n",
      "Rate limit error: Rate limit reached for gpt-4 in organization org-Y2tKyCPFO6tIjtCtOVZ7c9tr on tokens per min. Limit: 10000 / min. Please try again in 6ms. Visit https://platform.openai.com/account/rate-limits to learn more.. Retrying Question No. 6 Attempt:(1)\n",
      "Rate limit error: Rate limit reached for gpt-4 in organization org-Y2tKyCPFO6tIjtCtOVZ7c9tr on tokens per min. Limit: 10000 / min. Please try again in 6ms. Visit https://platform.openai.com/account/rate-limits to learn more.. Retrying Question No. 7 Attempt:(1)\n",
      "Rate limit error: Rate limit reached for gpt-4 in organization org-Y2tKyCPFO6tIjtCtOVZ7c9tr on tokens per min. Limit: 10000 / min. Please try again in 6ms. Visit https://platform.openai.com/account/rate-limits to learn more.. Retrying Question No. 7 Attempt:(2)\n",
      "Rate limit error: Rate limit reached for gpt-4 in organization org-Y2tKyCPFO6tIjtCtOVZ7c9tr on tokens per min. Limit: 10000 / min. Please try again in 6ms. Visit https://platform.openai.com/account/rate-limits to learn more.. Retrying Question No. 8 Attempt:(1)\n",
      "Rate limit error: Rate limit reached for gpt-4 in organization org-Y2tKyCPFO6tIjtCtOVZ7c9tr on tokens per min. Limit: 10000 / min. Please try again in 6ms. Visit https://platform.openai.com/account/rate-limits to learn more.. Retrying Question No. 1 Attempt:(1)\n",
      "Rate limit error: Rate limit reached for gpt-4 in organization org-Y2tKyCPFO6tIjtCtOVZ7c9tr on tokens per min. Limit: 10000 / min. Please try again in 6ms. Visit https://platform.openai.com/account/rate-limits to learn more.. Retrying Question No. 4 Attempt:(1)\n",
      "Rate limit error: Rate limit reached for gpt-4 in organization org-Y2tKyCPFO6tIjtCtOVZ7c9tr on tokens per min. Limit: 10000 / min. Please try again in 6ms. Visit https://platform.openai.com/account/rate-limits to learn more.. Retrying Question No. 6 Attempt:(1)\n"
     ]
    },
    {
     "name": "stderr",
     "output_type": "stream",
     "text": [
      "  5%|▍         | 4/87 [18:57<8:34:34, 371.98s/it]"
     ]
    },
    {
     "name": "stdout",
     "output_type": "stream",
     "text": [
      "Rate limit error: Rate limit reached for gpt-4 in organization org-Y2tKyCPFO6tIjtCtOVZ7c9tr on tokens per min. Limit: 10000 / min. Please try again in 6ms. Visit https://platform.openai.com/account/rate-limits to learn more.. Retrying Question No. 0 Attempt:(1)\n",
      "Rate limit error: Rate limit reached for gpt-4 in organization org-Y2tKyCPFO6tIjtCtOVZ7c9tr on tokens per min. Limit: 10000 / min. Please try again in 6ms. Visit https://platform.openai.com/account/rate-limits to learn more.. Retrying Question No. 1 Attempt:(1)\n",
      "Rate limit error: Rate limit reached for gpt-4 in organization org-Y2tKyCPFO6tIjtCtOVZ7c9tr on tokens per min. Limit: 10000 / min. Please try again in 6ms. Visit https://platform.openai.com/account/rate-limits to learn more.. Retrying Question No. 1 Attempt:(2)\n",
      "Rate limit error: Rate limit reached for gpt-4 in organization org-Y2tKyCPFO6tIjtCtOVZ7c9tr on tokens per min. Limit: 10000 / min. Please try again in 6ms. Visit https://platform.openai.com/account/rate-limits to learn more.. Retrying Question No. 2 Attempt:(1)\n",
      "Rate limit error: Rate limit reached for gpt-4 in organization org-Y2tKyCPFO6tIjtCtOVZ7c9tr on tokens per min. Limit: 10000 / min. Please try again in 6ms. Visit https://platform.openai.com/account/rate-limits to learn more.. Retrying Question No. 3 Attempt:(1)\n",
      "Rate limit error: Rate limit reached for gpt-4 in organization org-Y2tKyCPFO6tIjtCtOVZ7c9tr on tokens per min. Limit: 10000 / min. Please try again in 6ms. Visit https://platform.openai.com/account/rate-limits to learn more.. Retrying Question No. 4 Attempt:(1)\n",
      "Rate limit error: Rate limit reached for gpt-4 in organization org-Y2tKyCPFO6tIjtCtOVZ7c9tr on tokens per min. Limit: 10000 / min. Please try again in 6ms. Visit https://platform.openai.com/account/rate-limits to learn more.. Retrying Question No. 5 Attempt:(1)\n",
      "Rate limit error: Rate limit reached for gpt-4 in organization org-Y2tKyCPFO6tIjtCtOVZ7c9tr on tokens per min. Limit: 10000 / min. Please try again in 6ms. Visit https://platform.openai.com/account/rate-limits to learn more.. Retrying Question No. 6 Attempt:(1)\n",
      "Rate limit error: Rate limit reached for gpt-4 in organization org-Y2tKyCPFO6tIjtCtOVZ7c9tr on tokens per min. Limit: 10000 / min. Please try again in 6ms. Visit https://platform.openai.com/account/rate-limits to learn more.. Retrying Question No. 7 Attempt:(1)\n",
      "Rate limit error: Rate limit reached for gpt-4 in organization org-Y2tKyCPFO6tIjtCtOVZ7c9tr on tokens per min. Limit: 10000 / min. Please try again in 6ms. Visit https://platform.openai.com/account/rate-limits to learn more.. Retrying Question No. 8 Attempt:(1)\n",
      "Rate limit error: Rate limit reached for gpt-4 in organization org-Y2tKyCPFO6tIjtCtOVZ7c9tr on tokens per min. Limit: 10000 / min. Please try again in 6ms. Visit https://platform.openai.com/account/rate-limits to learn more.. Retrying Question No. 0 Attempt:(1)\n",
      "Rate limit error: Rate limit reached for gpt-4 in organization org-Y2tKyCPFO6tIjtCtOVZ7c9tr on tokens per min. Limit: 10000 / min. Please try again in 6ms. Visit https://platform.openai.com/account/rate-limits to learn more.. Retrying Question No. 1 Attempt:(1)\n",
      "Rate limit error: Rate limit reached for gpt-4 in organization org-Y2tKyCPFO6tIjtCtOVZ7c9tr on tokens per min. Limit: 10000 / min. Please try again in 6ms. Visit https://platform.openai.com/account/rate-limits to learn more.. Retrying Question No. 3 Attempt:(1)\n",
      "Rate limit error: Rate limit reached for gpt-4 in organization org-Y2tKyCPFO6tIjtCtOVZ7c9tr on tokens per min. Limit: 10000 / min. Please try again in 6ms. Visit https://platform.openai.com/account/rate-limits to learn more.. Retrying Question No. 5 Attempt:(1)\n",
      "Rate limit error: Rate limit reached for gpt-4 in organization org-Y2tKyCPFO6tIjtCtOVZ7c9tr on tokens per min. Limit: 10000 / min. Please try again in 6ms. Visit https://platform.openai.com/account/rate-limits to learn more.. Retrying Question No. 6 Attempt:(1)\n",
      "Rate limit error: Rate limit reached for gpt-4 in organization org-Y2tKyCPFO6tIjtCtOVZ7c9tr on tokens per min. Limit: 10000 / min. Please try again in 6ms. Visit https://platform.openai.com/account/rate-limits to learn more.. Retrying Question No. 8 Attempt:(1)\n"
     ]
    },
    {
     "name": "stderr",
     "output_type": "stream",
     "text": [
      "  6%|▌         | 5/87 [27:27<9:36:26, 421.79s/it]"
     ]
    },
    {
     "name": "stdout",
     "output_type": "stream",
     "text": [
      "Rate limit error: Rate limit reached for gpt-4 in organization org-Y2tKyCPFO6tIjtCtOVZ7c9tr on tokens per min. Limit: 10000 / min. Please try again in 6ms. Visit https://platform.openai.com/account/rate-limits to learn more.. Retrying Question No. 1 Attempt:(1)\n",
      "Rate limit error: Rate limit reached for gpt-4 in organization org-Y2tKyCPFO6tIjtCtOVZ7c9tr on tokens per min. Limit: 10000 / min. Please try again in 6ms. Visit https://platform.openai.com/account/rate-limits to learn more.. Retrying Question No. 4 Attempt:(1)\n",
      "Rate limit error: Rate limit reached for gpt-4 in organization org-Y2tKyCPFO6tIjtCtOVZ7c9tr on tokens per min. Limit: 10000 / min. Please try again in 6ms. Visit https://platform.openai.com/account/rate-limits to learn more.. Retrying Question No. 6 Attempt:(1)\n",
      "Rate limit error: Rate limit reached for gpt-4 in organization org-Y2tKyCPFO6tIjtCtOVZ7c9tr on tokens per min. Limit: 10000 / min. Please try again in 6ms. Visit https://platform.openai.com/account/rate-limits to learn more.. Retrying Question No. 8 Attempt:(1)\n"
     ]
    },
    {
     "name": "stderr",
     "output_type": "stream",
     "text": [
      "  7%|▋         | 6/87 [29:41<7:17:02, 323.74s/it]"
     ]
    },
    {
     "name": "stdout",
     "output_type": "stream",
     "text": [
      "Rate limit error: Rate limit reached for gpt-4 in organization org-Y2tKyCPFO6tIjtCtOVZ7c9tr on tokens per min. Limit: 10000 / min. Please try again in 6ms. Visit https://platform.openai.com/account/rate-limits to learn more.. Retrying Question No. 1 Attempt:(1)\n",
      "Rate limit error: Rate limit reached for gpt-4 in organization org-Y2tKyCPFO6tIjtCtOVZ7c9tr on tokens per min. Limit: 10000 / min. Please try again in 6ms. Visit https://platform.openai.com/account/rate-limits to learn more.. Retrying Question No. 2 Attempt:(1)\n",
      "Rate limit error: Rate limit reached for gpt-4 in organization org-Y2tKyCPFO6tIjtCtOVZ7c9tr on tokens per min. Limit: 10000 / min. Please try again in 6ms. Visit https://platform.openai.com/account/rate-limits to learn more.. Retrying Question No. 3 Attempt:(1)\n",
      "Rate limit error: Rate limit reached for gpt-4 in organization org-Y2tKyCPFO6tIjtCtOVZ7c9tr on tokens per min. Limit: 10000 / min. Please try again in 6ms. Visit https://platform.openai.com/account/rate-limits to learn more.. Retrying Question No. 5 Attempt:(1)\n",
      "Rate limit error: Rate limit reached for gpt-4 in organization org-Y2tKyCPFO6tIjtCtOVZ7c9tr on tokens per min. Limit: 10000 / min. Please try again in 6ms. Visit https://platform.openai.com/account/rate-limits to learn more.. Retrying Question No. 6 Attempt:(1)\n",
      "Rate limit error: Rate limit reached for gpt-4 in organization org-Y2tKyCPFO6tIjtCtOVZ7c9tr on tokens per min. Limit: 10000 / min. Please try again in 6ms. Visit https://platform.openai.com/account/rate-limits to learn more.. Retrying Question No. 7 Attempt:(1)\n",
      "Rate limit error: Rate limit reached for gpt-4 in organization org-Y2tKyCPFO6tIjtCtOVZ7c9tr on tokens per min. Limit: 10000 / min. Please try again in 6ms. Visit https://platform.openai.com/account/rate-limits to learn more.. Retrying Question No. 8 Attempt:(1)\n"
     ]
    },
    {
     "name": "stderr",
     "output_type": "stream",
     "text": [
      "  8%|▊         | 7/87 [33:25<6:28:05, 291.07s/it]"
     ]
    },
    {
     "name": "stdout",
     "output_type": "stream",
     "text": [
      "Rate limit error: Rate limit reached for gpt-4 in organization org-Y2tKyCPFO6tIjtCtOVZ7c9tr on tokens per min. Limit: 10000 / min. Please try again in 6ms. Visit https://platform.openai.com/account/rate-limits to learn more.. Retrying Question No. 1 Attempt:(1)\n",
      "Rate limit error: Rate limit reached for gpt-4 in organization org-Y2tKyCPFO6tIjtCtOVZ7c9tr on tokens per min. Limit: 10000 / min. Please try again in 6ms. Visit https://platform.openai.com/account/rate-limits to learn more.. Retrying Question No. 4 Attempt:(1)\n",
      "Rate limit error: Rate limit reached for gpt-4 in organization org-Y2tKyCPFO6tIjtCtOVZ7c9tr on tokens per min. Limit: 10000 / min. Please try again in 6ms. Visit https://platform.openai.com/account/rate-limits to learn more.. Retrying Question No. 6 Attempt:(1)\n",
      "Rate limit error: Rate limit reached for gpt-4 in organization org-Y2tKyCPFO6tIjtCtOVZ7c9tr on tokens per min. Limit: 10000 / min. Please try again in 6ms. Visit https://platform.openai.com/account/rate-limits to learn more.. Retrying Question No. 8 Attempt:(1)\n"
     ]
    },
    {
     "name": "stderr",
     "output_type": "stream",
     "text": [
      "  9%|▉         | 8/87 [35:38<5:17:03, 240.80s/it]"
     ]
    },
    {
     "name": "stdout",
     "output_type": "stream",
     "text": [
      "Rate limit error: Rate limit reached for gpt-4 in organization org-Y2tKyCPFO6tIjtCtOVZ7c9tr on tokens per min. Limit: 10000 / min. Please try again in 6ms. Visit https://platform.openai.com/account/rate-limits to learn more.. Retrying Question No. 0 Attempt:(1)\n",
      "Rate limit error: Rate limit reached for gpt-4 in organization org-Y2tKyCPFO6tIjtCtOVZ7c9tr on tokens per min. Limit: 10000 / min. Please try again in 6ms. Visit https://platform.openai.com/account/rate-limits to learn more.. Retrying Question No. 2 Attempt:(1)\n",
      "Rate limit error: Rate limit reached for gpt-4 in organization org-Y2tKyCPFO6tIjtCtOVZ7c9tr on tokens per min. Limit: 10000 / min. Please try again in 6ms. Visit https://platform.openai.com/account/rate-limits to learn more.. Retrying Question No. 3 Attempt:(1)\n",
      "Rate limit error: Rate limit reached for gpt-4 in organization org-Y2tKyCPFO6tIjtCtOVZ7c9tr on tokens per min. Limit: 10000 / min. Please try again in 6ms. Visit https://platform.openai.com/account/rate-limits to learn more.. Retrying Question No. 4 Attempt:(1)\n",
      "Rate limit error: Rate limit reached for gpt-4 in organization org-Y2tKyCPFO6tIjtCtOVZ7c9tr on tokens per min. Limit: 10000 / min. Please try again in 6ms. Visit https://platform.openai.com/account/rate-limits to learn more.. Retrying Question No. 5 Attempt:(1)\n",
      "Rate limit error: Rate limit reached for gpt-4 in organization org-Y2tKyCPFO6tIjtCtOVZ7c9tr on tokens per min. Limit: 10000 / min. Please try again in 6ms. Visit https://platform.openai.com/account/rate-limits to learn more.. Retrying Question No. 6 Attempt:(1)\n",
      "Rate limit error: Rate limit reached for gpt-4 in organization org-Y2tKyCPFO6tIjtCtOVZ7c9tr on tokens per min. Limit: 10000 / min. Please try again in 6ms. Visit https://platform.openai.com/account/rate-limits to learn more.. Retrying Question No. 8 Attempt:(1)\n"
     ]
    },
    {
     "name": "stderr",
     "output_type": "stream",
     "text": [
      " 11%|█▏        | 10/87 [39:22<3:50:13, 179.39s/it]"
     ]
    },
    {
     "name": "stdout",
     "output_type": "stream",
     "text": [
      "Rate limit error: Rate limit reached for gpt-4 in organization org-Y2tKyCPFO6tIjtCtOVZ7c9tr on tokens per min. Limit: 10000 / min. Please try again in 6ms. Visit https://platform.openai.com/account/rate-limits to learn more.. Retrying Question No. 0 Attempt:(1)\n",
      "Rate limit error: Rate limit reached for gpt-4 in organization org-Y2tKyCPFO6tIjtCtOVZ7c9tr on tokens per min. Limit: 10000 / min. Please try again in 6ms. Visit https://platform.openai.com/account/rate-limits to learn more.. Retrying Question No. 1 Attempt:(1)\n",
      "Rate limit error: Rate limit reached for gpt-4 in organization org-Y2tKyCPFO6tIjtCtOVZ7c9tr on tokens per min. Limit: 10000 / min. Please try again in 6ms. Visit https://platform.openai.com/account/rate-limits to learn more.. Retrying Question No. 2 Attempt:(1)\n",
      "Rate limit error: Rate limit reached for gpt-4 in organization org-Y2tKyCPFO6tIjtCtOVZ7c9tr on tokens per min. Limit: 10000 / min. Please try again in 6ms. Visit https://platform.openai.com/account/rate-limits to learn more.. Retrying Question No. 3 Attempt:(1)\n",
      "Rate limit error: Rate limit reached for gpt-4 in organization org-Y2tKyCPFO6tIjtCtOVZ7c9tr on tokens per min. Limit: 10000 / min. Please try again in 6ms. Visit https://platform.openai.com/account/rate-limits to learn more.. Retrying Question No. 3 Attempt:(2)\n",
      "Rate limit error: Rate limit reached for gpt-4 in organization org-Y2tKyCPFO6tIjtCtOVZ7c9tr on tokens per min. Limit: 10000 / min. Please try again in 6ms. Visit https://platform.openai.com/account/rate-limits to learn more.. Retrying Question No. 4 Attempt:(1)\n",
      "Rate limit error: Rate limit reached for gpt-4 in organization org-Y2tKyCPFO6tIjtCtOVZ7c9tr on tokens per min. Limit: 10000 / min. Please try again in 6ms. Visit https://platform.openai.com/account/rate-limits to learn more.. Retrying Question No. 5 Attempt:(1)\n",
      "Rate limit error: Rate limit reached for gpt-4 in organization org-Y2tKyCPFO6tIjtCtOVZ7c9tr on tokens per min. Limit: 10000 / min. Please try again in 6ms. Visit https://platform.openai.com/account/rate-limits to learn more.. Retrying Question No. 6 Attempt:(1)\n",
      "Rate limit error: Rate limit reached for gpt-4 in organization org-Y2tKyCPFO6tIjtCtOVZ7c9tr on tokens per min. Limit: 10000 / min. Please try again in 6ms. Visit https://platform.openai.com/account/rate-limits to learn more.. Retrying Question No. 7 Attempt:(1)\n",
      "Rate limit error: Rate limit reached for gpt-4 in organization org-Y2tKyCPFO6tIjtCtOVZ7c9tr on tokens per min. Limit: 10000 / min. Please try again in 6ms. Visit https://platform.openai.com/account/rate-limits to learn more.. Retrying Question No. 8 Attempt:(1)\n"
     ]
    },
    {
     "name": "stderr",
     "output_type": "stream",
     "text": [
      " 13%|█▎        | 11/87 [44:41<4:32:13, 214.92s/it]"
     ]
    },
    {
     "name": "stdout",
     "output_type": "stream",
     "text": [
      "Rate limit error: Rate limit reached for gpt-4 in organization org-Y2tKyCPFO6tIjtCtOVZ7c9tr on tokens per min. Limit: 10000 / min. Please try again in 6ms. Visit https://platform.openai.com/account/rate-limits to learn more.. Retrying Question No. 0 Attempt:(1)\n",
      "Rate limit error: Rate limit reached for gpt-4 in organization org-Y2tKyCPFO6tIjtCtOVZ7c9tr on tokens per min. Limit: 10000 / min. Please try again in 6ms. Visit https://platform.openai.com/account/rate-limits to learn more.. Retrying Question No. 1 Attempt:(1)\n",
      "Rate limit error: Rate limit reached for gpt-4 in organization org-Y2tKyCPFO6tIjtCtOVZ7c9tr on tokens per min. Limit: 10000 / min. Please try again in 6ms. Visit https://platform.openai.com/account/rate-limits to learn more.. Retrying Question No. 2 Attempt:(1)\n",
      "Rate limit error: Rate limit reached for gpt-4 in organization org-Y2tKyCPFO6tIjtCtOVZ7c9tr on tokens per min. Limit: 10000 / min. Please try again in 6ms. Visit https://platform.openai.com/account/rate-limits to learn more.. Retrying Question No. 3 Attempt:(1)\n",
      "Rate limit error: Rate limit reached for gpt-4 in organization org-Y2tKyCPFO6tIjtCtOVZ7c9tr on tokens per min. Limit: 10000 / min. Please try again in 6ms. Visit https://platform.openai.com/account/rate-limits to learn more.. Retrying Question No. 4 Attempt:(1)\n",
      "Rate limit error: Rate limit reached for gpt-4 in organization org-Y2tKyCPFO6tIjtCtOVZ7c9tr on tokens per min. Limit: 10000 / min. Please try again in 6ms. Visit https://platform.openai.com/account/rate-limits to learn more.. Retrying Question No. 5 Attempt:(1)\n",
      "Rate limit error: Rate limit reached for gpt-4 in organization org-Y2tKyCPFO6tIjtCtOVZ7c9tr on tokens per min. Limit: 10000 / min. Please try again in 6ms. Visit https://platform.openai.com/account/rate-limits to learn more.. Retrying Question No. 6 Attempt:(1)\n",
      "Rate limit error: Rate limit reached for gpt-4 in organization org-Y2tKyCPFO6tIjtCtOVZ7c9tr on tokens per min. Limit: 10000 / min. Please try again in 6ms. Visit https://platform.openai.com/account/rate-limits to learn more.. Retrying Question No. 6 Attempt:(2)\n",
      "Rate limit error: Rate limit reached for gpt-4 in organization org-Y2tKyCPFO6tIjtCtOVZ7c9tr on tokens per min. Limit: 10000 / min. Please try again in 6ms. Visit https://platform.openai.com/account/rate-limits to learn more.. Retrying Question No. 7 Attempt:(1)\n",
      "Rate limit error: Rate limit reached for gpt-4 in organization org-Y2tKyCPFO6tIjtCtOVZ7c9tr on tokens per min. Limit: 10000 / min. Please try again in 6ms. Visit https://platform.openai.com/account/rate-limits to learn more.. Retrying Question No. 8 Attempt:(1)\n",
      "Rate limit error: Rate limit reached for gpt-4 in organization org-Y2tKyCPFO6tIjtCtOVZ7c9tr on tokens per min. Limit: 10000 / min. Please try again in 6ms. Visit https://platform.openai.com/account/rate-limits to learn more.. Retrying Question No. 4 Attempt:(1)\n"
     ]
    },
    {
     "name": "stderr",
     "output_type": "stream",
     "text": [
      " 14%|█▍        | 12/87 [50:35<5:14:57, 251.96s/it]"
     ]
    },
    {
     "name": "stdout",
     "output_type": "stream",
     "text": [
      "Rate limit error: Rate limit reached for gpt-4 in organization org-Y2tKyCPFO6tIjtCtOVZ7c9tr on tokens per min. Limit: 10000 / min. Please try again in 6ms. Visit https://platform.openai.com/account/rate-limits to learn more.. Retrying Question No. 0 Attempt:(1)\n",
      "Rate limit error: Rate limit reached for gpt-4 in organization org-Y2tKyCPFO6tIjtCtOVZ7c9tr on tokens per min. Limit: 10000 / min. Please try again in 6ms. Visit https://platform.openai.com/account/rate-limits to learn more.. Retrying Question No. 2 Attempt:(1)\n",
      "Rate limit error: Rate limit reached for gpt-4 in organization org-Y2tKyCPFO6tIjtCtOVZ7c9tr on tokens per min. Limit: 10000 / min. Please try again in 6ms. Visit https://platform.openai.com/account/rate-limits to learn more.. Retrying Question No. 4 Attempt:(1)\n",
      "Rate limit error: Rate limit reached for gpt-4 in organization org-Y2tKyCPFO6tIjtCtOVZ7c9tr on tokens per min. Limit: 10000 / min. Please try again in 6ms. Visit https://platform.openai.com/account/rate-limits to learn more.. Retrying Question No. 6 Attempt:(1)\n",
      "Rate limit error: Rate limit reached for gpt-4 in organization org-Y2tKyCPFO6tIjtCtOVZ7c9tr on tokens per min. Limit: 10000 / min. Please try again in 6ms. Visit https://platform.openai.com/account/rate-limits to learn more.. Retrying Question No. 8 Attempt:(1)\n"
     ]
    },
    {
     "name": "stderr",
     "output_type": "stream",
     "text": [
      " 15%|█▍        | 13/87 [53:19<4:40:44, 227.62s/it]"
     ]
    },
    {
     "name": "stdout",
     "output_type": "stream",
     "text": [
      "Rate limit error: Rate limit reached for gpt-4 in organization org-Y2tKyCPFO6tIjtCtOVZ7c9tr on tokens per min. Limit: 10000 / min. Please try again in 6ms. Visit https://platform.openai.com/account/rate-limits to learn more.. Retrying Question No. 0 Attempt:(1)\n",
      "Rate limit error: Rate limit reached for gpt-4 in organization org-Y2tKyCPFO6tIjtCtOVZ7c9tr on tokens per min. Limit: 10000 / min. Please try again in 6ms. Visit https://platform.openai.com/account/rate-limits to learn more.. Retrying Question No. 1 Attempt:(1)\n",
      "Rate limit error: Rate limit reached for gpt-4 in organization org-Y2tKyCPFO6tIjtCtOVZ7c9tr on tokens per min. Limit: 10000 / min. Please try again in 6ms. Visit https://platform.openai.com/account/rate-limits to learn more.. Retrying Question No. 2 Attempt:(1)\n",
      "Rate limit error: Rate limit reached for gpt-4 in organization org-Y2tKyCPFO6tIjtCtOVZ7c9tr on tokens per min. Limit: 10000 / min. Please try again in 6ms. Visit https://platform.openai.com/account/rate-limits to learn more.. Retrying Question No. 3 Attempt:(1)\n",
      "Rate limit error: Rate limit reached for gpt-4 in organization org-Y2tKyCPFO6tIjtCtOVZ7c9tr on tokens per min. Limit: 10000 / min. Please try again in 6ms. Visit https://platform.openai.com/account/rate-limits to learn more.. Retrying Question No. 4 Attempt:(1)\n",
      "Rate limit error: Rate limit reached for gpt-4 in organization org-Y2tKyCPFO6tIjtCtOVZ7c9tr on tokens per min. Limit: 10000 / min. Please try again in 6ms. Visit https://platform.openai.com/account/rate-limits to learn more.. Retrying Question No. 5 Attempt:(1)\n",
      "Rate limit error: Rate limit reached for gpt-4 in organization org-Y2tKyCPFO6tIjtCtOVZ7c9tr on tokens per min. Limit: 10000 / min. Please try again in 6ms. Visit https://platform.openai.com/account/rate-limits to learn more.. Retrying Question No. 6 Attempt:(1)\n",
      "Rate limit error: Rate limit reached for gpt-4 in organization org-Y2tKyCPFO6tIjtCtOVZ7c9tr on tokens per min. Limit: 10000 / min. Please try again in 6ms. Visit https://platform.openai.com/account/rate-limits to learn more.. Retrying Question No. 7 Attempt:(1)\n",
      "Rate limit error: Rate limit reached for gpt-4 in organization org-Y2tKyCPFO6tIjtCtOVZ7c9tr on tokens per min. Limit: 10000 / min. Please try again in 6ms. Visit https://platform.openai.com/account/rate-limits to learn more.. Retrying Question No. 8 Attempt:(1)\n",
      "Rate limit error: Rate limit reached for gpt-4 in organization org-Y2tKyCPFO6tIjtCtOVZ7c9tr on tokens per min. Limit: 10000 / min. Please try again in 6ms. Visit https://platform.openai.com/account/rate-limits to learn more.. Retrying Question No. 1 Attempt:(1)\n",
      "Rate limit error: Rate limit reached for gpt-4 in organization org-Y2tKyCPFO6tIjtCtOVZ7c9tr on tokens per min. Limit: 10000 / min. Please try again in 6ms. Visit https://platform.openai.com/account/rate-limits to learn more.. Retrying Question No. 5 Attempt:(1)\n"
     ]
    },
    {
     "name": "stderr",
     "output_type": "stream",
     "text": [
      " 16%|█▌        | 14/87 [59:16<5:21:38, 264.36s/it]"
     ]
    },
    {
     "name": "stdout",
     "output_type": "stream",
     "text": [
      "Rate limit error: Rate limit reached for gpt-4 in organization org-Y2tKyCPFO6tIjtCtOVZ7c9tr on tokens per min. Limit: 10000 / min. Please try again in 6ms. Visit https://platform.openai.com/account/rate-limits to learn more.. Retrying Question No. 0 Attempt:(1)\n",
      "Rate limit error: Rate limit reached for gpt-4 in organization org-Y2tKyCPFO6tIjtCtOVZ7c9tr on tokens per min. Limit: 10000 / min. Please try again in 6ms. Visit https://platform.openai.com/account/rate-limits to learn more.. Retrying Question No. 1 Attempt:(1)\n",
      "Rate limit error: Rate limit reached for gpt-4 in organization org-Y2tKyCPFO6tIjtCtOVZ7c9tr on tokens per min. Limit: 10000 / min. Please try again in 6ms. Visit https://platform.openai.com/account/rate-limits to learn more.. Retrying Question No. 2 Attempt:(1)\n",
      "Rate limit error: Rate limit reached for gpt-4 in organization org-Y2tKyCPFO6tIjtCtOVZ7c9tr on tokens per min. Limit: 10000 / min. Please try again in 6ms. Visit https://platform.openai.com/account/rate-limits to learn more.. Retrying Question No. 3 Attempt:(1)\n",
      "Rate limit error: Rate limit reached for gpt-4 in organization org-Y2tKyCPFO6tIjtCtOVZ7c9tr on tokens per min. Limit: 10000 / min. Please try again in 6ms. Visit https://platform.openai.com/account/rate-limits to learn more.. Retrying Question No. 4 Attempt:(1)\n",
      "Rate limit error: Rate limit reached for gpt-4 in organization org-Y2tKyCPFO6tIjtCtOVZ7c9tr on tokens per min. Limit: 10000 / min. Please try again in 6ms. Visit https://platform.openai.com/account/rate-limits to learn more.. Retrying Question No. 5 Attempt:(1)\n",
      "Rate limit error: Rate limit reached for gpt-4 in organization org-Y2tKyCPFO6tIjtCtOVZ7c9tr on tokens per min. Limit: 10000 / min. Please try again in 6ms. Visit https://platform.openai.com/account/rate-limits to learn more.. Retrying Question No. 6 Attempt:(1)\n",
      "Rate limit error: Rate limit reached for gpt-4 in organization org-Y2tKyCPFO6tIjtCtOVZ7c9tr on tokens per min. Limit: 10000 / min. Please try again in 6ms. Visit https://platform.openai.com/account/rate-limits to learn more.. Retrying Question No. 7 Attempt:(1)\n",
      "Rate limit error: Rate limit reached for gpt-4 in organization org-Y2tKyCPFO6tIjtCtOVZ7c9tr on tokens per min. Limit: 10000 / min. Please try again in 6ms. Visit https://platform.openai.com/account/rate-limits to learn more.. Retrying Question No. 8 Attempt:(1)\n"
     ]
    },
    {
     "name": "stderr",
     "output_type": "stream",
     "text": [
      " 17%|█▋        | 15/87 [1:04:01<5:24:09, 270.13s/it]"
     ]
    },
    {
     "name": "stdout",
     "output_type": "stream",
     "text": [
      "Rate limit error: Rate limit reached for gpt-4 in organization org-Y2tKyCPFO6tIjtCtOVZ7c9tr on tokens per min. Limit: 10000 / min. Please try again in 6ms. Visit https://platform.openai.com/account/rate-limits to learn more.. Retrying Question No. 0 Attempt:(1)\n",
      "Rate limit error: Rate limit reached for gpt-4 in organization org-Y2tKyCPFO6tIjtCtOVZ7c9tr on tokens per min. Limit: 10000 / min. Please try again in 6ms. Visit https://platform.openai.com/account/rate-limits to learn more.. Retrying Question No. 1 Attempt:(1)\n",
      "Rate limit error: Rate limit reached for gpt-4 in organization org-Y2tKyCPFO6tIjtCtOVZ7c9tr on tokens per min. Limit: 10000 / min. Please try again in 6ms. Visit https://platform.openai.com/account/rate-limits to learn more.. Retrying Question No. 1 Attempt:(2)\n",
      "Rate limit error: Rate limit reached for gpt-4 in organization org-Y2tKyCPFO6tIjtCtOVZ7c9tr on tokens per min. Limit: 10000 / min. Please try again in 6ms. Visit https://platform.openai.com/account/rate-limits to learn more.. Retrying Question No. 2 Attempt:(1)\n",
      "Rate limit error: Rate limit reached for gpt-4 in organization org-Y2tKyCPFO6tIjtCtOVZ7c9tr on tokens per min. Limit: 10000 / min. Please try again in 6ms. Visit https://platform.openai.com/account/rate-limits to learn more.. Retrying Question No. 3 Attempt:(1)\n",
      "Rate limit error: Rate limit reached for gpt-4 in organization org-Y2tKyCPFO6tIjtCtOVZ7c9tr on tokens per min. Limit: 10000 / min. Please try again in 6ms. Visit https://platform.openai.com/account/rate-limits to learn more.. Retrying Question No. 4 Attempt:(1)\n",
      "Rate limit error: Rate limit reached for gpt-4 in organization org-Y2tKyCPFO6tIjtCtOVZ7c9tr on tokens per min. Limit: 10000 / min. Please try again in 6ms. Visit https://platform.openai.com/account/rate-limits to learn more.. Retrying Question No. 5 Attempt:(1)\n",
      "Rate limit error: Rate limit reached for gpt-4 in organization org-Y2tKyCPFO6tIjtCtOVZ7c9tr on tokens per min. Limit: 10000 / min. Please try again in 6ms. Visit https://platform.openai.com/account/rate-limits to learn more.. Retrying Question No. 6 Attempt:(1)\n",
      "Rate limit error: Rate limit reached for gpt-4 in organization org-Y2tKyCPFO6tIjtCtOVZ7c9tr on tokens per min. Limit: 10000 / min. Please try again in 6ms. Visit https://platform.openai.com/account/rate-limits to learn more.. Retrying Question No. 7 Attempt:(1)\n",
      "Rate limit error: Rate limit reached for gpt-4 in organization org-Y2tKyCPFO6tIjtCtOVZ7c9tr on tokens per min. Limit: 10000 / min. Please try again in 6ms. Visit https://platform.openai.com/account/rate-limits to learn more.. Retrying Question No. 8 Attempt:(1)\n",
      "Rate limit error: Rate limit reached for gpt-4 in organization org-Y2tKyCPFO6tIjtCtOVZ7c9tr on tokens per min. Limit: 10000 / min. Please try again in 6ms. Visit https://platform.openai.com/account/rate-limits to learn more.. Retrying Question No. 0 Attempt:(1)\n",
      "Rate limit error: Rate limit reached for gpt-4 in organization org-Y2tKyCPFO6tIjtCtOVZ7c9tr on tokens per min. Limit: 10000 / min. Please try again in 6ms. Visit https://platform.openai.com/account/rate-limits to learn more.. Retrying Question No. 4 Attempt:(1)\n",
      "Rate limit error: Rate limit reached for gpt-4 in organization org-Y2tKyCPFO6tIjtCtOVZ7c9tr on tokens per min. Limit: 10000 / min. Please try again in 6ms. Visit https://platform.openai.com/account/rate-limits to learn more.. Retrying Question No. 7 Attempt:(1)\n"
     ]
    },
    {
     "name": "stderr",
     "output_type": "stream",
     "text": [
      " 18%|█▊        | 16/87 [1:10:58<6:10:18, 312.94s/it]"
     ]
    },
    {
     "name": "stdout",
     "output_type": "stream",
     "text": [
      "Rate limit error: Rate limit reached for gpt-4 in organization org-Y2tKyCPFO6tIjtCtOVZ7c9tr on tokens per min. Limit: 10000 / min. Please try again in 6ms. Visit https://platform.openai.com/account/rate-limits to learn more.. Retrying Question No. 0 Attempt:(1)\n",
      "Rate limit error: Rate limit reached for gpt-4 in organization org-Y2tKyCPFO6tIjtCtOVZ7c9tr on tokens per min. Limit: 10000 / min. Please try again in 6ms. Visit https://platform.openai.com/account/rate-limits to learn more.. Retrying Question No. 1 Attempt:(1)\n",
      "Rate limit error: Rate limit reached for gpt-4 in organization org-Y2tKyCPFO6tIjtCtOVZ7c9tr on tokens per min. Limit: 10000 / min. Please try again in 6ms. Visit https://platform.openai.com/account/rate-limits to learn more.. Retrying Question No. 2 Attempt:(1)\n",
      "Rate limit error: Rate limit reached for gpt-4 in organization org-Y2tKyCPFO6tIjtCtOVZ7c9tr on tokens per min. Limit: 10000 / min. Please try again in 6ms. Visit https://platform.openai.com/account/rate-limits to learn more.. Retrying Question No. 3 Attempt:(1)\n",
      "Rate limit error: Rate limit reached for gpt-4 in organization org-Y2tKyCPFO6tIjtCtOVZ7c9tr on tokens per min. Limit: 10000 / min. Please try again in 6ms. Visit https://platform.openai.com/account/rate-limits to learn more.. Retrying Question No. 4 Attempt:(1)\n",
      "Rate limit error: Rate limit reached for gpt-4 in organization org-Y2tKyCPFO6tIjtCtOVZ7c9tr on tokens per min. Limit: 10000 / min. Please try again in 6ms. Visit https://platform.openai.com/account/rate-limits to learn more.. Retrying Question No. 5 Attempt:(1)\n",
      "Rate limit error: Rate limit reached for gpt-4 in organization org-Y2tKyCPFO6tIjtCtOVZ7c9tr on tokens per min. Limit: 10000 / min. Please try again in 6ms. Visit https://platform.openai.com/account/rate-limits to learn more.. Retrying Question No. 6 Attempt:(1)\n",
      "Rate limit error: Rate limit reached for gpt-4 in organization org-Y2tKyCPFO6tIjtCtOVZ7c9tr on tokens per min. Limit: 10000 / min. Please try again in 6ms. Visit https://platform.openai.com/account/rate-limits to learn more.. Retrying Question No. 7 Attempt:(1)\n",
      "Rate limit error: Rate limit reached for gpt-4 in organization org-Y2tKyCPFO6tIjtCtOVZ7c9tr on tokens per min. Limit: 10000 / min. Please try again in 6ms. Visit https://platform.openai.com/account/rate-limits to learn more.. Retrying Question No. 7 Attempt:(2)\n",
      "Rate limit error: Rate limit reached for gpt-4 in organization org-Y2tKyCPFO6tIjtCtOVZ7c9tr on tokens per min. Limit: 10000 / min. Please try again in 6ms. Visit https://platform.openai.com/account/rate-limits to learn more.. Retrying Question No. 8 Attempt:(1)\n",
      "Rate limit error: Rate limit reached for gpt-4 in organization org-Y2tKyCPFO6tIjtCtOVZ7c9tr on tokens per min. Limit: 10000 / min. Please try again in 6ms. Visit https://platform.openai.com/account/rate-limits to learn more.. Retrying Question No. 0 Attempt:(1)\n",
      "Rate limit error: Rate limit reached for gpt-4 in organization org-Y2tKyCPFO6tIjtCtOVZ7c9tr on tokens per min. Limit: 10000 / min. Please try again in 6ms. Visit https://platform.openai.com/account/rate-limits to learn more.. Retrying Question No. 1 Attempt:(1)\n",
      "Rate limit error: Rate limit reached for gpt-4 in organization org-Y2tKyCPFO6tIjtCtOVZ7c9tr on tokens per min. Limit: 10000 / min. Please try again in 6ms. Visit https://platform.openai.com/account/rate-limits to learn more.. Retrying Question No. 2 Attempt:(1)\n",
      "Rate limit error: Rate limit reached for gpt-4 in organization org-Y2tKyCPFO6tIjtCtOVZ7c9tr on tokens per min. Limit: 10000 / min. Please try again in 6ms. Visit https://platform.openai.com/account/rate-limits to learn more.. Retrying Question No. 3 Attempt:(1)\n",
      "Rate limit error: Rate limit reached for gpt-4 in organization org-Y2tKyCPFO6tIjtCtOVZ7c9tr on tokens per min. Limit: 10000 / min. Please try again in 6ms. Visit https://platform.openai.com/account/rate-limits to learn more.. Retrying Question No. 4 Attempt:(1)\n",
      "Rate limit error: Rate limit reached for gpt-4 in organization org-Y2tKyCPFO6tIjtCtOVZ7c9tr on tokens per min. Limit: 10000 / min. Please try again in 6ms. Visit https://platform.openai.com/account/rate-limits to learn more.. Retrying Question No. 5 Attempt:(1)\n",
      "Rate limit error: Rate limit reached for gpt-4 in organization org-Y2tKyCPFO6tIjtCtOVZ7c9tr on tokens per min. Limit: 10000 / min. Please try again in 6ms. Visit https://platform.openai.com/account/rate-limits to learn more.. Retrying Question No. 6 Attempt:(1)\n",
      "Rate limit error: Rate limit reached for gpt-4 in organization org-Y2tKyCPFO6tIjtCtOVZ7c9tr on tokens per min. Limit: 10000 / min. Please try again in 6ms. Visit https://platform.openai.com/account/rate-limits to learn more.. Retrying Question No. 7 Attempt:(1)\n",
      "Rate limit error: Rate limit reached for gpt-4 in organization org-Y2tKyCPFO6tIjtCtOVZ7c9tr on tokens per min. Limit: 10000 / min. Please try again in 6ms. Visit https://platform.openai.com/account/rate-limits to learn more.. Retrying Question No. 8 Attempt:(1)\n",
      "Rate limit error: Rate limit reached for gpt-4 in organization org-Y2tKyCPFO6tIjtCtOVZ7c9tr on tokens per min. Limit: 10000 / min. Please try again in 6ms. Visit https://platform.openai.com/account/rate-limits to learn more.. Retrying Question No. 1 Attempt:(1)\n",
      "Rate limit error: Rate limit reached for gpt-4 in organization org-Y2tKyCPFO6tIjtCtOVZ7c9tr on tokens per min. Limit: 10000 / min. Please try again in 6ms. Visit https://platform.openai.com/account/rate-limits to learn more.. Retrying Question No. 6 Attempt:(1)\n"
     ]
    },
    {
     "name": "stderr",
     "output_type": "stream",
     "text": [
      " 20%|█▉        | 17/87 [1:22:10<8:08:01, 418.31s/it]"
     ]
    },
    {
     "name": "stdout",
     "output_type": "stream",
     "text": [
      "Rate limit error: Rate limit reached for gpt-4 in organization org-Y2tKyCPFO6tIjtCtOVZ7c9tr on tokens per min. Limit: 10000 / min. Please try again in 6ms. Visit https://platform.openai.com/account/rate-limits to learn more.. Retrying Question No. 0 Attempt:(1)\n",
      "Rate limit error: Rate limit reached for gpt-4 in organization org-Y2tKyCPFO6tIjtCtOVZ7c9tr on tokens per min. Limit: 10000 / min. Please try again in 6ms. Visit https://platform.openai.com/account/rate-limits to learn more.. Retrying Question No. 1 Attempt:(1)\n",
      "Rate limit error: Rate limit reached for gpt-4 in organization org-Y2tKyCPFO6tIjtCtOVZ7c9tr on tokens per min. Limit: 10000 / min. Please try again in 6ms. Visit https://platform.openai.com/account/rate-limits to learn more.. Retrying Question No. 2 Attempt:(1)\n",
      "Rate limit error: Rate limit reached for gpt-4 in organization org-Y2tKyCPFO6tIjtCtOVZ7c9tr on tokens per min. Limit: 10000 / min. Please try again in 6ms. Visit https://platform.openai.com/account/rate-limits to learn more.. Retrying Question No. 3 Attempt:(1)\n",
      "Rate limit error: Rate limit reached for gpt-4 in organization org-Y2tKyCPFO6tIjtCtOVZ7c9tr on tokens per min. Limit: 10000 / min. Please try again in 6ms. Visit https://platform.openai.com/account/rate-limits to learn more.. Retrying Question No. 5 Attempt:(1)\n",
      "Rate limit error: Rate limit reached for gpt-4 in organization org-Y2tKyCPFO6tIjtCtOVZ7c9tr on tokens per min. Limit: 10000 / min. Please try again in 6ms. Visit https://platform.openai.com/account/rate-limits to learn more.. Retrying Question No. 6 Attempt:(1)\n",
      "Rate limit error: Rate limit reached for gpt-4 in organization org-Y2tKyCPFO6tIjtCtOVZ7c9tr on tokens per min. Limit: 10000 / min. Please try again in 6ms. Visit https://platform.openai.com/account/rate-limits to learn more.. Retrying Question No. 7 Attempt:(1)\n",
      "Rate limit error: Rate limit reached for gpt-4 in organization org-Y2tKyCPFO6tIjtCtOVZ7c9tr on tokens per min. Limit: 10000 / min. Please try again in 6ms. Visit https://platform.openai.com/account/rate-limits to learn more.. Retrying Question No. 8 Attempt:(1)\n"
     ]
    },
    {
     "name": "stderr",
     "output_type": "stream",
     "text": [
      " 21%|██        | 18/87 [1:26:25<7:05:40, 370.16s/it]"
     ]
    },
    {
     "name": "stdout",
     "output_type": "stream",
     "text": [
      "Rate limit error: Rate limit reached for gpt-4 in organization org-Y2tKyCPFO6tIjtCtOVZ7c9tr on tokens per min. Limit: 10000 / min. Please try again in 6ms. Visit https://platform.openai.com/account/rate-limits to learn more.. Retrying Question No. 0 Attempt:(1)\n",
      "Rate limit error: Rate limit reached for gpt-4 in organization org-Y2tKyCPFO6tIjtCtOVZ7c9tr on tokens per min. Limit: 10000 / min. Please try again in 6ms. Visit https://platform.openai.com/account/rate-limits to learn more.. Retrying Question No. 1 Attempt:(1)\n",
      "Rate limit error: Rate limit reached for gpt-4 in organization org-Y2tKyCPFO6tIjtCtOVZ7c9tr on tokens per min. Limit: 10000 / min. Please try again in 6ms. Visit https://platform.openai.com/account/rate-limits to learn more.. Retrying Question No. 2 Attempt:(1)\n",
      "Rate limit error: Rate limit reached for gpt-4 in organization org-Y2tKyCPFO6tIjtCtOVZ7c9tr on tokens per min. Limit: 10000 / min. Please try again in 6ms. Visit https://platform.openai.com/account/rate-limits to learn more.. Retrying Question No. 3 Attempt:(1)\n",
      "Rate limit error: Rate limit reached for gpt-4 in organization org-Y2tKyCPFO6tIjtCtOVZ7c9tr on tokens per min. Limit: 10000 / min. Please try again in 6ms. Visit https://platform.openai.com/account/rate-limits to learn more.. Retrying Question No. 4 Attempt:(1)\n",
      "Rate limit error: Rate limit reached for gpt-4 in organization org-Y2tKyCPFO6tIjtCtOVZ7c9tr on tokens per min. Limit: 10000 / min. Please try again in 6ms. Visit https://platform.openai.com/account/rate-limits to learn more.. Retrying Question No. 5 Attempt:(1)\n",
      "Rate limit error: Rate limit reached for gpt-4 in organization org-Y2tKyCPFO6tIjtCtOVZ7c9tr on tokens per min. Limit: 10000 / min. Please try again in 6ms. Visit https://platform.openai.com/account/rate-limits to learn more.. Retrying Question No. 6 Attempt:(1)\n",
      "Rate limit error: Rate limit reached for gpt-4 in organization org-Y2tKyCPFO6tIjtCtOVZ7c9tr on tokens per min. Limit: 10000 / min. Please try again in 6ms. Visit https://platform.openai.com/account/rate-limits to learn more.. Retrying Question No. 6 Attempt:(2)\n",
      "Rate limit error: Rate limit reached for gpt-4 in organization org-Y2tKyCPFO6tIjtCtOVZ7c9tr on tokens per min. Limit: 10000 / min. Please try again in 6ms. Visit https://platform.openai.com/account/rate-limits to learn more.. Retrying Question No. 7 Attempt:(1)\n",
      "Rate limit error: Rate limit reached for gpt-4 in organization org-Y2tKyCPFO6tIjtCtOVZ7c9tr on tokens per min. Limit: 10000 / min. Please try again in 6ms. Visit https://platform.openai.com/account/rate-limits to learn more.. Retrying Question No. 8 Attempt:(1)\n",
      "Rate limit error: Rate limit reached for gpt-4 in organization org-Y2tKyCPFO6tIjtCtOVZ7c9tr on tokens per min. Limit: 10000 / min. Please try again in 6ms. Visit https://platform.openai.com/account/rate-limits to learn more.. Retrying Question No. 0 Attempt:(1)\n",
      "Rate limit error: Rate limit reached for gpt-4 in organization org-Y2tKyCPFO6tIjtCtOVZ7c9tr on tokens per min. Limit: 10000 / min. Please try again in 6ms. Visit https://platform.openai.com/account/rate-limits to learn more.. Retrying Question No. 2 Attempt:(1)\n",
      "Rate limit error: Rate limit reached for gpt-4 in organization org-Y2tKyCPFO6tIjtCtOVZ7c9tr on tokens per min. Limit: 10000 / min. Please try again in 6ms. Visit https://platform.openai.com/account/rate-limits to learn more.. Retrying Question No. 3 Attempt:(1)\n",
      "Rate limit error: Rate limit reached for gpt-4 in organization org-Y2tKyCPFO6tIjtCtOVZ7c9tr on tokens per min. Limit: 10000 / min. Please try again in 6ms. Visit https://platform.openai.com/account/rate-limits to learn more.. Retrying Question No. 4 Attempt:(1)\n",
      "Rate limit error: Rate limit reached for gpt-4 in organization org-Y2tKyCPFO6tIjtCtOVZ7c9tr on tokens per min. Limit: 10000 / min. Please try again in 6ms. Visit https://platform.openai.com/account/rate-limits to learn more.. Retrying Question No. 6 Attempt:(1)\n",
      "Rate limit error: Rate limit reached for gpt-4 in organization org-Y2tKyCPFO6tIjtCtOVZ7c9tr on tokens per min. Limit: 10000 / min. Please try again in 6ms. Visit https://platform.openai.com/account/rate-limits to learn more.. Retrying Question No. 7 Attempt:(1)\n",
      "Rate limit error: Rate limit reached for gpt-4 in organization org-Y2tKyCPFO6tIjtCtOVZ7c9tr on tokens per min. Limit: 10000 / min. Please try again in 6ms. Visit https://platform.openai.com/account/rate-limits to learn more.. Retrying Question No. 8 Attempt:(1)\n"
     ]
    },
    {
     "name": "stderr",
     "output_type": "stream",
     "text": [
      " 22%|██▏       | 19/87 [1:35:28<7:57:36, 421.42s/it]"
     ]
    },
    {
     "name": "stdout",
     "output_type": "stream",
     "text": [
      "Rate limit error: Rate limit reached for gpt-4 in organization org-Y2tKyCPFO6tIjtCtOVZ7c9tr on tokens per min. Limit: 10000 / min. Please try again in 6ms. Visit https://platform.openai.com/account/rate-limits to learn more.. Retrying Question No. 0 Attempt:(1)\n",
      "Rate limit error: Rate limit reached for gpt-4 in organization org-Y2tKyCPFO6tIjtCtOVZ7c9tr on tokens per min. Limit: 10000 / min. Please try again in 6ms. Visit https://platform.openai.com/account/rate-limits to learn more.. Retrying Question No. 1 Attempt:(1)\n",
      "Rate limit error: Rate limit reached for gpt-4 in organization org-Y2tKyCPFO6tIjtCtOVZ7c9tr on tokens per min. Limit: 10000 / min. Please try again in 6ms. Visit https://platform.openai.com/account/rate-limits to learn more.. Retrying Question No. 2 Attempt:(1)\n",
      "Rate limit error: Rate limit reached for gpt-4 in organization org-Y2tKyCPFO6tIjtCtOVZ7c9tr on tokens per min. Limit: 10000 / min. Please try again in 6ms. Visit https://platform.openai.com/account/rate-limits to learn more.. Retrying Question No. 3 Attempt:(1)\n",
      "Rate limit error: Rate limit reached for gpt-4 in organization org-Y2tKyCPFO6tIjtCtOVZ7c9tr on tokens per min. Limit: 10000 / min. Please try again in 6ms. Visit https://platform.openai.com/account/rate-limits to learn more.. Retrying Question No. 4 Attempt:(1)\n",
      "Rate limit error: Rate limit reached for gpt-4 in organization org-Y2tKyCPFO6tIjtCtOVZ7c9tr on tokens per min. Limit: 10000 / min. Please try again in 6ms. Visit https://platform.openai.com/account/rate-limits to learn more.. Retrying Question No. 5 Attempt:(1)\n",
      "Rate limit error: Rate limit reached for gpt-4 in organization org-Y2tKyCPFO6tIjtCtOVZ7c9tr on tokens per min. Limit: 10000 / min. Please try again in 6ms. Visit https://platform.openai.com/account/rate-limits to learn more.. Retrying Question No. 6 Attempt:(1)\n",
      "Rate limit error: Rate limit reached for gpt-4 in organization org-Y2tKyCPFO6tIjtCtOVZ7c9tr on tokens per min. Limit: 10000 / min. Please try again in 6ms. Visit https://platform.openai.com/account/rate-limits to learn more.. Retrying Question No. 7 Attempt:(1)\n",
      "Rate limit error: Rate limit reached for gpt-4 in organization org-Y2tKyCPFO6tIjtCtOVZ7c9tr on tokens per min. Limit: 10000 / min. Please try again in 6ms. Visit https://platform.openai.com/account/rate-limits to learn more.. Retrying Question No. 8 Attempt:(1)\n",
      "Rate limit error: Rate limit reached for gpt-4 in organization org-Y2tKyCPFO6tIjtCtOVZ7c9tr on tokens per min. Limit: 10000 / min. Please try again in 6ms. Visit https://platform.openai.com/account/rate-limits to learn more.. Retrying Question No. 0 Attempt:(1)\n",
      "Rate limit error: Rate limit reached for gpt-4 in organization org-Y2tKyCPFO6tIjtCtOVZ7c9tr on tokens per min. Limit: 10000 / min. Please try again in 6ms. Visit https://platform.openai.com/account/rate-limits to learn more.. Retrying Question No. 1 Attempt:(1)\n",
      "Rate limit error: Rate limit reached for gpt-4 in organization org-Y2tKyCPFO6tIjtCtOVZ7c9tr on tokens per min. Limit: 10000 / min. Please try again in 6ms. Visit https://platform.openai.com/account/rate-limits to learn more.. Retrying Question No. 2 Attempt:(1)\n",
      "Rate limit error: Rate limit reached for gpt-4 in organization org-Y2tKyCPFO6tIjtCtOVZ7c9tr on tokens per min. Limit: 10000 / min. Please try again in 6ms. Visit https://platform.openai.com/account/rate-limits to learn more.. Retrying Question No. 3 Attempt:(1)\n",
      "Rate limit error: Rate limit reached for gpt-4 in organization org-Y2tKyCPFO6tIjtCtOVZ7c9tr on tokens per min. Limit: 10000 / min. Please try again in 6ms. Visit https://platform.openai.com/account/rate-limits to learn more.. Retrying Question No. 4 Attempt:(1)\n",
      "Rate limit error: Rate limit reached for gpt-4 in organization org-Y2tKyCPFO6tIjtCtOVZ7c9tr on tokens per min. Limit: 10000 / min. Please try again in 6ms. Visit https://platform.openai.com/account/rate-limits to learn more.. Retrying Question No. 6 Attempt:(1)\n",
      "Rate limit error: Rate limit reached for gpt-4 in organization org-Y2tKyCPFO6tIjtCtOVZ7c9tr on tokens per min. Limit: 10000 / min. Please try again in 6ms. Visit https://platform.openai.com/account/rate-limits to learn more.. Retrying Question No. 7 Attempt:(1)\n",
      "Rate limit error: Rate limit reached for gpt-4 in organization org-Y2tKyCPFO6tIjtCtOVZ7c9tr on tokens per min. Limit: 10000 / min. Please try again in 6ms. Visit https://platform.openai.com/account/rate-limits to learn more.. Retrying Question No. 8 Attempt:(1)\n"
     ]
    },
    {
     "name": "stderr",
     "output_type": "stream",
     "text": [
      " 23%|██▎       | 20/87 [1:44:33<8:31:42, 458.25s/it]"
     ]
    },
    {
     "name": "stdout",
     "output_type": "stream",
     "text": [
      "Rate limit error: Rate limit reached for gpt-4 in organization org-Y2tKyCPFO6tIjtCtOVZ7c9tr on tokens per min. Limit: 10000 / min. Please try again in 6ms. Visit https://platform.openai.com/account/rate-limits to learn more.. Retrying Question No. 0 Attempt:(1)\n",
      "Rate limit error: Rate limit reached for gpt-4 in organization org-Y2tKyCPFO6tIjtCtOVZ7c9tr on tokens per min. Limit: 10000 / min. Please try again in 6ms. Visit https://platform.openai.com/account/rate-limits to learn more.. Retrying Question No. 4 Attempt:(1)\n",
      "Rate limit error: Rate limit reached for gpt-4 in organization org-Y2tKyCPFO6tIjtCtOVZ7c9tr on tokens per min. Limit: 10000 / min. Please try again in 6ms. Visit https://platform.openai.com/account/rate-limits to learn more.. Retrying Question No. 6 Attempt:(1)\n"
     ]
    },
    {
     "name": "stderr",
     "output_type": "stream",
     "text": [
      " 24%|██▍       | 21/87 [1:46:15<6:27:18, 352.10s/it]"
     ]
    },
    {
     "name": "stdout",
     "output_type": "stream",
     "text": [
      "Rate limit error: Rate limit reached for gpt-4 in organization org-Y2tKyCPFO6tIjtCtOVZ7c9tr on tokens per min. Limit: 10000 / min. Please try again in 6ms. Visit https://platform.openai.com/account/rate-limits to learn more.. Retrying Question No. 0 Attempt:(1)\n",
      "Rate limit error: Rate limit reached for gpt-4 in organization org-Y2tKyCPFO6tIjtCtOVZ7c9tr on tokens per min. Limit: 10000 / min. Please try again in 6ms. Visit https://platform.openai.com/account/rate-limits to learn more.. Retrying Question No. 1 Attempt:(1)\n",
      "Rate limit error: Rate limit reached for gpt-4 in organization org-Y2tKyCPFO6tIjtCtOVZ7c9tr on tokens per min. Limit: 10000 / min. Please try again in 6ms. Visit https://platform.openai.com/account/rate-limits to learn more.. Retrying Question No. 3 Attempt:(1)\n",
      "Rate limit error: Rate limit reached for gpt-4 in organization org-Y2tKyCPFO6tIjtCtOVZ7c9tr on tokens per min. Limit: 10000 / min. Please try again in 6ms. Visit https://platform.openai.com/account/rate-limits to learn more.. Retrying Question No. 4 Attempt:(1)\n",
      "Rate limit error: Rate limit reached for gpt-4 in organization org-Y2tKyCPFO6tIjtCtOVZ7c9tr on tokens per min. Limit: 10000 / min. Please try again in 6ms. Visit https://platform.openai.com/account/rate-limits to learn more.. Retrying Question No. 5 Attempt:(1)\n",
      "Rate limit error: Rate limit reached for gpt-4 in organization org-Y2tKyCPFO6tIjtCtOVZ7c9tr on tokens per min. Limit: 10000 / min. Please try again in 6ms. Visit https://platform.openai.com/account/rate-limits to learn more.. Retrying Question No. 7 Attempt:(1)\n",
      "Rate limit error: Rate limit reached for gpt-4 in organization org-Y2tKyCPFO6tIjtCtOVZ7c9tr on tokens per min. Limit: 10000 / min. Please try again in 6ms. Visit https://platform.openai.com/account/rate-limits to learn more.. Retrying Question No. 8 Attempt:(1)\n"
     ]
    },
    {
     "name": "stderr",
     "output_type": "stream",
     "text": [
      " 25%|██▌       | 22/87 [1:50:01<5:40:18, 314.14s/it]"
     ]
    },
    {
     "name": "stdout",
     "output_type": "stream",
     "text": [
      "Rate limit error: Rate limit reached for gpt-4 in organization org-Y2tKyCPFO6tIjtCtOVZ7c9tr on tokens per min. Limit: 10000 / min. Please try again in 6ms. Visit https://platform.openai.com/account/rate-limits to learn more.. Retrying Question No. 0 Attempt:(1)\n",
      "Rate limit error: Rate limit reached for gpt-4 in organization org-Y2tKyCPFO6tIjtCtOVZ7c9tr on tokens per min. Limit: 10000 / min. Please try again in 6ms. Visit https://platform.openai.com/account/rate-limits to learn more.. Retrying Question No. 1 Attempt:(1)\n",
      "Rate limit error: Rate limit reached for gpt-4 in organization org-Y2tKyCPFO6tIjtCtOVZ7c9tr on tokens per min. Limit: 10000 / min. Please try again in 6ms. Visit https://platform.openai.com/account/rate-limits to learn more.. Retrying Question No. 2 Attempt:(1)\n",
      "Rate limit error: Rate limit reached for gpt-4 in organization org-Y2tKyCPFO6tIjtCtOVZ7c9tr on tokens per min. Limit: 10000 / min. Please try again in 6ms. Visit https://platform.openai.com/account/rate-limits to learn more.. Retrying Question No. 3 Attempt:(1)\n",
      "Rate limit error: Rate limit reached for gpt-4 in organization org-Y2tKyCPFO6tIjtCtOVZ7c9tr on tokens per min. Limit: 10000 / min. Please try again in 6ms. Visit https://platform.openai.com/account/rate-limits to learn more.. Retrying Question No. 4 Attempt:(1)\n",
      "Rate limit error: Rate limit reached for gpt-4 in organization org-Y2tKyCPFO6tIjtCtOVZ7c9tr on tokens per min. Limit: 10000 / min. Please try again in 6ms. Visit https://platform.openai.com/account/rate-limits to learn more.. Retrying Question No. 5 Attempt:(1)\n",
      "Rate limit error: Rate limit reached for gpt-4 in organization org-Y2tKyCPFO6tIjtCtOVZ7c9tr on tokens per min. Limit: 10000 / min. Please try again in 6ms. Visit https://platform.openai.com/account/rate-limits to learn more.. Retrying Question No. 6 Attempt:(1)\n",
      "Rate limit error: Rate limit reached for gpt-4 in organization org-Y2tKyCPFO6tIjtCtOVZ7c9tr on tokens per min. Limit: 10000 / min. Please try again in 6ms. Visit https://platform.openai.com/account/rate-limits to learn more.. Retrying Question No. 7 Attempt:(1)\n",
      "Rate limit error: Rate limit reached for gpt-4 in organization org-Y2tKyCPFO6tIjtCtOVZ7c9tr on tokens per min. Limit: 10000 / min. Please try again in 6ms. Visit https://platform.openai.com/account/rate-limits to learn more.. Retrying Question No. 8 Attempt:(1)\n",
      "Rate limit error: Rate limit reached for gpt-4 in organization org-Y2tKyCPFO6tIjtCtOVZ7c9tr on tokens per min. Limit: 10000 / min. Please try again in 6ms. Visit https://platform.openai.com/account/rate-limits to learn more.. Retrying Question No. 0 Attempt:(1)\n",
      "Rate limit error: Rate limit reached for gpt-4 in organization org-Y2tKyCPFO6tIjtCtOVZ7c9tr on tokens per min. Limit: 10000 / min. Please try again in 6ms. Visit https://platform.openai.com/account/rate-limits to learn more.. Retrying Question No. 1 Attempt:(1)\n",
      "Rate limit error: Rate limit reached for gpt-4 in organization org-Y2tKyCPFO6tIjtCtOVZ7c9tr on tokens per min. Limit: 10000 / min. Please try again in 6ms. Visit https://platform.openai.com/account/rate-limits to learn more.. Retrying Question No. 2 Attempt:(1)\n",
      "Rate limit error: Rate limit reached for gpt-4 in organization org-Y2tKyCPFO6tIjtCtOVZ7c9tr on tokens per min. Limit: 10000 / min. Please try again in 6ms. Visit https://platform.openai.com/account/rate-limits to learn more.. Retrying Question No. 3 Attempt:(1)\n",
      "Rate limit error: Rate limit reached for gpt-4 in organization org-Y2tKyCPFO6tIjtCtOVZ7c9tr on tokens per min. Limit: 10000 / min. Please try again in 6ms. Visit https://platform.openai.com/account/rate-limits to learn more.. Retrying Question No. 4 Attempt:(1)\n",
      "Rate limit error: Rate limit reached for gpt-4 in organization org-Y2tKyCPFO6tIjtCtOVZ7c9tr on tokens per min. Limit: 10000 / min. Please try again in 6ms. Visit https://platform.openai.com/account/rate-limits to learn more.. Retrying Question No. 5 Attempt:(1)\n",
      "Rate limit error: Rate limit reached for gpt-4 in organization org-Y2tKyCPFO6tIjtCtOVZ7c9tr on tokens per min. Limit: 10000 / min. Please try again in 6ms. Visit https://platform.openai.com/account/rate-limits to learn more.. Retrying Question No. 6 Attempt:(1)\n",
      "Rate limit error: Rate limit reached for gpt-4 in organization org-Y2tKyCPFO6tIjtCtOVZ7c9tr on tokens per min. Limit: 10000 / min. Please try again in 6ms. Visit https://platform.openai.com/account/rate-limits to learn more.. Retrying Question No. 6 Attempt:(2)\n",
      "Rate limit error: Rate limit reached for gpt-4 in organization org-Y2tKyCPFO6tIjtCtOVZ7c9tr on tokens per min. Limit: 10000 / min. Please try again in 6ms. Visit https://platform.openai.com/account/rate-limits to learn more.. Retrying Question No. 7 Attempt:(1)\n",
      "Rate limit error: Rate limit reached for gpt-4 in organization org-Y2tKyCPFO6tIjtCtOVZ7c9tr on tokens per min. Limit: 10000 / min. Please try again in 6ms. Visit https://platform.openai.com/account/rate-limits to learn more.. Retrying Question No. 8 Attempt:(1)\n",
      "Rate limit error: Rate limit reached for gpt-4 in organization org-Y2tKyCPFO6tIjtCtOVZ7c9tr on tokens per min. Limit: 10000 / min. Please try again in 6ms. Visit https://platform.openai.com/account/rate-limits to learn more.. Retrying Question No. 1 Attempt:(1)\n",
      "Rate limit error: Rate limit reached for gpt-4 in organization org-Y2tKyCPFO6tIjtCtOVZ7c9tr on tokens per min. Limit: 10000 / min. Please try again in 6ms. Visit https://platform.openai.com/account/rate-limits to learn more.. Retrying Question No. 3 Attempt:(1)\n",
      "Rate limit error: Rate limit reached for gpt-4 in organization org-Y2tKyCPFO6tIjtCtOVZ7c9tr on tokens per min. Limit: 10000 / min. Please try again in 6ms. Visit https://platform.openai.com/account/rate-limits to learn more.. Retrying Question No. 5 Attempt:(1)\n",
      "Rate limit error: Rate limit reached for gpt-4 in organization org-Y2tKyCPFO6tIjtCtOVZ7c9tr on tokens per min. Limit: 10000 / min. Please try again in 6ms. Visit https://platform.openai.com/account/rate-limits to learn more.. Retrying Question No. 8 Attempt:(1)\n"
     ]
    },
    {
     "name": "stderr",
     "output_type": "stream",
     "text": [
      " 26%|██▋       | 23/87 [2:02:14<7:48:59, 439.69s/it]"
     ]
    },
    {
     "name": "stdout",
     "output_type": "stream",
     "text": [
      "Rate limit error: Rate limit reached for gpt-4 in organization org-Y2tKyCPFO6tIjtCtOVZ7c9tr on tokens per min. Limit: 10000 / min. Please try again in 6ms. Visit https://platform.openai.com/account/rate-limits to learn more.. Retrying Question No. 0 Attempt:(1)\n",
      "Rate limit error: Rate limit reached for gpt-4 in organization org-Y2tKyCPFO6tIjtCtOVZ7c9tr on tokens per min. Limit: 10000 / min. Please try again in 6ms. Visit https://platform.openai.com/account/rate-limits to learn more.. Retrying Question No. 1 Attempt:(1)\n",
      "Rate limit error: Rate limit reached for gpt-4 in organization org-Y2tKyCPFO6tIjtCtOVZ7c9tr on tokens per min. Limit: 10000 / min. Please try again in 6ms. Visit https://platform.openai.com/account/rate-limits to learn more.. Retrying Question No. 2 Attempt:(1)\n",
      "Rate limit error: Rate limit reached for gpt-4 in organization org-Y2tKyCPFO6tIjtCtOVZ7c9tr on tokens per min. Limit: 10000 / min. Please try again in 6ms. Visit https://platform.openai.com/account/rate-limits to learn more.. Retrying Question No. 3 Attempt:(1)\n",
      "Rate limit error: Rate limit reached for gpt-4 in organization org-Y2tKyCPFO6tIjtCtOVZ7c9tr on tokens per min. Limit: 10000 / min. Please try again in 6ms. Visit https://platform.openai.com/account/rate-limits to learn more.. Retrying Question No. 4 Attempt:(1)\n",
      "Rate limit error: Rate limit reached for gpt-4 in organization org-Y2tKyCPFO6tIjtCtOVZ7c9tr on tokens per min. Limit: 10000 / min. Please try again in 6ms. Visit https://platform.openai.com/account/rate-limits to learn more.. Retrying Question No. 4 Attempt:(2)\n",
      "Rate limit error: Rate limit reached for gpt-4 in organization org-Y2tKyCPFO6tIjtCtOVZ7c9tr on tokens per min. Limit: 10000 / min. Please try again in 6ms. Visit https://platform.openai.com/account/rate-limits to learn more.. Retrying Question No. 5 Attempt:(1)\n",
      "Rate limit error: Rate limit reached for gpt-4 in organization org-Y2tKyCPFO6tIjtCtOVZ7c9tr on tokens per min. Limit: 10000 / min. Please try again in 6ms. Visit https://platform.openai.com/account/rate-limits to learn more.. Retrying Question No. 6 Attempt:(1)\n",
      "Rate limit error: Rate limit reached for gpt-4 in organization org-Y2tKyCPFO6tIjtCtOVZ7c9tr on tokens per min. Limit: 10000 / min. Please try again in 6ms. Visit https://platform.openai.com/account/rate-limits to learn more.. Retrying Question No. 7 Attempt:(1)\n",
      "Rate limit error: Rate limit reached for gpt-4 in organization org-Y2tKyCPFO6tIjtCtOVZ7c9tr on tokens per min. Limit: 10000 / min. Please try again in 6ms. Visit https://platform.openai.com/account/rate-limits to learn more.. Retrying Question No. 8 Attempt:(1)\n",
      "Rate limit error: Rate limit reached for gpt-4 in organization org-Y2tKyCPFO6tIjtCtOVZ7c9tr on tokens per min. Limit: 10000 / min. Please try again in 6ms. Visit https://platform.openai.com/account/rate-limits to learn more.. Retrying Question No. 0 Attempt:(1)\n",
      "Rate limit error: Rate limit reached for gpt-4 in organization org-Y2tKyCPFO6tIjtCtOVZ7c9tr on tokens per min. Limit: 10000 / min. Please try again in 6ms. Visit https://platform.openai.com/account/rate-limits to learn more.. Retrying Question No. 1 Attempt:(1)\n",
      "Rate limit error: Rate limit reached for gpt-4 in organization org-Y2tKyCPFO6tIjtCtOVZ7c9tr on tokens per min. Limit: 10000 / min. Please try again in 6ms. Visit https://platform.openai.com/account/rate-limits to learn more.. Retrying Question No. 2 Attempt:(1)\n",
      "Rate limit error: Rate limit reached for gpt-4 in organization org-Y2tKyCPFO6tIjtCtOVZ7c9tr on tokens per min. Limit: 10000 / min. Please try again in 6ms. Visit https://platform.openai.com/account/rate-limits to learn more.. Retrying Question No. 3 Attempt:(1)\n",
      "Rate limit error: Rate limit reached for gpt-4 in organization org-Y2tKyCPFO6tIjtCtOVZ7c9tr on tokens per min. Limit: 10000 / min. Please try again in 6ms. Visit https://platform.openai.com/account/rate-limits to learn more.. Retrying Question No. 4 Attempt:(1)\n",
      "Rate limit error: Rate limit reached for gpt-4 in organization org-Y2tKyCPFO6tIjtCtOVZ7c9tr on tokens per min. Limit: 10000 / min. Please try again in 6ms. Visit https://platform.openai.com/account/rate-limits to learn more.. Retrying Question No. 5 Attempt:(1)\n",
      "Rate limit error: Rate limit reached for gpt-4 in organization org-Y2tKyCPFO6tIjtCtOVZ7c9tr on tokens per min. Limit: 10000 / min. Please try again in 6ms. Visit https://platform.openai.com/account/rate-limits to learn more.. Retrying Question No. 6 Attempt:(1)\n",
      "Rate limit error: Rate limit reached for gpt-4 in organization org-Y2tKyCPFO6tIjtCtOVZ7c9tr on tokens per min. Limit: 10000 / min. Please try again in 6ms. Visit https://platform.openai.com/account/rate-limits to learn more.. Retrying Question No. 6 Attempt:(2)\n",
      "Rate limit error: Rate limit reached for gpt-4 in organization org-Y2tKyCPFO6tIjtCtOVZ7c9tr on tokens per min. Limit: 10000 / min. Please try again in 6ms. Visit https://platform.openai.com/account/rate-limits to learn more.. Retrying Question No. 7 Attempt:(1)\n",
      "Rate limit error: Rate limit reached for gpt-4 in organization org-Y2tKyCPFO6tIjtCtOVZ7c9tr on tokens per min. Limit: 10000 / min. Please try again in 6ms. Visit https://platform.openai.com/account/rate-limits to learn more.. Retrying Question No. 8 Attempt:(1)\n",
      "Rate limit error: Rate limit reached for gpt-4 in organization org-Y2tKyCPFO6tIjtCtOVZ7c9tr on tokens per min. Limit: 10000 / min. Please try again in 6ms. Visit https://platform.openai.com/account/rate-limits to learn more.. Retrying Question No. 0 Attempt:(1)\n",
      "Rate limit error: Rate limit reached for gpt-4 in organization org-Y2tKyCPFO6tIjtCtOVZ7c9tr on tokens per min. Limit: 10000 / min. Please try again in 6ms. Visit https://platform.openai.com/account/rate-limits to learn more.. Retrying Question No. 1 Attempt:(1)\n",
      "Rate limit error: Rate limit reached for gpt-4 in organization org-Y2tKyCPFO6tIjtCtOVZ7c9tr on tokens per min. Limit: 10000 / min. Please try again in 6ms. Visit https://platform.openai.com/account/rate-limits to learn more.. Retrying Question No. 2 Attempt:(1)\n",
      "Rate limit error: Rate limit reached for gpt-4 in organization org-Y2tKyCPFO6tIjtCtOVZ7c9tr on tokens per min. Limit: 10000 / min. Please try again in 6ms. Visit https://platform.openai.com/account/rate-limits to learn more.. Retrying Question No. 3 Attempt:(1)\n",
      "Rate limit error: Rate limit reached for gpt-4 in organization org-Y2tKyCPFO6tIjtCtOVZ7c9tr on tokens per min. Limit: 10000 / min. Please try again in 6ms. Visit https://platform.openai.com/account/rate-limits to learn more.. Retrying Question No. 4 Attempt:(1)\n",
      "Rate limit error: Rate limit reached for gpt-4 in organization org-Y2tKyCPFO6tIjtCtOVZ7c9tr on tokens per min. Limit: 10000 / min. Please try again in 6ms. Visit https://platform.openai.com/account/rate-limits to learn more.. Retrying Question No. 5 Attempt:(1)\n",
      "Rate limit error: Rate limit reached for gpt-4 in organization org-Y2tKyCPFO6tIjtCtOVZ7c9tr on tokens per min. Limit: 10000 / min. Please try again in 6ms. Visit https://platform.openai.com/account/rate-limits to learn more.. Retrying Question No. 6 Attempt:(1)\n",
      "Rate limit error: Rate limit reached for gpt-4 in organization org-Y2tKyCPFO6tIjtCtOVZ7c9tr on tokens per min. Limit: 10000 / min. Please try again in 6ms. Visit https://platform.openai.com/account/rate-limits to learn more.. Retrying Question No. 7 Attempt:(1)\n",
      "Rate limit error: Rate limit reached for gpt-4 in organization org-Y2tKyCPFO6tIjtCtOVZ7c9tr on tokens per min. Limit: 10000 / min. Please try again in 6ms. Visit https://platform.openai.com/account/rate-limits to learn more.. Retrying Question No. 8 Attempt:(1)\n",
      "Rate limit error: Rate limit reached for gpt-4 in organization org-Y2tKyCPFO6tIjtCtOVZ7c9tr on tokens per min. Limit: 10000 / min. Please try again in 6ms. Visit https://platform.openai.com/account/rate-limits to learn more.. Retrying Question No. 8 Attempt:(2)\n",
      "Rate limit error: Rate limit reached for gpt-4 in organization org-Y2tKyCPFO6tIjtCtOVZ7c9tr on tokens per min. Limit: 10000 / min. Please try again in 6ms. Visit https://platform.openai.com/account/rate-limits to learn more.. Retrying Question No. 1 Attempt:(1)\n",
      "Rate limit error: Rate limit reached for gpt-4 in organization org-Y2tKyCPFO6tIjtCtOVZ7c9tr on tokens per min. Limit: 10000 / min. Please try again in 6ms. Visit https://platform.openai.com/account/rate-limits to learn more.. Retrying Question No. 3 Attempt:(1)\n",
      "Rate limit error: Rate limit reached for gpt-4 in organization org-Y2tKyCPFO6tIjtCtOVZ7c9tr on tokens per min. Limit: 10000 / min. Please try again in 6ms. Visit https://platform.openai.com/account/rate-limits to learn more.. Retrying Question No. 5 Attempt:(1)\n",
      "Rate limit error: Rate limit reached for gpt-4 in organization org-Y2tKyCPFO6tIjtCtOVZ7c9tr on tokens per min. Limit: 10000 / min. Please try again in 6ms. Visit https://platform.openai.com/account/rate-limits to learn more.. Retrying Question No. 7 Attempt:(1)\n"
     ]
    },
    {
     "name": "stderr",
     "output_type": "stream",
     "text": [
      " 28%|██▊       | 24/87 [2:20:16<11:03:34, 631.98s/it]"
     ]
    },
    {
     "name": "stdout",
     "output_type": "stream",
     "text": [
      "Rate limit error: Rate limit reached for gpt-4 in organization org-Y2tKyCPFO6tIjtCtOVZ7c9tr on tokens per min. Limit: 10000 / min. Please try again in 6ms. Visit https://platform.openai.com/account/rate-limits to learn more.. Retrying Question No. 0 Attempt:(1)\n",
      "Rate limit error: Rate limit reached for gpt-4 in organization org-Y2tKyCPFO6tIjtCtOVZ7c9tr on tokens per min. Limit: 10000 / min. Please try again in 6ms. Visit https://platform.openai.com/account/rate-limits to learn more.. Retrying Question No. 1 Attempt:(1)\n",
      "Rate limit error: Rate limit reached for gpt-4 in organization org-Y2tKyCPFO6tIjtCtOVZ7c9tr on tokens per min. Limit: 10000 / min. Please try again in 6ms. Visit https://platform.openai.com/account/rate-limits to learn more.. Retrying Question No. 2 Attempt:(1)\n",
      "Rate limit error: Rate limit reached for gpt-4 in organization org-Y2tKyCPFO6tIjtCtOVZ7c9tr on tokens per min. Limit: 10000 / min. Please try again in 6ms. Visit https://platform.openai.com/account/rate-limits to learn more.. Retrying Question No. 3 Attempt:(1)\n",
      "Rate limit error: Rate limit reached for gpt-4 in organization org-Y2tKyCPFO6tIjtCtOVZ7c9tr on tokens per min. Limit: 10000 / min. Please try again in 6ms. Visit https://platform.openai.com/account/rate-limits to learn more.. Retrying Question No. 5 Attempt:(1)\n",
      "Rate limit error: Rate limit reached for gpt-4 in organization org-Y2tKyCPFO6tIjtCtOVZ7c9tr on tokens per min. Limit: 10000 / min. Please try again in 6ms. Visit https://platform.openai.com/account/rate-limits to learn more.. Retrying Question No. 6 Attempt:(1)\n",
      "Rate limit error: Rate limit reached for gpt-4 in organization org-Y2tKyCPFO6tIjtCtOVZ7c9tr on tokens per min. Limit: 10000 / min. Please try again in 6ms. Visit https://platform.openai.com/account/rate-limits to learn more.. Retrying Question No. 7 Attempt:(1)\n",
      "Rate limit error: Rate limit reached for gpt-4 in organization org-Y2tKyCPFO6tIjtCtOVZ7c9tr on tokens per min. Limit: 10000 / min. Please try again in 6ms. Visit https://platform.openai.com/account/rate-limits to learn more.. Retrying Question No. 8 Attempt:(1)\n"
     ]
    },
    {
     "name": "stderr",
     "output_type": "stream",
     "text": [
      " 29%|██▊       | 25/87 [2:24:35<8:57:26, 520.10s/it] "
     ]
    },
    {
     "name": "stdout",
     "output_type": "stream",
     "text": [
      "Rate limit error: Rate limit reached for gpt-4 in organization org-Y2tKyCPFO6tIjtCtOVZ7c9tr on tokens per min. Limit: 10000 / min. Please try again in 6ms. Visit https://platform.openai.com/account/rate-limits to learn more.. Retrying Question No. 0 Attempt:(1)\n",
      "Rate limit error: Rate limit reached for gpt-4 in organization org-Y2tKyCPFO6tIjtCtOVZ7c9tr on tokens per min. Limit: 10000 / min. Please try again in 6ms. Visit https://platform.openai.com/account/rate-limits to learn more.. Retrying Question No. 1 Attempt:(1)\n",
      "Rate limit error: Rate limit reached for gpt-4 in organization org-Y2tKyCPFO6tIjtCtOVZ7c9tr on tokens per min. Limit: 10000 / min. Please try again in 6ms. Visit https://platform.openai.com/account/rate-limits to learn more.. Retrying Question No. 2 Attempt:(1)\n",
      "Rate limit error: Rate limit reached for gpt-4 in organization org-Y2tKyCPFO6tIjtCtOVZ7c9tr on tokens per min. Limit: 10000 / min. Please try again in 6ms. Visit https://platform.openai.com/account/rate-limits to learn more.. Retrying Question No. 3 Attempt:(1)\n",
      "Rate limit error: Rate limit reached for gpt-4 in organization org-Y2tKyCPFO6tIjtCtOVZ7c9tr on tokens per min. Limit: 10000 / min. Please try again in 6ms. Visit https://platform.openai.com/account/rate-limits to learn more.. Retrying Question No. 4 Attempt:(1)\n",
      "Rate limit error: Rate limit reached for gpt-4 in organization org-Y2tKyCPFO6tIjtCtOVZ7c9tr on tokens per min. Limit: 10000 / min. Please try again in 6ms. Visit https://platform.openai.com/account/rate-limits to learn more.. Retrying Question No. 5 Attempt:(1)\n",
      "Rate limit error: Rate limit reached for gpt-4 in organization org-Y2tKyCPFO6tIjtCtOVZ7c9tr on tokens per min. Limit: 10000 / min. Please try again in 6ms. Visit https://platform.openai.com/account/rate-limits to learn more.. Retrying Question No. 6 Attempt:(1)\n",
      "Rate limit error: Rate limit reached for gpt-4 in organization org-Y2tKyCPFO6tIjtCtOVZ7c9tr on tokens per min. Limit: 10000 / min. Please try again in 6ms. Visit https://platform.openai.com/account/rate-limits to learn more.. Retrying Question No. 7 Attempt:(1)\n",
      "Rate limit error: Rate limit reached for gpt-4 in organization org-Y2tKyCPFO6tIjtCtOVZ7c9tr on tokens per min. Limit: 10000 / min. Please try again in 6ms. Visit https://platform.openai.com/account/rate-limits to learn more.. Retrying Question No. 8 Attempt:(1)\n",
      "Rate limit error: Rate limit reached for gpt-4 in organization org-Y2tKyCPFO6tIjtCtOVZ7c9tr on tokens per min. Limit: 10000 / min. Please try again in 6ms. Visit https://platform.openai.com/account/rate-limits to learn more.. Retrying Question No. 8 Attempt:(2)\n",
      "Rate limit error: Rate limit reached for gpt-4 in organization org-Y2tKyCPFO6tIjtCtOVZ7c9tr on tokens per min. Limit: 10000 / min. Please try again in 6ms. Visit https://platform.openai.com/account/rate-limits to learn more.. Retrying Question No. 0 Attempt:(1)\n",
      "Rate limit error: Rate limit reached for gpt-4 in organization org-Y2tKyCPFO6tIjtCtOVZ7c9tr on tokens per min. Limit: 10000 / min. Please try again in 6ms. Visit https://platform.openai.com/account/rate-limits to learn more.. Retrying Question No. 1 Attempt:(1)\n",
      "Rate limit error: Rate limit reached for gpt-4 in organization org-Y2tKyCPFO6tIjtCtOVZ7c9tr on tokens per min. Limit: 10000 / min. Please try again in 6ms. Visit https://platform.openai.com/account/rate-limits to learn more.. Retrying Question No. 2 Attempt:(1)\n",
      "Rate limit error: Rate limit reached for gpt-4 in organization org-Y2tKyCPFO6tIjtCtOVZ7c9tr on tokens per min. Limit: 10000 / min. Please try again in 6ms. Visit https://platform.openai.com/account/rate-limits to learn more.. Retrying Question No. 3 Attempt:(1)\n",
      "Rate limit error: Rate limit reached for gpt-4 in organization org-Y2tKyCPFO6tIjtCtOVZ7c9tr on tokens per min. Limit: 10000 / min. Please try again in 6ms. Visit https://platform.openai.com/account/rate-limits to learn more.. Retrying Question No. 4 Attempt:(1)\n",
      "Rate limit error: Rate limit reached for gpt-4 in organization org-Y2tKyCPFO6tIjtCtOVZ7c9tr on tokens per min. Limit: 10000 / min. Please try again in 6ms. Visit https://platform.openai.com/account/rate-limits to learn more.. Retrying Question No. 5 Attempt:(1)\n",
      "Rate limit error: Rate limit reached for gpt-4 in organization org-Y2tKyCPFO6tIjtCtOVZ7c9tr on tokens per min. Limit: 10000 / min. Please try again in 6ms. Visit https://platform.openai.com/account/rate-limits to learn more.. Retrying Question No. 6 Attempt:(1)\n",
      "Rate limit error: Rate limit reached for gpt-4 in organization org-Y2tKyCPFO6tIjtCtOVZ7c9tr on tokens per min. Limit: 10000 / min. Please try again in 6ms. Visit https://platform.openai.com/account/rate-limits to learn more.. Retrying Question No. 7 Attempt:(1)\n",
      "Rate limit error: Rate limit reached for gpt-4 in organization org-Y2tKyCPFO6tIjtCtOVZ7c9tr on tokens per min. Limit: 10000 / min. Please try again in 6ms. Visit https://platform.openai.com/account/rate-limits to learn more.. Retrying Question No. 8 Attempt:(1)\n",
      "Rate limit error: Rate limit reached for gpt-4 in organization org-Y2tKyCPFO6tIjtCtOVZ7c9tr on tokens per min. Limit: 10000 / min. Please try again in 6ms. Visit https://platform.openai.com/account/rate-limits to learn more.. Retrying Question No. 0 Attempt:(1)\n",
      "Rate limit error: Rate limit reached for gpt-4 in organization org-Y2tKyCPFO6tIjtCtOVZ7c9tr on tokens per min. Limit: 10000 / min. Please try again in 6ms. Visit https://platform.openai.com/account/rate-limits to learn more.. Retrying Question No. 2 Attempt:(1)\n",
      "Rate limit error: Rate limit reached for gpt-4 in organization org-Y2tKyCPFO6tIjtCtOVZ7c9tr on tokens per min. Limit: 10000 / min. Please try again in 6ms. Visit https://platform.openai.com/account/rate-limits to learn more.. Retrying Question No. 4 Attempt:(1)\n",
      "Rate limit error: Rate limit reached for gpt-4 in organization org-Y2tKyCPFO6tIjtCtOVZ7c9tr on tokens per min. Limit: 10000 / min. Please try again in 6ms. Visit https://platform.openai.com/account/rate-limits to learn more.. Retrying Question No. 6 Attempt:(1)\n",
      "Rate limit error: Rate limit reached for gpt-4 in organization org-Y2tKyCPFO6tIjtCtOVZ7c9tr on tokens per min. Limit: 10000 / min. Please try again in 6ms. Visit https://platform.openai.com/account/rate-limits to learn more.. Retrying Question No. 8 Attempt:(1)\n"
     ]
    },
    {
     "name": "stderr",
     "output_type": "stream",
     "text": [
      " 30%|██▉       | 26/87 [2:37:21<10:03:47, 593.90s/it]"
     ]
    },
    {
     "name": "stdout",
     "output_type": "stream",
     "text": [
      "Rate limit error: Rate limit reached for gpt-4 in organization org-Y2tKyCPFO6tIjtCtOVZ7c9tr on tokens per min. Limit: 10000 / min. Please try again in 6ms. Visit https://platform.openai.com/account/rate-limits to learn more.. Retrying Question No. 0 Attempt:(1)\n",
      "Rate limit error: Rate limit reached for gpt-4 in organization org-Y2tKyCPFO6tIjtCtOVZ7c9tr on tokens per min. Limit: 10000 / min. Please try again in 6ms. Visit https://platform.openai.com/account/rate-limits to learn more.. Retrying Question No. 1 Attempt:(1)\n",
      "Rate limit error: Rate limit reached for gpt-4 in organization org-Y2tKyCPFO6tIjtCtOVZ7c9tr on tokens per min. Limit: 10000 / min. Please try again in 6ms. Visit https://platform.openai.com/account/rate-limits to learn more.. Retrying Question No. 2 Attempt:(1)\n",
      "Rate limit error: Rate limit reached for gpt-4 in organization org-Y2tKyCPFO6tIjtCtOVZ7c9tr on tokens per min. Limit: 10000 / min. Please try again in 6ms. Visit https://platform.openai.com/account/rate-limits to learn more.. Retrying Question No. 3 Attempt:(1)\n",
      "An error occurred: Request timed out: HTTPSConnectionPool(host='api.openai.com', port=443): Read timed out. (read timeout=600). Retrying Question No. 3 Attempt:(2)\n",
      "Rate limit error: Rate limit reached for gpt-4 in organization org-Y2tKyCPFO6tIjtCtOVZ7c9tr on tokens per min. Limit: 10000 / min. Please try again in 6ms. Visit https://platform.openai.com/account/rate-limits to learn more.. Retrying Question No. 4 Attempt:(1)\n",
      "Rate limit error: Rate limit reached for gpt-4 in organization org-Y2tKyCPFO6tIjtCtOVZ7c9tr on tokens per min. Limit: 10000 / min. Please try again in 6ms. Visit https://platform.openai.com/account/rate-limits to learn more.. Retrying Question No. 5 Attempt:(1)\n",
      "Rate limit error: Rate limit reached for gpt-4 in organization org-Y2tKyCPFO6tIjtCtOVZ7c9tr on tokens per min. Limit: 10000 / min. Please try again in 6ms. Visit https://platform.openai.com/account/rate-limits to learn more.. Retrying Question No. 6 Attempt:(1)\n",
      "Rate limit error: Rate limit reached for gpt-4 in organization org-Y2tKyCPFO6tIjtCtOVZ7c9tr on tokens per min. Limit: 10000 / min. Please try again in 6ms. Visit https://platform.openai.com/account/rate-limits to learn more.. Retrying Question No. 7 Attempt:(1)\n",
      "Rate limit error: Rate limit reached for gpt-4 in organization org-Y2tKyCPFO6tIjtCtOVZ7c9tr on tokens per min. Limit: 10000 / min. Please try again in 6ms. Visit https://platform.openai.com/account/rate-limits to learn more.. Retrying Question No. 8 Attempt:(1)\n",
      "An error occurred: Request timed out: HTTPSConnectionPool(host='api.openai.com', port=443): Read timed out. (read timeout=600). Retrying Question No. 0 Attempt:(1)\n",
      "Rate limit error: Rate limit reached for gpt-4 in organization org-Y2tKyCPFO6tIjtCtOVZ7c9tr on tokens per min. Limit: 10000 / min. Please try again in 6ms. Visit https://platform.openai.com/account/rate-limits to learn more.. Retrying Question No. 5 Attempt:(1)\n",
      "Rate limit error: Rate limit reached for gpt-4 in organization org-Y2tKyCPFO6tIjtCtOVZ7c9tr on tokens per min. Limit: 10000 / min. Please try again in 6ms. Visit https://platform.openai.com/account/rate-limits to learn more.. Retrying Question No. 8 Attempt:(1)\n"
     ]
    },
    {
     "name": "stderr",
     "output_type": "stream",
     "text": [
      " 31%|███       | 27/87 [3:03:22<14:43:57, 883.97s/it]"
     ]
    },
    {
     "name": "stdout",
     "output_type": "stream",
     "text": [
      "Rate limit error: Rate limit reached for gpt-4 in organization org-Y2tKyCPFO6tIjtCtOVZ7c9tr on tokens per min. Limit: 10000 / min. Please try again in 6ms. Visit https://platform.openai.com/account/rate-limits to learn more.. Retrying Question No. 0 Attempt:(1)\n",
      "Rate limit error: Rate limit reached for gpt-4 in organization org-Y2tKyCPFO6tIjtCtOVZ7c9tr on tokens per min. Limit: 10000 / min. Please try again in 6ms. Visit https://platform.openai.com/account/rate-limits to learn more.. Retrying Question No. 1 Attempt:(1)\n",
      "Rate limit error: Rate limit reached for gpt-4 in organization org-Y2tKyCPFO6tIjtCtOVZ7c9tr on tokens per min. Limit: 10000 / min. Please try again in 6ms. Visit https://platform.openai.com/account/rate-limits to learn more.. Retrying Question No. 2 Attempt:(1)\n",
      "Rate limit error: Rate limit reached for gpt-4 in organization org-Y2tKyCPFO6tIjtCtOVZ7c9tr on tokens per min. Limit: 10000 / min. Please try again in 6ms. Visit https://platform.openai.com/account/rate-limits to learn more.. Retrying Question No. 3 Attempt:(1)\n",
      "Rate limit error: Rate limit reached for gpt-4 in organization org-Y2tKyCPFO6tIjtCtOVZ7c9tr on tokens per min. Limit: 10000 / min. Please try again in 6ms. Visit https://platform.openai.com/account/rate-limits to learn more.. Retrying Question No. 4 Attempt:(1)\n",
      "Rate limit error: Rate limit reached for gpt-4 in organization org-Y2tKyCPFO6tIjtCtOVZ7c9tr on tokens per min. Limit: 10000 / min. Please try again in 6ms. Visit https://platform.openai.com/account/rate-limits to learn more.. Retrying Question No. 5 Attempt:(1)\n",
      "Rate limit error: Rate limit reached for gpt-4 in organization org-Y2tKyCPFO6tIjtCtOVZ7c9tr on tokens per min. Limit: 10000 / min. Please try again in 6ms. Visit https://platform.openai.com/account/rate-limits to learn more.. Retrying Question No. 6 Attempt:(1)\n",
      "Rate limit error: Rate limit reached for gpt-4 in organization org-Y2tKyCPFO6tIjtCtOVZ7c9tr on tokens per min. Limit: 10000 / min. Please try again in 6ms. Visit https://platform.openai.com/account/rate-limits to learn more.. Retrying Question No. 7 Attempt:(1)\n",
      "Rate limit error: Rate limit reached for gpt-4 in organization org-Y2tKyCPFO6tIjtCtOVZ7c9tr on tokens per min. Limit: 10000 / min. Please try again in 6ms. Visit https://platform.openai.com/account/rate-limits to learn more.. Retrying Question No. 7 Attempt:(2)\n",
      "Rate limit error: Rate limit reached for gpt-4 in organization org-Y2tKyCPFO6tIjtCtOVZ7c9tr on tokens per min. Limit: 10000 / min. Please try again in 6ms. Visit https://platform.openai.com/account/rate-limits to learn more.. Retrying Question No. 8 Attempt:(1)\n",
      "Rate limit error: Rate limit reached for gpt-4 in organization org-Y2tKyCPFO6tIjtCtOVZ7c9tr on tokens per min. Limit: 10000 / min. Please try again in 6ms. Visit https://platform.openai.com/account/rate-limits to learn more.. Retrying Question No. 1 Attempt:(1)\n",
      "Rate limit error: Rate limit reached for gpt-4 in organization org-Y2tKyCPFO6tIjtCtOVZ7c9tr on tokens per min. Limit: 10000 / min. Please try again in 6ms. Visit https://platform.openai.com/account/rate-limits to learn more.. Retrying Question No. 3 Attempt:(1)\n",
      "Rate limit error: Rate limit reached for gpt-4 in organization org-Y2tKyCPFO6tIjtCtOVZ7c9tr on tokens per min. Limit: 10000 / min. Please try again in 6ms. Visit https://platform.openai.com/account/rate-limits to learn more.. Retrying Question No. 4 Attempt:(1)\n",
      "Rate limit error: Rate limit reached for gpt-4 in organization org-Y2tKyCPFO6tIjtCtOVZ7c9tr on tokens per min. Limit: 10000 / min. Please try again in 6ms. Visit https://platform.openai.com/account/rate-limits to learn more.. Retrying Question No. 6 Attempt:(1)\n",
      "Rate limit error: Rate limit reached for gpt-4 in organization org-Y2tKyCPFO6tIjtCtOVZ7c9tr on tokens per min. Limit: 10000 / min. Please try again in 6ms. Visit https://platform.openai.com/account/rate-limits to learn more.. Retrying Question No. 8 Attempt:(1)\n"
     ]
    },
    {
     "name": "stderr",
     "output_type": "stream",
     "text": [
      " 32%|███▏      | 28/87 [3:11:22<12:29:57, 762.67s/it]"
     ]
    },
    {
     "name": "stdout",
     "output_type": "stream",
     "text": [
      "Rate limit error: Rate limit reached for gpt-4 in organization org-Y2tKyCPFO6tIjtCtOVZ7c9tr on tokens per min. Limit: 10000 / min. Please try again in 6ms. Visit https://platform.openai.com/account/rate-limits to learn more.. Retrying Question No. 0 Attempt:(1)\n",
      "Rate limit error: Rate limit reached for gpt-4 in organization org-Y2tKyCPFO6tIjtCtOVZ7c9tr on tokens per min. Limit: 10000 / min. Please try again in 6ms. Visit https://platform.openai.com/account/rate-limits to learn more.. Retrying Question No. 1 Attempt:(1)\n",
      "Rate limit error: Rate limit reached for gpt-4 in organization org-Y2tKyCPFO6tIjtCtOVZ7c9tr on tokens per min. Limit: 10000 / min. Please try again in 6ms. Visit https://platform.openai.com/account/rate-limits to learn more.. Retrying Question No. 2 Attempt:(1)\n",
      "Rate limit error: Rate limit reached for gpt-4 in organization org-Y2tKyCPFO6tIjtCtOVZ7c9tr on tokens per min. Limit: 10000 / min. Please try again in 6ms. Visit https://platform.openai.com/account/rate-limits to learn more.. Retrying Question No. 3 Attempt:(1)\n",
      "Rate limit error: Rate limit reached for gpt-4 in organization org-Y2tKyCPFO6tIjtCtOVZ7c9tr on tokens per min. Limit: 10000 / min. Please try again in 6ms. Visit https://platform.openai.com/account/rate-limits to learn more.. Retrying Question No. 4 Attempt:(1)\n",
      "Rate limit error: Rate limit reached for gpt-4 in organization org-Y2tKyCPFO6tIjtCtOVZ7c9tr on tokens per min. Limit: 10000 / min. Please try again in 6ms. Visit https://platform.openai.com/account/rate-limits to learn more.. Retrying Question No. 4 Attempt:(2)\n",
      "Rate limit error: Rate limit reached for gpt-4 in organization org-Y2tKyCPFO6tIjtCtOVZ7c9tr on tokens per min. Limit: 10000 / min. Please try again in 6ms. Visit https://platform.openai.com/account/rate-limits to learn more.. Retrying Question No. 5 Attempt:(1)\n",
      "Rate limit error: Rate limit reached for gpt-4 in organization org-Y2tKyCPFO6tIjtCtOVZ7c9tr on tokens per min. Limit: 10000 / min. Please try again in 6ms. Visit https://platform.openai.com/account/rate-limits to learn more.. Retrying Question No. 6 Attempt:(1)\n",
      "Rate limit error: Rate limit reached for gpt-4 in organization org-Y2tKyCPFO6tIjtCtOVZ7c9tr on tokens per min. Limit: 10000 / min. Please try again in 6ms. Visit https://platform.openai.com/account/rate-limits to learn more.. Retrying Question No. 7 Attempt:(1)\n",
      "Rate limit error: Rate limit reached for gpt-4 in organization org-Y2tKyCPFO6tIjtCtOVZ7c9tr on tokens per min. Limit: 10000 / min. Please try again in 6ms. Visit https://platform.openai.com/account/rate-limits to learn more.. Retrying Question No. 8 Attempt:(1)\n",
      "Rate limit error: Rate limit reached for gpt-4 in organization org-Y2tKyCPFO6tIjtCtOVZ7c9tr on tokens per min. Limit: 10000 / min. Please try again in 6ms. Visit https://platform.openai.com/account/rate-limits to learn more.. Retrying Question No. 0 Attempt:(1)\n",
      "Rate limit error: Rate limit reached for gpt-4 in organization org-Y2tKyCPFO6tIjtCtOVZ7c9tr on tokens per min. Limit: 10000 / min. Please try again in 6ms. Visit https://platform.openai.com/account/rate-limits to learn more.. Retrying Question No. 1 Attempt:(1)\n",
      "Rate limit error: Rate limit reached for gpt-4 in organization org-Y2tKyCPFO6tIjtCtOVZ7c9tr on tokens per min. Limit: 10000 / min. Please try again in 6ms. Visit https://platform.openai.com/account/rate-limits to learn more.. Retrying Question No. 2 Attempt:(1)\n",
      "Rate limit error: Rate limit reached for gpt-4 in organization org-Y2tKyCPFO6tIjtCtOVZ7c9tr on tokens per min. Limit: 10000 / min. Please try again in 6ms. Visit https://platform.openai.com/account/rate-limits to learn more.. Retrying Question No. 3 Attempt:(1)\n",
      "Rate limit error: Rate limit reached for gpt-4 in organization org-Y2tKyCPFO6tIjtCtOVZ7c9tr on tokens per min. Limit: 10000 / min. Please try again in 6ms. Visit https://platform.openai.com/account/rate-limits to learn more.. Retrying Question No. 3 Attempt:(2)\n",
      "Rate limit error: Rate limit reached for gpt-4 in organization org-Y2tKyCPFO6tIjtCtOVZ7c9tr on tokens per min. Limit: 10000 / min. Please try again in 6ms. Visit https://platform.openai.com/account/rate-limits to learn more.. Retrying Question No. 4 Attempt:(1)\n",
      "Rate limit error: Rate limit reached for gpt-4 in organization org-Y2tKyCPFO6tIjtCtOVZ7c9tr on tokens per min. Limit: 10000 / min. Please try again in 6ms. Visit https://platform.openai.com/account/rate-limits to learn more.. Retrying Question No. 5 Attempt:(1)\n",
      "Rate limit error: Rate limit reached for gpt-4 in organization org-Y2tKyCPFO6tIjtCtOVZ7c9tr on tokens per min. Limit: 10000 / min. Please try again in 6ms. Visit https://platform.openai.com/account/rate-limits to learn more.. Retrying Question No. 6 Attempt:(1)\n",
      "Rate limit error: Rate limit reached for gpt-4 in organization org-Y2tKyCPFO6tIjtCtOVZ7c9tr on tokens per min. Limit: 10000 / min. Please try again in 6ms. Visit https://platform.openai.com/account/rate-limits to learn more.. Retrying Question No. 7 Attempt:(1)\n",
      "Rate limit error: Rate limit reached for gpt-4 in organization org-Y2tKyCPFO6tIjtCtOVZ7c9tr on tokens per min. Limit: 10000 / min. Please try again in 6ms. Visit https://platform.openai.com/account/rate-limits to learn more.. Retrying Question No. 8 Attempt:(1)\n",
      "Rate limit error: Rate limit reached for gpt-4 in organization org-Y2tKyCPFO6tIjtCtOVZ7c9tr on tokens per min. Limit: 10000 / min. Please try again in 6ms. Visit https://platform.openai.com/account/rate-limits to learn more.. Retrying Question No. 0 Attempt:(1)\n",
      "Rate limit error: Rate limit reached for gpt-4 in organization org-Y2tKyCPFO6tIjtCtOVZ7c9tr on tokens per min. Limit: 10000 / min. Please try again in 6ms. Visit https://platform.openai.com/account/rate-limits to learn more.. Retrying Question No. 3 Attempt:(1)\n",
      "Rate limit error: Rate limit reached for gpt-4 in organization org-Y2tKyCPFO6tIjtCtOVZ7c9tr on tokens per min. Limit: 10000 / min. Please try again in 6ms. Visit https://platform.openai.com/account/rate-limits to learn more.. Retrying Question No. 6 Attempt:(1)\n",
      "Rate limit error: Rate limit reached for gpt-4 in organization org-Y2tKyCPFO6tIjtCtOVZ7c9tr on tokens per min. Limit: 10000 / min. Please try again in 6ms. Visit https://platform.openai.com/account/rate-limits to learn more.. Retrying Question No. 8 Attempt:(1)\n"
     ]
    },
    {
     "name": "stderr",
     "output_type": "stream",
     "text": [
      " 33%|███▎      | 29/87 [3:24:05<12:17:21, 762.79s/it]"
     ]
    },
    {
     "name": "stdout",
     "output_type": "stream",
     "text": [
      "Rate limit error: Rate limit reached for gpt-4 in organization org-Y2tKyCPFO6tIjtCtOVZ7c9tr on tokens per min. Limit: 10000 / min. Please try again in 6ms. Visit https://platform.openai.com/account/rate-limits to learn more.. Retrying Question No. 1 Attempt:(1)\n",
      "Rate limit error: Rate limit reached for gpt-4 in organization org-Y2tKyCPFO6tIjtCtOVZ7c9tr on tokens per min. Limit: 10000 / min. Please try again in 6ms. Visit https://platform.openai.com/account/rate-limits to learn more.. Retrying Question No. 2 Attempt:(1)\n",
      "Rate limit error: Rate limit reached for gpt-4 in organization org-Y2tKyCPFO6tIjtCtOVZ7c9tr on tokens per min. Limit: 10000 / min. Please try again in 6ms. Visit https://platform.openai.com/account/rate-limits to learn more.. Retrying Question No. 4 Attempt:(1)\n",
      "Rate limit error: Rate limit reached for gpt-4 in organization org-Y2tKyCPFO6tIjtCtOVZ7c9tr on tokens per min. Limit: 10000 / min. Please try again in 6ms. Visit https://platform.openai.com/account/rate-limits to learn more.. Retrying Question No. 5 Attempt:(1)\n",
      "Rate limit error: Rate limit reached for gpt-4 in organization org-Y2tKyCPFO6tIjtCtOVZ7c9tr on tokens per min. Limit: 10000 / min. Please try again in 6ms. Visit https://platform.openai.com/account/rate-limits to learn more.. Retrying Question No. 7 Attempt:(1)\n",
      "Rate limit error: Rate limit reached for gpt-4 in organization org-Y2tKyCPFO6tIjtCtOVZ7c9tr on tokens per min. Limit: 10000 / min. Please try again in 6ms. Visit https://platform.openai.com/account/rate-limits to learn more.. Retrying Question No. 8 Attempt:(1)\n"
     ]
    },
    {
     "name": "stderr",
     "output_type": "stream",
     "text": [
      " 34%|███▍      | 30/87 [3:27:19<9:22:37, 592.23s/it] "
     ]
    },
    {
     "name": "stdout",
     "output_type": "stream",
     "text": [
      "Rate limit error: Rate limit reached for gpt-4 in organization org-Y2tKyCPFO6tIjtCtOVZ7c9tr on tokens per min. Limit: 10000 / min. Please try again in 6ms. Visit https://platform.openai.com/account/rate-limits to learn more.. Retrying Question No. 1 Attempt:(1)\n",
      "Rate limit error: Rate limit reached for gpt-4 in organization org-Y2tKyCPFO6tIjtCtOVZ7c9tr on tokens per min. Limit: 10000 / min. Please try again in 6ms. Visit https://platform.openai.com/account/rate-limits to learn more.. Retrying Question No. 4 Attempt:(1)\n",
      "Rate limit error: Rate limit reached for gpt-4 in organization org-Y2tKyCPFO6tIjtCtOVZ7c9tr on tokens per min. Limit: 10000 / min. Please try again in 6ms. Visit https://platform.openai.com/account/rate-limits to learn more.. Retrying Question No. 6 Attempt:(1)\n",
      "Rate limit error: Rate limit reached for gpt-4 in organization org-Y2tKyCPFO6tIjtCtOVZ7c9tr on tokens per min. Limit: 10000 / min. Please try again in 6ms. Visit https://platform.openai.com/account/rate-limits to learn more.. Retrying Question No. 8 Attempt:(1)\n"
     ]
    },
    {
     "name": "stderr",
     "output_type": "stream",
     "text": [
      " 36%|███▌      | 31/87 [3:29:30<7:03:40, 453.94s/it]"
     ]
    },
    {
     "name": "stdout",
     "output_type": "stream",
     "text": [
      "Rate limit error: Rate limit reached for gpt-4 in organization org-Y2tKyCPFO6tIjtCtOVZ7c9tr on tokens per min. Limit: 10000 / min. Please try again in 6ms. Visit https://platform.openai.com/account/rate-limits to learn more.. Retrying Question No. 0 Attempt:(1)\n",
      "Rate limit error: Rate limit reached for gpt-4 in organization org-Y2tKyCPFO6tIjtCtOVZ7c9tr on tokens per min. Limit: 10000 / min. Please try again in 6ms. Visit https://platform.openai.com/account/rate-limits to learn more.. Retrying Question No. 1 Attempt:(1)\n",
      "Rate limit error: Rate limit reached for gpt-4 in organization org-Y2tKyCPFO6tIjtCtOVZ7c9tr on tokens per min. Limit: 10000 / min. Please try again in 6ms. Visit https://platform.openai.com/account/rate-limits to learn more.. Retrying Question No. 2 Attempt:(1)\n",
      "Rate limit error: Rate limit reached for gpt-4 in organization org-Y2tKyCPFO6tIjtCtOVZ7c9tr on tokens per min. Limit: 10000 / min. Please try again in 6ms. Visit https://platform.openai.com/account/rate-limits to learn more.. Retrying Question No. 3 Attempt:(1)\n",
      "Rate limit error: Rate limit reached for gpt-4 in organization org-Y2tKyCPFO6tIjtCtOVZ7c9tr on tokens per min. Limit: 10000 / min. Please try again in 6ms. Visit https://platform.openai.com/account/rate-limits to learn more.. Retrying Question No. 4 Attempt:(1)\n",
      "Rate limit error: Rate limit reached for gpt-4 in organization org-Y2tKyCPFO6tIjtCtOVZ7c9tr on tokens per min. Limit: 10000 / min. Please try again in 6ms. Visit https://platform.openai.com/account/rate-limits to learn more.. Retrying Question No. 5 Attempt:(1)\n",
      "Rate limit error: Rate limit reached for gpt-4 in organization org-Y2tKyCPFO6tIjtCtOVZ7c9tr on tokens per min. Limit: 10000 / min. Please try again in 6ms. Visit https://platform.openai.com/account/rate-limits to learn more.. Retrying Question No. 6 Attempt:(1)\n",
      "Rate limit error: Rate limit reached for gpt-4 in organization org-Y2tKyCPFO6tIjtCtOVZ7c9tr on tokens per min. Limit: 10000 / min. Please try again in 6ms. Visit https://platform.openai.com/account/rate-limits to learn more.. Retrying Question No. 7 Attempt:(1)\n",
      "Rate limit error: Rate limit reached for gpt-4 in organization org-Y2tKyCPFO6tIjtCtOVZ7c9tr on tokens per min. Limit: 10000 / min. Please try again in 6ms. Visit https://platform.openai.com/account/rate-limits to learn more.. Retrying Question No. 8 Attempt:(1)\n",
      "Rate limit error: Rate limit reached for gpt-4 in organization org-Y2tKyCPFO6tIjtCtOVZ7c9tr on tokens per min. Limit: 10000 / min. Please try again in 6ms. Visit https://platform.openai.com/account/rate-limits to learn more.. Retrying Question No. 0 Attempt:(1)\n",
      "Rate limit error: Rate limit reached for gpt-4 in organization org-Y2tKyCPFO6tIjtCtOVZ7c9tr on tokens per min. Limit: 10000 / min. Please try again in 6ms. Visit https://platform.openai.com/account/rate-limits to learn more.. Retrying Question No. 2 Attempt:(1)\n",
      "Rate limit error: Rate limit reached for gpt-4 in organization org-Y2tKyCPFO6tIjtCtOVZ7c9tr on tokens per min. Limit: 10000 / min. Please try again in 6ms. Visit https://platform.openai.com/account/rate-limits to learn more.. Retrying Question No. 3 Attempt:(1)\n",
      "Rate limit error: Rate limit reached for gpt-4 in organization org-Y2tKyCPFO6tIjtCtOVZ7c9tr on tokens per min. Limit: 10000 / min. Please try again in 6ms. Visit https://platform.openai.com/account/rate-limits to learn more.. Retrying Question No. 5 Attempt:(1)\n",
      "Rate limit error: Rate limit reached for gpt-4 in organization org-Y2tKyCPFO6tIjtCtOVZ7c9tr on tokens per min. Limit: 10000 / min. Please try again in 6ms. Visit https://platform.openai.com/account/rate-limits to learn more.. Retrying Question No. 7 Attempt:(1)\n"
     ]
    },
    {
     "name": "stderr",
     "output_type": "stream",
     "text": [
      " 37%|███▋      | 32/87 [3:37:04<6:56:03, 453.88s/it]"
     ]
    },
    {
     "name": "stdout",
     "output_type": "stream",
     "text": [
      "Rate limit error: Rate limit reached for gpt-4 in organization org-Y2tKyCPFO6tIjtCtOVZ7c9tr on tokens per min. Limit: 10000 / min. Please try again in 6ms. Visit https://platform.openai.com/account/rate-limits to learn more.. Retrying Question No. 0 Attempt:(1)\n",
      "Rate limit error: Rate limit reached for gpt-4 in organization org-Y2tKyCPFO6tIjtCtOVZ7c9tr on tokens per min. Limit: 10000 / min. Please try again in 6ms. Visit https://platform.openai.com/account/rate-limits to learn more.. Retrying Question No. 1 Attempt:(1)\n",
      "Rate limit error: Rate limit reached for gpt-4 in organization org-Y2tKyCPFO6tIjtCtOVZ7c9tr on tokens per min. Limit: 10000 / min. Please try again in 6ms. Visit https://platform.openai.com/account/rate-limits to learn more.. Retrying Question No. 2 Attempt:(1)\n",
      "Rate limit error: Rate limit reached for gpt-4 in organization org-Y2tKyCPFO6tIjtCtOVZ7c9tr on tokens per min. Limit: 10000 / min. Please try again in 6ms. Visit https://platform.openai.com/account/rate-limits to learn more.. Retrying Question No. 3 Attempt:(1)\n",
      "Rate limit error: Rate limit reached for gpt-4 in organization org-Y2tKyCPFO6tIjtCtOVZ7c9tr on tokens per min. Limit: 10000 / min. Please try again in 6ms. Visit https://platform.openai.com/account/rate-limits to learn more.. Retrying Question No. 5 Attempt:(1)\n",
      "Rate limit error: Rate limit reached for gpt-4 in organization org-Y2tKyCPFO6tIjtCtOVZ7c9tr on tokens per min. Limit: 10000 / min. Please try again in 6ms. Visit https://platform.openai.com/account/rate-limits to learn more.. Retrying Question No. 6 Attempt:(1)\n",
      "Rate limit error: Rate limit reached for gpt-4 in organization org-Y2tKyCPFO6tIjtCtOVZ7c9tr on tokens per min. Limit: 10000 / min. Please try again in 6ms. Visit https://platform.openai.com/account/rate-limits to learn more.. Retrying Question No. 7 Attempt:(1)\n",
      "Rate limit error: Rate limit reached for gpt-4 in organization org-Y2tKyCPFO6tIjtCtOVZ7c9tr on tokens per min. Limit: 10000 / min. Please try again in 6ms. Visit https://platform.openai.com/account/rate-limits to learn more.. Retrying Question No. 8 Attempt:(1)\n"
     ]
    },
    {
     "name": "stderr",
     "output_type": "stream",
     "text": [
      " 38%|███▊      | 33/87 [3:41:21<5:55:20, 394.83s/it]"
     ]
    },
    {
     "name": "stdout",
     "output_type": "stream",
     "text": [
      "Rate limit error: Rate limit reached for gpt-4 in organization org-Y2tKyCPFO6tIjtCtOVZ7c9tr on tokens per min. Limit: 10000 / min. Please try again in 6ms. Visit https://platform.openai.com/account/rate-limits to learn more.. Retrying Question No. 0 Attempt:(1)\n",
      "Rate limit error: Rate limit reached for gpt-4 in organization org-Y2tKyCPFO6tIjtCtOVZ7c9tr on tokens per min. Limit: 10000 / min. Please try again in 6ms. Visit https://platform.openai.com/account/rate-limits to learn more.. Retrying Question No. 2 Attempt:(1)\n",
      "Rate limit error: Rate limit reached for gpt-4 in organization org-Y2tKyCPFO6tIjtCtOVZ7c9tr on tokens per min. Limit: 10000 / min. Please try again in 6ms. Visit https://platform.openai.com/account/rate-limits to learn more.. Retrying Question No. 3 Attempt:(1)\n",
      "Rate limit error: Rate limit reached for gpt-4 in organization org-Y2tKyCPFO6tIjtCtOVZ7c9tr on tokens per min. Limit: 10000 / min. Please try again in 6ms. Visit https://platform.openai.com/account/rate-limits to learn more.. Retrying Question No. 5 Attempt:(1)\n",
      "Rate limit error: Rate limit reached for gpt-4 in organization org-Y2tKyCPFO6tIjtCtOVZ7c9tr on tokens per min. Limit: 10000 / min. Please try again in 6ms. Visit https://platform.openai.com/account/rate-limits to learn more.. Retrying Question No. 6 Attempt:(1)\n",
      "Rate limit error: Rate limit reached for gpt-4 in organization org-Y2tKyCPFO6tIjtCtOVZ7c9tr on tokens per min. Limit: 10000 / min. Please try again in 6ms. Visit https://platform.openai.com/account/rate-limits to learn more.. Retrying Question No. 7 Attempt:(1)\n"
     ]
    },
    {
     "name": "stderr",
     "output_type": "stream",
     "text": [
      " 39%|███▉      | 34/87 [3:44:36<4:55:45, 334.81s/it]"
     ]
    },
    {
     "name": "stdout",
     "output_type": "stream",
     "text": [
      "Rate limit error: Rate limit reached for gpt-4 in organization org-Y2tKyCPFO6tIjtCtOVZ7c9tr on tokens per min. Limit: 10000 / min. Please try again in 6ms. Visit https://platform.openai.com/account/rate-limits to learn more.. Retrying Question No. 0 Attempt:(1)\n",
      "Rate limit error: Rate limit reached for gpt-4 in organization org-Y2tKyCPFO6tIjtCtOVZ7c9tr on tokens per min. Limit: 10000 / min. Please try again in 6ms. Visit https://platform.openai.com/account/rate-limits to learn more.. Retrying Question No. 1 Attempt:(1)\n",
      "Rate limit error: Rate limit reached for gpt-4 in organization org-Y2tKyCPFO6tIjtCtOVZ7c9tr on tokens per min. Limit: 10000 / min. Please try again in 6ms. Visit https://platform.openai.com/account/rate-limits to learn more.. Retrying Question No. 3 Attempt:(1)\n",
      "Rate limit error: Rate limit reached for gpt-4 in organization org-Y2tKyCPFO6tIjtCtOVZ7c9tr on tokens per min. Limit: 10000 / min. Please try again in 6ms. Visit https://platform.openai.com/account/rate-limits to learn more.. Retrying Question No. 4 Attempt:(1)\n",
      "An error occurred: Request timed out: HTTPSConnectionPool(host='api.openai.com', port=443): Read timed out. (read timeout=600). Retrying Question No. 4 Attempt:(2)\n",
      "Rate limit error: Rate limit reached for gpt-4 in organization org-Y2tKyCPFO6tIjtCtOVZ7c9tr on tokens per min. Limit: 10000 / min. Please try again in 6ms. Visit https://platform.openai.com/account/rate-limits to learn more.. Retrying Question No. 6 Attempt:(1)\n",
      "Rate limit error: Rate limit reached for gpt-4 in organization org-Y2tKyCPFO6tIjtCtOVZ7c9tr on tokens per min. Limit: 10000 / min. Please try again in 6ms. Visit https://platform.openai.com/account/rate-limits to learn more.. Retrying Question No. 8 Attempt:(1)\n"
     ]
    },
    {
     "name": "stderr",
     "output_type": "stream",
     "text": [
      " 40%|████      | 35/87 [3:57:52<6:50:02, 473.12s/it]"
     ]
    },
    {
     "name": "stdout",
     "output_type": "stream",
     "text": [
      "Rate limit error: Rate limit reached for gpt-4 in organization org-Y2tKyCPFO6tIjtCtOVZ7c9tr on tokens per min. Limit: 10000 / min. Please try again in 6ms. Visit https://platform.openai.com/account/rate-limits to learn more.. Retrying Question No. 0 Attempt:(1)\n",
      "Rate limit error: Rate limit reached for gpt-4 in organization org-Y2tKyCPFO6tIjtCtOVZ7c9tr on tokens per min. Limit: 10000 / min. Please try again in 6ms. Visit https://platform.openai.com/account/rate-limits to learn more.. Retrying Question No. 1 Attempt:(1)\n",
      "Rate limit error: Rate limit reached for gpt-4 in organization org-Y2tKyCPFO6tIjtCtOVZ7c9tr on tokens per min. Limit: 10000 / min. Please try again in 6ms. Visit https://platform.openai.com/account/rate-limits to learn more.. Retrying Question No. 2 Attempt:(1)\n",
      "Rate limit error: Rate limit reached for gpt-4 in organization org-Y2tKyCPFO6tIjtCtOVZ7c9tr on tokens per min. Limit: 10000 / min. Please try again in 6ms. Visit https://platform.openai.com/account/rate-limits to learn more.. Retrying Question No. 3 Attempt:(1)\n",
      "Rate limit error: Rate limit reached for gpt-4 in organization org-Y2tKyCPFO6tIjtCtOVZ7c9tr on tokens per min. Limit: 10000 / min. Please try again in 6ms. Visit https://platform.openai.com/account/rate-limits to learn more.. Retrying Question No. 4 Attempt:(1)\n",
      "An error occurred: Request timed out: HTTPSConnectionPool(host='api.openai.com', port=443): Read timed out. (read timeout=600). Retrying Question No. 4 Attempt:(2)\n",
      "Rate limit error: Rate limit reached for gpt-4 in organization org-Y2tKyCPFO6tIjtCtOVZ7c9tr on tokens per min. Limit: 10000 / min. Please try again in 6ms. Visit https://platform.openai.com/account/rate-limits to learn more.. Retrying Question No. 5 Attempt:(1)\n",
      "Rate limit error: Rate limit reached for gpt-4 in organization org-Y2tKyCPFO6tIjtCtOVZ7c9tr on tokens per min. Limit: 10000 / min. Please try again in 6ms. Visit https://platform.openai.com/account/rate-limits to learn more.. Retrying Question No. 6 Attempt:(1)\n",
      "Rate limit error: Rate limit reached for gpt-4 in organization org-Y2tKyCPFO6tIjtCtOVZ7c9tr on tokens per min. Limit: 10000 / min. Please try again in 6ms. Visit https://platform.openai.com/account/rate-limits to learn more.. Retrying Question No. 7 Attempt:(1)\n",
      "Rate limit error: Rate limit reached for gpt-4 in organization org-Y2tKyCPFO6tIjtCtOVZ7c9tr on tokens per min. Limit: 10000 / min. Please try again in 6ms. Visit https://platform.openai.com/account/rate-limits to learn more.. Retrying Question No. 8 Attempt:(1)\n"
     ]
    },
    {
     "name": "stderr",
     "output_type": "stream",
     "text": [
      " 41%|████▏     | 36/87 [4:12:40<8:28:02, 597.70s/it]"
     ]
    },
    {
     "name": "stdout",
     "output_type": "stream",
     "text": [
      "Rate limit error: Rate limit reached for gpt-4 in organization org-Y2tKyCPFO6tIjtCtOVZ7c9tr on tokens per min. Limit: 10000 / min. Please try again in 6ms. Visit https://platform.openai.com/account/rate-limits to learn more.. Retrying Question No. 0 Attempt:(1)\n",
      "Rate limit error: Rate limit reached for gpt-4 in organization org-Y2tKyCPFO6tIjtCtOVZ7c9tr on tokens per min. Limit: 10000 / min. Please try again in 6ms. Visit https://platform.openai.com/account/rate-limits to learn more.. Retrying Question No. 1 Attempt:(1)\n",
      "Rate limit error: Rate limit reached for gpt-4 in organization org-Y2tKyCPFO6tIjtCtOVZ7c9tr on tokens per min. Limit: 10000 / min. Please try again in 6ms. Visit https://platform.openai.com/account/rate-limits to learn more.. Retrying Question No. 2 Attempt:(1)\n",
      "Rate limit error: Rate limit reached for gpt-4 in organization org-Y2tKyCPFO6tIjtCtOVZ7c9tr on tokens per min. Limit: 10000 / min. Please try again in 6ms. Visit https://platform.openai.com/account/rate-limits to learn more.. Retrying Question No. 3 Attempt:(1)\n",
      "Rate limit error: Rate limit reached for gpt-4 in organization org-Y2tKyCPFO6tIjtCtOVZ7c9tr on tokens per min. Limit: 10000 / min. Please try again in 6ms. Visit https://platform.openai.com/account/rate-limits to learn more.. Retrying Question No. 4 Attempt:(1)\n",
      "Rate limit error: Rate limit reached for gpt-4 in organization org-Y2tKyCPFO6tIjtCtOVZ7c9tr on tokens per min. Limit: 10000 / min. Please try again in 6ms. Visit https://platform.openai.com/account/rate-limits to learn more.. Retrying Question No. 5 Attempt:(1)\n",
      "Rate limit error: Rate limit reached for gpt-4 in organization org-Y2tKyCPFO6tIjtCtOVZ7c9tr on tokens per min. Limit: 10000 / min. Please try again in 6ms. Visit https://platform.openai.com/account/rate-limits to learn more.. Retrying Question No. 6 Attempt:(1)\n",
      "Rate limit error: Rate limit reached for gpt-4 in organization org-Y2tKyCPFO6tIjtCtOVZ7c9tr on tokens per min. Limit: 10000 / min. Please try again in 6ms. Visit https://platform.openai.com/account/rate-limits to learn more.. Retrying Question No. 6 Attempt:(2)\n",
      "Rate limit error: Rate limit reached for gpt-4 in organization org-Y2tKyCPFO6tIjtCtOVZ7c9tr on tokens per min. Limit: 10000 / min. Please try again in 6ms. Visit https://platform.openai.com/account/rate-limits to learn more.. Retrying Question No. 7 Attempt:(1)\n",
      "Rate limit error: Rate limit reached for gpt-4 in organization org-Y2tKyCPFO6tIjtCtOVZ7c9tr on tokens per min. Limit: 10000 / min. Please try again in 6ms. Visit https://platform.openai.com/account/rate-limits to learn more.. Retrying Question No. 8 Attempt:(1)\n",
      "Rate limit error: Rate limit reached for gpt-4 in organization org-Y2tKyCPFO6tIjtCtOVZ7c9tr on tokens per min. Limit: 10000 / min. Please try again in 6ms. Visit https://platform.openai.com/account/rate-limits to learn more.. Retrying Question No. 0 Attempt:(1)\n",
      "Rate limit error: Rate limit reached for gpt-4 in organization org-Y2tKyCPFO6tIjtCtOVZ7c9tr on tokens per min. Limit: 10000 / min. Please try again in 6ms. Visit https://platform.openai.com/account/rate-limits to learn more.. Retrying Question No. 1 Attempt:(1)\n",
      "Rate limit error: Rate limit reached for gpt-4 in organization org-Y2tKyCPFO6tIjtCtOVZ7c9tr on tokens per min. Limit: 10000 / min. Please try again in 6ms. Visit https://platform.openai.com/account/rate-limits to learn more.. Retrying Question No. 2 Attempt:(1)\n",
      "Rate limit error: Rate limit reached for gpt-4 in organization org-Y2tKyCPFO6tIjtCtOVZ7c9tr on tokens per min. Limit: 10000 / min. Please try again in 6ms. Visit https://platform.openai.com/account/rate-limits to learn more.. Retrying Question No. 3 Attempt:(1)\n",
      "Rate limit error: Rate limit reached for gpt-4 in organization org-Y2tKyCPFO6tIjtCtOVZ7c9tr on tokens per min. Limit: 10000 / min. Please try again in 6ms. Visit https://platform.openai.com/account/rate-limits to learn more.. Retrying Question No. 4 Attempt:(1)\n",
      "Rate limit error: Rate limit reached for gpt-4 in organization org-Y2tKyCPFO6tIjtCtOVZ7c9tr on tokens per min. Limit: 10000 / min. Please try again in 6ms. Visit https://platform.openai.com/account/rate-limits to learn more.. Retrying Question No. 5 Attempt:(1)\n",
      "Rate limit error: Rate limit reached for gpt-4 in organization org-Y2tKyCPFO6tIjtCtOVZ7c9tr on tokens per min. Limit: 10000 / min. Please try again in 6ms. Visit https://platform.openai.com/account/rate-limits to learn more.. Retrying Question No. 6 Attempt:(1)\n",
      "Rate limit error: Rate limit reached for gpt-4 in organization org-Y2tKyCPFO6tIjtCtOVZ7c9tr on tokens per min. Limit: 10000 / min. Please try again in 6ms. Visit https://platform.openai.com/account/rate-limits to learn more.. Retrying Question No. 7 Attempt:(1)\n",
      "Rate limit error: Rate limit reached for gpt-4 in organization org-Y2tKyCPFO6tIjtCtOVZ7c9tr on tokens per min. Limit: 10000 / min. Please try again in 6ms. Visit https://platform.openai.com/account/rate-limits to learn more.. Retrying Question No. 8 Attempt:(1)\n",
      "Rate limit error: Rate limit reached for gpt-4 in organization org-Y2tKyCPFO6tIjtCtOVZ7c9tr on tokens per min. Limit: 10000 / min. Please try again in 6ms. Visit https://platform.openai.com/account/rate-limits to learn more.. Retrying Question No. 0 Attempt:(1)\n",
      "Rate limit error: Rate limit reached for gpt-4 in organization org-Y2tKyCPFO6tIjtCtOVZ7c9tr on tokens per min. Limit: 10000 / min. Please try again in 6ms. Visit https://platform.openai.com/account/rate-limits to learn more.. Retrying Question No. 1 Attempt:(1)\n",
      "Rate limit error: Rate limit reached for gpt-4 in organization org-Y2tKyCPFO6tIjtCtOVZ7c9tr on tokens per min. Limit: 10000 / min. Please try again in 6ms. Visit https://platform.openai.com/account/rate-limits to learn more.. Retrying Question No. 3 Attempt:(1)\n",
      "Rate limit error: Rate limit reached for gpt-4 in organization org-Y2tKyCPFO6tIjtCtOVZ7c9tr on tokens per min. Limit: 10000 / min. Please try again in 6ms. Visit https://platform.openai.com/account/rate-limits to learn more.. Retrying Question No. 4 Attempt:(1)\n",
      "Rate limit error: Rate limit reached for gpt-4 in organization org-Y2tKyCPFO6tIjtCtOVZ7c9tr on tokens per min. Limit: 10000 / min. Please try again in 6ms. Visit https://platform.openai.com/account/rate-limits to learn more.. Retrying Question No. 5 Attempt:(1)\n",
      "Rate limit error: Rate limit reached for gpt-4 in organization org-Y2tKyCPFO6tIjtCtOVZ7c9tr on tokens per min. Limit: 10000 / min. Please try again in 6ms. Visit https://platform.openai.com/account/rate-limits to learn more.. Retrying Question No. 6 Attempt:(1)\n",
      "Rate limit error: Rate limit reached for gpt-4 in organization org-Y2tKyCPFO6tIjtCtOVZ7c9tr on tokens per min. Limit: 10000 / min. Please try again in 6ms. Visit https://platform.openai.com/account/rate-limits to learn more.. Retrying Question No. 7 Attempt:(1)\n",
      "Rate limit error: Rate limit reached for gpt-4 in organization org-Y2tKyCPFO6tIjtCtOVZ7c9tr on tokens per min. Limit: 10000 / min. Please try again in 6ms. Visit https://platform.openai.com/account/rate-limits to learn more.. Retrying Question No. 8 Attempt:(1)\n"
     ]
    },
    {
     "name": "stderr",
     "output_type": "stream",
     "text": [
      " 43%|████▎     | 37/87 [4:27:02<9:24:07, 676.95s/it]"
     ]
    },
    {
     "name": "stdout",
     "output_type": "stream",
     "text": [
      "Rate limit error: Rate limit reached for gpt-4 in organization org-Y2tKyCPFO6tIjtCtOVZ7c9tr on tokens per min. Limit: 10000 / min. Please try again in 6ms. Visit https://platform.openai.com/account/rate-limits to learn more.. Retrying Question No. 1 Attempt:(1)\n",
      "Rate limit error: Rate limit reached for gpt-4 in organization org-Y2tKyCPFO6tIjtCtOVZ7c9tr on tokens per min. Limit: 10000 / min. Please try again in 6ms. Visit https://platform.openai.com/account/rate-limits to learn more.. Retrying Question No. 3 Attempt:(1)\n",
      "Rate limit error: Rate limit reached for gpt-4 in organization org-Y2tKyCPFO6tIjtCtOVZ7c9tr on tokens per min. Limit: 10000 / min. Please try again in 6ms. Visit https://platform.openai.com/account/rate-limits to learn more.. Retrying Question No. 4 Attempt:(1)\n",
      "Rate limit error: Rate limit reached for gpt-4 in organization org-Y2tKyCPFO6tIjtCtOVZ7c9tr on tokens per min. Limit: 10000 / min. Please try again in 6ms. Visit https://platform.openai.com/account/rate-limits to learn more.. Retrying Question No. 6 Attempt:(1)\n",
      "Rate limit error: Rate limit reached for gpt-4 in organization org-Y2tKyCPFO6tIjtCtOVZ7c9tr on tokens per min. Limit: 10000 / min. Please try again in 6ms. Visit https://platform.openai.com/account/rate-limits to learn more.. Retrying Question No. 8 Attempt:(1)\n"
     ]
    },
    {
     "name": "stderr",
     "output_type": "stream",
     "text": [
      " 44%|████▎     | 38/87 [4:29:47<7:07:30, 523.48s/it]"
     ]
    },
    {
     "name": "stdout",
     "output_type": "stream",
     "text": [
      "Rate limit error: Rate limit reached for gpt-4 in organization org-Y2tKyCPFO6tIjtCtOVZ7c9tr on tokens per min. Limit: 10000 / min. Please try again in 6ms. Visit https://platform.openai.com/account/rate-limits to learn more.. Retrying Question No. 0 Attempt:(1)\n",
      "Rate limit error: Rate limit reached for gpt-4 in organization org-Y2tKyCPFO6tIjtCtOVZ7c9tr on tokens per min. Limit: 10000 / min. Please try again in 6ms. Visit https://platform.openai.com/account/rate-limits to learn more.. Retrying Question No. 1 Attempt:(1)\n",
      "Rate limit error: Rate limit reached for gpt-4 in organization org-Y2tKyCPFO6tIjtCtOVZ7c9tr on tokens per min. Limit: 10000 / min. Please try again in 6ms. Visit https://platform.openai.com/account/rate-limits to learn more.. Retrying Question No. 2 Attempt:(1)\n",
      "Rate limit error: Rate limit reached for gpt-4 in organization org-Y2tKyCPFO6tIjtCtOVZ7c9tr on tokens per min. Limit: 10000 / min. Please try again in 6ms. Visit https://platform.openai.com/account/rate-limits to learn more.. Retrying Question No. 3 Attempt:(1)\n",
      "Rate limit error: Rate limit reached for gpt-4 in organization org-Y2tKyCPFO6tIjtCtOVZ7c9tr on tokens per min. Limit: 10000 / min. Please try again in 6ms. Visit https://platform.openai.com/account/rate-limits to learn more.. Retrying Question No. 3 Attempt:(2)\n",
      "Rate limit error: Rate limit reached for gpt-4 in organization org-Y2tKyCPFO6tIjtCtOVZ7c9tr on tokens per min. Limit: 10000 / min. Please try again in 6ms. Visit https://platform.openai.com/account/rate-limits to learn more.. Retrying Question No. 4 Attempt:(1)\n",
      "Rate limit error: Rate limit reached for gpt-4 in organization org-Y2tKyCPFO6tIjtCtOVZ7c9tr on tokens per min. Limit: 10000 / min. Please try again in 6ms. Visit https://platform.openai.com/account/rate-limits to learn more.. Retrying Question No. 5 Attempt:(1)\n",
      "Rate limit error: Rate limit reached for gpt-4 in organization org-Y2tKyCPFO6tIjtCtOVZ7c9tr on tokens per min. Limit: 10000 / min. Please try again in 6ms. Visit https://platform.openai.com/account/rate-limits to learn more.. Retrying Question No. 6 Attempt:(1)\n",
      "Rate limit error: Rate limit reached for gpt-4 in organization org-Y2tKyCPFO6tIjtCtOVZ7c9tr on tokens per min. Limit: 10000 / min. Please try again in 6ms. Visit https://platform.openai.com/account/rate-limits to learn more.. Retrying Question No. 7 Attempt:(1)\n",
      "Rate limit error: Rate limit reached for gpt-4 in organization org-Y2tKyCPFO6tIjtCtOVZ7c9tr on tokens per min. Limit: 10000 / min. Please try again in 6ms. Visit https://platform.openai.com/account/rate-limits to learn more.. Retrying Question No. 8 Attempt:(1)\n"
     ]
    },
    {
     "name": "stderr",
     "output_type": "stream",
     "text": [
      " 45%|████▍     | 39/87 [4:35:09<6:10:20, 462.92s/it]"
     ]
    },
    {
     "name": "stdout",
     "output_type": "stream",
     "text": [
      "Rate limit error: Rate limit reached for gpt-4 in organization org-Y2tKyCPFO6tIjtCtOVZ7c9tr on tokens per min. Limit: 10000 / min. Please try again in 6ms. Visit https://platform.openai.com/account/rate-limits to learn more.. Retrying Question No. 0 Attempt:(1)\n",
      "Rate limit error: Rate limit reached for gpt-4 in organization org-Y2tKyCPFO6tIjtCtOVZ7c9tr on tokens per min. Limit: 10000 / min. Please try again in 6ms. Visit https://platform.openai.com/account/rate-limits to learn more.. Retrying Question No. 1 Attempt:(1)\n",
      "Rate limit error: Rate limit reached for gpt-4 in organization org-Y2tKyCPFO6tIjtCtOVZ7c9tr on tokens per min. Limit: 10000 / min. Please try again in 6ms. Visit https://platform.openai.com/account/rate-limits to learn more.. Retrying Question No. 3 Attempt:(1)\n",
      "Rate limit error: Rate limit reached for gpt-4 in organization org-Y2tKyCPFO6tIjtCtOVZ7c9tr on tokens per min. Limit: 10000 / min. Please try again in 6ms. Visit https://platform.openai.com/account/rate-limits to learn more.. Retrying Question No. 5 Attempt:(1)\n",
      "Rate limit error: Rate limit reached for gpt-4 in organization org-Y2tKyCPFO6tIjtCtOVZ7c9tr on tokens per min. Limit: 10000 / min. Please try again in 6ms. Visit https://platform.openai.com/account/rate-limits to learn more.. Retrying Question No. 6 Attempt:(1)\n",
      "Rate limit error: Rate limit reached for gpt-4 in organization org-Y2tKyCPFO6tIjtCtOVZ7c9tr on tokens per min. Limit: 10000 / min. Please try again in 6ms. Visit https://platform.openai.com/account/rate-limits to learn more.. Retrying Question No. 8 Attempt:(1)\n"
     ]
    },
    {
     "name": "stderr",
     "output_type": "stream",
     "text": [
      " 46%|████▌     | 40/87 [4:38:24<4:59:48, 382.73s/it]"
     ]
    },
    {
     "name": "stdout",
     "output_type": "stream",
     "text": [
      "Rate limit error: Rate limit reached for gpt-4 in organization org-Y2tKyCPFO6tIjtCtOVZ7c9tr on tokens per min. Limit: 10000 / min. Please try again in 6ms. Visit https://platform.openai.com/account/rate-limits to learn more.. Retrying Question No. 0 Attempt:(1)\n",
      "Rate limit error: Rate limit reached for gpt-4 in organization org-Y2tKyCPFO6tIjtCtOVZ7c9tr on tokens per min. Limit: 10000 / min. Please try again in 6ms. Visit https://platform.openai.com/account/rate-limits to learn more.. Retrying Question No. 1 Attempt:(1)\n",
      "Rate limit error: Rate limit reached for gpt-4 in organization org-Y2tKyCPFO6tIjtCtOVZ7c9tr on tokens per min. Limit: 10000 / min. Please try again in 6ms. Visit https://platform.openai.com/account/rate-limits to learn more.. Retrying Question No. 2 Attempt:(1)\n",
      "Rate limit error: Rate limit reached for gpt-4 in organization org-Y2tKyCPFO6tIjtCtOVZ7c9tr on tokens per min. Limit: 10000 / min. Please try again in 6ms. Visit https://platform.openai.com/account/rate-limits to learn more.. Retrying Question No. 3 Attempt:(1)\n",
      "Rate limit error: Rate limit reached for gpt-4 in organization org-Y2tKyCPFO6tIjtCtOVZ7c9tr on tokens per min. Limit: 10000 / min. Please try again in 6ms. Visit https://platform.openai.com/account/rate-limits to learn more.. Retrying Question No. 4 Attempt:(1)\n",
      "Rate limit error: Rate limit reached for gpt-4 in organization org-Y2tKyCPFO6tIjtCtOVZ7c9tr on tokens per min. Limit: 10000 / min. Please try again in 6ms. Visit https://platform.openai.com/account/rate-limits to learn more.. Retrying Question No. 5 Attempt:(1)\n",
      "Rate limit error: Rate limit reached for gpt-4 in organization org-Y2tKyCPFO6tIjtCtOVZ7c9tr on tokens per min. Limit: 10000 / min. Please try again in 6ms. Visit https://platform.openai.com/account/rate-limits to learn more.. Retrying Question No. 6 Attempt:(1)\n",
      "Rate limit error: Rate limit reached for gpt-4 in organization org-Y2tKyCPFO6tIjtCtOVZ7c9tr on tokens per min. Limit: 10000 / min. Please try again in 6ms. Visit https://platform.openai.com/account/rate-limits to learn more.. Retrying Question No. 6 Attempt:(2)\n",
      "Rate limit error: Rate limit reached for gpt-4 in organization org-Y2tKyCPFO6tIjtCtOVZ7c9tr on tokens per min. Limit: 10000 / min. Please try again in 6ms. Visit https://platform.openai.com/account/rate-limits to learn more.. Retrying Question No. 7 Attempt:(1)\n",
      "Rate limit error: Rate limit reached for gpt-4 in organization org-Y2tKyCPFO6tIjtCtOVZ7c9tr on tokens per min. Limit: 10000 / min. Please try again in 6ms. Visit https://platform.openai.com/account/rate-limits to learn more.. Retrying Question No. 8 Attempt:(1)\n"
     ]
    },
    {
     "name": "stderr",
     "output_type": "stream",
     "text": [
      " 47%|████▋     | 41/87 [4:43:50<4:40:17, 365.59s/it]"
     ]
    },
    {
     "name": "stdout",
     "output_type": "stream",
     "text": [
      "Rate limit error: Rate limit reached for gpt-4 in organization org-Y2tKyCPFO6tIjtCtOVZ7c9tr on tokens per min. Limit: 10000 / min. Please try again in 6ms. Visit https://platform.openai.com/account/rate-limits to learn more.. Retrying Question No. 0 Attempt:(1)\n",
      "Rate limit error: Rate limit reached for gpt-4 in organization org-Y2tKyCPFO6tIjtCtOVZ7c9tr on tokens per min. Limit: 10000 / min. Please try again in 6ms. Visit https://platform.openai.com/account/rate-limits to learn more.. Retrying Question No. 1 Attempt:(1)\n",
      "Rate limit error: Rate limit reached for gpt-4 in organization org-Y2tKyCPFO6tIjtCtOVZ7c9tr on tokens per min. Limit: 10000 / min. Please try again in 6ms. Visit https://platform.openai.com/account/rate-limits to learn more.. Retrying Question No. 3 Attempt:(1)\n",
      "Rate limit error: Rate limit reached for gpt-4 in organization org-Y2tKyCPFO6tIjtCtOVZ7c9tr on tokens per min. Limit: 10000 / min. Please try again in 6ms. Visit https://platform.openai.com/account/rate-limits to learn more.. Retrying Question No. 4 Attempt:(1)\n",
      "Rate limit error: Rate limit reached for gpt-4 in organization org-Y2tKyCPFO6tIjtCtOVZ7c9tr on tokens per min. Limit: 10000 / min. Please try again in 6ms. Visit https://platform.openai.com/account/rate-limits to learn more.. Retrying Question No. 5 Attempt:(1)\n",
      "Rate limit error: Rate limit reached for gpt-4 in organization org-Y2tKyCPFO6tIjtCtOVZ7c9tr on tokens per min. Limit: 10000 / min. Please try again in 6ms. Visit https://platform.openai.com/account/rate-limits to learn more.. Retrying Question No. 7 Attempt:(1)\n",
      "Rate limit error: Rate limit reached for gpt-4 in organization org-Y2tKyCPFO6tIjtCtOVZ7c9tr on tokens per min. Limit: 10000 / min. Please try again in 6ms. Visit https://platform.openai.com/account/rate-limits to learn more.. Retrying Question No. 8 Attempt:(1)\n"
     ]
    },
    {
     "name": "stderr",
     "output_type": "stream",
     "text": [
      " 48%|████▊     | 42/87 [4:47:36<4:02:40, 323.57s/it]"
     ]
    },
    {
     "name": "stdout",
     "output_type": "stream",
     "text": [
      "Rate limit error: Rate limit reached for gpt-4 in organization org-Y2tKyCPFO6tIjtCtOVZ7c9tr on tokens per min. Limit: 10000 / min. Please try again in 6ms. Visit https://platform.openai.com/account/rate-limits to learn more.. Retrying Question No. 0 Attempt:(1)\n",
      "Rate limit error: Rate limit reached for gpt-4 in organization org-Y2tKyCPFO6tIjtCtOVZ7c9tr on tokens per min. Limit: 10000 / min. Please try again in 6ms. Visit https://platform.openai.com/account/rate-limits to learn more.. Retrying Question No. 1 Attempt:(1)\n",
      "Rate limit error: Rate limit reached for gpt-4 in organization org-Y2tKyCPFO6tIjtCtOVZ7c9tr on tokens per min. Limit: 10000 / min. Please try again in 6ms. Visit https://platform.openai.com/account/rate-limits to learn more.. Retrying Question No. 2 Attempt:(1)\n",
      "Rate limit error: Rate limit reached for gpt-4 in organization org-Y2tKyCPFO6tIjtCtOVZ7c9tr on tokens per min. Limit: 10000 / min. Please try again in 6ms. Visit https://platform.openai.com/account/rate-limits to learn more.. Retrying Question No. 3 Attempt:(1)\n",
      "Rate limit error: Rate limit reached for gpt-4 in organization org-Y2tKyCPFO6tIjtCtOVZ7c9tr on tokens per min. Limit: 10000 / min. Please try again in 6ms. Visit https://platform.openai.com/account/rate-limits to learn more.. Retrying Question No. 4 Attempt:(1)\n",
      "Rate limit error: Rate limit reached for gpt-4 in organization org-Y2tKyCPFO6tIjtCtOVZ7c9tr on tokens per min. Limit: 10000 / min. Please try again in 6ms. Visit https://platform.openai.com/account/rate-limits to learn more.. Retrying Question No. 5 Attempt:(1)\n",
      "Rate limit error: Rate limit reached for gpt-4 in organization org-Y2tKyCPFO6tIjtCtOVZ7c9tr on tokens per min. Limit: 10000 / min. Please try again in 6ms. Visit https://platform.openai.com/account/rate-limits to learn more.. Retrying Question No. 6 Attempt:(1)\n",
      "Rate limit error: Rate limit reached for gpt-4 in organization org-Y2tKyCPFO6tIjtCtOVZ7c9tr on tokens per min. Limit: 10000 / min. Please try again in 6ms. Visit https://platform.openai.com/account/rate-limits to learn more.. Retrying Question No. 7 Attempt:(1)\n",
      "Rate limit error: Rate limit reached for gpt-4 in organization org-Y2tKyCPFO6tIjtCtOVZ7c9tr on tokens per min. Limit: 10000 / min. Please try again in 6ms. Visit https://platform.openai.com/account/rate-limits to learn more.. Retrying Question No. 8 Attempt:(1)\n",
      "Rate limit error: Rate limit reached for gpt-4 in organization org-Y2tKyCPFO6tIjtCtOVZ7c9tr on tokens per min. Limit: 10000 / min. Please try again in 6ms. Visit https://platform.openai.com/account/rate-limits to learn more.. Retrying Question No. 8 Attempt:(2)\n",
      "Rate limit error: Rate limit reached for gpt-4 in organization org-Y2tKyCPFO6tIjtCtOVZ7c9tr on tokens per min. Limit: 10000 / min. Please try again in 6ms. Visit https://platform.openai.com/account/rate-limits to learn more.. Retrying Question No. 0 Attempt:(1)\n",
      "Rate limit error: Rate limit reached for gpt-4 in organization org-Y2tKyCPFO6tIjtCtOVZ7c9tr on tokens per min. Limit: 10000 / min. Please try again in 6ms. Visit https://platform.openai.com/account/rate-limits to learn more.. Retrying Question No. 2 Attempt:(1)\n",
      "Rate limit error: Rate limit reached for gpt-4 in organization org-Y2tKyCPFO6tIjtCtOVZ7c9tr on tokens per min. Limit: 10000 / min. Please try again in 6ms. Visit https://platform.openai.com/account/rate-limits to learn more.. Retrying Question No. 3 Attempt:(1)\n",
      "An error occurred: Request timed out: HTTPSConnectionPool(host='api.openai.com', port=443): Read timed out. (read timeout=600). Retrying Question No. 3 Attempt:(2)\n",
      "Rate limit error: Rate limit reached for gpt-4 in organization org-Y2tKyCPFO6tIjtCtOVZ7c9tr on tokens per min. Limit: 10000 / min. Please try again in 6ms. Visit https://platform.openai.com/account/rate-limits to learn more.. Retrying Question No. 5 Attempt:(1)\n",
      "Rate limit error: Rate limit reached for gpt-4 in organization org-Y2tKyCPFO6tIjtCtOVZ7c9tr on tokens per min. Limit: 10000 / min. Please try again in 6ms. Visit https://platform.openai.com/account/rate-limits to learn more.. Retrying Question No. 6 Attempt:(1)\n",
      "Rate limit error: Rate limit reached for gpt-4 in organization org-Y2tKyCPFO6tIjtCtOVZ7c9tr on tokens per min. Limit: 10000 / min. Please try again in 6ms. Visit https://platform.openai.com/account/rate-limits to learn more.. Retrying Question No. 7 Attempt:(1)\n",
      "Rate limit error: Rate limit reached for gpt-4 in organization org-Y2tKyCPFO6tIjtCtOVZ7c9tr on tokens per min. Limit: 10000 / min. Please try again in 6ms. Visit https://platform.openai.com/account/rate-limits to learn more.. Retrying Question No. 8 Attempt:(1)\n"
     ]
    },
    {
     "name": "stderr",
     "output_type": "stream",
     "text": [
      " 49%|████▉     | 43/87 [5:06:43<6:58:28, 570.66s/it]"
     ]
    },
    {
     "name": "stdout",
     "output_type": "stream",
     "text": [
      "Rate limit error: Rate limit reached for gpt-4 in organization org-Y2tKyCPFO6tIjtCtOVZ7c9tr on tokens per min. Limit: 10000 / min. Please try again in 6ms. Visit https://platform.openai.com/account/rate-limits to learn more.. Retrying Question No. 0 Attempt:(1)\n",
      "Rate limit error: Rate limit reached for gpt-4 in organization org-Y2tKyCPFO6tIjtCtOVZ7c9tr on tokens per min. Limit: 10000 / min. Please try again in 6ms. Visit https://platform.openai.com/account/rate-limits to learn more.. Retrying Question No. 1 Attempt:(1)\n",
      "Rate limit error: Rate limit reached for gpt-4 in organization org-Y2tKyCPFO6tIjtCtOVZ7c9tr on tokens per min. Limit: 10000 / min. Please try again in 6ms. Visit https://platform.openai.com/account/rate-limits to learn more.. Retrying Question No. 2 Attempt:(1)\n",
      "Rate limit error: Rate limit reached for gpt-4 in organization org-Y2tKyCPFO6tIjtCtOVZ7c9tr on tokens per min. Limit: 10000 / min. Please try again in 6ms. Visit https://platform.openai.com/account/rate-limits to learn more.. Retrying Question No. 3 Attempt:(1)\n",
      "Rate limit error: Rate limit reached for gpt-4 in organization org-Y2tKyCPFO6tIjtCtOVZ7c9tr on tokens per min. Limit: 10000 / min. Please try again in 6ms. Visit https://platform.openai.com/account/rate-limits to learn more.. Retrying Question No. 4 Attempt:(1)\n",
      "Rate limit error: Rate limit reached for gpt-4 in organization org-Y2tKyCPFO6tIjtCtOVZ7c9tr on tokens per min. Limit: 10000 / min. Please try again in 6ms. Visit https://platform.openai.com/account/rate-limits to learn more.. Retrying Question No. 5 Attempt:(1)\n",
      "Rate limit error: Rate limit reached for gpt-4 in organization org-Y2tKyCPFO6tIjtCtOVZ7c9tr on tokens per min. Limit: 10000 / min. Please try again in 6ms. Visit https://platform.openai.com/account/rate-limits to learn more.. Retrying Question No. 6 Attempt:(1)\n",
      "Rate limit error: Rate limit reached for gpt-4 in organization org-Y2tKyCPFO6tIjtCtOVZ7c9tr on tokens per min. Limit: 10000 / min. Please try again in 6ms. Visit https://platform.openai.com/account/rate-limits to learn more.. Retrying Question No. 6 Attempt:(2)\n",
      "Rate limit error: Rate limit reached for gpt-4 in organization org-Y2tKyCPFO6tIjtCtOVZ7c9tr on tokens per min. Limit: 10000 / min. Please try again in 6ms. Visit https://platform.openai.com/account/rate-limits to learn more.. Retrying Question No. 7 Attempt:(1)\n",
      "Rate limit error: Rate limit reached for gpt-4 in organization org-Y2tKyCPFO6tIjtCtOVZ7c9tr on tokens per min. Limit: 10000 / min. Please try again in 6ms. Visit https://platform.openai.com/account/rate-limits to learn more.. Retrying Question No. 8 Attempt:(1)\n",
      "Rate limit error: Rate limit reached for gpt-4 in organization org-Y2tKyCPFO6tIjtCtOVZ7c9tr on tokens per min. Limit: 10000 / min. Please try again in 6ms. Visit https://platform.openai.com/account/rate-limits to learn more.. Retrying Question No. 1 Attempt:(1)\n",
      "Rate limit error: Rate limit reached for gpt-4 in organization org-Y2tKyCPFO6tIjtCtOVZ7c9tr on tokens per min. Limit: 10000 / min. Please try again in 6ms. Visit https://platform.openai.com/account/rate-limits to learn more.. Retrying Question No. 3 Attempt:(1)\n",
      "Rate limit error: Rate limit reached for gpt-4 in organization org-Y2tKyCPFO6tIjtCtOVZ7c9tr on tokens per min. Limit: 10000 / min. Please try again in 6ms. Visit https://platform.openai.com/account/rate-limits to learn more.. Retrying Question No. 5 Attempt:(1)\n",
      "Rate limit error: Rate limit reached for gpt-4 in organization org-Y2tKyCPFO6tIjtCtOVZ7c9tr on tokens per min. Limit: 10000 / min. Please try again in 6ms. Visit https://platform.openai.com/account/rate-limits to learn more.. Retrying Question No. 7 Attempt:(1)\n"
     ]
    },
    {
     "name": "stderr",
     "output_type": "stream",
     "text": [
      " 51%|█████     | 44/87 [5:14:12<6:22:56, 534.33s/it]"
     ]
    },
    {
     "name": "stdout",
     "output_type": "stream",
     "text": [
      "Rate limit error: Rate limit reached for gpt-4 in organization org-Y2tKyCPFO6tIjtCtOVZ7c9tr on tokens per min. Limit: 10000 / min. Please try again in 6ms. Visit https://platform.openai.com/account/rate-limits to learn more.. Retrying Question No. 0 Attempt:(1)\n",
      "Rate limit error: Rate limit reached for gpt-4 in organization org-Y2tKyCPFO6tIjtCtOVZ7c9tr on tokens per min. Limit: 10000 / min. Please try again in 6ms. Visit https://platform.openai.com/account/rate-limits to learn more.. Retrying Question No. 1 Attempt:(1)\n",
      "Rate limit error: Rate limit reached for gpt-4 in organization org-Y2tKyCPFO6tIjtCtOVZ7c9tr on tokens per min. Limit: 10000 / min. Please try again in 6ms. Visit https://platform.openai.com/account/rate-limits to learn more.. Retrying Question No. 2 Attempt:(1)\n",
      "Rate limit error: Rate limit reached for gpt-4 in organization org-Y2tKyCPFO6tIjtCtOVZ7c9tr on tokens per min. Limit: 10000 / min. Please try again in 6ms. Visit https://platform.openai.com/account/rate-limits to learn more.. Retrying Question No. 3 Attempt:(1)\n",
      "Rate limit error: Rate limit reached for gpt-4 in organization org-Y2tKyCPFO6tIjtCtOVZ7c9tr on tokens per min. Limit: 10000 / min. Please try again in 6ms. Visit https://platform.openai.com/account/rate-limits to learn more.. Retrying Question No. 4 Attempt:(1)\n",
      "Rate limit error: Rate limit reached for gpt-4 in organization org-Y2tKyCPFO6tIjtCtOVZ7c9tr on tokens per min. Limit: 10000 / min. Please try again in 6ms. Visit https://platform.openai.com/account/rate-limits to learn more.. Retrying Question No. 5 Attempt:(1)\n",
      "Rate limit error: Rate limit reached for gpt-4 in organization org-Y2tKyCPFO6tIjtCtOVZ7c9tr on tokens per min. Limit: 10000 / min. Please try again in 6ms. Visit https://platform.openai.com/account/rate-limits to learn more.. Retrying Question No. 6 Attempt:(1)\n",
      "Rate limit error: Rate limit reached for gpt-4 in organization org-Y2tKyCPFO6tIjtCtOVZ7c9tr on tokens per min. Limit: 10000 / min. Please try again in 6ms. Visit https://platform.openai.com/account/rate-limits to learn more.. Retrying Question No. 7 Attempt:(1)\n",
      "Rate limit error: Rate limit reached for gpt-4 in organization org-Y2tKyCPFO6tIjtCtOVZ7c9tr on tokens per min. Limit: 10000 / min. Please try again in 6ms. Visit https://platform.openai.com/account/rate-limits to learn more.. Retrying Question No. 7 Attempt:(2)\n",
      "Rate limit error: Rate limit reached for gpt-4 in organization org-Y2tKyCPFO6tIjtCtOVZ7c9tr on tokens per min. Limit: 10000 / min. Please try again in 6ms. Visit https://platform.openai.com/account/rate-limits to learn more.. Retrying Question No. 8 Attempt:(1)\n"
     ]
    },
    {
     "name": "stderr",
     "output_type": "stream",
     "text": [
      " 52%|█████▏    | 45/87 [5:19:40<5:30:43, 472.45s/it]"
     ]
    },
    {
     "name": "stdout",
     "output_type": "stream",
     "text": [
      "Rate limit error: Rate limit reached for gpt-4 in organization org-Y2tKyCPFO6tIjtCtOVZ7c9tr on tokens per min. Limit: 10000 / min. Please try again in 6ms. Visit https://platform.openai.com/account/rate-limits to learn more.. Retrying Question No. 0 Attempt:(1)\n",
      "Rate limit error: Rate limit reached for gpt-4 in organization org-Y2tKyCPFO6tIjtCtOVZ7c9tr on tokens per min. Limit: 10000 / min. Please try again in 6ms. Visit https://platform.openai.com/account/rate-limits to learn more.. Retrying Question No. 0 Attempt:(2)\n",
      "Rate limit error: Rate limit reached for gpt-4 in organization org-Y2tKyCPFO6tIjtCtOVZ7c9tr on tokens per min. Limit: 10000 / min. Please try again in 6ms. Visit https://platform.openai.com/account/rate-limits to learn more.. Retrying Question No. 1 Attempt:(1)\n",
      "Rate limit error: Rate limit reached for gpt-4 in organization org-Y2tKyCPFO6tIjtCtOVZ7c9tr on tokens per min. Limit: 10000 / min. Please try again in 6ms. Visit https://platform.openai.com/account/rate-limits to learn more.. Retrying Question No. 2 Attempt:(1)\n",
      "Rate limit error: Rate limit reached for gpt-4 in organization org-Y2tKyCPFO6tIjtCtOVZ7c9tr on tokens per min. Limit: 10000 / min. Please try again in 6ms. Visit https://platform.openai.com/account/rate-limits to learn more.. Retrying Question No. 3 Attempt:(1)\n",
      "Rate limit error: Rate limit reached for gpt-4 in organization org-Y2tKyCPFO6tIjtCtOVZ7c9tr on tokens per min. Limit: 10000 / min. Please try again in 6ms. Visit https://platform.openai.com/account/rate-limits to learn more.. Retrying Question No. 4 Attempt:(1)\n",
      "Rate limit error: Rate limit reached for gpt-4 in organization org-Y2tKyCPFO6tIjtCtOVZ7c9tr on tokens per min. Limit: 10000 / min. Please try again in 6ms. Visit https://platform.openai.com/account/rate-limits to learn more.. Retrying Question No. 5 Attempt:(1)\n",
      "Rate limit error: Rate limit reached for gpt-4 in organization org-Y2tKyCPFO6tIjtCtOVZ7c9tr on tokens per min. Limit: 10000 / min. Please try again in 6ms. Visit https://platform.openai.com/account/rate-limits to learn more.. Retrying Question No. 6 Attempt:(1)\n",
      "Rate limit error: Rate limit reached for gpt-4 in organization org-Y2tKyCPFO6tIjtCtOVZ7c9tr on tokens per min. Limit: 10000 / min. Please try again in 6ms. Visit https://platform.openai.com/account/rate-limits to learn more.. Retrying Question No. 7 Attempt:(1)\n",
      "Rate limit error: Rate limit reached for gpt-4 in organization org-Y2tKyCPFO6tIjtCtOVZ7c9tr on tokens per min. Limit: 10000 / min. Please try again in 6ms. Visit https://platform.openai.com/account/rate-limits to learn more.. Retrying Question No. 8 Attempt:(1)\n",
      "Rate limit error: Rate limit reached for gpt-4 in organization org-Y2tKyCPFO6tIjtCtOVZ7c9tr on tokens per min. Limit: 10000 / min. Please try again in 6ms. Visit https://platform.openai.com/account/rate-limits to learn more.. Retrying Question No. 1 Attempt:(1)\n",
      "Rate limit error: Rate limit reached for gpt-4 in organization org-Y2tKyCPFO6tIjtCtOVZ7c9tr on tokens per min. Limit: 10000 / min. Please try again in 6ms. Visit https://platform.openai.com/account/rate-limits to learn more.. Retrying Question No. 3 Attempt:(1)\n",
      "Rate limit error: Rate limit reached for gpt-4 in organization org-Y2tKyCPFO6tIjtCtOVZ7c9tr on tokens per min. Limit: 10000 / min. Please try again in 6ms. Visit https://platform.openai.com/account/rate-limits to learn more.. Retrying Question No. 5 Attempt:(1)\n",
      "Rate limit error: Rate limit reached for gpt-4 in organization org-Y2tKyCPFO6tIjtCtOVZ7c9tr on tokens per min. Limit: 10000 / min. Please try again in 6ms. Visit https://platform.openai.com/account/rate-limits to learn more.. Retrying Question No. 8 Attempt:(1)\n"
     ]
    },
    {
     "name": "stderr",
     "output_type": "stream",
     "text": [
      " 53%|█████▎    | 46/87 [5:27:17<5:19:30, 467.58s/it]"
     ]
    },
    {
     "name": "stdout",
     "output_type": "stream",
     "text": [
      "Rate limit error: Rate limit reached for gpt-4 in organization org-Y2tKyCPFO6tIjtCtOVZ7c9tr on tokens per min. Limit: 10000 / min. Please try again in 6ms. Visit https://platform.openai.com/account/rate-limits to learn more.. Retrying Question No. 0 Attempt:(1)\n",
      "Rate limit error: Rate limit reached for gpt-4 in organization org-Y2tKyCPFO6tIjtCtOVZ7c9tr on tokens per min. Limit: 10000 / min. Please try again in 6ms. Visit https://platform.openai.com/account/rate-limits to learn more.. Retrying Question No. 1 Attempt:(1)\n",
      "Rate limit error: Rate limit reached for gpt-4 in organization org-Y2tKyCPFO6tIjtCtOVZ7c9tr on tokens per min. Limit: 10000 / min. Please try again in 6ms. Visit https://platform.openai.com/account/rate-limits to learn more.. Retrying Question No. 2 Attempt:(1)\n",
      "Rate limit error: Rate limit reached for gpt-4 in organization org-Y2tKyCPFO6tIjtCtOVZ7c9tr on tokens per min. Limit: 10000 / min. Please try again in 6ms. Visit https://platform.openai.com/account/rate-limits to learn more.. Retrying Question No. 3 Attempt:(1)\n",
      "Rate limit error: Rate limit reached for gpt-4 in organization org-Y2tKyCPFO6tIjtCtOVZ7c9tr on tokens per min. Limit: 10000 / min. Please try again in 6ms. Visit https://platform.openai.com/account/rate-limits to learn more.. Retrying Question No. 4 Attempt:(1)\n",
      "Rate limit error: Rate limit reached for gpt-4 in organization org-Y2tKyCPFO6tIjtCtOVZ7c9tr on tokens per min. Limit: 10000 / min. Please try again in 6ms. Visit https://platform.openai.com/account/rate-limits to learn more.. Retrying Question No. 5 Attempt:(1)\n",
      "Rate limit error: Rate limit reached for gpt-4 in organization org-Y2tKyCPFO6tIjtCtOVZ7c9tr on tokens per min. Limit: 10000 / min. Please try again in 6ms. Visit https://platform.openai.com/account/rate-limits to learn more.. Retrying Question No. 6 Attempt:(1)\n",
      "Rate limit error: Rate limit reached for gpt-4 in organization org-Y2tKyCPFO6tIjtCtOVZ7c9tr on tokens per min. Limit: 10000 / min. Please try again in 6ms. Visit https://platform.openai.com/account/rate-limits to learn more.. Retrying Question No. 7 Attempt:(1)\n",
      "Rate limit error: Rate limit reached for gpt-4 in organization org-Y2tKyCPFO6tIjtCtOVZ7c9tr on tokens per min. Limit: 10000 / min. Please try again in 6ms. Visit https://platform.openai.com/account/rate-limits to learn more.. Retrying Question No. 8 Attempt:(1)\n"
     ]
    },
    {
     "name": "stderr",
     "output_type": "stream",
     "text": [
      " 54%|█████▍    | 47/87 [5:32:05<4:35:47, 413.69s/it]"
     ]
    },
    {
     "name": "stdout",
     "output_type": "stream",
     "text": [
      "Rate limit error: Rate limit reached for gpt-4 in organization org-Y2tKyCPFO6tIjtCtOVZ7c9tr on tokens per min. Limit: 10000 / min. Please try again in 6ms. Visit https://platform.openai.com/account/rate-limits to learn more.. Retrying Question No. 0 Attempt:(1)\n",
      "Rate limit error: Rate limit reached for gpt-4 in organization org-Y2tKyCPFO6tIjtCtOVZ7c9tr on tokens per min. Limit: 10000 / min. Please try again in 6ms. Visit https://platform.openai.com/account/rate-limits to learn more.. Retrying Question No. 0 Attempt:(2)\n",
      "Rate limit error: Rate limit reached for gpt-4 in organization org-Y2tKyCPFO6tIjtCtOVZ7c9tr on tokens per min. Limit: 10000 / min. Please try again in 6ms. Visit https://platform.openai.com/account/rate-limits to learn more.. Retrying Question No. 1 Attempt:(1)\n",
      "Rate limit error: Rate limit reached for gpt-4 in organization org-Y2tKyCPFO6tIjtCtOVZ7c9tr on tokens per min. Limit: 10000 / min. Please try again in 6ms. Visit https://platform.openai.com/account/rate-limits to learn more.. Retrying Question No. 2 Attempt:(1)\n",
      "Rate limit error: Rate limit reached for gpt-4 in organization org-Y2tKyCPFO6tIjtCtOVZ7c9tr on tokens per min. Limit: 10000 / min. Please try again in 6ms. Visit https://platform.openai.com/account/rate-limits to learn more.. Retrying Question No. 3 Attempt:(1)\n",
      "Rate limit error: Rate limit reached for gpt-4 in organization org-Y2tKyCPFO6tIjtCtOVZ7c9tr on tokens per min. Limit: 10000 / min. Please try again in 6ms. Visit https://platform.openai.com/account/rate-limits to learn more.. Retrying Question No. 4 Attempt:(1)\n",
      "Rate limit error: Rate limit reached for gpt-4 in organization org-Y2tKyCPFO6tIjtCtOVZ7c9tr on tokens per min. Limit: 10000 / min. Please try again in 6ms. Visit https://platform.openai.com/account/rate-limits to learn more.. Retrying Question No. 5 Attempt:(1)\n",
      "Rate limit error: Rate limit reached for gpt-4 in organization org-Y2tKyCPFO6tIjtCtOVZ7c9tr on tokens per min. Limit: 10000 / min. Please try again in 6ms. Visit https://platform.openai.com/account/rate-limits to learn more.. Retrying Question No. 6 Attempt:(1)\n",
      "Rate limit error: Rate limit reached for gpt-4 in organization org-Y2tKyCPFO6tIjtCtOVZ7c9tr on tokens per min. Limit: 10000 / min. Please try again in 6ms. Visit https://platform.openai.com/account/rate-limits to learn more.. Retrying Question No. 7 Attempt:(1)\n",
      "Rate limit error: Rate limit reached for gpt-4 in organization org-Y2tKyCPFO6tIjtCtOVZ7c9tr on tokens per min. Limit: 10000 / min. Please try again in 6ms. Visit https://platform.openai.com/account/rate-limits to learn more.. Retrying Question No. 8 Attempt:(1)\n",
      "Rate limit error: Rate limit reached for gpt-4 in organization org-Y2tKyCPFO6tIjtCtOVZ7c9tr on tokens per min. Limit: 10000 / min. Please try again in 6ms. Visit https://platform.openai.com/account/rate-limits to learn more.. Retrying Question No. 0 Attempt:(1)\n",
      "Rate limit error: Rate limit reached for gpt-4 in organization org-Y2tKyCPFO6tIjtCtOVZ7c9tr on tokens per min. Limit: 10000 / min. Please try again in 6ms. Visit https://platform.openai.com/account/rate-limits to learn more.. Retrying Question No. 1 Attempt:(1)\n",
      "Rate limit error: Rate limit reached for gpt-4 in organization org-Y2tKyCPFO6tIjtCtOVZ7c9tr on tokens per min. Limit: 10000 / min. Please try again in 6ms. Visit https://platform.openai.com/account/rate-limits to learn more.. Retrying Question No. 2 Attempt:(1)\n",
      "Rate limit error: Rate limit reached for gpt-4 in organization org-Y2tKyCPFO6tIjtCtOVZ7c9tr on tokens per min. Limit: 10000 / min. Please try again in 6ms. Visit https://platform.openai.com/account/rate-limits to learn more.. Retrying Question No. 3 Attempt:(1)\n",
      "Rate limit error: Rate limit reached for gpt-4 in organization org-Y2tKyCPFO6tIjtCtOVZ7c9tr on tokens per min. Limit: 10000 / min. Please try again in 6ms. Visit https://platform.openai.com/account/rate-limits to learn more.. Retrying Question No. 4 Attempt:(1)\n",
      "Rate limit error: Rate limit reached for gpt-4 in organization org-Y2tKyCPFO6tIjtCtOVZ7c9tr on tokens per min. Limit: 10000 / min. Please try again in 6ms. Visit https://platform.openai.com/account/rate-limits to learn more.. Retrying Question No. 5 Attempt:(1)\n",
      "Rate limit error: Rate limit reached for gpt-4 in organization org-Y2tKyCPFO6tIjtCtOVZ7c9tr on tokens per min. Limit: 10000 / min. Please try again in 6ms. Visit https://platform.openai.com/account/rate-limits to learn more.. Retrying Question No. 6 Attempt:(1)\n",
      "Rate limit error: Rate limit reached for gpt-4 in organization org-Y2tKyCPFO6tIjtCtOVZ7c9tr on tokens per min. Limit: 10000 / min. Please try again in 6ms. Visit https://platform.openai.com/account/rate-limits to learn more.. Retrying Question No. 7 Attempt:(1)\n",
      "Rate limit error: Rate limit reached for gpt-4 in organization org-Y2tKyCPFO6tIjtCtOVZ7c9tr on tokens per min. Limit: 10000 / min. Please try again in 6ms. Visit https://platform.openai.com/account/rate-limits to learn more.. Retrying Question No. 8 Attempt:(1)\n",
      "Rate limit error: Rate limit reached for gpt-4 in organization org-Y2tKyCPFO6tIjtCtOVZ7c9tr on tokens per min. Limit: 10000 / min. Please try again in 6ms. Visit https://platform.openai.com/account/rate-limits to learn more.. Retrying Question No. 0 Attempt:(1)\n",
      "Rate limit error: Rate limit reached for gpt-4 in organization org-Y2tKyCPFO6tIjtCtOVZ7c9tr on tokens per min. Limit: 10000 / min. Please try again in 6ms. Visit https://platform.openai.com/account/rate-limits to learn more.. Retrying Question No. 4 Attempt:(1)\n",
      "Rate limit error: Rate limit reached for gpt-4 in organization org-Y2tKyCPFO6tIjtCtOVZ7c9tr on tokens per min. Limit: 10000 / min. Please try again in 6ms. Visit https://platform.openai.com/account/rate-limits to learn more.. Retrying Question No. 8 Attempt:(1)\n"
     ]
    },
    {
     "name": "stderr",
     "output_type": "stream",
     "text": [
      " 55%|█████▌    | 48/87 [5:43:51<5:26:00, 501.56s/it]"
     ]
    },
    {
     "name": "stdout",
     "output_type": "stream",
     "text": [
      "Rate limit error: Rate limit reached for gpt-4 in organization org-Y2tKyCPFO6tIjtCtOVZ7c9tr on tokens per min. Limit: 10000 / min. Please try again in 6ms. Visit https://platform.openai.com/account/rate-limits to learn more.. Retrying Question No. 0 Attempt:(1)\n",
      "Rate limit error: Rate limit reached for gpt-4 in organization org-Y2tKyCPFO6tIjtCtOVZ7c9tr on tokens per min. Limit: 10000 / min. Please try again in 6ms. Visit https://platform.openai.com/account/rate-limits to learn more.. Retrying Question No. 1 Attempt:(1)\n",
      "Rate limit error: Rate limit reached for gpt-4 in organization org-Y2tKyCPFO6tIjtCtOVZ7c9tr on tokens per min. Limit: 10000 / min. Please try again in 6ms. Visit https://platform.openai.com/account/rate-limits to learn more.. Retrying Question No. 2 Attempt:(1)\n",
      "Rate limit error: Rate limit reached for gpt-4 in organization org-Y2tKyCPFO6tIjtCtOVZ7c9tr on tokens per min. Limit: 10000 / min. Please try again in 6ms. Visit https://platform.openai.com/account/rate-limits to learn more.. Retrying Question No. 3 Attempt:(1)\n",
      "Rate limit error: Rate limit reached for gpt-4 in organization org-Y2tKyCPFO6tIjtCtOVZ7c9tr on tokens per min. Limit: 10000 / min. Please try again in 6ms. Visit https://platform.openai.com/account/rate-limits to learn more.. Retrying Question No. 4 Attempt:(1)\n",
      "Rate limit error: Rate limit reached for gpt-4 in organization org-Y2tKyCPFO6tIjtCtOVZ7c9tr on tokens per min. Limit: 10000 / min. Please try again in 6ms. Visit https://platform.openai.com/account/rate-limits to learn more.. Retrying Question No. 5 Attempt:(1)\n",
      "Rate limit error: Rate limit reached for gpt-4 in organization org-Y2tKyCPFO6tIjtCtOVZ7c9tr on tokens per min. Limit: 10000 / min. Please try again in 6ms. Visit https://platform.openai.com/account/rate-limits to learn more.. Retrying Question No. 6 Attempt:(1)\n",
      "Rate limit error: Rate limit reached for gpt-4 in organization org-Y2tKyCPFO6tIjtCtOVZ7c9tr on tokens per min. Limit: 10000 / min. Please try again in 6ms. Visit https://platform.openai.com/account/rate-limits to learn more.. Retrying Question No. 7 Attempt:(1)\n",
      "Rate limit error: Rate limit reached for gpt-4 in organization org-Y2tKyCPFO6tIjtCtOVZ7c9tr on tokens per min. Limit: 10000 / min. Please try again in 6ms. Visit https://platform.openai.com/account/rate-limits to learn more.. Retrying Question No. 8 Attempt:(1)\n"
     ]
    },
    {
     "name": "stderr",
     "output_type": "stream",
     "text": [
      " 56%|█████▋    | 49/87 [5:48:38<4:36:51, 437.14s/it]"
     ]
    },
    {
     "name": "stdout",
     "output_type": "stream",
     "text": [
      "Rate limit error: Rate limit reached for gpt-4 in organization org-Y2tKyCPFO6tIjtCtOVZ7c9tr on tokens per min. Limit: 10000 / min. Please try again in 6ms. Visit https://platform.openai.com/account/rate-limits to learn more.. Retrying Question No. 0 Attempt:(1)\n",
      "Rate limit error: Rate limit reached for gpt-4 in organization org-Y2tKyCPFO6tIjtCtOVZ7c9tr on tokens per min. Limit: 10000 / min. Please try again in 6ms. Visit https://platform.openai.com/account/rate-limits to learn more.. Retrying Question No. 0 Attempt:(2)\n",
      "Rate limit error: Rate limit reached for gpt-4 in organization org-Y2tKyCPFO6tIjtCtOVZ7c9tr on tokens per min. Limit: 10000 / min. Please try again in 6ms. Visit https://platform.openai.com/account/rate-limits to learn more.. Retrying Question No. 1 Attempt:(1)\n",
      "Rate limit error: Rate limit reached for gpt-4 in organization org-Y2tKyCPFO6tIjtCtOVZ7c9tr on tokens per min. Limit: 10000 / min. Please try again in 6ms. Visit https://platform.openai.com/account/rate-limits to learn more.. Retrying Question No. 2 Attempt:(1)\n",
      "Rate limit error: Rate limit reached for gpt-4 in organization org-Y2tKyCPFO6tIjtCtOVZ7c9tr on tokens per min. Limit: 10000 / min. Please try again in 6ms. Visit https://platform.openai.com/account/rate-limits to learn more.. Retrying Question No. 3 Attempt:(1)\n",
      "Rate limit error: Rate limit reached for gpt-4 in organization org-Y2tKyCPFO6tIjtCtOVZ7c9tr on tokens per min. Limit: 10000 / min. Please try again in 6ms. Visit https://platform.openai.com/account/rate-limits to learn more.. Retrying Question No. 4 Attempt:(1)\n",
      "Rate limit error: Rate limit reached for gpt-4 in organization org-Y2tKyCPFO6tIjtCtOVZ7c9tr on tokens per min. Limit: 10000 / min. Please try again in 6ms. Visit https://platform.openai.com/account/rate-limits to learn more.. Retrying Question No. 5 Attempt:(1)\n",
      "Rate limit error: Rate limit reached for gpt-4 in organization org-Y2tKyCPFO6tIjtCtOVZ7c9tr on tokens per min. Limit: 10000 / min. Please try again in 6ms. Visit https://platform.openai.com/account/rate-limits to learn more.. Retrying Question No. 6 Attempt:(1)\n",
      "Rate limit error: Rate limit reached for gpt-4 in organization org-Y2tKyCPFO6tIjtCtOVZ7c9tr on tokens per min. Limit: 10000 / min. Please try again in 6ms. Visit https://platform.openai.com/account/rate-limits to learn more.. Retrying Question No. 7 Attempt:(1)\n",
      "Rate limit error: Rate limit reached for gpt-4 in organization org-Y2tKyCPFO6tIjtCtOVZ7c9tr on tokens per min. Limit: 10000 / min. Please try again in 6ms. Visit https://platform.openai.com/account/rate-limits to learn more.. Retrying Question No. 8 Attempt:(1)\n",
      "Rate limit error: Rate limit reached for gpt-4 in organization org-Y2tKyCPFO6tIjtCtOVZ7c9tr on tokens per min. Limit: 10000 / min. Please try again in 6ms. Visit https://platform.openai.com/account/rate-limits to learn more.. Retrying Question No. 8 Attempt:(2)\n",
      "Rate limit error: Rate limit reached for gpt-4 in organization org-Y2tKyCPFO6tIjtCtOVZ7c9tr on tokens per min. Limit: 10000 / min. Please try again in 6ms. Visit https://platform.openai.com/account/rate-limits to learn more.. Retrying Question No. 8 Attempt:(1)\n"
     ]
    },
    {
     "name": "stderr",
     "output_type": "stream",
     "text": [
      " 57%|█████▋    | 50/87 [5:55:07<4:20:40, 422.71s/it]"
     ]
    },
    {
     "name": "stdout",
     "output_type": "stream",
     "text": [
      "Rate limit error: Rate limit reached for gpt-4 in organization org-Y2tKyCPFO6tIjtCtOVZ7c9tr on tokens per min. Limit: 10000 / min. Please try again in 6ms. Visit https://platform.openai.com/account/rate-limits to learn more.. Retrying Question No. 0 Attempt:(1)\n",
      "Rate limit error: Rate limit reached for gpt-4 in organization org-Y2tKyCPFO6tIjtCtOVZ7c9tr on tokens per min. Limit: 10000 / min. Please try again in 6ms. Visit https://platform.openai.com/account/rate-limits to learn more.. Retrying Question No. 1 Attempt:(1)\n",
      "Rate limit error: Rate limit reached for gpt-4 in organization org-Y2tKyCPFO6tIjtCtOVZ7c9tr on tokens per min. Limit: 10000 / min. Please try again in 6ms. Visit https://platform.openai.com/account/rate-limits to learn more.. Retrying Question No. 2 Attempt:(1)\n",
      "Rate limit error: Rate limit reached for gpt-4 in organization org-Y2tKyCPFO6tIjtCtOVZ7c9tr on tokens per min. Limit: 10000 / min. Please try again in 6ms. Visit https://platform.openai.com/account/rate-limits to learn more.. Retrying Question No. 3 Attempt:(1)\n",
      "Rate limit error: Rate limit reached for gpt-4 in organization org-Y2tKyCPFO6tIjtCtOVZ7c9tr on tokens per min. Limit: 10000 / min. Please try again in 6ms. Visit https://platform.openai.com/account/rate-limits to learn more.. Retrying Question No. 4 Attempt:(1)\n",
      "Rate limit error: Rate limit reached for gpt-4 in organization org-Y2tKyCPFO6tIjtCtOVZ7c9tr on tokens per min. Limit: 10000 / min. Please try again in 6ms. Visit https://platform.openai.com/account/rate-limits to learn more.. Retrying Question No. 5 Attempt:(1)\n",
      "Rate limit error: Rate limit reached for gpt-4 in organization org-Y2tKyCPFO6tIjtCtOVZ7c9tr on tokens per min. Limit: 10000 / min. Please try again in 6ms. Visit https://platform.openai.com/account/rate-limits to learn more.. Retrying Question No. 6 Attempt:(1)\n",
      "Rate limit error: Rate limit reached for gpt-4 in organization org-Y2tKyCPFO6tIjtCtOVZ7c9tr on tokens per min. Limit: 10000 / min. Please try again in 6ms. Visit https://platform.openai.com/account/rate-limits to learn more.. Retrying Question No. 6 Attempt:(2)\n",
      "Rate limit error: Rate limit reached for gpt-4 in organization org-Y2tKyCPFO6tIjtCtOVZ7c9tr on tokens per min. Limit: 10000 / min. Please try again in 6ms. Visit https://platform.openai.com/account/rate-limits to learn more.. Retrying Question No. 7 Attempt:(1)\n",
      "Rate limit error: Rate limit reached for gpt-4 in organization org-Y2tKyCPFO6tIjtCtOVZ7c9tr on tokens per min. Limit: 10000 / min. Please try again in 6ms. Visit https://platform.openai.com/account/rate-limits to learn more.. Retrying Question No. 8 Attempt:(1)\n",
      "An error occurred: Request timed out: HTTPSConnectionPool(host='api.openai.com', port=443): Read timed out. (read timeout=600). Retrying Question No. 8 Attempt:(2)\n"
     ]
    },
    {
     "name": "stderr",
     "output_type": "stream",
     "text": [
      " 59%|█████▊    | 51/87 [6:10:35<5:44:34, 574.29s/it]"
     ]
    },
    {
     "name": "stdout",
     "output_type": "stream",
     "text": [
      "Rate limit error: Rate limit reached for gpt-4 in organization org-Y2tKyCPFO6tIjtCtOVZ7c9tr on tokens per min. Limit: 10000 / min. Please try again in 6ms. Visit https://platform.openai.com/account/rate-limits to learn more.. Retrying Question No. 0 Attempt:(1)\n",
      "Rate limit error: Rate limit reached for gpt-4 in organization org-Y2tKyCPFO6tIjtCtOVZ7c9tr on tokens per min. Limit: 10000 / min. Please try again in 6ms. Visit https://platform.openai.com/account/rate-limits to learn more.. Retrying Question No. 0 Attempt:(2)\n",
      "Rate limit error: Rate limit reached for gpt-4 in organization org-Y2tKyCPFO6tIjtCtOVZ7c9tr on tokens per min. Limit: 10000 / min. Please try again in 6ms. Visit https://platform.openai.com/account/rate-limits to learn more.. Retrying Question No. 1 Attempt:(1)\n",
      "Rate limit error: Rate limit reached for gpt-4 in organization org-Y2tKyCPFO6tIjtCtOVZ7c9tr on tokens per min. Limit: 10000 / min. Please try again in 6ms. Visit https://platform.openai.com/account/rate-limits to learn more.. Retrying Question No. 2 Attempt:(1)\n",
      "Rate limit error: Rate limit reached for gpt-4 in organization org-Y2tKyCPFO6tIjtCtOVZ7c9tr on tokens per min. Limit: 10000 / min. Please try again in 6ms. Visit https://platform.openai.com/account/rate-limits to learn more.. Retrying Question No. 3 Attempt:(1)\n",
      "Rate limit error: Rate limit reached for gpt-4 in organization org-Y2tKyCPFO6tIjtCtOVZ7c9tr on tokens per min. Limit: 10000 / min. Please try again in 6ms. Visit https://platform.openai.com/account/rate-limits to learn more.. Retrying Question No. 4 Attempt:(1)\n",
      "Rate limit error: Rate limit reached for gpt-4 in organization org-Y2tKyCPFO6tIjtCtOVZ7c9tr on tokens per min. Limit: 10000 / min. Please try again in 6ms. Visit https://platform.openai.com/account/rate-limits to learn more.. Retrying Question No. 5 Attempt:(1)\n",
      "Rate limit error: Rate limit reached for gpt-4 in organization org-Y2tKyCPFO6tIjtCtOVZ7c9tr on tokens per min. Limit: 10000 / min. Please try again in 6ms. Visit https://platform.openai.com/account/rate-limits to learn more.. Retrying Question No. 6 Attempt:(1)\n",
      "Rate limit error: Rate limit reached for gpt-4 in organization org-Y2tKyCPFO6tIjtCtOVZ7c9tr on tokens per min. Limit: 10000 / min. Please try again in 6ms. Visit https://platform.openai.com/account/rate-limits to learn more.. Retrying Question No. 7 Attempt:(1)\n",
      "Rate limit error: Rate limit reached for gpt-4 in organization org-Y2tKyCPFO6tIjtCtOVZ7c9tr on tokens per min. Limit: 10000 / min. Please try again in 6ms. Visit https://platform.openai.com/account/rate-limits to learn more.. Retrying Question No. 7 Attempt:(2)\n",
      "Rate limit error: Rate limit reached for gpt-4 in organization org-Y2tKyCPFO6tIjtCtOVZ7c9tr on tokens per min. Limit: 10000 / min. Please try again in 6ms. Visit https://platform.openai.com/account/rate-limits to learn more.. Retrying Question No. 8 Attempt:(1)\n",
      "Rate limit error: Rate limit reached for gpt-4 in organization org-Y2tKyCPFO6tIjtCtOVZ7c9tr on tokens per min. Limit: 10000 / min. Please try again in 6ms. Visit https://platform.openai.com/account/rate-limits to learn more.. Retrying Question No. 0 Attempt:(1)\n",
      "Rate limit error: Rate limit reached for gpt-4 in organization org-Y2tKyCPFO6tIjtCtOVZ7c9tr on tokens per min. Limit: 10000 / min. Please try again in 6ms. Visit https://platform.openai.com/account/rate-limits to learn more.. Retrying Question No. 2 Attempt:(1)\n",
      "Rate limit error: Rate limit reached for gpt-4 in organization org-Y2tKyCPFO6tIjtCtOVZ7c9tr on tokens per min. Limit: 10000 / min. Please try again in 6ms. Visit https://platform.openai.com/account/rate-limits to learn more.. Retrying Question No. 3 Attempt:(1)\n",
      "Rate limit error: Rate limit reached for gpt-4 in organization org-Y2tKyCPFO6tIjtCtOVZ7c9tr on tokens per min. Limit: 10000 / min. Please try again in 6ms. Visit https://platform.openai.com/account/rate-limits to learn more.. Retrying Question No. 5 Attempt:(1)\n",
      "Rate limit error: Rate limit reached for gpt-4 in organization org-Y2tKyCPFO6tIjtCtOVZ7c9tr on tokens per min. Limit: 10000 / min. Please try again in 6ms. Visit https://platform.openai.com/account/rate-limits to learn more.. Retrying Question No. 6 Attempt:(1)\n",
      "Rate limit error: Rate limit reached for gpt-4 in organization org-Y2tKyCPFO6tIjtCtOVZ7c9tr on tokens per min. Limit: 10000 / min. Please try again in 6ms. Visit https://platform.openai.com/account/rate-limits to learn more.. Retrying Question No. 8 Attempt:(1)\n"
     ]
    },
    {
     "name": "stderr",
     "output_type": "stream",
     "text": [
      " 60%|█████▉    | 52/87 [6:19:31<5:28:17, 562.80s/it]"
     ]
    },
    {
     "name": "stdout",
     "output_type": "stream",
     "text": [
      "Rate limit error: Rate limit reached for gpt-4 in organization org-Y2tKyCPFO6tIjtCtOVZ7c9tr on tokens per min. Limit: 10000 / min. Please try again in 6ms. Visit https://platform.openai.com/account/rate-limits to learn more.. Retrying Question No. 0 Attempt:(1)\n",
      "Rate limit error: Rate limit reached for gpt-4 in organization org-Y2tKyCPFO6tIjtCtOVZ7c9tr on tokens per min. Limit: 10000 / min. Please try again in 6ms. Visit https://platform.openai.com/account/rate-limits to learn more.. Retrying Question No. 1 Attempt:(1)\n",
      "Rate limit error: Rate limit reached for gpt-4 in organization org-Y2tKyCPFO6tIjtCtOVZ7c9tr on tokens per min. Limit: 10000 / min. Please try again in 6ms. Visit https://platform.openai.com/account/rate-limits to learn more.. Retrying Question No. 2 Attempt:(1)\n",
      "Rate limit error: Rate limit reached for gpt-4 in organization org-Y2tKyCPFO6tIjtCtOVZ7c9tr on tokens per min. Limit: 10000 / min. Please try again in 6ms. Visit https://platform.openai.com/account/rate-limits to learn more.. Retrying Question No. 3 Attempt:(1)\n",
      "Rate limit error: Rate limit reached for gpt-4 in organization org-Y2tKyCPFO6tIjtCtOVZ7c9tr on tokens per min. Limit: 10000 / min. Please try again in 6ms. Visit https://platform.openai.com/account/rate-limits to learn more.. Retrying Question No. 4 Attempt:(1)\n",
      "Rate limit error: Rate limit reached for gpt-4 in organization org-Y2tKyCPFO6tIjtCtOVZ7c9tr on tokens per min. Limit: 10000 / min. Please try again in 6ms. Visit https://platform.openai.com/account/rate-limits to learn more.. Retrying Question No. 5 Attempt:(1)\n",
      "Rate limit error: Rate limit reached for gpt-4 in organization org-Y2tKyCPFO6tIjtCtOVZ7c9tr on tokens per min. Limit: 10000 / min. Please try again in 6ms. Visit https://platform.openai.com/account/rate-limits to learn more.. Retrying Question No. 6 Attempt:(1)\n",
      "Rate limit error: Rate limit reached for gpt-4 in organization org-Y2tKyCPFO6tIjtCtOVZ7c9tr on tokens per min. Limit: 10000 / min. Please try again in 6ms. Visit https://platform.openai.com/account/rate-limits to learn more.. Retrying Question No. 7 Attempt:(1)\n",
      "Rate limit error: Rate limit reached for gpt-4 in organization org-Y2tKyCPFO6tIjtCtOVZ7c9tr on tokens per min. Limit: 10000 / min. Please try again in 6ms. Visit https://platform.openai.com/account/rate-limits to learn more.. Retrying Question No. 8 Attempt:(1)\n"
     ]
    },
    {
     "name": "stderr",
     "output_type": "stream",
     "text": [
      " 61%|██████    | 53/87 [6:24:21<4:32:36, 481.08s/it]"
     ]
    },
    {
     "name": "stdout",
     "output_type": "stream",
     "text": [
      "Rate limit error: Rate limit reached for gpt-4 in organization org-Y2tKyCPFO6tIjtCtOVZ7c9tr on tokens per min. Limit: 10000 / min. Please try again in 6ms. Visit https://platform.openai.com/account/rate-limits to learn more.. Retrying Question No. 0 Attempt:(1)\n",
      "Rate limit error: Rate limit reached for gpt-4 in organization org-Y2tKyCPFO6tIjtCtOVZ7c9tr on tokens per min. Limit: 10000 / min. Please try again in 6ms. Visit https://platform.openai.com/account/rate-limits to learn more.. Retrying Question No. 3 Attempt:(1)\n",
      "Rate limit error: Rate limit reached for gpt-4 in organization org-Y2tKyCPFO6tIjtCtOVZ7c9tr on tokens per min. Limit: 10000 / min. Please try again in 6ms. Visit https://platform.openai.com/account/rate-limits to learn more.. Retrying Question No. 5 Attempt:(1)\n",
      "Rate limit error: Rate limit reached for gpt-4 in organization org-Y2tKyCPFO6tIjtCtOVZ7c9tr on tokens per min. Limit: 10000 / min. Please try again in 6ms. Visit https://platform.openai.com/account/rate-limits to learn more.. Retrying Question No. 8 Attempt:(1)\n"
     ]
    },
    {
     "name": "stderr",
     "output_type": "stream",
     "text": [
      " 62%|██████▏   | 54/87 [6:26:34<3:27:04, 376.51s/it]"
     ]
    },
    {
     "name": "stdout",
     "output_type": "stream",
     "text": [
      "Rate limit error: Rate limit reached for gpt-4 in organization org-Y2tKyCPFO6tIjtCtOVZ7c9tr on tokens per min. Limit: 10000 / min. Please try again in 6ms. Visit https://platform.openai.com/account/rate-limits to learn more.. Retrying Question No. 0 Attempt:(1)\n",
      "Rate limit error: Rate limit reached for gpt-4 in organization org-Y2tKyCPFO6tIjtCtOVZ7c9tr on tokens per min. Limit: 10000 / min. Please try again in 6ms. Visit https://platform.openai.com/account/rate-limits to learn more.. Retrying Question No. 1 Attempt:(1)\n",
      "Rate limit error: Rate limit reached for gpt-4 in organization org-Y2tKyCPFO6tIjtCtOVZ7c9tr on tokens per min. Limit: 10000 / min. Please try again in 6ms. Visit https://platform.openai.com/account/rate-limits to learn more.. Retrying Question No. 2 Attempt:(1)\n",
      "Rate limit error: Rate limit reached for gpt-4 in organization org-Y2tKyCPFO6tIjtCtOVZ7c9tr on tokens per min. Limit: 10000 / min. Please try again in 6ms. Visit https://platform.openai.com/account/rate-limits to learn more.. Retrying Question No. 3 Attempt:(1)\n",
      "Rate limit error: Rate limit reached for gpt-4 in organization org-Y2tKyCPFO6tIjtCtOVZ7c9tr on tokens per min. Limit: 10000 / min. Please try again in 6ms. Visit https://platform.openai.com/account/rate-limits to learn more.. Retrying Question No. 3 Attempt:(2)\n",
      "Rate limit error: Rate limit reached for gpt-4 in organization org-Y2tKyCPFO6tIjtCtOVZ7c9tr on tokens per min. Limit: 10000 / min. Please try again in 6ms. Visit https://platform.openai.com/account/rate-limits to learn more.. Retrying Question No. 4 Attempt:(1)\n",
      "Rate limit error: Rate limit reached for gpt-4 in organization org-Y2tKyCPFO6tIjtCtOVZ7c9tr on tokens per min. Limit: 10000 / min. Please try again in 6ms. Visit https://platform.openai.com/account/rate-limits to learn more.. Retrying Question No. 5 Attempt:(1)\n",
      "Rate limit error: Rate limit reached for gpt-4 in organization org-Y2tKyCPFO6tIjtCtOVZ7c9tr on tokens per min. Limit: 10000 / min. Please try again in 6ms. Visit https://platform.openai.com/account/rate-limits to learn more.. Retrying Question No. 6 Attempt:(1)\n",
      "Rate limit error: Rate limit reached for gpt-4 in organization org-Y2tKyCPFO6tIjtCtOVZ7c9tr on tokens per min. Limit: 10000 / min. Please try again in 6ms. Visit https://platform.openai.com/account/rate-limits to learn more.. Retrying Question No. 7 Attempt:(1)\n",
      "Rate limit error: Rate limit reached for gpt-4 in organization org-Y2tKyCPFO6tIjtCtOVZ7c9tr on tokens per min. Limit: 10000 / min. Please try again in 6ms. Visit https://platform.openai.com/account/rate-limits to learn more.. Retrying Question No. 8 Attempt:(1)\n"
     ]
    },
    {
     "name": "stderr",
     "output_type": "stream",
     "text": [
      " 63%|██████▎   | 55/87 [6:31:50<3:11:06, 358.33s/it]"
     ]
    },
    {
     "name": "stdout",
     "output_type": "stream",
     "text": [
      "Rate limit error: Rate limit reached for gpt-4 in organization org-Y2tKyCPFO6tIjtCtOVZ7c9tr on tokens per min. Limit: 10000 / min. Please try again in 6ms. Visit https://platform.openai.com/account/rate-limits to learn more.. Retrying Question No. 0 Attempt:(1)\n",
      "Rate limit error: Rate limit reached for gpt-4 in organization org-Y2tKyCPFO6tIjtCtOVZ7c9tr on tokens per min. Limit: 10000 / min. Please try again in 6ms. Visit https://platform.openai.com/account/rate-limits to learn more.. Retrying Question No. 0 Attempt:(2)\n",
      "Rate limit error: Rate limit reached for gpt-4 in organization org-Y2tKyCPFO6tIjtCtOVZ7c9tr on tokens per min. Limit: 10000 / min. Please try again in 6ms. Visit https://platform.openai.com/account/rate-limits to learn more.. Retrying Question No. 1 Attempt:(1)\n",
      "Rate limit error: Rate limit reached for gpt-4 in organization org-Y2tKyCPFO6tIjtCtOVZ7c9tr on tokens per min. Limit: 10000 / min. Please try again in 6ms. Visit https://platform.openai.com/account/rate-limits to learn more.. Retrying Question No. 2 Attempt:(1)\n",
      "Rate limit error: Rate limit reached for gpt-4 in organization org-Y2tKyCPFO6tIjtCtOVZ7c9tr on tokens per min. Limit: 10000 / min. Please try again in 6ms. Visit https://platform.openai.com/account/rate-limits to learn more.. Retrying Question No. 3 Attempt:(1)\n",
      "Rate limit error: Rate limit reached for gpt-4 in organization org-Y2tKyCPFO6tIjtCtOVZ7c9tr on tokens per min. Limit: 10000 / min. Please try again in 6ms. Visit https://platform.openai.com/account/rate-limits to learn more.. Retrying Question No. 4 Attempt:(1)\n",
      "Rate limit error: Rate limit reached for gpt-4 in organization org-Y2tKyCPFO6tIjtCtOVZ7c9tr on tokens per min. Limit: 10000 / min. Please try again in 6ms. Visit https://platform.openai.com/account/rate-limits to learn more.. Retrying Question No. 5 Attempt:(1)\n",
      "Rate limit error: Rate limit reached for gpt-4 in organization org-Y2tKyCPFO6tIjtCtOVZ7c9tr on tokens per min. Limit: 10000 / min. Please try again in 6ms. Visit https://platform.openai.com/account/rate-limits to learn more.. Retrying Question No. 6 Attempt:(1)\n",
      "Rate limit error: Rate limit reached for gpt-4 in organization org-Y2tKyCPFO6tIjtCtOVZ7c9tr on tokens per min. Limit: 10000 / min. Please try again in 6ms. Visit https://platform.openai.com/account/rate-limits to learn more.. Retrying Question No. 7 Attempt:(1)\n",
      "Rate limit error: Rate limit reached for gpt-4 in organization org-Y2tKyCPFO6tIjtCtOVZ7c9tr on tokens per min. Limit: 10000 / min. Please try again in 6ms. Visit https://platform.openai.com/account/rate-limits to learn more.. Retrying Question No. 8 Attempt:(1)\n"
     ]
    },
    {
     "name": "stderr",
     "output_type": "stream",
     "text": [
      " 64%|██████▍   | 56/87 [6:37:08<2:58:52, 346.22s/it]"
     ]
    },
    {
     "name": "stdout",
     "output_type": "stream",
     "text": [
      "Rate limit error: Rate limit reached for gpt-4 in organization org-Y2tKyCPFO6tIjtCtOVZ7c9tr on tokens per min. Limit: 10000 / min. Please try again in 6ms. Visit https://platform.openai.com/account/rate-limits to learn more.. Retrying Question No. 0 Attempt:(1)\n",
      "Rate limit error: Rate limit reached for gpt-4 in organization org-Y2tKyCPFO6tIjtCtOVZ7c9tr on tokens per min. Limit: 10000 / min. Please try again in 6ms. Visit https://platform.openai.com/account/rate-limits to learn more.. Retrying Question No. 1 Attempt:(1)\n",
      "Rate limit error: Rate limit reached for gpt-4 in organization org-Y2tKyCPFO6tIjtCtOVZ7c9tr on tokens per min. Limit: 10000 / min. Please try again in 6ms. Visit https://platform.openai.com/account/rate-limits to learn more.. Retrying Question No. 3 Attempt:(1)\n",
      "Rate limit error: Rate limit reached for gpt-4 in organization org-Y2tKyCPFO6tIjtCtOVZ7c9tr on tokens per min. Limit: 10000 / min. Please try again in 6ms. Visit https://platform.openai.com/account/rate-limits to learn more.. Retrying Question No. 4 Attempt:(1)\n",
      "Rate limit error: Rate limit reached for gpt-4 in organization org-Y2tKyCPFO6tIjtCtOVZ7c9tr on tokens per min. Limit: 10000 / min. Please try again in 6ms. Visit https://platform.openai.com/account/rate-limits to learn more.. Retrying Question No. 5 Attempt:(1)\n",
      "Rate limit error: Rate limit reached for gpt-4 in organization org-Y2tKyCPFO6tIjtCtOVZ7c9tr on tokens per min. Limit: 10000 / min. Please try again in 6ms. Visit https://platform.openai.com/account/rate-limits to learn more.. Retrying Question No. 7 Attempt:(1)\n",
      "Rate limit error: Rate limit reached for gpt-4 in organization org-Y2tKyCPFO6tIjtCtOVZ7c9tr on tokens per min. Limit: 10000 / min. Please try again in 6ms. Visit https://platform.openai.com/account/rate-limits to learn more.. Retrying Question No. 8 Attempt:(1)\n"
     ]
    },
    {
     "name": "stderr",
     "output_type": "stream",
     "text": [
      " 66%|██████▌   | 57/87 [6:40:53<2:34:59, 309.98s/it]"
     ]
    },
    {
     "name": "stdout",
     "output_type": "stream",
     "text": [
      "Rate limit error: Rate limit reached for gpt-4 in organization org-Y2tKyCPFO6tIjtCtOVZ7c9tr on tokens per min. Limit: 10000 / min. Please try again in 6ms. Visit https://platform.openai.com/account/rate-limits to learn more.. Retrying Question No. 1 Attempt:(1)\n",
      "Rate limit error: Rate limit reached for gpt-4 in organization org-Y2tKyCPFO6tIjtCtOVZ7c9tr on tokens per min. Limit: 10000 / min. Please try again in 6ms. Visit https://platform.openai.com/account/rate-limits to learn more.. Retrying Question No. 2 Attempt:(1)\n",
      "Rate limit error: Rate limit reached for gpt-4 in organization org-Y2tKyCPFO6tIjtCtOVZ7c9tr on tokens per min. Limit: 10000 / min. Please try again in 6ms. Visit https://platform.openai.com/account/rate-limits to learn more.. Retrying Question No. 4 Attempt:(1)\n",
      "Rate limit error: Rate limit reached for gpt-4 in organization org-Y2tKyCPFO6tIjtCtOVZ7c9tr on tokens per min. Limit: 10000 / min. Please try again in 6ms. Visit https://platform.openai.com/account/rate-limits to learn more.. Retrying Question No. 6 Attempt:(1)\n",
      "Rate limit error: Rate limit reached for gpt-4 in organization org-Y2tKyCPFO6tIjtCtOVZ7c9tr on tokens per min. Limit: 10000 / min. Please try again in 6ms. Visit https://platform.openai.com/account/rate-limits to learn more.. Retrying Question No. 7 Attempt:(1)\n"
     ]
    },
    {
     "name": "stderr",
     "output_type": "stream",
     "text": [
      " 67%|██████▋   | 58/87 [6:43:37<2:08:40, 266.22s/it]"
     ]
    },
    {
     "name": "stdout",
     "output_type": "stream",
     "text": [
      "Rate limit error: Rate limit reached for gpt-4 in organization org-Y2tKyCPFO6tIjtCtOVZ7c9tr on tokens per min. Limit: 10000 / min. Please try again in 6ms. Visit https://platform.openai.com/account/rate-limits to learn more.. Retrying Question No. 0 Attempt:(1)\n",
      "Rate limit error: Rate limit reached for gpt-4 in organization org-Y2tKyCPFO6tIjtCtOVZ7c9tr on tokens per min. Limit: 10000 / min. Please try again in 6ms. Visit https://platform.openai.com/account/rate-limits to learn more.. Retrying Question No. 1 Attempt:(1)\n",
      "Rate limit error: Rate limit reached for gpt-4 in organization org-Y2tKyCPFO6tIjtCtOVZ7c9tr on tokens per min. Limit: 10000 / min. Please try again in 6ms. Visit https://platform.openai.com/account/rate-limits to learn more.. Retrying Question No. 2 Attempt:(1)\n",
      "Rate limit error: Rate limit reached for gpt-4 in organization org-Y2tKyCPFO6tIjtCtOVZ7c9tr on tokens per min. Limit: 10000 / min. Please try again in 6ms. Visit https://platform.openai.com/account/rate-limits to learn more.. Retrying Question No. 3 Attempt:(1)\n",
      "Rate limit error: Rate limit reached for gpt-4 in organization org-Y2tKyCPFO6tIjtCtOVZ7c9tr on tokens per min. Limit: 10000 / min. Please try again in 6ms. Visit https://platform.openai.com/account/rate-limits to learn more.. Retrying Question No. 4 Attempt:(1)\n",
      "Rate limit error: Rate limit reached for gpt-4 in organization org-Y2tKyCPFO6tIjtCtOVZ7c9tr on tokens per min. Limit: 10000 / min. Please try again in 6ms. Visit https://platform.openai.com/account/rate-limits to learn more.. Retrying Question No. 5 Attempt:(1)\n",
      "Rate limit error: Rate limit reached for gpt-4 in organization org-Y2tKyCPFO6tIjtCtOVZ7c9tr on tokens per min. Limit: 10000 / min. Please try again in 6ms. Visit https://platform.openai.com/account/rate-limits to learn more.. Retrying Question No. 6 Attempt:(1)\n",
      "Rate limit error: Rate limit reached for gpt-4 in organization org-Y2tKyCPFO6tIjtCtOVZ7c9tr on tokens per min. Limit: 10000 / min. Please try again in 6ms. Visit https://platform.openai.com/account/rate-limits to learn more.. Retrying Question No. 6 Attempt:(2)\n",
      "Rate limit error: Rate limit reached for gpt-4 in organization org-Y2tKyCPFO6tIjtCtOVZ7c9tr on tokens per min. Limit: 10000 / min. Please try again in 6ms. Visit https://platform.openai.com/account/rate-limits to learn more.. Retrying Question No. 7 Attempt:(1)\n",
      "Rate limit error: Rate limit reached for gpt-4 in organization org-Y2tKyCPFO6tIjtCtOVZ7c9tr on tokens per min. Limit: 10000 / min. Please try again in 6ms. Visit https://platform.openai.com/account/rate-limits to learn more.. Retrying Question No. 8 Attempt:(1)\n",
      "Rate limit error: Rate limit reached for gpt-4 in organization org-Y2tKyCPFO6tIjtCtOVZ7c9tr on tokens per min. Limit: 10000 / min. Please try again in 6ms. Visit https://platform.openai.com/account/rate-limits to learn more.. Retrying Question No. 0 Attempt:(1)\n",
      "Rate limit error: Rate limit reached for gpt-4 in organization org-Y2tKyCPFO6tIjtCtOVZ7c9tr on tokens per min. Limit: 10000 / min. Please try again in 6ms. Visit https://platform.openai.com/account/rate-limits to learn more.. Retrying Question No. 1 Attempt:(1)\n",
      "Rate limit error: Rate limit reached for gpt-4 in organization org-Y2tKyCPFO6tIjtCtOVZ7c9tr on tokens per min. Limit: 10000 / min. Please try again in 6ms. Visit https://platform.openai.com/account/rate-limits to learn more.. Retrying Question No. 3 Attempt:(1)\n",
      "Rate limit error: Rate limit reached for gpt-4 in organization org-Y2tKyCPFO6tIjtCtOVZ7c9tr on tokens per min. Limit: 10000 / min. Please try again in 6ms. Visit https://platform.openai.com/account/rate-limits to learn more.. Retrying Question No. 4 Attempt:(1)\n",
      "Rate limit error: Rate limit reached for gpt-4 in organization org-Y2tKyCPFO6tIjtCtOVZ7c9tr on tokens per min. Limit: 10000 / min. Please try again in 6ms. Visit https://platform.openai.com/account/rate-limits to learn more.. Retrying Question No. 5 Attempt:(1)\n",
      "Rate limit error: Rate limit reached for gpt-4 in organization org-Y2tKyCPFO6tIjtCtOVZ7c9tr on tokens per min. Limit: 10000 / min. Please try again in 6ms. Visit https://platform.openai.com/account/rate-limits to learn more.. Retrying Question No. 6 Attempt:(1)\n",
      "Rate limit error: Rate limit reached for gpt-4 in organization org-Y2tKyCPFO6tIjtCtOVZ7c9tr on tokens per min. Limit: 10000 / min. Please try again in 6ms. Visit https://platform.openai.com/account/rate-limits to learn more.. Retrying Question No. 7 Attempt:(1)\n",
      "Rate limit error: Rate limit reached for gpt-4 in organization org-Y2tKyCPFO6tIjtCtOVZ7c9tr on tokens per min. Limit: 10000 / min. Please try again in 6ms. Visit https://platform.openai.com/account/rate-limits to learn more.. Retrying Question No. 8 Attempt:(1)\n",
      "Rate limit error: Rate limit reached for gpt-4 in organization org-Y2tKyCPFO6tIjtCtOVZ7c9tr on tokens per min. Limit: 10000 / min. Please try again in 6ms. Visit https://platform.openai.com/account/rate-limits to learn more.. Retrying Question No. 0 Attempt:(1)\n",
      "Rate limit error: Rate limit reached for gpt-4 in organization org-Y2tKyCPFO6tIjtCtOVZ7c9tr on tokens per min. Limit: 10000 / min. Please try again in 6ms. Visit https://platform.openai.com/account/rate-limits to learn more.. Retrying Question No. 1 Attempt:(1)\n",
      "Rate limit error: Rate limit reached for gpt-4 in organization org-Y2tKyCPFO6tIjtCtOVZ7c9tr on tokens per min. Limit: 10000 / min. Please try again in 6ms. Visit https://platform.openai.com/account/rate-limits to learn more.. Retrying Question No. 2 Attempt:(1)\n",
      "Rate limit error: Rate limit reached for gpt-4 in organization org-Y2tKyCPFO6tIjtCtOVZ7c9tr on tokens per min. Limit: 10000 / min. Please try again in 6ms. Visit https://platform.openai.com/account/rate-limits to learn more.. Retrying Question No. 3 Attempt:(1)\n",
      "Rate limit error: Rate limit reached for gpt-4 in organization org-Y2tKyCPFO6tIjtCtOVZ7c9tr on tokens per min. Limit: 10000 / min. Please try again in 6ms. Visit https://platform.openai.com/account/rate-limits to learn more.. Retrying Question No. 4 Attempt:(1)\n",
      "Rate limit error: Rate limit reached for gpt-4 in organization org-Y2tKyCPFO6tIjtCtOVZ7c9tr on tokens per min. Limit: 10000 / min. Please try again in 6ms. Visit https://platform.openai.com/account/rate-limits to learn more.. Retrying Question No. 5 Attempt:(1)\n",
      "Rate limit error: Rate limit reached for gpt-4 in organization org-Y2tKyCPFO6tIjtCtOVZ7c9tr on tokens per min. Limit: 10000 / min. Please try again in 6ms. Visit https://platform.openai.com/account/rate-limits to learn more.. Retrying Question No. 6 Attempt:(1)\n",
      "Rate limit error: Rate limit reached for gpt-4 in organization org-Y2tKyCPFO6tIjtCtOVZ7c9tr on tokens per min. Limit: 10000 / min. Please try again in 6ms. Visit https://platform.openai.com/account/rate-limits to learn more.. Retrying Question No. 6 Attempt:(2)\n",
      "Rate limit error: Rate limit reached for gpt-4 in organization org-Y2tKyCPFO6tIjtCtOVZ7c9tr on tokens per min. Limit: 10000 / min. Please try again in 6ms. Visit https://platform.openai.com/account/rate-limits to learn more.. Retrying Question No. 7 Attempt:(1)\n",
      "Rate limit error: Rate limit reached for gpt-4 in organization org-Y2tKyCPFO6tIjtCtOVZ7c9tr on tokens per min. Limit: 10000 / min. Please try again in 6ms. Visit https://platform.openai.com/account/rate-limits to learn more.. Retrying Question No. 8 Attempt:(1)\n"
     ]
    },
    {
     "name": "stderr",
     "output_type": "stream",
     "text": [
      " 68%|██████▊   | 59/87 [6:58:31<3:32:01, 454.35s/it]"
     ]
    },
    {
     "name": "stdout",
     "output_type": "stream",
     "text": [
      "Rate limit error: Rate limit reached for gpt-4 in organization org-Y2tKyCPFO6tIjtCtOVZ7c9tr on tokens per min. Limit: 10000 / min. Please try again in 6ms. Visit https://platform.openai.com/account/rate-limits to learn more.. Retrying Question No. 1 Attempt:(1)\n",
      "Rate limit error: Rate limit reached for gpt-4 in organization org-Y2tKyCPFO6tIjtCtOVZ7c9tr on tokens per min. Limit: 10000 / min. Please try again in 6ms. Visit https://platform.openai.com/account/rate-limits to learn more.. Retrying Question No. 2 Attempt:(1)\n",
      "Rate limit error: Rate limit reached for gpt-4 in organization org-Y2tKyCPFO6tIjtCtOVZ7c9tr on tokens per min. Limit: 10000 / min. Please try again in 6ms. Visit https://platform.openai.com/account/rate-limits to learn more.. Retrying Question No. 4 Attempt:(1)\n",
      "Rate limit error: Rate limit reached for gpt-4 in organization org-Y2tKyCPFO6tIjtCtOVZ7c9tr on tokens per min. Limit: 10000 / min. Please try again in 6ms. Visit https://platform.openai.com/account/rate-limits to learn more.. Retrying Question No. 6 Attempt:(1)\n",
      "Rate limit error: Rate limit reached for gpt-4 in organization org-Y2tKyCPFO6tIjtCtOVZ7c9tr on tokens per min. Limit: 10000 / min. Please try again in 6ms. Visit https://platform.openai.com/account/rate-limits to learn more.. Retrying Question No. 7 Attempt:(1)\n"
     ]
    },
    {
     "name": "stderr",
     "output_type": "stream",
     "text": [
      " 69%|██████▉   | 60/87 [7:01:14<2:45:07, 366.94s/it]"
     ]
    },
    {
     "name": "stdout",
     "output_type": "stream",
     "text": [
      "Rate limit error: Rate limit reached for gpt-4 in organization org-Y2tKyCPFO6tIjtCtOVZ7c9tr on tokens per min. Limit: 10000 / min. Please try again in 6ms. Visit https://platform.openai.com/account/rate-limits to learn more.. Retrying Question No. 1 Attempt:(1)\n",
      "Rate limit error: Rate limit reached for gpt-4 in organization org-Y2tKyCPFO6tIjtCtOVZ7c9tr on tokens per min. Limit: 10000 / min. Please try again in 6ms. Visit https://platform.openai.com/account/rate-limits to learn more.. Retrying Question No. 4 Attempt:(1)\n",
      "Rate limit error: Rate limit reached for gpt-4 in organization org-Y2tKyCPFO6tIjtCtOVZ7c9tr on tokens per min. Limit: 10000 / min. Please try again in 6ms. Visit https://platform.openai.com/account/rate-limits to learn more.. Retrying Question No. 7 Attempt:(1)\n"
     ]
    },
    {
     "name": "stderr",
     "output_type": "stream",
     "text": [
      " 70%|███████   | 61/87 [7:02:55<2:04:27, 287.21s/it]"
     ]
    },
    {
     "name": "stdout",
     "output_type": "stream",
     "text": [
      "Rate limit error: Rate limit reached for gpt-4 in organization org-Y2tKyCPFO6tIjtCtOVZ7c9tr on tokens per min. Limit: 10000 / min. Please try again in 6ms. Visit https://platform.openai.com/account/rate-limits to learn more.. Retrying Question No. 0 Attempt:(1)\n",
      "Rate limit error: Rate limit reached for gpt-4 in organization org-Y2tKyCPFO6tIjtCtOVZ7c9tr on tokens per min. Limit: 10000 / min. Please try again in 6ms. Visit https://platform.openai.com/account/rate-limits to learn more.. Retrying Question No. 1 Attempt:(1)\n",
      "Rate limit error: Rate limit reached for gpt-4 in organization org-Y2tKyCPFO6tIjtCtOVZ7c9tr on tokens per min. Limit: 10000 / min. Please try again in 6ms. Visit https://platform.openai.com/account/rate-limits to learn more.. Retrying Question No. 2 Attempt:(1)\n",
      "Rate limit error: Rate limit reached for gpt-4 in organization org-Y2tKyCPFO6tIjtCtOVZ7c9tr on tokens per min. Limit: 10000 / min. Please try again in 6ms. Visit https://platform.openai.com/account/rate-limits to learn more.. Retrying Question No. 3 Attempt:(1)\n",
      "Rate limit error: Rate limit reached for gpt-4 in organization org-Y2tKyCPFO6tIjtCtOVZ7c9tr on tokens per min. Limit: 10000 / min. Please try again in 6ms. Visit https://platform.openai.com/account/rate-limits to learn more.. Retrying Question No. 4 Attempt:(1)\n",
      "Rate limit error: Rate limit reached for gpt-4 in organization org-Y2tKyCPFO6tIjtCtOVZ7c9tr on tokens per min. Limit: 10000 / min. Please try again in 6ms. Visit https://platform.openai.com/account/rate-limits to learn more.. Retrying Question No. 5 Attempt:(1)\n",
      "Rate limit error: Rate limit reached for gpt-4 in organization org-Y2tKyCPFO6tIjtCtOVZ7c9tr on tokens per min. Limit: 10000 / min. Please try again in 6ms. Visit https://platform.openai.com/account/rate-limits to learn more.. Retrying Question No. 6 Attempt:(1)\n",
      "Rate limit error: Rate limit reached for gpt-4 in organization org-Y2tKyCPFO6tIjtCtOVZ7c9tr on tokens per min. Limit: 10000 / min. Please try again in 6ms. Visit https://platform.openai.com/account/rate-limits to learn more.. Retrying Question No. 7 Attempt:(1)\n",
      "Rate limit error: Rate limit reached for gpt-4 in organization org-Y2tKyCPFO6tIjtCtOVZ7c9tr on tokens per min. Limit: 10000 / min. Please try again in 6ms. Visit https://platform.openai.com/account/rate-limits to learn more.. Retrying Question No. 8 Attempt:(1)\n"
     ]
    },
    {
     "name": "stderr",
     "output_type": "stream",
     "text": [
      " 71%|███████▏  | 62/87 [7:07:40<1:59:24, 286.57s/it]"
     ]
    },
    {
     "name": "stdout",
     "output_type": "stream",
     "text": [
      "Rate limit error: Rate limit reached for gpt-4 in organization org-Y2tKyCPFO6tIjtCtOVZ7c9tr on tokens per min. Limit: 10000 / min. Please try again in 6ms. Visit https://platform.openai.com/account/rate-limits to learn more.. Retrying Question No. 0 Attempt:(1)\n",
      "Rate limit error: Rate limit reached for gpt-4 in organization org-Y2tKyCPFO6tIjtCtOVZ7c9tr on tokens per min. Limit: 10000 / min. Please try again in 6ms. Visit https://platform.openai.com/account/rate-limits to learn more.. Retrying Question No. 1 Attempt:(1)\n",
      "Rate limit error: Rate limit reached for gpt-4 in organization org-Y2tKyCPFO6tIjtCtOVZ7c9tr on tokens per min. Limit: 10000 / min. Please try again in 6ms. Visit https://platform.openai.com/account/rate-limits to learn more.. Retrying Question No. 2 Attempt:(1)\n",
      "Rate limit error: Rate limit reached for gpt-4 in organization org-Y2tKyCPFO6tIjtCtOVZ7c9tr on tokens per min. Limit: 10000 / min. Please try again in 6ms. Visit https://platform.openai.com/account/rate-limits to learn more.. Retrying Question No. 3 Attempt:(1)\n",
      "Rate limit error: Rate limit reached for gpt-4 in organization org-Y2tKyCPFO6tIjtCtOVZ7c9tr on tokens per min. Limit: 10000 / min. Please try again in 6ms. Visit https://platform.openai.com/account/rate-limits to learn more.. Retrying Question No. 4 Attempt:(1)\n",
      "Rate limit error: Rate limit reached for gpt-4 in organization org-Y2tKyCPFO6tIjtCtOVZ7c9tr on tokens per min. Limit: 10000 / min. Please try again in 6ms. Visit https://platform.openai.com/account/rate-limits to learn more.. Retrying Question No. 4 Attempt:(2)\n",
      "Rate limit error: Rate limit reached for gpt-4 in organization org-Y2tKyCPFO6tIjtCtOVZ7c9tr on tokens per min. Limit: 10000 / min. Please try again in 6ms. Visit https://platform.openai.com/account/rate-limits to learn more.. Retrying Question No. 5 Attempt:(1)\n",
      "An error occurred: Request timed out: HTTPSConnectionPool(host='api.openai.com', port=443): Read timed out. (read timeout=600). Retrying Question No. 5 Attempt:(2)\n",
      "Rate limit error: Rate limit reached for gpt-4 in organization org-Y2tKyCPFO6tIjtCtOVZ7c9tr on tokens per min. Limit: 10000 / min. Please try again in 6ms. Visit https://platform.openai.com/account/rate-limits to learn more.. Retrying Question No. 6 Attempt:(1)\n",
      "Rate limit error: Rate limit reached for gpt-4 in organization org-Y2tKyCPFO6tIjtCtOVZ7c9tr on tokens per min. Limit: 10000 / min. Please try again in 6ms. Visit https://platform.openai.com/account/rate-limits to learn more.. Retrying Question No. 7 Attempt:(1)\n",
      "Rate limit error: Rate limit reached for gpt-4 in organization org-Y2tKyCPFO6tIjtCtOVZ7c9tr on tokens per min. Limit: 10000 / min. Please try again in 6ms. Visit https://platform.openai.com/account/rate-limits to learn more.. Retrying Question No. 8 Attempt:(1)\n",
      "Rate limit error: Rate limit reached for gpt-4 in organization org-Y2tKyCPFO6tIjtCtOVZ7c9tr on tokens per min. Limit: 10000 / min. Please try again in 6ms. Visit https://platform.openai.com/account/rate-limits to learn more.. Retrying Question No. 1 Attempt:(1)\n",
      "Rate limit error: Rate limit reached for gpt-4 in organization org-Y2tKyCPFO6tIjtCtOVZ7c9tr on tokens per min. Limit: 10000 / min. Please try again in 6ms. Visit https://platform.openai.com/account/rate-limits to learn more.. Retrying Question No. 4 Attempt:(1)\n",
      "Rate limit error: Rate limit reached for gpt-4 in organization org-Y2tKyCPFO6tIjtCtOVZ7c9tr on tokens per min. Limit: 10000 / min. Please try again in 6ms. Visit https://platform.openai.com/account/rate-limits to learn more.. Retrying Question No. 6 Attempt:(1)\n"
     ]
    },
    {
     "name": "stderr",
     "output_type": "stream",
     "text": [
      " 72%|███████▏  | 63/87 [7:24:41<3:22:43, 506.81s/it]"
     ]
    },
    {
     "name": "stdout",
     "output_type": "stream",
     "text": [
      "Rate limit error: Rate limit reached for gpt-4 in organization org-Y2tKyCPFO6tIjtCtOVZ7c9tr on tokens per min. Limit: 10000 / min. Please try again in 6ms. Visit https://platform.openai.com/account/rate-limits to learn more.. Retrying Question No. 0 Attempt:(1)\n",
      "Rate limit error: Rate limit reached for gpt-4 in organization org-Y2tKyCPFO6tIjtCtOVZ7c9tr on tokens per min. Limit: 10000 / min. Please try again in 6ms. Visit https://platform.openai.com/account/rate-limits to learn more.. Retrying Question No. 1 Attempt:(1)\n",
      "Rate limit error: Rate limit reached for gpt-4 in organization org-Y2tKyCPFO6tIjtCtOVZ7c9tr on tokens per min. Limit: 10000 / min. Please try again in 6ms. Visit https://platform.openai.com/account/rate-limits to learn more.. Retrying Question No. 2 Attempt:(1)\n",
      "Rate limit error: Rate limit reached for gpt-4 in organization org-Y2tKyCPFO6tIjtCtOVZ7c9tr on tokens per min. Limit: 10000 / min. Please try again in 6ms. Visit https://platform.openai.com/account/rate-limits to learn more.. Retrying Question No. 2 Attempt:(2)\n",
      "Rate limit error: Rate limit reached for gpt-4 in organization org-Y2tKyCPFO6tIjtCtOVZ7c9tr on tokens per min. Limit: 10000 / min. Please try again in 6ms. Visit https://platform.openai.com/account/rate-limits to learn more.. Retrying Question No. 3 Attempt:(1)\n",
      "Rate limit error: Rate limit reached for gpt-4 in organization org-Y2tKyCPFO6tIjtCtOVZ7c9tr on tokens per min. Limit: 10000 / min. Please try again in 6ms. Visit https://platform.openai.com/account/rate-limits to learn more.. Retrying Question No. 4 Attempt:(1)\n",
      "Rate limit error: Rate limit reached for gpt-4 in organization org-Y2tKyCPFO6tIjtCtOVZ7c9tr on tokens per min. Limit: 10000 / min. Please try again in 6ms. Visit https://platform.openai.com/account/rate-limits to learn more.. Retrying Question No. 5 Attempt:(1)\n",
      "Rate limit error: Rate limit reached for gpt-4 in organization org-Y2tKyCPFO6tIjtCtOVZ7c9tr on tokens per min. Limit: 10000 / min. Please try again in 6ms. Visit https://platform.openai.com/account/rate-limits to learn more.. Retrying Question No. 6 Attempt:(1)\n",
      "Rate limit error: Rate limit reached for gpt-4 in organization org-Y2tKyCPFO6tIjtCtOVZ7c9tr on tokens per min. Limit: 10000 / min. Please try again in 6ms. Visit https://platform.openai.com/account/rate-limits to learn more.. Retrying Question No. 7 Attempt:(1)\n",
      "Rate limit error: Rate limit reached for gpt-4 in organization org-Y2tKyCPFO6tIjtCtOVZ7c9tr on tokens per min. Limit: 10000 / min. Please try again in 6ms. Visit https://platform.openai.com/account/rate-limits to learn more.. Retrying Question No. 8 Attempt:(1)\n",
      "Rate limit error: Rate limit reached for gpt-4 in organization org-Y2tKyCPFO6tIjtCtOVZ7c9tr on tokens per min. Limit: 10000 / min. Please try again in 6ms. Visit https://platform.openai.com/account/rate-limits to learn more.. Retrying Question No. 1 Attempt:(1)\n",
      "Rate limit error: Rate limit reached for gpt-4 in organization org-Y2tKyCPFO6tIjtCtOVZ7c9tr on tokens per min. Limit: 10000 / min. Please try again in 6ms. Visit https://platform.openai.com/account/rate-limits to learn more.. Retrying Question No. 5 Attempt:(1)\n",
      "Rate limit error: Rate limit reached for gpt-4 in organization org-Y2tKyCPFO6tIjtCtOVZ7c9tr on tokens per min. Limit: 10000 / min. Please try again in 6ms. Visit https://platform.openai.com/account/rate-limits to learn more.. Retrying Question No. 8 Attempt:(1)\n"
     ]
    },
    {
     "name": "stderr",
     "output_type": "stream",
     "text": [
      " 74%|███████▎  | 64/87 [7:31:35<3:03:39, 479.11s/it]"
     ]
    },
    {
     "name": "stdout",
     "output_type": "stream",
     "text": [
      "Rate limit error: Rate limit reached for gpt-4 in organization org-Y2tKyCPFO6tIjtCtOVZ7c9tr on tokens per min. Limit: 10000 / min. Please try again in 6ms. Visit https://platform.openai.com/account/rate-limits to learn more.. Retrying Question No. 0 Attempt:(1)\n",
      "Rate limit error: Rate limit reached for gpt-4 in organization org-Y2tKyCPFO6tIjtCtOVZ7c9tr on tokens per min. Limit: 10000 / min. Please try again in 6ms. Visit https://platform.openai.com/account/rate-limits to learn more.. Retrying Question No. 1 Attempt:(1)\n",
      "Rate limit error: Rate limit reached for gpt-4 in organization org-Y2tKyCPFO6tIjtCtOVZ7c9tr on tokens per min. Limit: 10000 / min. Please try again in 6ms. Visit https://platform.openai.com/account/rate-limits to learn more.. Retrying Question No. 2 Attempt:(1)\n",
      "Rate limit error: Rate limit reached for gpt-4 in organization org-Y2tKyCPFO6tIjtCtOVZ7c9tr on tokens per min. Limit: 10000 / min. Please try again in 6ms. Visit https://platform.openai.com/account/rate-limits to learn more.. Retrying Question No. 3 Attempt:(1)\n",
      "Rate limit error: Rate limit reached for gpt-4 in organization org-Y2tKyCPFO6tIjtCtOVZ7c9tr on tokens per min. Limit: 10000 / min. Please try again in 6ms. Visit https://platform.openai.com/account/rate-limits to learn more.. Retrying Question No. 4 Attempt:(1)\n",
      "Rate limit error: Rate limit reached for gpt-4 in organization org-Y2tKyCPFO6tIjtCtOVZ7c9tr on tokens per min. Limit: 10000 / min. Please try again in 6ms. Visit https://platform.openai.com/account/rate-limits to learn more.. Retrying Question No. 5 Attempt:(1)\n",
      "Rate limit error: Rate limit reached for gpt-4 in organization org-Y2tKyCPFO6tIjtCtOVZ7c9tr on tokens per min. Limit: 10000 / min. Please try again in 6ms. Visit https://platform.openai.com/account/rate-limits to learn more.. Retrying Question No. 6 Attempt:(1)\n",
      "Rate limit error: Rate limit reached for gpt-4 in organization org-Y2tKyCPFO6tIjtCtOVZ7c9tr on tokens per min. Limit: 10000 / min. Please try again in 6ms. Visit https://platform.openai.com/account/rate-limits to learn more.. Retrying Question No. 7 Attempt:(1)\n",
      "Rate limit error: Rate limit reached for gpt-4 in organization org-Y2tKyCPFO6tIjtCtOVZ7c9tr on tokens per min. Limit: 10000 / min. Please try again in 6ms. Visit https://platform.openai.com/account/rate-limits to learn more.. Retrying Question No. 8 Attempt:(1)\n",
      "An error occurred: Request timed out: HTTPSConnectionPool(host='api.openai.com', port=443): Read timed out. (read timeout=600). Retrying Question No. 8 Attempt:(2)\n",
      "Rate limit error: Rate limit reached for gpt-4 in organization org-Y2tKyCPFO6tIjtCtOVZ7c9tr on tokens per min. Limit: 10000 / min. Please try again in 6ms. Visit https://platform.openai.com/account/rate-limits to learn more.. Retrying Question No. 2 Attempt:(1)\n",
      "Rate limit error: Rate limit reached for gpt-4 in organization org-Y2tKyCPFO6tIjtCtOVZ7c9tr on tokens per min. Limit: 10000 / min. Please try again in 6ms. Visit https://platform.openai.com/account/rate-limits to learn more.. Retrying Question No. 5 Attempt:(1)\n",
      "Rate limit error: Rate limit reached for gpt-4 in organization org-Y2tKyCPFO6tIjtCtOVZ7c9tr on tokens per min. Limit: 10000 / min. Please try again in 6ms. Visit https://platform.openai.com/account/rate-limits to learn more.. Retrying Question No. 7 Attempt:(1)\n"
     ]
    },
    {
     "name": "stderr",
     "output_type": "stream",
     "text": [
      " 75%|███████▍  | 65/87 [7:48:04<3:51:46, 632.10s/it]"
     ]
    },
    {
     "name": "stdout",
     "output_type": "stream",
     "text": [
      "Rate limit error: Rate limit reached for gpt-4 in organization org-Y2tKyCPFO6tIjtCtOVZ7c9tr on tokens per min. Limit: 10000 / min. Please try again in 6ms. Visit https://platform.openai.com/account/rate-limits to learn more.. Retrying Question No. 0 Attempt:(1)\n",
      "Rate limit error: Rate limit reached for gpt-4 in organization org-Y2tKyCPFO6tIjtCtOVZ7c9tr on tokens per min. Limit: 10000 / min. Please try again in 6ms. Visit https://platform.openai.com/account/rate-limits to learn more.. Retrying Question No. 1 Attempt:(1)\n",
      "Rate limit error: Rate limit reached for gpt-4 in organization org-Y2tKyCPFO6tIjtCtOVZ7c9tr on tokens per min. Limit: 10000 / min. Please try again in 6ms. Visit https://platform.openai.com/account/rate-limits to learn more.. Retrying Question No. 2 Attempt:(1)\n",
      "Rate limit error: Rate limit reached for gpt-4 in organization org-Y2tKyCPFO6tIjtCtOVZ7c9tr on tokens per min. Limit: 10000 / min. Please try again in 6ms. Visit https://platform.openai.com/account/rate-limits to learn more.. Retrying Question No. 3 Attempt:(1)\n",
      "Rate limit error: Rate limit reached for gpt-4 in organization org-Y2tKyCPFO6tIjtCtOVZ7c9tr on tokens per min. Limit: 10000 / min. Please try again in 6ms. Visit https://platform.openai.com/account/rate-limits to learn more.. Retrying Question No. 4 Attempt:(1)\n",
      "Rate limit error: Rate limit reached for gpt-4 in organization org-Y2tKyCPFO6tIjtCtOVZ7c9tr on tokens per min. Limit: 10000 / min. Please try again in 6ms. Visit https://platform.openai.com/account/rate-limits to learn more.. Retrying Question No. 5 Attempt:(1)\n",
      "Rate limit error: Rate limit reached for gpt-4 in organization org-Y2tKyCPFO6tIjtCtOVZ7c9tr on tokens per min. Limit: 10000 / min. Please try again in 6ms. Visit https://platform.openai.com/account/rate-limits to learn more.. Retrying Question No. 5 Attempt:(2)\n",
      "Rate limit error: Rate limit reached for gpt-4 in organization org-Y2tKyCPFO6tIjtCtOVZ7c9tr on tokens per min. Limit: 10000 / min. Please try again in 6ms. Visit https://platform.openai.com/account/rate-limits to learn more.. Retrying Question No. 6 Attempt:(1)\n",
      "Rate limit error: Rate limit reached for gpt-4 in organization org-Y2tKyCPFO6tIjtCtOVZ7c9tr on tokens per min. Limit: 10000 / min. Please try again in 6ms. Visit https://platform.openai.com/account/rate-limits to learn more.. Retrying Question No. 7 Attempt:(1)\n",
      "Rate limit error: Rate limit reached for gpt-4 in organization org-Y2tKyCPFO6tIjtCtOVZ7c9tr on tokens per min. Limit: 10000 / min. Please try again in 6ms. Visit https://platform.openai.com/account/rate-limits to learn more.. Retrying Question No. 8 Attempt:(1)\n",
      "Rate limit error: Rate limit reached for gpt-4 in organization org-Y2tKyCPFO6tIjtCtOVZ7c9tr on tokens per min. Limit: 10000 / min. Please try again in 6ms. Visit https://platform.openai.com/account/rate-limits to learn more.. Retrying Question No. 0 Attempt:(1)\n",
      "Rate limit error: Rate limit reached for gpt-4 in organization org-Y2tKyCPFO6tIjtCtOVZ7c9tr on tokens per min. Limit: 10000 / min. Please try again in 6ms. Visit https://platform.openai.com/account/rate-limits to learn more.. Retrying Question No. 2 Attempt:(1)\n",
      "Rate limit error: Rate limit reached for gpt-4 in organization org-Y2tKyCPFO6tIjtCtOVZ7c9tr on tokens per min. Limit: 10000 / min. Please try again in 6ms. Visit https://platform.openai.com/account/rate-limits to learn more.. Retrying Question No. 4 Attempt:(1)\n",
      "Rate limit error: Rate limit reached for gpt-4 in organization org-Y2tKyCPFO6tIjtCtOVZ7c9tr on tokens per min. Limit: 10000 / min. Please try again in 6ms. Visit https://platform.openai.com/account/rate-limits to learn more.. Retrying Question No. 6 Attempt:(1)\n",
      "Rate limit error: Rate limit reached for gpt-4 in organization org-Y2tKyCPFO6tIjtCtOVZ7c9tr on tokens per min. Limit: 10000 / min. Please try again in 6ms. Visit https://platform.openai.com/account/rate-limits to learn more.. Retrying Question No. 8 Attempt:(1)\n"
     ]
    },
    {
     "name": "stderr",
     "output_type": "stream",
     "text": [
      " 76%|███████▌  | 66/87 [7:56:07<3:25:34, 587.35s/it]"
     ]
    },
    {
     "name": "stdout",
     "output_type": "stream",
     "text": [
      "Rate limit error: Rate limit reached for gpt-4 in organization org-Y2tKyCPFO6tIjtCtOVZ7c9tr on tokens per min. Limit: 10000 / min. Please try again in 6ms. Visit https://platform.openai.com/account/rate-limits to learn more.. Retrying Question No. 0 Attempt:(1)\n",
      "Rate limit error: Rate limit reached for gpt-4 in organization org-Y2tKyCPFO6tIjtCtOVZ7c9tr on tokens per min. Limit: 10000 / min. Please try again in 6ms. Visit https://platform.openai.com/account/rate-limits to learn more.. Retrying Question No. 1 Attempt:(1)\n",
      "Rate limit error: Rate limit reached for gpt-4 in organization org-Y2tKyCPFO6tIjtCtOVZ7c9tr on tokens per min. Limit: 10000 / min. Please try again in 6ms. Visit https://platform.openai.com/account/rate-limits to learn more.. Retrying Question No. 2 Attempt:(1)\n",
      "Rate limit error: Rate limit reached for gpt-4 in organization org-Y2tKyCPFO6tIjtCtOVZ7c9tr on tokens per min. Limit: 10000 / min. Please try again in 6ms. Visit https://platform.openai.com/account/rate-limits to learn more.. Retrying Question No. 3 Attempt:(1)\n",
      "Rate limit error: Rate limit reached for gpt-4 in organization org-Y2tKyCPFO6tIjtCtOVZ7c9tr on tokens per min. Limit: 10000 / min. Please try again in 6ms. Visit https://platform.openai.com/account/rate-limits to learn more.. Retrying Question No. 4 Attempt:(1)\n",
      "Rate limit error: Rate limit reached for gpt-4 in organization org-Y2tKyCPFO6tIjtCtOVZ7c9tr on tokens per min. Limit: 10000 / min. Please try again in 6ms. Visit https://platform.openai.com/account/rate-limits to learn more.. Retrying Question No. 5 Attempt:(1)\n",
      "Rate limit error: Rate limit reached for gpt-4 in organization org-Y2tKyCPFO6tIjtCtOVZ7c9tr on tokens per min. Limit: 10000 / min. Please try again in 6ms. Visit https://platform.openai.com/account/rate-limits to learn more.. Retrying Question No. 6 Attempt:(1)\n",
      "Rate limit error: Rate limit reached for gpt-4 in organization org-Y2tKyCPFO6tIjtCtOVZ7c9tr on tokens per min. Limit: 10000 / min. Please try again in 6ms. Visit https://platform.openai.com/account/rate-limits to learn more.. Retrying Question No. 7 Attempt:(1)\n",
      "Rate limit error: Rate limit reached for gpt-4 in organization org-Y2tKyCPFO6tIjtCtOVZ7c9tr on tokens per min. Limit: 10000 / min. Please try again in 6ms. Visit https://platform.openai.com/account/rate-limits to learn more.. Retrying Question No. 8 Attempt:(1)\n",
      "Rate limit error: Rate limit reached for gpt-4 in organization org-Y2tKyCPFO6tIjtCtOVZ7c9tr on tokens per min. Limit: 10000 / min. Please try again in 6ms. Visit https://platform.openai.com/account/rate-limits to learn more.. Retrying Question No. 3 Attempt:(1)\n"
     ]
    },
    {
     "name": "stderr",
     "output_type": "stream",
     "text": [
      " 77%|███████▋  | 67/87 [8:01:37<2:50:01, 510.10s/it]"
     ]
    },
    {
     "name": "stdout",
     "output_type": "stream",
     "text": [
      "Rate limit error: Rate limit reached for gpt-4 in organization org-Y2tKyCPFO6tIjtCtOVZ7c9tr on tokens per min. Limit: 10000 / min. Please try again in 6ms. Visit https://platform.openai.com/account/rate-limits to learn more.. Retrying Question No. 0 Attempt:(1)\n",
      "Rate limit error: Rate limit reached for gpt-4 in organization org-Y2tKyCPFO6tIjtCtOVZ7c9tr on tokens per min. Limit: 10000 / min. Please try again in 6ms. Visit https://platform.openai.com/account/rate-limits to learn more.. Retrying Question No. 2 Attempt:(1)\n",
      "Rate limit error: Rate limit reached for gpt-4 in organization org-Y2tKyCPFO6tIjtCtOVZ7c9tr on tokens per min. Limit: 10000 / min. Please try again in 6ms. Visit https://platform.openai.com/account/rate-limits to learn more.. Retrying Question No. 4 Attempt:(1)\n",
      "Rate limit error: Rate limit reached for gpt-4 in organization org-Y2tKyCPFO6tIjtCtOVZ7c9tr on tokens per min. Limit: 10000 / min. Please try again in 6ms. Visit https://platform.openai.com/account/rate-limits to learn more.. Retrying Question No. 6 Attempt:(1)\n",
      "Rate limit error: Rate limit reached for gpt-4 in organization org-Y2tKyCPFO6tIjtCtOVZ7c9tr on tokens per min. Limit: 10000 / min. Please try again in 6ms. Visit https://platform.openai.com/account/rate-limits to learn more.. Retrying Question No. 8 Attempt:(1)\n"
     ]
    },
    {
     "name": "stderr",
     "output_type": "stream",
     "text": [
      " 78%|███████▊  | 68/87 [8:04:18<2:08:22, 405.42s/it]"
     ]
    },
    {
     "name": "stdout",
     "output_type": "stream",
     "text": [
      "Rate limit error: Rate limit reached for gpt-4 in organization org-Y2tKyCPFO6tIjtCtOVZ7c9tr on tokens per min. Limit: 10000 / min. Please try again in 6ms. Visit https://platform.openai.com/account/rate-limits to learn more.. Retrying Question No. 0 Attempt:(1)\n",
      "Rate limit error: Rate limit reached for gpt-4 in organization org-Y2tKyCPFO6tIjtCtOVZ7c9tr on tokens per min. Limit: 10000 / min. Please try again in 6ms. Visit https://platform.openai.com/account/rate-limits to learn more.. Retrying Question No. 1 Attempt:(1)\n",
      "Rate limit error: Rate limit reached for gpt-4 in organization org-Y2tKyCPFO6tIjtCtOVZ7c9tr on tokens per min. Limit: 10000 / min. Please try again in 6ms. Visit https://platform.openai.com/account/rate-limits to learn more.. Retrying Question No. 2 Attempt:(1)\n",
      "Rate limit error: Rate limit reached for gpt-4 in organization org-Y2tKyCPFO6tIjtCtOVZ7c9tr on tokens per min. Limit: 10000 / min. Please try again in 6ms. Visit https://platform.openai.com/account/rate-limits to learn more.. Retrying Question No. 3 Attempt:(1)\n",
      "Rate limit error: Rate limit reached for gpt-4 in organization org-Y2tKyCPFO6tIjtCtOVZ7c9tr on tokens per min. Limit: 10000 / min. Please try again in 6ms. Visit https://platform.openai.com/account/rate-limits to learn more.. Retrying Question No. 4 Attempt:(1)\n",
      "Rate limit error: Rate limit reached for gpt-4 in organization org-Y2tKyCPFO6tIjtCtOVZ7c9tr on tokens per min. Limit: 10000 / min. Please try again in 6ms. Visit https://platform.openai.com/account/rate-limits to learn more.. Retrying Question No. 5 Attempt:(1)\n",
      "Rate limit error: Rate limit reached for gpt-4 in organization org-Y2tKyCPFO6tIjtCtOVZ7c9tr on tokens per min. Limit: 10000 / min. Please try again in 6ms. Visit https://platform.openai.com/account/rate-limits to learn more.. Retrying Question No. 6 Attempt:(1)\n",
      "Rate limit error: Rate limit reached for gpt-4 in organization org-Y2tKyCPFO6tIjtCtOVZ7c9tr on tokens per min. Limit: 10000 / min. Please try again in 6ms. Visit https://platform.openai.com/account/rate-limits to learn more.. Retrying Question No. 7 Attempt:(1)\n",
      "Rate limit error: Rate limit reached for gpt-4 in organization org-Y2tKyCPFO6tIjtCtOVZ7c9tr on tokens per min. Limit: 10000 / min. Please try again in 6ms. Visit https://platform.openai.com/account/rate-limits to learn more.. Retrying Question No. 8 Attempt:(1)\n",
      "Rate limit error: Rate limit reached for gpt-4 in organization org-Y2tKyCPFO6tIjtCtOVZ7c9tr on tokens per min. Limit: 10000 / min. Please try again in 6ms. Visit https://platform.openai.com/account/rate-limits to learn more.. Retrying Question No. 0 Attempt:(1)\n",
      "Rate limit error: Rate limit reached for gpt-4 in organization org-Y2tKyCPFO6tIjtCtOVZ7c9tr on tokens per min. Limit: 10000 / min. Please try again in 6ms. Visit https://platform.openai.com/account/rate-limits to learn more.. Retrying Question No. 1 Attempt:(1)\n",
      "Rate limit error: Rate limit reached for gpt-4 in organization org-Y2tKyCPFO6tIjtCtOVZ7c9tr on tokens per min. Limit: 10000 / min. Please try again in 6ms. Visit https://platform.openai.com/account/rate-limits to learn more.. Retrying Question No. 2 Attempt:(1)\n",
      "Rate limit error: Rate limit reached for gpt-4 in organization org-Y2tKyCPFO6tIjtCtOVZ7c9tr on tokens per min. Limit: 10000 / min. Please try again in 6ms. Visit https://platform.openai.com/account/rate-limits to learn more.. Retrying Question No. 3 Attempt:(1)\n",
      "Rate limit error: Rate limit reached for gpt-4 in organization org-Y2tKyCPFO6tIjtCtOVZ7c9tr on tokens per min. Limit: 10000 / min. Please try again in 6ms. Visit https://platform.openai.com/account/rate-limits to learn more.. Retrying Question No. 5 Attempt:(1)\n",
      "Rate limit error: Rate limit reached for gpt-4 in organization org-Y2tKyCPFO6tIjtCtOVZ7c9tr on tokens per min. Limit: 10000 / min. Please try again in 6ms. Visit https://platform.openai.com/account/rate-limits to learn more.. Retrying Question No. 6 Attempt:(1)\n",
      "Rate limit error: Rate limit reached for gpt-4 in organization org-Y2tKyCPFO6tIjtCtOVZ7c9tr on tokens per min. Limit: 10000 / min. Please try again in 6ms. Visit https://platform.openai.com/account/rate-limits to learn more.. Retrying Question No. 7 Attempt:(1)\n"
     ]
    },
    {
     "name": "stderr",
     "output_type": "stream",
     "text": [
      " 79%|███████▉  | 69/87 [8:12:54<2:11:36, 438.68s/it]"
     ]
    },
    {
     "name": "stdout",
     "output_type": "stream",
     "text": [
      "Rate limit error: Rate limit reached for gpt-4 in organization org-Y2tKyCPFO6tIjtCtOVZ7c9tr on tokens per min. Limit: 10000 / min. Please try again in 6ms. Visit https://platform.openai.com/account/rate-limits to learn more.. Retrying Question No. 0 Attempt:(1)\n",
      "Rate limit error: Rate limit reached for gpt-4 in organization org-Y2tKyCPFO6tIjtCtOVZ7c9tr on tokens per min. Limit: 10000 / min. Please try again in 6ms. Visit https://platform.openai.com/account/rate-limits to learn more.. Retrying Question No. 3 Attempt:(1)\n",
      "Rate limit error: Rate limit reached for gpt-4 in organization org-Y2tKyCPFO6tIjtCtOVZ7c9tr on tokens per min. Limit: 10000 / min. Please try again in 6ms. Visit https://platform.openai.com/account/rate-limits to learn more.. Retrying Question No. 5 Attempt:(1)\n",
      "Rate limit error: Rate limit reached for gpt-4 in organization org-Y2tKyCPFO6tIjtCtOVZ7c9tr on tokens per min. Limit: 10000 / min. Please try again in 6ms. Visit https://platform.openai.com/account/rate-limits to learn more.. Retrying Question No. 8 Attempt:(1)\n"
     ]
    },
    {
     "name": "stderr",
     "output_type": "stream",
     "text": [
      " 80%|████████  | 70/87 [8:15:08<1:38:20, 347.11s/it]"
     ]
    },
    {
     "name": "stdout",
     "output_type": "stream",
     "text": [
      "Rate limit error: Rate limit reached for gpt-4 in organization org-Y2tKyCPFO6tIjtCtOVZ7c9tr on tokens per min. Limit: 10000 / min. Please try again in 6ms. Visit https://platform.openai.com/account/rate-limits to learn more.. Retrying Question No. 1 Attempt:(1)\n",
      "Rate limit error: Rate limit reached for gpt-4 in organization org-Y2tKyCPFO6tIjtCtOVZ7c9tr on tokens per min. Limit: 10000 / min. Please try again in 6ms. Visit https://platform.openai.com/account/rate-limits to learn more.. Retrying Question No. 2 Attempt:(1)\n",
      "Rate limit error: Rate limit reached for gpt-4 in organization org-Y2tKyCPFO6tIjtCtOVZ7c9tr on tokens per min. Limit: 10000 / min. Please try again in 6ms. Visit https://platform.openai.com/account/rate-limits to learn more.. Retrying Question No. 3 Attempt:(1)\n",
      "Rate limit error: Rate limit reached for gpt-4 in organization org-Y2tKyCPFO6tIjtCtOVZ7c9tr on tokens per min. Limit: 10000 / min. Please try again in 6ms. Visit https://platform.openai.com/account/rate-limits to learn more.. Retrying Question No. 5 Attempt:(1)\n",
      "Rate limit error: Rate limit reached for gpt-4 in organization org-Y2tKyCPFO6tIjtCtOVZ7c9tr on tokens per min. Limit: 10000 / min. Please try again in 6ms. Visit https://platform.openai.com/account/rate-limits to learn more.. Retrying Question No. 6 Attempt:(1)\n",
      "Rate limit error: Rate limit reached for gpt-4 in organization org-Y2tKyCPFO6tIjtCtOVZ7c9tr on tokens per min. Limit: 10000 / min. Please try again in 6ms. Visit https://platform.openai.com/account/rate-limits to learn more.. Retrying Question No. 7 Attempt:(1)\n"
     ]
    },
    {
     "name": "stderr",
     "output_type": "stream",
     "text": [
      " 82%|████████▏ | 71/87 [8:18:20<1:20:08, 300.52s/it]"
     ]
    },
    {
     "name": "stdout",
     "output_type": "stream",
     "text": [
      "Rate limit error: Rate limit reached for gpt-4 in organization org-Y2tKyCPFO6tIjtCtOVZ7c9tr on tokens per min. Limit: 10000 / min. Please try again in 6ms. Visit https://platform.openai.com/account/rate-limits to learn more.. Retrying Question No. 0 Attempt:(1)\n",
      "Rate limit error: Rate limit reached for gpt-4 in organization org-Y2tKyCPFO6tIjtCtOVZ7c9tr on tokens per min. Limit: 10000 / min. Please try again in 6ms. Visit https://platform.openai.com/account/rate-limits to learn more.. Retrying Question No. 1 Attempt:(1)\n",
      "Rate limit error: Rate limit reached for gpt-4 in organization org-Y2tKyCPFO6tIjtCtOVZ7c9tr on tokens per min. Limit: 10000 / min. Please try again in 6ms. Visit https://platform.openai.com/account/rate-limits to learn more.. Retrying Question No. 2 Attempt:(1)\n",
      "Rate limit error: Rate limit reached for gpt-4 in organization org-Y2tKyCPFO6tIjtCtOVZ7c9tr on tokens per min. Limit: 10000 / min. Please try again in 6ms. Visit https://platform.openai.com/account/rate-limits to learn more.. Retrying Question No. 2 Attempt:(2)\n",
      "Rate limit error: Rate limit reached for gpt-4 in organization org-Y2tKyCPFO6tIjtCtOVZ7c9tr on tokens per min. Limit: 10000 / min. Please try again in 6ms. Visit https://platform.openai.com/account/rate-limits to learn more.. Retrying Question No. 3 Attempt:(1)\n",
      "Rate limit error: Rate limit reached for gpt-4 in organization org-Y2tKyCPFO6tIjtCtOVZ7c9tr on tokens per min. Limit: 10000 / min. Please try again in 6ms. Visit https://platform.openai.com/account/rate-limits to learn more.. Retrying Question No. 4 Attempt:(1)\n",
      "Rate limit error: Rate limit reached for gpt-4 in organization org-Y2tKyCPFO6tIjtCtOVZ7c9tr on tokens per min. Limit: 10000 / min. Please try again in 6ms. Visit https://platform.openai.com/account/rate-limits to learn more.. Retrying Question No. 5 Attempt:(1)\n",
      "Rate limit error: Rate limit reached for gpt-4 in organization org-Y2tKyCPFO6tIjtCtOVZ7c9tr on tokens per min. Limit: 10000 / min. Please try again in 6ms. Visit https://platform.openai.com/account/rate-limits to learn more.. Retrying Question No. 6 Attempt:(1)\n",
      "Rate limit error: Rate limit reached for gpt-4 in organization org-Y2tKyCPFO6tIjtCtOVZ7c9tr on tokens per min. Limit: 10000 / min. Please try again in 6ms. Visit https://platform.openai.com/account/rate-limits to learn more.. Retrying Question No. 7 Attempt:(1)\n",
      "Rate limit error: Rate limit reached for gpt-4 in organization org-Y2tKyCPFO6tIjtCtOVZ7c9tr on tokens per min. Limit: 10000 / min. Please try again in 6ms. Visit https://platform.openai.com/account/rate-limits to learn more.. Retrying Question No. 8 Attempt:(1)\n",
      "Rate limit error: Rate limit reached for gpt-4 in organization org-Y2tKyCPFO6tIjtCtOVZ7c9tr on tokens per min. Limit: 10000 / min. Please try again in 6ms. Visit https://platform.openai.com/account/rate-limits to learn more.. Retrying Question No. 2 Attempt:(1)\n",
      "Rate limit error: Rate limit reached for gpt-4 in organization org-Y2tKyCPFO6tIjtCtOVZ7c9tr on tokens per min. Limit: 10000 / min. Please try again in 6ms. Visit https://platform.openai.com/account/rate-limits to learn more.. Retrying Question No. 7 Attempt:(1)\n"
     ]
    },
    {
     "name": "stderr",
     "output_type": "stream",
     "text": [
      " 83%|████████▎ | 72/87 [8:24:47<1:21:39, 326.63s/it]"
     ]
    },
    {
     "name": "stdout",
     "output_type": "stream",
     "text": [
      "Rate limit error: Rate limit reached for gpt-4 in organization org-Y2tKyCPFO6tIjtCtOVZ7c9tr on tokens per min. Limit: 10000 / min. Please try again in 6ms. Visit https://platform.openai.com/account/rate-limits to learn more.. Retrying Question No. 0 Attempt:(1)\n",
      "Rate limit error: Rate limit reached for gpt-4 in organization org-Y2tKyCPFO6tIjtCtOVZ7c9tr on tokens per min. Limit: 10000 / min. Please try again in 6ms. Visit https://platform.openai.com/account/rate-limits to learn more.. Retrying Question No. 1 Attempt:(1)\n",
      "Rate limit error: Rate limit reached for gpt-4 in organization org-Y2tKyCPFO6tIjtCtOVZ7c9tr on tokens per min. Limit: 10000 / min. Please try again in 6ms. Visit https://platform.openai.com/account/rate-limits to learn more.. Retrying Question No. 2 Attempt:(1)\n",
      "Rate limit error: Rate limit reached for gpt-4 in organization org-Y2tKyCPFO6tIjtCtOVZ7c9tr on tokens per min. Limit: 10000 / min. Please try again in 6ms. Visit https://platform.openai.com/account/rate-limits to learn more.. Retrying Question No. 3 Attempt:(1)\n",
      "Rate limit error: Rate limit reached for gpt-4 in organization org-Y2tKyCPFO6tIjtCtOVZ7c9tr on tokens per min. Limit: 10000 / min. Please try again in 6ms. Visit https://platform.openai.com/account/rate-limits to learn more.. Retrying Question No. 4 Attempt:(1)\n",
      "Rate limit error: Rate limit reached for gpt-4 in organization org-Y2tKyCPFO6tIjtCtOVZ7c9tr on tokens per min. Limit: 10000 / min. Please try again in 6ms. Visit https://platform.openai.com/account/rate-limits to learn more.. Retrying Question No. 5 Attempt:(1)\n",
      "Rate limit error: Rate limit reached for gpt-4 in organization org-Y2tKyCPFO6tIjtCtOVZ7c9tr on tokens per min. Limit: 10000 / min. Please try again in 6ms. Visit https://platform.openai.com/account/rate-limits to learn more.. Retrying Question No. 5 Attempt:(2)\n",
      "Rate limit error: Rate limit reached for gpt-4 in organization org-Y2tKyCPFO6tIjtCtOVZ7c9tr on tokens per min. Limit: 10000 / min. Please try again in 6ms. Visit https://platform.openai.com/account/rate-limits to learn more.. Retrying Question No. 6 Attempt:(1)\n",
      "Rate limit error: Rate limit reached for gpt-4 in organization org-Y2tKyCPFO6tIjtCtOVZ7c9tr on tokens per min. Limit: 10000 / min. Please try again in 6ms. Visit https://platform.openai.com/account/rate-limits to learn more.. Retrying Question No. 7 Attempt:(1)\n",
      "Rate limit error: Rate limit reached for gpt-4 in organization org-Y2tKyCPFO6tIjtCtOVZ7c9tr on tokens per min. Limit: 10000 / min. Please try again in 6ms. Visit https://platform.openai.com/account/rate-limits to learn more.. Retrying Question No. 8 Attempt:(1)\n",
      "Rate limit error: Rate limit reached for gpt-4 in organization org-Y2tKyCPFO6tIjtCtOVZ7c9tr on tokens per min. Limit: 10000 / min. Please try again in 6ms. Visit https://platform.openai.com/account/rate-limits to learn more.. Retrying Question No. 3 Attempt:(1)\n"
     ]
    },
    {
     "name": "stderr",
     "output_type": "stream",
     "text": [
      " 84%|████████▍ | 73/87 [8:30:45<1:18:22, 335.87s/it]"
     ]
    },
    {
     "name": "stdout",
     "output_type": "stream",
     "text": [
      "Rate limit error: Rate limit reached for gpt-4 in organization org-Y2tKyCPFO6tIjtCtOVZ7c9tr on tokens per min. Limit: 10000 / min. Please try again in 6ms. Visit https://platform.openai.com/account/rate-limits to learn more.. Retrying Question No. 0 Attempt:(1)\n",
      "Rate limit error: Rate limit reached for gpt-4 in organization org-Y2tKyCPFO6tIjtCtOVZ7c9tr on tokens per min. Limit: 10000 / min. Please try again in 6ms. Visit https://platform.openai.com/account/rate-limits to learn more.. Retrying Question No. 0 Attempt:(2)\n",
      "Rate limit error: Rate limit reached for gpt-4 in organization org-Y2tKyCPFO6tIjtCtOVZ7c9tr on tokens per min. Limit: 10000 / min. Please try again in 6ms. Visit https://platform.openai.com/account/rate-limits to learn more.. Retrying Question No. 1 Attempt:(1)\n",
      "Rate limit error: Rate limit reached for gpt-4 in organization org-Y2tKyCPFO6tIjtCtOVZ7c9tr on tokens per min. Limit: 10000 / min. Please try again in 6ms. Visit https://platform.openai.com/account/rate-limits to learn more.. Retrying Question No. 2 Attempt:(1)\n",
      "Rate limit error: Rate limit reached for gpt-4 in organization org-Y2tKyCPFO6tIjtCtOVZ7c9tr on tokens per min. Limit: 10000 / min. Please try again in 6ms. Visit https://platform.openai.com/account/rate-limits to learn more.. Retrying Question No. 3 Attempt:(1)\n",
      "Rate limit error: Rate limit reached for gpt-4 in organization org-Y2tKyCPFO6tIjtCtOVZ7c9tr on tokens per min. Limit: 10000 / min. Please try again in 6ms. Visit https://platform.openai.com/account/rate-limits to learn more.. Retrying Question No. 4 Attempt:(1)\n",
      "Rate limit error: Rate limit reached for gpt-4 in organization org-Y2tKyCPFO6tIjtCtOVZ7c9tr on tokens per min. Limit: 10000 / min. Please try again in 6ms. Visit https://platform.openai.com/account/rate-limits to learn more.. Retrying Question No. 5 Attempt:(1)\n",
      "Rate limit error: Rate limit reached for gpt-4 in organization org-Y2tKyCPFO6tIjtCtOVZ7c9tr on tokens per min. Limit: 10000 / min. Please try again in 6ms. Visit https://platform.openai.com/account/rate-limits to learn more.. Retrying Question No. 6 Attempt:(1)\n",
      "Rate limit error: Rate limit reached for gpt-4 in organization org-Y2tKyCPFO6tIjtCtOVZ7c9tr on tokens per min. Limit: 10000 / min. Please try again in 6ms. Visit https://platform.openai.com/account/rate-limits to learn more.. Retrying Question No. 6 Attempt:(2)\n",
      "Rate limit error: Rate limit reached for gpt-4 in organization org-Y2tKyCPFO6tIjtCtOVZ7c9tr on tokens per min. Limit: 10000 / min. Please try again in 6ms. Visit https://platform.openai.com/account/rate-limits to learn more.. Retrying Question No. 7 Attempt:(1)\n",
      "Rate limit error: Rate limit reached for gpt-4 in organization org-Y2tKyCPFO6tIjtCtOVZ7c9tr on tokens per min. Limit: 10000 / min. Please try again in 6ms. Visit https://platform.openai.com/account/rate-limits to learn more.. Retrying Question No. 8 Attempt:(1)\n",
      "Rate limit error: Rate limit reached for gpt-4 in organization org-Y2tKyCPFO6tIjtCtOVZ7c9tr on tokens per min. Limit: 10000 / min. Please try again in 6ms. Visit https://platform.openai.com/account/rate-limits to learn more.. Retrying Question No. 2 Attempt:(1)\n",
      "Rate limit error: Rate limit reached for gpt-4 in organization org-Y2tKyCPFO6tIjtCtOVZ7c9tr on tokens per min. Limit: 10000 / min. Please try again in 6ms. Visit https://platform.openai.com/account/rate-limits to learn more.. Retrying Question No. 7 Attempt:(1)\n"
     ]
    },
    {
     "name": "stderr",
     "output_type": "stream",
     "text": [
      " 85%|████████▌ | 74/87 [8:37:43<1:18:08, 360.69s/it]"
     ]
    },
    {
     "name": "stdout",
     "output_type": "stream",
     "text": [
      "Rate limit error: Rate limit reached for gpt-4 in organization org-Y2tKyCPFO6tIjtCtOVZ7c9tr on tokens per min. Limit: 10000 / min. Please try again in 6ms. Visit https://platform.openai.com/account/rate-limits to learn more.. Retrying Question No. 0 Attempt:(1)\n",
      "Rate limit error: Rate limit reached for gpt-4 in organization org-Y2tKyCPFO6tIjtCtOVZ7c9tr on tokens per min. Limit: 10000 / min. Please try again in 6ms. Visit https://platform.openai.com/account/rate-limits to learn more.. Retrying Question No. 1 Attempt:(1)\n",
      "Rate limit error: Rate limit reached for gpt-4 in organization org-Y2tKyCPFO6tIjtCtOVZ7c9tr on tokens per min. Limit: 10000 / min. Please try again in 6ms. Visit https://platform.openai.com/account/rate-limits to learn more.. Retrying Question No. 2 Attempt:(1)\n",
      "Rate limit error: Rate limit reached for gpt-4 in organization org-Y2tKyCPFO6tIjtCtOVZ7c9tr on tokens per min. Limit: 10000 / min. Please try again in 6ms. Visit https://platform.openai.com/account/rate-limits to learn more.. Retrying Question No. 3 Attempt:(1)\n",
      "Rate limit error: Rate limit reached for gpt-4 in organization org-Y2tKyCPFO6tIjtCtOVZ7c9tr on tokens per min. Limit: 10000 / min. Please try again in 6ms. Visit https://platform.openai.com/account/rate-limits to learn more.. Retrying Question No. 4 Attempt:(1)\n",
      "Rate limit error: Rate limit reached for gpt-4 in organization org-Y2tKyCPFO6tIjtCtOVZ7c9tr on tokens per min. Limit: 10000 / min. Please try again in 6ms. Visit https://platform.openai.com/account/rate-limits to learn more.. Retrying Question No. 5 Attempt:(1)\n",
      "Rate limit error: Rate limit reached for gpt-4 in organization org-Y2tKyCPFO6tIjtCtOVZ7c9tr on tokens per min. Limit: 10000 / min. Please try again in 6ms. Visit https://platform.openai.com/account/rate-limits to learn more.. Retrying Question No. 5 Attempt:(2)\n",
      "Rate limit error: Rate limit reached for gpt-4 in organization org-Y2tKyCPFO6tIjtCtOVZ7c9tr on tokens per min. Limit: 10000 / min. Please try again in 6ms. Visit https://platform.openai.com/account/rate-limits to learn more.. Retrying Question No. 6 Attempt:(1)\n",
      "Rate limit error: Rate limit reached for gpt-4 in organization org-Y2tKyCPFO6tIjtCtOVZ7c9tr on tokens per min. Limit: 10000 / min. Please try again in 6ms. Visit https://platform.openai.com/account/rate-limits to learn more.. Retrying Question No. 7 Attempt:(1)\n",
      "Rate limit error: Rate limit reached for gpt-4 in organization org-Y2tKyCPFO6tIjtCtOVZ7c9tr on tokens per min. Limit: 10000 / min. Please try again in 6ms. Visit https://platform.openai.com/account/rate-limits to learn more.. Retrying Question No. 8 Attempt:(1)\n",
      "Rate limit error: Rate limit reached for gpt-4 in organization org-Y2tKyCPFO6tIjtCtOVZ7c9tr on tokens per min. Limit: 10000 / min. Please try again in 6ms. Visit https://platform.openai.com/account/rate-limits to learn more.. Retrying Question No. 0 Attempt:(1)\n",
      "Rate limit error: Rate limit reached for gpt-4 in organization org-Y2tKyCPFO6tIjtCtOVZ7c9tr on tokens per min. Limit: 10000 / min. Please try again in 6ms. Visit https://platform.openai.com/account/rate-limits to learn more.. Retrying Question No. 3 Attempt:(1)\n",
      "Rate limit error: Rate limit reached for gpt-4 in organization org-Y2tKyCPFO6tIjtCtOVZ7c9tr on tokens per min. Limit: 10000 / min. Please try again in 6ms. Visit https://platform.openai.com/account/rate-limits to learn more.. Retrying Question No. 6 Attempt:(1)\n",
      "Rate limit error: Rate limit reached for gpt-4 in organization org-Y2tKyCPFO6tIjtCtOVZ7c9tr on tokens per min. Limit: 10000 / min. Please try again in 6ms. Visit https://platform.openai.com/account/rate-limits to learn more.. Retrying Question No. 8 Attempt:(1)\n"
     ]
    },
    {
     "name": "stderr",
     "output_type": "stream",
     "text": [
      " 86%|████████▌ | 75/87 [8:45:14<1:17:34, 387.87s/it]"
     ]
    },
    {
     "name": "stdout",
     "output_type": "stream",
     "text": [
      "Rate limit error: Rate limit reached for gpt-4 in organization org-Y2tKyCPFO6tIjtCtOVZ7c9tr on tokens per min. Limit: 10000 / min. Please try again in 6ms. Visit https://platform.openai.com/account/rate-limits to learn more.. Retrying Question No. 0 Attempt:(1)\n",
      "Rate limit error: Rate limit reached for gpt-4 in organization org-Y2tKyCPFO6tIjtCtOVZ7c9tr on tokens per min. Limit: 10000 / min. Please try again in 6ms. Visit https://platform.openai.com/account/rate-limits to learn more.. Retrying Question No. 1 Attempt:(1)\n",
      "Rate limit error: Rate limit reached for gpt-4 in organization org-Y2tKyCPFO6tIjtCtOVZ7c9tr on tokens per min. Limit: 10000 / min. Please try again in 6ms. Visit https://platform.openai.com/account/rate-limits to learn more.. Retrying Question No. 2 Attempt:(1)\n",
      "Rate limit error: Rate limit reached for gpt-4 in organization org-Y2tKyCPFO6tIjtCtOVZ7c9tr on tokens per min. Limit: 10000 / min. Please try again in 6ms. Visit https://platform.openai.com/account/rate-limits to learn more.. Retrying Question No. 3 Attempt:(1)\n",
      "Rate limit error: Rate limit reached for gpt-4 in organization org-Y2tKyCPFO6tIjtCtOVZ7c9tr on tokens per min. Limit: 10000 / min. Please try again in 6ms. Visit https://platform.openai.com/account/rate-limits to learn more.. Retrying Question No. 4 Attempt:(1)\n",
      "Rate limit error: Rate limit reached for gpt-4 in organization org-Y2tKyCPFO6tIjtCtOVZ7c9tr on tokens per min. Limit: 10000 / min. Please try again in 6ms. Visit https://platform.openai.com/account/rate-limits to learn more.. Retrying Question No. 5 Attempt:(1)\n",
      "Rate limit error: Rate limit reached for gpt-4 in organization org-Y2tKyCPFO6tIjtCtOVZ7c9tr on tokens per min. Limit: 10000 / min. Please try again in 6ms. Visit https://platform.openai.com/account/rate-limits to learn more.. Retrying Question No. 6 Attempt:(1)\n",
      "Rate limit error: Rate limit reached for gpt-4 in organization org-Y2tKyCPFO6tIjtCtOVZ7c9tr on tokens per min. Limit: 10000 / min. Please try again in 6ms. Visit https://platform.openai.com/account/rate-limits to learn more.. Retrying Question No. 7 Attempt:(1)\n",
      "Rate limit error: Rate limit reached for gpt-4 in organization org-Y2tKyCPFO6tIjtCtOVZ7c9tr on tokens per min. Limit: 10000 / min. Please try again in 6ms. Visit https://platform.openai.com/account/rate-limits to learn more.. Retrying Question No. 8 Attempt:(1)\n"
     ]
    },
    {
     "name": "stderr",
     "output_type": "stream",
     "text": [
      " 87%|████████▋ | 76/87 [8:50:04<1:05:42, 358.45s/it]"
     ]
    },
    {
     "name": "stdout",
     "output_type": "stream",
     "text": [
      "Rate limit error: Rate limit reached for gpt-4 in organization org-Y2tKyCPFO6tIjtCtOVZ7c9tr on tokens per min. Limit: 10000 / min. Please try again in 6ms. Visit https://platform.openai.com/account/rate-limits to learn more.. Retrying Question No. 0 Attempt:(1)\n",
      "Rate limit error: Rate limit reached for gpt-4 in organization org-Y2tKyCPFO6tIjtCtOVZ7c9tr on tokens per min. Limit: 10000 / min. Please try again in 6ms. Visit https://platform.openai.com/account/rate-limits to learn more.. Retrying Question No. 1 Attempt:(1)\n",
      "Rate limit error: Rate limit reached for gpt-4 in organization org-Y2tKyCPFO6tIjtCtOVZ7c9tr on tokens per min. Limit: 10000 / min. Please try again in 6ms. Visit https://platform.openai.com/account/rate-limits to learn more.. Retrying Question No. 3 Attempt:(1)\n",
      "Rate limit error: Rate limit reached for gpt-4 in organization org-Y2tKyCPFO6tIjtCtOVZ7c9tr on tokens per min. Limit: 10000 / min. Please try again in 6ms. Visit https://platform.openai.com/account/rate-limits to learn more.. Retrying Question No. 4 Attempt:(1)\n",
      "Rate limit error: Rate limit reached for gpt-4 in organization org-Y2tKyCPFO6tIjtCtOVZ7c9tr on tokens per min. Limit: 10000 / min. Please try again in 6ms. Visit https://platform.openai.com/account/rate-limits to learn more.. Retrying Question No. 5 Attempt:(1)\n",
      "Rate limit error: Rate limit reached for gpt-4 in organization org-Y2tKyCPFO6tIjtCtOVZ7c9tr on tokens per min. Limit: 10000 / min. Please try again in 6ms. Visit https://platform.openai.com/account/rate-limits to learn more.. Retrying Question No. 6 Attempt:(1)\n",
      "Rate limit error: Rate limit reached for gpt-4 in organization org-Y2tKyCPFO6tIjtCtOVZ7c9tr on tokens per min. Limit: 10000 / min. Please try again in 6ms. Visit https://platform.openai.com/account/rate-limits to learn more.. Retrying Question No. 7 Attempt:(1)\n",
      "Rate limit error: Rate limit reached for gpt-4 in organization org-Y2tKyCPFO6tIjtCtOVZ7c9tr on tokens per min. Limit: 10000 / min. Please try again in 6ms. Visit https://platform.openai.com/account/rate-limits to learn more.. Retrying Question No. 8 Attempt:(1)\n"
     ]
    },
    {
     "name": "stderr",
     "output_type": "stream",
     "text": [
      " 89%|████████▊ | 77/87 [8:54:22<54:41, 328.12s/it]  "
     ]
    },
    {
     "name": "stdout",
     "output_type": "stream",
     "text": [
      "Rate limit error: Rate limit reached for gpt-4 in organization org-Y2tKyCPFO6tIjtCtOVZ7c9tr on tokens per min. Limit: 10000 / min. Please try again in 6ms. Visit https://platform.openai.com/account/rate-limits to learn more.. Retrying Question No. 0 Attempt:(1)\n",
      "Rate limit error: Rate limit reached for gpt-4 in organization org-Y2tKyCPFO6tIjtCtOVZ7c9tr on tokens per min. Limit: 10000 / min. Please try again in 6ms. Visit https://platform.openai.com/account/rate-limits to learn more.. Retrying Question No. 2 Attempt:(1)\n",
      "Rate limit error: Rate limit reached for gpt-4 in organization org-Y2tKyCPFO6tIjtCtOVZ7c9tr on tokens per min. Limit: 10000 / min. Please try again in 6ms. Visit https://platform.openai.com/account/rate-limits to learn more.. Retrying Question No. 4 Attempt:(1)\n",
      "Rate limit error: Rate limit reached for gpt-4 in organization org-Y2tKyCPFO6tIjtCtOVZ7c9tr on tokens per min. Limit: 10000 / min. Please try again in 6ms. Visit https://platform.openai.com/account/rate-limits to learn more.. Retrying Question No. 5 Attempt:(1)\n",
      "Rate limit error: Rate limit reached for gpt-4 in organization org-Y2tKyCPFO6tIjtCtOVZ7c9tr on tokens per min. Limit: 10000 / min. Please try again in 6ms. Visit https://platform.openai.com/account/rate-limits to learn more.. Retrying Question No. 7 Attempt:(1)\n",
      "Rate limit error: Rate limit reached for gpt-4 in organization org-Y2tKyCPFO6tIjtCtOVZ7c9tr on tokens per min. Limit: 10000 / min. Please try again in 6ms. Visit https://platform.openai.com/account/rate-limits to learn more.. Retrying Question No. 8 Attempt:(1)\n"
     ]
    },
    {
     "name": "stderr",
     "output_type": "stream",
     "text": [
      " 90%|████████▉ | 78/87 [8:57:38<43:16, 288.54s/it]"
     ]
    },
    {
     "name": "stdout",
     "output_type": "stream",
     "text": [
      "Rate limit error: Rate limit reached for gpt-4 in organization org-Y2tKyCPFO6tIjtCtOVZ7c9tr on tokens per min. Limit: 10000 / min. Please try again in 6ms. Visit https://platform.openai.com/account/rate-limits to learn more.. Retrying Question No. 1 Attempt:(1)\n",
      "Rate limit error: Rate limit reached for gpt-4 in organization org-Y2tKyCPFO6tIjtCtOVZ7c9tr on tokens per min. Limit: 10000 / min. Please try again in 6ms. Visit https://platform.openai.com/account/rate-limits to learn more.. Retrying Question No. 2 Attempt:(1)\n",
      "Rate limit error: Rate limit reached for gpt-4 in organization org-Y2tKyCPFO6tIjtCtOVZ7c9tr on tokens per min. Limit: 10000 / min. Please try again in 6ms. Visit https://platform.openai.com/account/rate-limits to learn more.. Retrying Question No. 4 Attempt:(1)\n",
      "Rate limit error: Rate limit reached for gpt-4 in organization org-Y2tKyCPFO6tIjtCtOVZ7c9tr on tokens per min. Limit: 10000 / min. Please try again in 6ms. Visit https://platform.openai.com/account/rate-limits to learn more.. Retrying Question No. 5 Attempt:(1)\n",
      "Rate limit error: Rate limit reached for gpt-4 in organization org-Y2tKyCPFO6tIjtCtOVZ7c9tr on tokens per min. Limit: 10000 / min. Please try again in 6ms. Visit https://platform.openai.com/account/rate-limits to learn more.. Retrying Question No. 7 Attempt:(1)\n",
      "Rate limit error: Rate limit reached for gpt-4 in organization org-Y2tKyCPFO6tIjtCtOVZ7c9tr on tokens per min. Limit: 10000 / min. Please try again in 6ms. Visit https://platform.openai.com/account/rate-limits to learn more.. Retrying Question No. 8 Attempt:(1)\n"
     ]
    },
    {
     "name": "stderr",
     "output_type": "stream",
     "text": [
      " 91%|█████████ | 79/87 [9:00:52<34:41, 260.15s/it]"
     ]
    },
    {
     "name": "stdout",
     "output_type": "stream",
     "text": [
      "Rate limit error: Rate limit reached for gpt-4 in organization org-Y2tKyCPFO6tIjtCtOVZ7c9tr on tokens per min. Limit: 10000 / min. Please try again in 6ms. Visit https://platform.openai.com/account/rate-limits to learn more.. Retrying Question No. 0 Attempt:(1)\n",
      "Rate limit error: Rate limit reached for gpt-4 in organization org-Y2tKyCPFO6tIjtCtOVZ7c9tr on tokens per min. Limit: 10000 / min. Please try again in 6ms. Visit https://platform.openai.com/account/rate-limits to learn more.. Retrying Question No. 1 Attempt:(1)\n",
      "Rate limit error: Rate limit reached for gpt-4 in organization org-Y2tKyCPFO6tIjtCtOVZ7c9tr on tokens per min. Limit: 10000 / min. Please try again in 6ms. Visit https://platform.openai.com/account/rate-limits to learn more.. Retrying Question No. 3 Attempt:(1)\n",
      "Rate limit error: Rate limit reached for gpt-4 in organization org-Y2tKyCPFO6tIjtCtOVZ7c9tr on tokens per min. Limit: 10000 / min. Please try again in 6ms. Visit https://platform.openai.com/account/rate-limits to learn more.. Retrying Question No. 4 Attempt:(1)\n",
      "Rate limit error: Rate limit reached for gpt-4 in organization org-Y2tKyCPFO6tIjtCtOVZ7c9tr on tokens per min. Limit: 10000 / min. Please try again in 6ms. Visit https://platform.openai.com/account/rate-limits to learn more.. Retrying Question No. 5 Attempt:(1)\n",
      "Rate limit error: Rate limit reached for gpt-4 in organization org-Y2tKyCPFO6tIjtCtOVZ7c9tr on tokens per min. Limit: 10000 / min. Please try again in 6ms. Visit https://platform.openai.com/account/rate-limits to learn more.. Retrying Question No. 6 Attempt:(1)\n",
      "Rate limit error: Rate limit reached for gpt-4 in organization org-Y2tKyCPFO6tIjtCtOVZ7c9tr on tokens per min. Limit: 10000 / min. Please try again in 6ms. Visit https://platform.openai.com/account/rate-limits to learn more.. Retrying Question No. 7 Attempt:(1)\n",
      "Rate limit error: Rate limit reached for gpt-4 in organization org-Y2tKyCPFO6tIjtCtOVZ7c9tr on tokens per min. Limit: 10000 / min. Please try again in 6ms. Visit https://platform.openai.com/account/rate-limits to learn more.. Retrying Question No. 8 Attempt:(1)\n"
     ]
    },
    {
     "name": "stderr",
     "output_type": "stream",
     "text": [
      " 92%|█████████▏| 80/87 [9:05:07<30:11, 258.77s/it]"
     ]
    },
    {
     "name": "stdout",
     "output_type": "stream",
     "text": [
      "Rate limit error: Rate limit reached for gpt-4 in organization org-Y2tKyCPFO6tIjtCtOVZ7c9tr on tokens per min. Limit: 10000 / min. Please try again in 6ms. Visit https://platform.openai.com/account/rate-limits to learn more.. Retrying Question No. 0 Attempt:(1)\n",
      "Rate limit error: Rate limit reached for gpt-4 in organization org-Y2tKyCPFO6tIjtCtOVZ7c9tr on tokens per min. Limit: 10000 / min. Please try again in 6ms. Visit https://platform.openai.com/account/rate-limits to learn more.. Retrying Question No. 1 Attempt:(1)\n",
      "Rate limit error: Rate limit reached for gpt-4 in organization org-Y2tKyCPFO6tIjtCtOVZ7c9tr on tokens per min. Limit: 10000 / min. Please try again in 6ms. Visit https://platform.openai.com/account/rate-limits to learn more.. Retrying Question No. 2 Attempt:(1)\n",
      "Rate limit error: Rate limit reached for gpt-4 in organization org-Y2tKyCPFO6tIjtCtOVZ7c9tr on tokens per min. Limit: 10000 / min. Please try again in 6ms. Visit https://platform.openai.com/account/rate-limits to learn more.. Retrying Question No. 3 Attempt:(1)\n",
      "Rate limit error: Rate limit reached for gpt-4 in organization org-Y2tKyCPFO6tIjtCtOVZ7c9tr on tokens per min. Limit: 10000 / min. Please try again in 6ms. Visit https://platform.openai.com/account/rate-limits to learn more.. Retrying Question No. 4 Attempt:(1)\n",
      "Rate limit error: Rate limit reached for gpt-4 in organization org-Y2tKyCPFO6tIjtCtOVZ7c9tr on tokens per min. Limit: 10000 / min. Please try again in 6ms. Visit https://platform.openai.com/account/rate-limits to learn more.. Retrying Question No. 5 Attempt:(1)\n",
      "Rate limit error: Rate limit reached for gpt-4 in organization org-Y2tKyCPFO6tIjtCtOVZ7c9tr on tokens per min. Limit: 10000 / min. Please try again in 6ms. Visit https://platform.openai.com/account/rate-limits to learn more.. Retrying Question No. 6 Attempt:(1)\n",
      "Rate limit error: Rate limit reached for gpt-4 in organization org-Y2tKyCPFO6tIjtCtOVZ7c9tr on tokens per min. Limit: 10000 / min. Please try again in 6ms. Visit https://platform.openai.com/account/rate-limits to learn more.. Retrying Question No. 7 Attempt:(1)\n",
      "Rate limit error: Rate limit reached for gpt-4 in organization org-Y2tKyCPFO6tIjtCtOVZ7c9tr on tokens per min. Limit: 10000 / min. Please try again in 6ms. Visit https://platform.openai.com/account/rate-limits to learn more.. Retrying Question No. 8 Attempt:(1)\n",
      "Rate limit error: Rate limit reached for gpt-4 in organization org-Y2tKyCPFO6tIjtCtOVZ7c9tr on tokens per min. Limit: 10000 / min. Please try again in 6ms. Visit https://platform.openai.com/account/rate-limits to learn more.. Retrying Question No. 0 Attempt:(1)\n",
      "Rate limit error: Rate limit reached for gpt-4 in organization org-Y2tKyCPFO6tIjtCtOVZ7c9tr on tokens per min. Limit: 10000 / min. Please try again in 6ms. Visit https://platform.openai.com/account/rate-limits to learn more.. Retrying Question No. 3 Attempt:(1)\n",
      "Rate limit error: Rate limit reached for gpt-4 in organization org-Y2tKyCPFO6tIjtCtOVZ7c9tr on tokens per min. Limit: 10000 / min. Please try again in 6ms. Visit https://platform.openai.com/account/rate-limits to learn more.. Retrying Question No. 6 Attempt:(1)\n",
      "Rate limit error: Rate limit reached for gpt-4 in organization org-Y2tKyCPFO6tIjtCtOVZ7c9tr on tokens per min. Limit: 10000 / min. Please try again in 6ms. Visit https://platform.openai.com/account/rate-limits to learn more.. Retrying Question No. 8 Attempt:(1)\n"
     ]
    },
    {
     "name": "stderr",
     "output_type": "stream",
     "text": [
      " 93%|█████████▎| 81/87 [9:12:06<30:40, 306.82s/it]"
     ]
    },
    {
     "name": "stdout",
     "output_type": "stream",
     "text": [
      "Rate limit error: Rate limit reached for gpt-4 in organization org-Y2tKyCPFO6tIjtCtOVZ7c9tr on tokens per min. Limit: 10000 / min. Please try again in 6ms. Visit https://platform.openai.com/account/rate-limits to learn more.. Retrying Question No. 0 Attempt:(1)\n",
      "Rate limit error: Rate limit reached for gpt-4 in organization org-Y2tKyCPFO6tIjtCtOVZ7c9tr on tokens per min. Limit: 10000 / min. Please try again in 6ms. Visit https://platform.openai.com/account/rate-limits to learn more.. Retrying Question No. 1 Attempt:(1)\n",
      "Rate limit error: Rate limit reached for gpt-4 in organization org-Y2tKyCPFO6tIjtCtOVZ7c9tr on tokens per min. Limit: 10000 / min. Please try again in 6ms. Visit https://platform.openai.com/account/rate-limits to learn more.. Retrying Question No. 2 Attempt:(1)\n",
      "Rate limit error: Rate limit reached for gpt-4 in organization org-Y2tKyCPFO6tIjtCtOVZ7c9tr on tokens per min. Limit: 10000 / min. Please try again in 6ms. Visit https://platform.openai.com/account/rate-limits to learn more.. Retrying Question No. 3 Attempt:(1)\n",
      "Rate limit error: Rate limit reached for gpt-4 in organization org-Y2tKyCPFO6tIjtCtOVZ7c9tr on tokens per min. Limit: 10000 / min. Please try again in 6ms. Visit https://platform.openai.com/account/rate-limits to learn more.. Retrying Question No. 4 Attempt:(1)\n",
      "Rate limit error: Rate limit reached for gpt-4 in organization org-Y2tKyCPFO6tIjtCtOVZ7c9tr on tokens per min. Limit: 10000 / min. Please try again in 6ms. Visit https://platform.openai.com/account/rate-limits to learn more.. Retrying Question No. 5 Attempt:(1)\n",
      "Rate limit error: Rate limit reached for gpt-4 in organization org-Y2tKyCPFO6tIjtCtOVZ7c9tr on tokens per min. Limit: 10000 / min. Please try again in 6ms. Visit https://platform.openai.com/account/rate-limits to learn more.. Retrying Question No. 6 Attempt:(1)\n",
      "Rate limit error: Rate limit reached for gpt-4 in organization org-Y2tKyCPFO6tIjtCtOVZ7c9tr on tokens per min. Limit: 10000 / min. Please try again in 6ms. Visit https://platform.openai.com/account/rate-limits to learn more.. Retrying Question No. 7 Attempt:(1)\n",
      "Rate limit error: Rate limit reached for gpt-4 in organization org-Y2tKyCPFO6tIjtCtOVZ7c9tr on tokens per min. Limit: 10000 / min. Please try again in 6ms. Visit https://platform.openai.com/account/rate-limits to learn more.. Retrying Question No. 8 Attempt:(1)\n",
      "Rate limit error: Rate limit reached for gpt-4 in organization org-Y2tKyCPFO6tIjtCtOVZ7c9tr on tokens per min. Limit: 10000 / min. Please try again in 6ms. Visit https://platform.openai.com/account/rate-limits to learn more.. Retrying Question No. 0 Attempt:(1)\n",
      "Rate limit error: Rate limit reached for gpt-4 in organization org-Y2tKyCPFO6tIjtCtOVZ7c9tr on tokens per min. Limit: 10000 / min. Please try again in 6ms. Visit https://platform.openai.com/account/rate-limits to learn more.. Retrying Question No. 1 Attempt:(1)\n",
      "Rate limit error: Rate limit reached for gpt-4 in organization org-Y2tKyCPFO6tIjtCtOVZ7c9tr on tokens per min. Limit: 10000 / min. Please try again in 6ms. Visit https://platform.openai.com/account/rate-limits to learn more.. Retrying Question No. 2 Attempt:(1)\n",
      "Rate limit error: Rate limit reached for gpt-4 in organization org-Y2tKyCPFO6tIjtCtOVZ7c9tr on tokens per min. Limit: 10000 / min. Please try again in 6ms. Visit https://platform.openai.com/account/rate-limits to learn more.. Retrying Question No. 3 Attempt:(1)\n",
      "Rate limit error: Rate limit reached for gpt-4 in organization org-Y2tKyCPFO6tIjtCtOVZ7c9tr on tokens per min. Limit: 10000 / min. Please try again in 6ms. Visit https://platform.openai.com/account/rate-limits to learn more.. Retrying Question No. 4 Attempt:(1)\n",
      "Rate limit error: Rate limit reached for gpt-4 in organization org-Y2tKyCPFO6tIjtCtOVZ7c9tr on tokens per min. Limit: 10000 / min. Please try again in 6ms. Visit https://platform.openai.com/account/rate-limits to learn more.. Retrying Question No. 5 Attempt:(1)\n",
      "An error occurred: Request timed out: HTTPSConnectionPool(host='api.openai.com', port=443): Read timed out. (read timeout=600). Retrying Question No. 5 Attempt:(2)\n",
      "Rate limit error: Rate limit reached for gpt-4 in organization org-Y2tKyCPFO6tIjtCtOVZ7c9tr on tokens per min. Limit: 10000 / min. Please try again in 6ms. Visit https://platform.openai.com/account/rate-limits to learn more.. Retrying Question No. 6 Attempt:(1)\n",
      "Rate limit error: Rate limit reached for gpt-4 in organization org-Y2tKyCPFO6tIjtCtOVZ7c9tr on tokens per min. Limit: 10000 / min. Please try again in 6ms. Visit https://platform.openai.com/account/rate-limits to learn more.. Retrying Question No. 7 Attempt:(1)\n",
      "Rate limit error: Rate limit reached for gpt-4 in organization org-Y2tKyCPFO6tIjtCtOVZ7c9tr on tokens per min. Limit: 10000 / min. Please try again in 6ms. Visit https://platform.openai.com/account/rate-limits to learn more.. Retrying Question No. 8 Attempt:(1)\n",
      "Rate limit error: Rate limit reached for gpt-4 in organization org-Y2tKyCPFO6tIjtCtOVZ7c9tr on tokens per min. Limit: 10000 / min. Please try again in 6ms. Visit https://platform.openai.com/account/rate-limits to learn more.. Retrying Question No. 1 Attempt:(1)\n",
      "Rate limit error: Rate limit reached for gpt-4 in organization org-Y2tKyCPFO6tIjtCtOVZ7c9tr on tokens per min. Limit: 10000 / min. Please try again in 6ms. Visit https://platform.openai.com/account/rate-limits to learn more.. Retrying Question No. 4 Attempt:(1)\n",
      "Rate limit error: Rate limit reached for gpt-4 in organization org-Y2tKyCPFO6tIjtCtOVZ7c9tr on tokens per min. Limit: 10000 / min. Please try again in 6ms. Visit https://platform.openai.com/account/rate-limits to learn more.. Retrying Question No. 6 Attempt:(1)\n",
      "Rate limit error: Rate limit reached for gpt-4 in organization org-Y2tKyCPFO6tIjtCtOVZ7c9tr on tokens per min. Limit: 10000 / min. Please try again in 6ms. Visit https://platform.openai.com/account/rate-limits to learn more.. Retrying Question No. 8 Attempt:(1)\n"
     ]
    },
    {
     "name": "stderr",
     "output_type": "stream",
     "text": [
      " 94%|█████████▍| 82/87 [9:33:55<50:36, 607.39s/it]"
     ]
    },
    {
     "name": "stdout",
     "output_type": "stream",
     "text": [
      "Rate limit error: Rate limit reached for gpt-4 in organization org-Y2tKyCPFO6tIjtCtOVZ7c9tr on tokens per min. Limit: 10000 / min. Please try again in 6ms. Visit https://platform.openai.com/account/rate-limits to learn more.. Retrying Question No. 0 Attempt:(1)\n",
      "Rate limit error: Rate limit reached for gpt-4 in organization org-Y2tKyCPFO6tIjtCtOVZ7c9tr on tokens per min. Limit: 10000 / min. Please try again in 6ms. Visit https://platform.openai.com/account/rate-limits to learn more.. Retrying Question No. 1 Attempt:(1)\n",
      "Rate limit error: Rate limit reached for gpt-4 in organization org-Y2tKyCPFO6tIjtCtOVZ7c9tr on tokens per min. Limit: 10000 / min. Please try again in 6ms. Visit https://platform.openai.com/account/rate-limits to learn more.. Retrying Question No. 2 Attempt:(1)\n",
      "Rate limit error: Rate limit reached for gpt-4 in organization org-Y2tKyCPFO6tIjtCtOVZ7c9tr on tokens per min. Limit: 10000 / min. Please try again in 6ms. Visit https://platform.openai.com/account/rate-limits to learn more.. Retrying Question No. 3 Attempt:(1)\n",
      "Rate limit error: Rate limit reached for gpt-4 in organization org-Y2tKyCPFO6tIjtCtOVZ7c9tr on tokens per min. Limit: 10000 / min. Please try again in 6ms. Visit https://platform.openai.com/account/rate-limits to learn more.. Retrying Question No. 4 Attempt:(1)\n",
      "Rate limit error: Rate limit reached for gpt-4 in organization org-Y2tKyCPFO6tIjtCtOVZ7c9tr on tokens per min. Limit: 10000 / min. Please try again in 6ms. Visit https://platform.openai.com/account/rate-limits to learn more.. Retrying Question No. 5 Attempt:(1)\n",
      "Rate limit error: Rate limit reached for gpt-4 in organization org-Y2tKyCPFO6tIjtCtOVZ7c9tr on tokens per min. Limit: 10000 / min. Please try again in 6ms. Visit https://platform.openai.com/account/rate-limits to learn more.. Retrying Question No. 6 Attempt:(1)\n",
      "Rate limit error: Rate limit reached for gpt-4 in organization org-Y2tKyCPFO6tIjtCtOVZ7c9tr on tokens per min. Limit: 10000 / min. Please try again in 6ms. Visit https://platform.openai.com/account/rate-limits to learn more.. Retrying Question No. 7 Attempt:(1)\n",
      "Rate limit error: Rate limit reached for gpt-4 in organization org-Y2tKyCPFO6tIjtCtOVZ7c9tr on tokens per min. Limit: 10000 / min. Please try again in 6ms. Visit https://platform.openai.com/account/rate-limits to learn more.. Retrying Question No. 8 Attempt:(1)\n",
      "Rate limit error: Rate limit reached for gpt-4 in organization org-Y2tKyCPFO6tIjtCtOVZ7c9tr on tokens per min. Limit: 10000 / min. Please try again in 6ms. Visit https://platform.openai.com/account/rate-limits to learn more.. Retrying Question No. 0 Attempt:(1)\n",
      "Rate limit error: Rate limit reached for gpt-4 in organization org-Y2tKyCPFO6tIjtCtOVZ7c9tr on tokens per min. Limit: 10000 / min. Please try again in 6ms. Visit https://platform.openai.com/account/rate-limits to learn more.. Retrying Question No. 1 Attempt:(1)\n",
      "Rate limit error: Rate limit reached for gpt-4 in organization org-Y2tKyCPFO6tIjtCtOVZ7c9tr on tokens per min. Limit: 10000 / min. Please try again in 6ms. Visit https://platform.openai.com/account/rate-limits to learn more.. Retrying Question No. 2 Attempt:(1)\n",
      "Rate limit error: Rate limit reached for gpt-4 in organization org-Y2tKyCPFO6tIjtCtOVZ7c9tr on tokens per min. Limit: 10000 / min. Please try again in 6ms. Visit https://platform.openai.com/account/rate-limits to learn more.. Retrying Question No. 3 Attempt:(1)\n",
      "Rate limit error: Rate limit reached for gpt-4 in organization org-Y2tKyCPFO6tIjtCtOVZ7c9tr on tokens per min. Limit: 10000 / min. Please try again in 6ms. Visit https://platform.openai.com/account/rate-limits to learn more.. Retrying Question No. 4 Attempt:(1)\n",
      "Rate limit error: Rate limit reached for gpt-4 in organization org-Y2tKyCPFO6tIjtCtOVZ7c9tr on tokens per min. Limit: 10000 / min. Please try again in 6ms. Visit https://platform.openai.com/account/rate-limits to learn more.. Retrying Question No. 5 Attempt:(1)\n",
      "Rate limit error: Rate limit reached for gpt-4 in organization org-Y2tKyCPFO6tIjtCtOVZ7c9tr on tokens per min. Limit: 10000 / min. Please try again in 6ms. Visit https://platform.openai.com/account/rate-limits to learn more.. Retrying Question No. 6 Attempt:(1)\n",
      "Rate limit error: Rate limit reached for gpt-4 in organization org-Y2tKyCPFO6tIjtCtOVZ7c9tr on tokens per min. Limit: 10000 / min. Please try again in 6ms. Visit https://platform.openai.com/account/rate-limits to learn more.. Retrying Question No. 7 Attempt:(1)\n",
      "Rate limit error: Rate limit reached for gpt-4 in organization org-Y2tKyCPFO6tIjtCtOVZ7c9tr on tokens per min. Limit: 10000 / min. Please try again in 6ms. Visit https://platform.openai.com/account/rate-limits to learn more.. Retrying Question No. 8 Attempt:(1)\n",
      "Rate limit error: Rate limit reached for gpt-4 in organization org-Y2tKyCPFO6tIjtCtOVZ7c9tr on tokens per min. Limit: 10000 / min. Please try again in 6ms. Visit https://platform.openai.com/account/rate-limits to learn more.. Retrying Question No. 0 Attempt:(1)\n",
      "Rate limit error: Rate limit reached for gpt-4 in organization org-Y2tKyCPFO6tIjtCtOVZ7c9tr on tokens per min. Limit: 10000 / min. Please try again in 6ms. Visit https://platform.openai.com/account/rate-limits to learn more.. Retrying Question No. 2 Attempt:(1)\n",
      "Rate limit error: Rate limit reached for gpt-4 in organization org-Y2tKyCPFO6tIjtCtOVZ7c9tr on tokens per min. Limit: 10000 / min. Please try again in 6ms. Visit https://platform.openai.com/account/rate-limits to learn more.. Retrying Question No. 3 Attempt:(1)\n",
      "Rate limit error: Rate limit reached for gpt-4 in organization org-Y2tKyCPFO6tIjtCtOVZ7c9tr on tokens per min. Limit: 10000 / min. Please try again in 6ms. Visit https://platform.openai.com/account/rate-limits to learn more.. Retrying Question No. 5 Attempt:(1)\n",
      "Rate limit error: Rate limit reached for gpt-4 in organization org-Y2tKyCPFO6tIjtCtOVZ7c9tr on tokens per min. Limit: 10000 / min. Please try again in 6ms. Visit https://platform.openai.com/account/rate-limits to learn more.. Retrying Question No. 6 Attempt:(1)\n",
      "Rate limit error: Rate limit reached for gpt-4 in organization org-Y2tKyCPFO6tIjtCtOVZ7c9tr on tokens per min. Limit: 10000 / min. Please try again in 6ms. Visit https://platform.openai.com/account/rate-limits to learn more.. Retrying Question No. 8 Attempt:(1)\n"
     ]
    },
    {
     "name": "stderr",
     "output_type": "stream",
     "text": [
      " 95%|█████████▌| 83/87 [9:46:45<43:45, 656.33s/it]"
     ]
    },
    {
     "name": "stdout",
     "output_type": "stream",
     "text": [
      "Rate limit error: Rate limit reached for gpt-4 in organization org-Y2tKyCPFO6tIjtCtOVZ7c9tr on tokens per min. Limit: 10000 / min. Please try again in 6ms. Visit https://platform.openai.com/account/rate-limits to learn more.. Retrying Question No. 0 Attempt:(1)\n",
      "Rate limit error: Rate limit reached for gpt-4 in organization org-Y2tKyCPFO6tIjtCtOVZ7c9tr on tokens per min. Limit: 10000 / min. Please try again in 6ms. Visit https://platform.openai.com/account/rate-limits to learn more.. Retrying Question No. 1 Attempt:(1)\n",
      "Rate limit error: Rate limit reached for gpt-4 in organization org-Y2tKyCPFO6tIjtCtOVZ7c9tr on tokens per min. Limit: 10000 / min. Please try again in 6ms. Visit https://platform.openai.com/account/rate-limits to learn more.. Retrying Question No. 2 Attempt:(1)\n",
      "Rate limit error: Rate limit reached for gpt-4 in organization org-Y2tKyCPFO6tIjtCtOVZ7c9tr on tokens per min. Limit: 10000 / min. Please try again in 6ms. Visit https://platform.openai.com/account/rate-limits to learn more.. Retrying Question No. 3 Attempt:(1)\n",
      "Rate limit error: Rate limit reached for gpt-4 in organization org-Y2tKyCPFO6tIjtCtOVZ7c9tr on tokens per min. Limit: 10000 / min. Please try again in 6ms. Visit https://platform.openai.com/account/rate-limits to learn more.. Retrying Question No. 4 Attempt:(1)\n",
      "Rate limit error: Rate limit reached for gpt-4 in organization org-Y2tKyCPFO6tIjtCtOVZ7c9tr on tokens per min. Limit: 10000 / min. Please try again in 6ms. Visit https://platform.openai.com/account/rate-limits to learn more.. Retrying Question No. 6 Attempt:(1)\n",
      "Rate limit error: Rate limit reached for gpt-4 in organization org-Y2tKyCPFO6tIjtCtOVZ7c9tr on tokens per min. Limit: 10000 / min. Please try again in 6ms. Visit https://platform.openai.com/account/rate-limits to learn more.. Retrying Question No. 7 Attempt:(1)\n",
      "Rate limit error: Rate limit reached for gpt-4 in organization org-Y2tKyCPFO6tIjtCtOVZ7c9tr on tokens per min. Limit: 10000 / min. Please try again in 6ms. Visit https://platform.openai.com/account/rate-limits to learn more.. Retrying Question No. 8 Attempt:(1)\n"
     ]
    },
    {
     "name": "stderr",
     "output_type": "stream",
     "text": [
      " 97%|█████████▋| 84/87 [9:50:59<26:46, 535.60s/it]"
     ]
    },
    {
     "name": "stdout",
     "output_type": "stream",
     "text": [
      "Rate limit error: Rate limit reached for gpt-4 in organization org-Y2tKyCPFO6tIjtCtOVZ7c9tr on tokens per min. Limit: 10000 / min. Please try again in 6ms. Visit https://platform.openai.com/account/rate-limits to learn more.. Retrying Question No. 0 Attempt:(1)\n",
      "Rate limit error: Rate limit reached for gpt-4 in organization org-Y2tKyCPFO6tIjtCtOVZ7c9tr on tokens per min. Limit: 10000 / min. Please try again in 6ms. Visit https://platform.openai.com/account/rate-limits to learn more.. Retrying Question No. 1 Attempt:(1)\n",
      "Rate limit error: Rate limit reached for gpt-4 in organization org-Y2tKyCPFO6tIjtCtOVZ7c9tr on tokens per min. Limit: 10000 / min. Please try again in 6ms. Visit https://platform.openai.com/account/rate-limits to learn more.. Retrying Question No. 2 Attempt:(1)\n",
      "Rate limit error: Rate limit reached for gpt-4 in organization org-Y2tKyCPFO6tIjtCtOVZ7c9tr on tokens per min. Limit: 10000 / min. Please try again in 6ms. Visit https://platform.openai.com/account/rate-limits to learn more.. Retrying Question No. 3 Attempt:(1)\n",
      "Rate limit error: Rate limit reached for gpt-4 in organization org-Y2tKyCPFO6tIjtCtOVZ7c9tr on tokens per min. Limit: 10000 / min. Please try again in 6ms. Visit https://platform.openai.com/account/rate-limits to learn more.. Retrying Question No. 4 Attempt:(1)\n",
      "Rate limit error: Rate limit reached for gpt-4 in organization org-Y2tKyCPFO6tIjtCtOVZ7c9tr on tokens per min. Limit: 10000 / min. Please try again in 6ms. Visit https://platform.openai.com/account/rate-limits to learn more.. Retrying Question No. 5 Attempt:(1)\n",
      "Rate limit error: Rate limit reached for gpt-4 in organization org-Y2tKyCPFO6tIjtCtOVZ7c9tr on tokens per min. Limit: 10000 / min. Please try again in 6ms. Visit https://platform.openai.com/account/rate-limits to learn more.. Retrying Question No. 6 Attempt:(1)\n",
      "Rate limit error: Rate limit reached for gpt-4 in organization org-Y2tKyCPFO6tIjtCtOVZ7c9tr on tokens per min. Limit: 10000 / min. Please try again in 6ms. Visit https://platform.openai.com/account/rate-limits to learn more.. Retrying Question No. 6 Attempt:(2)\n",
      "Rate limit error: Rate limit reached for gpt-4 in organization org-Y2tKyCPFO6tIjtCtOVZ7c9tr on tokens per min. Limit: 10000 / min. Please try again in 6ms. Visit https://platform.openai.com/account/rate-limits to learn more.. Retrying Question No. 7 Attempt:(1)\n",
      "Rate limit error: Rate limit reached for gpt-4 in organization org-Y2tKyCPFO6tIjtCtOVZ7c9tr on tokens per min. Limit: 10000 / min. Please try again in 6ms. Visit https://platform.openai.com/account/rate-limits to learn more.. Retrying Question No. 8 Attempt:(1)\n",
      "Rate limit error: Rate limit reached for gpt-4 in organization org-Y2tKyCPFO6tIjtCtOVZ7c9tr on tokens per min. Limit: 10000 / min. Please try again in 6ms. Visit https://platform.openai.com/account/rate-limits to learn more.. Retrying Question No. 0 Attempt:(1)\n",
      "Rate limit error: Rate limit reached for gpt-4 in organization org-Y2tKyCPFO6tIjtCtOVZ7c9tr on tokens per min. Limit: 10000 / min. Please try again in 6ms. Visit https://platform.openai.com/account/rate-limits to learn more.. Retrying Question No. 1 Attempt:(1)\n",
      "Rate limit error: Rate limit reached for gpt-4 in organization org-Y2tKyCPFO6tIjtCtOVZ7c9tr on tokens per min. Limit: 10000 / min. Please try again in 6ms. Visit https://platform.openai.com/account/rate-limits to learn more.. Retrying Question No. 3 Attempt:(1)\n",
      "Rate limit error: Rate limit reached for gpt-4 in organization org-Y2tKyCPFO6tIjtCtOVZ7c9tr on tokens per min. Limit: 10000 / min. Please try again in 6ms. Visit https://platform.openai.com/account/rate-limits to learn more.. Retrying Question No. 4 Attempt:(1)\n",
      "Rate limit error: Rate limit reached for gpt-4 in organization org-Y2tKyCPFO6tIjtCtOVZ7c9tr on tokens per min. Limit: 10000 / min. Please try again in 6ms. Visit https://platform.openai.com/account/rate-limits to learn more.. Retrying Question No. 5 Attempt:(1)\n",
      "Rate limit error: Rate limit reached for gpt-4 in organization org-Y2tKyCPFO6tIjtCtOVZ7c9tr on tokens per min. Limit: 10000 / min. Please try again in 6ms. Visit https://platform.openai.com/account/rate-limits to learn more.. Retrying Question No. 6 Attempt:(1)\n",
      "Rate limit error: Rate limit reached for gpt-4 in organization org-Y2tKyCPFO6tIjtCtOVZ7c9tr on tokens per min. Limit: 10000 / min. Please try again in 6ms. Visit https://platform.openai.com/account/rate-limits to learn more.. Retrying Question No. 7 Attempt:(1)\n",
      "Rate limit error: Rate limit reached for gpt-4 in organization org-Y2tKyCPFO6tIjtCtOVZ7c9tr on tokens per min. Limit: 10000 / min. Please try again in 6ms. Visit https://platform.openai.com/account/rate-limits to learn more.. Retrying Question No. 8 Attempt:(1)\n"
     ]
    },
    {
     "name": "stderr",
     "output_type": "stream",
     "text": [
      " 98%|█████████▊| 85/87 [10:00:28<18:11, 545.56s/it]"
     ]
    },
    {
     "name": "stdout",
     "output_type": "stream",
     "text": [
      "Rate limit error: Rate limit reached for gpt-4 in organization org-Y2tKyCPFO6tIjtCtOVZ7c9tr on tokens per min. Limit: 10000 / min. Please try again in 6ms. Visit https://platform.openai.com/account/rate-limits to learn more.. Retrying Question No. 0 Attempt:(1)\n",
      "Rate limit error: Rate limit reached for gpt-4 in organization org-Y2tKyCPFO6tIjtCtOVZ7c9tr on tokens per min. Limit: 10000 / min. Please try again in 6ms. Visit https://platform.openai.com/account/rate-limits to learn more.. Retrying Question No. 1 Attempt:(1)\n",
      "Rate limit error: Rate limit reached for gpt-4 in organization org-Y2tKyCPFO6tIjtCtOVZ7c9tr on tokens per min. Limit: 10000 / min. Please try again in 6ms. Visit https://platform.openai.com/account/rate-limits to learn more.. Retrying Question No. 2 Attempt:(1)\n",
      "Rate limit error: Rate limit reached for gpt-4 in organization org-Y2tKyCPFO6tIjtCtOVZ7c9tr on tokens per min. Limit: 10000 / min. Please try again in 6ms. Visit https://platform.openai.com/account/rate-limits to learn more.. Retrying Question No. 3 Attempt:(1)\n",
      "Rate limit error: Rate limit reached for gpt-4 in organization org-Y2tKyCPFO6tIjtCtOVZ7c9tr on tokens per min. Limit: 10000 / min. Please try again in 6ms. Visit https://platform.openai.com/account/rate-limits to learn more.. Retrying Question No. 4 Attempt:(1)\n",
      "Rate limit error: Rate limit reached for gpt-4 in organization org-Y2tKyCPFO6tIjtCtOVZ7c9tr on tokens per min. Limit: 10000 / min. Please try again in 6ms. Visit https://platform.openai.com/account/rate-limits to learn more.. Retrying Question No. 5 Attempt:(1)\n",
      "Rate limit error: Rate limit reached for gpt-4 in organization org-Y2tKyCPFO6tIjtCtOVZ7c9tr on tokens per min. Limit: 10000 / min. Please try again in 6ms. Visit https://platform.openai.com/account/rate-limits to learn more.. Retrying Question No. 6 Attempt:(1)\n",
      "Rate limit error: Rate limit reached for gpt-4 in organization org-Y2tKyCPFO6tIjtCtOVZ7c9tr on tokens per min. Limit: 10000 / min. Please try again in 6ms. Visit https://platform.openai.com/account/rate-limits to learn more.. Retrying Question No. 7 Attempt:(1)\n",
      "Rate limit error: Rate limit reached for gpt-4 in organization org-Y2tKyCPFO6tIjtCtOVZ7c9tr on tokens per min. Limit: 10000 / min. Please try again in 6ms. Visit https://platform.openai.com/account/rate-limits to learn more.. Retrying Question No. 8 Attempt:(1)\n",
      "Rate limit error: Rate limit reached for gpt-4 in organization org-Y2tKyCPFO6tIjtCtOVZ7c9tr on tokens per min. Limit: 10000 / min. Please try again in 6ms. Visit https://platform.openai.com/account/rate-limits to learn more.. Retrying Question No. 1 Attempt:(1)\n",
      "Rate limit error: Rate limit reached for gpt-4 in organization org-Y2tKyCPFO6tIjtCtOVZ7c9tr on tokens per min. Limit: 10000 / min. Please try again in 6ms. Visit https://platform.openai.com/account/rate-limits to learn more.. Retrying Question No. 3 Attempt:(1)\n",
      "Rate limit error: Rate limit reached for gpt-4 in organization org-Y2tKyCPFO6tIjtCtOVZ7c9tr on tokens per min. Limit: 10000 / min. Please try again in 6ms. Visit https://platform.openai.com/account/rate-limits to learn more.. Retrying Question No. 4 Attempt:(1)\n",
      "Rate limit error: Rate limit reached for gpt-4 in organization org-Y2tKyCPFO6tIjtCtOVZ7c9tr on tokens per min. Limit: 10000 / min. Please try again in 6ms. Visit https://platform.openai.com/account/rate-limits to learn more.. Retrying Question No. 6 Attempt:(1)\n",
      "Rate limit error: Rate limit reached for gpt-4 in organization org-Y2tKyCPFO6tIjtCtOVZ7c9tr on tokens per min. Limit: 10000 / min. Please try again in 6ms. Visit https://platform.openai.com/account/rate-limits to learn more.. Retrying Question No. 7 Attempt:(1)\n"
     ]
    },
    {
     "name": "stderr",
     "output_type": "stream",
     "text": [
      " 99%|█████████▉| 86/87 [10:08:00<08:37, 517.48s/it]"
     ]
    },
    {
     "name": "stdout",
     "output_type": "stream",
     "text": [
      "Rate limit error: Rate limit reached for gpt-4 in organization org-Y2tKyCPFO6tIjtCtOVZ7c9tr on tokens per min. Limit: 10000 / min. Please try again in 6ms. Visit https://platform.openai.com/account/rate-limits to learn more.. Retrying Question No. 0 Attempt:(1)\n",
      "Rate limit error: Rate limit reached for gpt-4 in organization org-Y2tKyCPFO6tIjtCtOVZ7c9tr on tokens per min. Limit: 10000 / min. Please try again in 6ms. Visit https://platform.openai.com/account/rate-limits to learn more.. Retrying Question No. 3 Attempt:(1)\n",
      "Rate limit error: Rate limit reached for gpt-4 in organization org-Y2tKyCPFO6tIjtCtOVZ7c9tr on tokens per min. Limit: 10000 / min. Please try again in 6ms. Visit https://platform.openai.com/account/rate-limits to learn more.. Retrying Question No. 6 Attempt:(1)\n"
     ]
    },
    {
     "name": "stderr",
     "output_type": "stream",
     "text": [
      "100%|██████████| 87/87 [10:09:39<00:00, 420.46s/it]"
     ]
    },
    {
     "name": "stdout",
     "output_type": "stream",
     "text": [
      "Saved to: /Users/cu135/Dropbox (Partners HealthCare)/studies/review_pyper/raws/labeled_text/../case_extractions/case_evaluations.json\n"
     ]
    },
    {
     "name": "stderr",
     "output_type": "stream",
     "text": [
      "\n"
     ]
    }
   ],
   "source": [
    "from calvin_utils.gpt_sys_review.gpt_utils import OpenAIChatEvaluator\n",
    "evaluator = OpenAIChatEvaluator(api_key_path=api_key_path, json_file_path=json_file_path, keys_to_consider=keys_to_consider, question_type=article_type, model_choice=\"gpt4\",  question=question, test_mode=test_mode)\n",
    "answers = evaluator.evaluate_all_files()\n",
    "new_json_path = evaluator.save_to_json(answers)"
   ]
  },
  {
   "cell_type": "markdown",
   "metadata": {},
   "source": [
    "# 03 - Summarize the Results"
   ]
  },
  {
   "cell_type": "code",
   "execution_count": 7,
   "metadata": {},
   "outputs": [
    {
     "name": "stdout",
     "output_type": "stream",
     "text": [
      "Your CSV files of filtered manuscripts have been saved to this directory: \n",
      " /Users/cu135/Dropbox (Partners HealthCare)/studies/review_pyper/raws/labeled_text/../case_extractions/inclusion_exclusion_results\n"
     ]
    },
    {
     "name": "stderr",
     "output_type": "stream",
     "text": [
      "/Users/cu135/.local/lib/python3.10/site-packages/fuzzywuzzy/fuzz.py:11: UserWarning: Using slow pure-python SequenceMatcher. Install python-Levenshtein to remove this warning\n",
      "  warnings.warn('Using slow pure-python SequenceMatcher. Install python-Levenshtein to remove this warning')\n"
     ]
    }
   ],
   "source": [
    "from calvin_utils.gpt_sys_review.json_utils import InclusionExclusionSummarizer\n",
    "summarizer = InclusionExclusionSummarizer(new_json_path, questions=question)\n",
    "result_df, raw_path, automated_path = summarizer.run()"
   ]
  },
  {
   "cell_type": "markdown",
   "metadata": {},
   "source": [
    "Your articles have been completely evaluated and filtered. \n",
    "\n",
    "Please check the CSVs in the directory noted above and use the path to the one you would like to use. It will be for your next notebook.\n",
    "- Enjoy. If this has been helpful, please consider adding Calvin Howard as a collaborator. \n",
    "- e: choward12@bwh.harvard.edu"
   ]
  }
 ],
 "metadata": {
  "kernelspec": {
   "display_name": "nimlab_py310",
   "language": "python",
   "name": "python3"
  },
  "language_info": {
   "codemirror_mode": {
    "name": "ipython",
    "version": 3
   },
   "file_extension": ".py",
   "mimetype": "text/x-python",
   "name": "python",
   "nbconvert_exporter": "python",
   "pygments_lexer": "ipython3",
   "version": "3.10.8"
  },
  "orig_nbformat": 4
 },
 "nbformat": 4,
 "nbformat_minor": 2
}
