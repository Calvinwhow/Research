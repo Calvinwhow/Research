{
 "cells": [
  {
   "cell_type": "code",
   "execution_count": 1,
   "metadata": {},
   "outputs": [],
   "source": [
    "import openai\n",
    "import pandas as pd"
   ]
  },
  {
   "cell_type": "markdown",
   "metadata": {},
   "source": [
    "Define Your OpenAI Key"
   ]
  },
  {
   "cell_type": "code",
   "execution_count": 2,
   "metadata": {},
   "outputs": [],
   "source": [
    "openai_key_path = '/Users/cu135/Library/CloudStorage/OneDrive-Personal/OneDrive_Documents/Work/Software/Research/nimlab/gpt_document_reader/openai_key.txt'"
   ]
  },
  {
   "cell_type": "markdown",
   "metadata": {},
   "source": [
    "01 - First Assess Titles"
   ]
  },
  {
   "cell_type": "markdown",
   "metadata": {},
   "source": [
    "Define Path to CSV and Question\n",
    "- csv_path = \"path/to/your/titles.csv\"\n",
    "- question = \"Is this title related to medical research?\"\n",
    "- keywords_list = [\"focal\", \"lesion\", \"brain\", \"death\", \"case\"]"
   ]
  },
  {
   "cell_type": "code",
   "execution_count": 3,
   "metadata": {},
   "outputs": [],
   "source": [
    "csv_path = \"/Users/cu135/Dropbox (Partners HealthCare)/studies/review_pyper/raws/pubmed_results.csv\"\n",
    "question = \"Do you think this article may contain a case report of amnesia?\"\n",
    "\n",
    "# If you also want to perform a keyword-based assessment (free), you can enter a list of strings here:\n",
    "# Just set to None if you don't want to use it. But it's a good baseline.\n",
    "keywords_list = [\"amnesia\", \"memory\", \"amnestic\", \"forget\"]"
   ]
  },
  {
   "cell_type": "code",
   "execution_count": 4,
   "metadata": {},
   "outputs": [
    {
     "name": "stderr",
     "output_type": "stream",
     "text": [
      "OpenAI Screening: 100%|██████████| 352/352 [03:55<00:00,  1.49it/s]"
     ]
    },
    {
     "name": "stdout",
     "output_type": "stream",
     "text": [
      "Saved finalized CSV to /Users/cu135/Dropbox (Partners HealthCare)/studies/review_pyper/raws/pubmed_results_cleaned.csv\n"
     ]
    },
    {
     "name": "stderr",
     "output_type": "stream",
     "text": [
      "\n"
     ]
    }
   ],
   "source": [
    "from calvin_utils.gpt_sys_review.gpt_utils import TitleScreener\n",
    "title_screening = TitleScreener(api_key_path=openai_key_path, csv_path=csv_path, question=question, keywords=keywords_list, model_choice='gpt4')\n",
    "title_screening.run()"
   ]
  },
  {
   "cell_type": "markdown",
   "metadata": {},
   "source": [
    "Your titles have now been screened. \n",
    "- If you are curious about screening titles then abstracts versus titles and abstracts, please see this study: \n",
    "    - doi: 10.2147/CLEP.S43118\n",
    "- Enjoy. If this has been helpful, please consider adding Calvin Howard as a collaborator. \n",
    "- e: choward12@bwh.harvard.edu"
   ]
  }
 ],
 "metadata": {
  "kernelspec": {
   "display_name": "nimlab_py310",
   "language": "python",
   "name": "python3"
  },
  "language_info": {
   "codemirror_mode": {
    "name": "ipython",
    "version": 3
   },
   "file_extension": ".py",
   "mimetype": "text/x-python",
   "name": "python",
   "nbconvert_exporter": "python",
   "pygments_lexer": "ipython3",
   "version": "3.10.8"
  },
  "orig_nbformat": 4
 },
 "nbformat": 4,
 "nbformat_minor": 2
}
