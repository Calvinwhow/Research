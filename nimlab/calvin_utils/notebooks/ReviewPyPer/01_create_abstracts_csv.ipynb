{
 "cells": [
  {
   "cell_type": "markdown",
   "metadata": {},
   "source": [
    "1 - Provide Path to your API Key"
   ]
  },
  {
   "cell_type": "code",
   "execution_count": 1,
   "metadata": {},
   "outputs": [],
   "source": [
    "openai_key_path = '/Users/cu135/Library/CloudStorage/OneDrive-Personal/OneDrive_Documents/Work/Software/Research/nimlab/gpt_document_reader/openai_key.txt'"
   ]
  },
  {
   "cell_type": "markdown",
   "metadata": {},
   "source": [
    "2 - Preprocess the Abstracts\n",
    "- Provide the path to the location you saved the .txt file with the abstracts"
   ]
  },
  {
   "cell_type": "code",
   "execution_count": 2,
   "metadata": {},
   "outputs": [],
   "source": [
    "# Define your path to the text file with the abstracts in it\n",
    "abstracts_txt_path = '/Users/cu135/Dropbox (Partners HealthCare)/studies/review_pyper/raws/abstract_results.txt'"
   ]
  },
  {
   "cell_type": "code",
   "execution_count": 3,
   "metadata": {},
   "outputs": [
    {
     "data": {
      "text/html": [
       "<div>\n",
       "<style scoped>\n",
       "    .dataframe tbody tr th:only-of-type {\n",
       "        vertical-align: middle;\n",
       "    }\n",
       "\n",
       "    .dataframe tbody tr th {\n",
       "        vertical-align: top;\n",
       "    }\n",
       "\n",
       "    .dataframe thead th {\n",
       "        text-align: right;\n",
       "    }\n",
       "</style>\n",
       "<table border=\"1\" class=\"dataframe\">\n",
       "  <thead>\n",
       "    <tr style=\"text-align: right;\">\n",
       "      <th></th>\n",
       "      <th>Abstract</th>\n",
       "    </tr>\n",
       "  </thead>\n",
       "  <tbody>\n",
       "    <tr>\n",
       "      <th>0</th>\n",
       "      <td>1. Nat Rev Neurol. 2013 Feb;9(2):86-97. doi: 1...</td>\n",
       "    </tr>\n",
       "    <tr>\n",
       "      <th>1</th>\n",
       "      <td>2. J Med Case Rep. 2022 Feb 15;16(1):80. doi: ...</td>\n",
       "    </tr>\n",
       "    <tr>\n",
       "      <th>2</th>\n",
       "      <td>3. Nervenarzt. 2015 Feb;86(2):174-8. doi: 10.1...</td>\n",
       "    </tr>\n",
       "    <tr>\n",
       "      <th>3</th>\n",
       "      <td>4. Arch Neurol. 1993 Dec;50(12):1320-4. doi: 1...</td>\n",
       "    </tr>\n",
       "    <tr>\n",
       "      <th>4</th>\n",
       "      <td>5. Brain. 1987 Dec;110 ( Pt 6):1631-46. doi: 1...</td>\n",
       "    </tr>\n",
       "    <tr>\n",
       "      <th>...</th>\n",
       "      <td>...</td>\n",
       "    </tr>\n",
       "    <tr>\n",
       "      <th>347</th>\n",
       "      <td>348. Psychol Med. 1975 Aug;5(3):239-48. doi: 1...</td>\n",
       "    </tr>\n",
       "    <tr>\n",
       "      <th>348</th>\n",
       "      <td>349. Rev Clin Esp. 1985 Oct;177(5):237.\\n\\n[Am...</td>\n",
       "    </tr>\n",
       "    <tr>\n",
       "      <th>349</th>\n",
       "      <td>350. Rev Neurol (Paris). 1989;145(10):732-5.\\n...</td>\n",
       "    </tr>\n",
       "    <tr>\n",
       "      <th>350</th>\n",
       "      <td>351. Neurologia. 1990 Jan;5(1):34-5.\\n\\n[Trans...</td>\n",
       "    </tr>\n",
       "    <tr>\n",
       "      <th>351</th>\n",
       "      <td>352. Neurol Neurochir Pol. 1992 Jan-Feb;26(1):...</td>\n",
       "    </tr>\n",
       "  </tbody>\n",
       "</table>\n",
       "<p>352 rows × 1 columns</p>\n",
       "</div>"
      ],
      "text/plain": [
       "                                              Abstract\n",
       "0    1. Nat Rev Neurol. 2013 Feb;9(2):86-97. doi: 1...\n",
       "1    2. J Med Case Rep. 2022 Feb 15;16(1):80. doi: ...\n",
       "2    3. Nervenarzt. 2015 Feb;86(2):174-8. doi: 10.1...\n",
       "3    4. Arch Neurol. 1993 Dec;50(12):1320-4. doi: 1...\n",
       "4    5. Brain. 1987 Dec;110 ( Pt 6):1631-46. doi: 1...\n",
       "..                                                 ...\n",
       "347  348. Psychol Med. 1975 Aug;5(3):239-48. doi: 1...\n",
       "348  349. Rev Clin Esp. 1985 Oct;177(5):237.\\n\\n[Am...\n",
       "349  350. Rev Neurol (Paris). 1989;145(10):732-5.\\n...\n",
       "350  351. Neurologia. 1990 Jan;5(1):34-5.\\n\\n[Trans...\n",
       "351  352. Neurol Neurochir Pol. 1992 Jan-Feb;26(1):...\n",
       "\n",
       "[352 rows x 1 columns]"
      ]
     },
     "execution_count": 3,
     "metadata": {},
     "output_type": "execute_result"
    }
   ],
   "source": [
    "from calvin_utils.gpt_sys_review.txt_utils import AbstractSeparator\n",
    "separator = AbstractSeparator(abstracts_txt_path)\n",
    "df, abstracts_txt_path_preprocessed = separator.run()\n",
    "df"
   ]
  },
  {
   "cell_type": "markdown",
   "metadata": {},
   "source": [
    "3 - Shorten List of Abstracts to Those Passing Title Screen"
   ]
  },
  {
   "cell_type": "code",
   "execution_count": 4,
   "metadata": {},
   "outputs": [],
   "source": [
    "# Define your path to the CSV which contains the successfully screened titles\n",
    "title_review_path = \"/Users/cu135/Dropbox (Partners HealthCare)/studies/review_pyper/raws/pubmed_results_cleaned.csv\""
   ]
  },
  {
   "cell_type": "code",
   "execution_count": 5,
   "metadata": {},
   "outputs": [
    {
     "data": {
      "text/html": [
       "<div>\n",
       "<style scoped>\n",
       "    .dataframe tbody tr th:only-of-type {\n",
       "        vertical-align: middle;\n",
       "    }\n",
       "\n",
       "    .dataframe tbody tr th {\n",
       "        vertical-align: top;\n",
       "    }\n",
       "\n",
       "    .dataframe thead th {\n",
       "        text-align: right;\n",
       "    }\n",
       "</style>\n",
       "<table border=\"1\" class=\"dataframe\">\n",
       "  <thead>\n",
       "    <tr style=\"text-align: right;\">\n",
       "      <th></th>\n",
       "      <th>Abstract</th>\n",
       "    </tr>\n",
       "  </thead>\n",
       "  <tbody>\n",
       "    <tr>\n",
       "      <th>0</th>\n",
       "      <td>1. Nat Rev Neurol. 2013 Feb;9(2):86-97. doi: 1...</td>\n",
       "    </tr>\n",
       "    <tr>\n",
       "      <th>2</th>\n",
       "      <td>3. Nervenarzt. 2015 Feb;86(2):174-8. doi: 10.1...</td>\n",
       "    </tr>\n",
       "    <tr>\n",
       "      <th>4</th>\n",
       "      <td>5. Brain. 1987 Dec;110 ( Pt 6):1631-46. doi: 1...</td>\n",
       "    </tr>\n",
       "    <tr>\n",
       "      <th>5</th>\n",
       "      <td>6. Brain. 1990 Feb;113 ( Pt 1):1-25. doi: 10.1...</td>\n",
       "    </tr>\n",
       "    <tr>\n",
       "      <th>10</th>\n",
       "      <td>11. Neurocase. 2022 Aug;28(4):410-414. doi: 10...</td>\n",
       "    </tr>\n",
       "    <tr>\n",
       "      <th>...</th>\n",
       "      <td>...</td>\n",
       "    </tr>\n",
       "    <tr>\n",
       "      <th>347</th>\n",
       "      <td>348. Psychol Med. 1975 Aug;5(3):239-48. doi: 1...</td>\n",
       "    </tr>\n",
       "    <tr>\n",
       "      <th>348</th>\n",
       "      <td>349. Rev Clin Esp. 1985 Oct;177(5):237.\\n\\n[Am...</td>\n",
       "    </tr>\n",
       "    <tr>\n",
       "      <th>349</th>\n",
       "      <td>350. Rev Neurol (Paris). 1989;145(10):732-5.\\n...</td>\n",
       "    </tr>\n",
       "    <tr>\n",
       "      <th>350</th>\n",
       "      <td>351. Neurologia. 1990 Jan;5(1):34-5.\\n\\n[Trans...</td>\n",
       "    </tr>\n",
       "    <tr>\n",
       "      <th>351</th>\n",
       "      <td>352. Neurol Neurochir Pol. 1992 Jan-Feb;26(1):...</td>\n",
       "    </tr>\n",
       "  </tbody>\n",
       "</table>\n",
       "<p>158 rows × 1 columns</p>\n",
       "</div>"
      ],
      "text/plain": [
       "                                              Abstract\n",
       "0    1. Nat Rev Neurol. 2013 Feb;9(2):86-97. doi: 1...\n",
       "2    3. Nervenarzt. 2015 Feb;86(2):174-8. doi: 10.1...\n",
       "4    5. Brain. 1987 Dec;110 ( Pt 6):1631-46. doi: 1...\n",
       "5    6. Brain. 1990 Feb;113 ( Pt 1):1-25. doi: 10.1...\n",
       "10   11. Neurocase. 2022 Aug;28(4):410-414. doi: 10...\n",
       "..                                                 ...\n",
       "347  348. Psychol Med. 1975 Aug;5(3):239-48. doi: 1...\n",
       "348  349. Rev Clin Esp. 1985 Oct;177(5):237.\\n\\n[Am...\n",
       "349  350. Rev Neurol (Paris). 1989;145(10):732-5.\\n...\n",
       "350  351. Neurologia. 1990 Jan;5(1):34-5.\\n\\n[Trans...\n",
       "351  352. Neurol Neurochir Pol. 1992 Jan-Feb;26(1):...\n",
       "\n",
       "[158 rows x 1 columns]"
      ]
     },
     "execution_count": 5,
     "metadata": {},
     "output_type": "execute_result"
    }
   ],
   "source": [
    "from calvin_utils.gpt_sys_review.txt_utils import TitleReviewFilter\n",
    "title_review_filter = TitleReviewFilter(title_review_path, abstracts_path=abstracts_txt_path_preprocessed, column_name=\"OpenAI_Screen\")\n",
    "df, abstracts_txt_path_preprocessed_filtered = title_review_filter.run()\n",
    "df"
   ]
  },
  {
   "cell_type": "markdown",
   "metadata": {},
   "source": [
    "4 - Evaluate Abstracts That Passed Title Screen\n",
    "- Define your question, like in this example. Make it a question you WANT a yes to.     \n",
    "      - question =  \"Do you think this article may contain a case report of amnesia?\"\n"
   ]
  },
  {
   "cell_type": "code",
   "execution_count": 6,
   "metadata": {},
   "outputs": [],
   "source": [
    "question = \"Do you think this article may contain a case report of amnesia?\""
   ]
  },
  {
   "cell_type": "code",
   "execution_count": 8,
   "metadata": {},
   "outputs": [
    {
     "name": "stderr",
     "output_type": "stream",
     "text": [
      "OpenAI Screening:  13%|█▎        | 20/158 [00:14<01:43,  1.33it/s]"
     ]
    },
    {
     "name": "stdout",
     "output_type": "stream",
     "text": [
      "Rate limit error: Rate limit reached for gpt-4 in organization org-Y2tKyCPFO6tIjtCtOVZ7c9tr on tokens per min. Limit: 10000 / min. Please try again in 6ms. Visit https://platform.openai.com/account/rate-limits to learn more.. Retrying Question No. 19 Attempt:(1)\n"
     ]
    },
    {
     "name": "stderr",
     "output_type": "stream",
     "text": [
      "OpenAI Screening:  20%|██        | 32/158 [00:53<01:46,  1.18it/s]"
     ]
    },
    {
     "name": "stdout",
     "output_type": "stream",
     "text": [
      "Rate limit error: Rate limit reached for gpt-4 in organization org-Y2tKyCPFO6tIjtCtOVZ7c9tr on tokens per min. Limit: 10000 / min. Please try again in 6ms. Visit https://platform.openai.com/account/rate-limits to learn more.. Retrying Question No. 31 Attempt:(1)\n"
     ]
    },
    {
     "name": "stderr",
     "output_type": "stream",
     "text": [
      "OpenAI Screening:  28%|██▊       | 45/158 [01:34<01:31,  1.24it/s]"
     ]
    },
    {
     "name": "stdout",
     "output_type": "stream",
     "text": [
      "Rate limit error: Rate limit reached for gpt-4 in organization org-Y2tKyCPFO6tIjtCtOVZ7c9tr on tokens per min. Limit: 10000 / min. Please try again in 6ms. Visit https://platform.openai.com/account/rate-limits to learn more.. Retrying Question No. 44 Attempt:(1)\n"
     ]
    },
    {
     "name": "stderr",
     "output_type": "stream",
     "text": [
      "OpenAI Screening:  37%|███▋      | 58/158 [02:13<01:17,  1.30it/s]"
     ]
    },
    {
     "name": "stdout",
     "output_type": "stream",
     "text": [
      "Rate limit error: Rate limit reached for gpt-4 in organization org-Y2tKyCPFO6tIjtCtOVZ7c9tr on tokens per min. Limit: 10000 / min. Please try again in 6ms. Visit https://platform.openai.com/account/rate-limits to learn more.. Retrying Question No. 57 Attempt:(1)\n"
     ]
    },
    {
     "name": "stderr",
     "output_type": "stream",
     "text": [
      "OpenAI Screening:  46%|████▌     | 72/158 [02:52<01:04,  1.33it/s]"
     ]
    },
    {
     "name": "stdout",
     "output_type": "stream",
     "text": [
      "Rate limit error: Rate limit reached for gpt-4 in organization org-Y2tKyCPFO6tIjtCtOVZ7c9tr on tokens per min. Limit: 10000 / min. Please try again in 6ms. Visit https://platform.openai.com/account/rate-limits to learn more.. Retrying Question No. 71 Attempt:(1)\n"
     ]
    },
    {
     "name": "stderr",
     "output_type": "stream",
     "text": [
      "OpenAI Screening:  53%|█████▎    | 84/158 [03:32<01:09,  1.06it/s]"
     ]
    },
    {
     "name": "stdout",
     "output_type": "stream",
     "text": [
      "Rate limit error: Rate limit reached for gpt-4 in organization org-Y2tKyCPFO6tIjtCtOVZ7c9tr on tokens per min. Limit: 10000 / min. Please try again in 6ms. Visit https://platform.openai.com/account/rate-limits to learn more.. Retrying Question No. 83 Attempt:(1)\n"
     ]
    },
    {
     "name": "stderr",
     "output_type": "stream",
     "text": [
      "OpenAI Screening:  62%|██████▏   | 98/158 [04:11<00:46,  1.29it/s]"
     ]
    },
    {
     "name": "stdout",
     "output_type": "stream",
     "text": [
      "Rate limit error: Rate limit reached for gpt-4 in organization org-Y2tKyCPFO6tIjtCtOVZ7c9tr on tokens per min. Limit: 10000 / min. Please try again in 6ms. Visit https://platform.openai.com/account/rate-limits to learn more.. Retrying Question No. 97 Attempt:(1)\n"
     ]
    },
    {
     "name": "stderr",
     "output_type": "stream",
     "text": [
      "OpenAI Screening:  72%|███████▏  | 113/158 [04:52<00:37,  1.21it/s]"
     ]
    },
    {
     "name": "stdout",
     "output_type": "stream",
     "text": [
      "Rate limit error: Rate limit reached for gpt-4 in organization org-Y2tKyCPFO6tIjtCtOVZ7c9tr on tokens per min. Limit: 10000 / min. Please try again in 6ms. Visit https://platform.openai.com/account/rate-limits to learn more.. Retrying Question No. 112 Attempt:(1)\n"
     ]
    },
    {
     "name": "stderr",
     "output_type": "stream",
     "text": [
      "OpenAI Screening:  79%|███████▉  | 125/158 [05:29<00:24,  1.33it/s]"
     ]
    },
    {
     "name": "stdout",
     "output_type": "stream",
     "text": [
      "Rate limit error: Rate limit reached for gpt-4 in organization org-Y2tKyCPFO6tIjtCtOVZ7c9tr on tokens per min. Limit: 10000 / min. Please try again in 6ms. Visit https://platform.openai.com/account/rate-limits to learn more.. Retrying Question No. 124 Attempt:(1)\n"
     ]
    },
    {
     "name": "stderr",
     "output_type": "stream",
     "text": [
      "OpenAI Screening:  89%|████████▉ | 141/158 [06:10<00:10,  1.65it/s]"
     ]
    },
    {
     "name": "stdout",
     "output_type": "stream",
     "text": [
      "Rate limit error: Rate limit reached for gpt-4 in organization org-Y2tKyCPFO6tIjtCtOVZ7c9tr on tokens per min. Limit: 10000 / min. Please try again in 6ms. Visit https://platform.openai.com/account/rate-limits to learn more.. Retrying Question No. 140 Attempt:(1)\n"
     ]
    },
    {
     "name": "stderr",
     "output_type": "stream",
     "text": [
      "OpenAI Screening: 100%|██████████| 158/158 [06:53<00:00,  2.61s/it]"
     ]
    },
    {
     "name": "stdout",
     "output_type": "stream",
     "text": [
      "Saved finalized CSV to /Users/cu135/Dropbox (Partners HealthCare)/studies/review_pyper/raws/abstract_results_cleaned_filtered_cleaned.csv\n"
     ]
    },
    {
     "name": "stderr",
     "output_type": "stream",
     "text": [
      "\n"
     ]
    }
   ],
   "source": [
    "from calvin_utils.gpt_sys_review.gpt_utils import AbstractScreener\n",
    "abstract_screening = AbstractScreener(api_key_path=openai_key_path, csv_path=abstracts_txt_path_preprocessed_filtered, question=question, model_choice=\"gpt4\", keywords=[\"amnesia\", \"memory\", \"amnestic\", \"forget\"])\n",
    "screened_abstract_path = abstract_screening.run()"
   ]
  },
  {
   "cell_type": "markdown",
   "metadata": {},
   "source": [
    "5 - Postprocess Results"
   ]
  },
  {
   "cell_type": "code",
   "execution_count": 13,
   "metadata": {},
   "outputs": [
    {
     "name": "stdout",
     "output_type": "stream",
     "text": [
      "Saved Master List to: \n",
      " /Users/cu135/Dropbox (Partners HealthCare)/studies/review_pyper/raws/master_list.csv\n"
     ]
    },
    {
     "data": {
      "text/html": [
       "<div>\n",
       "<style scoped>\n",
       "    .dataframe tbody tr th:only-of-type {\n",
       "        vertical-align: middle;\n",
       "    }\n",
       "\n",
       "    .dataframe tbody tr th {\n",
       "        vertical-align: top;\n",
       "    }\n",
       "\n",
       "    .dataframe thead th {\n",
       "        text-align: right;\n",
       "    }\n",
       "</style>\n",
       "<table border=\"1\" class=\"dataframe\">\n",
       "  <thead>\n",
       "    <tr style=\"text-align: right;\">\n",
       "      <th></th>\n",
       "      <th>PMID</th>\n",
       "      <th>Title</th>\n",
       "      <th>Authors</th>\n",
       "      <th>Citation</th>\n",
       "      <th>First Author</th>\n",
       "      <th>Journal/Book</th>\n",
       "      <th>Publication Year</th>\n",
       "      <th>Create Date</th>\n",
       "      <th>PMCID</th>\n",
       "      <th>NIHMS ID</th>\n",
       "      <th>DOI</th>\n",
       "      <th>Keyword_Screen</th>\n",
       "      <th>OpenAI_Screen</th>\n",
       "      <th>Abstract</th>\n",
       "      <th>OpenAI_Screen_Abstract</th>\n",
       "    </tr>\n",
       "  </thead>\n",
       "  <tbody>\n",
       "    <tr>\n",
       "      <th>0</th>\n",
       "      <td>23296343</td>\n",
       "      <td>Transient amnesic syndromes</td>\n",
       "      <td>Bartsch T, Butler C.</td>\n",
       "      <td>Nat Rev Neurol. 2013 Feb;9(2):86-97. doi: 10.1...</td>\n",
       "      <td>Bartsch T</td>\n",
       "      <td>Nat Rev Neurol</td>\n",
       "      <td>2013</td>\n",
       "      <td>1/9/13</td>\n",
       "      <td>NaN</td>\n",
       "      <td>NaN</td>\n",
       "      <td>10.1038/nrneurol.2012.264</td>\n",
       "      <td>0</td>\n",
       "      <td>1</td>\n",
       "      <td>1. Nat Rev Neurol. 2013 Feb;9(2):86-97. doi: 1...</td>\n",
       "      <td>0.0</td>\n",
       "    </tr>\n",
       "    <tr>\n",
       "      <th>1</th>\n",
       "      <td>35168680</td>\n",
       "      <td>Hyperbaric oxygen treatment for long coronavir...</td>\n",
       "      <td>Bhaiyat AM, Sasson E, Wang Z, Khairy S, Ginzar...</td>\n",
       "      <td>J Med Case Rep. 2022 Feb 15;16(1):80. doi: 10....</td>\n",
       "      <td>Bhaiyat AM</td>\n",
       "      <td>J Med Case Rep</td>\n",
       "      <td>2022</td>\n",
       "      <td>2/16/22</td>\n",
       "      <td>PMC8848789</td>\n",
       "      <td>NaN</td>\n",
       "      <td>10.1186/s13256-022-03287-w</td>\n",
       "      <td>0</td>\n",
       "      <td>0</td>\n",
       "      <td>2. J Med Case Rep. 2022 Feb 15;16(1):80. doi: ...</td>\n",
       "      <td>NaN</td>\n",
       "    </tr>\n",
       "  </tbody>\n",
       "</table>\n",
       "</div>"
      ],
      "text/plain": [
       "       PMID                                              Title  \\\n",
       "0  23296343                        Transient amnesic syndromes   \n",
       "1  35168680  Hyperbaric oxygen treatment for long coronavir...   \n",
       "\n",
       "                                             Authors  \\\n",
       "0                               Bartsch T, Butler C.   \n",
       "1  Bhaiyat AM, Sasson E, Wang Z, Khairy S, Ginzar...   \n",
       "\n",
       "                                            Citation First Author  \\\n",
       "0  Nat Rev Neurol. 2013 Feb;9(2):86-97. doi: 10.1...    Bartsch T   \n",
       "1  J Med Case Rep. 2022 Feb 15;16(1):80. doi: 10....   Bhaiyat AM   \n",
       "\n",
       "     Journal/Book  Publication Year Create Date       PMCID NIHMS ID  \\\n",
       "0  Nat Rev Neurol              2013      1/9/13         NaN      NaN   \n",
       "1  J Med Case Rep              2022     2/16/22  PMC8848789      NaN   \n",
       "\n",
       "                          DOI  Keyword_Screen  OpenAI_Screen  \\\n",
       "0   10.1038/nrneurol.2012.264               0              1   \n",
       "1  10.1186/s13256-022-03287-w               0              0   \n",
       "\n",
       "                                            Abstract  OpenAI_Screen_Abstract  \n",
       "0  1. Nat Rev Neurol. 2013 Feb;9(2):86-97. doi: 1...                     0.0  \n",
       "1  2. J Med Case Rep. 2022 Feb 15;16(1):80. doi: ...                     NaN  "
      ]
     },
     "execution_count": 13,
     "metadata": {},
     "output_type": "execute_result"
    }
   ],
   "source": [
    "from calvin_utils.gpt_sys_review.txt_utils import PostProcessing\n",
    "post_processor = PostProcessing(file1_path=abstracts_txt_path_preprocessed, file2_path=screened_abstract_path, pubmed_csv_path=title_review_path)\n",
    "df = post_processor.run()\n",
    "df.head(2)"
   ]
  },
  {
   "cell_type": "markdown",
   "metadata": {},
   "source": [
    "Your abstracts have now been screened. \n",
    "- If you are curious about screening titles then abstracts versus titles and abstracts, please see this study: \n",
    "    - doi: 10.2147/CLEP.S43118\n",
    "- Enjoy. If this has been helpful, please consider adding Calvin Howard as a collaborator. \n",
    "- e: choward12@bwh.harvard.edu"
   ]
  }
 ],
 "metadata": {
  "kernelspec": {
   "display_name": "nimlab_py310",
   "language": "python",
   "name": "python3"
  },
  "language_info": {
   "codemirror_mode": {
    "name": "ipython",
    "version": 3
   },
   "file_extension": ".py",
   "mimetype": "text/x-python",
   "name": "python",
   "nbconvert_exporter": "python",
   "pygments_lexer": "ipython3",
   "version": "3.10.8"
  },
  "orig_nbformat": 4
 },
 "nbformat": 4,
 "nbformat_minor": 2
}
