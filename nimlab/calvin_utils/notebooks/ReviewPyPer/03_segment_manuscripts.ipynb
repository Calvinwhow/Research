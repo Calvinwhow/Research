{
 "cells": [
  {
   "cell_type": "markdown",
   "metadata": {},
   "source": [
    "01 - Convert PDFs to Text\n",
    "\n",
    "Define path to master_list_pdf.csv from last step. Keeps files locked to data in spreadsheet.\n",
    "   - pdf_extractor.extract_text_from_master_list(path)\n",
    "\n",
    "Alternatively, you can simply point this at an entire directory full of PDFs with:\n",
    "   - pdf_extractor.extract_text_from_pdf_dir(path)\n"
   ]
  },
  {
   "cell_type": "code",
   "execution_count": null,
   "metadata": {},
   "outputs": [],
   "source": [
    "path = '/Users/cu135/Dropbox (Partners HealthCare)/studies/review_pyper/raws/master_list_pdfs.csv'"
   ]
  },
  {
   "cell_type": "markdown",
   "metadata": {},
   "source": [
    "**Preprocess Using Text Extraction**"
   ]
  },
  {
   "cell_type": "markdown",
   "metadata": {},
   "source": [
    "Option A) Preprocess the PDF files with Texttractor (Fast, less generalizable)"
   ]
  },
  {
   "cell_type": "code",
   "execution_count": null,
   "metadata": {},
   "outputs": [],
   "source": [
    "from calvin_utils.gpt_sys_review.pdf_utils import PDFTextExtractor\n",
    "pdf_extractor = PDFTextExtractor()\n",
    "# pdf_extractor.extract_text_from_pdf_dir(path)"
   ]
  },
  {
   "cell_type": "markdown",
   "metadata": {},
   "source": [
    "Option B) Prepropcess PDF Files with OCR (Slow, generalizable)"
   ]
  },
  {
   "cell_type": "code",
   "execution_count": null,
   "metadata": {},
   "outputs": [],
   "source": [
    "from calvin_utils.gpt_sys_review.pdf_utils import OCROperator\n",
    "# output_dir = OCROperator.extract_text_from_pdf_dir(path)\n",
    "output_dir = OCROperator.extract_text_from_master_list(path)"
   ]
  },
  {
   "cell_type": "markdown",
   "metadata": {},
   "source": [
    "02 - Preprocess the Extracted Text"
   ]
  },
  {
   "cell_type": "code",
   "execution_count": null,
   "metadata": {},
   "outputs": [],
   "source": [
    "#Temporary variable\n",
    "output_dir = '/Users/cu135/Dropbox (Partners HealthCare)/studies/review_pyper/raws/pdf_txt'"
   ]
  },
  {
   "cell_type": "code",
   "execution_count": null,
   "metadata": {},
   "outputs": [],
   "source": [
    "from calvin_utils.gpt_sys_review.txt_utils import TextPreprocessor\n",
    "# Initialize the TextPreprocessor class and preprocess the files\n",
    "preprocessor = TextPreprocessor(output_dir)\n",
    "preprocessed_path = preprocessor.process_files()"
   ]
  },
  {
   "cell_type": "markdown",
   "metadata": {},
   "source": [
    "03 - Label Text Sections\n",
    "- Article type 'case' will use GPT to convolve over the text with a cheap model and identify case-report sections\n",
    "- Article type 'research' will use keyword labelling to identify canonical article section like \"Methods\" or \"References\""
   ]
  },
  {
   "cell_type": "code",
   "execution_count": null,
   "metadata": {},
   "outputs": [],
   "source": [
    "# Article type is either Case or Research\n",
    "article_type = \"case\" \n",
    "api_key_path = \"/Users/cu135/Library/CloudStorage/OneDrive-Personal/OneDrive_Documents/Work/Software/Research/nimlab/gpt_document_reader/openai_key.txt\""
   ]
  },
  {
   "cell_type": "code",
   "execution_count": null,
   "metadata": {},
   "outputs": [],
   "source": [
    "from calvin_utils.gpt_sys_review.json_utils import SectionLabeler\n",
    "import os\n",
    "# Initialize the SectionLabeler class and process the files\n",
    "section_labeler = SectionLabeler(folder_path=preprocessed_path, article_type=article_type, api_key_path=api_key_path)\n",
    "section_labeler.process_files()"
   ]
  },
  {
   "cell_type": "markdown",
   "metadata": {},
   "source": [
    "Your PDFs have preprocessed and segmented. \n",
    "\n",
    "- Enjoy. If this has been helpful, please consider adding Calvin Howard as a collaborator. \n",
    "- e: choward12@bwh.harvard.edu"
   ]
  }
 ],
 "metadata": {
  "kernelspec": {
   "display_name": "nimlab_py310",
   "language": "python",
   "name": "python3"
  },
  "language_info": {
   "codemirror_mode": {
    "name": "ipython",
    "version": 3
   },
   "file_extension": ".py",
   "mimetype": "text/x-python",
   "name": "python",
   "nbconvert_exporter": "python",
   "pygments_lexer": "ipython3",
   "version": "3.10.8"
  },
  "orig_nbformat": 4
 },
 "nbformat": 4,
 "nbformat_minor": 2
}
