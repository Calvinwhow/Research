{
 "cells": [
  {
   "cell_type": "markdown",
   "metadata": {},
   "source": [
    "01 - Generate JSON from Post-Inclusion/Exclusion CSV\n",
    "- Enter path to CSV generated from Notebook 04 (inclusion/exclusion CSV)\n",
    "- Enter path to JSON which has the articles with labeled sections"
   ]
  },
  {
   "cell_type": "code",
   "execution_count": 16,
   "metadata": {},
   "outputs": [],
   "source": [
    "csv_path = \"/Users/cu135/Dropbox (Partners HealthCare)/studies/review_pyper/raws/case_extractions/inclusion_exclusion_results/automated_filtered_results.csv\"\n",
    "json_file_path = \"/Users/cu135/Dropbox (Partners HealthCare)/studies/review_pyper/raws/labeled_text/case_labeled_sections.json\""
   ]
  },
  {
   "cell_type": "code",
   "execution_count": 17,
   "metadata": {},
   "outputs": [],
   "source": [
    "from calvin_utils.gpt_sys_review.json_utils import FilterPapers\n",
    "\n",
    "# Initialize and run the FilterPapers class\n",
    "filter_papers = FilterPapers(csv_path=csv_path, json_path=json_file_path)\n",
    "filtered_json_path = filter_papers.run()"
   ]
  },
  {
   "cell_type": "markdown",
   "metadata": {},
   "source": [
    "02 - Prepare Data Extraction Questions\n",
    "- Dev Note: This is a repeat class and should be inherited from a .py"
   ]
  },
  {
   "cell_type": "code",
   "execution_count": 18,
   "metadata": {},
   "outputs": [
    {
     "name": "stdout",
     "output_type": "stream",
     "text": [
      "Here are example data extraction questions:\n",
      "{\n",
      "    \"Does the patient(s) represent(s) the whole experience of the investigator (center) or is the selection method unclear to the extent that other patients with similar presentation may not have been reported? (Good/Bad/Unclear)\": \"representative_case_quality\",\n",
      "    \"Was patient\\u2019s causal exposure clearly described? (Good/Bad/Unclear)\": \"causality_quality\",\n",
      "    \"Were diagnostic tests or assessment methods and the results clearly described (amnesia tests)? (Good/Bad/Unclear)\": \"phenotyping_quality\",\n",
      "    \"Were other alternative causes that may explain the observation (amnesia) ruled out? (Good/Bad/Unclear)\": \"workup_quality\",\n",
      "    \"Were patient\\u2019s demographics, medical history, comobidities clearly described? (Good/Bad/Unclear)\": \"clinical_covariates_quality\",\n",
      "    \"Were patient\\u2019s symptoms, interventions, and clinical outcomes clearly presented as a timeline? (Good/Bad/Unclear)\": \"history_quality\",\n",
      "    \"Was the lesion image taken around the time of observation (amnesia) assessment? (Good/Bad/Unclear)\": \"temporal_causality_quality\",\n",
      "    \"Is the case(s) described with sufficient details to allow other investigators to replicate the research or to allow practitioners make inferences related to their own practice? (Good/Bad/Unclear)\": \"history_quality_2\"\n",
      "}\n",
      "Here are some more generalizable data extraction questions:\n",
      "{\n",
      "    \"How affected is this study by selection bias? Little (Good). Very (Bad). Unsure (Unclear).\": \"selection_bias\",\n",
      "    \"How well was the timeline of lesion/symptom onset described? (Good/Bad/Unclear)\": \"exposure\",\n",
      "    \"How affected is this case by attribution error? Little (Good). Very (Bad). Unsure (Unclear).\": \"outcome\",\n",
      "    \"How reasonable is the attribution of the lesion/diagnosis to the symptom? (Good/Bad/Unclear)\": \"attribution_error\",\n",
      "    \"How well was the patients baseline pre-lesion described? (Good/Bad/Unclear)\": \"pre_event_assessment\",\n",
      "    \"How well was the patients outcome post-lesion described? (Good/Bad/Unclear)\": \"post_event_assessment\",\n",
      "    \"Do you think the neuroimaging was taken within temporal proximity to the lesion? Days-weeks (Good). Months-years (Bad). Unsure (Unclear).\": \"lesion_related-images\",\n",
      "    \"Do you think another practitioner would come to the same conclusion (diagnosis/attribution) that this group did? (Good/Bad/Unclear)\": \"replicability\",\n",
      "    \"How is the quality of this case overall? (Good/Bad/Unclear)\": \"overall_appraisal\"\n",
      "}\n",
      "Here is a question template\n",
      "{\n",
      "    \" ? (metric/metric/metric)\": \"question_label\"\n",
      "}\n"
     ]
    }
   ],
   "source": [
    "from calvin_utils.gpt_sys_review.gpt_utils import QuestionTemplate\n",
    "\n",
    "question_template = QuestionTemplate()\n",
    "question_template.data_extraction_questions()"
   ]
  },
  {
   "cell_type": "markdown",
   "metadata": {},
   "source": [
    "Copy the Template Dict from Above and Fill it Out As per the Example"
   ]
  },
  {
   "cell_type": "code",
   "execution_count": 19,
   "metadata": {},
   "outputs": [],
   "source": [
    "question = {\n",
    "    \"Do you think this is reasonably free of selection bias? For example, a case series is free of bias. (Y/N).\": \"selection_bias\",\n",
    "    \"Do you think the history of presenting illness was reasonably described? For example, describing a patient's symptoms and circumstances of presentation are acceptable. (Y/N)\": \"hpi_history\",\n",
    "    \"Prioritizing implicit information, do you think diagnostic diagnostic tests relevant to the diagnosis had been completed to consolidate the diagnosis? Specific details are not necessary. For example, vascular imaging in a stroke is a reasonable workup. (Y/N).\": \"diagnostic_workup\",\n",
    "    \"Do you think the symptom is reasonably attributable to the lesion? For example, a stroke and subsequent amnesia is highly attributable. If the word acute is used, this is a yes. (Y/N)\": \"diagnostic_accuracy\",\n",
    "    \"Do you think the extended patient history was well described? For example, diabetes in pas medical history, family history of strokes, or note of medications. (Y/N)\": \"associated_history\",\n",
    "    \"Considering both explicit mentions and contextual clues like ordered presnetaiton of history to symptoms to workup, can you infer whether the history was presented as a timeline? For example, a description of acute neurological deficit to imaging findings to symptoms is acceptable. (Y/N)\": \"temporality_of_history\",\n",
    "    \"Prioritizing implicit contextual cues, can you infer if the neuroimaging may have been taken around the time of symptom or lesion onset? If neuroimaging is mentioned in close proximity to the description of symptoms, assume they are temporally related. (Y/N)\": \"lesion_related-images\",\n",
    "    \"Do you think the case has sufficient details to allow another doctor to make their own inferences? Specifics are not necessary so long as the critical information is present. For example, if the history and pertinent diagnostic information provided, this is acceptable. (Y/N)\": \"replicability\",\n",
    "    \"Is the case report suitable for lesion network mapping? For example, a case describing symptoms and related neuroimaging related to symptoms is sufficient. (Y/N)\": \"overall_appraisal\"\n",
    "    }"
   ]
  },
  {
   "cell_type": "markdown",
   "metadata": {},
   "source": [
    "03 - Extract Data with GPT\n"
   ]
  },
  {
   "cell_type": "code",
   "execution_count": 20,
   "metadata": {},
   "outputs": [],
   "source": [
    "# Define file paths\n",
    "api_key_path = \"/Users/cu135/Library/CloudStorage/OneDrive-Personal/OneDrive_Documents/Work/Software/Research/nimlab/gpt_document_reader/openai_key.txt\"\n",
    "\n",
    "# Define the keys you want to consider (exclude 'References')\n",
    "keys_to_consider = [\"case_report\"]  # Add or remove keys as per your requirement\n",
    "\n",
    "# Define the type of article and questions\n",
    "article_type = \"case\""
   ]
  },
  {
   "cell_type": "code",
   "execution_count": 21,
   "metadata": {},
   "outputs": [],
   "source": [
    "test_mode=False"
   ]
  },
  {
   "cell_type": "code",
   "execution_count": 22,
   "metadata": {},
   "outputs": [
    {
     "name": "stderr",
     "output_type": "stream",
     "text": [
      "  0%|          | 0/41 [00:00<?, ?it/s]"
     ]
    },
    {
     "name": "stdout",
     "output_type": "stream",
     "text": [
      "Rate limit error: Rate limit reached for gpt-4 in organization org-Y2tKyCPFO6tIjtCtOVZ7c9tr on tokens per min. Limit: 10000 / min. Please try again in 6ms. Visit https://platform.openai.com/account/rate-limits to learn more.. Retrying Question No. 1 Attempt:(1)\n",
      "Rate limit error: Rate limit reached for gpt-4 in organization org-Y2tKyCPFO6tIjtCtOVZ7c9tr on tokens per min. Limit: 10000 / min. Please try again in 6ms. Visit https://platform.openai.com/account/rate-limits to learn more.. Retrying Question No. 2 Attempt:(1)\n",
      "Rate limit error: Rate limit reached for gpt-4 in organization org-Y2tKyCPFO6tIjtCtOVZ7c9tr on tokens per min. Limit: 10000 / min. Please try again in 6ms. Visit https://platform.openai.com/account/rate-limits to learn more.. Retrying Question No. 3 Attempt:(1)\n",
      "Rate limit error: Rate limit reached for gpt-4 in organization org-Y2tKyCPFO6tIjtCtOVZ7c9tr on tokens per min. Limit: 10000 / min. Please try again in 6ms. Visit https://platform.openai.com/account/rate-limits to learn more.. Retrying Question No. 4 Attempt:(1)\n",
      "Rate limit error: Rate limit reached for gpt-4 in organization org-Y2tKyCPFO6tIjtCtOVZ7c9tr on tokens per min. Limit: 10000 / min. Please try again in 6ms. Visit https://platform.openai.com/account/rate-limits to learn more.. Retrying Question No. 5 Attempt:(1)\n",
      "Rate limit error: Rate limit reached for gpt-4 in organization org-Y2tKyCPFO6tIjtCtOVZ7c9tr on tokens per min. Limit: 10000 / min. Please try again in 6ms. Visit https://platform.openai.com/account/rate-limits to learn more.. Retrying Question No. 6 Attempt:(1)\n",
      "Rate limit error: Rate limit reached for gpt-4 in organization org-Y2tKyCPFO6tIjtCtOVZ7c9tr on tokens per min. Limit: 10000 / min. Please try again in 6ms. Visit https://platform.openai.com/account/rate-limits to learn more.. Retrying Question No. 7 Attempt:(1)\n",
      "Rate limit error: Rate limit reached for gpt-4 in organization org-Y2tKyCPFO6tIjtCtOVZ7c9tr on tokens per min. Limit: 10000 / min. Please try again in 6ms. Visit https://platform.openai.com/account/rate-limits to learn more.. Retrying Question No. 8 Attempt:(1)\n",
      "Rate limit error: Rate limit reached for gpt-4 in organization org-Y2tKyCPFO6tIjtCtOVZ7c9tr on tokens per min. Limit: 10000 / min. Please try again in 6ms. Visit https://platform.openai.com/account/rate-limits to learn more.. Retrying Question No. 0 Attempt:(1)\n",
      "Rate limit error: Rate limit reached for gpt-4 in organization org-Y2tKyCPFO6tIjtCtOVZ7c9tr on tokens per min. Limit: 10000 / min. Please try again in 6ms. Visit https://platform.openai.com/account/rate-limits to learn more.. Retrying Question No. 0 Attempt:(2)\n",
      "Rate limit error: Rate limit reached for gpt-4 in organization org-Y2tKyCPFO6tIjtCtOVZ7c9tr on tokens per min. Limit: 10000 / min. Please try again in 6ms. Visit https://platform.openai.com/account/rate-limits to learn more.. Retrying Question No. 1 Attempt:(1)\n",
      "Rate limit error: Rate limit reached for gpt-4 in organization org-Y2tKyCPFO6tIjtCtOVZ7c9tr on tokens per min. Limit: 10000 / min. Please try again in 6ms. Visit https://platform.openai.com/account/rate-limits to learn more.. Retrying Question No. 2 Attempt:(1)\n",
      "Rate limit error: Rate limit reached for gpt-4 in organization org-Y2tKyCPFO6tIjtCtOVZ7c9tr on tokens per min. Limit: 10000 / min. Please try again in 6ms. Visit https://platform.openai.com/account/rate-limits to learn more.. Retrying Question No. 3 Attempt:(1)\n",
      "Rate limit error: Rate limit reached for gpt-4 in organization org-Y2tKyCPFO6tIjtCtOVZ7c9tr on tokens per min. Limit: 10000 / min. Please try again in 6ms. Visit https://platform.openai.com/account/rate-limits to learn more.. Retrying Question No. 4 Attempt:(1)\n",
      "Rate limit error: Rate limit reached for gpt-4 in organization org-Y2tKyCPFO6tIjtCtOVZ7c9tr on tokens per min. Limit: 10000 / min. Please try again in 6ms. Visit https://platform.openai.com/account/rate-limits to learn more.. Retrying Question No. 5 Attempt:(1)\n",
      "Rate limit error: Rate limit reached for gpt-4 in organization org-Y2tKyCPFO6tIjtCtOVZ7c9tr on tokens per min. Limit: 10000 / min. Please try again in 6ms. Visit https://platform.openai.com/account/rate-limits to learn more.. Retrying Question No. 6 Attempt:(1)\n",
      "Rate limit error: Rate limit reached for gpt-4 in organization org-Y2tKyCPFO6tIjtCtOVZ7c9tr on tokens per min. Limit: 10000 / min. Please try again in 6ms. Visit https://platform.openai.com/account/rate-limits to learn more.. Retrying Question No. 6 Attempt:(2)\n",
      "Rate limit error: Rate limit reached for gpt-4 in organization org-Y2tKyCPFO6tIjtCtOVZ7c9tr on tokens per min. Limit: 10000 / min. Please try again in 6ms. Visit https://platform.openai.com/account/rate-limits to learn more.. Retrying Question No. 7 Attempt:(1)\n",
      "Rate limit error: Rate limit reached for gpt-4 in organization org-Y2tKyCPFO6tIjtCtOVZ7c9tr on tokens per min. Limit: 10000 / min. Please try again in 6ms. Visit https://platform.openai.com/account/rate-limits to learn more.. Retrying Question No. 8 Attempt:(1)\n",
      "Rate limit error: Rate limit reached for gpt-4 in organization org-Y2tKyCPFO6tIjtCtOVZ7c9tr on tokens per min. Limit: 10000 / min. Please try again in 6ms. Visit https://platform.openai.com/account/rate-limits to learn more.. Retrying Question No. 1 Attempt:(1)\n",
      "Rate limit error: Rate limit reached for gpt-4 in organization org-Y2tKyCPFO6tIjtCtOVZ7c9tr on tokens per min. Limit: 10000 / min. Please try again in 6ms. Visit https://platform.openai.com/account/rate-limits to learn more.. Retrying Question No. 3 Attempt:(1)\n",
      "Rate limit error: Rate limit reached for gpt-4 in organization org-Y2tKyCPFO6tIjtCtOVZ7c9tr on tokens per min. Limit: 10000 / min. Please try again in 6ms. Visit https://platform.openai.com/account/rate-limits to learn more.. Retrying Question No. 6 Attempt:(1)\n"
     ]
    },
    {
     "name": "stderr",
     "output_type": "stream",
     "text": [
      "  2%|▏         | 1/41 [11:51<7:54:35, 711.88s/it]"
     ]
    },
    {
     "name": "stdout",
     "output_type": "stream",
     "text": [
      "Rate limit error: Rate limit reached for gpt-4 in organization org-Y2tKyCPFO6tIjtCtOVZ7c9tr on tokens per min. Limit: 10000 / min. Please try again in 6ms. Visit https://platform.openai.com/account/rate-limits to learn more.. Retrying Question No. 0 Attempt:(1)\n",
      "Rate limit error: Rate limit reached for gpt-4 in organization org-Y2tKyCPFO6tIjtCtOVZ7c9tr on tokens per min. Limit: 10000 / min. Please try again in 6ms. Visit https://platform.openai.com/account/rate-limits to learn more.. Retrying Question No. 0 Attempt:(2)\n",
      "Rate limit error: Rate limit reached for gpt-4 in organization org-Y2tKyCPFO6tIjtCtOVZ7c9tr on tokens per min. Limit: 10000 / min. Please try again in 6ms. Visit https://platform.openai.com/account/rate-limits to learn more.. Retrying Question No. 1 Attempt:(1)\n",
      "Rate limit error: Rate limit reached for gpt-4 in organization org-Y2tKyCPFO6tIjtCtOVZ7c9tr on tokens per min. Limit: 10000 / min. Please try again in 6ms. Visit https://platform.openai.com/account/rate-limits to learn more.. Retrying Question No. 2 Attempt:(1)\n",
      "Rate limit error: Rate limit reached for gpt-4 in organization org-Y2tKyCPFO6tIjtCtOVZ7c9tr on tokens per min. Limit: 10000 / min. Please try again in 6ms. Visit https://platform.openai.com/account/rate-limits to learn more.. Retrying Question No. 3 Attempt:(1)\n",
      "Rate limit error: Rate limit reached for gpt-4 in organization org-Y2tKyCPFO6tIjtCtOVZ7c9tr on tokens per min. Limit: 10000 / min. Please try again in 6ms. Visit https://platform.openai.com/account/rate-limits to learn more.. Retrying Question No. 4 Attempt:(1)\n",
      "Rate limit error: Rate limit reached for gpt-4 in organization org-Y2tKyCPFO6tIjtCtOVZ7c9tr on tokens per min. Limit: 10000 / min. Please try again in 6ms. Visit https://platform.openai.com/account/rate-limits to learn more.. Retrying Question No. 5 Attempt:(1)\n",
      "Rate limit error: Rate limit reached for gpt-4 in organization org-Y2tKyCPFO6tIjtCtOVZ7c9tr on tokens per min. Limit: 10000 / min. Please try again in 6ms. Visit https://platform.openai.com/account/rate-limits to learn more.. Retrying Question No. 6 Attempt:(1)\n",
      "Rate limit error: Rate limit reached for gpt-4 in organization org-Y2tKyCPFO6tIjtCtOVZ7c9tr on tokens per min. Limit: 10000 / min. Please try again in 6ms. Visit https://platform.openai.com/account/rate-limits to learn more.. Retrying Question No. 7 Attempt:(1)\n",
      "Rate limit error: Rate limit reached for gpt-4 in organization org-Y2tKyCPFO6tIjtCtOVZ7c9tr on tokens per min. Limit: 10000 / min. Please try again in 6ms. Visit https://platform.openai.com/account/rate-limits to learn more.. Retrying Question No. 7 Attempt:(2)\n",
      "Rate limit error: Rate limit reached for gpt-4 in organization org-Y2tKyCPFO6tIjtCtOVZ7c9tr on tokens per min. Limit: 10000 / min. Please try again in 6ms. Visit https://platform.openai.com/account/rate-limits to learn more.. Retrying Question No. 8 Attempt:(1)\n",
      "Rate limit error: Rate limit reached for gpt-4 in organization org-Y2tKyCPFO6tIjtCtOVZ7c9tr on tokens per min. Limit: 10000 / min. Please try again in 6ms. Visit https://platform.openai.com/account/rate-limits to learn more.. Retrying Question No. 1 Attempt:(1)\n",
      "Rate limit error: Rate limit reached for gpt-4 in organization org-Y2tKyCPFO6tIjtCtOVZ7c9tr on tokens per min. Limit: 10000 / min. Please try again in 6ms. Visit https://platform.openai.com/account/rate-limits to learn more.. Retrying Question No. 2 Attempt:(1)\n",
      "Rate limit error: Rate limit reached for gpt-4 in organization org-Y2tKyCPFO6tIjtCtOVZ7c9tr on tokens per min. Limit: 10000 / min. Please try again in 6ms. Visit https://platform.openai.com/account/rate-limits to learn more.. Retrying Question No. 4 Attempt:(1)\n",
      "Rate limit error: Rate limit reached for gpt-4 in organization org-Y2tKyCPFO6tIjtCtOVZ7c9tr on tokens per min. Limit: 10000 / min. Please try again in 6ms. Visit https://platform.openai.com/account/rate-limits to learn more.. Retrying Question No. 6 Attempt:(1)\n",
      "Rate limit error: Rate limit reached for gpt-4 in organization org-Y2tKyCPFO6tIjtCtOVZ7c9tr on tokens per min. Limit: 10000 / min. Please try again in 6ms. Visit https://platform.openai.com/account/rate-limits to learn more.. Retrying Question No. 7 Attempt:(1)\n"
     ]
    },
    {
     "name": "stderr",
     "output_type": "stream",
     "text": [
      "  5%|▍         | 2/41 [20:16<6:23:31, 590.04s/it]"
     ]
    },
    {
     "name": "stdout",
     "output_type": "stream",
     "text": [
      "Rate limit error: Rate limit reached for gpt-4 in organization org-Y2tKyCPFO6tIjtCtOVZ7c9tr on tokens per min. Limit: 10000 / min. Please try again in 6ms. Visit https://platform.openai.com/account/rate-limits to learn more.. Retrying Question No. 0 Attempt:(1)\n",
      "Rate limit error: Rate limit reached for gpt-4 in organization org-Y2tKyCPFO6tIjtCtOVZ7c9tr on tokens per min. Limit: 10000 / min. Please try again in 6ms. Visit https://platform.openai.com/account/rate-limits to learn more.. Retrying Question No. 1 Attempt:(1)\n",
      "Rate limit error: Rate limit reached for gpt-4 in organization org-Y2tKyCPFO6tIjtCtOVZ7c9tr on tokens per min. Limit: 10000 / min. Please try again in 6ms. Visit https://platform.openai.com/account/rate-limits to learn more.. Retrying Question No. 2 Attempt:(1)\n",
      "Rate limit error: Rate limit reached for gpt-4 in organization org-Y2tKyCPFO6tIjtCtOVZ7c9tr on tokens per min. Limit: 10000 / min. Please try again in 6ms. Visit https://platform.openai.com/account/rate-limits to learn more.. Retrying Question No. 4 Attempt:(1)\n",
      "Rate limit error: Rate limit reached for gpt-4 in organization org-Y2tKyCPFO6tIjtCtOVZ7c9tr on tokens per min. Limit: 10000 / min. Please try again in 6ms. Visit https://platform.openai.com/account/rate-limits to learn more.. Retrying Question No. 5 Attempt:(1)\n",
      "Rate limit error: Rate limit reached for gpt-4 in organization org-Y2tKyCPFO6tIjtCtOVZ7c9tr on tokens per min. Limit: 10000 / min. Please try again in 6ms. Visit https://platform.openai.com/account/rate-limits to learn more.. Retrying Question No. 6 Attempt:(1)\n",
      "Rate limit error: Rate limit reached for gpt-4 in organization org-Y2tKyCPFO6tIjtCtOVZ7c9tr on tokens per min. Limit: 10000 / min. Please try again in 6ms. Visit https://platform.openai.com/account/rate-limits to learn more.. Retrying Question No. 8 Attempt:(1)\n"
     ]
    },
    {
     "name": "stderr",
     "output_type": "stream",
     "text": [
      "  7%|▋         | 3/41 [24:01<4:27:57, 423.10s/it]"
     ]
    },
    {
     "name": "stdout",
     "output_type": "stream",
     "text": [
      "Rate limit error: Rate limit reached for gpt-4 in organization org-Y2tKyCPFO6tIjtCtOVZ7c9tr on tokens per min. Limit: 10000 / min. Please try again in 6ms. Visit https://platform.openai.com/account/rate-limits to learn more.. Retrying Question No. 0 Attempt:(1)\n",
      "Rate limit error: Rate limit reached for gpt-4 in organization org-Y2tKyCPFO6tIjtCtOVZ7c9tr on tokens per min. Limit: 10000 / min. Please try again in 6ms. Visit https://platform.openai.com/account/rate-limits to learn more.. Retrying Question No. 1 Attempt:(1)\n",
      "Rate limit error: Rate limit reached for gpt-4 in organization org-Y2tKyCPFO6tIjtCtOVZ7c9tr on tokens per min. Limit: 10000 / min. Please try again in 6ms. Visit https://platform.openai.com/account/rate-limits to learn more.. Retrying Question No. 2 Attempt:(1)\n",
      "Rate limit error: Rate limit reached for gpt-4 in organization org-Y2tKyCPFO6tIjtCtOVZ7c9tr on tokens per min. Limit: 10000 / min. Please try again in 6ms. Visit https://platform.openai.com/account/rate-limits to learn more.. Retrying Question No. 3 Attempt:(1)\n",
      "Rate limit error: Rate limit reached for gpt-4 in organization org-Y2tKyCPFO6tIjtCtOVZ7c9tr on tokens per min. Limit: 10000 / min. Please try again in 6ms. Visit https://platform.openai.com/account/rate-limits to learn more.. Retrying Question No. 5 Attempt:(1)\n",
      "Rate limit error: Rate limit reached for gpt-4 in organization org-Y2tKyCPFO6tIjtCtOVZ7c9tr on tokens per min. Limit: 10000 / min. Please try again in 6ms. Visit https://platform.openai.com/account/rate-limits to learn more.. Retrying Question No. 6 Attempt:(1)\n",
      "Rate limit error: Rate limit reached for gpt-4 in organization org-Y2tKyCPFO6tIjtCtOVZ7c9tr on tokens per min. Limit: 10000 / min. Please try again in 6ms. Visit https://platform.openai.com/account/rate-limits to learn more.. Retrying Question No. 7 Attempt:(1)\n",
      "Rate limit error: Rate limit reached for gpt-4 in organization org-Y2tKyCPFO6tIjtCtOVZ7c9tr on tokens per min. Limit: 10000 / min. Please try again in 6ms. Visit https://platform.openai.com/account/rate-limits to learn more.. Retrying Question No. 8 Attempt:(1)\n"
     ]
    },
    {
     "name": "stderr",
     "output_type": "stream",
     "text": [
      " 10%|▉         | 4/41 [28:11<3:38:51, 354.91s/it]"
     ]
    },
    {
     "name": "stdout",
     "output_type": "stream",
     "text": [
      "Rate limit error: Rate limit reached for gpt-4 in organization org-Y2tKyCPFO6tIjtCtOVZ7c9tr on tokens per min. Limit: 10000 / min. Please try again in 6ms. Visit https://platform.openai.com/account/rate-limits to learn more.. Retrying Question No. 0 Attempt:(1)\n",
      "Rate limit error: Rate limit reached for gpt-4 in organization org-Y2tKyCPFO6tIjtCtOVZ7c9tr on tokens per min. Limit: 10000 / min. Please try again in 6ms. Visit https://platform.openai.com/account/rate-limits to learn more.. Retrying Question No. 1 Attempt:(1)\n",
      "Rate limit error: Rate limit reached for gpt-4 in organization org-Y2tKyCPFO6tIjtCtOVZ7c9tr on tokens per min. Limit: 10000 / min. Please try again in 6ms. Visit https://platform.openai.com/account/rate-limits to learn more.. Retrying Question No. 2 Attempt:(1)\n",
      "Rate limit error: Rate limit reached for gpt-4 in organization org-Y2tKyCPFO6tIjtCtOVZ7c9tr on tokens per min. Limit: 10000 / min. Please try again in 6ms. Visit https://platform.openai.com/account/rate-limits to learn more.. Retrying Question No. 3 Attempt:(1)\n",
      "Rate limit error: Rate limit reached for gpt-4 in organization org-Y2tKyCPFO6tIjtCtOVZ7c9tr on tokens per min. Limit: 10000 / min. Please try again in 6ms. Visit https://platform.openai.com/account/rate-limits to learn more.. Retrying Question No. 4 Attempt:(1)\n",
      "Rate limit error: Rate limit reached for gpt-4 in organization org-Y2tKyCPFO6tIjtCtOVZ7c9tr on tokens per min. Limit: 10000 / min. Please try again in 6ms. Visit https://platform.openai.com/account/rate-limits to learn more.. Retrying Question No. 5 Attempt:(1)\n",
      "Rate limit error: Rate limit reached for gpt-4 in organization org-Y2tKyCPFO6tIjtCtOVZ7c9tr on tokens per min. Limit: 10000 / min. Please try again in 6ms. Visit https://platform.openai.com/account/rate-limits to learn more.. Retrying Question No. 6 Attempt:(1)\n",
      "Rate limit error: Rate limit reached for gpt-4 in organization org-Y2tKyCPFO6tIjtCtOVZ7c9tr on tokens per min. Limit: 10000 / min. Please try again in 6ms. Visit https://platform.openai.com/account/rate-limits to learn more.. Retrying Question No. 6 Attempt:(2)\n",
      "Rate limit error: Rate limit reached for gpt-4 in organization org-Y2tKyCPFO6tIjtCtOVZ7c9tr on tokens per min. Limit: 10000 / min. Please try again in 6ms. Visit https://platform.openai.com/account/rate-limits to learn more.. Retrying Question No. 7 Attempt:(1)\n",
      "Rate limit error: Rate limit reached for gpt-4 in organization org-Y2tKyCPFO6tIjtCtOVZ7c9tr on tokens per min. Limit: 10000 / min. Please try again in 6ms. Visit https://platform.openai.com/account/rate-limits to learn more.. Retrying Question No. 8 Attempt:(1)\n"
     ]
    },
    {
     "name": "stderr",
     "output_type": "stream",
     "text": [
      " 12%|█▏        | 5/41 [33:25<3:24:03, 340.10s/it]"
     ]
    },
    {
     "name": "stdout",
     "output_type": "stream",
     "text": [
      "Rate limit error: Rate limit reached for gpt-4 in organization org-Y2tKyCPFO6tIjtCtOVZ7c9tr on tokens per min. Limit: 10000 / min. Please try again in 6ms. Visit https://platform.openai.com/account/rate-limits to learn more.. Retrying Question No. 0 Attempt:(1)\n",
      "Rate limit error: Rate limit reached for gpt-4 in organization org-Y2tKyCPFO6tIjtCtOVZ7c9tr on tokens per min. Limit: 10000 / min. Please try again in 6ms. Visit https://platform.openai.com/account/rate-limits to learn more.. Retrying Question No. 1 Attempt:(1)\n",
      "Rate limit error: Rate limit reached for gpt-4 in organization org-Y2tKyCPFO6tIjtCtOVZ7c9tr on tokens per min. Limit: 10000 / min. Please try again in 6ms. Visit https://platform.openai.com/account/rate-limits to learn more.. Retrying Question No. 2 Attempt:(1)\n",
      "Rate limit error: Rate limit reached for gpt-4 in organization org-Y2tKyCPFO6tIjtCtOVZ7c9tr on tokens per min. Limit: 10000 / min. Please try again in 6ms. Visit https://platform.openai.com/account/rate-limits to learn more.. Retrying Question No. 3 Attempt:(1)\n",
      "Rate limit error: Rate limit reached for gpt-4 in organization org-Y2tKyCPFO6tIjtCtOVZ7c9tr on tokens per min. Limit: 10000 / min. Please try again in 6ms. Visit https://platform.openai.com/account/rate-limits to learn more.. Retrying Question No. 4 Attempt:(1)\n",
      "Rate limit error: Rate limit reached for gpt-4 in organization org-Y2tKyCPFO6tIjtCtOVZ7c9tr on tokens per min. Limit: 10000 / min. Please try again in 6ms. Visit https://platform.openai.com/account/rate-limits to learn more.. Retrying Question No. 5 Attempt:(1)\n",
      "Rate limit error: Rate limit reached for gpt-4 in organization org-Y2tKyCPFO6tIjtCtOVZ7c9tr on tokens per min. Limit: 10000 / min. Please try again in 6ms. Visit https://platform.openai.com/account/rate-limits to learn more.. Retrying Question No. 6 Attempt:(1)\n",
      "Rate limit error: Rate limit reached for gpt-4 in organization org-Y2tKyCPFO6tIjtCtOVZ7c9tr on tokens per min. Limit: 10000 / min. Please try again in 6ms. Visit https://platform.openai.com/account/rate-limits to learn more.. Retrying Question No. 7 Attempt:(1)\n",
      "Rate limit error: Rate limit reached for gpt-4 in organization org-Y2tKyCPFO6tIjtCtOVZ7c9tr on tokens per min. Limit: 10000 / min. Please try again in 6ms. Visit https://platform.openai.com/account/rate-limits to learn more.. Retrying Question No. 8 Attempt:(1)\n",
      "Rate limit error: Rate limit reached for gpt-4 in organization org-Y2tKyCPFO6tIjtCtOVZ7c9tr on tokens per min. Limit: 10000 / min. Please try again in 6ms. Visit https://platform.openai.com/account/rate-limits to learn more.. Retrying Question No. 8 Attempt:(2)\n",
      "Rate limit error: Rate limit reached for gpt-4 in organization org-Y2tKyCPFO6tIjtCtOVZ7c9tr on tokens per min. Limit: 10000 / min. Please try again in 6ms. Visit https://platform.openai.com/account/rate-limits to learn more.. Retrying Question No. 0 Attempt:(1)\n",
      "Rate limit error: Rate limit reached for gpt-4 in organization org-Y2tKyCPFO6tIjtCtOVZ7c9tr on tokens per min. Limit: 10000 / min. Please try again in 6ms. Visit https://platform.openai.com/account/rate-limits to learn more.. Retrying Question No. 1 Attempt:(1)\n",
      "Rate limit error: Rate limit reached for gpt-4 in organization org-Y2tKyCPFO6tIjtCtOVZ7c9tr on tokens per min. Limit: 10000 / min. Please try again in 6ms. Visit https://platform.openai.com/account/rate-limits to learn more.. Retrying Question No. 2 Attempt:(1)\n",
      "Rate limit error: Rate limit reached for gpt-4 in organization org-Y2tKyCPFO6tIjtCtOVZ7c9tr on tokens per min. Limit: 10000 / min. Please try again in 6ms. Visit https://platform.openai.com/account/rate-limits to learn more.. Retrying Question No. 3 Attempt:(1)\n",
      "Rate limit error: Rate limit reached for gpt-4 in organization org-Y2tKyCPFO6tIjtCtOVZ7c9tr on tokens per min. Limit: 10000 / min. Please try again in 6ms. Visit https://platform.openai.com/account/rate-limits to learn more.. Retrying Question No. 4 Attempt:(1)\n",
      "Rate limit error: Rate limit reached for gpt-4 in organization org-Y2tKyCPFO6tIjtCtOVZ7c9tr on tokens per min. Limit: 10000 / min. Please try again in 6ms. Visit https://platform.openai.com/account/rate-limits to learn more.. Retrying Question No. 5 Attempt:(1)\n",
      "Rate limit error: Rate limit reached for gpt-4 in organization org-Y2tKyCPFO6tIjtCtOVZ7c9tr on tokens per min. Limit: 10000 / min. Please try again in 6ms. Visit https://platform.openai.com/account/rate-limits to learn more.. Retrying Question No. 6 Attempt:(1)\n",
      "Rate limit error: Rate limit reached for gpt-4 in organization org-Y2tKyCPFO6tIjtCtOVZ7c9tr on tokens per min. Limit: 10000 / min. Please try again in 6ms. Visit https://platform.openai.com/account/rate-limits to learn more.. Retrying Question No. 7 Attempt:(1)\n",
      "Rate limit error: Rate limit reached for gpt-4 in organization org-Y2tKyCPFO6tIjtCtOVZ7c9tr on tokens per min. Limit: 10000 / min. Please try again in 6ms. Visit https://platform.openai.com/account/rate-limits to learn more.. Retrying Question No. 8 Attempt:(1)\n",
      "Rate limit error: Rate limit reached for gpt-4 in organization org-Y2tKyCPFO6tIjtCtOVZ7c9tr on tokens per min. Limit: 10000 / min. Please try again in 6ms. Visit https://platform.openai.com/account/rate-limits to learn more.. Retrying Question No. 2 Attempt:(1)\n",
      "Rate limit error: Rate limit reached for gpt-4 in organization org-Y2tKyCPFO6tIjtCtOVZ7c9tr on tokens per min. Limit: 10000 / min. Please try again in 6ms. Visit https://platform.openai.com/account/rate-limits to learn more.. Retrying Question No. 6 Attempt:(1)\n"
     ]
    },
    {
     "name": "stderr",
     "output_type": "stream",
     "text": [
      " 15%|█▍        | 6/41 [44:32<4:23:21, 451.48s/it]"
     ]
    },
    {
     "name": "stdout",
     "output_type": "stream",
     "text": [
      "Rate limit error: Rate limit reached for gpt-4 in organization org-Y2tKyCPFO6tIjtCtOVZ7c9tr on tokens per min. Limit: 10000 / min. Please try again in 6ms. Visit https://platform.openai.com/account/rate-limits to learn more.. Retrying Question No. 0 Attempt:(1)\n",
      "Rate limit error: Rate limit reached for gpt-4 in organization org-Y2tKyCPFO6tIjtCtOVZ7c9tr on tokens per min. Limit: 10000 / min. Please try again in 6ms. Visit https://platform.openai.com/account/rate-limits to learn more.. Retrying Question No. 1 Attempt:(1)\n",
      "Rate limit error: Rate limit reached for gpt-4 in organization org-Y2tKyCPFO6tIjtCtOVZ7c9tr on tokens per min. Limit: 10000 / min. Please try again in 6ms. Visit https://platform.openai.com/account/rate-limits to learn more.. Retrying Question No. 2 Attempt:(1)\n",
      "Rate limit error: Rate limit reached for gpt-4 in organization org-Y2tKyCPFO6tIjtCtOVZ7c9tr on tokens per min. Limit: 10000 / min. Please try again in 6ms. Visit https://platform.openai.com/account/rate-limits to learn more.. Retrying Question No. 3 Attempt:(1)\n",
      "Rate limit error: Rate limit reached for gpt-4 in organization org-Y2tKyCPFO6tIjtCtOVZ7c9tr on tokens per min. Limit: 10000 / min. Please try again in 6ms. Visit https://platform.openai.com/account/rate-limits to learn more.. Retrying Question No. 4 Attempt:(1)\n",
      "Rate limit error: Rate limit reached for gpt-4 in organization org-Y2tKyCPFO6tIjtCtOVZ7c9tr on tokens per min. Limit: 10000 / min. Please try again in 6ms. Visit https://platform.openai.com/account/rate-limits to learn more.. Retrying Question No. 5 Attempt:(1)\n",
      "Rate limit error: Rate limit reached for gpt-4 in organization org-Y2tKyCPFO6tIjtCtOVZ7c9tr on tokens per min. Limit: 10000 / min. Please try again in 6ms. Visit https://platform.openai.com/account/rate-limits to learn more.. Retrying Question No. 5 Attempt:(2)\n",
      "Rate limit error: Rate limit reached for gpt-4 in organization org-Y2tKyCPFO6tIjtCtOVZ7c9tr on tokens per min. Limit: 10000 / min. Please try again in 6ms. Visit https://platform.openai.com/account/rate-limits to learn more.. Retrying Question No. 6 Attempt:(1)\n",
      "Rate limit error: Rate limit reached for gpt-4 in organization org-Y2tKyCPFO6tIjtCtOVZ7c9tr on tokens per min. Limit: 10000 / min. Please try again in 6ms. Visit https://platform.openai.com/account/rate-limits to learn more.. Retrying Question No. 7 Attempt:(1)\n",
      "Rate limit error: Rate limit reached for gpt-4 in organization org-Y2tKyCPFO6tIjtCtOVZ7c9tr on tokens per min. Limit: 10000 / min. Please try again in 6ms. Visit https://platform.openai.com/account/rate-limits to learn more.. Retrying Question No. 8 Attempt:(1)\n",
      "Rate limit error: Rate limit reached for gpt-4 in organization org-Y2tKyCPFO6tIjtCtOVZ7c9tr on tokens per min. Limit: 10000 / min. Please try again in 6ms. Visit https://platform.openai.com/account/rate-limits to learn more.. Retrying Question No. 0 Attempt:(1)\n",
      "Rate limit error: Rate limit reached for gpt-4 in organization org-Y2tKyCPFO6tIjtCtOVZ7c9tr on tokens per min. Limit: 10000 / min. Please try again in 6ms. Visit https://platform.openai.com/account/rate-limits to learn more.. Retrying Question No. 1 Attempt:(1)\n",
      "Rate limit error: Rate limit reached for gpt-4 in organization org-Y2tKyCPFO6tIjtCtOVZ7c9tr on tokens per min. Limit: 10000 / min. Please try again in 6ms. Visit https://platform.openai.com/account/rate-limits to learn more.. Retrying Question No. 3 Attempt:(1)\n",
      "Rate limit error: Rate limit reached for gpt-4 in organization org-Y2tKyCPFO6tIjtCtOVZ7c9tr on tokens per min. Limit: 10000 / min. Please try again in 6ms. Visit https://platform.openai.com/account/rate-limits to learn more.. Retrying Question No. 4 Attempt:(1)\n",
      "Rate limit error: Rate limit reached for gpt-4 in organization org-Y2tKyCPFO6tIjtCtOVZ7c9tr on tokens per min. Limit: 10000 / min. Please try again in 6ms. Visit https://platform.openai.com/account/rate-limits to learn more.. Retrying Question No. 5 Attempt:(1)\n",
      "Rate limit error: Rate limit reached for gpt-4 in organization org-Y2tKyCPFO6tIjtCtOVZ7c9tr on tokens per min. Limit: 10000 / min. Please try again in 6ms. Visit https://platform.openai.com/account/rate-limits to learn more.. Retrying Question No. 7 Attempt:(1)\n",
      "Rate limit error: Rate limit reached for gpt-4 in organization org-Y2tKyCPFO6tIjtCtOVZ7c9tr on tokens per min. Limit: 10000 / min. Please try again in 6ms. Visit https://platform.openai.com/account/rate-limits to learn more.. Retrying Question No. 8 Attempt:(1)\n"
     ]
    },
    {
     "name": "stderr",
     "output_type": "stream",
     "text": [
      " 17%|█▋        | 7/41 [53:31<4:31:57, 479.93s/it]"
     ]
    },
    {
     "name": "stdout",
     "output_type": "stream",
     "text": [
      "Rate limit error: Rate limit reached for gpt-4 in organization org-Y2tKyCPFO6tIjtCtOVZ7c9tr on tokens per min. Limit: 10000 / min. Please try again in 6ms. Visit https://platform.openai.com/account/rate-limits to learn more.. Retrying Question No. 0 Attempt:(1)\n",
      "Rate limit error: Rate limit reached for gpt-4 in organization org-Y2tKyCPFO6tIjtCtOVZ7c9tr on tokens per min. Limit: 10000 / min. Please try again in 6ms. Visit https://platform.openai.com/account/rate-limits to learn more.. Retrying Question No. 1 Attempt:(1)\n",
      "Rate limit error: Rate limit reached for gpt-4 in organization org-Y2tKyCPFO6tIjtCtOVZ7c9tr on tokens per min. Limit: 10000 / min. Please try again in 6ms. Visit https://platform.openai.com/account/rate-limits to learn more.. Retrying Question No. 2 Attempt:(1)\n",
      "Rate limit error: Rate limit reached for gpt-4 in organization org-Y2tKyCPFO6tIjtCtOVZ7c9tr on tokens per min. Limit: 10000 / min. Please try again in 6ms. Visit https://platform.openai.com/account/rate-limits to learn more.. Retrying Question No. 3 Attempt:(1)\n",
      "Rate limit error: Rate limit reached for gpt-4 in organization org-Y2tKyCPFO6tIjtCtOVZ7c9tr on tokens per min. Limit: 10000 / min. Please try again in 6ms. Visit https://platform.openai.com/account/rate-limits to learn more.. Retrying Question No. 4 Attempt:(1)\n",
      "Rate limit error: Rate limit reached for gpt-4 in organization org-Y2tKyCPFO6tIjtCtOVZ7c9tr on tokens per min. Limit: 10000 / min. Please try again in 6ms. Visit https://platform.openai.com/account/rate-limits to learn more.. Retrying Question No. 5 Attempt:(1)\n",
      "Rate limit error: Rate limit reached for gpt-4 in organization org-Y2tKyCPFO6tIjtCtOVZ7c9tr on tokens per min. Limit: 10000 / min. Please try again in 6ms. Visit https://platform.openai.com/account/rate-limits to learn more.. Retrying Question No. 6 Attempt:(1)\n",
      "Rate limit error: Rate limit reached for gpt-4 in organization org-Y2tKyCPFO6tIjtCtOVZ7c9tr on tokens per min. Limit: 10000 / min. Please try again in 6ms. Visit https://platform.openai.com/account/rate-limits to learn more.. Retrying Question No. 7 Attempt:(1)\n",
      "Rate limit error: Rate limit reached for gpt-4 in organization org-Y2tKyCPFO6tIjtCtOVZ7c9tr on tokens per min. Limit: 10000 / min. Please try again in 6ms. Visit https://platform.openai.com/account/rate-limits to learn more.. Retrying Question No. 8 Attempt:(1)\n",
      "Rate limit error: Rate limit reached for gpt-4 in organization org-Y2tKyCPFO6tIjtCtOVZ7c9tr on tokens per min. Limit: 10000 / min. Please try again in 6ms. Visit https://platform.openai.com/account/rate-limits to learn more.. Retrying Question No. 0 Attempt:(1)\n",
      "Rate limit error: Rate limit reached for gpt-4 in organization org-Y2tKyCPFO6tIjtCtOVZ7c9tr on tokens per min. Limit: 10000 / min. Please try again in 6ms. Visit https://platform.openai.com/account/rate-limits to learn more.. Retrying Question No. 1 Attempt:(1)\n",
      "Rate limit error: Rate limit reached for gpt-4 in organization org-Y2tKyCPFO6tIjtCtOVZ7c9tr on tokens per min. Limit: 10000 / min. Please try again in 6ms. Visit https://platform.openai.com/account/rate-limits to learn more.. Retrying Question No. 2 Attempt:(1)\n",
      "Rate limit error: Rate limit reached for gpt-4 in organization org-Y2tKyCPFO6tIjtCtOVZ7c9tr on tokens per min. Limit: 10000 / min. Please try again in 6ms. Visit https://platform.openai.com/account/rate-limits to learn more.. Retrying Question No. 3 Attempt:(1)\n",
      "Rate limit error: Rate limit reached for gpt-4 in organization org-Y2tKyCPFO6tIjtCtOVZ7c9tr on tokens per min. Limit: 10000 / min. Please try again in 6ms. Visit https://platform.openai.com/account/rate-limits to learn more.. Retrying Question No. 4 Attempt:(1)\n",
      "Rate limit error: Rate limit reached for gpt-4 in organization org-Y2tKyCPFO6tIjtCtOVZ7c9tr on tokens per min. Limit: 10000 / min. Please try again in 6ms. Visit https://platform.openai.com/account/rate-limits to learn more.. Retrying Question No. 5 Attempt:(1)\n",
      "Rate limit error: Rate limit reached for gpt-4 in organization org-Y2tKyCPFO6tIjtCtOVZ7c9tr on tokens per min. Limit: 10000 / min. Please try again in 6ms. Visit https://platform.openai.com/account/rate-limits to learn more.. Retrying Question No. 6 Attempt:(1)\n",
      "Rate limit error: Rate limit reached for gpt-4 in organization org-Y2tKyCPFO6tIjtCtOVZ7c9tr on tokens per min. Limit: 10000 / min. Please try again in 6ms. Visit https://platform.openai.com/account/rate-limits to learn more.. Retrying Question No. 7 Attempt:(1)\n"
     ]
    },
    {
     "name": "stderr",
     "output_type": "stream",
     "text": [
      " 20%|█▉        | 8/41 [1:02:33<4:34:48, 499.65s/it]"
     ]
    },
    {
     "name": "stdout",
     "output_type": "stream",
     "text": [
      "Rate limit error: Rate limit reached for gpt-4 in organization org-Y2tKyCPFO6tIjtCtOVZ7c9tr on tokens per min. Limit: 10000 / min. Please try again in 6ms. Visit https://platform.openai.com/account/rate-limits to learn more.. Retrying Question No. 0 Attempt:(1)\n",
      "Rate limit error: Rate limit reached for gpt-4 in organization org-Y2tKyCPFO6tIjtCtOVZ7c9tr on tokens per min. Limit: 10000 / min. Please try again in 6ms. Visit https://platform.openai.com/account/rate-limits to learn more.. Retrying Question No. 0 Attempt:(2)\n",
      "Rate limit error: Rate limit reached for gpt-4 in organization org-Y2tKyCPFO6tIjtCtOVZ7c9tr on tokens per min. Limit: 10000 / min. Please try again in 6ms. Visit https://platform.openai.com/account/rate-limits to learn more.. Retrying Question No. 1 Attempt:(1)\n",
      "Rate limit error: Rate limit reached for gpt-4 in organization org-Y2tKyCPFO6tIjtCtOVZ7c9tr on tokens per min. Limit: 10000 / min. Please try again in 6ms. Visit https://platform.openai.com/account/rate-limits to learn more.. Retrying Question No. 2 Attempt:(1)\n",
      "Rate limit error: Rate limit reached for gpt-4 in organization org-Y2tKyCPFO6tIjtCtOVZ7c9tr on tokens per min. Limit: 10000 / min. Please try again in 6ms. Visit https://platform.openai.com/account/rate-limits to learn more.. Retrying Question No. 3 Attempt:(1)\n",
      "Rate limit error: Rate limit reached for gpt-4 in organization org-Y2tKyCPFO6tIjtCtOVZ7c9tr on tokens per min. Limit: 10000 / min. Please try again in 6ms. Visit https://platform.openai.com/account/rate-limits to learn more.. Retrying Question No. 4 Attempt:(1)\n",
      "Rate limit error: Rate limit reached for gpt-4 in organization org-Y2tKyCPFO6tIjtCtOVZ7c9tr on tokens per min. Limit: 10000 / min. Please try again in 6ms. Visit https://platform.openai.com/account/rate-limits to learn more.. Retrying Question No. 5 Attempt:(1)\n",
      "Rate limit error: Rate limit reached for gpt-4 in organization org-Y2tKyCPFO6tIjtCtOVZ7c9tr on tokens per min. Limit: 10000 / min. Please try again in 6ms. Visit https://platform.openai.com/account/rate-limits to learn more.. Retrying Question No. 6 Attempt:(1)\n",
      "Rate limit error: Rate limit reached for gpt-4 in organization org-Y2tKyCPFO6tIjtCtOVZ7c9tr on tokens per min. Limit: 10000 / min. Please try again in 6ms. Visit https://platform.openai.com/account/rate-limits to learn more.. Retrying Question No. 6 Attempt:(2)\n",
      "Rate limit error: Rate limit reached for gpt-4 in organization org-Y2tKyCPFO6tIjtCtOVZ7c9tr on tokens per min. Limit: 10000 / min. Please try again in 6ms. Visit https://platform.openai.com/account/rate-limits to learn more.. Retrying Question No. 7 Attempt:(1)\n",
      "Rate limit error: Rate limit reached for gpt-4 in organization org-Y2tKyCPFO6tIjtCtOVZ7c9tr on tokens per min. Limit: 10000 / min. Please try again in 6ms. Visit https://platform.openai.com/account/rate-limits to learn more.. Retrying Question No. 8 Attempt:(1)\n",
      "Rate limit error: Rate limit reached for gpt-4 in organization org-Y2tKyCPFO6tIjtCtOVZ7c9tr on tokens per min. Limit: 10000 / min. Please try again in 6ms. Visit https://platform.openai.com/account/rate-limits to learn more.. Retrying Question No. 0 Attempt:(1)\n",
      "Rate limit error: Rate limit reached for gpt-4 in organization org-Y2tKyCPFO6tIjtCtOVZ7c9tr on tokens per min. Limit: 10000 / min. Please try again in 6ms. Visit https://platform.openai.com/account/rate-limits to learn more.. Retrying Question No. 1 Attempt:(1)\n",
      "Rate limit error: Rate limit reached for gpt-4 in organization org-Y2tKyCPFO6tIjtCtOVZ7c9tr on tokens per min. Limit: 10000 / min. Please try again in 6ms. Visit https://platform.openai.com/account/rate-limits to learn more.. Retrying Question No. 2 Attempt:(1)\n",
      "Rate limit error: Rate limit reached for gpt-4 in organization org-Y2tKyCPFO6tIjtCtOVZ7c9tr on tokens per min. Limit: 10000 / min. Please try again in 6ms. Visit https://platform.openai.com/account/rate-limits to learn more.. Retrying Question No. 3 Attempt:(1)\n",
      "Rate limit error: Rate limit reached for gpt-4 in organization org-Y2tKyCPFO6tIjtCtOVZ7c9tr on tokens per min. Limit: 10000 / min. Please try again in 6ms. Visit https://platform.openai.com/account/rate-limits to learn more.. Retrying Question No. 4 Attempt:(1)\n",
      "Rate limit error: Rate limit reached for gpt-4 in organization org-Y2tKyCPFO6tIjtCtOVZ7c9tr on tokens per min. Limit: 10000 / min. Please try again in 6ms. Visit https://platform.openai.com/account/rate-limits to learn more.. Retrying Question No. 5 Attempt:(1)\n",
      "Rate limit error: Rate limit reached for gpt-4 in organization org-Y2tKyCPFO6tIjtCtOVZ7c9tr on tokens per min. Limit: 10000 / min. Please try again in 6ms. Visit https://platform.openai.com/account/rate-limits to learn more.. Retrying Question No. 6 Attempt:(1)\n",
      "Rate limit error: Rate limit reached for gpt-4 in organization org-Y2tKyCPFO6tIjtCtOVZ7c9tr on tokens per min. Limit: 10000 / min. Please try again in 6ms. Visit https://platform.openai.com/account/rate-limits to learn more.. Retrying Question No. 7 Attempt:(1)\n",
      "Rate limit error: Rate limit reached for gpt-4 in organization org-Y2tKyCPFO6tIjtCtOVZ7c9tr on tokens per min. Limit: 10000 / min. Please try again in 6ms. Visit https://platform.openai.com/account/rate-limits to learn more.. Retrying Question No. 8 Attempt:(1)\n",
      "Rate limit error: Rate limit reached for gpt-4 in organization org-Y2tKyCPFO6tIjtCtOVZ7c9tr on tokens per min. Limit: 10000 / min. Please try again in 6ms. Visit https://platform.openai.com/account/rate-limits to learn more.. Retrying Question No. 0 Attempt:(1)\n",
      "Rate limit error: Rate limit reached for gpt-4 in organization org-Y2tKyCPFO6tIjtCtOVZ7c9tr on tokens per min. Limit: 10000 / min. Please try again in 6ms. Visit https://platform.openai.com/account/rate-limits to learn more.. Retrying Question No. 0 Attempt:(2)\n",
      "Rate limit error: Rate limit reached for gpt-4 in organization org-Y2tKyCPFO6tIjtCtOVZ7c9tr on tokens per min. Limit: 10000 / min. Please try again in 6ms. Visit https://platform.openai.com/account/rate-limits to learn more.. Retrying Question No. 1 Attempt:(1)\n",
      "Rate limit error: Rate limit reached for gpt-4 in organization org-Y2tKyCPFO6tIjtCtOVZ7c9tr on tokens per min. Limit: 10000 / min. Please try again in 6ms. Visit https://platform.openai.com/account/rate-limits to learn more.. Retrying Question No. 2 Attempt:(1)\n",
      "Rate limit error: Rate limit reached for gpt-4 in organization org-Y2tKyCPFO6tIjtCtOVZ7c9tr on tokens per min. Limit: 10000 / min. Please try again in 6ms. Visit https://platform.openai.com/account/rate-limits to learn more.. Retrying Question No. 3 Attempt:(1)\n",
      "Rate limit error: Rate limit reached for gpt-4 in organization org-Y2tKyCPFO6tIjtCtOVZ7c9tr on tokens per min. Limit: 10000 / min. Please try again in 6ms. Visit https://platform.openai.com/account/rate-limits to learn more.. Retrying Question No. 4 Attempt:(1)\n",
      "Rate limit error: Rate limit reached for gpt-4 in organization org-Y2tKyCPFO6tIjtCtOVZ7c9tr on tokens per min. Limit: 10000 / min. Please try again in 6ms. Visit https://platform.openai.com/account/rate-limits to learn more.. Retrying Question No. 5 Attempt:(1)\n",
      "Rate limit error: Rate limit reached for gpt-4 in organization org-Y2tKyCPFO6tIjtCtOVZ7c9tr on tokens per min. Limit: 10000 / min. Please try again in 6ms. Visit https://platform.openai.com/account/rate-limits to learn more.. Retrying Question No. 6 Attempt:(1)\n",
      "Rate limit error: Rate limit reached for gpt-4 in organization org-Y2tKyCPFO6tIjtCtOVZ7c9tr on tokens per min. Limit: 10000 / min. Please try again in 6ms. Visit https://platform.openai.com/account/rate-limits to learn more.. Retrying Question No. 7 Attempt:(1)\n",
      "Rate limit error: Rate limit reached for gpt-4 in organization org-Y2tKyCPFO6tIjtCtOVZ7c9tr on tokens per min. Limit: 10000 / min. Please try again in 6ms. Visit https://platform.openai.com/account/rate-limits to learn more.. Retrying Question No. 8 Attempt:(1)\n",
      "Rate limit error: Rate limit reached for gpt-4 in organization org-Y2tKyCPFO6tIjtCtOVZ7c9tr on tokens per min. Limit: 10000 / min. Please try again in 6ms. Visit https://platform.openai.com/account/rate-limits to learn more.. Retrying Question No. 0 Attempt:(1)\n",
      "Rate limit error: Rate limit reached for gpt-4 in organization org-Y2tKyCPFO6tIjtCtOVZ7c9tr on tokens per min. Limit: 10000 / min. Please try again in 6ms. Visit https://platform.openai.com/account/rate-limits to learn more.. Retrying Question No. 2 Attempt:(1)\n",
      "Rate limit error: Rate limit reached for gpt-4 in organization org-Y2tKyCPFO6tIjtCtOVZ7c9tr on tokens per min. Limit: 10000 / min. Please try again in 6ms. Visit https://platform.openai.com/account/rate-limits to learn more.. Retrying Question No. 4 Attempt:(1)\n",
      "Rate limit error: Rate limit reached for gpt-4 in organization org-Y2tKyCPFO6tIjtCtOVZ7c9tr on tokens per min. Limit: 10000 / min. Please try again in 6ms. Visit https://platform.openai.com/account/rate-limits to learn more.. Retrying Question No. 5 Attempt:(1)\n",
      "Rate limit error: Rate limit reached for gpt-4 in organization org-Y2tKyCPFO6tIjtCtOVZ7c9tr on tokens per min. Limit: 10000 / min. Please try again in 6ms. Visit https://platform.openai.com/account/rate-limits to learn more.. Retrying Question No. 7 Attempt:(1)\n"
     ]
    },
    {
     "name": "stderr",
     "output_type": "stream",
     "text": [
      " 22%|██▏       | 9/41 [1:21:02<6:08:02, 690.07s/it]"
     ]
    },
    {
     "name": "stdout",
     "output_type": "stream",
     "text": [
      "Rate limit error: Rate limit reached for gpt-4 in organization org-Y2tKyCPFO6tIjtCtOVZ7c9tr on tokens per min. Limit: 10000 / min. Please try again in 6ms. Visit https://platform.openai.com/account/rate-limits to learn more.. Retrying Question No. 0 Attempt:(1)\n",
      "Rate limit error: Rate limit reached for gpt-4 in organization org-Y2tKyCPFO6tIjtCtOVZ7c9tr on tokens per min. Limit: 10000 / min. Please try again in 6ms. Visit https://platform.openai.com/account/rate-limits to learn more.. Retrying Question No. 1 Attempt:(1)\n",
      "Rate limit error: Rate limit reached for gpt-4 in organization org-Y2tKyCPFO6tIjtCtOVZ7c9tr on tokens per min. Limit: 10000 / min. Please try again in 6ms. Visit https://platform.openai.com/account/rate-limits to learn more.. Retrying Question No. 2 Attempt:(1)\n",
      "Rate limit error: Rate limit reached for gpt-4 in organization org-Y2tKyCPFO6tIjtCtOVZ7c9tr on tokens per min. Limit: 10000 / min. Please try again in 6ms. Visit https://platform.openai.com/account/rate-limits to learn more.. Retrying Question No. 3 Attempt:(1)\n",
      "Rate limit error: Rate limit reached for gpt-4 in organization org-Y2tKyCPFO6tIjtCtOVZ7c9tr on tokens per min. Limit: 10000 / min. Please try again in 6ms. Visit https://platform.openai.com/account/rate-limits to learn more.. Retrying Question No. 4 Attempt:(1)\n",
      "Rate limit error: Rate limit reached for gpt-4 in organization org-Y2tKyCPFO6tIjtCtOVZ7c9tr on tokens per min. Limit: 10000 / min. Please try again in 6ms. Visit https://platform.openai.com/account/rate-limits to learn more.. Retrying Question No. 4 Attempt:(2)\n",
      "Rate limit error: Rate limit reached for gpt-4 in organization org-Y2tKyCPFO6tIjtCtOVZ7c9tr on tokens per min. Limit: 10000 / min. Please try again in 6ms. Visit https://platform.openai.com/account/rate-limits to learn more.. Retrying Question No. 5 Attempt:(1)\n",
      "Rate limit error: Rate limit reached for gpt-4 in organization org-Y2tKyCPFO6tIjtCtOVZ7c9tr on tokens per min. Limit: 10000 / min. Please try again in 6ms. Visit https://platform.openai.com/account/rate-limits to learn more.. Retrying Question No. 6 Attempt:(1)\n",
      "Rate limit error: Rate limit reached for gpt-4 in organization org-Y2tKyCPFO6tIjtCtOVZ7c9tr on tokens per min. Limit: 10000 / min. Please try again in 6ms. Visit https://platform.openai.com/account/rate-limits to learn more.. Retrying Question No. 7 Attempt:(1)\n",
      "Rate limit error: Rate limit reached for gpt-4 in organization org-Y2tKyCPFO6tIjtCtOVZ7c9tr on tokens per min. Limit: 10000 / min. Please try again in 6ms. Visit https://platform.openai.com/account/rate-limits to learn more.. Retrying Question No. 8 Attempt:(1)\n",
      "Rate limit error: Rate limit reached for gpt-4 in organization org-Y2tKyCPFO6tIjtCtOVZ7c9tr on tokens per min. Limit: 10000 / min. Please try again in 6ms. Visit https://platform.openai.com/account/rate-limits to learn more.. Retrying Question No. 0 Attempt:(1)\n",
      "Rate limit error: Rate limit reached for gpt-4 in organization org-Y2tKyCPFO6tIjtCtOVZ7c9tr on tokens per min. Limit: 10000 / min. Please try again in 6ms. Visit https://platform.openai.com/account/rate-limits to learn more.. Retrying Question No. 1 Attempt:(1)\n",
      "Rate limit error: Rate limit reached for gpt-4 in organization org-Y2tKyCPFO6tIjtCtOVZ7c9tr on tokens per min. Limit: 10000 / min. Please try again in 6ms. Visit https://platform.openai.com/account/rate-limits to learn more.. Retrying Question No. 2 Attempt:(1)\n",
      "Rate limit error: Rate limit reached for gpt-4 in organization org-Y2tKyCPFO6tIjtCtOVZ7c9tr on tokens per min. Limit: 10000 / min. Please try again in 6ms. Visit https://platform.openai.com/account/rate-limits to learn more.. Retrying Question No. 3 Attempt:(1)\n",
      "Rate limit error: Rate limit reached for gpt-4 in organization org-Y2tKyCPFO6tIjtCtOVZ7c9tr on tokens per min. Limit: 10000 / min. Please try again in 6ms. Visit https://platform.openai.com/account/rate-limits to learn more.. Retrying Question No. 4 Attempt:(1)\n",
      "Rate limit error: Rate limit reached for gpt-4 in organization org-Y2tKyCPFO6tIjtCtOVZ7c9tr on tokens per min. Limit: 10000 / min. Please try again in 6ms. Visit https://platform.openai.com/account/rate-limits to learn more.. Retrying Question No. 5 Attempt:(1)\n",
      "Rate limit error: Rate limit reached for gpt-4 in organization org-Y2tKyCPFO6tIjtCtOVZ7c9tr on tokens per min. Limit: 10000 / min. Please try again in 6ms. Visit https://platform.openai.com/account/rate-limits to learn more.. Retrying Question No. 6 Attempt:(1)\n",
      "Rate limit error: Rate limit reached for gpt-4 in organization org-Y2tKyCPFO6tIjtCtOVZ7c9tr on tokens per min. Limit: 10000 / min. Please try again in 6ms. Visit https://platform.openai.com/account/rate-limits to learn more.. Retrying Question No. 6 Attempt:(2)\n",
      "Rate limit error: Rate limit reached for gpt-4 in organization org-Y2tKyCPFO6tIjtCtOVZ7c9tr on tokens per min. Limit: 10000 / min. Please try again in 6ms. Visit https://platform.openai.com/account/rate-limits to learn more.. Retrying Question No. 7 Attempt:(1)\n",
      "Rate limit error: Rate limit reached for gpt-4 in organization org-Y2tKyCPFO6tIjtCtOVZ7c9tr on tokens per min. Limit: 10000 / min. Please try again in 6ms. Visit https://platform.openai.com/account/rate-limits to learn more.. Retrying Question No. 8 Attempt:(1)\n",
      "Rate limit error: Rate limit reached for gpt-4 in organization org-Y2tKyCPFO6tIjtCtOVZ7c9tr on tokens per min. Limit: 10000 / min. Please try again in 6ms. Visit https://platform.openai.com/account/rate-limits to learn more.. Retrying Question No. 1 Attempt:(1)\n",
      "Rate limit error: Rate limit reached for gpt-4 in organization org-Y2tKyCPFO6tIjtCtOVZ7c9tr on tokens per min. Limit: 10000 / min. Please try again in 6ms. Visit https://platform.openai.com/account/rate-limits to learn more.. Retrying Question No. 3 Attempt:(1)\n",
      "Rate limit error: Rate limit reached for gpt-4 in organization org-Y2tKyCPFO6tIjtCtOVZ7c9tr on tokens per min. Limit: 10000 / min. Please try again in 6ms. Visit https://platform.openai.com/account/rate-limits to learn more.. Retrying Question No. 5 Attempt:(1)\n",
      "Rate limit error: Rate limit reached for gpt-4 in organization org-Y2tKyCPFO6tIjtCtOVZ7c9tr on tokens per min. Limit: 10000 / min. Please try again in 6ms. Visit https://platform.openai.com/account/rate-limits to learn more.. Retrying Question No. 7 Attempt:(1)\n"
     ]
    },
    {
     "name": "stderr",
     "output_type": "stream",
     "text": [
      " 24%|██▍       | 10/41 [1:33:45<6:08:17, 712.81s/it]"
     ]
    },
    {
     "name": "stdout",
     "output_type": "stream",
     "text": [
      "Rate limit error: Rate limit reached for gpt-4 in organization org-Y2tKyCPFO6tIjtCtOVZ7c9tr on tokens per min. Limit: 10000 / min. Please try again in 6ms. Visit https://platform.openai.com/account/rate-limits to learn more.. Retrying Question No. 0 Attempt:(1)\n",
      "Rate limit error: Rate limit reached for gpt-4 in organization org-Y2tKyCPFO6tIjtCtOVZ7c9tr on tokens per min. Limit: 10000 / min. Please try again in 6ms. Visit https://platform.openai.com/account/rate-limits to learn more.. Retrying Question No. 1 Attempt:(1)\n",
      "Rate limit error: Rate limit reached for gpt-4 in organization org-Y2tKyCPFO6tIjtCtOVZ7c9tr on tokens per min. Limit: 10000 / min. Please try again in 6ms. Visit https://platform.openai.com/account/rate-limits to learn more.. Retrying Question No. 2 Attempt:(1)\n",
      "Rate limit error: Rate limit reached for gpt-4 in organization org-Y2tKyCPFO6tIjtCtOVZ7c9tr on tokens per min. Limit: 10000 / min. Please try again in 6ms. Visit https://platform.openai.com/account/rate-limits to learn more.. Retrying Question No. 3 Attempt:(1)\n",
      "Rate limit error: Rate limit reached for gpt-4 in organization org-Y2tKyCPFO6tIjtCtOVZ7c9tr on tokens per min. Limit: 10000 / min. Please try again in 6ms. Visit https://platform.openai.com/account/rate-limits to learn more.. Retrying Question No. 3 Attempt:(2)\n",
      "An error occurred: Request timed out: HTTPSConnectionPool(host='api.openai.com', port=443): Read timed out. (read timeout=600). Retrying Question No. 3 Attempt:(3)\n",
      "Rate limit error: Rate limit reached for gpt-4 in organization org-Y2tKyCPFO6tIjtCtOVZ7c9tr on tokens per min. Limit: 10000 / min. Please try again in 6ms. Visit https://platform.openai.com/account/rate-limits to learn more.. Retrying Question No. 4 Attempt:(1)\n",
      "Rate limit error: Rate limit reached for gpt-4 in organization org-Y2tKyCPFO6tIjtCtOVZ7c9tr on tokens per min. Limit: 10000 / min. Please try again in 6ms. Visit https://platform.openai.com/account/rate-limits to learn more.. Retrying Question No. 5 Attempt:(1)\n",
      "Rate limit error: Rate limit reached for gpt-4 in organization org-Y2tKyCPFO6tIjtCtOVZ7c9tr on tokens per min. Limit: 10000 / min. Please try again in 6ms. Visit https://platform.openai.com/account/rate-limits to learn more.. Retrying Question No. 6 Attempt:(1)\n",
      "Rate limit error: Rate limit reached for gpt-4 in organization org-Y2tKyCPFO6tIjtCtOVZ7c9tr on tokens per min. Limit: 10000 / min. Please try again in 6ms. Visit https://platform.openai.com/account/rate-limits to learn more.. Retrying Question No. 7 Attempt:(1)\n",
      "Rate limit error: Rate limit reached for gpt-4 in organization org-Y2tKyCPFO6tIjtCtOVZ7c9tr on tokens per min. Limit: 10000 / min. Please try again in 6ms. Visit https://platform.openai.com/account/rate-limits to learn more.. Retrying Question No. 8 Attempt:(1)\n",
      "Rate limit error: Rate limit reached for gpt-4 in organization org-Y2tKyCPFO6tIjtCtOVZ7c9tr on tokens per min. Limit: 10000 / min. Please try again in 6ms. Visit https://platform.openai.com/account/rate-limits to learn more.. Retrying Question No. 0 Attempt:(1)\n",
      "Rate limit error: Rate limit reached for gpt-4 in organization org-Y2tKyCPFO6tIjtCtOVZ7c9tr on tokens per min. Limit: 10000 / min. Please try again in 6ms. Visit https://platform.openai.com/account/rate-limits to learn more.. Retrying Question No. 2 Attempt:(1)\n",
      "Rate limit error: Rate limit reached for gpt-4 in organization org-Y2tKyCPFO6tIjtCtOVZ7c9tr on tokens per min. Limit: 10000 / min. Please try again in 6ms. Visit https://platform.openai.com/account/rate-limits to learn more.. Retrying Question No. 3 Attempt:(1)\n",
      "Rate limit error: Rate limit reached for gpt-4 in organization org-Y2tKyCPFO6tIjtCtOVZ7c9tr on tokens per min. Limit: 10000 / min. Please try again in 6ms. Visit https://platform.openai.com/account/rate-limits to learn more.. Retrying Question No. 5 Attempt:(1)\n",
      "Rate limit error: Rate limit reached for gpt-4 in organization org-Y2tKyCPFO6tIjtCtOVZ7c9tr on tokens per min. Limit: 10000 / min. Please try again in 6ms. Visit https://platform.openai.com/account/rate-limits to learn more.. Retrying Question No. 7 Attempt:(1)\n"
     ]
    },
    {
     "name": "stderr",
     "output_type": "stream",
     "text": [
      " 27%|██▋       | 11/41 [1:51:47<6:52:54, 825.82s/it]"
     ]
    },
    {
     "name": "stdout",
     "output_type": "stream",
     "text": [
      "Rate limit error: Rate limit reached for gpt-4 in organization org-Y2tKyCPFO6tIjtCtOVZ7c9tr on tokens per min. Limit: 10000 / min. Please try again in 6ms. Visit https://platform.openai.com/account/rate-limits to learn more.. Retrying Question No. 0 Attempt:(1)\n",
      "Rate limit error: Rate limit reached for gpt-4 in organization org-Y2tKyCPFO6tIjtCtOVZ7c9tr on tokens per min. Limit: 10000 / min. Please try again in 6ms. Visit https://platform.openai.com/account/rate-limits to learn more.. Retrying Question No. 1 Attempt:(1)\n",
      "Rate limit error: Rate limit reached for gpt-4 in organization org-Y2tKyCPFO6tIjtCtOVZ7c9tr on tokens per min. Limit: 10000 / min. Please try again in 6ms. Visit https://platform.openai.com/account/rate-limits to learn more.. Retrying Question No. 3 Attempt:(1)\n",
      "Rate limit error: Rate limit reached for gpt-4 in organization org-Y2tKyCPFO6tIjtCtOVZ7c9tr on tokens per min. Limit: 10000 / min. Please try again in 6ms. Visit https://platform.openai.com/account/rate-limits to learn more.. Retrying Question No. 4 Attempt:(1)\n",
      "Rate limit error: Rate limit reached for gpt-4 in organization org-Y2tKyCPFO6tIjtCtOVZ7c9tr on tokens per min. Limit: 10000 / min. Please try again in 6ms. Visit https://platform.openai.com/account/rate-limits to learn more.. Retrying Question No. 5 Attempt:(1)\n",
      "Rate limit error: Rate limit reached for gpt-4 in organization org-Y2tKyCPFO6tIjtCtOVZ7c9tr on tokens per min. Limit: 10000 / min. Please try again in 6ms. Visit https://platform.openai.com/account/rate-limits to learn more.. Retrying Question No. 7 Attempt:(1)\n",
      "Rate limit error: Rate limit reached for gpt-4 in organization org-Y2tKyCPFO6tIjtCtOVZ7c9tr on tokens per min. Limit: 10000 / min. Please try again in 6ms. Visit https://platform.openai.com/account/rate-limits to learn more.. Retrying Question No. 8 Attempt:(1)\n"
     ]
    },
    {
     "name": "stderr",
     "output_type": "stream",
     "text": [
      " 29%|██▉       | 12/41 [1:55:30<5:10:30, 642.44s/it]"
     ]
    },
    {
     "name": "stdout",
     "output_type": "stream",
     "text": [
      "Rate limit error: Rate limit reached for gpt-4 in organization org-Y2tKyCPFO6tIjtCtOVZ7c9tr on tokens per min. Limit: 10000 / min. Please try again in 6ms. Visit https://platform.openai.com/account/rate-limits to learn more.. Retrying Question No. 0 Attempt:(1)\n",
      "Rate limit error: Rate limit reached for gpt-4 in organization org-Y2tKyCPFO6tIjtCtOVZ7c9tr on tokens per min. Limit: 10000 / min. Please try again in 6ms. Visit https://platform.openai.com/account/rate-limits to learn more.. Retrying Question No. 1 Attempt:(1)\n",
      "Rate limit error: Rate limit reached for gpt-4 in organization org-Y2tKyCPFO6tIjtCtOVZ7c9tr on tokens per min. Limit: 10000 / min. Please try again in 6ms. Visit https://platform.openai.com/account/rate-limits to learn more.. Retrying Question No. 2 Attempt:(1)\n",
      "Rate limit error: Rate limit reached for gpt-4 in organization org-Y2tKyCPFO6tIjtCtOVZ7c9tr on tokens per min. Limit: 10000 / min. Please try again in 6ms. Visit https://platform.openai.com/account/rate-limits to learn more.. Retrying Question No. 3 Attempt:(1)\n",
      "Rate limit error: Rate limit reached for gpt-4 in organization org-Y2tKyCPFO6tIjtCtOVZ7c9tr on tokens per min. Limit: 10000 / min. Please try again in 6ms. Visit https://platform.openai.com/account/rate-limits to learn more.. Retrying Question No. 4 Attempt:(1)\n",
      "Rate limit error: Rate limit reached for gpt-4 in organization org-Y2tKyCPFO6tIjtCtOVZ7c9tr on tokens per min. Limit: 10000 / min. Please try again in 6ms. Visit https://platform.openai.com/account/rate-limits to learn more.. Retrying Question No. 5 Attempt:(1)\n",
      "Rate limit error: Rate limit reached for gpt-4 in organization org-Y2tKyCPFO6tIjtCtOVZ7c9tr on tokens per min. Limit: 10000 / min. Please try again in 6ms. Visit https://platform.openai.com/account/rate-limits to learn more.. Retrying Question No. 6 Attempt:(1)\n",
      "Rate limit error: Rate limit reached for gpt-4 in organization org-Y2tKyCPFO6tIjtCtOVZ7c9tr on tokens per min. Limit: 10000 / min. Please try again in 6ms. Visit https://platform.openai.com/account/rate-limits to learn more.. Retrying Question No. 7 Attempt:(1)\n",
      "Rate limit error: Rate limit reached for gpt-4 in organization org-Y2tKyCPFO6tIjtCtOVZ7c9tr on tokens per min. Limit: 10000 / min. Please try again in 6ms. Visit https://platform.openai.com/account/rate-limits to learn more.. Retrying Question No. 8 Attempt:(1)\n",
      "Rate limit error: Rate limit reached for gpt-4 in organization org-Y2tKyCPFO6tIjtCtOVZ7c9tr on tokens per min. Limit: 10000 / min. Please try again in 6ms. Visit https://platform.openai.com/account/rate-limits to learn more.. Retrying Question No. 0 Attempt:(1)\n",
      "Rate limit error: Rate limit reached for gpt-4 in organization org-Y2tKyCPFO6tIjtCtOVZ7c9tr on tokens per min. Limit: 10000 / min. Please try again in 6ms. Visit https://platform.openai.com/account/rate-limits to learn more.. Retrying Question No. 2 Attempt:(1)\n",
      "Rate limit error: Rate limit reached for gpt-4 in organization org-Y2tKyCPFO6tIjtCtOVZ7c9tr on tokens per min. Limit: 10000 / min. Please try again in 6ms. Visit https://platform.openai.com/account/rate-limits to learn more.. Retrying Question No. 3 Attempt:(1)\n",
      "Rate limit error: Rate limit reached for gpt-4 in organization org-Y2tKyCPFO6tIjtCtOVZ7c9tr on tokens per min. Limit: 10000 / min. Please try again in 6ms. Visit https://platform.openai.com/account/rate-limits to learn more.. Retrying Question No. 5 Attempt:(1)\n",
      "Rate limit error: Rate limit reached for gpt-4 in organization org-Y2tKyCPFO6tIjtCtOVZ7c9tr on tokens per min. Limit: 10000 / min. Please try again in 6ms. Visit https://platform.openai.com/account/rate-limits to learn more.. Retrying Question No. 7 Attempt:(1)\n",
      "Rate limit error: Rate limit reached for gpt-4 in organization org-Y2tKyCPFO6tIjtCtOVZ7c9tr on tokens per min. Limit: 10000 / min. Please try again in 6ms. Visit https://platform.openai.com/account/rate-limits to learn more.. Retrying Question No. 8 Attempt:(1)\n"
     ]
    },
    {
     "name": "stderr",
     "output_type": "stream",
     "text": [
      " 32%|███▏      | 13/41 [2:03:24<4:35:59, 591.41s/it]"
     ]
    },
    {
     "name": "stdout",
     "output_type": "stream",
     "text": [
      "Rate limit error: Rate limit reached for gpt-4 in organization org-Y2tKyCPFO6tIjtCtOVZ7c9tr on tokens per min. Limit: 10000 / min. Please try again in 6ms. Visit https://platform.openai.com/account/rate-limits to learn more.. Retrying Question No. 1 Attempt:(1)\n",
      "Rate limit error: Rate limit reached for gpt-4 in organization org-Y2tKyCPFO6tIjtCtOVZ7c9tr on tokens per min. Limit: 10000 / min. Please try again in 6ms. Visit https://platform.openai.com/account/rate-limits to learn more.. Retrying Question No. 2 Attempt:(1)\n",
      "Rate limit error: Rate limit reached for gpt-4 in organization org-Y2tKyCPFO6tIjtCtOVZ7c9tr on tokens per min. Limit: 10000 / min. Please try again in 6ms. Visit https://platform.openai.com/account/rate-limits to learn more.. Retrying Question No. 4 Attempt:(1)\n",
      "Rate limit error: Rate limit reached for gpt-4 in organization org-Y2tKyCPFO6tIjtCtOVZ7c9tr on tokens per min. Limit: 10000 / min. Please try again in 6ms. Visit https://platform.openai.com/account/rate-limits to learn more.. Retrying Question No. 5 Attempt:(1)\n",
      "Rate limit error: Rate limit reached for gpt-4 in organization org-Y2tKyCPFO6tIjtCtOVZ7c9tr on tokens per min. Limit: 10000 / min. Please try again in 6ms. Visit https://platform.openai.com/account/rate-limits to learn more.. Retrying Question No. 6 Attempt:(1)\n",
      "Rate limit error: Rate limit reached for gpt-4 in organization org-Y2tKyCPFO6tIjtCtOVZ7c9tr on tokens per min. Limit: 10000 / min. Please try again in 6ms. Visit https://platform.openai.com/account/rate-limits to learn more.. Retrying Question No. 7 Attempt:(1)\n"
     ]
    },
    {
     "name": "stderr",
     "output_type": "stream",
     "text": [
      " 34%|███▍      | 14/41 [2:06:37<3:31:52, 470.82s/it]"
     ]
    },
    {
     "name": "stdout",
     "output_type": "stream",
     "text": [
      "Rate limit error: Rate limit reached for gpt-4 in organization org-Y2tKyCPFO6tIjtCtOVZ7c9tr on tokens per min. Limit: 10000 / min. Please try again in 6ms. Visit https://platform.openai.com/account/rate-limits to learn more.. Retrying Question No. 0 Attempt:(1)\n",
      "Rate limit error: Rate limit reached for gpt-4 in organization org-Y2tKyCPFO6tIjtCtOVZ7c9tr on tokens per min. Limit: 10000 / min. Please try again in 6ms. Visit https://platform.openai.com/account/rate-limits to learn more.. Retrying Question No. 1 Attempt:(1)\n",
      "Rate limit error: Rate limit reached for gpt-4 in organization org-Y2tKyCPFO6tIjtCtOVZ7c9tr on tokens per min. Limit: 10000 / min. Please try again in 6ms. Visit https://platform.openai.com/account/rate-limits to learn more.. Retrying Question No. 3 Attempt:(1)\n",
      "Rate limit error: Rate limit reached for gpt-4 in organization org-Y2tKyCPFO6tIjtCtOVZ7c9tr on tokens per min. Limit: 10000 / min. Please try again in 6ms. Visit https://platform.openai.com/account/rate-limits to learn more.. Retrying Question No. 4 Attempt:(1)\n",
      "Rate limit error: Rate limit reached for gpt-4 in organization org-Y2tKyCPFO6tIjtCtOVZ7c9tr on tokens per min. Limit: 10000 / min. Please try again in 6ms. Visit https://platform.openai.com/account/rate-limits to learn more.. Retrying Question No. 5 Attempt:(1)\n",
      "Rate limit error: Rate limit reached for gpt-4 in organization org-Y2tKyCPFO6tIjtCtOVZ7c9tr on tokens per min. Limit: 10000 / min. Please try again in 6ms. Visit https://platform.openai.com/account/rate-limits to learn more.. Retrying Question No. 7 Attempt:(1)\n",
      "Rate limit error: Rate limit reached for gpt-4 in organization org-Y2tKyCPFO6tIjtCtOVZ7c9tr on tokens per min. Limit: 10000 / min. Please try again in 6ms. Visit https://platform.openai.com/account/rate-limits to learn more.. Retrying Question No. 8 Attempt:(1)\n"
     ]
    },
    {
     "name": "stderr",
     "output_type": "stream",
     "text": [
      " 37%|███▋      | 15/41 [2:10:17<2:51:18, 395.31s/it]"
     ]
    },
    {
     "name": "stdout",
     "output_type": "stream",
     "text": [
      "Rate limit error: Rate limit reached for gpt-4 in organization org-Y2tKyCPFO6tIjtCtOVZ7c9tr on tokens per min. Limit: 10000 / min. Please try again in 6ms. Visit https://platform.openai.com/account/rate-limits to learn more.. Retrying Question No. 0 Attempt:(1)\n",
      "Rate limit error: Rate limit reached for gpt-4 in organization org-Y2tKyCPFO6tIjtCtOVZ7c9tr on tokens per min. Limit: 10000 / min. Please try again in 6ms. Visit https://platform.openai.com/account/rate-limits to learn more.. Retrying Question No. 1 Attempt:(1)\n",
      "Rate limit error: Rate limit reached for gpt-4 in organization org-Y2tKyCPFO6tIjtCtOVZ7c9tr on tokens per min. Limit: 10000 / min. Please try again in 6ms. Visit https://platform.openai.com/account/rate-limits to learn more.. Retrying Question No. 2 Attempt:(1)\n",
      "Rate limit error: Rate limit reached for gpt-4 in organization org-Y2tKyCPFO6tIjtCtOVZ7c9tr on tokens per min. Limit: 10000 / min. Please try again in 6ms. Visit https://platform.openai.com/account/rate-limits to learn more.. Retrying Question No. 3 Attempt:(1)\n",
      "Rate limit error: Rate limit reached for gpt-4 in organization org-Y2tKyCPFO6tIjtCtOVZ7c9tr on tokens per min. Limit: 10000 / min. Please try again in 6ms. Visit https://platform.openai.com/account/rate-limits to learn more.. Retrying Question No. 4 Attempt:(1)\n",
      "Rate limit error: Rate limit reached for gpt-4 in organization org-Y2tKyCPFO6tIjtCtOVZ7c9tr on tokens per min. Limit: 10000 / min. Please try again in 6ms. Visit https://platform.openai.com/account/rate-limits to learn more.. Retrying Question No. 5 Attempt:(1)\n",
      "Rate limit error: Rate limit reached for gpt-4 in organization org-Y2tKyCPFO6tIjtCtOVZ7c9tr on tokens per min. Limit: 10000 / min. Please try again in 6ms. Visit https://platform.openai.com/account/rate-limits to learn more.. Retrying Question No. 5 Attempt:(2)\n",
      "Rate limit error: Rate limit reached for gpt-4 in organization org-Y2tKyCPFO6tIjtCtOVZ7c9tr on tokens per min. Limit: 10000 / min. Please try again in 6ms. Visit https://platform.openai.com/account/rate-limits to learn more.. Retrying Question No. 6 Attempt:(1)\n",
      "Rate limit error: Rate limit reached for gpt-4 in organization org-Y2tKyCPFO6tIjtCtOVZ7c9tr on tokens per min. Limit: 10000 / min. Please try again in 6ms. Visit https://platform.openai.com/account/rate-limits to learn more.. Retrying Question No. 7 Attempt:(1)\n",
      "Rate limit error: Rate limit reached for gpt-4 in organization org-Y2tKyCPFO6tIjtCtOVZ7c9tr on tokens per min. Limit: 10000 / min. Please try again in 6ms. Visit https://platform.openai.com/account/rate-limits to learn more.. Retrying Question No. 8 Attempt:(1)\n",
      "Rate limit error: Rate limit reached for gpt-4 in organization org-Y2tKyCPFO6tIjtCtOVZ7c9tr on tokens per min. Limit: 10000 / min. Please try again in 6ms. Visit https://platform.openai.com/account/rate-limits to learn more.. Retrying Question No. 0 Attempt:(1)\n",
      "Rate limit error: Rate limit reached for gpt-4 in organization org-Y2tKyCPFO6tIjtCtOVZ7c9tr on tokens per min. Limit: 10000 / min. Please try again in 6ms. Visit https://platform.openai.com/account/rate-limits to learn more.. Retrying Question No. 1 Attempt:(1)\n",
      "Rate limit error: Rate limit reached for gpt-4 in organization org-Y2tKyCPFO6tIjtCtOVZ7c9tr on tokens per min. Limit: 10000 / min. Please try again in 6ms. Visit https://platform.openai.com/account/rate-limits to learn more.. Retrying Question No. 2 Attempt:(1)\n",
      "Rate limit error: Rate limit reached for gpt-4 in organization org-Y2tKyCPFO6tIjtCtOVZ7c9tr on tokens per min. Limit: 10000 / min. Please try again in 6ms. Visit https://platform.openai.com/account/rate-limits to learn more.. Retrying Question No. 3 Attempt:(1)\n",
      "Rate limit error: Rate limit reached for gpt-4 in organization org-Y2tKyCPFO6tIjtCtOVZ7c9tr on tokens per min. Limit: 10000 / min. Please try again in 6ms. Visit https://platform.openai.com/account/rate-limits to learn more.. Retrying Question No. 4 Attempt:(1)\n",
      "Rate limit error: Rate limit reached for gpt-4 in organization org-Y2tKyCPFO6tIjtCtOVZ7c9tr on tokens per min. Limit: 10000 / min. Please try again in 6ms. Visit https://platform.openai.com/account/rate-limits to learn more.. Retrying Question No. 5 Attempt:(1)\n",
      "Rate limit error: Rate limit reached for gpt-4 in organization org-Y2tKyCPFO6tIjtCtOVZ7c9tr on tokens per min. Limit: 10000 / min. Please try again in 6ms. Visit https://platform.openai.com/account/rate-limits to learn more.. Retrying Question No. 6 Attempt:(1)\n",
      "Rate limit error: Rate limit reached for gpt-4 in organization org-Y2tKyCPFO6tIjtCtOVZ7c9tr on tokens per min. Limit: 10000 / min. Please try again in 6ms. Visit https://platform.openai.com/account/rate-limits to learn more.. Retrying Question No. 7 Attempt:(1)\n",
      "Rate limit error: Rate limit reached for gpt-4 in organization org-Y2tKyCPFO6tIjtCtOVZ7c9tr on tokens per min. Limit: 10000 / min. Please try again in 6ms. Visit https://platform.openai.com/account/rate-limits to learn more.. Retrying Question No. 8 Attempt:(1)\n",
      "Rate limit error: Rate limit reached for gpt-4 in organization org-Y2tKyCPFO6tIjtCtOVZ7c9tr on tokens per min. Limit: 10000 / min. Please try again in 6ms. Visit https://platform.openai.com/account/rate-limits to learn more.. Retrying Question No. 0 Attempt:(1)\n",
      "Rate limit error: Rate limit reached for gpt-4 in organization org-Y2tKyCPFO6tIjtCtOVZ7c9tr on tokens per min. Limit: 10000 / min. Please try again in 6ms. Visit https://platform.openai.com/account/rate-limits to learn more.. Retrying Question No. 1 Attempt:(1)\n",
      "Rate limit error: Rate limit reached for gpt-4 in organization org-Y2tKyCPFO6tIjtCtOVZ7c9tr on tokens per min. Limit: 10000 / min. Please try again in 6ms. Visit https://platform.openai.com/account/rate-limits to learn more.. Retrying Question No. 2 Attempt:(1)\n",
      "Rate limit error: Rate limit reached for gpt-4 in organization org-Y2tKyCPFO6tIjtCtOVZ7c9tr on tokens per min. Limit: 10000 / min. Please try again in 6ms. Visit https://platform.openai.com/account/rate-limits to learn more.. Retrying Question No. 3 Attempt:(1)\n",
      "Rate limit error: Rate limit reached for gpt-4 in organization org-Y2tKyCPFO6tIjtCtOVZ7c9tr on tokens per min. Limit: 10000 / min. Please try again in 6ms. Visit https://platform.openai.com/account/rate-limits to learn more.. Retrying Question No. 5 Attempt:(1)\n",
      "Rate limit error: Rate limit reached for gpt-4 in organization org-Y2tKyCPFO6tIjtCtOVZ7c9tr on tokens per min. Limit: 10000 / min. Please try again in 6ms. Visit https://platform.openai.com/account/rate-limits to learn more.. Retrying Question No. 6 Attempt:(1)\n",
      "Rate limit error: Rate limit reached for gpt-4 in organization org-Y2tKyCPFO6tIjtCtOVZ7c9tr on tokens per min. Limit: 10000 / min. Please try again in 6ms. Visit https://platform.openai.com/account/rate-limits to learn more.. Retrying Question No. 7 Attempt:(1)\n",
      "Rate limit error: Rate limit reached for gpt-4 in organization org-Y2tKyCPFO6tIjtCtOVZ7c9tr on tokens per min. Limit: 10000 / min. Please try again in 6ms. Visit https://platform.openai.com/account/rate-limits to learn more.. Retrying Question No. 8 Attempt:(1)\n"
     ]
    },
    {
     "name": "stderr",
     "output_type": "stream",
     "text": [
      " 39%|███▉      | 16/41 [2:24:34<3:42:34, 534.17s/it]"
     ]
    },
    {
     "name": "stdout",
     "output_type": "stream",
     "text": [
      "Rate limit error: Rate limit reached for gpt-4 in organization org-Y2tKyCPFO6tIjtCtOVZ7c9tr on tokens per min. Limit: 10000 / min. Please try again in 6ms. Visit https://platform.openai.com/account/rate-limits to learn more.. Retrying Question No. 0 Attempt:(1)\n",
      "Rate limit error: Rate limit reached for gpt-4 in organization org-Y2tKyCPFO6tIjtCtOVZ7c9tr on tokens per min. Limit: 10000 / min. Please try again in 6ms. Visit https://platform.openai.com/account/rate-limits to learn more.. Retrying Question No. 1 Attempt:(1)\n",
      "Rate limit error: Rate limit reached for gpt-4 in organization org-Y2tKyCPFO6tIjtCtOVZ7c9tr on tokens per min. Limit: 10000 / min. Please try again in 6ms. Visit https://platform.openai.com/account/rate-limits to learn more.. Retrying Question No. 2 Attempt:(1)\n",
      "Rate limit error: Rate limit reached for gpt-4 in organization org-Y2tKyCPFO6tIjtCtOVZ7c9tr on tokens per min. Limit: 10000 / min. Please try again in 6ms. Visit https://platform.openai.com/account/rate-limits to learn more.. Retrying Question No. 3 Attempt:(1)\n",
      "Rate limit error: Rate limit reached for gpt-4 in organization org-Y2tKyCPFO6tIjtCtOVZ7c9tr on tokens per min. Limit: 10000 / min. Please try again in 6ms. Visit https://platform.openai.com/account/rate-limits to learn more.. Retrying Question No. 4 Attempt:(1)\n",
      "Rate limit error: Rate limit reached for gpt-4 in organization org-Y2tKyCPFO6tIjtCtOVZ7c9tr on tokens per min. Limit: 10000 / min. Please try again in 6ms. Visit https://platform.openai.com/account/rate-limits to learn more.. Retrying Question No. 4 Attempt:(2)\n",
      "Rate limit error: Rate limit reached for gpt-4 in organization org-Y2tKyCPFO6tIjtCtOVZ7c9tr on tokens per min. Limit: 10000 / min. Please try again in 6ms. Visit https://platform.openai.com/account/rate-limits to learn more.. Retrying Question No. 5 Attempt:(1)\n",
      "Rate limit error: Rate limit reached for gpt-4 in organization org-Y2tKyCPFO6tIjtCtOVZ7c9tr on tokens per min. Limit: 10000 / min. Please try again in 6ms. Visit https://platform.openai.com/account/rate-limits to learn more.. Retrying Question No. 6 Attempt:(1)\n",
      "Rate limit error: Rate limit reached for gpt-4 in organization org-Y2tKyCPFO6tIjtCtOVZ7c9tr on tokens per min. Limit: 10000 / min. Please try again in 6ms. Visit https://platform.openai.com/account/rate-limits to learn more.. Retrying Question No. 7 Attempt:(1)\n",
      "Rate limit error: Rate limit reached for gpt-4 in organization org-Y2tKyCPFO6tIjtCtOVZ7c9tr on tokens per min. Limit: 10000 / min. Please try again in 6ms. Visit https://platform.openai.com/account/rate-limits to learn more.. Retrying Question No. 8 Attempt:(1)\n"
     ]
    },
    {
     "name": "stderr",
     "output_type": "stream",
     "text": [
      " 41%|████▏     | 17/41 [2:29:48<3:07:17, 468.24s/it]"
     ]
    },
    {
     "name": "stdout",
     "output_type": "stream",
     "text": [
      "Rate limit error: Rate limit reached for gpt-4 in organization org-Y2tKyCPFO6tIjtCtOVZ7c9tr on tokens per min. Limit: 10000 / min. Please try again in 6ms. Visit https://platform.openai.com/account/rate-limits to learn more.. Retrying Question No. 0 Attempt:(1)\n",
      "Rate limit error: Rate limit reached for gpt-4 in organization org-Y2tKyCPFO6tIjtCtOVZ7c9tr on tokens per min. Limit: 10000 / min. Please try again in 6ms. Visit https://platform.openai.com/account/rate-limits to learn more.. Retrying Question No. 1 Attempt:(1)\n",
      "Rate limit error: Rate limit reached for gpt-4 in organization org-Y2tKyCPFO6tIjtCtOVZ7c9tr on tokens per min. Limit: 10000 / min. Please try again in 6ms. Visit https://platform.openai.com/account/rate-limits to learn more.. Retrying Question No. 2 Attempt:(1)\n",
      "Rate limit error: Rate limit reached for gpt-4 in organization org-Y2tKyCPFO6tIjtCtOVZ7c9tr on tokens per min. Limit: 10000 / min. Please try again in 6ms. Visit https://platform.openai.com/account/rate-limits to learn more.. Retrying Question No. 4 Attempt:(1)\n",
      "Rate limit error: Rate limit reached for gpt-4 in organization org-Y2tKyCPFO6tIjtCtOVZ7c9tr on tokens per min. Limit: 10000 / min. Please try again in 6ms. Visit https://platform.openai.com/account/rate-limits to learn more.. Retrying Question No. 5 Attempt:(1)\n",
      "Rate limit error: Rate limit reached for gpt-4 in organization org-Y2tKyCPFO6tIjtCtOVZ7c9tr on tokens per min. Limit: 10000 / min. Please try again in 6ms. Visit https://platform.openai.com/account/rate-limits to learn more.. Retrying Question No. 6 Attempt:(1)\n",
      "Rate limit error: Rate limit reached for gpt-4 in organization org-Y2tKyCPFO6tIjtCtOVZ7c9tr on tokens per min. Limit: 10000 / min. Please try again in 6ms. Visit https://platform.openai.com/account/rate-limits to learn more.. Retrying Question No. 8 Attempt:(1)\n"
     ]
    },
    {
     "name": "stderr",
     "output_type": "stream",
     "text": [
      " 44%|████▍     | 18/41 [2:33:31<2:31:08, 394.30s/it]"
     ]
    },
    {
     "name": "stdout",
     "output_type": "stream",
     "text": [
      "Rate limit error: Rate limit reached for gpt-4 in organization org-Y2tKyCPFO6tIjtCtOVZ7c9tr on tokens per min. Limit: 10000 / min. Please try again in 6ms. Visit https://platform.openai.com/account/rate-limits to learn more.. Retrying Question No. 0 Attempt:(1)\n",
      "Rate limit error: Rate limit reached for gpt-4 in organization org-Y2tKyCPFO6tIjtCtOVZ7c9tr on tokens per min. Limit: 10000 / min. Please try again in 6ms. Visit https://platform.openai.com/account/rate-limits to learn more.. Retrying Question No. 1 Attempt:(1)\n",
      "Rate limit error: Rate limit reached for gpt-4 in organization org-Y2tKyCPFO6tIjtCtOVZ7c9tr on tokens per min. Limit: 10000 / min. Please try again in 6ms. Visit https://platform.openai.com/account/rate-limits to learn more.. Retrying Question No. 2 Attempt:(1)\n",
      "Rate limit error: Rate limit reached for gpt-4 in organization org-Y2tKyCPFO6tIjtCtOVZ7c9tr on tokens per min. Limit: 10000 / min. Please try again in 6ms. Visit https://platform.openai.com/account/rate-limits to learn more.. Retrying Question No. 3 Attempt:(1)\n",
      "Rate limit error: Rate limit reached for gpt-4 in organization org-Y2tKyCPFO6tIjtCtOVZ7c9tr on tokens per min. Limit: 10000 / min. Please try again in 6ms. Visit https://platform.openai.com/account/rate-limits to learn more.. Retrying Question No. 4 Attempt:(1)\n",
      "Rate limit error: Rate limit reached for gpt-4 in organization org-Y2tKyCPFO6tIjtCtOVZ7c9tr on tokens per min. Limit: 10000 / min. Please try again in 6ms. Visit https://platform.openai.com/account/rate-limits to learn more.. Retrying Question No. 4 Attempt:(2)\n",
      "Rate limit error: Rate limit reached for gpt-4 in organization org-Y2tKyCPFO6tIjtCtOVZ7c9tr on tokens per min. Limit: 10000 / min. Please try again in 6ms. Visit https://platform.openai.com/account/rate-limits to learn more.. Retrying Question No. 5 Attempt:(1)\n",
      "Rate limit error: Rate limit reached for gpt-4 in organization org-Y2tKyCPFO6tIjtCtOVZ7c9tr on tokens per min. Limit: 10000 / min. Please try again in 6ms. Visit https://platform.openai.com/account/rate-limits to learn more.. Retrying Question No. 6 Attempt:(1)\n",
      "Rate limit error: Rate limit reached for gpt-4 in organization org-Y2tKyCPFO6tIjtCtOVZ7c9tr on tokens per min. Limit: 10000 / min. Please try again in 6ms. Visit https://platform.openai.com/account/rate-limits to learn more.. Retrying Question No. 7 Attempt:(1)\n",
      "Rate limit error: Rate limit reached for gpt-4 in organization org-Y2tKyCPFO6tIjtCtOVZ7c9tr on tokens per min. Limit: 10000 / min. Please try again in 6ms. Visit https://platform.openai.com/account/rate-limits to learn more.. Retrying Question No. 8 Attempt:(1)\n",
      "Rate limit error: Rate limit reached for gpt-4 in organization org-Y2tKyCPFO6tIjtCtOVZ7c9tr on tokens per min. Limit: 10000 / min. Please try again in 6ms. Visit https://platform.openai.com/account/rate-limits to learn more.. Retrying Question No. 0 Attempt:(1)\n",
      "Rate limit error: Rate limit reached for gpt-4 in organization org-Y2tKyCPFO6tIjtCtOVZ7c9tr on tokens per min. Limit: 10000 / min. Please try again in 6ms. Visit https://platform.openai.com/account/rate-limits to learn more.. Retrying Question No. 1 Attempt:(1)\n",
      "Rate limit error: Rate limit reached for gpt-4 in organization org-Y2tKyCPFO6tIjtCtOVZ7c9tr on tokens per min. Limit: 10000 / min. Please try again in 6ms. Visit https://platform.openai.com/account/rate-limits to learn more.. Retrying Question No. 2 Attempt:(1)\n",
      "Rate limit error: Rate limit reached for gpt-4 in organization org-Y2tKyCPFO6tIjtCtOVZ7c9tr on tokens per min. Limit: 10000 / min. Please try again in 6ms. Visit https://platform.openai.com/account/rate-limits to learn more.. Retrying Question No. 3 Attempt:(1)\n",
      "Rate limit error: Rate limit reached for gpt-4 in organization org-Y2tKyCPFO6tIjtCtOVZ7c9tr on tokens per min. Limit: 10000 / min. Please try again in 6ms. Visit https://platform.openai.com/account/rate-limits to learn more.. Retrying Question No. 5 Attempt:(1)\n",
      "Rate limit error: Rate limit reached for gpt-4 in organization org-Y2tKyCPFO6tIjtCtOVZ7c9tr on tokens per min. Limit: 10000 / min. Please try again in 6ms. Visit https://platform.openai.com/account/rate-limits to learn more.. Retrying Question No. 6 Attempt:(1)\n",
      "Rate limit error: Rate limit reached for gpt-4 in organization org-Y2tKyCPFO6tIjtCtOVZ7c9tr on tokens per min. Limit: 10000 / min. Please try again in 6ms. Visit https://platform.openai.com/account/rate-limits to learn more.. Retrying Question No. 7 Attempt:(1)\n",
      "Rate limit error: Rate limit reached for gpt-4 in organization org-Y2tKyCPFO6tIjtCtOVZ7c9tr on tokens per min. Limit: 10000 / min. Please try again in 6ms. Visit https://platform.openai.com/account/rate-limits to learn more.. Retrying Question No. 8 Attempt:(1)\n"
     ]
    },
    {
     "name": "stderr",
     "output_type": "stream",
     "text": [
      " 46%|████▋     | 19/41 [2:42:57<2:43:33, 446.07s/it]"
     ]
    },
    {
     "name": "stdout",
     "output_type": "stream",
     "text": [
      "Rate limit error: Rate limit reached for gpt-4 in organization org-Y2tKyCPFO6tIjtCtOVZ7c9tr on tokens per min. Limit: 10000 / min. Please try again in 6ms. Visit https://platform.openai.com/account/rate-limits to learn more.. Retrying Question No. 0 Attempt:(1)\n",
      "Rate limit error: Rate limit reached for gpt-4 in organization org-Y2tKyCPFO6tIjtCtOVZ7c9tr on tokens per min. Limit: 10000 / min. Please try again in 6ms. Visit https://platform.openai.com/account/rate-limits to learn more.. Retrying Question No. 1 Attempt:(1)\n",
      "Rate limit error: Rate limit reached for gpt-4 in organization org-Y2tKyCPFO6tIjtCtOVZ7c9tr on tokens per min. Limit: 10000 / min. Please try again in 6ms. Visit https://platform.openai.com/account/rate-limits to learn more.. Retrying Question No. 2 Attempt:(1)\n",
      "Rate limit error: Rate limit reached for gpt-4 in organization org-Y2tKyCPFO6tIjtCtOVZ7c9tr on tokens per min. Limit: 10000 / min. Please try again in 6ms. Visit https://platform.openai.com/account/rate-limits to learn more.. Retrying Question No. 3 Attempt:(1)\n",
      "Rate limit error: Rate limit reached for gpt-4 in organization org-Y2tKyCPFO6tIjtCtOVZ7c9tr on tokens per min. Limit: 10000 / min. Please try again in 6ms. Visit https://platform.openai.com/account/rate-limits to learn more.. Retrying Question No. 4 Attempt:(1)\n",
      "Rate limit error: Rate limit reached for gpt-4 in organization org-Y2tKyCPFO6tIjtCtOVZ7c9tr on tokens per min. Limit: 10000 / min. Please try again in 6ms. Visit https://platform.openai.com/account/rate-limits to learn more.. Retrying Question No. 5 Attempt:(1)\n",
      "Rate limit error: Rate limit reached for gpt-4 in organization org-Y2tKyCPFO6tIjtCtOVZ7c9tr on tokens per min. Limit: 10000 / min. Please try again in 6ms. Visit https://platform.openai.com/account/rate-limits to learn more.. Retrying Question No. 5 Attempt:(2)\n",
      "Rate limit error: Rate limit reached for gpt-4 in organization org-Y2tKyCPFO6tIjtCtOVZ7c9tr on tokens per min. Limit: 10000 / min. Please try again in 6ms. Visit https://platform.openai.com/account/rate-limits to learn more.. Retrying Question No. 6 Attempt:(1)\n",
      "Rate limit error: Rate limit reached for gpt-4 in organization org-Y2tKyCPFO6tIjtCtOVZ7c9tr on tokens per min. Limit: 10000 / min. Please try again in 6ms. Visit https://platform.openai.com/account/rate-limits to learn more.. Retrying Question No. 7 Attempt:(1)\n",
      "Rate limit error: Rate limit reached for gpt-4 in organization org-Y2tKyCPFO6tIjtCtOVZ7c9tr on tokens per min. Limit: 10000 / min. Please try again in 6ms. Visit https://platform.openai.com/account/rate-limits to learn more.. Retrying Question No. 8 Attempt:(1)\n",
      "Rate limit error: Rate limit reached for gpt-4 in organization org-Y2tKyCPFO6tIjtCtOVZ7c9tr on tokens per min. Limit: 10000 / min. Please try again in 6ms. Visit https://platform.openai.com/account/rate-limits to learn more.. Retrying Question No. 1 Attempt:(1)\n",
      "Rate limit error: Rate limit reached for gpt-4 in organization org-Y2tKyCPFO6tIjtCtOVZ7c9tr on tokens per min. Limit: 10000 / min. Please try again in 6ms. Visit https://platform.openai.com/account/rate-limits to learn more.. Retrying Question No. 3 Attempt:(1)\n",
      "Rate limit error: Rate limit reached for gpt-4 in organization org-Y2tKyCPFO6tIjtCtOVZ7c9tr on tokens per min. Limit: 10000 / min. Please try again in 6ms. Visit https://platform.openai.com/account/rate-limits to learn more.. Retrying Question No. 5 Attempt:(1)\n",
      "Rate limit error: Rate limit reached for gpt-4 in organization org-Y2tKyCPFO6tIjtCtOVZ7c9tr on tokens per min. Limit: 10000 / min. Please try again in 6ms. Visit https://platform.openai.com/account/rate-limits to learn more.. Retrying Question No. 7 Attempt:(1)\n"
     ]
    },
    {
     "name": "stderr",
     "output_type": "stream",
     "text": [
      " 49%|████▉     | 20/41 [2:50:23<2:36:08, 446.10s/it]"
     ]
    },
    {
     "name": "stdout",
     "output_type": "stream",
     "text": [
      "Rate limit error: Rate limit reached for gpt-4 in organization org-Y2tKyCPFO6tIjtCtOVZ7c9tr on tokens per min. Limit: 10000 / min. Please try again in 6ms. Visit https://platform.openai.com/account/rate-limits to learn more.. Retrying Question No. 0 Attempt:(1)\n",
      "Rate limit error: Rate limit reached for gpt-4 in organization org-Y2tKyCPFO6tIjtCtOVZ7c9tr on tokens per min. Limit: 10000 / min. Please try again in 6ms. Visit https://platform.openai.com/account/rate-limits to learn more.. Retrying Question No. 1 Attempt:(1)\n",
      "Rate limit error: Rate limit reached for gpt-4 in organization org-Y2tKyCPFO6tIjtCtOVZ7c9tr on tokens per min. Limit: 10000 / min. Please try again in 6ms. Visit https://platform.openai.com/account/rate-limits to learn more.. Retrying Question No. 1 Attempt:(2)\n",
      "Rate limit error: Rate limit reached for gpt-4 in organization org-Y2tKyCPFO6tIjtCtOVZ7c9tr on tokens per min. Limit: 10000 / min. Please try again in 6ms. Visit https://platform.openai.com/account/rate-limits to learn more.. Retrying Question No. 2 Attempt:(1)\n",
      "Rate limit error: Rate limit reached for gpt-4 in organization org-Y2tKyCPFO6tIjtCtOVZ7c9tr on tokens per min. Limit: 10000 / min. Please try again in 6ms. Visit https://platform.openai.com/account/rate-limits to learn more.. Retrying Question No. 3 Attempt:(1)\n",
      "Rate limit error: Rate limit reached for gpt-4 in organization org-Y2tKyCPFO6tIjtCtOVZ7c9tr on tokens per min. Limit: 10000 / min. Please try again in 6ms. Visit https://platform.openai.com/account/rate-limits to learn more.. Retrying Question No. 4 Attempt:(1)\n",
      "Rate limit error: Rate limit reached for gpt-4 in organization org-Y2tKyCPFO6tIjtCtOVZ7c9tr on tokens per min. Limit: 10000 / min. Please try again in 6ms. Visit https://platform.openai.com/account/rate-limits to learn more.. Retrying Question No. 5 Attempt:(1)\n",
      "Rate limit error: Rate limit reached for gpt-4 in organization org-Y2tKyCPFO6tIjtCtOVZ7c9tr on tokens per min. Limit: 10000 / min. Please try again in 6ms. Visit https://platform.openai.com/account/rate-limits to learn more.. Retrying Question No. 6 Attempt:(1)\n",
      "Rate limit error: Rate limit reached for gpt-4 in organization org-Y2tKyCPFO6tIjtCtOVZ7c9tr on tokens per min. Limit: 10000 / min. Please try again in 6ms. Visit https://platform.openai.com/account/rate-limits to learn more.. Retrying Question No. 7 Attempt:(1)\n",
      "Rate limit error: Rate limit reached for gpt-4 in organization org-Y2tKyCPFO6tIjtCtOVZ7c9tr on tokens per min. Limit: 10000 / min. Please try again in 6ms. Visit https://platform.openai.com/account/rate-limits to learn more.. Retrying Question No. 8 Attempt:(1)\n",
      "Rate limit error: Rate limit reached for gpt-4 in organization org-Y2tKyCPFO6tIjtCtOVZ7c9tr on tokens per min. Limit: 10000 / min. Please try again in 6ms. Visit https://platform.openai.com/account/rate-limits to learn more.. Retrying Question No. 4 Attempt:(1)\n"
     ]
    },
    {
     "name": "stderr",
     "output_type": "stream",
     "text": [
      " 51%|█████     | 21/41 [2:56:15<2:19:16, 417.81s/it]"
     ]
    },
    {
     "name": "stdout",
     "output_type": "stream",
     "text": [
      "Rate limit error: Rate limit reached for gpt-4 in organization org-Y2tKyCPFO6tIjtCtOVZ7c9tr on tokens per min. Limit: 10000 / min. Please try again in 6ms. Visit https://platform.openai.com/account/rate-limits to learn more.. Retrying Question No. 0 Attempt:(1)\n",
      "Rate limit error: Rate limit reached for gpt-4 in organization org-Y2tKyCPFO6tIjtCtOVZ7c9tr on tokens per min. Limit: 10000 / min. Please try again in 6ms. Visit https://platform.openai.com/account/rate-limits to learn more.. Retrying Question No. 1 Attempt:(1)\n",
      "Rate limit error: Rate limit reached for gpt-4 in organization org-Y2tKyCPFO6tIjtCtOVZ7c9tr on tokens per min. Limit: 10000 / min. Please try again in 6ms. Visit https://platform.openai.com/account/rate-limits to learn more.. Retrying Question No. 2 Attempt:(1)\n",
      "Rate limit error: Rate limit reached for gpt-4 in organization org-Y2tKyCPFO6tIjtCtOVZ7c9tr on tokens per min. Limit: 10000 / min. Please try again in 6ms. Visit https://platform.openai.com/account/rate-limits to learn more.. Retrying Question No. 3 Attempt:(1)\n",
      "Rate limit error: Rate limit reached for gpt-4 in organization org-Y2tKyCPFO6tIjtCtOVZ7c9tr on tokens per min. Limit: 10000 / min. Please try again in 6ms. Visit https://platform.openai.com/account/rate-limits to learn more.. Retrying Question No. 4 Attempt:(1)\n",
      "Rate limit error: Rate limit reached for gpt-4 in organization org-Y2tKyCPFO6tIjtCtOVZ7c9tr on tokens per min. Limit: 10000 / min. Please try again in 6ms. Visit https://platform.openai.com/account/rate-limits to learn more.. Retrying Question No. 5 Attempt:(1)\n",
      "Rate limit error: Rate limit reached for gpt-4 in organization org-Y2tKyCPFO6tIjtCtOVZ7c9tr on tokens per min. Limit: 10000 / min. Please try again in 6ms. Visit https://platform.openai.com/account/rate-limits to learn more.. Retrying Question No. 6 Attempt:(1)\n",
      "Rate limit error: Rate limit reached for gpt-4 in organization org-Y2tKyCPFO6tIjtCtOVZ7c9tr on tokens per min. Limit: 10000 / min. Please try again in 6ms. Visit https://platform.openai.com/account/rate-limits to learn more.. Retrying Question No. 6 Attempt:(2)\n",
      "Rate limit error: Rate limit reached for gpt-4 in organization org-Y2tKyCPFO6tIjtCtOVZ7c9tr on tokens per min. Limit: 10000 / min. Please try again in 6ms. Visit https://platform.openai.com/account/rate-limits to learn more.. Retrying Question No. 7 Attempt:(1)\n",
      "Rate limit error: Rate limit reached for gpt-4 in organization org-Y2tKyCPFO6tIjtCtOVZ7c9tr on tokens per min. Limit: 10000 / min. Please try again in 6ms. Visit https://platform.openai.com/account/rate-limits to learn more.. Retrying Question No. 8 Attempt:(1)\n",
      "Rate limit error: Rate limit reached for gpt-4 in organization org-Y2tKyCPFO6tIjtCtOVZ7c9tr on tokens per min. Limit: 10000 / min. Please try again in 6ms. Visit https://platform.openai.com/account/rate-limits to learn more.. Retrying Question No. 1 Attempt:(1)\n",
      "Rate limit error: Rate limit reached for gpt-4 in organization org-Y2tKyCPFO6tIjtCtOVZ7c9tr on tokens per min. Limit: 10000 / min. Please try again in 6ms. Visit https://platform.openai.com/account/rate-limits to learn more.. Retrying Question No. 3 Attempt:(1)\n",
      "Rate limit error: Rate limit reached for gpt-4 in organization org-Y2tKyCPFO6tIjtCtOVZ7c9tr on tokens per min. Limit: 10000 / min. Please try again in 6ms. Visit https://platform.openai.com/account/rate-limits to learn more.. Retrying Question No. 5 Attempt:(1)\n",
      "Rate limit error: Rate limit reached for gpt-4 in organization org-Y2tKyCPFO6tIjtCtOVZ7c9tr on tokens per min. Limit: 10000 / min. Please try again in 6ms. Visit https://platform.openai.com/account/rate-limits to learn more.. Retrying Question No. 8 Attempt:(1)\n"
     ]
    },
    {
     "name": "stderr",
     "output_type": "stream",
     "text": [
      " 54%|█████▎    | 22/41 [3:03:37<2:14:36, 425.09s/it]"
     ]
    },
    {
     "name": "stdout",
     "output_type": "stream",
     "text": [
      "Rate limit error: Rate limit reached for gpt-4 in organization org-Y2tKyCPFO6tIjtCtOVZ7c9tr on tokens per min. Limit: 10000 / min. Please try again in 6ms. Visit https://platform.openai.com/account/rate-limits to learn more.. Retrying Question No. 0 Attempt:(1)\n",
      "Rate limit error: Rate limit reached for gpt-4 in organization org-Y2tKyCPFO6tIjtCtOVZ7c9tr on tokens per min. Limit: 10000 / min. Please try again in 6ms. Visit https://platform.openai.com/account/rate-limits to learn more.. Retrying Question No. 1 Attempt:(1)\n",
      "Rate limit error: Rate limit reached for gpt-4 in organization org-Y2tKyCPFO6tIjtCtOVZ7c9tr on tokens per min. Limit: 10000 / min. Please try again in 6ms. Visit https://platform.openai.com/account/rate-limits to learn more.. Retrying Question No. 2 Attempt:(1)\n",
      "Rate limit error: Rate limit reached for gpt-4 in organization org-Y2tKyCPFO6tIjtCtOVZ7c9tr on tokens per min. Limit: 10000 / min. Please try again in 6ms. Visit https://platform.openai.com/account/rate-limits to learn more.. Retrying Question No. 3 Attempt:(1)\n",
      "Rate limit error: Rate limit reached for gpt-4 in organization org-Y2tKyCPFO6tIjtCtOVZ7c9tr on tokens per min. Limit: 10000 / min. Please try again in 6ms. Visit https://platform.openai.com/account/rate-limits to learn more.. Retrying Question No. 4 Attempt:(1)\n",
      "Rate limit error: Rate limit reached for gpt-4 in organization org-Y2tKyCPFO6tIjtCtOVZ7c9tr on tokens per min. Limit: 10000 / min. Please try again in 6ms. Visit https://platform.openai.com/account/rate-limits to learn more.. Retrying Question No. 5 Attempt:(1)\n",
      "Rate limit error: Rate limit reached for gpt-4 in organization org-Y2tKyCPFO6tIjtCtOVZ7c9tr on tokens per min. Limit: 10000 / min. Please try again in 6ms. Visit https://platform.openai.com/account/rate-limits to learn more.. Retrying Question No. 6 Attempt:(1)\n",
      "Rate limit error: Rate limit reached for gpt-4 in organization org-Y2tKyCPFO6tIjtCtOVZ7c9tr on tokens per min. Limit: 10000 / min. Please try again in 6ms. Visit https://platform.openai.com/account/rate-limits to learn more.. Retrying Question No. 6 Attempt:(2)\n",
      "Rate limit error: Rate limit reached for gpt-4 in organization org-Y2tKyCPFO6tIjtCtOVZ7c9tr on tokens per min. Limit: 10000 / min. Please try again in 6ms. Visit https://platform.openai.com/account/rate-limits to learn more.. Retrying Question No. 7 Attempt:(1)\n",
      "Rate limit error: Rate limit reached for gpt-4 in organization org-Y2tKyCPFO6tIjtCtOVZ7c9tr on tokens per min. Limit: 10000 / min. Please try again in 6ms. Visit https://platform.openai.com/account/rate-limits to learn more.. Retrying Question No. 8 Attempt:(1)\n"
     ]
    },
    {
     "name": "stderr",
     "output_type": "stream",
     "text": [
      " 56%|█████▌    | 23/41 [3:08:52<1:57:37, 392.06s/it]"
     ]
    },
    {
     "name": "stdout",
     "output_type": "stream",
     "text": [
      "Rate limit error: Rate limit reached for gpt-4 in organization org-Y2tKyCPFO6tIjtCtOVZ7c9tr on tokens per min. Limit: 10000 / min. Please try again in 6ms. Visit https://platform.openai.com/account/rate-limits to learn more.. Retrying Question No. 0 Attempt:(1)\n",
      "Rate limit error: Rate limit reached for gpt-4 in organization org-Y2tKyCPFO6tIjtCtOVZ7c9tr on tokens per min. Limit: 10000 / min. Please try again in 6ms. Visit https://platform.openai.com/account/rate-limits to learn more.. Retrying Question No. 1 Attempt:(1)\n",
      "Rate limit error: Rate limit reached for gpt-4 in organization org-Y2tKyCPFO6tIjtCtOVZ7c9tr on tokens per min. Limit: 10000 / min. Please try again in 6ms. Visit https://platform.openai.com/account/rate-limits to learn more.. Retrying Question No. 2 Attempt:(1)\n",
      "Rate limit error: Rate limit reached for gpt-4 in organization org-Y2tKyCPFO6tIjtCtOVZ7c9tr on tokens per min. Limit: 10000 / min. Please try again in 6ms. Visit https://platform.openai.com/account/rate-limits to learn more.. Retrying Question No. 3 Attempt:(1)\n",
      "Rate limit error: Rate limit reached for gpt-4 in organization org-Y2tKyCPFO6tIjtCtOVZ7c9tr on tokens per min. Limit: 10000 / min. Please try again in 6ms. Visit https://platform.openai.com/account/rate-limits to learn more.. Retrying Question No. 4 Attempt:(1)\n",
      "Rate limit error: Rate limit reached for gpt-4 in organization org-Y2tKyCPFO6tIjtCtOVZ7c9tr on tokens per min. Limit: 10000 / min. Please try again in 6ms. Visit https://platform.openai.com/account/rate-limits to learn more.. Retrying Question No. 4 Attempt:(2)\n",
      "Rate limit error: Rate limit reached for gpt-4 in organization org-Y2tKyCPFO6tIjtCtOVZ7c9tr on tokens per min. Limit: 10000 / min. Please try again in 6ms. Visit https://platform.openai.com/account/rate-limits to learn more.. Retrying Question No. 5 Attempt:(1)\n",
      "Rate limit error: Rate limit reached for gpt-4 in organization org-Y2tKyCPFO6tIjtCtOVZ7c9tr on tokens per min. Limit: 10000 / min. Please try again in 6ms. Visit https://platform.openai.com/account/rate-limits to learn more.. Retrying Question No. 6 Attempt:(1)\n",
      "Rate limit error: Rate limit reached for gpt-4 in organization org-Y2tKyCPFO6tIjtCtOVZ7c9tr on tokens per min. Limit: 10000 / min. Please try again in 6ms. Visit https://platform.openai.com/account/rate-limits to learn more.. Retrying Question No. 7 Attempt:(1)\n",
      "Rate limit error: Rate limit reached for gpt-4 in organization org-Y2tKyCPFO6tIjtCtOVZ7c9tr on tokens per min. Limit: 10000 / min. Please try again in 6ms. Visit https://platform.openai.com/account/rate-limits to learn more.. Retrying Question No. 8 Attempt:(1)\n",
      "Rate limit error: Rate limit reached for gpt-4 in organization org-Y2tKyCPFO6tIjtCtOVZ7c9tr on tokens per min. Limit: 10000 / min. Please try again in 6ms. Visit https://platform.openai.com/account/rate-limits to learn more.. Retrying Question No. 2 Attempt:(1)\n"
     ]
    },
    {
     "name": "stderr",
     "output_type": "stream",
     "text": [
      " 59%|█████▊    | 24/41 [3:14:50<1:48:11, 381.84s/it]"
     ]
    },
    {
     "name": "stdout",
     "output_type": "stream",
     "text": [
      "Rate limit error: Rate limit reached for gpt-4 in organization org-Y2tKyCPFO6tIjtCtOVZ7c9tr on tokens per min. Limit: 10000 / min. Please try again in 6ms. Visit https://platform.openai.com/account/rate-limits to learn more.. Retrying Question No. 0 Attempt:(1)\n",
      "Rate limit error: Rate limit reached for gpt-4 in organization org-Y2tKyCPFO6tIjtCtOVZ7c9tr on tokens per min. Limit: 10000 / min. Please try again in 6ms. Visit https://platform.openai.com/account/rate-limits to learn more.. Retrying Question No. 1 Attempt:(1)\n",
      "Rate limit error: Rate limit reached for gpt-4 in organization org-Y2tKyCPFO6tIjtCtOVZ7c9tr on tokens per min. Limit: 10000 / min. Please try again in 6ms. Visit https://platform.openai.com/account/rate-limits to learn more.. Retrying Question No. 2 Attempt:(1)\n",
      "Rate limit error: Rate limit reached for gpt-4 in organization org-Y2tKyCPFO6tIjtCtOVZ7c9tr on tokens per min. Limit: 10000 / min. Please try again in 6ms. Visit https://platform.openai.com/account/rate-limits to learn more.. Retrying Question No. 3 Attempt:(1)\n",
      "Rate limit error: Rate limit reached for gpt-4 in organization org-Y2tKyCPFO6tIjtCtOVZ7c9tr on tokens per min. Limit: 10000 / min. Please try again in 6ms. Visit https://platform.openai.com/account/rate-limits to learn more.. Retrying Question No. 4 Attempt:(1)\n",
      "Rate limit error: Rate limit reached for gpt-4 in organization org-Y2tKyCPFO6tIjtCtOVZ7c9tr on tokens per min. Limit: 10000 / min. Please try again in 6ms. Visit https://platform.openai.com/account/rate-limits to learn more.. Retrying Question No. 4 Attempt:(2)\n",
      "Rate limit error: Rate limit reached for gpt-4 in organization org-Y2tKyCPFO6tIjtCtOVZ7c9tr on tokens per min. Limit: 10000 / min. Please try again in 6ms. Visit https://platform.openai.com/account/rate-limits to learn more.. Retrying Question No. 5 Attempt:(1)\n",
      "Rate limit error: Rate limit reached for gpt-4 in organization org-Y2tKyCPFO6tIjtCtOVZ7c9tr on tokens per min. Limit: 10000 / min. Please try again in 6ms. Visit https://platform.openai.com/account/rate-limits to learn more.. Retrying Question No. 6 Attempt:(1)\n",
      "Rate limit error: Rate limit reached for gpt-4 in organization org-Y2tKyCPFO6tIjtCtOVZ7c9tr on tokens per min. Limit: 10000 / min. Please try again in 6ms. Visit https://platform.openai.com/account/rate-limits to learn more.. Retrying Question No. 7 Attempt:(1)\n",
      "Rate limit error: Rate limit reached for gpt-4 in organization org-Y2tKyCPFO6tIjtCtOVZ7c9tr on tokens per min. Limit: 10000 / min. Please try again in 6ms. Visit https://platform.openai.com/account/rate-limits to learn more.. Retrying Question No. 8 Attempt:(1)\n",
      "Rate limit error: Rate limit reached for gpt-4 in organization org-Y2tKyCPFO6tIjtCtOVZ7c9tr on tokens per min. Limit: 10000 / min. Please try again in 6ms. Visit https://platform.openai.com/account/rate-limits to learn more.. Retrying Question No. 0 Attempt:(1)\n",
      "Rate limit error: Rate limit reached for gpt-4 in organization org-Y2tKyCPFO6tIjtCtOVZ7c9tr on tokens per min. Limit: 10000 / min. Please try again in 6ms. Visit https://platform.openai.com/account/rate-limits to learn more.. Retrying Question No. 1 Attempt:(1)\n",
      "Rate limit error: Rate limit reached for gpt-4 in organization org-Y2tKyCPFO6tIjtCtOVZ7c9tr on tokens per min. Limit: 10000 / min. Please try again in 6ms. Visit https://platform.openai.com/account/rate-limits to learn more.. Retrying Question No. 3 Attempt:(1)\n",
      "Rate limit error: Rate limit reached for gpt-4 in organization org-Y2tKyCPFO6tIjtCtOVZ7c9tr on tokens per min. Limit: 10000 / min. Please try again in 6ms. Visit https://platform.openai.com/account/rate-limits to learn more.. Retrying Question No. 4 Attempt:(1)\n",
      "Rate limit error: Rate limit reached for gpt-4 in organization org-Y2tKyCPFO6tIjtCtOVZ7c9tr on tokens per min. Limit: 10000 / min. Please try again in 6ms. Visit https://platform.openai.com/account/rate-limits to learn more.. Retrying Question No. 6 Attempt:(1)\n",
      "Rate limit error: Rate limit reached for gpt-4 in organization org-Y2tKyCPFO6tIjtCtOVZ7c9tr on tokens per min. Limit: 10000 / min. Please try again in 6ms. Visit https://platform.openai.com/account/rate-limits to learn more.. Retrying Question No. 7 Attempt:(1)\n"
     ]
    },
    {
     "name": "stderr",
     "output_type": "stream",
     "text": [
      " 61%|██████    | 25/41 [3:23:17<1:51:47, 419.21s/it]"
     ]
    },
    {
     "name": "stdout",
     "output_type": "stream",
     "text": [
      "Rate limit error: Rate limit reached for gpt-4 in organization org-Y2tKyCPFO6tIjtCtOVZ7c9tr on tokens per min. Limit: 10000 / min. Please try again in 6ms. Visit https://platform.openai.com/account/rate-limits to learn more.. Retrying Question No. 0 Attempt:(1)\n",
      "Rate limit error: Rate limit reached for gpt-4 in organization org-Y2tKyCPFO6tIjtCtOVZ7c9tr on tokens per min. Limit: 10000 / min. Please try again in 6ms. Visit https://platform.openai.com/account/rate-limits to learn more.. Retrying Question No. 0 Attempt:(2)\n",
      "Rate limit error: Rate limit reached for gpt-4 in organization org-Y2tKyCPFO6tIjtCtOVZ7c9tr on tokens per min. Limit: 10000 / min. Please try again in 6ms. Visit https://platform.openai.com/account/rate-limits to learn more.. Retrying Question No. 1 Attempt:(1)\n",
      "Rate limit error: Rate limit reached for gpt-4 in organization org-Y2tKyCPFO6tIjtCtOVZ7c9tr on tokens per min. Limit: 10000 / min. Please try again in 6ms. Visit https://platform.openai.com/account/rate-limits to learn more.. Retrying Question No. 2 Attempt:(1)\n",
      "Rate limit error: Rate limit reached for gpt-4 in organization org-Y2tKyCPFO6tIjtCtOVZ7c9tr on tokens per min. Limit: 10000 / min. Please try again in 6ms. Visit https://platform.openai.com/account/rate-limits to learn more.. Retrying Question No. 3 Attempt:(1)\n",
      "Rate limit error: Rate limit reached for gpt-4 in organization org-Y2tKyCPFO6tIjtCtOVZ7c9tr on tokens per min. Limit: 10000 / min. Please try again in 6ms. Visit https://platform.openai.com/account/rate-limits to learn more.. Retrying Question No. 4 Attempt:(1)\n",
      "Rate limit error: Rate limit reached for gpt-4 in organization org-Y2tKyCPFO6tIjtCtOVZ7c9tr on tokens per min. Limit: 10000 / min. Please try again in 6ms. Visit https://platform.openai.com/account/rate-limits to learn more.. Retrying Question No. 5 Attempt:(1)\n",
      "Rate limit error: Rate limit reached for gpt-4 in organization org-Y2tKyCPFO6tIjtCtOVZ7c9tr on tokens per min. Limit: 10000 / min. Please try again in 6ms. Visit https://platform.openai.com/account/rate-limits to learn more.. Retrying Question No. 5 Attempt:(2)\n",
      "Rate limit error: Rate limit reached for gpt-4 in organization org-Y2tKyCPFO6tIjtCtOVZ7c9tr on tokens per min. Limit: 10000 / min. Please try again in 6ms. Visit https://platform.openai.com/account/rate-limits to learn more.. Retrying Question No. 6 Attempt:(1)\n",
      "Rate limit error: Rate limit reached for gpt-4 in organization org-Y2tKyCPFO6tIjtCtOVZ7c9tr on tokens per min. Limit: 10000 / min. Please try again in 6ms. Visit https://platform.openai.com/account/rate-limits to learn more.. Retrying Question No. 7 Attempt:(1)\n",
      "Rate limit error: Rate limit reached for gpt-4 in organization org-Y2tKyCPFO6tIjtCtOVZ7c9tr on tokens per min. Limit: 10000 / min. Please try again in 6ms. Visit https://platform.openai.com/account/rate-limits to learn more.. Retrying Question No. 8 Attempt:(1)\n"
     ]
    },
    {
     "name": "stderr",
     "output_type": "stream",
     "text": [
      " 63%|██████▎   | 26/41 [3:29:01<1:39:08, 396.58s/it]"
     ]
    },
    {
     "name": "stdout",
     "output_type": "stream",
     "text": [
      "Rate limit error: Rate limit reached for gpt-4 in organization org-Y2tKyCPFO6tIjtCtOVZ7c9tr on tokens per min. Limit: 10000 / min. Please try again in 6ms. Visit https://platform.openai.com/account/rate-limits to learn more.. Retrying Question No. 0 Attempt:(1)\n",
      "Rate limit error: Rate limit reached for gpt-4 in organization org-Y2tKyCPFO6tIjtCtOVZ7c9tr on tokens per min. Limit: 10000 / min. Please try again in 6ms. Visit https://platform.openai.com/account/rate-limits to learn more.. Retrying Question No. 1 Attempt:(1)\n",
      "Rate limit error: Rate limit reached for gpt-4 in organization org-Y2tKyCPFO6tIjtCtOVZ7c9tr on tokens per min. Limit: 10000 / min. Please try again in 6ms. Visit https://platform.openai.com/account/rate-limits to learn more.. Retrying Question No. 2 Attempt:(1)\n",
      "Rate limit error: Rate limit reached for gpt-4 in organization org-Y2tKyCPFO6tIjtCtOVZ7c9tr on tokens per min. Limit: 10000 / min. Please try again in 6ms. Visit https://platform.openai.com/account/rate-limits to learn more.. Retrying Question No. 3 Attempt:(1)\n",
      "Rate limit error: Rate limit reached for gpt-4 in organization org-Y2tKyCPFO6tIjtCtOVZ7c9tr on tokens per min. Limit: 10000 / min. Please try again in 6ms. Visit https://platform.openai.com/account/rate-limits to learn more.. Retrying Question No. 4 Attempt:(1)\n",
      "Rate limit error: Rate limit reached for gpt-4 in organization org-Y2tKyCPFO6tIjtCtOVZ7c9tr on tokens per min. Limit: 10000 / min. Please try again in 6ms. Visit https://platform.openai.com/account/rate-limits to learn more.. Retrying Question No. 5 Attempt:(1)\n",
      "Rate limit error: Rate limit reached for gpt-4 in organization org-Y2tKyCPFO6tIjtCtOVZ7c9tr on tokens per min. Limit: 10000 / min. Please try again in 6ms. Visit https://platform.openai.com/account/rate-limits to learn more.. Retrying Question No. 5 Attempt:(2)\n",
      "Rate limit error: Rate limit reached for gpt-4 in organization org-Y2tKyCPFO6tIjtCtOVZ7c9tr on tokens per min. Limit: 10000 / min. Please try again in 6ms. Visit https://platform.openai.com/account/rate-limits to learn more.. Retrying Question No. 6 Attempt:(1)\n",
      "Rate limit error: Rate limit reached for gpt-4 in organization org-Y2tKyCPFO6tIjtCtOVZ7c9tr on tokens per min. Limit: 10000 / min. Please try again in 6ms. Visit https://platform.openai.com/account/rate-limits to learn more.. Retrying Question No. 7 Attempt:(1)\n",
      "Rate limit error: Rate limit reached for gpt-4 in organization org-Y2tKyCPFO6tIjtCtOVZ7c9tr on tokens per min. Limit: 10000 / min. Please try again in 6ms. Visit https://platform.openai.com/account/rate-limits to learn more.. Retrying Question No. 8 Attempt:(1)\n"
     ]
    },
    {
     "name": "stderr",
     "output_type": "stream",
     "text": [
      " 66%|██████▌   | 27/41 [3:34:15<1:26:45, 371.82s/it]"
     ]
    },
    {
     "name": "stdout",
     "output_type": "stream",
     "text": [
      "Rate limit error: Rate limit reached for gpt-4 in organization org-Y2tKyCPFO6tIjtCtOVZ7c9tr on tokens per min. Limit: 10000 / min. Please try again in 6ms. Visit https://platform.openai.com/account/rate-limits to learn more.. Retrying Question No. 0 Attempt:(1)\n",
      "Rate limit error: Rate limit reached for gpt-4 in organization org-Y2tKyCPFO6tIjtCtOVZ7c9tr on tokens per min. Limit: 10000 / min. Please try again in 6ms. Visit https://platform.openai.com/account/rate-limits to learn more.. Retrying Question No. 2 Attempt:(1)\n",
      "Rate limit error: Rate limit reached for gpt-4 in organization org-Y2tKyCPFO6tIjtCtOVZ7c9tr on tokens per min. Limit: 10000 / min. Please try again in 6ms. Visit https://platform.openai.com/account/rate-limits to learn more.. Retrying Question No. 3 Attempt:(1)\n",
      "Rate limit error: Rate limit reached for gpt-4 in organization org-Y2tKyCPFO6tIjtCtOVZ7c9tr on tokens per min. Limit: 10000 / min. Please try again in 6ms. Visit https://platform.openai.com/account/rate-limits to learn more.. Retrying Question No. 4 Attempt:(1)\n",
      "Rate limit error: Rate limit reached for gpt-4 in organization org-Y2tKyCPFO6tIjtCtOVZ7c9tr on tokens per min. Limit: 10000 / min. Please try again in 6ms. Visit https://platform.openai.com/account/rate-limits to learn more.. Retrying Question No. 6 Attempt:(1)\n",
      "Rate limit error: Rate limit reached for gpt-4 in organization org-Y2tKyCPFO6tIjtCtOVZ7c9tr on tokens per min. Limit: 10000 / min. Please try again in 6ms. Visit https://platform.openai.com/account/rate-limits to learn more.. Retrying Question No. 7 Attempt:(1)\n",
      "Rate limit error: Rate limit reached for gpt-4 in organization org-Y2tKyCPFO6tIjtCtOVZ7c9tr on tokens per min. Limit: 10000 / min. Please try again in 6ms. Visit https://platform.openai.com/account/rate-limits to learn more.. Retrying Question No. 8 Attempt:(1)\n"
     ]
    },
    {
     "name": "stderr",
     "output_type": "stream",
     "text": [
      " 68%|██████▊   | 28/41 [3:37:56<1:10:47, 326.77s/it]"
     ]
    },
    {
     "name": "stdout",
     "output_type": "stream",
     "text": [
      "Rate limit error: Rate limit reached for gpt-4 in organization org-Y2tKyCPFO6tIjtCtOVZ7c9tr on tokens per min. Limit: 10000 / min. Please try again in 6ms. Visit https://platform.openai.com/account/rate-limits to learn more.. Retrying Question No. 1 Attempt:(1)\n",
      "Rate limit error: Rate limit reached for gpt-4 in organization org-Y2tKyCPFO6tIjtCtOVZ7c9tr on tokens per min. Limit: 10000 / min. Please try again in 6ms. Visit https://platform.openai.com/account/rate-limits to learn more.. Retrying Question No. 2 Attempt:(1)\n",
      "Rate limit error: Rate limit reached for gpt-4 in organization org-Y2tKyCPFO6tIjtCtOVZ7c9tr on tokens per min. Limit: 10000 / min. Please try again in 6ms. Visit https://platform.openai.com/account/rate-limits to learn more.. Retrying Question No. 4 Attempt:(1)\n",
      "Rate limit error: Rate limit reached for gpt-4 in organization org-Y2tKyCPFO6tIjtCtOVZ7c9tr on tokens per min. Limit: 10000 / min. Please try again in 6ms. Visit https://platform.openai.com/account/rate-limits to learn more.. Retrying Question No. 6 Attempt:(1)\n",
      "Rate limit error: Rate limit reached for gpt-4 in organization org-Y2tKyCPFO6tIjtCtOVZ7c9tr on tokens per min. Limit: 10000 / min. Please try again in 6ms. Visit https://platform.openai.com/account/rate-limits to learn more.. Retrying Question No. 7 Attempt:(1)\n"
     ]
    },
    {
     "name": "stderr",
     "output_type": "stream",
     "text": [
      " 71%|███████   | 29/41 [3:40:38<55:28, 277.35s/it]  "
     ]
    },
    {
     "name": "stdout",
     "output_type": "stream",
     "text": [
      "Rate limit error: Rate limit reached for gpt-4 in organization org-Y2tKyCPFO6tIjtCtOVZ7c9tr on tokens per min. Limit: 10000 / min. Please try again in 6ms. Visit https://platform.openai.com/account/rate-limits to learn more.. Retrying Question No. 0 Attempt:(1)\n",
      "Rate limit error: Rate limit reached for gpt-4 in organization org-Y2tKyCPFO6tIjtCtOVZ7c9tr on tokens per min. Limit: 10000 / min. Please try again in 6ms. Visit https://platform.openai.com/account/rate-limits to learn more.. Retrying Question No. 1 Attempt:(1)\n",
      "Rate limit error: Rate limit reached for gpt-4 in organization org-Y2tKyCPFO6tIjtCtOVZ7c9tr on tokens per min. Limit: 10000 / min. Please try again in 6ms. Visit https://platform.openai.com/account/rate-limits to learn more.. Retrying Question No. 2 Attempt:(1)\n",
      "Rate limit error: Rate limit reached for gpt-4 in organization org-Y2tKyCPFO6tIjtCtOVZ7c9tr on tokens per min. Limit: 10000 / min. Please try again in 6ms. Visit https://platform.openai.com/account/rate-limits to learn more.. Retrying Question No. 2 Attempt:(2)\n",
      "Rate limit error: Rate limit reached for gpt-4 in organization org-Y2tKyCPFO6tIjtCtOVZ7c9tr on tokens per min. Limit: 10000 / min. Please try again in 6ms. Visit https://platform.openai.com/account/rate-limits to learn more.. Retrying Question No. 3 Attempt:(1)\n",
      "Rate limit error: Rate limit reached for gpt-4 in organization org-Y2tKyCPFO6tIjtCtOVZ7c9tr on tokens per min. Limit: 10000 / min. Please try again in 6ms. Visit https://platform.openai.com/account/rate-limits to learn more.. Retrying Question No. 4 Attempt:(1)\n",
      "Rate limit error: Rate limit reached for gpt-4 in organization org-Y2tKyCPFO6tIjtCtOVZ7c9tr on tokens per min. Limit: 10000 / min. Please try again in 6ms. Visit https://platform.openai.com/account/rate-limits to learn more.. Retrying Question No. 5 Attempt:(1)\n",
      "Rate limit error: Rate limit reached for gpt-4 in organization org-Y2tKyCPFO6tIjtCtOVZ7c9tr on tokens per min. Limit: 10000 / min. Please try again in 6ms. Visit https://platform.openai.com/account/rate-limits to learn more.. Retrying Question No. 6 Attempt:(1)\n",
      "Rate limit error: Rate limit reached for gpt-4 in organization org-Y2tKyCPFO6tIjtCtOVZ7c9tr on tokens per min. Limit: 10000 / min. Please try again in 6ms. Visit https://platform.openai.com/account/rate-limits to learn more.. Retrying Question No. 7 Attempt:(1)\n",
      "Rate limit error: Rate limit reached for gpt-4 in organization org-Y2tKyCPFO6tIjtCtOVZ7c9tr on tokens per min. Limit: 10000 / min. Please try again in 6ms. Visit https://platform.openai.com/account/rate-limits to learn more.. Retrying Question No. 8 Attempt:(1)\n",
      "Rate limit error: Rate limit reached for gpt-4 in organization org-Y2tKyCPFO6tIjtCtOVZ7c9tr on tokens per min. Limit: 10000 / min. Please try again in 6ms. Visit https://platform.openai.com/account/rate-limits to learn more.. Retrying Question No. 0 Attempt:(1)\n",
      "Rate limit error: Rate limit reached for gpt-4 in organization org-Y2tKyCPFO6tIjtCtOVZ7c9tr on tokens per min. Limit: 10000 / min. Please try again in 6ms. Visit https://platform.openai.com/account/rate-limits to learn more.. Retrying Question No. 1 Attempt:(1)\n",
      "Rate limit error: Rate limit reached for gpt-4 in organization org-Y2tKyCPFO6tIjtCtOVZ7c9tr on tokens per min. Limit: 10000 / min. Please try again in 6ms. Visit https://platform.openai.com/account/rate-limits to learn more.. Retrying Question No. 2 Attempt:(1)\n",
      "Rate limit error: Rate limit reached for gpt-4 in organization org-Y2tKyCPFO6tIjtCtOVZ7c9tr on tokens per min. Limit: 10000 / min. Please try again in 6ms. Visit https://platform.openai.com/account/rate-limits to learn more.. Retrying Question No. 3 Attempt:(1)\n",
      "Rate limit error: Rate limit reached for gpt-4 in organization org-Y2tKyCPFO6tIjtCtOVZ7c9tr on tokens per min. Limit: 10000 / min. Please try again in 6ms. Visit https://platform.openai.com/account/rate-limits to learn more.. Retrying Question No. 4 Attempt:(1)\n",
      "Rate limit error: Rate limit reached for gpt-4 in organization org-Y2tKyCPFO6tIjtCtOVZ7c9tr on tokens per min. Limit: 10000 / min. Please try again in 6ms. Visit https://platform.openai.com/account/rate-limits to learn more.. Retrying Question No. 5 Attempt:(1)\n",
      "Rate limit error: Rate limit reached for gpt-4 in organization org-Y2tKyCPFO6tIjtCtOVZ7c9tr on tokens per min. Limit: 10000 / min. Please try again in 6ms. Visit https://platform.openai.com/account/rate-limits to learn more.. Retrying Question No. 6 Attempt:(1)\n",
      "Rate limit error: Rate limit reached for gpt-4 in organization org-Y2tKyCPFO6tIjtCtOVZ7c9tr on tokens per min. Limit: 10000 / min. Please try again in 6ms. Visit https://platform.openai.com/account/rate-limits to learn more.. Retrying Question No. 7 Attempt:(1)\n",
      "Rate limit error: Rate limit reached for gpt-4 in organization org-Y2tKyCPFO6tIjtCtOVZ7c9tr on tokens per min. Limit: 10000 / min. Please try again in 6ms. Visit https://platform.openai.com/account/rate-limits to learn more.. Retrying Question No. 8 Attempt:(1)\n",
      "Rate limit error: Rate limit reached for gpt-4 in organization org-Y2tKyCPFO6tIjtCtOVZ7c9tr on tokens per min. Limit: 10000 / min. Please try again in 6ms. Visit https://platform.openai.com/account/rate-limits to learn more.. Retrying Question No. 0 Attempt:(1)\n",
      "Rate limit error: Rate limit reached for gpt-4 in organization org-Y2tKyCPFO6tIjtCtOVZ7c9tr on tokens per min. Limit: 10000 / min. Please try again in 6ms. Visit https://platform.openai.com/account/rate-limits to learn more.. Retrying Question No. 1 Attempt:(1)\n",
      "Rate limit error: Rate limit reached for gpt-4 in organization org-Y2tKyCPFO6tIjtCtOVZ7c9tr on tokens per min. Limit: 10000 / min. Please try again in 6ms. Visit https://platform.openai.com/account/rate-limits to learn more.. Retrying Question No. 2 Attempt:(1)\n",
      "Rate limit error: Rate limit reached for gpt-4 in organization org-Y2tKyCPFO6tIjtCtOVZ7c9tr on tokens per min. Limit: 10000 / min. Please try again in 6ms. Visit https://platform.openai.com/account/rate-limits to learn more.. Retrying Question No. 3 Attempt:(1)\n",
      "Rate limit error: Rate limit reached for gpt-4 in organization org-Y2tKyCPFO6tIjtCtOVZ7c9tr on tokens per min. Limit: 10000 / min. Please try again in 6ms. Visit https://platform.openai.com/account/rate-limits to learn more.. Retrying Question No. 4 Attempt:(1)\n",
      "Rate limit error: Rate limit reached for gpt-4 in organization org-Y2tKyCPFO6tIjtCtOVZ7c9tr on tokens per min. Limit: 10000 / min. Please try again in 6ms. Visit https://platform.openai.com/account/rate-limits to learn more.. Retrying Question No. 5 Attempt:(1)\n",
      "Rate limit error: Rate limit reached for gpt-4 in organization org-Y2tKyCPFO6tIjtCtOVZ7c9tr on tokens per min. Limit: 10000 / min. Please try again in 6ms. Visit https://platform.openai.com/account/rate-limits to learn more.. Retrying Question No. 6 Attempt:(1)\n",
      "Rate limit error: Rate limit reached for gpt-4 in organization org-Y2tKyCPFO6tIjtCtOVZ7c9tr on tokens per min. Limit: 10000 / min. Please try again in 6ms. Visit https://platform.openai.com/account/rate-limits to learn more.. Retrying Question No. 7 Attempt:(1)\n",
      "Rate limit error: Rate limit reached for gpt-4 in organization org-Y2tKyCPFO6tIjtCtOVZ7c9tr on tokens per min. Limit: 10000 / min. Please try again in 6ms. Visit https://platform.openai.com/account/rate-limits to learn more.. Retrying Question No. 8 Attempt:(1)\n"
     ]
    },
    {
     "name": "stderr",
     "output_type": "stream",
     "text": [
      " 73%|███████▎  | 30/41 [3:55:19<1:24:00, 458.24s/it]"
     ]
    },
    {
     "name": "stdout",
     "output_type": "stream",
     "text": [
      "Rate limit error: Rate limit reached for gpt-4 in organization org-Y2tKyCPFO6tIjtCtOVZ7c9tr on tokens per min. Limit: 10000 / min. Please try again in 6ms. Visit https://platform.openai.com/account/rate-limits to learn more.. Retrying Question No. 0 Attempt:(1)\n",
      "Rate limit error: Rate limit reached for gpt-4 in organization org-Y2tKyCPFO6tIjtCtOVZ7c9tr on tokens per min. Limit: 10000 / min. Please try again in 6ms. Visit https://platform.openai.com/account/rate-limits to learn more.. Retrying Question No. 1 Attempt:(1)\n",
      "Rate limit error: Rate limit reached for gpt-4 in organization org-Y2tKyCPFO6tIjtCtOVZ7c9tr on tokens per min. Limit: 10000 / min. Please try again in 6ms. Visit https://platform.openai.com/account/rate-limits to learn more.. Retrying Question No. 2 Attempt:(1)\n",
      "Rate limit error: Rate limit reached for gpt-4 in organization org-Y2tKyCPFO6tIjtCtOVZ7c9tr on tokens per min. Limit: 10000 / min. Please try again in 6ms. Visit https://platform.openai.com/account/rate-limits to learn more.. Retrying Question No. 3 Attempt:(1)\n",
      "Rate limit error: Rate limit reached for gpt-4 in organization org-Y2tKyCPFO6tIjtCtOVZ7c9tr on tokens per min. Limit: 10000 / min. Please try again in 6ms. Visit https://platform.openai.com/account/rate-limits to learn more.. Retrying Question No. 3 Attempt:(2)\n",
      "Rate limit error: Rate limit reached for gpt-4 in organization org-Y2tKyCPFO6tIjtCtOVZ7c9tr on tokens per min. Limit: 10000 / min. Please try again in 6ms. Visit https://platform.openai.com/account/rate-limits to learn more.. Retrying Question No. 4 Attempt:(1)\n",
      "Rate limit error: Rate limit reached for gpt-4 in organization org-Y2tKyCPFO6tIjtCtOVZ7c9tr on tokens per min. Limit: 10000 / min. Please try again in 6ms. Visit https://platform.openai.com/account/rate-limits to learn more.. Retrying Question No. 5 Attempt:(1)\n",
      "Rate limit error: Rate limit reached for gpt-4 in organization org-Y2tKyCPFO6tIjtCtOVZ7c9tr on tokens per min. Limit: 10000 / min. Please try again in 6ms. Visit https://platform.openai.com/account/rate-limits to learn more.. Retrying Question No. 6 Attempt:(1)\n",
      "Rate limit error: Rate limit reached for gpt-4 in organization org-Y2tKyCPFO6tIjtCtOVZ7c9tr on tokens per min. Limit: 10000 / min. Please try again in 6ms. Visit https://platform.openai.com/account/rate-limits to learn more.. Retrying Question No. 7 Attempt:(1)\n",
      "Rate limit error: Rate limit reached for gpt-4 in organization org-Y2tKyCPFO6tIjtCtOVZ7c9tr on tokens per min. Limit: 10000 / min. Please try again in 6ms. Visit https://platform.openai.com/account/rate-limits to learn more.. Retrying Question No. 8 Attempt:(1)\n",
      "Rate limit error: Rate limit reached for gpt-4 in organization org-Y2tKyCPFO6tIjtCtOVZ7c9tr on tokens per min. Limit: 10000 / min. Please try again in 6ms. Visit https://platform.openai.com/account/rate-limits to learn more.. Retrying Question No. 1 Attempt:(1)\n",
      "Rate limit error: Rate limit reached for gpt-4 in organization org-Y2tKyCPFO6tIjtCtOVZ7c9tr on tokens per min. Limit: 10000 / min. Please try again in 6ms. Visit https://platform.openai.com/account/rate-limits to learn more.. Retrying Question No. 5 Attempt:(1)\n",
      "Rate limit error: Rate limit reached for gpt-4 in organization org-Y2tKyCPFO6tIjtCtOVZ7c9tr on tokens per min. Limit: 10000 / min. Please try again in 6ms. Visit https://platform.openai.com/account/rate-limits to learn more.. Retrying Question No. 8 Attempt:(1)\n"
     ]
    },
    {
     "name": "stderr",
     "output_type": "stream",
     "text": [
      " 76%|███████▌  | 31/41 [4:02:11<1:14:03, 444.33s/it]"
     ]
    },
    {
     "name": "stdout",
     "output_type": "stream",
     "text": [
      "Rate limit error: Rate limit reached for gpt-4 in organization org-Y2tKyCPFO6tIjtCtOVZ7c9tr on tokens per min. Limit: 10000 / min. Please try again in 6ms. Visit https://platform.openai.com/account/rate-limits to learn more.. Retrying Question No. 0 Attempt:(1)\n",
      "Rate limit error: Rate limit reached for gpt-4 in organization org-Y2tKyCPFO6tIjtCtOVZ7c9tr on tokens per min. Limit: 10000 / min. Please try again in 6ms. Visit https://platform.openai.com/account/rate-limits to learn more.. Retrying Question No. 1 Attempt:(1)\n",
      "Rate limit error: Rate limit reached for gpt-4 in organization org-Y2tKyCPFO6tIjtCtOVZ7c9tr on tokens per min. Limit: 10000 / min. Please try again in 6ms. Visit https://platform.openai.com/account/rate-limits to learn more.. Retrying Question No. 2 Attempt:(1)\n",
      "Rate limit error: Rate limit reached for gpt-4 in organization org-Y2tKyCPFO6tIjtCtOVZ7c9tr on tokens per min. Limit: 10000 / min. Please try again in 6ms. Visit https://platform.openai.com/account/rate-limits to learn more.. Retrying Question No. 3 Attempt:(1)\n",
      "Rate limit error: Rate limit reached for gpt-4 in organization org-Y2tKyCPFO6tIjtCtOVZ7c9tr on tokens per min. Limit: 10000 / min. Please try again in 6ms. Visit https://platform.openai.com/account/rate-limits to learn more.. Retrying Question No. 4 Attempt:(1)\n",
      "Rate limit error: Rate limit reached for gpt-4 in organization org-Y2tKyCPFO6tIjtCtOVZ7c9tr on tokens per min. Limit: 10000 / min. Please try again in 6ms. Visit https://platform.openai.com/account/rate-limits to learn more.. Retrying Question No. 5 Attempt:(1)\n",
      "Rate limit error: Rate limit reached for gpt-4 in organization org-Y2tKyCPFO6tIjtCtOVZ7c9tr on tokens per min. Limit: 10000 / min. Please try again in 6ms. Visit https://platform.openai.com/account/rate-limits to learn more.. Retrying Question No. 6 Attempt:(1)\n",
      "Rate limit error: Rate limit reached for gpt-4 in organization org-Y2tKyCPFO6tIjtCtOVZ7c9tr on tokens per min. Limit: 10000 / min. Please try again in 6ms. Visit https://platform.openai.com/account/rate-limits to learn more.. Retrying Question No. 7 Attempt:(1)\n",
      "Rate limit error: Rate limit reached for gpt-4 in organization org-Y2tKyCPFO6tIjtCtOVZ7c9tr on tokens per min. Limit: 10000 / min. Please try again in 6ms. Visit https://platform.openai.com/account/rate-limits to learn more.. Retrying Question No. 7 Attempt:(2)\n",
      "Rate limit error: Rate limit reached for gpt-4 in organization org-Y2tKyCPFO6tIjtCtOVZ7c9tr on tokens per min. Limit: 10000 / min. Please try again in 6ms. Visit https://platform.openai.com/account/rate-limits to learn more.. Retrying Question No. 8 Attempt:(1)\n",
      "Rate limit error: Rate limit reached for gpt-4 in organization org-Y2tKyCPFO6tIjtCtOVZ7c9tr on tokens per min. Limit: 10000 / min. Please try again in 6ms. Visit https://platform.openai.com/account/rate-limits to learn more.. Retrying Question No. 1 Attempt:(1)\n",
      "Rate limit error: Rate limit reached for gpt-4 in organization org-Y2tKyCPFO6tIjtCtOVZ7c9tr on tokens per min. Limit: 10000 / min. Please try again in 6ms. Visit https://platform.openai.com/account/rate-limits to learn more.. Retrying Question No. 4 Attempt:(1)\n",
      "Rate limit error: Rate limit reached for gpt-4 in organization org-Y2tKyCPFO6tIjtCtOVZ7c9tr on tokens per min. Limit: 10000 / min. Please try again in 6ms. Visit https://platform.openai.com/account/rate-limits to learn more.. Retrying Question No. 7 Attempt:(1)\n"
     ]
    },
    {
     "name": "stderr",
     "output_type": "stream",
     "text": [
      " 78%|███████▊  | 32/41 [4:08:59<1:05:02, 433.64s/it]"
     ]
    },
    {
     "name": "stdout",
     "output_type": "stream",
     "text": [
      "Rate limit error: Rate limit reached for gpt-4 in organization org-Y2tKyCPFO6tIjtCtOVZ7c9tr on tokens per min. Limit: 10000 / min. Please try again in 6ms. Visit https://platform.openai.com/account/rate-limits to learn more.. Retrying Question No. 0 Attempt:(1)\n",
      "Rate limit error: Rate limit reached for gpt-4 in organization org-Y2tKyCPFO6tIjtCtOVZ7c9tr on tokens per min. Limit: 10000 / min. Please try again in 6ms. Visit https://platform.openai.com/account/rate-limits to learn more.. Retrying Question No. 1 Attempt:(1)\n",
      "Rate limit error: Rate limit reached for gpt-4 in organization org-Y2tKyCPFO6tIjtCtOVZ7c9tr on tokens per min. Limit: 10000 / min. Please try again in 6ms. Visit https://platform.openai.com/account/rate-limits to learn more.. Retrying Question No. 2 Attempt:(1)\n",
      "Rate limit error: Rate limit reached for gpt-4 in organization org-Y2tKyCPFO6tIjtCtOVZ7c9tr on tokens per min. Limit: 10000 / min. Please try again in 6ms. Visit https://platform.openai.com/account/rate-limits to learn more.. Retrying Question No. 2 Attempt:(2)\n",
      "Rate limit error: Rate limit reached for gpt-4 in organization org-Y2tKyCPFO6tIjtCtOVZ7c9tr on tokens per min. Limit: 10000 / min. Please try again in 6ms. Visit https://platform.openai.com/account/rate-limits to learn more.. Retrying Question No. 3 Attempt:(1)\n",
      "Rate limit error: Rate limit reached for gpt-4 in organization org-Y2tKyCPFO6tIjtCtOVZ7c9tr on tokens per min. Limit: 10000 / min. Please try again in 6ms. Visit https://platform.openai.com/account/rate-limits to learn more.. Retrying Question No. 4 Attempt:(1)\n",
      "An error occurred: Request timed out: HTTPSConnectionPool(host='api.openai.com', port=443): Read timed out. (read timeout=600). Retrying Question No. 4 Attempt:(2)\n",
      "Rate limit error: Rate limit reached for gpt-4 in organization org-Y2tKyCPFO6tIjtCtOVZ7c9tr on tokens per min. Limit: 10000 / min. Please try again in 6ms. Visit https://platform.openai.com/account/rate-limits to learn more.. Retrying Question No. 5 Attempt:(1)\n",
      "Rate limit error: Rate limit reached for gpt-4 in organization org-Y2tKyCPFO6tIjtCtOVZ7c9tr on tokens per min. Limit: 10000 / min. Please try again in 6ms. Visit https://platform.openai.com/account/rate-limits to learn more.. Retrying Question No. 6 Attempt:(1)\n",
      "Rate limit error: Rate limit reached for gpt-4 in organization org-Y2tKyCPFO6tIjtCtOVZ7c9tr on tokens per min. Limit: 10000 / min. Please try again in 6ms. Visit https://platform.openai.com/account/rate-limits to learn more.. Retrying Question No. 7 Attempt:(1)\n",
      "Rate limit error: Rate limit reached for gpt-4 in organization org-Y2tKyCPFO6tIjtCtOVZ7c9tr on tokens per min. Limit: 10000 / min. Please try again in 6ms. Visit https://platform.openai.com/account/rate-limits to learn more.. Retrying Question No. 8 Attempt:(1)\n",
      "Rate limit error: Rate limit reached for gpt-4 in organization org-Y2tKyCPFO6tIjtCtOVZ7c9tr on tokens per min. Limit: 10000 / min. Please try again in 6ms. Visit https://platform.openai.com/account/rate-limits to learn more.. Retrying Question No. 0 Attempt:(1)\n",
      "Rate limit error: Rate limit reached for gpt-4 in organization org-Y2tKyCPFO6tIjtCtOVZ7c9tr on tokens per min. Limit: 10000 / min. Please try again in 6ms. Visit https://platform.openai.com/account/rate-limits to learn more.. Retrying Question No. 2 Attempt:(1)\n",
      "Rate limit error: Rate limit reached for gpt-4 in organization org-Y2tKyCPFO6tIjtCtOVZ7c9tr on tokens per min. Limit: 10000 / min. Please try again in 6ms. Visit https://platform.openai.com/account/rate-limits to learn more.. Retrying Question No. 4 Attempt:(1)\n",
      "Rate limit error: Rate limit reached for gpt-4 in organization org-Y2tKyCPFO6tIjtCtOVZ7c9tr on tokens per min. Limit: 10000 / min. Please try again in 6ms. Visit https://platform.openai.com/account/rate-limits to learn more.. Retrying Question No. 6 Attempt:(1)\n",
      "Rate limit error: Rate limit reached for gpt-4 in organization org-Y2tKyCPFO6tIjtCtOVZ7c9tr on tokens per min. Limit: 10000 / min. Please try again in 6ms. Visit https://platform.openai.com/account/rate-limits to learn more.. Retrying Question No. 8 Attempt:(1)\n"
     ]
    },
    {
     "name": "stderr",
     "output_type": "stream",
     "text": [
      " 80%|████████  | 33/41 [4:27:03<1:23:48, 628.60s/it]"
     ]
    },
    {
     "name": "stdout",
     "output_type": "stream",
     "text": [
      "Rate limit error: Rate limit reached for gpt-4 in organization org-Y2tKyCPFO6tIjtCtOVZ7c9tr on tokens per min. Limit: 10000 / min. Please try again in 6ms. Visit https://platform.openai.com/account/rate-limits to learn more.. Retrying Question No. 0 Attempt:(1)\n",
      "Rate limit error: Rate limit reached for gpt-4 in organization org-Y2tKyCPFO6tIjtCtOVZ7c9tr on tokens per min. Limit: 10000 / min. Please try again in 6ms. Visit https://platform.openai.com/account/rate-limits to learn more.. Retrying Question No. 1 Attempt:(1)\n",
      "Rate limit error: Rate limit reached for gpt-4 in organization org-Y2tKyCPFO6tIjtCtOVZ7c9tr on tokens per min. Limit: 10000 / min. Please try again in 6ms. Visit https://platform.openai.com/account/rate-limits to learn more.. Retrying Question No. 2 Attempt:(1)\n",
      "Rate limit error: Rate limit reached for gpt-4 in organization org-Y2tKyCPFO6tIjtCtOVZ7c9tr on tokens per min. Limit: 10000 / min. Please try again in 6ms. Visit https://platform.openai.com/account/rate-limits to learn more.. Retrying Question No. 3 Attempt:(1)\n",
      "Rate limit error: Rate limit reached for gpt-4 in organization org-Y2tKyCPFO6tIjtCtOVZ7c9tr on tokens per min. Limit: 10000 / min. Please try again in 6ms. Visit https://platform.openai.com/account/rate-limits to learn more.. Retrying Question No. 4 Attempt:(1)\n",
      "Rate limit error: Rate limit reached for gpt-4 in organization org-Y2tKyCPFO6tIjtCtOVZ7c9tr on tokens per min. Limit: 10000 / min. Please try again in 6ms. Visit https://platform.openai.com/account/rate-limits to learn more.. Retrying Question No. 5 Attempt:(1)\n",
      "Rate limit error: Rate limit reached for gpt-4 in organization org-Y2tKyCPFO6tIjtCtOVZ7c9tr on tokens per min. Limit: 10000 / min. Please try again in 6ms. Visit https://platform.openai.com/account/rate-limits to learn more.. Retrying Question No. 6 Attempt:(1)\n",
      "Rate limit error: Rate limit reached for gpt-4 in organization org-Y2tKyCPFO6tIjtCtOVZ7c9tr on tokens per min. Limit: 10000 / min. Please try again in 6ms. Visit https://platform.openai.com/account/rate-limits to learn more.. Retrying Question No. 6 Attempt:(2)\n",
      "Rate limit error: Rate limit reached for gpt-4 in organization org-Y2tKyCPFO6tIjtCtOVZ7c9tr on tokens per min. Limit: 10000 / min. Please try again in 6ms. Visit https://platform.openai.com/account/rate-limits to learn more.. Retrying Question No. 7 Attempt:(1)\n",
      "Rate limit error: Rate limit reached for gpt-4 in organization org-Y2tKyCPFO6tIjtCtOVZ7c9tr on tokens per min. Limit: 10000 / min. Please try again in 6ms. Visit https://platform.openai.com/account/rate-limits to learn more.. Retrying Question No. 8 Attempt:(1)\n",
      "Rate limit error: Rate limit reached for gpt-4 in organization org-Y2tKyCPFO6tIjtCtOVZ7c9tr on tokens per min. Limit: 10000 / min. Please try again in 6ms. Visit https://platform.openai.com/account/rate-limits to learn more.. Retrying Question No. 0 Attempt:(1)\n",
      "Rate limit error: Rate limit reached for gpt-4 in organization org-Y2tKyCPFO6tIjtCtOVZ7c9tr on tokens per min. Limit: 10000 / min. Please try again in 6ms. Visit https://platform.openai.com/account/rate-limits to learn more.. Retrying Question No. 2 Attempt:(1)\n",
      "Rate limit error: Rate limit reached for gpt-4 in organization org-Y2tKyCPFO6tIjtCtOVZ7c9tr on tokens per min. Limit: 10000 / min. Please try again in 6ms. Visit https://platform.openai.com/account/rate-limits to learn more.. Retrying Question No. 3 Attempt:(1)\n",
      "Rate limit error: Rate limit reached for gpt-4 in organization org-Y2tKyCPFO6tIjtCtOVZ7c9tr on tokens per min. Limit: 10000 / min. Please try again in 6ms. Visit https://platform.openai.com/account/rate-limits to learn more.. Retrying Question No. 4 Attempt:(1)\n",
      "Rate limit error: Rate limit reached for gpt-4 in organization org-Y2tKyCPFO6tIjtCtOVZ7c9tr on tokens per min. Limit: 10000 / min. Please try again in 6ms. Visit https://platform.openai.com/account/rate-limits to learn more.. Retrying Question No. 5 Attempt:(1)\n",
      "Rate limit error: Rate limit reached for gpt-4 in organization org-Y2tKyCPFO6tIjtCtOVZ7c9tr on tokens per min. Limit: 10000 / min. Please try again in 6ms. Visit https://platform.openai.com/account/rate-limits to learn more.. Retrying Question No. 7 Attempt:(1)\n",
      "Rate limit error: Rate limit reached for gpt-4 in organization org-Y2tKyCPFO6tIjtCtOVZ7c9tr on tokens per min. Limit: 10000 / min. Please try again in 6ms. Visit https://platform.openai.com/account/rate-limits to learn more.. Retrying Question No. 8 Attempt:(1)\n"
     ]
    },
    {
     "name": "stderr",
     "output_type": "stream",
     "text": [
      " 83%|████████▎ | 34/41 [4:35:58<1:10:04, 600.63s/it]"
     ]
    },
    {
     "name": "stdout",
     "output_type": "stream",
     "text": [
      "Rate limit error: Rate limit reached for gpt-4 in organization org-Y2tKyCPFO6tIjtCtOVZ7c9tr on tokens per min. Limit: 10000 / min. Please try again in 6ms. Visit https://platform.openai.com/account/rate-limits to learn more.. Retrying Question No. 0 Attempt:(1)\n",
      "Rate limit error: Rate limit reached for gpt-4 in organization org-Y2tKyCPFO6tIjtCtOVZ7c9tr on tokens per min. Limit: 10000 / min. Please try again in 6ms. Visit https://platform.openai.com/account/rate-limits to learn more.. Retrying Question No. 1 Attempt:(1)\n",
      "Rate limit error: Rate limit reached for gpt-4 in organization org-Y2tKyCPFO6tIjtCtOVZ7c9tr on tokens per min. Limit: 10000 / min. Please try again in 6ms. Visit https://platform.openai.com/account/rate-limits to learn more.. Retrying Question No. 2 Attempt:(1)\n",
      "Rate limit error: Rate limit reached for gpt-4 in organization org-Y2tKyCPFO6tIjtCtOVZ7c9tr on tokens per min. Limit: 10000 / min. Please try again in 6ms. Visit https://platform.openai.com/account/rate-limits to learn more.. Retrying Question No. 3 Attempt:(1)\n",
      "Rate limit error: Rate limit reached for gpt-4 in organization org-Y2tKyCPFO6tIjtCtOVZ7c9tr on tokens per min. Limit: 10000 / min. Please try again in 6ms. Visit https://platform.openai.com/account/rate-limits to learn more.. Retrying Question No. 3 Attempt:(2)\n",
      "Rate limit error: Rate limit reached for gpt-4 in organization org-Y2tKyCPFO6tIjtCtOVZ7c9tr on tokens per min. Limit: 10000 / min. Please try again in 6ms. Visit https://platform.openai.com/account/rate-limits to learn more.. Retrying Question No. 4 Attempt:(1)\n",
      "Rate limit error: Rate limit reached for gpt-4 in organization org-Y2tKyCPFO6tIjtCtOVZ7c9tr on tokens per min. Limit: 10000 / min. Please try again in 6ms. Visit https://platform.openai.com/account/rate-limits to learn more.. Retrying Question No. 5 Attempt:(1)\n",
      "Rate limit error: Rate limit reached for gpt-4 in organization org-Y2tKyCPFO6tIjtCtOVZ7c9tr on tokens per min. Limit: 10000 / min. Please try again in 6ms. Visit https://platform.openai.com/account/rate-limits to learn more.. Retrying Question No. 6 Attempt:(1)\n",
      "Rate limit error: Rate limit reached for gpt-4 in organization org-Y2tKyCPFO6tIjtCtOVZ7c9tr on tokens per min. Limit: 10000 / min. Please try again in 6ms. Visit https://platform.openai.com/account/rate-limits to learn more.. Retrying Question No. 7 Attempt:(1)\n",
      "Rate limit error: Rate limit reached for gpt-4 in organization org-Y2tKyCPFO6tIjtCtOVZ7c9tr on tokens per min. Limit: 10000 / min. Please try again in 6ms. Visit https://platform.openai.com/account/rate-limits to learn more.. Retrying Question No. 8 Attempt:(1)\n",
      "Rate limit error: Rate limit reached for gpt-4 in organization org-Y2tKyCPFO6tIjtCtOVZ7c9tr on tokens per min. Limit: 10000 / min. Please try again in 6ms. Visit https://platform.openai.com/account/rate-limits to learn more.. Retrying Question No. 0 Attempt:(1)\n",
      "An error occurred: Request timed out: HTTPSConnectionPool(host='api.openai.com', port=443): Read timed out. (read timeout=600). Retrying Question No. 6 Attempt:(1)\n"
     ]
    },
    {
     "name": "stderr",
     "output_type": "stream",
     "text": [
      " 85%|████████▌ | 35/41 [4:51:57<1:10:47, 708.00s/it]"
     ]
    },
    {
     "name": "stdout",
     "output_type": "stream",
     "text": [
      "Rate limit error: Rate limit reached for gpt-4 in organization org-Y2tKyCPFO6tIjtCtOVZ7c9tr on tokens per min. Limit: 10000 / min. Please try again in 6ms. Visit https://platform.openai.com/account/rate-limits to learn more.. Retrying Question No. 2 Attempt:(1)\n",
      "Rate limit error: Rate limit reached for gpt-4 in organization org-Y2tKyCPFO6tIjtCtOVZ7c9tr on tokens per min. Limit: 10000 / min. Please try again in 6ms. Visit https://platform.openai.com/account/rate-limits to learn more.. Retrying Question No. 3 Attempt:(1)\n",
      "Rate limit error: Rate limit reached for gpt-4 in organization org-Y2tKyCPFO6tIjtCtOVZ7c9tr on tokens per min. Limit: 10000 / min. Please try again in 6ms. Visit https://platform.openai.com/account/rate-limits to learn more.. Retrying Question No. 5 Attempt:(1)\n",
      "Rate limit error: Rate limit reached for gpt-4 in organization org-Y2tKyCPFO6tIjtCtOVZ7c9tr on tokens per min. Limit: 10000 / min. Please try again in 6ms. Visit https://platform.openai.com/account/rate-limits to learn more.. Retrying Question No. 6 Attempt:(1)\n",
      "Rate limit error: Rate limit reached for gpt-4 in organization org-Y2tKyCPFO6tIjtCtOVZ7c9tr on tokens per min. Limit: 10000 / min. Please try again in 6ms. Visit https://platform.openai.com/account/rate-limits to learn more.. Retrying Question No. 8 Attempt:(1)\n"
     ]
    },
    {
     "name": "stderr",
     "output_type": "stream",
     "text": [
      " 88%|████████▊ | 36/41 [4:54:38<45:20, 544.14s/it]  "
     ]
    },
    {
     "name": "stdout",
     "output_type": "stream",
     "text": [
      "Rate limit error: Rate limit reached for gpt-4 in organization org-Y2tKyCPFO6tIjtCtOVZ7c9tr on tokens per min. Limit: 10000 / min. Please try again in 6ms. Visit https://platform.openai.com/account/rate-limits to learn more.. Retrying Question No. 0 Attempt:(1)\n",
      "Rate limit error: Rate limit reached for gpt-4 in organization org-Y2tKyCPFO6tIjtCtOVZ7c9tr on tokens per min. Limit: 10000 / min. Please try again in 6ms. Visit https://platform.openai.com/account/rate-limits to learn more.. Retrying Question No. 1 Attempt:(1)\n",
      "Rate limit error: Rate limit reached for gpt-4 in organization org-Y2tKyCPFO6tIjtCtOVZ7c9tr on tokens per min. Limit: 10000 / min. Please try again in 6ms. Visit https://platform.openai.com/account/rate-limits to learn more.. Retrying Question No. 2 Attempt:(1)\n",
      "An error occurred: Request timed out: HTTPSConnectionPool(host='api.openai.com', port=443): Read timed out. (read timeout=600). Retrying Question No. 2 Attempt:(2)\n",
      "Rate limit error: Rate limit reached for gpt-4 in organization org-Y2tKyCPFO6tIjtCtOVZ7c9tr on tokens per min. Limit: 10000 / min. Please try again in 6ms. Visit https://platform.openai.com/account/rate-limits to learn more.. Retrying Question No. 4 Attempt:(1)\n",
      "Rate limit error: Rate limit reached for gpt-4 in organization org-Y2tKyCPFO6tIjtCtOVZ7c9tr on tokens per min. Limit: 10000 / min. Please try again in 6ms. Visit https://platform.openai.com/account/rate-limits to learn more.. Retrying Question No. 5 Attempt:(1)\n",
      "Rate limit error: Rate limit reached for gpt-4 in organization org-Y2tKyCPFO6tIjtCtOVZ7c9tr on tokens per min. Limit: 10000 / min. Please try again in 6ms. Visit https://platform.openai.com/account/rate-limits to learn more.. Retrying Question No. 6 Attempt:(1)\n",
      "Rate limit error: Rate limit reached for gpt-4 in organization org-Y2tKyCPFO6tIjtCtOVZ7c9tr on tokens per min. Limit: 10000 / min. Please try again in 6ms. Visit https://platform.openai.com/account/rate-limits to learn more.. Retrying Question No. 7 Attempt:(1)\n",
      "Rate limit error: Rate limit reached for gpt-4 in organization org-Y2tKyCPFO6tIjtCtOVZ7c9tr on tokens per min. Limit: 10000 / min. Please try again in 6ms. Visit https://platform.openai.com/account/rate-limits to learn more.. Retrying Question No. 8 Attempt:(1)\n"
     ]
    },
    {
     "name": "stderr",
     "output_type": "stream",
     "text": [
      " 90%|█████████ | 37/41 [5:08:53<42:28, 637.19s/it]"
     ]
    },
    {
     "name": "stdout",
     "output_type": "stream",
     "text": [
      "Rate limit error: Rate limit reached for gpt-4 in organization org-Y2tKyCPFO6tIjtCtOVZ7c9tr on tokens per min. Limit: 10000 / min. Please try again in 6ms. Visit https://platform.openai.com/account/rate-limits to learn more.. Retrying Question No. 0 Attempt:(1)\n",
      "Rate limit error: Rate limit reached for gpt-4 in organization org-Y2tKyCPFO6tIjtCtOVZ7c9tr on tokens per min. Limit: 10000 / min. Please try again in 6ms. Visit https://platform.openai.com/account/rate-limits to learn more.. Retrying Question No. 1 Attempt:(1)\n",
      "Rate limit error: Rate limit reached for gpt-4 in organization org-Y2tKyCPFO6tIjtCtOVZ7c9tr on tokens per min. Limit: 10000 / min. Please try again in 6ms. Visit https://platform.openai.com/account/rate-limits to learn more.. Retrying Question No. 2 Attempt:(1)\n",
      "Rate limit error: Rate limit reached for gpt-4 in organization org-Y2tKyCPFO6tIjtCtOVZ7c9tr on tokens per min. Limit: 10000 / min. Please try again in 6ms. Visit https://platform.openai.com/account/rate-limits to learn more.. Retrying Question No. 3 Attempt:(1)\n",
      "Rate limit error: Rate limit reached for gpt-4 in organization org-Y2tKyCPFO6tIjtCtOVZ7c9tr on tokens per min. Limit: 10000 / min. Please try again in 6ms. Visit https://platform.openai.com/account/rate-limits to learn more.. Retrying Question No. 4 Attempt:(1)\n",
      "Rate limit error: Rate limit reached for gpt-4 in organization org-Y2tKyCPFO6tIjtCtOVZ7c9tr on tokens per min. Limit: 10000 / min. Please try again in 6ms. Visit https://platform.openai.com/account/rate-limits to learn more.. Retrying Question No. 5 Attempt:(1)\n",
      "Rate limit error: Rate limit reached for gpt-4 in organization org-Y2tKyCPFO6tIjtCtOVZ7c9tr on tokens per min. Limit: 10000 / min. Please try again in 6ms. Visit https://platform.openai.com/account/rate-limits to learn more.. Retrying Question No. 6 Attempt:(1)\n",
      "Rate limit error: Rate limit reached for gpt-4 in organization org-Y2tKyCPFO6tIjtCtOVZ7c9tr on tokens per min. Limit: 10000 / min. Please try again in 6ms. Visit https://platform.openai.com/account/rate-limits to learn more.. Retrying Question No. 6 Attempt:(2)\n",
      "Rate limit error: Rate limit reached for gpt-4 in organization org-Y2tKyCPFO6tIjtCtOVZ7c9tr on tokens per min. Limit: 10000 / min. Please try again in 6ms. Visit https://platform.openai.com/account/rate-limits to learn more.. Retrying Question No. 7 Attempt:(1)\n",
      "Rate limit error: Rate limit reached for gpt-4 in organization org-Y2tKyCPFO6tIjtCtOVZ7c9tr on tokens per min. Limit: 10000 / min. Please try again in 6ms. Visit https://platform.openai.com/account/rate-limits to learn more.. Retrying Question No. 8 Attempt:(1)\n",
      "Rate limit error: Rate limit reached for gpt-4 in organization org-Y2tKyCPFO6tIjtCtOVZ7c9tr on tokens per min. Limit: 10000 / min. Please try again in 6ms. Visit https://platform.openai.com/account/rate-limits to learn more.. Retrying Question No. 1 Attempt:(1)\n",
      "Rate limit error: Rate limit reached for gpt-4 in organization org-Y2tKyCPFO6tIjtCtOVZ7c9tr on tokens per min. Limit: 10000 / min. Please try again in 6ms. Visit https://platform.openai.com/account/rate-limits to learn more.. Retrying Question No. 4 Attempt:(1)\n",
      "Rate limit error: Rate limit reached for gpt-4 in organization org-Y2tKyCPFO6tIjtCtOVZ7c9tr on tokens per min. Limit: 10000 / min. Please try again in 6ms. Visit https://platform.openai.com/account/rate-limits to learn more.. Retrying Question No. 7 Attempt:(1)\n"
     ]
    },
    {
     "name": "stderr",
     "output_type": "stream",
     "text": [
      " 93%|█████████▎| 38/41 [5:15:42<28:26, 568.86s/it]"
     ]
    },
    {
     "name": "stdout",
     "output_type": "stream",
     "text": [
      "Rate limit error: Rate limit reached for gpt-4 in organization org-Y2tKyCPFO6tIjtCtOVZ7c9tr on tokens per min. Limit: 10000 / min. Please try again in 6ms. Visit https://platform.openai.com/account/rate-limits to learn more.. Retrying Question No. 0 Attempt:(1)\n",
      "Rate limit error: Rate limit reached for gpt-4 in organization org-Y2tKyCPFO6tIjtCtOVZ7c9tr on tokens per min. Limit: 10000 / min. Please try again in 6ms. Visit https://platform.openai.com/account/rate-limits to learn more.. Retrying Question No. 1 Attempt:(1)\n",
      "Rate limit error: Rate limit reached for gpt-4 in organization org-Y2tKyCPFO6tIjtCtOVZ7c9tr on tokens per min. Limit: 10000 / min. Please try again in 6ms. Visit https://platform.openai.com/account/rate-limits to learn more.. Retrying Question No. 2 Attempt:(1)\n",
      "Rate limit error: Rate limit reached for gpt-4 in organization org-Y2tKyCPFO6tIjtCtOVZ7c9tr on tokens per min. Limit: 10000 / min. Please try again in 6ms. Visit https://platform.openai.com/account/rate-limits to learn more.. Retrying Question No. 3 Attempt:(1)\n",
      "Rate limit error: Rate limit reached for gpt-4 in organization org-Y2tKyCPFO6tIjtCtOVZ7c9tr on tokens per min. Limit: 10000 / min. Please try again in 6ms. Visit https://platform.openai.com/account/rate-limits to learn more.. Retrying Question No. 4 Attempt:(1)\n",
      "Rate limit error: Rate limit reached for gpt-4 in organization org-Y2tKyCPFO6tIjtCtOVZ7c9tr on tokens per min. Limit: 10000 / min. Please try again in 6ms. Visit https://platform.openai.com/account/rate-limits to learn more.. Retrying Question No. 4 Attempt:(2)\n",
      "Rate limit error: Rate limit reached for gpt-4 in organization org-Y2tKyCPFO6tIjtCtOVZ7c9tr on tokens per min. Limit: 10000 / min. Please try again in 6ms. Visit https://platform.openai.com/account/rate-limits to learn more.. Retrying Question No. 5 Attempt:(1)\n",
      "Rate limit error: Rate limit reached for gpt-4 in organization org-Y2tKyCPFO6tIjtCtOVZ7c9tr on tokens per min. Limit: 10000 / min. Please try again in 6ms. Visit https://platform.openai.com/account/rate-limits to learn more.. Retrying Question No. 6 Attempt:(1)\n",
      "Rate limit error: Rate limit reached for gpt-4 in organization org-Y2tKyCPFO6tIjtCtOVZ7c9tr on tokens per min. Limit: 10000 / min. Please try again in 6ms. Visit https://platform.openai.com/account/rate-limits to learn more.. Retrying Question No. 7 Attempt:(1)\n",
      "Rate limit error: Rate limit reached for gpt-4 in organization org-Y2tKyCPFO6tIjtCtOVZ7c9tr on tokens per min. Limit: 10000 / min. Please try again in 6ms. Visit https://platform.openai.com/account/rate-limits to learn more.. Retrying Question No. 8 Attempt:(1)\n",
      "Rate limit error: Rate limit reached for gpt-4 in organization org-Y2tKyCPFO6tIjtCtOVZ7c9tr on tokens per min. Limit: 10000 / min. Please try again in 6ms. Visit https://platform.openai.com/account/rate-limits to learn more.. Retrying Question No. 0 Attempt:(1)\n",
      "Rate limit error: Rate limit reached for gpt-4 in organization org-Y2tKyCPFO6tIjtCtOVZ7c9tr on tokens per min. Limit: 10000 / min. Please try again in 6ms. Visit https://platform.openai.com/account/rate-limits to learn more.. Retrying Question No. 1 Attempt:(1)\n",
      "Rate limit error: Rate limit reached for gpt-4 in organization org-Y2tKyCPFO6tIjtCtOVZ7c9tr on tokens per min. Limit: 10000 / min. Please try again in 6ms. Visit https://platform.openai.com/account/rate-limits to learn more.. Retrying Question No. 2 Attempt:(1)\n",
      "Rate limit error: Rate limit reached for gpt-4 in organization org-Y2tKyCPFO6tIjtCtOVZ7c9tr on tokens per min. Limit: 10000 / min. Please try again in 6ms. Visit https://platform.openai.com/account/rate-limits to learn more.. Retrying Question No. 3 Attempt:(1)\n",
      "Rate limit error: Rate limit reached for gpt-4 in organization org-Y2tKyCPFO6tIjtCtOVZ7c9tr on tokens per min. Limit: 10000 / min. Please try again in 6ms. Visit https://platform.openai.com/account/rate-limits to learn more.. Retrying Question No. 4 Attempt:(1)\n",
      "Rate limit error: Rate limit reached for gpt-4 in organization org-Y2tKyCPFO6tIjtCtOVZ7c9tr on tokens per min. Limit: 10000 / min. Please try again in 6ms. Visit https://platform.openai.com/account/rate-limits to learn more.. Retrying Question No. 5 Attempt:(1)\n",
      "Rate limit error: Rate limit reached for gpt-4 in organization org-Y2tKyCPFO6tIjtCtOVZ7c9tr on tokens per min. Limit: 10000 / min. Please try again in 6ms. Visit https://platform.openai.com/account/rate-limits to learn more.. Retrying Question No. 6 Attempt:(1)\n",
      "Rate limit error: Rate limit reached for gpt-4 in organization org-Y2tKyCPFO6tIjtCtOVZ7c9tr on tokens per min. Limit: 10000 / min. Please try again in 6ms. Visit https://platform.openai.com/account/rate-limits to learn more.. Retrying Question No. 7 Attempt:(1)\n",
      "Rate limit error: Rate limit reached for gpt-4 in organization org-Y2tKyCPFO6tIjtCtOVZ7c9tr on tokens per min. Limit: 10000 / min. Please try again in 6ms. Visit https://platform.openai.com/account/rate-limits to learn more.. Retrying Question No. 8 Attempt:(1)\n",
      "Rate limit error: Rate limit reached for gpt-4 in organization org-Y2tKyCPFO6tIjtCtOVZ7c9tr on tokens per min. Limit: 10000 / min. Please try again in 6ms. Visit https://platform.openai.com/account/rate-limits to learn more.. Retrying Question No. 1 Attempt:(1)\n",
      "Rate limit error: Rate limit reached for gpt-4 in organization org-Y2tKyCPFO6tIjtCtOVZ7c9tr on tokens per min. Limit: 10000 / min. Please try again in 6ms. Visit https://platform.openai.com/account/rate-limits to learn more.. Retrying Question No. 2 Attempt:(1)\n",
      "Rate limit error: Rate limit reached for gpt-4 in organization org-Y2tKyCPFO6tIjtCtOVZ7c9tr on tokens per min. Limit: 10000 / min. Please try again in 6ms. Visit https://platform.openai.com/account/rate-limits to learn more.. Retrying Question No. 3 Attempt:(1)\n",
      "Rate limit error: Rate limit reached for gpt-4 in organization org-Y2tKyCPFO6tIjtCtOVZ7c9tr on tokens per min. Limit: 10000 / min. Please try again in 6ms. Visit https://platform.openai.com/account/rate-limits to learn more.. Retrying Question No. 5 Attempt:(1)\n",
      "Rate limit error: Rate limit reached for gpt-4 in organization org-Y2tKyCPFO6tIjtCtOVZ7c9tr on tokens per min. Limit: 10000 / min. Please try again in 6ms. Visit https://platform.openai.com/account/rate-limits to learn more.. Retrying Question No. 6 Attempt:(1)\n",
      "Rate limit error: Rate limit reached for gpt-4 in organization org-Y2tKyCPFO6tIjtCtOVZ7c9tr on tokens per min. Limit: 10000 / min. Please try again in 6ms. Visit https://platform.openai.com/account/rate-limits to learn more.. Retrying Question No. 8 Attempt:(1)\n"
     ]
    },
    {
     "name": "stderr",
     "output_type": "stream",
     "text": [
      " 95%|█████████▌| 39/41 [5:28:51<21:09, 634.97s/it]"
     ]
    },
    {
     "name": "stdout",
     "output_type": "stream",
     "text": [
      "Rate limit error: Rate limit reached for gpt-4 in organization org-Y2tKyCPFO6tIjtCtOVZ7c9tr on tokens per min. Limit: 10000 / min. Please try again in 6ms. Visit https://platform.openai.com/account/rate-limits to learn more.. Retrying Question No. 0 Attempt:(1)\n",
      "Rate limit error: Rate limit reached for gpt-4 in organization org-Y2tKyCPFO6tIjtCtOVZ7c9tr on tokens per min. Limit: 10000 / min. Please try again in 6ms. Visit https://platform.openai.com/account/rate-limits to learn more.. Retrying Question No. 1 Attempt:(1)\n",
      "Rate limit error: Rate limit reached for gpt-4 in organization org-Y2tKyCPFO6tIjtCtOVZ7c9tr on tokens per min. Limit: 10000 / min. Please try again in 6ms. Visit https://platform.openai.com/account/rate-limits to learn more.. Retrying Question No. 2 Attempt:(1)\n",
      "Rate limit error: Rate limit reached for gpt-4 in organization org-Y2tKyCPFO6tIjtCtOVZ7c9tr on tokens per min. Limit: 10000 / min. Please try again in 6ms. Visit https://platform.openai.com/account/rate-limits to learn more.. Retrying Question No. 3 Attempt:(1)\n",
      "Rate limit error: Rate limit reached for gpt-4 in organization org-Y2tKyCPFO6tIjtCtOVZ7c9tr on tokens per min. Limit: 10000 / min. Please try again in 6ms. Visit https://platform.openai.com/account/rate-limits to learn more.. Retrying Question No. 4 Attempt:(1)\n",
      "Rate limit error: Rate limit reached for gpt-4 in organization org-Y2tKyCPFO6tIjtCtOVZ7c9tr on tokens per min. Limit: 10000 / min. Please try again in 6ms. Visit https://platform.openai.com/account/rate-limits to learn more.. Retrying Question No. 6 Attempt:(1)\n",
      "Rate limit error: Rate limit reached for gpt-4 in organization org-Y2tKyCPFO6tIjtCtOVZ7c9tr on tokens per min. Limit: 10000 / min. Please try again in 6ms. Visit https://platform.openai.com/account/rate-limits to learn more.. Retrying Question No. 7 Attempt:(1)\n",
      "Rate limit error: Rate limit reached for gpt-4 in organization org-Y2tKyCPFO6tIjtCtOVZ7c9tr on tokens per min. Limit: 10000 / min. Please try again in 6ms. Visit https://platform.openai.com/account/rate-limits to learn more.. Retrying Question No. 8 Attempt:(1)\n"
     ]
    },
    {
     "name": "stderr",
     "output_type": "stream",
     "text": [
      " 98%|█████████▊| 40/41 [5:33:04<08:40, 520.27s/it]"
     ]
    },
    {
     "name": "stdout",
     "output_type": "stream",
     "text": [
      "Rate limit error: Rate limit reached for gpt-4 in organization org-Y2tKyCPFO6tIjtCtOVZ7c9tr on tokens per min. Limit: 10000 / min. Please try again in 6ms. Visit https://platform.openai.com/account/rate-limits to learn more.. Retrying Question No. 0 Attempt:(1)\n",
      "An error occurred: Request timed out: HTTPSConnectionPool(host='api.openai.com', port=443): Read timed out. (read timeout=600). Retrying Question No. 0 Attempt:(2)\n",
      "Rate limit error: Rate limit reached for gpt-4 in organization org-Y2tKyCPFO6tIjtCtOVZ7c9tr on tokens per min. Limit: 10000 / min. Please try again in 6ms. Visit https://platform.openai.com/account/rate-limits to learn more.. Retrying Question No. 1 Attempt:(1)\n",
      "Rate limit error: Rate limit reached for gpt-4 in organization org-Y2tKyCPFO6tIjtCtOVZ7c9tr on tokens per min. Limit: 10000 / min. Please try again in 6ms. Visit https://platform.openai.com/account/rate-limits to learn more.. Retrying Question No. 2 Attempt:(1)\n",
      "Rate limit error: Rate limit reached for gpt-4 in organization org-Y2tKyCPFO6tIjtCtOVZ7c9tr on tokens per min. Limit: 10000 / min. Please try again in 6ms. Visit https://platform.openai.com/account/rate-limits to learn more.. Retrying Question No. 3 Attempt:(1)\n",
      "Rate limit error: Rate limit reached for gpt-4 in organization org-Y2tKyCPFO6tIjtCtOVZ7c9tr on tokens per min. Limit: 10000 / min. Please try again in 6ms. Visit https://platform.openai.com/account/rate-limits to learn more.. Retrying Question No. 4 Attempt:(1)\n",
      "Rate limit error: Rate limit reached for gpt-4 in organization org-Y2tKyCPFO6tIjtCtOVZ7c9tr on tokens per min. Limit: 10000 / min. Please try again in 6ms. Visit https://platform.openai.com/account/rate-limits to learn more.. Retrying Question No. 5 Attempt:(1)\n",
      "Rate limit error: Rate limit reached for gpt-4 in organization org-Y2tKyCPFO6tIjtCtOVZ7c9tr on tokens per min. Limit: 10000 / min. Please try again in 6ms. Visit https://platform.openai.com/account/rate-limits to learn more.. Retrying Question No. 6 Attempt:(1)\n",
      "Rate limit error: Rate limit reached for gpt-4 in organization org-Y2tKyCPFO6tIjtCtOVZ7c9tr on tokens per min. Limit: 10000 / min. Please try again in 6ms. Visit https://platform.openai.com/account/rate-limits to learn more.. Retrying Question No. 7 Attempt:(1)\n",
      "Rate limit error: Rate limit reached for gpt-4 in organization org-Y2tKyCPFO6tIjtCtOVZ7c9tr on tokens per min. Limit: 10000 / min. Please try again in 6ms. Visit https://platform.openai.com/account/rate-limits to learn more.. Retrying Question No. 8 Attempt:(1)\n",
      "Rate limit error: Rate limit reached for gpt-4 in organization org-Y2tKyCPFO6tIjtCtOVZ7c9tr on tokens per min. Limit: 10000 / min. Please try again in 6ms. Visit https://platform.openai.com/account/rate-limits to learn more.. Retrying Question No. 0 Attempt:(1)\n",
      "Rate limit error: Rate limit reached for gpt-4 in organization org-Y2tKyCPFO6tIjtCtOVZ7c9tr on tokens per min. Limit: 10000 / min. Please try again in 6ms. Visit https://platform.openai.com/account/rate-limits to learn more.. Retrying Question No. 1 Attempt:(1)\n",
      "Rate limit error: Rate limit reached for gpt-4 in organization org-Y2tKyCPFO6tIjtCtOVZ7c9tr on tokens per min. Limit: 10000 / min. Please try again in 6ms. Visit https://platform.openai.com/account/rate-limits to learn more.. Retrying Question No. 2 Attempt:(1)\n",
      "Rate limit error: Rate limit reached for gpt-4 in organization org-Y2tKyCPFO6tIjtCtOVZ7c9tr on tokens per min. Limit: 10000 / min. Please try again in 6ms. Visit https://platform.openai.com/account/rate-limits to learn more.. Retrying Question No. 3 Attempt:(1)\n",
      "Rate limit error: Rate limit reached for gpt-4 in organization org-Y2tKyCPFO6tIjtCtOVZ7c9tr on tokens per min. Limit: 10000 / min. Please try again in 6ms. Visit https://platform.openai.com/account/rate-limits to learn more.. Retrying Question No. 4 Attempt:(1)\n",
      "Rate limit error: Rate limit reached for gpt-4 in organization org-Y2tKyCPFO6tIjtCtOVZ7c9tr on tokens per min. Limit: 10000 / min. Please try again in 6ms. Visit https://platform.openai.com/account/rate-limits to learn more.. Retrying Question No. 5 Attempt:(1)\n",
      "Rate limit error: Rate limit reached for gpt-4 in organization org-Y2tKyCPFO6tIjtCtOVZ7c9tr on tokens per min. Limit: 10000 / min. Please try again in 6ms. Visit https://platform.openai.com/account/rate-limits to learn more.. Retrying Question No. 7 Attempt:(1)\n",
      "Rate limit error: Rate limit reached for gpt-4 in organization org-Y2tKyCPFO6tIjtCtOVZ7c9tr on tokens per min. Limit: 10000 / min. Please try again in 6ms. Visit https://platform.openai.com/account/rate-limits to learn more.. Retrying Question No. 8 Attempt:(1)\n"
     ]
    },
    {
     "name": "stderr",
     "output_type": "stream",
     "text": [
      "100%|██████████| 41/41 [5:52:00<00:00, 515.13s/it]"
     ]
    },
    {
     "name": "stdout",
     "output_type": "stream",
     "text": [
      "Saved to: /Users/cu135/Dropbox (Partners HealthCare)/studies/review_pyper/raws/case_extractions/inclusion_exclusion_results/inclusion_exclusion_json/../case_extractions/case_evaluations.json\n"
     ]
    },
    {
     "name": "stderr",
     "output_type": "stream",
     "text": [
      "\n"
     ]
    }
   ],
   "source": [
    "from calvin_utils.gpt_sys_review.gpt_utils import OpenAIChatEvaluator\n",
    "evaluator = OpenAIChatEvaluator(api_key_path=api_key_path,\n",
    "                                json_file_path=filtered_json_path, \n",
    "                                keys_to_consider=keys_to_consider,\n",
    "                                question_type=article_type,\n",
    "                                question=question,\n",
    "                                test_mode=test_mode,\n",
    "                                model_choice=\"gpt4\")\n",
    "answers = evaluator.evaluate_all_files()\n",
    "evaluated_json_path = evaluator.save_to_json(answers)"
   ]
  },
  {
   "cell_type": "markdown",
   "metadata": {},
   "source": [
    "04 - Convert results to a CSV\n",
    "- Set answers_binary to False if the questions you asked do not have binary answers. \n",
    "   - We will extract the raw data, like specific result values, for you to review.\n",
    "- Set asnwers_binary to True if the questions you asked do have binary answers. \n",
    "   - By default, we will set positive answers to 1, and negative answers to 0."
   ]
  },
  {
   "cell_type": "code",
   "execution_count": 23,
   "metadata": {},
   "outputs": [],
   "source": [
    "answers_binary=True"
   ]
  },
  {
   "cell_type": "code",
   "execution_count": 24,
   "metadata": {},
   "outputs": [
    {
     "name": "stdout",
     "output_type": "stream",
     "text": [
      "Your CSV files of filtered manuscripts have been saved to this directory: \n",
      " /Users/cu135/Dropbox (Partners HealthCare)/studies/review_pyper/raws/case_extractions/inclusion_exclusion_results/inclusion_exclusion_json/../case_extractions/data_extraction\n"
     ]
    }
   ],
   "source": [
    "from calvin_utils.gpt_sys_review.json_utils import CustomSummarizer\n",
    "custom_summarizer = CustomSummarizer(json_path=evaluated_json_path, answers_binary=answers_binary)\n",
    "df, raw_path, automated_path = custom_summarizer.run_custom()"
   ]
  },
  {
   "cell_type": "markdown",
   "metadata": {},
   "source": [
    "Your articles have been completely evaluated. \n",
    "\n",
    "Please check the CSVs in the directory noted above and use the path to the one you would like to use for your further analysis.\n",
    "- Enjoy. If this has been helpful, please consider adding Calvin Howard as a collaborator. \n",
    "- e: choward12@bwh.harvard.edu"
   ]
  }
 ],
 "metadata": {
  "kernelspec": {
   "display_name": "nimlab_py310",
   "language": "python",
   "name": "python3"
  },
  "language_info": {
   "codemirror_mode": {
    "name": "ipython",
    "version": 3
   },
   "file_extension": ".py",
   "mimetype": "text/x-python",
   "name": "python",
   "nbconvert_exporter": "python",
   "pygments_lexer": "ipython3",
   "version": "3.10.8"
  },
  "orig_nbformat": 4
 },
 "nbformat": 4,
 "nbformat_minor": 2
}
