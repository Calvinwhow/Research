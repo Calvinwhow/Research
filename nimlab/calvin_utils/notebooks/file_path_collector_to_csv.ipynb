{
 "cells": [
  {
   "cell_type": "markdown",
   "id": "60030f1c",
   "metadata": {},
   "source": [
    "# 00 - Target Files"
   ]
  },
  {
   "cell_type": "markdown",
   "id": "f052c410",
   "metadata": {},
   "source": [
    "**Search for the Files**\n",
    "_______\n",
    "Formatting the Directory-Pattern Dictionary\n",
    "The function glob_multiple_file_paths expects a dictionary where each key-value pair corresponds to a root directory and a file pattern to search within that directory. The keys are the root directories where you want to start the search, and the values are the file patterns to match against.\n",
    "\n",
    "Example Dictionary Format:\n",
    "\n",
    ">dir_pattern_dict = {\n",
    ">    '/path/to/first/root_dir': '*.nii',\n",
    ">\n",
    ">    '/path/to/second/root_dir': '*.nii.gz',\n",
    ">\n",
    ">    '/another/path': '*_label.nii'\n",
    ">     Add more key-value pairs as needed\n",
    ">}\n",
    "\n",
    "Using Wildcards:\n",
    "\n",
    "The file patterns can include wildcards to match multiple files:\n",
    "- *: Matches zero or more characters\n",
    "- **: Searches all directories recursively\n",
    "- *.nii will match all files ending with .nii\n",
    "- ?: Matches any single character\n",
    "- file?.nii will match file1.nii, file2.nii, etc.\n",
    "- [seq]: Matches any character in seq\n",
    "- file[1-3].nii will match file1.nii, file2.nii, file3.nii\n",
    "- [!seq]: Matches any character NOT in seq\n",
    "- file[!1-3].nii will match any file that doesn't have 1, 2, or 3 in that position, like file4.nii, file5.nii, etc.\n",
    "\n",
    "Feel free to combine these wildcards to create complex file patterns. For example, *_??.nii will match files like file_01.nii, file_02.nii, etc."
   ]
  },
  {
   "cell_type": "code",
   "execution_count": 3,
   "id": "bd2674a7-934d-4144-8ad8-820a6ee76c61",
   "metadata": {},
   "outputs": [],
   "source": [
    "# Define the dictionary with root directories and file patterns\n",
    "dir_pattern_dict = {\n",
    "    '/Users/cu135/Dropbox (Partners HealthCare)/resources/datasets/SANTE_DBS/derivatives/network_maps/sante_rho_maps/r_map': '**/*.nii*',\n",
    "}"
   ]
  },
  {
   "cell_type": "markdown",
   "id": "34f6bd50",
   "metadata": {},
   "source": [
    "Set the absolute path to save to"
   ]
  },
  {
   "cell_type": "code",
   "execution_count": 4,
   "id": "e605de46",
   "metadata": {},
   "outputs": [],
   "source": [
    "csv_path = '/Users/cu135/Dropbox (Partners HealthCare)/studies/ccm_memory/metadata/path_to_sante_rho_maps.csv'"
   ]
  },
  {
   "cell_type": "markdown",
   "id": "0ea8081a-82d6-4333-ab48-2cefd6eda18d",
   "metadata": {},
   "source": [
    "## Glob the files and check to see if acceptable"
   ]
  },
  {
   "cell_type": "code",
   "execution_count": 5,
   "id": "d9f2a3fc",
   "metadata": {},
   "outputs": [
    {
     "name": "stdout",
     "output_type": "stream",
     "text": [
      "Saved path: /Users/cu135/Dropbox (Partners HealthCare)/studies/ccm_memory/metadata/path_to_sante_rho_maps.csv\n",
      "                                                paths\n",
      "0   /Users/cu135/Dropbox (Partners HealthCare)/res...\n",
      "1   /Users/cu135/Dropbox (Partners HealthCare)/res...\n",
      "2   /Users/cu135/Dropbox (Partners HealthCare)/res...\n",
      "3   /Users/cu135/Dropbox (Partners HealthCare)/res...\n",
      "4   /Users/cu135/Dropbox (Partners HealthCare)/res...\n",
      "5   /Users/cu135/Dropbox (Partners HealthCare)/res...\n",
      "6   /Users/cu135/Dropbox (Partners HealthCare)/res...\n",
      "7   /Users/cu135/Dropbox (Partners HealthCare)/res...\n",
      "8   /Users/cu135/Dropbox (Partners HealthCare)/res...\n",
      "9   /Users/cu135/Dropbox (Partners HealthCare)/res...\n",
      "10  /Users/cu135/Dropbox (Partners HealthCare)/res...\n",
      "11  /Users/cu135/Dropbox (Partners HealthCare)/res...\n",
      "12  /Users/cu135/Dropbox (Partners HealthCare)/res...\n",
      "13  /Users/cu135/Dropbox (Partners HealthCare)/res...\n",
      "14  /Users/cu135/Dropbox (Partners HealthCare)/res...\n",
      "15  /Users/cu135/Dropbox (Partners HealthCare)/res...\n",
      "16  /Users/cu135/Dropbox (Partners HealthCare)/res...\n",
      "17  /Users/cu135/Dropbox (Partners HealthCare)/res...\n",
      "18  /Users/cu135/Dropbox (Partners HealthCare)/res...\n",
      "19  /Users/cu135/Dropbox (Partners HealthCare)/res...\n"
     ]
    }
   ],
   "source": [
    "from calvin_utils.file_utils.file_path_collector import glob_multiple_file_paths\n",
    "# Call the function and save the returned DataFrame to a CSV file\n",
    "master_df = glob_multiple_file_paths(dir_pattern_dict, save=True, save_path=csv_path)\n",
    "\n",
    "# Display the saved path and the DataFrame\n",
    "print(master_df)"
   ]
  },
  {
   "cell_type": "markdown",
   "id": "1ed7d5da",
   "metadata": {},
   "source": [
    "Hope this was helpful\n",
    "\n",
    "--Calvin"
   ]
  }
 ],
 "metadata": {
  "kernelspec": {
   "display_name": "Python 3.7.7 ('Python_3.10.0_nimlab')",
   "language": "python",
   "name": "python3"
  },
  "language_info": {
   "codemirror_mode": {
    "name": "ipython",
    "version": 3
   },
   "file_extension": ".py",
   "mimetype": "text/x-python",
   "name": "python",
   "nbconvert_exporter": "python",
   "pygments_lexer": "ipython3",
   "version": "3.10.8"
  },
  "vscode": {
   "interpreter": {
    "hash": "40c01ebd234e7f6bf72e95bdb8c5fad4871868daaad76374490b1ab5db2adc6d"
   }
  }
 },
 "nbformat": 4,
 "nbformat_minor": 5
}
