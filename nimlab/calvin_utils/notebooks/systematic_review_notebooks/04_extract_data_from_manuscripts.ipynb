{
 "cells": [
  {
   "cell_type": "markdown",
   "metadata": {},
   "source": [
    "01 - Generate JSON from Post-Inclusion/Exclusion CSV\n",
    "- Enter path to CSV which has successful articles in the index column\n",
    "- Enter path to JSON which has the articles with labeled sections"
   ]
  },
  {
   "cell_type": "code",
   "execution_count": 1,
   "metadata": {},
   "outputs": [],
   "source": [
    "csv_path = \"/Users/cu135/Library/CloudStorage/OneDrive-Personal/OneDrive_Documents/Work/Software/Research/nimlab/gpt_document_reader/amnesia_cases/ocr/keyword_matching_labeled_text/text_evaluations/3-5_inclusion_exclusion_results/unfiltered_results.csv\"\n",
    "json_path = \"/Users/cu135/Library/CloudStorage/OneDrive-Personal/OneDrive_Documents/Work/Software/Research/nimlab/gpt_document_reader/amnesia_cases/labeled_text/case_labeled_sections.json\""
   ]
  },
  {
   "cell_type": "code",
   "execution_count": 2,
   "metadata": {},
   "outputs": [
    {
     "name": "stderr",
     "output_type": "stream",
     "text": [
      "/Users/cu135/.local/lib/python3.10/site-packages/fuzzywuzzy/fuzz.py:11: UserWarning: Using slow pure-python SequenceMatcher. Install python-Levenshtein to remove this warning\n",
      "  warnings.warn('Using slow pure-python SequenceMatcher. Install python-Levenshtein to remove this warning')\n"
     ]
    }
   ],
   "source": [
    "from calvin_utils.gpt_sys_review.json_utils import FilterPapers\n",
    "\n",
    "# Initialize and run the FilterPapers class\n",
    "filter_papers = FilterPapers(csv_path=csv_path, json_path=json_path)\n",
    "filter_papers.run()"
   ]
  },
  {
   "cell_type": "markdown",
   "metadata": {},
   "source": [
    "02 - Prepare Data Extraction Questions\n",
    "- Dev Note: This is a repeat class and should be inherited from a .py"
   ]
  },
  {
   "cell_type": "code",
   "execution_count": 3,
   "metadata": {},
   "outputs": [
    {
     "name": "stdout",
     "output_type": "stream",
     "text": [
      "Here are example data extraction questions:\n",
      "{\n",
      "    \"Does the patient(s) represent(s) the whole experience of the investigator (center) or is the selection method unclear to the extent that other patients with similar presentation may not have been reported? (Good/Bad/Unclear)\": \"representative_case_quality\",\n",
      "    \"Was patient\\u2019s causal exposure clearly described? (Good/Bad/Unclear)\": \"causality_quality\",\n",
      "    \"Were diagnostic tests or assessment methods and the results clearly described (amnesia tests)? (Good/Bad/Unclear)\": \"phenotyping_quality\",\n",
      "    \"Were other alternative causes that may explain the observation (amnesia) ruled out? (Good/Bad/Unclear)\": \"workup_quality\",\n",
      "    \"Were patient\\u2019s demographics, medical history, comobidities clearly described? (Good/Bad/Unclear)\": \"clinical_covariates_quality\",\n",
      "    \"Were patient\\u2019s symptoms, interventions, and clinical outcomes clearly presented as a timeline? (Good/Bad/Unclear)\": \"history_quality\",\n",
      "    \"Was the lesion image taken around the time of observation (amnesia) assessment? (Good/Bad/Unclear)\": \"temporal_causality_quality\",\n",
      "    \"Is the case(s) described with sufficient details to allow other investigators to replicate the research or to allow practitioners make inferences related to their own practice? (Good/Bad/Unclear)\": \"history_quality_2\"\n",
      "}\n",
      "Here are some more generalizable data extraction questions:\n",
      "{\n",
      "    \"How affected is this study by selection bias? Little (Good). Very (Bad). Unsure (Unclear).\": \"selection_bias\",\n",
      "    \"How well was the timeline of lesion/symptom onset described? (Good/Bad/Unclear)\": \"exposure\",\n",
      "    \"How affected is this case by attribution error? Little (Good). Very (Bad). Unsure (Unclear).\": \"outcome\",\n",
      "    \"How reasonable is the attribution of the lesion/diagnosis to the symptom? (Good/Bad/Unclear)\": \"attribution_error\",\n",
      "    \"How well was the patients baseline pre-lesion described? (Good/Bad/Unclear)\": \"pre_event_assessment\",\n",
      "    \"How well was the patients outcome post-lesion described? (Good/Bad/Unclear)\": \"post_event_assessment\",\n",
      "    \"Do you think the neuroimaging was taken within temporal proximity to the lesion? Days-weeks (Good). Months-years (Bad). Unsure (Unclear).\": \"lesion_related-images\",\n",
      "    \"Do you think another practitioner would come to the same conclusion (diagnosis/attribution) that this group did? (Good/Bad/Unclear)\": \"replicability\",\n",
      "    \"How is the quality of this case overall? (Good/Bad/Unclear)\": \"overall_appraisal\"\n",
      "}\n",
      "Here is a question template\n",
      "{\n",
      "    \" ? (metric/metric/metric)\": \"question_label\"\n",
      "}\n"
     ]
    }
   ],
   "source": [
    "from calvin_utils.gpt_sys_review.gpt_utils import QuestionTemplate\n",
    "\n",
    "question_template = QuestionTemplate()\n",
    "question_template.data_extraction_questions()"
   ]
  },
  {
   "cell_type": "markdown",
   "metadata": {},
   "source": [
    "Copy the Template Dict from Above and Fill it Out As per the Example"
   ]
  },
  {
   "cell_type": "code",
   "execution_count": 4,
   "metadata": {},
   "outputs": [],
   "source": [
    "question = {\n",
    "    \"Do you think this is reasonably free of selection bias? For example, a case series is free of bias. (Y/N).\": \"selection_bias\",\n",
    "    \"Do you think the history of presenting illness was reasonably described? For example, describing a patient's symptoms and circumstances of presentation are acceptable. (Y/N)\": \"hpi_history\",\n",
    "    \"Prioritizing implicit information, do you think diagnostic diagnostic tests relevant to the diagnosis had been completed to consolidate the diagnosis? Specific details are not necessary. For example, vascular imaging in a stroke is a reasonable workup. (Y/N).\": \"diagnostic_workup\",\n",
    "    \"Do you think the symptom is reasonably attributable to the lesion? For example, a stroke and subsequent amnesia is highly attributable. If the word acute is used, this is a yes. (Y/N)\": \"diagnostic_accuracy\",\n",
    "    \"Do you think the extended patient history was well described? For example, diabetes in pas medical history, family history of strokes, or note of medications. (Y/N)\": \"associated_history\",\n",
    "    \"Considering both explicit mentions and contextual clues like ordered presnetaiton of history to symptoms to workup, can you infer whether the history was presented as a timeline? For example, a description of acute neurological deficit to imaging findings to symptoms is acceptable. (Y/N)\": \"temporality_of_history\",\n",
    "    \"Prioritizing implicit contextual cues, can you infer if the neuroimaging may have been taken around the time of symptom or lesion onset? If neuroimaging is mentioned in close proximity to the description of symptoms, assume they are temporally related. (Y/N)\": \"lesion_related-images\",\n",
    "    \"Do you think the case has sufficient details to allow another doctor to make their own inferences? Specifics are not necessary so long as the critical information is present. For example, if the history and pertinent diagnostic information provided, this is acceptable. (Y/N)\": \"replicability\",\n",
    "    \"Is the case report suitable for lesion network mapping? For example, a case describing symptoms and related neuroimaging related to symptoms is sufficient. (Y/N)\": \"overall_appraisal\"\n",
    "}"
   ]
  },
  {
   "cell_type": "markdown",
   "metadata": {},
   "source": [
    "03 - Extract Data with GPT\n"
   ]
  },
  {
   "cell_type": "code",
   "execution_count": 5,
   "metadata": {},
   "outputs": [],
   "source": [
    "# Define file paths\n",
    "api_key_path = \"/Users/cu135/Library/CloudStorage/OneDrive-Personal/OneDrive_Documents/Work/Software/Research/nimlab/openai_key.txt\"\n",
    "\n",
    "# Define the keys you want to consider (exclude 'References')\n",
    "keys_to_consider = [\"case_report\"]  # Add or remove keys as per your requirement\n",
    "\n",
    "# Define the type of article and questions\n",
    "article_type = \"research\""
   ]
  },
  {
   "cell_type": "code",
   "execution_count": 6,
   "metadata": {},
   "outputs": [],
   "source": [
    "from calvin_utils.gpt_sys_review.gpt_utils import OpenAIChatEvaluator"
   ]
  },
  {
   "cell_type": "code",
   "execution_count": 7,
   "metadata": {},
   "outputs": [],
   "source": [
    "test_mode=False"
   ]
  },
  {
   "cell_type": "code",
   "execution_count": 8,
   "metadata": {},
   "outputs": [
    {
     "name": "stderr",
     "output_type": "stream",
     "text": [
      "  0%|          | 0/107 [00:00<?, ?it/s]"
     ]
    },
    {
     "name": "stdout",
     "output_type": "stream",
     "text": [
      "Rate limit error: Rate limit reached for 10KTPM-200RPM in organization org-Y2tKyCPFO6tIjtCtOVZ7c9tr on tokens per min. Limit: 10000 / min. Please try again in 6ms. Contact us through our help center at help.openai.com if you continue to have issues.. Retrying Question No. 5 Attempt:(1)\n",
      "Rate limit error: Rate limit reached for 10KTPM-200RPM in organization org-Y2tKyCPFO6tIjtCtOVZ7c9tr on tokens per min. Limit: 10000 / min. Please try again in 6ms. Contact us through our help center at help.openai.com if you continue to have issues.. Retrying Question No. 8 Attempt:(1)\n"
     ]
    },
    {
     "name": "stderr",
     "output_type": "stream",
     "text": [
      "  1%|          | 1/107 [01:07<1:59:12, 67.48s/it]"
     ]
    },
    {
     "name": "stdout",
     "output_type": "stream",
     "text": [
      "Rate limit error: Rate limit reached for 10KTPM-200RPM in organization org-Y2tKyCPFO6tIjtCtOVZ7c9tr on tokens per min. Limit: 10000 / min. Please try again in 6ms. Contact us through our help center at help.openai.com if you continue to have issues.. Retrying Question No. 0 Attempt:(1)\n",
      "Rate limit error: Rate limit reached for 10KTPM-200RPM in organization org-Y2tKyCPFO6tIjtCtOVZ7c9tr on tokens per min. Limit: 10000 / min. Please try again in 6ms. Contact us through our help center at help.openai.com if you continue to have issues.. Retrying Question No. 1 Attempt:(1)\n",
      "Rate limit error: Rate limit reached for 10KTPM-200RPM in organization org-Y2tKyCPFO6tIjtCtOVZ7c9tr on tokens per min. Limit: 10000 / min. Please try again in 6ms. Contact us through our help center at help.openai.com if you continue to have issues.. Retrying Question No. 2 Attempt:(1)\n",
      "Rate limit error: Rate limit reached for 10KTPM-200RPM in organization org-Y2tKyCPFO6tIjtCtOVZ7c9tr on tokens per min. Limit: 10000 / min. Please try again in 6ms. Contact us through our help center at help.openai.com if you continue to have issues.. Retrying Question No. 3 Attempt:(1)\n",
      "Rate limit error: Rate limit reached for 10KTPM-200RPM in organization org-Y2tKyCPFO6tIjtCtOVZ7c9tr on tokens per min. Limit: 10000 / min. Please try again in 6ms. Contact us through our help center at help.openai.com if you continue to have issues.. Retrying Question No. 4 Attempt:(1)\n",
      "Rate limit error: Rate limit reached for 10KTPM-200RPM in organization org-Y2tKyCPFO6tIjtCtOVZ7c9tr on tokens per min. Limit: 10000 / min. Please try again in 6ms. Contact us through our help center at help.openai.com if you continue to have issues.. Retrying Question No. 5 Attempt:(1)\n",
      "Rate limit error: Rate limit reached for 10KTPM-200RPM in organization org-Y2tKyCPFO6tIjtCtOVZ7c9tr on tokens per min. Limit: 10000 / min. Please try again in 6ms. Contact us through our help center at help.openai.com if you continue to have issues.. Retrying Question No. 6 Attempt:(1)\n",
      "Rate limit error: Rate limit reached for 10KTPM-200RPM in organization org-Y2tKyCPFO6tIjtCtOVZ7c9tr on tokens per min. Limit: 10000 / min. Please try again in 6ms. Contact us through our help center at help.openai.com if you continue to have issues.. Retrying Question No. 7 Attempt:(1)\n",
      "Rate limit error: Rate limit reached for 10KTPM-200RPM in organization org-Y2tKyCPFO6tIjtCtOVZ7c9tr on tokens per min. Limit: 10000 / min. Please try again in 6ms. Contact us through our help center at help.openai.com if you continue to have issues.. Retrying Question No. 8 Attempt:(1)\n"
     ]
    },
    {
     "name": "stderr",
     "output_type": "stream",
     "text": [
      "  2%|▏         | 2/107 [05:47<5:36:55, 192.53s/it]"
     ]
    },
    {
     "name": "stdout",
     "output_type": "stream",
     "text": [
      "Rate limit error: Rate limit reached for 10KTPM-200RPM in organization org-Y2tKyCPFO6tIjtCtOVZ7c9tr on tokens per min. Limit: 10000 / min. Please try again in 6ms. Contact us through our help center at help.openai.com if you continue to have issues.. Retrying Question No. 0 Attempt:(1)\n",
      "Rate limit error: Rate limit reached for 10KTPM-200RPM in organization org-Y2tKyCPFO6tIjtCtOVZ7c9tr on tokens per min. Limit: 10000 / min. Please try again in 6ms. Contact us through our help center at help.openai.com if you continue to have issues.. Retrying Question No. 1 Attempt:(1)\n",
      "Rate limit error: Rate limit reached for 10KTPM-200RPM in organization org-Y2tKyCPFO6tIjtCtOVZ7c9tr on tokens per min. Limit: 10000 / min. Please try again in 6ms. Contact us through our help center at help.openai.com if you continue to have issues.. Retrying Question No. 2 Attempt:(1)\n",
      "Rate limit error: Rate limit reached for 10KTPM-200RPM in organization org-Y2tKyCPFO6tIjtCtOVZ7c9tr on tokens per min. Limit: 10000 / min. Please try again in 6ms. Contact us through our help center at help.openai.com if you continue to have issues.. Retrying Question No. 3 Attempt:(1)\n",
      "Rate limit error: Rate limit reached for 10KTPM-200RPM in organization org-Y2tKyCPFO6tIjtCtOVZ7c9tr on tokens per min. Limit: 10000 / min. Please try again in 6ms. Contact us through our help center at help.openai.com if you continue to have issues.. Retrying Question No. 4 Attempt:(1)\n",
      "Rate limit error: Rate limit reached for 10KTPM-200RPM in organization org-Y2tKyCPFO6tIjtCtOVZ7c9tr on tokens per min. Limit: 10000 / min. Please try again in 6ms. Contact us through our help center at help.openai.com if you continue to have issues.. Retrying Question No. 6 Attempt:(1)\n",
      "Rate limit error: Rate limit reached for 10KTPM-200RPM in organization org-Y2tKyCPFO6tIjtCtOVZ7c9tr on tokens per min. Limit: 10000 / min. Please try again in 6ms. Contact us through our help center at help.openai.com if you continue to have issues.. Retrying Question No. 7 Attempt:(1)\n",
      "Rate limit error: Rate limit reached for 10KTPM-200RPM in organization org-Y2tKyCPFO6tIjtCtOVZ7c9tr on tokens per min. Limit: 10000 / min. Please try again in 6ms. Contact us through our help center at help.openai.com if you continue to have issues.. Retrying Question No. 8 Attempt:(1)\n"
     ]
    },
    {
     "name": "stderr",
     "output_type": "stream",
     "text": [
      "  3%|▎         | 3/107 [09:58<6:19:50, 219.14s/it]"
     ]
    },
    {
     "name": "stdout",
     "output_type": "stream",
     "text": [
      "Rate limit error: Rate limit reached for 10KTPM-200RPM in organization org-Y2tKyCPFO6tIjtCtOVZ7c9tr on tokens per min. Limit: 10000 / min. Please try again in 6ms. Contact us through our help center at help.openai.com if you continue to have issues.. Retrying Question No. 0 Attempt:(1)\n",
      "Rate limit error: Rate limit reached for 10KTPM-200RPM in organization org-Y2tKyCPFO6tIjtCtOVZ7c9tr on tokens per min. Limit: 10000 / min. Please try again in 6ms. Contact us through our help center at help.openai.com if you continue to have issues.. Retrying Question No. 1 Attempt:(1)\n",
      "Rate limit error: Rate limit reached for 10KTPM-200RPM in organization org-Y2tKyCPFO6tIjtCtOVZ7c9tr on tokens per min. Limit: 10000 / min. Please try again in 6ms. Contact us through our help center at help.openai.com if you continue to have issues.. Retrying Question No. 2 Attempt:(1)\n",
      "Rate limit error: Rate limit reached for 10KTPM-200RPM in organization org-Y2tKyCPFO6tIjtCtOVZ7c9tr on tokens per min. Limit: 10000 / min. Please try again in 6ms. Contact us through our help center at help.openai.com if you continue to have issues.. Retrying Question No. 3 Attempt:(1)\n",
      "Rate limit error: Rate limit reached for 10KTPM-200RPM in organization org-Y2tKyCPFO6tIjtCtOVZ7c9tr on tokens per min. Limit: 10000 / min. Please try again in 6ms. Contact us through our help center at help.openai.com if you continue to have issues.. Retrying Question No. 4 Attempt:(1)\n",
      "Rate limit error: Rate limit reached for 10KTPM-200RPM in organization org-Y2tKyCPFO6tIjtCtOVZ7c9tr on tokens per min. Limit: 10000 / min. Please try again in 6ms. Contact us through our help center at help.openai.com if you continue to have issues.. Retrying Question No. 5 Attempt:(1)\n",
      "Rate limit error: Rate limit reached for 10KTPM-200RPM in organization org-Y2tKyCPFO6tIjtCtOVZ7c9tr on tokens per min. Limit: 10000 / min. Please try again in 6ms. Contact us through our help center at help.openai.com if you continue to have issues.. Retrying Question No. 5 Attempt:(2)\n",
      "Rate limit error: Rate limit reached for 10KTPM-200RPM in organization org-Y2tKyCPFO6tIjtCtOVZ7c9tr on tokens per min. Limit: 10000 / min. Please try again in 6ms. Contact us through our help center at help.openai.com if you continue to have issues.. Retrying Question No. 6 Attempt:(1)\n",
      "Rate limit error: Rate limit reached for 10KTPM-200RPM in organization org-Y2tKyCPFO6tIjtCtOVZ7c9tr on tokens per min. Limit: 10000 / min. Please try again in 6ms. Contact us through our help center at help.openai.com if you continue to have issues.. Retrying Question No. 7 Attempt:(1)\n",
      "Rate limit error: Rate limit reached for 10KTPM-200RPM in organization org-Y2tKyCPFO6tIjtCtOVZ7c9tr on tokens per min. Limit: 10000 / min. Please try again in 6ms. Contact us through our help center at help.openai.com if you continue to have issues.. Retrying Question No. 8 Attempt:(1)\n",
      "Rate limit error: Rate limit reached for 10KTPM-200RPM in organization org-Y2tKyCPFO6tIjtCtOVZ7c9tr on tokens per min. Limit: 10000 / min. Please try again in 6ms. Contact us through our help center at help.openai.com if you continue to have issues.. Retrying Question No. 0 Attempt:(1)\n",
      "Rate limit error: Rate limit reached for 10KTPM-200RPM in organization org-Y2tKyCPFO6tIjtCtOVZ7c9tr on tokens per min. Limit: 10000 / min. Please try again in 6ms. Contact us through our help center at help.openai.com if you continue to have issues.. Retrying Question No. 1 Attempt:(1)\n",
      "Rate limit error: Rate limit reached for 10KTPM-200RPM in organization org-Y2tKyCPFO6tIjtCtOVZ7c9tr on tokens per min. Limit: 10000 / min. Please try again in 6ms. Contact us through our help center at help.openai.com if you continue to have issues.. Retrying Question No. 2 Attempt:(1)\n",
      "Rate limit error: Rate limit reached for 10KTPM-200RPM in organization org-Y2tKyCPFO6tIjtCtOVZ7c9tr on tokens per min. Limit: 10000 / min. Please try again in 6ms. Contact us through our help center at help.openai.com if you continue to have issues.. Retrying Question No. 4 Attempt:(1)\n",
      "Rate limit error: Rate limit reached for 10KTPM-200RPM in organization org-Y2tKyCPFO6tIjtCtOVZ7c9tr on tokens per min. Limit: 10000 / min. Please try again in 6ms. Contact us through our help center at help.openai.com if you continue to have issues.. Retrying Question No. 5 Attempt:(1)\n",
      "Rate limit error: Rate limit reached for 10KTPM-200RPM in organization org-Y2tKyCPFO6tIjtCtOVZ7c9tr on tokens per min. Limit: 10000 / min. Please try again in 6ms. Contact us through our help center at help.openai.com if you continue to have issues.. Retrying Question No. 6 Attempt:(1)\n",
      "Rate limit error: Rate limit reached for 10KTPM-200RPM in organization org-Y2tKyCPFO6tIjtCtOVZ7c9tr on tokens per min. Limit: 10000 / min. Please try again in 6ms. Contact us through our help center at help.openai.com if you continue to have issues.. Retrying Question No. 7 Attempt:(1)\n",
      "Rate limit error: Rate limit reached for 10KTPM-200RPM in organization org-Y2tKyCPFO6tIjtCtOVZ7c9tr on tokens per min. Limit: 10000 / min. Please try again in 6ms. Contact us through our help center at help.openai.com if you continue to have issues.. Retrying Question No. 8 Attempt:(1)\n"
     ]
    },
    {
     "name": "stderr",
     "output_type": "stream",
     "text": [
      "  4%|▎         | 4/107 [19:24<10:11:22, 356.14s/it]"
     ]
    },
    {
     "name": "stdout",
     "output_type": "stream",
     "text": [
      "Rate limit error: Rate limit reached for 10KTPM-200RPM in organization org-Y2tKyCPFO6tIjtCtOVZ7c9tr on tokens per min. Limit: 10000 / min. Please try again in 6ms. Contact us through our help center at help.openai.com if you continue to have issues.. Retrying Question No. 0 Attempt:(1)\n",
      "Rate limit error: Rate limit reached for 10KTPM-200RPM in organization org-Y2tKyCPFO6tIjtCtOVZ7c9tr on tokens per min. Limit: 10000 / min. Please try again in 6ms. Contact us through our help center at help.openai.com if you continue to have issues.. Retrying Question No. 1 Attempt:(1)\n",
      "Rate limit error: Rate limit reached for 10KTPM-200RPM in organization org-Y2tKyCPFO6tIjtCtOVZ7c9tr on tokens per min. Limit: 10000 / min. Please try again in 6ms. Contact us through our help center at help.openai.com if you continue to have issues.. Retrying Question No. 2 Attempt:(1)\n",
      "Rate limit error: Rate limit reached for 10KTPM-200RPM in organization org-Y2tKyCPFO6tIjtCtOVZ7c9tr on tokens per min. Limit: 10000 / min. Please try again in 6ms. Contact us through our help center at help.openai.com if you continue to have issues.. Retrying Question No. 3 Attempt:(1)\n",
      "Rate limit error: Rate limit reached for 10KTPM-200RPM in organization org-Y2tKyCPFO6tIjtCtOVZ7c9tr on tokens per min. Limit: 10000 / min. Please try again in 6ms. Contact us through our help center at help.openai.com if you continue to have issues.. Retrying Question No. 4 Attempt:(1)\n",
      "Rate limit error: Rate limit reached for 10KTPM-200RPM in organization org-Y2tKyCPFO6tIjtCtOVZ7c9tr on tokens per min. Limit: 10000 / min. Please try again in 6ms. Contact us through our help center at help.openai.com if you continue to have issues.. Retrying Question No. 4 Attempt:(2)\n",
      "Rate limit error: Rate limit reached for 10KTPM-200RPM in organization org-Y2tKyCPFO6tIjtCtOVZ7c9tr on tokens per min. Limit: 10000 / min. Please try again in 6ms. Contact us through our help center at help.openai.com if you continue to have issues.. Retrying Question No. 5 Attempt:(1)\n",
      "Rate limit error: Rate limit reached for 10KTPM-200RPM in organization org-Y2tKyCPFO6tIjtCtOVZ7c9tr on tokens per min. Limit: 10000 / min. Please try again in 6ms. Contact us through our help center at help.openai.com if you continue to have issues.. Retrying Question No. 6 Attempt:(1)\n",
      "Rate limit error: Rate limit reached for 10KTPM-200RPM in organization org-Y2tKyCPFO6tIjtCtOVZ7c9tr on tokens per min. Limit: 10000 / min. Please try again in 6ms. Contact us through our help center at help.openai.com if you continue to have issues.. Retrying Question No. 7 Attempt:(1)\n",
      "Rate limit error: Rate limit reached for 10KTPM-200RPM in organization org-Y2tKyCPFO6tIjtCtOVZ7c9tr on tokens per min. Limit: 10000 / min. Please try again in 6ms. Contact us through our help center at help.openai.com if you continue to have issues.. Retrying Question No. 8 Attempt:(1)\n",
      "Rate limit error: Rate limit reached for 10KTPM-200RPM in organization org-Y2tKyCPFO6tIjtCtOVZ7c9tr on tokens per min. Limit: 10000 / min. Please try again in 6ms. Contact us through our help center at help.openai.com if you continue to have issues.. Retrying Question No. 3 Attempt:(1)\n"
     ]
    },
    {
     "name": "stderr",
     "output_type": "stream",
     "text": [
      "  5%|▍         | 5/107 [25:19<10:04:26, 355.56s/it]"
     ]
    },
    {
     "name": "stdout",
     "output_type": "stream",
     "text": [
      "Rate limit error: Rate limit reached for 10KTPM-200RPM in organization org-Y2tKyCPFO6tIjtCtOVZ7c9tr on tokens per min. Limit: 10000 / min. Please try again in 6ms. Contact us through our help center at help.openai.com if you continue to have issues.. Retrying Question No. 0 Attempt:(1)\n",
      "Rate limit error: Rate limit reached for 10KTPM-200RPM in organization org-Y2tKyCPFO6tIjtCtOVZ7c9tr on tokens per min. Limit: 10000 / min. Please try again in 6ms. Contact us through our help center at help.openai.com if you continue to have issues.. Retrying Question No. 2 Attempt:(1)\n",
      "Rate limit error: Rate limit reached for 10KTPM-200RPM in organization org-Y2tKyCPFO6tIjtCtOVZ7c9tr on tokens per min. Limit: 10000 / min. Please try again in 6ms. Contact us through our help center at help.openai.com if you continue to have issues.. Retrying Question No. 3 Attempt:(1)\n",
      "Rate limit error: Rate limit reached for 10KTPM-200RPM in organization org-Y2tKyCPFO6tIjtCtOVZ7c9tr on tokens per min. Limit: 10000 / min. Please try again in 6ms. Contact us through our help center at help.openai.com if you continue to have issues.. Retrying Question No. 4 Attempt:(1)\n",
      "Rate limit error: Rate limit reached for 10KTPM-200RPM in organization org-Y2tKyCPFO6tIjtCtOVZ7c9tr on tokens per min. Limit: 10000 / min. Please try again in 6ms. Contact us through our help center at help.openai.com if you continue to have issues.. Retrying Question No. 6 Attempt:(1)\n",
      "Rate limit error: Rate limit reached for 10KTPM-200RPM in organization org-Y2tKyCPFO6tIjtCtOVZ7c9tr on tokens per min. Limit: 10000 / min. Please try again in 6ms. Contact us through our help center at help.openai.com if you continue to have issues.. Retrying Question No. 7 Attempt:(1)\n",
      "Rate limit error: Rate limit reached for 10KTPM-200RPM in organization org-Y2tKyCPFO6tIjtCtOVZ7c9tr on tokens per min. Limit: 10000 / min. Please try again in 6ms. Contact us through our help center at help.openai.com if you continue to have issues.. Retrying Question No. 8 Attempt:(1)\n"
     ]
    },
    {
     "name": "stderr",
     "output_type": "stream",
     "text": [
      "  6%|▌         | 6/107 [29:01<8:42:23, 310.33s/it] "
     ]
    },
    {
     "name": "stdout",
     "output_type": "stream",
     "text": [
      "Rate limit error: Rate limit reached for 10KTPM-200RPM in organization org-Y2tKyCPFO6tIjtCtOVZ7c9tr on tokens per min. Limit: 10000 / min. Please try again in 6ms. Contact us through our help center at help.openai.com if you continue to have issues.. Retrying Question No. 1 Attempt:(1)\n",
      "Rate limit error: Rate limit reached for 10KTPM-200RPM in organization org-Y2tKyCPFO6tIjtCtOVZ7c9tr on tokens per min. Limit: 10000 / min. Please try again in 6ms. Contact us through our help center at help.openai.com if you continue to have issues.. Retrying Question No. 2 Attempt:(1)\n",
      "Rate limit error: Rate limit reached for 10KTPM-200RPM in organization org-Y2tKyCPFO6tIjtCtOVZ7c9tr on tokens per min. Limit: 10000 / min. Please try again in 6ms. Contact us through our help center at help.openai.com if you continue to have issues.. Retrying Question No. 4 Attempt:(1)\n",
      "Rate limit error: Rate limit reached for 10KTPM-200RPM in organization org-Y2tKyCPFO6tIjtCtOVZ7c9tr on tokens per min. Limit: 10000 / min. Please try again in 6ms. Contact us through our help center at help.openai.com if you continue to have issues.. Retrying Question No. 5 Attempt:(1)\n",
      "Rate limit error: Rate limit reached for 10KTPM-200RPM in organization org-Y2tKyCPFO6tIjtCtOVZ7c9tr on tokens per min. Limit: 10000 / min. Please try again in 6ms. Contact us through our help center at help.openai.com if you continue to have issues.. Retrying Question No. 6 Attempt:(1)\n",
      "Rate limit error: Rate limit reached for 10KTPM-200RPM in organization org-Y2tKyCPFO6tIjtCtOVZ7c9tr on tokens per min. Limit: 10000 / min. Please try again in 6ms. Contact us through our help center at help.openai.com if you continue to have issues.. Retrying Question No. 8 Attempt:(1)\n"
     ]
    },
    {
     "name": "stderr",
     "output_type": "stream",
     "text": [
      "  7%|▋         | 7/107 [32:11<7:31:42, 271.02s/it]"
     ]
    },
    {
     "name": "stdout",
     "output_type": "stream",
     "text": [
      "Rate limit error: Rate limit reached for 10KTPM-200RPM in organization org-Y2tKyCPFO6tIjtCtOVZ7c9tr on tokens per min. Limit: 10000 / min. Please try again in 6ms. Contact us through our help center at help.openai.com if you continue to have issues.. Retrying Question No. 0 Attempt:(1)\n",
      "Rate limit error: Rate limit reached for 10KTPM-200RPM in organization org-Y2tKyCPFO6tIjtCtOVZ7c9tr on tokens per min. Limit: 10000 / min. Please try again in 6ms. Contact us through our help center at help.openai.com if you continue to have issues.. Retrying Question No. 1 Attempt:(1)\n",
      "Rate limit error: Rate limit reached for 10KTPM-200RPM in organization org-Y2tKyCPFO6tIjtCtOVZ7c9tr on tokens per min. Limit: 10000 / min. Please try again in 6ms. Contact us through our help center at help.openai.com if you continue to have issues.. Retrying Question No. 2 Attempt:(1)\n",
      "Rate limit error: Rate limit reached for 10KTPM-200RPM in organization org-Y2tKyCPFO6tIjtCtOVZ7c9tr on tokens per min. Limit: 10000 / min. Please try again in 6ms. Contact us through our help center at help.openai.com if you continue to have issues.. Retrying Question No. 3 Attempt:(1)\n",
      "Rate limit error: Rate limit reached for 10KTPM-200RPM in organization org-Y2tKyCPFO6tIjtCtOVZ7c9tr on tokens per min. Limit: 10000 / min. Please try again in 6ms. Contact us through our help center at help.openai.com if you continue to have issues.. Retrying Question No. 4 Attempt:(1)\n",
      "Rate limit error: Rate limit reached for 10KTPM-200RPM in organization org-Y2tKyCPFO6tIjtCtOVZ7c9tr on tokens per min. Limit: 10000 / min. Please try again in 6ms. Contact us through our help center at help.openai.com if you continue to have issues.. Retrying Question No. 5 Attempt:(1)\n",
      "Rate limit error: Rate limit reached for 10KTPM-200RPM in organization org-Y2tKyCPFO6tIjtCtOVZ7c9tr on tokens per min. Limit: 10000 / min. Please try again in 6ms. Contact us through our help center at help.openai.com if you continue to have issues.. Retrying Question No. 5 Attempt:(2)\n",
      "Rate limit error: Rate limit reached for 10KTPM-200RPM in organization org-Y2tKyCPFO6tIjtCtOVZ7c9tr on tokens per min. Limit: 10000 / min. Please try again in 6ms. Contact us through our help center at help.openai.com if you continue to have issues.. Retrying Question No. 6 Attempt:(1)\n",
      "Rate limit error: Rate limit reached for 10KTPM-200RPM in organization org-Y2tKyCPFO6tIjtCtOVZ7c9tr on tokens per min. Limit: 10000 / min. Please try again in 6ms. Contact us through our help center at help.openai.com if you continue to have issues.. Retrying Question No. 7 Attempt:(1)\n",
      "Rate limit error: Rate limit reached for 10KTPM-200RPM in organization org-Y2tKyCPFO6tIjtCtOVZ7c9tr on tokens per min. Limit: 10000 / min. Please try again in 6ms. Contact us through our help center at help.openai.com if you continue to have issues.. Retrying Question No. 8 Attempt:(1)\n",
      "Rate limit error: Rate limit reached for 10KTPM-200RPM in organization org-Y2tKyCPFO6tIjtCtOVZ7c9tr on tokens per min. Limit: 10000 / min. Please try again in 6ms. Contact us through our help center at help.openai.com if you continue to have issues.. Retrying Question No. 3 Attempt:(1)\n"
     ]
    },
    {
     "name": "stderr",
     "output_type": "stream",
     "text": [
      "  7%|▋         | 8/107 [38:03<8:09:33, 296.70s/it]"
     ]
    },
    {
     "name": "stdout",
     "output_type": "stream",
     "text": [
      "Rate limit error: Rate limit reached for 10KTPM-200RPM in organization org-Y2tKyCPFO6tIjtCtOVZ7c9tr on tokens per min. Limit: 10000 / min. Please try again in 6ms. Contact us through our help center at help.openai.com if you continue to have issues.. Retrying Question No. 0 Attempt:(1)\n",
      "Rate limit error: Rate limit reached for 10KTPM-200RPM in organization org-Y2tKyCPFO6tIjtCtOVZ7c9tr on tokens per min. Limit: 10000 / min. Please try again in 6ms. Contact us through our help center at help.openai.com if you continue to have issues.. Retrying Question No. 1 Attempt:(1)\n",
      "Rate limit error: Rate limit reached for 10KTPM-200RPM in organization org-Y2tKyCPFO6tIjtCtOVZ7c9tr on tokens per min. Limit: 10000 / min. Please try again in 6ms. Contact us through our help center at help.openai.com if you continue to have issues.. Retrying Question No. 2 Attempt:(1)\n",
      "Rate limit error: Rate limit reached for 10KTPM-200RPM in organization org-Y2tKyCPFO6tIjtCtOVZ7c9tr on tokens per min. Limit: 10000 / min. Please try again in 6ms. Contact us through our help center at help.openai.com if you continue to have issues.. Retrying Question No. 2 Attempt:(2)\n",
      "Rate limit error: Rate limit reached for 10KTPM-200RPM in organization org-Y2tKyCPFO6tIjtCtOVZ7c9tr on tokens per min. Limit: 10000 / min. Please try again in 6ms. Contact us through our help center at help.openai.com if you continue to have issues.. Retrying Question No. 3 Attempt:(1)\n",
      "Rate limit error: Rate limit reached for 10KTPM-200RPM in organization org-Y2tKyCPFO6tIjtCtOVZ7c9tr on tokens per min. Limit: 10000 / min. Please try again in 6ms. Contact us through our help center at help.openai.com if you continue to have issues.. Retrying Question No. 4 Attempt:(1)\n",
      "Rate limit error: Rate limit reached for 10KTPM-200RPM in organization org-Y2tKyCPFO6tIjtCtOVZ7c9tr on tokens per min. Limit: 10000 / min. Please try again in 6ms. Contact us through our help center at help.openai.com if you continue to have issues.. Retrying Question No. 5 Attempt:(1)\n",
      "Rate limit error: Rate limit reached for 10KTPM-200RPM in organization org-Y2tKyCPFO6tIjtCtOVZ7c9tr on tokens per min. Limit: 10000 / min. Please try again in 6ms. Contact us through our help center at help.openai.com if you continue to have issues.. Retrying Question No. 6 Attempt:(1)\n",
      "Rate limit error: Rate limit reached for 10KTPM-200RPM in organization org-Y2tKyCPFO6tIjtCtOVZ7c9tr on tokens per min. Limit: 10000 / min. Please try again in 6ms. Contact us through our help center at help.openai.com if you continue to have issues.. Retrying Question No. 7 Attempt:(1)\n",
      "Rate limit error: Rate limit reached for 10KTPM-200RPM in organization org-Y2tKyCPFO6tIjtCtOVZ7c9tr on tokens per min. Limit: 10000 / min. Please try again in 6ms. Contact us through our help center at help.openai.com if you continue to have issues.. Retrying Question No. 8 Attempt:(1)\n",
      "Rate limit error: Rate limit reached for 10KTPM-200RPM in organization org-Y2tKyCPFO6tIjtCtOVZ7c9tr on tokens per min. Limit: 10000 / min. Please try again in 6ms. Contact us through our help center at help.openai.com if you continue to have issues.. Retrying Question No. 8 Attempt:(2)\n",
      "Rate limit error: Rate limit reached for 10KTPM-200RPM in organization org-Y2tKyCPFO6tIjtCtOVZ7c9tr on tokens per min. Limit: 10000 / min. Please try again in 6ms. Contact us through our help center at help.openai.com if you continue to have issues.. Retrying Question No. 0 Attempt:(1)\n",
      "Rate limit error: Rate limit reached for 10KTPM-200RPM in organization org-Y2tKyCPFO6tIjtCtOVZ7c9tr on tokens per min. Limit: 10000 / min. Please try again in 6ms. Contact us through our help center at help.openai.com if you continue to have issues.. Retrying Question No. 1 Attempt:(1)\n",
      "Rate limit error: Rate limit reached for 10KTPM-200RPM in organization org-Y2tKyCPFO6tIjtCtOVZ7c9tr on tokens per min. Limit: 10000 / min. Please try again in 6ms. Contact us through our help center at help.openai.com if you continue to have issues.. Retrying Question No. 2 Attempt:(1)\n",
      "Rate limit error: Rate limit reached for 10KTPM-200RPM in organization org-Y2tKyCPFO6tIjtCtOVZ7c9tr on tokens per min. Limit: 10000 / min. Please try again in 6ms. Contact us through our help center at help.openai.com if you continue to have issues.. Retrying Question No. 3 Attempt:(1)\n",
      "Rate limit error: Rate limit reached for 10KTPM-200RPM in organization org-Y2tKyCPFO6tIjtCtOVZ7c9tr on tokens per min. Limit: 10000 / min. Please try again in 6ms. Contact us through our help center at help.openai.com if you continue to have issues.. Retrying Question No. 4 Attempt:(1)\n",
      "Rate limit error: Rate limit reached for 10KTPM-200RPM in organization org-Y2tKyCPFO6tIjtCtOVZ7c9tr on tokens per min. Limit: 10000 / min. Please try again in 6ms. Contact us through our help center at help.openai.com if you continue to have issues.. Retrying Question No. 5 Attempt:(1)\n",
      "Rate limit error: Rate limit reached for 10KTPM-200RPM in organization org-Y2tKyCPFO6tIjtCtOVZ7c9tr on tokens per min. Limit: 10000 / min. Please try again in 6ms. Contact us through our help center at help.openai.com if you continue to have issues.. Retrying Question No. 6 Attempt:(1)\n",
      "Rate limit error: Rate limit reached for 10KTPM-200RPM in organization org-Y2tKyCPFO6tIjtCtOVZ7c9tr on tokens per min. Limit: 10000 / min. Please try again in 6ms. Contact us through our help center at help.openai.com if you continue to have issues.. Retrying Question No. 7 Attempt:(1)\n",
      "Rate limit error: Rate limit reached for 10KTPM-200RPM in organization org-Y2tKyCPFO6tIjtCtOVZ7c9tr on tokens per min. Limit: 10000 / min. Please try again in 6ms. Contact us through our help center at help.openai.com if you continue to have issues.. Retrying Question No. 8 Attempt:(1)\n",
      "Rate limit error: Rate limit reached for 10KTPM-200RPM in organization org-Y2tKyCPFO6tIjtCtOVZ7c9tr on tokens per min. Limit: 10000 / min. Please try again in 6ms. Contact us through our help center at help.openai.com if you continue to have issues.. Retrying Question No. 0 Attempt:(1)\n",
      "Rate limit error: Rate limit reached for 10KTPM-200RPM in organization org-Y2tKyCPFO6tIjtCtOVZ7c9tr on tokens per min. Limit: 10000 / min. Please try again in 6ms. Contact us through our help center at help.openai.com if you continue to have issues.. Retrying Question No. 1 Attempt:(1)\n",
      "Rate limit error: Rate limit reached for 10KTPM-200RPM in organization org-Y2tKyCPFO6tIjtCtOVZ7c9tr on tokens per min. Limit: 10000 / min. Please try again in 6ms. Contact us through our help center at help.openai.com if you continue to have issues.. Retrying Question No. 2 Attempt:(1)\n",
      "Rate limit error: Rate limit reached for 10KTPM-200RPM in organization org-Y2tKyCPFO6tIjtCtOVZ7c9tr on tokens per min. Limit: 10000 / min. Please try again in 6ms. Contact us through our help center at help.openai.com if you continue to have issues.. Retrying Question No. 3 Attempt:(1)\n",
      "Rate limit error: Rate limit reached for 10KTPM-200RPM in organization org-Y2tKyCPFO6tIjtCtOVZ7c9tr on tokens per min. Limit: 10000 / min. Please try again in 6ms. Contact us through our help center at help.openai.com if you continue to have issues.. Retrying Question No. 4 Attempt:(1)\n",
      "Rate limit error: Rate limit reached for 10KTPM-200RPM in organization org-Y2tKyCPFO6tIjtCtOVZ7c9tr on tokens per min. Limit: 10000 / min. Please try again in 6ms. Contact us through our help center at help.openai.com if you continue to have issues.. Retrying Question No. 5 Attempt:(1)\n",
      "Rate limit error: Rate limit reached for 10KTPM-200RPM in organization org-Y2tKyCPFO6tIjtCtOVZ7c9tr on tokens per min. Limit: 10000 / min. Please try again in 6ms. Contact us through our help center at help.openai.com if you continue to have issues.. Retrying Question No. 6 Attempt:(1)\n",
      "Rate limit error: Rate limit reached for 10KTPM-200RPM in organization org-Y2tKyCPFO6tIjtCtOVZ7c9tr on tokens per min. Limit: 10000 / min. Please try again in 6ms. Contact us through our help center at help.openai.com if you continue to have issues.. Retrying Question No. 7 Attempt:(1)\n",
      "Rate limit error: Rate limit reached for 10KTPM-200RPM in organization org-Y2tKyCPFO6tIjtCtOVZ7c9tr on tokens per min. Limit: 10000 / min. Please try again in 6ms. Contact us through our help center at help.openai.com if you continue to have issues.. Retrying Question No. 8 Attempt:(1)\n",
      "Rate limit error: Rate limit reached for 10KTPM-200RPM in organization org-Y2tKyCPFO6tIjtCtOVZ7c9tr on tokens per min. Limit: 10000 / min. Please try again in 6ms. Contact us through our help center at help.openai.com if you continue to have issues.. Retrying Question No. 0 Attempt:(1)\n",
      "Rate limit error: Rate limit reached for 10KTPM-200RPM in organization org-Y2tKyCPFO6tIjtCtOVZ7c9tr on tokens per min. Limit: 10000 / min. Please try again in 6ms. Contact us through our help center at help.openai.com if you continue to have issues.. Retrying Question No. 1 Attempt:(1)\n",
      "Rate limit error: Rate limit reached for 10KTPM-200RPM in organization org-Y2tKyCPFO6tIjtCtOVZ7c9tr on tokens per min. Limit: 10000 / min. Please try again in 6ms. Contact us through our help center at help.openai.com if you continue to have issues.. Retrying Question No. 2 Attempt:(1)\n",
      "Rate limit error: Rate limit reached for 10KTPM-200RPM in organization org-Y2tKyCPFO6tIjtCtOVZ7c9tr on tokens per min. Limit: 10000 / min. Please try again in 6ms. Contact us through our help center at help.openai.com if you continue to have issues.. Retrying Question No. 4 Attempt:(1)\n",
      "Rate limit error: Rate limit reached for 10KTPM-200RPM in organization org-Y2tKyCPFO6tIjtCtOVZ7c9tr on tokens per min. Limit: 10000 / min. Please try again in 6ms. Contact us through our help center at help.openai.com if you continue to have issues.. Retrying Question No. 5 Attempt:(1)\n",
      "Rate limit error: Rate limit reached for 10KTPM-200RPM in organization org-Y2tKyCPFO6tIjtCtOVZ7c9tr on tokens per min. Limit: 10000 / min. Please try again in 6ms. Contact us through our help center at help.openai.com if you continue to have issues.. Retrying Question No. 7 Attempt:(1)\n",
      "Rate limit error: Rate limit reached for 10KTPM-200RPM in organization org-Y2tKyCPFO6tIjtCtOVZ7c9tr on tokens per min. Limit: 10000 / min. Please try again in 6ms. Contact us through our help center at help.openai.com if you continue to have issues.. Retrying Question No. 8 Attempt:(1)\n"
     ]
    },
    {
     "name": "stderr",
     "output_type": "stream",
     "text": [
      "  8%|▊         | 9/107 [57:00<15:13:36, 559.36s/it]"
     ]
    },
    {
     "name": "stdout",
     "output_type": "stream",
     "text": [
      "Rate limit error: Rate limit reached for 10KTPM-200RPM in organization org-Y2tKyCPFO6tIjtCtOVZ7c9tr on tokens per min. Limit: 10000 / min. Please try again in 6ms. Contact us through our help center at help.openai.com if you continue to have issues.. Retrying Question No. 0 Attempt:(1)\n",
      "Rate limit error: Rate limit reached for 10KTPM-200RPM in organization org-Y2tKyCPFO6tIjtCtOVZ7c9tr on tokens per min. Limit: 10000 / min. Please try again in 6ms. Contact us through our help center at help.openai.com if you continue to have issues.. Retrying Question No. 1 Attempt:(1)\n",
      "Rate limit error: Rate limit reached for 10KTPM-200RPM in organization org-Y2tKyCPFO6tIjtCtOVZ7c9tr on tokens per min. Limit: 10000 / min. Please try again in 6ms. Contact us through our help center at help.openai.com if you continue to have issues.. Retrying Question No. 2 Attempt:(1)\n",
      "Rate limit error: Rate limit reached for 10KTPM-200RPM in organization org-Y2tKyCPFO6tIjtCtOVZ7c9tr on tokens per min. Limit: 10000 / min. Please try again in 6ms. Contact us through our help center at help.openai.com if you continue to have issues.. Retrying Question No. 3 Attempt:(1)\n",
      "Rate limit error: Rate limit reached for 10KTPM-200RPM in organization org-Y2tKyCPFO6tIjtCtOVZ7c9tr on tokens per min. Limit: 10000 / min. Please try again in 6ms. Contact us through our help center at help.openai.com if you continue to have issues.. Retrying Question No. 4 Attempt:(1)\n",
      "Rate limit error: Rate limit reached for 10KTPM-200RPM in organization org-Y2tKyCPFO6tIjtCtOVZ7c9tr on tokens per min. Limit: 10000 / min. Please try again in 6ms. Contact us through our help center at help.openai.com if you continue to have issues.. Retrying Question No. 5 Attempt:(1)\n",
      "Rate limit error: Rate limit reached for 10KTPM-200RPM in organization org-Y2tKyCPFO6tIjtCtOVZ7c9tr on tokens per min. Limit: 10000 / min. Please try again in 6ms. Contact us through our help center at help.openai.com if you continue to have issues.. Retrying Question No. 6 Attempt:(1)\n",
      "Rate limit error: Rate limit reached for 10KTPM-200RPM in organization org-Y2tKyCPFO6tIjtCtOVZ7c9tr on tokens per min. Limit: 10000 / min. Please try again in 6ms. Contact us through our help center at help.openai.com if you continue to have issues.. Retrying Question No. 6 Attempt:(2)\n",
      "Rate limit error: Rate limit reached for 10KTPM-200RPM in organization org-Y2tKyCPFO6tIjtCtOVZ7c9tr on tokens per min. Limit: 10000 / min. Please try again in 6ms. Contact us through our help center at help.openai.com if you continue to have issues.. Retrying Question No. 7 Attempt:(1)\n",
      "Rate limit error: Rate limit reached for 10KTPM-200RPM in organization org-Y2tKyCPFO6tIjtCtOVZ7c9tr on tokens per min. Limit: 10000 / min. Please try again in 6ms. Contact us through our help center at help.openai.com if you continue to have issues.. Retrying Question No. 8 Attempt:(1)\n",
      "Rate limit error: Rate limit reached for 10KTPM-200RPM in organization org-Y2tKyCPFO6tIjtCtOVZ7c9tr on tokens per min. Limit: 10000 / min. Please try again in 6ms. Contact us through our help center at help.openai.com if you continue to have issues.. Retrying Question No. 1 Attempt:(1)\n",
      "Rate limit error: Rate limit reached for 10KTPM-200RPM in organization org-Y2tKyCPFO6tIjtCtOVZ7c9tr on tokens per min. Limit: 10000 / min. Please try again in 6ms. Contact us through our help center at help.openai.com if you continue to have issues.. Retrying Question No. 3 Attempt:(1)\n",
      "Rate limit error: Rate limit reached for 10KTPM-200RPM in organization org-Y2tKyCPFO6tIjtCtOVZ7c9tr on tokens per min. Limit: 10000 / min. Please try again in 6ms. Contact us through our help center at help.openai.com if you continue to have issues.. Retrying Question No. 5 Attempt:(1)\n",
      "Rate limit error: Rate limit reached for 10KTPM-200RPM in organization org-Y2tKyCPFO6tIjtCtOVZ7c9tr on tokens per min. Limit: 10000 / min. Please try again in 6ms. Contact us through our help center at help.openai.com if you continue to have issues.. Retrying Question No. 7 Attempt:(1)\n",
      "Rate limit error: Rate limit reached for 10KTPM-200RPM in organization org-Y2tKyCPFO6tIjtCtOVZ7c9tr on tokens per min. Limit: 10000 / min. Please try again in 6ms. Contact us through our help center at help.openai.com if you continue to have issues.. Retrying Question No. 8 Attempt:(1)\n"
     ]
    },
    {
     "name": "stderr",
     "output_type": "stream",
     "text": [
      "  9%|▉         | 10/107 [1:04:51<14:20:12, 532.09s/it]"
     ]
    },
    {
     "name": "stdout",
     "output_type": "stream",
     "text": [
      "Rate limit error: Rate limit reached for 10KTPM-200RPM in organization org-Y2tKyCPFO6tIjtCtOVZ7c9tr on tokens per min. Limit: 10000 / min. Please try again in 6ms. Contact us through our help center at help.openai.com if you continue to have issues.. Retrying Question No. 0 Attempt:(1)\n",
      "Rate limit error: Rate limit reached for 10KTPM-200RPM in organization org-Y2tKyCPFO6tIjtCtOVZ7c9tr on tokens per min. Limit: 10000 / min. Please try again in 6ms. Contact us through our help center at help.openai.com if you continue to have issues.. Retrying Question No. 1 Attempt:(1)\n",
      "Rate limit error: Rate limit reached for 10KTPM-200RPM in organization org-Y2tKyCPFO6tIjtCtOVZ7c9tr on tokens per min. Limit: 10000 / min. Please try again in 6ms. Contact us through our help center at help.openai.com if you continue to have issues.. Retrying Question No. 2 Attempt:(1)\n",
      "Rate limit error: Rate limit reached for 10KTPM-200RPM in organization org-Y2tKyCPFO6tIjtCtOVZ7c9tr on tokens per min. Limit: 10000 / min. Please try again in 6ms. Contact us through our help center at help.openai.com if you continue to have issues.. Retrying Question No. 3 Attempt:(1)\n",
      "Rate limit error: Rate limit reached for 10KTPM-200RPM in organization org-Y2tKyCPFO6tIjtCtOVZ7c9tr on tokens per min. Limit: 10000 / min. Please try again in 6ms. Contact us through our help center at help.openai.com if you continue to have issues.. Retrying Question No. 4 Attempt:(1)\n",
      "Rate limit error: Rate limit reached for 10KTPM-200RPM in organization org-Y2tKyCPFO6tIjtCtOVZ7c9tr on tokens per min. Limit: 10000 / min. Please try again in 6ms. Contact us through our help center at help.openai.com if you continue to have issues.. Retrying Question No. 5 Attempt:(1)\n",
      "Rate limit error: Rate limit reached for 10KTPM-200RPM in organization org-Y2tKyCPFO6tIjtCtOVZ7c9tr on tokens per min. Limit: 10000 / min. Please try again in 6ms. Contact us through our help center at help.openai.com if you continue to have issues.. Retrying Question No. 6 Attempt:(1)\n",
      "Rate limit error: Rate limit reached for 10KTPM-200RPM in organization org-Y2tKyCPFO6tIjtCtOVZ7c9tr on tokens per min. Limit: 10000 / min. Please try again in 6ms. Contact us through our help center at help.openai.com if you continue to have issues.. Retrying Question No. 6 Attempt:(2)\n",
      "Rate limit error: Rate limit reached for 10KTPM-200RPM in organization org-Y2tKyCPFO6tIjtCtOVZ7c9tr on tokens per min. Limit: 10000 / min. Please try again in 6ms. Contact us through our help center at help.openai.com if you continue to have issues.. Retrying Question No. 7 Attempt:(1)\n",
      "Rate limit error: Rate limit reached for 10KTPM-200RPM in organization org-Y2tKyCPFO6tIjtCtOVZ7c9tr on tokens per min. Limit: 10000 / min. Please try again in 6ms. Contact us through our help center at help.openai.com if you continue to have issues.. Retrying Question No. 8 Attempt:(1)\n",
      "Rate limit error: Rate limit reached for 10KTPM-200RPM in organization org-Y2tKyCPFO6tIjtCtOVZ7c9tr on tokens per min. Limit: 10000 / min. Please try again in 6ms. Contact us through our help center at help.openai.com if you continue to have issues.. Retrying Question No. 1 Attempt:(1)\n",
      "Rate limit error: Rate limit reached for 10KTPM-200RPM in organization org-Y2tKyCPFO6tIjtCtOVZ7c9tr on tokens per min. Limit: 10000 / min. Please try again in 6ms. Contact us through our help center at help.openai.com if you continue to have issues.. Retrying Question No. 5 Attempt:(1)\n",
      "Rate limit error: Rate limit reached for 10KTPM-200RPM in organization org-Y2tKyCPFO6tIjtCtOVZ7c9tr on tokens per min. Limit: 10000 / min. Please try again in 6ms. Contact us through our help center at help.openai.com if you continue to have issues.. Retrying Question No. 8 Attempt:(1)\n"
     ]
    },
    {
     "name": "stderr",
     "output_type": "stream",
     "text": [
      " 10%|█         | 11/107 [1:11:39<13:10:30, 494.06s/it]"
     ]
    },
    {
     "name": "stdout",
     "output_type": "stream",
     "text": [
      "Rate limit error: Rate limit reached for 10KTPM-200RPM in organization org-Y2tKyCPFO6tIjtCtOVZ7c9tr on tokens per min. Limit: 10000 / min. Please try again in 6ms. Contact us through our help center at help.openai.com if you continue to have issues.. Retrying Question No. 0 Attempt:(1)\n",
      "Rate limit error: Rate limit reached for 10KTPM-200RPM in organization org-Y2tKyCPFO6tIjtCtOVZ7c9tr on tokens per min. Limit: 10000 / min. Please try again in 6ms. Contact us through our help center at help.openai.com if you continue to have issues.. Retrying Question No. 2 Attempt:(1)\n",
      "Rate limit error: Rate limit reached for 10KTPM-200RPM in organization org-Y2tKyCPFO6tIjtCtOVZ7c9tr on tokens per min. Limit: 10000 / min. Please try again in 6ms. Contact us through our help center at help.openai.com if you continue to have issues.. Retrying Question No. 3 Attempt:(1)\n",
      "Rate limit error: Rate limit reached for 10KTPM-200RPM in organization org-Y2tKyCPFO6tIjtCtOVZ7c9tr on tokens per min. Limit: 10000 / min. Please try again in 6ms. Contact us through our help center at help.openai.com if you continue to have issues.. Retrying Question No. 4 Attempt:(1)\n",
      "Rate limit error: Rate limit reached for 10KTPM-200RPM in organization org-Y2tKyCPFO6tIjtCtOVZ7c9tr on tokens per min. Limit: 10000 / min. Please try again in 6ms. Contact us through our help center at help.openai.com if you continue to have issues.. Retrying Question No. 5 Attempt:(1)\n",
      "Rate limit error: Rate limit reached for 10KTPM-200RPM in organization org-Y2tKyCPFO6tIjtCtOVZ7c9tr on tokens per min. Limit: 10000 / min. Please try again in 6ms. Contact us through our help center at help.openai.com if you continue to have issues.. Retrying Question No. 6 Attempt:(1)\n",
      "Rate limit error: Rate limit reached for 10KTPM-200RPM in organization org-Y2tKyCPFO6tIjtCtOVZ7c9tr on tokens per min. Limit: 10000 / min. Please try again in 6ms. Contact us through our help center at help.openai.com if you continue to have issues.. Retrying Question No. 8 Attempt:(1)\n"
     ]
    },
    {
     "name": "stderr",
     "output_type": "stream",
     "text": [
      " 11%|█         | 12/107 [1:15:18<10:50:09, 410.63s/it]"
     ]
    },
    {
     "name": "stdout",
     "output_type": "stream",
     "text": [
      "Rate limit error: Rate limit reached for 10KTPM-200RPM in organization org-Y2tKyCPFO6tIjtCtOVZ7c9tr on tokens per min. Limit: 10000 / min. Please try again in 6ms. Contact us through our help center at help.openai.com if you continue to have issues.. Retrying Question No. 0 Attempt:(1)\n",
      "Rate limit error: Rate limit reached for 10KTPM-200RPM in organization org-Y2tKyCPFO6tIjtCtOVZ7c9tr on tokens per min. Limit: 10000 / min. Please try again in 6ms. Contact us through our help center at help.openai.com if you continue to have issues.. Retrying Question No. 1 Attempt:(1)\n",
      "Rate limit error: Rate limit reached for 10KTPM-200RPM in organization org-Y2tKyCPFO6tIjtCtOVZ7c9tr on tokens per min. Limit: 10000 / min. Please try again in 6ms. Contact us through our help center at help.openai.com if you continue to have issues.. Retrying Question No. 2 Attempt:(1)\n",
      "Rate limit error: Rate limit reached for 10KTPM-200RPM in organization org-Y2tKyCPFO6tIjtCtOVZ7c9tr on tokens per min. Limit: 10000 / min. Please try again in 6ms. Contact us through our help center at help.openai.com if you continue to have issues.. Retrying Question No. 3 Attempt:(1)\n",
      "Rate limit error: Rate limit reached for 10KTPM-200RPM in organization org-Y2tKyCPFO6tIjtCtOVZ7c9tr on tokens per min. Limit: 10000 / min. Please try again in 6ms. Contact us through our help center at help.openai.com if you continue to have issues.. Retrying Question No. 4 Attempt:(1)\n",
      "Rate limit error: Rate limit reached for 10KTPM-200RPM in organization org-Y2tKyCPFO6tIjtCtOVZ7c9tr on tokens per min. Limit: 10000 / min. Please try again in 6ms. Contact us through our help center at help.openai.com if you continue to have issues.. Retrying Question No. 5 Attempt:(1)\n",
      "Rate limit error: Rate limit reached for 10KTPM-200RPM in organization org-Y2tKyCPFO6tIjtCtOVZ7c9tr on tokens per min. Limit: 10000 / min. Please try again in 6ms. Contact us through our help center at help.openai.com if you continue to have issues.. Retrying Question No. 6 Attempt:(1)\n",
      "Rate limit error: Rate limit reached for 10KTPM-200RPM in organization org-Y2tKyCPFO6tIjtCtOVZ7c9tr on tokens per min. Limit: 10000 / min. Please try again in 6ms. Contact us through our help center at help.openai.com if you continue to have issues.. Retrying Question No. 7 Attempt:(1)\n",
      "Rate limit error: Rate limit reached for 10KTPM-200RPM in organization org-Y2tKyCPFO6tIjtCtOVZ7c9tr on tokens per min. Limit: 10000 / min. Please try again in 6ms. Contact us through our help center at help.openai.com if you continue to have issues.. Retrying Question No. 8 Attempt:(1)\n"
     ]
    },
    {
     "name": "stderr",
     "output_type": "stream",
     "text": [
      " 12%|█▏        | 13/107 [1:20:00<9:42:10, 371.61s/it] "
     ]
    },
    {
     "name": "stdout",
     "output_type": "stream",
     "text": [
      "Rate limit error: Rate limit reached for 10KTPM-200RPM in organization org-Y2tKyCPFO6tIjtCtOVZ7c9tr on tokens per min. Limit: 10000 / min. Please try again in 6ms. Contact us through our help center at help.openai.com if you continue to have issues.. Retrying Question No. 0 Attempt:(1)\n",
      "Rate limit error: Rate limit reached for 10KTPM-200RPM in organization org-Y2tKyCPFO6tIjtCtOVZ7c9tr on tokens per min. Limit: 10000 / min. Please try again in 6ms. Contact us through our help center at help.openai.com if you continue to have issues.. Retrying Question No. 1 Attempt:(1)\n",
      "Rate limit error: Rate limit reached for 10KTPM-200RPM in organization org-Y2tKyCPFO6tIjtCtOVZ7c9tr on tokens per min. Limit: 10000 / min. Please try again in 6ms. Contact us through our help center at help.openai.com if you continue to have issues.. Retrying Question No. 2 Attempt:(1)\n",
      "Rate limit error: Rate limit reached for 10KTPM-200RPM in organization org-Y2tKyCPFO6tIjtCtOVZ7c9tr on tokens per min. Limit: 10000 / min. Please try again in 6ms. Contact us through our help center at help.openai.com if you continue to have issues.. Retrying Question No. 3 Attempt:(1)\n",
      "Rate limit error: Rate limit reached for 10KTPM-200RPM in organization org-Y2tKyCPFO6tIjtCtOVZ7c9tr on tokens per min. Limit: 10000 / min. Please try again in 6ms. Contact us through our help center at help.openai.com if you continue to have issues.. Retrying Question No. 4 Attempt:(1)\n",
      "Rate limit error: Rate limit reached for 10KTPM-200RPM in organization org-Y2tKyCPFO6tIjtCtOVZ7c9tr on tokens per min. Limit: 10000 / min. Please try again in 6ms. Contact us through our help center at help.openai.com if you continue to have issues.. Retrying Question No. 4 Attempt:(2)\n",
      "Rate limit error: Rate limit reached for 10KTPM-200RPM in organization org-Y2tKyCPFO6tIjtCtOVZ7c9tr on tokens per min. Limit: 10000 / min. Please try again in 6ms. Contact us through our help center at help.openai.com if you continue to have issues.. Retrying Question No. 5 Attempt:(1)\n",
      "Rate limit error: Rate limit reached for 10KTPM-200RPM in organization org-Y2tKyCPFO6tIjtCtOVZ7c9tr on tokens per min. Limit: 10000 / min. Please try again in 6ms. Contact us through our help center at help.openai.com if you continue to have issues.. Retrying Question No. 6 Attempt:(1)\n",
      "Rate limit error: Rate limit reached for 10KTPM-200RPM in organization org-Y2tKyCPFO6tIjtCtOVZ7c9tr on tokens per min. Limit: 10000 / min. Please try again in 6ms. Contact us through our help center at help.openai.com if you continue to have issues.. Retrying Question No. 7 Attempt:(1)\n",
      "Rate limit error: Rate limit reached for 10KTPM-200RPM in organization org-Y2tKyCPFO6tIjtCtOVZ7c9tr on tokens per min. Limit: 10000 / min. Please try again in 6ms. Contact us through our help center at help.openai.com if you continue to have issues.. Retrying Question No. 8 Attempt:(1)\n"
     ]
    },
    {
     "name": "stderr",
     "output_type": "stream",
     "text": [
      " 13%|█▎        | 14/107 [1:25:15<9:09:11, 354.32s/it]"
     ]
    },
    {
     "name": "stdout",
     "output_type": "stream",
     "text": [
      "Rate limit error: Rate limit reached for 10KTPM-200RPM in organization org-Y2tKyCPFO6tIjtCtOVZ7c9tr on tokens per min. Limit: 10000 / min. Please try again in 6ms. Contact us through our help center at help.openai.com if you continue to have issues.. Retrying Question No. 0 Attempt:(1)\n",
      "Rate limit error: Rate limit reached for 10KTPM-200RPM in organization org-Y2tKyCPFO6tIjtCtOVZ7c9tr on tokens per min. Limit: 10000 / min. Please try again in 6ms. Contact us through our help center at help.openai.com if you continue to have issues.. Retrying Question No. 1 Attempt:(1)\n",
      "Rate limit error: Rate limit reached for 10KTPM-200RPM in organization org-Y2tKyCPFO6tIjtCtOVZ7c9tr on tokens per min. Limit: 10000 / min. Please try again in 6ms. Contact us through our help center at help.openai.com if you continue to have issues.. Retrying Question No. 2 Attempt:(1)\n",
      "Rate limit error: Rate limit reached for 10KTPM-200RPM in organization org-Y2tKyCPFO6tIjtCtOVZ7c9tr on tokens per min. Limit: 10000 / min. Please try again in 6ms. Contact us through our help center at help.openai.com if you continue to have issues.. Retrying Question No. 3 Attempt:(1)\n",
      "Rate limit error: Rate limit reached for 10KTPM-200RPM in organization org-Y2tKyCPFO6tIjtCtOVZ7c9tr on tokens per min. Limit: 10000 / min. Please try again in 6ms. Contact us through our help center at help.openai.com if you continue to have issues.. Retrying Question No. 4 Attempt:(1)\n",
      "Rate limit error: Rate limit reached for 10KTPM-200RPM in organization org-Y2tKyCPFO6tIjtCtOVZ7c9tr on tokens per min. Limit: 10000 / min. Please try again in 6ms. Contact us through our help center at help.openai.com if you continue to have issues.. Retrying Question No. 5 Attempt:(1)\n",
      "Rate limit error: Rate limit reached for 10KTPM-200RPM in organization org-Y2tKyCPFO6tIjtCtOVZ7c9tr on tokens per min. Limit: 10000 / min. Please try again in 6ms. Contact us through our help center at help.openai.com if you continue to have issues.. Retrying Question No. 6 Attempt:(1)\n",
      "Rate limit error: Rate limit reached for 10KTPM-200RPM in organization org-Y2tKyCPFO6tIjtCtOVZ7c9tr on tokens per min. Limit: 10000 / min. Please try again in 6ms. Contact us through our help center at help.openai.com if you continue to have issues.. Retrying Question No. 6 Attempt:(2)\n",
      "Rate limit error: Rate limit reached for 10KTPM-200RPM in organization org-Y2tKyCPFO6tIjtCtOVZ7c9tr on tokens per min. Limit: 10000 / min. Please try again in 6ms. Contact us through our help center at help.openai.com if you continue to have issues.. Retrying Question No. 7 Attempt:(1)\n",
      "Rate limit error: Rate limit reached for 10KTPM-200RPM in organization org-Y2tKyCPFO6tIjtCtOVZ7c9tr on tokens per min. Limit: 10000 / min. Please try again in 6ms. Contact us through our help center at help.openai.com if you continue to have issues.. Retrying Question No. 8 Attempt:(1)\n",
      "Rate limit error: Rate limit reached for 10KTPM-200RPM in organization org-Y2tKyCPFO6tIjtCtOVZ7c9tr on tokens per min. Limit: 10000 / min. Please try again in 6ms. Contact us through our help center at help.openai.com if you continue to have issues.. Retrying Question No. 0 Attempt:(1)\n",
      "Rate limit error: Rate limit reached for 10KTPM-200RPM in organization org-Y2tKyCPFO6tIjtCtOVZ7c9tr on tokens per min. Limit: 10000 / min. Please try again in 6ms. Contact us through our help center at help.openai.com if you continue to have issues.. Retrying Question No. 1 Attempt:(1)\n",
      "Rate limit error: Rate limit reached for 10KTPM-200RPM in organization org-Y2tKyCPFO6tIjtCtOVZ7c9tr on tokens per min. Limit: 10000 / min. Please try again in 6ms. Contact us through our help center at help.openai.com if you continue to have issues.. Retrying Question No. 2 Attempt:(1)\n",
      "Rate limit error: Rate limit reached for 10KTPM-200RPM in organization org-Y2tKyCPFO6tIjtCtOVZ7c9tr on tokens per min. Limit: 10000 / min. Please try again in 6ms. Contact us through our help center at help.openai.com if you continue to have issues.. Retrying Question No. 3 Attempt:(1)\n",
      "Rate limit error: Rate limit reached for 10KTPM-200RPM in organization org-Y2tKyCPFO6tIjtCtOVZ7c9tr on tokens per min. Limit: 10000 / min. Please try again in 6ms. Contact us through our help center at help.openai.com if you continue to have issues.. Retrying Question No. 4 Attempt:(1)\n",
      "Rate limit error: Rate limit reached for 10KTPM-200RPM in organization org-Y2tKyCPFO6tIjtCtOVZ7c9tr on tokens per min. Limit: 10000 / min. Please try again in 6ms. Contact us through our help center at help.openai.com if you continue to have issues.. Retrying Question No. 5 Attempt:(1)\n",
      "Rate limit error: Rate limit reached for 10KTPM-200RPM in organization org-Y2tKyCPFO6tIjtCtOVZ7c9tr on tokens per min. Limit: 10000 / min. Please try again in 6ms. Contact us through our help center at help.openai.com if you continue to have issues.. Retrying Question No. 6 Attempt:(1)\n",
      "Rate limit error: Rate limit reached for 10KTPM-200RPM in organization org-Y2tKyCPFO6tIjtCtOVZ7c9tr on tokens per min. Limit: 10000 / min. Please try again in 6ms. Contact us through our help center at help.openai.com if you continue to have issues.. Retrying Question No. 6 Attempt:(2)\n",
      "Rate limit error: Rate limit reached for 10KTPM-200RPM in organization org-Y2tKyCPFO6tIjtCtOVZ7c9tr on tokens per min. Limit: 10000 / min. Please try again in 6ms. Contact us through our help center at help.openai.com if you continue to have issues.. Retrying Question No. 7 Attempt:(1)\n",
      "Rate limit error: Rate limit reached for 10KTPM-200RPM in organization org-Y2tKyCPFO6tIjtCtOVZ7c9tr on tokens per min. Limit: 10000 / min. Please try again in 6ms. Contact us through our help center at help.openai.com if you continue to have issues.. Retrying Question No. 8 Attempt:(1)\n",
      "Rate limit error: Rate limit reached for 10KTPM-200RPM in organization org-Y2tKyCPFO6tIjtCtOVZ7c9tr on tokens per min. Limit: 10000 / min. Please try again in 6ms. Contact us through our help center at help.openai.com if you continue to have issues.. Retrying Question No. 5 Attempt:(1)\n"
     ]
    },
    {
     "name": "stderr",
     "output_type": "stream",
     "text": [
      " 14%|█▍        | 15/107 [1:36:20<11:27:01, 448.06s/it]"
     ]
    },
    {
     "name": "stdout",
     "output_type": "stream",
     "text": [
      "Rate limit error: Rate limit reached for 10KTPM-200RPM in organization org-Y2tKyCPFO6tIjtCtOVZ7c9tr on tokens per min. Limit: 10000 / min. Please try again in 6ms. Contact us through our help center at help.openai.com if you continue to have issues.. Retrying Question No. 4 Attempt:(1)\n"
     ]
    },
    {
     "name": "stderr",
     "output_type": "stream",
     "text": [
      " 15%|█▍        | 16/107 [1:36:57<8:11:59, 324.39s/it] "
     ]
    },
    {
     "name": "stdout",
     "output_type": "stream",
     "text": [
      "Rate limit error: Rate limit reached for 10KTPM-200RPM in organization org-Y2tKyCPFO6tIjtCtOVZ7c9tr on tokens per min. Limit: 10000 / min. Please try again in 6ms. Contact us through our help center at help.openai.com if you continue to have issues.. Retrying Question No. 0 Attempt:(1)\n",
      "Rate limit error: Rate limit reached for 10KTPM-200RPM in organization org-Y2tKyCPFO6tIjtCtOVZ7c9tr on tokens per min. Limit: 10000 / min. Please try again in 6ms. Contact us through our help center at help.openai.com if you continue to have issues.. Retrying Question No. 1 Attempt:(1)\n",
      "Rate limit error: Rate limit reached for 10KTPM-200RPM in organization org-Y2tKyCPFO6tIjtCtOVZ7c9tr on tokens per min. Limit: 10000 / min. Please try again in 6ms. Contact us through our help center at help.openai.com if you continue to have issues.. Retrying Question No. 1 Attempt:(2)\n",
      "Rate limit error: Rate limit reached for 10KTPM-200RPM in organization org-Y2tKyCPFO6tIjtCtOVZ7c9tr on tokens per min. Limit: 10000 / min. Please try again in 6ms. Contact us through our help center at help.openai.com if you continue to have issues.. Retrying Question No. 2 Attempt:(1)\n",
      "Rate limit error: Rate limit reached for 10KTPM-200RPM in organization org-Y2tKyCPFO6tIjtCtOVZ7c9tr on tokens per min. Limit: 10000 / min. Please try again in 6ms. Contact us through our help center at help.openai.com if you continue to have issues.. Retrying Question No. 3 Attempt:(1)\n",
      "Rate limit error: Rate limit reached for 10KTPM-200RPM in organization org-Y2tKyCPFO6tIjtCtOVZ7c9tr on tokens per min. Limit: 10000 / min. Please try again in 6ms. Contact us through our help center at help.openai.com if you continue to have issues.. Retrying Question No. 4 Attempt:(1)\n",
      "Rate limit error: Rate limit reached for 10KTPM-200RPM in organization org-Y2tKyCPFO6tIjtCtOVZ7c9tr on tokens per min. Limit: 10000 / min. Please try again in 6ms. Contact us through our help center at help.openai.com if you continue to have issues.. Retrying Question No. 5 Attempt:(1)\n",
      "Rate limit error: Rate limit reached for 10KTPM-200RPM in organization org-Y2tKyCPFO6tIjtCtOVZ7c9tr on tokens per min. Limit: 10000 / min. Please try again in 6ms. Contact us through our help center at help.openai.com if you continue to have issues.. Retrying Question No. 6 Attempt:(1)\n",
      "Rate limit error: Rate limit reached for 10KTPM-200RPM in organization org-Y2tKyCPFO6tIjtCtOVZ7c9tr on tokens per min. Limit: 10000 / min. Please try again in 6ms. Contact us through our help center at help.openai.com if you continue to have issues.. Retrying Question No. 7 Attempt:(1)\n",
      "Rate limit error: Rate limit reached for 10KTPM-200RPM in organization org-Y2tKyCPFO6tIjtCtOVZ7c9tr on tokens per min. Limit: 10000 / min. Please try again in 6ms. Contact us through our help center at help.openai.com if you continue to have issues.. Retrying Question No. 7 Attempt:(2)\n",
      "Rate limit error: Rate limit reached for 10KTPM-200RPM in organization org-Y2tKyCPFO6tIjtCtOVZ7c9tr on tokens per min. Limit: 10000 / min. Please try again in 6ms. Contact us through our help center at help.openai.com if you continue to have issues.. Retrying Question No. 8 Attempt:(1)\n",
      "Rate limit error: Rate limit reached for 10KTPM-200RPM in organization org-Y2tKyCPFO6tIjtCtOVZ7c9tr on tokens per min. Limit: 10000 / min. Please try again in 6ms. Contact us through our help center at help.openai.com if you continue to have issues.. Retrying Question No. 0 Attempt:(1)\n",
      "Rate limit error: Rate limit reached for 10KTPM-200RPM in organization org-Y2tKyCPFO6tIjtCtOVZ7c9tr on tokens per min. Limit: 10000 / min. Please try again in 6ms. Contact us through our help center at help.openai.com if you continue to have issues.. Retrying Question No. 1 Attempt:(1)\n",
      "Rate limit error: Rate limit reached for 10KTPM-200RPM in organization org-Y2tKyCPFO6tIjtCtOVZ7c9tr on tokens per min. Limit: 10000 / min. Please try again in 6ms. Contact us through our help center at help.openai.com if you continue to have issues.. Retrying Question No. 2 Attempt:(1)\n",
      "Rate limit error: Rate limit reached for 10KTPM-200RPM in organization org-Y2tKyCPFO6tIjtCtOVZ7c9tr on tokens per min. Limit: 10000 / min. Please try again in 6ms. Contact us through our help center at help.openai.com if you continue to have issues.. Retrying Question No. 3 Attempt:(1)\n",
      "Rate limit error: Rate limit reached for 10KTPM-200RPM in organization org-Y2tKyCPFO6tIjtCtOVZ7c9tr on tokens per min. Limit: 10000 / min. Please try again in 6ms. Contact us through our help center at help.openai.com if you continue to have issues.. Retrying Question No. 4 Attempt:(1)\n",
      "Rate limit error: Rate limit reached for 10KTPM-200RPM in organization org-Y2tKyCPFO6tIjtCtOVZ7c9tr on tokens per min. Limit: 10000 / min. Please try again in 6ms. Contact us through our help center at help.openai.com if you continue to have issues.. Retrying Question No. 5 Attempt:(1)\n",
      "Rate limit error: Rate limit reached for 10KTPM-200RPM in organization org-Y2tKyCPFO6tIjtCtOVZ7c9tr on tokens per min. Limit: 10000 / min. Please try again in 6ms. Contact us through our help center at help.openai.com if you continue to have issues.. Retrying Question No. 6 Attempt:(1)\n",
      "Rate limit error: Rate limit reached for 10KTPM-200RPM in organization org-Y2tKyCPFO6tIjtCtOVZ7c9tr on tokens per min. Limit: 10000 / min. Please try again in 6ms. Contact us through our help center at help.openai.com if you continue to have issues.. Retrying Question No. 7 Attempt:(1)\n",
      "Rate limit error: Rate limit reached for 10KTPM-200RPM in organization org-Y2tKyCPFO6tIjtCtOVZ7c9tr on tokens per min. Limit: 10000 / min. Please try again in 6ms. Contact us through our help center at help.openai.com if you continue to have issues.. Retrying Question No. 8 Attempt:(1)\n",
      "Rate limit error: Rate limit reached for 10KTPM-200RPM in organization org-Y2tKyCPFO6tIjtCtOVZ7c9tr on tokens per min. Limit: 10000 / min. Please try again in 6ms. Contact us through our help center at help.openai.com if you continue to have issues.. Retrying Question No. 0 Attempt:(1)\n",
      "Rate limit error: Rate limit reached for 10KTPM-200RPM in organization org-Y2tKyCPFO6tIjtCtOVZ7c9tr on tokens per min. Limit: 10000 / min. Please try again in 6ms. Contact us through our help center at help.openai.com if you continue to have issues.. Retrying Question No. 2 Attempt:(1)\n",
      "Rate limit error: Rate limit reached for 10KTPM-200RPM in organization org-Y2tKyCPFO6tIjtCtOVZ7c9tr on tokens per min. Limit: 10000 / min. Please try again in 6ms. Contact us through our help center at help.openai.com if you continue to have issues.. Retrying Question No. 3 Attempt:(1)\n",
      "Rate limit error: Rate limit reached for 10KTPM-200RPM in organization org-Y2tKyCPFO6tIjtCtOVZ7c9tr on tokens per min. Limit: 10000 / min. Please try again in 6ms. Contact us through our help center at help.openai.com if you continue to have issues.. Retrying Question No. 4 Attempt:(1)\n",
      "Rate limit error: Rate limit reached for 10KTPM-200RPM in organization org-Y2tKyCPFO6tIjtCtOVZ7c9tr on tokens per min. Limit: 10000 / min. Please try again in 6ms. Contact us through our help center at help.openai.com if you continue to have issues.. Retrying Question No. 5 Attempt:(1)\n",
      "Rate limit error: Rate limit reached for 10KTPM-200RPM in organization org-Y2tKyCPFO6tIjtCtOVZ7c9tr on tokens per min. Limit: 10000 / min. Please try again in 6ms. Contact us through our help center at help.openai.com if you continue to have issues.. Retrying Question No. 7 Attempt:(1)\n",
      "Rate limit error: Rate limit reached for 10KTPM-200RPM in organization org-Y2tKyCPFO6tIjtCtOVZ7c9tr on tokens per min. Limit: 10000 / min. Please try again in 6ms. Contact us through our help center at help.openai.com if you continue to have issues.. Retrying Question No. 8 Attempt:(1)\n"
     ]
    },
    {
     "name": "stderr",
     "output_type": "stream",
     "text": [
      " 16%|█▌        | 17/107 [1:51:07<12:03:42, 482.47s/it]"
     ]
    },
    {
     "name": "stdout",
     "output_type": "stream",
     "text": [
      "Rate limit error: Rate limit reached for 10KTPM-200RPM in organization org-Y2tKyCPFO6tIjtCtOVZ7c9tr on tokens per min. Limit: 10000 / min. Please try again in 6ms. Contact us through our help center at help.openai.com if you continue to have issues.. Retrying Question No. 0 Attempt:(1)\n",
      "Rate limit error: Rate limit reached for 10KTPM-200RPM in organization org-Y2tKyCPFO6tIjtCtOVZ7c9tr on tokens per min. Limit: 10000 / min. Please try again in 6ms. Contact us through our help center at help.openai.com if you continue to have issues.. Retrying Question No. 1 Attempt:(1)\n",
      "Rate limit error: Rate limit reached for 10KTPM-200RPM in organization org-Y2tKyCPFO6tIjtCtOVZ7c9tr on tokens per min. Limit: 10000 / min. Please try again in 6ms. Contact us through our help center at help.openai.com if you continue to have issues.. Retrying Question No. 2 Attempt:(1)\n",
      "Rate limit error: Rate limit reached for 10KTPM-200RPM in organization org-Y2tKyCPFO6tIjtCtOVZ7c9tr on tokens per min. Limit: 10000 / min. Please try again in 6ms. Contact us through our help center at help.openai.com if you continue to have issues.. Retrying Question No. 3 Attempt:(1)\n",
      "Rate limit error: Rate limit reached for 10KTPM-200RPM in organization org-Y2tKyCPFO6tIjtCtOVZ7c9tr on tokens per min. Limit: 10000 / min. Please try again in 6ms. Contact us through our help center at help.openai.com if you continue to have issues.. Retrying Question No. 3 Attempt:(2)\n",
      "Rate limit error: Rate limit reached for 10KTPM-200RPM in organization org-Y2tKyCPFO6tIjtCtOVZ7c9tr on tokens per min. Limit: 10000 / min. Please try again in 6ms. Contact us through our help center at help.openai.com if you continue to have issues.. Retrying Question No. 4 Attempt:(1)\n",
      "Rate limit error: Rate limit reached for 10KTPM-200RPM in organization org-Y2tKyCPFO6tIjtCtOVZ7c9tr on tokens per min. Limit: 10000 / min. Please try again in 6ms. Contact us through our help center at help.openai.com if you continue to have issues.. Retrying Question No. 5 Attempt:(1)\n",
      "Rate limit error: Rate limit reached for 10KTPM-200RPM in organization org-Y2tKyCPFO6tIjtCtOVZ7c9tr on tokens per min. Limit: 10000 / min. Please try again in 6ms. Contact us through our help center at help.openai.com if you continue to have issues.. Retrying Question No. 6 Attempt:(1)\n",
      "Rate limit error: Rate limit reached for 10KTPM-200RPM in organization org-Y2tKyCPFO6tIjtCtOVZ7c9tr on tokens per min. Limit: 10000 / min. Please try again in 6ms. Contact us through our help center at help.openai.com if you continue to have issues.. Retrying Question No. 7 Attempt:(1)\n",
      "Rate limit error: Rate limit reached for 10KTPM-200RPM in organization org-Y2tKyCPFO6tIjtCtOVZ7c9tr on tokens per min. Limit: 10000 / min. Please try again in 6ms. Contact us through our help center at help.openai.com if you continue to have issues.. Retrying Question No. 8 Attempt:(1)\n",
      "Rate limit error: Rate limit reached for 10KTPM-200RPM in organization org-Y2tKyCPFO6tIjtCtOVZ7c9tr on tokens per min. Limit: 10000 / min. Please try again in 6ms. Contact us through our help center at help.openai.com if you continue to have issues.. Retrying Question No. 8 Attempt:(2)\n",
      "Rate limit error: Rate limit reached for 10KTPM-200RPM in organization org-Y2tKyCPFO6tIjtCtOVZ7c9tr on tokens per min. Limit: 10000 / min. Please try again in 6ms. Contact us through our help center at help.openai.com if you continue to have issues.. Retrying Question No. 0 Attempt:(1)\n",
      "Rate limit error: Rate limit reached for 10KTPM-200RPM in organization org-Y2tKyCPFO6tIjtCtOVZ7c9tr on tokens per min. Limit: 10000 / min. Please try again in 6ms. Contact us through our help center at help.openai.com if you continue to have issues.. Retrying Question No. 1 Attempt:(1)\n",
      "Rate limit error: Rate limit reached for 10KTPM-200RPM in organization org-Y2tKyCPFO6tIjtCtOVZ7c9tr on tokens per min. Limit: 10000 / min. Please try again in 6ms. Contact us through our help center at help.openai.com if you continue to have issues.. Retrying Question No. 2 Attempt:(1)\n",
      "Rate limit error: Rate limit reached for 10KTPM-200RPM in organization org-Y2tKyCPFO6tIjtCtOVZ7c9tr on tokens per min. Limit: 10000 / min. Please try again in 6ms. Contact us through our help center at help.openai.com if you continue to have issues.. Retrying Question No. 3 Attempt:(1)\n",
      "Rate limit error: Rate limit reached for 10KTPM-200RPM in organization org-Y2tKyCPFO6tIjtCtOVZ7c9tr on tokens per min. Limit: 10000 / min. Please try again in 6ms. Contact us through our help center at help.openai.com if you continue to have issues.. Retrying Question No. 4 Attempt:(1)\n",
      "Rate limit error: Rate limit reached for 10KTPM-200RPM in organization org-Y2tKyCPFO6tIjtCtOVZ7c9tr on tokens per min. Limit: 10000 / min. Please try again in 6ms. Contact us through our help center at help.openai.com if you continue to have issues.. Retrying Question No. 5 Attempt:(1)\n",
      "Rate limit error: Rate limit reached for 10KTPM-200RPM in organization org-Y2tKyCPFO6tIjtCtOVZ7c9tr on tokens per min. Limit: 10000 / min. Please try again in 6ms. Contact us through our help center at help.openai.com if you continue to have issues.. Retrying Question No. 6 Attempt:(1)\n",
      "Rate limit error: Rate limit reached for 10KTPM-200RPM in organization org-Y2tKyCPFO6tIjtCtOVZ7c9tr on tokens per min. Limit: 10000 / min. Please try again in 6ms. Contact us through our help center at help.openai.com if you continue to have issues.. Retrying Question No. 7 Attempt:(1)\n",
      "Rate limit error: Rate limit reached for 10KTPM-200RPM in organization org-Y2tKyCPFO6tIjtCtOVZ7c9tr on tokens per min. Limit: 10000 / min. Please try again in 6ms. Contact us through our help center at help.openai.com if you continue to have issues.. Retrying Question No. 8 Attempt:(1)\n",
      "Rate limit error: Rate limit reached for 10KTPM-200RPM in organization org-Y2tKyCPFO6tIjtCtOVZ7c9tr on tokens per min. Limit: 10000 / min. Please try again in 6ms. Contact us through our help center at help.openai.com if you continue to have issues.. Retrying Question No. 0 Attempt:(1)\n",
      "Rate limit error: Rate limit reached for 10KTPM-200RPM in organization org-Y2tKyCPFO6tIjtCtOVZ7c9tr on tokens per min. Limit: 10000 / min. Please try again in 6ms. Contact us through our help center at help.openai.com if you continue to have issues.. Retrying Question No. 1 Attempt:(1)\n",
      "Rate limit error: Rate limit reached for 10KTPM-200RPM in organization org-Y2tKyCPFO6tIjtCtOVZ7c9tr on tokens per min. Limit: 10000 / min. Please try again in 6ms. Contact us through our help center at help.openai.com if you continue to have issues.. Retrying Question No. 2 Attempt:(1)\n",
      "Rate limit error: Rate limit reached for 10KTPM-200RPM in organization org-Y2tKyCPFO6tIjtCtOVZ7c9tr on tokens per min. Limit: 10000 / min. Please try again in 6ms. Contact us through our help center at help.openai.com if you continue to have issues.. Retrying Question No. 2 Attempt:(2)\n",
      "Rate limit error: Rate limit reached for 10KTPM-200RPM in organization org-Y2tKyCPFO6tIjtCtOVZ7c9tr on tokens per min. Limit: 10000 / min. Please try again in 6ms. Contact us through our help center at help.openai.com if you continue to have issues.. Retrying Question No. 3 Attempt:(1)\n",
      "Rate limit error: Rate limit reached for 10KTPM-200RPM in organization org-Y2tKyCPFO6tIjtCtOVZ7c9tr on tokens per min. Limit: 10000 / min. Please try again in 6ms. Contact us through our help center at help.openai.com if you continue to have issues.. Retrying Question No. 4 Attempt:(1)\n",
      "Rate limit error: Rate limit reached for 10KTPM-200RPM in organization org-Y2tKyCPFO6tIjtCtOVZ7c9tr on tokens per min. Limit: 10000 / min. Please try again in 6ms. Contact us through our help center at help.openai.com if you continue to have issues.. Retrying Question No. 5 Attempt:(1)\n",
      "Rate limit error: Rate limit reached for 10KTPM-200RPM in organization org-Y2tKyCPFO6tIjtCtOVZ7c9tr on tokens per min. Limit: 10000 / min. Please try again in 6ms. Contact us through our help center at help.openai.com if you continue to have issues.. Retrying Question No. 6 Attempt:(1)\n",
      "Rate limit error: Rate limit reached for 10KTPM-200RPM in organization org-Y2tKyCPFO6tIjtCtOVZ7c9tr on tokens per min. Limit: 10000 / min. Please try again in 6ms. Contact us through our help center at help.openai.com if you continue to have issues.. Retrying Question No. 7 Attempt:(1)\n",
      "Rate limit error: Rate limit reached for 10KTPM-200RPM in organization org-Y2tKyCPFO6tIjtCtOVZ7c9tr on tokens per min. Limit: 10000 / min. Please try again in 6ms. Contact us through our help center at help.openai.com if you continue to have issues.. Retrying Question No. 8 Attempt:(1)\n",
      "Rate limit error: Rate limit reached for 10KTPM-200RPM in organization org-Y2tKyCPFO6tIjtCtOVZ7c9tr on tokens per min. Limit: 10000 / min. Please try again in 6ms. Contact us through our help center at help.openai.com if you continue to have issues.. Retrying Question No. 0 Attempt:(1)\n",
      "Rate limit error: Rate limit reached for 10KTPM-200RPM in organization org-Y2tKyCPFO6tIjtCtOVZ7c9tr on tokens per min. Limit: 10000 / min. Please try again in 6ms. Contact us through our help center at help.openai.com if you continue to have issues.. Retrying Question No. 1 Attempt:(1)\n",
      "Rate limit error: Rate limit reached for 10KTPM-200RPM in organization org-Y2tKyCPFO6tIjtCtOVZ7c9tr on tokens per min. Limit: 10000 / min. Please try again in 6ms. Contact us through our help center at help.openai.com if you continue to have issues.. Retrying Question No. 3 Attempt:(1)\n",
      "Rate limit error: Rate limit reached for 10KTPM-200RPM in organization org-Y2tKyCPFO6tIjtCtOVZ7c9tr on tokens per min. Limit: 10000 / min. Please try again in 6ms. Contact us through our help center at help.openai.com if you continue to have issues.. Retrying Question No. 4 Attempt:(1)\n",
      "Rate limit error: Rate limit reached for 10KTPM-200RPM in organization org-Y2tKyCPFO6tIjtCtOVZ7c9tr on tokens per min. Limit: 10000 / min. Please try again in 6ms. Contact us through our help center at help.openai.com if you continue to have issues.. Retrying Question No. 5 Attempt:(1)\n",
      "Rate limit error: Rate limit reached for 10KTPM-200RPM in organization org-Y2tKyCPFO6tIjtCtOVZ7c9tr on tokens per min. Limit: 10000 / min. Please try again in 6ms. Contact us through our help center at help.openai.com if you continue to have issues.. Retrying Question No. 7 Attempt:(1)\n",
      "Rate limit error: Rate limit reached for 10KTPM-200RPM in organization org-Y2tKyCPFO6tIjtCtOVZ7c9tr on tokens per min. Limit: 10000 / min. Please try again in 6ms. Contact us through our help center at help.openai.com if you continue to have issues.. Retrying Question No. 8 Attempt:(1)\n"
     ]
    },
    {
     "name": "stderr",
     "output_type": "stream",
     "text": [
      " 17%|█▋        | 18/107 [2:10:24<16:56:23, 685.21s/it]"
     ]
    },
    {
     "name": "stdout",
     "output_type": "stream",
     "text": [
      "Rate limit error: Rate limit reached for 10KTPM-200RPM in organization org-Y2tKyCPFO6tIjtCtOVZ7c9tr on tokens per min. Limit: 10000 / min. Please try again in 6ms. Contact us through our help center at help.openai.com if you continue to have issues.. Retrying Question No. 0 Attempt:(1)\n",
      "Rate limit error: Rate limit reached for 10KTPM-200RPM in organization org-Y2tKyCPFO6tIjtCtOVZ7c9tr on tokens per min. Limit: 10000 / min. Please try again in 6ms. Contact us through our help center at help.openai.com if you continue to have issues.. Retrying Question No. 2 Attempt:(1)\n",
      "Rate limit error: Rate limit reached for 10KTPM-200RPM in organization org-Y2tKyCPFO6tIjtCtOVZ7c9tr on tokens per min. Limit: 10000 / min. Please try again in 6ms. Contact us through our help center at help.openai.com if you continue to have issues.. Retrying Question No. 3 Attempt:(1)\n",
      "Rate limit error: Rate limit reached for 10KTPM-200RPM in organization org-Y2tKyCPFO6tIjtCtOVZ7c9tr on tokens per min. Limit: 10000 / min. Please try again in 6ms. Contact us through our help center at help.openai.com if you continue to have issues.. Retrying Question No. 5 Attempt:(1)\n",
      "Rate limit error: Rate limit reached for 10KTPM-200RPM in organization org-Y2tKyCPFO6tIjtCtOVZ7c9tr on tokens per min. Limit: 10000 / min. Please try again in 6ms. Contact us through our help center at help.openai.com if you continue to have issues.. Retrying Question No. 6 Attempt:(1)\n",
      "Rate limit error: Rate limit reached for 10KTPM-200RPM in organization org-Y2tKyCPFO6tIjtCtOVZ7c9tr on tokens per min. Limit: 10000 / min. Please try again in 6ms. Contact us through our help center at help.openai.com if you continue to have issues.. Retrying Question No. 8 Attempt:(1)\n"
     ]
    },
    {
     "name": "stderr",
     "output_type": "stream",
     "text": [
      " 18%|█▊        | 19/107 [2:13:35<13:06:58, 536.57s/it]"
     ]
    },
    {
     "name": "stdout",
     "output_type": "stream",
     "text": [
      "Rate limit error: Rate limit reached for 10KTPM-200RPM in organization org-Y2tKyCPFO6tIjtCtOVZ7c9tr on tokens per min. Limit: 10000 / min. Please try again in 6ms. Contact us through our help center at help.openai.com if you continue to have issues.. Retrying Question No. 0 Attempt:(1)\n",
      "Rate limit error: Rate limit reached for 10KTPM-200RPM in organization org-Y2tKyCPFO6tIjtCtOVZ7c9tr on tokens per min. Limit: 10000 / min. Please try again in 6ms. Contact us through our help center at help.openai.com if you continue to have issues.. Retrying Question No. 1 Attempt:(1)\n",
      "Rate limit error: Rate limit reached for 10KTPM-200RPM in organization org-Y2tKyCPFO6tIjtCtOVZ7c9tr on tokens per min. Limit: 10000 / min. Please try again in 6ms. Contact us through our help center at help.openai.com if you continue to have issues.. Retrying Question No. 3 Attempt:(1)\n",
      "Rate limit error: Rate limit reached for 10KTPM-200RPM in organization org-Y2tKyCPFO6tIjtCtOVZ7c9tr on tokens per min. Limit: 10000 / min. Please try again in 6ms. Contact us through our help center at help.openai.com if you continue to have issues.. Retrying Question No. 4 Attempt:(1)\n",
      "Rate limit error: Rate limit reached for 10KTPM-200RPM in organization org-Y2tKyCPFO6tIjtCtOVZ7c9tr on tokens per min. Limit: 10000 / min. Please try again in 6ms. Contact us through our help center at help.openai.com if you continue to have issues.. Retrying Question No. 5 Attempt:(1)\n",
      "Rate limit error: Rate limit reached for 10KTPM-200RPM in organization org-Y2tKyCPFO6tIjtCtOVZ7c9tr on tokens per min. Limit: 10000 / min. Please try again in 6ms. Contact us through our help center at help.openai.com if you continue to have issues.. Retrying Question No. 7 Attempt:(1)\n",
      "Rate limit error: Rate limit reached for 10KTPM-200RPM in organization org-Y2tKyCPFO6tIjtCtOVZ7c9tr on tokens per min. Limit: 10000 / min. Please try again in 6ms. Contact us through our help center at help.openai.com if you continue to have issues.. Retrying Question No. 8 Attempt:(1)\n"
     ]
    },
    {
     "name": "stderr",
     "output_type": "stream",
     "text": [
      " 19%|█▊        | 20/107 [2:17:13<10:39:41, 441.17s/it]"
     ]
    },
    {
     "name": "stdout",
     "output_type": "stream",
     "text": [
      "Rate limit error: Rate limit reached for 10KTPM-200RPM in organization org-Y2tKyCPFO6tIjtCtOVZ7c9tr on tokens per min. Limit: 10000 / min. Please try again in 6ms. Contact us through our help center at help.openai.com if you continue to have issues.. Retrying Question No. 0 Attempt:(1)\n",
      "Rate limit error: Rate limit reached for 10KTPM-200RPM in organization org-Y2tKyCPFO6tIjtCtOVZ7c9tr on tokens per min. Limit: 10000 / min. Please try again in 6ms. Contact us through our help center at help.openai.com if you continue to have issues.. Retrying Question No. 1 Attempt:(1)\n",
      "Rate limit error: Rate limit reached for 10KTPM-200RPM in organization org-Y2tKyCPFO6tIjtCtOVZ7c9tr on tokens per min. Limit: 10000 / min. Please try again in 6ms. Contact us through our help center at help.openai.com if you continue to have issues.. Retrying Question No. 2 Attempt:(1)\n",
      "Rate limit error: Rate limit reached for 10KTPM-200RPM in organization org-Y2tKyCPFO6tIjtCtOVZ7c9tr on tokens per min. Limit: 10000 / min. Please try again in 6ms. Contact us through our help center at help.openai.com if you continue to have issues.. Retrying Question No. 4 Attempt:(1)\n",
      "Rate limit error: Rate limit reached for 10KTPM-200RPM in organization org-Y2tKyCPFO6tIjtCtOVZ7c9tr on tokens per min. Limit: 10000 / min. Please try again in 6ms. Contact us through our help center at help.openai.com if you continue to have issues.. Retrying Question No. 5 Attempt:(1)\n",
      "Rate limit error: Rate limit reached for 10KTPM-200RPM in organization org-Y2tKyCPFO6tIjtCtOVZ7c9tr on tokens per min. Limit: 10000 / min. Please try again in 6ms. Contact us through our help center at help.openai.com if you continue to have issues.. Retrying Question No. 6 Attempt:(1)\n",
      "Rate limit error: Rate limit reached for 10KTPM-200RPM in organization org-Y2tKyCPFO6tIjtCtOVZ7c9tr on tokens per min. Limit: 10000 / min. Please try again in 6ms. Contact us through our help center at help.openai.com if you continue to have issues.. Retrying Question No. 7 Attempt:(1)\n",
      "Rate limit error: Rate limit reached for 10KTPM-200RPM in organization org-Y2tKyCPFO6tIjtCtOVZ7c9tr on tokens per min. Limit: 10000 / min. Please try again in 6ms. Contact us through our help center at help.openai.com if you continue to have issues.. Retrying Question No. 8 Attempt:(1)\n"
     ]
    },
    {
     "name": "stderr",
     "output_type": "stream",
     "text": [
      " 20%|█▉        | 21/107 [2:21:25<9:10:32, 384.10s/it] "
     ]
    },
    {
     "name": "stdout",
     "output_type": "stream",
     "text": [
      "Rate limit error: Rate limit reached for 10KTPM-200RPM in organization org-Y2tKyCPFO6tIjtCtOVZ7c9tr on tokens per min. Limit: 10000 / min. Please try again in 6ms. Contact us through our help center at help.openai.com if you continue to have issues.. Retrying Question No. 0 Attempt:(1)\n",
      "Rate limit error: Rate limit reached for 10KTPM-200RPM in organization org-Y2tKyCPFO6tIjtCtOVZ7c9tr on tokens per min. Limit: 10000 / min. Please try again in 6ms. Contact us through our help center at help.openai.com if you continue to have issues.. Retrying Question No. 2 Attempt:(1)\n",
      "Rate limit error: Rate limit reached for 10KTPM-200RPM in organization org-Y2tKyCPFO6tIjtCtOVZ7c9tr on tokens per min. Limit: 10000 / min. Please try again in 6ms. Contact us through our help center at help.openai.com if you continue to have issues.. Retrying Question No. 3 Attempt:(1)\n",
      "Rate limit error: Rate limit reached for 10KTPM-200RPM in organization org-Y2tKyCPFO6tIjtCtOVZ7c9tr on tokens per min. Limit: 10000 / min. Please try again in 6ms. Contact us through our help center at help.openai.com if you continue to have issues.. Retrying Question No. 4 Attempt:(1)\n",
      "Rate limit error: Rate limit reached for 10KTPM-200RPM in organization org-Y2tKyCPFO6tIjtCtOVZ7c9tr on tokens per min. Limit: 10000 / min. Please try again in 6ms. Contact us through our help center at help.openai.com if you continue to have issues.. Retrying Question No. 6 Attempt:(1)\n",
      "Rate limit error: Rate limit reached for 10KTPM-200RPM in organization org-Y2tKyCPFO6tIjtCtOVZ7c9tr on tokens per min. Limit: 10000 / min. Please try again in 6ms. Contact us through our help center at help.openai.com if you continue to have issues.. Retrying Question No. 7 Attempt:(1)\n",
      "Rate limit error: Rate limit reached for 10KTPM-200RPM in organization org-Y2tKyCPFO6tIjtCtOVZ7c9tr on tokens per min. Limit: 10000 / min. Please try again in 6ms. Contact us through our help center at help.openai.com if you continue to have issues.. Retrying Question No. 8 Attempt:(1)\n"
     ]
    },
    {
     "name": "stderr",
     "output_type": "stream",
     "text": [
      " 21%|██        | 22/107 [2:25:05<7:54:27, 334.92s/it]"
     ]
    },
    {
     "name": "stdout",
     "output_type": "stream",
     "text": [
      "Rate limit error: Rate limit reached for 10KTPM-200RPM in organization org-Y2tKyCPFO6tIjtCtOVZ7c9tr on tokens per min. Limit: 10000 / min. Please try again in 6ms. Contact us through our help center at help.openai.com if you continue to have issues.. Retrying Question No. 3 Attempt:(1)\n",
      "Rate limit error: Rate limit reached for 10KTPM-200RPM in organization org-Y2tKyCPFO6tIjtCtOVZ7c9tr on tokens per min. Limit: 10000 / min. Please try again in 6ms. Contact us through our help center at help.openai.com if you continue to have issues.. Retrying Question No. 6 Attempt:(1)\n"
     ]
    },
    {
     "name": "stderr",
     "output_type": "stream",
     "text": [
      " 21%|██▏       | 23/107 [2:26:11<5:55:52, 254.20s/it]"
     ]
    },
    {
     "name": "stdout",
     "output_type": "stream",
     "text": [
      "Rate limit error: Rate limit reached for 10KTPM-200RPM in organization org-Y2tKyCPFO6tIjtCtOVZ7c9tr on tokens per min. Limit: 10000 / min. Please try again in 6ms. Contact us through our help center at help.openai.com if you continue to have issues.. Retrying Question No. 0 Attempt:(1)\n",
      "Rate limit error: Rate limit reached for 10KTPM-200RPM in organization org-Y2tKyCPFO6tIjtCtOVZ7c9tr on tokens per min. Limit: 10000 / min. Please try again in 6ms. Contact us through our help center at help.openai.com if you continue to have issues.. Retrying Question No. 1 Attempt:(1)\n",
      "Rate limit error: Rate limit reached for 10KTPM-200RPM in organization org-Y2tKyCPFO6tIjtCtOVZ7c9tr on tokens per min. Limit: 10000 / min. Please try again in 6ms. Contact us through our help center at help.openai.com if you continue to have issues.. Retrying Question No. 2 Attempt:(1)\n",
      "Rate limit error: Rate limit reached for 10KTPM-200RPM in organization org-Y2tKyCPFO6tIjtCtOVZ7c9tr on tokens per min. Limit: 10000 / min. Please try again in 6ms. Contact us through our help center at help.openai.com if you continue to have issues.. Retrying Question No. 3 Attempt:(1)\n",
      "Rate limit error: Rate limit reached for 10KTPM-200RPM in organization org-Y2tKyCPFO6tIjtCtOVZ7c9tr on tokens per min. Limit: 10000 / min. Please try again in 6ms. Contact us through our help center at help.openai.com if you continue to have issues.. Retrying Question No. 4 Attempt:(1)\n",
      "Rate limit error: Rate limit reached for 10KTPM-200RPM in organization org-Y2tKyCPFO6tIjtCtOVZ7c9tr on tokens per min. Limit: 10000 / min. Please try again in 6ms. Contact us through our help center at help.openai.com if you continue to have issues.. Retrying Question No. 5 Attempt:(1)\n",
      "Rate limit error: Rate limit reached for 10KTPM-200RPM in organization org-Y2tKyCPFO6tIjtCtOVZ7c9tr on tokens per min. Limit: 10000 / min. Please try again in 6ms. Contact us through our help center at help.openai.com if you continue to have issues.. Retrying Question No. 5 Attempt:(2)\n",
      "Rate limit error: Rate limit reached for 10KTPM-200RPM in organization org-Y2tKyCPFO6tIjtCtOVZ7c9tr on tokens per min. Limit: 10000 / min. Please try again in 6ms. Contact us through our help center at help.openai.com if you continue to have issues.. Retrying Question No. 6 Attempt:(1)\n",
      "Rate limit error: Rate limit reached for 10KTPM-200RPM in organization org-Y2tKyCPFO6tIjtCtOVZ7c9tr on tokens per min. Limit: 10000 / min. Please try again in 6ms. Contact us through our help center at help.openai.com if you continue to have issues.. Retrying Question No. 7 Attempt:(1)\n",
      "Rate limit error: Rate limit reached for 10KTPM-200RPM in organization org-Y2tKyCPFO6tIjtCtOVZ7c9tr on tokens per min. Limit: 10000 / min. Please try again in 6ms. Contact us through our help center at help.openai.com if you continue to have issues.. Retrying Question No. 8 Attempt:(1)\n",
      "Rate limit error: Rate limit reached for 10KTPM-200RPM in organization org-Y2tKyCPFO6tIjtCtOVZ7c9tr on tokens per min. Limit: 10000 / min. Please try again in 6ms. Contact us through our help center at help.openai.com if you continue to have issues.. Retrying Question No. 1 Attempt:(1)\n",
      "Rate limit error: Rate limit reached for 10KTPM-200RPM in organization org-Y2tKyCPFO6tIjtCtOVZ7c9tr on tokens per min. Limit: 10000 / min. Please try again in 6ms. Contact us through our help center at help.openai.com if you continue to have issues.. Retrying Question No. 2 Attempt:(1)\n",
      "Rate limit error: Rate limit reached for 10KTPM-200RPM in organization org-Y2tKyCPFO6tIjtCtOVZ7c9tr on tokens per min. Limit: 10000 / min. Please try again in 6ms. Contact us through our help center at help.openai.com if you continue to have issues.. Retrying Question No. 4 Attempt:(1)\n",
      "Rate limit error: Rate limit reached for 10KTPM-200RPM in organization org-Y2tKyCPFO6tIjtCtOVZ7c9tr on tokens per min. Limit: 10000 / min. Please try again in 6ms. Contact us through our help center at help.openai.com if you continue to have issues.. Retrying Question No. 6 Attempt:(1)\n",
      "Rate limit error: Rate limit reached for 10KTPM-200RPM in organization org-Y2tKyCPFO6tIjtCtOVZ7c9tr on tokens per min. Limit: 10000 / min. Please try again in 6ms. Contact us through our help center at help.openai.com if you continue to have issues.. Retrying Question No. 7 Attempt:(1)\n"
     ]
    },
    {
     "name": "stderr",
     "output_type": "stream",
     "text": [
      " 22%|██▏       | 24/107 [2:34:02<7:21:47, 319.36s/it]"
     ]
    },
    {
     "name": "stdout",
     "output_type": "stream",
     "text": [
      "Rate limit error: Rate limit reached for 10KTPM-200RPM in organization org-Y2tKyCPFO6tIjtCtOVZ7c9tr on tokens per min. Limit: 10000 / min. Please try again in 6ms. Contact us through our help center at help.openai.com if you continue to have issues.. Retrying Question No. 0 Attempt:(1)\n",
      "Rate limit error: Rate limit reached for 10KTPM-200RPM in organization org-Y2tKyCPFO6tIjtCtOVZ7c9tr on tokens per min. Limit: 10000 / min. Please try again in 6ms. Contact us through our help center at help.openai.com if you continue to have issues.. Retrying Question No. 1 Attempt:(1)\n",
      "Rate limit error: Rate limit reached for 10KTPM-200RPM in organization org-Y2tKyCPFO6tIjtCtOVZ7c9tr on tokens per min. Limit: 10000 / min. Please try again in 6ms. Contact us through our help center at help.openai.com if you continue to have issues.. Retrying Question No. 1 Attempt:(2)\n",
      "Rate limit error: Rate limit reached for 10KTPM-200RPM in organization org-Y2tKyCPFO6tIjtCtOVZ7c9tr on tokens per min. Limit: 10000 / min. Please try again in 6ms. Contact us through our help center at help.openai.com if you continue to have issues.. Retrying Question No. 2 Attempt:(1)\n",
      "Rate limit error: Rate limit reached for 10KTPM-200RPM in organization org-Y2tKyCPFO6tIjtCtOVZ7c9tr on tokens per min. Limit: 10000 / min. Please try again in 6ms. Contact us through our help center at help.openai.com if you continue to have issues.. Retrying Question No. 3 Attempt:(1)\n",
      "Rate limit error: Rate limit reached for 10KTPM-200RPM in organization org-Y2tKyCPFO6tIjtCtOVZ7c9tr on tokens per min. Limit: 10000 / min. Please try again in 6ms. Contact us through our help center at help.openai.com if you continue to have issues.. Retrying Question No. 4 Attempt:(1)\n",
      "Rate limit error: Rate limit reached for 10KTPM-200RPM in organization org-Y2tKyCPFO6tIjtCtOVZ7c9tr on tokens per min. Limit: 10000 / min. Please try again in 6ms. Contact us through our help center at help.openai.com if you continue to have issues.. Retrying Question No. 5 Attempt:(1)\n",
      "Rate limit error: Rate limit reached for 10KTPM-200RPM in organization org-Y2tKyCPFO6tIjtCtOVZ7c9tr on tokens per min. Limit: 10000 / min. Please try again in 6ms. Contact us through our help center at help.openai.com if you continue to have issues.. Retrying Question No. 6 Attempt:(1)\n",
      "Rate limit error: Rate limit reached for 10KTPM-200RPM in organization org-Y2tKyCPFO6tIjtCtOVZ7c9tr on tokens per min. Limit: 10000 / min. Please try again in 6ms. Contact us through our help center at help.openai.com if you continue to have issues.. Retrying Question No. 7 Attempt:(1)\n",
      "Rate limit error: Rate limit reached for 10KTPM-200RPM in organization org-Y2tKyCPFO6tIjtCtOVZ7c9tr on tokens per min. Limit: 10000 / min. Please try again in 6ms. Contact us through our help center at help.openai.com if you continue to have issues.. Retrying Question No. 8 Attempt:(1)\n",
      "Rate limit error: Rate limit reached for 10KTPM-200RPM in organization org-Y2tKyCPFO6tIjtCtOVZ7c9tr on tokens per min. Limit: 10000 / min. Please try again in 6ms. Contact us through our help center at help.openai.com if you continue to have issues.. Retrying Question No. 8 Attempt:(2)\n",
      "Rate limit error: Rate limit reached for 10KTPM-200RPM in organization org-Y2tKyCPFO6tIjtCtOVZ7c9tr on tokens per min. Limit: 10000 / min. Please try again in 6ms. Contact us through our help center at help.openai.com if you continue to have issues.. Retrying Question No. 2 Attempt:(1)\n",
      "Rate limit error: Rate limit reached for 10KTPM-200RPM in organization org-Y2tKyCPFO6tIjtCtOVZ7c9tr on tokens per min. Limit: 10000 / min. Please try again in 6ms. Contact us through our help center at help.openai.com if you continue to have issues.. Retrying Question No. 6 Attempt:(1)\n"
     ]
    },
    {
     "name": "stderr",
     "output_type": "stream",
     "text": [
      " 23%|██▎       | 25/107 [2:41:01<7:57:28, 349.38s/it]"
     ]
    },
    {
     "name": "stdout",
     "output_type": "stream",
     "text": [
      "Rate limit error: Rate limit reached for 10KTPM-200RPM in organization org-Y2tKyCPFO6tIjtCtOVZ7c9tr on tokens per min. Limit: 10000 / min. Please try again in 6ms. Contact us through our help center at help.openai.com if you continue to have issues.. Retrying Question No. 0 Attempt:(1)\n",
      "Rate limit error: Rate limit reached for 10KTPM-200RPM in organization org-Y2tKyCPFO6tIjtCtOVZ7c9tr on tokens per min. Limit: 10000 / min. Please try again in 6ms. Contact us through our help center at help.openai.com if you continue to have issues.. Retrying Question No. 1 Attempt:(1)\n",
      "Rate limit error: Rate limit reached for 10KTPM-200RPM in organization org-Y2tKyCPFO6tIjtCtOVZ7c9tr on tokens per min. Limit: 10000 / min. Please try again in 6ms. Contact us through our help center at help.openai.com if you continue to have issues.. Retrying Question No. 2 Attempt:(1)\n",
      "Rate limit error: Rate limit reached for 10KTPM-200RPM in organization org-Y2tKyCPFO6tIjtCtOVZ7c9tr on tokens per min. Limit: 10000 / min. Please try again in 6ms. Contact us through our help center at help.openai.com if you continue to have issues.. Retrying Question No. 3 Attempt:(1)\n",
      "Rate limit error: Rate limit reached for 10KTPM-200RPM in organization org-Y2tKyCPFO6tIjtCtOVZ7c9tr on tokens per min. Limit: 10000 / min. Please try again in 6ms. Contact us through our help center at help.openai.com if you continue to have issues.. Retrying Question No. 4 Attempt:(1)\n",
      "Rate limit error: Rate limit reached for 10KTPM-200RPM in organization org-Y2tKyCPFO6tIjtCtOVZ7c9tr on tokens per min. Limit: 10000 / min. Please try again in 6ms. Contact us through our help center at help.openai.com if you continue to have issues.. Retrying Question No. 4 Attempt:(2)\n",
      "Rate limit error: Rate limit reached for 10KTPM-200RPM in organization org-Y2tKyCPFO6tIjtCtOVZ7c9tr on tokens per min. Limit: 10000 / min. Please try again in 6ms. Contact us through our help center at help.openai.com if you continue to have issues.. Retrying Question No. 5 Attempt:(1)\n",
      "Rate limit error: Rate limit reached for 10KTPM-200RPM in organization org-Y2tKyCPFO6tIjtCtOVZ7c9tr on tokens per min. Limit: 10000 / min. Please try again in 6ms. Contact us through our help center at help.openai.com if you continue to have issues.. Retrying Question No. 6 Attempt:(1)\n",
      "Rate limit error: Rate limit reached for 10KTPM-200RPM in organization org-Y2tKyCPFO6tIjtCtOVZ7c9tr on tokens per min. Limit: 10000 / min. Please try again in 6ms. Contact us through our help center at help.openai.com if you continue to have issues.. Retrying Question No. 7 Attempt:(1)\n",
      "Rate limit error: Rate limit reached for 10KTPM-200RPM in organization org-Y2tKyCPFO6tIjtCtOVZ7c9tr on tokens per min. Limit: 10000 / min. Please try again in 6ms. Contact us through our help center at help.openai.com if you continue to have issues.. Retrying Question No. 8 Attempt:(1)\n",
      "Rate limit error: Rate limit reached for 10KTPM-200RPM in organization org-Y2tKyCPFO6tIjtCtOVZ7c9tr on tokens per min. Limit: 10000 / min. Please try again in 6ms. Contact us through our help center at help.openai.com if you continue to have issues.. Retrying Question No. 0 Attempt:(1)\n",
      "Rate limit error: Rate limit reached for 10KTPM-200RPM in organization org-Y2tKyCPFO6tIjtCtOVZ7c9tr on tokens per min. Limit: 10000 / min. Please try again in 6ms. Contact us through our help center at help.openai.com if you continue to have issues.. Retrying Question No. 1 Attempt:(1)\n",
      "Rate limit error: Rate limit reached for 10KTPM-200RPM in organization org-Y2tKyCPFO6tIjtCtOVZ7c9tr on tokens per min. Limit: 10000 / min. Please try again in 6ms. Contact us through our help center at help.openai.com if you continue to have issues.. Retrying Question No. 2 Attempt:(1)\n",
      "Rate limit error: Rate limit reached for 10KTPM-200RPM in organization org-Y2tKyCPFO6tIjtCtOVZ7c9tr on tokens per min. Limit: 10000 / min. Please try again in 6ms. Contact us through our help center at help.openai.com if you continue to have issues.. Retrying Question No. 3 Attempt:(1)\n",
      "Rate limit error: Rate limit reached for 10KTPM-200RPM in organization org-Y2tKyCPFO6tIjtCtOVZ7c9tr on tokens per min. Limit: 10000 / min. Please try again in 6ms. Contact us through our help center at help.openai.com if you continue to have issues.. Retrying Question No. 4 Attempt:(1)\n",
      "Rate limit error: Rate limit reached for 10KTPM-200RPM in organization org-Y2tKyCPFO6tIjtCtOVZ7c9tr on tokens per min. Limit: 10000 / min. Please try again in 6ms. Contact us through our help center at help.openai.com if you continue to have issues.. Retrying Question No. 5 Attempt:(1)\n",
      "Rate limit error: Rate limit reached for 10KTPM-200RPM in organization org-Y2tKyCPFO6tIjtCtOVZ7c9tr on tokens per min. Limit: 10000 / min. Please try again in 6ms. Contact us through our help center at help.openai.com if you continue to have issues.. Retrying Question No. 6 Attempt:(1)\n",
      "Rate limit error: Rate limit reached for 10KTPM-200RPM in organization org-Y2tKyCPFO6tIjtCtOVZ7c9tr on tokens per min. Limit: 10000 / min. Please try again in 6ms. Contact us through our help center at help.openai.com if you continue to have issues.. Retrying Question No. 6 Attempt:(2)\n",
      "Rate limit error: Rate limit reached for 10KTPM-200RPM in organization org-Y2tKyCPFO6tIjtCtOVZ7c9tr on tokens per min. Limit: 10000 / min. Please try again in 6ms. Contact us through our help center at help.openai.com if you continue to have issues.. Retrying Question No. 7 Attempt:(1)\n",
      "Rate limit error: Rate limit reached for 10KTPM-200RPM in organization org-Y2tKyCPFO6tIjtCtOVZ7c9tr on tokens per min. Limit: 10000 / min. Please try again in 6ms. Contact us through our help center at help.openai.com if you continue to have issues.. Retrying Question No. 8 Attempt:(1)\n"
     ]
    },
    {
     "name": "stderr",
     "output_type": "stream",
     "text": [
      " 24%|██▍       | 26/107 [2:51:33<9:45:56, 434.03s/it]"
     ]
    },
    {
     "name": "stdout",
     "output_type": "stream",
     "text": [
      "Rate limit error: Rate limit reached for 10KTPM-200RPM in organization org-Y2tKyCPFO6tIjtCtOVZ7c9tr on tokens per min. Limit: 10000 / min. Please try again in 6ms. Contact us through our help center at help.openai.com if you continue to have issues.. Retrying Question No. 0 Attempt:(1)\n",
      "Rate limit error: Rate limit reached for 10KTPM-200RPM in organization org-Y2tKyCPFO6tIjtCtOVZ7c9tr on tokens per min. Limit: 10000 / min. Please try again in 6ms. Contact us through our help center at help.openai.com if you continue to have issues.. Retrying Question No. 1 Attempt:(1)\n",
      "Rate limit error: Rate limit reached for 10KTPM-200RPM in organization org-Y2tKyCPFO6tIjtCtOVZ7c9tr on tokens per min. Limit: 10000 / min. Please try again in 6ms. Contact us through our help center at help.openai.com if you continue to have issues.. Retrying Question No. 2 Attempt:(1)\n",
      "Rate limit error: Rate limit reached for 10KTPM-200RPM in organization org-Y2tKyCPFO6tIjtCtOVZ7c9tr on tokens per min. Limit: 10000 / min. Please try again in 6ms. Contact us through our help center at help.openai.com if you continue to have issues.. Retrying Question No. 3 Attempt:(1)\n",
      "Rate limit error: Rate limit reached for 10KTPM-200RPM in organization org-Y2tKyCPFO6tIjtCtOVZ7c9tr on tokens per min. Limit: 10000 / min. Please try again in 6ms. Contact us through our help center at help.openai.com if you continue to have issues.. Retrying Question No. 4 Attempt:(1)\n",
      "Rate limit error: Rate limit reached for 10KTPM-200RPM in organization org-Y2tKyCPFO6tIjtCtOVZ7c9tr on tokens per min. Limit: 10000 / min. Please try again in 6ms. Contact us through our help center at help.openai.com if you continue to have issues.. Retrying Question No. 5 Attempt:(1)\n",
      "Rate limit error: Rate limit reached for 10KTPM-200RPM in organization org-Y2tKyCPFO6tIjtCtOVZ7c9tr on tokens per min. Limit: 10000 / min. Please try again in 6ms. Contact us through our help center at help.openai.com if you continue to have issues.. Retrying Question No. 6 Attempt:(1)\n",
      "Rate limit error: Rate limit reached for 10KTPM-200RPM in organization org-Y2tKyCPFO6tIjtCtOVZ7c9tr on tokens per min. Limit: 10000 / min. Please try again in 6ms. Contact us through our help center at help.openai.com if you continue to have issues.. Retrying Question No. 7 Attempt:(1)\n",
      "Rate limit error: Rate limit reached for 10KTPM-200RPM in organization org-Y2tKyCPFO6tIjtCtOVZ7c9tr on tokens per min. Limit: 10000 / min. Please try again in 6ms. Contact us through our help center at help.openai.com if you continue to have issues.. Retrying Question No. 8 Attempt:(1)\n",
      "Rate limit error: Rate limit reached for 10KTPM-200RPM in organization org-Y2tKyCPFO6tIjtCtOVZ7c9tr on tokens per min. Limit: 10000 / min. Please try again in 6ms. Contact us through our help center at help.openai.com if you continue to have issues.. Retrying Question No. 0 Attempt:(1)\n",
      "Rate limit error: Rate limit reached for 10KTPM-200RPM in organization org-Y2tKyCPFO6tIjtCtOVZ7c9tr on tokens per min. Limit: 10000 / min. Please try again in 6ms. Contact us through our help center at help.openai.com if you continue to have issues.. Retrying Question No. 1 Attempt:(1)\n",
      "Rate limit error: Rate limit reached for 10KTPM-200RPM in organization org-Y2tKyCPFO6tIjtCtOVZ7c9tr on tokens per min. Limit: 10000 / min. Please try again in 6ms. Contact us through our help center at help.openai.com if you continue to have issues.. Retrying Question No. 2 Attempt:(1)\n",
      "Rate limit error: Rate limit reached for 10KTPM-200RPM in organization org-Y2tKyCPFO6tIjtCtOVZ7c9tr on tokens per min. Limit: 10000 / min. Please try again in 6ms. Contact us through our help center at help.openai.com if you continue to have issues.. Retrying Question No. 3 Attempt:(1)\n",
      "Rate limit error: Rate limit reached for 10KTPM-200RPM in organization org-Y2tKyCPFO6tIjtCtOVZ7c9tr on tokens per min. Limit: 10000 / min. Please try again in 6ms. Contact us through our help center at help.openai.com if you continue to have issues.. Retrying Question No. 4 Attempt:(1)\n",
      "Rate limit error: Rate limit reached for 10KTPM-200RPM in organization org-Y2tKyCPFO6tIjtCtOVZ7c9tr on tokens per min. Limit: 10000 / min. Please try again in 6ms. Contact us through our help center at help.openai.com if you continue to have issues.. Retrying Question No. 5 Attempt:(1)\n",
      "Rate limit error: Rate limit reached for 10KTPM-200RPM in organization org-Y2tKyCPFO6tIjtCtOVZ7c9tr on tokens per min. Limit: 10000 / min. Please try again in 6ms. Contact us through our help center at help.openai.com if you continue to have issues.. Retrying Question No. 6 Attempt:(1)\n",
      "Rate limit error: Rate limit reached for 10KTPM-200RPM in organization org-Y2tKyCPFO6tIjtCtOVZ7c9tr on tokens per min. Limit: 10000 / min. Please try again in 6ms. Contact us through our help center at help.openai.com if you continue to have issues.. Retrying Question No. 7 Attempt:(1)\n",
      "Rate limit error: Rate limit reached for 10KTPM-200RPM in organization org-Y2tKyCPFO6tIjtCtOVZ7c9tr on tokens per min. Limit: 10000 / min. Please try again in 6ms. Contact us through our help center at help.openai.com if you continue to have issues.. Retrying Question No. 8 Attempt:(1)\n",
      "Rate limit error: Rate limit reached for 10KTPM-200RPM in organization org-Y2tKyCPFO6tIjtCtOVZ7c9tr on tokens per min. Limit: 10000 / min. Please try again in 6ms. Contact us through our help center at help.openai.com if you continue to have issues.. Retrying Question No. 1 Attempt:(1)\n",
      "Rate limit error: Rate limit reached for 10KTPM-200RPM in organization org-Y2tKyCPFO6tIjtCtOVZ7c9tr on tokens per min. Limit: 10000 / min. Please try again in 6ms. Contact us through our help center at help.openai.com if you continue to have issues.. Retrying Question No. 7 Attempt:(1)\n"
     ]
    },
    {
     "name": "stderr",
     "output_type": "stream",
     "text": [
      " 25%|██▌       | 27/107 [3:02:11<11:00:26, 495.33s/it]"
     ]
    },
    {
     "name": "stdout",
     "output_type": "stream",
     "text": [
      "Rate limit error: Rate limit reached for 10KTPM-200RPM in organization org-Y2tKyCPFO6tIjtCtOVZ7c9tr on tokens per min. Limit: 10000 / min. Please try again in 6ms. Contact us through our help center at help.openai.com if you continue to have issues.. Retrying Question No. 0 Attempt:(1)\n",
      "Rate limit error: Rate limit reached for 10KTPM-200RPM in organization org-Y2tKyCPFO6tIjtCtOVZ7c9tr on tokens per min. Limit: 10000 / min. Please try again in 6ms. Contact us through our help center at help.openai.com if you continue to have issues.. Retrying Question No. 1 Attempt:(1)\n",
      "Rate limit error: Rate limit reached for 10KTPM-200RPM in organization org-Y2tKyCPFO6tIjtCtOVZ7c9tr on tokens per min. Limit: 10000 / min. Please try again in 6ms. Contact us through our help center at help.openai.com if you continue to have issues.. Retrying Question No. 2 Attempt:(1)\n",
      "Rate limit error: Rate limit reached for 10KTPM-200RPM in organization org-Y2tKyCPFO6tIjtCtOVZ7c9tr on tokens per min. Limit: 10000 / min. Please try again in 6ms. Contact us through our help center at help.openai.com if you continue to have issues.. Retrying Question No. 3 Attempt:(1)\n",
      "Rate limit error: Rate limit reached for 10KTPM-200RPM in organization org-Y2tKyCPFO6tIjtCtOVZ7c9tr on tokens per min. Limit: 10000 / min. Please try again in 6ms. Contact us through our help center at help.openai.com if you continue to have issues.. Retrying Question No. 4 Attempt:(1)\n",
      "Rate limit error: Rate limit reached for 10KTPM-200RPM in organization org-Y2tKyCPFO6tIjtCtOVZ7c9tr on tokens per min. Limit: 10000 / min. Please try again in 6ms. Contact us through our help center at help.openai.com if you continue to have issues.. Retrying Question No. 5 Attempt:(1)\n",
      "Rate limit error: Rate limit reached for 10KTPM-200RPM in organization org-Y2tKyCPFO6tIjtCtOVZ7c9tr on tokens per min. Limit: 10000 / min. Please try again in 6ms. Contact us through our help center at help.openai.com if you continue to have issues.. Retrying Question No. 6 Attempt:(1)\n",
      "Rate limit error: Rate limit reached for 10KTPM-200RPM in organization org-Y2tKyCPFO6tIjtCtOVZ7c9tr on tokens per min. Limit: 10000 / min. Please try again in 6ms. Contact us through our help center at help.openai.com if you continue to have issues.. Retrying Question No. 7 Attempt:(1)\n",
      "Rate limit error: Rate limit reached for 10KTPM-200RPM in organization org-Y2tKyCPFO6tIjtCtOVZ7c9tr on tokens per min. Limit: 10000 / min. Please try again in 6ms. Contact us through our help center at help.openai.com if you continue to have issues.. Retrying Question No. 8 Attempt:(1)\n"
     ]
    },
    {
     "name": "stderr",
     "output_type": "stream",
     "text": [
      " 26%|██▌       | 28/107 [3:06:52<9:27:29, 431.00s/it] "
     ]
    },
    {
     "name": "stdout",
     "output_type": "stream",
     "text": [
      "Rate limit error: Rate limit reached for 10KTPM-200RPM in organization org-Y2tKyCPFO6tIjtCtOVZ7c9tr on tokens per min. Limit: 10000 / min. Please try again in 6ms. Contact us through our help center at help.openai.com if you continue to have issues.. Retrying Question No. 0 Attempt:(1)\n",
      "Rate limit error: Rate limit reached for 10KTPM-200RPM in organization org-Y2tKyCPFO6tIjtCtOVZ7c9tr on tokens per min. Limit: 10000 / min. Please try again in 6ms. Contact us through our help center at help.openai.com if you continue to have issues.. Retrying Question No. 1 Attempt:(1)\n",
      "Rate limit error: Rate limit reached for 10KTPM-200RPM in organization org-Y2tKyCPFO6tIjtCtOVZ7c9tr on tokens per min. Limit: 10000 / min. Please try again in 6ms. Contact us through our help center at help.openai.com if you continue to have issues.. Retrying Question No. 3 Attempt:(1)\n",
      "Rate limit error: Rate limit reached for 10KTPM-200RPM in organization org-Y2tKyCPFO6tIjtCtOVZ7c9tr on tokens per min. Limit: 10000 / min. Please try again in 6ms. Contact us through our help center at help.openai.com if you continue to have issues.. Retrying Question No. 4 Attempt:(1)\n",
      "Rate limit error: Rate limit reached for 10KTPM-200RPM in organization org-Y2tKyCPFO6tIjtCtOVZ7c9tr on tokens per min. Limit: 10000 / min. Please try again in 6ms. Contact us through our help center at help.openai.com if you continue to have issues.. Retrying Question No. 6 Attempt:(1)\n",
      "Rate limit error: Rate limit reached for 10KTPM-200RPM in organization org-Y2tKyCPFO6tIjtCtOVZ7c9tr on tokens per min. Limit: 10000 / min. Please try again in 6ms. Contact us through our help center at help.openai.com if you continue to have issues.. Retrying Question No. 7 Attempt:(1)\n",
      "Rate limit error: Rate limit reached for 10KTPM-200RPM in organization org-Y2tKyCPFO6tIjtCtOVZ7c9tr on tokens per min. Limit: 10000 / min. Please try again in 6ms. Contact us through our help center at help.openai.com if you continue to have issues.. Retrying Question No. 8 Attempt:(1)\n"
     ]
    },
    {
     "name": "stderr",
     "output_type": "stream",
     "text": [
      " 27%|██▋       | 29/107 [3:10:32<7:57:50, 367.57s/it]"
     ]
    },
    {
     "name": "stdout",
     "output_type": "stream",
     "text": [
      "Rate limit error: Rate limit reached for 10KTPM-200RPM in organization org-Y2tKyCPFO6tIjtCtOVZ7c9tr on tokens per min. Limit: 10000 / min. Please try again in 6ms. Contact us through our help center at help.openai.com if you continue to have issues.. Retrying Question No. 0 Attempt:(1)\n",
      "Rate limit error: Rate limit reached for 10KTPM-200RPM in organization org-Y2tKyCPFO6tIjtCtOVZ7c9tr on tokens per min. Limit: 10000 / min. Please try again in 6ms. Contact us through our help center at help.openai.com if you continue to have issues.. Retrying Question No. 1 Attempt:(1)\n",
      "Rate limit error: Rate limit reached for 10KTPM-200RPM in organization org-Y2tKyCPFO6tIjtCtOVZ7c9tr on tokens per min. Limit: 10000 / min. Please try again in 6ms. Contact us through our help center at help.openai.com if you continue to have issues.. Retrying Question No. 2 Attempt:(1)\n",
      "Rate limit error: Rate limit reached for 10KTPM-200RPM in organization org-Y2tKyCPFO6tIjtCtOVZ7c9tr on tokens per min. Limit: 10000 / min. Please try again in 6ms. Contact us through our help center at help.openai.com if you continue to have issues.. Retrying Question No. 3 Attempt:(1)\n",
      "Rate limit error: Rate limit reached for 10KTPM-200RPM in organization org-Y2tKyCPFO6tIjtCtOVZ7c9tr on tokens per min. Limit: 10000 / min. Please try again in 6ms. Contact us through our help center at help.openai.com if you continue to have issues.. Retrying Question No. 4 Attempt:(1)\n",
      "Rate limit error: Rate limit reached for 10KTPM-200RPM in organization org-Y2tKyCPFO6tIjtCtOVZ7c9tr on tokens per min. Limit: 10000 / min. Please try again in 6ms. Contact us through our help center at help.openai.com if you continue to have issues.. Retrying Question No. 5 Attempt:(1)\n",
      "Rate limit error: Rate limit reached for 10KTPM-200RPM in organization org-Y2tKyCPFO6tIjtCtOVZ7c9tr on tokens per min. Limit: 10000 / min. Please try again in 6ms. Contact us through our help center at help.openai.com if you continue to have issues.. Retrying Question No. 6 Attempt:(1)\n",
      "Rate limit error: Rate limit reached for 10KTPM-200RPM in organization org-Y2tKyCPFO6tIjtCtOVZ7c9tr on tokens per min. Limit: 10000 / min. Please try again in 6ms. Contact us through our help center at help.openai.com if you continue to have issues.. Retrying Question No. 6 Attempt:(2)\n",
      "Rate limit error: Rate limit reached for 10KTPM-200RPM in organization org-Y2tKyCPFO6tIjtCtOVZ7c9tr on tokens per min. Limit: 10000 / min. Please try again in 6ms. Contact us through our help center at help.openai.com if you continue to have issues.. Retrying Question No. 7 Attempt:(1)\n",
      "Rate limit error: Rate limit reached for 10KTPM-200RPM in organization org-Y2tKyCPFO6tIjtCtOVZ7c9tr on tokens per min. Limit: 10000 / min. Please try again in 6ms. Contact us through our help center at help.openai.com if you continue to have issues.. Retrying Question No. 8 Attempt:(1)\n",
      "Rate limit error: Rate limit reached for 10KTPM-200RPM in organization org-Y2tKyCPFO6tIjtCtOVZ7c9tr on tokens per min. Limit: 10000 / min. Please try again in 6ms. Contact us through our help center at help.openai.com if you continue to have issues.. Retrying Question No. 0 Attempt:(1)\n",
      "Rate limit error: Rate limit reached for 10KTPM-200RPM in organization org-Y2tKyCPFO6tIjtCtOVZ7c9tr on tokens per min. Limit: 10000 / min. Please try again in 6ms. Contact us through our help center at help.openai.com if you continue to have issues.. Retrying Question No. 1 Attempt:(1)\n",
      "Rate limit error: Rate limit reached for 10KTPM-200RPM in organization org-Y2tKyCPFO6tIjtCtOVZ7c9tr on tokens per min. Limit: 10000 / min. Please try again in 6ms. Contact us through our help center at help.openai.com if you continue to have issues.. Retrying Question No. 2 Attempt:(1)\n",
      "Rate limit error: Rate limit reached for 10KTPM-200RPM in organization org-Y2tKyCPFO6tIjtCtOVZ7c9tr on tokens per min. Limit: 10000 / min. Please try again in 6ms. Contact us through our help center at help.openai.com if you continue to have issues.. Retrying Question No. 3 Attempt:(1)\n",
      "Rate limit error: Rate limit reached for 10KTPM-200RPM in organization org-Y2tKyCPFO6tIjtCtOVZ7c9tr on tokens per min. Limit: 10000 / min. Please try again in 6ms. Contact us through our help center at help.openai.com if you continue to have issues.. Retrying Question No. 4 Attempt:(1)\n",
      "Rate limit error: Rate limit reached for 10KTPM-200RPM in organization org-Y2tKyCPFO6tIjtCtOVZ7c9tr on tokens per min. Limit: 10000 / min. Please try again in 6ms. Contact us through our help center at help.openai.com if you continue to have issues.. Retrying Question No. 4 Attempt:(2)\n",
      "Rate limit error: Rate limit reached for 10KTPM-200RPM in organization org-Y2tKyCPFO6tIjtCtOVZ7c9tr on tokens per min. Limit: 10000 / min. Please try again in 6ms. Contact us through our help center at help.openai.com if you continue to have issues.. Retrying Question No. 5 Attempt:(1)\n",
      "Rate limit error: Rate limit reached for 10KTPM-200RPM in organization org-Y2tKyCPFO6tIjtCtOVZ7c9tr on tokens per min. Limit: 10000 / min. Please try again in 6ms. Contact us through our help center at help.openai.com if you continue to have issues.. Retrying Question No. 6 Attempt:(1)\n",
      "Rate limit error: Rate limit reached for 10KTPM-200RPM in organization org-Y2tKyCPFO6tIjtCtOVZ7c9tr on tokens per min. Limit: 10000 / min. Please try again in 6ms. Contact us through our help center at help.openai.com if you continue to have issues.. Retrying Question No. 7 Attempt:(1)\n",
      "Rate limit error: Rate limit reached for 10KTPM-200RPM in organization org-Y2tKyCPFO6tIjtCtOVZ7c9tr on tokens per min. Limit: 10000 / min. Please try again in 6ms. Contact us through our help center at help.openai.com if you continue to have issues.. Retrying Question No. 8 Attempt:(1)\n"
     ]
    },
    {
     "name": "stderr",
     "output_type": "stream",
     "text": [
      " 28%|██▊       | 30/107 [3:20:58<9:31:21, 445.22s/it]"
     ]
    },
    {
     "name": "stdout",
     "output_type": "stream",
     "text": [
      "Rate limit error: Rate limit reached for 10KTPM-200RPM in organization org-Y2tKyCPFO6tIjtCtOVZ7c9tr on tokens per min. Limit: 10000 / min. Please try again in 6ms. Contact us through our help center at help.openai.com if you continue to have issues.. Retrying Question No. 0 Attempt:(1)\n",
      "Rate limit error: Rate limit reached for 10KTPM-200RPM in organization org-Y2tKyCPFO6tIjtCtOVZ7c9tr on tokens per min. Limit: 10000 / min. Please try again in 6ms. Contact us through our help center at help.openai.com if you continue to have issues.. Retrying Question No. 1 Attempt:(1)\n",
      "Rate limit error: Rate limit reached for 10KTPM-200RPM in organization org-Y2tKyCPFO6tIjtCtOVZ7c9tr on tokens per min. Limit: 10000 / min. Please try again in 6ms. Contact us through our help center at help.openai.com if you continue to have issues.. Retrying Question No. 2 Attempt:(1)\n",
      "Rate limit error: Rate limit reached for 10KTPM-200RPM in organization org-Y2tKyCPFO6tIjtCtOVZ7c9tr on tokens per min. Limit: 10000 / min. Please try again in 6ms. Contact us through our help center at help.openai.com if you continue to have issues.. Retrying Question No. 2 Attempt:(2)\n",
      "Rate limit error: Rate limit reached for 10KTPM-200RPM in organization org-Y2tKyCPFO6tIjtCtOVZ7c9tr on tokens per min. Limit: 10000 / min. Please try again in 6ms. Contact us through our help center at help.openai.com if you continue to have issues.. Retrying Question No. 3 Attempt:(1)\n",
      "Rate limit error: Rate limit reached for 10KTPM-200RPM in organization org-Y2tKyCPFO6tIjtCtOVZ7c9tr on tokens per min. Limit: 10000 / min. Please try again in 6ms. Contact us through our help center at help.openai.com if you continue to have issues.. Retrying Question No. 4 Attempt:(1)\n",
      "Rate limit error: Rate limit reached for 10KTPM-200RPM in organization org-Y2tKyCPFO6tIjtCtOVZ7c9tr on tokens per min. Limit: 10000 / min. Please try again in 6ms. Contact us through our help center at help.openai.com if you continue to have issues.. Retrying Question No. 5 Attempt:(1)\n",
      "Rate limit error: Rate limit reached for 10KTPM-200RPM in organization org-Y2tKyCPFO6tIjtCtOVZ7c9tr on tokens per min. Limit: 10000 / min. Please try again in 6ms. Contact us through our help center at help.openai.com if you continue to have issues.. Retrying Question No. 6 Attempt:(1)\n",
      "Rate limit error: Rate limit reached for 10KTPM-200RPM in organization org-Y2tKyCPFO6tIjtCtOVZ7c9tr on tokens per min. Limit: 10000 / min. Please try again in 6ms. Contact us through our help center at help.openai.com if you continue to have issues.. Retrying Question No. 7 Attempt:(1)\n",
      "Rate limit error: Rate limit reached for 10KTPM-200RPM in organization org-Y2tKyCPFO6tIjtCtOVZ7c9tr on tokens per min. Limit: 10000 / min. Please try again in 6ms. Contact us through our help center at help.openai.com if you continue to have issues.. Retrying Question No. 8 Attempt:(1)\n",
      "Rate limit error: Rate limit reached for 10KTPM-200RPM in organization org-Y2tKyCPFO6tIjtCtOVZ7c9tr on tokens per min. Limit: 10000 / min. Please try again in 6ms. Contact us through our help center at help.openai.com if you continue to have issues.. Retrying Question No. 0 Attempt:(1)\n",
      "Rate limit error: Rate limit reached for 10KTPM-200RPM in organization org-Y2tKyCPFO6tIjtCtOVZ7c9tr on tokens per min. Limit: 10000 / min. Please try again in 6ms. Contact us through our help center at help.openai.com if you continue to have issues.. Retrying Question No. 1 Attempt:(1)\n",
      "Rate limit error: Rate limit reached for 10KTPM-200RPM in organization org-Y2tKyCPFO6tIjtCtOVZ7c9tr on tokens per min. Limit: 10000 / min. Please try again in 6ms. Contact us through our help center at help.openai.com if you continue to have issues.. Retrying Question No. 2 Attempt:(1)\n",
      "Rate limit error: Rate limit reached for 10KTPM-200RPM in organization org-Y2tKyCPFO6tIjtCtOVZ7c9tr on tokens per min. Limit: 10000 / min. Please try again in 6ms. Contact us through our help center at help.openai.com if you continue to have issues.. Retrying Question No. 2 Attempt:(2)\n",
      "Rate limit error: Rate limit reached for 10KTPM-200RPM in organization org-Y2tKyCPFO6tIjtCtOVZ7c9tr on tokens per min. Limit: 10000 / min. Please try again in 6ms. Contact us through our help center at help.openai.com if you continue to have issues.. Retrying Question No. 3 Attempt:(1)\n",
      "Rate limit error: Rate limit reached for 10KTPM-200RPM in organization org-Y2tKyCPFO6tIjtCtOVZ7c9tr on tokens per min. Limit: 10000 / min. Please try again in 6ms. Contact us through our help center at help.openai.com if you continue to have issues.. Retrying Question No. 4 Attempt:(1)\n",
      "Rate limit error: Rate limit reached for 10KTPM-200RPM in organization org-Y2tKyCPFO6tIjtCtOVZ7c9tr on tokens per min. Limit: 10000 / min. Please try again in 6ms. Contact us through our help center at help.openai.com if you continue to have issues.. Retrying Question No. 5 Attempt:(1)\n",
      "Rate limit error: Rate limit reached for 10KTPM-200RPM in organization org-Y2tKyCPFO6tIjtCtOVZ7c9tr on tokens per min. Limit: 10000 / min. Please try again in 6ms. Contact us through our help center at help.openai.com if you continue to have issues.. Retrying Question No. 6 Attempt:(1)\n",
      "Rate limit error: Rate limit reached for 10KTPM-200RPM in organization org-Y2tKyCPFO6tIjtCtOVZ7c9tr on tokens per min. Limit: 10000 / min. Please try again in 6ms. Contact us through our help center at help.openai.com if you continue to have issues.. Retrying Question No. 7 Attempt:(1)\n",
      "Rate limit error: Rate limit reached for 10KTPM-200RPM in organization org-Y2tKyCPFO6tIjtCtOVZ7c9tr on tokens per min. Limit: 10000 / min. Please try again in 6ms. Contact us through our help center at help.openai.com if you continue to have issues.. Retrying Question No. 8 Attempt:(1)\n",
      "Rate limit error: Rate limit reached for 10KTPM-200RPM in organization org-Y2tKyCPFO6tIjtCtOVZ7c9tr on tokens per min. Limit: 10000 / min. Please try again in 6ms. Contact us through our help center at help.openai.com if you continue to have issues.. Retrying Question No. 0 Attempt:(1)\n",
      "Rate limit error: Rate limit reached for 10KTPM-200RPM in organization org-Y2tKyCPFO6tIjtCtOVZ7c9tr on tokens per min. Limit: 10000 / min. Please try again in 6ms. Contact us through our help center at help.openai.com if you continue to have issues.. Retrying Question No. 1 Attempt:(1)\n",
      "Rate limit error: Rate limit reached for 10KTPM-200RPM in organization org-Y2tKyCPFO6tIjtCtOVZ7c9tr on tokens per min. Limit: 10000 / min. Please try again in 6ms. Contact us through our help center at help.openai.com if you continue to have issues.. Retrying Question No. 2 Attempt:(1)\n",
      "Rate limit error: Rate limit reached for 10KTPM-200RPM in organization org-Y2tKyCPFO6tIjtCtOVZ7c9tr on tokens per min. Limit: 10000 / min. Please try again in 6ms. Contact us through our help center at help.openai.com if you continue to have issues.. Retrying Question No. 2 Attempt:(2)\n",
      "Rate limit error: Rate limit reached for 10KTPM-200RPM in organization org-Y2tKyCPFO6tIjtCtOVZ7c9tr on tokens per min. Limit: 10000 / min. Please try again in 6ms. Contact us through our help center at help.openai.com if you continue to have issues.. Retrying Question No. 3 Attempt:(1)\n",
      "Rate limit error: Rate limit reached for 10KTPM-200RPM in organization org-Y2tKyCPFO6tIjtCtOVZ7c9tr on tokens per min. Limit: 10000 / min. Please try again in 6ms. Contact us through our help center at help.openai.com if you continue to have issues.. Retrying Question No. 4 Attempt:(1)\n",
      "Rate limit error: Rate limit reached for 10KTPM-200RPM in organization org-Y2tKyCPFO6tIjtCtOVZ7c9tr on tokens per min. Limit: 10000 / min. Please try again in 6ms. Contact us through our help center at help.openai.com if you continue to have issues.. Retrying Question No. 5 Attempt:(1)\n",
      "Rate limit error: Rate limit reached for 10KTPM-200RPM in organization org-Y2tKyCPFO6tIjtCtOVZ7c9tr on tokens per min. Limit: 10000 / min. Please try again in 6ms. Contact us through our help center at help.openai.com if you continue to have issues.. Retrying Question No. 6 Attempt:(1)\n",
      "Rate limit error: Rate limit reached for 10KTPM-200RPM in organization org-Y2tKyCPFO6tIjtCtOVZ7c9tr on tokens per min. Limit: 10000 / min. Please try again in 6ms. Contact us through our help center at help.openai.com if you continue to have issues.. Retrying Question No. 7 Attempt:(1)\n",
      "Rate limit error: Rate limit reached for 10KTPM-200RPM in organization org-Y2tKyCPFO6tIjtCtOVZ7c9tr on tokens per min. Limit: 10000 / min. Please try again in 6ms. Contact us through our help center at help.openai.com if you continue to have issues.. Retrying Question No. 8 Attempt:(1)\n",
      "Rate limit error: Rate limit reached for 10KTPM-200RPM in organization org-Y2tKyCPFO6tIjtCtOVZ7c9tr on tokens per min. Limit: 10000 / min. Please try again in 6ms. Contact us through our help center at help.openai.com if you continue to have issues.. Retrying Question No. 0 Attempt:(1)\n",
      "Rate limit error: Rate limit reached for 10KTPM-200RPM in organization org-Y2tKyCPFO6tIjtCtOVZ7c9tr on tokens per min. Limit: 10000 / min. Please try again in 6ms. Contact us through our help center at help.openai.com if you continue to have issues.. Retrying Question No. 8 Attempt:(1)\n"
     ]
    },
    {
     "name": "stderr",
     "output_type": "stream",
     "text": [
      " 29%|██▉       | 31/107 [3:37:51<12:59:26, 615.35s/it]"
     ]
    },
    {
     "name": "stdout",
     "output_type": "stream",
     "text": [
      "Rate limit error: Rate limit reached for 10KTPM-200RPM in organization org-Y2tKyCPFO6tIjtCtOVZ7c9tr on tokens per min. Limit: 10000 / min. Please try again in 6ms. Contact us through our help center at help.openai.com if you continue to have issues.. Retrying Question No. 1 Attempt:(1)\n",
      "Rate limit error: Rate limit reached for 10KTPM-200RPM in organization org-Y2tKyCPFO6tIjtCtOVZ7c9tr on tokens per min. Limit: 10000 / min. Please try again in 6ms. Contact us through our help center at help.openai.com if you continue to have issues.. Retrying Question No. 3 Attempt:(1)\n",
      "Rate limit error: Rate limit reached for 10KTPM-200RPM in organization org-Y2tKyCPFO6tIjtCtOVZ7c9tr on tokens per min. Limit: 10000 / min. Please try again in 6ms. Contact us through our help center at help.openai.com if you continue to have issues.. Retrying Question No. 5 Attempt:(1)\n",
      "Rate limit error: Rate limit reached for 10KTPM-200RPM in organization org-Y2tKyCPFO6tIjtCtOVZ7c9tr on tokens per min. Limit: 10000 / min. Please try again in 6ms. Contact us through our help center at help.openai.com if you continue to have issues.. Retrying Question No. 8 Attempt:(1)\n"
     ]
    },
    {
     "name": "stderr",
     "output_type": "stream",
     "text": [
      " 30%|██▉       | 32/107 [3:40:01<9:47:23, 469.91s/it] "
     ]
    },
    {
     "name": "stdout",
     "output_type": "stream",
     "text": [
      "Rate limit error: Rate limit reached for 10KTPM-200RPM in organization org-Y2tKyCPFO6tIjtCtOVZ7c9tr on tokens per min. Limit: 10000 / min. Please try again in 6ms. Contact us through our help center at help.openai.com if you continue to have issues.. Retrying Question No. 0 Attempt:(1)\n",
      "Rate limit error: Rate limit reached for 10KTPM-200RPM in organization org-Y2tKyCPFO6tIjtCtOVZ7c9tr on tokens per min. Limit: 10000 / min. Please try again in 6ms. Contact us through our help center at help.openai.com if you continue to have issues.. Retrying Question No. 1 Attempt:(1)\n",
      "Rate limit error: Rate limit reached for 10KTPM-200RPM in organization org-Y2tKyCPFO6tIjtCtOVZ7c9tr on tokens per min. Limit: 10000 / min. Please try again in 6ms. Contact us through our help center at help.openai.com if you continue to have issues.. Retrying Question No. 2 Attempt:(1)\n",
      "Rate limit error: Rate limit reached for 10KTPM-200RPM in organization org-Y2tKyCPFO6tIjtCtOVZ7c9tr on tokens per min. Limit: 10000 / min. Please try again in 6ms. Contact us through our help center at help.openai.com if you continue to have issues.. Retrying Question No. 3 Attempt:(1)\n",
      "Rate limit error: Rate limit reached for 10KTPM-200RPM in organization org-Y2tKyCPFO6tIjtCtOVZ7c9tr on tokens per min. Limit: 10000 / min. Please try again in 6ms. Contact us through our help center at help.openai.com if you continue to have issues.. Retrying Question No. 3 Attempt:(2)\n",
      "Rate limit error: Rate limit reached for 10KTPM-200RPM in organization org-Y2tKyCPFO6tIjtCtOVZ7c9tr on tokens per min. Limit: 10000 / min. Please try again in 6ms. Contact us through our help center at help.openai.com if you continue to have issues.. Retrying Question No. 4 Attempt:(1)\n",
      "Rate limit error: Rate limit reached for 10KTPM-200RPM in organization org-Y2tKyCPFO6tIjtCtOVZ7c9tr on tokens per min. Limit: 10000 / min. Please try again in 6ms. Contact us through our help center at help.openai.com if you continue to have issues.. Retrying Question No. 5 Attempt:(1)\n",
      "Rate limit error: Rate limit reached for 10KTPM-200RPM in organization org-Y2tKyCPFO6tIjtCtOVZ7c9tr on tokens per min. Limit: 10000 / min. Please try again in 6ms. Contact us through our help center at help.openai.com if you continue to have issues.. Retrying Question No. 6 Attempt:(1)\n",
      "Rate limit error: Rate limit reached for 10KTPM-200RPM in organization org-Y2tKyCPFO6tIjtCtOVZ7c9tr on tokens per min. Limit: 10000 / min. Please try again in 6ms. Contact us through our help center at help.openai.com if you continue to have issues.. Retrying Question No. 7 Attempt:(1)\n",
      "Rate limit error: Rate limit reached for 10KTPM-200RPM in organization org-Y2tKyCPFO6tIjtCtOVZ7c9tr on tokens per min. Limit: 10000 / min. Please try again in 6ms. Contact us through our help center at help.openai.com if you continue to have issues.. Retrying Question No. 8 Attempt:(1)\n",
      "Rate limit error: Rate limit reached for 10KTPM-200RPM in organization org-Y2tKyCPFO6tIjtCtOVZ7c9tr on tokens per min. Limit: 10000 / min. Please try again in 6ms. Contact us through our help center at help.openai.com if you continue to have issues.. Retrying Question No. 0 Attempt:(1)\n",
      "Rate limit error: Rate limit reached for 10KTPM-200RPM in organization org-Y2tKyCPFO6tIjtCtOVZ7c9tr on tokens per min. Limit: 10000 / min. Please try again in 6ms. Contact us through our help center at help.openai.com if you continue to have issues.. Retrying Question No. 1 Attempt:(1)\n",
      "Rate limit error: Rate limit reached for 10KTPM-200RPM in organization org-Y2tKyCPFO6tIjtCtOVZ7c9tr on tokens per min. Limit: 10000 / min. Please try again in 6ms. Contact us through our help center at help.openai.com if you continue to have issues.. Retrying Question No. 2 Attempt:(1)\n",
      "Rate limit error: Rate limit reached for 10KTPM-200RPM in organization org-Y2tKyCPFO6tIjtCtOVZ7c9tr on tokens per min. Limit: 10000 / min. Please try again in 6ms. Contact us through our help center at help.openai.com if you continue to have issues.. Retrying Question No. 3 Attempt:(1)\n",
      "Rate limit error: Rate limit reached for 10KTPM-200RPM in organization org-Y2tKyCPFO6tIjtCtOVZ7c9tr on tokens per min. Limit: 10000 / min. Please try again in 6ms. Contact us through our help center at help.openai.com if you continue to have issues.. Retrying Question No. 4 Attempt:(1)\n",
      "Rate limit error: Rate limit reached for 10KTPM-200RPM in organization org-Y2tKyCPFO6tIjtCtOVZ7c9tr on tokens per min. Limit: 10000 / min. Please try again in 6ms. Contact us through our help center at help.openai.com if you continue to have issues.. Retrying Question No. 5 Attempt:(1)\n",
      "Rate limit error: Rate limit reached for 10KTPM-200RPM in organization org-Y2tKyCPFO6tIjtCtOVZ7c9tr on tokens per min. Limit: 10000 / min. Please try again in 6ms. Contact us through our help center at help.openai.com if you continue to have issues.. Retrying Question No. 6 Attempt:(1)\n",
      "Rate limit error: Rate limit reached for 10KTPM-200RPM in organization org-Y2tKyCPFO6tIjtCtOVZ7c9tr on tokens per min. Limit: 10000 / min. Please try again in 6ms. Contact us through our help center at help.openai.com if you continue to have issues.. Retrying Question No. 7 Attempt:(1)\n",
      "Rate limit error: Rate limit reached for 10KTPM-200RPM in organization org-Y2tKyCPFO6tIjtCtOVZ7c9tr on tokens per min. Limit: 10000 / min. Please try again in 6ms. Contact us through our help center at help.openai.com if you continue to have issues.. Retrying Question No. 8 Attempt:(1)\n"
     ]
    },
    {
     "name": "stderr",
     "output_type": "stream",
     "text": [
      " 31%|███       | 33/107 [3:49:57<10:26:20, 507.85s/it]"
     ]
    },
    {
     "name": "stdout",
     "output_type": "stream",
     "text": [
      "Rate limit error: Rate limit reached for 10KTPM-200RPM in organization org-Y2tKyCPFO6tIjtCtOVZ7c9tr on tokens per min. Limit: 10000 / min. Please try again in 6ms. Contact us through our help center at help.openai.com if you continue to have issues.. Retrying Question No. 0 Attempt:(1)\n",
      "Rate limit error: Rate limit reached for 10KTPM-200RPM in organization org-Y2tKyCPFO6tIjtCtOVZ7c9tr on tokens per min. Limit: 10000 / min. Please try again in 6ms. Contact us through our help center at help.openai.com if you continue to have issues.. Retrying Question No. 2 Attempt:(1)\n",
      "Rate limit error: Rate limit reached for 10KTPM-200RPM in organization org-Y2tKyCPFO6tIjtCtOVZ7c9tr on tokens per min. Limit: 10000 / min. Please try again in 6ms. Contact us through our help center at help.openai.com if you continue to have issues.. Retrying Question No. 4 Attempt:(1)\n",
      "Rate limit error: Rate limit reached for 10KTPM-200RPM in organization org-Y2tKyCPFO6tIjtCtOVZ7c9tr on tokens per min. Limit: 10000 / min. Please try again in 6ms. Contact us through our help center at help.openai.com if you continue to have issues.. Retrying Question No. 6 Attempt:(1)\n",
      "Rate limit error: Rate limit reached for 10KTPM-200RPM in organization org-Y2tKyCPFO6tIjtCtOVZ7c9tr on tokens per min. Limit: 10000 / min. Please try again in 6ms. Contact us through our help center at help.openai.com if you continue to have issues.. Retrying Question No. 8 Attempt:(1)\n"
     ]
    },
    {
     "name": "stderr",
     "output_type": "stream",
     "text": [
      " 32%|███▏      | 34/107 [3:52:36<8:10:27, 403.11s/it] "
     ]
    },
    {
     "name": "stdout",
     "output_type": "stream",
     "text": [
      "Rate limit error: Rate limit reached for 10KTPM-200RPM in organization org-Y2tKyCPFO6tIjtCtOVZ7c9tr on tokens per min. Limit: 10000 / min. Please try again in 6ms. Contact us through our help center at help.openai.com if you continue to have issues.. Retrying Question No. 0 Attempt:(1)\n",
      "Rate limit error: Rate limit reached for 10KTPM-200RPM in organization org-Y2tKyCPFO6tIjtCtOVZ7c9tr on tokens per min. Limit: 10000 / min. Please try again in 6ms. Contact us through our help center at help.openai.com if you continue to have issues.. Retrying Question No. 1 Attempt:(1)\n",
      "Rate limit error: Rate limit reached for 10KTPM-200RPM in organization org-Y2tKyCPFO6tIjtCtOVZ7c9tr on tokens per min. Limit: 10000 / min. Please try again in 6ms. Contact us through our help center at help.openai.com if you continue to have issues.. Retrying Question No. 2 Attempt:(1)\n",
      "Rate limit error: Rate limit reached for 10KTPM-200RPM in organization org-Y2tKyCPFO6tIjtCtOVZ7c9tr on tokens per min. Limit: 10000 / min. Please try again in 6ms. Contact us through our help center at help.openai.com if you continue to have issues.. Retrying Question No. 3 Attempt:(1)\n",
      "Rate limit error: Rate limit reached for 10KTPM-200RPM in organization org-Y2tKyCPFO6tIjtCtOVZ7c9tr on tokens per min. Limit: 10000 / min. Please try again in 6ms. Contact us through our help center at help.openai.com if you continue to have issues.. Retrying Question No. 4 Attempt:(1)\n",
      "Rate limit error: Rate limit reached for 10KTPM-200RPM in organization org-Y2tKyCPFO6tIjtCtOVZ7c9tr on tokens per min. Limit: 10000 / min. Please try again in 6ms. Contact us through our help center at help.openai.com if you continue to have issues.. Retrying Question No. 5 Attempt:(1)\n",
      "Rate limit error: Rate limit reached for 10KTPM-200RPM in organization org-Y2tKyCPFO6tIjtCtOVZ7c9tr on tokens per min. Limit: 10000 / min. Please try again in 6ms. Contact us through our help center at help.openai.com if you continue to have issues.. Retrying Question No. 6 Attempt:(1)\n",
      "Rate limit error: Rate limit reached for 10KTPM-200RPM in organization org-Y2tKyCPFO6tIjtCtOVZ7c9tr on tokens per min. Limit: 10000 / min. Please try again in 6ms. Contact us through our help center at help.openai.com if you continue to have issues.. Retrying Question No. 7 Attempt:(1)\n",
      "Rate limit error: Rate limit reached for 10KTPM-200RPM in organization org-Y2tKyCPFO6tIjtCtOVZ7c9tr on tokens per min. Limit: 10000 / min. Please try again in 6ms. Contact us through our help center at help.openai.com if you continue to have issues.. Retrying Question No. 8 Attempt:(1)\n",
      "Rate limit error: Rate limit reached for 10KTPM-200RPM in organization org-Y2tKyCPFO6tIjtCtOVZ7c9tr on tokens per min. Limit: 10000 / min. Please try again in 6ms. Contact us through our help center at help.openai.com if you continue to have issues.. Retrying Question No. 0 Attempt:(1)\n",
      "Rate limit error: Rate limit reached for 10KTPM-200RPM in organization org-Y2tKyCPFO6tIjtCtOVZ7c9tr on tokens per min. Limit: 10000 / min. Please try again in 6ms. Contact us through our help center at help.openai.com if you continue to have issues.. Retrying Question No. 1 Attempt:(1)\n",
      "Rate limit error: Rate limit reached for 10KTPM-200RPM in organization org-Y2tKyCPFO6tIjtCtOVZ7c9tr on tokens per min. Limit: 10000 / min. Please try again in 6ms. Contact us through our help center at help.openai.com if you continue to have issues.. Retrying Question No. 3 Attempt:(1)\n",
      "Rate limit error: Rate limit reached for 10KTPM-200RPM in organization org-Y2tKyCPFO6tIjtCtOVZ7c9tr on tokens per min. Limit: 10000 / min. Please try again in 6ms. Contact us through our help center at help.openai.com if you continue to have issues.. Retrying Question No. 4 Attempt:(1)\n",
      "Rate limit error: Rate limit reached for 10KTPM-200RPM in organization org-Y2tKyCPFO6tIjtCtOVZ7c9tr on tokens per min. Limit: 10000 / min. Please try again in 6ms. Contact us through our help center at help.openai.com if you continue to have issues.. Retrying Question No. 6 Attempt:(1)\n",
      "Rate limit error: Rate limit reached for 10KTPM-200RPM in organization org-Y2tKyCPFO6tIjtCtOVZ7c9tr on tokens per min. Limit: 10000 / min. Please try again in 6ms. Contact us through our help center at help.openai.com if you continue to have issues.. Retrying Question No. 7 Attempt:(1)\n"
     ]
    },
    {
     "name": "stderr",
     "output_type": "stream",
     "text": [
      " 33%|███▎      | 35/107 [4:00:29<8:28:52, 424.06s/it]"
     ]
    },
    {
     "name": "stdout",
     "output_type": "stream",
     "text": [
      "Rate limit error: Rate limit reached for 10KTPM-200RPM in organization org-Y2tKyCPFO6tIjtCtOVZ7c9tr on tokens per min. Limit: 10000 / min. Please try again in 6ms. Contact us through our help center at help.openai.com if you continue to have issues.. Retrying Question No. 0 Attempt:(1)\n",
      "Rate limit error: Rate limit reached for 10KTPM-200RPM in organization org-Y2tKyCPFO6tIjtCtOVZ7c9tr on tokens per min. Limit: 10000 / min. Please try again in 6ms. Contact us through our help center at help.openai.com if you continue to have issues.. Retrying Question No. 2 Attempt:(1)\n",
      "Rate limit error: Rate limit reached for 10KTPM-200RPM in organization org-Y2tKyCPFO6tIjtCtOVZ7c9tr on tokens per min. Limit: 10000 / min. Please try again in 6ms. Contact us through our help center at help.openai.com if you continue to have issues.. Retrying Question No. 3 Attempt:(1)\n",
      "Rate limit error: Rate limit reached for 10KTPM-200RPM in organization org-Y2tKyCPFO6tIjtCtOVZ7c9tr on tokens per min. Limit: 10000 / min. Please try again in 6ms. Contact us through our help center at help.openai.com if you continue to have issues.. Retrying Question No. 5 Attempt:(1)\n",
      "Rate limit error: Rate limit reached for 10KTPM-200RPM in organization org-Y2tKyCPFO6tIjtCtOVZ7c9tr on tokens per min. Limit: 10000 / min. Please try again in 6ms. Contact us through our help center at help.openai.com if you continue to have issues.. Retrying Question No. 7 Attempt:(1)\n"
     ]
    },
    {
     "name": "stderr",
     "output_type": "stream",
     "text": [
      " 34%|███▎      | 36/107 [4:03:10<6:48:19, 345.07s/it]"
     ]
    },
    {
     "name": "stdout",
     "output_type": "stream",
     "text": [
      "Rate limit error: Rate limit reached for 10KTPM-200RPM in organization org-Y2tKyCPFO6tIjtCtOVZ7c9tr on tokens per min. Limit: 10000 / min. Please try again in 6ms. Contact us through our help center at help.openai.com if you continue to have issues.. Retrying Question No. 0 Attempt:(1)\n",
      "Rate limit error: Rate limit reached for 10KTPM-200RPM in organization org-Y2tKyCPFO6tIjtCtOVZ7c9tr on tokens per min. Limit: 10000 / min. Please try again in 6ms. Contact us through our help center at help.openai.com if you continue to have issues.. Retrying Question No. 1 Attempt:(1)\n",
      "Rate limit error: Rate limit reached for 10KTPM-200RPM in organization org-Y2tKyCPFO6tIjtCtOVZ7c9tr on tokens per min. Limit: 10000 / min. Please try again in 6ms. Contact us through our help center at help.openai.com if you continue to have issues.. Retrying Question No. 3 Attempt:(1)\n",
      "Rate limit error: Rate limit reached for 10KTPM-200RPM in organization org-Y2tKyCPFO6tIjtCtOVZ7c9tr on tokens per min. Limit: 10000 / min. Please try again in 6ms. Contact us through our help center at help.openai.com if you continue to have issues.. Retrying Question No. 5 Attempt:(1)\n",
      "Rate limit error: Rate limit reached for 10KTPM-200RPM in organization org-Y2tKyCPFO6tIjtCtOVZ7c9tr on tokens per min. Limit: 10000 / min. Please try again in 6ms. Contact us through our help center at help.openai.com if you continue to have issues.. Retrying Question No. 7 Attempt:(1)\n"
     ]
    },
    {
     "name": "stderr",
     "output_type": "stream",
     "text": [
      " 35%|███▍      | 37/107 [4:05:50<5:37:42, 289.46s/it]"
     ]
    },
    {
     "name": "stdout",
     "output_type": "stream",
     "text": [
      "Rate limit error: Rate limit reached for 10KTPM-200RPM in organization org-Y2tKyCPFO6tIjtCtOVZ7c9tr on tokens per min. Limit: 10000 / min. Please try again in 6ms. Contact us through our help center at help.openai.com if you continue to have issues.. Retrying Question No. 0 Attempt:(1)\n",
      "Rate limit error: Rate limit reached for 10KTPM-200RPM in organization org-Y2tKyCPFO6tIjtCtOVZ7c9tr on tokens per min. Limit: 10000 / min. Please try again in 6ms. Contact us through our help center at help.openai.com if you continue to have issues.. Retrying Question No. 0 Attempt:(2)\n",
      "Rate limit error: Rate limit reached for 10KTPM-200RPM in organization org-Y2tKyCPFO6tIjtCtOVZ7c9tr on tokens per min. Limit: 10000 / min. Please try again in 6ms. Contact us through our help center at help.openai.com if you continue to have issues.. Retrying Question No. 1 Attempt:(1)\n",
      "Rate limit error: Rate limit reached for 10KTPM-200RPM in organization org-Y2tKyCPFO6tIjtCtOVZ7c9tr on tokens per min. Limit: 10000 / min. Please try again in 6ms. Contact us through our help center at help.openai.com if you continue to have issues.. Retrying Question No. 2 Attempt:(1)\n",
      "Rate limit error: Rate limit reached for 10KTPM-200RPM in organization org-Y2tKyCPFO6tIjtCtOVZ7c9tr on tokens per min. Limit: 10000 / min. Please try again in 6ms. Contact us through our help center at help.openai.com if you continue to have issues.. Retrying Question No. 3 Attempt:(1)\n",
      "Rate limit error: Rate limit reached for 10KTPM-200RPM in organization org-Y2tKyCPFO6tIjtCtOVZ7c9tr on tokens per min. Limit: 10000 / min. Please try again in 6ms. Contact us through our help center at help.openai.com if you continue to have issues.. Retrying Question No. 4 Attempt:(1)\n",
      "Rate limit error: Rate limit reached for 10KTPM-200RPM in organization org-Y2tKyCPFO6tIjtCtOVZ7c9tr on tokens per min. Limit: 10000 / min. Please try again in 6ms. Contact us through our help center at help.openai.com if you continue to have issues.. Retrying Question No. 5 Attempt:(1)\n",
      "Rate limit error: Rate limit reached for 10KTPM-200RPM in organization org-Y2tKyCPFO6tIjtCtOVZ7c9tr on tokens per min. Limit: 10000 / min. Please try again in 6ms. Contact us through our help center at help.openai.com if you continue to have issues.. Retrying Question No. 6 Attempt:(1)\n",
      "Rate limit error: Rate limit reached for 10KTPM-200RPM in organization org-Y2tKyCPFO6tIjtCtOVZ7c9tr on tokens per min. Limit: 10000 / min. Please try again in 6ms. Contact us through our help center at help.openai.com if you continue to have issues.. Retrying Question No. 7 Attempt:(1)\n",
      "Rate limit error: Rate limit reached for 10KTPM-200RPM in organization org-Y2tKyCPFO6tIjtCtOVZ7c9tr on tokens per min. Limit: 10000 / min. Please try again in 6ms. Contact us through our help center at help.openai.com if you continue to have issues.. Retrying Question No. 8 Attempt:(1)\n",
      "Rate limit error: Rate limit reached for 10KTPM-200RPM in organization org-Y2tKyCPFO6tIjtCtOVZ7c9tr on tokens per min. Limit: 10000 / min. Please try again in 6ms. Contact us through our help center at help.openai.com if you continue to have issues.. Retrying Question No. 8 Attempt:(2)\n",
      "Rate limit error: Rate limit reached for 10KTPM-200RPM in organization org-Y2tKyCPFO6tIjtCtOVZ7c9tr on tokens per min. Limit: 10000 / min. Please try again in 6ms. Contact us through our help center at help.openai.com if you continue to have issues.. Retrying Question No. 0 Attempt:(1)\n",
      "Rate limit error: Rate limit reached for 10KTPM-200RPM in organization org-Y2tKyCPFO6tIjtCtOVZ7c9tr on tokens per min. Limit: 10000 / min. Please try again in 6ms. Contact us through our help center at help.openai.com if you continue to have issues.. Retrying Question No. 2 Attempt:(1)\n",
      "Rate limit error: Rate limit reached for 10KTPM-200RPM in organization org-Y2tKyCPFO6tIjtCtOVZ7c9tr on tokens per min. Limit: 10000 / min. Please try again in 6ms. Contact us through our help center at help.openai.com if you continue to have issues.. Retrying Question No. 3 Attempt:(1)\n",
      "Rate limit error: Rate limit reached for 10KTPM-200RPM in organization org-Y2tKyCPFO6tIjtCtOVZ7c9tr on tokens per min. Limit: 10000 / min. Please try again in 6ms. Contact us through our help center at help.openai.com if you continue to have issues.. Retrying Question No. 4 Attempt:(1)\n",
      "Rate limit error: Rate limit reached for 10KTPM-200RPM in organization org-Y2tKyCPFO6tIjtCtOVZ7c9tr on tokens per min. Limit: 10000 / min. Please try again in 6ms. Contact us through our help center at help.openai.com if you continue to have issues.. Retrying Question No. 5 Attempt:(1)\n",
      "Rate limit error: Rate limit reached for 10KTPM-200RPM in organization org-Y2tKyCPFO6tIjtCtOVZ7c9tr on tokens per min. Limit: 10000 / min. Please try again in 6ms. Contact us through our help center at help.openai.com if you continue to have issues.. Retrying Question No. 6 Attempt:(1)\n",
      "Rate limit error: Rate limit reached for 10KTPM-200RPM in organization org-Y2tKyCPFO6tIjtCtOVZ7c9tr on tokens per min. Limit: 10000 / min. Please try again in 6ms. Contact us through our help center at help.openai.com if you continue to have issues.. Retrying Question No. 7 Attempt:(1)\n",
      "Rate limit error: Rate limit reached for 10KTPM-200RPM in organization org-Y2tKyCPFO6tIjtCtOVZ7c9tr on tokens per min. Limit: 10000 / min. Please try again in 6ms. Contact us through our help center at help.openai.com if you continue to have issues.. Retrying Question No. 8 Attempt:(1)\n"
     ]
    },
    {
     "name": "stderr",
     "output_type": "stream",
     "text": [
      " 36%|███▌      | 38/107 [4:15:43<7:17:41, 380.60s/it]"
     ]
    },
    {
     "name": "stdout",
     "output_type": "stream",
     "text": [
      "Rate limit error: Rate limit reached for 10KTPM-200RPM in organization org-Y2tKyCPFO6tIjtCtOVZ7c9tr on tokens per min. Limit: 10000 / min. Please try again in 6ms. Contact us through our help center at help.openai.com if you continue to have issues.. Retrying Question No. 0 Attempt:(1)\n",
      "Rate limit error: Rate limit reached for 10KTPM-200RPM in organization org-Y2tKyCPFO6tIjtCtOVZ7c9tr on tokens per min. Limit: 10000 / min. Please try again in 6ms. Contact us through our help center at help.openai.com if you continue to have issues.. Retrying Question No. 2 Attempt:(1)\n",
      "Rate limit error: Rate limit reached for 10KTPM-200RPM in organization org-Y2tKyCPFO6tIjtCtOVZ7c9tr on tokens per min. Limit: 10000 / min. Please try again in 6ms. Contact us through our help center at help.openai.com if you continue to have issues.. Retrying Question No. 3 Attempt:(1)\n",
      "Rate limit error: Rate limit reached for 10KTPM-200RPM in organization org-Y2tKyCPFO6tIjtCtOVZ7c9tr on tokens per min. Limit: 10000 / min. Please try again in 6ms. Contact us through our help center at help.openai.com if you continue to have issues.. Retrying Question No. 5 Attempt:(1)\n",
      "Rate limit error: Rate limit reached for 10KTPM-200RPM in organization org-Y2tKyCPFO6tIjtCtOVZ7c9tr on tokens per min. Limit: 10000 / min. Please try again in 6ms. Contact us through our help center at help.openai.com if you continue to have issues.. Retrying Question No. 6 Attempt:(1)\n",
      "Rate limit error: Rate limit reached for 10KTPM-200RPM in organization org-Y2tKyCPFO6tIjtCtOVZ7c9tr on tokens per min. Limit: 10000 / min. Please try again in 6ms. Contact us through our help center at help.openai.com if you continue to have issues.. Retrying Question No. 7 Attempt:(1)\n"
     ]
    },
    {
     "name": "stderr",
     "output_type": "stream",
     "text": [
      " 36%|███▋      | 39/107 [4:18:54<6:07:02, 323.87s/it]"
     ]
    },
    {
     "name": "stdout",
     "output_type": "stream",
     "text": [
      "Rate limit error: Rate limit reached for 10KTPM-200RPM in organization org-Y2tKyCPFO6tIjtCtOVZ7c9tr on tokens per min. Limit: 10000 / min. Please try again in 6ms. Contact us through our help center at help.openai.com if you continue to have issues.. Retrying Question No. 0 Attempt:(1)\n",
      "Rate limit error: Rate limit reached for 10KTPM-200RPM in organization org-Y2tKyCPFO6tIjtCtOVZ7c9tr on tokens per min. Limit: 10000 / min. Please try again in 6ms. Contact us through our help center at help.openai.com if you continue to have issues.. Retrying Question No. 1 Attempt:(1)\n",
      "Rate limit error: Rate limit reached for 10KTPM-200RPM in organization org-Y2tKyCPFO6tIjtCtOVZ7c9tr on tokens per min. Limit: 10000 / min. Please try again in 6ms. Contact us through our help center at help.openai.com if you continue to have issues.. Retrying Question No. 3 Attempt:(1)\n",
      "Rate limit error: Rate limit reached for 10KTPM-200RPM in organization org-Y2tKyCPFO6tIjtCtOVZ7c9tr on tokens per min. Limit: 10000 / min. Please try again in 6ms. Contact us through our help center at help.openai.com if you continue to have issues.. Retrying Question No. 4 Attempt:(1)\n",
      "Rate limit error: Rate limit reached for 10KTPM-200RPM in organization org-Y2tKyCPFO6tIjtCtOVZ7c9tr on tokens per min. Limit: 10000 / min. Please try again in 6ms. Contact us through our help center at help.openai.com if you continue to have issues.. Retrying Question No. 6 Attempt:(1)\n",
      "Rate limit error: Rate limit reached for 10KTPM-200RPM in organization org-Y2tKyCPFO6tIjtCtOVZ7c9tr on tokens per min. Limit: 10000 / min. Please try again in 6ms. Contact us through our help center at help.openai.com if you continue to have issues.. Retrying Question No. 7 Attempt:(1)\n"
     ]
    },
    {
     "name": "stderr",
     "output_type": "stream",
     "text": [
      " 37%|███▋      | 40/107 [4:22:06<5:17:25, 284.26s/it]"
     ]
    },
    {
     "name": "stdout",
     "output_type": "stream",
     "text": [
      "Rate limit error: Rate limit reached for 10KTPM-200RPM in organization org-Y2tKyCPFO6tIjtCtOVZ7c9tr on tokens per min. Limit: 10000 / min. Please try again in 6ms. Contact us through our help center at help.openai.com if you continue to have issues.. Retrying Question No. 0 Attempt:(1)\n",
      "Rate limit error: Rate limit reached for 10KTPM-200RPM in organization org-Y2tKyCPFO6tIjtCtOVZ7c9tr on tokens per min. Limit: 10000 / min. Please try again in 6ms. Contact us through our help center at help.openai.com if you continue to have issues.. Retrying Question No. 1 Attempt:(1)\n",
      "Rate limit error: Rate limit reached for 10KTPM-200RPM in organization org-Y2tKyCPFO6tIjtCtOVZ7c9tr on tokens per min. Limit: 10000 / min. Please try again in 6ms. Contact us through our help center at help.openai.com if you continue to have issues.. Retrying Question No. 2 Attempt:(1)\n",
      "Rate limit error: Rate limit reached for 10KTPM-200RPM in organization org-Y2tKyCPFO6tIjtCtOVZ7c9tr on tokens per min. Limit: 10000 / min. Please try again in 6ms. Contact us through our help center at help.openai.com if you continue to have issues.. Retrying Question No. 2 Attempt:(2)\n",
      "Rate limit error: Rate limit reached for 10KTPM-200RPM in organization org-Y2tKyCPFO6tIjtCtOVZ7c9tr on tokens per min. Limit: 10000 / min. Please try again in 6ms. Contact us through our help center at help.openai.com if you continue to have issues.. Retrying Question No. 3 Attempt:(1)\n",
      "Rate limit error: Rate limit reached for 10KTPM-200RPM in organization org-Y2tKyCPFO6tIjtCtOVZ7c9tr on tokens per min. Limit: 10000 / min. Please try again in 6ms. Contact us through our help center at help.openai.com if you continue to have issues.. Retrying Question No. 4 Attempt:(1)\n",
      "Rate limit error: Rate limit reached for 10KTPM-200RPM in organization org-Y2tKyCPFO6tIjtCtOVZ7c9tr on tokens per min. Limit: 10000 / min. Please try again in 6ms. Contact us through our help center at help.openai.com if you continue to have issues.. Retrying Question No. 5 Attempt:(1)\n",
      "Rate limit error: Rate limit reached for 10KTPM-200RPM in organization org-Y2tKyCPFO6tIjtCtOVZ7c9tr on tokens per min. Limit: 10000 / min. Please try again in 6ms. Contact us through our help center at help.openai.com if you continue to have issues.. Retrying Question No. 6 Attempt:(1)\n",
      "Rate limit error: Rate limit reached for 10KTPM-200RPM in organization org-Y2tKyCPFO6tIjtCtOVZ7c9tr on tokens per min. Limit: 10000 / min. Please try again in 6ms. Contact us through our help center at help.openai.com if you continue to have issues.. Retrying Question No. 7 Attempt:(1)\n",
      "Rate limit error: Rate limit reached for 10KTPM-200RPM in organization org-Y2tKyCPFO6tIjtCtOVZ7c9tr on tokens per min. Limit: 10000 / min. Please try again in 6ms. Contact us through our help center at help.openai.com if you continue to have issues.. Retrying Question No. 8 Attempt:(1)\n",
      "Rate limit error: Rate limit reached for 10KTPM-200RPM in organization org-Y2tKyCPFO6tIjtCtOVZ7c9tr on tokens per min. Limit: 10000 / min. Please try again in 6ms. Contact us through our help center at help.openai.com if you continue to have issues.. Retrying Question No. 0 Attempt:(1)\n",
      "Rate limit error: Rate limit reached for 10KTPM-200RPM in organization org-Y2tKyCPFO6tIjtCtOVZ7c9tr on tokens per min. Limit: 10000 / min. Please try again in 6ms. Contact us through our help center at help.openai.com if you continue to have issues.. Retrying Question No. 1 Attempt:(1)\n",
      "Rate limit error: Rate limit reached for 10KTPM-200RPM in organization org-Y2tKyCPFO6tIjtCtOVZ7c9tr on tokens per min. Limit: 10000 / min. Please try again in 6ms. Contact us through our help center at help.openai.com if you continue to have issues.. Retrying Question No. 2 Attempt:(1)\n",
      "Rate limit error: Rate limit reached for 10KTPM-200RPM in organization org-Y2tKyCPFO6tIjtCtOVZ7c9tr on tokens per min. Limit: 10000 / min. Please try again in 6ms. Contact us through our help center at help.openai.com if you continue to have issues.. Retrying Question No. 3 Attempt:(1)\n",
      "Rate limit error: Rate limit reached for 10KTPM-200RPM in organization org-Y2tKyCPFO6tIjtCtOVZ7c9tr on tokens per min. Limit: 10000 / min. Please try again in 6ms. Contact us through our help center at help.openai.com if you continue to have issues.. Retrying Question No. 4 Attempt:(1)\n",
      "Rate limit error: Rate limit reached for 10KTPM-200RPM in organization org-Y2tKyCPFO6tIjtCtOVZ7c9tr on tokens per min. Limit: 10000 / min. Please try again in 6ms. Contact us through our help center at help.openai.com if you continue to have issues.. Retrying Question No. 6 Attempt:(1)\n",
      "Rate limit error: Rate limit reached for 10KTPM-200RPM in organization org-Y2tKyCPFO6tIjtCtOVZ7c9tr on tokens per min. Limit: 10000 / min. Please try again in 6ms. Contact us through our help center at help.openai.com if you continue to have issues.. Retrying Question No. 7 Attempt:(1)\n",
      "Rate limit error: Rate limit reached for 10KTPM-200RPM in organization org-Y2tKyCPFO6tIjtCtOVZ7c9tr on tokens per min. Limit: 10000 / min. Please try again in 6ms. Contact us through our help center at help.openai.com if you continue to have issues.. Retrying Question No. 8 Attempt:(1)\n"
     ]
    },
    {
     "name": "stderr",
     "output_type": "stream",
     "text": [
      " 38%|███▊      | 41/107 [4:31:35<6:46:27, 369.51s/it]"
     ]
    },
    {
     "name": "stdout",
     "output_type": "stream",
     "text": [
      "Rate limit error: Rate limit reached for 10KTPM-200RPM in organization org-Y2tKyCPFO6tIjtCtOVZ7c9tr on tokens per min. Limit: 10000 / min. Please try again in 6ms. Contact us through our help center at help.openai.com if you continue to have issues.. Retrying Question No. 0 Attempt:(1)\n",
      "Rate limit error: Rate limit reached for 10KTPM-200RPM in organization org-Y2tKyCPFO6tIjtCtOVZ7c9tr on tokens per min. Limit: 10000 / min. Please try again in 6ms. Contact us through our help center at help.openai.com if you continue to have issues.. Retrying Question No. 1 Attempt:(1)\n",
      "Rate limit error: Rate limit reached for 10KTPM-200RPM in organization org-Y2tKyCPFO6tIjtCtOVZ7c9tr on tokens per min. Limit: 10000 / min. Please try again in 6ms. Contact us through our help center at help.openai.com if you continue to have issues.. Retrying Question No. 2 Attempt:(1)\n",
      "Rate limit error: Rate limit reached for 10KTPM-200RPM in organization org-Y2tKyCPFO6tIjtCtOVZ7c9tr on tokens per min. Limit: 10000 / min. Please try again in 6ms. Contact us through our help center at help.openai.com if you continue to have issues.. Retrying Question No. 3 Attempt:(1)\n",
      "Rate limit error: Rate limit reached for 10KTPM-200RPM in organization org-Y2tKyCPFO6tIjtCtOVZ7c9tr on tokens per min. Limit: 10000 / min. Please try again in 6ms. Contact us through our help center at help.openai.com if you continue to have issues.. Retrying Question No. 4 Attempt:(1)\n",
      "Rate limit error: Rate limit reached for 10KTPM-200RPM in organization org-Y2tKyCPFO6tIjtCtOVZ7c9tr on tokens per min. Limit: 10000 / min. Please try again in 6ms. Contact us through our help center at help.openai.com if you continue to have issues.. Retrying Question No. 5 Attempt:(1)\n",
      "Rate limit error: Rate limit reached for 10KTPM-200RPM in organization org-Y2tKyCPFO6tIjtCtOVZ7c9tr on tokens per min. Limit: 10000 / min. Please try again in 6ms. Contact us through our help center at help.openai.com if you continue to have issues.. Retrying Question No. 6 Attempt:(1)\n",
      "Rate limit error: Rate limit reached for 10KTPM-200RPM in organization org-Y2tKyCPFO6tIjtCtOVZ7c9tr on tokens per min. Limit: 10000 / min. Please try again in 6ms. Contact us through our help center at help.openai.com if you continue to have issues.. Retrying Question No. 7 Attempt:(1)\n",
      "Rate limit error: Rate limit reached for 10KTPM-200RPM in organization org-Y2tKyCPFO6tIjtCtOVZ7c9tr on tokens per min. Limit: 10000 / min. Please try again in 6ms. Contact us through our help center at help.openai.com if you continue to have issues.. Retrying Question No. 8 Attempt:(1)\n"
     ]
    },
    {
     "name": "stderr",
     "output_type": "stream",
     "text": [
      " 39%|███▉      | 42/107 [4:36:17<6:11:50, 343.24s/it]"
     ]
    },
    {
     "name": "stdout",
     "output_type": "stream",
     "text": [
      "Rate limit error: Rate limit reached for 10KTPM-200RPM in organization org-Y2tKyCPFO6tIjtCtOVZ7c9tr on tokens per min. Limit: 10000 / min. Please try again in 6ms. Contact us through our help center at help.openai.com if you continue to have issues.. Retrying Question No. 0 Attempt:(1)\n",
      "Rate limit error: Rate limit reached for 10KTPM-200RPM in organization org-Y2tKyCPFO6tIjtCtOVZ7c9tr on tokens per min. Limit: 10000 / min. Please try again in 6ms. Contact us through our help center at help.openai.com if you continue to have issues.. Retrying Question No. 0 Attempt:(2)\n",
      "Rate limit error: Rate limit reached for 10KTPM-200RPM in organization org-Y2tKyCPFO6tIjtCtOVZ7c9tr on tokens per min. Limit: 10000 / min. Please try again in 6ms. Contact us through our help center at help.openai.com if you continue to have issues.. Retrying Question No. 1 Attempt:(1)\n",
      "Rate limit error: Rate limit reached for 10KTPM-200RPM in organization org-Y2tKyCPFO6tIjtCtOVZ7c9tr on tokens per min. Limit: 10000 / min. Please try again in 6ms. Contact us through our help center at help.openai.com if you continue to have issues.. Retrying Question No. 2 Attempt:(1)\n",
      "Rate limit error: Rate limit reached for 10KTPM-200RPM in organization org-Y2tKyCPFO6tIjtCtOVZ7c9tr on tokens per min. Limit: 10000 / min. Please try again in 6ms. Contact us through our help center at help.openai.com if you continue to have issues.. Retrying Question No. 3 Attempt:(1)\n",
      "Rate limit error: Rate limit reached for 10KTPM-200RPM in organization org-Y2tKyCPFO6tIjtCtOVZ7c9tr on tokens per min. Limit: 10000 / min. Please try again in 6ms. Contact us through our help center at help.openai.com if you continue to have issues.. Retrying Question No. 4 Attempt:(1)\n",
      "Rate limit error: Rate limit reached for 10KTPM-200RPM in organization org-Y2tKyCPFO6tIjtCtOVZ7c9tr on tokens per min. Limit: 10000 / min. Please try again in 6ms. Contact us through our help center at help.openai.com if you continue to have issues.. Retrying Question No. 5 Attempt:(1)\n",
      "Rate limit error: Rate limit reached for 10KTPM-200RPM in organization org-Y2tKyCPFO6tIjtCtOVZ7c9tr on tokens per min. Limit: 10000 / min. Please try again in 6ms. Contact us through our help center at help.openai.com if you continue to have issues.. Retrying Question No. 6 Attempt:(1)\n",
      "Rate limit error: Rate limit reached for 10KTPM-200RPM in organization org-Y2tKyCPFO6tIjtCtOVZ7c9tr on tokens per min. Limit: 10000 / min. Please try again in 6ms. Contact us through our help center at help.openai.com if you continue to have issues.. Retrying Question No. 6 Attempt:(2)\n",
      "Rate limit error: Rate limit reached for 10KTPM-200RPM in organization org-Y2tKyCPFO6tIjtCtOVZ7c9tr on tokens per min. Limit: 10000 / min. Please try again in 6ms. Contact us through our help center at help.openai.com if you continue to have issues.. Retrying Question No. 7 Attempt:(1)\n",
      "Rate limit error: Rate limit reached for 10KTPM-200RPM in organization org-Y2tKyCPFO6tIjtCtOVZ7c9tr on tokens per min. Limit: 10000 / min. Please try again in 6ms. Contact us through our help center at help.openai.com if you continue to have issues.. Retrying Question No. 8 Attempt:(1)\n",
      "Rate limit error: Rate limit reached for 10KTPM-200RPM in organization org-Y2tKyCPFO6tIjtCtOVZ7c9tr on tokens per min. Limit: 10000 / min. Please try again in 6ms. Contact us through our help center at help.openai.com if you continue to have issues.. Retrying Question No. 0 Attempt:(1)\n",
      "Rate limit error: Rate limit reached for 10KTPM-200RPM in organization org-Y2tKyCPFO6tIjtCtOVZ7c9tr on tokens per min. Limit: 10000 / min. Please try again in 6ms. Contact us through our help center at help.openai.com if you continue to have issues.. Retrying Question No. 1 Attempt:(1)\n",
      "Rate limit error: Rate limit reached for 10KTPM-200RPM in organization org-Y2tKyCPFO6tIjtCtOVZ7c9tr on tokens per min. Limit: 10000 / min. Please try again in 6ms. Contact us through our help center at help.openai.com if you continue to have issues.. Retrying Question No. 2 Attempt:(1)\n",
      "Rate limit error: Rate limit reached for 10KTPM-200RPM in organization org-Y2tKyCPFO6tIjtCtOVZ7c9tr on tokens per min. Limit: 10000 / min. Please try again in 6ms. Contact us through our help center at help.openai.com if you continue to have issues.. Retrying Question No. 4 Attempt:(1)\n",
      "Rate limit error: Rate limit reached for 10KTPM-200RPM in organization org-Y2tKyCPFO6tIjtCtOVZ7c9tr on tokens per min. Limit: 10000 / min. Please try again in 6ms. Contact us through our help center at help.openai.com if you continue to have issues.. Retrying Question No. 5 Attempt:(1)\n",
      "Rate limit error: Rate limit reached for 10KTPM-200RPM in organization org-Y2tKyCPFO6tIjtCtOVZ7c9tr on tokens per min. Limit: 10000 / min. Please try again in 6ms. Contact us through our help center at help.openai.com if you continue to have issues.. Retrying Question No. 6 Attempt:(1)\n",
      "Rate limit error: Rate limit reached for 10KTPM-200RPM in organization org-Y2tKyCPFO6tIjtCtOVZ7c9tr on tokens per min. Limit: 10000 / min. Please try again in 6ms. Contact us through our help center at help.openai.com if you continue to have issues.. Retrying Question No. 7 Attempt:(1)\n"
     ]
    },
    {
     "name": "stderr",
     "output_type": "stream",
     "text": [
      " 40%|████      | 43/107 [4:45:44<7:17:49, 410.46s/it]"
     ]
    },
    {
     "name": "stdout",
     "output_type": "stream",
     "text": [
      "Rate limit error: Rate limit reached for 10KTPM-200RPM in organization org-Y2tKyCPFO6tIjtCtOVZ7c9tr on tokens per min. Limit: 10000 / min. Please try again in 6ms. Contact us through our help center at help.openai.com if you continue to have issues.. Retrying Question No. 0 Attempt:(1)\n",
      "Rate limit error: Rate limit reached for 10KTPM-200RPM in organization org-Y2tKyCPFO6tIjtCtOVZ7c9tr on tokens per min. Limit: 10000 / min. Please try again in 6ms. Contact us through our help center at help.openai.com if you continue to have issues.. Retrying Question No. 0 Attempt:(2)\n",
      "Rate limit error: Rate limit reached for 10KTPM-200RPM in organization org-Y2tKyCPFO6tIjtCtOVZ7c9tr on tokens per min. Limit: 10000 / min. Please try again in 6ms. Contact us through our help center at help.openai.com if you continue to have issues.. Retrying Question No. 1 Attempt:(1)\n",
      "Rate limit error: Rate limit reached for 10KTPM-200RPM in organization org-Y2tKyCPFO6tIjtCtOVZ7c9tr on tokens per min. Limit: 10000 / min. Please try again in 6ms. Contact us through our help center at help.openai.com if you continue to have issues.. Retrying Question No. 2 Attempt:(1)\n",
      "Rate limit error: Rate limit reached for 10KTPM-200RPM in organization org-Y2tKyCPFO6tIjtCtOVZ7c9tr on tokens per min. Limit: 10000 / min. Please try again in 6ms. Contact us through our help center at help.openai.com if you continue to have issues.. Retrying Question No. 3 Attempt:(1)\n",
      "Rate limit error: Rate limit reached for 10KTPM-200RPM in organization org-Y2tKyCPFO6tIjtCtOVZ7c9tr on tokens per min. Limit: 10000 / min. Please try again in 6ms. Contact us through our help center at help.openai.com if you continue to have issues.. Retrying Question No. 4 Attempt:(1)\n",
      "Rate limit error: Rate limit reached for 10KTPM-200RPM in organization org-Y2tKyCPFO6tIjtCtOVZ7c9tr on tokens per min. Limit: 10000 / min. Please try again in 6ms. Contact us through our help center at help.openai.com if you continue to have issues.. Retrying Question No. 5 Attempt:(1)\n",
      "Rate limit error: Rate limit reached for 10KTPM-200RPM in organization org-Y2tKyCPFO6tIjtCtOVZ7c9tr on tokens per min. Limit: 10000 / min. Please try again in 6ms. Contact us through our help center at help.openai.com if you continue to have issues.. Retrying Question No. 6 Attempt:(1)\n",
      "Rate limit error: Rate limit reached for 10KTPM-200RPM in organization org-Y2tKyCPFO6tIjtCtOVZ7c9tr on tokens per min. Limit: 10000 / min. Please try again in 6ms. Contact us through our help center at help.openai.com if you continue to have issues.. Retrying Question No. 6 Attempt:(2)\n",
      "Rate limit error: Rate limit reached for 10KTPM-200RPM in organization org-Y2tKyCPFO6tIjtCtOVZ7c9tr on tokens per min. Limit: 10000 / min. Please try again in 6ms. Contact us through our help center at help.openai.com if you continue to have issues.. Retrying Question No. 7 Attempt:(1)\n",
      "Rate limit error: Rate limit reached for 10KTPM-200RPM in organization org-Y2tKyCPFO6tIjtCtOVZ7c9tr on tokens per min. Limit: 10000 / min. Please try again in 6ms. Contact us through our help center at help.openai.com if you continue to have issues.. Retrying Question No. 8 Attempt:(1)\n",
      "Rate limit error: Rate limit reached for 10KTPM-200RPM in organization org-Y2tKyCPFO6tIjtCtOVZ7c9tr on tokens per min. Limit: 10000 / min. Please try again in 6ms. Contact us through our help center at help.openai.com if you continue to have issues.. Retrying Question No. 3 Attempt:(1)\n"
     ]
    },
    {
     "name": "stderr",
     "output_type": "stream",
     "text": [
      " 41%|████      | 44/107 [4:52:03<7:01:06, 401.06s/it]"
     ]
    },
    {
     "name": "stdout",
     "output_type": "stream",
     "text": [
      "Rate limit error: Rate limit reached for 10KTPM-200RPM in organization org-Y2tKyCPFO6tIjtCtOVZ7c9tr on tokens per min. Limit: 10000 / min. Please try again in 6ms. Contact us through our help center at help.openai.com if you continue to have issues.. Retrying Question No. 0 Attempt:(1)\n",
      "Rate limit error: Rate limit reached for 10KTPM-200RPM in organization org-Y2tKyCPFO6tIjtCtOVZ7c9tr on tokens per min. Limit: 10000 / min. Please try again in 6ms. Contact us through our help center at help.openai.com if you continue to have issues.. Retrying Question No. 1 Attempt:(1)\n",
      "Rate limit error: Rate limit reached for 10KTPM-200RPM in organization org-Y2tKyCPFO6tIjtCtOVZ7c9tr on tokens per min. Limit: 10000 / min. Please try again in 6ms. Contact us through our help center at help.openai.com if you continue to have issues.. Retrying Question No. 2 Attempt:(1)\n",
      "Rate limit error: Rate limit reached for 10KTPM-200RPM in organization org-Y2tKyCPFO6tIjtCtOVZ7c9tr on tokens per min. Limit: 10000 / min. Please try again in 6ms. Contact us through our help center at help.openai.com if you continue to have issues.. Retrying Question No. 4 Attempt:(1)\n",
      "Rate limit error: Rate limit reached for 10KTPM-200RPM in organization org-Y2tKyCPFO6tIjtCtOVZ7c9tr on tokens per min. Limit: 10000 / min. Please try again in 6ms. Contact us through our help center at help.openai.com if you continue to have issues.. Retrying Question No. 5 Attempt:(1)\n",
      "Rate limit error: Rate limit reached for 10KTPM-200RPM in organization org-Y2tKyCPFO6tIjtCtOVZ7c9tr on tokens per min. Limit: 10000 / min. Please try again in 6ms. Contact us through our help center at help.openai.com if you continue to have issues.. Retrying Question No. 6 Attempt:(1)\n",
      "Rate limit error: Rate limit reached for 10KTPM-200RPM in organization org-Y2tKyCPFO6tIjtCtOVZ7c9tr on tokens per min. Limit: 10000 / min. Please try again in 6ms. Contact us through our help center at help.openai.com if you continue to have issues.. Retrying Question No. 7 Attempt:(1)\n"
     ]
    },
    {
     "name": "stderr",
     "output_type": "stream",
     "text": [
      " 42%|████▏     | 45/107 [4:55:45<5:59:00, 347.43s/it]"
     ]
    },
    {
     "name": "stdout",
     "output_type": "stream",
     "text": [
      "Rate limit error: Rate limit reached for 10KTPM-200RPM in organization org-Y2tKyCPFO6tIjtCtOVZ7c9tr on tokens per min. Limit: 10000 / min. Please try again in 6ms. Contact us through our help center at help.openai.com if you continue to have issues.. Retrying Question No. 0 Attempt:(1)\n",
      "Rate limit error: Rate limit reached for 10KTPM-200RPM in organization org-Y2tKyCPFO6tIjtCtOVZ7c9tr on tokens per min. Limit: 10000 / min. Please try again in 6ms. Contact us through our help center at help.openai.com if you continue to have issues.. Retrying Question No. 0 Attempt:(2)\n",
      "Rate limit error: Rate limit reached for 10KTPM-200RPM in organization org-Y2tKyCPFO6tIjtCtOVZ7c9tr on tokens per min. Limit: 10000 / min. Please try again in 6ms. Contact us through our help center at help.openai.com if you continue to have issues.. Retrying Question No. 1 Attempt:(1)\n",
      "Rate limit error: Rate limit reached for 10KTPM-200RPM in organization org-Y2tKyCPFO6tIjtCtOVZ7c9tr on tokens per min. Limit: 10000 / min. Please try again in 6ms. Contact us through our help center at help.openai.com if you continue to have issues.. Retrying Question No. 2 Attempt:(1)\n",
      "Rate limit error: Rate limit reached for 10KTPM-200RPM in organization org-Y2tKyCPFO6tIjtCtOVZ7c9tr on tokens per min. Limit: 10000 / min. Please try again in 6ms. Contact us through our help center at help.openai.com if you continue to have issues.. Retrying Question No. 3 Attempt:(1)\n",
      "Rate limit error: Rate limit reached for 10KTPM-200RPM in organization org-Y2tKyCPFO6tIjtCtOVZ7c9tr on tokens per min. Limit: 10000 / min. Please try again in 6ms. Contact us through our help center at help.openai.com if you continue to have issues.. Retrying Question No. 4 Attempt:(1)\n",
      "Rate limit error: Rate limit reached for 10KTPM-200RPM in organization org-Y2tKyCPFO6tIjtCtOVZ7c9tr on tokens per min. Limit: 10000 / min. Please try again in 6ms. Contact us through our help center at help.openai.com if you continue to have issues.. Retrying Question No. 5 Attempt:(1)\n",
      "Rate limit error: Rate limit reached for 10KTPM-200RPM in organization org-Y2tKyCPFO6tIjtCtOVZ7c9tr on tokens per min. Limit: 10000 / min. Please try again in 6ms. Contact us through our help center at help.openai.com if you continue to have issues.. Retrying Question No. 6 Attempt:(1)\n",
      "Rate limit error: Rate limit reached for 10KTPM-200RPM in organization org-Y2tKyCPFO6tIjtCtOVZ7c9tr on tokens per min. Limit: 10000 / min. Please try again in 6ms. Contact us through our help center at help.openai.com if you continue to have issues.. Retrying Question No. 7 Attempt:(1)\n",
      "Rate limit error: Rate limit reached for 10KTPM-200RPM in organization org-Y2tKyCPFO6tIjtCtOVZ7c9tr on tokens per min. Limit: 10000 / min. Please try again in 6ms. Contact us through our help center at help.openai.com if you continue to have issues.. Retrying Question No. 7 Attempt:(2)\n",
      "Rate limit error: Rate limit reached for 10KTPM-200RPM in organization org-Y2tKyCPFO6tIjtCtOVZ7c9tr on tokens per min. Limit: 10000 / min. Please try again in 6ms. Contact us through our help center at help.openai.com if you continue to have issues.. Retrying Question No. 8 Attempt:(1)\n",
      "Rate limit error: Rate limit reached for 10KTPM-200RPM in organization org-Y2tKyCPFO6tIjtCtOVZ7c9tr on tokens per min. Limit: 10000 / min. Please try again in 6ms. Contact us through our help center at help.openai.com if you continue to have issues.. Retrying Question No. 1 Attempt:(1)\n",
      "Rate limit error: Rate limit reached for 10KTPM-200RPM in organization org-Y2tKyCPFO6tIjtCtOVZ7c9tr on tokens per min. Limit: 10000 / min. Please try again in 6ms. Contact us through our help center at help.openai.com if you continue to have issues.. Retrying Question No. 3 Attempt:(1)\n",
      "Rate limit error: Rate limit reached for 10KTPM-200RPM in organization org-Y2tKyCPFO6tIjtCtOVZ7c9tr on tokens per min. Limit: 10000 / min. Please try again in 6ms. Contact us through our help center at help.openai.com if you continue to have issues.. Retrying Question No. 6 Attempt:(1)\n",
      "Rate limit error: Rate limit reached for 10KTPM-200RPM in organization org-Y2tKyCPFO6tIjtCtOVZ7c9tr on tokens per min. Limit: 10000 / min. Please try again in 6ms. Contact us through our help center at help.openai.com if you continue to have issues.. Retrying Question No. 8 Attempt:(1)\n"
     ]
    },
    {
     "name": "stderr",
     "output_type": "stream",
     "text": [
      " 43%|████▎     | 46/107 [5:03:39<6:31:50, 385.41s/it]"
     ]
    },
    {
     "name": "stdout",
     "output_type": "stream",
     "text": [
      "Rate limit error: Rate limit reached for 10KTPM-200RPM in organization org-Y2tKyCPFO6tIjtCtOVZ7c9tr on tokens per min. Limit: 10000 / min. Please try again in 6ms. Contact us through our help center at help.openai.com if you continue to have issues.. Retrying Question No. 0 Attempt:(1)\n",
      "Rate limit error: Rate limit reached for 10KTPM-200RPM in organization org-Y2tKyCPFO6tIjtCtOVZ7c9tr on tokens per min. Limit: 10000 / min. Please try again in 6ms. Contact us through our help center at help.openai.com if you continue to have issues.. Retrying Question No. 1 Attempt:(1)\n",
      "Rate limit error: Rate limit reached for 10KTPM-200RPM in organization org-Y2tKyCPFO6tIjtCtOVZ7c9tr on tokens per min. Limit: 10000 / min. Please try again in 6ms. Contact us through our help center at help.openai.com if you continue to have issues.. Retrying Question No. 2 Attempt:(1)\n",
      "Rate limit error: Rate limit reached for 10KTPM-200RPM in organization org-Y2tKyCPFO6tIjtCtOVZ7c9tr on tokens per min. Limit: 10000 / min. Please try again in 6ms. Contact us through our help center at help.openai.com if you continue to have issues.. Retrying Question No. 3 Attempt:(1)\n",
      "Rate limit error: Rate limit reached for 10KTPM-200RPM in organization org-Y2tKyCPFO6tIjtCtOVZ7c9tr on tokens per min. Limit: 10000 / min. Please try again in 6ms. Contact us through our help center at help.openai.com if you continue to have issues.. Retrying Question No. 4 Attempt:(1)\n",
      "Rate limit error: Rate limit reached for 10KTPM-200RPM in organization org-Y2tKyCPFO6tIjtCtOVZ7c9tr on tokens per min. Limit: 10000 / min. Please try again in 6ms. Contact us through our help center at help.openai.com if you continue to have issues.. Retrying Question No. 5 Attempt:(1)\n",
      "Rate limit error: Rate limit reached for 10KTPM-200RPM in organization org-Y2tKyCPFO6tIjtCtOVZ7c9tr on tokens per min. Limit: 10000 / min. Please try again in 6ms. Contact us through our help center at help.openai.com if you continue to have issues.. Retrying Question No. 5 Attempt:(2)\n",
      "Rate limit error: Rate limit reached for 10KTPM-200RPM in organization org-Y2tKyCPFO6tIjtCtOVZ7c9tr on tokens per min. Limit: 10000 / min. Please try again in 6ms. Contact us through our help center at help.openai.com if you continue to have issues.. Retrying Question No. 6 Attempt:(1)\n",
      "Rate limit error: Rate limit reached for 10KTPM-200RPM in organization org-Y2tKyCPFO6tIjtCtOVZ7c9tr on tokens per min. Limit: 10000 / min. Please try again in 6ms. Contact us through our help center at help.openai.com if you continue to have issues.. Retrying Question No. 7 Attempt:(1)\n",
      "Rate limit error: Rate limit reached for 10KTPM-200RPM in organization org-Y2tKyCPFO6tIjtCtOVZ7c9tr on tokens per min. Limit: 10000 / min. Please try again in 6ms. Contact us through our help center at help.openai.com if you continue to have issues.. Retrying Question No. 8 Attempt:(1)\n",
      "Rate limit error: Rate limit reached for 10KTPM-200RPM in organization org-Y2tKyCPFO6tIjtCtOVZ7c9tr on tokens per min. Limit: 10000 / min. Please try again in 6ms. Contact us through our help center at help.openai.com if you continue to have issues.. Retrying Question No. 0 Attempt:(1)\n",
      "Rate limit error: Rate limit reached for 10KTPM-200RPM in organization org-Y2tKyCPFO6tIjtCtOVZ7c9tr on tokens per min. Limit: 10000 / min. Please try again in 6ms. Contact us through our help center at help.openai.com if you continue to have issues.. Retrying Question No. 1 Attempt:(1)\n",
      "Rate limit error: Rate limit reached for 10KTPM-200RPM in organization org-Y2tKyCPFO6tIjtCtOVZ7c9tr on tokens per min. Limit: 10000 / min. Please try again in 6ms. Contact us through our help center at help.openai.com if you continue to have issues.. Retrying Question No. 2 Attempt:(1)\n",
      "Rate limit error: Rate limit reached for 10KTPM-200RPM in organization org-Y2tKyCPFO6tIjtCtOVZ7c9tr on tokens per min. Limit: 10000 / min. Please try again in 6ms. Contact us through our help center at help.openai.com if you continue to have issues.. Retrying Question No. 3 Attempt:(1)\n",
      "Rate limit error: Rate limit reached for 10KTPM-200RPM in organization org-Y2tKyCPFO6tIjtCtOVZ7c9tr on tokens per min. Limit: 10000 / min. Please try again in 6ms. Contact us through our help center at help.openai.com if you continue to have issues.. Retrying Question No. 4 Attempt:(1)\n",
      "Rate limit error: Rate limit reached for 10KTPM-200RPM in organization org-Y2tKyCPFO6tIjtCtOVZ7c9tr on tokens per min. Limit: 10000 / min. Please try again in 6ms. Contact us through our help center at help.openai.com if you continue to have issues.. Retrying Question No. 5 Attempt:(1)\n",
      "Rate limit error: Rate limit reached for 10KTPM-200RPM in organization org-Y2tKyCPFO6tIjtCtOVZ7c9tr on tokens per min. Limit: 10000 / min. Please try again in 6ms. Contact us through our help center at help.openai.com if you continue to have issues.. Retrying Question No. 6 Attempt:(1)\n",
      "Rate limit error: Rate limit reached for 10KTPM-200RPM in organization org-Y2tKyCPFO6tIjtCtOVZ7c9tr on tokens per min. Limit: 10000 / min. Please try again in 6ms. Contact us through our help center at help.openai.com if you continue to have issues.. Retrying Question No. 6 Attempt:(2)\n",
      "Rate limit error: Rate limit reached for 10KTPM-200RPM in organization org-Y2tKyCPFO6tIjtCtOVZ7c9tr on tokens per min. Limit: 10000 / min. Please try again in 6ms. Contact us through our help center at help.openai.com if you continue to have issues.. Retrying Question No. 7 Attempt:(1)\n",
      "Rate limit error: Rate limit reached for 10KTPM-200RPM in organization org-Y2tKyCPFO6tIjtCtOVZ7c9tr on tokens per min. Limit: 10000 / min. Please try again in 6ms. Contact us through our help center at help.openai.com if you continue to have issues.. Retrying Question No. 8 Attempt:(1)\n",
      "Rate limit error: Rate limit reached for 10KTPM-200RPM in organization org-Y2tKyCPFO6tIjtCtOVZ7c9tr on tokens per min. Limit: 10000 / min. Please try again in 6ms. Contact us through our help center at help.openai.com if you continue to have issues.. Retrying Question No. 1 Attempt:(1)\n",
      "Rate limit error: Rate limit reached for 10KTPM-200RPM in organization org-Y2tKyCPFO6tIjtCtOVZ7c9tr on tokens per min. Limit: 10000 / min. Please try again in 6ms. Contact us through our help center at help.openai.com if you continue to have issues.. Retrying Question No. 4 Attempt:(1)\n",
      "Rate limit error: Rate limit reached for 10KTPM-200RPM in organization org-Y2tKyCPFO6tIjtCtOVZ7c9tr on tokens per min. Limit: 10000 / min. Please try again in 6ms. Contact us through our help center at help.openai.com if you continue to have issues.. Retrying Question No. 7 Attempt:(1)\n"
     ]
    },
    {
     "name": "stderr",
     "output_type": "stream",
     "text": [
      " 44%|████▍     | 47/107 [5:15:51<8:09:24, 489.41s/it]"
     ]
    },
    {
     "name": "stdout",
     "output_type": "stream",
     "text": [
      "Rate limit error: Rate limit reached for 10KTPM-200RPM in organization org-Y2tKyCPFO6tIjtCtOVZ7c9tr on tokens per min. Limit: 10000 / min. Please try again in 6ms. Contact us through our help center at help.openai.com if you continue to have issues.. Retrying Question No. 0 Attempt:(1)\n",
      "Rate limit error: Rate limit reached for 10KTPM-200RPM in organization org-Y2tKyCPFO6tIjtCtOVZ7c9tr on tokens per min. Limit: 10000 / min. Please try again in 6ms. Contact us through our help center at help.openai.com if you continue to have issues.. Retrying Question No. 1 Attempt:(1)\n",
      "Rate limit error: Rate limit reached for 10KTPM-200RPM in organization org-Y2tKyCPFO6tIjtCtOVZ7c9tr on tokens per min. Limit: 10000 / min. Please try again in 6ms. Contact us through our help center at help.openai.com if you continue to have issues.. Retrying Question No. 2 Attempt:(1)\n",
      "Rate limit error: Rate limit reached for 10KTPM-200RPM in organization org-Y2tKyCPFO6tIjtCtOVZ7c9tr on tokens per min. Limit: 10000 / min. Please try again in 6ms. Contact us through our help center at help.openai.com if you continue to have issues.. Retrying Question No. 4 Attempt:(1)\n",
      "Rate limit error: Rate limit reached for 10KTPM-200RPM in organization org-Y2tKyCPFO6tIjtCtOVZ7c9tr on tokens per min. Limit: 10000 / min. Please try again in 6ms. Contact us through our help center at help.openai.com if you continue to have issues.. Retrying Question No. 5 Attempt:(1)\n",
      "Rate limit error: Rate limit reached for 10KTPM-200RPM in organization org-Y2tKyCPFO6tIjtCtOVZ7c9tr on tokens per min. Limit: 10000 / min. Please try again in 6ms. Contact us through our help center at help.openai.com if you continue to have issues.. Retrying Question No. 6 Attempt:(1)\n",
      "Rate limit error: Rate limit reached for 10KTPM-200RPM in organization org-Y2tKyCPFO6tIjtCtOVZ7c9tr on tokens per min. Limit: 10000 / min. Please try again in 6ms. Contact us through our help center at help.openai.com if you continue to have issues.. Retrying Question No. 7 Attempt:(1)\n",
      "Rate limit error: Rate limit reached for 10KTPM-200RPM in organization org-Y2tKyCPFO6tIjtCtOVZ7c9tr on tokens per min. Limit: 10000 / min. Please try again in 6ms. Contact us through our help center at help.openai.com if you continue to have issues.. Retrying Question No. 8 Attempt:(1)\n"
     ]
    },
    {
     "name": "stderr",
     "output_type": "stream",
     "text": [
      " 45%|████▍     | 48/107 [5:20:02<6:50:49, 417.78s/it]"
     ]
    },
    {
     "name": "stdout",
     "output_type": "stream",
     "text": [
      "Rate limit error: Rate limit reached for 10KTPM-200RPM in organization org-Y2tKyCPFO6tIjtCtOVZ7c9tr on tokens per min. Limit: 10000 / min. Please try again in 6ms. Contact us through our help center at help.openai.com if you continue to have issues.. Retrying Question No. 0 Attempt:(1)\n",
      "Rate limit error: Rate limit reached for 10KTPM-200RPM in organization org-Y2tKyCPFO6tIjtCtOVZ7c9tr on tokens per min. Limit: 10000 / min. Please try again in 6ms. Contact us through our help center at help.openai.com if you continue to have issues.. Retrying Question No. 1 Attempt:(1)\n",
      "Rate limit error: Rate limit reached for 10KTPM-200RPM in organization org-Y2tKyCPFO6tIjtCtOVZ7c9tr on tokens per min. Limit: 10000 / min. Please try again in 6ms. Contact us through our help center at help.openai.com if you continue to have issues.. Retrying Question No. 2 Attempt:(1)\n",
      "Rate limit error: Rate limit reached for 10KTPM-200RPM in organization org-Y2tKyCPFO6tIjtCtOVZ7c9tr on tokens per min. Limit: 10000 / min. Please try again in 6ms. Contact us through our help center at help.openai.com if you continue to have issues.. Retrying Question No. 3 Attempt:(1)\n",
      "Rate limit error: Rate limit reached for 10KTPM-200RPM in organization org-Y2tKyCPFO6tIjtCtOVZ7c9tr on tokens per min. Limit: 10000 / min. Please try again in 6ms. Contact us through our help center at help.openai.com if you continue to have issues.. Retrying Question No. 4 Attempt:(1)\n",
      "Rate limit error: Rate limit reached for 10KTPM-200RPM in organization org-Y2tKyCPFO6tIjtCtOVZ7c9tr on tokens per min. Limit: 10000 / min. Please try again in 6ms. Contact us through our help center at help.openai.com if you continue to have issues.. Retrying Question No. 5 Attempt:(1)\n",
      "Rate limit error: Rate limit reached for 10KTPM-200RPM in organization org-Y2tKyCPFO6tIjtCtOVZ7c9tr on tokens per min. Limit: 10000 / min. Please try again in 6ms. Contact us through our help center at help.openai.com if you continue to have issues.. Retrying Question No. 6 Attempt:(1)\n",
      "Rate limit error: Rate limit reached for 10KTPM-200RPM in organization org-Y2tKyCPFO6tIjtCtOVZ7c9tr on tokens per min. Limit: 10000 / min. Please try again in 6ms. Contact us through our help center at help.openai.com if you continue to have issues.. Retrying Question No. 7 Attempt:(1)\n",
      "Rate limit error: Rate limit reached for 10KTPM-200RPM in organization org-Y2tKyCPFO6tIjtCtOVZ7c9tr on tokens per min. Limit: 10000 / min. Please try again in 6ms. Contact us through our help center at help.openai.com if you continue to have issues.. Retrying Question No. 8 Attempt:(1)\n",
      "Rate limit error: Rate limit reached for 10KTPM-200RPM in organization org-Y2tKyCPFO6tIjtCtOVZ7c9tr on tokens per min. Limit: 10000 / min. Please try again in 6ms. Contact us through our help center at help.openai.com if you continue to have issues.. Retrying Question No. 0 Attempt:(1)\n",
      "Rate limit error: Rate limit reached for 10KTPM-200RPM in organization org-Y2tKyCPFO6tIjtCtOVZ7c9tr on tokens per min. Limit: 10000 / min. Please try again in 6ms. Contact us through our help center at help.openai.com if you continue to have issues.. Retrying Question No. 1 Attempt:(1)\n",
      "Rate limit error: Rate limit reached for 10KTPM-200RPM in organization org-Y2tKyCPFO6tIjtCtOVZ7c9tr on tokens per min. Limit: 10000 / min. Please try again in 6ms. Contact us through our help center at help.openai.com if you continue to have issues.. Retrying Question No. 2 Attempt:(1)\n",
      "Rate limit error: Rate limit reached for 10KTPM-200RPM in organization org-Y2tKyCPFO6tIjtCtOVZ7c9tr on tokens per min. Limit: 10000 / min. Please try again in 6ms. Contact us through our help center at help.openai.com if you continue to have issues.. Retrying Question No. 3 Attempt:(1)\n",
      "Rate limit error: Rate limit reached for 10KTPM-200RPM in organization org-Y2tKyCPFO6tIjtCtOVZ7c9tr on tokens per min. Limit: 10000 / min. Please try again in 6ms. Contact us through our help center at help.openai.com if you continue to have issues.. Retrying Question No. 4 Attempt:(1)\n",
      "Rate limit error: Rate limit reached for 10KTPM-200RPM in organization org-Y2tKyCPFO6tIjtCtOVZ7c9tr on tokens per min. Limit: 10000 / min. Please try again in 6ms. Contact us through our help center at help.openai.com if you continue to have issues.. Retrying Question No. 5 Attempt:(1)\n",
      "Rate limit error: Rate limit reached for 10KTPM-200RPM in organization org-Y2tKyCPFO6tIjtCtOVZ7c9tr on tokens per min. Limit: 10000 / min. Please try again in 6ms. Contact us through our help center at help.openai.com if you continue to have issues.. Retrying Question No. 6 Attempt:(1)\n",
      "Rate limit error: Rate limit reached for 10KTPM-200RPM in organization org-Y2tKyCPFO6tIjtCtOVZ7c9tr on tokens per min. Limit: 10000 / min. Please try again in 6ms. Contact us through our help center at help.openai.com if you continue to have issues.. Retrying Question No. 7 Attempt:(1)\n",
      "Rate limit error: Rate limit reached for 10KTPM-200RPM in organization org-Y2tKyCPFO6tIjtCtOVZ7c9tr on tokens per min. Limit: 10000 / min. Please try again in 6ms. Contact us through our help center at help.openai.com if you continue to have issues.. Retrying Question No. 8 Attempt:(1)\n"
     ]
    },
    {
     "name": "stderr",
     "output_type": "stream",
     "text": [
      " 46%|████▌     | 49/107 [5:29:32<7:27:54, 463.35s/it]"
     ]
    },
    {
     "name": "stdout",
     "output_type": "stream",
     "text": [
      "Rate limit error: Rate limit reached for 10KTPM-200RPM in organization org-Y2tKyCPFO6tIjtCtOVZ7c9tr on tokens per min. Limit: 10000 / min. Please try again in 6ms. Contact us through our help center at help.openai.com if you continue to have issues.. Retrying Question No. 0 Attempt:(1)\n",
      "Rate limit error: Rate limit reached for 10KTPM-200RPM in organization org-Y2tKyCPFO6tIjtCtOVZ7c9tr on tokens per min. Limit: 10000 / min. Please try again in 6ms. Contact us through our help center at help.openai.com if you continue to have issues.. Retrying Question No. 1 Attempt:(1)\n",
      "Rate limit error: Rate limit reached for 10KTPM-200RPM in organization org-Y2tKyCPFO6tIjtCtOVZ7c9tr on tokens per min. Limit: 10000 / min. Please try again in 6ms. Contact us through our help center at help.openai.com if you continue to have issues.. Retrying Question No. 2 Attempt:(1)\n",
      "Rate limit error: Rate limit reached for 10KTPM-200RPM in organization org-Y2tKyCPFO6tIjtCtOVZ7c9tr on tokens per min. Limit: 10000 / min. Please try again in 6ms. Contact us through our help center at help.openai.com if you continue to have issues.. Retrying Question No. 3 Attempt:(1)\n",
      "Rate limit error: Rate limit reached for 10KTPM-200RPM in organization org-Y2tKyCPFO6tIjtCtOVZ7c9tr on tokens per min. Limit: 10000 / min. Please try again in 6ms. Contact us through our help center at help.openai.com if you continue to have issues.. Retrying Question No. 4 Attempt:(1)\n",
      "Rate limit error: Rate limit reached for 10KTPM-200RPM in organization org-Y2tKyCPFO6tIjtCtOVZ7c9tr on tokens per min. Limit: 10000 / min. Please try again in 6ms. Contact us through our help center at help.openai.com if you continue to have issues.. Retrying Question No. 5 Attempt:(1)\n",
      "Rate limit error: Rate limit reached for 10KTPM-200RPM in organization org-Y2tKyCPFO6tIjtCtOVZ7c9tr on tokens per min. Limit: 10000 / min. Please try again in 6ms. Contact us through our help center at help.openai.com if you continue to have issues.. Retrying Question No. 6 Attempt:(1)\n",
      "Rate limit error: Rate limit reached for 10KTPM-200RPM in organization org-Y2tKyCPFO6tIjtCtOVZ7c9tr on tokens per min. Limit: 10000 / min. Please try again in 6ms. Contact us through our help center at help.openai.com if you continue to have issues.. Retrying Question No. 6 Attempt:(2)\n",
      "Rate limit error: Rate limit reached for 10KTPM-200RPM in organization org-Y2tKyCPFO6tIjtCtOVZ7c9tr on tokens per min. Limit: 10000 / min. Please try again in 6ms. Contact us through our help center at help.openai.com if you continue to have issues.. Retrying Question No. 7 Attempt:(1)\n",
      "Rate limit error: Rate limit reached for 10KTPM-200RPM in organization org-Y2tKyCPFO6tIjtCtOVZ7c9tr on tokens per min. Limit: 10000 / min. Please try again in 6ms. Contact us through our help center at help.openai.com if you continue to have issues.. Retrying Question No. 8 Attempt:(1)\n"
     ]
    },
    {
     "name": "stderr",
     "output_type": "stream",
     "text": [
      " 47%|████▋     | 50/107 [5:34:44<6:37:03, 417.95s/it]"
     ]
    },
    {
     "name": "stdout",
     "output_type": "stream",
     "text": [
      "Rate limit error: Rate limit reached for 10KTPM-200RPM in organization org-Y2tKyCPFO6tIjtCtOVZ7c9tr on tokens per min. Limit: 10000 / min. Please try again in 6ms. Contact us through our help center at help.openai.com if you continue to have issues.. Retrying Question No. 0 Attempt:(1)\n",
      "Rate limit error: Rate limit reached for 10KTPM-200RPM in organization org-Y2tKyCPFO6tIjtCtOVZ7c9tr on tokens per min. Limit: 10000 / min. Please try again in 6ms. Contact us through our help center at help.openai.com if you continue to have issues.. Retrying Question No. 1 Attempt:(1)\n",
      "Rate limit error: Rate limit reached for 10KTPM-200RPM in organization org-Y2tKyCPFO6tIjtCtOVZ7c9tr on tokens per min. Limit: 10000 / min. Please try again in 6ms. Contact us through our help center at help.openai.com if you continue to have issues.. Retrying Question No. 2 Attempt:(1)\n",
      "Rate limit error: Rate limit reached for 10KTPM-200RPM in organization org-Y2tKyCPFO6tIjtCtOVZ7c9tr on tokens per min. Limit: 10000 / min. Please try again in 6ms. Contact us through our help center at help.openai.com if you continue to have issues.. Retrying Question No. 3 Attempt:(1)\n",
      "Rate limit error: Rate limit reached for 10KTPM-200RPM in organization org-Y2tKyCPFO6tIjtCtOVZ7c9tr on tokens per min. Limit: 10000 / min. Please try again in 6ms. Contact us through our help center at help.openai.com if you continue to have issues.. Retrying Question No. 4 Attempt:(1)\n",
      "Rate limit error: Rate limit reached for 10KTPM-200RPM in organization org-Y2tKyCPFO6tIjtCtOVZ7c9tr on tokens per min. Limit: 10000 / min. Please try again in 6ms. Contact us through our help center at help.openai.com if you continue to have issues.. Retrying Question No. 5 Attempt:(1)\n",
      "Rate limit error: Rate limit reached for 10KTPM-200RPM in organization org-Y2tKyCPFO6tIjtCtOVZ7c9tr on tokens per min. Limit: 10000 / min. Please try again in 6ms. Contact us through our help center at help.openai.com if you continue to have issues.. Retrying Question No. 6 Attempt:(1)\n",
      "Rate limit error: Rate limit reached for 10KTPM-200RPM in organization org-Y2tKyCPFO6tIjtCtOVZ7c9tr on tokens per min. Limit: 10000 / min. Please try again in 6ms. Contact us through our help center at help.openai.com if you continue to have issues.. Retrying Question No. 6 Attempt:(2)\n",
      "Rate limit error: Rate limit reached for 10KTPM-200RPM in organization org-Y2tKyCPFO6tIjtCtOVZ7c9tr on tokens per min. Limit: 10000 / min. Please try again in 6ms. Contact us through our help center at help.openai.com if you continue to have issues.. Retrying Question No. 7 Attempt:(1)\n",
      "Rate limit error: Rate limit reached for 10KTPM-200RPM in organization org-Y2tKyCPFO6tIjtCtOVZ7c9tr on tokens per min. Limit: 10000 / min. Please try again in 6ms. Contact us through our help center at help.openai.com if you continue to have issues.. Retrying Question No. 8 Attempt:(1)\n",
      "An error occurred: Error communicating with OpenAI: ('Connection aborted.', RemoteDisconnected('Remote end closed connection without response')). Retrying Question No. 8 Attempt:(2)\n",
      "An error occurred: Error communicating with OpenAI: HTTPSConnectionPool(host='api.openai.com', port=443): Max retries exceeded with url: /v1/chat/completions (Caused by NewConnectionError('<urllib3.connection.HTTPSConnection object at 0x185e92560>: Failed to establish a new connection: [Errno 8] nodename nor servname provided, or not known')). Retrying Question No. 8 Attempt:(3)\n"
     ]
    },
    {
     "name": "stderr",
     "output_type": "stream",
     "text": [
      " 47%|████▋     | 50/107 [5:40:17<6:27:55, 408.35s/it]\n"
     ]
    },
    {
     "ename": "ValueError",
     "evalue": "Exceeded 3 attempts, error: \n Error communicating with OpenAI: HTTPSConnectionPool(host='api.openai.com', port=443): Max retries exceeded with url: /v1/chat/completions (Caused by NewConnectionError('<urllib3.connection.HTTPSConnection object at 0x185f64fd0>: Failed to establish a new connection: [Errno 8] nodename nor servname provided, or not known'))",
     "output_type": "error",
     "traceback": [
      "\u001b[0;31m---------------------------------------------------------------------------\u001b[0m",
      "\u001b[0;31mgaierror\u001b[0m                                  Traceback (most recent call last)",
      "File \u001b[0;32m/usr/local/Caskroom/mambaforge/base/envs/nimlab_py310/lib/python3.10/site-packages/urllib3/connection.py:174\u001b[0m, in \u001b[0;36mHTTPConnection._new_conn\u001b[0;34m(self)\u001b[0m\n\u001b[1;32m    173\u001b[0m \u001b[39mtry\u001b[39;00m:\n\u001b[0;32m--> 174\u001b[0m     conn \u001b[39m=\u001b[39m connection\u001b[39m.\u001b[39;49mcreate_connection(\n\u001b[1;32m    175\u001b[0m         (\u001b[39mself\u001b[39;49m\u001b[39m.\u001b[39;49m_dns_host, \u001b[39mself\u001b[39;49m\u001b[39m.\u001b[39;49mport), \u001b[39mself\u001b[39;49m\u001b[39m.\u001b[39;49mtimeout, \u001b[39m*\u001b[39;49m\u001b[39m*\u001b[39;49mextra_kw\n\u001b[1;32m    176\u001b[0m     )\n\u001b[1;32m    178\u001b[0m \u001b[39mexcept\u001b[39;00m SocketTimeout:\n",
      "File \u001b[0;32m/usr/local/Caskroom/mambaforge/base/envs/nimlab_py310/lib/python3.10/site-packages/urllib3/util/connection.py:72\u001b[0m, in \u001b[0;36mcreate_connection\u001b[0;34m(address, timeout, source_address, socket_options)\u001b[0m\n\u001b[1;32m     68\u001b[0m     \u001b[39mreturn\u001b[39;00m six\u001b[39m.\u001b[39mraise_from(\n\u001b[1;32m     69\u001b[0m         LocationParseError(\u001b[39mu\u001b[39m\u001b[39m\"\u001b[39m\u001b[39m'\u001b[39m\u001b[39m%s\u001b[39;00m\u001b[39m'\u001b[39m\u001b[39m, label empty or too long\u001b[39m\u001b[39m\"\u001b[39m \u001b[39m%\u001b[39m host), \u001b[39mNone\u001b[39;00m\n\u001b[1;32m     70\u001b[0m     )\n\u001b[0;32m---> 72\u001b[0m \u001b[39mfor\u001b[39;00m res \u001b[39min\u001b[39;00m socket\u001b[39m.\u001b[39;49mgetaddrinfo(host, port, family, socket\u001b[39m.\u001b[39;49mSOCK_STREAM):\n\u001b[1;32m     73\u001b[0m     af, socktype, proto, canonname, sa \u001b[39m=\u001b[39m res\n",
      "File \u001b[0;32m/usr/local/Caskroom/mambaforge/base/envs/nimlab_py310/lib/python3.10/socket.py:955\u001b[0m, in \u001b[0;36mgetaddrinfo\u001b[0;34m(host, port, family, type, proto, flags)\u001b[0m\n\u001b[1;32m    954\u001b[0m addrlist \u001b[39m=\u001b[39m []\n\u001b[0;32m--> 955\u001b[0m \u001b[39mfor\u001b[39;00m res \u001b[39min\u001b[39;00m _socket\u001b[39m.\u001b[39;49mgetaddrinfo(host, port, family, \u001b[39mtype\u001b[39;49m, proto, flags):\n\u001b[1;32m    956\u001b[0m     af, socktype, proto, canonname, sa \u001b[39m=\u001b[39m res\n",
      "\u001b[0;31mgaierror\u001b[0m: [Errno 8] nodename nor servname provided, or not known",
      "\nDuring handling of the above exception, another exception occurred:\n",
      "\u001b[0;31mNewConnectionError\u001b[0m                        Traceback (most recent call last)",
      "File \u001b[0;32m/usr/local/Caskroom/mambaforge/base/envs/nimlab_py310/lib/python3.10/site-packages/urllib3/connectionpool.py:703\u001b[0m, in \u001b[0;36mHTTPConnectionPool.urlopen\u001b[0;34m(self, method, url, body, headers, retries, redirect, assert_same_host, timeout, pool_timeout, release_conn, chunked, body_pos, **response_kw)\u001b[0m\n\u001b[1;32m    702\u001b[0m \u001b[39m# Make the request on the httplib connection object.\u001b[39;00m\n\u001b[0;32m--> 703\u001b[0m httplib_response \u001b[39m=\u001b[39m \u001b[39mself\u001b[39;49m\u001b[39m.\u001b[39;49m_make_request(\n\u001b[1;32m    704\u001b[0m     conn,\n\u001b[1;32m    705\u001b[0m     method,\n\u001b[1;32m    706\u001b[0m     url,\n\u001b[1;32m    707\u001b[0m     timeout\u001b[39m=\u001b[39;49mtimeout_obj,\n\u001b[1;32m    708\u001b[0m     body\u001b[39m=\u001b[39;49mbody,\n\u001b[1;32m    709\u001b[0m     headers\u001b[39m=\u001b[39;49mheaders,\n\u001b[1;32m    710\u001b[0m     chunked\u001b[39m=\u001b[39;49mchunked,\n\u001b[1;32m    711\u001b[0m )\n\u001b[1;32m    713\u001b[0m \u001b[39m# If we're going to release the connection in ``finally:``, then\u001b[39;00m\n\u001b[1;32m    714\u001b[0m \u001b[39m# the response doesn't need to know about the connection. Otherwise\u001b[39;00m\n\u001b[1;32m    715\u001b[0m \u001b[39m# it will also try to release it and we'll have a double-release\u001b[39;00m\n\u001b[1;32m    716\u001b[0m \u001b[39m# mess.\u001b[39;00m\n",
      "File \u001b[0;32m/usr/local/Caskroom/mambaforge/base/envs/nimlab_py310/lib/python3.10/site-packages/urllib3/connectionpool.py:386\u001b[0m, in \u001b[0;36mHTTPConnectionPool._make_request\u001b[0;34m(self, conn, method, url, timeout, chunked, **httplib_request_kw)\u001b[0m\n\u001b[1;32m    385\u001b[0m \u001b[39mtry\u001b[39;00m:\n\u001b[0;32m--> 386\u001b[0m     \u001b[39mself\u001b[39;49m\u001b[39m.\u001b[39;49m_validate_conn(conn)\n\u001b[1;32m    387\u001b[0m \u001b[39mexcept\u001b[39;00m (SocketTimeout, BaseSSLError) \u001b[39mas\u001b[39;00m e:\n\u001b[1;32m    388\u001b[0m     \u001b[39m# Py2 raises this as a BaseSSLError, Py3 raises it as socket timeout.\u001b[39;00m\n",
      "File \u001b[0;32m/usr/local/Caskroom/mambaforge/base/envs/nimlab_py310/lib/python3.10/site-packages/urllib3/connectionpool.py:1042\u001b[0m, in \u001b[0;36mHTTPSConnectionPool._validate_conn\u001b[0;34m(self, conn)\u001b[0m\n\u001b[1;32m   1041\u001b[0m \u001b[39mif\u001b[39;00m \u001b[39mnot\u001b[39;00m \u001b[39mgetattr\u001b[39m(conn, \u001b[39m\"\u001b[39m\u001b[39msock\u001b[39m\u001b[39m\"\u001b[39m, \u001b[39mNone\u001b[39;00m):  \u001b[39m# AppEngine might not have  `.sock`\u001b[39;00m\n\u001b[0;32m-> 1042\u001b[0m     conn\u001b[39m.\u001b[39;49mconnect()\n\u001b[1;32m   1044\u001b[0m \u001b[39mif\u001b[39;00m \u001b[39mnot\u001b[39;00m conn\u001b[39m.\u001b[39mis_verified:\n",
      "File \u001b[0;32m/usr/local/Caskroom/mambaforge/base/envs/nimlab_py310/lib/python3.10/site-packages/urllib3/connection.py:358\u001b[0m, in \u001b[0;36mHTTPSConnection.connect\u001b[0;34m(self)\u001b[0m\n\u001b[1;32m    356\u001b[0m \u001b[39mdef\u001b[39;00m \u001b[39mconnect\u001b[39m(\u001b[39mself\u001b[39m):\n\u001b[1;32m    357\u001b[0m     \u001b[39m# Add certificate verification\u001b[39;00m\n\u001b[0;32m--> 358\u001b[0m     \u001b[39mself\u001b[39m\u001b[39m.\u001b[39msock \u001b[39m=\u001b[39m conn \u001b[39m=\u001b[39m \u001b[39mself\u001b[39;49m\u001b[39m.\u001b[39;49m_new_conn()\n\u001b[1;32m    359\u001b[0m     hostname \u001b[39m=\u001b[39m \u001b[39mself\u001b[39m\u001b[39m.\u001b[39mhost\n",
      "File \u001b[0;32m/usr/local/Caskroom/mambaforge/base/envs/nimlab_py310/lib/python3.10/site-packages/urllib3/connection.py:186\u001b[0m, in \u001b[0;36mHTTPConnection._new_conn\u001b[0;34m(self)\u001b[0m\n\u001b[1;32m    185\u001b[0m \u001b[39mexcept\u001b[39;00m SocketError \u001b[39mas\u001b[39;00m e:\n\u001b[0;32m--> 186\u001b[0m     \u001b[39mraise\u001b[39;00m NewConnectionError(\n\u001b[1;32m    187\u001b[0m         \u001b[39mself\u001b[39m, \u001b[39m\"\u001b[39m\u001b[39mFailed to establish a new connection: \u001b[39m\u001b[39m%s\u001b[39;00m\u001b[39m\"\u001b[39m \u001b[39m%\u001b[39m e\n\u001b[1;32m    188\u001b[0m     )\n\u001b[1;32m    190\u001b[0m \u001b[39mreturn\u001b[39;00m conn\n",
      "\u001b[0;31mNewConnectionError\u001b[0m: <urllib3.connection.HTTPSConnection object at 0x185f64fd0>: Failed to establish a new connection: [Errno 8] nodename nor servname provided, or not known",
      "\nDuring handling of the above exception, another exception occurred:\n",
      "\u001b[0;31mMaxRetryError\u001b[0m                             Traceback (most recent call last)",
      "File \u001b[0;32m/usr/local/Caskroom/mambaforge/base/envs/nimlab_py310/lib/python3.10/site-packages/requests/adapters.py:489\u001b[0m, in \u001b[0;36mHTTPAdapter.send\u001b[0;34m(self, request, stream, timeout, verify, cert, proxies)\u001b[0m\n\u001b[1;32m    488\u001b[0m \u001b[39mif\u001b[39;00m \u001b[39mnot\u001b[39;00m chunked:\n\u001b[0;32m--> 489\u001b[0m     resp \u001b[39m=\u001b[39m conn\u001b[39m.\u001b[39;49murlopen(\n\u001b[1;32m    490\u001b[0m         method\u001b[39m=\u001b[39;49mrequest\u001b[39m.\u001b[39;49mmethod,\n\u001b[1;32m    491\u001b[0m         url\u001b[39m=\u001b[39;49murl,\n\u001b[1;32m    492\u001b[0m         body\u001b[39m=\u001b[39;49mrequest\u001b[39m.\u001b[39;49mbody,\n\u001b[1;32m    493\u001b[0m         headers\u001b[39m=\u001b[39;49mrequest\u001b[39m.\u001b[39;49mheaders,\n\u001b[1;32m    494\u001b[0m         redirect\u001b[39m=\u001b[39;49m\u001b[39mFalse\u001b[39;49;00m,\n\u001b[1;32m    495\u001b[0m         assert_same_host\u001b[39m=\u001b[39;49m\u001b[39mFalse\u001b[39;49;00m,\n\u001b[1;32m    496\u001b[0m         preload_content\u001b[39m=\u001b[39;49m\u001b[39mFalse\u001b[39;49;00m,\n\u001b[1;32m    497\u001b[0m         decode_content\u001b[39m=\u001b[39;49m\u001b[39mFalse\u001b[39;49;00m,\n\u001b[1;32m    498\u001b[0m         retries\u001b[39m=\u001b[39;49m\u001b[39mself\u001b[39;49m\u001b[39m.\u001b[39;49mmax_retries,\n\u001b[1;32m    499\u001b[0m         timeout\u001b[39m=\u001b[39;49mtimeout,\n\u001b[1;32m    500\u001b[0m     )\n\u001b[1;32m    502\u001b[0m \u001b[39m# Send the request.\u001b[39;00m\n\u001b[1;32m    503\u001b[0m \u001b[39melse\u001b[39;00m:\n",
      "File \u001b[0;32m/usr/local/Caskroom/mambaforge/base/envs/nimlab_py310/lib/python3.10/site-packages/urllib3/connectionpool.py:815\u001b[0m, in \u001b[0;36mHTTPConnectionPool.urlopen\u001b[0;34m(self, method, url, body, headers, retries, redirect, assert_same_host, timeout, pool_timeout, release_conn, chunked, body_pos, **response_kw)\u001b[0m\n\u001b[1;32m    812\u001b[0m     log\u001b[39m.\u001b[39mwarning(\n\u001b[1;32m    813\u001b[0m         \u001b[39m\"\u001b[39m\u001b[39mRetrying (\u001b[39m\u001b[39m%r\u001b[39;00m\u001b[39m) after connection broken by \u001b[39m\u001b[39m'\u001b[39m\u001b[39m%r\u001b[39;00m\u001b[39m'\u001b[39m\u001b[39m: \u001b[39m\u001b[39m%s\u001b[39;00m\u001b[39m\"\u001b[39m, retries, err, url\n\u001b[1;32m    814\u001b[0m     )\n\u001b[0;32m--> 815\u001b[0m     \u001b[39mreturn\u001b[39;00m \u001b[39mself\u001b[39;49m\u001b[39m.\u001b[39;49murlopen(\n\u001b[1;32m    816\u001b[0m         method,\n\u001b[1;32m    817\u001b[0m         url,\n\u001b[1;32m    818\u001b[0m         body,\n\u001b[1;32m    819\u001b[0m         headers,\n\u001b[1;32m    820\u001b[0m         retries,\n\u001b[1;32m    821\u001b[0m         redirect,\n\u001b[1;32m    822\u001b[0m         assert_same_host,\n\u001b[1;32m    823\u001b[0m         timeout\u001b[39m=\u001b[39;49mtimeout,\n\u001b[1;32m    824\u001b[0m         pool_timeout\u001b[39m=\u001b[39;49mpool_timeout,\n\u001b[1;32m    825\u001b[0m         release_conn\u001b[39m=\u001b[39;49mrelease_conn,\n\u001b[1;32m    826\u001b[0m         chunked\u001b[39m=\u001b[39;49mchunked,\n\u001b[1;32m    827\u001b[0m         body_pos\u001b[39m=\u001b[39;49mbody_pos,\n\u001b[1;32m    828\u001b[0m         \u001b[39m*\u001b[39;49m\u001b[39m*\u001b[39;49mresponse_kw\n\u001b[1;32m    829\u001b[0m     )\n\u001b[1;32m    831\u001b[0m \u001b[39m# Handle redirect?\u001b[39;00m\n",
      "File \u001b[0;32m/usr/local/Caskroom/mambaforge/base/envs/nimlab_py310/lib/python3.10/site-packages/urllib3/connectionpool.py:815\u001b[0m, in \u001b[0;36mHTTPConnectionPool.urlopen\u001b[0;34m(self, method, url, body, headers, retries, redirect, assert_same_host, timeout, pool_timeout, release_conn, chunked, body_pos, **response_kw)\u001b[0m\n\u001b[1;32m    812\u001b[0m     log\u001b[39m.\u001b[39mwarning(\n\u001b[1;32m    813\u001b[0m         \u001b[39m\"\u001b[39m\u001b[39mRetrying (\u001b[39m\u001b[39m%r\u001b[39;00m\u001b[39m) after connection broken by \u001b[39m\u001b[39m'\u001b[39m\u001b[39m%r\u001b[39;00m\u001b[39m'\u001b[39m\u001b[39m: \u001b[39m\u001b[39m%s\u001b[39;00m\u001b[39m\"\u001b[39m, retries, err, url\n\u001b[1;32m    814\u001b[0m     )\n\u001b[0;32m--> 815\u001b[0m     \u001b[39mreturn\u001b[39;00m \u001b[39mself\u001b[39;49m\u001b[39m.\u001b[39;49murlopen(\n\u001b[1;32m    816\u001b[0m         method,\n\u001b[1;32m    817\u001b[0m         url,\n\u001b[1;32m    818\u001b[0m         body,\n\u001b[1;32m    819\u001b[0m         headers,\n\u001b[1;32m    820\u001b[0m         retries,\n\u001b[1;32m    821\u001b[0m         redirect,\n\u001b[1;32m    822\u001b[0m         assert_same_host,\n\u001b[1;32m    823\u001b[0m         timeout\u001b[39m=\u001b[39;49mtimeout,\n\u001b[1;32m    824\u001b[0m         pool_timeout\u001b[39m=\u001b[39;49mpool_timeout,\n\u001b[1;32m    825\u001b[0m         release_conn\u001b[39m=\u001b[39;49mrelease_conn,\n\u001b[1;32m    826\u001b[0m         chunked\u001b[39m=\u001b[39;49mchunked,\n\u001b[1;32m    827\u001b[0m         body_pos\u001b[39m=\u001b[39;49mbody_pos,\n\u001b[1;32m    828\u001b[0m         \u001b[39m*\u001b[39;49m\u001b[39m*\u001b[39;49mresponse_kw\n\u001b[1;32m    829\u001b[0m     )\n\u001b[1;32m    831\u001b[0m \u001b[39m# Handle redirect?\u001b[39;00m\n",
      "File \u001b[0;32m/usr/local/Caskroom/mambaforge/base/envs/nimlab_py310/lib/python3.10/site-packages/urllib3/connectionpool.py:787\u001b[0m, in \u001b[0;36mHTTPConnectionPool.urlopen\u001b[0;34m(self, method, url, body, headers, retries, redirect, assert_same_host, timeout, pool_timeout, release_conn, chunked, body_pos, **response_kw)\u001b[0m\n\u001b[1;32m    785\u001b[0m     e \u001b[39m=\u001b[39m ProtocolError(\u001b[39m\"\u001b[39m\u001b[39mConnection aborted.\u001b[39m\u001b[39m\"\u001b[39m, e)\n\u001b[0;32m--> 787\u001b[0m retries \u001b[39m=\u001b[39m retries\u001b[39m.\u001b[39;49mincrement(\n\u001b[1;32m    788\u001b[0m     method, url, error\u001b[39m=\u001b[39;49me, _pool\u001b[39m=\u001b[39;49m\u001b[39mself\u001b[39;49m, _stacktrace\u001b[39m=\u001b[39;49msys\u001b[39m.\u001b[39;49mexc_info()[\u001b[39m2\u001b[39;49m]\n\u001b[1;32m    789\u001b[0m )\n\u001b[1;32m    790\u001b[0m retries\u001b[39m.\u001b[39msleep()\n",
      "File \u001b[0;32m/usr/local/Caskroom/mambaforge/base/envs/nimlab_py310/lib/python3.10/site-packages/urllib3/util/retry.py:592\u001b[0m, in \u001b[0;36mRetry.increment\u001b[0;34m(self, method, url, response, error, _pool, _stacktrace)\u001b[0m\n\u001b[1;32m    591\u001b[0m \u001b[39mif\u001b[39;00m new_retry\u001b[39m.\u001b[39mis_exhausted():\n\u001b[0;32m--> 592\u001b[0m     \u001b[39mraise\u001b[39;00m MaxRetryError(_pool, url, error \u001b[39mor\u001b[39;00m ResponseError(cause))\n\u001b[1;32m    594\u001b[0m log\u001b[39m.\u001b[39mdebug(\u001b[39m\"\u001b[39m\u001b[39mIncremented Retry for (url=\u001b[39m\u001b[39m'\u001b[39m\u001b[39m%s\u001b[39;00m\u001b[39m'\u001b[39m\u001b[39m): \u001b[39m\u001b[39m%r\u001b[39;00m\u001b[39m\"\u001b[39m, url, new_retry)\n",
      "\u001b[0;31mMaxRetryError\u001b[0m: HTTPSConnectionPool(host='api.openai.com', port=443): Max retries exceeded with url: /v1/chat/completions (Caused by NewConnectionError('<urllib3.connection.HTTPSConnection object at 0x185f64fd0>: Failed to establish a new connection: [Errno 8] nodename nor servname provided, or not known'))",
      "\nDuring handling of the above exception, another exception occurred:\n",
      "\u001b[0;31mConnectionError\u001b[0m                           Traceback (most recent call last)",
      "File \u001b[0;32m~/.local/lib/python3.10/site-packages/openai/api_requestor.py:596\u001b[0m, in \u001b[0;36mAPIRequestor.request_raw\u001b[0;34m(self, method, url, params, supplied_headers, files, stream, request_id, request_timeout)\u001b[0m\n\u001b[1;32m    595\u001b[0m \u001b[39mtry\u001b[39;00m:\n\u001b[0;32m--> 596\u001b[0m     result \u001b[39m=\u001b[39m _thread_context\u001b[39m.\u001b[39;49msession\u001b[39m.\u001b[39;49mrequest(\n\u001b[1;32m    597\u001b[0m         method,\n\u001b[1;32m    598\u001b[0m         abs_url,\n\u001b[1;32m    599\u001b[0m         headers\u001b[39m=\u001b[39;49mheaders,\n\u001b[1;32m    600\u001b[0m         data\u001b[39m=\u001b[39;49mdata,\n\u001b[1;32m    601\u001b[0m         files\u001b[39m=\u001b[39;49mfiles,\n\u001b[1;32m    602\u001b[0m         stream\u001b[39m=\u001b[39;49mstream,\n\u001b[1;32m    603\u001b[0m         timeout\u001b[39m=\u001b[39;49mrequest_timeout \u001b[39mif\u001b[39;49;00m request_timeout \u001b[39melse\u001b[39;49;00m TIMEOUT_SECS,\n\u001b[1;32m    604\u001b[0m         proxies\u001b[39m=\u001b[39;49m_thread_context\u001b[39m.\u001b[39;49msession\u001b[39m.\u001b[39;49mproxies,\n\u001b[1;32m    605\u001b[0m     )\n\u001b[1;32m    606\u001b[0m \u001b[39mexcept\u001b[39;00m requests\u001b[39m.\u001b[39mexceptions\u001b[39m.\u001b[39mTimeout \u001b[39mas\u001b[39;00m e:\n",
      "File \u001b[0;32m/usr/local/Caskroom/mambaforge/base/envs/nimlab_py310/lib/python3.10/site-packages/requests/sessions.py:587\u001b[0m, in \u001b[0;36mSession.request\u001b[0;34m(self, method, url, params, data, headers, cookies, files, auth, timeout, allow_redirects, proxies, hooks, stream, verify, cert, json)\u001b[0m\n\u001b[1;32m    586\u001b[0m send_kwargs\u001b[39m.\u001b[39mupdate(settings)\n\u001b[0;32m--> 587\u001b[0m resp \u001b[39m=\u001b[39m \u001b[39mself\u001b[39;49m\u001b[39m.\u001b[39;49msend(prep, \u001b[39m*\u001b[39;49m\u001b[39m*\u001b[39;49msend_kwargs)\n\u001b[1;32m    589\u001b[0m \u001b[39mreturn\u001b[39;00m resp\n",
      "File \u001b[0;32m/usr/local/Caskroom/mambaforge/base/envs/nimlab_py310/lib/python3.10/site-packages/requests/sessions.py:701\u001b[0m, in \u001b[0;36mSession.send\u001b[0;34m(self, request, **kwargs)\u001b[0m\n\u001b[1;32m    700\u001b[0m \u001b[39m# Send the request\u001b[39;00m\n\u001b[0;32m--> 701\u001b[0m r \u001b[39m=\u001b[39m adapter\u001b[39m.\u001b[39;49msend(request, \u001b[39m*\u001b[39;49m\u001b[39m*\u001b[39;49mkwargs)\n\u001b[1;32m    703\u001b[0m \u001b[39m# Total elapsed time of the request (approximately)\u001b[39;00m\n",
      "File \u001b[0;32m/usr/local/Caskroom/mambaforge/base/envs/nimlab_py310/lib/python3.10/site-packages/requests/adapters.py:565\u001b[0m, in \u001b[0;36mHTTPAdapter.send\u001b[0;34m(self, request, stream, timeout, verify, cert, proxies)\u001b[0m\n\u001b[1;32m    563\u001b[0m         \u001b[39mraise\u001b[39;00m SSLError(e, request\u001b[39m=\u001b[39mrequest)\n\u001b[0;32m--> 565\u001b[0m     \u001b[39mraise\u001b[39;00m \u001b[39mConnectionError\u001b[39;00m(e, request\u001b[39m=\u001b[39mrequest)\n\u001b[1;32m    567\u001b[0m \u001b[39mexcept\u001b[39;00m ClosedPoolError \u001b[39mas\u001b[39;00m e:\n",
      "\u001b[0;31mConnectionError\u001b[0m: HTTPSConnectionPool(host='api.openai.com', port=443): Max retries exceeded with url: /v1/chat/completions (Caused by NewConnectionError('<urllib3.connection.HTTPSConnection object at 0x185f64fd0>: Failed to establish a new connection: [Errno 8] nodename nor servname provided, or not known'))",
      "\nThe above exception was the direct cause of the following exception:\n",
      "\u001b[0;31mAPIConnectionError\u001b[0m                        Traceback (most recent call last)",
      "File \u001b[0;32m~/Library/CloudStorage/OneDrive-Personal/OneDrive_Documents/Work/Software/Research/nimlab/calvin_utils/calvin_utils/gpt_sys_review/gpt_utils.py:389\u001b[0m, in \u001b[0;36mOpenAIChatEvaluator.evaluate_all_files\u001b[0;34m(self)\u001b[0m\n\u001b[1;32m    388\u001b[0m     \u001b[39mprint\u001b[39m(\u001b[39m'\u001b[39m\u001b[39mSubmitting conversation to OpenAI\u001b[39m\u001b[39m'\u001b[39m)\n\u001b[0;32m--> 389\u001b[0m answer, tokens_used \u001b[39m=\u001b[39m \u001b[39mself\u001b[39;49m\u001b[39m.\u001b[39;49mget_response_from_openai(conversation)\n\u001b[1;32m    390\u001b[0m \u001b[39mif\u001b[39;00m \u001b[39mself\u001b[39m\u001b[39m.\u001b[39mdebug:\n",
      "File \u001b[0;32m~/Library/CloudStorage/OneDrive-Personal/OneDrive_Documents/Work/Software/Research/nimlab/calvin_utils/calvin_utils/gpt_sys_review/gpt_utils.py:330\u001b[0m, in \u001b[0;36mOpenAIChatEvaluator.get_response_from_openai\u001b[0;34m(self, conversation)\u001b[0m\n\u001b[1;32m    321\u001b[0m \u001b[39m\"\"\"\u001b[39;00m\n\u001b[1;32m    322\u001b[0m \u001b[39mSends a conversation to OpenAI and retrieves the assistant's last answer.\u001b[39;00m\n\u001b[1;32m    323\u001b[0m \n\u001b[0;32m   (...)\u001b[0m\n\u001b[1;32m    328\u001b[0m \u001b[39m- str: The assistant's last answer retrieved from OpenAI's API.\u001b[39;00m\n\u001b[1;32m    329\u001b[0m \u001b[39m\"\"\"\u001b[39;00m\n\u001b[0;32m--> 330\u001b[0m response \u001b[39m=\u001b[39m openai\u001b[39m.\u001b[39;49mChatCompletion\u001b[39m.\u001b[39;49mcreate(\n\u001b[1;32m    331\u001b[0m     model\u001b[39m=\u001b[39;49m\u001b[39mself\u001b[39;49m\u001b[39m.\u001b[39;49mmodel,\n\u001b[1;32m    332\u001b[0m     messages\u001b[39m=\u001b[39;49mconversation,\n\u001b[1;32m    333\u001b[0m     temperature\u001b[39m=\u001b[39;49m\u001b[39mself\u001b[39;49m\u001b[39m.\u001b[39;49mtemperature,\n\u001b[1;32m    334\u001b[0m     max_tokens\u001b[39m=\u001b[39;49m\u001b[39mself\u001b[39;49m\u001b[39m.\u001b[39;49mresponse_tokens\n\u001b[1;32m    335\u001b[0m )\n\u001b[1;32m    336\u001b[0m \u001b[39mif\u001b[39;00m \u001b[39mself\u001b[39m\u001b[39m.\u001b[39mdebug:\n",
      "File \u001b[0;32m~/.local/lib/python3.10/site-packages/openai/api_resources/chat_completion.py:25\u001b[0m, in \u001b[0;36mChatCompletion.create\u001b[0;34m(cls, *args, **kwargs)\u001b[0m\n\u001b[1;32m     24\u001b[0m \u001b[39mtry\u001b[39;00m:\n\u001b[0;32m---> 25\u001b[0m     \u001b[39mreturn\u001b[39;00m \u001b[39msuper\u001b[39;49m()\u001b[39m.\u001b[39;49mcreate(\u001b[39m*\u001b[39;49margs, \u001b[39m*\u001b[39;49m\u001b[39m*\u001b[39;49mkwargs)\n\u001b[1;32m     26\u001b[0m \u001b[39mexcept\u001b[39;00m TryAgain \u001b[39mas\u001b[39;00m e:\n",
      "File \u001b[0;32m~/.local/lib/python3.10/site-packages/openai/api_resources/abstract/engine_api_resource.py:153\u001b[0m, in \u001b[0;36mEngineAPIResource.create\u001b[0;34m(cls, api_key, api_base, api_type, request_id, api_version, organization, **params)\u001b[0m\n\u001b[1;32m    138\u001b[0m (\n\u001b[1;32m    139\u001b[0m     deployment_id,\n\u001b[1;32m    140\u001b[0m     engine,\n\u001b[0;32m   (...)\u001b[0m\n\u001b[1;32m    150\u001b[0m     api_key, api_base, api_type, api_version, organization, \u001b[39m*\u001b[39m\u001b[39m*\u001b[39mparams\n\u001b[1;32m    151\u001b[0m )\n\u001b[0;32m--> 153\u001b[0m response, _, api_key \u001b[39m=\u001b[39m requestor\u001b[39m.\u001b[39;49mrequest(\n\u001b[1;32m    154\u001b[0m     \u001b[39m\"\u001b[39;49m\u001b[39mpost\u001b[39;49m\u001b[39m\"\u001b[39;49m,\n\u001b[1;32m    155\u001b[0m     url,\n\u001b[1;32m    156\u001b[0m     params\u001b[39m=\u001b[39;49mparams,\n\u001b[1;32m    157\u001b[0m     headers\u001b[39m=\u001b[39;49mheaders,\n\u001b[1;32m    158\u001b[0m     stream\u001b[39m=\u001b[39;49mstream,\n\u001b[1;32m    159\u001b[0m     request_id\u001b[39m=\u001b[39;49mrequest_id,\n\u001b[1;32m    160\u001b[0m     request_timeout\u001b[39m=\u001b[39;49mrequest_timeout,\n\u001b[1;32m    161\u001b[0m )\n\u001b[1;32m    163\u001b[0m \u001b[39mif\u001b[39;00m stream:\n\u001b[1;32m    164\u001b[0m     \u001b[39m# must be an iterator\u001b[39;00m\n",
      "File \u001b[0;32m~/.local/lib/python3.10/site-packages/openai/api_requestor.py:288\u001b[0m, in \u001b[0;36mAPIRequestor.request\u001b[0;34m(self, method, url, params, headers, files, stream, request_id, request_timeout)\u001b[0m\n\u001b[1;32m    277\u001b[0m \u001b[39mdef\u001b[39;00m \u001b[39mrequest\u001b[39m(\n\u001b[1;32m    278\u001b[0m     \u001b[39mself\u001b[39m,\n\u001b[1;32m    279\u001b[0m     method,\n\u001b[0;32m   (...)\u001b[0m\n\u001b[1;32m    286\u001b[0m     request_timeout: Optional[Union[\u001b[39mfloat\u001b[39m, Tuple[\u001b[39mfloat\u001b[39m, \u001b[39mfloat\u001b[39m]]] \u001b[39m=\u001b[39m \u001b[39mNone\u001b[39;00m,\n\u001b[1;32m    287\u001b[0m ) \u001b[39m-\u001b[39m\u001b[39m>\u001b[39m Tuple[Union[OpenAIResponse, Iterator[OpenAIResponse]], \u001b[39mbool\u001b[39m, \u001b[39mstr\u001b[39m]:\n\u001b[0;32m--> 288\u001b[0m     result \u001b[39m=\u001b[39m \u001b[39mself\u001b[39;49m\u001b[39m.\u001b[39;49mrequest_raw(\n\u001b[1;32m    289\u001b[0m         method\u001b[39m.\u001b[39;49mlower(),\n\u001b[1;32m    290\u001b[0m         url,\n\u001b[1;32m    291\u001b[0m         params\u001b[39m=\u001b[39;49mparams,\n\u001b[1;32m    292\u001b[0m         supplied_headers\u001b[39m=\u001b[39;49mheaders,\n\u001b[1;32m    293\u001b[0m         files\u001b[39m=\u001b[39;49mfiles,\n\u001b[1;32m    294\u001b[0m         stream\u001b[39m=\u001b[39;49mstream,\n\u001b[1;32m    295\u001b[0m         request_id\u001b[39m=\u001b[39;49mrequest_id,\n\u001b[1;32m    296\u001b[0m         request_timeout\u001b[39m=\u001b[39;49mrequest_timeout,\n\u001b[1;32m    297\u001b[0m     )\n\u001b[1;32m    298\u001b[0m     resp, got_stream \u001b[39m=\u001b[39m \u001b[39mself\u001b[39m\u001b[39m.\u001b[39m_interpret_response(result, stream)\n",
      "File \u001b[0;32m~/.local/lib/python3.10/site-packages/openai/api_requestor.py:609\u001b[0m, in \u001b[0;36mAPIRequestor.request_raw\u001b[0;34m(self, method, url, params, supplied_headers, files, stream, request_id, request_timeout)\u001b[0m\n\u001b[1;32m    608\u001b[0m \u001b[39mexcept\u001b[39;00m requests\u001b[39m.\u001b[39mexceptions\u001b[39m.\u001b[39mRequestException \u001b[39mas\u001b[39;00m e:\n\u001b[0;32m--> 609\u001b[0m     \u001b[39mraise\u001b[39;00m error\u001b[39m.\u001b[39mAPIConnectionError(\n\u001b[1;32m    610\u001b[0m         \u001b[39m\"\u001b[39m\u001b[39mError communicating with OpenAI: \u001b[39m\u001b[39m{}\u001b[39;00m\u001b[39m\"\u001b[39m\u001b[39m.\u001b[39mformat(e)\n\u001b[1;32m    611\u001b[0m     ) \u001b[39mfrom\u001b[39;00m \u001b[39me\u001b[39;00m\n\u001b[1;32m    612\u001b[0m util\u001b[39m.\u001b[39mlog_debug(\n\u001b[1;32m    613\u001b[0m     \u001b[39m\"\u001b[39m\u001b[39mOpenAI API response\u001b[39m\u001b[39m\"\u001b[39m,\n\u001b[1;32m    614\u001b[0m     path\u001b[39m=\u001b[39mabs_url,\n\u001b[0;32m   (...)\u001b[0m\n\u001b[1;32m    617\u001b[0m     request_id\u001b[39m=\u001b[39mresult\u001b[39m.\u001b[39mheaders\u001b[39m.\u001b[39mget(\u001b[39m\"\u001b[39m\u001b[39mX-Request-Id\u001b[39m\u001b[39m\"\u001b[39m),\n\u001b[1;32m    618\u001b[0m )\n",
      "\u001b[0;31mAPIConnectionError\u001b[0m: Error communicating with OpenAI: HTTPSConnectionPool(host='api.openai.com', port=443): Max retries exceeded with url: /v1/chat/completions (Caused by NewConnectionError('<urllib3.connection.HTTPSConnection object at 0x185f64fd0>: Failed to establish a new connection: [Errno 8] nodename nor servname provided, or not known'))",
      "\nDuring handling of the above exception, another exception occurred:\n",
      "\u001b[0;31mValueError\u001b[0m                                Traceback (most recent call last)",
      "\u001b[1;32m/Users/cu135/Library/CloudStorage/OneDrive-Personal/OneDrive_Documents/Work/Software/Research/nimlab/calvin_utils/notebooks/systematic_review_notebooks/04_extract_data_from_manuscripts.ipynb Cell 12\u001b[0m line \u001b[0;36m8\n\u001b[1;32m      <a href='vscode-notebook-cell:/Users/cu135/Library/CloudStorage/OneDrive-Personal/OneDrive_Documents/Work/Software/Research/nimlab/calvin_utils/notebooks/systematic_review_notebooks/04_extract_data_from_manuscripts.ipynb#X14sZmlsZQ%3D%3D?line=0'>1</a>\u001b[0m evaluator \u001b[39m=\u001b[39m OpenAIChatEvaluator(api_key_path\u001b[39m=\u001b[39mapi_key_path,\n\u001b[1;32m      <a href='vscode-notebook-cell:/Users/cu135/Library/CloudStorage/OneDrive-Personal/OneDrive_Documents/Work/Software/Research/nimlab/calvin_utils/notebooks/systematic_review_notebooks/04_extract_data_from_manuscripts.ipynb#X14sZmlsZQ%3D%3D?line=1'>2</a>\u001b[0m                                 json_file_path\u001b[39m=\u001b[39mjson_path, \n\u001b[1;32m      <a href='vscode-notebook-cell:/Users/cu135/Library/CloudStorage/OneDrive-Personal/OneDrive_Documents/Work/Software/Research/nimlab/calvin_utils/notebooks/systematic_review_notebooks/04_extract_data_from_manuscripts.ipynb#X14sZmlsZQ%3D%3D?line=2'>3</a>\u001b[0m                                 keys_to_consider\u001b[39m=\u001b[39mkeys_to_consider,\n\u001b[0;32m   (...)\u001b[0m\n\u001b[1;32m      <a href='vscode-notebook-cell:/Users/cu135/Library/CloudStorage/OneDrive-Personal/OneDrive_Documents/Work/Software/Research/nimlab/calvin_utils/notebooks/systematic_review_notebooks/04_extract_data_from_manuscripts.ipynb#X14sZmlsZQ%3D%3D?line=5'>6</a>\u001b[0m                                 test_mode\u001b[39m=\u001b[39mtest_mode,\n\u001b[1;32m      <a href='vscode-notebook-cell:/Users/cu135/Library/CloudStorage/OneDrive-Personal/OneDrive_Documents/Work/Software/Research/nimlab/calvin_utils/notebooks/systematic_review_notebooks/04_extract_data_from_manuscripts.ipynb#X14sZmlsZQ%3D%3D?line=6'>7</a>\u001b[0m                                 model_choice\u001b[39m=\u001b[39m\u001b[39m\"\u001b[39m\u001b[39mgpt4\u001b[39m\u001b[39m\"\u001b[39m)\n\u001b[0;32m----> <a href='vscode-notebook-cell:/Users/cu135/Library/CloudStorage/OneDrive-Personal/OneDrive_Documents/Work/Software/Research/nimlab/calvin_utils/notebooks/systematic_review_notebooks/04_extract_data_from_manuscripts.ipynb#X14sZmlsZQ%3D%3D?line=7'>8</a>\u001b[0m answers \u001b[39m=\u001b[39m evaluator\u001b[39m.\u001b[39;49mevaluate_all_files()\n\u001b[1;32m      <a href='vscode-notebook-cell:/Users/cu135/Library/CloudStorage/OneDrive-Personal/OneDrive_Documents/Work/Software/Research/nimlab/calvin_utils/notebooks/systematic_review_notebooks/04_extract_data_from_manuscripts.ipynb#X14sZmlsZQ%3D%3D?line=8'>9</a>\u001b[0m evaluator\u001b[39m.\u001b[39msave_to_json(answers)\n",
      "File \u001b[0;32m~/Library/CloudStorage/OneDrive-Personal/OneDrive_Documents/Work/Software/Research/nimlab/calvin_utils/calvin_utils/gpt_sys_review/gpt_utils.py:402\u001b[0m, in \u001b[0;36mOpenAIChatEvaluator.evaluate_all_files\u001b[0;34m(self)\u001b[0m\n\u001b[1;32m    400\u001b[0m \u001b[39mexcept\u001b[39;00m \u001b[39mException\u001b[39;00m \u001b[39mas\u001b[39;00m e:\n\u001b[1;32m    401\u001b[0m     \u001b[39mif\u001b[39;00m retry_count \u001b[39m==\u001b[39m \u001b[39m3\u001b[39m:\n\u001b[0;32m--> 402\u001b[0m         \u001b[39mraise\u001b[39;00m \u001b[39mValueError\u001b[39;00m(\u001b[39mf\u001b[39m\u001b[39m\"\u001b[39m\u001b[39mExceeded 3 attempts, error: \u001b[39m\u001b[39m\\n\u001b[39;00m\u001b[39m \u001b[39m\u001b[39m{\u001b[39;00me\u001b[39m}\u001b[39;00m\u001b[39m\"\u001b[39m)\n\u001b[1;32m    403\u001b[0m         \u001b[39m# self.all_answers[file_name][q][f\"chunk_{chunk_index+1}\"] = \"Unidentified\"\u001b[39;00m\n\u001b[1;32m    404\u001b[0m     retry_count, sleep_time \u001b[39m=\u001b[39m \u001b[39mself\u001b[39m\u001b[39m.\u001b[39mhandle_response_exception(e, q_index, retry_count)\n",
      "\u001b[0;31mValueError\u001b[0m: Exceeded 3 attempts, error: \n Error communicating with OpenAI: HTTPSConnectionPool(host='api.openai.com', port=443): Max retries exceeded with url: /v1/chat/completions (Caused by NewConnectionError('<urllib3.connection.HTTPSConnection object at 0x185f64fd0>: Failed to establish a new connection: [Errno 8] nodename nor servname provided, or not known'))"
     ]
    }
   ],
   "source": [
    "evaluator = OpenAIChatEvaluator(api_key_path=api_key_path,\n",
    "                                json_file_path=json_path, \n",
    "                                keys_to_consider=keys_to_consider,\n",
    "                                question_type=article_type,\n",
    "                                question=question,\n",
    "                                test_mode=test_mode,\n",
    "                                model_choice=\"gpt4\")\n",
    "answers = evaluator.evaluate_all_files()\n",
    "evaluator.save_to_json(answers)"
   ]
  },
  {
   "cell_type": "markdown",
   "metadata": {},
   "source": [
    "04 - Convert results to a CSV"
   ]
  },
  {
   "cell_type": "code",
   "execution_count": null,
   "metadata": {},
   "outputs": [],
   "source": [
    "import numpy as np\n",
    "\n",
    "#Map responses to data\n",
    "# Define a dictionary to map keywords in order or priority to values\n",
    "keyword_mapping = {\n",
    "    0: [\"poor\", \"bad\", \"negative\", \"n\", \"no\"],\n",
    "    1: [\"good\", \"excellent\", \"positive\", \"y\", \"yes\"]\n",
    "}\n"
   ]
  },
  {
   "cell_type": "code",
   "execution_count": null,
   "metadata": {},
   "outputs": [],
   "source": [
    "json_path = r'/Users/cu135/Library/CloudStorage/OneDrive-Personal/OneDrive_Documents/Work/Software/Research/nimlab/gpt_document_reader/amnesia_cases/ocr/keyword_matching_labeled_text/text_evaluations/research_evaluations.json'"
   ]
  },
  {
   "cell_type": "code",
   "execution_count": null,
   "metadata": {},
   "outputs": [
    {
     "name": "stderr",
     "output_type": "stream",
     "text": [
      "/Users/cu135/.local/lib/python3.10/site-packages/fuzzywuzzy/fuzz.py:11: UserWarning: Using slow pure-python SequenceMatcher. Install python-Levenshtein to remove this warning\n",
      "  warnings.warn('Using slow pure-python SequenceMatcher. Install python-Levenshtein to remove this warning')\n"
     ]
    },
    {
     "name": "stdout",
     "output_type": "stream",
     "text": [
      "                                                    Do you think this is reasonably free of selection bias? For example, a case series is free of bias. (Y/N).  \\\n",
      "Mosimann et al. - 2012 - Fornix infarction and ...                                                  0                                                            \n",
      "\n",
      "                                                    Do you think the history of presenting illness was reasonably described? For example, describing a patient's symptoms and circumstances of presentation are acceptable. (Y/N)  \\\n",
      "Mosimann et al. - 2012 - Fornix infarction and ...                                                  0                                                                                                                               \n",
      "\n",
      "                                                    Prioritizing implicit information, do you think diagnostic diagnostic tests relevant to the diagnosis had been completed to consolidate the diagnosis? Specific details are not necessary. For example, vascular imaging in a stroke is a reasonable workup. (Y/N).  \\\n",
      "Mosimann et al. - 2012 - Fornix infarction and ...                                                  1                                                                                                                                                                                                                     \n",
      "\n",
      "                                                    Do you think the symptom is reasonably attributable to the lesion? For example, a stroke and subsequent amnesia is highly attributable. If the word acute is used, this is a yes. (Y/N)  \\\n",
      "Mosimann et al. - 2012 - Fornix infarction and ...                                                  1                                                                                                                                         \n",
      "\n",
      "                                                    Do you think the extended patient history was well described? For example, diabetes in pas medical history, family history of strokes, or note of medications. (Y/N)  \\\n",
      "Mosimann et al. - 2012 - Fornix infarction and ...                                                  0                                                                                                                      \n",
      "\n",
      "                                                    Considering both explicit mentions and contextual clues like ordered presnetaiton of history to symptoms to workup, can you infer whether the history was presented as a timeline? For example, a description of acute neurological deficit to imaging findings to symptoms is acceptable. (Y/N)  \\\n",
      "Mosimann et al. - 2012 - Fornix infarction and ...                                                  0                                                                                                                                                                                                                                                  \n",
      "\n",
      "                                                    Prioritizing implicit contextual cues, can you infer if the neuroimaging may have been taken around the time of symptom or lesion onset? If neuroimaging is mentioned in close proximity to the description of symptoms, assume they are temporally related. (Y/N)  \\\n",
      "Mosimann et al. - 2012 - Fornix infarction and ...                                                  1                                                                                                                                                                                                                    \n",
      "\n",
      "                                                    Do you think the case has sufficient details to allow another doctor to make their own inferences? Specifics are not necessary so long as the critical information is present. For example, if the history and pertinent diagnostic information provided, this is acceptable. (Y/N)  \\\n",
      "Mosimann et al. - 2012 - Fornix infarction and ...                                                  1                                                                                                                                                                                                                                     \n",
      "\n",
      "                                                    Is the case report suitable for lesion network mapping? For example, a case describing symptoms and related neuroimaging related to symptoms is sufficient. (Y/N)  \n",
      "Mosimann et al. - 2012 - Fornix infarction and ...                                                  0                                                                                                                  \n"
     ]
    }
   ],
   "source": [
    "from calvin_utils.gpt_sys_review.json_utils import CustomSummarizer\n",
    "\n",
    "# Create an instance of CustomSummarizer\n",
    "custom_summarizer = CustomSummarizer(json_path=json_path, keyword_mapping=keyword_mapping)\n",
    "\n",
    "# Run the custom summarization and save the results to CSV\n",
    "result_df = custom_summarizer.run_custom()\n",
    "\n",
    "# Display the resulting DataFrame\n",
    "print(result_df)"
   ]
  },
  {
   "cell_type": "code",
   "execution_count": null,
   "metadata": {},
   "outputs": [],
   "source": []
  }
 ],
 "metadata": {
  "kernelspec": {
   "display_name": "nimlab_py310",
   "language": "python",
   "name": "python3"
  },
  "language_info": {
   "codemirror_mode": {
    "name": "ipython",
    "version": 3
   },
   "file_extension": ".py",
   "mimetype": "text/x-python",
   "name": "python",
   "nbconvert_exporter": "python",
   "pygments_lexer": "ipython3",
   "version": "3.10.8"
  },
  "orig_nbformat": 4
 },
 "nbformat": 4,
 "nbformat_minor": 2
}
