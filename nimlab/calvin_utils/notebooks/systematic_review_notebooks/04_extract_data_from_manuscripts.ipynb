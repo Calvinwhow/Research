{
 "cells": [
  {
   "cell_type": "markdown",
   "metadata": {},
   "source": [
    "01 - Generate JSON from Post-Inclusion/Exclusion CSV\n",
    "- Enter path to CSV which has successful articles in the index column\n",
    "- Enter path to JSON which has the articles with labeled sections"
   ]
  },
  {
   "cell_type": "code",
   "execution_count": 1,
   "metadata": {},
   "outputs": [],
   "source": [
    "csv_path = \"/Users/cu135/Library/CloudStorage/OneDrive-Personal/OneDrive_Documents/Work/Software/Research/nimlab/gpt_document_reader/cognitive_examinations/research_extractions/inclusion_exclusion_results/raw_results.csv\"\n",
    "json_path = \"/Users/cu135/Library/CloudStorage/OneDrive-Personal/OneDrive_Documents/Work/Software/Research/nimlab/gpt_document_reader/cognitive_examinations/labeled_text/research_labeled_sections.json\""
   ]
  },
  {
   "cell_type": "code",
   "execution_count": 2,
   "metadata": {},
   "outputs": [
    {
     "name": "stderr",
     "output_type": "stream",
     "text": [
      "/Users/cu135/.local/lib/python3.10/site-packages/fuzzywuzzy/fuzz.py:11: UserWarning: Using slow pure-python SequenceMatcher. Install python-Levenshtein to remove this warning\n",
      "  warnings.warn('Using slow pure-python SequenceMatcher. Install python-Levenshtein to remove this warning')\n"
     ]
    }
   ],
   "source": [
    "from calvin_utils.gpt_sys_review.json_utils import FilterPapers\n",
    "\n",
    "# Initialize and run the FilterPapers class\n",
    "filter_papers = FilterPapers(csv_path=csv_path, json_path=json_path)\n",
    "filter_papers.run()"
   ]
  },
  {
   "cell_type": "markdown",
   "metadata": {},
   "source": [
    "02 - Prepare Data Extraction Questions\n",
    "- Dev Note: This is a repeat class and should be inherited from a .py"
   ]
  },
  {
   "cell_type": "code",
   "execution_count": 3,
   "metadata": {},
   "outputs": [
    {
     "name": "stdout",
     "output_type": "stream",
     "text": [
      "Here are example data extraction questions:\n",
      "{\n",
      "    \"Does the patient(s) represent(s) the whole experience of the investigator (center) or is the selection method unclear to the extent that other patients with similar presentation may not have been reported? (Good/Bad/Unclear)\": \"representative_case_quality\",\n",
      "    \"Was patient\\u2019s causal exposure clearly described? (Good/Bad/Unclear)\": \"causality_quality\",\n",
      "    \"Were diagnostic tests or assessment methods and the results clearly described (amnesia tests)? (Good/Bad/Unclear)\": \"phenotyping_quality\",\n",
      "    \"Were other alternative causes that may explain the observation (amnesia) ruled out? (Good/Bad/Unclear)\": \"workup_quality\",\n",
      "    \"Were patient\\u2019s demographics, medical history, comobidities clearly described? (Good/Bad/Unclear)\": \"clinical_covariates_quality\",\n",
      "    \"Were patient\\u2019s symptoms, interventions, and clinical outcomes clearly presented as a timeline? (Good/Bad/Unclear)\": \"history_quality\",\n",
      "    \"Was the lesion image taken around the time of observation (amnesia) assessment? (Good/Bad/Unclear)\": \"temporal_causality_quality\",\n",
      "    \"Is the case(s) described with sufficient details to allow other investigators to replicate the research or to allow practitioners make inferences related to their own practice? (Good/Bad/Unclear)\": \"history_quality_2\"\n",
      "}\n",
      "Here are some more generalizable data extraction questions:\n",
      "{\n",
      "    \"How affected is this study by selection bias? Little (Good). Very (Bad). Unsure (Unclear).\": \"selection_bias\",\n",
      "    \"How well was the timeline of lesion/symptom onset described? (Good/Bad/Unclear)\": \"exposure\",\n",
      "    \"How affected is this case by attribution error? Little (Good). Very (Bad). Unsure (Unclear).\": \"outcome\",\n",
      "    \"How reasonable is the attribution of the lesion/diagnosis to the symptom? (Good/Bad/Unclear)\": \"attribution_error\",\n",
      "    \"How well was the patients baseline pre-lesion described? (Good/Bad/Unclear)\": \"pre_event_assessment\",\n",
      "    \"How well was the patients outcome post-lesion described? (Good/Bad/Unclear)\": \"post_event_assessment\",\n",
      "    \"Do you think the neuroimaging was taken within temporal proximity to the lesion? Days-weeks (Good). Months-years (Bad). Unsure (Unclear).\": \"lesion_related-images\",\n",
      "    \"Do you think another practitioner would come to the same conclusion (diagnosis/attribution) that this group did? (Good/Bad/Unclear)\": \"replicability\",\n",
      "    \"How is the quality of this case overall? (Good/Bad/Unclear)\": \"overall_appraisal\"\n",
      "}\n",
      "Here is a question template\n",
      "{\n",
      "    \" ? (metric/metric/metric)\": \"question_label\"\n",
      "}\n"
     ]
    }
   ],
   "source": [
    "from calvin_utils.gpt_sys_review.gpt_utils import QuestionTemplate\n",
    "\n",
    "question_template = QuestionTemplate()\n",
    "question_template.data_extraction_questions()"
   ]
  },
  {
   "cell_type": "markdown",
   "metadata": {},
   "source": [
    "Copy the Template Dict from Above and Fill it Out As per the Example"
   ]
  },
  {
   "cell_type": "code",
   "execution_count": 4,
   "metadata": {},
   "outputs": [],
   "source": [
    "question = {\n",
    "    \"Is this test developed to be taken anywhere (Y), or in the clinic (N)?\": \"remote\",\n",
    "    \"What cognitive domains does the developed program assess? Domains are: Language | Memory | Executive | Visuospatial | Fluency.\": \"cognitive_domains\",\n",
    "    \"How is the test administered? Options are: Web application, tablet, phone, or other.\": \"administration_modality\",\n",
    "    \"Name the statistical/machine learning techniques employed.\": \"ml_techniques\",\n",
    "    \"What are the critical results of the study? (AUC, sensitivty, specificty, correlation, etc).\": \"results\",\n",
    "    \"What is the patient population (Sample size, disease states, cognitive status, age, ethnicity).\": \"patient_population\",\n",
    "}"
   ]
  },
  {
   "cell_type": "markdown",
   "metadata": {},
   "source": [
    "03 - Extract Data with GPT\n"
   ]
  },
  {
   "cell_type": "code",
   "execution_count": 5,
   "metadata": {},
   "outputs": [],
   "source": [
    "# Define file paths\n",
    "api_key_path = \"/Users/cu135/Library/CloudStorage/OneDrive-Personal/OneDrive_Documents/Work/Software/Research/nimlab/openai_key.txt\"\n",
    "\n",
    "# Define the keys you want to consider (exclude 'References')\n",
    "keys_to_consider = [\"Abstract\", \"Methods\", \"Results\"]  # Add or remove keys as per your requirement\n",
    "\n",
    "# Define the type of article and questions\n",
    "article_type = \"research\""
   ]
  },
  {
   "cell_type": "code",
   "execution_count": 6,
   "metadata": {},
   "outputs": [],
   "source": [
    "from calvin_utils.gpt_sys_review.gpt_utils import OpenAIChatEvaluator"
   ]
  },
  {
   "cell_type": "code",
   "execution_count": 7,
   "metadata": {},
   "outputs": [],
   "source": [
    "test_mode=False"
   ]
  },
  {
   "cell_type": "code",
   "execution_count": 8,
   "metadata": {},
   "outputs": [
    {
     "name": "stderr",
     "output_type": "stream",
     "text": [
      "  6%|▌         | 3/49 [01:03<17:31, 22.87s/it]"
     ]
    },
    {
     "name": "stdout",
     "output_type": "stream",
     "text": [
      "Rate limit error: Rate limit reached for default-gpt-3.5-turbo-16k in organization org-Y2tKyCPFO6tIjtCtOVZ7c9tr on tokens per min. Limit: 180000 / min. Current: 173758 / min. Contact us through our help center at help.openai.com if you continue to have issues.. Retrying Question No. 1 Attempt:(1)\n"
     ]
    },
    {
     "name": "stderr",
     "output_type": "stream",
     "text": [
      " 10%|█         | 5/49 [02:24<22:40, 30.92s/it]"
     ]
    },
    {
     "name": "stdout",
     "output_type": "stream",
     "text": [
      "Rate limit error: Rate limit reached for default-gpt-3.5-turbo-16k in organization org-Y2tKyCPFO6tIjtCtOVZ7c9tr on tokens per min. Limit: 180000 / min. Current: 168691 / min. Contact us through our help center at help.openai.com if you continue to have issues.. Retrying Question No. 0 Attempt:(1)\n"
     ]
    },
    {
     "name": "stderr",
     "output_type": "stream",
     "text": [
      " 12%|█▏        | 6/49 [03:03<24:19, 33.95s/it]"
     ]
    },
    {
     "name": "stdout",
     "output_type": "stream",
     "text": [
      "Rate limit error: Rate limit reached for default-gpt-3.5-turbo-16k in organization org-Y2tKyCPFO6tIjtCtOVZ7c9tr on tokens per min. Limit: 180000 / min. Current: 170162 / min. Contact us through our help center at help.openai.com if you continue to have issues.. Retrying Question No. 0 Attempt:(1)\n"
     ]
    },
    {
     "name": "stderr",
     "output_type": "stream",
     "text": [
      " 16%|█▋        | 8/49 [04:18<23:00, 33.68s/it]"
     ]
    },
    {
     "name": "stdout",
     "output_type": "stream",
     "text": [
      "Rate limit error: Rate limit reached for default-gpt-3.5-turbo-16k in organization org-Y2tKyCPFO6tIjtCtOVZ7c9tr on tokens per min. Limit: 180000 / min. Current: 174634 / min. Contact us through our help center at help.openai.com if you continue to have issues.. Retrying Question No. 2 Attempt:(1)\n"
     ]
    },
    {
     "name": "stderr",
     "output_type": "stream",
     "text": [
      " 20%|██        | 10/49 [05:28<20:43, 31.89s/it]"
     ]
    },
    {
     "name": "stdout",
     "output_type": "stream",
     "text": [
      "Rate limit error: Rate limit reached for default-gpt-3.5-turbo-16k in organization org-Y2tKyCPFO6tIjtCtOVZ7c9tr on tokens per min. Limit: 180000 / min. Current: 169772 / min. Contact us through our help center at help.openai.com if you continue to have issues.. Retrying Question No. 3 Attempt:(1)\n"
     ]
    },
    {
     "name": "stderr",
     "output_type": "stream",
     "text": [
      " 27%|██▋       | 13/49 [06:49<15:15, 25.44s/it]"
     ]
    },
    {
     "name": "stdout",
     "output_type": "stream",
     "text": [
      "Rate limit error: Rate limit reached for default-gpt-3.5-turbo-16k in organization org-Y2tKyCPFO6tIjtCtOVZ7c9tr on tokens per min. Limit: 180000 / min. Current: 172527 / min. Contact us through our help center at help.openai.com if you continue to have issues.. Retrying Question No. 1 Attempt:(1)\n"
     ]
    },
    {
     "name": "stderr",
     "output_type": "stream",
     "text": [
      " 31%|███       | 15/49 [07:46<14:35, 25.76s/it]"
     ]
    },
    {
     "name": "stdout",
     "output_type": "stream",
     "text": [
      "Rate limit error: Rate limit reached for default-gpt-3.5-turbo-16k in organization org-Y2tKyCPFO6tIjtCtOVZ7c9tr on tokens per min. Limit: 180000 / min. Current: 172524 / min. Contact us through our help center at help.openai.com if you continue to have issues.. Retrying Question No. 5 Attempt:(1)\n"
     ]
    },
    {
     "name": "stderr",
     "output_type": "stream",
     "text": [
      " 33%|███▎      | 16/49 [08:44<19:28, 35.40s/it]"
     ]
    },
    {
     "name": "stdout",
     "output_type": "stream",
     "text": [
      "Rate limit error: Rate limit reached for default-gpt-3.5-turbo-16k in organization org-Y2tKyCPFO6tIjtCtOVZ7c9tr on tokens per min. Limit: 180000 / min. Current: 168867 / min. Contact us through our help center at help.openai.com if you continue to have issues.. Retrying Question No. 2 Attempt:(1)\n"
     ]
    },
    {
     "name": "stderr",
     "output_type": "stream",
     "text": [
      " 41%|████      | 20/49 [10:22<11:15, 23.30s/it]"
     ]
    },
    {
     "name": "stdout",
     "output_type": "stream",
     "text": [
      "Rate limit error: Rate limit reached for default-gpt-3.5-turbo-16k in organization org-Y2tKyCPFO6tIjtCtOVZ7c9tr on tokens per min. Limit: 180000 / min. Current: 173439 / min. Contact us through our help center at help.openai.com if you continue to have issues.. Retrying Question No. 3 Attempt:(1)\n"
     ]
    },
    {
     "name": "stderr",
     "output_type": "stream",
     "text": [
      " 47%|████▋     | 23/49 [11:27<08:30, 19.64s/it]"
     ]
    },
    {
     "name": "stdout",
     "output_type": "stream",
     "text": [
      "Rate limit error: Rate limit reached for default-gpt-3.5-turbo-16k in organization org-Y2tKyCPFO6tIjtCtOVZ7c9tr on tokens per min. Limit: 180000 / min. Current: 172960 / min. Contact us through our help center at help.openai.com if you continue to have issues.. Retrying Question No. 3 Attempt:(1)\n"
     ]
    },
    {
     "name": "stderr",
     "output_type": "stream",
     "text": [
      " 49%|████▉     | 24/49 [12:07<10:38, 25.54s/it]"
     ]
    },
    {
     "name": "stdout",
     "output_type": "stream",
     "text": [
      "Rate limit error: Rate limit reached for default-gpt-3.5-turbo-16k in organization org-Y2tKyCPFO6tIjtCtOVZ7c9tr on tokens per min. Limit: 180000 / min. Current: 171024 / min. Contact us through our help center at help.openai.com if you continue to have issues.. Retrying Question No. 5 Attempt:(1)\n"
     ]
    },
    {
     "name": "stderr",
     "output_type": "stream",
     "text": [
      " 55%|█████▌    | 27/49 [13:28<08:20, 22.76s/it]"
     ]
    },
    {
     "name": "stdout",
     "output_type": "stream",
     "text": [
      "Rate limit error: Rate limit reached for default-gpt-3.5-turbo-16k in organization org-Y2tKyCPFO6tIjtCtOVZ7c9tr on tokens per min. Limit: 180000 / min. Current: 173342 / min. Contact us through our help center at help.openai.com if you continue to have issues.. Retrying Question No. 3 Attempt:(1)\n"
     ]
    },
    {
     "name": "stderr",
     "output_type": "stream",
     "text": [
      " 57%|█████▋    | 28/49 [14:28<11:53, 33.99s/it]"
     ]
    },
    {
     "name": "stdout",
     "output_type": "stream",
     "text": [
      "Rate limit error: Rate limit reached for default-gpt-3.5-turbo-16k in organization org-Y2tKyCPFO6tIjtCtOVZ7c9tr on tokens per min. Limit: 180000 / min. Current: 169701 / min. Contact us through our help center at help.openai.com if you continue to have issues.. Retrying Question No. 5 Attempt:(1)\n"
     ]
    },
    {
     "name": "stderr",
     "output_type": "stream",
     "text": [
      " 59%|█████▉    | 29/49 [15:31<14:15, 42.77s/it]"
     ]
    },
    {
     "name": "stdout",
     "output_type": "stream",
     "text": [
      "Rate limit error: Rate limit reached for default-gpt-3.5-turbo-16k in organization org-Y2tKyCPFO6tIjtCtOVZ7c9tr on tokens per min. Limit: 180000 / min. Current: 169214 / min. Contact us through our help center at help.openai.com if you continue to have issues.. Retrying Question No. 2 Attempt:(1)\n"
     ]
    },
    {
     "name": "stderr",
     "output_type": "stream",
     "text": [
      " 61%|██████    | 30/49 [16:20<14:05, 44.51s/it]"
     ]
    },
    {
     "name": "stdout",
     "output_type": "stream",
     "text": [
      "Rate limit error: Rate limit reached for default-gpt-3.5-turbo-16k in organization org-Y2tKyCPFO6tIjtCtOVZ7c9tr on tokens per min. Limit: 180000 / min. Current: 175539 / min. Contact us through our help center at help.openai.com if you continue to have issues.. Retrying Question No. 5 Attempt:(1)\n"
     ]
    },
    {
     "name": "stderr",
     "output_type": "stream",
     "text": [
      " 67%|██████▋   | 33/49 [17:48<08:26, 31.66s/it]"
     ]
    },
    {
     "name": "stdout",
     "output_type": "stream",
     "text": [
      "Rate limit error: Rate limit reached for default-gpt-3.5-turbo-16k in organization org-Y2tKyCPFO6tIjtCtOVZ7c9tr on tokens per min. Limit: 180000 / min. Current: 172193 / min. Contact us through our help center at help.openai.com if you continue to have issues.. Retrying Question No. 1 Attempt:(1)\n"
     ]
    },
    {
     "name": "stderr",
     "output_type": "stream",
     "text": [
      " 73%|███████▎  | 36/49 [19:20<06:20, 29.28s/it]"
     ]
    },
    {
     "name": "stdout",
     "output_type": "stream",
     "text": [
      "Rate limit error: Rate limit reached for default-gpt-3.5-turbo-16k in organization org-Y2tKyCPFO6tIjtCtOVZ7c9tr on tokens per min. Limit: 180000 / min. Current: 173674 / min. Contact us through our help center at help.openai.com if you continue to have issues.. Retrying Question No. 0 Attempt:(1)\n"
     ]
    },
    {
     "name": "stderr",
     "output_type": "stream",
     "text": [
      " 76%|███████▌  | 37/49 [20:07<06:54, 34.54s/it]"
     ]
    },
    {
     "name": "stdout",
     "output_type": "stream",
     "text": [
      "Rate limit error: Rate limit reached for default-gpt-3.5-turbo-16k in organization org-Y2tKyCPFO6tIjtCtOVZ7c9tr on tokens per min. Limit: 180000 / min. Current: 171832 / min. Contact us through our help center at help.openai.com if you continue to have issues.. Retrying Question No. 3 Attempt:(1)\n"
     ]
    },
    {
     "name": "stderr",
     "output_type": "stream",
     "text": [
      " 82%|████████▏ | 40/49 [21:26<03:55, 26.15s/it]"
     ]
    },
    {
     "name": "stdout",
     "output_type": "stream",
     "text": [
      "Rate limit error: Rate limit reached for default-gpt-3.5-turbo-16k in organization org-Y2tKyCPFO6tIjtCtOVZ7c9tr on tokens per min. Limit: 180000 / min. Current: 172650 / min. Contact us through our help center at help.openai.com if you continue to have issues.. Retrying Question No. 3 Attempt:(1)\n"
     ]
    },
    {
     "name": "stderr",
     "output_type": "stream",
     "text": [
      " 84%|████████▎ | 41/49 [22:13<04:19, 32.47s/it]"
     ]
    },
    {
     "name": "stdout",
     "output_type": "stream",
     "text": [
      "Rate limit error: Rate limit reached for default-gpt-3.5-turbo-16k in organization org-Y2tKyCPFO6tIjtCtOVZ7c9tr on tokens per min. Limit: 180000 / min. Current: 175560 / min. Contact us through our help center at help.openai.com if you continue to have issues.. Retrying Question No. 4 Attempt:(1)\n"
     ]
    },
    {
     "name": "stderr",
     "output_type": "stream",
     "text": [
      " 88%|████████▊ | 43/49 [23:35<03:29, 34.89s/it]"
     ]
    },
    {
     "name": "stdout",
     "output_type": "stream",
     "text": [
      "Rate limit error: Rate limit reached for default-gpt-3.5-turbo-16k in organization org-Y2tKyCPFO6tIjtCtOVZ7c9tr on tokens per min. Limit: 180000 / min. Current: 173398 / min. Contact us through our help center at help.openai.com if you continue to have issues.. Retrying Question No. 3 Attempt:(1)\n"
     ]
    },
    {
     "name": "stderr",
     "output_type": "stream",
     "text": [
      " 90%|████████▉ | 44/49 [24:15<03:02, 36.41s/it]"
     ]
    },
    {
     "name": "stdout",
     "output_type": "stream",
     "text": [
      "Rate limit error: Rate limit reached for default-gpt-3.5-turbo-16k in organization org-Y2tKyCPFO6tIjtCtOVZ7c9tr on tokens per min. Limit: 180000 / min. Current: 174264 / min. Contact us through our help center at help.openai.com if you continue to have issues.. Retrying Question No. 2 Attempt:(1)\n"
     ]
    },
    {
     "name": "stderr",
     "output_type": "stream",
     "text": [
      " 94%|█████████▍| 46/49 [25:37<01:51, 37.04s/it]"
     ]
    },
    {
     "name": "stdout",
     "output_type": "stream",
     "text": [
      "Rate limit error: Rate limit reached for default-gpt-3.5-turbo-16k in organization org-Y2tKyCPFO6tIjtCtOVZ7c9tr on tokens per min. Limit: 180000 / min. Current: 172269 / min. Contact us through our help center at help.openai.com if you continue to have issues.. Retrying Question No. 3 Attempt:(1)\n"
     ]
    },
    {
     "name": "stderr",
     "output_type": "stream",
     "text": [
      " 98%|█████████▊| 48/49 [26:34<00:30, 30.70s/it]"
     ]
    },
    {
     "name": "stdout",
     "output_type": "stream",
     "text": [
      "Rate limit error: Rate limit reached for default-gpt-3.5-turbo-16k in organization org-Y2tKyCPFO6tIjtCtOVZ7c9tr on tokens per min. Limit: 180000 / min. Current: 173079 / min. Contact us through our help center at help.openai.com if you continue to have issues.. Retrying Question No. 3 Attempt:(1)\n"
     ]
    },
    {
     "name": "stderr",
     "output_type": "stream",
     "text": [
      "100%|██████████| 49/49 [27:31<00:00, 33.70s/it]"
     ]
    },
    {
     "name": "stdout",
     "output_type": "stream",
     "text": [
      "Saved to: /Users/cu135/Library/CloudStorage/OneDrive-Personal/OneDrive_Documents/Work/Software/Research/nimlab/gpt_document_reader/cognitive_examinations/labeled_text/../research_extractions/research_evaluations.json\n"
     ]
    },
    {
     "name": "stderr",
     "output_type": "stream",
     "text": [
      "\n"
     ]
    },
    {
     "data": {
      "text/plain": [
       "'/Users/cu135/Library/CloudStorage/OneDrive-Personal/OneDrive_Documents/Work/Software/Research/nimlab/gpt_document_reader/cognitive_examinations/labeled_text/../research_extractions/research_evaluations.json'"
      ]
     },
     "execution_count": 8,
     "metadata": {},
     "output_type": "execute_result"
    }
   ],
   "source": [
    "evaluator = OpenAIChatEvaluator(api_key_path=api_key_path,\n",
    "                                json_file_path=json_path, \n",
    "                                keys_to_consider=keys_to_consider,\n",
    "                                question_type=article_type,\n",
    "                                question=question,\n",
    "                                test_mode=test_mode,\n",
    "                                model_choice=\"gpt3_large\")\n",
    "answers = evaluator.evaluate_all_files()\n",
    "evaluator.save_to_json(answers)"
   ]
  },
  {
   "cell_type": "markdown",
   "metadata": {},
   "source": [
    "04 - Convert results to a CSV"
   ]
  },
  {
   "cell_type": "code",
   "execution_count": 9,
   "metadata": {},
   "outputs": [],
   "source": [
    "import numpy as np\n",
    "\n",
    "#Map responses to data\n",
    "# Define a dictionary to map keywords in order or priority to values\n",
    "keyword_mapping = None\n",
    "# {\n",
    "#     0: [\"poor\", \"bad\", \"negative\", \"n\", \"no\"],\n",
    "#     1: [\"good\", \"excellent\", \"positive\", \"y\", \"yes\"]\n",
    "# }\n"
   ]
  },
  {
   "cell_type": "code",
   "execution_count": 10,
   "metadata": {},
   "outputs": [],
   "source": [
    "json_path = r'/Users/cu135/Library/CloudStorage/OneDrive-Personal/OneDrive_Documents/Work/Software/Research/nimlab/gpt_document_reader/amnesia_cases/research_extractions/gpt4_validation_research_evaluations.json'"
   ]
  },
  {
   "cell_type": "code",
   "execution_count": 11,
   "metadata": {},
   "outputs": [
    {
     "name": "stdout",
     "output_type": "stream",
     "text": [
      "                                                    Do you think this is reasonably free of selection bias? For example, a case series is free of bias. (Y/N).  \\\n",
      "Mosimann et al. - 2012 - Fornix infarction and ...                                                  1                                                            \n",
      "Parkin - IMPAIRMENT OF MEMORY FOLLOWING DISCRET...                                                  1                                                            \n",
      "Amnesia after right frontal subcortical lesion,...                                                  1                                                            \n",
      "Yasuda et al. - DISSOCIATION BETWEEN SEMANTIC A...                                                  1                                                            \n",
      "Kapur et al. - 1996 - Anterograde but not retro...                                                  1                                                            \n",
      "...                                                                                               ...                                                            \n",
      "Clinical case report memory functions after ant...                                                  1                                                            \n",
      "Brown et al. - 2016 - Isolated, relative aprove...                                                  1                                                            \n",
      "Kapur and Brooks - 1999 - Temporally-specific r...                                                  2                                                            \n",
      "Mori et al. - 1986 - Left thalamic infarction a...                                                  1                                                            \n",
      "Reed and Squire - 1998 - Retrograde Amnesia for...                                                  1                                                            \n",
      "\n",
      "                                                    Do you think the history of presenting illness was reasonably described? For example, describing a patient's symptoms and circumstances of presentation are acceptable. (Y/N)  \\\n",
      "Mosimann et al. - 2012 - Fornix infarction and ...                                                  1                                                                                                                               \n",
      "Parkin - IMPAIRMENT OF MEMORY FOLLOWING DISCRET...                                                  1                                                                                                                               \n",
      "Amnesia after right frontal subcortical lesion,...                                                  1                                                                                                                               \n",
      "Yasuda et al. - DISSOCIATION BETWEEN SEMANTIC A...                                                  2                                                                                                                               \n",
      "Kapur et al. - 1996 - Anterograde but not retro...                                                  1                                                                                                                               \n",
      "...                                                                                               ...                                                                                                                               \n",
      "Clinical case report memory functions after ant...                                                  1                                                                                                                               \n",
      "Brown et al. - 2016 - Isolated, relative aprove...                                                  1                                                                                                                               \n",
      "Kapur and Brooks - 1999 - Temporally-specific r...                                                  2                                                                                                                               \n",
      "Mori et al. - 1986 - Left thalamic infarction a...                                                  1                                                                                                                               \n",
      "Reed and Squire - 1998 - Retrograde Amnesia for...                                                  2                                                                                                                               \n",
      "\n",
      "                                                    Prioritizing implicit information, do you think diagnostic diagnostic tests relevant to the diagnosis had been completed to consolidate the diagnosis? Specific details are not necessary. For example, vascular imaging in a stroke is a reasonable workup. (Y/N).  \\\n",
      "Mosimann et al. - 2012 - Fornix infarction and ...                                                  1                                                                                                                                                                                                                     \n",
      "Parkin - IMPAIRMENT OF MEMORY FOLLOWING DISCRET...                                                  1                                                                                                                                                                                                                     \n",
      "Amnesia after right frontal subcortical lesion,...                                                  1                                                                                                                                                                                                                     \n",
      "Yasuda et al. - DISSOCIATION BETWEEN SEMANTIC A...                                                  2                                                                                                                                                                                                                     \n",
      "Kapur et al. - 1996 - Anterograde but not retro...                                                  1                                                                                                                                                                                                                     \n",
      "...                                                                                               ...                                                                                                                                                                                                                     \n",
      "Clinical case report memory functions after ant...                                                  1                                                                                                                                                                                                                     \n",
      "Brown et al. - 2016 - Isolated, relative aprove...                                                  2                                                                                                                                                                                                                     \n",
      "Kapur and Brooks - 1999 - Temporally-specific r...                                                  2                                                                                                                                                                                                                     \n",
      "Mori et al. - 1986 - Left thalamic infarction a...                                                  1                                                                                                                                                                                                                     \n",
      "Reed and Squire - 1998 - Retrograde Amnesia for...                                                  2                                                                                                                                                                                                                     \n",
      "\n",
      "                                                    Do you think the symptom is reasonably attributable to the lesion? For example, a stroke and subsequent amnesia is highly attributable. If the word acute is used, this is a yes. (Y/N)  \\\n",
      "Mosimann et al. - 2012 - Fornix infarction and ...                                                1.0                                                                                                                                         \n",
      "Parkin - IMPAIRMENT OF MEMORY FOLLOWING DISCRET...                                                1.0                                                                                                                                         \n",
      "Amnesia after right frontal subcortical lesion,...                                                1.0                                                                                                                                         \n",
      "Yasuda et al. - DISSOCIATION BETWEEN SEMANTIC A...                                                2.0                                                                                                                                         \n",
      "Kapur et al. - 1996 - Anterograde but not retro...                                                1.0                                                                                                                                         \n",
      "...                                                                                               ...                                                                                                                                         \n",
      "Clinical case report memory functions after ant...                                                1.0                                                                                                                                         \n",
      "Brown et al. - 2016 - Isolated, relative aprove...                                                0.0                                                                                                                                         \n",
      "Kapur and Brooks - 1999 - Temporally-specific r...                                                2.0                                                                                                                                         \n",
      "Mori et al. - 1986 - Left thalamic infarction a...                                                2.0                                                                                                                                         \n",
      "Reed and Squire - 1998 - Retrograde Amnesia for...                                                2.0                                                                                                                                         \n",
      "\n",
      "                                                    Do you think the extended patient history was well described? For example, diabetes in pas medical history, family history of strokes, or note of medications. (Y/N)  \\\n",
      "Mosimann et al. - 2012 - Fornix infarction and ...                                                  0                                                                                                                      \n",
      "Parkin - IMPAIRMENT OF MEMORY FOLLOWING DISCRET...                                                  0                                                                                                                      \n",
      "Amnesia after right frontal subcortical lesion,...                                                  0                                                                                                                      \n",
      "Yasuda et al. - DISSOCIATION BETWEEN SEMANTIC A...                                                  0                                                                                                                      \n",
      "Kapur et al. - 1996 - Anterograde but not retro...                                                  0                                                                                                                      \n",
      "...                                                                                               ...                                                                                                                      \n",
      "Clinical case report memory functions after ant...                                                  0                                                                                                                      \n",
      "Brown et al. - 2016 - Isolated, relative aprove...                                                  0                                                                                                                      \n",
      "Kapur and Brooks - 1999 - Temporally-specific r...                                                  0                                                                                                                      \n",
      "Mori et al. - 1986 - Left thalamic infarction a...                                                  0                                                                                                                      \n",
      "Reed and Squire - 1998 - Retrograde Amnesia for...                                                  0                                                                                                                      \n",
      "\n",
      "                                                    Considering both explicit mentions and contextual clues like ordered presnetaiton of history to symptoms to workup, can you infer whether the history was presented as a timeline? For example, a description of acute neurological deficit to imaging findings to symptoms is acceptable. (Y/N)  \\\n",
      "Mosimann et al. - 2012 - Fornix infarction and ...                                                  1                                                                                                                                                                                                                                                  \n",
      "Parkin - IMPAIRMENT OF MEMORY FOLLOWING DISCRET...                                                  1                                                                                                                                                                                                                                                  \n",
      "Amnesia after right frontal subcortical lesion,...                                                  1                                                                                                                                                                                                                                                  \n",
      "Yasuda et al. - DISSOCIATION BETWEEN SEMANTIC A...                                                  2                                                                                                                                                                                                                                                  \n",
      "Kapur et al. - 1996 - Anterograde but not retro...                                                  1                                                                                                                                                                                                                                                  \n",
      "...                                                                                               ...                                                                                                                                                                                                                                                  \n",
      "Clinical case report memory functions after ant...                                                  1                                                                                                                                                                                                                                                  \n",
      "Brown et al. - 2016 - Isolated, relative aprove...                                                  1                                                                                                                                                                                                                                                  \n",
      "Kapur and Brooks - 1999 - Temporally-specific r...                                                  2                                                                                                                                                                                                                                                  \n",
      "Mori et al. - 1986 - Left thalamic infarction a...                                                  1                                                                                                                                                                                                                                                  \n",
      "Reed and Squire - 1998 - Retrograde Amnesia for...                                                  2                                                                                                                                                                                                                                                  \n",
      "\n",
      "                                                    Prioritizing implicit contextual cues, can you infer if the neuroimaging may have been taken around the time of symptom or lesion onset? If neuroimaging is mentioned in close proximity to the description of symptoms, assume they are temporally related. (Y/N)  \\\n",
      "Mosimann et al. - 2012 - Fornix infarction and ...                                                  1                                                                                                                                                                                                                    \n",
      "Parkin - IMPAIRMENT OF MEMORY FOLLOWING DISCRET...                                                  0                                                                                                                                                                                                                    \n",
      "Amnesia after right frontal subcortical lesion,...                                                  1                                                                                                                                                                                                                    \n",
      "Yasuda et al. - DISSOCIATION BETWEEN SEMANTIC A...                                                  0                                                                                                                                                                                                                    \n",
      "Kapur et al. - 1996 - Anterograde but not retro...                                                  1                                                                                                                                                                                                                    \n",
      "...                                                                                               ...                                                                                                                                                                                                                    \n",
      "Clinical case report memory functions after ant...                                                  1                                                                                                                                                                                                                    \n",
      "Brown et al. - 2016 - Isolated, relative aprove...                                                  2                                                                                                                                                                                                                    \n",
      "Kapur and Brooks - 1999 - Temporally-specific r...                                                  1                                                                                                                                                                                                                    \n",
      "Mori et al. - 1986 - Left thalamic infarction a...                                                  1                                                                                                                                                                                                                    \n",
      "Reed and Squire - 1998 - Retrograde Amnesia for...                                                  0                                                                                                                                                                                                                    \n",
      "\n",
      "                                                    Do you think the case has sufficient details to allow another doctor to make their own inferences? Specifics are not necessary so long as the critical information is present. For example, if the history and pertinent diagnostic information provided, this is acceptable. (Y/N)  \\\n",
      "Mosimann et al. - 2012 - Fornix infarction and ...                                                  1                                                                                                                                                                                                                                     \n",
      "Parkin - IMPAIRMENT OF MEMORY FOLLOWING DISCRET...                                                  1                                                                                                                                                                                                                                     \n",
      "Amnesia after right frontal subcortical lesion,...                                                  1                                                                                                                                                                                                                                     \n",
      "Yasuda et al. - DISSOCIATION BETWEEN SEMANTIC A...                                                  2                                                                                                                                                                                                                                     \n",
      "Kapur et al. - 1996 - Anterograde but not retro...                                                  1                                                                                                                                                                                                                                     \n",
      "...                                                                                               ...                                                                                                                                                                                                                                     \n",
      "Clinical case report memory functions after ant...                                                  1                                                                                                                                                                                                                                     \n",
      "Brown et al. - 2016 - Isolated, relative aprove...                                                  2                                                                                                                                                                                                                                     \n",
      "Kapur and Brooks - 1999 - Temporally-specific r...                                                  2                                                                                                                                                                                                                                     \n",
      "Mori et al. - 1986 - Left thalamic infarction a...                                                  1                                                                                                                                                                                                                                     \n",
      "Reed and Squire - 1998 - Retrograde Amnesia for...                                                  2                                                                                                                                                                                                                                     \n",
      "\n",
      "                                                    Is the case report suitable for lesion network mapping? For example, a case describing symptoms and related neuroimaging related to symptoms is sufficient. (Y/N)  \n",
      "Mosimann et al. - 2012 - Fornix infarction and ...                                                  1                                                                                                                  \n",
      "Parkin - IMPAIRMENT OF MEMORY FOLLOWING DISCRET...                                                  1                                                                                                                  \n",
      "Amnesia after right frontal subcortical lesion,...                                                  1                                                                                                                  \n",
      "Yasuda et al. - DISSOCIATION BETWEEN SEMANTIC A...                                                  2                                                                                                                  \n",
      "Kapur et al. - 1996 - Anterograde but not retro...                                                  0                                                                                                                  \n",
      "...                                                                                               ...                                                                                                                  \n",
      "Clinical case report memory functions after ant...                                                  0                                                                                                                  \n",
      "Brown et al. - 2016 - Isolated, relative aprove...                                                  0                                                                                                                  \n",
      "Kapur and Brooks - 1999 - Temporally-specific r...                                                  2                                                                                                                  \n",
      "Mori et al. - 1986 - Left thalamic infarction a...                                                  1                                                                                                                  \n",
      "Reed and Squire - 1998 - Retrograde Amnesia for...                                                  0                                                                                                                  \n",
      "\n",
      "[72 rows x 9 columns]\n"
     ]
    }
   ],
   "source": [
    "from calvin_utils.gpt_sys_review.json_utils import CustomSummarizer\n",
    "\n",
    "# Create an instance of CustomSummarizer\n",
    "custom_summarizer = CustomSummarizer(json_path=json_path, keyword_mapping=keyword_mapping)\n",
    "\n",
    "# Run the custom summarization and save the results to CSV\n",
    "result_df = custom_summarizer.run_custom()\n",
    "\n",
    "# Display the resulting DataFrame\n",
    "print(result_df)"
   ]
  },
  {
   "cell_type": "code",
   "execution_count": null,
   "metadata": {},
   "outputs": [],
   "source": []
  }
 ],
 "metadata": {
  "kernelspec": {
   "display_name": "nimlab_py310",
   "language": "python",
   "name": "python3"
  },
  "language_info": {
   "codemirror_mode": {
    "name": "ipython",
    "version": 3
   },
   "file_extension": ".py",
   "mimetype": "text/x-python",
   "name": "python",
   "nbconvert_exporter": "python",
   "pygments_lexer": "ipython3",
   "version": "3.10.8"
  },
  "orig_nbformat": 4
 },
 "nbformat": 4,
 "nbformat_minor": 2
}
