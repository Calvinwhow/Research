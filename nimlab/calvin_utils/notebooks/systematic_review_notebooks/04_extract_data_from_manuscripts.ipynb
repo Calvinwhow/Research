{
 "cells": [
  {
   "cell_type": "markdown",
   "metadata": {},
   "source": [
    "01 - Generate JSON from Post-Inclusion/Exclusion CSV\n",
    "- Enter path to CSV which has successful articles in the index column\n",
    "- Enter path to JSON which has the articles with labeled sections"
   ]
  },
  {
   "cell_type": "code",
   "execution_count": 1,
   "metadata": {},
   "outputs": [],
   "source": [
    "csv_path = \"/Users/cu135/Library/CloudStorage/OneDrive-Personal/OneDrive_Documents/Work/Software/Research/nimlab/gpt_document_reader/amnesia_cases/ocr/keyword_matching_labeled_text/text_evaluations/3-5_inclusion_exclusion_results/unfiltered_results.csv\"\n",
    "json_path = \"/Users/cu135/Library/CloudStorage/OneDrive-Personal/OneDrive_Documents/Work/Software/Research/nimlab/gpt_document_reader/amnesia_cases/labeled_text/case_labeled_sections.json\""
   ]
  },
  {
   "cell_type": "code",
   "execution_count": 2,
   "metadata": {},
   "outputs": [
    {
     "name": "stderr",
     "output_type": "stream",
     "text": [
      "/Users/cu135/.local/lib/python3.10/site-packages/fuzzywuzzy/fuzz.py:11: UserWarning: Using slow pure-python SequenceMatcher. Install python-Levenshtein to remove this warning\n",
      "  warnings.warn('Using slow pure-python SequenceMatcher. Install python-Levenshtein to remove this warning')\n"
     ]
    }
   ],
   "source": [
    "from calvin_utils.gpt_sys_review.json_utils import FilterPapers\n",
    "\n",
    "# Initialize and run the FilterPapers class\n",
    "filter_papers = FilterPapers(csv_path=csv_path, json_path=json_path)\n",
    "filter_papers.run()"
   ]
  },
  {
   "cell_type": "markdown",
   "metadata": {},
   "source": [
    "02 - Prepare Data Extraction Questions\n",
    "- Dev Note: This is a repeat class and should be inherited from a .py"
   ]
  },
  {
   "cell_type": "code",
   "execution_count": 3,
   "metadata": {},
   "outputs": [
    {
     "name": "stdout",
     "output_type": "stream",
     "text": [
      "Here are example data extraction questions:\n",
      "{\n",
      "    \"Does the patient(s) represent(s) the whole experience of the investigator (center) or is the selection method unclear to the extent that other patients with similar presentation may not have been reported? (Good/Bad/Unclear)\": \"representative_case_quality\",\n",
      "    \"Was patient\\u2019s causal exposure clearly described? (Good/Bad/Unclear)\": \"causality_quality\",\n",
      "    \"Were diagnostic tests or assessment methods and the results clearly described (amnesia tests)? (Good/Bad/Unclear)\": \"phenotyping_quality\",\n",
      "    \"Were other alternative causes that may explain the observation (amnesia) ruled out? (Good/Bad/Unclear)\": \"workup_quality\",\n",
      "    \"Were patient\\u2019s demographics, medical history, comobidities clearly described? (Good/Bad/Unclear)\": \"clinical_covariates_quality\",\n",
      "    \"Were patient\\u2019s symptoms, interventions, and clinical outcomes clearly presented as a timeline? (Good/Bad/Unclear)\": \"history_quality\",\n",
      "    \"Was the lesion image taken around the time of observation (amnesia) assessment? (Good/Bad/Unclear)\": \"temporal_causality_quality\",\n",
      "    \"Is the case(s) described with sufficient details to allow other investigators to replicate the research or to allow practitioners make inferences related to their own practice? (Good/Bad/Unclear)\": \"history_quality_2\"\n",
      "}\n",
      "Here are some more generalizable data extraction questions:\n",
      "{\n",
      "    \"How affected is this study by selection bias? Little (Good). Very (Bad). Unsure (Unclear).\": \"selection_bias\",\n",
      "    \"How well was the timeline of lesion/symptom onset described? (Good/Bad/Unclear)\": \"exposure\",\n",
      "    \"How affected is this case by attribution error? Little (Good). Very (Bad). Unsure (Unclear).\": \"outcome\",\n",
      "    \"How reasonable is the attribution of the lesion/diagnosis to the symptom? (Good/Bad/Unclear)\": \"attribution_error\",\n",
      "    \"How well was the patients baseline pre-lesion described? (Good/Bad/Unclear)\": \"pre_event_assessment\",\n",
      "    \"How well was the patients outcome post-lesion described? (Good/Bad/Unclear)\": \"post_event_assessment\",\n",
      "    \"Do you think the neuroimaging was taken within temporal proximity to the lesion? Days-weeks (Good). Months-years (Bad). Unsure (Unclear).\": \"lesion_related-images\",\n",
      "    \"Do you think another practitioner would come to the same conclusion (diagnosis/attribution) that this group did? (Good/Bad/Unclear)\": \"replicability\",\n",
      "    \"How is the quality of this case overall? (Good/Bad/Unclear)\": \"overall_appraisal\"\n",
      "}\n",
      "Here is a question template\n",
      "{\n",
      "    \" ? (metric/metric/metric)\": \"question_label\"\n",
      "}\n"
     ]
    }
   ],
   "source": [
    "from calvin_utils.gpt_sys_review.gpt_utils import QuestionTemplate\n",
    "\n",
    "question_template = QuestionTemplate()\n",
    "question_template.data_extraction_questions()"
   ]
  },
  {
   "cell_type": "markdown",
   "metadata": {},
   "source": [
    "Copy the Template Dict from Above and Fill it Out As per the Example"
   ]
  },
  {
   "cell_type": "code",
   "execution_count": 4,
   "metadata": {},
   "outputs": [],
   "source": [
    "question = {\n",
    "    \"Do you think this is reasonably free of selection bias? For example, a case series is free of bias. (Y/N).\": \"selection_bias\",\n",
    "    \"Do you think the history of presenting illness was reasonably described? For example, describing a patient's symptoms and circumstances of presentation are acceptable. (Y/N)\": \"hpi_history\",\n",
    "    \"Prioritizing implicit information, do you think diagnostic diagnostic tests relevant to the diagnosis had been completed to consolidate the diagnosis? Specific details are not necessary. For example, vascular imaging in a stroke is a reasonable workup. (Y/N).\": \"diagnostic_workup\",\n",
    "    \"Do you think the symptom is reasonably attributable to the lesion? For example, a stroke and subsequent amnesia is highly attributable. If the word acute is used, this is a yes. (Y/N)\": \"diagnostic_accuracy\",\n",
    "    \"Do you think the extended patient history was well described? For example, diabetes in pas medical history, family history of strokes, or note of medications. (Y/N)\": \"associated_history\",\n",
    "    \"Considering both explicit mentions and contextual clues like ordered presnetaiton of history to symptoms to workup, can you infer whether the history was presented as a timeline? For example, a description of acute neurological deficit to imaging findings to symptoms is acceptable. (Y/N)\": \"temporality_of_history\",\n",
    "    \"Prioritizing implicit contextual cues, can you infer if the neuroimaging may have been taken around the time of symptom or lesion onset? If neuroimaging is mentioned in close proximity to the description of symptoms, assume they are temporally related. (Y/N)\": \"lesion_related-images\",\n",
    "    \"Do you think the case has sufficient details to allow another doctor to make their own inferences? Specifics are not necessary so long as the critical information is present. For example, if the history and pertinent diagnostic information provided, this is acceptable. (Y/N)\": \"replicability\",\n",
    "    \"Is the case report suitable for lesion network mapping? For example, a case describing symptoms and related neuroimaging related to symptoms is sufficient. (Y/N)\": \"overall_appraisal\"\n",
    "}"
   ]
  },
  {
   "cell_type": "markdown",
   "metadata": {},
   "source": [
    "03 - Extract Data with GPT\n"
   ]
  },
  {
   "cell_type": "code",
   "execution_count": 5,
   "metadata": {},
   "outputs": [],
   "source": [
    "# Define file paths\n",
    "api_key_path = \"/Users/cu135/Library/CloudStorage/OneDrive-Personal/OneDrive_Documents/Work/Software/Research/nimlab/openai_key.txt\"\n",
    "\n",
    "# Define the keys you want to consider (exclude 'References')\n",
    "keys_to_consider = [\"case_report\"]  # Add or remove keys as per your requirement\n",
    "\n",
    "# Define the type of article and questions\n",
    "article_type = \"research\""
   ]
  },
  {
   "cell_type": "code",
   "execution_count": 6,
   "metadata": {},
   "outputs": [],
   "source": [
    "from calvin_utils.gpt_sys_review.gpt_utils import OpenAIChatEvaluator"
   ]
  },
  {
   "cell_type": "code",
   "execution_count": 7,
   "metadata": {},
   "outputs": [],
   "source": [
    "test_mode=False"
   ]
  },
  {
   "cell_type": "code",
   "execution_count": 8,
   "metadata": {},
   "outputs": [
    {
     "name": "stderr",
     "output_type": "stream",
     "text": [
      "  0%|          | 0/107 [00:00<?, ?it/s]"
     ]
    },
    {
     "name": "stdout",
     "output_type": "stream",
     "text": [
      "Rate limit error: Rate limit reached for 10KTPM-200RPM in organization org-Y2tKyCPFO6tIjtCtOVZ7c9tr on tokens per min. Limit: 10000 / min. Please try again in 6ms. Contact us through our help center at help.openai.com if you continue to have issues.. Retrying Question No. 5 Attempt:(1)\n",
      "Rate limit error: Rate limit reached for 10KTPM-200RPM in organization org-Y2tKyCPFO6tIjtCtOVZ7c9tr on tokens per min. Limit: 10000 / min. Please try again in 6ms. Contact us through our help center at help.openai.com if you continue to have issues.. Retrying Question No. 8 Attempt:(1)\n"
     ]
    },
    {
     "name": "stderr",
     "output_type": "stream",
     "text": [
      "  1%|          | 1/107 [01:10<2:04:25, 70.43s/it]"
     ]
    },
    {
     "name": "stdout",
     "output_type": "stream",
     "text": [
      "Rate limit error: Rate limit reached for 10KTPM-200RPM in organization org-Y2tKyCPFO6tIjtCtOVZ7c9tr on tokens per min. Limit: 10000 / min. Please try again in 6ms. Contact us through our help center at help.openai.com if you continue to have issues.. Retrying Question No. 0 Attempt:(1)\n",
      "Rate limit error: Rate limit reached for 10KTPM-200RPM in organization org-Y2tKyCPFO6tIjtCtOVZ7c9tr on tokens per min. Limit: 10000 / min. Please try again in 6ms. Contact us through our help center at help.openai.com if you continue to have issues.. Retrying Question No. 1 Attempt:(1)\n",
      "Rate limit error: Rate limit reached for 10KTPM-200RPM in organization org-Y2tKyCPFO6tIjtCtOVZ7c9tr on tokens per min. Limit: 10000 / min. Please try again in 6ms. Contact us through our help center at help.openai.com if you continue to have issues.. Retrying Question No. 2 Attempt:(1)\n",
      "Rate limit error: Rate limit reached for 10KTPM-200RPM in organization org-Y2tKyCPFO6tIjtCtOVZ7c9tr on tokens per min. Limit: 10000 / min. Please try again in 6ms. Contact us through our help center at help.openai.com if you continue to have issues.. Retrying Question No. 3 Attempt:(1)\n",
      "Rate limit error: Rate limit reached for 10KTPM-200RPM in organization org-Y2tKyCPFO6tIjtCtOVZ7c9tr on tokens per min. Limit: 10000 / min. Please try again in 6ms. Contact us through our help center at help.openai.com if you continue to have issues.. Retrying Question No. 4 Attempt:(1)\n",
      "Rate limit error: Rate limit reached for 10KTPM-200RPM in organization org-Y2tKyCPFO6tIjtCtOVZ7c9tr on tokens per min. Limit: 10000 / min. Please try again in 6ms. Contact us through our help center at help.openai.com if you continue to have issues.. Retrying Question No. 5 Attempt:(1)\n",
      "Rate limit error: Rate limit reached for 10KTPM-200RPM in organization org-Y2tKyCPFO6tIjtCtOVZ7c9tr on tokens per min. Limit: 10000 / min. Please try again in 6ms. Contact us through our help center at help.openai.com if you continue to have issues.. Retrying Question No. 6 Attempt:(1)\n",
      "Rate limit error: Rate limit reached for 10KTPM-200RPM in organization org-Y2tKyCPFO6tIjtCtOVZ7c9tr on tokens per min. Limit: 10000 / min. Please try again in 6ms. Contact us through our help center at help.openai.com if you continue to have issues.. Retrying Question No. 7 Attempt:(1)\n",
      "Rate limit error: Rate limit reached for 10KTPM-200RPM in organization org-Y2tKyCPFO6tIjtCtOVZ7c9tr on tokens per min. Limit: 10000 / min. Please try again in 6ms. Contact us through our help center at help.openai.com if you continue to have issues.. Retrying Question No. 8 Attempt:(1)\n"
     ]
    },
    {
     "name": "stderr",
     "output_type": "stream",
     "text": [
      "  2%|▏         | 2/107 [05:53<5:41:56, 195.40s/it]"
     ]
    },
    {
     "name": "stdout",
     "output_type": "stream",
     "text": [
      "Rate limit error: Rate limit reached for 10KTPM-200RPM in organization org-Y2tKyCPFO6tIjtCtOVZ7c9tr on tokens per min. Limit: 10000 / min. Please try again in 6ms. Contact us through our help center at help.openai.com if you continue to have issues.. Retrying Question No. 0 Attempt:(1)\n",
      "Rate limit error: Rate limit reached for 10KTPM-200RPM in organization org-Y2tKyCPFO6tIjtCtOVZ7c9tr on tokens per min. Limit: 10000 / min. Please try again in 6ms. Contact us through our help center at help.openai.com if you continue to have issues.. Retrying Question No. 1 Attempt:(1)\n",
      "Rate limit error: Rate limit reached for 10KTPM-200RPM in organization org-Y2tKyCPFO6tIjtCtOVZ7c9tr on tokens per min. Limit: 10000 / min. Please try again in 6ms. Contact us through our help center at help.openai.com if you continue to have issues.. Retrying Question No. 2 Attempt:(1)\n",
      "Rate limit error: Rate limit reached for 10KTPM-200RPM in organization org-Y2tKyCPFO6tIjtCtOVZ7c9tr on tokens per min. Limit: 10000 / min. Please try again in 6ms. Contact us through our help center at help.openai.com if you continue to have issues.. Retrying Question No. 3 Attempt:(1)\n",
      "Rate limit error: Rate limit reached for 10KTPM-200RPM in organization org-Y2tKyCPFO6tIjtCtOVZ7c9tr on tokens per min. Limit: 10000 / min. Please try again in 6ms. Contact us through our help center at help.openai.com if you continue to have issues.. Retrying Question No. 5 Attempt:(1)\n",
      "Rate limit error: Rate limit reached for 10KTPM-200RPM in organization org-Y2tKyCPFO6tIjtCtOVZ7c9tr on tokens per min. Limit: 10000 / min. Please try again in 6ms. Contact us through our help center at help.openai.com if you continue to have issues.. Retrying Question No. 6 Attempt:(1)\n",
      "Rate limit error: Rate limit reached for 10KTPM-200RPM in organization org-Y2tKyCPFO6tIjtCtOVZ7c9tr on tokens per min. Limit: 10000 / min. Please try again in 6ms. Contact us through our help center at help.openai.com if you continue to have issues.. Retrying Question No. 7 Attempt:(1)\n",
      "Rate limit error: Rate limit reached for 10KTPM-200RPM in organization org-Y2tKyCPFO6tIjtCtOVZ7c9tr on tokens per min. Limit: 10000 / min. Please try again in 6ms. Contact us through our help center at help.openai.com if you continue to have issues.. Retrying Question No. 8 Attempt:(1)\n"
     ]
    },
    {
     "name": "stderr",
     "output_type": "stream",
     "text": [
      "  3%|▎         | 3/107 [10:06<6:24:05, 221.60s/it]"
     ]
    },
    {
     "name": "stdout",
     "output_type": "stream",
     "text": [
      "Rate limit error: Rate limit reached for 10KTPM-200RPM in organization org-Y2tKyCPFO6tIjtCtOVZ7c9tr on tokens per min. Limit: 10000 / min. Please try again in 6ms. Contact us through our help center at help.openai.com if you continue to have issues.. Retrying Question No. 0 Attempt:(1)\n",
      "Rate limit error: Rate limit reached for 10KTPM-200RPM in organization org-Y2tKyCPFO6tIjtCtOVZ7c9tr on tokens per min. Limit: 10000 / min. Please try again in 6ms. Contact us through our help center at help.openai.com if you continue to have issues.. Retrying Question No. 1 Attempt:(1)\n",
      "Rate limit error: Rate limit reached for 10KTPM-200RPM in organization org-Y2tKyCPFO6tIjtCtOVZ7c9tr on tokens per min. Limit: 10000 / min. Please try again in 6ms. Contact us through our help center at help.openai.com if you continue to have issues.. Retrying Question No. 2 Attempt:(1)\n",
      "Rate limit error: Rate limit reached for 10KTPM-200RPM in organization org-Y2tKyCPFO6tIjtCtOVZ7c9tr on tokens per min. Limit: 10000 / min. Please try again in 6ms. Contact us through our help center at help.openai.com if you continue to have issues.. Retrying Question No. 3 Attempt:(1)\n",
      "Rate limit error: Rate limit reached for 10KTPM-200RPM in organization org-Y2tKyCPFO6tIjtCtOVZ7c9tr on tokens per min. Limit: 10000 / min. Please try again in 6ms. Contact us through our help center at help.openai.com if you continue to have issues.. Retrying Question No. 4 Attempt:(1)\n",
      "Rate limit error: Rate limit reached for 10KTPM-200RPM in organization org-Y2tKyCPFO6tIjtCtOVZ7c9tr on tokens per min. Limit: 10000 / min. Please try again in 6ms. Contact us through our help center at help.openai.com if you continue to have issues.. Retrying Question No. 5 Attempt:(1)\n",
      "Rate limit error: Rate limit reached for 10KTPM-200RPM in organization org-Y2tKyCPFO6tIjtCtOVZ7c9tr on tokens per min. Limit: 10000 / min. Please try again in 6ms. Contact us through our help center at help.openai.com if you continue to have issues.. Retrying Question No. 6 Attempt:(1)\n",
      "Rate limit error: Rate limit reached for 10KTPM-200RPM in organization org-Y2tKyCPFO6tIjtCtOVZ7c9tr on tokens per min. Limit: 10000 / min. Please try again in 6ms. Contact us through our help center at help.openai.com if you continue to have issues.. Retrying Question No. 6 Attempt:(2)\n",
      "Rate limit error: Rate limit reached for 10KTPM-200RPM in organization org-Y2tKyCPFO6tIjtCtOVZ7c9tr on tokens per min. Limit: 10000 / min. Please try again in 6ms. Contact us through our help center at help.openai.com if you continue to have issues.. Retrying Question No. 7 Attempt:(1)\n",
      "Rate limit error: Rate limit reached for 10KTPM-200RPM in organization org-Y2tKyCPFO6tIjtCtOVZ7c9tr on tokens per min. Limit: 10000 / min. Please try again in 6ms. Contact us through our help center at help.openai.com if you continue to have issues.. Retrying Question No. 8 Attempt:(1)\n",
      "Rate limit error: Rate limit reached for 10KTPM-200RPM in organization org-Y2tKyCPFO6tIjtCtOVZ7c9tr on tokens per min. Limit: 10000 / min. Please try again in 6ms. Contact us through our help center at help.openai.com if you continue to have issues.. Retrying Question No. 0 Attempt:(1)\n",
      "Rate limit error: Rate limit reached for 10KTPM-200RPM in organization org-Y2tKyCPFO6tIjtCtOVZ7c9tr on tokens per min. Limit: 10000 / min. Please try again in 6ms. Contact us through our help center at help.openai.com if you continue to have issues.. Retrying Question No. 2 Attempt:(1)\n",
      "Rate limit error: Rate limit reached for 10KTPM-200RPM in organization org-Y2tKyCPFO6tIjtCtOVZ7c9tr on tokens per min. Limit: 10000 / min. Please try again in 6ms. Contact us through our help center at help.openai.com if you continue to have issues.. Retrying Question No. 3 Attempt:(1)\n",
      "Rate limit error: Rate limit reached for 10KTPM-200RPM in organization org-Y2tKyCPFO6tIjtCtOVZ7c9tr on tokens per min. Limit: 10000 / min. Please try again in 6ms. Contact us through our help center at help.openai.com if you continue to have issues.. Retrying Question No. 4 Attempt:(1)\n",
      "Rate limit error: Rate limit reached for 10KTPM-200RPM in organization org-Y2tKyCPFO6tIjtCtOVZ7c9tr on tokens per min. Limit: 10000 / min. Please try again in 6ms. Contact us through our help center at help.openai.com if you continue to have issues.. Retrying Question No. 5 Attempt:(1)\n",
      "Rate limit error: Rate limit reached for 10KTPM-200RPM in organization org-Y2tKyCPFO6tIjtCtOVZ7c9tr on tokens per min. Limit: 10000 / min. Please try again in 6ms. Contact us through our help center at help.openai.com if you continue to have issues.. Retrying Question No. 6 Attempt:(1)\n",
      "Rate limit error: Rate limit reached for 10KTPM-200RPM in organization org-Y2tKyCPFO6tIjtCtOVZ7c9tr on tokens per min. Limit: 10000 / min. Please try again in 6ms. Contact us through our help center at help.openai.com if you continue to have issues.. Retrying Question No. 7 Attempt:(1)\n"
     ]
    },
    {
     "name": "stderr",
     "output_type": "stream",
     "text": [
      "  4%|▎         | 4/107 [19:05<9:55:48, 347.07s/it]"
     ]
    },
    {
     "name": "stdout",
     "output_type": "stream",
     "text": [
      "Rate limit error: Rate limit reached for 10KTPM-200RPM in organization org-Y2tKyCPFO6tIjtCtOVZ7c9tr on tokens per min. Limit: 10000 / min. Please try again in 6ms. Contact us through our help center at help.openai.com if you continue to have issues.. Retrying Question No. 0 Attempt:(1)\n",
      "Rate limit error: Rate limit reached for 10KTPM-200RPM in organization org-Y2tKyCPFO6tIjtCtOVZ7c9tr on tokens per min. Limit: 10000 / min. Please try again in 6ms. Contact us through our help center at help.openai.com if you continue to have issues.. Retrying Question No. 0 Attempt:(2)\n",
      "Rate limit error: Rate limit reached for 10KTPM-200RPM in organization org-Y2tKyCPFO6tIjtCtOVZ7c9tr on tokens per min. Limit: 10000 / min. Please try again in 6ms. Contact us through our help center at help.openai.com if you continue to have issues.. Retrying Question No. 1 Attempt:(1)\n",
      "Rate limit error: Rate limit reached for 10KTPM-200RPM in organization org-Y2tKyCPFO6tIjtCtOVZ7c9tr on tokens per min. Limit: 10000 / min. Please try again in 6ms. Contact us through our help center at help.openai.com if you continue to have issues.. Retrying Question No. 2 Attempt:(1)\n",
      "Rate limit error: Rate limit reached for 10KTPM-200RPM in organization org-Y2tKyCPFO6tIjtCtOVZ7c9tr on tokens per min. Limit: 10000 / min. Please try again in 6ms. Contact us through our help center at help.openai.com if you continue to have issues.. Retrying Question No. 3 Attempt:(1)\n",
      "Rate limit error: Rate limit reached for 10KTPM-200RPM in organization org-Y2tKyCPFO6tIjtCtOVZ7c9tr on tokens per min. Limit: 10000 / min. Please try again in 6ms. Contact us through our help center at help.openai.com if you continue to have issues.. Retrying Question No. 4 Attempt:(1)\n",
      "Rate limit error: Rate limit reached for 10KTPM-200RPM in organization org-Y2tKyCPFO6tIjtCtOVZ7c9tr on tokens per min. Limit: 10000 / min. Please try again in 6ms. Contact us through our help center at help.openai.com if you continue to have issues.. Retrying Question No. 5 Attempt:(1)\n",
      "Rate limit error: Rate limit reached for 10KTPM-200RPM in organization org-Y2tKyCPFO6tIjtCtOVZ7c9tr on tokens per min. Limit: 10000 / min. Please try again in 6ms. Contact us through our help center at help.openai.com if you continue to have issues.. Retrying Question No. 6 Attempt:(1)\n",
      "Rate limit error: Rate limit reached for 10KTPM-200RPM in organization org-Y2tKyCPFO6tIjtCtOVZ7c9tr on tokens per min. Limit: 10000 / min. Please try again in 6ms. Contact us through our help center at help.openai.com if you continue to have issues.. Retrying Question No. 6 Attempt:(2)\n",
      "Rate limit error: Rate limit reached for 10KTPM-200RPM in organization org-Y2tKyCPFO6tIjtCtOVZ7c9tr on tokens per min. Limit: 10000 / min. Please try again in 6ms. Contact us through our help center at help.openai.com if you continue to have issues.. Retrying Question No. 7 Attempt:(1)\n",
      "Rate limit error: Rate limit reached for 10KTPM-200RPM in organization org-Y2tKyCPFO6tIjtCtOVZ7c9tr on tokens per min. Limit: 10000 / min. Please try again in 6ms. Contact us through our help center at help.openai.com if you continue to have issues.. Retrying Question No. 8 Attempt:(1)\n"
     ]
    },
    {
     "name": "stderr",
     "output_type": "stream",
     "text": [
      "  5%|▍         | 5/107 [25:01<9:55:23, 350.23s/it]"
     ]
    },
    {
     "name": "stdout",
     "output_type": "stream",
     "text": [
      "Rate limit error: Rate limit reached for 10KTPM-200RPM in organization org-Y2tKyCPFO6tIjtCtOVZ7c9tr on tokens per min. Limit: 10000 / min. Please try again in 6ms. Contact us through our help center at help.openai.com if you continue to have issues.. Retrying Question No. 0 Attempt:(1)\n",
      "Rate limit error: Rate limit reached for 10KTPM-200RPM in organization org-Y2tKyCPFO6tIjtCtOVZ7c9tr on tokens per min. Limit: 10000 / min. Please try again in 6ms. Contact us through our help center at help.openai.com if you continue to have issues.. Retrying Question No. 1 Attempt:(1)\n",
      "Rate limit error: Rate limit reached for 10KTPM-200RPM in organization org-Y2tKyCPFO6tIjtCtOVZ7c9tr on tokens per min. Limit: 10000 / min. Please try again in 6ms. Contact us through our help center at help.openai.com if you continue to have issues.. Retrying Question No. 2 Attempt:(1)\n",
      "Rate limit error: Rate limit reached for 10KTPM-200RPM in organization org-Y2tKyCPFO6tIjtCtOVZ7c9tr on tokens per min. Limit: 10000 / min. Please try again in 6ms. Contact us through our help center at help.openai.com if you continue to have issues.. Retrying Question No. 4 Attempt:(1)\n",
      "Rate limit error: Rate limit reached for 10KTPM-200RPM in organization org-Y2tKyCPFO6tIjtCtOVZ7c9tr on tokens per min. Limit: 10000 / min. Please try again in 6ms. Contact us through our help center at help.openai.com if you continue to have issues.. Retrying Question No. 5 Attempt:(1)\n",
      "Rate limit error: Rate limit reached for 10KTPM-200RPM in organization org-Y2tKyCPFO6tIjtCtOVZ7c9tr on tokens per min. Limit: 10000 / min. Please try again in 6ms. Contact us through our help center at help.openai.com if you continue to have issues.. Retrying Question No. 6 Attempt:(1)\n",
      "Rate limit error: Rate limit reached for 10KTPM-200RPM in organization org-Y2tKyCPFO6tIjtCtOVZ7c9tr on tokens per min. Limit: 10000 / min. Please try again in 6ms. Contact us through our help center at help.openai.com if you continue to have issues.. Retrying Question No. 7 Attempt:(1)\n"
     ]
    },
    {
     "name": "stderr",
     "output_type": "stream",
     "text": [
      "  6%|▌         | 6/107 [28:42<8:35:35, 306.30s/it]"
     ]
    },
    {
     "name": "stdout",
     "output_type": "stream",
     "text": [
      "Rate limit error: Rate limit reached for 10KTPM-200RPM in organization org-Y2tKyCPFO6tIjtCtOVZ7c9tr on tokens per min. Limit: 10000 / min. Please try again in 6ms. Contact us through our help center at help.openai.com if you continue to have issues.. Retrying Question No. 0 Attempt:(1)\n",
      "Rate limit error: Rate limit reached for 10KTPM-200RPM in organization org-Y2tKyCPFO6tIjtCtOVZ7c9tr on tokens per min. Limit: 10000 / min. Please try again in 6ms. Contact us through our help center at help.openai.com if you continue to have issues.. Retrying Question No. 1 Attempt:(1)\n",
      "Rate limit error: Rate limit reached for 10KTPM-200RPM in organization org-Y2tKyCPFO6tIjtCtOVZ7c9tr on tokens per min. Limit: 10000 / min. Please try again in 6ms. Contact us through our help center at help.openai.com if you continue to have issues.. Retrying Question No. 3 Attempt:(1)\n",
      "Rate limit error: Rate limit reached for 10KTPM-200RPM in organization org-Y2tKyCPFO6tIjtCtOVZ7c9tr on tokens per min. Limit: 10000 / min. Please try again in 6ms. Contact us through our help center at help.openai.com if you continue to have issues.. Retrying Question No. 4 Attempt:(1)\n",
      "Rate limit error: Rate limit reached for 10KTPM-200RPM in organization org-Y2tKyCPFO6tIjtCtOVZ7c9tr on tokens per min. Limit: 10000 / min. Please try again in 6ms. Contact us through our help center at help.openai.com if you continue to have issues.. Retrying Question No. 5 Attempt:(1)\n",
      "Rate limit error: Rate limit reached for 10KTPM-200RPM in organization org-Y2tKyCPFO6tIjtCtOVZ7c9tr on tokens per min. Limit: 10000 / min. Please try again in 6ms. Contact us through our help center at help.openai.com if you continue to have issues.. Retrying Question No. 7 Attempt:(1)\n",
      "Rate limit error: Rate limit reached for 10KTPM-200RPM in organization org-Y2tKyCPFO6tIjtCtOVZ7c9tr on tokens per min. Limit: 10000 / min. Please try again in 6ms. Contact us through our help center at help.openai.com if you continue to have issues.. Retrying Question No. 8 Attempt:(1)\n"
     ]
    },
    {
     "name": "stderr",
     "output_type": "stream",
     "text": [
      "  7%|▋         | 7/107 [32:25<7:44:59, 278.99s/it]"
     ]
    },
    {
     "name": "stdout",
     "output_type": "stream",
     "text": [
      "Rate limit error: Rate limit reached for 10KTPM-200RPM in organization org-Y2tKyCPFO6tIjtCtOVZ7c9tr on tokens per min. Limit: 10000 / min. Please try again in 6ms. Contact us through our help center at help.openai.com if you continue to have issues.. Retrying Question No. 0 Attempt:(1)\n",
      "Rate limit error: Rate limit reached for 10KTPM-200RPM in organization org-Y2tKyCPFO6tIjtCtOVZ7c9tr on tokens per min. Limit: 10000 / min. Please try again in 6ms. Contact us through our help center at help.openai.com if you continue to have issues.. Retrying Question No. 1 Attempt:(1)\n",
      "Rate limit error: Rate limit reached for 10KTPM-200RPM in organization org-Y2tKyCPFO6tIjtCtOVZ7c9tr on tokens per min. Limit: 10000 / min. Please try again in 6ms. Contact us through our help center at help.openai.com if you continue to have issues.. Retrying Question No. 2 Attempt:(1)\n",
      "Rate limit error: Rate limit reached for 10KTPM-200RPM in organization org-Y2tKyCPFO6tIjtCtOVZ7c9tr on tokens per min. Limit: 10000 / min. Please try again in 6ms. Contact us through our help center at help.openai.com if you continue to have issues.. Retrying Question No. 3 Attempt:(1)\n",
      "Rate limit error: Rate limit reached for 10KTPM-200RPM in organization org-Y2tKyCPFO6tIjtCtOVZ7c9tr on tokens per min. Limit: 10000 / min. Please try again in 6ms. Contact us through our help center at help.openai.com if you continue to have issues.. Retrying Question No. 4 Attempt:(1)\n",
      "Rate limit error: Rate limit reached for 10KTPM-200RPM in organization org-Y2tKyCPFO6tIjtCtOVZ7c9tr on tokens per min. Limit: 10000 / min. Please try again in 6ms. Contact us through our help center at help.openai.com if you continue to have issues.. Retrying Question No. 5 Attempt:(1)\n",
      "Rate limit error: Rate limit reached for 10KTPM-200RPM in organization org-Y2tKyCPFO6tIjtCtOVZ7c9tr on tokens per min. Limit: 10000 / min. Please try again in 6ms. Contact us through our help center at help.openai.com if you continue to have issues.. Retrying Question No. 6 Attempt:(1)\n",
      "Rate limit error: Rate limit reached for 10KTPM-200RPM in organization org-Y2tKyCPFO6tIjtCtOVZ7c9tr on tokens per min. Limit: 10000 / min. Please try again in 6ms. Contact us through our help center at help.openai.com if you continue to have issues.. Retrying Question No. 7 Attempt:(1)\n",
      "Rate limit error: Rate limit reached for 10KTPM-200RPM in organization org-Y2tKyCPFO6tIjtCtOVZ7c9tr on tokens per min. Limit: 10000 / min. Please try again in 6ms. Contact us through our help center at help.openai.com if you continue to have issues.. Retrying Question No. 8 Attempt:(1)\n",
      "Rate limit error: Rate limit reached for 10KTPM-200RPM in organization org-Y2tKyCPFO6tIjtCtOVZ7c9tr on tokens per min. Limit: 10000 / min. Please try again in 6ms. Contact us through our help center at help.openai.com if you continue to have issues.. Retrying Question No. 1 Attempt:(1)\n"
     ]
    },
    {
     "name": "stderr",
     "output_type": "stream",
     "text": [
      "  7%|▋         | 8/107 [37:57<8:08:18, 295.95s/it]"
     ]
    },
    {
     "name": "stdout",
     "output_type": "stream",
     "text": [
      "Rate limit error: Rate limit reached for 10KTPM-200RPM in organization org-Y2tKyCPFO6tIjtCtOVZ7c9tr on tokens per min. Limit: 10000 / min. Please try again in 6ms. Contact us through our help center at help.openai.com if you continue to have issues.. Retrying Question No. 0 Attempt:(1)\n",
      "Rate limit error: Rate limit reached for 10KTPM-200RPM in organization org-Y2tKyCPFO6tIjtCtOVZ7c9tr on tokens per min. Limit: 10000 / min. Please try again in 6ms. Contact us through our help center at help.openai.com if you continue to have issues.. Retrying Question No. 0 Attempt:(2)\n",
      "Rate limit error: Rate limit reached for 10KTPM-200RPM in organization org-Y2tKyCPFO6tIjtCtOVZ7c9tr on tokens per min. Limit: 10000 / min. Please try again in 6ms. Contact us through our help center at help.openai.com if you continue to have issues.. Retrying Question No. 1 Attempt:(1)\n",
      "Rate limit error: Rate limit reached for 10KTPM-200RPM in organization org-Y2tKyCPFO6tIjtCtOVZ7c9tr on tokens per min. Limit: 10000 / min. Please try again in 6ms. Contact us through our help center at help.openai.com if you continue to have issues.. Retrying Question No. 2 Attempt:(1)\n",
      "Rate limit error: Rate limit reached for 10KTPM-200RPM in organization org-Y2tKyCPFO6tIjtCtOVZ7c9tr on tokens per min. Limit: 10000 / min. Please try again in 6ms. Contact us through our help center at help.openai.com if you continue to have issues.. Retrying Question No. 3 Attempt:(1)\n",
      "Rate limit error: Rate limit reached for 10KTPM-200RPM in organization org-Y2tKyCPFO6tIjtCtOVZ7c9tr on tokens per min. Limit: 10000 / min. Please try again in 6ms. Contact us through our help center at help.openai.com if you continue to have issues.. Retrying Question No. 4 Attempt:(1)\n",
      "Rate limit error: Rate limit reached for 10KTPM-200RPM in organization org-Y2tKyCPFO6tIjtCtOVZ7c9tr on tokens per min. Limit: 10000 / min. Please try again in 6ms. Contact us through our help center at help.openai.com if you continue to have issues.. Retrying Question No. 5 Attempt:(1)\n",
      "Rate limit error: Rate limit reached for 10KTPM-200RPM in organization org-Y2tKyCPFO6tIjtCtOVZ7c9tr on tokens per min. Limit: 10000 / min. Please try again in 6ms. Contact us through our help center at help.openai.com if you continue to have issues.. Retrying Question No. 6 Attempt:(1)\n",
      "Rate limit error: Rate limit reached for 10KTPM-200RPM in organization org-Y2tKyCPFO6tIjtCtOVZ7c9tr on tokens per min. Limit: 10000 / min. Please try again in 6ms. Contact us through our help center at help.openai.com if you continue to have issues.. Retrying Question No. 7 Attempt:(1)\n",
      "Rate limit error: Rate limit reached for 10KTPM-200RPM in organization org-Y2tKyCPFO6tIjtCtOVZ7c9tr on tokens per min. Limit: 10000 / min. Please try again in 6ms. Contact us through our help center at help.openai.com if you continue to have issues.. Retrying Question No. 7 Attempt:(2)\n",
      "Rate limit error: Rate limit reached for 10KTPM-200RPM in organization org-Y2tKyCPFO6tIjtCtOVZ7c9tr on tokens per min. Limit: 10000 / min. Please try again in 6ms. Contact us through our help center at help.openai.com if you continue to have issues.. Retrying Question No. 8 Attempt:(1)\n",
      "Rate limit error: Rate limit reached for 10KTPM-200RPM in organization org-Y2tKyCPFO6tIjtCtOVZ7c9tr on tokens per min. Limit: 10000 / min. Please try again in 6ms. Contact us through our help center at help.openai.com if you continue to have issues.. Retrying Question No. 0 Attempt:(1)\n",
      "Rate limit error: Rate limit reached for 10KTPM-200RPM in organization org-Y2tKyCPFO6tIjtCtOVZ7c9tr on tokens per min. Limit: 10000 / min. Please try again in 6ms. Contact us through our help center at help.openai.com if you continue to have issues.. Retrying Question No. 1 Attempt:(1)\n",
      "Rate limit error: Rate limit reached for 10KTPM-200RPM in organization org-Y2tKyCPFO6tIjtCtOVZ7c9tr on tokens per min. Limit: 10000 / min. Please try again in 6ms. Contact us through our help center at help.openai.com if you continue to have issues.. Retrying Question No. 2 Attempt:(1)\n",
      "Rate limit error: Rate limit reached for 10KTPM-200RPM in organization org-Y2tKyCPFO6tIjtCtOVZ7c9tr on tokens per min. Limit: 10000 / min. Please try again in 6ms. Contact us through our help center at help.openai.com if you continue to have issues.. Retrying Question No. 3 Attempt:(1)\n",
      "Rate limit error: Rate limit reached for 10KTPM-200RPM in organization org-Y2tKyCPFO6tIjtCtOVZ7c9tr on tokens per min. Limit: 10000 / min. Please try again in 6ms. Contact us through our help center at help.openai.com if you continue to have issues.. Retrying Question No. 4 Attempt:(1)\n",
      "Rate limit error: Rate limit reached for 10KTPM-200RPM in organization org-Y2tKyCPFO6tIjtCtOVZ7c9tr on tokens per min. Limit: 10000 / min. Please try again in 6ms. Contact us through our help center at help.openai.com if you continue to have issues.. Retrying Question No. 5 Attempt:(1)\n",
      "Rate limit error: Rate limit reached for 10KTPM-200RPM in organization org-Y2tKyCPFO6tIjtCtOVZ7c9tr on tokens per min. Limit: 10000 / min. Please try again in 6ms. Contact us through our help center at help.openai.com if you continue to have issues.. Retrying Question No. 6 Attempt:(1)\n",
      "Rate limit error: Rate limit reached for 10KTPM-200RPM in organization org-Y2tKyCPFO6tIjtCtOVZ7c9tr on tokens per min. Limit: 10000 / min. Please try again in 6ms. Contact us through our help center at help.openai.com if you continue to have issues.. Retrying Question No. 7 Attempt:(1)\n",
      "Rate limit error: Rate limit reached for 10KTPM-200RPM in organization org-Y2tKyCPFO6tIjtCtOVZ7c9tr on tokens per min. Limit: 10000 / min. Please try again in 6ms. Contact us through our help center at help.openai.com if you continue to have issues.. Retrying Question No. 8 Attempt:(1)\n",
      "Rate limit error: Rate limit reached for 10KTPM-200RPM in organization org-Y2tKyCPFO6tIjtCtOVZ7c9tr on tokens per min. Limit: 10000 / min. Please try again in 6ms. Contact us through our help center at help.openai.com if you continue to have issues.. Retrying Question No. 0 Attempt:(1)\n",
      "Rate limit error: Rate limit reached for 10KTPM-200RPM in organization org-Y2tKyCPFO6tIjtCtOVZ7c9tr on tokens per min. Limit: 10000 / min. Please try again in 6ms. Contact us through our help center at help.openai.com if you continue to have issues.. Retrying Question No. 1 Attempt:(1)\n",
      "Rate limit error: Rate limit reached for 10KTPM-200RPM in organization org-Y2tKyCPFO6tIjtCtOVZ7c9tr on tokens per min. Limit: 10000 / min. Please try again in 6ms. Contact us through our help center at help.openai.com if you continue to have issues.. Retrying Question No. 2 Attempt:(1)\n",
      "Rate limit error: Rate limit reached for 10KTPM-200RPM in organization org-Y2tKyCPFO6tIjtCtOVZ7c9tr on tokens per min. Limit: 10000 / min. Please try again in 6ms. Contact us through our help center at help.openai.com if you continue to have issues.. Retrying Question No. 3 Attempt:(1)\n",
      "Rate limit error: Rate limit reached for 10KTPM-200RPM in organization org-Y2tKyCPFO6tIjtCtOVZ7c9tr on tokens per min. Limit: 10000 / min. Please try again in 6ms. Contact us through our help center at help.openai.com if you continue to have issues.. Retrying Question No. 4 Attempt:(1)\n",
      "Rate limit error: Rate limit reached for 10KTPM-200RPM in organization org-Y2tKyCPFO6tIjtCtOVZ7c9tr on tokens per min. Limit: 10000 / min. Please try again in 6ms. Contact us through our help center at help.openai.com if you continue to have issues.. Retrying Question No. 5 Attempt:(1)\n",
      "Rate limit error: Rate limit reached for 10KTPM-200RPM in organization org-Y2tKyCPFO6tIjtCtOVZ7c9tr on tokens per min. Limit: 10000 / min. Please try again in 6ms. Contact us through our help center at help.openai.com if you continue to have issues.. Retrying Question No. 6 Attempt:(1)\n",
      "Rate limit error: Rate limit reached for 10KTPM-200RPM in organization org-Y2tKyCPFO6tIjtCtOVZ7c9tr on tokens per min. Limit: 10000 / min. Please try again in 6ms. Contact us through our help center at help.openai.com if you continue to have issues.. Retrying Question No. 7 Attempt:(1)\n",
      "Rate limit error: Rate limit reached for 10KTPM-200RPM in organization org-Y2tKyCPFO6tIjtCtOVZ7c9tr on tokens per min. Limit: 10000 / min. Please try again in 6ms. Contact us through our help center at help.openai.com if you continue to have issues.. Retrying Question No. 8 Attempt:(1)\n",
      "Rate limit error: Rate limit reached for 10KTPM-200RPM in organization org-Y2tKyCPFO6tIjtCtOVZ7c9tr on tokens per min. Limit: 10000 / min. Please try again in 6ms. Contact us through our help center at help.openai.com if you continue to have issues.. Retrying Question No. 0 Attempt:(1)\n",
      "Rate limit error: Rate limit reached for 10KTPM-200RPM in organization org-Y2tKyCPFO6tIjtCtOVZ7c9tr on tokens per min. Limit: 10000 / min. Please try again in 6ms. Contact us through our help center at help.openai.com if you continue to have issues.. Retrying Question No. 1 Attempt:(1)\n",
      "Rate limit error: Rate limit reached for 10KTPM-200RPM in organization org-Y2tKyCPFO6tIjtCtOVZ7c9tr on tokens per min. Limit: 10000 / min. Please try again in 6ms. Contact us through our help center at help.openai.com if you continue to have issues.. Retrying Question No. 2 Attempt:(1)\n",
      "Rate limit error: Rate limit reached for 10KTPM-200RPM in organization org-Y2tKyCPFO6tIjtCtOVZ7c9tr on tokens per min. Limit: 10000 / min. Please try again in 6ms. Contact us through our help center at help.openai.com if you continue to have issues.. Retrying Question No. 4 Attempt:(1)\n",
      "Rate limit error: Rate limit reached for 10KTPM-200RPM in organization org-Y2tKyCPFO6tIjtCtOVZ7c9tr on tokens per min. Limit: 10000 / min. Please try again in 6ms. Contact us through our help center at help.openai.com if you continue to have issues.. Retrying Question No. 5 Attempt:(1)\n",
      "Rate limit error: Rate limit reached for 10KTPM-200RPM in organization org-Y2tKyCPFO6tIjtCtOVZ7c9tr on tokens per min. Limit: 10000 / min. Please try again in 6ms. Contact us through our help center at help.openai.com if you continue to have issues.. Retrying Question No. 7 Attempt:(1)\n",
      "Rate limit error: Rate limit reached for 10KTPM-200RPM in organization org-Y2tKyCPFO6tIjtCtOVZ7c9tr on tokens per min. Limit: 10000 / min. Please try again in 6ms. Contact us through our help center at help.openai.com if you continue to have issues.. Retrying Question No. 8 Attempt:(1)\n"
     ]
    },
    {
     "name": "stderr",
     "output_type": "stream",
     "text": [
      "  8%|▊         | 9/107 [57:02<15:17:01, 561.44s/it]"
     ]
    },
    {
     "name": "stdout",
     "output_type": "stream",
     "text": [
      "Rate limit error: Rate limit reached for 10KTPM-200RPM in organization org-Y2tKyCPFO6tIjtCtOVZ7c9tr on tokens per min. Limit: 10000 / min. Please try again in 6ms. Contact us through our help center at help.openai.com if you continue to have issues.. Retrying Question No. 0 Attempt:(1)\n",
      "Rate limit error: Rate limit reached for 10KTPM-200RPM in organization org-Y2tKyCPFO6tIjtCtOVZ7c9tr on tokens per min. Limit: 10000 / min. Please try again in 6ms. Contact us through our help center at help.openai.com if you continue to have issues.. Retrying Question No. 1 Attempt:(1)\n",
      "Rate limit error: Rate limit reached for 10KTPM-200RPM in organization org-Y2tKyCPFO6tIjtCtOVZ7c9tr on tokens per min. Limit: 10000 / min. Please try again in 6ms. Contact us through our help center at help.openai.com if you continue to have issues.. Retrying Question No. 2 Attempt:(1)\n",
      "Rate limit error: Rate limit reached for 10KTPM-200RPM in organization org-Y2tKyCPFO6tIjtCtOVZ7c9tr on tokens per min. Limit: 10000 / min. Please try again in 6ms. Contact us through our help center at help.openai.com if you continue to have issues.. Retrying Question No. 3 Attempt:(1)\n",
      "Rate limit error: Rate limit reached for 10KTPM-200RPM in organization org-Y2tKyCPFO6tIjtCtOVZ7c9tr on tokens per min. Limit: 10000 / min. Please try again in 6ms. Contact us through our help center at help.openai.com if you continue to have issues.. Retrying Question No. 4 Attempt:(1)\n",
      "Rate limit error: Rate limit reached for 10KTPM-200RPM in organization org-Y2tKyCPFO6tIjtCtOVZ7c9tr on tokens per min. Limit: 10000 / min. Please try again in 6ms. Contact us through our help center at help.openai.com if you continue to have issues.. Retrying Question No. 5 Attempt:(1)\n",
      "Rate limit error: Rate limit reached for 10KTPM-200RPM in organization org-Y2tKyCPFO6tIjtCtOVZ7c9tr on tokens per min. Limit: 10000 / min. Please try again in 6ms. Contact us through our help center at help.openai.com if you continue to have issues.. Retrying Question No. 6 Attempt:(1)\n",
      "Rate limit error: Rate limit reached for 10KTPM-200RPM in organization org-Y2tKyCPFO6tIjtCtOVZ7c9tr on tokens per min. Limit: 10000 / min. Please try again in 6ms. Contact us through our help center at help.openai.com if you continue to have issues.. Retrying Question No. 7 Attempt:(1)\n",
      "Rate limit error: Rate limit reached for 10KTPM-200RPM in organization org-Y2tKyCPFO6tIjtCtOVZ7c9tr on tokens per min. Limit: 10000 / min. Please try again in 6ms. Contact us through our help center at help.openai.com if you continue to have issues.. Retrying Question No. 8 Attempt:(1)\n",
      "Rate limit error: Rate limit reached for 10KTPM-200RPM in organization org-Y2tKyCPFO6tIjtCtOVZ7c9tr on tokens per min. Limit: 10000 / min. Please try again in 6ms. Contact us through our help center at help.openai.com if you continue to have issues.. Retrying Question No. 8 Attempt:(2)\n",
      "Rate limit error: Rate limit reached for 10KTPM-200RPM in organization org-Y2tKyCPFO6tIjtCtOVZ7c9tr on tokens per min. Limit: 10000 / min. Please try again in 6ms. Contact us through our help center at help.openai.com if you continue to have issues.. Retrying Question No. 1 Attempt:(1)\n",
      "Rate limit error: Rate limit reached for 10KTPM-200RPM in organization org-Y2tKyCPFO6tIjtCtOVZ7c9tr on tokens per min. Limit: 10000 / min. Please try again in 6ms. Contact us through our help center at help.openai.com if you continue to have issues.. Retrying Question No. 3 Attempt:(1)\n",
      "Rate limit error: Rate limit reached for 10KTPM-200RPM in organization org-Y2tKyCPFO6tIjtCtOVZ7c9tr on tokens per min. Limit: 10000 / min. Please try again in 6ms. Contact us through our help center at help.openai.com if you continue to have issues.. Retrying Question No. 5 Attempt:(1)\n",
      "Rate limit error: Rate limit reached for 10KTPM-200RPM in organization org-Y2tKyCPFO6tIjtCtOVZ7c9tr on tokens per min. Limit: 10000 / min. Please try again in 6ms. Contact us through our help center at help.openai.com if you continue to have issues.. Retrying Question No. 7 Attempt:(1)\n"
     ]
    },
    {
     "name": "stderr",
     "output_type": "stream",
     "text": [
      "  9%|▉         | 10/107 [1:04:26<14:08:47, 525.03s/it]"
     ]
    },
    {
     "name": "stdout",
     "output_type": "stream",
     "text": [
      "Rate limit error: Rate limit reached for 10KTPM-200RPM in organization org-Y2tKyCPFO6tIjtCtOVZ7c9tr on tokens per min. Limit: 10000 / min. Please try again in 6ms. Contact us through our help center at help.openai.com if you continue to have issues.. Retrying Question No. 0 Attempt:(1)\n",
      "Rate limit error: Rate limit reached for 10KTPM-200RPM in organization org-Y2tKyCPFO6tIjtCtOVZ7c9tr on tokens per min. Limit: 10000 / min. Please try again in 6ms. Contact us through our help center at help.openai.com if you continue to have issues.. Retrying Question No. 0 Attempt:(2)\n",
      "Rate limit error: Rate limit reached for 10KTPM-200RPM in organization org-Y2tKyCPFO6tIjtCtOVZ7c9tr on tokens per min. Limit: 10000 / min. Please try again in 6ms. Contact us through our help center at help.openai.com if you continue to have issues.. Retrying Question No. 1 Attempt:(1)\n",
      "Rate limit error: Rate limit reached for 10KTPM-200RPM in organization org-Y2tKyCPFO6tIjtCtOVZ7c9tr on tokens per min. Limit: 10000 / min. Please try again in 6ms. Contact us through our help center at help.openai.com if you continue to have issues.. Retrying Question No. 2 Attempt:(1)\n",
      "Rate limit error: Rate limit reached for 10KTPM-200RPM in organization org-Y2tKyCPFO6tIjtCtOVZ7c9tr on tokens per min. Limit: 10000 / min. Please try again in 6ms. Contact us through our help center at help.openai.com if you continue to have issues.. Retrying Question No. 3 Attempt:(1)\n",
      "Rate limit error: Rate limit reached for 10KTPM-200RPM in organization org-Y2tKyCPFO6tIjtCtOVZ7c9tr on tokens per min. Limit: 10000 / min. Please try again in 6ms. Contact us through our help center at help.openai.com if you continue to have issues.. Retrying Question No. 4 Attempt:(1)\n",
      "Rate limit error: Rate limit reached for 10KTPM-200RPM in organization org-Y2tKyCPFO6tIjtCtOVZ7c9tr on tokens per min. Limit: 10000 / min. Please try again in 6ms. Contact us through our help center at help.openai.com if you continue to have issues.. Retrying Question No. 5 Attempt:(1)\n",
      "Rate limit error: Rate limit reached for 10KTPM-200RPM in organization org-Y2tKyCPFO6tIjtCtOVZ7c9tr on tokens per min. Limit: 10000 / min. Please try again in 6ms. Contact us through our help center at help.openai.com if you continue to have issues.. Retrying Question No. 6 Attempt:(1)\n",
      "Rate limit error: Rate limit reached for 10KTPM-200RPM in organization org-Y2tKyCPFO6tIjtCtOVZ7c9tr on tokens per min. Limit: 10000 / min. Please try again in 6ms. Contact us through our help center at help.openai.com if you continue to have issues.. Retrying Question No. 6 Attempt:(2)\n",
      "Rate limit error: Rate limit reached for 10KTPM-200RPM in organization org-Y2tKyCPFO6tIjtCtOVZ7c9tr on tokens per min. Limit: 10000 / min. Please try again in 6ms. Contact us through our help center at help.openai.com if you continue to have issues.. Retrying Question No. 7 Attempt:(1)\n",
      "Rate limit error: Rate limit reached for 10KTPM-200RPM in organization org-Y2tKyCPFO6tIjtCtOVZ7c9tr on tokens per min. Limit: 10000 / min. Please try again in 6ms. Contact us through our help center at help.openai.com if you continue to have issues.. Retrying Question No. 8 Attempt:(1)\n",
      "Rate limit error: Rate limit reached for 10KTPM-200RPM in organization org-Y2tKyCPFO6tIjtCtOVZ7c9tr on tokens per min. Limit: 10000 / min. Please try again in 6ms. Contact us through our help center at help.openai.com if you continue to have issues.. Retrying Question No. 1 Attempt:(1)\n",
      "Rate limit error: Rate limit reached for 10KTPM-200RPM in organization org-Y2tKyCPFO6tIjtCtOVZ7c9tr on tokens per min. Limit: 10000 / min. Please try again in 6ms. Contact us through our help center at help.openai.com if you continue to have issues.. Retrying Question No. 5 Attempt:(1)\n",
      "Rate limit error: Rate limit reached for 10KTPM-200RPM in organization org-Y2tKyCPFO6tIjtCtOVZ7c9tr on tokens per min. Limit: 10000 / min. Please try again in 6ms. Contact us through our help center at help.openai.com if you continue to have issues.. Retrying Question No. 8 Attempt:(1)\n"
     ]
    },
    {
     "name": "stderr",
     "output_type": "stream",
     "text": [
      " 10%|█         | 11/107 [1:11:49<13:20:10, 500.11s/it]"
     ]
    },
    {
     "name": "stdout",
     "output_type": "stream",
     "text": [
      "Rate limit error: Rate limit reached for 10KTPM-200RPM in organization org-Y2tKyCPFO6tIjtCtOVZ7c9tr on tokens per min. Limit: 10000 / min. Please try again in 6ms. Contact us through our help center at help.openai.com if you continue to have issues.. Retrying Question No. 1 Attempt:(1)\n",
      "Rate limit error: Rate limit reached for 10KTPM-200RPM in organization org-Y2tKyCPFO6tIjtCtOVZ7c9tr on tokens per min. Limit: 10000 / min. Please try again in 6ms. Contact us through our help center at help.openai.com if you continue to have issues.. Retrying Question No. 2 Attempt:(1)\n",
      "Rate limit error: Rate limit reached for 10KTPM-200RPM in organization org-Y2tKyCPFO6tIjtCtOVZ7c9tr on tokens per min. Limit: 10000 / min. Please try again in 6ms. Contact us through our help center at help.openai.com if you continue to have issues.. Retrying Question No. 3 Attempt:(1)\n",
      "Rate limit error: Rate limit reached for 10KTPM-200RPM in organization org-Y2tKyCPFO6tIjtCtOVZ7c9tr on tokens per min. Limit: 10000 / min. Please try again in 6ms. Contact us through our help center at help.openai.com if you continue to have issues.. Retrying Question No. 4 Attempt:(1)\n",
      "Rate limit error: Rate limit reached for 10KTPM-200RPM in organization org-Y2tKyCPFO6tIjtCtOVZ7c9tr on tokens per min. Limit: 10000 / min. Please try again in 6ms. Contact us through our help center at help.openai.com if you continue to have issues.. Retrying Question No. 6 Attempt:(1)\n",
      "Rate limit error: Rate limit reached for 10KTPM-200RPM in organization org-Y2tKyCPFO6tIjtCtOVZ7c9tr on tokens per min. Limit: 10000 / min. Please try again in 6ms. Contact us through our help center at help.openai.com if you continue to have issues.. Retrying Question No. 7 Attempt:(1)\n",
      "Rate limit error: Rate limit reached for 10KTPM-200RPM in organization org-Y2tKyCPFO6tIjtCtOVZ7c9tr on tokens per min. Limit: 10000 / min. Please try again in 6ms. Contact us through our help center at help.openai.com if you continue to have issues.. Retrying Question No. 8 Attempt:(1)\n"
     ]
    },
    {
     "name": "stderr",
     "output_type": "stream",
     "text": [
      " 11%|█         | 12/107 [1:15:32<10:58:27, 415.87s/it]"
     ]
    },
    {
     "name": "stdout",
     "output_type": "stream",
     "text": [
      "Rate limit error: Rate limit reached for 10KTPM-200RPM in organization org-Y2tKyCPFO6tIjtCtOVZ7c9tr on tokens per min. Limit: 10000 / min. Please try again in 6ms. Contact us through our help center at help.openai.com if you continue to have issues.. Retrying Question No. 0 Attempt:(1)\n",
      "Rate limit error: Rate limit reached for 10KTPM-200RPM in organization org-Y2tKyCPFO6tIjtCtOVZ7c9tr on tokens per min. Limit: 10000 / min. Please try again in 6ms. Contact us through our help center at help.openai.com if you continue to have issues.. Retrying Question No. 1 Attempt:(1)\n",
      "Rate limit error: Rate limit reached for 10KTPM-200RPM in organization org-Y2tKyCPFO6tIjtCtOVZ7c9tr on tokens per min. Limit: 10000 / min. Please try again in 6ms. Contact us through our help center at help.openai.com if you continue to have issues.. Retrying Question No. 2 Attempt:(1)\n",
      "Rate limit error: Rate limit reached for 10KTPM-200RPM in organization org-Y2tKyCPFO6tIjtCtOVZ7c9tr on tokens per min. Limit: 10000 / min. Please try again in 6ms. Contact us through our help center at help.openai.com if you continue to have issues.. Retrying Question No. 3 Attempt:(1)\n",
      "Rate limit error: Rate limit reached for 10KTPM-200RPM in organization org-Y2tKyCPFO6tIjtCtOVZ7c9tr on tokens per min. Limit: 10000 / min. Please try again in 6ms. Contact us through our help center at help.openai.com if you continue to have issues.. Retrying Question No. 4 Attempt:(1)\n",
      "Rate limit error: Rate limit reached for 10KTPM-200RPM in organization org-Y2tKyCPFO6tIjtCtOVZ7c9tr on tokens per min. Limit: 10000 / min. Please try again in 6ms. Contact us through our help center at help.openai.com if you continue to have issues.. Retrying Question No. 5 Attempt:(1)\n",
      "Rate limit error: Rate limit reached for 10KTPM-200RPM in organization org-Y2tKyCPFO6tIjtCtOVZ7c9tr on tokens per min. Limit: 10000 / min. Please try again in 6ms. Contact us through our help center at help.openai.com if you continue to have issues.. Retrying Question No. 6 Attempt:(1)\n",
      "Rate limit error: Rate limit reached for 10KTPM-200RPM in organization org-Y2tKyCPFO6tIjtCtOVZ7c9tr on tokens per min. Limit: 10000 / min. Please try again in 6ms. Contact us through our help center at help.openai.com if you continue to have issues.. Retrying Question No. 7 Attempt:(1)\n",
      "Rate limit error: Rate limit reached for 10KTPM-200RPM in organization org-Y2tKyCPFO6tIjtCtOVZ7c9tr on tokens per min. Limit: 10000 / min. Please try again in 6ms. Contact us through our help center at help.openai.com if you continue to have issues.. Retrying Question No. 8 Attempt:(1)\n"
     ]
    },
    {
     "name": "stderr",
     "output_type": "stream",
     "text": [
      " 12%|█▏        | 13/107 [1:20:16<9:48:35, 375.70s/it] "
     ]
    },
    {
     "name": "stdout",
     "output_type": "stream",
     "text": [
      "Rate limit error: Rate limit reached for 10KTPM-200RPM in organization org-Y2tKyCPFO6tIjtCtOVZ7c9tr on tokens per min. Limit: 10000 / min. Please try again in 6ms. Contact us through our help center at help.openai.com if you continue to have issues.. Retrying Question No. 0 Attempt:(1)\n",
      "Rate limit error: Rate limit reached for 10KTPM-200RPM in organization org-Y2tKyCPFO6tIjtCtOVZ7c9tr on tokens per min. Limit: 10000 / min. Please try again in 6ms. Contact us through our help center at help.openai.com if you continue to have issues.. Retrying Question No. 1 Attempt:(1)\n",
      "Rate limit error: Rate limit reached for 10KTPM-200RPM in organization org-Y2tKyCPFO6tIjtCtOVZ7c9tr on tokens per min. Limit: 10000 / min. Please try again in 6ms. Contact us through our help center at help.openai.com if you continue to have issues.. Retrying Question No. 2 Attempt:(1)\n",
      "Rate limit error: Rate limit reached for 10KTPM-200RPM in organization org-Y2tKyCPFO6tIjtCtOVZ7c9tr on tokens per min. Limit: 10000 / min. Please try again in 6ms. Contact us through our help center at help.openai.com if you continue to have issues.. Retrying Question No. 3 Attempt:(1)\n",
      "Rate limit error: Rate limit reached for 10KTPM-200RPM in organization org-Y2tKyCPFO6tIjtCtOVZ7c9tr on tokens per min. Limit: 10000 / min. Please try again in 6ms. Contact us through our help center at help.openai.com if you continue to have issues.. Retrying Question No. 4 Attempt:(1)\n",
      "Rate limit error: Rate limit reached for 10KTPM-200RPM in organization org-Y2tKyCPFO6tIjtCtOVZ7c9tr on tokens per min. Limit: 10000 / min. Please try again in 6ms. Contact us through our help center at help.openai.com if you continue to have issues.. Retrying Question No. 5 Attempt:(1)\n",
      "Rate limit error: Rate limit reached for 10KTPM-200RPM in organization org-Y2tKyCPFO6tIjtCtOVZ7c9tr on tokens per min. Limit: 10000 / min. Please try again in 6ms. Contact us through our help center at help.openai.com if you continue to have issues.. Retrying Question No. 6 Attempt:(1)\n",
      "Rate limit error: Rate limit reached for 10KTPM-200RPM in organization org-Y2tKyCPFO6tIjtCtOVZ7c9tr on tokens per min. Limit: 10000 / min. Please try again in 6ms. Contact us through our help center at help.openai.com if you continue to have issues.. Retrying Question No. 7 Attempt:(1)\n",
      "Rate limit error: Rate limit reached for 10KTPM-200RPM in organization org-Y2tKyCPFO6tIjtCtOVZ7c9tr on tokens per min. Limit: 10000 / min. Please try again in 6ms. Contact us through our help center at help.openai.com if you continue to have issues.. Retrying Question No. 8 Attempt:(1)\n",
      "Rate limit error: Rate limit reached for 10KTPM-200RPM in organization org-Y2tKyCPFO6tIjtCtOVZ7c9tr on tokens per min. Limit: 10000 / min. Please try again in 6ms. Contact us through our help center at help.openai.com if you continue to have issues.. Retrying Question No. 8 Attempt:(2)\n"
     ]
    },
    {
     "name": "stderr",
     "output_type": "stream",
     "text": [
      " 13%|█▎        | 14/107 [1:25:29<9:13:20, 356.99s/it]"
     ]
    },
    {
     "name": "stdout",
     "output_type": "stream",
     "text": [
      "Rate limit error: Rate limit reached for 10KTPM-200RPM in organization org-Y2tKyCPFO6tIjtCtOVZ7c9tr on tokens per min. Limit: 10000 / min. Please try again in 6ms. Contact us through our help center at help.openai.com if you continue to have issues.. Retrying Question No. 0 Attempt:(1)\n",
      "Rate limit error: Rate limit reached for 10KTPM-200RPM in organization org-Y2tKyCPFO6tIjtCtOVZ7c9tr on tokens per min. Limit: 10000 / min. Please try again in 6ms. Contact us through our help center at help.openai.com if you continue to have issues.. Retrying Question No. 1 Attempt:(1)\n",
      "Rate limit error: Rate limit reached for 10KTPM-200RPM in organization org-Y2tKyCPFO6tIjtCtOVZ7c9tr on tokens per min. Limit: 10000 / min. Please try again in 6ms. Contact us through our help center at help.openai.com if you continue to have issues.. Retrying Question No. 2 Attempt:(1)\n",
      "Rate limit error: Rate limit reached for 10KTPM-200RPM in organization org-Y2tKyCPFO6tIjtCtOVZ7c9tr on tokens per min. Limit: 10000 / min. Please try again in 6ms. Contact us through our help center at help.openai.com if you continue to have issues.. Retrying Question No. 3 Attempt:(1)\n",
      "Rate limit error: Rate limit reached for 10KTPM-200RPM in organization org-Y2tKyCPFO6tIjtCtOVZ7c9tr on tokens per min. Limit: 10000 / min. Please try again in 6ms. Contact us through our help center at help.openai.com if you continue to have issues.. Retrying Question No. 4 Attempt:(1)\n",
      "Rate limit error: Rate limit reached for 10KTPM-200RPM in organization org-Y2tKyCPFO6tIjtCtOVZ7c9tr on tokens per min. Limit: 10000 / min. Please try again in 6ms. Contact us through our help center at help.openai.com if you continue to have issues.. Retrying Question No. 5 Attempt:(1)\n",
      "Rate limit error: Rate limit reached for 10KTPM-200RPM in organization org-Y2tKyCPFO6tIjtCtOVZ7c9tr on tokens per min. Limit: 10000 / min. Please try again in 6ms. Contact us through our help center at help.openai.com if you continue to have issues.. Retrying Question No. 6 Attempt:(1)\n",
      "Rate limit error: Rate limit reached for 10KTPM-200RPM in organization org-Y2tKyCPFO6tIjtCtOVZ7c9tr on tokens per min. Limit: 10000 / min. Please try again in 6ms. Contact us through our help center at help.openai.com if you continue to have issues.. Retrying Question No. 7 Attempt:(1)\n",
      "Rate limit error: Rate limit reached for 10KTPM-200RPM in organization org-Y2tKyCPFO6tIjtCtOVZ7c9tr on tokens per min. Limit: 10000 / min. Please try again in 6ms. Contact us through our help center at help.openai.com if you continue to have issues.. Retrying Question No. 8 Attempt:(1)\n",
      "Rate limit error: Rate limit reached for 10KTPM-200RPM in organization org-Y2tKyCPFO6tIjtCtOVZ7c9tr on tokens per min. Limit: 10000 / min. Please try again in 6ms. Contact us through our help center at help.openai.com if you continue to have issues.. Retrying Question No. 0 Attempt:(1)\n",
      "Rate limit error: Rate limit reached for 10KTPM-200RPM in organization org-Y2tKyCPFO6tIjtCtOVZ7c9tr on tokens per min. Limit: 10000 / min. Please try again in 6ms. Contact us through our help center at help.openai.com if you continue to have issues.. Retrying Question No. 1 Attempt:(1)\n",
      "Rate limit error: Rate limit reached for 10KTPM-200RPM in organization org-Y2tKyCPFO6tIjtCtOVZ7c9tr on tokens per min. Limit: 10000 / min. Please try again in 6ms. Contact us through our help center at help.openai.com if you continue to have issues.. Retrying Question No. 1 Attempt:(2)\n",
      "Rate limit error: Rate limit reached for 10KTPM-200RPM in organization org-Y2tKyCPFO6tIjtCtOVZ7c9tr on tokens per min. Limit: 10000 / min. Please try again in 6ms. Contact us through our help center at help.openai.com if you continue to have issues.. Retrying Question No. 2 Attempt:(1)\n",
      "Rate limit error: Rate limit reached for 10KTPM-200RPM in organization org-Y2tKyCPFO6tIjtCtOVZ7c9tr on tokens per min. Limit: 10000 / min. Please try again in 6ms. Contact us through our help center at help.openai.com if you continue to have issues.. Retrying Question No. 3 Attempt:(1)\n",
      "Rate limit error: Rate limit reached for 10KTPM-200RPM in organization org-Y2tKyCPFO6tIjtCtOVZ7c9tr on tokens per min. Limit: 10000 / min. Please try again in 6ms. Contact us through our help center at help.openai.com if you continue to have issues.. Retrying Question No. 4 Attempt:(1)\n",
      "Rate limit error: Rate limit reached for 10KTPM-200RPM in organization org-Y2tKyCPFO6tIjtCtOVZ7c9tr on tokens per min. Limit: 10000 / min. Please try again in 6ms. Contact us through our help center at help.openai.com if you continue to have issues.. Retrying Question No. 5 Attempt:(1)\n",
      "Rate limit error: Rate limit reached for 10KTPM-200RPM in organization org-Y2tKyCPFO6tIjtCtOVZ7c9tr on tokens per min. Limit: 10000 / min. Please try again in 6ms. Contact us through our help center at help.openai.com if you continue to have issues.. Retrying Question No. 6 Attempt:(1)\n",
      "Rate limit error: Rate limit reached for 10KTPM-200RPM in organization org-Y2tKyCPFO6tIjtCtOVZ7c9tr on tokens per min. Limit: 10000 / min. Please try again in 6ms. Contact us through our help center at help.openai.com if you continue to have issues.. Retrying Question No. 7 Attempt:(1)\n",
      "Rate limit error: Rate limit reached for 10KTPM-200RPM in organization org-Y2tKyCPFO6tIjtCtOVZ7c9tr on tokens per min. Limit: 10000 / min. Please try again in 6ms. Contact us through our help center at help.openai.com if you continue to have issues.. Retrying Question No. 8 Attempt:(1)\n",
      "Rate limit error: Rate limit reached for 10KTPM-200RPM in organization org-Y2tKyCPFO6tIjtCtOVZ7c9tr on tokens per min. Limit: 10000 / min. Please try again in 6ms. Contact us through our help center at help.openai.com if you continue to have issues.. Retrying Question No. 0 Attempt:(1)\n"
     ]
    },
    {
     "name": "stderr",
     "output_type": "stream",
     "text": [
      " 14%|█▍        | 15/107 [1:36:09<11:17:57, 442.15s/it]"
     ]
    },
    {
     "name": "stdout",
     "output_type": "stream",
     "text": [
      "Rate limit error: Rate limit reached for 10KTPM-200RPM in organization org-Y2tKyCPFO6tIjtCtOVZ7c9tr on tokens per min. Limit: 10000 / min. Please try again in 6ms. Contact us through our help center at help.openai.com if you continue to have issues.. Retrying Question No. 1 Attempt:(1)\n",
      "Rate limit error: Rate limit reached for 10KTPM-200RPM in organization org-Y2tKyCPFO6tIjtCtOVZ7c9tr on tokens per min. Limit: 10000 / min. Please try again in 6ms. Contact us through our help center at help.openai.com if you continue to have issues.. Retrying Question No. 7 Attempt:(1)\n"
     ]
    },
    {
     "name": "stderr",
     "output_type": "stream",
     "text": [
      " 15%|█▍        | 16/107 [1:37:16<8:19:21, 329.25s/it] "
     ]
    },
    {
     "name": "stdout",
     "output_type": "stream",
     "text": [
      "Rate limit error: Rate limit reached for 10KTPM-200RPM in organization org-Y2tKyCPFO6tIjtCtOVZ7c9tr on tokens per min. Limit: 10000 / min. Please try again in 6ms. Contact us through our help center at help.openai.com if you continue to have issues.. Retrying Question No. 0 Attempt:(1)\n",
      "Rate limit error: Rate limit reached for 10KTPM-200RPM in organization org-Y2tKyCPFO6tIjtCtOVZ7c9tr on tokens per min. Limit: 10000 / min. Please try again in 6ms. Contact us through our help center at help.openai.com if you continue to have issues.. Retrying Question No. 1 Attempt:(1)\n",
      "Rate limit error: Rate limit reached for 10KTPM-200RPM in organization org-Y2tKyCPFO6tIjtCtOVZ7c9tr on tokens per min. Limit: 10000 / min. Please try again in 6ms. Contact us through our help center at help.openai.com if you continue to have issues.. Retrying Question No. 2 Attempt:(1)\n",
      "Rate limit error: Rate limit reached for 10KTPM-200RPM in organization org-Y2tKyCPFO6tIjtCtOVZ7c9tr on tokens per min. Limit: 10000 / min. Please try again in 6ms. Contact us through our help center at help.openai.com if you continue to have issues.. Retrying Question No. 3 Attempt:(1)\n",
      "Rate limit error: Rate limit reached for 10KTPM-200RPM in organization org-Y2tKyCPFO6tIjtCtOVZ7c9tr on tokens per min. Limit: 10000 / min. Please try again in 6ms. Contact us through our help center at help.openai.com if you continue to have issues.. Retrying Question No. 4 Attempt:(1)\n",
      "Rate limit error: Rate limit reached for 10KTPM-200RPM in organization org-Y2tKyCPFO6tIjtCtOVZ7c9tr on tokens per min. Limit: 10000 / min. Please try again in 6ms. Contact us through our help center at help.openai.com if you continue to have issues.. Retrying Question No. 5 Attempt:(1)\n",
      "Rate limit error: Rate limit reached for 10KTPM-200RPM in organization org-Y2tKyCPFO6tIjtCtOVZ7c9tr on tokens per min. Limit: 10000 / min. Please try again in 6ms. Contact us through our help center at help.openai.com if you continue to have issues.. Retrying Question No. 5 Attempt:(2)\n",
      "Rate limit error: Rate limit reached for 10KTPM-200RPM in organization org-Y2tKyCPFO6tIjtCtOVZ7c9tr on tokens per min. Limit: 10000 / min. Please try again in 6ms. Contact us through our help center at help.openai.com if you continue to have issues.. Retrying Question No. 6 Attempt:(1)\n",
      "Rate limit error: Rate limit reached for 10KTPM-200RPM in organization org-Y2tKyCPFO6tIjtCtOVZ7c9tr on tokens per min. Limit: 10000 / min. Please try again in 6ms. Contact us through our help center at help.openai.com if you continue to have issues.. Retrying Question No. 7 Attempt:(1)\n",
      "Rate limit error: Rate limit reached for 10KTPM-200RPM in organization org-Y2tKyCPFO6tIjtCtOVZ7c9tr on tokens per min. Limit: 10000 / min. Please try again in 6ms. Contact us through our help center at help.openai.com if you continue to have issues.. Retrying Question No. 8 Attempt:(1)\n",
      "Rate limit error: Rate limit reached for 10KTPM-200RPM in organization org-Y2tKyCPFO6tIjtCtOVZ7c9tr on tokens per min. Limit: 10000 / min. Please try again in 6ms. Contact us through our help center at help.openai.com if you continue to have issues.. Retrying Question No. 0 Attempt:(1)\n",
      "Rate limit error: Rate limit reached for 10KTPM-200RPM in organization org-Y2tKyCPFO6tIjtCtOVZ7c9tr on tokens per min. Limit: 10000 / min. Please try again in 6ms. Contact us through our help center at help.openai.com if you continue to have issues.. Retrying Question No. 1 Attempt:(1)\n",
      "Rate limit error: Rate limit reached for 10KTPM-200RPM in organization org-Y2tKyCPFO6tIjtCtOVZ7c9tr on tokens per min. Limit: 10000 / min. Please try again in 6ms. Contact us through our help center at help.openai.com if you continue to have issues.. Retrying Question No. 2 Attempt:(1)\n",
      "Rate limit error: Rate limit reached for 10KTPM-200RPM in organization org-Y2tKyCPFO6tIjtCtOVZ7c9tr on tokens per min. Limit: 10000 / min. Please try again in 6ms. Contact us through our help center at help.openai.com if you continue to have issues.. Retrying Question No. 3 Attempt:(1)\n",
      "Rate limit error: Rate limit reached for 10KTPM-200RPM in organization org-Y2tKyCPFO6tIjtCtOVZ7c9tr on tokens per min. Limit: 10000 / min. Please try again in 6ms. Contact us through our help center at help.openai.com if you continue to have issues.. Retrying Question No. 4 Attempt:(1)\n",
      "Rate limit error: Rate limit reached for 10KTPM-200RPM in organization org-Y2tKyCPFO6tIjtCtOVZ7c9tr on tokens per min. Limit: 10000 / min. Please try again in 6ms. Contact us through our help center at help.openai.com if you continue to have issues.. Retrying Question No. 5 Attempt:(1)\n",
      "Rate limit error: Rate limit reached for 10KTPM-200RPM in organization org-Y2tKyCPFO6tIjtCtOVZ7c9tr on tokens per min. Limit: 10000 / min. Please try again in 6ms. Contact us through our help center at help.openai.com if you continue to have issues.. Retrying Question No. 6 Attempt:(1)\n",
      "Rate limit error: Rate limit reached for 10KTPM-200RPM in organization org-Y2tKyCPFO6tIjtCtOVZ7c9tr on tokens per min. Limit: 10000 / min. Please try again in 6ms. Contact us through our help center at help.openai.com if you continue to have issues.. Retrying Question No. 7 Attempt:(1)\n",
      "Rate limit error: Rate limit reached for 10KTPM-200RPM in organization org-Y2tKyCPFO6tIjtCtOVZ7c9tr on tokens per min. Limit: 10000 / min. Please try again in 6ms. Contact us through our help center at help.openai.com if you continue to have issues.. Retrying Question No. 8 Attempt:(1)\n",
      "Rate limit error: Rate limit reached for 10KTPM-200RPM in organization org-Y2tKyCPFO6tIjtCtOVZ7c9tr on tokens per min. Limit: 10000 / min. Please try again in 6ms. Contact us through our help center at help.openai.com if you continue to have issues.. Retrying Question No. 0 Attempt:(1)\n",
      "Rate limit error: Rate limit reached for 10KTPM-200RPM in organization org-Y2tKyCPFO6tIjtCtOVZ7c9tr on tokens per min. Limit: 10000 / min. Please try again in 6ms. Contact us through our help center at help.openai.com if you continue to have issues.. Retrying Question No. 1 Attempt:(1)\n",
      "Rate limit error: Rate limit reached for 10KTPM-200RPM in organization org-Y2tKyCPFO6tIjtCtOVZ7c9tr on tokens per min. Limit: 10000 / min. Please try again in 6ms. Contact us through our help center at help.openai.com if you continue to have issues.. Retrying Question No. 3 Attempt:(1)\n",
      "Rate limit error: Rate limit reached for 10KTPM-200RPM in organization org-Y2tKyCPFO6tIjtCtOVZ7c9tr on tokens per min. Limit: 10000 / min. Please try again in 6ms. Contact us through our help center at help.openai.com if you continue to have issues.. Retrying Question No. 4 Attempt:(1)\n",
      "Rate limit error: Rate limit reached for 10KTPM-200RPM in organization org-Y2tKyCPFO6tIjtCtOVZ7c9tr on tokens per min. Limit: 10000 / min. Please try again in 6ms. Contact us through our help center at help.openai.com if you continue to have issues.. Retrying Question No. 5 Attempt:(1)\n",
      "Rate limit error: Rate limit reached for 10KTPM-200RPM in organization org-Y2tKyCPFO6tIjtCtOVZ7c9tr on tokens per min. Limit: 10000 / min. Please try again in 6ms. Contact us through our help center at help.openai.com if you continue to have issues.. Retrying Question No. 6 Attempt:(1)\n",
      "Rate limit error: Rate limit reached for 10KTPM-200RPM in organization org-Y2tKyCPFO6tIjtCtOVZ7c9tr on tokens per min. Limit: 10000 / min. Please try again in 6ms. Contact us through our help center at help.openai.com if you continue to have issues.. Retrying Question No. 8 Attempt:(1)\n"
     ]
    },
    {
     "name": "stderr",
     "output_type": "stream",
     "text": [
      " 16%|█▌        | 17/107 [1:50:58<11:56:11, 477.46s/it]"
     ]
    },
    {
     "name": "stdout",
     "output_type": "stream",
     "text": [
      "Rate limit error: Rate limit reached for 10KTPM-200RPM in organization org-Y2tKyCPFO6tIjtCtOVZ7c9tr on tokens per min. Limit: 10000 / min. Please try again in 6ms. Contact us through our help center at help.openai.com if you continue to have issues.. Retrying Question No. 0 Attempt:(1)\n",
      "Rate limit error: Rate limit reached for 10KTPM-200RPM in organization org-Y2tKyCPFO6tIjtCtOVZ7c9tr on tokens per min. Limit: 10000 / min. Please try again in 6ms. Contact us through our help center at help.openai.com if you continue to have issues.. Retrying Question No. 1 Attempt:(1)\n",
      "Rate limit error: Rate limit reached for 10KTPM-200RPM in organization org-Y2tKyCPFO6tIjtCtOVZ7c9tr on tokens per min. Limit: 10000 / min. Please try again in 6ms. Contact us through our help center at help.openai.com if you continue to have issues.. Retrying Question No. 1 Attempt:(2)\n",
      "Rate limit error: Rate limit reached for 10KTPM-200RPM in organization org-Y2tKyCPFO6tIjtCtOVZ7c9tr on tokens per min. Limit: 10000 / min. Please try again in 6ms. Contact us through our help center at help.openai.com if you continue to have issues.. Retrying Question No. 2 Attempt:(1)\n",
      "Rate limit error: Rate limit reached for 10KTPM-200RPM in organization org-Y2tKyCPFO6tIjtCtOVZ7c9tr on tokens per min. Limit: 10000 / min. Please try again in 6ms. Contact us through our help center at help.openai.com if you continue to have issues.. Retrying Question No. 3 Attempt:(1)\n",
      "Rate limit error: Rate limit reached for 10KTPM-200RPM in organization org-Y2tKyCPFO6tIjtCtOVZ7c9tr on tokens per min. Limit: 10000 / min. Please try again in 6ms. Contact us through our help center at help.openai.com if you continue to have issues.. Retrying Question No. 4 Attempt:(1)\n",
      "Rate limit error: Rate limit reached for 10KTPM-200RPM in organization org-Y2tKyCPFO6tIjtCtOVZ7c9tr on tokens per min. Limit: 10000 / min. Please try again in 6ms. Contact us through our help center at help.openai.com if you continue to have issues.. Retrying Question No. 5 Attempt:(1)\n",
      "Rate limit error: Rate limit reached for 10KTPM-200RPM in organization org-Y2tKyCPFO6tIjtCtOVZ7c9tr on tokens per min. Limit: 10000 / min. Please try again in 6ms. Contact us through our help center at help.openai.com if you continue to have issues.. Retrying Question No. 6 Attempt:(1)\n",
      "Rate limit error: Rate limit reached for 10KTPM-200RPM in organization org-Y2tKyCPFO6tIjtCtOVZ7c9tr on tokens per min. Limit: 10000 / min. Please try again in 6ms. Contact us through our help center at help.openai.com if you continue to have issues.. Retrying Question No. 6 Attempt:(2)\n",
      "Rate limit error: Rate limit reached for 10KTPM-200RPM in organization org-Y2tKyCPFO6tIjtCtOVZ7c9tr on tokens per min. Limit: 10000 / min. Please try again in 6ms. Contact us through our help center at help.openai.com if you continue to have issues.. Retrying Question No. 7 Attempt:(1)\n",
      "Rate limit error: Rate limit reached for 10KTPM-200RPM in organization org-Y2tKyCPFO6tIjtCtOVZ7c9tr on tokens per min. Limit: 10000 / min. Please try again in 6ms. Contact us through our help center at help.openai.com if you continue to have issues.. Retrying Question No. 8 Attempt:(1)\n",
      "Rate limit error: Rate limit reached for 10KTPM-200RPM in organization org-Y2tKyCPFO6tIjtCtOVZ7c9tr on tokens per min. Limit: 10000 / min. Please try again in 6ms. Contact us through our help center at help.openai.com if you continue to have issues.. Retrying Question No. 0 Attempt:(1)\n",
      "Rate limit error: Rate limit reached for 10KTPM-200RPM in organization org-Y2tKyCPFO6tIjtCtOVZ7c9tr on tokens per min. Limit: 10000 / min. Please try again in 6ms. Contact us through our help center at help.openai.com if you continue to have issues.. Retrying Question No. 1 Attempt:(1)\n",
      "Rate limit error: Rate limit reached for 10KTPM-200RPM in organization org-Y2tKyCPFO6tIjtCtOVZ7c9tr on tokens per min. Limit: 10000 / min. Please try again in 6ms. Contact us through our help center at help.openai.com if you continue to have issues.. Retrying Question No. 2 Attempt:(1)\n",
      "Rate limit error: Rate limit reached for 10KTPM-200RPM in organization org-Y2tKyCPFO6tIjtCtOVZ7c9tr on tokens per min. Limit: 10000 / min. Please try again in 6ms. Contact us through our help center at help.openai.com if you continue to have issues.. Retrying Question No. 3 Attempt:(1)\n",
      "Rate limit error: Rate limit reached for 10KTPM-200RPM in organization org-Y2tKyCPFO6tIjtCtOVZ7c9tr on tokens per min. Limit: 10000 / min. Please try again in 6ms. Contact us through our help center at help.openai.com if you continue to have issues.. Retrying Question No. 4 Attempt:(1)\n",
      "Rate limit error: Rate limit reached for 10KTPM-200RPM in organization org-Y2tKyCPFO6tIjtCtOVZ7c9tr on tokens per min. Limit: 10000 / min. Please try again in 6ms. Contact us through our help center at help.openai.com if you continue to have issues.. Retrying Question No. 5 Attempt:(1)\n",
      "Rate limit error: Rate limit reached for 10KTPM-200RPM in organization org-Y2tKyCPFO6tIjtCtOVZ7c9tr on tokens per min. Limit: 10000 / min. Please try again in 6ms. Contact us through our help center at help.openai.com if you continue to have issues.. Retrying Question No. 6 Attempt:(1)\n",
      "Rate limit error: Rate limit reached for 10KTPM-200RPM in organization org-Y2tKyCPFO6tIjtCtOVZ7c9tr on tokens per min. Limit: 10000 / min. Please try again in 6ms. Contact us through our help center at help.openai.com if you continue to have issues.. Retrying Question No. 7 Attempt:(1)\n",
      "Rate limit error: Rate limit reached for 10KTPM-200RPM in organization org-Y2tKyCPFO6tIjtCtOVZ7c9tr on tokens per min. Limit: 10000 / min. Please try again in 6ms. Contact us through our help center at help.openai.com if you continue to have issues.. Retrying Question No. 8 Attempt:(1)\n",
      "Rate limit error: Rate limit reached for 10KTPM-200RPM in organization org-Y2tKyCPFO6tIjtCtOVZ7c9tr on tokens per min. Limit: 10000 / min. Please try again in 6ms. Contact us through our help center at help.openai.com if you continue to have issues.. Retrying Question No. 8 Attempt:(2)\n",
      "Rate limit error: Rate limit reached for 10KTPM-200RPM in organization org-Y2tKyCPFO6tIjtCtOVZ7c9tr on tokens per min. Limit: 10000 / min. Please try again in 6ms. Contact us through our help center at help.openai.com if you continue to have issues.. Retrying Question No. 0 Attempt:(1)\n",
      "Rate limit error: Rate limit reached for 10KTPM-200RPM in organization org-Y2tKyCPFO6tIjtCtOVZ7c9tr on tokens per min. Limit: 10000 / min. Please try again in 6ms. Contact us through our help center at help.openai.com if you continue to have issues.. Retrying Question No. 1 Attempt:(1)\n",
      "Rate limit error: Rate limit reached for 10KTPM-200RPM in organization org-Y2tKyCPFO6tIjtCtOVZ7c9tr on tokens per min. Limit: 10000 / min. Please try again in 6ms. Contact us through our help center at help.openai.com if you continue to have issues.. Retrying Question No. 2 Attempt:(1)\n",
      "Rate limit error: Rate limit reached for 10KTPM-200RPM in organization org-Y2tKyCPFO6tIjtCtOVZ7c9tr on tokens per min. Limit: 10000 / min. Please try again in 6ms. Contact us through our help center at help.openai.com if you continue to have issues.. Retrying Question No. 3 Attempt:(1)\n",
      "Rate limit error: Rate limit reached for 10KTPM-200RPM in organization org-Y2tKyCPFO6tIjtCtOVZ7c9tr on tokens per min. Limit: 10000 / min. Please try again in 6ms. Contact us through our help center at help.openai.com if you continue to have issues.. Retrying Question No. 4 Attempt:(1)\n",
      "Rate limit error: Rate limit reached for 10KTPM-200RPM in organization org-Y2tKyCPFO6tIjtCtOVZ7c9tr on tokens per min. Limit: 10000 / min. Please try again in 6ms. Contact us through our help center at help.openai.com if you continue to have issues.. Retrying Question No. 5 Attempt:(1)\n",
      "Rate limit error: Rate limit reached for 10KTPM-200RPM in organization org-Y2tKyCPFO6tIjtCtOVZ7c9tr on tokens per min. Limit: 10000 / min. Please try again in 6ms. Contact us through our help center at help.openai.com if you continue to have issues.. Retrying Question No. 6 Attempt:(1)\n",
      "Rate limit error: Rate limit reached for 10KTPM-200RPM in organization org-Y2tKyCPFO6tIjtCtOVZ7c9tr on tokens per min. Limit: 10000 / min. Please try again in 6ms. Contact us through our help center at help.openai.com if you continue to have issues.. Retrying Question No. 7 Attempt:(1)\n",
      "Rate limit error: Rate limit reached for 10KTPM-200RPM in organization org-Y2tKyCPFO6tIjtCtOVZ7c9tr on tokens per min. Limit: 10000 / min. Please try again in 6ms. Contact us through our help center at help.openai.com if you continue to have issues.. Retrying Question No. 8 Attempt:(1)\n",
      "Rate limit error: Rate limit reached for 10KTPM-200RPM in organization org-Y2tKyCPFO6tIjtCtOVZ7c9tr on tokens per min. Limit: 10000 / min. Please try again in 6ms. Contact us through our help center at help.openai.com if you continue to have issues.. Retrying Question No. 0 Attempt:(1)\n",
      "Rate limit error: Rate limit reached for 10KTPM-200RPM in organization org-Y2tKyCPFO6tIjtCtOVZ7c9tr on tokens per min. Limit: 10000 / min. Please try again in 6ms. Contact us through our help center at help.openai.com if you continue to have issues.. Retrying Question No. 1 Attempt:(1)\n",
      "Rate limit error: Rate limit reached for 10KTPM-200RPM in organization org-Y2tKyCPFO6tIjtCtOVZ7c9tr on tokens per min. Limit: 10000 / min. Please try again in 6ms. Contact us through our help center at help.openai.com if you continue to have issues.. Retrying Question No. 2 Attempt:(1)\n",
      "Rate limit error: Rate limit reached for 10KTPM-200RPM in organization org-Y2tKyCPFO6tIjtCtOVZ7c9tr on tokens per min. Limit: 10000 / min. Please try again in 6ms. Contact us through our help center at help.openai.com if you continue to have issues.. Retrying Question No. 4 Attempt:(1)\n",
      "Rate limit error: Rate limit reached for 10KTPM-200RPM in organization org-Y2tKyCPFO6tIjtCtOVZ7c9tr on tokens per min. Limit: 10000 / min. Please try again in 6ms. Contact us through our help center at help.openai.com if you continue to have issues.. Retrying Question No. 5 Attempt:(1)\n",
      "Rate limit error: Rate limit reached for 10KTPM-200RPM in organization org-Y2tKyCPFO6tIjtCtOVZ7c9tr on tokens per min. Limit: 10000 / min. Please try again in 6ms. Contact us through our help center at help.openai.com if you continue to have issues.. Retrying Question No. 6 Attempt:(1)\n",
      "Rate limit error: Rate limit reached for 10KTPM-200RPM in organization org-Y2tKyCPFO6tIjtCtOVZ7c9tr on tokens per min. Limit: 10000 / min. Please try again in 6ms. Contact us through our help center at help.openai.com if you continue to have issues.. Retrying Question No. 8 Attempt:(1)\n"
     ]
    },
    {
     "name": "stderr",
     "output_type": "stream",
     "text": [
      " 17%|█▋        | 18/107 [2:10:20<16:53:20, 683.15s/it]"
     ]
    },
    {
     "name": "stdout",
     "output_type": "stream",
     "text": [
      "Rate limit error: Rate limit reached for 10KTPM-200RPM in organization org-Y2tKyCPFO6tIjtCtOVZ7c9tr on tokens per min. Limit: 10000 / min. Please try again in 6ms. Contact us through our help center at help.openai.com if you continue to have issues.. Retrying Question No. 0 Attempt:(1)\n",
      "Rate limit error: Rate limit reached for 10KTPM-200RPM in organization org-Y2tKyCPFO6tIjtCtOVZ7c9tr on tokens per min. Limit: 10000 / min. Please try again in 6ms. Contact us through our help center at help.openai.com if you continue to have issues.. Retrying Question No. 2 Attempt:(1)\n",
      "Rate limit error: Rate limit reached for 10KTPM-200RPM in organization org-Y2tKyCPFO6tIjtCtOVZ7c9tr on tokens per min. Limit: 10000 / min. Please try again in 6ms. Contact us through our help center at help.openai.com if you continue to have issues.. Retrying Question No. 3 Attempt:(1)\n",
      "Rate limit error: Rate limit reached for 10KTPM-200RPM in organization org-Y2tKyCPFO6tIjtCtOVZ7c9tr on tokens per min. Limit: 10000 / min. Please try again in 6ms. Contact us through our help center at help.openai.com if you continue to have issues.. Retrying Question No. 5 Attempt:(1)\n",
      "Rate limit error: Rate limit reached for 10KTPM-200RPM in organization org-Y2tKyCPFO6tIjtCtOVZ7c9tr on tokens per min. Limit: 10000 / min. Please try again in 6ms. Contact us through our help center at help.openai.com if you continue to have issues.. Retrying Question No. 6 Attempt:(1)\n",
      "Rate limit error: Rate limit reached for 10KTPM-200RPM in organization org-Y2tKyCPFO6tIjtCtOVZ7c9tr on tokens per min. Limit: 10000 / min. Please try again in 6ms. Contact us through our help center at help.openai.com if you continue to have issues.. Retrying Question No. 7 Attempt:(1)\n"
     ]
    },
    {
     "name": "stderr",
     "output_type": "stream",
     "text": [
      " 18%|█▊        | 19/107 [2:13:30<13:04:40, 535.01s/it]"
     ]
    },
    {
     "name": "stdout",
     "output_type": "stream",
     "text": [
      "Rate limit error: Rate limit reached for 10KTPM-200RPM in organization org-Y2tKyCPFO6tIjtCtOVZ7c9tr on tokens per min. Limit: 10000 / min. Please try again in 6ms. Contact us through our help center at help.openai.com if you continue to have issues.. Retrying Question No. 0 Attempt:(1)\n",
      "Rate limit error: Rate limit reached for 10KTPM-200RPM in organization org-Y2tKyCPFO6tIjtCtOVZ7c9tr on tokens per min. Limit: 10000 / min. Please try again in 6ms. Contact us through our help center at help.openai.com if you continue to have issues.. Retrying Question No. 1 Attempt:(1)\n",
      "Rate limit error: Rate limit reached for 10KTPM-200RPM in organization org-Y2tKyCPFO6tIjtCtOVZ7c9tr on tokens per min. Limit: 10000 / min. Please try again in 6ms. Contact us through our help center at help.openai.com if you continue to have issues.. Retrying Question No. 3 Attempt:(1)\n",
      "Rate limit error: Rate limit reached for 10KTPM-200RPM in organization org-Y2tKyCPFO6tIjtCtOVZ7c9tr on tokens per min. Limit: 10000 / min. Please try again in 6ms. Contact us through our help center at help.openai.com if you continue to have issues.. Retrying Question No. 4 Attempt:(1)\n",
      "Rate limit error: Rate limit reached for 10KTPM-200RPM in organization org-Y2tKyCPFO6tIjtCtOVZ7c9tr on tokens per min. Limit: 10000 / min. Please try again in 6ms. Contact us through our help center at help.openai.com if you continue to have issues.. Retrying Question No. 5 Attempt:(1)\n",
      "Rate limit error: Rate limit reached for 10KTPM-200RPM in organization org-Y2tKyCPFO6tIjtCtOVZ7c9tr on tokens per min. Limit: 10000 / min. Please try again in 6ms. Contact us through our help center at help.openai.com if you continue to have issues.. Retrying Question No. 6 Attempt:(1)\n",
      "Rate limit error: Rate limit reached for 10KTPM-200RPM in organization org-Y2tKyCPFO6tIjtCtOVZ7c9tr on tokens per min. Limit: 10000 / min. Please try again in 6ms. Contact us through our help center at help.openai.com if you continue to have issues.. Retrying Question No. 8 Attempt:(1)\n"
     ]
    },
    {
     "name": "stderr",
     "output_type": "stream",
     "text": [
      " 19%|█▊        | 20/107 [2:17:11<10:38:54, 440.63s/it]"
     ]
    },
    {
     "name": "stdout",
     "output_type": "stream",
     "text": [
      "Rate limit error: Rate limit reached for 10KTPM-200RPM in organization org-Y2tKyCPFO6tIjtCtOVZ7c9tr on tokens per min. Limit: 10000 / min. Please try again in 6ms. Contact us through our help center at help.openai.com if you continue to have issues.. Retrying Question No. 0 Attempt:(1)\n",
      "Rate limit error: Rate limit reached for 10KTPM-200RPM in organization org-Y2tKyCPFO6tIjtCtOVZ7c9tr on tokens per min. Limit: 10000 / min. Please try again in 6ms. Contact us through our help center at help.openai.com if you continue to have issues.. Retrying Question No. 1 Attempt:(1)\n",
      "Rate limit error: Rate limit reached for 10KTPM-200RPM in organization org-Y2tKyCPFO6tIjtCtOVZ7c9tr on tokens per min. Limit: 10000 / min. Please try again in 6ms. Contact us through our help center at help.openai.com if you continue to have issues.. Retrying Question No. 2 Attempt:(1)\n",
      "Rate limit error: Rate limit reached for 10KTPM-200RPM in organization org-Y2tKyCPFO6tIjtCtOVZ7c9tr on tokens per min. Limit: 10000 / min. Please try again in 6ms. Contact us through our help center at help.openai.com if you continue to have issues.. Retrying Question No. 3 Attempt:(1)\n",
      "Rate limit error: Rate limit reached for 10KTPM-200RPM in organization org-Y2tKyCPFO6tIjtCtOVZ7c9tr on tokens per min. Limit: 10000 / min. Please try again in 6ms. Contact us through our help center at help.openai.com if you continue to have issues.. Retrying Question No. 5 Attempt:(1)\n",
      "Rate limit error: Rate limit reached for 10KTPM-200RPM in organization org-Y2tKyCPFO6tIjtCtOVZ7c9tr on tokens per min. Limit: 10000 / min. Please try again in 6ms. Contact us through our help center at help.openai.com if you continue to have issues.. Retrying Question No. 6 Attempt:(1)\n",
      "Rate limit error: Rate limit reached for 10KTPM-200RPM in organization org-Y2tKyCPFO6tIjtCtOVZ7c9tr on tokens per min. Limit: 10000 / min. Please try again in 6ms. Contact us through our help center at help.openai.com if you continue to have issues.. Retrying Question No. 7 Attempt:(1)\n",
      "Rate limit error: Rate limit reached for 10KTPM-200RPM in organization org-Y2tKyCPFO6tIjtCtOVZ7c9tr on tokens per min. Limit: 10000 / min. Please try again in 6ms. Contact us through our help center at help.openai.com if you continue to have issues.. Retrying Question No. 8 Attempt:(1)\n"
     ]
    },
    {
     "name": "stderr",
     "output_type": "stream",
     "text": [
      " 20%|█▉        | 21/107 [2:21:21<9:09:51, 383.62s/it] "
     ]
    },
    {
     "name": "stdout",
     "output_type": "stream",
     "text": [
      "Rate limit error: Rate limit reached for 10KTPM-200RPM in organization org-Y2tKyCPFO6tIjtCtOVZ7c9tr on tokens per min. Limit: 10000 / min. Please try again in 6ms. Contact us through our help center at help.openai.com if you continue to have issues.. Retrying Question No. 0 Attempt:(1)\n",
      "Rate limit error: Rate limit reached for 10KTPM-200RPM in organization org-Y2tKyCPFO6tIjtCtOVZ7c9tr on tokens per min. Limit: 10000 / min. Please try again in 6ms. Contact us through our help center at help.openai.com if you continue to have issues.. Retrying Question No. 2 Attempt:(1)\n",
      "Rate limit error: Rate limit reached for 10KTPM-200RPM in organization org-Y2tKyCPFO6tIjtCtOVZ7c9tr on tokens per min. Limit: 10000 / min. Please try again in 6ms. Contact us through our help center at help.openai.com if you continue to have issues.. Retrying Question No. 3 Attempt:(1)\n",
      "Rate limit error: Rate limit reached for 10KTPM-200RPM in organization org-Y2tKyCPFO6tIjtCtOVZ7c9tr on tokens per min. Limit: 10000 / min. Please try again in 6ms. Contact us through our help center at help.openai.com if you continue to have issues.. Retrying Question No. 4 Attempt:(1)\n",
      "Rate limit error: Rate limit reached for 10KTPM-200RPM in organization org-Y2tKyCPFO6tIjtCtOVZ7c9tr on tokens per min. Limit: 10000 / min. Please try again in 6ms. Contact us through our help center at help.openai.com if you continue to have issues.. Retrying Question No. 6 Attempt:(1)\n",
      "Rate limit error: Rate limit reached for 10KTPM-200RPM in organization org-Y2tKyCPFO6tIjtCtOVZ7c9tr on tokens per min. Limit: 10000 / min. Please try again in 6ms. Contact us through our help center at help.openai.com if you continue to have issues.. Retrying Question No. 7 Attempt:(1)\n",
      "Rate limit error: Rate limit reached for 10KTPM-200RPM in organization org-Y2tKyCPFO6tIjtCtOVZ7c9tr on tokens per min. Limit: 10000 / min. Please try again in 6ms. Contact us through our help center at help.openai.com if you continue to have issues.. Retrying Question No. 8 Attempt:(1)\n"
     ]
    },
    {
     "name": "stderr",
     "output_type": "stream",
     "text": [
      " 21%|██        | 22/107 [2:25:02<7:54:19, 334.82s/it]"
     ]
    },
    {
     "name": "stdout",
     "output_type": "stream",
     "text": [
      "Rate limit error: Rate limit reached for 10KTPM-200RPM in organization org-Y2tKyCPFO6tIjtCtOVZ7c9tr on tokens per min. Limit: 10000 / min. Please try again in 6ms. Contact us through our help center at help.openai.com if you continue to have issues.. Retrying Question No. 3 Attempt:(1)\n",
      "Rate limit error: Rate limit reached for 10KTPM-200RPM in organization org-Y2tKyCPFO6tIjtCtOVZ7c9tr on tokens per min. Limit: 10000 / min. Please try again in 6ms. Contact us through our help center at help.openai.com if you continue to have issues.. Retrying Question No. 6 Attempt:(1)\n"
     ]
    },
    {
     "name": "stderr",
     "output_type": "stream",
     "text": [
      " 21%|██▏       | 23/107 [2:26:15<5:58:43, 256.23s/it]"
     ]
    },
    {
     "name": "stdout",
     "output_type": "stream",
     "text": [
      "Rate limit error: Rate limit reached for 10KTPM-200RPM in organization org-Y2tKyCPFO6tIjtCtOVZ7c9tr on tokens per min. Limit: 10000 / min. Please try again in 6ms. Contact us through our help center at help.openai.com if you continue to have issues.. Retrying Question No. 0 Attempt:(1)\n",
      "Rate limit error: Rate limit reached for 10KTPM-200RPM in organization org-Y2tKyCPFO6tIjtCtOVZ7c9tr on tokens per min. Limit: 10000 / min. Please try again in 6ms. Contact us through our help center at help.openai.com if you continue to have issues.. Retrying Question No. 1 Attempt:(1)\n",
      "Rate limit error: Rate limit reached for 10KTPM-200RPM in organization org-Y2tKyCPFO6tIjtCtOVZ7c9tr on tokens per min. Limit: 10000 / min. Please try again in 6ms. Contact us through our help center at help.openai.com if you continue to have issues.. Retrying Question No. 2 Attempt:(1)\n",
      "Rate limit error: Rate limit reached for 10KTPM-200RPM in organization org-Y2tKyCPFO6tIjtCtOVZ7c9tr on tokens per min. Limit: 10000 / min. Please try again in 6ms. Contact us through our help center at help.openai.com if you continue to have issues.. Retrying Question No. 3 Attempt:(1)\n",
      "Rate limit error: Rate limit reached for 10KTPM-200RPM in organization org-Y2tKyCPFO6tIjtCtOVZ7c9tr on tokens per min. Limit: 10000 / min. Please try again in 6ms. Contact us through our help center at help.openai.com if you continue to have issues.. Retrying Question No. 4 Attempt:(1)\n",
      "Rate limit error: Rate limit reached for 10KTPM-200RPM in organization org-Y2tKyCPFO6tIjtCtOVZ7c9tr on tokens per min. Limit: 10000 / min. Please try again in 6ms. Contact us through our help center at help.openai.com if you continue to have issues.. Retrying Question No. 5 Attempt:(1)\n",
      "Rate limit error: Rate limit reached for 10KTPM-200RPM in organization org-Y2tKyCPFO6tIjtCtOVZ7c9tr on tokens per min. Limit: 10000 / min. Please try again in 6ms. Contact us through our help center at help.openai.com if you continue to have issues.. Retrying Question No. 6 Attempt:(1)\n",
      "Rate limit error: Rate limit reached for 10KTPM-200RPM in organization org-Y2tKyCPFO6tIjtCtOVZ7c9tr on tokens per min. Limit: 10000 / min. Please try again in 6ms. Contact us through our help center at help.openai.com if you continue to have issues.. Retrying Question No. 6 Attempt:(2)\n",
      "Rate limit error: Rate limit reached for 10KTPM-200RPM in organization org-Y2tKyCPFO6tIjtCtOVZ7c9tr on tokens per min. Limit: 10000 / min. Please try again in 6ms. Contact us through our help center at help.openai.com if you continue to have issues.. Retrying Question No. 7 Attempt:(1)\n",
      "Rate limit error: Rate limit reached for 10KTPM-200RPM in organization org-Y2tKyCPFO6tIjtCtOVZ7c9tr on tokens per min. Limit: 10000 / min. Please try again in 6ms. Contact us through our help center at help.openai.com if you continue to have issues.. Retrying Question No. 8 Attempt:(1)\n",
      "Rate limit error: Rate limit reached for 10KTPM-200RPM in organization org-Y2tKyCPFO6tIjtCtOVZ7c9tr on tokens per min. Limit: 10000 / min. Please try again in 6ms. Contact us through our help center at help.openai.com if you continue to have issues.. Retrying Question No. 1 Attempt:(1)\n",
      "Rate limit error: Rate limit reached for 10KTPM-200RPM in organization org-Y2tKyCPFO6tIjtCtOVZ7c9tr on tokens per min. Limit: 10000 / min. Please try again in 6ms. Contact us through our help center at help.openai.com if you continue to have issues.. Retrying Question No. 2 Attempt:(1)\n",
      "Rate limit error: Rate limit reached for 10KTPM-200RPM in organization org-Y2tKyCPFO6tIjtCtOVZ7c9tr on tokens per min. Limit: 10000 / min. Please try again in 6ms. Contact us through our help center at help.openai.com if you continue to have issues.. Retrying Question No. 4 Attempt:(1)\n",
      "Rate limit error: Rate limit reached for 10KTPM-200RPM in organization org-Y2tKyCPFO6tIjtCtOVZ7c9tr on tokens per min. Limit: 10000 / min. Please try again in 6ms. Contact us through our help center at help.openai.com if you continue to have issues.. Retrying Question No. 6 Attempt:(1)\n",
      "Rate limit error: Rate limit reached for 10KTPM-200RPM in organization org-Y2tKyCPFO6tIjtCtOVZ7c9tr on tokens per min. Limit: 10000 / min. Please try again in 6ms. Contact us through our help center at help.openai.com if you continue to have issues.. Retrying Question No. 8 Attempt:(1)\n"
     ]
    },
    {
     "name": "stderr",
     "output_type": "stream",
     "text": [
      " 22%|██▏       | 24/107 [2:34:12<7:26:03, 322.45s/it]"
     ]
    },
    {
     "name": "stdout",
     "output_type": "stream",
     "text": [
      "Rate limit error: Rate limit reached for 10KTPM-200RPM in organization org-Y2tKyCPFO6tIjtCtOVZ7c9tr on tokens per min. Limit: 10000 / min. Please try again in 6ms. Contact us through our help center at help.openai.com if you continue to have issues.. Retrying Question No. 0 Attempt:(1)\n",
      "Rate limit error: Rate limit reached for 10KTPM-200RPM in organization org-Y2tKyCPFO6tIjtCtOVZ7c9tr on tokens per min. Limit: 10000 / min. Please try again in 6ms. Contact us through our help center at help.openai.com if you continue to have issues.. Retrying Question No. 1 Attempt:(1)\n",
      "Rate limit error: Rate limit reached for 10KTPM-200RPM in organization org-Y2tKyCPFO6tIjtCtOVZ7c9tr on tokens per min. Limit: 10000 / min. Please try again in 6ms. Contact us through our help center at help.openai.com if you continue to have issues.. Retrying Question No. 2 Attempt:(1)\n",
      "Rate limit error: Rate limit reached for 10KTPM-200RPM in organization org-Y2tKyCPFO6tIjtCtOVZ7c9tr on tokens per min. Limit: 10000 / min. Please try again in 6ms. Contact us through our help center at help.openai.com if you continue to have issues.. Retrying Question No. 3 Attempt:(1)\n",
      "Rate limit error: Rate limit reached for 10KTPM-200RPM in organization org-Y2tKyCPFO6tIjtCtOVZ7c9tr on tokens per min. Limit: 10000 / min. Please try again in 6ms. Contact us through our help center at help.openai.com if you continue to have issues.. Retrying Question No. 4 Attempt:(1)\n",
      "Rate limit error: Rate limit reached for 10KTPM-200RPM in organization org-Y2tKyCPFO6tIjtCtOVZ7c9tr on tokens per min. Limit: 10000 / min. Please try again in 6ms. Contact us through our help center at help.openai.com if you continue to have issues.. Retrying Question No. 4 Attempt:(2)\n",
      "Rate limit error: Rate limit reached for 10KTPM-200RPM in organization org-Y2tKyCPFO6tIjtCtOVZ7c9tr on tokens per min. Limit: 10000 / min. Please try again in 6ms. Contact us through our help center at help.openai.com if you continue to have issues.. Retrying Question No. 5 Attempt:(1)\n",
      "Rate limit error: Rate limit reached for 10KTPM-200RPM in organization org-Y2tKyCPFO6tIjtCtOVZ7c9tr on tokens per min. Limit: 10000 / min. Please try again in 6ms. Contact us through our help center at help.openai.com if you continue to have issues.. Retrying Question No. 6 Attempt:(1)\n",
      "Rate limit error: Rate limit reached for 10KTPM-200RPM in organization org-Y2tKyCPFO6tIjtCtOVZ7c9tr on tokens per min. Limit: 10000 / min. Please try again in 6ms. Contact us through our help center at help.openai.com if you continue to have issues.. Retrying Question No. 7 Attempt:(1)\n",
      "Rate limit error: Rate limit reached for 10KTPM-200RPM in organization org-Y2tKyCPFO6tIjtCtOVZ7c9tr on tokens per min. Limit: 10000 / min. Please try again in 6ms. Contact us through our help center at help.openai.com if you continue to have issues.. Retrying Question No. 8 Attempt:(1)\n",
      "Rate limit error: Rate limit reached for 10KTPM-200RPM in organization org-Y2tKyCPFO6tIjtCtOVZ7c9tr on tokens per min. Limit: 10000 / min. Please try again in 6ms. Contact us through our help center at help.openai.com if you continue to have issues.. Retrying Question No. 1 Attempt:(1)\n",
      "Rate limit error: Rate limit reached for 10KTPM-200RPM in organization org-Y2tKyCPFO6tIjtCtOVZ7c9tr on tokens per min. Limit: 10000 / min. Please try again in 6ms. Contact us through our help center at help.openai.com if you continue to have issues.. Retrying Question No. 5 Attempt:(1)\n",
      "Rate limit error: Rate limit reached for 10KTPM-200RPM in organization org-Y2tKyCPFO6tIjtCtOVZ7c9tr on tokens per min. Limit: 10000 / min. Please try again in 6ms. Contact us through our help center at help.openai.com if you continue to have issues.. Retrying Question No. 8 Attempt:(1)\n"
     ]
    },
    {
     "name": "stderr",
     "output_type": "stream",
     "text": [
      " 23%|██▎       | 25/107 [2:41:17<8:02:49, 353.29s/it]"
     ]
    },
    {
     "name": "stdout",
     "output_type": "stream",
     "text": [
      "Rate limit error: Rate limit reached for 10KTPM-200RPM in organization org-Y2tKyCPFO6tIjtCtOVZ7c9tr on tokens per min. Limit: 10000 / min. Please try again in 6ms. Contact us through our help center at help.openai.com if you continue to have issues.. Retrying Question No. 0 Attempt:(1)\n",
      "Rate limit error: Rate limit reached for 10KTPM-200RPM in organization org-Y2tKyCPFO6tIjtCtOVZ7c9tr on tokens per min. Limit: 10000 / min. Please try again in 6ms. Contact us through our help center at help.openai.com if you continue to have issues.. Retrying Question No. 1 Attempt:(1)\n",
      "Rate limit error: Rate limit reached for 10KTPM-200RPM in organization org-Y2tKyCPFO6tIjtCtOVZ7c9tr on tokens per min. Limit: 10000 / min. Please try again in 6ms. Contact us through our help center at help.openai.com if you continue to have issues.. Retrying Question No. 2 Attempt:(1)\n",
      "Rate limit error: Rate limit reached for 10KTPM-200RPM in organization org-Y2tKyCPFO6tIjtCtOVZ7c9tr on tokens per min. Limit: 10000 / min. Please try again in 6ms. Contact us through our help center at help.openai.com if you continue to have issues.. Retrying Question No. 3 Attempt:(1)\n",
      "Rate limit error: Rate limit reached for 10KTPM-200RPM in organization org-Y2tKyCPFO6tIjtCtOVZ7c9tr on tokens per min. Limit: 10000 / min. Please try again in 6ms. Contact us through our help center at help.openai.com if you continue to have issues.. Retrying Question No. 4 Attempt:(1)\n",
      "Rate limit error: Rate limit reached for 10KTPM-200RPM in organization org-Y2tKyCPFO6tIjtCtOVZ7c9tr on tokens per min. Limit: 10000 / min. Please try again in 6ms. Contact us through our help center at help.openai.com if you continue to have issues.. Retrying Question No. 5 Attempt:(1)\n",
      "Rate limit error: Rate limit reached for 10KTPM-200RPM in organization org-Y2tKyCPFO6tIjtCtOVZ7c9tr on tokens per min. Limit: 10000 / min. Please try again in 6ms. Contact us through our help center at help.openai.com if you continue to have issues.. Retrying Question No. 6 Attempt:(1)\n",
      "Rate limit error: Rate limit reached for 10KTPM-200RPM in organization org-Y2tKyCPFO6tIjtCtOVZ7c9tr on tokens per min. Limit: 10000 / min. Please try again in 6ms. Contact us through our help center at help.openai.com if you continue to have issues.. Retrying Question No. 7 Attempt:(1)\n",
      "Rate limit error: Rate limit reached for 10KTPM-200RPM in organization org-Y2tKyCPFO6tIjtCtOVZ7c9tr on tokens per min. Limit: 10000 / min. Please try again in 6ms. Contact us through our help center at help.openai.com if you continue to have issues.. Retrying Question No. 8 Attempt:(1)\n",
      "Rate limit error: Rate limit reached for 10KTPM-200RPM in organization org-Y2tKyCPFO6tIjtCtOVZ7c9tr on tokens per min. Limit: 10000 / min. Please try again in 6ms. Contact us through our help center at help.openai.com if you continue to have issues.. Retrying Question No. 8 Attempt:(2)\n",
      "Rate limit error: Rate limit reached for 10KTPM-200RPM in organization org-Y2tKyCPFO6tIjtCtOVZ7c9tr on tokens per min. Limit: 10000 / min. Please try again in 6ms. Contact us through our help center at help.openai.com if you continue to have issues.. Retrying Question No. 0 Attempt:(1)\n",
      "Rate limit error: Rate limit reached for 10KTPM-200RPM in organization org-Y2tKyCPFO6tIjtCtOVZ7c9tr on tokens per min. Limit: 10000 / min. Please try again in 6ms. Contact us through our help center at help.openai.com if you continue to have issues.. Retrying Question No. 1 Attempt:(1)\n",
      "Rate limit error: Rate limit reached for 10KTPM-200RPM in organization org-Y2tKyCPFO6tIjtCtOVZ7c9tr on tokens per min. Limit: 10000 / min. Please try again in 6ms. Contact us through our help center at help.openai.com if you continue to have issues.. Retrying Question No. 2 Attempt:(1)\n",
      "Rate limit error: Rate limit reached for 10KTPM-200RPM in organization org-Y2tKyCPFO6tIjtCtOVZ7c9tr on tokens per min. Limit: 10000 / min. Please try again in 6ms. Contact us through our help center at help.openai.com if you continue to have issues.. Retrying Question No. 3 Attempt:(1)\n",
      "Rate limit error: Rate limit reached for 10KTPM-200RPM in organization org-Y2tKyCPFO6tIjtCtOVZ7c9tr on tokens per min. Limit: 10000 / min. Please try again in 6ms. Contact us through our help center at help.openai.com if you continue to have issues.. Retrying Question No. 4 Attempt:(1)\n",
      "Rate limit error: Rate limit reached for 10KTPM-200RPM in organization org-Y2tKyCPFO6tIjtCtOVZ7c9tr on tokens per min. Limit: 10000 / min. Please try again in 6ms. Contact us through our help center at help.openai.com if you continue to have issues.. Retrying Question No. 5 Attempt:(1)\n",
      "Rate limit error: Rate limit reached for 10KTPM-200RPM in organization org-Y2tKyCPFO6tIjtCtOVZ7c9tr on tokens per min. Limit: 10000 / min. Please try again in 6ms. Contact us through our help center at help.openai.com if you continue to have issues.. Retrying Question No. 6 Attempt:(1)\n",
      "Rate limit error: Rate limit reached for 10KTPM-200RPM in organization org-Y2tKyCPFO6tIjtCtOVZ7c9tr on tokens per min. Limit: 10000 / min. Please try again in 6ms. Contact us through our help center at help.openai.com if you continue to have issues.. Retrying Question No. 7 Attempt:(1)\n",
      "Rate limit error: Rate limit reached for 10KTPM-200RPM in organization org-Y2tKyCPFO6tIjtCtOVZ7c9tr on tokens per min. Limit: 10000 / min. Please try again in 6ms. Contact us through our help center at help.openai.com if you continue to have issues.. Retrying Question No. 8 Attempt:(1)\n"
     ]
    },
    {
     "name": "stderr",
     "output_type": "stream",
     "text": [
      " 24%|██▍       | 26/107 [2:51:26<9:40:22, 429.91s/it]"
     ]
    },
    {
     "name": "stdout",
     "output_type": "stream",
     "text": [
      "Rate limit error: Rate limit reached for 10KTPM-200RPM in organization org-Y2tKyCPFO6tIjtCtOVZ7c9tr on tokens per min. Limit: 10000 / min. Please try again in 6ms. Contact us through our help center at help.openai.com if you continue to have issues.. Retrying Question No. 0 Attempt:(1)\n",
      "Rate limit error: Rate limit reached for 10KTPM-200RPM in organization org-Y2tKyCPFO6tIjtCtOVZ7c9tr on tokens per min. Limit: 10000 / min. Please try again in 6ms. Contact us through our help center at help.openai.com if you continue to have issues.. Retrying Question No. 1 Attempt:(1)\n",
      "Rate limit error: Rate limit reached for 10KTPM-200RPM in organization org-Y2tKyCPFO6tIjtCtOVZ7c9tr on tokens per min. Limit: 10000 / min. Please try again in 6ms. Contact us through our help center at help.openai.com if you continue to have issues.. Retrying Question No. 2 Attempt:(1)\n",
      "Rate limit error: Rate limit reached for 10KTPM-200RPM in organization org-Y2tKyCPFO6tIjtCtOVZ7c9tr on tokens per min. Limit: 10000 / min. Please try again in 6ms. Contact us through our help center at help.openai.com if you continue to have issues.. Retrying Question No. 3 Attempt:(1)\n",
      "Rate limit error: Rate limit reached for 10KTPM-200RPM in organization org-Y2tKyCPFO6tIjtCtOVZ7c9tr on tokens per min. Limit: 10000 / min. Please try again in 6ms. Contact us through our help center at help.openai.com if you continue to have issues.. Retrying Question No. 4 Attempt:(1)\n",
      "Rate limit error: Rate limit reached for 10KTPM-200RPM in organization org-Y2tKyCPFO6tIjtCtOVZ7c9tr on tokens per min. Limit: 10000 / min. Please try again in 6ms. Contact us through our help center at help.openai.com if you continue to have issues.. Retrying Question No. 5 Attempt:(1)\n",
      "Rate limit error: Rate limit reached for 10KTPM-200RPM in organization org-Y2tKyCPFO6tIjtCtOVZ7c9tr on tokens per min. Limit: 10000 / min. Please try again in 6ms. Contact us through our help center at help.openai.com if you continue to have issues.. Retrying Question No. 6 Attempt:(1)\n",
      "Rate limit error: Rate limit reached for 10KTPM-200RPM in organization org-Y2tKyCPFO6tIjtCtOVZ7c9tr on tokens per min. Limit: 10000 / min. Please try again in 6ms. Contact us through our help center at help.openai.com if you continue to have issues.. Retrying Question No. 7 Attempt:(1)\n",
      "Rate limit error: Rate limit reached for 10KTPM-200RPM in organization org-Y2tKyCPFO6tIjtCtOVZ7c9tr on tokens per min. Limit: 10000 / min. Please try again in 6ms. Contact us through our help center at help.openai.com if you continue to have issues.. Retrying Question No. 8 Attempt:(1)\n",
      "Rate limit error: Rate limit reached for 10KTPM-200RPM in organization org-Y2tKyCPFO6tIjtCtOVZ7c9tr on tokens per min. Limit: 10000 / min. Please try again in 6ms. Contact us through our help center at help.openai.com if you continue to have issues.. Retrying Question No. 0 Attempt:(1)\n",
      "Rate limit error: Rate limit reached for 10KTPM-200RPM in organization org-Y2tKyCPFO6tIjtCtOVZ7c9tr on tokens per min. Limit: 10000 / min. Please try again in 6ms. Contact us through our help center at help.openai.com if you continue to have issues.. Retrying Question No. 1 Attempt:(1)\n",
      "Rate limit error: Rate limit reached for 10KTPM-200RPM in organization org-Y2tKyCPFO6tIjtCtOVZ7c9tr on tokens per min. Limit: 10000 / min. Please try again in 6ms. Contact us through our help center at help.openai.com if you continue to have issues.. Retrying Question No. 2 Attempt:(1)\n",
      "Rate limit error: Rate limit reached for 10KTPM-200RPM in organization org-Y2tKyCPFO6tIjtCtOVZ7c9tr on tokens per min. Limit: 10000 / min. Please try again in 6ms. Contact us through our help center at help.openai.com if you continue to have issues.. Retrying Question No. 3 Attempt:(1)\n",
      "Rate limit error: Rate limit reached for 10KTPM-200RPM in organization org-Y2tKyCPFO6tIjtCtOVZ7c9tr on tokens per min. Limit: 10000 / min. Please try again in 6ms. Contact us through our help center at help.openai.com if you continue to have issues.. Retrying Question No. 4 Attempt:(1)\n",
      "Rate limit error: Rate limit reached for 10KTPM-200RPM in organization org-Y2tKyCPFO6tIjtCtOVZ7c9tr on tokens per min. Limit: 10000 / min. Please try again in 6ms. Contact us through our help center at help.openai.com if you continue to have issues.. Retrying Question No. 5 Attempt:(1)\n",
      "Rate limit error: Rate limit reached for 10KTPM-200RPM in organization org-Y2tKyCPFO6tIjtCtOVZ7c9tr on tokens per min. Limit: 10000 / min. Please try again in 6ms. Contact us through our help center at help.openai.com if you continue to have issues.. Retrying Question No. 6 Attempt:(1)\n",
      "Rate limit error: Rate limit reached for 10KTPM-200RPM in organization org-Y2tKyCPFO6tIjtCtOVZ7c9tr on tokens per min. Limit: 10000 / min. Please try again in 6ms. Contact us through our help center at help.openai.com if you continue to have issues.. Retrying Question No. 7 Attempt:(1)\n",
      "Rate limit error: Rate limit reached for 10KTPM-200RPM in organization org-Y2tKyCPFO6tIjtCtOVZ7c9tr on tokens per min. Limit: 10000 / min. Please try again in 6ms. Contact us through our help center at help.openai.com if you continue to have issues.. Retrying Question No. 7 Attempt:(2)\n",
      "Rate limit error: Rate limit reached for 10KTPM-200RPM in organization org-Y2tKyCPFO6tIjtCtOVZ7c9tr on tokens per min. Limit: 10000 / min. Please try again in 6ms. Contact us through our help center at help.openai.com if you continue to have issues.. Retrying Question No. 8 Attempt:(1)\n",
      "Rate limit error: Rate limit reached for 10KTPM-200RPM in organization org-Y2tKyCPFO6tIjtCtOVZ7c9tr on tokens per min. Limit: 10000 / min. Please try again in 6ms. Contact us through our help center at help.openai.com if you continue to have issues.. Retrying Question No. 6 Attempt:(1)\n"
     ]
    },
    {
     "name": "stderr",
     "output_type": "stream",
     "text": [
      " 25%|██▌       | 27/107 [3:02:05<10:56:46, 492.59s/it]"
     ]
    },
    {
     "name": "stdout",
     "output_type": "stream",
     "text": [
      "Rate limit error: Rate limit reached for 10KTPM-200RPM in organization org-Y2tKyCPFO6tIjtCtOVZ7c9tr on tokens per min. Limit: 10000 / min. Please try again in 6ms. Contact us through our help center at help.openai.com if you continue to have issues.. Retrying Question No. 0 Attempt:(1)\n",
      "Rate limit error: Rate limit reached for 10KTPM-200RPM in organization org-Y2tKyCPFO6tIjtCtOVZ7c9tr on tokens per min. Limit: 10000 / min. Please try again in 6ms. Contact us through our help center at help.openai.com if you continue to have issues.. Retrying Question No. 1 Attempt:(1)\n",
      "Rate limit error: Rate limit reached for 10KTPM-200RPM in organization org-Y2tKyCPFO6tIjtCtOVZ7c9tr on tokens per min. Limit: 10000 / min. Please try again in 6ms. Contact us through our help center at help.openai.com if you continue to have issues.. Retrying Question No. 2 Attempt:(1)\n",
      "Rate limit error: Rate limit reached for 10KTPM-200RPM in organization org-Y2tKyCPFO6tIjtCtOVZ7c9tr on tokens per min. Limit: 10000 / min. Please try again in 6ms. Contact us through our help center at help.openai.com if you continue to have issues.. Retrying Question No. 3 Attempt:(1)\n",
      "Rate limit error: Rate limit reached for 10KTPM-200RPM in organization org-Y2tKyCPFO6tIjtCtOVZ7c9tr on tokens per min. Limit: 10000 / min. Please try again in 6ms. Contact us through our help center at help.openai.com if you continue to have issues.. Retrying Question No. 4 Attempt:(1)\n",
      "Rate limit error: Rate limit reached for 10KTPM-200RPM in organization org-Y2tKyCPFO6tIjtCtOVZ7c9tr on tokens per min. Limit: 10000 / min. Please try again in 6ms. Contact us through our help center at help.openai.com if you continue to have issues.. Retrying Question No. 5 Attempt:(1)\n",
      "Rate limit error: Rate limit reached for 10KTPM-200RPM in organization org-Y2tKyCPFO6tIjtCtOVZ7c9tr on tokens per min. Limit: 10000 / min. Please try again in 6ms. Contact us through our help center at help.openai.com if you continue to have issues.. Retrying Question No. 6 Attempt:(1)\n",
      "Rate limit error: Rate limit reached for 10KTPM-200RPM in organization org-Y2tKyCPFO6tIjtCtOVZ7c9tr on tokens per min. Limit: 10000 / min. Please try again in 6ms. Contact us through our help center at help.openai.com if you continue to have issues.. Retrying Question No. 7 Attempt:(1)\n",
      "Rate limit error: Rate limit reached for 10KTPM-200RPM in organization org-Y2tKyCPFO6tIjtCtOVZ7c9tr on tokens per min. Limit: 10000 / min. Please try again in 6ms. Contact us through our help center at help.openai.com if you continue to have issues.. Retrying Question No. 8 Attempt:(1)\n"
     ]
    },
    {
     "name": "stderr",
     "output_type": "stream",
     "text": [
      " 26%|██▌       | 28/107 [3:06:48<9:25:47, 429.72s/it] "
     ]
    },
    {
     "name": "stdout",
     "output_type": "stream",
     "text": [
      "Rate limit error: Rate limit reached for 10KTPM-200RPM in organization org-Y2tKyCPFO6tIjtCtOVZ7c9tr on tokens per min. Limit: 10000 / min. Please try again in 6ms. Contact us through our help center at help.openai.com if you continue to have issues.. Retrying Question No. 0 Attempt:(1)\n",
      "Rate limit error: Rate limit reached for 10KTPM-200RPM in organization org-Y2tKyCPFO6tIjtCtOVZ7c9tr on tokens per min. Limit: 10000 / min. Please try again in 6ms. Contact us through our help center at help.openai.com if you continue to have issues.. Retrying Question No. 1 Attempt:(1)\n",
      "Rate limit error: Rate limit reached for 10KTPM-200RPM in organization org-Y2tKyCPFO6tIjtCtOVZ7c9tr on tokens per min. Limit: 10000 / min. Please try again in 6ms. Contact us through our help center at help.openai.com if you continue to have issues.. Retrying Question No. 3 Attempt:(1)\n",
      "Rate limit error: Rate limit reached for 10KTPM-200RPM in organization org-Y2tKyCPFO6tIjtCtOVZ7c9tr on tokens per min. Limit: 10000 / min. Please try again in 6ms. Contact us through our help center at help.openai.com if you continue to have issues.. Retrying Question No. 4 Attempt:(1)\n",
      "Rate limit error: Rate limit reached for 10KTPM-200RPM in organization org-Y2tKyCPFO6tIjtCtOVZ7c9tr on tokens per min. Limit: 10000 / min. Please try again in 6ms. Contact us through our help center at help.openai.com if you continue to have issues.. Retrying Question No. 5 Attempt:(1)\n",
      "Rate limit error: Rate limit reached for 10KTPM-200RPM in organization org-Y2tKyCPFO6tIjtCtOVZ7c9tr on tokens per min. Limit: 10000 / min. Please try again in 6ms. Contact us through our help center at help.openai.com if you continue to have issues.. Retrying Question No. 7 Attempt:(1)\n",
      "Rate limit error: Rate limit reached for 10KTPM-200RPM in organization org-Y2tKyCPFO6tIjtCtOVZ7c9tr on tokens per min. Limit: 10000 / min. Please try again in 6ms. Contact us through our help center at help.openai.com if you continue to have issues.. Retrying Question No. 8 Attempt:(1)\n"
     ]
    },
    {
     "name": "stderr",
     "output_type": "stream",
     "text": [
      " 27%|██▋       | 29/107 [3:10:27<7:56:32, 366.57s/it]"
     ]
    },
    {
     "name": "stdout",
     "output_type": "stream",
     "text": [
      "Rate limit error: Rate limit reached for 10KTPM-200RPM in organization org-Y2tKyCPFO6tIjtCtOVZ7c9tr on tokens per min. Limit: 10000 / min. Please try again in 6ms. Contact us through our help center at help.openai.com if you continue to have issues.. Retrying Question No. 0 Attempt:(1)\n",
      "Rate limit error: Rate limit reached for 10KTPM-200RPM in organization org-Y2tKyCPFO6tIjtCtOVZ7c9tr on tokens per min. Limit: 10000 / min. Please try again in 6ms. Contact us through our help center at help.openai.com if you continue to have issues.. Retrying Question No. 1 Attempt:(1)\n",
      "Rate limit error: Rate limit reached for 10KTPM-200RPM in organization org-Y2tKyCPFO6tIjtCtOVZ7c9tr on tokens per min. Limit: 10000 / min. Please try again in 6ms. Contact us through our help center at help.openai.com if you continue to have issues.. Retrying Question No. 2 Attempt:(1)\n",
      "Rate limit error: Rate limit reached for 10KTPM-200RPM in organization org-Y2tKyCPFO6tIjtCtOVZ7c9tr on tokens per min. Limit: 10000 / min. Please try again in 6ms. Contact us through our help center at help.openai.com if you continue to have issues.. Retrying Question No. 3 Attempt:(1)\n",
      "Rate limit error: Rate limit reached for 10KTPM-200RPM in organization org-Y2tKyCPFO6tIjtCtOVZ7c9tr on tokens per min. Limit: 10000 / min. Please try again in 6ms. Contact us through our help center at help.openai.com if you continue to have issues.. Retrying Question No. 4 Attempt:(1)\n",
      "Rate limit error: Rate limit reached for 10KTPM-200RPM in organization org-Y2tKyCPFO6tIjtCtOVZ7c9tr on tokens per min. Limit: 10000 / min. Please try again in 6ms. Contact us through our help center at help.openai.com if you continue to have issues.. Retrying Question No. 5 Attempt:(1)\n",
      "Rate limit error: Rate limit reached for 10KTPM-200RPM in organization org-Y2tKyCPFO6tIjtCtOVZ7c9tr on tokens per min. Limit: 10000 / min. Please try again in 6ms. Contact us through our help center at help.openai.com if you continue to have issues.. Retrying Question No. 5 Attempt:(2)\n",
      "Rate limit error: Rate limit reached for 10KTPM-200RPM in organization org-Y2tKyCPFO6tIjtCtOVZ7c9tr on tokens per min. Limit: 10000 / min. Please try again in 6ms. Contact us through our help center at help.openai.com if you continue to have issues.. Retrying Question No. 6 Attempt:(1)\n",
      "Rate limit error: Rate limit reached for 10KTPM-200RPM in organization org-Y2tKyCPFO6tIjtCtOVZ7c9tr on tokens per min. Limit: 10000 / min. Please try again in 6ms. Contact us through our help center at help.openai.com if you continue to have issues.. Retrying Question No. 7 Attempt:(1)\n",
      "Rate limit error: Rate limit reached for 10KTPM-200RPM in organization org-Y2tKyCPFO6tIjtCtOVZ7c9tr on tokens per min. Limit: 10000 / min. Please try again in 6ms. Contact us through our help center at help.openai.com if you continue to have issues.. Retrying Question No. 8 Attempt:(1)\n",
      "Rate limit error: Rate limit reached for 10KTPM-200RPM in organization org-Y2tKyCPFO6tIjtCtOVZ7c9tr on tokens per min. Limit: 10000 / min. Please try again in 6ms. Contact us through our help center at help.openai.com if you continue to have issues.. Retrying Question No. 0 Attempt:(1)\n",
      "Rate limit error: Rate limit reached for 10KTPM-200RPM in organization org-Y2tKyCPFO6tIjtCtOVZ7c9tr on tokens per min. Limit: 10000 / min. Please try again in 6ms. Contact us through our help center at help.openai.com if you continue to have issues.. Retrying Question No. 1 Attempt:(1)\n",
      "Rate limit error: Rate limit reached for 10KTPM-200RPM in organization org-Y2tKyCPFO6tIjtCtOVZ7c9tr on tokens per min. Limit: 10000 / min. Please try again in 6ms. Contact us through our help center at help.openai.com if you continue to have issues.. Retrying Question No. 2 Attempt:(1)\n",
      "Rate limit error: Rate limit reached for 10KTPM-200RPM in organization org-Y2tKyCPFO6tIjtCtOVZ7c9tr on tokens per min. Limit: 10000 / min. Please try again in 6ms. Contact us through our help center at help.openai.com if you continue to have issues.. Retrying Question No. 3 Attempt:(1)\n",
      "Rate limit error: Rate limit reached for 10KTPM-200RPM in organization org-Y2tKyCPFO6tIjtCtOVZ7c9tr on tokens per min. Limit: 10000 / min. Please try again in 6ms. Contact us through our help center at help.openai.com if you continue to have issues.. Retrying Question No. 3 Attempt:(2)\n",
      "Rate limit error: Rate limit reached for 10KTPM-200RPM in organization org-Y2tKyCPFO6tIjtCtOVZ7c9tr on tokens per min. Limit: 10000 / min. Please try again in 6ms. Contact us through our help center at help.openai.com if you continue to have issues.. Retrying Question No. 4 Attempt:(1)\n",
      "Rate limit error: Rate limit reached for 10KTPM-200RPM in organization org-Y2tKyCPFO6tIjtCtOVZ7c9tr on tokens per min. Limit: 10000 / min. Please try again in 6ms. Contact us through our help center at help.openai.com if you continue to have issues.. Retrying Question No. 5 Attempt:(1)\n",
      "Rate limit error: Rate limit reached for 10KTPM-200RPM in organization org-Y2tKyCPFO6tIjtCtOVZ7c9tr on tokens per min. Limit: 10000 / min. Please try again in 6ms. Contact us through our help center at help.openai.com if you continue to have issues.. Retrying Question No. 6 Attempt:(1)\n",
      "Rate limit error: Rate limit reached for 10KTPM-200RPM in organization org-Y2tKyCPFO6tIjtCtOVZ7c9tr on tokens per min. Limit: 10000 / min. Please try again in 6ms. Contact us through our help center at help.openai.com if you continue to have issues.. Retrying Question No. 7 Attempt:(1)\n",
      "Rate limit error: Rate limit reached for 10KTPM-200RPM in organization org-Y2tKyCPFO6tIjtCtOVZ7c9tr on tokens per min. Limit: 10000 / min. Please try again in 6ms. Contact us through our help center at help.openai.com if you continue to have issues.. Retrying Question No. 8 Attempt:(1)\n"
     ]
    },
    {
     "name": "stderr",
     "output_type": "stream",
     "text": [
      " 28%|██▊       | 30/107 [3:20:52<9:29:50, 444.03s/it]"
     ]
    },
    {
     "name": "stdout",
     "output_type": "stream",
     "text": [
      "Rate limit error: Rate limit reached for 10KTPM-200RPM in organization org-Y2tKyCPFO6tIjtCtOVZ7c9tr on tokens per min. Limit: 10000 / min. Please try again in 6ms. Contact us through our help center at help.openai.com if you continue to have issues.. Retrying Question No. 0 Attempt:(1)\n",
      "Rate limit error: Rate limit reached for 10KTPM-200RPM in organization org-Y2tKyCPFO6tIjtCtOVZ7c9tr on tokens per min. Limit: 10000 / min. Please try again in 6ms. Contact us through our help center at help.openai.com if you continue to have issues.. Retrying Question No. 1 Attempt:(1)\n",
      "Rate limit error: Rate limit reached for 10KTPM-200RPM in organization org-Y2tKyCPFO6tIjtCtOVZ7c9tr on tokens per min. Limit: 10000 / min. Please try again in 6ms. Contact us through our help center at help.openai.com if you continue to have issues.. Retrying Question No. 1 Attempt:(2)\n",
      "Rate limit error: Rate limit reached for 10KTPM-200RPM in organization org-Y2tKyCPFO6tIjtCtOVZ7c9tr on tokens per min. Limit: 10000 / min. Please try again in 6ms. Contact us through our help center at help.openai.com if you continue to have issues.. Retrying Question No. 2 Attempt:(1)\n",
      "Rate limit error: Rate limit reached for 10KTPM-200RPM in organization org-Y2tKyCPFO6tIjtCtOVZ7c9tr on tokens per min. Limit: 10000 / min. Please try again in 6ms. Contact us through our help center at help.openai.com if you continue to have issues.. Retrying Question No. 3 Attempt:(1)\n",
      "Rate limit error: Rate limit reached for 10KTPM-200RPM in organization org-Y2tKyCPFO6tIjtCtOVZ7c9tr on tokens per min. Limit: 10000 / min. Please try again in 6ms. Contact us through our help center at help.openai.com if you continue to have issues.. Retrying Question No. 4 Attempt:(1)\n",
      "Rate limit error: Rate limit reached for 10KTPM-200RPM in organization org-Y2tKyCPFO6tIjtCtOVZ7c9tr on tokens per min. Limit: 10000 / min. Please try again in 6ms. Contact us through our help center at help.openai.com if you continue to have issues.. Retrying Question No. 5 Attempt:(1)\n",
      "Rate limit error: Rate limit reached for 10KTPM-200RPM in organization org-Y2tKyCPFO6tIjtCtOVZ7c9tr on tokens per min. Limit: 10000 / min. Please try again in 6ms. Contact us through our help center at help.openai.com if you continue to have issues.. Retrying Question No. 6 Attempt:(1)\n",
      "Rate limit error: Rate limit reached for 10KTPM-200RPM in organization org-Y2tKyCPFO6tIjtCtOVZ7c9tr on tokens per min. Limit: 10000 / min. Please try again in 6ms. Contact us through our help center at help.openai.com if you continue to have issues.. Retrying Question No. 7 Attempt:(1)\n",
      "Rate limit error: Rate limit reached for 10KTPM-200RPM in organization org-Y2tKyCPFO6tIjtCtOVZ7c9tr on tokens per min. Limit: 10000 / min. Please try again in 6ms. Contact us through our help center at help.openai.com if you continue to have issues.. Retrying Question No. 8 Attempt:(1)\n",
      "Rate limit error: Rate limit reached for 10KTPM-200RPM in organization org-Y2tKyCPFO6tIjtCtOVZ7c9tr on tokens per min. Limit: 10000 / min. Please try again in 6ms. Contact us through our help center at help.openai.com if you continue to have issues.. Retrying Question No. 8 Attempt:(2)\n",
      "Rate limit error: Rate limit reached for 10KTPM-200RPM in organization org-Y2tKyCPFO6tIjtCtOVZ7c9tr on tokens per min. Limit: 10000 / min. Please try again in 6ms. Contact us through our help center at help.openai.com if you continue to have issues.. Retrying Question No. 0 Attempt:(1)\n",
      "Rate limit error: Rate limit reached for 10KTPM-200RPM in organization org-Y2tKyCPFO6tIjtCtOVZ7c9tr on tokens per min. Limit: 10000 / min. Please try again in 6ms. Contact us through our help center at help.openai.com if you continue to have issues.. Retrying Question No. 1 Attempt:(1)\n",
      "Rate limit error: Rate limit reached for 10KTPM-200RPM in organization org-Y2tKyCPFO6tIjtCtOVZ7c9tr on tokens per min. Limit: 10000 / min. Please try again in 6ms. Contact us through our help center at help.openai.com if you continue to have issues.. Retrying Question No. 2 Attempt:(1)\n",
      "Rate limit error: Rate limit reached for 10KTPM-200RPM in organization org-Y2tKyCPFO6tIjtCtOVZ7c9tr on tokens per min. Limit: 10000 / min. Please try again in 6ms. Contact us through our help center at help.openai.com if you continue to have issues.. Retrying Question No. 3 Attempt:(1)\n",
      "Rate limit error: Rate limit reached for 10KTPM-200RPM in organization org-Y2tKyCPFO6tIjtCtOVZ7c9tr on tokens per min. Limit: 10000 / min. Please try again in 6ms. Contact us through our help center at help.openai.com if you continue to have issues.. Retrying Question No. 4 Attempt:(1)\n",
      "Rate limit error: Rate limit reached for 10KTPM-200RPM in organization org-Y2tKyCPFO6tIjtCtOVZ7c9tr on tokens per min. Limit: 10000 / min. Please try again in 6ms. Contact us through our help center at help.openai.com if you continue to have issues.. Retrying Question No. 5 Attempt:(1)\n",
      "Rate limit error: Rate limit reached for 10KTPM-200RPM in organization org-Y2tKyCPFO6tIjtCtOVZ7c9tr on tokens per min. Limit: 10000 / min. Please try again in 6ms. Contact us through our help center at help.openai.com if you continue to have issues.. Retrying Question No. 6 Attempt:(1)\n",
      "Rate limit error: Rate limit reached for 10KTPM-200RPM in organization org-Y2tKyCPFO6tIjtCtOVZ7c9tr on tokens per min. Limit: 10000 / min. Please try again in 6ms. Contact us through our help center at help.openai.com if you continue to have issues.. Retrying Question No. 7 Attempt:(1)\n",
      "Rate limit error: Rate limit reached for 10KTPM-200RPM in organization org-Y2tKyCPFO6tIjtCtOVZ7c9tr on tokens per min. Limit: 10000 / min. Please try again in 6ms. Contact us through our help center at help.openai.com if you continue to have issues.. Retrying Question No. 8 Attempt:(1)\n",
      "Rate limit error: Rate limit reached for 10KTPM-200RPM in organization org-Y2tKyCPFO6tIjtCtOVZ7c9tr on tokens per min. Limit: 10000 / min. Please try again in 6ms. Contact us through our help center at help.openai.com if you continue to have issues.. Retrying Question No. 0 Attempt:(1)\n",
      "Rate limit error: Rate limit reached for 10KTPM-200RPM in organization org-Y2tKyCPFO6tIjtCtOVZ7c9tr on tokens per min. Limit: 10000 / min. Please try again in 6ms. Contact us through our help center at help.openai.com if you continue to have issues.. Retrying Question No. 1 Attempt:(1)\n",
      "Rate limit error: Rate limit reached for 10KTPM-200RPM in organization org-Y2tKyCPFO6tIjtCtOVZ7c9tr on tokens per min. Limit: 10000 / min. Please try again in 6ms. Contact us through our help center at help.openai.com if you continue to have issues.. Retrying Question No. 1 Attempt:(2)\n",
      "Rate limit error: Rate limit reached for 10KTPM-200RPM in organization org-Y2tKyCPFO6tIjtCtOVZ7c9tr on tokens per min. Limit: 10000 / min. Please try again in 6ms. Contact us through our help center at help.openai.com if you continue to have issues.. Retrying Question No. 2 Attempt:(1)\n",
      "Rate limit error: Rate limit reached for 10KTPM-200RPM in organization org-Y2tKyCPFO6tIjtCtOVZ7c9tr on tokens per min. Limit: 10000 / min. Please try again in 6ms. Contact us through our help center at help.openai.com if you continue to have issues.. Retrying Question No. 3 Attempt:(1)\n",
      "Rate limit error: Rate limit reached for 10KTPM-200RPM in organization org-Y2tKyCPFO6tIjtCtOVZ7c9tr on tokens per min. Limit: 10000 / min. Please try again in 6ms. Contact us through our help center at help.openai.com if you continue to have issues.. Retrying Question No. 4 Attempt:(1)\n",
      "Rate limit error: Rate limit reached for 10KTPM-200RPM in organization org-Y2tKyCPFO6tIjtCtOVZ7c9tr on tokens per min. Limit: 10000 / min. Please try again in 6ms. Contact us through our help center at help.openai.com if you continue to have issues.. Retrying Question No. 5 Attempt:(1)\n",
      "Rate limit error: Rate limit reached for 10KTPM-200RPM in organization org-Y2tKyCPFO6tIjtCtOVZ7c9tr on tokens per min. Limit: 10000 / min. Please try again in 6ms. Contact us through our help center at help.openai.com if you continue to have issues.. Retrying Question No. 6 Attempt:(1)\n",
      "Rate limit error: Rate limit reached for 10KTPM-200RPM in organization org-Y2tKyCPFO6tIjtCtOVZ7c9tr on tokens per min. Limit: 10000 / min. Please try again in 6ms. Contact us through our help center at help.openai.com if you continue to have issues.. Retrying Question No. 7 Attempt:(1)\n",
      "Rate limit error: Rate limit reached for 10KTPM-200RPM in organization org-Y2tKyCPFO6tIjtCtOVZ7c9tr on tokens per min. Limit: 10000 / min. Please try again in 6ms. Contact us through our help center at help.openai.com if you continue to have issues.. Retrying Question No. 8 Attempt:(1)\n",
      "Rate limit error: Rate limit reached for 10KTPM-200RPM in organization org-Y2tKyCPFO6tIjtCtOVZ7c9tr on tokens per min. Limit: 10000 / min. Please try again in 6ms. Contact us through our help center at help.openai.com if you continue to have issues.. Retrying Question No. 0 Attempt:(1)\n",
      "Rate limit error: Rate limit reached for 10KTPM-200RPM in organization org-Y2tKyCPFO6tIjtCtOVZ7c9tr on tokens per min. Limit: 10000 / min. Please try again in 6ms. Contact us through our help center at help.openai.com if you continue to have issues.. Retrying Question No. 8 Attempt:(1)\n"
     ]
    },
    {
     "name": "stderr",
     "output_type": "stream",
     "text": [
      " 29%|██▉       | 31/107 [3:37:43<12:57:56, 614.17s/it]"
     ]
    },
    {
     "name": "stdout",
     "output_type": "stream",
     "text": [
      "Rate limit error: Rate limit reached for 10KTPM-200RPM in organization org-Y2tKyCPFO6tIjtCtOVZ7c9tr on tokens per min. Limit: 10000 / min. Please try again in 6ms. Contact us through our help center at help.openai.com if you continue to have issues.. Retrying Question No. 1 Attempt:(1)\n",
      "Rate limit error: Rate limit reached for 10KTPM-200RPM in organization org-Y2tKyCPFO6tIjtCtOVZ7c9tr on tokens per min. Limit: 10000 / min. Please try again in 6ms. Contact us through our help center at help.openai.com if you continue to have issues.. Retrying Question No. 3 Attempt:(1)\n",
      "Rate limit error: Rate limit reached for 10KTPM-200RPM in organization org-Y2tKyCPFO6tIjtCtOVZ7c9tr on tokens per min. Limit: 10000 / min. Please try again in 6ms. Contact us through our help center at help.openai.com if you continue to have issues.. Retrying Question No. 5 Attempt:(1)\n",
      "Rate limit error: Rate limit reached for 10KTPM-200RPM in organization org-Y2tKyCPFO6tIjtCtOVZ7c9tr on tokens per min. Limit: 10000 / min. Please try again in 6ms. Contact us through our help center at help.openai.com if you continue to have issues.. Retrying Question No. 7 Attempt:(1)\n"
     ]
    },
    {
     "name": "stderr",
     "output_type": "stream",
     "text": [
      " 30%|██▉       | 32/107 [3:39:53<9:46:03, 468.84s/it] "
     ]
    },
    {
     "name": "stdout",
     "output_type": "stream",
     "text": [
      "Rate limit error: Rate limit reached for 10KTPM-200RPM in organization org-Y2tKyCPFO6tIjtCtOVZ7c9tr on tokens per min. Limit: 10000 / min. Please try again in 6ms. Contact us through our help center at help.openai.com if you continue to have issues.. Retrying Question No. 0 Attempt:(1)\n",
      "Rate limit error: Rate limit reached for 10KTPM-200RPM in organization org-Y2tKyCPFO6tIjtCtOVZ7c9tr on tokens per min. Limit: 10000 / min. Please try again in 6ms. Contact us through our help center at help.openai.com if you continue to have issues.. Retrying Question No. 1 Attempt:(1)\n",
      "Rate limit error: Rate limit reached for 10KTPM-200RPM in organization org-Y2tKyCPFO6tIjtCtOVZ7c9tr on tokens per min. Limit: 10000 / min. Please try again in 6ms. Contact us through our help center at help.openai.com if you continue to have issues.. Retrying Question No. 2 Attempt:(1)\n",
      "Rate limit error: Rate limit reached for 10KTPM-200RPM in organization org-Y2tKyCPFO6tIjtCtOVZ7c9tr on tokens per min. Limit: 10000 / min. Please try again in 6ms. Contact us through our help center at help.openai.com if you continue to have issues.. Retrying Question No. 2 Attempt:(2)\n",
      "Rate limit error: Rate limit reached for 10KTPM-200RPM in organization org-Y2tKyCPFO6tIjtCtOVZ7c9tr on tokens per min. Limit: 10000 / min. Please try again in 6ms. Contact us through our help center at help.openai.com if you continue to have issues.. Retrying Question No. 3 Attempt:(1)\n",
      "Rate limit error: Rate limit reached for 10KTPM-200RPM in organization org-Y2tKyCPFO6tIjtCtOVZ7c9tr on tokens per min. Limit: 10000 / min. Please try again in 6ms. Contact us through our help center at help.openai.com if you continue to have issues.. Retrying Question No. 4 Attempt:(1)\n",
      "Rate limit error: Rate limit reached for 10KTPM-200RPM in organization org-Y2tKyCPFO6tIjtCtOVZ7c9tr on tokens per min. Limit: 10000 / min. Please try again in 6ms. Contact us through our help center at help.openai.com if you continue to have issues.. Retrying Question No. 5 Attempt:(1)\n",
      "Rate limit error: Rate limit reached for 10KTPM-200RPM in organization org-Y2tKyCPFO6tIjtCtOVZ7c9tr on tokens per min. Limit: 10000 / min. Please try again in 6ms. Contact us through our help center at help.openai.com if you continue to have issues.. Retrying Question No. 6 Attempt:(1)\n",
      "Rate limit error: Rate limit reached for 10KTPM-200RPM in organization org-Y2tKyCPFO6tIjtCtOVZ7c9tr on tokens per min. Limit: 10000 / min. Please try again in 6ms. Contact us through our help center at help.openai.com if you continue to have issues.. Retrying Question No. 7 Attempt:(1)\n",
      "Rate limit error: Rate limit reached for 10KTPM-200RPM in organization org-Y2tKyCPFO6tIjtCtOVZ7c9tr on tokens per min. Limit: 10000 / min. Please try again in 6ms. Contact us through our help center at help.openai.com if you continue to have issues.. Retrying Question No. 7 Attempt:(2)\n",
      "Rate limit error: Rate limit reached for 10KTPM-200RPM in organization org-Y2tKyCPFO6tIjtCtOVZ7c9tr on tokens per min. Limit: 10000 / min. Please try again in 6ms. Contact us through our help center at help.openai.com if you continue to have issues.. Retrying Question No. 8 Attempt:(1)\n",
      "Rate limit error: Rate limit reached for 10KTPM-200RPM in organization org-Y2tKyCPFO6tIjtCtOVZ7c9tr on tokens per min. Limit: 10000 / min. Please try again in 6ms. Contact us through our help center at help.openai.com if you continue to have issues.. Retrying Question No. 0 Attempt:(1)\n",
      "Rate limit error: Rate limit reached for 10KTPM-200RPM in organization org-Y2tKyCPFO6tIjtCtOVZ7c9tr on tokens per min. Limit: 10000 / min. Please try again in 6ms. Contact us through our help center at help.openai.com if you continue to have issues.. Retrying Question No. 1 Attempt:(1)\n",
      "Rate limit error: Rate limit reached for 10KTPM-200RPM in organization org-Y2tKyCPFO6tIjtCtOVZ7c9tr on tokens per min. Limit: 10000 / min. Please try again in 6ms. Contact us through our help center at help.openai.com if you continue to have issues.. Retrying Question No. 2 Attempt:(1)\n",
      "Rate limit error: Rate limit reached for 10KTPM-200RPM in organization org-Y2tKyCPFO6tIjtCtOVZ7c9tr on tokens per min. Limit: 10000 / min. Please try again in 6ms. Contact us through our help center at help.openai.com if you continue to have issues.. Retrying Question No. 3 Attempt:(1)\n",
      "Rate limit error: Rate limit reached for 10KTPM-200RPM in organization org-Y2tKyCPFO6tIjtCtOVZ7c9tr on tokens per min. Limit: 10000 / min. Please try again in 6ms. Contact us through our help center at help.openai.com if you continue to have issues.. Retrying Question No. 4 Attempt:(1)\n",
      "Rate limit error: Rate limit reached for 10KTPM-200RPM in organization org-Y2tKyCPFO6tIjtCtOVZ7c9tr on tokens per min. Limit: 10000 / min. Please try again in 6ms. Contact us through our help center at help.openai.com if you continue to have issues.. Retrying Question No. 5 Attempt:(1)\n",
      "Rate limit error: Rate limit reached for 10KTPM-200RPM in organization org-Y2tKyCPFO6tIjtCtOVZ7c9tr on tokens per min. Limit: 10000 / min. Please try again in 6ms. Contact us through our help center at help.openai.com if you continue to have issues.. Retrying Question No. 6 Attempt:(1)\n",
      "Rate limit error: Rate limit reached for 10KTPM-200RPM in organization org-Y2tKyCPFO6tIjtCtOVZ7c9tr on tokens per min. Limit: 10000 / min. Please try again in 6ms. Contact us through our help center at help.openai.com if you continue to have issues.. Retrying Question No. 8 Attempt:(1)\n"
     ]
    },
    {
     "name": "stderr",
     "output_type": "stream",
     "text": [
      " 31%|███       | 33/107 [3:49:47<10:24:40, 506.49s/it]"
     ]
    },
    {
     "name": "stdout",
     "output_type": "stream",
     "text": [
      "Rate limit error: Rate limit reached for 10KTPM-200RPM in organization org-Y2tKyCPFO6tIjtCtOVZ7c9tr on tokens per min. Limit: 10000 / min. Please try again in 6ms. Contact us through our help center at help.openai.com if you continue to have issues.. Retrying Question No. 0 Attempt:(1)\n",
      "Rate limit error: Rate limit reached for 10KTPM-200RPM in organization org-Y2tKyCPFO6tIjtCtOVZ7c9tr on tokens per min. Limit: 10000 / min. Please try again in 6ms. Contact us through our help center at help.openai.com if you continue to have issues.. Retrying Question No. 2 Attempt:(1)\n",
      "Rate limit error: Rate limit reached for 10KTPM-200RPM in organization org-Y2tKyCPFO6tIjtCtOVZ7c9tr on tokens per min. Limit: 10000 / min. Please try again in 6ms. Contact us through our help center at help.openai.com if you continue to have issues.. Retrying Question No. 4 Attempt:(1)\n",
      "Rate limit error: Rate limit reached for 10KTPM-200RPM in organization org-Y2tKyCPFO6tIjtCtOVZ7c9tr on tokens per min. Limit: 10000 / min. Please try again in 6ms. Contact us through our help center at help.openai.com if you continue to have issues.. Retrying Question No. 6 Attempt:(1)\n",
      "Rate limit error: Rate limit reached for 10KTPM-200RPM in organization org-Y2tKyCPFO6tIjtCtOVZ7c9tr on tokens per min. Limit: 10000 / min. Please try again in 6ms. Contact us through our help center at help.openai.com if you continue to have issues.. Retrying Question No. 8 Attempt:(1)\n"
     ]
    },
    {
     "name": "stderr",
     "output_type": "stream",
     "text": [
      " 32%|███▏      | 34/107 [3:52:27<8:09:32, 402.36s/it] "
     ]
    },
    {
     "name": "stdout",
     "output_type": "stream",
     "text": [
      "Rate limit error: Rate limit reached for 10KTPM-200RPM in organization org-Y2tKyCPFO6tIjtCtOVZ7c9tr on tokens per min. Limit: 10000 / min. Please try again in 6ms. Contact us through our help center at help.openai.com if you continue to have issues.. Retrying Question No. 0 Attempt:(1)\n",
      "Rate limit error: Rate limit reached for 10KTPM-200RPM in organization org-Y2tKyCPFO6tIjtCtOVZ7c9tr on tokens per min. Limit: 10000 / min. Please try again in 6ms. Contact us through our help center at help.openai.com if you continue to have issues.. Retrying Question No. 1 Attempt:(1)\n",
      "Rate limit error: Rate limit reached for 10KTPM-200RPM in organization org-Y2tKyCPFO6tIjtCtOVZ7c9tr on tokens per min. Limit: 10000 / min. Please try again in 6ms. Contact us through our help center at help.openai.com if you continue to have issues.. Retrying Question No. 2 Attempt:(1)\n",
      "Rate limit error: Rate limit reached for 10KTPM-200RPM in organization org-Y2tKyCPFO6tIjtCtOVZ7c9tr on tokens per min. Limit: 10000 / min. Please try again in 6ms. Contact us through our help center at help.openai.com if you continue to have issues.. Retrying Question No. 3 Attempt:(1)\n",
      "Rate limit error: Rate limit reached for 10KTPM-200RPM in organization org-Y2tKyCPFO6tIjtCtOVZ7c9tr on tokens per min. Limit: 10000 / min. Please try again in 6ms. Contact us through our help center at help.openai.com if you continue to have issues.. Retrying Question No. 4 Attempt:(1)\n",
      "Rate limit error: Rate limit reached for 10KTPM-200RPM in organization org-Y2tKyCPFO6tIjtCtOVZ7c9tr on tokens per min. Limit: 10000 / min. Please try again in 6ms. Contact us through our help center at help.openai.com if you continue to have issues.. Retrying Question No. 5 Attempt:(1)\n",
      "Rate limit error: Rate limit reached for 10KTPM-200RPM in organization org-Y2tKyCPFO6tIjtCtOVZ7c9tr on tokens per min. Limit: 10000 / min. Please try again in 6ms. Contact us through our help center at help.openai.com if you continue to have issues.. Retrying Question No. 5 Attempt:(2)\n",
      "Rate limit error: Rate limit reached for 10KTPM-200RPM in organization org-Y2tKyCPFO6tIjtCtOVZ7c9tr on tokens per min. Limit: 10000 / min. Please try again in 6ms. Contact us through our help center at help.openai.com if you continue to have issues.. Retrying Question No. 6 Attempt:(1)\n",
      "Rate limit error: Rate limit reached for 10KTPM-200RPM in organization org-Y2tKyCPFO6tIjtCtOVZ7c9tr on tokens per min. Limit: 10000 / min. Please try again in 6ms. Contact us through our help center at help.openai.com if you continue to have issues.. Retrying Question No. 7 Attempt:(1)\n",
      "Rate limit error: Rate limit reached for 10KTPM-200RPM in organization org-Y2tKyCPFO6tIjtCtOVZ7c9tr on tokens per min. Limit: 10000 / min. Please try again in 6ms. Contact us through our help center at help.openai.com if you continue to have issues.. Retrying Question No. 8 Attempt:(1)\n",
      "Rate limit error: Rate limit reached for 10KTPM-200RPM in organization org-Y2tKyCPFO6tIjtCtOVZ7c9tr on tokens per min. Limit: 10000 / min. Please try again in 6ms. Contact us through our help center at help.openai.com if you continue to have issues.. Retrying Question No. 0 Attempt:(1)\n",
      "Rate limit error: Rate limit reached for 10KTPM-200RPM in organization org-Y2tKyCPFO6tIjtCtOVZ7c9tr on tokens per min. Limit: 10000 / min. Please try again in 6ms. Contact us through our help center at help.openai.com if you continue to have issues.. Retrying Question No. 2 Attempt:(1)\n",
      "Rate limit error: Rate limit reached for 10KTPM-200RPM in organization org-Y2tKyCPFO6tIjtCtOVZ7c9tr on tokens per min. Limit: 10000 / min. Please try again in 6ms. Contact us through our help center at help.openai.com if you continue to have issues.. Retrying Question No. 3 Attempt:(1)\n",
      "Rate limit error: Rate limit reached for 10KTPM-200RPM in organization org-Y2tKyCPFO6tIjtCtOVZ7c9tr on tokens per min. Limit: 10000 / min. Please try again in 6ms. Contact us through our help center at help.openai.com if you continue to have issues.. Retrying Question No. 5 Attempt:(1)\n",
      "Rate limit error: Rate limit reached for 10KTPM-200RPM in organization org-Y2tKyCPFO6tIjtCtOVZ7c9tr on tokens per min. Limit: 10000 / min. Please try again in 6ms. Contact us through our help center at help.openai.com if you continue to have issues.. Retrying Question No. 7 Attempt:(1)\n",
      "Rate limit error: Rate limit reached for 10KTPM-200RPM in organization org-Y2tKyCPFO6tIjtCtOVZ7c9tr on tokens per min. Limit: 10000 / min. Please try again in 6ms. Contact us through our help center at help.openai.com if you continue to have issues.. Retrying Question No. 8 Attempt:(1)\n"
     ]
    },
    {
     "name": "stderr",
     "output_type": "stream",
     "text": [
      " 33%|███▎      | 35/107 [4:00:49<8:38:45, 432.30s/it]"
     ]
    },
    {
     "name": "stdout",
     "output_type": "stream",
     "text": [
      "Rate limit error: Rate limit reached for 10KTPM-200RPM in organization org-Y2tKyCPFO6tIjtCtOVZ7c9tr on tokens per min. Limit: 10000 / min. Please try again in 6ms. Contact us through our help center at help.openai.com if you continue to have issues.. Retrying Question No. 1 Attempt:(1)\n",
      "Rate limit error: Rate limit reached for 10KTPM-200RPM in organization org-Y2tKyCPFO6tIjtCtOVZ7c9tr on tokens per min. Limit: 10000 / min. Please try again in 6ms. Contact us through our help center at help.openai.com if you continue to have issues.. Retrying Question No. 3 Attempt:(1)\n",
      "Rate limit error: Rate limit reached for 10KTPM-200RPM in organization org-Y2tKyCPFO6tIjtCtOVZ7c9tr on tokens per min. Limit: 10000 / min. Please try again in 6ms. Contact us through our help center at help.openai.com if you continue to have issues.. Retrying Question No. 4 Attempt:(1)\n",
      "Rate limit error: Rate limit reached for 10KTPM-200RPM in organization org-Y2tKyCPFO6tIjtCtOVZ7c9tr on tokens per min. Limit: 10000 / min. Please try again in 6ms. Contact us through our help center at help.openai.com if you continue to have issues.. Retrying Question No. 6 Attempt:(1)\n",
      "Rate limit error: Rate limit reached for 10KTPM-200RPM in organization org-Y2tKyCPFO6tIjtCtOVZ7c9tr on tokens per min. Limit: 10000 / min. Please try again in 6ms. Contact us through our help center at help.openai.com if you continue to have issues.. Retrying Question No. 8 Attempt:(1)\n"
     ]
    },
    {
     "name": "stderr",
     "output_type": "stream",
     "text": [
      " 34%|███▎      | 36/107 [4:03:29<6:55:03, 350.75s/it]"
     ]
    },
    {
     "name": "stdout",
     "output_type": "stream",
     "text": [
      "Rate limit error: Rate limit reached for 10KTPM-200RPM in organization org-Y2tKyCPFO6tIjtCtOVZ7c9tr on tokens per min. Limit: 10000 / min. Please try again in 6ms. Contact us through our help center at help.openai.com if you continue to have issues.. Retrying Question No. 0 Attempt:(1)\n",
      "Rate limit error: Rate limit reached for 10KTPM-200RPM in organization org-Y2tKyCPFO6tIjtCtOVZ7c9tr on tokens per min. Limit: 10000 / min. Please try again in 6ms. Contact us through our help center at help.openai.com if you continue to have issues.. Retrying Question No. 2 Attempt:(1)\n",
      "Rate limit error: Rate limit reached for 10KTPM-200RPM in organization org-Y2tKyCPFO6tIjtCtOVZ7c9tr on tokens per min. Limit: 10000 / min. Please try again in 6ms. Contact us through our help center at help.openai.com if you continue to have issues.. Retrying Question No. 4 Attempt:(1)\n",
      "Rate limit error: Rate limit reached for 10KTPM-200RPM in organization org-Y2tKyCPFO6tIjtCtOVZ7c9tr on tokens per min. Limit: 10000 / min. Please try again in 6ms. Contact us through our help center at help.openai.com if you continue to have issues.. Retrying Question No. 6 Attempt:(1)\n",
      "Rate limit error: Rate limit reached for 10KTPM-200RPM in organization org-Y2tKyCPFO6tIjtCtOVZ7c9tr on tokens per min. Limit: 10000 / min. Please try again in 6ms. Contact us through our help center at help.openai.com if you continue to have issues.. Retrying Question No. 8 Attempt:(1)\n"
     ]
    },
    {
     "name": "stderr",
     "output_type": "stream",
     "text": [
      " 35%|███▍      | 37/107 [4:06:08<5:42:03, 293.19s/it]"
     ]
    },
    {
     "name": "stdout",
     "output_type": "stream",
     "text": [
      "Rate limit error: Rate limit reached for 10KTPM-200RPM in organization org-Y2tKyCPFO6tIjtCtOVZ7c9tr on tokens per min. Limit: 10000 / min. Please try again in 6ms. Contact us through our help center at help.openai.com if you continue to have issues.. Retrying Question No. 0 Attempt:(1)\n",
      "Rate limit error: Rate limit reached for 10KTPM-200RPM in organization org-Y2tKyCPFO6tIjtCtOVZ7c9tr on tokens per min. Limit: 10000 / min. Please try again in 6ms. Contact us through our help center at help.openai.com if you continue to have issues.. Retrying Question No. 1 Attempt:(1)\n",
      "Rate limit error: Rate limit reached for 10KTPM-200RPM in organization org-Y2tKyCPFO6tIjtCtOVZ7c9tr on tokens per min. Limit: 10000 / min. Please try again in 6ms. Contact us through our help center at help.openai.com if you continue to have issues.. Retrying Question No. 2 Attempt:(1)\n",
      "Rate limit error: Rate limit reached for 10KTPM-200RPM in organization org-Y2tKyCPFO6tIjtCtOVZ7c9tr on tokens per min. Limit: 10000 / min. Please try again in 6ms. Contact us through our help center at help.openai.com if you continue to have issues.. Retrying Question No. 3 Attempt:(1)\n",
      "Rate limit error: Rate limit reached for 10KTPM-200RPM in organization org-Y2tKyCPFO6tIjtCtOVZ7c9tr on tokens per min. Limit: 10000 / min. Please try again in 6ms. Contact us through our help center at help.openai.com if you continue to have issues.. Retrying Question No. 4 Attempt:(1)\n",
      "Rate limit error: Rate limit reached for 10KTPM-200RPM in organization org-Y2tKyCPFO6tIjtCtOVZ7c9tr on tokens per min. Limit: 10000 / min. Please try again in 6ms. Contact us through our help center at help.openai.com if you continue to have issues.. Retrying Question No. 5 Attempt:(1)\n",
      "Rate limit error: Rate limit reached for 10KTPM-200RPM in organization org-Y2tKyCPFO6tIjtCtOVZ7c9tr on tokens per min. Limit: 10000 / min. Please try again in 6ms. Contact us through our help center at help.openai.com if you continue to have issues.. Retrying Question No. 5 Attempt:(2)\n",
      "Rate limit error: Rate limit reached for 10KTPM-200RPM in organization org-Y2tKyCPFO6tIjtCtOVZ7c9tr on tokens per min. Limit: 10000 / min. Please try again in 6ms. Contact us through our help center at help.openai.com if you continue to have issues.. Retrying Question No. 6 Attempt:(1)\n",
      "Rate limit error: Rate limit reached for 10KTPM-200RPM in organization org-Y2tKyCPFO6tIjtCtOVZ7c9tr on tokens per min. Limit: 10000 / min. Please try again in 6ms. Contact us through our help center at help.openai.com if you continue to have issues.. Retrying Question No. 7 Attempt:(1)\n",
      "Rate limit error: Rate limit reached for 10KTPM-200RPM in organization org-Y2tKyCPFO6tIjtCtOVZ7c9tr on tokens per min. Limit: 10000 / min. Please try again in 6ms. Contact us through our help center at help.openai.com if you continue to have issues.. Retrying Question No. 8 Attempt:(1)\n",
      "Rate limit error: Rate limit reached for 10KTPM-200RPM in organization org-Y2tKyCPFO6tIjtCtOVZ7c9tr on tokens per min. Limit: 10000 / min. Please try again in 6ms. Contact us through our help center at help.openai.com if you continue to have issues.. Retrying Question No. 0 Attempt:(1)\n",
      "Rate limit error: Rate limit reached for 10KTPM-200RPM in organization org-Y2tKyCPFO6tIjtCtOVZ7c9tr on tokens per min. Limit: 10000 / min. Please try again in 6ms. Contact us through our help center at help.openai.com if you continue to have issues.. Retrying Question No. 1 Attempt:(1)\n",
      "Rate limit error: Rate limit reached for 10KTPM-200RPM in organization org-Y2tKyCPFO6tIjtCtOVZ7c9tr on tokens per min. Limit: 10000 / min. Please try again in 6ms. Contact us through our help center at help.openai.com if you continue to have issues.. Retrying Question No. 2 Attempt:(1)\n",
      "Rate limit error: Rate limit reached for 10KTPM-200RPM in organization org-Y2tKyCPFO6tIjtCtOVZ7c9tr on tokens per min. Limit: 10000 / min. Please try again in 6ms. Contact us through our help center at help.openai.com if you continue to have issues.. Retrying Question No. 3 Attempt:(1)\n",
      "Rate limit error: Rate limit reached for 10KTPM-200RPM in organization org-Y2tKyCPFO6tIjtCtOVZ7c9tr on tokens per min. Limit: 10000 / min. Please try again in 6ms. Contact us through our help center at help.openai.com if you continue to have issues.. Retrying Question No. 4 Attempt:(1)\n",
      "Rate limit error: Rate limit reached for 10KTPM-200RPM in organization org-Y2tKyCPFO6tIjtCtOVZ7c9tr on tokens per min. Limit: 10000 / min. Please try again in 6ms. Contact us through our help center at help.openai.com if you continue to have issues.. Retrying Question No. 6 Attempt:(1)\n",
      "Rate limit error: Rate limit reached for 10KTPM-200RPM in organization org-Y2tKyCPFO6tIjtCtOVZ7c9tr on tokens per min. Limit: 10000 / min. Please try again in 6ms. Contact us through our help center at help.openai.com if you continue to have issues.. Retrying Question No. 7 Attempt:(1)\n",
      "Rate limit error: Rate limit reached for 10KTPM-200RPM in organization org-Y2tKyCPFO6tIjtCtOVZ7c9tr on tokens per min. Limit: 10000 / min. Please try again in 6ms. Contact us through our help center at help.openai.com if you continue to have issues.. Retrying Question No. 8 Attempt:(1)\n"
     ]
    },
    {
     "name": "stderr",
     "output_type": "stream",
     "text": [
      " 36%|███▌      | 38/107 [4:15:35<7:11:33, 375.27s/it]"
     ]
    },
    {
     "name": "stdout",
     "output_type": "stream",
     "text": [
      "Rate limit error: Rate limit reached for 10KTPM-200RPM in organization org-Y2tKyCPFO6tIjtCtOVZ7c9tr on tokens per min. Limit: 10000 / min. Please try again in 6ms. Contact us through our help center at help.openai.com if you continue to have issues.. Retrying Question No. 0 Attempt:(1)\n",
      "Rate limit error: Rate limit reached for 10KTPM-200RPM in organization org-Y2tKyCPFO6tIjtCtOVZ7c9tr on tokens per min. Limit: 10000 / min. Please try again in 6ms. Contact us through our help center at help.openai.com if you continue to have issues.. Retrying Question No. 1 Attempt:(1)\n",
      "Rate limit error: Rate limit reached for 10KTPM-200RPM in organization org-Y2tKyCPFO6tIjtCtOVZ7c9tr on tokens per min. Limit: 10000 / min. Please try again in 6ms. Contact us through our help center at help.openai.com if you continue to have issues.. Retrying Question No. 3 Attempt:(1)\n",
      "Rate limit error: Rate limit reached for 10KTPM-200RPM in organization org-Y2tKyCPFO6tIjtCtOVZ7c9tr on tokens per min. Limit: 10000 / min. Please try again in 6ms. Contact us through our help center at help.openai.com if you continue to have issues.. Retrying Question No. 4 Attempt:(1)\n",
      "Rate limit error: Rate limit reached for 10KTPM-200RPM in organization org-Y2tKyCPFO6tIjtCtOVZ7c9tr on tokens per min. Limit: 10000 / min. Please try again in 6ms. Contact us through our help center at help.openai.com if you continue to have issues.. Retrying Question No. 6 Attempt:(1)\n",
      "Rate limit error: Rate limit reached for 10KTPM-200RPM in organization org-Y2tKyCPFO6tIjtCtOVZ7c9tr on tokens per min. Limit: 10000 / min. Please try again in 6ms. Contact us through our help center at help.openai.com if you continue to have issues.. Retrying Question No. 7 Attempt:(1)\n",
      "Rate limit error: Rate limit reached for 10KTPM-200RPM in organization org-Y2tKyCPFO6tIjtCtOVZ7c9tr on tokens per min. Limit: 10000 / min. Please try again in 6ms. Contact us through our help center at help.openai.com if you continue to have issues.. Retrying Question No. 8 Attempt:(1)\n"
     ]
    },
    {
     "name": "stderr",
     "output_type": "stream",
     "text": [
      " 36%|███▋      | 39/107 [4:19:15<6:12:30, 328.69s/it]"
     ]
    },
    {
     "name": "stdout",
     "output_type": "stream",
     "text": [
      "Rate limit error: Rate limit reached for 10KTPM-200RPM in organization org-Y2tKyCPFO6tIjtCtOVZ7c9tr on tokens per min. Limit: 10000 / min. Please try again in 6ms. Contact us through our help center at help.openai.com if you continue to have issues.. Retrying Question No. 1 Attempt:(1)\n",
      "Rate limit error: Rate limit reached for 10KTPM-200RPM in organization org-Y2tKyCPFO6tIjtCtOVZ7c9tr on tokens per min. Limit: 10000 / min. Please try again in 6ms. Contact us through our help center at help.openai.com if you continue to have issues.. Retrying Question No. 2 Attempt:(1)\n",
      "Rate limit error: Rate limit reached for 10KTPM-200RPM in organization org-Y2tKyCPFO6tIjtCtOVZ7c9tr on tokens per min. Limit: 10000 / min. Please try again in 6ms. Contact us through our help center at help.openai.com if you continue to have issues.. Retrying Question No. 4 Attempt:(1)\n",
      "Rate limit error: Rate limit reached for 10KTPM-200RPM in organization org-Y2tKyCPFO6tIjtCtOVZ7c9tr on tokens per min. Limit: 10000 / min. Please try again in 6ms. Contact us through our help center at help.openai.com if you continue to have issues.. Retrying Question No. 5 Attempt:(1)\n",
      "Rate limit error: Rate limit reached for 10KTPM-200RPM in organization org-Y2tKyCPFO6tIjtCtOVZ7c9tr on tokens per min. Limit: 10000 / min. Please try again in 6ms. Contact us through our help center at help.openai.com if you continue to have issues.. Retrying Question No. 7 Attempt:(1)\n",
      "Rate limit error: Rate limit reached for 10KTPM-200RPM in organization org-Y2tKyCPFO6tIjtCtOVZ7c9tr on tokens per min. Limit: 10000 / min. Please try again in 6ms. Contact us through our help center at help.openai.com if you continue to have issues.. Retrying Question No. 8 Attempt:(1)\n"
     ]
    },
    {
     "name": "stderr",
     "output_type": "stream",
     "text": [
      " 37%|███▋      | 40/107 [4:22:25<5:20:43, 287.22s/it]"
     ]
    },
    {
     "name": "stdout",
     "output_type": "stream",
     "text": [
      "Rate limit error: Rate limit reached for 10KTPM-200RPM in organization org-Y2tKyCPFO6tIjtCtOVZ7c9tr on tokens per min. Limit: 10000 / min. Please try again in 6ms. Contact us through our help center at help.openai.com if you continue to have issues.. Retrying Question No. 0 Attempt:(1)\n",
      "Rate limit error: Rate limit reached for 10KTPM-200RPM in organization org-Y2tKyCPFO6tIjtCtOVZ7c9tr on tokens per min. Limit: 10000 / min. Please try again in 6ms. Contact us through our help center at help.openai.com if you continue to have issues.. Retrying Question No. 1 Attempt:(1)\n",
      "Rate limit error: Rate limit reached for 10KTPM-200RPM in organization org-Y2tKyCPFO6tIjtCtOVZ7c9tr on tokens per min. Limit: 10000 / min. Please try again in 6ms. Contact us through our help center at help.openai.com if you continue to have issues.. Retrying Question No. 2 Attempt:(1)\n",
      "Rate limit error: Rate limit reached for 10KTPM-200RPM in organization org-Y2tKyCPFO6tIjtCtOVZ7c9tr on tokens per min. Limit: 10000 / min. Please try again in 6ms. Contact us through our help center at help.openai.com if you continue to have issues.. Retrying Question No. 3 Attempt:(1)\n",
      "Rate limit error: Rate limit reached for 10KTPM-200RPM in organization org-Y2tKyCPFO6tIjtCtOVZ7c9tr on tokens per min. Limit: 10000 / min. Please try again in 6ms. Contact us through our help center at help.openai.com if you continue to have issues.. Retrying Question No. 4 Attempt:(1)\n",
      "Rate limit error: Rate limit reached for 10KTPM-200RPM in organization org-Y2tKyCPFO6tIjtCtOVZ7c9tr on tokens per min. Limit: 10000 / min. Please try again in 6ms. Contact us through our help center at help.openai.com if you continue to have issues.. Retrying Question No. 5 Attempt:(1)\n",
      "Rate limit error: Rate limit reached for 10KTPM-200RPM in organization org-Y2tKyCPFO6tIjtCtOVZ7c9tr on tokens per min. Limit: 10000 / min. Please try again in 6ms. Contact us through our help center at help.openai.com if you continue to have issues.. Retrying Question No. 6 Attempt:(1)\n",
      "Rate limit error: Rate limit reached for 10KTPM-200RPM in organization org-Y2tKyCPFO6tIjtCtOVZ7c9tr on tokens per min. Limit: 10000 / min. Please try again in 6ms. Contact us through our help center at help.openai.com if you continue to have issues.. Retrying Question No. 7 Attempt:(1)\n",
      "Rate limit error: Rate limit reached for 10KTPM-200RPM in organization org-Y2tKyCPFO6tIjtCtOVZ7c9tr on tokens per min. Limit: 10000 / min. Please try again in 6ms. Contact us through our help center at help.openai.com if you continue to have issues.. Retrying Question No. 8 Attempt:(1)\n",
      "Rate limit error: Rate limit reached for 10KTPM-200RPM in organization org-Y2tKyCPFO6tIjtCtOVZ7c9tr on tokens per min. Limit: 10000 / min. Please try again in 6ms. Contact us through our help center at help.openai.com if you continue to have issues.. Retrying Question No. 0 Attempt:(1)\n",
      "Rate limit error: Rate limit reached for 10KTPM-200RPM in organization org-Y2tKyCPFO6tIjtCtOVZ7c9tr on tokens per min. Limit: 10000 / min. Please try again in 6ms. Contact us through our help center at help.openai.com if you continue to have issues.. Retrying Question No. 1 Attempt:(1)\n",
      "Rate limit error: Rate limit reached for 10KTPM-200RPM in organization org-Y2tKyCPFO6tIjtCtOVZ7c9tr on tokens per min. Limit: 10000 / min. Please try again in 6ms. Contact us through our help center at help.openai.com if you continue to have issues.. Retrying Question No. 2 Attempt:(1)\n",
      "Rate limit error: Rate limit reached for 10KTPM-200RPM in organization org-Y2tKyCPFO6tIjtCtOVZ7c9tr on tokens per min. Limit: 10000 / min. Please try again in 6ms. Contact us through our help center at help.openai.com if you continue to have issues.. Retrying Question No. 3 Attempt:(1)\n",
      "Rate limit error: Rate limit reached for 10KTPM-200RPM in organization org-Y2tKyCPFO6tIjtCtOVZ7c9tr on tokens per min. Limit: 10000 / min. Please try again in 6ms. Contact us through our help center at help.openai.com if you continue to have issues.. Retrying Question No. 4 Attempt:(1)\n",
      "Rate limit error: Rate limit reached for 10KTPM-200RPM in organization org-Y2tKyCPFO6tIjtCtOVZ7c9tr on tokens per min. Limit: 10000 / min. Please try again in 6ms. Contact us through our help center at help.openai.com if you continue to have issues.. Retrying Question No. 5 Attempt:(1)\n",
      "Rate limit error: Rate limit reached for 10KTPM-200RPM in organization org-Y2tKyCPFO6tIjtCtOVZ7c9tr on tokens per min. Limit: 10000 / min. Please try again in 6ms. Contact us through our help center at help.openai.com if you continue to have issues.. Retrying Question No. 6 Attempt:(1)\n",
      "Rate limit error: Rate limit reached for 10KTPM-200RPM in organization org-Y2tKyCPFO6tIjtCtOVZ7c9tr on tokens per min. Limit: 10000 / min. Please try again in 6ms. Contact us through our help center at help.openai.com if you continue to have issues.. Retrying Question No. 7 Attempt:(1)\n",
      "Rate limit error: Rate limit reached for 10KTPM-200RPM in organization org-Y2tKyCPFO6tIjtCtOVZ7c9tr on tokens per min. Limit: 10000 / min. Please try again in 6ms. Contact us through our help center at help.openai.com if you continue to have issues.. Retrying Question No. 8 Attempt:(1)\n"
     ]
    },
    {
     "name": "stderr",
     "output_type": "stream",
     "text": [
      " 38%|███▊      | 41/107 [4:31:52<6:47:59, 370.91s/it]"
     ]
    },
    {
     "name": "stdout",
     "output_type": "stream",
     "text": [
      "Rate limit error: Rate limit reached for 10KTPM-200RPM in organization org-Y2tKyCPFO6tIjtCtOVZ7c9tr on tokens per min. Limit: 10000 / min. Please try again in 6ms. Contact us through our help center at help.openai.com if you continue to have issues.. Retrying Question No. 0 Attempt:(1)\n",
      "Rate limit error: Rate limit reached for 10KTPM-200RPM in organization org-Y2tKyCPFO6tIjtCtOVZ7c9tr on tokens per min. Limit: 10000 / min. Please try again in 6ms. Contact us through our help center at help.openai.com if you continue to have issues.. Retrying Question No. 1 Attempt:(1)\n",
      "Rate limit error: Rate limit reached for 10KTPM-200RPM in organization org-Y2tKyCPFO6tIjtCtOVZ7c9tr on tokens per min. Limit: 10000 / min. Please try again in 6ms. Contact us through our help center at help.openai.com if you continue to have issues.. Retrying Question No. 2 Attempt:(1)\n",
      "Rate limit error: Rate limit reached for 10KTPM-200RPM in organization org-Y2tKyCPFO6tIjtCtOVZ7c9tr on tokens per min. Limit: 10000 / min. Please try again in 6ms. Contact us through our help center at help.openai.com if you continue to have issues.. Retrying Question No. 3 Attempt:(1)\n",
      "Rate limit error: Rate limit reached for 10KTPM-200RPM in organization org-Y2tKyCPFO6tIjtCtOVZ7c9tr on tokens per min. Limit: 10000 / min. Please try again in 6ms. Contact us through our help center at help.openai.com if you continue to have issues.. Retrying Question No. 4 Attempt:(1)\n",
      "Rate limit error: Rate limit reached for 10KTPM-200RPM in organization org-Y2tKyCPFO6tIjtCtOVZ7c9tr on tokens per min. Limit: 10000 / min. Please try again in 6ms. Contact us through our help center at help.openai.com if you continue to have issues.. Retrying Question No. 5 Attempt:(1)\n",
      "Rate limit error: Rate limit reached for 10KTPM-200RPM in organization org-Y2tKyCPFO6tIjtCtOVZ7c9tr on tokens per min. Limit: 10000 / min. Please try again in 6ms. Contact us through our help center at help.openai.com if you continue to have issues.. Retrying Question No. 6 Attempt:(1)\n",
      "Rate limit error: Rate limit reached for 10KTPM-200RPM in organization org-Y2tKyCPFO6tIjtCtOVZ7c9tr on tokens per min. Limit: 10000 / min. Please try again in 6ms. Contact us through our help center at help.openai.com if you continue to have issues.. Retrying Question No. 7 Attempt:(1)\n",
      "Rate limit error: Rate limit reached for 10KTPM-200RPM in organization org-Y2tKyCPFO6tIjtCtOVZ7c9tr on tokens per min. Limit: 10000 / min. Please try again in 6ms. Contact us through our help center at help.openai.com if you continue to have issues.. Retrying Question No. 8 Attempt:(1)\n"
     ]
    },
    {
     "name": "stderr",
     "output_type": "stream",
     "text": [
      " 39%|███▉      | 42/107 [4:36:34<6:13:06, 344.41s/it]"
     ]
    },
    {
     "name": "stdout",
     "output_type": "stream",
     "text": [
      "Rate limit error: Rate limit reached for 10KTPM-200RPM in organization org-Y2tKyCPFO6tIjtCtOVZ7c9tr on tokens per min. Limit: 10000 / min. Please try again in 6ms. Contact us through our help center at help.openai.com if you continue to have issues.. Retrying Question No. 0 Attempt:(1)\n",
      "Rate limit error: Rate limit reached for 10KTPM-200RPM in organization org-Y2tKyCPFO6tIjtCtOVZ7c9tr on tokens per min. Limit: 10000 / min. Please try again in 6ms. Contact us through our help center at help.openai.com if you continue to have issues.. Retrying Question No. 1 Attempt:(1)\n",
      "Rate limit error: Rate limit reached for 10KTPM-200RPM in organization org-Y2tKyCPFO6tIjtCtOVZ7c9tr on tokens per min. Limit: 10000 / min. Please try again in 6ms. Contact us through our help center at help.openai.com if you continue to have issues.. Retrying Question No. 2 Attempt:(1)\n",
      "Rate limit error: Rate limit reached for 10KTPM-200RPM in organization org-Y2tKyCPFO6tIjtCtOVZ7c9tr on tokens per min. Limit: 10000 / min. Please try again in 6ms. Contact us through our help center at help.openai.com if you continue to have issues.. Retrying Question No. 3 Attempt:(1)\n",
      "Rate limit error: Rate limit reached for 10KTPM-200RPM in organization org-Y2tKyCPFO6tIjtCtOVZ7c9tr on tokens per min. Limit: 10000 / min. Please try again in 6ms. Contact us through our help center at help.openai.com if you continue to have issues.. Retrying Question No. 4 Attempt:(1)\n",
      "Rate limit error: Rate limit reached for 10KTPM-200RPM in organization org-Y2tKyCPFO6tIjtCtOVZ7c9tr on tokens per min. Limit: 10000 / min. Please try again in 6ms. Contact us through our help center at help.openai.com if you continue to have issues.. Retrying Question No. 4 Attempt:(2)\n",
      "Rate limit error: Rate limit reached for 10KTPM-200RPM in organization org-Y2tKyCPFO6tIjtCtOVZ7c9tr on tokens per min. Limit: 10000 / min. Please try again in 6ms. Contact us through our help center at help.openai.com if you continue to have issues.. Retrying Question No. 5 Attempt:(1)\n",
      "Rate limit error: Rate limit reached for 10KTPM-200RPM in organization org-Y2tKyCPFO6tIjtCtOVZ7c9tr on tokens per min. Limit: 10000 / min. Please try again in 6ms. Contact us through our help center at help.openai.com if you continue to have issues.. Retrying Question No. 6 Attempt:(1)\n"
     ]
    }
   ],
   "source": [
    "evaluator = OpenAIChatEvaluator(api_key_path=api_key_path,\n",
    "                                json_file_path=json_path, \n",
    "                                keys_to_consider=keys_to_consider,\n",
    "                                question_type=article_type,\n",
    "                                question=question,\n",
    "                                test_mode=test_mode,\n",
    "                                model_choice=\"gpt4\")\n",
    "answers = evaluator.evaluate_all_files()\n",
    "evaluator.save_to_json(answers)"
   ]
  },
  {
   "cell_type": "markdown",
   "metadata": {},
   "source": [
    "04 - Convert results to a CSV"
   ]
  },
  {
   "cell_type": "code",
   "execution_count": null,
   "metadata": {},
   "outputs": [],
   "source": [
    "import numpy as np\n",
    "\n",
    "#Map responses to data\n",
    "# Define a dictionary to map keywords in order or priority to values\n",
    "keyword_mapping = {\n",
    "    0: [\"poor\", \"bad\", \"negative\", \"n\", \"no\"],\n",
    "    1: [\"good\", \"excellent\", \"positive\", \"y\", \"yes\"]\n",
    "}\n"
   ]
  },
  {
   "cell_type": "code",
   "execution_count": null,
   "metadata": {},
   "outputs": [],
   "source": [
    "json_path = r'/Users/cu135/Library/CloudStorage/OneDrive-Personal/OneDrive_Documents/Work/Software/Research/nimlab/gpt_document_reader/amnesia_cases/ocr/keyword_matching_labeled_text/text_evaluations/research_evaluations.json'"
   ]
  },
  {
   "cell_type": "code",
   "execution_count": null,
   "metadata": {},
   "outputs": [],
   "source": [
    "from calvin_utils.gpt_sys_review.json_utils import CustomSummarizer\n",
    "\n",
    "# Create an instance of CustomSummarizer\n",
    "custom_summarizer = CustomSummarizer(json_path=json_path, keyword_mapping=keyword_mapping)\n",
    "\n",
    "# Run the custom summarization and save the results to CSV\n",
    "result_df = custom_summarizer.run_custom()\n",
    "\n",
    "# Display the resulting DataFrame\n",
    "print(result_df)"
   ]
  },
  {
   "cell_type": "code",
   "execution_count": null,
   "metadata": {},
   "outputs": [],
   "source": []
  }
 ],
 "metadata": {
  "kernelspec": {
   "display_name": "nimlab_py310",
   "language": "python",
   "name": "python3"
  },
  "language_info": {
   "codemirror_mode": {
    "name": "ipython",
    "version": 3
   },
   "file_extension": ".py",
   "mimetype": "text/x-python",
   "name": "python",
   "nbconvert_exporter": "python",
   "pygments_lexer": "ipython3",
   "version": "3.10.8"
  },
  "orig_nbformat": 4
 },
 "nbformat": 4,
 "nbformat_minor": 2
}
