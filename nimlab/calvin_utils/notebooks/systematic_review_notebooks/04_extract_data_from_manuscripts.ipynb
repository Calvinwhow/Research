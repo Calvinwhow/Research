{
 "cells": [
  {
   "cell_type": "markdown",
   "metadata": {},
   "source": [
    "01 - Generate JSON from Post-Inclusion/Exclusion CSV\n",
    "- Enter path to CSV which has successful articles in the index column\n",
    "- Enter path to JSON which has the articles with labeled sections"
   ]
  },
  {
   "cell_type": "code",
   "execution_count": 1,
   "metadata": {},
   "outputs": [],
   "source": [
    "csv_path = \"/Users/cu135/Library/CloudStorage/OneDrive-Personal/OneDrive_Documents/Work/Software/Research/nimlab/gpt_document_reader/cognitive_examinations/research_extractions/inclusion_exclusion_results/raw_results.csv\"\n",
    "json_path = \"/Users/cu135/Library/CloudStorage/OneDrive-Personal/OneDrive_Documents/Work/Software/Research/nimlab/gpt_document_reader/cognitive_examinations/labeled_text/research_labeled_sections.json\""
   ]
  },
  {
   "cell_type": "code",
   "execution_count": 2,
   "metadata": {},
   "outputs": [
    {
     "name": "stderr",
     "output_type": "stream",
     "text": [
      "/Users/cu135/.local/lib/python3.10/site-packages/fuzzywuzzy/fuzz.py:11: UserWarning: Using slow pure-python SequenceMatcher. Install python-Levenshtein to remove this warning\n",
      "  warnings.warn('Using slow pure-python SequenceMatcher. Install python-Levenshtein to remove this warning')\n"
     ]
    }
   ],
   "source": [
    "from calvin_utils.gpt_sys_review.json_utils import FilterPapers\n",
    "\n",
    "# Initialize and run the FilterPapers class\n",
    "filter_papers = FilterPapers(csv_path=csv_path, json_path=json_path)\n",
    "filter_papers.run()"
   ]
  },
  {
   "cell_type": "markdown",
   "metadata": {},
   "source": [
    "02 - Prepare Data Extraction Questions\n",
    "- Dev Note: This is a repeat class and should be inherited from a .py"
   ]
  },
  {
   "cell_type": "code",
   "execution_count": 3,
   "metadata": {},
   "outputs": [
    {
     "name": "stdout",
     "output_type": "stream",
     "text": [
      "Here are example data extraction questions:\n",
      "{\n",
      "    \"Does the patient(s) represent(s) the whole experience of the investigator (center) or is the selection method unclear to the extent that other patients with similar presentation may not have been reported? (Good/Bad/Unclear)\": \"representative_case_quality\",\n",
      "    \"Was patient\\u2019s causal exposure clearly described? (Good/Bad/Unclear)\": \"causality_quality\",\n",
      "    \"Were diagnostic tests or assessment methods and the results clearly described (amnesia tests)? (Good/Bad/Unclear)\": \"phenotyping_quality\",\n",
      "    \"Were other alternative causes that may explain the observation (amnesia) ruled out? (Good/Bad/Unclear)\": \"workup_quality\",\n",
      "    \"Were patient\\u2019s demographics, medical history, comobidities clearly described? (Good/Bad/Unclear)\": \"clinical_covariates_quality\",\n",
      "    \"Were patient\\u2019s symptoms, interventions, and clinical outcomes clearly presented as a timeline? (Good/Bad/Unclear)\": \"history_quality\",\n",
      "    \"Was the lesion image taken around the time of observation (amnesia) assessment? (Good/Bad/Unclear)\": \"temporal_causality_quality\",\n",
      "    \"Is the case(s) described with sufficient details to allow other investigators to replicate the research or to allow practitioners make inferences related to their own practice? (Good/Bad/Unclear)\": \"history_quality_2\"\n",
      "}\n",
      "Here are some more generalizable data extraction questions:\n",
      "{\n",
      "    \"How affected is this study by selection bias? Little (Good). Very (Bad). Unsure (Unclear).\": \"selection_bias\",\n",
      "    \"How well was the timeline of lesion/symptom onset described? (Good/Bad/Unclear)\": \"exposure\",\n",
      "    \"How affected is this case by attribution error? Little (Good). Very (Bad). Unsure (Unclear).\": \"outcome\",\n",
      "    \"How reasonable is the attribution of the lesion/diagnosis to the symptom? (Good/Bad/Unclear)\": \"attribution_error\",\n",
      "    \"How well was the patients baseline pre-lesion described? (Good/Bad/Unclear)\": \"pre_event_assessment\",\n",
      "    \"How well was the patients outcome post-lesion described? (Good/Bad/Unclear)\": \"post_event_assessment\",\n",
      "    \"Do you think the neuroimaging was taken within temporal proximity to the lesion? Days-weeks (Good). Months-years (Bad). Unsure (Unclear).\": \"lesion_related-images\",\n",
      "    \"Do you think another practitioner would come to the same conclusion (diagnosis/attribution) that this group did? (Good/Bad/Unclear)\": \"replicability\",\n",
      "    \"How is the quality of this case overall? (Good/Bad/Unclear)\": \"overall_appraisal\"\n",
      "}\n",
      "Here is a question template\n",
      "{\n",
      "    \" ? (metric/metric/metric)\": \"question_label\"\n",
      "}\n"
     ]
    }
   ],
   "source": [
    "from calvin_utils.gpt_sys_review.gpt_utils import QuestionTemplate\n",
    "\n",
    "question_template = QuestionTemplate()\n",
    "question_template.data_extraction_questions()"
   ]
  },
  {
   "cell_type": "markdown",
   "metadata": {},
   "source": [
    "Copy the Template Dict from Above and Fill it Out As per the Example"
   ]
  },
  {
   "cell_type": "code",
   "execution_count": 4,
   "metadata": {},
   "outputs": [],
   "source": [
    "question = {\n",
    "    \"Is this test developed to be taken anywhere (Y), or in the clinic (N)?\": \"remote\",\n",
    "    \"What cognitive domains does the developed program assess? Domains are: Language | Memory | Executive | Visuospatial | Fluency.\": \"cognitive_domains\",\n",
    "    \"How is the test administered? Options are: Web application, tablet, phone, or other.\": \"administration_modality\",\n",
    "    \"Name the statistical/machine learning techniques employed.\": \"ml_techniques\",\n",
    "    \"What are the critical results of the study? (AUC, sensitivty, specificty, correlation, etc).\": \"results\",\n",
    "    \"What is the patient population (Sample size, disease states, cognitive status, age, ethnicity).\": \"patient_population\",\n",
    "}"
   ]
  },
  {
   "cell_type": "markdown",
   "metadata": {},
   "source": [
    "03 - Extract Data with GPT\n"
   ]
  },
  {
   "cell_type": "code",
   "execution_count": 5,
   "metadata": {},
   "outputs": [],
   "source": [
    "# Define file paths\n",
    "api_key_path = \"/Users/cu135/Library/CloudStorage/OneDrive-Personal/OneDrive_Documents/Work/Software/Research/nimlab/openai_key.txt\"\n",
    "\n",
    "# Define the keys you want to consider (exclude 'References')\n",
    "keys_to_consider = [\"Abstract\", \"Methods\", \"Results\"]  # Add or remove keys as per your requirement\n",
    "\n",
    "# Define the type of article and questions\n",
    "article_type = \"research\""
   ]
  },
  {
   "cell_type": "code",
   "execution_count": 6,
   "metadata": {},
   "outputs": [],
   "source": [
    "from calvin_utils.gpt_sys_review.gpt_utils import OpenAIChatEvaluator"
   ]
  },
  {
   "cell_type": "code",
   "execution_count": 7,
   "metadata": {},
   "outputs": [],
   "source": [
    "test_mode=False"
   ]
  },
  {
   "cell_type": "code",
   "execution_count": 8,
   "metadata": {},
   "outputs": [
    {
     "name": "stderr",
     "output_type": "stream",
     "text": [
      "  6%|▌         | 3/49 [01:03<17:31, 22.87s/it]"
     ]
    },
    {
     "name": "stdout",
     "output_type": "stream",
     "text": [
      "Rate limit error: Rate limit reached for default-gpt-3.5-turbo-16k in organization org-Y2tKyCPFO6tIjtCtOVZ7c9tr on tokens per min. Limit: 180000 / min. Current: 173758 / min. Contact us through our help center at help.openai.com if you continue to have issues.. Retrying Question No. 1 Attempt:(1)\n"
     ]
    },
    {
     "name": "stderr",
     "output_type": "stream",
     "text": [
      " 10%|█         | 5/49 [02:24<22:40, 30.92s/it]"
     ]
    },
    {
     "name": "stdout",
     "output_type": "stream",
     "text": [
      "Rate limit error: Rate limit reached for default-gpt-3.5-turbo-16k in organization org-Y2tKyCPFO6tIjtCtOVZ7c9tr on tokens per min. Limit: 180000 / min. Current: 168691 / min. Contact us through our help center at help.openai.com if you continue to have issues.. Retrying Question No. 0 Attempt:(1)\n"
     ]
    },
    {
     "name": "stderr",
     "output_type": "stream",
     "text": [
      " 12%|█▏        | 6/49 [03:03<24:19, 33.95s/it]"
     ]
    },
    {
     "name": "stdout",
     "output_type": "stream",
     "text": [
      "Rate limit error: Rate limit reached for default-gpt-3.5-turbo-16k in organization org-Y2tKyCPFO6tIjtCtOVZ7c9tr on tokens per min. Limit: 180000 / min. Current: 170162 / min. Contact us through our help center at help.openai.com if you continue to have issues.. Retrying Question No. 0 Attempt:(1)\n"
     ]
    },
    {
     "name": "stderr",
     "output_type": "stream",
     "text": [
      " 16%|█▋        | 8/49 [04:18<23:00, 33.68s/it]"
     ]
    },
    {
     "name": "stdout",
     "output_type": "stream",
     "text": [
      "Rate limit error: Rate limit reached for default-gpt-3.5-turbo-16k in organization org-Y2tKyCPFO6tIjtCtOVZ7c9tr on tokens per min. Limit: 180000 / min. Current: 174634 / min. Contact us through our help center at help.openai.com if you continue to have issues.. Retrying Question No. 2 Attempt:(1)\n"
     ]
    },
    {
     "name": "stderr",
     "output_type": "stream",
     "text": [
      " 20%|██        | 10/49 [05:28<20:43, 31.89s/it]"
     ]
    },
    {
     "name": "stdout",
     "output_type": "stream",
     "text": [
      "Rate limit error: Rate limit reached for default-gpt-3.5-turbo-16k in organization org-Y2tKyCPFO6tIjtCtOVZ7c9tr on tokens per min. Limit: 180000 / min. Current: 169772 / min. Contact us through our help center at help.openai.com if you continue to have issues.. Retrying Question No. 3 Attempt:(1)\n"
     ]
    },
    {
     "name": "stderr",
     "output_type": "stream",
     "text": [
      " 27%|██▋       | 13/49 [06:49<15:15, 25.44s/it]"
     ]
    },
    {
     "name": "stdout",
     "output_type": "stream",
     "text": [
      "Rate limit error: Rate limit reached for default-gpt-3.5-turbo-16k in organization org-Y2tKyCPFO6tIjtCtOVZ7c9tr on tokens per min. Limit: 180000 / min. Current: 172527 / min. Contact us through our help center at help.openai.com if you continue to have issues.. Retrying Question No. 1 Attempt:(1)\n"
     ]
    },
    {
     "name": "stderr",
     "output_type": "stream",
     "text": [
      " 31%|███       | 15/49 [07:46<14:35, 25.76s/it]"
     ]
    },
    {
     "name": "stdout",
     "output_type": "stream",
     "text": [
      "Rate limit error: Rate limit reached for default-gpt-3.5-turbo-16k in organization org-Y2tKyCPFO6tIjtCtOVZ7c9tr on tokens per min. Limit: 180000 / min. Current: 172524 / min. Contact us through our help center at help.openai.com if you continue to have issues.. Retrying Question No. 5 Attempt:(1)\n"
     ]
    },
    {
     "name": "stderr",
     "output_type": "stream",
     "text": [
      " 33%|███▎      | 16/49 [08:44<19:28, 35.40s/it]"
     ]
    },
    {
     "name": "stdout",
     "output_type": "stream",
     "text": [
      "Rate limit error: Rate limit reached for default-gpt-3.5-turbo-16k in organization org-Y2tKyCPFO6tIjtCtOVZ7c9tr on tokens per min. Limit: 180000 / min. Current: 168867 / min. Contact us through our help center at help.openai.com if you continue to have issues.. Retrying Question No. 2 Attempt:(1)\n"
     ]
    },
    {
     "name": "stderr",
     "output_type": "stream",
     "text": [
      " 41%|████      | 20/49 [10:22<11:15, 23.30s/it]"
     ]
    },
    {
     "name": "stdout",
     "output_type": "stream",
     "text": [
      "Rate limit error: Rate limit reached for default-gpt-3.5-turbo-16k in organization org-Y2tKyCPFO6tIjtCtOVZ7c9tr on tokens per min. Limit: 180000 / min. Current: 173439 / min. Contact us through our help center at help.openai.com if you continue to have issues.. Retrying Question No. 3 Attempt:(1)\n"
     ]
    },
    {
     "name": "stderr",
     "output_type": "stream",
     "text": [
      " 47%|████▋     | 23/49 [11:27<08:30, 19.64s/it]"
     ]
    },
    {
     "name": "stdout",
     "output_type": "stream",
     "text": [
      "Rate limit error: Rate limit reached for default-gpt-3.5-turbo-16k in organization org-Y2tKyCPFO6tIjtCtOVZ7c9tr on tokens per min. Limit: 180000 / min. Current: 172960 / min. Contact us through our help center at help.openai.com if you continue to have issues.. Retrying Question No. 3 Attempt:(1)\n"
     ]
    },
    {
     "name": "stderr",
     "output_type": "stream",
     "text": [
      " 49%|████▉     | 24/49 [12:07<10:38, 25.54s/it]"
     ]
    },
    {
     "name": "stdout",
     "output_type": "stream",
     "text": [
      "Rate limit error: Rate limit reached for default-gpt-3.5-turbo-16k in organization org-Y2tKyCPFO6tIjtCtOVZ7c9tr on tokens per min. Limit: 180000 / min. Current: 171024 / min. Contact us through our help center at help.openai.com if you continue to have issues.. Retrying Question No. 5 Attempt:(1)\n"
     ]
    },
    {
     "name": "stderr",
     "output_type": "stream",
     "text": [
      " 55%|█████▌    | 27/49 [13:28<08:20, 22.76s/it]"
     ]
    },
    {
     "name": "stdout",
     "output_type": "stream",
     "text": [
      "Rate limit error: Rate limit reached for default-gpt-3.5-turbo-16k in organization org-Y2tKyCPFO6tIjtCtOVZ7c9tr on tokens per min. Limit: 180000 / min. Current: 173342 / min. Contact us through our help center at help.openai.com if you continue to have issues.. Retrying Question No. 3 Attempt:(1)\n"
     ]
    },
    {
     "name": "stderr",
     "output_type": "stream",
     "text": [
      " 57%|█████▋    | 28/49 [14:28<11:53, 33.99s/it]"
     ]
    },
    {
     "name": "stdout",
     "output_type": "stream",
     "text": [
      "Rate limit error: Rate limit reached for default-gpt-3.5-turbo-16k in organization org-Y2tKyCPFO6tIjtCtOVZ7c9tr on tokens per min. Limit: 180000 / min. Current: 169701 / min. Contact us through our help center at help.openai.com if you continue to have issues.. Retrying Question No. 5 Attempt:(1)\n"
     ]
    },
    {
     "name": "stderr",
     "output_type": "stream",
     "text": [
      " 59%|█████▉    | 29/49 [15:31<14:15, 42.77s/it]"
     ]
    },
    {
     "name": "stdout",
     "output_type": "stream",
     "text": [
      "Rate limit error: Rate limit reached for default-gpt-3.5-turbo-16k in organization org-Y2tKyCPFO6tIjtCtOVZ7c9tr on tokens per min. Limit: 180000 / min. Current: 169214 / min. Contact us through our help center at help.openai.com if you continue to have issues.. Retrying Question No. 2 Attempt:(1)\n"
     ]
    },
    {
     "name": "stderr",
     "output_type": "stream",
     "text": [
      " 61%|██████    | 30/49 [16:20<14:05, 44.51s/it]"
     ]
    },
    {
     "name": "stdout",
     "output_type": "stream",
     "text": [
      "Rate limit error: Rate limit reached for default-gpt-3.5-turbo-16k in organization org-Y2tKyCPFO6tIjtCtOVZ7c9tr on tokens per min. Limit: 180000 / min. Current: 175539 / min. Contact us through our help center at help.openai.com if you continue to have issues.. Retrying Question No. 5 Attempt:(1)\n"
     ]
    },
    {
     "name": "stderr",
     "output_type": "stream",
     "text": [
      " 67%|██████▋   | 33/49 [17:48<08:26, 31.66s/it]"
     ]
    },
    {
     "name": "stdout",
     "output_type": "stream",
     "text": [
      "Rate limit error: Rate limit reached for default-gpt-3.5-turbo-16k in organization org-Y2tKyCPFO6tIjtCtOVZ7c9tr on tokens per min. Limit: 180000 / min. Current: 172193 / min. Contact us through our help center at help.openai.com if you continue to have issues.. Retrying Question No. 1 Attempt:(1)\n"
     ]
    },
    {
     "name": "stderr",
     "output_type": "stream",
     "text": [
      " 73%|███████▎  | 36/49 [19:20<06:20, 29.28s/it]"
     ]
    },
    {
     "name": "stdout",
     "output_type": "stream",
     "text": [
      "Rate limit error: Rate limit reached for default-gpt-3.5-turbo-16k in organization org-Y2tKyCPFO6tIjtCtOVZ7c9tr on tokens per min. Limit: 180000 / min. Current: 173674 / min. Contact us through our help center at help.openai.com if you continue to have issues.. Retrying Question No. 0 Attempt:(1)\n"
     ]
    },
    {
     "name": "stderr",
     "output_type": "stream",
     "text": [
      " 76%|███████▌  | 37/49 [20:07<06:54, 34.54s/it]"
     ]
    },
    {
     "name": "stdout",
     "output_type": "stream",
     "text": [
      "Rate limit error: Rate limit reached for default-gpt-3.5-turbo-16k in organization org-Y2tKyCPFO6tIjtCtOVZ7c9tr on tokens per min. Limit: 180000 / min. Current: 171832 / min. Contact us through our help center at help.openai.com if you continue to have issues.. Retrying Question No. 3 Attempt:(1)\n"
     ]
    },
    {
     "name": "stderr",
     "output_type": "stream",
     "text": [
      " 82%|████████▏ | 40/49 [21:26<03:55, 26.15s/it]"
     ]
    },
    {
     "name": "stdout",
     "output_type": "stream",
     "text": [
      "Rate limit error: Rate limit reached for default-gpt-3.5-turbo-16k in organization org-Y2tKyCPFO6tIjtCtOVZ7c9tr on tokens per min. Limit: 180000 / min. Current: 172650 / min. Contact us through our help center at help.openai.com if you continue to have issues.. Retrying Question No. 3 Attempt:(1)\n"
     ]
    },
    {
     "name": "stderr",
     "output_type": "stream",
     "text": [
      " 84%|████████▎ | 41/49 [22:13<04:19, 32.47s/it]"
     ]
    },
    {
     "name": "stdout",
     "output_type": "stream",
     "text": [
      "Rate limit error: Rate limit reached for default-gpt-3.5-turbo-16k in organization org-Y2tKyCPFO6tIjtCtOVZ7c9tr on tokens per min. Limit: 180000 / min. Current: 175560 / min. Contact us through our help center at help.openai.com if you continue to have issues.. Retrying Question No. 4 Attempt:(1)\n"
     ]
    },
    {
     "name": "stderr",
     "output_type": "stream",
     "text": [
      " 88%|████████▊ | 43/49 [23:35<03:29, 34.89s/it]"
     ]
    },
    {
     "name": "stdout",
     "output_type": "stream",
     "text": [
      "Rate limit error: Rate limit reached for default-gpt-3.5-turbo-16k in organization org-Y2tKyCPFO6tIjtCtOVZ7c9tr on tokens per min. Limit: 180000 / min. Current: 173398 / min. Contact us through our help center at help.openai.com if you continue to have issues.. Retrying Question No. 3 Attempt:(1)\n"
     ]
    },
    {
     "name": "stderr",
     "output_type": "stream",
     "text": [
      " 90%|████████▉ | 44/49 [24:15<03:02, 36.41s/it]"
     ]
    },
    {
     "name": "stdout",
     "output_type": "stream",
     "text": [
      "Rate limit error: Rate limit reached for default-gpt-3.5-turbo-16k in organization org-Y2tKyCPFO6tIjtCtOVZ7c9tr on tokens per min. Limit: 180000 / min. Current: 174264 / min. Contact us through our help center at help.openai.com if you continue to have issues.. Retrying Question No. 2 Attempt:(1)\n"
     ]
    },
    {
     "name": "stderr",
     "output_type": "stream",
     "text": [
      " 94%|█████████▍| 46/49 [25:37<01:51, 37.04s/it]"
     ]
    },
    {
     "name": "stdout",
     "output_type": "stream",
     "text": [
      "Rate limit error: Rate limit reached for default-gpt-3.5-turbo-16k in organization org-Y2tKyCPFO6tIjtCtOVZ7c9tr on tokens per min. Limit: 180000 / min. Current: 172269 / min. Contact us through our help center at help.openai.com if you continue to have issues.. Retrying Question No. 3 Attempt:(1)\n"
     ]
    },
    {
     "name": "stderr",
     "output_type": "stream",
     "text": [
      " 98%|█████████▊| 48/49 [26:34<00:30, 30.70s/it]"
     ]
    },
    {
     "name": "stdout",
     "output_type": "stream",
     "text": [
      "Rate limit error: Rate limit reached for default-gpt-3.5-turbo-16k in organization org-Y2tKyCPFO6tIjtCtOVZ7c9tr on tokens per min. Limit: 180000 / min. Current: 173079 / min. Contact us through our help center at help.openai.com if you continue to have issues.. Retrying Question No. 3 Attempt:(1)\n"
     ]
    },
    {
     "name": "stderr",
     "output_type": "stream",
     "text": [
      "100%|██████████| 49/49 [27:31<00:00, 33.70s/it]"
     ]
    },
    {
     "name": "stdout",
     "output_type": "stream",
     "text": [
      "Saved to: /Users/cu135/Library/CloudStorage/OneDrive-Personal/OneDrive_Documents/Work/Software/Research/nimlab/gpt_document_reader/cognitive_examinations/labeled_text/../research_extractions/research_evaluations.json\n"
     ]
    },
    {
     "name": "stderr",
     "output_type": "stream",
     "text": [
      "\n"
     ]
    },
    {
     "data": {
      "text/plain": [
       "'/Users/cu135/Library/CloudStorage/OneDrive-Personal/OneDrive_Documents/Work/Software/Research/nimlab/gpt_document_reader/cognitive_examinations/labeled_text/../research_extractions/research_evaluations.json'"
      ]
     },
     "execution_count": 8,
     "metadata": {},
     "output_type": "execute_result"
    }
   ],
   "source": [
    "evaluator = OpenAIChatEvaluator(api_key_path=api_key_path,\n",
    "                                json_file_path=json_path, \n",
    "                                keys_to_consider=keys_to_consider,\n",
    "                                question_type=article_type,\n",
    "                                question=question,\n",
    "                                test_mode=test_mode,\n",
    "                                model_choice=\"gpt3_large\")\n",
    "answers = evaluator.evaluate_all_files()\n",
    "evaluator.save_to_json(answers)"
   ]
  },
  {
   "cell_type": "markdown",
   "metadata": {},
   "source": [
    "04 - Convert results to a CSV"
   ]
  },
  {
   "cell_type": "code",
   "execution_count": 4,
   "metadata": {},
   "outputs": [],
   "source": [
    "import numpy as np\n",
    "\n",
    "#Map responses to data\n",
    "# Define a dictionary to map keywords in order or priority to values\n",
    "keyword_mapping = None\n",
    "# {\n",
    "#     0: [\"poor\", \"bad\", \"negative\", \"n\", \"no\"],\n",
    "#     1: [\"good\", \"excellent\", \"positive\", \"y\", \"yes\"]\n",
    "# }\n"
   ]
  },
  {
   "cell_type": "code",
   "execution_count": 5,
   "metadata": {},
   "outputs": [],
   "source": [
    "json_path = r'/Users/cu135/Library/CloudStorage/OneDrive-Personal/OneDrive_Documents/Work/Software/Research/nimlab/gpt_document_reader/cognitive_examinations/research_extractions/research_evaluations.json'"
   ]
  },
  {
   "cell_type": "code",
   "execution_count": 6,
   "metadata": {},
   "outputs": [
    {
     "name": "stdout",
     "output_type": "stream",
     "text": [
      "                                                   Is this test developed to be taken anywhere (Y), or in the clinic (N)?  \\\n",
      "Initial validation of a web-based self-administ...  (Yes. The test is developed to be taken anywhe...                       \n",
      "Diagnostic Performance of a Tablet Computer-Bas...  (Based on the provided research report, it is ...                       \n",
      "Examining 3-month test-retest reliability and r...  (Based on the information provided in the rese...                       \n",
      "Optimizing cCOG, a Web-based tool, to detect de...  (Based on the information provided in the rese...                       \n",
      "A Rapid, Mobile Neurocognitive Screening Test t...  (Based on the information provided, the BrainC...                       \n",
      "Computer Assessment of Mild Cognitive Impairmen...  (Based on the information provided in the rese...                       \n",
      "Development of a self-administered web-based te...  (Based on the information provided in the rese...                       \n",
      "Reliability and validity of the Automatic Cogni...  (Based on the information provided, the test i...                       \n",
      "Remote assessment of cognitive dysfunction in h...  (Based on the information provided in the rese...                       \n",
      "Fully automated cognitive screening tool based ...  (Based on the information provided in the rese...                       \n",
      "Validation of the automated neuropsychological ...  (The [RESEARCH REPORT] does not explicitly sta...                       \n",
      "Validity of a brief computerized cognitive scre...  (Based on the information provided, it can be ...                       \n",
      "Psychometric comparison of standard and compute...  (Based on the information provided, it is not ...                       \n",
      "The validity and reliability of a Computerized ...  (Based on the information provided in the rese...                       \n",
      "A Novel Computerized Cognitive Stress Test to D...  (Yes, the test is developed to be taken anywhe...                       \n",
      "Development and Validation of a Web-Based Scree...  (Based on the information provided, it appears...                       \n",
      "Validity of the MemTrax Memory Test Compared to...  (Based on the information provided in the rese...                       \n",
      "Test–retest reliability of RC21X a web-based co...  (Based on the information provided in the rese...                       \n",
      "cCOGAweb-basedcognitivetesttoolfordetectingneur...  (Based on the information provided, the cCOG t...                       \n",
      "Examination of the accuracy of Cogniciti’s self...  (This test is developed to be taken anywhere, ...                       \n",
      "Tablet-Based Assessment of Cognitive Function A...  (Based on the information provided in the rese...                       \n",
      "A highly feasible, reliable, and fully remote p...  (Based on the information in the research repo...                       \n",
      "Development and validity of the Computer‐Based ...  (Based on the information provided in the rese...                       \n",
      "C-TOC (Cognitive Testing on Computer)_Investiga...  (Based on the information in the research repo...                       \n",
      "Novel computerized neurocognitive test battery ...  (Yes, according to the report, the Enformia Co...                       \n",
      "Comparison of an Electronic and Paper-based Mon...  (Based on the information provided in the rese...                       \n",
      "A Comparison of Electronic and Paper Versions o...  (Based on the information provided, this test ...                       \n",
      "A massive dataset of the NeuroCognitive Perform...  (Based on the information provided in the rese...                       \n",
      "Computerized Block Games for Automated Cognitiv...  (Based on the information provided in the rese...                       \n",
      "Touchscreen tablet-based cognitive assessment v...  (Based on the information provided in the rese...                       \n",
      "A novel computer adaptive word list memory test...  (Y, Yes, the test developed in the research re...                       \n",
      "A Self-Administered Computerized Test for Scree...  (Based on the information provided in the rese...                       \n",
      "Accuracy of the SWAY Mobile Cognitive Assessmen...  (Based on the information provided, the SWAY C...                       \n",
      "Reliability and validity of the NeuroCognitive ...  (Yes, the test is developed to be taken remote...                       \n",
      "A Validity Measure for the Automated Neuropsych...  (Based on the information provided, it is not ...                       \n",
      "Introducing the tablet-based Oxford Cognitive S...  (Based on the information provided in the rese...                       \n",
      "Validation_of_the_Computerized_Cognitive_Assess...  (This test is developed to be taken anywhere (...                       \n",
      "A Computerized Cognitive Test Battery for Detec...  (The test mentioned in the research report, Br...                       \n",
      "contributions-of-the-computer-administered-neur...  (Based on the information provided in the rese...                       \n",
      "A comparison of the Cambridge Automated Neurops...  (Based on the information provided, it is uncl...                       \n",
      "Computerized Neurocognitive Scanning I. Methodo...  (Based on the information provided, it is uncl...                       \n",
      "Validation of SATURN, a free, electronic, self-...  (Based on the information provided in the rese...                       \n",
      "Test–Retest Reliability and Reliable Change Est...  (Yes, the test is developed to be taken anywhe...                       \n",
      "Asynchronous Remote Assessment for Cognitive Im...                                               (Y,)                       \n",
      "Validity of a Novel Touch Screen Tablet-Based A...  (The research report does not explicitly state...                       \n",
      "A Validation Study of the Inbrain CST a Tablet ...  (Based on the information provided in the rese...                       \n",
      "Tele-Global Examination of Mental State (Tele-G...  (Based on the information provided, the Tele-G...                       \n",
      "Validity of the Web-Based, Self-Directed, Neuro...  (The test is developed to be taken in a clinic...                       \n",
      "Validation of a mobile game-based assessment of...  (Y. The mobile game application (CoCon) used i...                       \n",
      "\n",
      "                                                   What cognitive domains does the developed program assess? Domains are: Language | Memory | Executive | Visuospatial | Fluency.  \\\n",
      "Initial validation of a web-based self-administ...  (Based on the information provided in the rese...                                                                               \n",
      "Diagnostic Performance of a Tablet Computer-Bas...  (Based on the provided research report, there ...                                                                               \n",
      "Examining 3-month test-retest reliability and r...  (Based on the information provided in the rese...                                                                               \n",
      "Optimizing cCOG, a Web-based tool, to detect de...  (Based on the information provided in the rese...                                                                               \n",
      "A Rapid, Mobile Neurocognitive Screening Test t...  (Based on the information provided in the rese...                                                                               \n",
      "Computer Assessment of Mild Cognitive Impairmen...  (Based on the information provided in the rese...                                                                               \n",
      "Development of a self-administered web-based te...  (Based on the information provided in the rese...                                                                               \n",
      "Reliability and validity of the Automatic Cogni...  (Based on the information provided in the rese...                                                                               \n",
      "Remote assessment of cognitive dysfunction in h...  (Based on the information provided in the rese...                                                                               \n",
      "Fully automated cognitive screening tool based ...  (Based on the information provided in the rese...                                                                               \n",
      "Validation of the automated neuropsychological ...  (Based on the information provided in the rese...                                                                               \n",
      "Validity of a brief computerized cognitive scre...  (Based on the information provided in the rese...                                                                               \n",
      "Psychometric comparison of standard and compute...  (The developed program assesses the following ...                                                                               \n",
      "The validity and reliability of a Computerized ...  (Based on the information provided in the rese...                                                                               \n",
      "A Novel Computerized Cognitive Stress Test to D...  (Based on the information provided in the rese...                                                                               \n",
      "Development and Validation of a Web-Based Scree...  (Based on the information provided in the rese...                                                                               \n",
      "Validity of the MemTrax Memory Test Compared to...  (Based on the information provided in the rese...                                                                               \n",
      "Test–retest reliability of RC21X a web-based co...  (Based on the information provided in the rese...                                                                               \n",
      "cCOGAweb-basedcognitivetesttoolfordetectingneur...  (Based on the information provided in the rese...                                                                               \n",
      "Examination of the accuracy of Cogniciti’s self...  (The research report does not explicitly state...                                                                               \n",
      "Tablet-Based Assessment of Cognitive Function A...  (Based on the information provided, the develo...                                                                               \n",
      "A highly feasible, reliable, and fully remote p...  (Based on the information provided in the rese...                                                                               \n",
      "Development and validity of the Computer‐Based ...  (Based on the information provided in the rese...                                                                               \n",
      "C-TOC (Cognitive Testing on Computer)_Investiga...  (Based on the information provided, the develo...                                                                               \n",
      "Novel computerized neurocognitive test battery ...  (Based on the information provided in the rese...                                                                               \n",
      "Comparison of an Electronic and Paper-based Mon...  (The [RESEARCH REPORT] does not provide explic...                                                                               \n",
      "A Comparison of Electronic and Paper Versions o...  (Based on the information provided, the develo...                                                                               \n",
      "A massive dataset of the NeuroCognitive Perform...  (Based on the information provided in the rese...                                                                               \n",
      "Computerized Block Games for Automated Cognitiv...  (Based on the given information, the developed...                                                                               \n",
      "Touchscreen tablet-based cognitive assessment v...  (Based on the information provided in the [RES...                                                                               \n",
      "A novel computer adaptive word list memory test...  (Based on the information provided in the rese...                                                                               \n",
      "A Self-Administered Computerized Test for Scree...  (Based on the information provided in the rese...                                                                               \n",
      "Accuracy of the SWAY Mobile Cognitive Assessmen...  (Based on the information provided, the develo...                                                                               \n",
      "Reliability and validity of the NeuroCognitive ...  (Based on the information provided in the rese...                                                                               \n",
      "A Validity Measure for the Automated Neuropsych...  (Based on the information provided in the rese...                                                                               \n",
      "Introducing the tablet-based Oxford Cognitive S...  (Based on the information provided in the rese...                                                                               \n",
      "Validation_of_the_Computerized_Cognitive_Assess...  (Based on the information provided in the repo...                                                                               \n",
      "A Computerized Cognitive Test Battery for Detec...  (The research report does not explicitly menti...                                                                               \n",
      "contributions-of-the-computer-administered-neur...  (Based on the information provided in the rese...                                                                               \n",
      "A comparison of the Cambridge Automated Neurops...  (Based on the information provided in the rese...                                                                               \n",
      "Computerized Neurocognitive Scanning I. Methodo...  (Based on the [RESEARCH REPORT], the developed...                                                                               \n",
      "Validation of SATURN, a free, electronic, self-...  (The developed program, SATURN, assesses the f...                                                                               \n",
      "Test–Retest Reliability and Reliable Change Est...  (Based on the information provided in the rese...                                                                               \n",
      "Asynchronous Remote Assessment for Cognitive Im...  (The research report does not explicitly state...                                                                               \n",
      "Validity of a Novel Touch Screen Tablet-Based A...  (Based on the information provided in the rese...                                                                               \n",
      "A Validation Study of the Inbrain CST a Tablet ...  (The developed program, Inbrain CST, assesses ...                                                                               \n",
      "Tele-Global Examination of Mental State (Tele-G...  (Based on the information provided in the rese...                                                                               \n",
      "Validity of the Web-Based, Self-Directed, Neuro...  (Based on the information provided in the rese...                                                                               \n",
      "Validation of a mobile game-based assessment of...  (Based on the information provided in the rese...                                                                               \n",
      "\n",
      "                                                   How is the test administered? Options are: Web application, tablet, phone, or other.  \\\n",
      "Initial validation of a web-based self-administ...  (Based on the information provided in the rese...                                     \n",
      "Diagnostic Performance of a Tablet Computer-Bas...  (The [RESEARCH REPORT] does not provide inform...                                     \n",
      "Examining 3-month test-retest reliability and r...  (Based on the [RESEARCH REPORT] provided, the ...                                     \n",
      "Optimizing cCOG, a Web-based tool, to detect de...  (The [RESEARCH REPORT] states that the test, c...                                     \n",
      "A Rapid, Mobile Neurocognitive Screening Test t...  (Based on the information provided, the test i...                                     \n",
      "Computer Assessment of Mild Cognitive Impairmen...  (Based on the information provided in the rese...                                     \n",
      "Development of a self-administered web-based te...  (The test is administered using a web-based in...                                     \n",
      "Reliability and validity of the Automatic Cogni...  (Based on the information provided in the rese...                                     \n",
      "Remote assessment of cognitive dysfunction in h...  (Based on the research report, the cognitive t...                                     \n",
      "Fully automated cognitive screening tool based ...  (The test is administered using a computer scr...                                     \n",
      "Validation of the automated neuropsychological ...  (The report does not explicitly state how the ...                                     \n",
      "Validity of a brief computerized cognitive scre...  (Based on the information provided in the rese...                                     \n",
      "Psychometric comparison of standard and compute...  (The [RESEARCH REPORT] does not provide any in...                                     \n",
      "The validity and reliability of a Computerized ...  (Based on the information provided in the rese...                                     \n",
      "A Novel Computerized Cognitive Stress Test to D...  (The test is administered as a web application...                                     \n",
      "Development and Validation of a Web-Based Scree...  (Based on the information provided in the rese...                                     \n",
      "Validity of the MemTrax Memory Test Compared to...  (Based on the information provided in the rese...                                     \n",
      "Test–retest reliability of RC21X a web-based co...  (Based on the information provided in the rese...                                     \n",
      "cCOGAweb-basedcognitivetesttoolfordetectingneur...  (Based on the information provided in the rese...                                     \n",
      "Examination of the accuracy of Cogniciti’s self...  (The [RESEARCH REPORT] does not provide explic...                                     \n",
      "Tablet-Based Assessment of Cognitive Function A...  (The test in the research report is administer...                                     \n",
      "A highly feasible, reliable, and fully remote p...  (According to the report, the test is administ...                                     \n",
      "Development and validity of the Computer‐Based ...  (According to the research report, the test (C...                                     \n",
      "C-TOC (Cognitive Testing on Computer)_Investiga...  (Based on the information provided in the rese...                                     \n",
      "Novel computerized neurocognitive test battery ...  (Based on the information provided in the rese...                                     \n",
      "Comparison of an Electronic and Paper-based Mon...  (The [RESEARCH REPORT] does not explicitly spe...                                     \n",
      "A Comparison of Electronic and Paper Versions o...  (Based on the information provided in the rese...                                     \n",
      "A massive dataset of the NeuroCognitive Perform...  (Based on the information provided in the rese...                                     \n",
      "Computerized Block Games for Automated Cognitiv...  (Based on the information provided in the rese...                                     \n",
      "Touchscreen tablet-based cognitive assessment v...  (Based on the information provided in the rese...                                     \n",
      "A novel computer adaptive word list memory test...  (Based on the information provided in the rese...                                     \n",
      "A Self-Administered Computerized Test for Scree...  (Based on the information provided in the rese...                                     \n",
      "Accuracy of the SWAY Mobile Cognitive Assessmen...  (Based on the information provided in the rese...                                     \n",
      "Reliability and validity of the NeuroCognitive ...  (Based on the information provided in the rese...                                     \n",
      "A Validity Measure for the Automated Neuropsych...  (The research report does not provide explicit...                                     \n",
      "Introducing the tablet-based Oxford Cognitive S...  (According to the research report, the OCS-Plu...                                     \n",
      "Validation_of_the_Computerized_Cognitive_Assess...  (Based on the information provided, the NAIHA ...                                     \n",
      "A Computerized Cognitive Test Battery for Detec...  (Based on the information provided in the rese...                                     \n",
      "contributions-of-the-computer-administered-neur...  (Based on the information provided in the rese...                                     \n",
      "A comparison of the Cambridge Automated Neurops...  (Based on the information provided in the rese...                                     \n",
      "Computerized Neurocognitive Scanning I. Methodo...  (Based on the information provided in the rese...                                     \n",
      "Validation of SATURN, a free, electronic, self-...  (Based on the research report, the test called...                                     \n",
      "Test–Retest Reliability and Reliable Change Est...  (Based on the information provided in the rese...                                     \n",
      "Asynchronous Remote Assessment for Cognitive Im...  (Based on the information provided in the rese...                                     \n",
      "Validity of a Novel Touch Screen Tablet-Based A...  (Based on the information provided in the rese...                                     \n",
      "A Validation Study of the Inbrain CST a Tablet ...  (Based on the information provided in the rese...                                     \n",
      "Tele-Global Examination of Mental State (Tele-G...  (Based on the information provided, the Tele-G...                                     \n",
      "Validity of the Web-Based, Self-Directed, Neuro...  (Based on the information provided, the test i...                                     \n",
      "Validation of a mobile game-based assessment of...  (Based on the information provided, the test i...                                     \n",
      "\n",
      "                                                   Name the statistical/machine learning techniques employed.  \\\n",
      "Initial validation of a web-based self-administ...  (The [RESEARCH REPORT] does not mention any sp...           \n",
      "Diagnostic Performance of a Tablet Computer-Bas...  (The [RESEARCH REPORT] does not provide inform...           \n",
      "Examining 3-month test-retest reliability and r...  (The [RESEARCH REPORT] does not mention the us...           \n",
      "Optimizing cCOG, a Web-based tool, to detect de...  (The research report mentions the use of the D...           \n",
      "A Rapid, Mobile Neurocognitive Screening Test t...  (Based on the information provided in the rese...           \n",
      "Computer Assessment of Mild Cognitive Impairmen...  (The statistical/machine learning techniques e...           \n",
      "Development of a self-administered web-based te...  (Based on the information provided in the rese...           \n",
      "Reliability and validity of the Automatic Cogni...  (The [RESEARCH REPORT] does not mention any sp...           \n",
      "Remote assessment of cognitive dysfunction in h...  (The statistical techniques used in the resear...           \n",
      "Fully automated cognitive screening tool based ...  (The statistical/machine learning techniques e...           \n",
      "Validation of the automated neuropsychological ...  (The statistical/machine learning techniques e...           \n",
      "Validity of a brief computerized cognitive scre...  (Based on the information provided in the rese...           \n",
      "Psychometric comparison of standard and compute...  (The research report does not mention any spec...           \n",
      "The validity and reliability of a Computerized ...  (The statistical/machine learning technique em...           \n",
      "A Novel Computerized Cognitive Stress Test to D...  (The [RESEARCH REPORT] does not explicitly men...           \n",
      "Development and Validation of a Web-Based Scree...  (Based on the information provided in the rese...           \n",
      "Validity of the MemTrax Memory Test Compared to...  (The [RESEARCH REPORT] does not explicitly men...           \n",
      "Test–retest reliability of RC21X a web-based co...  (The [RESEARCH REPORT] does not mention any sp...           \n",
      "cCOGAweb-basedcognitivetesttoolfordetectingneur...  (The [RESEARCH REPORT] does not mention any sp...           \n",
      "Examination of the accuracy of Cogniciti’s self...  (The statistical/machine learning techniques e...           \n",
      "Tablet-Based Assessment of Cognitive Function A...  (The research report does not mention any spec...           \n",
      "A highly feasible, reliable, and fully remote p...  (The research report does not mention any spec...           \n",
      "Development and validity of the Computer‐Based ...  (The [RESEARCH REPORT] does not explicitly men...           \n",
      "C-TOC (Cognitive Testing on Computer)_Investiga...  (The [RESEARCH REPORT] does not mention any sp...           \n",
      "Novel computerized neurocognitive test battery ...  (Based on the information provided in the rese...           \n",
      "Comparison of an Electronic and Paper-based Mon...  (The statistical techniques employed in the re...           \n",
      "A Comparison of Electronic and Paper Versions o...  (The provided [RESEARCH REPORT] does not menti...           \n",
      "A massive dataset of the NeuroCognitive Perform...  (Based on the provided information, there is n...           \n",
      "Computerized Block Games for Automated Cognitiv...  (Based on the information provided in the [RES...           \n",
      "Touchscreen tablet-based cognitive assessment v...  (The [RESEARCH REPORT] does not provide inform...           \n",
      "A novel computer adaptive word list memory test...  (The [RESEARCH REPORT] does not explicitly men...           \n",
      "A Self-Administered Computerized Test for Scree...  (The statistical techniques employed in the re...           \n",
      "Accuracy of the SWAY Mobile Cognitive Assessmen...  (Based on the information provided in the rese...           \n",
      "Reliability and validity of the NeuroCognitive ...  (The research report does not provide informat...           \n",
      "A Validity Measure for the Automated Neuropsych...  (The statistical/machine learning technique em...           \n",
      "Introducing the tablet-based Oxford Cognitive S...  (Based on the [RESEARCH REPORT], it is not exp...           \n",
      "Validation_of_the_Computerized_Cognitive_Assess...  (The [RESEARCH REPORT] does not explicitly men...           \n",
      "A Computerized Cognitive Test Battery for Detec...  (The statistical techniques employed in the re...           \n",
      "contributions-of-the-computer-administered-neur...  (Based on the information provided, the resear...           \n",
      "A comparison of the Cambridge Automated Neurops...  (The [RESEARCH REPORT] does not mention any st...           \n",
      "Computerized Neurocognitive Scanning I. Methodo...  (The research report does not mention any spec...           \n",
      "Validation of SATURN, a free, electronic, self-...  (The [RESEARCH REPORT] does not explicitly men...           \n",
      "Test–Retest Reliability and Reliable Change Est...  (Based on the information provided in the rese...           \n",
      "Asynchronous Remote Assessment for Cognitive Im...  (The research report does not explicitly menti...           \n",
      "Validity of a Novel Touch Screen Tablet-Based A...  (The research report does not explicitly menti...           \n",
      "A Validation Study of the Inbrain CST a Tablet ...  (The [RESEARCH REPORT] does not explicitly men...           \n",
      "Tele-Global Examination of Mental State (Tele-G...  (Based on the information provided in the rese...           \n",
      "Validity of the Web-Based, Self-Directed, Neuro...  (The research report does not mention any spec...           \n",
      "Validation of a mobile game-based assessment of...  (Based on the information provided in the rese...           \n",
      "\n",
      "                                                   What are the critical results of the study? (AUC, sensitivty, specificty, correlation, etc).  \\\n",
      "Initial validation of a web-based self-administ...  (The [RESEARCH REPORT] does not provide specif...                                             \n",
      "Diagnostic Performance of a Tablet Computer-Bas...  (The critical results of the study are not exp...                                             \n",
      "Examining 3-month test-retest reliability and r...  (The critical results of the study are as foll...                                             \n",
      "Optimizing cCOG, a Web-based tool, to detect de...  (The critical results of the study include the...                                             \n",
      "A Rapid, Mobile Neurocognitive Screening Test t...  (The critical results of the study are as foll...                                             \n",
      "Computer Assessment of Mild Cognitive Impairmen...  (The critical results of the study are as foll...                                             \n",
      "Development of a self-administered web-based te...  (The specific critical results of the study ar...                                             \n",
      "Reliability and validity of the Automatic Cogni...  (The [RESEARCH REPORT] does not provide explic...                                             \n",
      "Remote assessment of cognitive dysfunction in h...  (The critical results of the study include:\\n\\...                                             \n",
      "Fully automated cognitive screening tool based ...  (The critical results of the study are as foll...                                             \n",
      "Validation of the automated neuropsychological ...  (The critical results of the study are as foll...                                             \n",
      "Validity of a brief computerized cognitive scre...  (The critical results of the study are:\\n- The...                                             \n",
      "Psychometric comparison of standard and compute...  (The critical results of the study are not exp...                                             \n",
      "The validity and reliability of a Computerized ...  (The critical results of the study are as foll...                                             \n",
      "A Novel Computerized Cognitive Stress Test to D...  (The critical results of the study are as foll...                                             \n",
      "Development and Validation of a Web-Based Scree...  (The critical results of the study cannot be d...                                             \n",
      "Validity of the MemTrax Memory Test Compared to...  (The critical results of the study are as foll...                                             \n",
      "Test–retest reliability of RC21X a web-based co...  (The critical results of the study are as foll...                                             \n",
      "cCOGAweb-basedcognitivetesttoolfordetectingneur...  (The critical results of the study are as foll...                                             \n",
      "Examination of the accuracy of Cogniciti’s self...  (The critical results of the study are as foll...                                             \n",
      "Tablet-Based Assessment of Cognitive Function A...  (The [RESEARCH REPORT] does not provide specif...                                             \n",
      "A highly feasible, reliable, and fully remote p...  (The critical results of the study are as foll...                                             \n",
      "Development and validity of the Computer‐Based ...  (The critical results of the study are as foll...                                             \n",
      "C-TOC (Cognitive Testing on Computer)_Investiga...  (The research report does not provide any spec...                                             \n",
      "Novel computerized neurocognitive test battery ...  (The critical results of the study are as foll...                                             \n",
      "Comparison of an Electronic and Paper-based Mon...  (The critical results of the study are:\\n\\n1. ...                                             \n",
      "A Comparison of Electronic and Paper Versions o...  (The research report does not provide specific...                                             \n",
      "A massive dataset of the NeuroCognitive Perform...  (The critical results of the study are not exp...                                             \n",
      "Computerized Block Games for Automated Cognitiv...  (The critical results of the study are as foll...                                             \n",
      "Touchscreen tablet-based cognitive assessment v...  (The critical results of the study are as foll...                                             \n",
      "A novel computer adaptive word list memory test...  (The critical results of the study are as foll...                                             \n",
      "A Self-Administered Computerized Test for Scree...  (The critical results of the study are as foll...                                             \n",
      "Accuracy of the SWAY Mobile Cognitive Assessmen...  (The research report does not provide specific...                                             \n",
      "Reliability and validity of the NeuroCognitive ...  (The critical results of the study include the...                                             \n",
      "A Validity Measure for the Automated Neuropsych...  (The critical result of the study is that the ...                                             \n",
      "Introducing the tablet-based Oxford Cognitive S...  (The critical results of the study are not exp...                                             \n",
      "Validation_of_the_Computerized_Cognitive_Assess...  (The critical results of the study are as foll...                                             \n",
      "A Computerized Cognitive Test Battery for Detec...  (The critical results of the study are as foll...                                             \n",
      "contributions-of-the-computer-administered-neur...  (The critical results of the study include:\\n\\...                                             \n",
      "A comparison of the Cambridge Automated Neurops...  (The critical results of the study are the cor...                                             \n",
      "Computerized Neurocognitive Scanning I. Methodo...  (The critical results of the study include the...                                             \n",
      "Validation of SATURN, a free, electronic, self-...  (The critical results of the study are as foll...                                             \n",
      "Test–Retest Reliability and Reliable Change Est...  (The critical results of the study include:\\n\\...                                             \n",
      "Asynchronous Remote Assessment for Cognitive Im...  (The critical results of the study include the...                                             \n",
      "Validity of a Novel Touch Screen Tablet-Based A...  (The critical results of the study are as foll...                                             \n",
      "A Validation Study of the Inbrain CST a Tablet ...  (The critical results of the study are as foll...                                             \n",
      "Tele-Global Examination of Mental State (Tele-G...  (The critical results of the study are as foll...                                             \n",
      "Validity of the Web-Based, Self-Directed, Neuro...  (The critical results of the study include the...                                             \n",
      "Validation of a mobile game-based assessment of...  (The critical results of the study are as foll...                                             \n",
      "\n",
      "                                                   What is the patient population (Sample size, disease states, cognitive status, age, ethnicity).  \n",
      "Initial validation of a web-based self-administ...  (The research report does not provide informat...                                               \n",
      "Diagnostic Performance of a Tablet Computer-Bas...  (The patient population in the research report...                                               \n",
      "Examining 3-month test-retest reliability and r...  (The patient population in the research report...                                               \n",
      "Optimizing cCOG, a Web-based tool, to detect de...  (The research report states that the study inc...                                               \n",
      "A Rapid, Mobile Neurocognitive Screening Test t...  (The patient population in the research study ...                                               \n",
      "Computer Assessment of Mild Cognitive Impairmen...  (The sample size in the study was 524 individu...                                               \n",
      "Development of a self-administered web-based te...  (The patient population in the research report...                                               \n",
      "Reliability and validity of the Automatic Cogni...  (The patient population in the study includes ...                                               \n",
      "Remote assessment of cognitive dysfunction in h...  (The patient population for this study consist...                                               \n",
      "Fully automated cognitive screening tool based ...  (The patient population in this study consiste...                                               \n",
      "Validation of the automated neuropsychological ...  (The patient population in the study consisted...                                               \n",
      "Validity of a brief computerized cognitive scre...  (The patient population in the study consisted...                                               \n",
      "Psychometric comparison of standard and compute...  (The patient population in the research report...                                               \n",
      "The validity and reliability of a Computerized ...  (The patient population in the study consisted...                                               \n",
      "A Novel Computerized Cognitive Stress Test to D...  (The patient population in the study consisted...                                               \n",
      "Development and Validation of a Web-Based Scree...  (The research report does not provide specific...                                               \n",
      "Validity of the MemTrax Memory Test Compared to...  (The patient population in the study included ...                                               \n",
      "Test–retest reliability of RC21X a web-based co...  (The patient population in the research report...                                               \n",
      "cCOGAweb-basedcognitivetesttoolfordetectingneur...  (The [RESEARCH REPORT] included data from 138 ...                                               \n",
      "Examination of the accuracy of Cogniciti’s self...  (The sample size of the patient population was...                                               \n",
      "Tablet-Based Assessment of Cognitive Function A...  (The patient population in the study consisted...                                               \n",
      "A highly feasible, reliable, and fully remote p...  (The patient population in the study consisted...                                               \n",
      "Development and validity of the Computer‐Based ...  (The patient population in this research repor...                                               \n",
      "C-TOC (Cognitive Testing on Computer)_Investiga...  (The patient population in the research report...                                               \n",
      "Novel computerized neurocognitive test battery ...  (The patient population in the study consisted...                                               \n",
      "Comparison of an Electronic and Paper-based Mon...  (The patient population in the study consisted...                                               \n",
      "A Comparison of Electronic and Paper Versions o...  (The patient population in the research report...                                               \n",
      "A massive dataset of the NeuroCognitive Perform...  (The patient population in this research repor...                                               \n",
      "Computerized Block Games for Automated Cognitiv...  (The patient population in the research report...                                               \n",
      "Touchscreen tablet-based cognitive assessment v...  (The patient population in the study consisted...                                               \n",
      "A novel computer adaptive word list memory test...  (The patient population in this study consiste...                                               \n",
      "A Self-Administered Computerized Test for Scree...  (The patient population in this research repor...                                               \n",
      "Accuracy of the SWAY Mobile Cognitive Assessmen...  (The patient population in the study consisted...                                               \n",
      "Reliability and validity of the NeuroCognitive ...  (The patient population in the study consisted...                                               \n",
      "A Validity Measure for the Automated Neuropsych...  (The patient population in the study consisted...                                               \n",
      "Introducing the tablet-based Oxford Cognitive S...  (The patient population in the research report...                                               \n",
      "Validation_of_the_Computerized_Cognitive_Assess...  (The sample size of the patient population in ...                                               \n",
      "A Computerized Cognitive Test Battery for Detec...  (The patient population in the research report...                                               \n",
      "contributions-of-the-computer-administered-neur...  (The patient population in the study consisted...                                               \n",
      "A comparison of the Cambridge Automated Neurops...  (The [RESEARCH REPORT] does not provide explic...                                               \n",
      "Computerized Neurocognitive Scanning I. Methodo...  (The patient population in the research study ...                                               \n",
      "Validation of SATURN, a free, electronic, self-...  (The patient population in this study included...                                               \n",
      "Test–Retest Reliability and Reliable Change Est...  (The patient population in the research report...                                               \n",
      "Asynchronous Remote Assessment for Cognitive Im...  (The patient population in the research report...                                               \n",
      "Validity of a Novel Touch Screen Tablet-Based A...  (The patient population in the research report...                                               \n",
      "A Validation Study of the Inbrain CST a Tablet ...  (According to the research report, the patient...                                               \n",
      "Tele-Global Examination of Mental State (Tele-G...  (The patient population in this study consiste...                                               \n",
      "Validity of the Web-Based, Self-Directed, Neuro...  (The patient population in the study consisted...                                               \n",
      "Validation of a mobile game-based assessment of...  (The patient population in the research study ...                                               \n"
     ]
    }
   ],
   "source": [
    "from calvin_utils.gpt_sys_review.json_utils import CustomSummarizer\n",
    "\n",
    "# Create an instance of CustomSummarizer\n",
    "custom_summarizer = CustomSummarizer(json_path=json_path, keyword_mapping=keyword_mapping)\n",
    "\n",
    "# Run the custom summarization and save the results to CSV\n",
    "result_df = custom_summarizer.run_custom()\n",
    "\n",
    "# Display the resulting DataFrame\n",
    "print(result_df)"
   ]
  },
  {
   "cell_type": "code",
   "execution_count": null,
   "metadata": {},
   "outputs": [],
   "source": []
  }
 ],
 "metadata": {
  "kernelspec": {
   "display_name": "nimlab_py310",
   "language": "python",
   "name": "python3"
  },
  "language_info": {
   "codemirror_mode": {
    "name": "ipython",
    "version": 3
   },
   "file_extension": ".py",
   "mimetype": "text/x-python",
   "name": "python",
   "nbconvert_exporter": "python",
   "pygments_lexer": "ipython3",
   "version": "3.10.8"
  },
  "orig_nbformat": 4
 },
 "nbformat": 4,
 "nbformat_minor": 2
}
