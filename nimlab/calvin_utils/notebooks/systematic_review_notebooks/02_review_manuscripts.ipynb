{
 "cells": [
  {
   "cell_type": "markdown",
   "metadata": {},
   "source": [
    "01 - Convert PDFs to Text\n",
    "\n",
    "Define pdf_dir - this is the absolute path to the directory with all PDF files you want evaluated\n",
    "\n",
    "Define output_dir - this is the absolute path to the directory to output all the preprocessed PDF files"
   ]
  },
  {
   "cell_type": "code",
   "execution_count": 1,
   "metadata": {},
   "outputs": [],
   "source": [
    "pdf_dir = r'/Users/cu135/Library/CloudStorage/OneDrive-Personal/OneDrive_Documents/Work/Software/Research/nimlab/gpt_document_reader/amnesia_cases/papers_enrolled'\n",
    "output_dir = r\"/Users/cu135/Library/CloudStorage/OneDrive-Personal/OneDrive_Documents/Work/Software/Research/nimlab/gpt_document_reader/amnesia_cases/ocr\""
   ]
  },
  {
   "cell_type": "markdown",
   "metadata": {},
   "source": [
    "**Preprocess Using Text Extraction**"
   ]
  },
  {
   "cell_type": "code",
   "execution_count": null,
   "metadata": {},
   "outputs": [],
   "source": [
    "import os\n",
    "import textract\n",
    "\n",
    "class PDFTextExtractor:\n",
    "    \"\"\"\n",
    "    A class to handle PDF text extraction and saving it to a file.\n",
    "\n",
    "    Attributes\n",
    "    ----------\n",
    "    None\n",
    "\n",
    "    Methods\n",
    "    -------\n",
    "    extract_text_from_pdf(file_path: str) -> str:\n",
    "        Extracts text from a given PDF file and returns it as a string.\n",
    "    save_text_to_file(text: str, output_file_path: str) -> None:\n",
    "        Saves a given text string to a specified file path.\n",
    "    extract_text_from_pdf_dir(pdf_dir: str, output_dir: str) -> None:\n",
    "        Iterates through a directory of PDF files, extracts text, and saves it to text files in an output directory.\n",
    "    \"\"\"\n",
    "    \n",
    "    @staticmethod\n",
    "    def extract_text_from_pdf(file_path: str) -> str:\n",
    "        \"\"\"\n",
    "        Extracts text from a given PDF file and returns it as a string.\n",
    "\n",
    "        Parameters\n",
    "        ----------\n",
    "        file_path : str\n",
    "            The path of the PDF file to extract text from.\n",
    "\n",
    "        Returns\n",
    "        -------\n",
    "        str\n",
    "            The extracted text as a string.\n",
    "        \"\"\"\n",
    "        text = textract.process(file_path)\n",
    "        return text.decode(\"utf-8\")\n",
    "    \n",
    "    @staticmethod\n",
    "    def save_text_to_file(text: str, output_file_path: str) -> None:\n",
    "        \"\"\"\n",
    "        Saves a given text string to a specified file path.\n",
    "\n",
    "        Parameters\n",
    "        ----------\n",
    "        text : str\n",
    "            The text string to save.\n",
    "        output_file_path : str\n",
    "            The path where the text file will be saved.\n",
    "\n",
    "        Returns\n",
    "        -------\n",
    "        None\n",
    "        \"\"\"\n",
    "        with open(output_file_path, \"w\", encoding=\"utf-8\") as output_file:\n",
    "            output_file.write(text)\n",
    "    \n",
    "    @staticmethod\n",
    "    def extract_text_from_pdf_dir(pdf_dir: str, output_dir: str) -> None:\n",
    "        \"\"\"\n",
    "        Iterates through a directory of PDF files, extracts text, and saves it to text files in an output directory.\n",
    "\n",
    "        Parameters\n",
    "        ----------\n",
    "        pdf_dir : str\n",
    "            The directory containing the PDF files.\n",
    "        output_dir : str\n",
    "            The directory where text files will be saved.\n",
    "\n",
    "        Returns\n",
    "        -------\n",
    "        None\n",
    "        \"\"\"\n",
    "        for file_name in os.listdir(pdf_dir):\n",
    "            if file_name.endswith(\".pdf\"):\n",
    "                input_file_path = os.path.join(pdf_dir, file_name)\n",
    "                output_file_path = os.path.join(output_dir, f\"{os.path.splitext(file_name)[0]}.txt\")\n",
    "                text = PDFTextExtractor.extract_text_from_pdf(input_file_path)\n",
    "                PDFTextExtractor.save_text_to_file(text, output_file_path)"
   ]
  },
  {
   "cell_type": "markdown",
   "metadata": {},
   "source": [
    "Preprocess the PDF files"
   ]
  },
  {
   "cell_type": "code",
   "execution_count": null,
   "metadata": {},
   "outputs": [],
   "source": [
    "# Create an instance of the PDFTextExtractor class\n",
    "pdf_extractor = PDFTextExtractor()\n",
    "# Call the extract_text_from_pdf_dir method\n",
    "pdf_extractor.extract_text_from_pdf_dir(pdf_dir, output_dir)"
   ]
  },
  {
   "cell_type": "markdown",
   "metadata": {},
   "source": [
    "**Extract Tezt Using OCR**"
   ]
  },
  {
   "cell_type": "code",
   "execution_count": 16,
   "metadata": {},
   "outputs": [],
   "source": [
    "from pdf2image import convert_from_path\n",
    "from PyPDF2 import PdfReader\n",
    "import pytesseract\n",
    "import os\n",
    "from tqdm import tqdm\n",
    "import cv2\n",
    "import numpy as np\n",
    "\n",
    "class OCROperator:\n",
    "    \"\"\"\n",
    "    A class to handle OCR text extraction from PDFs in a directory.\n",
    "\n",
    "    Attributes\n",
    "    ----------\n",
    "    None\n",
    "\n",
    "    Methods\n",
    "    -------\n",
    "    extract_text_from_pdf(file_path: str) -> str:\n",
    "        Extracts text from a given PDF file using OCR and returns it as a string.\n",
    "    save_text_to_file(text: str, output_file_path: str) -> None:\n",
    "        Saves the extracted text to a specified file path.\n",
    "    extract_text_from_pdf_dir(pdf_dir: str, output_dir: str) -> None:\n",
    "        Iterates through a directory of PDF files and extracts text using OCR.\n",
    "    \"\"\"\n",
    "    \n",
    "    @staticmethod\n",
    "    def preprocess_image(image):\n",
    "        \"\"\"\n",
    "        Preprocesses the image for OCR.\n",
    "\n",
    "        Parameters\n",
    "        ----------\n",
    "        image : PIL.Image.Image\n",
    "            The image to preprocess.\n",
    "\n",
    "        Returns\n",
    "        -------\n",
    "        PIL.Image.Image\n",
    "            The preprocessed image.\n",
    "        \"\"\"\n",
    "        # Convert the image to grayscale\n",
    "        gray = cv2.cvtColor(np.array(image), cv2.COLOR_BGR2GRAY)\n",
    "        \n",
    "        # Apply Gaussian blur to reduce noise\n",
    "        blurred = cv2.GaussianBlur(gray, (5, 5), 0)\n",
    "        \n",
    "        # Convert the image to binary (black and white)\n",
    "        _, binary = cv2.threshold(blurred, 0, 255, cv2.THRESH_BINARY + cv2.THRESH_OTSU)\n",
    "        \n",
    "        return binary\n",
    "        \n",
    "    @staticmethod\n",
    "    def extract_text_from_pdf(file_path: str) -> str:\n",
    "        \"\"\"\n",
    "        Extracts text from a PDF using OCR and returns it as a string.\n",
    "\n",
    "        Parameters\n",
    "        ----------\n",
    "        file_path : str\n",
    "            The path of the PDF file.\n",
    "\n",
    "        Returns\n",
    "        -------\n",
    "        str\n",
    "            The OCR-extracted text.\n",
    "        \"\"\"\n",
    "        images = convert_from_path(file_path)\n",
    "        text = \"\"\n",
    "\n",
    "        for image in images:\n",
    "            text += pytesseract.image_to_string(image)\n",
    "\n",
    "        return text\n",
    "    \n",
    "    @staticmethod\n",
    "    def get_pdf_page_count(file_path: str) -> int:\n",
    "        pdf = PdfReader(file_path)\n",
    "        return len(pdf.pages)\n",
    "\n",
    "    @staticmethod\n",
    "    def save_text_to_file(text: str, output_file_path: str) -> None:\n",
    "        \"\"\"\n",
    "        Saves the extracted text to a specified file path.\n",
    "\n",
    "        Parameters\n",
    "        ----------\n",
    "        text : str\n",
    "            The text to save.\n",
    "        output_file_path : str\n",
    "            The file path to save the text to.\n",
    "\n",
    "        Returns\n",
    "        -------\n",
    "        None\n",
    "        \"\"\"\n",
    "        with open(output_file_path, 'w', encoding='utf-8') as f:\n",
    "            f.write(text)\n",
    "\n",
    "    @staticmethod\n",
    "    def extract_text_from_pdf_dir(pdf_dir: str, output_dir: str, page_threshold=50) -> None:\n",
    "        \"\"\"\n",
    "        Iterates through a directory of PDF files and extracts text using OCR.\n",
    "\n",
    "        Parameters\n",
    "        ----------\n",
    "        pdf_dir : str\n",
    "            The directory containing the PDF files.\n",
    "        output_dir : str\n",
    "            The directory to save the extracted text to.\n",
    "\n",
    "        Returns\n",
    "        -------\n",
    "        None\n",
    "        \"\"\"\n",
    "        os.makedirs(output_dir,exist_ok=True)\n",
    "        for file_name in tqdm(os.listdir(pdf_dir)):\n",
    "            if file_name.endswith('.pdf'):\n",
    "                input_file_path = os.path.join(pdf_dir, file_name)\n",
    "                \n",
    "                #Exclude if over page count\n",
    "                page_count = OCROperator.get_pdf_page_count(input_file_path)\n",
    "                if page_count > page_threshold:\n",
    "                    print(f\"Skipping {file_name} as it has {page_count} pages, exceeding the threshold of {page_threshold}.\")\n",
    "                    continue\n",
    "                \n",
    "                output_file_path = os.path.join(output_dir, f\"{os.path.splitext(file_name)[0]}_OCR.txt\")\n",
    "\n",
    "                text = OCROperator.extract_text_from_pdf(input_file_path)\n",
    "                OCROperator.save_text_to_file(text, output_file_path)\n"
   ]
  },
  {
   "cell_type": "code",
   "execution_count": 17,
   "metadata": {},
   "outputs": [
    {
     "name": "stderr",
     "output_type": "stream",
     "text": [
      "  6%|▋         | 7/109 [02:28<27:54, 16.41s/it]  "
     ]
    },
    {
     "name": "stdout",
     "output_type": "stream",
     "text": [
      "Skipping 2020 - ESO-WSO 2020 Joint Meeting Abstracts.pdf as it has 750 pages, exceeding the threshold.\n"
     ]
    },
    {
     "name": "stderr",
     "output_type": "stream",
     "text": [
      " 98%|█████████▊| 107/109 [42:33<00:16,  8.29s/it] "
     ]
    },
    {
     "name": "stdout",
     "output_type": "stream",
     "text": [
      "Skipping 2020 - ePoster Sessions.pdf as it has 706 pages, exceeding the threshold.\n"
     ]
    },
    {
     "name": "stderr",
     "output_type": "stream",
     "text": [
      "100%|██████████| 109/109 [43:54<00:00, 24.17s/it]\n"
     ]
    }
   ],
   "source": [
    "OCROperator.extract_text_from_pdf_dir(pdf_dir, output_dir)"
   ]
  },
  {
   "cell_type": "markdown",
   "metadata": {},
   "source": [
    "02 - Preprocess the Extracted Text"
   ]
  },
  {
   "cell_type": "code",
   "execution_count": 25,
   "metadata": {},
   "outputs": [],
   "source": [
    "import os\n",
    "import re\n",
    "\n",
    "# Updated TextPreprocessor class without removing newlines\n",
    "class TextPreprocessor:\n",
    "    \"\"\"\n",
    "    A class to preprocess text files in a directory.\n",
    "\n",
    "    Attributes:\n",
    "    - input_dir (str): The directory containing the text files to be preprocessed.\n",
    "    - output_dir (str): The directory where the preprocessed text files will be saved.\n",
    "\n",
    "    Methods:\n",
    "    - preprocess_text: Applies various preprocessing steps to a given text.\n",
    "    - remove_non_ascii: Removes non-ASCII characters from the text.\n",
    "    - process_files: Reads each text file from the input directory, applies preprocessing, and saves it to the output directory.\n",
    "    \"\"\"\n",
    "\n",
    "    def __init__(self, input_dir):\n",
    "        \"\"\"\n",
    "        Initializes the TextPreprocessor class with input and output directories.\n",
    "\n",
    "        Parameters:\n",
    "        - input_dir (str): Path to the directory containing the text files to be preprocessed.\n",
    "        - output_dir (str): Path to the directory where the preprocessed text files will be saved.\n",
    "        \"\"\"\n",
    "        self.input_dir = input_dir\n",
    "        self.output_dir = os.path.join(input_dir, 'preprocessed')\n",
    "\n",
    "    @staticmethod\n",
    "    def preprocess_text(text):\n",
    "        \"\"\"\n",
    "        Applies various preprocessing steps to a given text.\n",
    "\n",
    "        Parameters:\n",
    "        - text (str): The text to be preprocessed.\n",
    "\n",
    "        Returns:\n",
    "        - str: The preprocessed text.\n",
    "        \"\"\"\n",
    "        text = re.sub(r'([,.:;])', r'\\1 ', text)\n",
    "        text = re.sub(r'([(])', r' \\1', text)\n",
    "        text = re.sub(r'([)])', r'\\1 ', text)\n",
    "        text = re.sub(r'(?<![a-zA-Z0-9-])-(?![a-zA-Z0-9-])', r' - ', text)\n",
    "        return text\n",
    "\n",
    "    @staticmethod\n",
    "    def remove_non_ascii(text):\n",
    "        \"\"\"\n",
    "        Removes non-ASCII characters from the text.\n",
    "\n",
    "        Parameters:\n",
    "        - text (str): The text from which non-ASCII characters will be removed.\n",
    "\n",
    "        Returns:\n",
    "        - str: The text with non-ASCII characters removed.\n",
    "        \"\"\"\n",
    "        return re.sub(r'[^\\x00-\\x7F]+', ' ', text)\n",
    "\n",
    "    def process_files(self):\n",
    "        \"\"\"\n",
    "        Reads each text file from the input directory, applies preprocessing, and saves it to the output directory.\n",
    "        \"\"\"\n",
    "        # Create output directory if it doesn't exist\n",
    "        if not os.path.exists(self.output_dir):\n",
    "            os.makedirs(self.output_dir)\n",
    "        \n",
    "        # Loop through each file in the input directory\n",
    "        for filename in os.listdir(self.input_dir):\n",
    "            if filename.endswith('.txt'):\n",
    "                input_filepath = os.path.join(self.input_dir, filename)\n",
    "                output_filepath = os.path.join(self.output_dir, filename)\n",
    "                \n",
    "                # Read the original text\n",
    "                with open(input_filepath, 'r', encoding='utf-8') as input_file:\n",
    "                    original_text = input_file.read()\n",
    "                \n",
    "                # Apply preprocessing\n",
    "                preprocessed_text = self.preprocess_text(original_text)\n",
    "                cleaned_text = self.remove_non_ascii(preprocessed_text)\n",
    "                \n",
    "                # Save the preprocessed text\n",
    "                with open(output_filepath, 'w', encoding='utf-8') as output_file:\n",
    "                    output_file.write(cleaned_text)"
   ]
  },
  {
   "cell_type": "code",
   "execution_count": 26,
   "metadata": {},
   "outputs": [],
   "source": [
    "# Initialize the TextPreprocessor class and preprocess the files\n",
    "preprocessor = TextPreprocessor(output_dir)\n",
    "preprocessor.process_files()"
   ]
  },
  {
   "cell_type": "markdown",
   "metadata": {},
   "source": [
    "03 - Label Text Sections"
   ]
  },
  {
   "cell_type": "markdown",
   "metadata": {},
   "source": [
    "Define Text Chunking Methods"
   ]
  },
  {
   "cell_type": "code",
   "execution_count": 20,
   "metadata": {},
   "outputs": [],
   "source": [
    "# Importing required libraries\n",
    "import os\n",
    "import re\n",
    "import json\n",
    "\n",
    "class TextChunker:\n",
    "    \"\"\"\n",
    "    A class to chunk a given text into smaller segments based on a token limit.\n",
    "    \n",
    "    Attributes:\n",
    "    - text (str): The text to be chunked.\n",
    "    - token_limit (int): The maximum number of tokens allowed in each chunk.\n",
    "    - chunks (list): List to store the generated text chunks.\n",
    "    \n",
    "    Methods:\n",
    "    - chunk_text: Splits the text into smaller segments based on the token limit.\n",
    "    - get_chunks: Returns the list of generated text chunks.\n",
    "    \"\"\"\n",
    "    \n",
    "    def __init__(self, text, token_limit):\n",
    "        \"\"\"\n",
    "        Initializes the TextChunker class with the text and token limit.\n",
    "        \n",
    "        Parameters:\n",
    "        - text (str): The text to be chunked.\n",
    "        - token_limit (int): The maximum number of tokens allowed in each chunk.\n",
    "        \"\"\"\n",
    "        self.text = text\n",
    "        self.token_limit = token_limit\n",
    "        self.chunks = []\n",
    "    \n",
    "    def chunk_text(self):\n",
    "        \"\"\"\n",
    "        Splits the text into smaller segments based on the token limit.\n",
    "        \"\"\"\n",
    "        words = self.text.split()\n",
    "        current_chunk = []\n",
    "        current_chunk_tokens = 0\n",
    "        \n",
    "        for word in words:\n",
    "            # Considering each word as a token and adding 1 for the space\n",
    "            tokens_in_word = len(word.split()) + 1\n",
    "            \n",
    "            if current_chunk_tokens + tokens_in_word <= self.token_limit:\n",
    "                current_chunk.append(word)\n",
    "                current_chunk_tokens += tokens_in_word\n",
    "            else:\n",
    "                self.chunks.append(' '.join(current_chunk))\n",
    "                current_chunk = [word]\n",
    "                current_chunk_tokens = tokens_in_word\n",
    "        \n",
    "        # Adding the last chunk if any words are left\n",
    "        if current_chunk:\n",
    "            self.chunks.append(' '.join(current_chunk))\n",
    "    \n",
    "    def get_chunks(self):\n",
    "        \"\"\"\n",
    "        Returns the list of generated text chunks.\n",
    "        \n",
    "        Returns:\n",
    "        - list: List containing the generated text chunks.\n",
    "        \"\"\"\n",
    "        return self.chunks\n",
    "    \n",
    "# > Example Usage:\n",
    "# # Setting the token limit to 75% of GPT-3's maximum token limit (4096)\n",
    "# token_limit = int(0.75 * 4096)  # About 3072 tokens\n",
    "\n",
    "# # Reading the text file\n",
    "# file_path = '/mnt/data/Horn 2017PD Fxconn_OCR.txt'\n",
    "# with open(file_path, 'r', encoding='utf-8') as file:\n",
    "#     text = file.read()\n",
    "\n",
    "# # Creating an instance of the TextChunker class\n",
    "# text_chunker = TextChunker(text, token_limit)\n",
    "\n",
    "# # Chunking the text\n",
    "# text_chunker.chunk_text()\n",
    "\n",
    "# # Getting the list of chunks\n",
    "# chunks = text_chunker.get_chunks()\n",
    "\n",
    "# # Displaying the first chunk as a sample\n",
    "# chunks[0][:500]  # Displaying the first 500 characters of the first chunk as a sample\n"
   ]
  },
  {
   "cell_type": "markdown",
   "metadata": {},
   "source": [
    "Define Natural Language Processing Software\n",
    "\n",
    "Latent Dirichlet Allocation approach employed"
   ]
  },
  {
   "cell_type": "code",
   "execution_count": 21,
   "metadata": {},
   "outputs": [],
   "source": [
    "# Fixing the JSON serialization issue by converting NumPy int64 to native Python int\n",
    "\n",
    "class SectionLabeler:\n",
    "    \"\"\"\n",
    "    A class to label sections of a given text based on chunking and topic modeling.\n",
    "    \n",
    "    Attributes:\n",
    "    - folder_path (str): The path to the folder containing the text files.\n",
    "    - article_type (str): The type of article (e.g., 'research', 'case_report').\n",
    "    - lda (LatentDirichletAllocation): The Latent Dirichlet Allocation model for topic modeling.\n",
    "    \n",
    "    Methods:\n",
    "    - label_sections: Labels the sections of each text file in the folder.\n",
    "    \"\"\"\n",
    "    \n",
    "    def __init__(self, folder_path, article_type):\n",
    "        \"\"\"\n",
    "        Initializes the SectionLabeler class with the folder path and article type.\n",
    "        \n",
    "        Parameters:\n",
    "        - folder_path (str): The path to the folder containing the text files.\n",
    "        - article_type (str): The type of article (e.g., 'research', 'case_report').\n",
    "        \"\"\"\n",
    "        self.folder_path = folder_path\n",
    "        self.article_type = article_type\n",
    "        self.lda = LatentDirichletAllocation(n_components=7, random_state=42) # Number of topics can be adjusted\n",
    "    \n",
    "    def label_sections(self):\n",
    "        \"\"\"\n",
    "        Labels the sections of each text file in the folder.\n",
    "        \"\"\"\n",
    "        for filename in os.listdir(self.folder_path):\n",
    "            if filename.endswith(\".txt\"):\n",
    "                file_path = os.path.join(self.folder_path, filename)\n",
    "                \n",
    "                with open(file_path, 'r', encoding='utf-8') as f:\n",
    "                    text = f.read()\n",
    "                \n",
    "                # Chunk the text using TextChunker\n",
    "                chunker = TextChunker(text, int(4096 * 0.75))  # 75% of the maximum token limit of 4096\n",
    "                chunker.chunk_text()\n",
    "                chunks = chunker.get_chunks()\n",
    "                \n",
    "                # Vectorize the text chunks for topic modeling\n",
    "                vectorizer = CountVectorizer()\n",
    "                dtm = vectorizer.fit_transform(chunks)\n",
    "                \n",
    "                # Fit LDA model to the document-term matrix\n",
    "                self.lda.fit(dtm)\n",
    "                \n",
    "                # Get the topic for each chunk\n",
    "                topic_results = self.lda.transform(dtm)\n",
    "                chunk_labels = topic_results.argmax(axis=1)\n",
    "                \n",
    "                # Store chunk and its label in a dictionary\n",
    "                labeled_chunks = {}\n",
    "                for i, label in enumerate(chunk_labels):\n",
    "                    labeled_chunks[f\"Chunk_{i+1}\"] = {\"text\": chunks[i], \"topic\": int(label)}  # Convert to native int\n",
    "                \n",
    "                # Save the labeled chunks to a JSON file\n",
    "                json_filename = filename.replace('.txt', '_labeled.json')\n",
    "                json_file_path = os.path.join(self.folder_path, json_filename)\n",
    "                \n",
    "                with open(json_file_path, 'w', encoding='utf-8') as json_f:\n",
    "                    json.dump(labeled_chunks, json_f, ensure_ascii=False, indent=4)\n",
    "# > Example Usage:\n",
    "# # Initialize and run the SectionLabeler\n",
    "# labeler = SectionLabeler(\"/mnt/data\", \"research\")\n",
    "# labeler.label_sections()"
   ]
  },
  {
   "cell_type": "markdown",
   "metadata": {},
   "source": [
    "Define OpenAI Labelling Software"
   ]
  },
  {
   "cell_type": "code",
   "execution_count": 22,
   "metadata": {},
   "outputs": [],
   "source": [
    "import openai  # Make sure to install the OpenAI package\n",
    "\n",
    "class OpenAIEvaluator:\n",
    "    \"\"\"\n",
    "    A class to evaluate text chunks using the OpenAI API based on the type of article.\n",
    "\n",
    "    Attributes:\n",
    "    - api_key (str): OpenAI API key.\n",
    "    - article_type (str): The type of article (e.g., 'research', 'case').\n",
    "    - questions (dict): Dictionary mapping article types to evaluation questions.\n",
    "\n",
    "    Methods:\n",
    "    - __init__: Initializes the OpenAIEvaluator class with the API key path and article type.\n",
    "    - read_api_key: Reads the OpenAI API key from a file.\n",
    "    - evaluate_with_openai: Evaluates a text chunk based on the question corresponding to the article type.\n",
    "    \"\"\"\n",
    "\n",
    "    def __init__(self, api_key_path):\n",
    "        \"\"\"\n",
    "        Initializes the OpenAIEvaluator class.\n",
    "\n",
    "        Parameters:\n",
    "        - api_key_path (str): Path to the file containing the OpenAI API key.\n",
    "        - article_type (str): The type of article (e.g., 'research', 'case').\n",
    "        \"\"\"\n",
    "        self.api_key = self.read_api_key(api_key_path)\n",
    "        openai.api_key = self.api_key\n",
    "\n",
    "    def read_api_key(self, file_path):\n",
    "        \"\"\"\n",
    "        Reads the OpenAI API key from a file.\n",
    "\n",
    "        Parameters:\n",
    "        - file_path (str): Path to the file containing the OpenAI API key.\n",
    "\n",
    "        Returns:\n",
    "        - str: OpenAI API key.\n",
    "        \"\"\"\n",
    "        with open(file_path, 'r') as file:\n",
    "            return file.readline().strip()\n",
    "\n",
    "    def evaluate_with_openai(self, chunk, questions):\n",
    "        \"\"\"\n",
    "        Evaluates a chunk based on multiple posed questions using OpenAI API.\n",
    "\n",
    "        Parameters:\n",
    "        - chunk (str): The text chunk to be evaluated.\n",
    "        - questions (list): A list of questions for evaluation.\n",
    "\n",
    "        Returns:\n",
    "        - dict: A dictionary where keys are questions and values are binary decisions (0 or 1).\n",
    "        \"\"\"\n",
    "        question_list = list(questions.keys())\n",
    "        question_prompt = \"\\n\".join([f\"{q}\" for q in question_list])\n",
    "        prompt = f\"Text Chunk: {chunk}\\n{question_prompt}\"\n",
    "\n",
    "        try:\n",
    "            response = openai.Completion.create(\n",
    "                engine=\"gpt-3.5-turbo-16k-0613\",\n",
    "                prompt=prompt,\n",
    "                max_tokens=10  # Adjust as needed\n",
    "            )\n",
    "            decision_text = response.choices[0].text.strip()\n",
    "            decisions = decision_text.split(\"\\n\")\n",
    "            \n",
    "            if len(decisions) != len(questions):\n",
    "                print(\"Warning: The number of decisions does not match the number of questions.\")\n",
    "                valid_decisions = [line.strip() for line in decisions if line.strip()]\n",
    "                if len(valid_decisions) != len(questions):\n",
    "                    decisions = valid_decisions\n",
    "                    print(\"Solved warning.\")\n",
    "                else:\n",
    "                    print('Decisions here, returning None: ', decisions)\n",
    "                    return None\n",
    "\n",
    "            return {q: 1 if \"Y\" in d else 0 for q, d in zip(questions, decisions)}\n",
    "            \n",
    "        except Exception as e:\n",
    "            print(f\"An error occurred: {e}\")\n",
    "            return \"Unidentified\""
   ]
  },
  {
   "cell_type": "code",
   "execution_count": 23,
   "metadata": {},
   "outputs": [
    {
     "name": "stderr",
     "output_type": "stream",
     "text": [
      "/Users/cu135/.local/lib/python3.10/site-packages/fuzzywuzzy/fuzz.py:11: UserWarning: Using slow pure-python SequenceMatcher. Install python-Levenshtein to remove this warning\n",
      "  warnings.warn('Using slow pure-python SequenceMatcher. Install python-Levenshtein to remove this warning')\n"
     ]
    }
   ],
   "source": [
    "# Importing required libraries\n",
    "from sklearn.feature_extraction.text import CountVectorizer\n",
    "from sklearn.decomposition import LatentDirichletAllocation\n",
    "import json\n",
    "import os\n",
    "import openai\n",
    "from tqdm import tqdm\n",
    "from fuzzywuzzy import fuzz\n",
    "\n",
    "class SectionLabeler:\n",
    "    \"\"\"\n",
    "    A class to label sections of a text document using LDA and OpenAI's GPT-3.\n",
    "\n",
    "    Attributes:\n",
    "    - folder_path (str): The path to the folder containing text files.\n",
    "    - article_type (str): The type of article (e.g., 'research', 'case').\n",
    "    - lda_model (object): The trained LDA model for topic modeling.\n",
    "    - vectorizer (object): The CountVectorizer object for text vectorization.\n",
    "    - chunker (object): The TextChunker object for text chunking.\n",
    "    - api_key (str): The OpenAI API key. [Replace with actual API key later]\n",
    "\n",
    "    Methods:\n",
    "    - train_lda: Trains the LDA model based on the text chunks.\n",
    "    - dominant_topic: Finds the dominant topic for a given text chunk.\n",
    "    - label_with_openai: Labels a section based on the dominant topic using OpenAI's GPT-3.\n",
    "    - process_files: Processes all text files in the specified folder.\n",
    "    - save_to_json: Saves the labeled sections to a JSON file.\n",
    "    \"\"\"\n",
    "\n",
    "    def __init__(self, folder_path, article_type, api_key_path=None, label_method='LDA'):\n",
    "        \"\"\"\n",
    "        Initializes the SectionLabeler class with the folder path and article type.\n",
    "\n",
    "        Parameters:\n",
    "        - api_key_path (str): Path to the file containing the OpenAI API key.\n",
    "        - article_type (str): The type of article (e.g., 'research' or 'case').\n",
    "        - folder_path (str): The path to the folder containing text files.\n",
    "        - article_type (str): The type of article (e.g., 'research', 'case').\n",
    "        \"\"\"\n",
    "        self.folder_path = folder_path\n",
    "        self.article_type = article_type\n",
    "        self.api_key_path = api_key_path\n",
    "        self.lda_model = None\n",
    "        self.vectorizer = None\n",
    "        self.chunker = None\n",
    "        self.label_method = label_method\n",
    "        self.token_max = 4098\n",
    "        self.token_safety = 0.4\n",
    "\n",
    "\n",
    "    def select_labels(self):\n",
    "        # Define section labels for each article type\n",
    "        if self.article_type == \"research\":\n",
    "            self.section_headers = {\n",
    "            \"Abstract\": [\"Abstract\"],\n",
    "            \"Introduction\": [\"Background\", \"Introduction\", \"Intro\"],\n",
    "            \"Methods\": [\"Methods\", \"Materials\", \"Material and Methods\", \"Materials & Methods\", \"Methodology\", \"Subjects and Methods\"],\n",
    "            \"Results\": [\"Results\", \"Findings\"],\n",
    "            \"Discussion\": [\"Discussion\", \"Interpretation\"],\n",
    "            \"Conclusion\": [\"Conclusion\", \"Summary\"],\n",
    "            \"References\": [\"References\", \"Bibliography\", \"Citations\"]\n",
    "            }\n",
    "        if self.article_type == \"case\":\n",
    "            self.section_headers = {\n",
    "            \"Abstract\": [\"Abstract\"],\n",
    "            \"Introduction\": [\"Background\", \"Introduction\", \"Intro\"],\n",
    "            \"Methods\": [\"Methods\", \"Materials\", \"Material and Methods\", \"Materials & Methods\", \"Methodology\", \"Subjects and Methods\"],\n",
    "            \"Results\": [\"Results\", \"Findings\"],\n",
    "            \"Discussion\": [\"Discussion\", \"Interpretation\"],\n",
    "            \"Conclusion\": [\"Conclusion\", \"Summary\"],\n",
    "            \"References\": [\"References\", \"Bibliography\", \"Citations\"]\n",
    "            }\n",
    "        else:\n",
    "            self.section_headers = {\n",
    "            \"Abstract\": [\"Abstract\"],\n",
    "            \"Introduction\": [\"Background\", \"Introduction\", \"Intro\"],\n",
    "            \"Methods\": [\"Methods\", \"Materials\", \"Material and Methods\", \"Materials & Methods\", \"Methodology\", \"Subjects and Methods\"],\n",
    "            \"Results\": [\"Results\", \"Findings\"],\n",
    "            \"Discussion\": [\"Discussion\", \"Interpretation\"],\n",
    "            \"Conclusion\": [\"Conclusion\", \"Summary\"],\n",
    "            \"References\": [\"References\", \"Bibliography\", \"Citations\"]\n",
    "            }\n",
    "            \n",
    "    def get_questions(self):\n",
    "        if self.article_type == \"research\":\n",
    "            return None\n",
    "        elif self.article_type == \"case\":\n",
    "            questions = {'Does this contain a neurological case report? (Y/N)': 'case_report'}\n",
    "            return questions\n",
    "        else:\n",
    "            return None\n",
    "        \n",
    "    def train_lda(self, text_chunks):\n",
    "        \"\"\"\n",
    "        Trains the LDA model based on the text chunks.\n",
    "\n",
    "        Parameters:\n",
    "        - text_chunks (list): List of text chunks.\n",
    "\n",
    "        Returns:\n",
    "        - object: Trained LDA model.\n",
    "        \"\"\"\n",
    "        self.vectorizer = CountVectorizer(min_df=5, max_df=0.9, stop_words='english', lowercase=True, token_pattern='[a-zA-Z\\-][a-zA-Z\\-]{2,}')\n",
    "        data_vectorized = self.vectorizer.fit_transform(text_chunks)\n",
    "        lda_model = LatentDirichletAllocation(n_components=len(self.topic_labels), max_iter=10, learning_method='online')\n",
    "        lda_Z = lda_model.fit_transform(data_vectorized)\n",
    "        self.lda_model = lda_model\n",
    "        return lda_model      \n",
    "    \n",
    "    def train_lda_on_all_files(self):\n",
    "        \"\"\"\n",
    "        Trains the LDA model on text from all files in the specified folder.\n",
    "\n",
    "        Returns:\n",
    "        - object: Trained LDA model.\n",
    "        \"\"\"\n",
    "        all_text_chunks = []\n",
    "\n",
    "        for filename in tqdm(os.listdir(self.folder_path)):\n",
    "            if filename.endswith('.txt'):\n",
    "                with open(os.path.join(self.folder_path, filename), 'r') as f:\n",
    "                    text = f.read()\n",
    "\n",
    "                self.chunker = TextChunker(text, np.round(4096*0.75)) # Set to 75% max token limit\n",
    "                self.chunker.chunk_text()\n",
    "                chunks = self.chunker.get_chunks()\n",
    "\n",
    "                all_text_chunks.extend(chunks)\n",
    "\n",
    "        # Train LDA model on all text chunks\n",
    "        return self.train_lda(all_text_chunks)  \n",
    "        \n",
    "    def dominant_topic(self, text_chunk):\n",
    "        \"\"\"\n",
    "        Finds the dominant topic for a given text chunk.\n",
    "\n",
    "        Parameters:\n",
    "        - text_chunk (str): The text chunk to be labeled.\n",
    "\n",
    "        Returns:\n",
    "        - int: Index of the dominant topic.\n",
    "        \"\"\"\n",
    "        text_vectorized = self.vectorizer.transform([text_chunk])\n",
    "        topic_probability_scores = self.lda_model.transform(text_vectorized)\n",
    "        dominant_topic_index = topic_probability_scores.argmax()\n",
    "        return dominant_topic_index\n",
    "    \n",
    "    def label_with_lda(self, text_chunk):\n",
    "        # Get the list of section labels based on the article type\n",
    "        return self.topic_labels[self.dominant_topic(text_chunk)]\n",
    "    \n",
    "    def extract_topic_significant_words(self, dominant_topic_index):\n",
    "        \"\"\"\n",
    "        Extracts significant words for a specific topic in the LDA model.\n",
    "\n",
    "        Parameters:\n",
    "        - dominant_topic_index (int): The index of the dominant topic.\n",
    "\n",
    "        Returns:\n",
    "        - list: Significant words for the dominant topic.\n",
    "        \"\"\"\n",
    "        # Initialize an empty list to store the significant words for the dominant topic\n",
    "        significant_words = []\n",
    "\n",
    "        # Get the topic-word distribution for the dominant topic\n",
    "        topic_word_distribution = self.lda_model.components_[dominant_topic_index]\n",
    "\n",
    "        # Get the indices of the top N significant words\n",
    "        N = 10  # Adjust as needed\n",
    "        top_word_indices = topic_word_distribution.argsort()[-N:][::-1]\n",
    "\n",
    "        # Get the actual words from the vectorizer\n",
    "        feature_names = self.vectorizer.get_feature_names_out()\n",
    "        significant_words = [feature_names[i] for i in top_word_indices]\n",
    "\n",
    "        return significant_words\n",
    "\n",
    "    def label_with_exact_matching(self, text):\n",
    "        labeled_sections = {}\n",
    "        current_section = None\n",
    "        current_text = \"\"\n",
    "\n",
    "        # Adding newline to section labels for exact matching\n",
    "        section_labels_with_newline = []\n",
    "        for labels in self.section_headers.values():\n",
    "            section_labels_with_newline.extend([f\"\\n{label}\\n\" for label in labels])\n",
    "\n",
    "        for line in text.split('\\n'):\n",
    "            if f\"\\n{line}\\n\" in section_labels_with_newline:\n",
    "                if current_section:\n",
    "                    labeled_sections[current_section] = current_text.strip()\n",
    "                current_section = line\n",
    "                current_text = \"\"\n",
    "            else:\n",
    "                current_text += line + \"\\n\"\n",
    "\n",
    "        # Adding the last section\n",
    "        if current_section:\n",
    "            labeled_sections[current_section] = current_text.strip()\n",
    "\n",
    "        return labeled_sections\n",
    "\n",
    "    def label_with_fuzzy_matching(self, text, labeled_sections):\n",
    "        current_section = None\n",
    "        current_text = \"\"\n",
    "\n",
    "        for line in text.split('\\n'):\n",
    "            for section, labels in self.section_headers.items():\n",
    "                if any(fuzz.partial_ratio(line, label) > 80 for label in labels):\n",
    "                    if current_section:\n",
    "                        if current_section not in labeled_sections:\n",
    "                            labeled_sections[current_section] = current_text.strip()\n",
    "                        else:\n",
    "                            labeled_sections[current_section] += \"\\n\" + current_text.strip()\n",
    "                    current_section = section\n",
    "                    current_text = \"\"\n",
    "                    break\n",
    "            else:\n",
    "                current_text += line + \"\\n\"\n",
    "\n",
    "        # Adding the last section\n",
    "        if current_section:\n",
    "            if current_section not in labeled_sections:\n",
    "                labeled_sections[current_section] = current_text.strip()\n",
    "            else:\n",
    "                labeled_sections[current_section] += \"\\n\" + current_text.strip()\n",
    "\n",
    "        return labeled_sections\n",
    "\n",
    "    def label_with_loose_matching(self, text, labeled_sections):\n",
    "        current_section = None\n",
    "        current_text = \"\"\n",
    "\n",
    "        for line in text.split('\\n'):\n",
    "            for section, labels in self.section_headers.items():\n",
    "                if any(re.search(f\"\\\\b{label}\\\\b\", line, re.IGNORECASE) for label in labels):\n",
    "                    if current_section:\n",
    "                        if current_section not in labeled_sections:\n",
    "                            labeled_sections[current_section] = current_text.strip()\n",
    "                        else:\n",
    "                            labeled_sections[current_section] += \"\\n\" + current_text.strip()\n",
    "                    current_section = section\n",
    "                    current_text = \"\"\n",
    "                    break\n",
    "            else:\n",
    "                current_text += line + \"\\n\"\n",
    "\n",
    "        # Adding the last section\n",
    "        if current_section:\n",
    "            if current_section not in labeled_sections:\n",
    "                labeled_sections[current_section] = current_text.strip()\n",
    "            else:\n",
    "                labeled_sections[current_section] += \"\\n\" + current_text.strip()\n",
    "\n",
    "        return labeled_sections\n",
    "\n",
    "    def label_text(self, text, show_residuals=True):\n",
    "        labeled_sections = self.label_with_exact_matching(text)\n",
    "        labeled_sections = self.label_with_fuzzy_matching(text, labeled_sections)\n",
    "        labeled_sections = self.label_with_loose_matching(text, labeled_sections)\n",
    "        \n",
    "        # Check for residual text\n",
    "        labeled_text = \"\".join(list(labeled_sections.values()))\n",
    "        residual_text = set(text) - set(labeled_text)\n",
    "        \n",
    "        if self.label_method=='openai':\n",
    "            # Extract only the \"References\" section from labeled_sections\n",
    "            references_section = {key: value for key, value in labeled_sections.items() if key == \"References\"}\n",
    "            \n",
    "            # Remove each labeled section from residual_text\n",
    "            residual_text = text\n",
    "            for section_text in labeled_sections.values():\n",
    "                residual_text = residual_text.replace(section_text, \"\")\n",
    "            return references_section, residual_text\n",
    "        else:\n",
    "            if len(residual_text) > 100:\n",
    "                print(f\"Warning: High number of characters missed ({len(residual_text)}), please investigate manually.\")\n",
    "                if show_residuals:\n",
    "                    print(residual_text)\n",
    "            return labeled_sections, residual_text\n",
    "        \n",
    "    def process_files(self):\n",
    "        \"\"\"\n",
    "        Processes all text files in the specified folder.\n",
    "        \"\"\"\n",
    "        output_dict = {}\n",
    "\n",
    "        self.select_labels()\n",
    "\n",
    "        for filename in tqdm(os.listdir(self.folder_path)):\n",
    "            if filename.endswith('.txt'):\n",
    "                with open(os.path.join(self.folder_path, filename), 'r') as f:\n",
    "                    text = f.read()\n",
    "\n",
    "                # Initialize labeled_sections\n",
    "                labeled_sections = {}\n",
    "\n",
    "                # Use Keyword matching to find sections first\n",
    "                if self.label_method == 'keyword_matching' or self.label_method == 'openai':\n",
    "                    labeled_sections, text = self.label_text(text)\n",
    "\n",
    "                if self.label_method != 'keyword_matching':\n",
    "                    # Split the text into sections\n",
    "                    self.chunker = TextChunker(text, np.round(self.token_max * self.token_safety))  # Set to 75% max token limit\n",
    "                    self.chunker.chunk_text()\n",
    "                    chunks = self.chunker.get_chunks()\n",
    "\n",
    "                    for i, chunk in enumerate(chunks):\n",
    "                        if self.label_method == 'LDA':\n",
    "                            self.train_lda_on_all_files()\n",
    "                            label = self.label_with_lda(chunk)\n",
    "                            labeled_sections[label] = chunk  # Moved this inside the if block\n",
    "                        elif self.label_method == 'openai':\n",
    "                            # Set questions\n",
    "                            self.questions_dict = self.get_questions()\n",
    "                            # Intializing sections\n",
    "                            for k, v in self.questions_dict.items():\n",
    "                                labeled_sections[v] = []\n",
    "                                                            \n",
    "                            self.openai_evaluator = OpenAIEvaluator(self.api_key_path)\n",
    "                            label_dict = self.openai_evaluator.evaluate_with_openai(chunk, self.questions_dict)\n",
    "                            for question, decision in label_dict.items():\n",
    "                                if decision == 1:\n",
    "                                    print(self.questions_dict[question])\n",
    "                                    print(chunk)\n",
    "                                    labeled_sections[self.questions_dict[question]].append(chunk)\n",
    "\n",
    "                        else:\n",
    "                            raise ValueError(f\"Labelling method {self.label_method} invalid. Select LDA or openai or keyword_matching\")\n",
    "\n",
    "                output_dict[filename] = labeled_sections\n",
    "\n",
    "        self.save_to_json(output_dict)\n",
    "\n",
    "    def save_to_json(self, output_dict):\n",
    "        \"\"\"\n",
    "        Saves the labeled sections to a JSON file.\n",
    "\n",
    "        Parameters:\n",
    "        - output_dict (dict): Dictionary containing the labeled sections.\n",
    "\n",
    "        Returns:\n",
    "        - None\n",
    "        \"\"\"\n",
    "        # Create a new directory in the same root folders\n",
    "        out_dir = os.path.join(os.path.dirname(self.folder_path),  f\"{self.label_method}_labeled_text\")\n",
    "        os.makedirs(out_dir, exist_ok=True)\n",
    "        with open(os.path.join(out_dir, 'labeled_sections.json'), 'w') as f:\n",
    "            json.dump(output_dict, f, indent=4)"
   ]
  },
  {
   "cell_type": "code",
   "execution_count": 24,
   "metadata": {},
   "outputs": [
    {
     "name": "stderr",
     "output_type": "stream",
     "text": [
      "100%|██████████| 107/107 [03:19<00:00,  1.86s/it]\n"
     ]
    }
   ],
   "source": [
    "# Define input and output directory paths\n",
    "article_type = \"research\" \n",
    "api_key_path = \"/Users/cu135/Library/CloudStorage/OneDrive-Personal/OneDrive_Documents/Work/Software/Research/nimlab/openai_key.txt\"\n",
    "\n",
    "# Initialize the SectionLabeler class and process the files\n",
    "section_labeler = SectionLabeler(folder_path=os.path.join(output_dir, 'preprocessed'), article_type=article_type, api_key_path=api_key_path, label_method='keyword_matching')\n",
    "section_labeler.process_files()"
   ]
  },
  {
   "cell_type": "markdown",
   "metadata": {},
   "source": [
    "# 04 - Define Your Research Questions for OpenAI\n",
    "\n",
    "Using the print_question_template Function\n",
    "\n",
    "Overview\n",
    "- The print_question_template function serves as a tool to help users generate a template of questions based on a specific context—be it for inclusion criteria, exclusion criteria, or evaluation questions. \n",
    "- You will then edit the template for your research questions and pass it to the GPT submission class. \n",
    "- This function is particularly useful for researchers or students who want to fine-tune the evaluation process of text-based data.\n",
    "\n",
    "```\n",
    "Function Signature\n",
    "python\n",
    "\n",
    "Copy code\n",
    "def print_question_template(question_type: str) -> None:\n",
    "Parameters\n",
    "question_type (str): This is the type of questions you want to print. The options are 'inclusion', 'exclusion', 'evaluation', or 'custom'.\n",
    "Returns\n",
    "None: The function prints the template to the console but does not return any value.\n",
    "How to Use\n",
    "Choose the Question Type: Decide the type of questions you need. The options are:\n",
    "\n",
    "'inclusion': For questions related to the inclusion criteria.\n",
    "'exclusion': For questions related to the exclusion criteria.\n",
    "'evaluation': For questions that evaluate the quality or specifics of the text.\n",
    "'custom': For your custom set of questions.\n",
    "\n",
    "Use the function like so:\n",
    "```\n",
    "\n",
    ">python\n",
    ">Copy code\n",
    ">print_question_template(\"inclusion\")\n",
    ">This will print a JSON-formatted dictionary of questions related to the inclusion criteria.\n",
    ">\n",
    ">Modify the Template: You can copy the printed dictionary and modify the questions or their corresponding labels as >needed.\n",
    ">\n",
    ">Pass to the Evaluator: Once modified, this dictionary can be passed as an argument to the OpenAIChatEvaluator or >any similar class for further processing.\n",
    ">\n",
    ">Example Usage\n",
    ">Here's how you can use the function to get a template for inclusion questions:\n",
    ">\n",
    ">python\n",
    ">Copy code\n",
    ">print_question_template(\"inclusion\")\n",
    ">The output will look something like this:\n",
    ">\n",
    ">json\n",
    ">Copy code\n",
    ">{\n",
    ">    \"Amnesia case report? (Y/N)\": \"case_report\",\n",
    ">    \"Published in English? (Y/N)\": \"is_english\"\n",
    ">}\n",
    ">Custom Template\n",
    ">If you choose the 'custom' type, the function will return a skeleton template with placeholders, which you can >fill in to create your own set of questions.\n",
    "\n",
    "\n",
    "Remember, the idea is to make it easier for you to generate, modify, and utilize question templates for your specific needs."
   ]
  },
  {
   "cell_type": "code",
   "execution_count": 27,
   "metadata": {},
   "outputs": [
    {
     "name": "stdout",
     "output_type": "stream",
     "text": [
      "Here is the template for the type of questions you chose:\n",
      "{\n",
      "    \"Amnesia case report? (Y/N)\": \"case_report\",\n",
      "    \"Published in English? (Y/N)\": \"is_english\"\n",
      "}\n",
      "Here is the template for the type of questions you chose:\n",
      "{\n",
      "    \"Transient amnesia, reversible amnesia symptom, severe confabulation or drug use, toxicity, epilepsy-related confusion, psychological or psychiatric-related amnesia (functional amnesia)\": \"other_cause\",\n",
      "    \"Did not examine/report both retrograde and anterograde memory domains\": \"not_both_domains\",\n",
      "    \"Without descriptive/qualitative/quantitative data on amnesia severity/memory tests/questions/scenarios/details\": \"not_enough_information\",\n",
      "    \"Had global cognitive impairment disproportionate to memory loss\": \"disproportionate_impairment\",\n",
      "    \"Without measurable lesion-related brain MR/CT scans\": \"no_scan\",\n",
      "    \"Had focal or widespread brain atrophy\": \"neurodegenerative\",\n",
      "    \"Atypical cases with selective (e.g., semantic) memory loss or material/topographic-specific memory loss\": \"atypical_case\"\n",
      "}\n"
     ]
    },
    {
     "data": {
      "text/plain": [
       "{' ? (metric/metric/metric)': 'question_label'}"
      ]
     },
     "execution_count": 27,
     "metadata": {},
     "output_type": "execute_result"
    }
   ],
   "source": [
    "def print_question_template(question_type):\n",
    "    \"\"\"\n",
    "    Prints out a template for questions based on the specified question type.\n",
    "    \n",
    "    Parameters:\n",
    "    - question_type (str): Type of questions to print ('inclusion', 'exclusion', 'evaluation').\n",
    "    \n",
    "    Returns:\n",
    "    None\n",
    "    \"\"\"\n",
    "    if question_type == \"inclusion\":\n",
    "        questions = {'Amnesia case report? (Y/N)': 'case_report',\n",
    "                     'Published in English? (Y/N)': 'is_english'}\n",
    "    elif question_type == \"exclusion\":\n",
    "        questions = {'Transient amnesia, reversible amnesia symptom, severe confabulation or drug use, toxicity, epilepsy-related confusion, psychological or psychiatric-related amnesia (functional amnesia)': 'other_cause',\n",
    "                        'Did not examine/report both retrograde and anterograde memory domains': 'not_both_domains',\n",
    "                        'Without descriptive/qualitative/quantitative data on amnesia severity/memory tests/questions/scenarios/details': 'not_enough_information',\n",
    "                        'Had global cognitive impairment disproportionate to memory loss': 'disproportionate_impairment',\n",
    "                        'Without measurable lesion-related brain MR/CT scans': 'no_scan',\n",
    "                        'Had focal or widespread brain atrophy': 'neurodegenerative',\n",
    "                        'Atypical cases with selective (e.g., semantic) memory loss or material/topographic-specific memory loss': 'atypical_case'\n",
    "                    }  \n",
    "    elif question_type == \"evaluation\":\n",
    "        questions = {'Does the patient(s) represent(s) the whole experience of the investigator (center) or is the selection method unclear to the extent that other patients with similar presentation may not have been reported? (Good/Bad/Unclear)': 'representative_case_quality',\n",
    "                        'Was patient’s causal exposure clearly described? (Good/Bad/Unclear)': 'causality_quality',\n",
    "                        'Were diagnostic tests or assessment methods and the results clearly described (amnesia tests)? (Good/Bad/Unclear)': 'phenotyping_quality',\n",
    "                        'Were other alternative causes that may explain the observation (amnesia) ruled out? (Good/Bad/Unclear)': 'workup_quality',\n",
    "                        'Were patient’s demographics, medical history, comobidities clearly described? (Good/Bad/Unclear)': 'clinical_covariates_quality',\n",
    "                        'Were patient’s symptoms, interventions, and clinical outcomes clearly presented as a timeline? (Good/Bad/Unclear)': 'history_quality',\n",
    "                        'Was the lesion image taken around the time of observation (amnesia) assessment? (Good/Bad/Unclear)': 'temporal_causality_quality',\n",
    "                        'Is the case(s) described with sufficient details to allow other investigators to replicate the research or to allow practitioners make inferences related to their own practice? (Good/Bad/Unclear)': 'history_quality_2'\n",
    "        }\n",
    "    elif question_type == \"custom\":\n",
    "        questions = {' ? (metric/metric/metric)': 'question_label',\n",
    "                        ' ? (metric/metric/metric)': 'question_label',\n",
    "                        ' ? (metric/metric/metric)': 'question_label',\n",
    "                        ' ? (metric/metric/metric)': 'question_label',\n",
    "                        ' ? (metric/metric/metric)': 'question_label',\n",
    "                        ' ? (metric/metric/metric)': 'question_label',\n",
    "                        ' ? (metric/metric/metric)': 'question_label',\n",
    "                        ' ? (metric/metric/metric)': 'question_label',\n",
    "        }\n",
    "        return questions\n",
    "    else:\n",
    "        print(\"Invalid question type. Please choose 'inclusion', 'exclusion', or 'evaluation'.\")\n",
    "        return\n",
    "    \n",
    "    print(\"Here is the template for the type of questions you chose:\")\n",
    "    print(json.dumps(questions, indent=4))\n",
    "\n",
    "# # Example usage:\n",
    "print_question_template(\"inclusion\")\n",
    "print_question_template(\"exclusion\")\n",
    "print_question_template(\"custom\")"
   ]
  },
  {
   "cell_type": "markdown",
   "metadata": {},
   "source": [
    "**Critical Note**\n",
    "- You should phrase these questions such that a Yes results in the manuscript 'passing'\n",
    "- This can be made more robust by having users deliberately map a Yes for each question to whether it is good or not. "
   ]
  },
  {
   "cell_type": "code",
   "execution_count": 28,
   "metadata": {},
   "outputs": [],
   "source": [
    "question = {\n",
    "    \"Does this have case report-style information (Y)? Or is it a different type of article (N)\": \"case_report\",\n",
    "    \"Do you think there might be a figure in this which has patient neuroimaging? (Y/N)\": \"has_imaging\",\n",
    "    \"Do you think this has ruled out transient global amnesia, reversible amnesia symptom, drug use, toxicity, epilepsy-related confusion, psychological/psychiatric/functional amnesia? (Y/N)\": \"no_confounds\",\n",
    "    \"Do you think this examined both retrograde and anterograde amnesia?\": \"examined_both_domains\",\n",
    "    \"Do you think there was a good description of the amnesia severity, either qualitatively or quantitatively? (Y/N)\": \"good_severity_grading\",\n",
    "    \"Do you think this did not have global cognitive impairment disproportionate to memory loss? (Y/N)\": \"proportionate_impairment\",\n",
    "    \"Do you think this was unrelated to focal/global brain atrophy? (Y/N)\": \"neurodegenerative_ruled_out\",\n",
    "    \"Do you think this represents a typical case of amnesia\": \"typical_case\"\n",
    "}"
   ]
  },
  {
   "cell_type": "markdown",
   "metadata": {},
   "source": [
    "# 05 - Ask Questions to OpenAI"
   ]
  },
  {
   "cell_type": "markdown",
   "metadata": {},
   "source": [
    "**Using the OpenAIChatEvaluator Class**\n",
    "\n",
    "The OpenAIChatEvaluator class extends the OpenAIEvaluator class to provide additional functionality for text evaluation based on OpenAI's chat models.\n",
    "\n",
    "Prerequisites\n",
    "```\n",
    "Python 3.x\n",
    "OpenAI Python package\n",
    "A JSON file containing labeled sections\n",
    "```\n",
    "\n",
    "Initialization\n",
    "```\n",
    "To initialize an instance of OpenAIChatEvaluator, you need to provide:\n",
    "\n",
    "API Key Path: The path to a file containing your OpenAI API key.\n",
    "JSON File Path: The path to a JSON file containing the labeled sections you want to evaluate.\n",
    "Keys to Consider: A list of keys you want the evaluator to consider for evaluation.\n",
    "Article Type: The type of article you are evaluating (e.g., 'research', 'case').\n",
    "```\n",
    "\n",
    "Methods\n",
    "```\n",
    "- read_json\n",
    "- This method reads a JSON file from a given file path.\n",
    "- json_data = evaluator.read_json('labeled_sections.json')\n",
    "\n",
    "- get_questions\n",
    "- This method generates evaluation questions based on the article_type. It returns a dictionary of questions.\n",
    "- questions = evaluator.get_questions()\n",
    "\n",
    "- send_to_openai\n",
    "- This method takes a list of text chunks and sends them to OpenAI for evaluation.  It returns a list of answers corresponding to the chunks.\n",
    "- answers = evaluator.send_to_openai(['chunk1', 'chunk2'])\n",
    "```\n",
    "____\n",
    "# Workflow Example\n",
    "\n",
    "Here's how you could use OpenAIChatEvaluator to evaluate a list of text chunks.\n",
    "\n",
    "> python\n",
    "> # Initialize the evaluator\n",
    "> evaluator = OpenAIChatEvaluator('your_api_key.txt', 'labeled_sections.json', ['Introduction', 'Methods'], 'case')\n",
    ">\n",
    "> # Generate questions based on the article type\n",
    "> questions = evaluator.get_questions()\n",
    ">\n",
    "> # Evaluate a list of text chunks\n",
    "> chunks = ['This is a sample chunk.', 'This is another sample chunk.']\n",
    "> answers = evaluator.send_to_openai(chunks)\n",
    ">\n",
    "> # Print the answers\n",
    "> print(answers)\n",
    "\n",
    "By following this guide, you should be able to use the OpenAIChatEvaluator class for evaluating text based on OpenAI's chat models.\n",
    "\n"
   ]
  },
  {
   "cell_type": "code",
   "execution_count": 58,
   "metadata": {},
   "outputs": [],
   "source": [
    "import openai  # Make sure to install the OpenAI package\n",
    "import json\n",
    "import numpy as np\n",
    "from tqdm import tqdm\n",
    "import time\n",
    "\n",
    "class OpenAIChatEvaluator(OpenAIEvaluator):\n",
    "    \"\"\"\n",
    "    Class to evaluate text chunks using OpenAI's chat models.\n",
    "    \n",
    "    Attributes:\n",
    "    - token_limit (int): The maximum number of tokens allowed in each OpenAI API call.\n",
    "    - question_token (int): The number of tokens reserved for the question.\n",
    "    - answer_token (int): The number of tokens reserved for the answer.\n",
    "    - json_data (dict): The data read from the JSON file.\n",
    "    - keys_to_consider (list): List of keys to consider from the JSON file.\n",
    "    - article_type (str): The type of article (e.g., 'research', 'case').\n",
    "    - questions (dict): Dictionary mapping article types to evaluation questions.\n",
    "    \"\"\"\n",
    "    \n",
    "    def __init__(self, api_key_path, json_file_path, keys_to_consider, question_type, question, token_limit=16000, question_token=500, answer_token=500):\n",
    "        \"\"\"\n",
    "        Initializes the OpenAIChatEvaluator class.\n",
    "        \n",
    "        Parameters:\n",
    "        - api_key_path (str): Path to the file containing the OpenAI API key.\n",
    "        - json_file_path (str): Path to the JSON file containing the text data.\n",
    "        - keys_to_consider (list): List of keys to consider from the JSON file.\n",
    "        - article_type (str): The type of article (e.g., 'research', 'case').\n",
    "        - token_limit (int): The maximum number of tokens allowed in each OpenAI API call. Default is 16000.\n",
    "        - question_token (int): The number of tokens reserved for the question. Default is 500.\n",
    "        - answer_token (int): The number of tokens reserved for the answer. Default is 500.\n",
    "        \"\"\"\n",
    "        super().__init__(api_key_path)  # Call the parent class's constructor\n",
    "        self.questions = question\n",
    "        self.token_limit = token_limit\n",
    "        self.question_token = question_token\n",
    "        self.answer_token = answer_token\n",
    "        self.json_path = json_file_path\n",
    "        self.json_data = self.read_json(json_file_path)\n",
    "        self.keys_to_consider = keys_to_consider\n",
    "        self.question_type = question_type\n",
    "        self.extract_relevant_text()\n",
    "        self.all_answers = {}\n",
    "        self.debug = False\n",
    "\n",
    "    def read_json(self, json_file_path):\n",
    "        \"\"\"\n",
    "        Reads JSON data from a file.\n",
    "        \n",
    "        Parameters:\n",
    "        - json_file_path (str): Path to the JSON file containing the text data.\n",
    "        \n",
    "        Returns:\n",
    "        - dict: The data read from the JSON file.\n",
    "        \"\"\"\n",
    "        try:\n",
    "            with open(json_file_path, 'r') as file:\n",
    "                return json.load(file)\n",
    "        except FileNotFoundError:\n",
    "            print(f\"Error: File {json_file_path} not found.\")\n",
    "            return {}\n",
    "        except json.JSONDecodeError:\n",
    "            print(\"Error: Could not decode the JSON file.\")\n",
    "            return {}\n",
    "\n",
    "    \n",
    "    def extract_relevant_text(self):\n",
    "        \"\"\"\n",
    "        Extracts and stores relevant text sections based on keys_to_consider.\n",
    "        \"\"\"\n",
    "        self.relevant_text_by_file = {}\n",
    "        for file_name, sections in self.json_data.items():\n",
    "            selected_text = \"\"\n",
    "            for key, value in sections.items():\n",
    "                if key in self.keys_to_consider:\n",
    "                    selected_text += value\n",
    "            self.relevant_text_by_file[file_name] = selected_text\n",
    "\n",
    "    def evaluate_all_files(self):\n",
    "        for file_name, selected_text in tqdm(self.relevant_text_by_file.items()):\n",
    "            # Initialize a dictionary to store answers for this file\n",
    "            self.all_answers[file_name] = {}\n",
    "            if self.debug:\n",
    "                print('On file:', file_name)\n",
    "            \n",
    "            # Chunk the text\n",
    "            text_chunker = TextChunker(selected_text, np.round((self.token_limit) * 0.7))\n",
    "            text_chunker.chunk_text()\n",
    "            chunks = text_chunker.get_chunks()\n",
    "            if self.debug:\n",
    "                print('Number of chunks:', len(chunks))\n",
    "            \n",
    "            # Initialize a dictionary to store chunk-level answers for each question\n",
    "            for question in self.questions.keys():\n",
    "                self.all_answers[file_name][question] = {}\n",
    "\n",
    "            # Send a query for each chunk\n",
    "            for chunk_index, chunk in enumerate(chunks):\n",
    "                if self.debug:\n",
    "                    print('On chunk:', chunk_index)\n",
    "                # Reset the conversation each time\n",
    "                conversation = []\n",
    "                conversation.append({\"role\": \"system\", \"content\": \"You are a helpful assistant.\"})\n",
    "                conversation.append({\"role\": \"user\", \"content\": f\"Text Chunk: {chunk}\"})\n",
    "                \n",
    "                # Initialize a conversation with OpenAI for this chunk\n",
    "                for q_index, q in enumerate(self.questions.keys()):\n",
    "                    # Use a while loop to allow 3 submission attempts\n",
    "                    retry_count = 0\n",
    "                    while retry_count < 3:\n",
    "                        try:\n",
    "                            # Add the question to the conversation and send it\n",
    "                            conversation.append({\"role\": \"user\", \"content\": q})\n",
    "                            response = openai.ChatCompletion.create(\n",
    "                                model=\"gpt-3.5-turbo-16k\",\n",
    "                                messages=conversation\n",
    "                            )\n",
    "                            \n",
    "                            # Retrieve the assistant's last answer\n",
    "                            answer = response['choices'][-1]['message']['content']\n",
    "                            \n",
    "                            # Store the answer for this question and this chunk\n",
    "                            self.all_answers[file_name][q][f\"chunk_{chunk_index+1}\"] = answer\n",
    "                            \n",
    "                            # Add the assistant's answer back to the conversation to maintain context\n",
    "                            conversation.append({\"role\": \"assistant\", \"content\": answer})\n",
    "                            \n",
    "                            time.sleep(0.1)\n",
    "                            break  # Exit the loop if successful\n",
    "                        \n",
    "                        #Handle Exceptions\n",
    "                        except Exception as e:\n",
    "                            if type(e).__name__ == 'RateLimitError':\n",
    "                                print(f\"Rate limit error: {e}. Retrying... ({retry_count+1})\")\n",
    "                                retry_count += 1\n",
    "                                time.sleep(30)\n",
    "                            else:\n",
    "                                print(f\"An error occurred: {e}. Retrying... ({retry_count+1})\")\n",
    "                                retry_count += 1\n",
    "                                time.sleep(5)\n",
    "                                            \n",
    "                    if retry_count == 3:\n",
    "                        self.all_answers[file_name][q][f\"chunk_{chunk_index+1}\"] = \"Unidentified\"\n",
    "                    \n",
    "        return self.all_answers\n",
    "        \n",
    "    def send_to_openai(self, chunks):\n",
    "        \"\"\"\n",
    "        Sends text chunks to OpenAI for evaluation.\n",
    "        \n",
    "        Parameters:\n",
    "        - chunks (list): List of text chunks to evaluate.\n",
    "        \n",
    "        Returns:\n",
    "        - list: List of answers received from OpenAI.\n",
    "        \"\"\"\n",
    "        answers = []\n",
    "        for chunk in chunks:\n",
    "            prompt = f\"Text Chunk: {chunk}\\n{self.questions}\"\n",
    "\n",
    "            try:\n",
    "                response = openai.Completion.create(\n",
    "                    engine=\"gpt-3.5-turbo-16k\",\n",
    "                    prompt=prompt,\n",
    "                    max_tokens=self.answer_token  # Adjust as needed\n",
    "                )\n",
    "                decision_text = response.choices[0].text.strip()\n",
    "                answers.append(decision_text)\n",
    "\n",
    "            except Exception as e:\n",
    "                print(f\"An error occurred during response handling: {e}\")\n",
    "                answers.append(\"Unidentified\")\n",
    "\n",
    "        return answers\n",
    "    \n",
    "    def save_to_json(self, output_dict):\n",
    "        \"\"\"\n",
    "        Saves the labeled sections to a JSON file.\n",
    "\n",
    "        Parameters:\n",
    "        - output_dict (dict): Dictionary containing the labeled sections.\n",
    "\n",
    "        Returns:\n",
    "        - None\n",
    "        \"\"\"\n",
    "        # Create a new directory in the same root folder\n",
    "        out_dir = os.path.join(os.path.dirname(self.json_path), \"text_evaluations\")\n",
    "        os.makedirs(out_dir, exist_ok=True)\n",
    "        \n",
    "        # Save the dictionary to a JSON file\n",
    "        with open(os.path.join(out_dir, f'{self.question_type}_evaluations.json'), 'w') as f:\n",
    "            json.dump(output_dict, f, indent=4)"
   ]
  },
  {
   "cell_type": "code",
   "execution_count": 59,
   "metadata": {},
   "outputs": [],
   "source": [
    "api_key_path = \"/Users/cu135/Library/CloudStorage/OneDrive-Personal/OneDrive_Documents/Work/Software/Research/nimlab/openai_key.txt\"\n",
    "json_file_path = \"/Users/cu135/Library/CloudStorage/OneDrive-Personal/OneDrive_Documents/Work/Software/Research/nimlab/gpt_document_reader/amnesia_cases/ocr/keyword_matching_labeled_text/labeled_sections.json\"\n",
    "\n",
    "# Define the keys you want to consider (exclude 'References')\n",
    "keys_to_consider = [\"Introduction\", \"Methods\", \"Results\", \"Discussion\", \"Conclusion\"]  # Add or remove keys as per your requirement\n",
    "\n",
    "# Define the type of article and questions\n",
    "article_type = \"research\""
   ]
  },
  {
   "cell_type": "code",
   "execution_count": 60,
   "metadata": {},
   "outputs": [
    {
     "name": "stderr",
     "output_type": "stream",
     "text": [
      "  3%|▎         | 3/107 [00:26<14:08,  8.16s/it]"
     ]
    },
    {
     "name": "stdout",
     "output_type": "stream",
     "text": [
      "Rate limit error: Rate limit reached for default-gpt-3.5-turbo-16k in organization org-Y2tKyCPFO6tIjtCtOVZ7c9tr on tokens per min. Limit: 180000 / min. Current: 176434 / min. Contact us through our help center at help.openai.com if you continue to have issues.. Retrying... (1)\n"
     ]
    },
    {
     "name": "stderr",
     "output_type": "stream",
     "text": [
      "  5%|▍         | 5/107 [01:59<47:25, 27.90s/it]  "
     ]
    },
    {
     "name": "stdout",
     "output_type": "stream",
     "text": [
      "Rate limit error: Rate limit reached for default-gpt-3.5-turbo-16k in organization org-Y2tKyCPFO6tIjtCtOVZ7c9tr on tokens per min. Limit: 180000 / min. Current: 171690 / min. Contact us through our help center at help.openai.com if you continue to have issues.. Retrying... (1)\n"
     ]
    },
    {
     "name": "stderr",
     "output_type": "stream",
     "text": [
      "  7%|▋         | 8/107 [03:58<49:36, 30.07s/it]  "
     ]
    },
    {
     "name": "stdout",
     "output_type": "stream",
     "text": [
      "Rate limit error: Rate limit reached for default-gpt-3.5-turbo-16k in organization org-Y2tKyCPFO6tIjtCtOVZ7c9tr on tokens per min. Limit: 180000 / min. Current: 173860 / min. Contact us through our help center at help.openai.com if you continue to have issues.. Retrying... (1)\n",
      "Rate limit error: Rate limit reached for default-gpt-3.5-turbo-16k in organization org-Y2tKyCPFO6tIjtCtOVZ7c9tr on tokens per min. Limit: 180000 / min. Current: 173121 / min. Contact us through our help center at help.openai.com if you continue to have issues.. Retrying... (1)\n"
     ]
    },
    {
     "name": "stderr",
     "output_type": "stream",
     "text": [
      "  9%|▉         | 10/107 [07:05<1:30:34, 56.02s/it]"
     ]
    },
    {
     "name": "stdout",
     "output_type": "stream",
     "text": [
      "Rate limit error: Rate limit reached for default-gpt-3.5-turbo-16k in organization org-Y2tKyCPFO6tIjtCtOVZ7c9tr on tokens per min. Limit: 180000 / min. Current: 171560 / min. Contact us through our help center at help.openai.com if you continue to have issues.. Retrying... (1)\n"
     ]
    },
    {
     "name": "stderr",
     "output_type": "stream",
     "text": [
      " 11%|█         | 12/107 [08:24<1:10:00, 44.21s/it]"
     ]
    },
    {
     "name": "stdout",
     "output_type": "stream",
     "text": [
      "Rate limit error: Rate limit reached for default-gpt-3.5-turbo-16k in organization org-Y2tKyCPFO6tIjtCtOVZ7c9tr on tokens per min. Limit: 180000 / min. Current: 171877 / min. Contact us through our help center at help.openai.com if you continue to have issues.. Retrying... (1)\n"
     ]
    },
    {
     "name": "stderr",
     "output_type": "stream",
     "text": [
      " 13%|█▎        | 14/107 [09:49<1:03:01, 40.66s/it]"
     ]
    },
    {
     "name": "stdout",
     "output_type": "stream",
     "text": [
      "Rate limit error: Rate limit reached for default-gpt-3.5-turbo-16k in organization org-Y2tKyCPFO6tIjtCtOVZ7c9tr on tokens per min. Limit: 180000 / min. Current: 171947 / min. Contact us through our help center at help.openai.com if you continue to have issues.. Retrying... (1)\n"
     ]
    },
    {
     "name": "stderr",
     "output_type": "stream",
     "text": [
      " 14%|█▍        | 15/107 [11:18<1:24:26, 55.07s/it]"
     ]
    },
    {
     "name": "stdout",
     "output_type": "stream",
     "text": [
      "An error occurred: The server is overloaded or not ready yet.. Retrying... (1)\n",
      "Rate limit error: Rate limit reached for default-gpt-3.5-turbo-16k in organization org-Y2tKyCPFO6tIjtCtOVZ7c9tr on tokens per min. Limit: 180000 / min. Current: 174505 / min. Contact us through our help center at help.openai.com if you continue to have issues.. Retrying... (1)\n"
     ]
    },
    {
     "name": "stderr",
     "output_type": "stream",
     "text": [
      " 16%|█▌        | 17/107 [12:49<1:15:58, 50.65s/it]"
     ]
    },
    {
     "name": "stdout",
     "output_type": "stream",
     "text": [
      "Rate limit error: Rate limit reached for default-gpt-3.5-turbo-16k in organization org-Y2tKyCPFO6tIjtCtOVZ7c9tr on tokens per min. Limit: 180000 / min. Current: 176312 / min. Contact us through our help center at help.openai.com if you continue to have issues.. Retrying... (1)\n",
      "Rate limit error: Rate limit reached for default-gpt-3.5-turbo-16k in organization org-Y2tKyCPFO6tIjtCtOVZ7c9tr on tokens per min. Limit: 180000 / min. Current: 174787 / min. Contact us through our help center at help.openai.com if you continue to have issues.. Retrying... (1)\n"
     ]
    },
    {
     "name": "stderr",
     "output_type": "stream",
     "text": [
      " 22%|██▏       | 24/107 [16:52<31:50, 23.01s/it]  "
     ]
    },
    {
     "name": "stdout",
     "output_type": "stream",
     "text": [
      "Rate limit error: Rate limit reached for default-gpt-3.5-turbo-16k in organization org-Y2tKyCPFO6tIjtCtOVZ7c9tr on tokens per min. Limit: 180000 / min. Current: 175596 / min. Contact us through our help center at help.openai.com if you continue to have issues.. Retrying... (1)\n"
     ]
    },
    {
     "name": "stderr",
     "output_type": "stream",
     "text": [
      " 23%|██▎       | 25/107 [18:12<54:22, 39.78s/it]"
     ]
    },
    {
     "name": "stdout",
     "output_type": "stream",
     "text": [
      "Rate limit error: Rate limit reached for default-gpt-3.5-turbo-16k in organization org-Y2tKyCPFO6tIjtCtOVZ7c9tr on tokens per min. Limit: 180000 / min. Current: 172904 / min. Contact us through our help center at help.openai.com if you continue to have issues.. Retrying... (1)\n"
     ]
    },
    {
     "name": "stderr",
     "output_type": "stream",
     "text": [
      " 27%|██▋       | 29/107 [20:34<40:14, 30.95s/it]  "
     ]
    },
    {
     "name": "stdout",
     "output_type": "stream",
     "text": [
      "Rate limit error: Rate limit reached for default-gpt-3.5-turbo-16k in organization org-Y2tKyCPFO6tIjtCtOVZ7c9tr on tokens per min. Limit: 180000 / min. Current: 175148 / min. Contact us through our help center at help.openai.com if you continue to have issues.. Retrying... (1)\n"
     ]
    },
    {
     "name": "stderr",
     "output_type": "stream",
     "text": [
      " 28%|██▊       | 30/107 [21:53<58:13, 45.37s/it]"
     ]
    },
    {
     "name": "stdout",
     "output_type": "stream",
     "text": [
      "Rate limit error: Rate limit reached for default-gpt-3.5-turbo-16k in organization org-Y2tKyCPFO6tIjtCtOVZ7c9tr on tokens per min. Limit: 180000 / min. Current: 171955 / min. Contact us through our help center at help.openai.com if you continue to have issues.. Retrying... (1)\n"
     ]
    },
    {
     "name": "stderr",
     "output_type": "stream",
     "text": [
      " 30%|██▉       | 32/107 [23:31<54:05, 43.27s/it]  "
     ]
    },
    {
     "name": "stdout",
     "output_type": "stream",
     "text": [
      "Rate limit error: Rate limit reached for default-gpt-3.5-turbo-16k in organization org-Y2tKyCPFO6tIjtCtOVZ7c9tr on tokens per min. Limit: 180000 / min. Current: 175179 / min. Contact us through our help center at help.openai.com if you continue to have issues.. Retrying... (1)\n"
     ]
    },
    {
     "name": "stderr",
     "output_type": "stream",
     "text": [
      " 32%|███▏      | 34/107 [25:02<49:35, 40.76s/it]  "
     ]
    },
    {
     "name": "stdout",
     "output_type": "stream",
     "text": [
      "Rate limit error: Rate limit reached for default-gpt-3.5-turbo-16k in organization org-Y2tKyCPFO6tIjtCtOVZ7c9tr on tokens per min. Limit: 180000 / min. Current: 175310 / min. Contact us through our help center at help.openai.com if you continue to have issues.. Retrying... (1)\n"
     ]
    },
    {
     "name": "stderr",
     "output_type": "stream",
     "text": [
      " 35%|███▍      | 37/107 [26:31<33:05, 28.36s/it]  "
     ]
    },
    {
     "name": "stdout",
     "output_type": "stream",
     "text": [
      "Rate limit error: Rate limit reached for default-gpt-3.5-turbo-16k in organization org-Y2tKyCPFO6tIjtCtOVZ7c9tr on tokens per min. Limit: 180000 / min. Current: 175206 / min. Contact us through our help center at help.openai.com if you continue to have issues.. Retrying... (1)\n"
     ]
    },
    {
     "name": "stderr",
     "output_type": "stream",
     "text": [
      " 38%|███▊      | 41/107 [28:14<22:31, 20.47s/it]"
     ]
    },
    {
     "name": "stdout",
     "output_type": "stream",
     "text": [
      "Rate limit error: Rate limit reached for default-gpt-3.5-turbo-16k in organization org-Y2tKyCPFO6tIjtCtOVZ7c9tr on tokens per min. Limit: 180000 / min. Current: 178141 / min. Contact us through our help center at help.openai.com if you continue to have issues.. Retrying... (1)\n",
      "Rate limit error: Rate limit reached for default-gpt-3.5-turbo-16k in organization org-Y2tKyCPFO6tIjtCtOVZ7c9tr on tokens per min. Limit: 180000 / min. Current: 177424 / min. Contact us through our help center at help.openai.com if you continue to have issues.. Retrying... (1)\n"
     ]
    },
    {
     "name": "stderr",
     "output_type": "stream",
     "text": [
      " 39%|███▉      | 42/107 [30:43<1:03:56, 59.03s/it]"
     ]
    },
    {
     "name": "stdout",
     "output_type": "stream",
     "text": [
      "Rate limit error: Rate limit reached for default-gpt-3.5-turbo-16k in organization org-Y2tKyCPFO6tIjtCtOVZ7c9tr on tokens per min. Limit: 180000 / min. Current: 177516 / min. Contact us through our help center at help.openai.com if you continue to have issues.. Retrying... (1)\n"
     ]
    },
    {
     "name": "stderr",
     "output_type": "stream",
     "text": [
      " 43%|████▎     | 46/107 [32:47<31:20, 30.83s/it]  "
     ]
    },
    {
     "name": "stdout",
     "output_type": "stream",
     "text": [
      "Rate limit error: Rate limit reached for default-gpt-3.5-turbo-16k in organization org-Y2tKyCPFO6tIjtCtOVZ7c9tr on tokens per min. Limit: 180000 / min. Current: 175099 / min. Contact us through our help center at help.openai.com if you continue to have issues.. Retrying... (1)\n"
     ]
    },
    {
     "name": "stderr",
     "output_type": "stream",
     "text": [
      " 44%|████▍     | 47/107 [34:17<48:27, 48.46s/it]"
     ]
    },
    {
     "name": "stdout",
     "output_type": "stream",
     "text": [
      "Rate limit error: Rate limit reached for default-gpt-3.5-turbo-16k in organization org-Y2tKyCPFO6tIjtCtOVZ7c9tr on tokens per min. Limit: 180000 / min. Current: 174469 / min. Contact us through our help center at help.openai.com if you continue to have issues.. Retrying... (1)\n"
     ]
    },
    {
     "name": "stderr",
     "output_type": "stream",
     "text": [
      " 46%|████▌     | 49/107 [35:48<42:58, 44.45s/it]"
     ]
    },
    {
     "name": "stdout",
     "output_type": "stream",
     "text": [
      "Rate limit error: Rate limit reached for default-gpt-3.5-turbo-16k in organization org-Y2tKyCPFO6tIjtCtOVZ7c9tr on tokens per min. Limit: 180000 / min. Current: 173761 / min. Contact us through our help center at help.openai.com if you continue to have issues.. Retrying... (1)\n"
     ]
    },
    {
     "name": "stderr",
     "output_type": "stream",
     "text": [
      " 49%|████▊     | 52/107 [37:27<29:34, 32.26s/it]"
     ]
    },
    {
     "name": "stdout",
     "output_type": "stream",
     "text": [
      "Rate limit error: Rate limit reached for default-gpt-3.5-turbo-16k in organization org-Y2tKyCPFO6tIjtCtOVZ7c9tr on tokens per min. Limit: 180000 / min. Current: 172549 / min. Contact us through our help center at help.openai.com if you continue to have issues.. Retrying... (1)\n"
     ]
    },
    {
     "name": "stderr",
     "output_type": "stream",
     "text": [
      " 50%|████▉     | 53/107 [38:41<40:17, 44.76s/it]"
     ]
    },
    {
     "name": "stdout",
     "output_type": "stream",
     "text": [
      "Rate limit error: Rate limit reached for default-gpt-3.5-turbo-16k in organization org-Y2tKyCPFO6tIjtCtOVZ7c9tr on tokens per min. Limit: 180000 / min. Current: 172603 / min. Contact us through our help center at help.openai.com if you continue to have issues.. Retrying... (1)\n"
     ]
    },
    {
     "name": "stderr",
     "output_type": "stream",
     "text": [
      " 51%|█████▏    | 55/107 [40:20<37:22, 43.12s/it]"
     ]
    },
    {
     "name": "stdout",
     "output_type": "stream",
     "text": [
      "Rate limit error: Rate limit reached for default-gpt-3.5-turbo-16k in organization org-Y2tKyCPFO6tIjtCtOVZ7c9tr on tokens per min. Limit: 180000 / min. Current: 176607 / min. Contact us through our help center at help.openai.com if you continue to have issues.. Retrying... (1)\n"
     ]
    },
    {
     "name": "stderr",
     "output_type": "stream",
     "text": [
      " 52%|█████▏    | 56/107 [41:39<45:58, 54.09s/it]"
     ]
    },
    {
     "name": "stdout",
     "output_type": "stream",
     "text": [
      "Rate limit error: Rate limit reached for default-gpt-3.5-turbo-16k in organization org-Y2tKyCPFO6tIjtCtOVZ7c9tr on tokens per min. Limit: 180000 / min. Current: 175077 / min. Contact us through our help center at help.openai.com if you continue to have issues.. Retrying... (1)\n"
     ]
    },
    {
     "name": "stderr",
     "output_type": "stream",
     "text": [
      " 55%|█████▌    | 59/107 [43:14<27:18, 34.14s/it]"
     ]
    },
    {
     "name": "stdout",
     "output_type": "stream",
     "text": [
      "Rate limit error: Rate limit reached for default-gpt-3.5-turbo-16k in organization org-Y2tKyCPFO6tIjtCtOVZ7c9tr on tokens per min. Limit: 180000 / min. Current: 173238 / min. Contact us through our help center at help.openai.com if you continue to have issues.. Retrying... (1)\n"
     ]
    },
    {
     "name": "stderr",
     "output_type": "stream",
     "text": [
      " 59%|█████▉    | 63/107 [45:40<20:08, 27.46s/it]"
     ]
    },
    {
     "name": "stdout",
     "output_type": "stream",
     "text": [
      "Rate limit error: Rate limit reached for default-gpt-3.5-turbo-16k in organization org-Y2tKyCPFO6tIjtCtOVZ7c9tr on tokens per min. Limit: 180000 / min. Current: 176804 / min. Contact us through our help center at help.openai.com if you continue to have issues.. Retrying... (1)\n"
     ]
    },
    {
     "name": "stderr",
     "output_type": "stream",
     "text": [
      " 60%|█████▉    | 64/107 [46:55<29:45, 41.53s/it]"
     ]
    },
    {
     "name": "stdout",
     "output_type": "stream",
     "text": [
      "Rate limit error: Rate limit reached for default-gpt-3.5-turbo-16k in organization org-Y2tKyCPFO6tIjtCtOVZ7c9tr on tokens per min. Limit: 180000 / min. Current: 171201 / min. Contact us through our help center at help.openai.com if you continue to have issues.. Retrying... (1)\n"
     ]
    },
    {
     "name": "stderr",
     "output_type": "stream",
     "text": [
      " 61%|██████    | 65/107 [48:21<38:32, 55.06s/it]"
     ]
    },
    {
     "name": "stdout",
     "output_type": "stream",
     "text": [
      "An error occurred: The server is overloaded or not ready yet.. Retrying... (1)\n"
     ]
    },
    {
     "name": "stderr",
     "output_type": "stream",
     "text": [
      " 64%|██████▎   | 68/107 [48:50<16:05, 24.75s/it]"
     ]
    },
    {
     "name": "stdout",
     "output_type": "stream",
     "text": [
      "Rate limit error: Rate limit reached for default-gpt-3.5-turbo-16k in organization org-Y2tKyCPFO6tIjtCtOVZ7c9tr on tokens per min. Limit: 180000 / min. Current: 178079 / min. Contact us through our help center at help.openai.com if you continue to have issues.. Retrying... (1)\n"
     ]
    },
    {
     "name": "stderr",
     "output_type": "stream",
     "text": [
      " 65%|██████▌   | 70/107 [50:18<19:28, 31.58s/it]"
     ]
    },
    {
     "name": "stdout",
     "output_type": "stream",
     "text": [
      "Rate limit error: Rate limit reached for default-gpt-3.5-turbo-16k in organization org-Y2tKyCPFO6tIjtCtOVZ7c9tr on tokens per min. Limit: 180000 / min. Current: 177501 / min. Contact us through our help center at help.openai.com if you continue to have issues.. Retrying... (1)\n"
     ]
    },
    {
     "name": "stderr",
     "output_type": "stream",
     "text": [
      " 66%|██████▋   | 71/107 [51:31<26:24, 44.00s/it]"
     ]
    },
    {
     "name": "stdout",
     "output_type": "stream",
     "text": [
      "Rate limit error: Rate limit reached for default-gpt-3.5-turbo-16k in organization org-Y2tKyCPFO6tIjtCtOVZ7c9tr on tokens per min. Limit: 180000 / min. Current: 176217 / min. Contact us through our help center at help.openai.com if you continue to have issues.. Retrying... (1)\n"
     ]
    },
    {
     "name": "stderr",
     "output_type": "stream",
     "text": [
      " 69%|██████▉   | 74/107 [53:33<19:37, 35.68s/it]"
     ]
    },
    {
     "name": "stdout",
     "output_type": "stream",
     "text": [
      "Rate limit error: Rate limit reached for default-gpt-3.5-turbo-16k in organization org-Y2tKyCPFO6tIjtCtOVZ7c9tr on tokens per min. Limit: 180000 / min. Current: 173822 / min. Contact us through our help center at help.openai.com if you continue to have issues.. Retrying... (1)\n"
     ]
    },
    {
     "name": "stderr",
     "output_type": "stream",
     "text": [
      " 72%|███████▏  | 77/107 [55:10<14:50, 29.69s/it]"
     ]
    },
    {
     "name": "stdout",
     "output_type": "stream",
     "text": [
      "Rate limit error: Rate limit reached for default-gpt-3.5-turbo-16k in organization org-Y2tKyCPFO6tIjtCtOVZ7c9tr on tokens per min. Limit: 180000 / min. Current: 178404 / min. Contact us through our help center at help.openai.com if you continue to have issues.. Retrying... (1)\n"
     ]
    },
    {
     "name": "stderr",
     "output_type": "stream",
     "text": [
      " 75%|███████▍  | 80/107 [56:55<12:25, 27.62s/it]"
     ]
    },
    {
     "name": "stdout",
     "output_type": "stream",
     "text": [
      "Rate limit error: Rate limit reached for default-gpt-3.5-turbo-16k in organization org-Y2tKyCPFO6tIjtCtOVZ7c9tr on tokens per min. Limit: 180000 / min. Current: 177316 / min. Contact us through our help center at help.openai.com if you continue to have issues.. Retrying... (1)\n"
     ]
    },
    {
     "name": "stderr",
     "output_type": "stream",
     "text": [
      " 78%|███████▊  | 83/107 [58:43<10:45, 26.90s/it]"
     ]
    },
    {
     "name": "stdout",
     "output_type": "stream",
     "text": [
      "Rate limit error: Rate limit reached for default-gpt-3.5-turbo-16k in organization org-Y2tKyCPFO6tIjtCtOVZ7c9tr on tokens per min. Limit: 180000 / min. Current: 172857 / min. Contact us through our help center at help.openai.com if you continue to have issues.. Retrying... (1)\n"
     ]
    },
    {
     "name": "stderr",
     "output_type": "stream",
     "text": [
      " 79%|███████▊  | 84/107 [1:00:19<18:17, 47.72s/it]"
     ]
    },
    {
     "name": "stdout",
     "output_type": "stream",
     "text": [
      "Rate limit error: Rate limit reached for default-gpt-3.5-turbo-16k in organization org-Y2tKyCPFO6tIjtCtOVZ7c9tr on tokens per min. Limit: 180000 / min. Current: 175744 / min. Contact us through our help center at help.openai.com if you continue to have issues.. Retrying... (1)\n"
     ]
    },
    {
     "name": "stderr",
     "output_type": "stream",
     "text": [
      " 79%|███████▉  | 85/107 [1:01:44<21:39, 59.06s/it]"
     ]
    },
    {
     "name": "stdout",
     "output_type": "stream",
     "text": [
      "Rate limit error: Rate limit reached for default-gpt-3.5-turbo-16k in organization org-Y2tKyCPFO6tIjtCtOVZ7c9tr on tokens per min. Limit: 180000 / min. Current: 174905 / min. Contact us through our help center at help.openai.com if you continue to have issues.. Retrying... (1)\n"
     ]
    },
    {
     "name": "stderr",
     "output_type": "stream",
     "text": [
      " 81%|████████▏ | 87/107 [1:03:19<16:46, 50.33s/it]"
     ]
    },
    {
     "name": "stdout",
     "output_type": "stream",
     "text": [
      "Rate limit error: Rate limit reached for default-gpt-3.5-turbo-16k in organization org-Y2tKyCPFO6tIjtCtOVZ7c9tr on tokens per min. Limit: 180000 / min. Current: 175723 / min. Contact us through our help center at help.openai.com if you continue to have issues.. Retrying... (1)\n"
     ]
    },
    {
     "name": "stderr",
     "output_type": "stream",
     "text": [
      " 83%|████████▎ | 89/107 [1:05:12<15:16, 50.92s/it]"
     ]
    },
    {
     "name": "stdout",
     "output_type": "stream",
     "text": [
      "Rate limit error: Rate limit reached for default-gpt-3.5-turbo-16k in organization org-Y2tKyCPFO6tIjtCtOVZ7c9tr on tokens per min. Limit: 180000 / min. Current: 176275 / min. Contact us through our help center at help.openai.com if you continue to have issues.. Retrying... (1)\n",
      "Rate limit error: Rate limit reached for default-gpt-3.5-turbo-16k in organization org-Y2tKyCPFO6tIjtCtOVZ7c9tr on tokens per min. Limit: 180000 / min. Current: 172268 / min. Contact us through our help center at help.openai.com if you continue to have issues.. Retrying... (1)\n"
     ]
    },
    {
     "name": "stderr",
     "output_type": "stream",
     "text": [
      " 84%|████████▍ | 90/107 [1:08:01<24:26, 86.28s/it]"
     ]
    },
    {
     "name": "stdout",
     "output_type": "stream",
     "text": [
      "Rate limit error: Rate limit reached for default-gpt-3.5-turbo-16k in organization org-Y2tKyCPFO6tIjtCtOVZ7c9tr on tokens per min. Limit: 180000 / min. Current: 177802 / min. Contact us through our help center at help.openai.com if you continue to have issues.. Retrying... (1)\n"
     ]
    },
    {
     "name": "stderr",
     "output_type": "stream",
     "text": [
      " 90%|████████▉ | 96/107 [1:10:22<03:57, 21.56s/it]"
     ]
    },
    {
     "name": "stdout",
     "output_type": "stream",
     "text": [
      "An error occurred: The server is overloaded or not ready yet.. Retrying... (1)\n",
      "Rate limit error: Rate limit reached for default-gpt-3.5-turbo-16k in organization org-Y2tKyCPFO6tIjtCtOVZ7c9tr on tokens per min. Limit: 180000 / min. Current: 173422 / min. Contact us through our help center at help.openai.com if you continue to have issues.. Retrying... (1)\n"
     ]
    },
    {
     "name": "stderr",
     "output_type": "stream",
     "text": [
      " 91%|█████████ | 97/107 [1:11:59<07:21, 44.18s/it]"
     ]
    },
    {
     "name": "stdout",
     "output_type": "stream",
     "text": [
      "Rate limit error: Rate limit reached for default-gpt-3.5-turbo-16k in organization org-Y2tKyCPFO6tIjtCtOVZ7c9tr on tokens per min. Limit: 180000 / min. Current: 173273 / min. Contact us through our help center at help.openai.com if you continue to have issues.. Retrying... (1)\n"
     ]
    },
    {
     "name": "stderr",
     "output_type": "stream",
     "text": [
      " 93%|█████████▎| 100/107 [1:13:34<03:37, 31.14s/it]"
     ]
    },
    {
     "name": "stdout",
     "output_type": "stream",
     "text": [
      "Rate limit error: Rate limit reached for default-gpt-3.5-turbo-16k in organization org-Y2tKyCPFO6tIjtCtOVZ7c9tr on tokens per min. Limit: 180000 / min. Current: 172617 / min. Contact us through our help center at help.openai.com if you continue to have issues.. Retrying... (1)\n"
     ]
    },
    {
     "name": "stderr",
     "output_type": "stream",
     "text": [
      " 96%|█████████▋| 103/107 [1:15:12<01:44, 26.10s/it]"
     ]
    },
    {
     "name": "stdout",
     "output_type": "stream",
     "text": [
      "Rate limit error: Rate limit reached for default-gpt-3.5-turbo-16k in organization org-Y2tKyCPFO6tIjtCtOVZ7c9tr on tokens per min. Limit: 180000 / min. Current: 172223 / min. Contact us through our help center at help.openai.com if you continue to have issues.. Retrying... (1)\n"
     ]
    },
    {
     "name": "stderr",
     "output_type": "stream",
     "text": [
      " 99%|█████████▉| 106/107 [1:16:43<00:24, 24.60s/it]"
     ]
    },
    {
     "name": "stdout",
     "output_type": "stream",
     "text": [
      "Rate limit error: Rate limit reached for default-gpt-3.5-turbo-16k in organization org-Y2tKyCPFO6tIjtCtOVZ7c9tr on tokens per min. Limit: 180000 / min. Current: 173952 / min. Contact us through our help center at help.openai.com if you continue to have issues.. Retrying... (1)\n"
     ]
    },
    {
     "name": "stderr",
     "output_type": "stream",
     "text": [
      "100%|██████████| 107/107 [1:17:54<00:00, 43.69s/it]"
     ]
    },
    {
     "name": "stdout",
     "output_type": "stream",
     "text": [
      "{'Mosimann et al. - 2012 - Fornix infarction and Korsakoff dementia after coi_OCR.txt': {'Does this have case report-style information (Y)? Or is it a different type of article (N)': {'chunk_1': 'Y'}, 'Do you think there might be a figure in this which has patient neuroimaging? (Y/N)': {'chunk_1': 'Y'}, 'Do you think this has ruled out transient global amnesia, reversible amnesia symptom, drug use, toxicity, epilepsy-related confusion, psychological/psychiatric/functional amnesia? (Y/N)': {'chunk_1': 'Based on the provided information, it is not possible to determine whether all of those possibilities have been ruled out.'}, 'Do you think this examined both retrograde and anterograde amnesia?': {'chunk_1': 'Based on the provided information, it is stated that the article discusses anterograde amnesia, but it does not mention retrograde amnesia specifically.'}, 'Do you think there was a good description of the amnesia severity, either qualitatively or quantitatively? (Y/N)': {'chunk_1': 'Based on the provided information, there is no mention of a detailed description of the severity of the amnesia, either qualitative or quantitative.'}, 'Do you think this did not have global cognitive impairment disproportionate to memory loss? (Y/N)': {'chunk_1': 'Based on the provided information, there is no mention of global cognitive impairment or whether it is disproportionate to memory loss in the article.'}, 'Do you think this was unrelated to focal/global brain atrophy? (Y/N)': {'chunk_1': 'Based on the provided information, there is no mention of focal or global brain atrophy in the article, so it is not possible to determine if it is related or unrelated to the discussed amnesia syndrome.'}, 'Do you think this represents a typical case of amnesia': {'chunk_1': 'Based on the provided information, it is difficult to determine if this represents a typical case of amnesia, as the article focuses on a specific infarct syndrome related to the subcallosal artery. The information provided does not give a broader context to evaluate if it aligns with typical cases of amnesia.'}}, 'Parkin - IMPAIRMENT OF MEMORY FOLLOWING DISCRETE THALAMIC I_OCR.txt': {'Does this have case report-style information (Y)? Or is it a different type of article (N)': {'chunk_1': 'Y', 'chunk_2': 'N'}, 'Do you think there might be a figure in this which has patient neuroimaging? (Y/N)': {'chunk_1': 'N', 'chunk_2': 'N'}, 'Do you think this has ruled out transient global amnesia, reversible amnesia symptom, drug use, toxicity, epilepsy-related confusion, psychological/psychiatric/functional amnesia? (Y/N)': {'chunk_1': 'N', 'chunk_2': 'N'}, 'Do you think this examined both retrograde and anterograde amnesia?': {'chunk_1': 'Y', 'chunk_2': 'Y'}, 'Do you think there was a good description of the amnesia severity, either qualitatively or quantitatively? (Y/N)': {'chunk_1': 'N', 'chunk_2': 'Y'}, 'Do you think this did not have global cognitive impairment disproportionate to memory loss? (Y/N)': {'chunk_1': 'Y', 'chunk_2': 'Y'}, 'Do you think this was unrelated to focal/global brain atrophy? (Y/N)': {'chunk_1': 'N', 'chunk_2': 'N'}, 'Do you think this represents a typical case of amnesia': {'chunk_1': 'N', 'chunk_2': 'N'}}, 'Amnesia after right frontal subcortical lesion, following removal of a colloid cyst of the septum pellucidum and third ventricle_OCR.txt': {'Does this have case report-style information (Y)? Or is it a different type of article (N)': {'chunk_1': 'Y'}, 'Do you think there might be a figure in this which has patient neuroimaging? (Y/N)': {'chunk_1': 'Y'}, 'Do you think this has ruled out transient global amnesia, reversible amnesia symptom, drug use, toxicity, epilepsy-related confusion, psychological/psychiatric/functional amnesia? (Y/N)': {'chunk_1': 'N'}, 'Do you think this examined both retrograde and anterograde amnesia?': {'chunk_1': 'Y'}, 'Do you think there was a good description of the amnesia severity, either qualitatively or quantitatively? (Y/N)': {'chunk_1': 'Y'}, 'Do you think this did not have global cognitive impairment disproportionate to memory loss? (Y/N)': {'chunk_1': 'Y'}, 'Do you think this was unrelated to focal/global brain atrophy? (Y/N)': {'chunk_1': 'Y'}, 'Do you think this represents a typical case of amnesia': {'chunk_1': 'N'}}, 'Yasuda et al. - DISSOCIATION BETWEEN SEMANTIC AND AUTOBIOGRAPHIC M_OCR.txt': {'Does this have case report-style information (Y)? Or is it a different type of article (N)': {'chunk_1': 'Y', 'chunk_2': 'N', 'chunk_3': 'Y'}, 'Do you think there might be a figure in this which has patient neuroimaging? (Y/N)': {'chunk_1': 'Y', 'chunk_2': 'N', 'chunk_3': 'N'}, 'Do you think this has ruled out transient global amnesia, reversible amnesia symptom, drug use, toxicity, epilepsy-related confusion, psychological/psychiatric/functional amnesia? (Y/N)': {'chunk_1': 'N', 'chunk_2': 'N', 'chunk_3': 'N'}, 'Do you think this examined both retrograde and anterograde amnesia?': {'chunk_1': 'Y', 'chunk_2': 'N', 'chunk_3': 'Y'}, 'Do you think there was a good description of the amnesia severity, either qualitatively or quantitatively? (Y/N)': {'chunk_1': 'Y', 'chunk_2': 'Y', 'chunk_3': 'N'}, 'Do you think this did not have global cognitive impairment disproportionate to memory loss? (Y/N)': {'chunk_1': 'Y', 'chunk_2': 'N', 'chunk_3': 'N'}, 'Do you think this was unrelated to focal/global brain atrophy? (Y/N)': {'chunk_1': 'N', 'chunk_2': 'N', 'chunk_3': 'N'}, 'Do you think this represents a typical case of amnesia': {'chunk_1': 'N', 'chunk_2': 'N', 'chunk_3': 'Y'}}, 'Kapur et al. - 1996 - Anterograde but not retrograde memory loss followi_OCR.txt': {'Does this have case report-style information (Y)? Or is it a different type of article (N)': {'chunk_1': 'Y', 'chunk_2': 'Y'}, 'Do you think there might be a figure in this which has patient neuroimaging? (Y/N)': {'chunk_1': 'Y', 'chunk_2': 'Y'}, 'Do you think this has ruled out transient global amnesia, reversible amnesia symptom, drug use, toxicity, epilepsy-related confusion, psychological/psychiatric/functional amnesia? (Y/N)': {'chunk_1': 'N', 'chunk_2': 'N'}, 'Do you think this examined both retrograde and anterograde amnesia?': {'chunk_1': 'Y', 'chunk_2': 'Y'}, 'Do you think there was a good description of the amnesia severity, either qualitatively or quantitatively? (Y/N)': {'chunk_1': 'Y', 'chunk_2': 'Y'}, 'Do you think this did not have global cognitive impairment disproportionate to memory loss? (Y/N)': {'chunk_1': 'Y', 'chunk_2': 'Y'}, 'Do you think this was unrelated to focal/global brain atrophy? (Y/N)': {'chunk_1': 'Y', 'chunk_2': 'N'}, 'Do you think this represents a typical case of amnesia': {'chunk_1': 'N', 'chunk_2': 'N'}}, 'Calabrese et al. - Right temporofrontal cortex as critical locus for _OCR.txt': {'Does this have case report-style information (Y)? Or is it a different type of article (N)': {'chunk_1': 'Y', 'chunk_2': 'Y', 'chunk_3': 'N'}, 'Do you think there might be a figure in this which has patient neuroimaging? (Y/N)': {'chunk_1': 'Y', 'chunk_2': 'Y', 'chunk_3': 'Based on the provided information, it is not possible to determine if there is a figure with patient neuroimaging in the article. The given text only includes the citations of two articles without any further details.'}, 'Do you think this has ruled out transient global amnesia, reversible amnesia symptom, drug use, toxicity, epilepsy-related confusion, psychological/psychiatric/functional amnesia? (Y/N)': {'chunk_1': 'N', 'chunk_2': 'N', 'chunk_3': 'Based on the provided information, it is not possible to determine if the mentioned articles have ruled out transient global amnesia, reversible amnesia symptoms, drug use, toxicity, epilepsy-related confusion, or psychological/psychiatric/functional amnesia. The given text only includes the citations of the articles without any details about their content or findings.'}, 'Do you think this examined both retrograde and anterograde amnesia?': {'chunk_1': 'The text mentions that the patient had a clear dissociation between anterograde and retrograde memory abilities.', 'chunk_2': 'Y', 'chunk_3': 'Based on the provided information, it is not possible to determine if the mentioned articles examined both retrograde and anterograde amnesia. The given text only includes the citations of the articles without any details about their content or findings.'}, 'Do you think there was a good description of the amnesia severity, either qualitatively or quantitatively? (Y/N)': {'chunk_1': 'N', 'chunk_2': 'Y', 'chunk_3': 'Based on the provided information, it is not possible to determine if there was a good description of the amnesia severity, either qualitatively or quantitatively, in the mentioned articles. The given text only includes the citations of the articles without any details about their content or findings.'}, 'Do you think this did not have global cognitive impairment disproportionate to memory loss? (Y/N)': {'chunk_1': 'N', 'chunk_2': 'Y', 'chunk_3': 'Based on the provided information, it is not possible to determine if the mentioned articles included global cognitive impairment disproportionate to memory loss. The given text only includes the citations of the articles without any details about their content or findings.'}, 'Do you think this was unrelated to focal/global brain atrophy? (Y/N)': {'chunk_1': 'N', 'chunk_2': 'N', 'chunk_3': 'Based on the provided information, it is not possible to determine if the mentioned articles are unrelated to focal or global brain atrophy. The given text only includes the citations of the articles without any details about their content or findings.'}, 'Do you think this represents a typical case of amnesia': {'chunk_1': 'N', 'chunk_2': 'Y', 'chunk_3': 'Based on the provided information, it is not possible to determine if the mentioned articles represent a typical case of amnesia. The given text only includes the citations of the articles without any details about their content or findings.'}}, 'Osawa et al. - 2006 - Neuropsychological deficits associated with a tumo_OCR.txt': {'Does this have case report-style information (Y)? Or is it a different type of article (N)': {'chunk_1': 'Y', 'chunk_2': 'Y'}, 'Do you think there might be a figure in this which has patient neuroimaging? (Y/N)': {'chunk_1': 'Y', 'chunk_2': 'N'}, 'Do you think this has ruled out transient global amnesia, reversible amnesia symptom, drug use, toxicity, epilepsy-related confusion, psychological/psychiatric/functional amnesia? (Y/N)': {'chunk_1': 'N', 'chunk_2': 'I cannot determine that from the provided text chunk.'}, 'Do you think this examined both retrograde and anterograde amnesia?': {'chunk_1': 'Y', 'chunk_2': 'Based on the information provided in the text chunk, it is indicated that various cognitive dysfunctions were evaluated, which suggests that both retrograde and anterograde amnesia may have been examined.'}, 'Do you think there was a good description of the amnesia severity, either qualitatively or quantitatively? (Y/N)': {'chunk_1': 'N', 'chunk_2': 'Based on the information provided in the text chunk, there is no clear indication of whether there was a descriptive or quantitative assessment of amnesia severity.'}, 'Do you think this did not have global cognitive impairment disproportionate to memory loss? (Y/N)': {'chunk_1': 'Y', 'chunk_2': 'Based on the information provided in the text chunk, there is no mention of global cognitive impairment disproportionate to memory loss. Therefore, it cannot be determined whether this was present or not.'}, 'Do you think this was unrelated to focal/global brain atrophy? (Y/N)': {'chunk_1': 'Y', 'chunk_2': 'Based on the information provided in the text chunk, there is no mention of focal or global brain atrophy. Therefore, it cannot be determined whether this was related or unrelated to the condition discussed in the text.'}, 'Do you think this represents a typical case of amnesia': {'chunk_1': 'N', 'chunk_2': 'Based on the limited information provided in the text chunk, it is difficult to determine whether this represents a typical case of amnesia. The information refers to various cases of amnesia associated with brain lesions but does not provide enough details to assess if it is a typical presentation.'}}, 'Caglio et al. - 2012 - Virtual navigation for memory rehabilitation in a _OCR.txt': {'Does this have case report-style information (Y)? Or is it a different type of article (N)': {'chunk_1': 'Y', 'chunk_2': 'Y'}, 'Do you think there might be a figure in this which has patient neuroimaging? (Y/N)': {'chunk_1': 'Y', 'chunk_2': 'Y'}, 'Do you think this has ruled out transient global amnesia, reversible amnesia symptom, drug use, toxicity, epilepsy-related confusion, psychological/psychiatric/functional amnesia? (Y/N)': {'chunk_1': 'N', 'chunk_2': 'N'}, 'Do you think this examined both retrograde and anterograde amnesia?': {'chunk_1': 'Y', 'chunk_2': 'Y'}, 'Do you think there was a good description of the amnesia severity, either qualitatively or quantitatively? (Y/N)': {'chunk_1': 'Y', 'chunk_2': 'Y'}, 'Do you think this did not have global cognitive impairment disproportionate to memory loss? (Y/N)': {'chunk_1': 'Y', 'chunk_2': 'N'}, 'Do you think this was unrelated to focal/global brain atrophy? (Y/N)': {'chunk_1': 'N', 'chunk_2': 'N'}, 'Do you think this represents a typical case of amnesia': {'chunk_1': 'N', 'chunk_2': 'Y'}}, 'Kroll et al. - Retrieval of old memories the temporofrontal hypo_OCR.txt': {'Does this have case report-style information (Y)? Or is it a different type of article (N)': {'chunk_1': 'Y', 'chunk_2': 'Y', 'chunk_3': 'N', 'chunk_4': 'Y', 'chunk_5': 'Y', 'chunk_6': 'Y', 'chunk_7': 'Y', 'chunk_8': 'N'}, 'Do you think there might be a figure in this which has patient neuroimaging? (Y/N)': {'chunk_1': 'Y', 'chunk_2': 'N', 'chunk_3': 'N', 'chunk_4': 'Y', 'chunk_5': 'Y', 'chunk_6': 'Y', 'chunk_7': 'N', 'chunk_8': 'N'}, 'Do you think this has ruled out transient global amnesia, reversible amnesia symptom, drug use, toxicity, epilepsy-related confusion, psychological/psychiatric/functional amnesia? (Y/N)': {'chunk_1': 'N', 'chunk_2': 'N', 'chunk_3': 'N', 'chunk_4': 'N', 'chunk_5': 'N', 'chunk_6': 'N', 'chunk_7': 'N', 'chunk_8': 'N'}, 'Do you think this examined both retrograde and anterograde amnesia?': {'chunk_1': 'Y', 'chunk_2': 'Y', 'chunk_3': 'Y', 'chunk_4': 'Y', 'chunk_5': 'Y', 'chunk_6': 'Y', 'chunk_7': 'Y', 'chunk_8': 'Y'}, 'Do you think there was a good description of the amnesia severity, either qualitatively or quantitatively? (Y/N)': {'chunk_1': 'Y', 'chunk_2': 'Y', 'chunk_3': 'Y', 'chunk_4': 'N', 'chunk_5': 'Y', 'chunk_6': 'Y', 'chunk_7': 'Y', 'chunk_8': 'N'}, 'Do you think this did not have global cognitive impairment disproportionate to memory loss? (Y/N)': {'chunk_1': 'Y', 'chunk_2': 'Y', 'chunk_3': 'N', 'chunk_4': 'Y', 'chunk_5': 'Y', 'chunk_6': 'N', 'chunk_7': 'Y', 'chunk_8': 'N'}, 'Do you think this was unrelated to focal/global brain atrophy? (Y/N)': {'chunk_1': 'N', 'chunk_2': 'N', 'chunk_3': 'N', 'chunk_4': 'N', 'chunk_5': 'N', 'chunk_6': 'Y', 'chunk_7': 'N', 'chunk_8': 'N'}, 'Do you think this represents a typical case of amnesia': {'chunk_1': 'Y', 'chunk_2': 'N', 'chunk_3': 'Y', 'chunk_4': 'N', 'chunk_5': 'N', 'chunk_6': 'Y', 'chunk_7': 'N', 'chunk_8': 'N'}}, 'Markowitsch et al. - 1990 - Verbal Memory Deterioration After Unilateral Infar_OCR.txt': {'Does this have case report-style information (Y)? Or is it a different type of article (N)': {'chunk_1': 'Y', 'chunk_2': 'Y'}, 'Do you think there might be a figure in this which has patient neuroimaging? (Y/N)': {'chunk_1': 'Y', 'chunk_2': 'Y'}, 'Do you think this has ruled out transient global amnesia, reversible amnesia symptom, drug use, toxicity, epilepsy-related confusion, psychological/psychiatric/functional amnesia? (Y/N)': {'chunk_1': 'N', 'chunk_2': 'N'}, 'Do you think this examined both retrograde and anterograde amnesia?': {'chunk_1': 'Y', 'chunk_2': 'Y'}, 'Do you think there was a good description of the amnesia severity, either qualitatively or quantitatively? (Y/N)': {'chunk_1': 'Y', 'chunk_2': 'Y'}, 'Do you think this did not have global cognitive impairment disproportionate to memory loss? (Y/N)': {'chunk_1': 'Y', 'chunk_2': 'Y'}, 'Do you think this was unrelated to focal/global brain atrophy? (Y/N)': {'chunk_1': 'N', 'chunk_2': 'Y'}, 'Do you think this represents a typical case of amnesia': {'chunk_1': 'N', 'chunk_2': 'N'}}, 'Chan et al. - 2007 - Extensive and Temporally Ungraded Retrograde Amnes_OCR.txt': {'Does this have case report-style information (Y)? Or is it a different type of article (N)': {'chunk_1': 'Y', 'chunk_2': 'Y'}, 'Do you think there might be a figure in this which has patient neuroimaging? (Y/N)': {'chunk_1': 'Y', 'chunk_2': 'Y'}, 'Do you think this has ruled out transient global amnesia, reversible amnesia symptom, drug use, toxicity, epilepsy-related confusion, psychological/psychiatric/functional amnesia? (Y/N)': {'chunk_1': 'N', 'chunk_2': 'N'}, 'Do you think this examined both retrograde and anterograde amnesia?': {'chunk_1': 'Y', 'chunk_2': 'Y'}, 'Do you think there was a good description of the amnesia severity, either qualitatively or quantitatively? (Y/N)': {'chunk_1': 'Y', 'chunk_2': 'Y'}, 'Do you think this did not have global cognitive impairment disproportionate to memory loss? (Y/N)': {'chunk_1': 'Y', 'chunk_2': 'Y'}, 'Do you think this was unrelated to focal/global brain atrophy? (Y/N)': {'chunk_1': 'N', 'chunk_2': 'N'}, 'Do you think this represents a typical case of amnesia': {'chunk_1': 'N', 'chunk_2': 'N'}}, 'Asiri et al. - 2021 - Polyneuropathy and Korsakoff syndrome complicating_OCR.txt': {'Does this have case report-style information (Y)? Or is it a different type of article (N)': {'chunk_1': 'Y'}, 'Do you think there might be a figure in this which has patient neuroimaging? (Y/N)': {'chunk_1': 'Y'}, 'Do you think this has ruled out transient global amnesia, reversible amnesia symptom, drug use, toxicity, epilepsy-related confusion, psychological/psychiatric/functional amnesia? (Y/N)': {'chunk_1': 'N'}, 'Do you think this examined both retrograde and anterograde amnesia?': {'chunk_1': 'Y'}, 'Do you think there was a good description of the amnesia severity, either qualitatively or quantitatively? (Y/N)': {'chunk_1': 'Y'}, 'Do you think this did not have global cognitive impairment disproportionate to memory loss? (Y/N)': {'chunk_1': 'N'}, 'Do you think this was unrelated to focal/global brain atrophy? (Y/N)': {'chunk_1': 'N'}, 'Do you think this represents a typical case of amnesia': {'chunk_1': 'Y'}}, 'Iizuka et al. - 2007 - Severe Amnesic Syndrome and Collecting Behavior Af_OCR.txt': {'Does this have case report-style information (Y)? Or is it a different type of article (N)': {'chunk_1': 'Y', 'chunk_2': 'Y'}, 'Do you think there might be a figure in this which has patient neuroimaging? (Y/N)': {'chunk_1': 'Y', 'chunk_2': 'Y'}, 'Do you think this has ruled out transient global amnesia, reversible amnesia symptom, drug use, toxicity, epilepsy-related confusion, psychological/psychiatric/functional amnesia? (Y/N)': {'chunk_1': 'N', 'chunk_2': 'N'}, 'Do you think this examined both retrograde and anterograde amnesia?': {'chunk_1': 'Y', 'chunk_2': 'Y'}, 'Do you think there was a good description of the amnesia severity, either qualitatively or quantitatively? (Y/N)': {'chunk_1': 'Y', 'chunk_2': 'N'}, 'Do you think this did not have global cognitive impairment disproportionate to memory loss? (Y/N)': {'chunk_1': 'N', 'chunk_2': 'N'}, 'Do you think this was unrelated to focal/global brain atrophy? (Y/N)': {'chunk_1': 'N', 'chunk_2': 'N'}, 'Do you think this represents a typical case of amnesia': {'chunk_1': 'N', 'chunk_2': 'N'}}, 'Snyder et al. - 2020 - Artery of Percheron infarction with persistent amn_OCR.txt': {'Does this have case report-style information (Y)? Or is it a different type of article (N)': {'chunk_1': 'Y', 'chunk_2': 'N'}, 'Do you think there might be a figure in this which has patient neuroimaging? (Y/N)': {'chunk_1': 'Y', 'chunk_2': 'N'}, 'Do you think this has ruled out transient global amnesia, reversible amnesia symptom, drug use, toxicity, epilepsy-related confusion, psychological/psychiatric/functional amnesia? (Y/N)': {'chunk_1': 'N', 'chunk_2': 'N'}, 'Do you think this examined both retrograde and anterograde amnesia?': {'chunk_1': 'Y', 'chunk_2': 'Y'}, 'Do you think there was a good description of the amnesia severity, either qualitatively or quantitatively? (Y/N)': {'chunk_1': 'Y', 'chunk_2': 'Y'}, 'Do you think this did not have global cognitive impairment disproportionate to memory loss? (Y/N)': {'chunk_1': 'N', 'chunk_2': 'N'}, 'Do you think this was unrelated to focal/global brain atrophy? (Y/N)': {'chunk_1': 'N', 'chunk_2': 'N'}, 'Do you think this represents a typical case of amnesia': {'chunk_1': 'N', 'chunk_2': 'N'}}, 'Graff-Radford et al. - DIENCEPHALIC AMNESIA_OCR.txt': {'Does this have case report-style information (Y)? Or is it a different type of article (N)': {'chunk_1': 'Y', 'chunk_2': 'Y', 'chunk_3': 'Y', 'chunk_4': 'Y'}, 'Do you think there might be a figure in this which has patient neuroimaging? (Y/N)': {'chunk_1': 'Y', 'chunk_2': 'Y', 'chunk_3': 'Y', 'chunk_4': 'N'}, 'Do you think this has ruled out transient global amnesia, reversible amnesia symptom, drug use, toxicity, epilepsy-related confusion, psychological/psychiatric/functional amnesia? (Y/N)': {'chunk_1': 'N', 'chunk_2': 'Based on the provided information, it is not possible to definitively determine whether transient global amnesia, reversible amnesia symptoms, drug use/toxicity, epilepsy-related confusion, or psychological/psychiatric/functional amnesia have been ruled out. Further assessment and evaluation would be necessary to make such determinations.', 'chunk_3': 'N', 'chunk_4': 'N'}, 'Do you think this examined both retrograde and anterograde amnesia?': {'chunk_1': 'Y', 'chunk_2': 'Based on the information provided, it appears that the study focused primarily on anterograde amnesia. Retrograde amnesia is mentioned in passing but not examined extensively in relation to the specific case reports discussed.', 'chunk_3': 'Y', 'chunk_4': 'Y'}, 'Do you think there was a good description of the amnesia severity, either qualitatively or quantitatively? (Y/N)': {'chunk_1': 'Y', 'chunk_2': 'Y', 'chunk_3': 'Y', 'chunk_4': 'Y'}, 'Do you think this did not have global cognitive impairment disproportionate to memory loss? (Y/N)': {'chunk_1': 'Y', 'chunk_2': 'Y', 'chunk_3': 'Y', 'chunk_4': 'N'}, 'Do you think this was unrelated to focal/global brain atrophy? (Y/N)': {'chunk_1': 'N', 'chunk_2': 'Y', 'chunk_3': 'N', 'chunk_4': 'N'}, 'Do you think this represents a typical case of amnesia': {'chunk_1': 'Y', 'chunk_2': 'Y', 'chunk_3': 'Y', 'chunk_4': 'Y'}}, 'Takahashi et al. - 2016 - Amnesia as a result of symmetrical infarction of t_OCR.txt': {'Does this have case report-style information (Y)? Or is it a different type of article (N)': {}, 'Do you think there might be a figure in this which has patient neuroimaging? (Y/N)': {}, 'Do you think this has ruled out transient global amnesia, reversible amnesia symptom, drug use, toxicity, epilepsy-related confusion, psychological/psychiatric/functional amnesia? (Y/N)': {}, 'Do you think this examined both retrograde and anterograde amnesia?': {}, 'Do you think there was a good description of the amnesia severity, either qualitatively or quantitatively? (Y/N)': {}, 'Do you think this did not have global cognitive impairment disproportionate to memory loss? (Y/N)': {}, 'Do you think this was unrelated to focal/global brain atrophy? (Y/N)': {}, 'Do you think this represents a typical case of amnesia': {}}, 'Markowitsch et al. - 1993 - Mnestic performance profile of a bilateral diencep_OCR.txt': {'Does this have case report-style information (Y)? Or is it a different type of article (N)': {'chunk_1': 'Y', 'chunk_2': 'Y', 'chunk_3': 'Y', 'chunk_4': 'Y'}, 'Do you think there might be a figure in this which has patient neuroimaging? (Y/N)': {'chunk_1': 'Y', 'chunk_2': 'N', 'chunk_3': 'Y', 'chunk_4': 'N'}, 'Do you think this has ruled out transient global amnesia, reversible amnesia symptom, drug use, toxicity, epilepsy-related confusion, psychological/psychiatric/functional amnesia? (Y/N)': {'chunk_1': 'N', 'chunk_2': 'N', 'chunk_3': 'N', 'chunk_4': 'N'}, 'Do you think this examined both retrograde and anterograde amnesia?': {'chunk_1': 'Y', 'chunk_2': 'Y', 'chunk_3': 'Y', 'chunk_4': 'Y'}, 'Do you think there was a good description of the amnesia severity, either qualitatively or quantitatively? (Y/N)': {'chunk_1': 'Y', 'chunk_2': 'Y', 'chunk_3': 'N', 'chunk_4': 'Y'}, 'Do you think this did not have global cognitive impairment disproportionate to memory loss? (Y/N)': {'chunk_1': 'Y', 'chunk_2': 'Y', 'chunk_3': 'N', 'chunk_4': 'Y'}, 'Do you think this was unrelated to focal/global brain atrophy? (Y/N)': {'chunk_1': 'N', 'chunk_2': 'Y', 'chunk_3': 'N', 'chunk_4': 'N'}, 'Do you think this represents a typical case of amnesia': {'chunk_1': 'Y', 'chunk_2': 'Y', 'chunk_3': 'Y', 'chunk_4': 'N'}}, 'Levine et al. - Episodic memory and the self in a case of isolated_OCR.txt': {'Does this have case report-style information (Y)? Or is it a different type of article (N)': {'chunk_1': 'Y', 'chunk_2': 'N', 'chunk_3': 'Y', 'chunk_4': 'Y', 'chunk_5': 'Y', 'chunk_6': 'Yes, this text contains case report-style information.', 'chunk_7': 'Y'}, 'Do you think there might be a figure in this which has patient neuroimaging? (Y/N)': {'chunk_1': 'Y', 'chunk_2': 'Y', 'chunk_3': 'Y', 'chunk_4': 'Y', 'chunk_5': 'Y', 'chunk_6': 'Yes, based on the information provided in the text, it is likely that there could be a figure included in the article showing patient neuroimaging.', 'chunk_7': 'Y'}, 'Do you think this has ruled out transient global amnesia, reversible amnesia symptom, drug use, toxicity, epilepsy-related confusion, psychological/psychiatric/functional amnesia? (Y/N)': {'chunk_1': 'N', 'chunk_2': 'N', 'chunk_3': 'N', 'chunk_4': 'N', 'chunk_5': 'N', 'chunk_6': 'Based on the information provided, it is difficult to definitively determine whether transient global amnesia, reversible amnesia symptom, drug use, toxicity, epilepsy-related confusion, or psychological/psychiatric/functional amnesia have been ruled out without further details from the article.', 'chunk_7': 'N'}, 'Do you think this examined both retrograde and anterograde amnesia?': {'chunk_1': 'Y', 'chunk_2': 'Y', 'chunk_3': 'Y', 'chunk_4': 'Y', 'chunk_5': 'Y', 'chunk_6': \"Yes, based on the information provided, it appears that this study examined both retrograde and anterograde amnesia in the patient. The text discusses the patient's impairment in recalling past events (retrograde amnesia) as well as deficits in forming and retrieving new memories (anterograde amnesia).\", 'chunk_7': 'Y'}, 'Do you think there was a good description of the amnesia severity, either qualitatively or quantitatively? (Y/N)': {'chunk_1': 'Y', 'chunk_2': 'N', 'chunk_3': 'Y', 'chunk_4': 'Y', 'chunk_5': 'N', 'chunk_6': 'Yes, based on the information provided, there is a qualitative description of the amnesia severity in the text. It mentions that the patient experienced marked episodic impairment and had dense anterograde and retrograde amnesia. However, there is no specific quantitative assessment of the severity mentioned.', 'chunk_7': 'Y'}, 'Do you think this did not have global cognitive impairment disproportionate to memory loss? (Y/N)': {'chunk_1': 'Y', 'chunk_2': 'N', 'chunk_3': 'N', 'chunk_4': 'Y', 'chunk_5': 'Y', 'chunk_6': 'Based on the information provided, it is not clear whether the article mentioned whether or not there was global cognitive impairment disproportionate to memory loss.', 'chunk_7': 'N'}, 'Do you think this was unrelated to focal/global brain atrophy? (Y/N)': {'chunk_1': 'N', 'chunk_2': 'N', 'chunk_3': 'N', 'chunk_4': 'Y', 'chunk_5': 'N', 'chunk_6': 'Based on the information provided, it is not possible to determine if the amnesia described in the article was unrelated to focal/global brain atrophy. The presence or absence of brain atrophy would require further details from the article.', 'chunk_7': 'N'}, 'Do you think this represents a typical case of amnesia': {'chunk_1': 'N', 'chunk_2': 'Y', 'chunk_3': 'N', 'chunk_4': 'N', 'chunk_5': 'Y', 'chunk_6': 'Based on the information provided, it is difficult to determine whether this represents a typical case of amnesia. The specific details and characteristics described in the text may or may not be commonly observed in cases of amnesia. Further information would be needed to make a more definitive assessment.', 'chunk_7': 'N'}}, 'Azevedo Kauppila et al. - 2018 - Memory impairment due to bilateral fornix infarcti_OCR.txt': {'Does this have case report-style information (Y)? Or is it a different type of article (N)': {'chunk_1': 'N'}, 'Do you think there might be a figure in this which has patient neuroimaging? (Y/N)': {'chunk_1': 'Y'}, 'Do you think this has ruled out transient global amnesia, reversible amnesia symptom, drug use, toxicity, epilepsy-related confusion, psychological/psychiatric/functional amnesia? (Y/N)': {'chunk_1': 'Based on the provided information, I cannot determine whether transient global amnesia, reversible amnesia symptom, drug use, toxicity, epilepsy-related confusion, or psychological/psychiatric/functional amnesia have been ruled out.'}, 'Do you think this examined both retrograde and anterograde amnesia?': {'chunk_1': 'Based on the provided information, it is not clear whether both retrograde and anterograde amnesia were specifically examined in this study.'}, 'Do you think there was a good description of the amnesia severity, either qualitatively or quantitatively? (Y/N)': {'chunk_1': 'Based on the provided information, it is not clear whether there was a specific description of the amnesia severity, either qualitatively or quantitatively.'}, 'Do you think this did not have global cognitive impairment disproportionate to memory loss? (Y/N)': {'chunk_1': 'Based on the provided information, it is not possible to determine whether there was global cognitive impairment disproportionate to memory loss in this study.'}, 'Do you think this was unrelated to focal/global brain atrophy? (Y/N)': {'chunk_1': 'Based on the provided information, it is not possible to determine whether the amnesia in this study was unrelated to focal/global brain atrophy.'}, 'Do you think this represents a typical case of amnesia': {'chunk_1': 'Based on the given information, it is difficult to determine whether this represents a typical case of amnesia, as the details provided are limited and specific characteristics of the case are not described. It would require more information to make a definitive assessment.'}}, 'Ernst et al. - 2016 - Autobiographical memory and the self in a single-c_OCR.txt': {'Does this have case report-style information (Y)? Or is it a different type of article (N)': {'chunk_1': 'Y', 'chunk_2': 'Y'}, 'Do you think there might be a figure in this which has patient neuroimaging? (Y/N)': {'chunk_1': 'Y', 'chunk_2': 'N'}, 'Do you think this has ruled out transient global amnesia, reversible amnesia symptom, drug use, toxicity, epilepsy-related confusion, psychological/psychiatric/functional amnesia? (Y/N)': {'chunk_1': 'N', 'chunk_2': 'N'}, 'Do you think this examined both retrograde and anterograde amnesia?': {'chunk_1': 'Y', 'chunk_2': 'Y'}, 'Do you think there was a good description of the amnesia severity, either qualitatively or quantitatively? (Y/N)': {'chunk_1': 'Y', 'chunk_2': 'Y'}, 'Do you think this did not have global cognitive impairment disproportionate to memory loss? (Y/N)': {'chunk_1': 'Y', 'chunk_2': 'N'}, 'Do you think this was unrelated to focal/global brain atrophy? (Y/N)': {'chunk_1': 'N', 'chunk_2': 'N'}, 'Do you think this represents a typical case of amnesia': {'chunk_1': 'N', 'chunk_2': 'N'}}, 'Park et al. - 2000 - Memory deficits after bilateral anterior fornix in_OCR.txt': {'Does this have case report-style information (Y)? Or is it a different type of article (N)': {'chunk_1': 'Y'}, 'Do you think there might be a figure in this which has patient neuroimaging? (Y/N)': {'chunk_1': 'N'}, 'Do you think this has ruled out transient global amnesia, reversible amnesia symptom, drug use, toxicity, epilepsy-related confusion, psychological/psychiatric/functional amnesia? (Y/N)': {'chunk_1': 'N'}, 'Do you think this examined both retrograde and anterograde amnesia?': {'chunk_1': 'N'}, 'Do you think there was a good description of the amnesia severity, either qualitatively or quantitatively? (Y/N)': {'chunk_1': 'Y'}, 'Do you think this did not have global cognitive impairment disproportionate to memory loss? (Y/N)': {'chunk_1': 'Y'}, 'Do you think this was unrelated to focal/global brain atrophy? (Y/N)': {'chunk_1': 'N'}, 'Do you think this represents a typical case of amnesia': {'chunk_1': 'N'}}, 'Dromerick et al. - 1997 - Simultaneous bilateral thalamic hemorrhages follow_OCR.txt': {'Does this have case report-style information (Y)? Or is it a different type of article (N)': {'chunk_1': 'Y'}, 'Do you think there might be a figure in this which has patient neuroimaging? (Y/N)': {'chunk_1': 'Y'}, 'Do you think this has ruled out transient global amnesia, reversible amnesia symptom, drug use, toxicity, epilepsy-related confusion, psychological/psychiatric/functional amnesia? (Y/N)': {'chunk_1': 'N'}, 'Do you think this examined both retrograde and anterograde amnesia?': {'chunk_1': 'Y'}, 'Do you think there was a good description of the amnesia severity, either qualitatively or quantitatively? (Y/N)': {'chunk_1': 'Y'}, 'Do you think this did not have global cognitive impairment disproportionate to memory loss? (Y/N)': {'chunk_1': 'N'}, 'Do you think this was unrelated to focal/global brain atrophy? (Y/N)': {'chunk_1': 'N'}, 'Do you think this represents a typical case of amnesia': {'chunk_1': 'N'}}, 'Murr et al. - 2012 - Selective Infarction of the Anterior Genu Fornices_OCR.txt': {'Does this have case report-style information (Y)? Or is it a different type of article (N)': {'chunk_1': 'Y'}, 'Do you think there might be a figure in this which has patient neuroimaging? (Y/N)': {'chunk_1': 'Y'}, 'Do you think this has ruled out transient global amnesia, reversible amnesia symptom, drug use, toxicity, epilepsy-related confusion, psychological/psychiatric/functional amnesia? (Y/N)': {'chunk_1': 'N'}, 'Do you think this examined both retrograde and anterograde amnesia?': {'chunk_1': 'N'}, 'Do you think there was a good description of the amnesia severity, either qualitatively or quantitatively? (Y/N)': {'chunk_1': 'N'}, 'Do you think this did not have global cognitive impairment disproportionate to memory loss? (Y/N)': {'chunk_1': 'N'}, 'Do you think this was unrelated to focal/global brain atrophy? (Y/N)': {'chunk_1': 'N'}, 'Do you think this represents a typical case of amnesia': {'chunk_1': 'N'}}, 'Mccarthy and Warrington - ACTORS BUT NOT SCRIPTS THE DISSOCIATION OF PEOPLE_OCR.txt': {'Does this have case report-style information (Y)? Or is it a different type of article (N)': {'chunk_1': 'Yes, this passage contains case report-style information.', 'chunk_2': 'Y'}, 'Do you think there might be a figure in this which has patient neuroimaging? (Y/N)': {'chunk_1': \"Yes, based on the information provided, it is stated that a CT scan showed bilateral medial temporal lobe lesions which extended laterally into the temporal cortex on the right. Therefore, it is likely that there is a figure in the article showing the patient's neuroimaging.\", 'chunk_2': 'N'}, 'Do you think this has ruled out transient global amnesia, reversible amnesia symptom, drug use, toxicity, epilepsy-related confusion, psychological/psychiatric/functional amnesia? (Y/N)': {'chunk_1': 'Based on the information provided, it does not explicitly state whether transient global amnesia, reversible amnesia symptom, drug use, toxicity, epilepsy-related confusion, or psychological/psychiatric/functional amnesia have been ruled out. Therefore, it is not possible to determine with certainty whether these conditions have been ruled out based on the given information.', 'chunk_2': 'N'}, 'Do you think this examined both retrograde and anterograde amnesia?': {'chunk_1': \"Based on the information provided, it appears that this case report specifically examined retrograde amnesia in the individual, as it mentions the patient's difficulty in recalling past events and autobiographical information. There is no explicit mention of anterograde amnesia being examined in this particular case report.\", 'chunk_2': 'Y'}, 'Do you think there was a good description of the amnesia severity, either qualitatively or quantitatively? (Y/N)': {'chunk_1': \"Yes, there is a good description of the amnesia severity in this case report, both qualitatively and quantitatively. It mentions that the patient became densely amnesic following an attack of Herpes Simplex Encephalitis, and it describes the extent of his autobiographical knowledge loss, including his inability to recall substantive events and his reduced knowledge of personal friends and acquaintances. It also mentions the patient's performance on various memory tests, providing quantitative measures of his abilities.\", 'chunk_2': 'Y'}, 'Do you think this did not have global cognitive impairment disproportionate to memory loss? (Y/N)': {'chunk_1': \"Based on the information provided, it suggests that the patient did not have global cognitive impairment disproportionate to memory loss. The case report states that the patient performed well on tests of intellectual ability, perceptual skills, and language competence. This indicates that the patient's cognitive abilities in these areas were not significantly impaired. However, it is important to note that this conclusion is based on the limited information provided in the passage, and a comprehensive evaluation would require more detailed assessment and examination.\", 'chunk_2': 'Y'}, 'Do you think this was unrelated to focal/global brain atrophy? (Y/N)': {'chunk_1': \"Based on the information provided, there is no mention of focal or global brain atrophy in relation to the patient's amnesia. Therefore, it is not possible to determine whether it is unrelated to brain atrophy based on the given information.\", 'chunk_2': 'N'}, 'Do you think this represents a typical case of amnesia': {'chunk_1': \"Based on the information provided, it is difficult to determine whether this represents a typical case of amnesia. The case report describes a patient who experienced retrograde amnesia following an attack of Herpes Simplex Encephalitis. However, the specific details of the patient's symptoms, cognitive profile, and neurological findings may vary between individuals. To determine if this represents a typical case, it would be necessary to consider a larger body of research and case studies on amnesia.\", 'chunk_2': 'N'}}, 'Goldenberg et al. - 1999 - Basal forebrain amnesia does the nucleus accumben_OCR.txt': {'Does this have case report-style information (Y)? Or is it a different type of article (N)': {'chunk_1': 'Y', 'chunk_2': 'Y', 'chunk_3': 'Y'}, 'Do you think there might be a figure in this which has patient neuroimaging? (Y/N)': {'chunk_1': 'Y', 'chunk_2': 'Y', 'chunk_3': 'Y'}, 'Do you think this has ruled out transient global amnesia, reversible amnesia symptom, drug use, toxicity, epilepsy-related confusion, psychological/psychiatric/functional amnesia? (Y/N)': {'chunk_1': 'N', 'chunk_2': 'N', 'chunk_3': 'N'}, 'Do you think this examined both retrograde and anterograde amnesia?': {'chunk_1': 'Y', 'chunk_2': 'Y', 'chunk_3': 'Y'}, 'Do you think there was a good description of the amnesia severity, either qualitatively or quantitatively? (Y/N)': {'chunk_1': 'Y', 'chunk_2': 'Y', 'chunk_3': 'N'}, 'Do you think this did not have global cognitive impairment disproportionate to memory loss? (Y/N)': {'chunk_1': 'Y', 'chunk_2': 'Y', 'chunk_3': 'N'}, 'Do you think this was unrelated to focal/global brain atrophy? (Y/N)': {'chunk_1': 'N', 'chunk_2': 'N', 'chunk_3': 'N'}, 'Do you think this represents a typical case of amnesia': {'chunk_1': 'Y', 'chunk_2': 'N', 'chunk_3': 'N'}}, 'Buccione et al. - 2008 - Retrograde episodic and semantic memory impairment_OCR.txt': {'Does this have case report-style information (Y)? Or is it a different type of article (N)': {'chunk_1': 'Y', 'chunk_2': 'Y', 'chunk_3': 'Y'}, 'Do you think there might be a figure in this which has patient neuroimaging? (Y/N)': {'chunk_1': 'Y', 'chunk_2': 'N', 'chunk_3': 'Y'}, 'Do you think this has ruled out transient global amnesia, reversible amnesia symptom, drug use, toxicity, epilepsy-related confusion, psychological/psychiatric/functional amnesia? (Y/N)': {'chunk_1': 'N', 'chunk_2': 'N', 'chunk_3': 'N'}, 'Do you think this examined both retrograde and anterograde amnesia?': {'chunk_1': 'Y', 'chunk_2': 'N', 'chunk_3': 'N'}, 'Do you think there was a good description of the amnesia severity, either qualitatively or quantitatively? (Y/N)': {'chunk_1': 'N', 'chunk_2': 'Y', 'chunk_3': 'Y'}, 'Do you think this did not have global cognitive impairment disproportionate to memory loss? (Y/N)': {'chunk_1': 'N', 'chunk_2': 'N', 'chunk_3': 'Y'}, 'Do you think this was unrelated to focal/global brain atrophy? (Y/N)': {'chunk_1': 'N', 'chunk_2': 'N', 'chunk_3': 'N'}, 'Do you think this represents a typical case of amnesia': {'chunk_1': 'N', 'chunk_2': 'Y', 'chunk_3': 'Y'}}, 'A case of _borrowed identity syndrome_ after severe traumatic brain injury._OCR.txt': {'Does this have case report-style information (Y)? Or is it a different type of article (N)': {'chunk_1': 'Y', 'chunk_2': 'Y', 'chunk_3': 'Y'}, 'Do you think there might be a figure in this which has patient neuroimaging? (Y/N)': {'chunk_1': 'Y', 'chunk_2': 'N', 'chunk_3': 'N'}, 'Do you think this has ruled out transient global amnesia, reversible amnesia symptom, drug use, toxicity, epilepsy-related confusion, psychological/psychiatric/functional amnesia? (Y/N)': {'chunk_1': 'N', 'chunk_2': 'N', 'chunk_3': 'N'}, 'Do you think this examined both retrograde and anterograde amnesia?': {'chunk_1': 'Y', 'chunk_2': 'Y', 'chunk_3': 'Y'}, 'Do you think there was a good description of the amnesia severity, either qualitatively or quantitatively? (Y/N)': {'chunk_1': 'N', 'chunk_2': 'Y', 'chunk_3': 'Y'}, 'Do you think this did not have global cognitive impairment disproportionate to memory loss? (Y/N)': {'chunk_1': 'N', 'chunk_2': 'Y', 'chunk_3': 'Y'}, 'Do you think this was unrelated to focal/global brain atrophy? (Y/N)': {'chunk_1': 'N', 'chunk_2': 'N', 'chunk_3': 'N'}, 'Do you think this represents a typical case of amnesia': {'chunk_1': 'N', 'chunk_2': 'N', 'chunk_3': 'N'}}, 'Fertl et al. - 1997 - Persistent amnesic syndrome as long-term outcome o_OCR.txt': {'Does this have case report-style information (Y)? Or is it a different type of article (N)': {'chunk_1': 'Y'}, 'Do you think there might be a figure in this which has patient neuroimaging? (Y/N)': {'chunk_1': 'N'}, 'Do you think this has ruled out transient global amnesia, reversible amnesia symptom, drug use, toxicity, epilepsy-related confusion, psychological/psychiatric/functional amnesia? (Y/N)': {'chunk_1': 'N'}, 'Do you think this examined both retrograde and anterograde amnesia?': {'chunk_1': 'Y'}, 'Do you think there was a good description of the amnesia severity, either qualitatively or quantitatively? (Y/N)': {'chunk_1': 'Y'}, 'Do you think this did not have global cognitive impairment disproportionate to memory loss? (Y/N)': {'chunk_1': 'N'}, 'Do you think this was unrelated to focal/global brain atrophy? (Y/N)': {'chunk_1': 'N'}, 'Do you think this represents a typical case of amnesia': {'chunk_1': 'N'}}, 'Park et al. - 2007 - Selective anterograde amnesia with thalamus and hi_OCR.txt': {'Does this have case report-style information (Y)? Or is it a different type of article (N)': {'chunk_1': 'Y'}, 'Do you think there might be a figure in this which has patient neuroimaging? (Y/N)': {'chunk_1': 'Y'}, 'Do you think this has ruled out transient global amnesia, reversible amnesia symptom, drug use, toxicity, epilepsy-related confusion, psychological/psychiatric/functional amnesia? (Y/N)': {'chunk_1': 'N'}, 'Do you think this examined both retrograde and anterograde amnesia?': {'chunk_1': 'Y'}, 'Do you think there was a good description of the amnesia severity, either qualitatively or quantitatively? (Y/N)': {'chunk_1': 'Y'}, 'Do you think this did not have global cognitive impairment disproportionate to memory loss? (Y/N)': {'chunk_1': 'Y'}, 'Do you think this was unrelated to focal/global brain atrophy? (Y/N)': {'chunk_1': 'Y'}, 'Do you think this represents a typical case of amnesia': {'chunk_1': 'N'}}, 'Morris et al. - AMNESIA FOLLOWING A DISCRETE BASAL FOREBRAIN LESIO_OCR.txt': {'Does this have case report-style information (Y)? Or is it a different type of article (N)': {'chunk_1': 'Y', 'chunk_2': 'Y', 'chunk_3': 'Y'}, 'Do you think there might be a figure in this which has patient neuroimaging? (Y/N)': {'chunk_1': 'N', 'chunk_2': 'Y', 'chunk_3': 'N'}, 'Do you think this has ruled out transient global amnesia, reversible amnesia symptom, drug use, toxicity, epilepsy-related confusion, psychological/psychiatric/functional amnesia? (Y/N)': {'chunk_1': 'Y', 'chunk_2': 'N', 'chunk_3': 'N'}, 'Do you think this examined both retrograde and anterograde amnesia?': {'chunk_1': 'Y', 'chunk_2': 'Y', 'chunk_3': 'Y'}, 'Do you think there was a good description of the amnesia severity, either qualitatively or quantitatively? (Y/N)': {'chunk_1': 'Y', 'chunk_2': 'Y', 'chunk_3': 'Y'}, 'Do you think this did not have global cognitive impairment disproportionate to memory loss? (Y/N)': {'chunk_1': 'N', 'chunk_2': 'Y', 'chunk_3': 'Y'}, 'Do you think this was unrelated to focal/global brain atrophy? (Y/N)': {'chunk_1': 'N', 'chunk_2': 'N', 'chunk_3': 'N'}, 'Do you think this represents a typical case of amnesia': {'chunk_1': 'N', 'chunk_2': 'N', 'chunk_3': 'N'}}, 'Abbate et al. - 2012 - Delusion of inanimate doubles Description of a ca_OCR.txt': {'Does this have case report-style information (Y)? Or is it a different type of article (N)': {'chunk_1': 'Y', 'chunk_2': 'Y', 'chunk_3': 'Y', 'chunk_4': 'Y', 'chunk_5': 'N'}, 'Do you think there might be a figure in this which has patient neuroimaging? (Y/N)': {'chunk_1': 'Y', 'chunk_2': 'Y', 'chunk_3': 'N', 'chunk_4': 'N', 'chunk_5': 'N'}, 'Do you think this has ruled out transient global amnesia, reversible amnesia symptom, drug use, toxicity, epilepsy-related confusion, psychological/psychiatric/functional amnesia? (Y/N)': {'chunk_1': 'N', 'chunk_2': 'Y', 'chunk_3': 'N', 'chunk_4': 'N', 'chunk_5': 'N'}, 'Do you think this examined both retrograde and anterograde amnesia?': {'chunk_1': 'Y', 'chunk_2': 'Y', 'chunk_3': 'Y', 'chunk_4': 'Y', 'chunk_5': 'Y'}, 'Do you think there was a good description of the amnesia severity, either qualitatively or quantitatively? (Y/N)': {'chunk_1': 'Y', 'chunk_2': 'Y', 'chunk_3': 'Y', 'chunk_4': 'Y', 'chunk_5': 'N'}, 'Do you think this did not have global cognitive impairment disproportionate to memory loss? (Y/N)': {'chunk_1': 'Y', 'chunk_2': 'Y', 'chunk_3': 'Y', 'chunk_4': 'Y', 'chunk_5': 'N'}, 'Do you think this was unrelated to focal/global brain atrophy? (Y/N)': {'chunk_1': 'N', 'chunk_2': 'N', 'chunk_3': 'N', 'chunk_4': 'N', 'chunk_5': 'N'}, 'Do you think this represents a typical case of amnesia': {'chunk_1': 'N', 'chunk_2': 'N', 'chunk_3': 'Y', 'chunk_4': 'N', 'chunk_5': 'Y'}}, 'Jamjoom et al. - 2017 - Autobiographical memory loss following a right pre_OCR.txt': {'Does this have case report-style information (Y)? Or is it a different type of article (N)': {'chunk_1': 'Y'}, 'Do you think there might be a figure in this which has patient neuroimaging? (Y/N)': {'chunk_1': 'Y'}, 'Do you think this has ruled out transient global amnesia, reversible amnesia symptom, drug use, toxicity, epilepsy-related confusion, psychological/psychiatric/functional amnesia? (Y/N)': {'chunk_1': 'N'}, 'Do you think this examined both retrograde and anterograde amnesia?': {'chunk_1': 'N'}, 'Do you think there was a good description of the amnesia severity, either qualitatively or quantitatively? (Y/N)': {'chunk_1': 'N'}, 'Do you think this did not have global cognitive impairment disproportionate to memory loss? (Y/N)': {'chunk_1': 'N'}, 'Do you think this was unrelated to focal/global brain atrophy? (Y/N)': {'chunk_1': 'N'}, 'Do you think this represents a typical case of amnesia': {'chunk_1': 'N'}}, 'Grilli et al. - 2018 - The contribution of the left anterior ventrolatera_OCR.txt': {'Does this have case report-style information (Y)? Or is it a different type of article (N)': {'chunk_1': 'N', 'chunk_2': 'Y', 'chunk_3': 'Y', 'chunk_4': 'N'}, 'Do you think there might be a figure in this which has patient neuroimaging? (Y/N)': {'chunk_1': 'N', 'chunk_2': 'N', 'chunk_3': 'N', 'chunk_4': 'N'}, 'Do you think this has ruled out transient global amnesia, reversible amnesia symptom, drug use, toxicity, epilepsy-related confusion, psychological/psychiatric/functional amnesia? (Y/N)': {'chunk_1': 'N', 'chunk_2': 'N', 'chunk_3': 'N', 'chunk_4': 'N'}, 'Do you think this examined both retrograde and anterograde amnesia?': {'chunk_1': 'Y', 'chunk_2': 'Y', 'chunk_3': 'N', 'chunk_4': 'N'}, 'Do you think there was a good description of the amnesia severity, either qualitatively or quantitatively? (Y/N)': {'chunk_1': 'N', 'chunk_2': 'Y', 'chunk_3': 'N', 'chunk_4': 'N'}, 'Do you think this did not have global cognitive impairment disproportionate to memory loss? (Y/N)': {'chunk_1': 'N', 'chunk_2': 'N', 'chunk_3': 'N', 'chunk_4': 'N'}, 'Do you think this was unrelated to focal/global brain atrophy? (Y/N)': {'chunk_1': 'N', 'chunk_2': 'N', 'chunk_3': 'N', 'chunk_4': 'N'}, 'Do you think this represents a typical case of amnesia': {'chunk_1': 'Y', 'chunk_2': 'N', 'chunk_3': 'N', 'chunk_4': 'N'}}, 'Male and Zand - 2017 - Isolated Mammillary Body Infarct Causing Global Am_OCR.txt': {'Does this have case report-style information (Y)? Or is it a different type of article (N)': {'chunk_1': 'Y'}, 'Do you think there might be a figure in this which has patient neuroimaging? (Y/N)': {'chunk_1': 'Y'}, 'Do you think this has ruled out transient global amnesia, reversible amnesia symptom, drug use, toxicity, epilepsy-related confusion, psychological/psychiatric/functional amnesia? (Y/N)': {'chunk_1': 'N'}, 'Do you think this examined both retrograde and anterograde amnesia?': {'chunk_1': 'Y'}, 'Do you think there was a good description of the amnesia severity, either qualitatively or quantitatively? (Y/N)': {'chunk_1': 'N'}, 'Do you think this did not have global cognitive impairment disproportionate to memory loss? (Y/N)': {'chunk_1': 'N'}, 'Do you think this was unrelated to focal/global brain atrophy? (Y/N)': {'chunk_1': 'N'}, 'Do you think this represents a typical case of amnesia': {'chunk_1': 'N'}}, 'Wheatley and McGrath - 1997 - Co-Occurrence of Executive Impairment and Amnesic _OCR.txt': {'Does this have case report-style information (Y)? Or is it a different type of article (N)': {'chunk_1': 'Y', 'chunk_2': 'Y'}, 'Do you think there might be a figure in this which has patient neuroimaging? (Y/N)': {'chunk_1': 'Y', 'chunk_2': 'N'}, 'Do you think this has ruled out transient global amnesia, reversible amnesia symptom, drug use, toxicity, epilepsy-related confusion, psychological/psychiatric/functional amnesia? (Y/N)': {'chunk_1': 'N', 'chunk_2': 'N'}, 'Do you think this examined both retrograde and anterograde amnesia?': {'chunk_1': 'Y', 'chunk_2': 'Y'}, 'Do you think there was a good description of the amnesia severity, either qualitatively or quantitatively? (Y/N)': {'chunk_1': 'Y', 'chunk_2': 'Y'}, 'Do you think this did not have global cognitive impairment disproportionate to memory loss? (Y/N)': {'chunk_1': 'Y', 'chunk_2': 'N'}, 'Do you think this was unrelated to focal/global brain atrophy? (Y/N)': {'chunk_1': 'N', 'chunk_2': 'N'}, 'Do you think this represents a typical case of amnesia': {'chunk_1': 'N', 'chunk_2': 'N'}}, 'Alcalay and Smith - 2009 - MRI Showing White Matter Lesions and Multiple Loba_OCR.txt': {'Does this have case report-style information (Y)? Or is it a different type of article (N)': {'chunk_1': 'Y'}, 'Do you think there might be a figure in this which has patient neuroimaging? (Y/N)': {'chunk_1': 'Y'}, 'Do you think this has ruled out transient global amnesia, reversible amnesia symptom, drug use, toxicity, epilepsy-related confusion, psychological/psychiatric/functional amnesia? (Y/N)': {'chunk_1': 'N'}, 'Do you think this examined both retrograde and anterograde amnesia?': {'chunk_1': 'Unfortunately, the text does not provide specific information about whether both retrograde and anterograde amnesia were examined in this case.'}, 'Do you think there was a good description of the amnesia severity, either qualitatively or quantitatively? (Y/N)': {'chunk_1': 'Y'}, 'Do you think this did not have global cognitive impairment disproportionate to memory loss? (Y/N)': {'chunk_1': 'N'}, 'Do you think this was unrelated to focal/global brain atrophy? (Y/N)': {'chunk_1': 'N'}, 'Do you think this represents a typical case of amnesia': {'chunk_1': 'N'}}, 'Amuluru et al. - 2015 - Acute Amnesia due to Isolated Mammillary Body Infa_OCR.txt': {'Does this have case report-style information (Y)? Or is it a different type of article (N)': {'chunk_1': 'Y'}, 'Do you think there might be a figure in this which has patient neuroimaging? (Y/N)': {'chunk_1': 'Y'}, 'Do you think this has ruled out transient global amnesia, reversible amnesia symptom, drug use, toxicity, epilepsy-related confusion, psychological/psychiatric/functional amnesia? (Y/N)': {'chunk_1': 'N'}, 'Do you think this examined both retrograde and anterograde amnesia?': {'chunk_1': 'Y'}, 'Do you think there was a good description of the amnesia severity, either qualitatively or quantitatively? (Y/N)': {'chunk_1': 'Y'}, 'Do you think this did not have global cognitive impairment disproportionate to memory loss? (Y/N)': {'chunk_1': 'N'}, 'Do you think this was unrelated to focal/global brain atrophy? (Y/N)': {'chunk_1': 'N'}, 'Do you think this represents a typical case of amnesia': {'chunk_1': 'N'}}, 'Honda et al. - P300 abnormalities in patients with selective impa_OCR.txt': {'Does this have case report-style information (Y)? Or is it a different type of article (N)': {'chunk_1': 'Y', 'chunk_2': 'Y', 'chunk_3': 'Y'}, 'Do you think there might be a figure in this which has patient neuroimaging? (Y/N)': {'chunk_1': 'Y', 'chunk_2': 'Y', 'chunk_3': 'N'}, 'Do you think this has ruled out transient global amnesia, reversible amnesia symptom, drug use, toxicity, epilepsy-related confusion, psychological/psychiatric/functional amnesia? (Y/N)': {'chunk_1': 'N', 'chunk_2': 'Y', 'chunk_3': 'N'}, 'Do you think this examined both retrograde and anterograde amnesia?': {'chunk_1': 'Y', 'chunk_2': 'Y', 'chunk_3': 'Y'}, 'Do you think there was a good description of the amnesia severity, either qualitatively or quantitatively? (Y/N)': {'chunk_1': 'Y', 'chunk_2': 'Y', 'chunk_3': 'N'}, 'Do you think this did not have global cognitive impairment disproportionate to memory loss? (Y/N)': {'chunk_1': 'Y', 'chunk_2': 'Y', 'chunk_3': 'N'}, 'Do you think this was unrelated to focal/global brain atrophy? (Y/N)': {'chunk_1': 'N', 'chunk_2': 'N', 'chunk_3': 'N'}, 'Do you think this represents a typical case of amnesia': {'chunk_1': 'Y', 'chunk_2': 'Y', 'chunk_3': 'N'}}, 'Cachia et al. - 2011 - Selective cognitive patterns resulting from bilate_OCR.txt': {'Does this have case report-style information (Y)? Or is it a different type of article (N)': {'chunk_1': 'Y'}, 'Do you think there might be a figure in this which has patient neuroimaging? (Y/N)': {'chunk_1': 'Y'}, 'Do you think this has ruled out transient global amnesia, reversible amnesia symptom, drug use, toxicity, epilepsy-related confusion, psychological/psychiatric/functional amnesia? (Y/N)': {'chunk_1': 'Y'}, 'Do you think this examined both retrograde and anterograde amnesia?': {'chunk_1': 'Y'}, 'Do you think there was a good description of the amnesia severity, either qualitatively or quantitatively? (Y/N)': {'chunk_1': 'Y'}, 'Do you think this did not have global cognitive impairment disproportionate to memory loss? (Y/N)': {'chunk_1': 'Y'}, 'Do you think this was unrelated to focal/global brain atrophy? (Y/N)': {'chunk_1': 'N'}, 'Do you think this represents a typical case of amnesia': {'chunk_1': 'N'}}, 'Korematsu et al. - 2010 - Memory impairment due to a small unilateral infarc_OCR.txt': {'Does this have case report-style information (Y)? Or is it a different type of article (N)': {'chunk_1': 'Y'}, 'Do you think there might be a figure in this which has patient neuroimaging? (Y/N)': {'chunk_1': 'Y'}, 'Do you think this has ruled out transient global amnesia, reversible amnesia symptom, drug use, toxicity, epilepsy-related confusion, psychological/psychiatric/functional amnesia? (Y/N)': {'chunk_1': 'N'}, 'Do you think this examined both retrograde and anterograde amnesia?': {'chunk_1': 'Y'}, 'Do you think there was a good description of the amnesia severity, either qualitatively or quantitatively? (Y/N)': {'chunk_1': 'N'}, 'Do you think this did not have global cognitive impairment disproportionate to memory loss? (Y/N)': {'chunk_1': 'N'}, 'Do you think this was unrelated to focal/global brain atrophy? (Y/N)': {'chunk_1': 'Y'}, 'Do you think this represents a typical case of amnesia': {'chunk_1': 'N'}}, 'Peru and Fabbro - 1997 - Thalamic Amnesia Following Venous Infarction Evid_OCR.txt': {'Does this have case report-style information (Y)? Or is it a different type of article (N)': {'chunk_1': 'Y', 'chunk_2': 'Y'}, 'Do you think there might be a figure in this which has patient neuroimaging? (Y/N)': {'chunk_1': 'N', 'chunk_2': 'Y'}, 'Do you think this has ruled out transient global amnesia, reversible amnesia symptom, drug use, toxicity, epilepsy-related confusion, psychological/psychiatric/functional amnesia? (Y/N)': {'chunk_1': 'N', 'chunk_2': 'N'}, 'Do you think this examined both retrograde and anterograde amnesia?': {'chunk_1': 'Y', 'chunk_2': 'Y'}, 'Do you think there was a good description of the amnesia severity, either qualitatively or quantitatively? (Y/N)': {'chunk_1': 'Y', 'chunk_2': 'Y'}, 'Do you think this did not have global cognitive impairment disproportionate to memory loss? (Y/N)': {'chunk_1': 'Y', 'chunk_2': 'Y'}, 'Do you think this was unrelated to focal/global brain atrophy? (Y/N)': {'chunk_1': 'Y', 'chunk_2': 'Y'}, 'Do you think this represents a typical case of amnesia': {'chunk_1': 'Y', 'chunk_2': 'Y'}}, 'Schapiro et al. - 2014 - The Necessity of the Medial Temporal Lobe for Stat_OCR.txt': {'Does this have case report-style information (Y)? Or is it a different type of article (N)': {'chunk_1': 'N', 'chunk_2': 'Y', 'chunk_3': 'Y', 'chunk_4': 'N'}, 'Do you think there might be a figure in this which has patient neuroimaging? (Y/N)': {'chunk_1': 'N', 'chunk_2': 'Y', 'chunk_3': 'Y', 'chunk_4': 'N'}, 'Do you think this has ruled out transient global amnesia, reversible amnesia symptom, drug use, toxicity, epilepsy-related confusion, psychological/psychiatric/functional amnesia? (Y/N)': {'chunk_1': 'N', 'chunk_2': 'N', 'chunk_3': 'N', 'chunk_4': 'N'}, 'Do you think this examined both retrograde and anterograde amnesia?': {'chunk_1': 'N', 'chunk_2': 'Y', 'chunk_3': 'Y', 'chunk_4': 'N'}, 'Do you think there was a good description of the amnesia severity, either qualitatively or quantitatively? (Y/N)': {'chunk_1': 'Y', 'chunk_2': 'Y', 'chunk_3': 'Y', 'chunk_4': 'N'}, 'Do you think this did not have global cognitive impairment disproportionate to memory loss? (Y/N)': {'chunk_1': 'Y', 'chunk_2': 'Y', 'chunk_3': 'Y', 'chunk_4': 'N'}, 'Do you think this was unrelated to focal/global brain atrophy? (Y/N)': {'chunk_1': 'N', 'chunk_2': 'N', 'chunk_3': 'N', 'chunk_4': 'N'}, 'Do you think this represents a typical case of amnesia': {'chunk_1': 'N', 'chunk_2': 'Y', 'chunk_3': 'N', 'chunk_4': 'N'}}, 'Oishi et al. - 2019 - Pure topographical disorientation in novel environ_OCR.txt': {'Does this have case report-style information (Y)? Or is it a different type of article (N)': {'chunk_1': 'Y', 'chunk_2': 'Y', 'chunk_3': 'Y', 'chunk_4': 'Y'}, 'Do you think there might be a figure in this which has patient neuroimaging? (Y/N)': {'chunk_1': 'Y', 'chunk_2': 'N', 'chunk_3': 'Y', 'chunk_4': 'N'}, 'Do you think this has ruled out transient global amnesia, reversible amnesia symptom, drug use, toxicity, epilepsy-related confusion, psychological/psychiatric/functional amnesia? (Y/N)': {'chunk_1': 'N', 'chunk_2': 'N', 'chunk_3': 'Y', 'chunk_4': 'N'}, 'Do you think this examined both retrograde and anterograde amnesia?': {'chunk_1': 'Y', 'chunk_2': 'Y', 'chunk_3': 'Y', 'chunk_4': 'Y'}, 'Do you think there was a good description of the amnesia severity, either qualitatively or quantitatively? (Y/N)': {'chunk_1': 'Y', 'chunk_2': 'Y', 'chunk_3': 'Y', 'chunk_4': 'N'}, 'Do you think this did not have global cognitive impairment disproportionate to memory loss? (Y/N)': {'chunk_1': 'N', 'chunk_2': 'Y', 'chunk_3': 'Y', 'chunk_4': 'Y'}, 'Do you think this was unrelated to focal/global brain atrophy? (Y/N)': {'chunk_1': 'N', 'chunk_2': 'N', 'chunk_3': 'Y', 'chunk_4': 'N'}, 'Do you think this represents a typical case of amnesia': {'chunk_1': 'N', 'chunk_2': 'N', 'chunk_3': 'N', 'chunk_4': 'N'}}, 'Solcà et al. - 2015 - Impairment of semantic memory after basal forebrai_OCR.txt': {'Does this have case report-style information (Y)? Or is it a different type of article (N)': {'chunk_1': 'Y', 'chunk_2': 'N'}, 'Do you think there might be a figure in this which has patient neuroimaging? (Y/N)': {'chunk_1': 'Y', 'chunk_2': 'Y'}, 'Do you think this has ruled out transient global amnesia, reversible amnesia symptom, drug use, toxicity, epilepsy-related confusion, psychological/psychiatric/functional amnesia? (Y/N)': {'chunk_1': 'N', 'chunk_2': 'Unfortunately, based on the given text chunk, I am unable to determine whether transient global amnesia, reversible amnesia symptom, drug use, toxicity, epilepsy-related confusion, psychological/psychiatric/functional amnesia have been ruled out in this case.'}, 'Do you think this examined both retrograde and anterograde amnesia?': {'chunk_1': 'Y', 'chunk_2': 'Based on the information provided, it seems that this case examined both retrograde and anterograde amnesia. The mention of episodic memory deficits for visuospatial and verbal material suggests impairments in both the ability to recall past events (retrograde amnesia) and to form new memories (anterograde amnesia).'}, 'Do you think there was a good description of the amnesia severity, either qualitatively or quantitatively? (Y/N)': {'chunk_1': 'Y', 'chunk_2': 'Based on the given text chunk, there is not a clear indication of a qualitative or quantitative description of the severity of the amnesia. It mentions deficits in episodic memory for visuospatial and verbal material, but there is no specific measurement or scale mentioned to provide a clear assessment of the severity of the amnesia.'}, 'Do you think this did not have global cognitive impairment disproportionate to memory loss? (Y/N)': {'chunk_1': 'Y', 'chunk_2': 'Based on the given text chunk, it is not explicitly stated whether there is global cognitive impairment disproportionate to memory loss. Further information would be needed to determine if there is a presence of global cognitive impairment in relation to the memory deficits described.'}, 'Do you think this was unrelated to focal/global brain atrophy? (Y/N)': {'chunk_1': 'Y', 'chunk_2': 'Based on the provided text chunk, there is no mention of focal or global brain atrophy. Therefore, based on the information available, it cannot be determined whether the amnesia is related or unrelated to focal or global brain atrophy.'}, 'Do you think this represents a typical case of amnesia': {'chunk_1': 'Y', 'chunk_2': \"Based on the given information, it is difficult to determine whether this represents a typical case of amnesia. The text provides some details about the patient's performance on tasks and the presence of semantic and naming errors, but it does not provide enough information to make a definitive assessment of typicality. Additional information about the patient's clinical presentation, diagnostic criteria, and comparison to established norms would be necessary to determine if this case aligns with typical patterns of amnesia.\"}}, 'Park et al. - 2007 - Amnesic Syndrome in a Mammillothalamic Tract Infar_OCR.txt': {'Does this have case report-style information (Y)? Or is it a different type of article (N)': {'chunk_1': 'Y'}, 'Do you think there might be a figure in this which has patient neuroimaging? (Y/N)': {'chunk_1': 'Y'}, 'Do you think this has ruled out transient global amnesia, reversible amnesia symptom, drug use, toxicity, epilepsy-related confusion, psychological/psychiatric/functional amnesia? (Y/N)': {'chunk_1': 'N'}, 'Do you think this examined both retrograde and anterograde amnesia?': {'chunk_1': 'Y'}, 'Do you think there was a good description of the amnesia severity, either qualitatively or quantitatively? (Y/N)': {'chunk_1': 'Y'}, 'Do you think this did not have global cognitive impairment disproportionate to memory loss? (Y/N)': {'chunk_1': 'Y'}, 'Do you think this was unrelated to focal/global brain atrophy? (Y/N)': {'chunk_1': 'N'}, 'Do you think this represents a typical case of amnesia': {'chunk_1': 'N'}}, 'Gainotti et al. - 1998 - Retrograde amnesia in a patient with retrosplenial_OCR.txt': {'Does this have case report-style information (Y)? Or is it a different type of article (N)': {'chunk_1': 'Y', 'chunk_2': 'Y'}, 'Do you think there might be a figure in this which has patient neuroimaging? (Y/N)': {'chunk_1': 'Y', 'chunk_2': 'Y'}, 'Do you think this has ruled out transient global amnesia, reversible amnesia symptom, drug use, toxicity, epilepsy-related confusion, psychological/psychiatric/functional amnesia? (Y/N)': {'chunk_1': 'N', 'chunk_2': 'N'}, 'Do you think this examined both retrograde and anterograde amnesia?': {'chunk_1': 'Y', 'chunk_2': 'Y'}, 'Do you think there was a good description of the amnesia severity, either qualitatively or quantitatively? (Y/N)': {'chunk_1': 'Y', 'chunk_2': 'Y'}, 'Do you think this did not have global cognitive impairment disproportionate to memory loss? (Y/N)': {'chunk_1': 'Y', 'chunk_2': 'Y'}, 'Do you think this was unrelated to focal/global brain atrophy? (Y/N)': {'chunk_1': 'N', 'chunk_2': 'Y'}, 'Do you think this represents a typical case of amnesia': {'chunk_1': 'N', 'chunk_2': 'N'}}, 'Wank et al. - 2022 - Autobiographical memory unknown Pervasive autobio_OCR.txt': {'Does this have case report-style information (Y)? Or is it a different type of article (N)': {'chunk_1': 'Y', 'chunk_2': 'Y', 'chunk_3': 'N', 'chunk_4': 'Y'}, 'Do you think there might be a figure in this which has patient neuroimaging? (Y/N)': {'chunk_1': 'Y', 'chunk_2': 'N', 'chunk_3': 'N', 'chunk_4': 'N'}, 'Do you think this has ruled out transient global amnesia, reversible amnesia symptom, drug use, toxicity, epilepsy-related confusion, psychological/psychiatric/functional amnesia? (Y/N)': {'chunk_1': 'N', 'chunk_2': 'N', 'chunk_3': 'N', 'chunk_4': 'N'}, 'Do you think this examined both retrograde and anterograde amnesia?': {'chunk_1': 'Y', 'chunk_2': 'Y', 'chunk_3': 'Y', 'chunk_4': 'Y'}, 'Do you think there was a good description of the amnesia severity, either qualitatively or quantitatively? (Y/N)': {'chunk_1': 'Y', 'chunk_2': 'Y', 'chunk_3': 'N', 'chunk_4': 'N'}, 'Do you think this did not have global cognitive impairment disproportionate to memory loss? (Y/N)': {'chunk_1': 'N', 'chunk_2': 'Y', 'chunk_3': 'N', 'chunk_4': 'N'}, 'Do you think this was unrelated to focal/global brain atrophy? (Y/N)': {'chunk_1': 'N', 'chunk_2': 'N', 'chunk_3': 'N', 'chunk_4': 'N'}, 'Do you think this represents a typical case of amnesia': {'chunk_1': 'N', 'chunk_2': 'N', 'chunk_3': 'N', 'chunk_4': 'N'}}, 'Arai - 2006 - Severe amnesia after a restricted lesion in the le_OCR.txt': {'Does this have case report-style information (Y)? Or is it a different type of article (N)': {'chunk_1': 'Y'}, 'Do you think there might be a figure in this which has patient neuroimaging? (Y/N)': {'chunk_1': 'Y'}, 'Do you think this has ruled out transient global amnesia, reversible amnesia symptom, drug use, toxicity, epilepsy-related confusion, psychological/psychiatric/functional amnesia? (Y/N)': {'chunk_1': 'Based on the information provided, it is not explicitly stated whether transient global amnesia, reversible amnesia symptom, drug use, toxicity, epilepsy-related confusion, or psychological/psychiatric/functional amnesia have been ruled out.'}, 'Do you think this examined both retrograde and anterograde amnesia?': {'chunk_1': 'Yes, based on the information provided, the article examined both retrograde and anterograde amnesia in the patient.'}, 'Do you think there was a good description of the amnesia severity, either qualitatively or quantitatively? (Y/N)': {'chunk_1': 'Y'}, 'Do you think this did not have global cognitive impairment disproportionate to memory loss? (Y/N)': {'chunk_1': 'Y'}, 'Do you think this was unrelated to focal/global brain atrophy? (Y/N)': {'chunk_1': 'Based on the information provided, it is not explicitly stated whether the amnesia in this case was unrelated to focal/global brain atrophy.'}, 'Do you think this represents a typical case of amnesia': {'chunk_1': 'Based on the information provided, it is difficult to determine if this represents a typical case of amnesia as the specific cause and characteristics of the amnesia are not fully described.'}}, 'Gentilini et al. - 1987 - Bilateral paramedian thalamic artery infarcts rep_OCR.txt': {'Does this have case report-style information (Y)? Or is it a different type of article (N)': {'chunk_1': 'Y', 'chunk_2': 'Y', 'chunk_3': 'Y'}, 'Do you think there might be a figure in this which has patient neuroimaging? (Y/N)': {'chunk_1': 'Y', 'chunk_2': 'N', 'chunk_3': 'Y'}, 'Do you think this has ruled out transient global amnesia, reversible amnesia symptom, drug use, toxicity, epilepsy-related confusion, psychological/psychiatric/functional amnesia? (Y/N)': {'chunk_1': 'N', 'chunk_2': 'N', 'chunk_3': 'N'}, 'Do you think this examined both retrograde and anterograde amnesia?': {'chunk_1': 'Y', 'chunk_2': 'Y', 'chunk_3': 'Y'}, 'Do you think there was a good description of the amnesia severity, either qualitatively or quantitatively? (Y/N)': {'chunk_1': 'Y', 'chunk_2': 'Y', 'chunk_3': 'Y'}, 'Do you think this did not have global cognitive impairment disproportionate to memory loss? (Y/N)': {'chunk_1': 'Y', 'chunk_2': 'N', 'chunk_3': 'Y'}, 'Do you think this was unrelated to focal/global brain atrophy? (Y/N)': {'chunk_1': 'N', 'chunk_2': 'Y', 'chunk_3': 'N'}, 'Do you think this represents a typical case of amnesia': {'chunk_1': 'N', 'chunk_2': 'Y', 'chunk_3': 'N'}}, 'Ruggeri - 2016 - Left Dorsomedial Thalamic Damage Impairs Verbal Re_OCR.txt': {'Does this have case report-style information (Y)? Or is it a different type of article (N)': {'chunk_1': 'Y', 'chunk_2': 'N'}, 'Do you think there might be a figure in this which has patient neuroimaging? (Y/N)': {'chunk_1': 'Y', 'chunk_2': 'Y'}, 'Do you think this has ruled out transient global amnesia, reversible amnesia symptom, drug use, toxicity, epilepsy-related confusion, psychological/psychiatric/functional amnesia? (Y/N)': {'chunk_1': 'N', 'chunk_2': 'N'}, 'Do you think this examined both retrograde and anterograde amnesia?': {'chunk_1': 'N', 'chunk_2': 'Y'}, 'Do you think there was a good description of the amnesia severity, either qualitatively or quantitatively? (Y/N)': {'chunk_1': 'N', 'chunk_2': 'Y'}, 'Do you think this did not have global cognitive impairment disproportionate to memory loss? (Y/N)': {'chunk_1': 'N', 'chunk_2': 'Y'}, 'Do you think this was unrelated to focal/global brain atrophy? (Y/N)': {'chunk_1': 'N', 'chunk_2': 'N'}, 'Do you think this represents a typical case of amnesia': {'chunk_1': 'Y', 'chunk_2': 'Y'}}, 'Miller et al. - 2001 - Right medial thalamic lesion causes isolated retro_OCR.txt': {'Does this have case report-style information (Y)? Or is it a different type of article (N)': {'chunk_1': 'Y', 'chunk_2': 'Y', 'chunk_3': 'Y'}, 'Do you think there might be a figure in this which has patient neuroimaging? (Y/N)': {'chunk_1': 'Y', 'chunk_2': 'Y', 'chunk_3': 'N'}, 'Do you think this has ruled out transient global amnesia, reversible amnesia symptom, drug use, toxicity, epilepsy-related confusion, psychological/psychiatric/functional amnesia? (Y/N)': {'chunk_1': 'N', 'chunk_2': 'N', 'chunk_3': 'Y'}, 'Do you think this examined both retrograde and anterograde amnesia?': {'chunk_1': 'Y', 'chunk_2': 'Y', 'chunk_3': 'Y'}, 'Do you think there was a good description of the amnesia severity, either qualitatively or quantitatively? (Y/N)': {'chunk_1': 'Y', 'chunk_2': 'Y', 'chunk_3': 'Y'}, 'Do you think this did not have global cognitive impairment disproportionate to memory loss? (Y/N)': {'chunk_1': 'Y', 'chunk_2': 'Y', 'chunk_3': 'Y'}, 'Do you think this was unrelated to focal/global brain atrophy? (Y/N)': {'chunk_1': 'Y', 'chunk_2': 'Y', 'chunk_3': 'Y'}, 'Do you think this represents a typical case of amnesia': {'chunk_1': 'N', 'chunk_2': 'N', 'chunk_3': 'N'}}, 'Collinson et al. - 2009 - Injury and recovery Severe amnestic syndrome foll_OCR.txt': {'Does this have case report-style information (Y)? Or is it a different type of article (N)': {'chunk_1': 'Y'}, 'Do you think there might be a figure in this which has patient neuroimaging? (Y/N)': {'chunk_1': 'Y'}, 'Do you think this has ruled out transient global amnesia, reversible amnesia symptom, drug use, toxicity, epilepsy-related confusion, psychological/psychiatric/functional amnesia? (Y/N)': {'chunk_1': 'N'}, 'Do you think this examined both retrograde and anterograde amnesia?': {'chunk_1': 'Y'}, 'Do you think there was a good description of the amnesia severity, either qualitatively or quantitatively? (Y/N)': {'chunk_1': 'N'}, 'Do you think this did not have global cognitive impairment disproportionate to memory loss? (Y/N)': {'chunk_1': 'N'}, 'Do you think this was unrelated to focal/global brain atrophy? (Y/N)': {'chunk_1': 'N'}, 'Do you think this represents a typical case of amnesia': {'chunk_1': 'N'}}, 'Carlesimo et al. - ANALYSIS OF THE MEMORY IMPAIRMENT IN A POST-ENCEPH_OCR.txt': {'Does this have case report-style information (Y)? Or is it a different type of article (N)': {'chunk_1': 'Y', 'chunk_2': 'Y'}, 'Do you think there might be a figure in this which has patient neuroimaging? (Y/N)': {'chunk_1': 'N', 'chunk_2': 'N'}, 'Do you think this has ruled out transient global amnesia, reversible amnesia symptom, drug use, toxicity, epilepsy-related confusion, psychological/psychiatric/functional amnesia? (Y/N)': {'chunk_1': 'N', 'chunk_2': 'N'}, 'Do you think this examined both retrograde and anterograde amnesia?': {'chunk_1': 'Y', 'chunk_2': 'Y'}, 'Do you think there was a good description of the amnesia severity, either qualitatively or quantitatively? (Y/N)': {'chunk_1': 'Y', 'chunk_2': 'N'}, 'Do you think this did not have global cognitive impairment disproportionate to memory loss? (Y/N)': {'chunk_1': 'Y', 'chunk_2': 'Y'}, 'Do you think this was unrelated to focal/global brain atrophy? (Y/N)': {'chunk_1': 'N', 'chunk_2': 'N'}, 'Do you think this represents a typical case of amnesia': {'chunk_1': 'N', 'chunk_2': 'N'}}, 'Kwan et al. - 2013 - Dissociations in future thinking following hippoca_OCR.txt': {'Does this have case report-style information (Y)? Or is it a different type of article (N)': {'chunk_1': 'Y', 'chunk_2': 'Y', 'chunk_3': 'Y', 'chunk_4': 'N', 'chunk_5': 'Y'}, 'Do you think there might be a figure in this which has patient neuroimaging? (Y/N)': {'chunk_1': 'Y', 'chunk_2': 'Y', 'chunk_3': 'Y', 'chunk_4': 'N', 'chunk_5': 'N'}, 'Do you think this has ruled out transient global amnesia, reversible amnesia symptom, drug use, toxicity, epilepsy-related confusion, psychological/psychiatric/functional amnesia? (Y/N)': {'chunk_1': 'N', 'chunk_2': 'N', 'chunk_3': 'Y', 'chunk_4': 'N', 'chunk_5': 'N'}, 'Do you think this examined both retrograde and anterograde amnesia?': {'chunk_1': 'N', 'chunk_2': 'Y', 'chunk_3': 'Y', 'chunk_4': 'N', 'chunk_5': 'N'}, 'Do you think there was a good description of the amnesia severity, either qualitatively or quantitatively? (Y/N)': {'chunk_1': 'Y', 'chunk_2': 'Y', 'chunk_3': 'Y', 'chunk_4': 'N', 'chunk_5': 'N'}, 'Do you think this did not have global cognitive impairment disproportionate to memory loss? (Y/N)': {'chunk_1': 'Y', 'chunk_2': 'N', 'chunk_3': 'Y', 'chunk_4': 'N', 'chunk_5': 'N'}, 'Do you think this was unrelated to focal/global brain atrophy? (Y/N)': {'chunk_1': 'N', 'chunk_2': 'N', 'chunk_3': 'N', 'chunk_4': 'N', 'chunk_5': 'N'}, 'Do you think this represents a typical case of amnesia': {'chunk_1': 'N', 'chunk_2': 'N', 'chunk_3': 'Y', 'chunk_4': 'N', 'chunk_5': 'N'}}, 'Hashimoto et al. - 2000 - Amnesic confabulatory syndrome after focal basal f_OCR.txt': {'Does this have case report-style information (Y)? Or is it a different type of article (N)': {'chunk_1': 'Y'}, 'Do you think there might be a figure in this which has patient neuroimaging? (Y/N)': {'chunk_1': 'Y'}, 'Do you think this has ruled out transient global amnesia, reversible amnesia symptom, drug use, toxicity, epilepsy-related confusion, psychological/psychiatric/functional amnesia? (Y/N)': {'chunk_1': 'N'}, 'Do you think this examined both retrograde and anterograde amnesia?': {'chunk_1': 'Y'}, 'Do you think there was a good description of the amnesia severity, either qualitatively or quantitatively? (Y/N)': {'chunk_1': 'Y'}, 'Do you think this did not have global cognitive impairment disproportionate to memory loss? (Y/N)': {'chunk_1': 'N'}, 'Do you think this was unrelated to focal/global brain atrophy? (Y/N)': {'chunk_1': 'N'}, 'Do you think this represents a typical case of amnesia': {'chunk_1': 'N'}}, 'von Cramon and Schuri - 1992 - The Septo-Hippocampal Pathways and Their Relevance_OCR.txt': {'Does this have case report-style information (Y)? Or is it a different type of article (N)': {'chunk_1': 'Y', 'chunk_2': 'Y', 'chunk_3': 'Y'}, 'Do you think there might be a figure in this which has patient neuroimaging? (Y/N)': {'chunk_1': 'Y', 'chunk_2': 'Y', 'chunk_3': 'Y'}, 'Do you think this has ruled out transient global amnesia, reversible amnesia symptom, drug use, toxicity, epilepsy-related confusion, psychological/psychiatric/functional amnesia? (Y/N)': {'chunk_1': 'N', 'chunk_2': 'N', 'chunk_3': 'N'}, 'Do you think this examined both retrograde and anterograde amnesia?': {'chunk_1': 'Y', 'chunk_2': 'Y', 'chunk_3': 'N'}, 'Do you think there was a good description of the amnesia severity, either qualitatively or quantitatively? (Y/N)': {'chunk_1': 'Y', 'chunk_2': 'Y', 'chunk_3': 'N'}, 'Do you think this did not have global cognitive impairment disproportionate to memory loss? (Y/N)': {'chunk_1': 'Y', 'chunk_2': 'Y', 'chunk_3': 'N'}, 'Do you think this was unrelated to focal/global brain atrophy? (Y/N)': {'chunk_1': 'Y', 'chunk_2': 'Y', 'chunk_3': 'N'}, 'Do you think this represents a typical case of amnesia': {'chunk_1': 'Y', 'chunk_2': 'N', 'chunk_3': 'N'}}, 'Von Cramon et al. - 1985 - A CONTRIBUTION TO THE ANATOMICAL BASIS OF THALAMIC_OCR.txt': {'Does this have case report-style information (Y)? Or is it a different type of article (N)': {'chunk_1': 'Y', 'chunk_2': 'Y'}, 'Do you think there might be a figure in this which has patient neuroimaging? (Y/N)': {'chunk_1': 'Y', 'chunk_2': 'Y'}, 'Do you think this has ruled out transient global amnesia, reversible amnesia symptom, drug use, toxicity, epilepsy-related confusion, psychological/psychiatric/functional amnesia? (Y/N)': {'chunk_1': 'N', 'chunk_2': 'N'}, 'Do you think this examined both retrograde and anterograde amnesia?': {'chunk_1': 'Y', 'chunk_2': 'Y'}, 'Do you think there was a good description of the amnesia severity, either qualitatively or quantitatively? (Y/N)': {'chunk_1': 'Y', 'chunk_2': 'N'}, 'Do you think this did not have global cognitive impairment disproportionate to memory loss? (Y/N)': {'chunk_1': 'Y', 'chunk_2': 'Y'}, 'Do you think this was unrelated to focal/global brain atrophy? (Y/N)': {'chunk_1': 'N', 'chunk_2': 'N'}, 'Do you think this represents a typical case of amnesia': {'chunk_1': 'Y', 'chunk_2': 'Based on the information provided, it does appear that this case study represents a typical case of amnesia caused by thalamic infarctions. The presence of selective hypodense lesions in the ventral region of the thalamus, along with the observed memory dysfunction and absence of other neurological deficits, align with typical characteristics of thalamic amnesia.'}}, 'Baird and Robinson - 2018 - Novel cognitive insights from the first year after_OCR.txt': {'Does this have case report-style information (Y)? Or is it a different type of article (N)': {'chunk_1': 'Y', 'chunk_2': 'Y'}, 'Do you think there might be a figure in this which has patient neuroimaging? (Y/N)': {'chunk_1': 'Y', 'chunk_2': 'Y'}, 'Do you think this has ruled out transient global amnesia, reversible amnesia symptom, drug use, toxicity, epilepsy-related confusion, psychological/psychiatric/functional amnesia? (Y/N)': {'chunk_1': 'N', 'chunk_2': 'N'}, 'Do you think this examined both retrograde and anterograde amnesia?': {'chunk_1': 'Y', 'chunk_2': 'Y'}, 'Do you think there was a good description of the amnesia severity, either qualitatively or quantitatively? (Y/N)': {'chunk_1': 'Y', 'chunk_2': 'Y'}, 'Do you think this did not have global cognitive impairment disproportionate to memory loss? (Y/N)': {'chunk_1': 'Y', 'chunk_2': 'Y'}, 'Do you think this was unrelated to focal/global brain atrophy? (Y/N)': {'chunk_1': 'N', 'chunk_2': 'Y'}, 'Do you think this represents a typical case of amnesia': {'chunk_1': 'N', 'chunk_2': 'N'}}, 'Hirayama - 2003 - Limbic encephalitis presenting with topographical _OCR.txt': {'Does this have case report-style information (Y)? Or is it a different type of article (N)': {'chunk_1': 'Y'}, 'Do you think there might be a figure in this which has patient neuroimaging? (Y/N)': {'chunk_1': 'N'}, 'Do you think this has ruled out transient global amnesia, reversible amnesia symptom, drug use, toxicity, epilepsy-related confusion, psychological/psychiatric/functional amnesia? (Y/N)': {'chunk_1': 'N'}, 'Do you think this examined both retrograde and anterograde amnesia?': {'chunk_1': 'Y'}, 'Do you think there was a good description of the amnesia severity, either qualitatively or quantitatively? (Y/N)': {'chunk_1': 'Y'}, 'Do you think this did not have global cognitive impairment disproportionate to memory loss? (Y/N)': {'chunk_1': 'Y'}, 'Do you think this was unrelated to focal/global brain atrophy? (Y/N)': {'chunk_1': 'N'}, 'Do you think this represents a typical case of amnesia': {'chunk_1': 'N'}}, 'Stuss et al. - 1988 - The neuropsychology of paramedian thalamic infarct_OCR.txt': {'Does this have case report-style information (Y)? Or is it a different type of article (N)': {'chunk_1': 'Y', 'chunk_2': 'N', 'chunk_3': 'Y', 'chunk_4': 'N'}, 'Do you think there might be a figure in this which has patient neuroimaging? (Y/N)': {'chunk_1': 'Y', 'chunk_2': 'N', 'chunk_3': 'N', 'chunk_4': 'N'}, 'Do you think this has ruled out transient global amnesia, reversible amnesia symptom, drug use, toxicity, epilepsy-related confusion, psychological/psychiatric/functional amnesia? (Y/N)': {'chunk_1': 'N', 'chunk_2': 'N', 'chunk_3': 'N', 'chunk_4': 'I cannot determine that information based on the provided text.'}, 'Do you think this examined both retrograde and anterograde amnesia?': {'chunk_1': 'Y', 'chunk_2': 'Y', 'chunk_3': 'Y', 'chunk_4': 'Based on the information provided, it is likely that this article examined both retrograde and anterograde amnesia. Several references mention memory impairments in both directions, suggesting a comprehensive investigation of memory dysfunction.'}, 'Do you think there was a good description of the amnesia severity, either qualitatively or quantitatively? (Y/N)': {'chunk_1': 'Y', 'chunk_2': 'Y', 'chunk_3': 'Y', 'chunk_4': 'Based on the information provided, it is not clear whether there was a specific description of the amnesia severity, either qualitatively or quantitatively. The references mentioned focus on anatomical and physiological substrates of arousal, structural organization of thalamic nuclei, and various case studies of memory impairment after thalamic infarcts. There is no explicit mention of a detailed assessment of amnesia severity in the provided text.'}, 'Do you think this did not have global cognitive impairment disproportionate to memory loss? (Y/N)': {'chunk_1': 'Y', 'chunk_2': 'N', 'chunk_3': 'Y', 'chunk_4': 'Based on the information provided, it is not possible to determine whether there was global cognitive impairment disproportionate to memory loss. The text primarily focuses on thalamic infarcts and their impact on memory, without providing details on the overall cognitive functioning of the individuals included in the studies.'}, 'Do you think this was unrelated to focal/global brain atrophy? (Y/N)': {'chunk_1': 'N', 'chunk_2': 'N', 'chunk_3': 'N', 'chunk_4': 'Based on the information provided, it is not possible to determine whether the article is unrelated to focal/global brain atrophy. The references mentioned focus on thalamic infarcts and their impact on memory, but there is no explicit mention of the relationship between these infarcts and brain atrophy. Further information would be needed to make a definitive assessment.'}, 'Do you think this represents a typical case of amnesia': {'chunk_1': 'Y', 'chunk_2': 'Y', 'chunk_3': 'N', 'chunk_4': 'Based on the information provided, it is difficult to determine whether this represents a typical case of amnesia. The references mentioned focus on thalamic infarcts and their impact on memory, without providing a comprehensive overview of different types or etiologies of amnesia. To assess the typicality of the cases described in these references, additional details about the characteristics, causes, and outcomes of the amnesia would be necessary.'}}, 'Guberman and Stuss - The syndrome of bilateral paramedian thalamic infa_OCR.txt': {'Does this have case report-style information (Y)? Or is it a different type of article (N)': {'chunk_1': 'Y', 'chunk_2': \"Based on the provided information, it seems to have case report-style information, as it includes details about the patient's symptoms, neuro-ophthalmologic signs, and other clinical findings. Therefore, the answer would be Y (Yes).\"}, 'Do you think there might be a figure in this which has patient neuroimaging? (Y/N)': {'chunk_1': 'Y', 'chunk_2': 'Based on the text chunk provided, there is no mention of any neuroimaging or any indication that there might be a figure with patient neuroimaging. Therefore, the answer would be N (No).'}, 'Do you think this has ruled out transient global amnesia, reversible amnesia symptom, drug use, toxicity, epilepsy-related confusion, psychological/psychiatric/functional amnesia? (Y/N)': {'chunk_1': 'N', 'chunk_2': 'Based on the provided information, it is not clear whether transient global amnesia, reversible amnesia symptom, drug use, toxicity, epilepsy-related confusion, or psychological/psychiatric/functional amnesia have been specifically ruled out. The text chunk does not provide explicit information regarding the exclusion of these conditions. Therefore, the answer would be N (No).'}, 'Do you think this examined both retrograde and anterograde amnesia?': {'chunk_1': 'Y', 'chunk_2': 'Based on the information provided in the text chunk, it is not explicitly mentioned whether both retrograde and anterograde amnesia were examined. The text only provides information about the presence or absence of various cognitive and neuro-ophthalmologic signs in the patient. Therefore, it is not possible to determine whether both types of amnesia were examined based on the given information.'}, 'Do you think there was a good description of the amnesia severity, either qualitatively or quantitatively? (Y/N)': {'chunk_1': 'Y', 'chunk_2': \"Based on the information provided in the text chunk, there is a qualitative description of the amnesia severity. It mentions the presence of mild, moderate, and severe amnesia at different points in time. Additionally, it provides some quantitative information such as the patient's IQ scores and performance on various cognitive tests. Therefore, the answer would be Y (Yes).\"}, 'Do you think this did not have global cognitive impairment disproportionate to memory loss? (Y/N)': {'chunk_1': 'Y', 'chunk_2': 'Based on the information provided, it is not possible to determine whether there was global cognitive impairment disproportionate to memory loss. The text chunk primarily focuses on the presence or absence of specific cognitive and neuro-ophthalmologic signs in the patient, without providing a comprehensive assessment of global cognitive function. Therefore, the answer would be N (No).'}, 'Do you think this was unrelated to focal/global brain atrophy? (Y/N)': {'chunk_1': 'N', 'chunk_2': 'Based on the information provided, it is not explicitly mentioned whether the condition described in the text chunk is related to focal or global brain atrophy. Without specific information on brain imaging or any mention of atrophy, it is not possible to determine whether the condition is unrelated to focal or global brain atrophy. Therefore, the answer would be N (No).'}, 'Do you think this represents a typical case of amnesia': {'chunk_1': 'Y', 'chunk_2': \"Based on the information provided, it is difficult to determine if this represents a typical case of amnesia. The text chunk describes various cognitive and neuro-ophthalmologic signs in the patient but does not provide enough context to make a definitive judgment on whether it aligns with a typical case of amnesia. A comprehensive evaluation of the individual's medical history, clinical presentation, and diagnostic findings would be necessary to make a more accurate assessment.\"}}, 'Persistent Klüver-Bucy syndrome after bilateral thalamic infarction._OCR.txt': {'Does this have case report-style information (Y)? Or is it a different type of article (N)': {'chunk_1': 'Y'}, 'Do you think there might be a figure in this which has patient neuroimaging? (Y/N)': {'chunk_1': 'Y'}, 'Do you think this has ruled out transient global amnesia, reversible amnesia symptom, drug use, toxicity, epilepsy-related confusion, psychological/psychiatric/functional amnesia? (Y/N)': {'chunk_1': 'N'}, 'Do you think this examined both retrograde and anterograde amnesia?': {'chunk_1': 'Y'}, 'Do you think there was a good description of the amnesia severity, either qualitatively or quantitatively? (Y/N)': {'chunk_1': 'Y'}, 'Do you think this did not have global cognitive impairment disproportionate to memory loss? (Y/N)': {'chunk_1': 'Y'}, 'Do you think this was unrelated to focal/global brain atrophy? (Y/N)': {'chunk_1': 'N'}, 'Do you think this represents a typical case of amnesia': {'chunk_1': 'N'}}, 'Markowitsch et al. - 1993 - Retrograde amnesia after traumatic injury of the f_OCR.txt': {'Does this have case report-style information (Y)? Or is it a different type of article (N)': {'chunk_1': 'Y', 'chunk_2': 'Y'}, 'Do you think there might be a figure in this which has patient neuroimaging? (Y/N)': {'chunk_1': 'N', 'chunk_2': 'Y'}, 'Do you think this has ruled out transient global amnesia, reversible amnesia symptom, drug use, toxicity, epilepsy-related confusion, psychological/psychiatric/functional amnesia? (Y/N)': {'chunk_1': 'N', 'chunk_2': 'N'}, 'Do you think this examined both retrograde and anterograde amnesia?': {'chunk_1': 'Y', 'chunk_2': 'Y'}, 'Do you think there was a good description of the amnesia severity, either qualitatively or quantitatively? (Y/N)': {'chunk_1': 'Y', 'chunk_2': 'N'}, 'Do you think this did not have global cognitive impairment disproportionate to memory loss? (Y/N)': {'chunk_1': 'Y', 'chunk_2': 'N'}, 'Do you think this was unrelated to focal/global brain atrophy? (Y/N)': {'chunk_1': 'Y', 'chunk_2': 'N'}, 'Do you think this represents a typical case of amnesia': {'chunk_1': 'Y', 'chunk_2': 'Y'}}, 'Beglinger_OCR.txt': {'Does this have case report-style information (Y)? Or is it a different type of article (N)': {'chunk_1': 'Y', 'chunk_2': 'Y'}, 'Do you think there might be a figure in this which has patient neuroimaging? (Y/N)': {'chunk_1': 'Y', 'chunk_2': 'Y'}, 'Do you think this has ruled out transient global amnesia, reversible amnesia symptom, drug use, toxicity, epilepsy-related confusion, psychological/psychiatric/functional amnesia? (Y/N)': {'chunk_1': 'N', 'chunk_2': 'N'}, 'Do you think this examined both retrograde and anterograde amnesia?': {'chunk_1': 'Y', 'chunk_2': 'Y'}, 'Do you think there was a good description of the amnesia severity, either qualitatively or quantitatively? (Y/N)': {'chunk_1': 'Y', 'chunk_2': 'Y'}, 'Do you think this did not have global cognitive impairment disproportionate to memory loss? (Y/N)': {'chunk_1': 'Y', 'chunk_2': 'Y'}, 'Do you think this was unrelated to focal/global brain atrophy? (Y/N)': {'chunk_1': 'N', 'chunk_2': 'N'}, 'Do you think this represents a typical case of amnesia': {'chunk_1': 'N', 'chunk_2': 'N'}}, 'Caulo et al. - 2005 - Functional MRI study of diencephalic amnesia in We_OCR.txt': {'Does this have case report-style information (Y)? Or is it a different type of article (N)': {'chunk_1': 'Y', 'chunk_2': 'N', 'chunk_3': 'Y', 'chunk_4': 'N'}, 'Do you think there might be a figure in this which has patient neuroimaging? (Y/N)': {'chunk_1': 'Y', 'chunk_2': 'Y', 'chunk_3': 'Y', 'chunk_4': 'Y'}, 'Do you think this has ruled out transient global amnesia, reversible amnesia symptom, drug use, toxicity, epilepsy-related confusion, psychological/psychiatric/functional amnesia? (Y/N)': {'chunk_1': 'N', 'chunk_2': 'N', 'chunk_3': 'N', 'chunk_4': 'N'}, 'Do you think this examined both retrograde and anterograde amnesia?': {'chunk_1': 'Y', 'chunk_2': 'Y', 'chunk_3': 'Y', 'chunk_4': 'N'}, 'Do you think there was a good description of the amnesia severity, either qualitatively or quantitatively? (Y/N)': {'chunk_1': 'Y', 'chunk_2': 'Y', 'chunk_3': 'Y', 'chunk_4': 'N'}, 'Do you think this did not have global cognitive impairment disproportionate to memory loss? (Y/N)': {'chunk_1': 'N', 'chunk_2': 'N', 'chunk_3': 'N', 'chunk_4': 'N'}, 'Do you think this was unrelated to focal/global brain atrophy? (Y/N)': {'chunk_1': 'N', 'chunk_2': 'Y', 'chunk_3': 'N', 'chunk_4': 'N'}, 'Do you think this represents a typical case of amnesia': {'chunk_1': 'Y', 'chunk_2': 'Y', 'chunk_3': 'N', 'chunk_4': 'N'}}, '1-s2.0-S0278262683710110-main_OCR.txt': {'Does this have case report-style information (Y)? Or is it a different type of article (N)': {'chunk_1': 'Y'}, 'Do you think there might be a figure in this which has patient neuroimaging? (Y/N)': {'chunk_1': 'Y'}, 'Do you think this has ruled out transient global amnesia, reversible amnesia symptom, drug use, toxicity, epilepsy-related confusion, psychological/psychiatric/functional amnesia? (Y/N)': {'chunk_1': 'N'}, 'Do you think this examined both retrograde and anterograde amnesia?': {'chunk_1': 'Y'}, 'Do you think there was a good description of the amnesia severity, either qualitatively or quantitatively? (Y/N)': {'chunk_1': 'Y'}, 'Do you think this did not have global cognitive impairment disproportionate to memory loss? (Y/N)': {'chunk_1': 'Y'}, 'Do you think this was unrelated to focal/global brain atrophy? (Y/N)': {'chunk_1': 'N'}, 'Do you think this represents a typical case of amnesia': {'chunk_1': 'N'}}, 'Di Gennaro et al. - 2006 - Severe amnesia following bilateral medial temporal_OCR.txt': {'Does this have case report-style information (Y)? Or is it a different type of article (N)': {'chunk_1': 'Y', 'chunk_2': 'Y'}, 'Do you think there might be a figure in this which has patient neuroimaging? (Y/N)': {'chunk_1': 'Y', 'chunk_2': 'Y'}, 'Do you think this has ruled out transient global amnesia, reversible amnesia symptom, drug use, toxicity, epilepsy-related confusion, psychological/psychiatric/functional amnesia? (Y/N)': {'chunk_1': 'N', 'chunk_2': 'N'}, 'Do you think this examined both retrograde and anterograde amnesia?': {'chunk_1': 'Y', 'chunk_2': 'Y'}, 'Do you think there was a good description of the amnesia severity, either qualitatively or quantitatively? (Y/N)': {'chunk_1': 'Y', 'chunk_2': 'Y'}, 'Do you think this did not have global cognitive impairment disproportionate to memory loss? (Y/N)': {'chunk_1': 'Y', 'chunk_2': 'N'}, 'Do you think this was unrelated to focal/global brain atrophy? (Y/N)': {'chunk_1': 'Y', 'chunk_2': 'N'}, 'Do you think this represents a typical case of amnesia': {'chunk_1': 'N', 'chunk_2': 'N'}}, 'Clinical case report memory functions after anterior communicating artery aneurysm rupture_OCR.txt': {'Does this have case report-style information (Y)? Or is it a different type of article (N)': {'chunk_1': 'Y'}, 'Do you think there might be a figure in this which has patient neuroimaging? (Y/N)': {'chunk_1': 'N'}, 'Do you think this has ruled out transient global amnesia, reversible amnesia symptom, drug use, toxicity, epilepsy-related confusion, psychological/psychiatric/functional amnesia? (Y/N)': {'chunk_1': 'N'}, 'Do you think this examined both retrograde and anterograde amnesia?': {'chunk_1': 'Y'}, 'Do you think there was a good description of the amnesia severity, either qualitatively or quantitatively? (Y/N)': {'chunk_1': 'N'}, 'Do you think this did not have global cognitive impairment disproportionate to memory loss? (Y/N)': {'chunk_1': 'Y'}, 'Do you think this was unrelated to focal/global brain atrophy? (Y/N)': {'chunk_1': 'N'}, 'Do you think this represents a typical case of amnesia': {'chunk_1': 'N'}}, 'Brown et al. - 2016 - Isolated, relative aproverbia without focal lesion_OCR.txt': {'Does this have case report-style information (Y)? Or is it a different type of article (N)': {'chunk_1': 'Y', 'chunk_2': 'N'}, 'Do you think there might be a figure in this which has patient neuroimaging? (Y/N)': {'chunk_1': 'Y', 'chunk_2': 'N'}, 'Do you think this has ruled out transient global amnesia, reversible amnesia symptom, drug use, toxicity, epilepsy-related confusion, psychological/psychiatric/functional amnesia? (Y/N)': {'chunk_1': 'N', 'chunk_2': 'N'}, 'Do you think this examined both retrograde and anterograde amnesia?': {'chunk_1': 'Y', 'chunk_2': 'Y'}, 'Do you think there was a good description of the amnesia severity, either qualitatively or quantitatively? (Y/N)': {'chunk_1': 'Y', 'chunk_2': 'N'}, 'Do you think this did not have global cognitive impairment disproportionate to memory loss? (Y/N)': {'chunk_1': 'N', 'chunk_2': 'Y'}, 'Do you think this was unrelated to focal/global brain atrophy? (Y/N)': {'chunk_1': 'N', 'chunk_2': 'N'}, 'Do you think this represents a typical case of amnesia': {'chunk_1': 'N', 'chunk_2': 'N'}}, 'Kapur and Brooks - 1999 - Temporally-specific retrograde amnesia in two case_OCR.txt': {'Does this have case report-style information (Y)? Or is it a different type of article (N)': {'chunk_1': 'Y', 'chunk_2': 'Y'}, 'Do you think there might be a figure in this which has patient neuroimaging? (Y/N)': {'chunk_1': 'Y', 'chunk_2': 'Y'}, 'Do you think this has ruled out transient global amnesia, reversible amnesia symptom, drug use, toxicity, epilepsy-related confusion, psychological/psychiatric/functional amnesia? (Y/N)': {'chunk_1': 'N', 'chunk_2': 'N'}, 'Do you think this examined both retrograde and anterograde amnesia?': {'chunk_1': 'Y', 'chunk_2': 'Y'}, 'Do you think there was a good description of the amnesia severity, either qualitatively or quantitatively? (Y/N)': {'chunk_1': 'Y', 'chunk_2': 'Y'}, 'Do you think this did not have global cognitive impairment disproportionate to memory loss? (Y/N)': {'chunk_1': 'Y', 'chunk_2': 'Y'}, 'Do you think this was unrelated to focal/global brain atrophy? (Y/N)': {'chunk_1': 'N', 'chunk_2': 'N'}, 'Do you think this represents a typical case of amnesia': {'chunk_1': 'N', 'chunk_2': 'N'}}, 'Mori et al. - 1986 - Left thalamic infarction and disturbance of verbal_OCR.txt': {'Does this have case report-style information (Y)? Or is it a different type of article (N)': {'chunk_1': 'Y', 'chunk_2': 'Y'}, 'Do you think there might be a figure in this which has patient neuroimaging? (Y/N)': {'chunk_1': 'Y', 'chunk_2': 'Y'}, 'Do you think this has ruled out transient global amnesia, reversible amnesia symptom, drug use, toxicity, epilepsy-related confusion, psychological/psychiatric/functional amnesia? (Y/N)': {'chunk_1': 'N', 'chunk_2': 'N'}, 'Do you think this examined both retrograde and anterograde amnesia?': {'chunk_1': 'Y', 'chunk_2': 'Y'}, 'Do you think there was a good description of the amnesia severity, either qualitatively or quantitatively? (Y/N)': {'chunk_1': 'Y', 'chunk_2': 'Y'}, 'Do you think this did not have global cognitive impairment disproportionate to memory loss? (Y/N)': {'chunk_1': 'Y', 'chunk_2': 'Y'}, 'Do you think this was unrelated to focal/global brain atrophy? (Y/N)': {'chunk_1': 'Y', 'chunk_2': 'Y'}, 'Do you think this represents a typical case of amnesia': {'chunk_1': 'Y', 'chunk_2': 'Y'}}, 'Reed and Squire - 1998 - Retrograde Amnesia for Facts and Events Findings _OCR.txt': {'Does this have case report-style information (Y)? Or is it a different type of article (N)': {'chunk_1': 'Y', 'chunk_2': 'Y', 'chunk_3': 'Y', 'chunk_4': 'Y'}, 'Do you think there might be a figure in this which has patient neuroimaging? (Y/N)': {'chunk_1': 'Y', 'chunk_2': 'Y', 'chunk_3': 'N', 'chunk_4': 'N'}, 'Do you think this has ruled out transient global amnesia, reversible amnesia symptom, drug use, toxicity, epilepsy-related confusion, psychological/psychiatric/functional amnesia? (Y/N)': {'chunk_1': 'N', 'chunk_2': 'N', 'chunk_3': 'N', 'chunk_4': 'Based on the provided text chunk, it is not clear whether transient global amnesia, reversible amnesia symptom, drug use, toxicity, epilepsy-related confusion, or psychological/psychiatric/functional amnesia have been ruled out.'}, 'Do you think this examined both retrograde and anterograde amnesia?': {'chunk_1': 'Y', 'chunk_2': 'Y', 'chunk_3': 'Y', 'chunk_4': 'Yes, based on the provided text chunk, it appears that both retrograde and anterograde amnesia were examined in this study.'}, 'Do you think there was a good description of the amnesia severity, either qualitatively or quantitatively? (Y/N)': {'chunk_1': 'Y', 'chunk_2': 'Y', 'chunk_3': 'Y', 'chunk_4': 'Yes, based on the provided text chunk, there seems to be a good description of amnesia severity both qualitatively and quantitatively. The text discusses the impairment in different memory characteristics, the range of scores obtained by patients, and the comparison with control subjects.'}, 'Do you think this did not have global cognitive impairment disproportionate to memory loss? (Y/N)': {'chunk_1': 'Y', 'chunk_2': 'N', 'chunk_3': 'Y', 'chunk_4': 'Based on the information provided, it is not clear whether there was global cognitive impairment disproportionate to memory loss. Further details would be needed to make a determination on this aspect.'}, 'Do you think this was unrelated to focal/global brain atrophy? (Y/N)': {'chunk_1': 'N', 'chunk_2': 'N', 'chunk_3': 'N', 'chunk_4': 'Based on the information provided, it is not possible to determine whether the findings in the study were unrelated to focal/global brain atrophy. Additional information would be needed to make a conclusive statement on this matter.'}, 'Do you think this represents a typical case of amnesia': {'chunk_1': 'Y', 'chunk_2': 'N', 'chunk_3': 'N', 'chunk_4': 'Based on the information provided, it is difficult to determine whether this represents a typical case of amnesia. The text chunk describes the study and findings of patients with hippocampal formation lesions and postencephalitic amnesia. While it provides valuable information about retrograde and anterograde amnesia, it does not provide a comprehensive overview of all types of amnesia or describe what would be considered a typical case.'}}, 'Fujii et al. - DISPROPORTIONATE RETROGRADE AMNESIA IN A PATIENT W_OCR.txt': {'Does this have case report-style information (Y)? Or is it a different type of article (N)': {'chunk_1': 'Y', 'chunk_2': 'Y', 'chunk_3': 'N'}, 'Do you think there might be a figure in this which has patient neuroimaging? (Y/N)': {'chunk_1': 'Y', 'chunk_2': 'N', 'chunk_3': 'N'}, 'Do you think this has ruled out transient global amnesia, reversible amnesia symptom, drug use, toxicity, epilepsy-related confusion, psychological/psychiatric/functional amnesia? (Y/N)': {'chunk_1': 'Y', 'chunk_2': 'N', 'chunk_3': 'N'}, 'Do you think this examined both retrograde and anterograde amnesia?': {'chunk_1': 'Y', 'chunk_2': 'Y', 'chunk_3': 'Y'}, 'Do you think there was a good description of the amnesia severity, either qualitatively or quantitatively? (Y/N)': {'chunk_1': 'Y', 'chunk_2': 'N', 'chunk_3': 'N'}, 'Do you think this did not have global cognitive impairment disproportionate to memory loss? (Y/N)': {'chunk_1': 'Y', 'chunk_2': 'N', 'chunk_3': 'N'}, 'Do you think this was unrelated to focal/global brain atrophy? (Y/N)': {'chunk_1': 'N', 'chunk_2': 'N', 'chunk_3': 'N'}, 'Do you think this represents a typical case of amnesia': {'chunk_1': 'N', 'chunk_2': 'Y', 'chunk_3': 'N'}}, 'Kartsounis et al. - Bilateral lesions of CAl and CA2 fields of the hip_OCR.txt': {'Does this have case report-style information (Y)? Or is it a different type of article (N)': {'chunk_1': 'Y', 'chunk_2': 'Y'}, 'Do you think there might be a figure in this which has patient neuroimaging? (Y/N)': {'chunk_1': 'Y', 'chunk_2': 'N'}, 'Do you think this has ruled out transient global amnesia, reversible amnesia symptom, drug use, toxicity, epilepsy-related confusion, psychological/psychiatric/functional amnesia? (Y/N)': {'chunk_1': 'N', 'chunk_2': 'N'}, 'Do you think this examined both retrograde and anterograde amnesia?': {'chunk_1': 'Y', 'chunk_2': 'Y'}, 'Do you think there was a good description of the amnesia severity, either qualitatively or quantitatively? (Y/N)': {'chunk_1': 'Y', 'chunk_2': 'Y'}, 'Do you think this did not have global cognitive impairment disproportionate to memory loss? (Y/N)': {'chunk_1': 'Y', 'chunk_2': 'Y'}, 'Do you think this was unrelated to focal/global brain atrophy? (Y/N)': {'chunk_1': 'Y', 'chunk_2': 'N'}, 'Do you think this represents a typical case of amnesia': {'chunk_1': 'Y', 'chunk_2': 'N'}}, 'Grewal - 2003 - Severe amnesia following a unilateral temporal lob_OCR.txt': {'Does this have case report-style information (Y)? Or is it a different type of article (N)': {'chunk_1': 'Y'}, 'Do you think there might be a figure in this which has patient neuroimaging? (Y/N)': {'chunk_1': 'Y'}, 'Do you think this has ruled out transient global amnesia, reversible amnesia symptom, drug use, toxicity, epilepsy-related confusion, psychological/psychiatric/functional amnesia? (Y/N)': {'chunk_1': 'N'}, 'Do you think this examined both retrograde and anterograde amnesia?': {'chunk_1': 'Y'}, 'Do you think there was a good description of the amnesia severity, either qualitatively or quantitatively? (Y/N)': {'chunk_1': 'Y'}, 'Do you think this did not have global cognitive impairment disproportionate to memory loss? (Y/N)': {'chunk_1': 'Y'}, 'Do you think this was unrelated to focal/global brain atrophy? (Y/N)': {'chunk_1': 'Y'}, 'Do you think this represents a typical case of amnesia': {'chunk_1': 'N'}}, 'Amnestic disturbance following infarction of the left dorsomedial nucleus of the thalamus_OCR.txt': {'Does this have case report-style information (Y)? Or is it a different type of article (N)': {'chunk_1': 'Y', 'chunk_2': 'Y'}, 'Do you think there might be a figure in this which has patient neuroimaging? (Y/N)': {'chunk_1': 'Y', 'chunk_2': 'N'}, 'Do you think this has ruled out transient global amnesia, reversible amnesia symptom, drug use, toxicity, epilepsy-related confusion, psychological/psychiatric/functional amnesia? (Y/N)': {'chunk_1': 'N', 'chunk_2': 'N'}, 'Do you think this examined both retrograde and anterograde amnesia?': {'chunk_1': 'Y', 'chunk_2': 'Y'}, 'Do you think there was a good description of the amnesia severity, either qualitatively or quantitatively? (Y/N)': {'chunk_1': 'N', 'chunk_2': 'Y'}, 'Do you think this did not have global cognitive impairment disproportionate to memory loss? (Y/N)': {'chunk_1': 'Y', 'chunk_2': 'Y'}, 'Do you think this was unrelated to focal/global brain atrophy? (Y/N)': {'chunk_1': 'N', 'chunk_2': 'Y'}, 'Do you think this represents a typical case of amnesia': {'chunk_1': 'Y', 'chunk_2': 'N'}}, 'Maeshima et al. - 2014 - Memory impairment caused by cerebral hematoma in t_OCR.txt': {'Does this have case report-style information (Y)? Or is it a different type of article (N)': {'chunk_1': 'Y', 'chunk_2': 'Y'}, 'Do you think there might be a figure in this which has patient neuroimaging? (Y/N)': {'chunk_1': 'Y', 'chunk_2': 'Y'}, 'Do you think this has ruled out transient global amnesia, reversible amnesia symptom, drug use, toxicity, epilepsy-related confusion, psychological/psychiatric/functional amnesia? (Y/N)': {'chunk_1': 'The information provided in the text chunk does not explicitly mention whether transient global amnesia, reversible amnesia symptom, drug use, toxicity, epilepsy-related confusion, psychological/psychiatric/functional amnesia have been ruled out.', 'chunk_2': 'N'}, 'Do you think this examined both retrograde and anterograde amnesia?': {'chunk_1': 'Yes, the text chunk mentions that the patient showed both retrograde and anterograde amnesia.', 'chunk_2': 'Y'}, 'Do you think there was a good description of the amnesia severity, either qualitatively or quantitatively? (Y/N)': {'chunk_1': 'Yes, the text chunk provides a description of the amnesia severity, both qualitatively and quantitatively. It mentions that the patient had severe anterograde amnesia and moderate impairment in recent memory. It also states that the patient had no memory of recent events and had difficulty in remembering conversations.', 'chunk_2': 'Y'}, 'Do you think this did not have global cognitive impairment disproportionate to memory loss? (Y/N)': {'chunk_1': 'Based on the information provided in the text chunk, it is not clear whether there was global cognitive impairment disproportionate to memory loss.', 'chunk_2': 'N'}, 'Do you think this was unrelated to focal/global brain atrophy? (Y/N)': {'chunk_1': 'The text chunk does not provide information about focal or global brain atrophy, so it is not possible to determine whether it was unrelated to this condition.', 'chunk_2': 'N'}, 'Do you think this represents a typical case of amnesia': {'chunk_1': 'No, based on the information given in the text chunk, this case does not appear to represent a typical case of amnesia. It is described as a very rare case where rupture of a posterior cerebral artery aneurysm caused restricted damage to the hippocampus unilaterally and resulted in memory disturbances.', 'chunk_2': 'Y'}}, 'Siegert and Warrington - 1996 - Spared Retrograde Memory with Anterograde Amnesia _OCR.txt': {'Does this have case report-style information (Y)? Or is it a different type of article (N)': {'chunk_1': 'Y', 'chunk_2': 'Y'}, 'Do you think there might be a figure in this which has patient neuroimaging? (Y/N)': {'chunk_1': 'N', 'chunk_2': 'N'}, 'Do you think this has ruled out transient global amnesia, reversible amnesia symptom, drug use, toxicity, epilepsy-related confusion, psychological/psychiatric/functional amnesia? (Y/N)': {'chunk_1': 'Based on the information provided in the text chunk, it is not possible to determine if the mentioned factors have been ruled out.', 'chunk_2': 'N'}, 'Do you think this examined both retrograde and anterograde amnesia?': {'chunk_1': 'Yes, the text chunk mentions the examination of both retrograde and anterograde amnesia in the context of the case study being discussed.', 'chunk_2': 'Y'}, 'Do you think there was a good description of the amnesia severity, either qualitatively or quantitatively? (Y/N)': {'chunk_1': 'Yes, there is a description of the amnesia severity in the text chunk, both qualitatively and quantitatively, including specific test scores and percentile rankings.', 'chunk_2': 'Y'}, 'Do you think this did not have global cognitive impairment disproportionate to memory loss? (Y/N)': {'chunk_1': 'Based on the information provided in the text chunk, it is mentioned that the patient had \"widespread cognitive impairment including severe intellectual decline, naming deficits, visual perceptual difficulties, and pronounced frontal impairment.\" This suggests that there may have been global cognitive impairment disproportionate to memory loss. Therefore, the answer would be \"N\" (No).', 'chunk_2': 'N'}, 'Do you think this was unrelated to focal/global brain atrophy? (Y/N)': {'chunk_1': 'Based on the information provided in the text chunk, there is no specific mention of focal/global brain atrophy in relation to the described case. Therefore, it is not possible to determine if it was unrelated to brain atrophy.', 'chunk_2': 'N'}, 'Do you think this represents a typical case of amnesia': {'chunk_1': \"No, based on the information provided, this case does not appear to represent a typical case of amnesia. The described dissociation between retrograde and anterograde amnesia, along with the specific details of the patient's memory impairments, suggest a unique and complex presentation.\", 'chunk_2': 'N'}}, 'Ouellet et al. - 2008 - Two Routes to Losing One’s Past Life A Brain Trau_OCR.txt': {'Does this have case report-style information (Y)? Or is it a different type of article (N)': {'chunk_1': 'Y', 'chunk_2': 'Y', 'chunk_3': 'Y'}, 'Do you think there might be a figure in this which has patient neuroimaging? (Y/N)': {'chunk_1': 'N', 'chunk_2': 'Y', 'chunk_3': 'N'}, 'Do you think this has ruled out transient global amnesia, reversible amnesia symptom, drug use, toxicity, epilepsy-related confusion, psychological/psychiatric/functional amnesia? (Y/N)': {'chunk_1': 'N', 'chunk_2': 'N', 'chunk_3': 'N'}, 'Do you think this examined both retrograde and anterograde amnesia?': {'chunk_1': 'Y', 'chunk_2': 'Y', 'chunk_3': 'Y'}, 'Do you think there was a good description of the amnesia severity, either qualitatively or quantitatively? (Y/N)': {'chunk_1': 'N', 'chunk_2': 'Y', 'chunk_3': 'Y'}, 'Do you think this did not have global cognitive impairment disproportionate to memory loss? (Y/N)': {'chunk_1': 'N', 'chunk_2': 'Y', 'chunk_3': 'Y'}, 'Do you think this was unrelated to focal/global brain atrophy? (Y/N)': {'chunk_1': 'N', 'chunk_2': 'N', 'chunk_3': 'Y'}, 'Do you think this represents a typical case of amnesia': {'chunk_1': 'N', 'chunk_2': 'N', 'chunk_3': 'N'}}, 'Yoon et al. - 2008 - Retrograde Amnesia Associated with Fornix Lymphoma_OCR.txt': {'Does this have case report-style information (Y)? Or is it a different type of article (N)': {'chunk_1': 'Y'}, 'Do you think there might be a figure in this which has patient neuroimaging? (Y/N)': {'chunk_1': 'Y'}, 'Do you think this has ruled out transient global amnesia, reversible amnesia symptom, drug use, toxicity, epilepsy-related confusion, psychological/psychiatric/functional amnesia? (Y/N)': {'chunk_1': 'N'}, 'Do you think this examined both retrograde and anterograde amnesia?': {'chunk_1': 'Y'}, 'Do you think there was a good description of the amnesia severity, either qualitatively or quantitatively? (Y/N)': {'chunk_1': 'Y'}, 'Do you think this did not have global cognitive impairment disproportionate to memory loss? (Y/N)': {'chunk_1': 'N'}, 'Do you think this was unrelated to focal/global brain atrophy? (Y/N)': {'chunk_1': 'N'}, 'Do you think this represents a typical case of amnesia': {'chunk_1': 'N'}}, 'Carrasco et al. - 2010 - Spontaneous acute hemorrhage within a subependymom_OCR.txt': {'Does this have case report-style information (Y)? Or is it a different type of article (N)': {'chunk_1': 'Y', 'chunk_2': 'Y'}, 'Do you think there might be a figure in this which has patient neuroimaging? (Y/N)': {'chunk_1': 'Y', 'chunk_2': 'Y'}, 'Do you think this has ruled out transient global amnesia, reversible amnesia symptom, drug use, toxicity, epilepsy-related confusion, psychological/psychiatric/functional amnesia? (Y/N)': {'chunk_1': 'Based on the given information, it is not possible to determine whether these potential causes of amnesia have been ruled out. Further information or medical evaluation would be necessary to make that determination.', 'chunk_2': 'Based on the provided information, it is not possible to determine whether transient global amnesia, reversible amnesia symptom, drug use, toxicity, epilepsy-related confusion, or psychological/psychiatric/functional amnesia have been ruled out.'}, 'Do you think this examined both retrograde and anterograde amnesia?': {'chunk_1': 'Yes, based on the information provided, the case report mentioned the presence of both retrograde and anterograde amnesia in the patient.', 'chunk_2': 'Based on the provided information, it is mentioned that the patient presented with a global memory deficit, which can include both retrograde and anterograde amnesia. However, specific details about the examination of retrograde and anterograde amnesia are not provided.'}, 'Do you think there was a good description of the amnesia severity, either qualitatively or quantitatively? (Y/N)': {'chunk_1': 'No, based on the given information, there is no specific description of the severity of the amnesia, either qualitatively or quantitatively.', 'chunk_2': 'Based on the information provided, there is a mention that the memory deficits observed in patients with basal forebrain lesions, including the reported case, are typically less severe than those observed in patients with medial diencephalic or mesial temporal lobe damage. However, there is no specific qualitative or quantitative description of the severity of the amnesia in this case.'}, 'Do you think this did not have global cognitive impairment disproportionate to memory loss? (Y/N)': {'chunk_1': 'Based on the information provided, it is not possible to determine whether there was global cognitive impairment disproportionate to memory loss in this case. Further information or medical evaluation would be necessary to make that determination.', 'chunk_2': 'Based on the information provided, it is not possible to determine whether there was global cognitive impairment disproportionate to memory loss.'}, 'Do you think this was unrelated to focal/global brain atrophy? (Y/N)': {'chunk_1': 'Based on the information provided, it is not possible to determine whether the amnesia in this case was unrelated to focal or global brain atrophy. Further information or medical evaluation would be necessary to make that determination.', 'chunk_2': 'Based on the information provided, there is no mention of focal or global brain atrophy, so it cannot be determined whether it was related or unrelated to the reported case.'}, 'Do you think this represents a typical case of amnesia': {'chunk_1': 'No, this case represents a specific and unique presentation of amnesia associated with a subependymoma displaying a spontaneous acute intratumoral hemorrhage. It does not represent a typical case of amnesia.', 'chunk_2': 'Based on the information provided, it is difficult to determine whether this represents a typical case of amnesia. The information focuses more on the specific condition of hemorrhagic subependymoma and its associated symptoms, rather than providing a comprehensive analysis of amnesia as a standalone symptom.'}}, 'Valenstein et al. - 1987 - RETROSPLENIAL AMNESIA_OCR.txt': {'Does this have case report-style information (Y)? Or is it a different type of article (N)': {'chunk_1': 'Y', 'chunk_2': 'Y'}, 'Do you think there might be a figure in this which has patient neuroimaging? (Y/N)': {'chunk_1': 'Y', 'chunk_2': 'Y'}, 'Do you think this has ruled out transient global amnesia, reversible amnesia symptom, drug use, toxicity, epilepsy-related confusion, psychological/psychiatric/functional amnesia? (Y/N)': {'chunk_1': 'Y', 'chunk_2': 'N'}, 'Do you think this examined both retrograde and anterograde amnesia?': {'chunk_1': 'Y', 'chunk_2': 'Y'}, 'Do you think there was a good description of the amnesia severity, either qualitatively or quantitatively? (Y/N)': {'chunk_1': 'Y', 'chunk_2': 'N'}, 'Do you think this did not have global cognitive impairment disproportionate to memory loss? (Y/N)': {'chunk_1': 'N', 'chunk_2': 'Y'}, 'Do you think this was unrelated to focal/global brain atrophy? (Y/N)': {'chunk_1': 'Y', 'chunk_2': 'Y'}, 'Do you think this represents a typical case of amnesia': {'chunk_1': 'N', 'chunk_2': 'N'}}, 'Robertus et al. - 2010 - MiRNA profiling in B non-Hodgkin lymphoma a MYC-r_OCR.txt': {'Does this have case report-style information (Y)? Or is it a different type of article (N)': {'chunk_1': 'Y'}, 'Do you think there might be a figure in this which has patient neuroimaging? (Y/N)': {'chunk_1': 'Y'}, 'Do you think this has ruled out transient global amnesia, reversible amnesia symptom, drug use, toxicity, epilepsy-related confusion, psychological/psychiatric/functional amnesia? (Y/N)': {'chunk_1': 'N'}, 'Do you think this examined both retrograde and anterograde amnesia?': {'chunk_1': 'Y'}, 'Do you think there was a good description of the amnesia severity, either qualitatively or quantitatively? (Y/N)': {'chunk_1': 'Y'}, 'Do you think this did not have global cognitive impairment disproportionate to memory loss? (Y/N)': {'chunk_1': 'Y'}, 'Do you think this was unrelated to focal/global brain atrophy? (Y/N)': {'chunk_1': 'N'}, 'Do you think this represents a typical case of amnesia': {'chunk_1': 'N'}}, 'Hodges-1993-Autobiographical-nokamnesia-resulti_OCR.txt': {'Does this have case report-style information (Y)? Or is it a different type of article (N)': {'chunk_1': 'Y', 'chunk_2': 'Y', 'chunk_3': 'Yes, this text includes a case report-style information.', 'chunk_4': 'Y'}, 'Do you think there might be a figure in this which has patient neuroimaging? (Y/N)': {'chunk_1': 'N', 'chunk_2': 'N', 'chunk_3': 'Yes, based on the information provided, it is possible that there could be a figure in this text that includes patient neuroimaging.', 'chunk_4': 'N'}, 'Do you think this has ruled out transient global amnesia, reversible amnesia symptom, drug use, toxicity, epilepsy-related confusion, psychological/psychiatric/functional amnesia? (Y/N)': {'chunk_1': 'N', 'chunk_2': 'Y', 'chunk_3': 'Based on the information provided, it is not possible to determine whether transient global amnesia, reversible amnesia symptom, drug use, toxicity, epilepsy-related confusion, or psychological/psychiatric/functional amnesia have been ruled out without further details.', 'chunk_4': 'N'}, 'Do you think this examined both retrograde and anterograde amnesia?': {'chunk_1': 'N', 'chunk_2': 'Y', 'chunk_3': 'Yes, based on the information provided, this text appears to examine both retrograde and anterograde amnesia.', 'chunk_4': 'Y'}, 'Do you think there was a good description of the amnesia severity, either qualitatively or quantitatively? (Y/N)': {'chunk_1': 'N', 'chunk_2': 'N', 'chunk_3': 'Yes, based on the information provided, it is likely that there is a good description of the amnesia severity, either qualitatively or quantitatively, in this text.', 'chunk_4': 'Y'}, 'Do you think this did not have global cognitive impairment disproportionate to memory loss? (Y/N)': {'chunk_1': 'N', 'chunk_2': 'Y', 'chunk_3': 'Based on the information provided, it is not possible to determine whether this text had global cognitive impairment disproportionate to memory loss or not.', 'chunk_4': 'Y'}, 'Do you think this was unrelated to focal/global brain atrophy? (Y/N)': {'chunk_1': 'N', 'chunk_2': 'N', 'chunk_3': 'Based on the information provided, it is not possible to determine whether the amnesia discussed in this text is related to focal or global brain atrophy.', 'chunk_4': 'N'}, 'Do you think this represents a typical case of amnesia': {'chunk_1': 'N', 'chunk_2': 'N', 'chunk_3': 'Based on the information provided, it is difficult to determine whether this represents a typical case of amnesia as there is not enough information about the prevalence or characteristics of amnesia in the general population.', 'chunk_4': 'N'}}, 'Edelstyn et al. - Contribution of the Left Dorsomedial Thalamus to R_OCR.txt': {'Does this have case report-style information (Y)? Or is it a different type of article (N)': {'chunk_1': 'Y', 'chunk_2': 'Y', 'chunk_3': 'Y', 'chunk_4': 'N'}, 'Do you think there might be a figure in this which has patient neuroimaging? (Y/N)': {'chunk_1': 'Y', 'chunk_2': 'N', 'chunk_3': 'N', 'chunk_4': 'N'}, 'Do you think this has ruled out transient global amnesia, reversible amnesia symptom, drug use, toxicity, epilepsy-related confusion, psychological/psychiatric/functional amnesia? (Y/N)': {'chunk_1': 'N', 'chunk_2': 'N', 'chunk_3': 'N', 'chunk_4': 'N'}, 'Do you think this examined both retrograde and anterograde amnesia?': {'chunk_1': 'N', 'chunk_2': 'Yes, based on the provided text, it appears that this study examined both retrograde and anterograde amnesia.', 'chunk_3': 'N', 'chunk_4': 'N'}, 'Do you think there was a good description of the amnesia severity, either qualitatively or quantitatively? (Y/N)': {'chunk_1': 'N', 'chunk_2': 'Y', 'chunk_3': 'N', 'chunk_4': 'N'}, 'Do you think this did not have global cognitive impairment disproportionate to memory loss? (Y/N)': {'chunk_1': 'N', 'chunk_2': 'N', 'chunk_3': 'N', 'chunk_4': 'N'}, 'Do you think this was unrelated to focal/global brain atrophy? (Y/N)': {'chunk_1': 'N', 'chunk_2': 'N', 'chunk_3': 'N', 'chunk_4': 'N'}, 'Do you think this represents a typical case of amnesia': {'chunk_1': 'N', 'chunk_2': 'N', 'chunk_3': 'N', 'chunk_4': 'N'}}, 'Kapur et al. - 1992 - FOCAL RETROGRADE AMNESIA FOLLOWING BILATERAL TEMPO_OCR.txt': {'Does this have case report-style information (Y)? Or is it a different type of article (N)': {'chunk_1': 'N', 'chunk_2': 'Y', 'chunk_3': 'Y'}, 'Do you think there might be a figure in this which has patient neuroimaging? (Y/N)': {'chunk_1': 'Y', 'chunk_2': 'Y', 'chunk_3': 'N'}, 'Do you think this has ruled out transient global amnesia, reversible amnesia symptom, drug use, toxicity, epilepsy-related confusion, psychological/psychiatric/functional amnesia? (Y/N)': {'chunk_1': 'N', 'chunk_2': 'N', 'chunk_3': 'N'}, 'Do you think this examined both retrograde and anterograde amnesia?': {'chunk_1': 'Y', 'chunk_2': 'Y', 'chunk_3': 'Y'}, 'Do you think there was a good description of the amnesia severity, either qualitatively or quantitatively? (Y/N)': {'chunk_1': 'Y', 'chunk_2': 'Y', 'chunk_3': 'Y'}, 'Do you think this did not have global cognitive impairment disproportionate to memory loss? (Y/N)': {'chunk_1': 'N', 'chunk_2': 'Y', 'chunk_3': 'Y'}, 'Do you think this was unrelated to focal/global brain atrophy? (Y/N)': {'chunk_1': 'N', 'chunk_2': 'N', 'chunk_3': 'N'}, 'Do you think this represents a typical case of amnesia': {'chunk_1': 'N', 'chunk_2': 'N', 'chunk_3': 'Y'}}, 'Right-hemispheric fronto-temporal injury leading to severe autobiographical retrograde and moderate anterograde episodic amnesia-Implications for the anatomy of memory_OCR.txt': {'Does this have case report-style information (Y)? Or is it a different type of article (N)': {'chunk_1': 'Y', 'chunk_2': 'Y', 'chunk_3': 'N'}, 'Do you think there might be a figure in this which has patient neuroimaging? (Y/N)': {'chunk_1': 'Y', 'chunk_2': 'Y', 'chunk_3': 'N'}, 'Do you think this has ruled out transient global amnesia, reversible amnesia symptom, drug use, toxicity, epilepsy-related confusion, psychological/psychiatric/functional amnesia? (Y/N)': {'chunk_1': 'N', 'chunk_2': 'N', 'chunk_3': 'N'}, 'Do you think this examined both retrograde and anterograde amnesia?': {'chunk_1': 'Y', 'chunk_2': 'Y', 'chunk_3': 'Y'}, 'Do you think there was a good description of the amnesia severity, either qualitatively or quantitatively? (Y/N)': {'chunk_1': 'Y', 'chunk_2': 'Y', 'chunk_3': 'Y'}, 'Do you think this did not have global cognitive impairment disproportionate to memory loss? (Y/N)': {'chunk_1': 'Y', 'chunk_2': 'N', 'chunk_3': 'N'}, 'Do you think this was unrelated to focal/global brain atrophy? (Y/N)': {'chunk_1': 'N', 'chunk_2': 'N', 'chunk_3': 'N'}, 'Do you think this represents a typical case of amnesia': {'chunk_1': 'N', 'chunk_2': 'Y', 'chunk_3': 'Y'}}, 'Ogden - 1993 - Visual object agnosia, prosopagnosia, achromatopsi_OCR.txt': {'Does this have case report-style information (Y)? Or is it a different type of article (N)': {'chunk_1': 'Y', 'chunk_2': 'Y', 'chunk_3': 'Y'}, 'Do you think there might be a figure in this which has patient neuroimaging? (Y/N)': {'chunk_1': 'Y', 'chunk_2': 'Y', 'chunk_3': 'N'}, 'Do you think this has ruled out transient global amnesia, reversible amnesia symptom, drug use, toxicity, epilepsy-related confusion, psychological/psychiatric/functional amnesia? (Y/N)': {'chunk_1': 'N', 'chunk_2': 'Based on the provided text, it is not possible to determine whether or not those factors have been ruled out.', 'chunk_3': 'N'}, 'Do you think this examined both retrograde and anterograde amnesia?': {'chunk_1': 'Y', 'chunk_2': 'Yes, the text describes both retrograde and anterograde amnesia observed in the patient.', 'chunk_3': 'Y'}, 'Do you think there was a good description of the amnesia severity, either qualitatively or quantitatively? (Y/N)': {'chunk_1': 'Y', 'chunk_2': 'Y', 'chunk_3': 'N'}, 'Do you think this did not have global cognitive impairment disproportionate to memory loss? (Y/N)': {'chunk_1': 'Y', 'chunk_2': 'N', 'chunk_3': 'N'}, 'Do you think this was unrelated to focal/global brain atrophy? (Y/N)': {'chunk_1': 'N', 'chunk_2': 'N', 'chunk_3': 'N'}, 'Do you think this represents a typical case of amnesia': {'chunk_1': 'N', 'chunk_2': 'N', 'chunk_3': 'N'}}, 'Hodges and Carpenter - 1991 - Anterograde amnesia with fornix damage following r_OCR.txt': {'Does this have case report-style information (Y)? Or is it a different type of article (N)': {'chunk_1': 'Y', 'chunk_2': 'Y', 'chunk_3': 'Y'}, 'Do you think there might be a figure in this which has patient neuroimaging? (Y/N)': {'chunk_1': 'Y', 'chunk_2': 'N', 'chunk_3': 'It is not mentioned in the text chunk whether there is a figure with patient neuroimaging.'}, 'Do you think this has ruled out transient global amnesia, reversible amnesia symptom, drug use, toxicity, epilepsy-related confusion, psychological/psychiatric/functional amnesia? (Y/N)': {'chunk_1': 'N', 'chunk_2': 'N', 'chunk_3': 'Based on the information provided in the text chunk, it is not possible to determine whether transient global amnesia, reversible amnesia symptom, drug use, toxicity, epilepsy-related confusion, psychological/psychiatric/functional amnesia have been ruled out as potential causes of memory dysfunction.'}, 'Do you think this examined both retrograde and anterograde amnesia?': {'chunk_1': 'Y', 'chunk_2': 'Y', 'chunk_3': 'Yes, based on the information provided in the text chunk, the study examined both retrograde and anterograde amnesia in patients with memory dysfunction following unilateral transection of the fornix.'}, 'Do you think there was a good description of the amnesia severity, either qualitatively or quantitatively? (Y/N)': {'chunk_1': 'Y', 'chunk_2': 'Y', 'chunk_3': 'Based on the information provided in the text chunk, it is mentioned that both patients had a persistent and clinically significant anterograde deficit and that formal tests of remote memory showed normal performance. However, it is not explicitly stated whether there was a specific qualitative or quantitative description of the severity of the amnesia. Therefore, it is unclear if there was a comprehensive description of amnesia severity in the text.'}, 'Do you think this did not have global cognitive impairment disproportionate to memory loss? (Y/N)': {'chunk_1': 'Y', 'chunk_2': 'N', 'chunk_3': 'Based on the information provided in the text chunk, there is no mention of global cognitive impairment disproportionate to memory loss. Therefore, it is not possible to determine whether there was global cognitive impairment in relation to memory loss in this context.'}, 'Do you think this was unrelated to focal/global brain atrophy? (Y/N)': {'chunk_1': 'Y', 'chunk_2': 'N', 'chunk_3': 'Based on the information provided in the text chunk, there is no mention of focal or global brain atrophy being related to the memory dysfunction discussed. Therefore, it is unclear whether brain atrophy was related or unrelated to the observed memory impairment.'}, 'Do you think this represents a typical case of amnesia': {'chunk_1': 'Y', 'chunk_2': 'N', 'chunk_3': 'Based on the information provided in the text chunk, it appears that the case described involves memory dysfunction following a specific type of brain injury, specifically unilateral transection of the fornix. This specific type of brain injury may not represent a typical case of amnesia, as there are various causes and manifestations of amnesia. Therefore, it would be more accurate to characterize this case as a specific instance of amnesia related to fornix injury rather than a typical case.'}}, 'Anterograde amnesia and fornix infarction._OCR.txt': {'Does this have case report-style information (Y)? Or is it a different type of article (N)': {'chunk_1': 'N', 'chunk_2': 'N', 'chunk_3': 'N', 'chunk_4': 'N', 'chunk_5': 'N', 'chunk_6': 'N'}, 'Do you think there might be a figure in this which has patient neuroimaging? (Y/N)': {'chunk_1': 'N', 'chunk_2': 'N', 'chunk_3': 'N', 'chunk_4': 'N', 'chunk_5': 'N', 'chunk_6': 'N'}, 'Do you think this has ruled out transient global amnesia, reversible amnesia symptom, drug use, toxicity, epilepsy-related confusion, psychological/psychiatric/functional amnesia? (Y/N)': {'chunk_1': 'N', 'chunk_2': 'N', 'chunk_3': 'N', 'chunk_4': 'N', 'chunk_5': \"I apologize, but I am unable to determine the specific content of the article as it hasn't been provided.\", 'chunk_6': 'N'}, 'Do you think this examined both retrograde and anterograde amnesia?': {'chunk_1': 'N', 'chunk_2': 'N', 'chunk_3': 'N', 'chunk_4': 'N', 'chunk_5': \"I'm sorry, but I don't have enough information to determine whether the article examined both retrograde and anterograde amnesia.\", 'chunk_6': 'N'}, 'Do you think there was a good description of the amnesia severity, either qualitatively or quantitatively? (Y/N)': {'chunk_1': 'N', 'chunk_2': 'N', 'chunk_3': 'N', 'chunk_4': 'N', 'chunk_5': \"I'm unable to determine whether the article provided a good description of the amnesia severity without knowing the specific details of the article.\", 'chunk_6': 'N'}, 'Do you think this did not have global cognitive impairment disproportionate to memory loss? (Y/N)': {'chunk_1': 'N', 'chunk_2': 'N', 'chunk_3': 'N', 'chunk_4': 'N', 'chunk_5': 'I cannot determine whether the article had global cognitive impairment disproportionate to memory loss without more specific information about the article.', 'chunk_6': 'N'}, 'Do you think this was unrelated to focal/global brain atrophy? (Y/N)': {'chunk_1': 'N', 'chunk_2': 'N', 'chunk_3': 'N', 'chunk_4': 'N', 'chunk_5': \"I don't have access to the specific article in question. Without further information, I am unable to determine whether the condition described in the article is related to focal/global brain atrophy or not.\", 'chunk_6': 'N'}, 'Do you think this represents a typical case of amnesia': {'chunk_1': 'N', 'chunk_2': 'N', 'chunk_3': 'N', 'chunk_4': 'N', 'chunk_5': \"I'm sorry, but I can't provide an accurate answer without more specific information about the case being referred to in the article. It would be best to consult the article directly or provide more details for a better assessment.\", 'chunk_6': 'N'}}, 'Persistent global amnesia following right thalamic stroke an 11-year longitudinal study_OCR.txt': {'Does this have case report-style information (Y)? Or is it a different type of article (N)': {'chunk_1': 'Y', 'chunk_2': 'Y', 'chunk_3': 'Y', 'chunk_4': 'Y', 'chunk_5': 'Y'}, 'Do you think there might be a figure in this which has patient neuroimaging? (Y/N)': {'chunk_1': 'Without the full access to the text, it is not possible to determine if there is a figure with patient neuroimaging.', 'chunk_2': 'Y', 'chunk_3': 'Y', 'chunk_4': 'N', 'chunk_5': 'N'}, 'Do you think this has ruled out transient global amnesia, reversible amnesia symptom, drug use, toxicity, epilepsy-related confusion, psychological/psychiatric/functional amnesia? (Y/N)': {'chunk_1': 'Based on the information provided in the text chunk, it is not clear whether transient global amnesia, reversible amnesia symptom, drug use, toxicity, epilepsy-related confusion, psychological/psychiatric/functional amnesia have been ruled out. More specific information would be needed to make a determination.', 'chunk_2': 'N', 'chunk_3': 'N', 'chunk_4': 'N', 'chunk_5': 'N'}, 'Do you think this examined both retrograde and anterograde amnesia?': {'chunk_1': \"Yes, it is mentioned in the text chunk that the patient's amnesia was examined both in terms of retrograde memory (memory for events before the brain injury) and anterograde memory (memory for events after the brain injury).\", 'chunk_2': 'Y', 'chunk_3': 'Y', 'chunk_4': 'Y', 'chunk_5': 'Y'}, 'Do you think there was a good description of the amnesia severity, either qualitatively or quantitatively? (Y/N)': {'chunk_1': \"Yes, the text chunk provides a good description of the amnesia severity. It mentions that the patient suffered from severe amnesia, both in terms of retrograde and anterograde memory. It also discusses the specific deficits and impairments observed in the patient's memory functioning.\", 'chunk_2': 'Y', 'chunk_3': 'Y', 'chunk_4': 'Y', 'chunk_5': 'N'}, 'Do you think this did not have global cognitive impairment disproportionate to memory loss? (Y/N)': {'chunk_1': \"Based on the information provided, it is not clear whether the patient in the text chunk had global cognitive impairment disproportionate to memory loss. The text primarily focuses on the patient's amnesia and does not provide comprehensive information about their overall cognitive functioning.\", 'chunk_2': 'Y', 'chunk_3': 'N', 'chunk_4': 'N', 'chunk_5': 'N'}, 'Do you think this was unrelated to focal/global brain atrophy? (Y/N)': {'chunk_1': \"Based on the information provided in the text chunk, it is not mentioned whether the patient's amnesia was unrelated to focal/global brain atrophy. Therefore, it is difficult to determine if there is a direct relationship between amnesia and brain atrophy in this case.\", 'chunk_2': 'N', 'chunk_3': 'N', 'chunk_4': 'N', 'chunk_5': 'N'}, 'Do you think this represents a typical case of amnesia': {'chunk_1': \"No, the text chunk describes a unique case of severe amnesia resulting from a right thalamic lesion. It discusses various aspects of the case, including anatomical and functional considerations, neuropsychological aspects, and the patient's profile of retrograde and anterograde amnesia. As such, it does not represent a typical case of amnesia but provides insights into the specific characteristics and implications of this particular case.\", 'chunk_2': 'N', 'chunk_3': 'Y', 'chunk_4': 'Y', 'chunk_5': 'N'}}, 'Kataoka et al. - 2008 - Limbic Encephalitis With Involvement of Prefrontal_OCR.txt': {'Does this have case report-style information (Y)? Or is it a different type of article (N)': {'chunk_1': 'Y'}, 'Do you think there might be a figure in this which has patient neuroimaging? (Y/N)': {'chunk_1': 'Y'}, 'Do you think this has ruled out transient global amnesia, reversible amnesia symptom, drug use, toxicity, epilepsy-related confusion, psychological/psychiatric/functional amnesia? (Y/N)': {'chunk_1': 'N'}, 'Do you think this examined both retrograde and anterograde amnesia?': {'chunk_1': 'Y'}, 'Do you think there was a good description of the amnesia severity, either qualitatively or quantitatively? (Y/N)': {'chunk_1': 'Y'}, 'Do you think this did not have global cognitive impairment disproportionate to memory loss? (Y/N)': {'chunk_1': 'Y'}, 'Do you think this was unrelated to focal/global brain atrophy? (Y/N)': {'chunk_1': 'N'}, 'Do you think this represents a typical case of amnesia': {'chunk_1': 'N'}}, 'Futamura et al. - 2018 - Singular case of the driving instructor Temporal _OCR.txt': {'Does this have case report-style information (Y)? Or is it a different type of article (N)': {'chunk_1': 'Y'}, 'Do you think there might be a figure in this which has patient neuroimaging? (Y/N)': {'chunk_1': 'Y'}, 'Do you think this has ruled out transient global amnesia, reversible amnesia symptom, drug use, toxicity, epilepsy-related confusion, psychological/psychiatric/functional amnesia? (Y/N)': {'chunk_1': 'N'}, 'Do you think this examined both retrograde and anterograde amnesia?': {'chunk_1': 'Y'}, 'Do you think there was a good description of the amnesia severity, either qualitatively or quantitatively? (Y/N)': {'chunk_1': 'Y'}, 'Do you think this did not have global cognitive impairment disproportionate to memory loss? (Y/N)': {'chunk_1': 'N'}, 'Do you think this was unrelated to focal/global brain atrophy? (Y/N)': {'chunk_1': 'N'}, 'Do you think this represents a typical case of amnesia': {'chunk_1': 'N'}}, 'Adamovich et al. - 2009 - Teaching NeuroImages Amnesia due to fornix infarc_OCR.txt': {'Does this have case report-style information (Y)? Or is it a different type of article (N)': {'chunk_1': 'N'}, 'Do you think there might be a figure in this which has patient neuroimaging? (Y/N)': {'chunk_1': 'Y'}, 'Do you think this has ruled out transient global amnesia, reversible amnesia symptom, drug use, toxicity, epilepsy-related confusion, psychological/psychiatric/functional amnesia? (Y/N)': {'chunk_1': 'Based on the given text chunk, I cannot determine if transient global amnesia, reversible amnesia symptom, drug use, toxicity, epilepsy-related confusion, psychological/psychiatric/functional amnesia have been ruled out or not.'}, 'Do you think this examined both retrograde and anterograde amnesia?': {'chunk_1': 'Based on the given text chunk, I cannot determine if both retrograde and anterograde amnesia were examined or not. The text chunk only provides information about infarction, memory, MRI, stroke in young adults, permissions, licensing, reprints, and general information about the journal.'}, 'Do you think there was a good description of the amnesia severity, either qualitatively or quantitatively? (Y/N)': {'chunk_1': 'Based on the given text chunk, there is no mention of a description of amnesia severity, either qualitatively or quantitatively.'}, 'Do you think this did not have global cognitive impairment disproportionate to memory loss? (Y/N)': {'chunk_1': 'Based on the given text chunk, there is no information provided about global cognitive impairment disproportionate to memory loss. Therefore, I cannot determine if it was present or not.'}, 'Do you think this was unrelated to focal/global brain atrophy? (Y/N)': {'chunk_1': 'Based on the given text chunk, there is no information provided about focal or global brain atrophy. Therefore, I cannot determine if the case study was unrelated to it or not.'}, 'Do you think this represents a typical case of amnesia': {'chunk_1': 'Based on the given text chunk, it is not possible to determine if this represents a typical case of amnesia. The provided text chunk does not specifically mention a case study or provide detailed information about a specific case of amnesia.'}}, 'Malamut et al. - Memory in a case of bilateral thalarnic infarction_OCR.txt': {'Does this have case report-style information (Y)? Or is it a different type of article (N)': {'chunk_1': 'Y', 'chunk_2': 'Y'}, 'Do you think there might be a figure in this which has patient neuroimaging? (Y/N)': {'chunk_1': 'Y', 'chunk_2': 'N'}, 'Do you think this has ruled out transient global amnesia, reversible amnesia symptom, drug use, toxicity, epilepsy-related confusion, psychological/psychiatric/functional amnesia? (Y/N)': {'chunk_1': 'N', 'chunk_2': 'N'}, 'Do you think this examined both retrograde and anterograde amnesia?': {'chunk_1': 'Y', 'chunk_2': 'Y'}, 'Do you think there was a good description of the amnesia severity, either qualitatively or quantitatively? (Y/N)': {'chunk_1': 'Y', 'chunk_2': 'Y'}, 'Do you think this did not have global cognitive impairment disproportionate to memory loss? (Y/N)': {'chunk_1': 'N', 'chunk_2': 'Y'}, 'Do you think this was unrelated to focal/global brain atrophy? (Y/N)': {'chunk_1': 'N', 'chunk_2': 'N'}, 'Do you think this represents a typical case of amnesia': {'chunk_1': 'N', 'chunk_2': 'N'}}, 'Peters et al. - 2008 - Postoperative amnesic state with impairment of sta_OCR.txt': {'Does this have case report-style information (Y)? Or is it a different type of article (N)': {'chunk_1': 'Y'}, 'Do you think there might be a figure in this which has patient neuroimaging? (Y/N)': {'chunk_1': 'Y'}, 'Do you think this has ruled out transient global amnesia, reversible amnesia symptom, drug use, toxicity, epilepsy-related confusion, psychological/psychiatric/functional amnesia? (Y/N)': {'chunk_1': 'N'}, 'Do you think this examined both retrograde and anterograde amnesia?': {'chunk_1': 'N'}, 'Do you think there was a good description of the amnesia severity, either qualitatively or quantitatively? (Y/N)': {'chunk_1': 'N'}, 'Do you think this did not have global cognitive impairment disproportionate to memory loss? (Y/N)': {'chunk_1': 'N'}, 'Do you think this was unrelated to focal/global brain atrophy? (Y/N)': {'chunk_1': 'N'}, 'Do you think this represents a typical case of amnesia': {'chunk_1': 'Y'}}, 'Vann et al. - 2008 - Memory loss resulting from fornix and septal damag_OCR.txt': {'Does this have case report-style information (Y)? Or is it a different type of article (N)': {'chunk_1': 'Y', 'chunk_2': 'Y', 'chunk_3': 'Y', 'chunk_4': 'Y', 'chunk_5': 'Y'}, 'Do you think there might be a figure in this which has patient neuroimaging? (Y/N)': {'chunk_1': 'Y', 'chunk_2': 'Y', 'chunk_3': 'Y', 'chunk_4': 'Y', 'chunk_5': 'Y'}, 'Do you think this has ruled out transient global amnesia, reversible amnesia symptom, drug use, toxicity, epilepsy-related confusion, psychological/psychiatric/functional amnesia? (Y/N)': {'chunk_1': 'N', 'chunk_2': 'N', 'chunk_3': 'N', 'chunk_4': 'N', 'chunk_5': 'N'}, 'Do you think this examined both retrograde and anterograde amnesia?': {'chunk_1': 'Y', 'chunk_2': 'Y', 'chunk_3': 'Y', 'chunk_4': 'N', 'chunk_5': 'N'}, 'Do you think there was a good description of the amnesia severity, either qualitatively or quantitatively? (Y/N)': {'chunk_1': 'N', 'chunk_2': 'Y', 'chunk_3': 'Y', 'chunk_4': 'N', 'chunk_5': 'Y'}, 'Do you think this did not have global cognitive impairment disproportionate to memory loss? (Y/N)': {'chunk_1': 'N', 'chunk_2': 'Y', 'chunk_3': 'N', 'chunk_4': 'N', 'chunk_5': 'N'}, 'Do you think this was unrelated to focal/global brain atrophy? (Y/N)': {'chunk_1': 'N', 'chunk_2': 'N', 'chunk_3': 'N', 'chunk_4': 'N', 'chunk_5': 'N'}, 'Do you think this represents a typical case of amnesia': {'chunk_1': 'N', 'chunk_2': 'N', 'chunk_3': 'N', 'chunk_4': 'N', 'chunk_5': 'N'}}, 'Tsukiura et al. - 2003 - Preserved ability to recognize keywords related to_OCR.txt': {'Does this have case report-style information (Y)? Or is it a different type of article (N)': {'chunk_1': 'Y', 'chunk_2': 'Y'}, 'Do you think there might be a figure in this which has patient neuroimaging? (Y/N)': {'chunk_1': 'Y', 'chunk_2': 'N'}, 'Do you think this has ruled out transient global amnesia, reversible amnesia symptom, drug use, toxicity, epilepsy-related confusion, psychological/psychiatric/functional amnesia? (Y/N)': {'chunk_1': 'N', 'chunk_2': 'N'}, 'Do you think this examined both retrograde and anterograde amnesia?': {'chunk_1': 'Y', 'chunk_2': 'N'}, 'Do you think there was a good description of the amnesia severity, either qualitatively or quantitatively? (Y/N)': {'chunk_1': 'Y', 'chunk_2': 'Y'}, 'Do you think this did not have global cognitive impairment disproportionate to memory loss? (Y/N)': {'chunk_1': 'Y', 'chunk_2': 'N'}, 'Do you think this was unrelated to focal/global brain atrophy? (Y/N)': {'chunk_1': 'N', 'chunk_2': 'N'}, 'Do you think this represents a typical case of amnesia': {'chunk_1': 'Y', 'chunk_2': 'N'}}, 'Clarke et al. - Pure amnesia after unilateral left polar thalamic _OCR.txt': {'Does this have case report-style information (Y)? Or is it a different type of article (N)': {'chunk_1': 'Y', 'chunk_2': 'Y', 'chunk_3': 'N'}, 'Do you think there might be a figure in this which has patient neuroimaging? (Y/N)': {'chunk_1': 'Y', 'chunk_2': 'Y', 'chunk_3': 'N'}, 'Do you think this has ruled out transient global amnesia, reversible amnesia symptom, drug use, toxicity, epilepsy-related confusion, psychological/psychiatric/functional amnesia? (Y/N)': {'chunk_1': 'N', 'chunk_2': 'Y', 'chunk_3': 'N'}, 'Do you think this examined both retrograde and anterograde amnesia?': {'chunk_1': 'Y', 'chunk_2': 'Y', 'chunk_3': 'N'}, 'Do you think there was a good description of the amnesia severity, either qualitatively or quantitatively? (Y/N)': {'chunk_1': 'Y', 'chunk_2': 'Y', 'chunk_3': 'N'}, 'Do you think this did not have global cognitive impairment disproportionate to memory loss? (Y/N)': {'chunk_1': 'N', 'chunk_2': 'Y', 'chunk_3': 'N'}, 'Do you think this was unrelated to focal/global brain atrophy? (Y/N)': {'chunk_1': 'N', 'chunk_2': 'Y', 'chunk_3': 'N'}, 'Do you think this represents a typical case of amnesia': {'chunk_1': 'N', 'chunk_2': 'Y', 'chunk_3': 'N'}}, 'Masuo et al. - 1999 - A case of amnestic syndrome caused by a subcortica_OCR.txt': {'Does this have case report-style information (Y)? Or is it a different type of article (N)': {'chunk_1': 'Y'}, 'Do you think there might be a figure in this which has patient neuroimaging? (Y/N)': {'chunk_1': 'Y'}, 'Do you think this has ruled out transient global amnesia, reversible amnesia symptom, drug use, toxicity, epilepsy-related confusion, psychological/psychiatric/functional amnesia? (Y/N)': {'chunk_1': 'N'}, 'Do you think this examined both retrograde and anterograde amnesia?': {'chunk_1': 'Y'}, 'Do you think there was a good description of the amnesia severity, either qualitatively or quantitatively? (Y/N)': {'chunk_1': 'Y'}, 'Do you think this did not have global cognitive impairment disproportionate to memory loss? (Y/N)': {'chunk_1': 'Y'}, 'Do you think this was unrelated to focal/global brain atrophy? (Y/N)': {'chunk_1': 'N'}, 'Do you think this represents a typical case of amnesia': {'chunk_1': 'N'}}, 'Rusconi et al. - 2008 - Long-lasting topographical disorientation in new e_OCR.txt': {'Does this have case report-style information (Y)? Or is it a different type of article (N)': {'chunk_1': 'Y', 'chunk_2': 'Y', 'chunk_3': 'Y', 'chunk_4': 'Y'}, 'Do you think there might be a figure in this which has patient neuroimaging? (Y/N)': {'chunk_1': 'N', 'chunk_2': 'Y', 'chunk_3': 'N', 'chunk_4': 'N'}, 'Do you think this has ruled out transient global amnesia, reversible amnesia symptom, drug use, toxicity, epilepsy-related confusion, psychological/psychiatric/functional amnesia? (Y/N)': {'chunk_1': 'N', 'chunk_2': 'N', 'chunk_3': 'N', 'chunk_4': 'N'}, 'Do you think this examined both retrograde and anterograde amnesia?': {'chunk_1': 'Y', 'chunk_2': 'Y', 'chunk_3': 'Y', 'chunk_4': 'Y'}, 'Do you think there was a good description of the amnesia severity, either qualitatively or quantitatively? (Y/N)': {'chunk_1': 'Y', 'chunk_2': 'N', 'chunk_3': 'N', 'chunk_4': 'Y'}, 'Do you think this did not have global cognitive impairment disproportionate to memory loss? (Y/N)': {'chunk_1': 'Y', 'chunk_2': 'Y', 'chunk_3': 'Y', 'chunk_4': 'Y'}, 'Do you think this was unrelated to focal/global brain atrophy? (Y/N)': {'chunk_1': 'Y', 'chunk_2': 'N', 'chunk_3': 'N', 'chunk_4': 'N'}, 'Do you think this represents a typical case of amnesia': {'chunk_1': 'Y', 'chunk_2': 'Y', 'chunk_3': 'Y', 'chunk_4': 'Y'}}, 'Wicklund and Knopman - 2013 - Brain MRI findings in Wernicke encephalopathy_OCR.txt': {'Does this have case report-style information (Y)? Or is it a different type of article (N)': {'chunk_1': 'Y'}, 'Do you think there might be a figure in this which has patient neuroimaging? (Y/N)': {'chunk_1': 'Y'}, 'Do you think this has ruled out transient global amnesia, reversible amnesia symptom, drug use, toxicity, epilepsy-related confusion, psychological/psychiatric/functional amnesia? (Y/N)': {'chunk_1': 'N'}, 'Do you think this examined both retrograde and anterograde amnesia?': {'chunk_1': 'Y'}, 'Do you think there was a good description of the amnesia severity, either qualitatively or quantitatively? (Y/N)': {'chunk_1': 'N'}, 'Do you think this did not have global cognitive impairment disproportionate to memory loss? (Y/N)': {'chunk_1': 'N'}, 'Do you think this was unrelated to focal/global brain atrophy? (Y/N)': {'chunk_1': 'N'}, 'Do you think this represents a typical case of amnesia': {'chunk_1': 'Y'}}, 'Schnider et al. - 1992 - Dissociation of Color From Object in Amnesia_OCR.txt': {'Does this have case report-style information (Y)? Or is it a different type of article (N)': {'chunk_1': 'Y'}, 'Do you think there might be a figure in this which has patient neuroimaging? (Y/N)': {'chunk_1': 'N'}, 'Do you think this has ruled out transient global amnesia, reversible amnesia symptom, drug use, toxicity, epilepsy-related confusion, psychological/psychiatric/functional amnesia? (Y/N)': {'chunk_1': 'N'}, 'Do you think this examined both retrograde and anterograde amnesia?': {'chunk_1': 'Y'}, 'Do you think there was a good description of the amnesia severity, either qualitatively or quantitatively? (Y/N)': {'chunk_1': 'Y'}, 'Do you think this did not have global cognitive impairment disproportionate to memory loss? (Y/N)': {'chunk_1': 'N'}, 'Do you think this was unrelated to focal/global brain atrophy? (Y/N)': {'chunk_1': 'N'}, 'Do you think this represents a typical case of amnesia': {'chunk_1': 'N'}}, 'Abe et al. - 1998 - Amnesia after a discrete basal forebrain lesion_OCR.txt': {'Does this have case report-style information (Y)? Or is it a different type of article (N)': {'chunk_1': 'Y', 'chunk_2': 'N'}, 'Do you think there might be a figure in this which has patient neuroimaging? (Y/N)': {'chunk_1': 'Y', 'chunk_2': 'N'}, 'Do you think this has ruled out transient global amnesia, reversible amnesia symptom, drug use, toxicity, epilepsy-related confusion, psychological/psychiatric/functional amnesia? (Y/N)': {'chunk_1': 'N', 'chunk_2': 'N'}, 'Do you think this examined both retrograde and anterograde amnesia?': {'chunk_1': 'Y', 'chunk_2': 'Y'}, 'Do you think there was a good description of the amnesia severity, either qualitatively or quantitatively? (Y/N)': {'chunk_1': 'Y', 'chunk_2': 'N'}, 'Do you think this did not have global cognitive impairment disproportionate to memory loss? (Y/N)': {'chunk_1': 'Y', 'chunk_2': 'N'}, 'Do you think this was unrelated to focal/global brain atrophy? (Y/N)': {'chunk_1': 'N', 'chunk_2': 'N'}, 'Do you think this represents a typical case of amnesia': {'chunk_1': 'N', 'chunk_2': 'N'}}, 'Coffey - 1989 - Hypothalamic and basal forebrain germinoma present_OCR.txt': {'Does this have case report-style information (Y)? Or is it a different type of article (N)': {'chunk_1': 'Y'}, 'Do you think there might be a figure in this which has patient neuroimaging? (Y/N)': {'chunk_1': 'Y'}, 'Do you think this has ruled out transient global amnesia, reversible amnesia symptom, drug use, toxicity, epilepsy-related confusion, psychological/psychiatric/functional amnesia? (Y/N)': {'chunk_1': 'N'}, 'Do you think this examined both retrograde and anterograde amnesia?': {'chunk_1': 'Y'}, 'Do you think there was a good description of the amnesia severity, either qualitatively or quantitatively? (Y/N)': {'chunk_1': 'Y'}, 'Do you think this did not have global cognitive impairment disproportionate to memory loss? (Y/N)': {'chunk_1': 'Y'}, 'Do you think this was unrelated to focal/global brain atrophy? (Y/N)': {'chunk_1': 'N'}, 'Do you think this represents a typical case of amnesia': {'chunk_1': 'N'}}, 'Poreh et al. - 2006 - Anterograde and retrograde amnesia in a person wit_OCR.txt': {'Does this have case report-style information (Y)? Or is it a different type of article (N)': {'chunk_1': 'N', 'chunk_2': 'Y'}, 'Do you think there might be a figure in this which has patient neuroimaging? (Y/N)': {'chunk_1': 'Y', 'chunk_2': 'Y'}, 'Do you think this has ruled out transient global amnesia, reversible amnesia symptom, drug use, toxicity, epilepsy-related confusion, psychological/psychiatric/functional amnesia? (Y/N)': {'chunk_1': 'N', 'chunk_2': 'N'}, 'Do you think this examined both retrograde and anterograde amnesia?': {'chunk_1': 'Y', 'chunk_2': 'Y'}, 'Do you think there was a good description of the amnesia severity, either qualitatively or quantitatively? (Y/N)': {'chunk_1': 'Y', 'chunk_2': 'Y'}, 'Do you think this did not have global cognitive impairment disproportionate to memory loss? (Y/N)': {'chunk_1': 'Y', 'chunk_2': 'N'}, 'Do you think this was unrelated to focal/global brain atrophy? (Y/N)': {'chunk_1': 'Y', 'chunk_2': 'N'}, 'Do you think this represents a typical case of amnesia': {'chunk_1': 'Y', 'chunk_2': 'Y'}}, 'Koll et al. - 2020 - Acute amnestic syndrome with hippocampal lesion du_OCR.txt': {'Does this have case report-style information (Y)? Or is it a different type of article (N)': {'chunk_1': 'Y'}, 'Do you think there might be a figure in this which has patient neuroimaging? (Y/N)': {'chunk_1': 'Y'}, 'Do you think this has ruled out transient global amnesia, reversible amnesia symptom, drug use, toxicity, epilepsy-related confusion, psychological/psychiatric/functional amnesia? (Y/N)': {'chunk_1': 'N'}, 'Do you think this examined both retrograde and anterograde amnesia?': {'chunk_1': 'Y'}, 'Do you think there was a good description of the amnesia severity, either qualitatively or quantitatively? (Y/N)': {'chunk_1': 'N'}, 'Do you think this did not have global cognitive impairment disproportionate to memory loss? (Y/N)': {'chunk_1': 'N'}, 'Do you think this was unrelated to focal/global brain atrophy? (Y/N)': {'chunk_1': 'N'}, 'Do you think this represents a typical case of amnesia': {'chunk_1': 'N'}}}\n"
     ]
    },
    {
     "name": "stderr",
     "output_type": "stream",
     "text": [
      "\n"
     ]
    }
   ],
   "source": [
    "evaluator = OpenAIChatEvaluator(api_key_path, json_file_path, keys_to_consider, article_type, question)\n",
    "answers = evaluator.evaluate_all_files()\n",
    "evaluator.save_to_json(answers)"
   ]
  },
  {
   "cell_type": "markdown",
   "metadata": {},
   "source": [
    "Convert Inclusion/Exclusion Results to CSV"
   ]
  },
  {
   "cell_type": "code",
   "execution_count": 67,
   "metadata": {},
   "outputs": [],
   "source": [
    "path_to_json = r'/Users/cu135/Library/CloudStorage/OneDrive-Personal/OneDrive_Documents/Work/Software/Research/nimlab/gpt_document_reader/amnesia_cases/ocr/keyword_matching_labeled_text/text_evaluations/research_evaluations.json'"
   ]
  },
  {
   "cell_type": "code",
   "execution_count": 68,
   "metadata": {},
   "outputs": [],
   "source": [
    "import pandas as pd\n",
    "import os\n",
    "import json\n",
    "\n",
    "class InclusionExclusionSummarizer:\n",
    "    \"\"\"\n",
    "    Class to summarize inclusion/exclusion criteria based on the answers received from GPT-3.5.\n",
    "    \n",
    "    Attributes:\n",
    "    - json_path (str): Path to the JSON file containing the answers.\n",
    "    - data (dict): The data read from the JSON file.\n",
    "    - df (DataFrame): Pandas DataFrame to store summarized results.\n",
    "    \"\"\"\n",
    "    \n",
    "    def __init__(self, json_path):\n",
    "        \"\"\"\n",
    "        Initializes the InclusionExclusionSummarizer class.\n",
    "        \n",
    "        Parameters:\n",
    "        - json_path (str): Path to the JSON file containing the answers.\n",
    "        \"\"\"\n",
    "        self.json_path = json_path\n",
    "        self.data = self.read_json()\n",
    "        self.df = self.summarize_results()\n",
    "    \n",
    "    def read_json(self):\n",
    "        \"\"\"\n",
    "        Reads JSON data from a file.\n",
    "        \n",
    "        Returns:\n",
    "        - dict: The data read from the JSON file.\n",
    "        \"\"\"\n",
    "        with open(self.json_path, 'r') as file:\n",
    "            return json.load(file)\n",
    "    \n",
    "    def summarize_results(self):\n",
    "        \"\"\"\n",
    "        Summarizes the results by converting answers to binary form.\n",
    "        \n",
    "        Returns:\n",
    "        - DataFrame: Pandas DataFrame containing the summarized results.\n",
    "        \"\"\"\n",
    "        summary_dict = {}\n",
    "        for article, questions in self.data.items():\n",
    "            summary_dict[article] = {}\n",
    "            for question, chunks in questions.items():\n",
    "                # Convert all chunk answers to lowercase and check for \"yes\" keywords\n",
    "                binary_answers = [1 if 'y' in answer.lower() else 0 for answer in chunks.values()]\n",
    "                # Sum up the binary answers for each question\n",
    "                summary_dict[article][question] = sum(binary_answers)\n",
    "        \n",
    "        # Convert the summary dictionary to a DataFrame\n",
    "        df = pd.DataFrame.from_dict(summary_dict, orient='index')\n",
    "        \n",
    "        # Set all values above 0 to 1\n",
    "        df[df > 0] = 1\n",
    "        \n",
    "        return df\n",
    "    \n",
    "    def drop_rows_with_zeros(self):\n",
    "        \"\"\"\n",
    "        Drops any row in the DataFrame that contains a zero.\n",
    "        \n",
    "        Returns:\n",
    "        - DataFrame: A new DataFrame with rows containing zeros removed.\n",
    "        \"\"\"\n",
    "        return self.df[(self.df == 0).sum(axis=1) == 0]\n",
    "    \n",
    "    def save_to_csv(self, dropped=False):\n",
    "        \"\"\"\n",
    "        Saves the DataFrame to a CSV file.\n",
    "        \n",
    "        Parameters:\n",
    "        - dropped (bool): Indicates whether rows have been dropped from the DataFrame.\n",
    "        \n",
    "        Returns:\n",
    "        - None\n",
    "        \"\"\"\n",
    "        # Create a new directory in the same root folder\n",
    "        out_dir = os.path.join(os.path.dirname(self.json_path), \"inclusion_exclusion_results\")\n",
    "        os.makedirs(out_dir, exist_ok=True)\n",
    "        \n",
    "        # Determine the name of the CSV file based on whether rows have been dropped\n",
    "        file_name = \"automated_filtered_results.csv\" if dropped else \"unfiltered_results.csv\"\n",
    "        \n",
    "        # Save the DataFrame to a CSV file\n",
    "        csv_path = os.path.join(out_dir, file_name)\n",
    "        if dropped:\n",
    "            self.drop_rows_with_zeros().to_csv(csv_path)\n",
    "        else:\n",
    "            self.df.to_csv(csv_path)\n",
    "            \n",
    "    def run(self):\n",
    "        \"\"\"\n",
    "        Executes all the summarization, saving and optional row-dropping steps in one method.\n",
    "        \n",
    "        Returns:\n",
    "        - None\n",
    "        \"\"\"\n",
    "        self.save_to_csv()\n",
    "        self.save_to_csv(dropped=True)\n",
    "        return self.df"
   ]
  },
  {
   "cell_type": "code",
   "execution_count": 69,
   "metadata": {},
   "outputs": [
    {
     "data": {
      "text/html": [
       "<div>\n",
       "<style scoped>\n",
       "    .dataframe tbody tr th:only-of-type {\n",
       "        vertical-align: middle;\n",
       "    }\n",
       "\n",
       "    .dataframe tbody tr th {\n",
       "        vertical-align: top;\n",
       "    }\n",
       "\n",
       "    .dataframe thead th {\n",
       "        text-align: right;\n",
       "    }\n",
       "</style>\n",
       "<table border=\"1\" class=\"dataframe\">\n",
       "  <thead>\n",
       "    <tr style=\"text-align: right;\">\n",
       "      <th></th>\n",
       "      <th>Does this have case report-style information (Y)? Or is it a different type of article (N)</th>\n",
       "      <th>Do you think there might be a figure in this which has patient neuroimaging? (Y/N)</th>\n",
       "      <th>Do you think this has ruled out transient global amnesia, reversible amnesia symptom, drug use, toxicity, epilepsy-related confusion, psychological/psychiatric/functional amnesia? (Y/N)</th>\n",
       "      <th>Do you think this examined both retrograde and anterograde amnesia?</th>\n",
       "      <th>Do you think there was a good description of the amnesia severity, either qualitatively or quantitatively? (Y/N)</th>\n",
       "      <th>Do you think this did not have global cognitive impairment disproportionate to memory loss? (Y/N)</th>\n",
       "      <th>Do you think this was unrelated to focal/global brain atrophy? (Y/N)</th>\n",
       "      <th>Do you think this represents a typical case of amnesia</th>\n",
       "    </tr>\n",
       "  </thead>\n",
       "  <tbody>\n",
       "    <tr>\n",
       "      <th>Mosimann et al. - 2012 - Fornix infarction and Korsakoff dementia after coi_OCR.txt</th>\n",
       "      <td>1</td>\n",
       "      <td>1</td>\n",
       "      <td>0</td>\n",
       "      <td>1</td>\n",
       "      <td>1</td>\n",
       "      <td>1</td>\n",
       "      <td>1</td>\n",
       "      <td>1</td>\n",
       "    </tr>\n",
       "    <tr>\n",
       "      <th>Parkin - IMPAIRMENT OF MEMORY FOLLOWING DISCRETE THALAMIC I_OCR.txt</th>\n",
       "      <td>1</td>\n",
       "      <td>0</td>\n",
       "      <td>0</td>\n",
       "      <td>1</td>\n",
       "      <td>1</td>\n",
       "      <td>1</td>\n",
       "      <td>0</td>\n",
       "      <td>0</td>\n",
       "    </tr>\n",
       "    <tr>\n",
       "      <th>Amnesia after right frontal subcortical lesion, following removal of a colloid cyst of the septum pellucidum and third ventricle_OCR.txt</th>\n",
       "      <td>1</td>\n",
       "      <td>1</td>\n",
       "      <td>0</td>\n",
       "      <td>1</td>\n",
       "      <td>1</td>\n",
       "      <td>1</td>\n",
       "      <td>1</td>\n",
       "      <td>0</td>\n",
       "    </tr>\n",
       "    <tr>\n",
       "      <th>Yasuda et al. - DISSOCIATION BETWEEN SEMANTIC AND AUTOBIOGRAPHIC M_OCR.txt</th>\n",
       "      <td>1</td>\n",
       "      <td>1</td>\n",
       "      <td>0</td>\n",
       "      <td>1</td>\n",
       "      <td>1</td>\n",
       "      <td>1</td>\n",
       "      <td>0</td>\n",
       "      <td>1</td>\n",
       "    </tr>\n",
       "    <tr>\n",
       "      <th>Kapur et al. - 1996 - Anterograde but not retrograde memory loss followi_OCR.txt</th>\n",
       "      <td>1</td>\n",
       "      <td>1</td>\n",
       "      <td>0</td>\n",
       "      <td>1</td>\n",
       "      <td>1</td>\n",
       "      <td>1</td>\n",
       "      <td>1</td>\n",
       "      <td>0</td>\n",
       "    </tr>\n",
       "    <tr>\n",
       "      <th>...</th>\n",
       "      <td>...</td>\n",
       "      <td>...</td>\n",
       "      <td>...</td>\n",
       "      <td>...</td>\n",
       "      <td>...</td>\n",
       "      <td>...</td>\n",
       "      <td>...</td>\n",
       "      <td>...</td>\n",
       "    </tr>\n",
       "    <tr>\n",
       "      <th>Schnider et al. - 1992 - Dissociation of Color From Object in Amnesia_OCR.txt</th>\n",
       "      <td>1</td>\n",
       "      <td>0</td>\n",
       "      <td>0</td>\n",
       "      <td>1</td>\n",
       "      <td>1</td>\n",
       "      <td>0</td>\n",
       "      <td>0</td>\n",
       "      <td>0</td>\n",
       "    </tr>\n",
       "    <tr>\n",
       "      <th>Abe et al. - 1998 - Amnesia after a discrete basal forebrain lesion_OCR.txt</th>\n",
       "      <td>1</td>\n",
       "      <td>1</td>\n",
       "      <td>0</td>\n",
       "      <td>1</td>\n",
       "      <td>1</td>\n",
       "      <td>1</td>\n",
       "      <td>0</td>\n",
       "      <td>0</td>\n",
       "    </tr>\n",
       "    <tr>\n",
       "      <th>Coffey - 1989 - Hypothalamic and basal forebrain germinoma present_OCR.txt</th>\n",
       "      <td>1</td>\n",
       "      <td>1</td>\n",
       "      <td>0</td>\n",
       "      <td>1</td>\n",
       "      <td>1</td>\n",
       "      <td>1</td>\n",
       "      <td>0</td>\n",
       "      <td>0</td>\n",
       "    </tr>\n",
       "    <tr>\n",
       "      <th>Poreh et al. - 2006 - Anterograde and retrograde amnesia in a person wit_OCR.txt</th>\n",
       "      <td>1</td>\n",
       "      <td>1</td>\n",
       "      <td>0</td>\n",
       "      <td>1</td>\n",
       "      <td>1</td>\n",
       "      <td>1</td>\n",
       "      <td>1</td>\n",
       "      <td>1</td>\n",
       "    </tr>\n",
       "    <tr>\n",
       "      <th>Koll et al. - 2020 - Acute amnestic syndrome with hippocampal lesion du_OCR.txt</th>\n",
       "      <td>1</td>\n",
       "      <td>1</td>\n",
       "      <td>0</td>\n",
       "      <td>1</td>\n",
       "      <td>0</td>\n",
       "      <td>0</td>\n",
       "      <td>0</td>\n",
       "      <td>0</td>\n",
       "    </tr>\n",
       "  </tbody>\n",
       "</table>\n",
       "<p>107 rows × 8 columns</p>\n",
       "</div>"
      ],
      "text/plain": [
       "                                                    Does this have case report-style information (Y)? Or is it a different type of article (N)  \\\n",
       "Mosimann et al. - 2012 - Fornix infarction and ...                                                  1                                            \n",
       "Parkin - IMPAIRMENT OF MEMORY FOLLOWING DISCRET...                                                  1                                            \n",
       "Amnesia after right frontal subcortical lesion,...                                                  1                                            \n",
       "Yasuda et al. - DISSOCIATION BETWEEN SEMANTIC A...                                                  1                                            \n",
       "Kapur et al. - 1996 - Anterograde but not retro...                                                  1                                            \n",
       "...                                                                                               ...                                            \n",
       "Schnider et al. - 1992 - Dissociation of Color ...                                                  1                                            \n",
       "Abe et al. - 1998 - Amnesia after a discrete ba...                                                  1                                            \n",
       "Coffey - 1989 - Hypothalamic and basal forebrai...                                                  1                                            \n",
       "Poreh et al. - 2006 - Anterograde and retrograd...                                                  1                                            \n",
       "Koll et al. - 2020 - Acute amnestic syndrome wi...                                                  1                                            \n",
       "\n",
       "                                                    Do you think there might be a figure in this which has patient neuroimaging? (Y/N)  \\\n",
       "Mosimann et al. - 2012 - Fornix infarction and ...                                                  1                                    \n",
       "Parkin - IMPAIRMENT OF MEMORY FOLLOWING DISCRET...                                                  0                                    \n",
       "Amnesia after right frontal subcortical lesion,...                                                  1                                    \n",
       "Yasuda et al. - DISSOCIATION BETWEEN SEMANTIC A...                                                  1                                    \n",
       "Kapur et al. - 1996 - Anterograde but not retro...                                                  1                                    \n",
       "...                                                                                               ...                                    \n",
       "Schnider et al. - 1992 - Dissociation of Color ...                                                  0                                    \n",
       "Abe et al. - 1998 - Amnesia after a discrete ba...                                                  1                                    \n",
       "Coffey - 1989 - Hypothalamic and basal forebrai...                                                  1                                    \n",
       "Poreh et al. - 2006 - Anterograde and retrograd...                                                  1                                    \n",
       "Koll et al. - 2020 - Acute amnestic syndrome wi...                                                  1                                    \n",
       "\n",
       "                                                    Do you think this has ruled out transient global amnesia, reversible amnesia symptom, drug use, toxicity, epilepsy-related confusion, psychological/psychiatric/functional amnesia? (Y/N)  \\\n",
       "Mosimann et al. - 2012 - Fornix infarction and ...                                                  0                                                                                                                                           \n",
       "Parkin - IMPAIRMENT OF MEMORY FOLLOWING DISCRET...                                                  0                                                                                                                                           \n",
       "Amnesia after right frontal subcortical lesion,...                                                  0                                                                                                                                           \n",
       "Yasuda et al. - DISSOCIATION BETWEEN SEMANTIC A...                                                  0                                                                                                                                           \n",
       "Kapur et al. - 1996 - Anterograde but not retro...                                                  0                                                                                                                                           \n",
       "...                                                                                               ...                                                                                                                                           \n",
       "Schnider et al. - 1992 - Dissociation of Color ...                                                  0                                                                                                                                           \n",
       "Abe et al. - 1998 - Amnesia after a discrete ba...                                                  0                                                                                                                                           \n",
       "Coffey - 1989 - Hypothalamic and basal forebrai...                                                  0                                                                                                                                           \n",
       "Poreh et al. - 2006 - Anterograde and retrograd...                                                  0                                                                                                                                           \n",
       "Koll et al. - 2020 - Acute amnestic syndrome wi...                                                  0                                                                                                                                           \n",
       "\n",
       "                                                    Do you think this examined both retrograde and anterograde amnesia?  \\\n",
       "Mosimann et al. - 2012 - Fornix infarction and ...                                                  1                     \n",
       "Parkin - IMPAIRMENT OF MEMORY FOLLOWING DISCRET...                                                  1                     \n",
       "Amnesia after right frontal subcortical lesion,...                                                  1                     \n",
       "Yasuda et al. - DISSOCIATION BETWEEN SEMANTIC A...                                                  1                     \n",
       "Kapur et al. - 1996 - Anterograde but not retro...                                                  1                     \n",
       "...                                                                                               ...                     \n",
       "Schnider et al. - 1992 - Dissociation of Color ...                                                  1                     \n",
       "Abe et al. - 1998 - Amnesia after a discrete ba...                                                  1                     \n",
       "Coffey - 1989 - Hypothalamic and basal forebrai...                                                  1                     \n",
       "Poreh et al. - 2006 - Anterograde and retrograd...                                                  1                     \n",
       "Koll et al. - 2020 - Acute amnestic syndrome wi...                                                  1                     \n",
       "\n",
       "                                                    Do you think there was a good description of the amnesia severity, either qualitatively or quantitatively? (Y/N)  \\\n",
       "Mosimann et al. - 2012 - Fornix infarction and ...                                                  1                                                                  \n",
       "Parkin - IMPAIRMENT OF MEMORY FOLLOWING DISCRET...                                                  1                                                                  \n",
       "Amnesia after right frontal subcortical lesion,...                                                  1                                                                  \n",
       "Yasuda et al. - DISSOCIATION BETWEEN SEMANTIC A...                                                  1                                                                  \n",
       "Kapur et al. - 1996 - Anterograde but not retro...                                                  1                                                                  \n",
       "...                                                                                               ...                                                                  \n",
       "Schnider et al. - 1992 - Dissociation of Color ...                                                  1                                                                  \n",
       "Abe et al. - 1998 - Amnesia after a discrete ba...                                                  1                                                                  \n",
       "Coffey - 1989 - Hypothalamic and basal forebrai...                                                  1                                                                  \n",
       "Poreh et al. - 2006 - Anterograde and retrograd...                                                  1                                                                  \n",
       "Koll et al. - 2020 - Acute amnestic syndrome wi...                                                  0                                                                  \n",
       "\n",
       "                                                    Do you think this did not have global cognitive impairment disproportionate to memory loss? (Y/N)  \\\n",
       "Mosimann et al. - 2012 - Fornix infarction and ...                                                  1                                                   \n",
       "Parkin - IMPAIRMENT OF MEMORY FOLLOWING DISCRET...                                                  1                                                   \n",
       "Amnesia after right frontal subcortical lesion,...                                                  1                                                   \n",
       "Yasuda et al. - DISSOCIATION BETWEEN SEMANTIC A...                                                  1                                                   \n",
       "Kapur et al. - 1996 - Anterograde but not retro...                                                  1                                                   \n",
       "...                                                                                               ...                                                   \n",
       "Schnider et al. - 1992 - Dissociation of Color ...                                                  0                                                   \n",
       "Abe et al. - 1998 - Amnesia after a discrete ba...                                                  1                                                   \n",
       "Coffey - 1989 - Hypothalamic and basal forebrai...                                                  1                                                   \n",
       "Poreh et al. - 2006 - Anterograde and retrograd...                                                  1                                                   \n",
       "Koll et al. - 2020 - Acute amnestic syndrome wi...                                                  0                                                   \n",
       "\n",
       "                                                    Do you think this was unrelated to focal/global brain atrophy? (Y/N)  \\\n",
       "Mosimann et al. - 2012 - Fornix infarction and ...                                                  1                      \n",
       "Parkin - IMPAIRMENT OF MEMORY FOLLOWING DISCRET...                                                  0                      \n",
       "Amnesia after right frontal subcortical lesion,...                                                  1                      \n",
       "Yasuda et al. - DISSOCIATION BETWEEN SEMANTIC A...                                                  0                      \n",
       "Kapur et al. - 1996 - Anterograde but not retro...                                                  1                      \n",
       "...                                                                                               ...                      \n",
       "Schnider et al. - 1992 - Dissociation of Color ...                                                  0                      \n",
       "Abe et al. - 1998 - Amnesia after a discrete ba...                                                  0                      \n",
       "Coffey - 1989 - Hypothalamic and basal forebrai...                                                  0                      \n",
       "Poreh et al. - 2006 - Anterograde and retrograd...                                                  1                      \n",
       "Koll et al. - 2020 - Acute amnestic syndrome wi...                                                  0                      \n",
       "\n",
       "                                                    Do you think this represents a typical case of amnesia  \n",
       "Mosimann et al. - 2012 - Fornix infarction and ...                                                  1       \n",
       "Parkin - IMPAIRMENT OF MEMORY FOLLOWING DISCRET...                                                  0       \n",
       "Amnesia after right frontal subcortical lesion,...                                                  0       \n",
       "Yasuda et al. - DISSOCIATION BETWEEN SEMANTIC A...                                                  1       \n",
       "Kapur et al. - 1996 - Anterograde but not retro...                                                  0       \n",
       "...                                                                                               ...       \n",
       "Schnider et al. - 1992 - Dissociation of Color ...                                                  0       \n",
       "Abe et al. - 1998 - Amnesia after a discrete ba...                                                  0       \n",
       "Coffey - 1989 - Hypothalamic and basal forebrai...                                                  0       \n",
       "Poreh et al. - 2006 - Anterograde and retrograd...                                                  1       \n",
       "Koll et al. - 2020 - Acute amnestic syndrome wi...                                                  0       \n",
       "\n",
       "[107 rows x 8 columns]"
      ]
     },
     "execution_count": 69,
     "metadata": {},
     "output_type": "execute_result"
    }
   ],
   "source": [
    "\n",
    "summarizer = InclusionExclusionSummarizer(path_to_json)\n",
    "result_df = summarizer.run()\n",
    "result_df"
   ]
  },
  {
   "cell_type": "code",
   "execution_count": null,
   "metadata": {},
   "outputs": [],
   "source": []
  }
 ],
 "metadata": {
  "kernelspec": {
   "display_name": "nimlab_py310",
   "language": "python",
   "name": "python3"
  },
  "language_info": {
   "codemirror_mode": {
    "name": "ipython",
    "version": 3
   },
   "file_extension": ".py",
   "mimetype": "text/x-python",
   "name": "python",
   "nbconvert_exporter": "python",
   "pygments_lexer": "ipython3",
   "version": "3.10.8"
  },
  "orig_nbformat": 4
 },
 "nbformat": 4,
 "nbformat_minor": 2
}
