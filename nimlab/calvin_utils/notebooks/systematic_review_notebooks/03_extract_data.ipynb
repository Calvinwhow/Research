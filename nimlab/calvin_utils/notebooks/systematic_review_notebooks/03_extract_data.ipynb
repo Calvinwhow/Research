{
 "cells": [
  {
   "cell_type": "markdown",
   "metadata": {},
   "source": [
    "01 - Generate JSON from Post-Inclusion/Exclusion CSV\n",
    "- Enter path to CSV which has successful articles in the index column\n",
    "- Enter path to JSON which has the articles with labeled sections"
   ]
  },
  {
   "cell_type": "code",
   "execution_count": 4,
   "metadata": {},
   "outputs": [],
   "source": [
    "csv_path = \"/Users/cu135/Library/CloudStorage/OneDrive-Personal/OneDrive_Documents/Work/Software/Research/nimlab/gpt_document_reader/ocr/keyword_matching_labeled_text/text_evaluations/text_evaluations/dropped_evaluations.csv\"\n",
    "json_path = \"/Users/cu135/Library/CloudStorage/OneDrive-Personal/OneDrive_Documents/Work/Software/Research/nimlab/gpt_document_reader/ocr/keyword_matching_labeled_text/labeled_sections.json\""
   ]
  },
  {
   "cell_type": "code",
   "execution_count": 5,
   "metadata": {},
   "outputs": [],
   "source": [
    "from calvin_utils.gpt_sys_review.json_utils import FilterPapers\n",
    "\n",
    "# Initialize and run the FilterPapers class\n",
    "filter_papers = FilterPapers(csv_path=csv_path, json_path=json_path)\n",
    "filter_papers.run()"
   ]
  },
  {
   "cell_type": "markdown",
   "metadata": {},
   "source": [
    "02 - Prepare Data Extraction Questions\n",
    "- Dev Note: This is a repeat class and should be inherited from a .py"
   ]
  },
  {
   "cell_type": "code",
   "execution_count": 6,
   "metadata": {},
   "outputs": [
    {
     "name": "stdout",
     "output_type": "stream",
     "text": [
      "Here are example data extraction questions:\n",
      "{\n",
      "    \"Does the patient(s) represent(s) the whole experience of the investigator (center) or is the selection method unclear to the extent that other patients with similar presentation may not have been reported? (Good/Bad/Unclear)\": \"representative_case_quality\",\n",
      "    \"Was patient\\u2019s causal exposure clearly described? (Good/Bad/Unclear)\": \"causality_quality\",\n",
      "    \"Were diagnostic tests or assessment methods and the results clearly described (amnesia tests)? (Good/Bad/Unclear)\": \"phenotyping_quality\",\n",
      "    \"Were other alternative causes that may explain the observation (amnesia) ruled out? (Good/Bad/Unclear)\": \"workup_quality\",\n",
      "    \"Were patient\\u2019s demographics, medical history, comobidities clearly described? (Good/Bad/Unclear)\": \"clinical_covariates_quality\",\n",
      "    \"Were patient\\u2019s symptoms, interventions, and clinical outcomes clearly presented as a timeline? (Good/Bad/Unclear)\": \"history_quality\",\n",
      "    \"Was the lesion image taken around the time of observation (amnesia) assessment? (Good/Bad/Unclear)\": \"temporal_causality_quality\",\n",
      "    \"Is the case(s) described with sufficient details to allow other investigators to replicate the research or to allow practitioners make inferences related to their own practice? (Good/Bad/Unclear)\": \"history_quality_2\"\n",
      "}\n",
      "Here is a question template\n",
      "{\n",
      "    \" ? (metric/metric/metric)\": \"question_label\"\n",
      "}\n"
     ]
    }
   ],
   "source": [
    "from calvin_utils.gpt_sys_review.gpt_utils import QuestionTemplate\n",
    "\n",
    "question_template = QuestionTemplate()\n",
    "question_template.data_extraction_questions()"
   ]
  },
  {
   "cell_type": "markdown",
   "metadata": {},
   "source": [
    "Copy the Template Dict from Above and Fill it Out As per the Example"
   ]
  },
  {
   "cell_type": "code",
   "execution_count": 7,
   "metadata": {},
   "outputs": [],
   "source": [
    "question = {\n",
    "    \"Does the patient(s) represent(s) the whole experience of the investigator (center) or is the selection method unclear to the extent that other patients with similar presentation may not have been reported? (Good/Bad/Unclear)\": \"representative_case_quality\",\n",
    "    \"Was patient\\u2019s causal exposure clearly described? (Good/Bad/Unclear)\": \"causality_quality\",\n",
    "    \"Were diagnostic tests or assessment methods and the results clearly described (amnesia tests)? (Good/Bad/Unclear)\": \"phenotyping_quality\",\n",
    "    \"Were other alternative causes that may explain the observation (amnesia) ruled out? (Good/Bad/Unclear)\": \"workup_quality\",\n",
    "    \"Were patient\\u2019s demographics, medical history, comobidities clearly described? (Good/Bad/Unclear)\": \"clinical_covariates_quality\",\n",
    "    \"Were patient\\u2019s symptoms, interventions, and clinical outcomes clearly presented as a timeline? (Good/Bad/Unclear)\": \"history_quality\",\n",
    "    \"Was the lesion image taken around the time of observation (amnesia) assessment? (Good/Bad/Unclear)\": \"temporal_causality_quality\",\n",
    "    \"Is the case(s) described with sufficient details to allow other investigators to replicate the research or to allow practitioners make inferences related to their own practice? (Good/Bad/Unclear)\": \"history_quality_2\"\n",
    "}"
   ]
  },
  {
   "cell_type": "markdown",
   "metadata": {},
   "source": [
    "03 - Extract Data with GPT\n"
   ]
  },
  {
   "cell_type": "code",
   "execution_count": 16,
   "metadata": {},
   "outputs": [],
   "source": [
    "# Define file paths\n",
    "api_key_path = \"/Users/cu135/Library/CloudStorage/OneDrive-Personal/OneDrive_Documents/Work/Software/Research/nimlab/openai_key.txt\"\n",
    "json_file_path = \"/Users/cu135/Library/CloudStorage/OneDrive-Personal/OneDrive_Documents/Work/Software/Research/nimlab/gpt_document_reader/ocr/keyword_matching_labeled_text/filtered_articles/filtered_labeled_sections.json\"\n",
    "\n",
    "# Define the keys you want to consider (exclude 'References')\n",
    "keys_to_consider = [\"Introduction\", \"Methods\", \"Results\", \"Discussion\", \"Conclusion\"]  # Add or remove keys as per your requirement\n",
    "\n",
    "# Define the type of article and questions\n",
    "article_type = \"research\""
   ]
  },
  {
   "cell_type": "code",
   "execution_count": 17,
   "metadata": {},
   "outputs": [],
   "source": [
    "from calvin_utils.gpt_sys_review.gpt_utils import OpenAIChatEvaluator"
   ]
  },
  {
   "cell_type": "code",
   "execution_count": 18,
   "metadata": {},
   "outputs": [
    {
     "name": "stderr",
     "output_type": "stream",
     "text": [
      "100%|██████████| 1/1 [00:17<00:00, 17.02s/it]\n"
     ]
    }
   ],
   "source": [
    "evaluator = OpenAIChatEvaluator(api_key_path, json_file_path, keys_to_consider, article_type, question)\n",
    "answers = evaluator.evaluate_all_files()\n",
    "evaluator.save_to_json(answers)"
   ]
  },
  {
   "cell_type": "markdown",
   "metadata": {},
   "source": [
    "04 - Convert results to a CSV"
   ]
  },
  {
   "cell_type": "markdown",
   "metadata": {},
   "source": []
  },
  {
   "cell_type": "code",
   "execution_count": 1,
   "metadata": {},
   "outputs": [],
   "source": [
    "#Map responses to data\n",
    "# Define a dictionary to map keywords to values\n",
    "keyword_mapping = {\n",
    "    -1: [\"unclear\", \"unsure\", \"un\"],\n",
    "    0: [\"poor\", \"bad\", \"negative\"],\n",
    "    1: [\"good\", \"excellent\", \"positive\"]\n",
    "}\n"
   ]
  },
  {
   "cell_type": "code",
   "execution_count": 2,
   "metadata": {},
   "outputs": [],
   "source": [
    "json_path = r'/Users/cu135/Library/CloudStorage/OneDrive-Personal/OneDrive_Documents/Work/Software/Research/nimlab/gpt_document_reader/ocr/keyword_matching_labeled_text/filtered_articles/text_evaluations/research_evaluations.json'"
   ]
  },
  {
   "cell_type": "code",
   "execution_count": 3,
   "metadata": {},
   "outputs": [
    {
     "name": "stderr",
     "output_type": "stream",
     "text": [
      "/Users/cu135/.local/lib/python3.10/site-packages/fuzzywuzzy/fuzz.py:11: UserWarning: Using slow pure-python SequenceMatcher. Install python-Levenshtein to remove this warning\n",
      "  warnings.warn('Using slow pure-python SequenceMatcher. Install python-Levenshtein to remove this warning')\n"
     ]
    },
    {
     "name": "stdout",
     "output_type": "stream",
     "text": [
      "hi  {'chunk_1': 'Unclear. The text does not provide clear information on the selection method for the reported patient(s) and whether they represent the whole experience of the investigator (center).'}\n",
      "hi  {'chunk_1': 'Unclear. The text does not clearly describe the causal exposure of the patient. It mentions that the clinical picture was initially attributed to an overdose of oxycodone, but it is not clear if this was the definitive cause or if there were other factors involved.'}\n",
      "hi  {'chunk_1': \"Good. The text clearly describes the diagnostic tests and assessment methods used to evaluate the patient's amnesia. It specifically mentions the Wechsler Memory Scale-Revised, Benton Visual Retention Test, and the Rey-Osterreith Complex Figure Test. The results of these tests are also provided, indicating the extent of impairment in different areas of memory.\"}\n",
      "hi  {'chunk_1': 'Unclear. The text does not explicitly mention whether other alternative causes that may explain the observation of amnesia were ruled out. It does mention that the patient had a focal haemorrhage in the hippocampal body, but it is not clear if other potential causes were thoroughly investigated and excluded.'}\n",
      "hi  {'chunk_1': \"Unclear. The text does not provide clear information on the patient's demographics, medical history, or comorbidities. It only briefly mentions that the patient was a 72-year-old right-handed man and that he had acute memory impairment. No further details about the patient's background or medical history are provided.\"}\n",
      "hi  {'chunk_1': \"Unclear. Although the text mentions the patient's symptoms, interventions, and clinical outcomes, it does not present them clearly in a timeline format. The information is scattered throughout the text and lacks a clear chronological order of events.\"}\n",
      "hi  {'chunk_1': 'Unclear. The text does not explicitly state whether the image of the lesion was taken around the time of the observation and assessment of amnesia. However, it does mention that the MRI T1-weighted images were taken 1 month after onset, suggesting that they were taken relatively close to the time of the assessment.'}\n",
      "hi  {'chunk_1': \"Unclear. The level of detail provided in the text is limited, and it may not be sufficient for other investigators to replicate the research or for practitioners to make inferences related to their own practice. More specific information about the patient's demographics, medical history, interventions, and outcomes would be necessary to allow for replication or generalization to other contexts.\"}\n",
      "             Does the patient(s) represent(s) the whole experience of the investigator (center) or is the selection method unclear to the extent that other patients with similar presentation may not have been reported? (Good/Bad/Unclear)  \\\n",
      "1196_OCR.txt  (Unclear. The text does not provide clear info...                                                                                                                                                                                 \n",
      "\n",
      "             Was patient’s causal exposure clearly described? (Good/Bad/Unclear)  \\\n",
      "1196_OCR.txt  (Unclear. The text does not clearly describe t...                    \n",
      "\n",
      "             Were diagnostic tests or assessment methods and the results clearly described (amnesia tests)? (Good/Bad/Unclear)  \\\n",
      "1196_OCR.txt  (Good. The text clearly describes the diagnost...                                                                  \n",
      "\n",
      "             Were other alternative causes that may explain the observation (amnesia) ruled out? (Good/Bad/Unclear)  \\\n",
      "1196_OCR.txt  (Unclear. The text does not explicitly mention...                                                       \n",
      "\n",
      "             Were patient’s demographics, medical history, comobidities clearly described? (Good/Bad/Unclear)  \\\n",
      "1196_OCR.txt  (Unclear. The text does not provide clear info...                                                 \n",
      "\n",
      "             Were patient’s symptoms, interventions, and clinical outcomes clearly presented as a timeline? (Good/Bad/Unclear)  \\\n",
      "1196_OCR.txt  (Unclear. Although the text mentions the patie...                                                                  \n",
      "\n",
      "             Was the lesion image taken around the time of observation (amnesia) assessment? (Good/Bad/Unclear)  \\\n",
      "1196_OCR.txt  (Unclear. The text does not explicitly state w...                                                   \n",
      "\n",
      "             Is the case(s) described with sufficient details to allow other investigators to replicate the research or to allow practitioners make inferences related to their own practice? (Good/Bad/Unclear)  \n",
      "1196_OCR.txt  (Unclear. The level of detail provided in the ...                                                                                                                                                   \n"
     ]
    }
   ],
   "source": [
    "from calvin_utils.gpt_sys_review.json_utils import CustomSummarizer\n",
    "\n",
    "# Create an instance of CustomSummarizer\n",
    "custom_summarizer = CustomSummarizer(json_path=json_path)#, keyword_mapping=keyword_mapping)\n",
    "\n",
    "# Run the custom summarization and save the results to CSV\n",
    "result_df = custom_summarizer.run_custom()\n",
    "\n",
    "# Display the resulting DataFrame\n",
    "print(result_df)"
   ]
  },
  {
   "cell_type": "code",
   "execution_count": null,
   "metadata": {},
   "outputs": [],
   "source": []
  },
  {
   "cell_type": "code",
   "execution_count": null,
   "metadata": {},
   "outputs": [],
   "source": []
  }
 ],
 "metadata": {
  "kernelspec": {
   "display_name": "nimlab_py310",
   "language": "python",
   "name": "python3"
  },
  "language_info": {
   "codemirror_mode": {
    "name": "ipython",
    "version": 3
   },
   "file_extension": ".py",
   "mimetype": "text/x-python",
   "name": "python",
   "nbconvert_exporter": "python",
   "pygments_lexer": "ipython3",
   "version": "3.10.8"
  },
  "orig_nbformat": 4
 },
 "nbformat": 4,
 "nbformat_minor": 2
}
