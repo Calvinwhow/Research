{
 "cells": [
  {
   "cell_type": "markdown",
   "metadata": {},
   "source": [
    "01 - Generate JSON from Post-Inclusion/Exclusion CSV\n",
    "- Enter path to CSV which has successful articles in the index column\n",
    "- Enter path to JSON which has the articles with labeled sections"
   ]
  },
  {
   "cell_type": "code",
   "execution_count": 1,
   "metadata": {},
   "outputs": [],
   "source": [
    "csv_path = \"/Users/cu135/Library/CloudStorage/OneDrive-Personal/OneDrive_Documents/Work/Software/Research/nimlab/gpt_document_reader/amnesia_cases/ocr/keyword_matching_labeled_text/text_evaluations/inclusion_exclusion_results/unfiltered_results.csv\"\n",
    "json_path = \"/Users/cu135/Library/CloudStorage/OneDrive-Personal/OneDrive_Documents/Work/Software/Research/nimlab/gpt_document_reader/amnesia_cases/ocr/keyword_matching_labeled_text/labeled_sections.json\""
   ]
  },
  {
   "cell_type": "code",
   "execution_count": 2,
   "metadata": {},
   "outputs": [
    {
     "name": "stderr",
     "output_type": "stream",
     "text": [
      "/Users/cu135/.local/lib/python3.10/site-packages/fuzzywuzzy/fuzz.py:11: UserWarning: Using slow pure-python SequenceMatcher. Install python-Levenshtein to remove this warning\n",
      "  warnings.warn('Using slow pure-python SequenceMatcher. Install python-Levenshtein to remove this warning')\n"
     ]
    }
   ],
   "source": [
    "from calvin_utils.gpt_sys_review.json_utils import FilterPapers\n",
    "\n",
    "# Initialize and run the FilterPapers class\n",
    "filter_papers = FilterPapers(csv_path=csv_path, json_path=json_path)\n",
    "filter_papers.run()"
   ]
  },
  {
   "cell_type": "markdown",
   "metadata": {},
   "source": [
    "02 - Prepare Data Extraction Questions\n",
    "- Dev Note: This is a repeat class and should be inherited from a .py"
   ]
  },
  {
   "cell_type": "code",
   "execution_count": 3,
   "metadata": {},
   "outputs": [
    {
     "name": "stdout",
     "output_type": "stream",
     "text": [
      "Here are example data extraction questions:\n",
      "{\n",
      "    \"Does the patient(s) represent(s) the whole experience of the investigator (center) or is the selection method unclear to the extent that other patients with similar presentation may not have been reported? (Good/Bad/Unclear)\": \"representative_case_quality\",\n",
      "    \"Was patient\\u2019s causal exposure clearly described? (Good/Bad/Unclear)\": \"causality_quality\",\n",
      "    \"Were diagnostic tests or assessment methods and the results clearly described (amnesia tests)? (Good/Bad/Unclear)\": \"phenotyping_quality\",\n",
      "    \"Were other alternative causes that may explain the observation (amnesia) ruled out? (Good/Bad/Unclear)\": \"workup_quality\",\n",
      "    \"Were patient\\u2019s demographics, medical history, comobidities clearly described? (Good/Bad/Unclear)\": \"clinical_covariates_quality\",\n",
      "    \"Were patient\\u2019s symptoms, interventions, and clinical outcomes clearly presented as a timeline? (Good/Bad/Unclear)\": \"history_quality\",\n",
      "    \"Was the lesion image taken around the time of observation (amnesia) assessment? (Good/Bad/Unclear)\": \"temporal_causality_quality\",\n",
      "    \"Is the case(s) described with sufficient details to allow other investigators to replicate the research or to allow practitioners make inferences related to their own practice? (Good/Bad/Unclear)\": \"history_quality_2\"\n",
      "}\n",
      "Here are some more generalizable data extraction questions:\n",
      "{\n",
      "    \"How affected is this study by selection bias? Little (Good). Very (Bad). Unsure (Unclear).\": \"selection_bias\",\n",
      "    \"How well was the timeline of lesion/symptom onset described? (Good/Bad/Unclear)\": \"exposure\",\n",
      "    \"How affected is this case by attribution error? Little (Good). Very (Bad). Unsure (Unclear).\": \"outcome\",\n",
      "    \"How reasonable is the attribution of the lesion/diagnosis to the symptom? (Good/Bad/Unclear)\": \"attribution_error\",\n",
      "    \"How well was the patients baseline pre-lesion described? (Good/Bad/Unclear)\": \"pre_event_assessment\",\n",
      "    \"How well was the patients outcome post-lesion described? (Good/Bad/Unclear)\": \"post_event_assessment\",\n",
      "    \"Do you think the neuroimaging was taken within temporal proximity to the lesion? Days-weeks (Good). Months-years (Bad). Unsure (Unclear).\": \"lesion_related-images\",\n",
      "    \"Do you think another practitioner would come to the same conclusion (diagnosis/attribution) that this group did? (Good/Bad/Unclear)\": \"replicability\",\n",
      "    \"How is the quality of this case overall? (Good/Bad/Unclear)\": \"overall_appraisal\"\n",
      "}\n",
      "Here is a question template\n",
      "{\n",
      "    \" ? (metric/metric/metric)\": \"question_label\"\n",
      "}\n"
     ]
    }
   ],
   "source": [
    "from calvin_utils.gpt_sys_review.gpt_utils import QuestionTemplate\n",
    "\n",
    "question_template = QuestionTemplate()\n",
    "question_template.data_extraction_questions()"
   ]
  },
  {
   "cell_type": "markdown",
   "metadata": {},
   "source": [
    "Copy the Template Dict from Above and Fill it Out As per the Example"
   ]
  },
  {
   "cell_type": "code",
   "execution_count": 4,
   "metadata": {},
   "outputs": [],
   "source": [
    "question = {\n",
    "    \"Do you think this is reasonably free of selection bias? For example, a case series is free of bias. (Y/N).\": \"selection_bias\",\n",
    "    \"Do you think the history of presenting illness was reasonably described? For example, describing a patient's symptoms and circumstances of presentation are acceptable. (Y/N)\": \"hpi_history\",\n",
    "    \"Prioritizing implicit information, do you think diagnostic diagnostic tests relevant to the diagnosis had been completed to consolidate the diagnosis? Specific details are not necessary. For example, vascular imaging in a stroke is a reasonable workup. (Y/N).\": \"diagnostic_workup\",\n",
    "    \"Do you think the symptom is reasonably attributable to the lesion? For example, a stroke and subsequent amnesia is highly attributable. If the word acute is used, this is a yes. (Y/N)\": \"diagnostic_accuracy\",\n",
    "    \"Do you think the extended patient history was well described? For example, diabetes in pas medical history, family history of strokes, or note of medications. (Y/N)\": \"associated_history\",\n",
    "    \"Considering both explicit mentions and contextual clues like ordered presnetaiton of history to symptoms to workup, can you infer whether the history was presented as a timeline? For example, a description of acute neurological deficit to imaging findings to symptoms is acceptable. (Y/N)\": \"temporality_of_history\",\n",
    "    \"Prioritizing implicit contextual cues, can you infer if the neuroimaging may have been taken around the time of symptom or lesion onset? If neuroimaging is mentioned in close proximity to the description of symptoms, assume they are temporally related. (Y/N)\": \"lesion_related-images\",\n",
    "    \"Do you think the case has sufficient details to allow another doctor to make their own inferences? Specifics are not necessary so long as the critical information is present. For example, if the history and pertinent diagnostic information provided, this is acceptable. (Y/N)\": \"replicability\",\n",
    "    \"Is the case report suitable for lesion network mapping? For example, a case describing symptoms and related neuroimaging related to symptoms is sufficient. (Y/N)\": \"overall_appraisal\"\n",
    "}"
   ]
  },
  {
   "cell_type": "markdown",
   "metadata": {},
   "source": [
    "03 - Extract Data with GPT\n"
   ]
  },
  {
   "cell_type": "code",
   "execution_count": 5,
   "metadata": {},
   "outputs": [],
   "source": [
    "# Define file paths\n",
    "api_key_path = \"/Users/cu135/Library/CloudStorage/OneDrive-Personal/OneDrive_Documents/Work/Software/Research/nimlab/openai_key.txt\"\n",
    "\n",
    "# Define the keys you want to consider (exclude 'References')\n",
    "keys_to_consider = [\"Introduction\", \"Methods\", \"Results\", \"Discussion\", \"Conclusion\", \"References\"]  # Add or remove keys as per your requirement\n",
    "\n",
    "# Define the type of article and questions\n",
    "article_type = \"research\""
   ]
  },
  {
   "cell_type": "code",
   "execution_count": 6,
   "metadata": {},
   "outputs": [],
   "source": [
    "from calvin_utils.gpt_sys_review.gpt_utils import OpenAIChatEvaluator"
   ]
  },
  {
   "cell_type": "code",
   "execution_count": 9,
   "metadata": {},
   "outputs": [],
   "source": [
    "test_mode=False"
   ]
  },
  {
   "cell_type": "code",
   "execution_count": 10,
   "metadata": {},
   "outputs": [
    {
     "name": "stderr",
     "output_type": "stream",
     "text": [
      "  0%|          | 0/107 [00:00<?, ?it/s]"
     ]
    },
    {
     "name": "stdout",
     "output_type": "stream",
     "text": [
      "Rate limit error: Rate limit reached for 10KTPM-200RPM in organization org-Y2tKyCPFO6tIjtCtOVZ7c9tr on tokens per min. Limit: 10000 / min. Please try again in 6ms. Contact us through our help center at help.openai.com if you continue to have issues.. Retrying... (1)\n",
      "Rate limit error: Rate limit reached for 10KTPM-200RPM in organization org-Y2tKyCPFO6tIjtCtOVZ7c9tr on tokens per min. Limit: 10000 / min. Please try again in 6ms. Contact us through our help center at help.openai.com if you continue to have issues.. Retrying... (1)\n",
      "Rate limit error: Rate limit reached for 10KTPM-200RPM in organization org-Y2tKyCPFO6tIjtCtOVZ7c9tr on tokens per min. Limit: 10000 / min. Please try again in 6ms. Contact us through our help center at help.openai.com if you continue to have issues.. Retrying... (1)\n"
     ]
    },
    {
     "name": "stderr",
     "output_type": "stream",
     "text": [
      "  1%|          | 1/107 [01:40<2:57:26, 100.44s/it]"
     ]
    },
    {
     "name": "stdout",
     "output_type": "stream",
     "text": [
      "Rate limit error: Rate limit reached for 10KTPM-200RPM in organization org-Y2tKyCPFO6tIjtCtOVZ7c9tr on tokens per min. Limit: 10000 / min. Please try again in 6ms. Contact us through our help center at help.openai.com if you continue to have issues.. Retrying... (1)\n",
      "Rate limit error: Rate limit reached for 10KTPM-200RPM in organization org-Y2tKyCPFO6tIjtCtOVZ7c9tr on tokens per min. Limit: 10000 / min. Please try again in 6ms. Contact us through our help center at help.openai.com if you continue to have issues.. Retrying... (1)\n",
      "Rate limit error: Rate limit reached for 10KTPM-200RPM in organization org-Y2tKyCPFO6tIjtCtOVZ7c9tr on tokens per min. Limit: 10000 / min. Please try again in 6ms. Contact us through our help center at help.openai.com if you continue to have issues.. Retrying... (1)\n",
      "Rate limit error: Rate limit reached for 10KTPM-200RPM in organization org-Y2tKyCPFO6tIjtCtOVZ7c9tr on tokens per min. Limit: 10000 / min. Please try again in 6ms. Contact us through our help center at help.openai.com if you continue to have issues.. Retrying... (1)\n",
      "Rate limit error: Rate limit reached for 10KTPM-200RPM in organization org-Y2tKyCPFO6tIjtCtOVZ7c9tr on tokens per min. Limit: 10000 / min. Please try again in 6ms. Contact us through our help center at help.openai.com if you continue to have issues.. Retrying... (1)\n",
      "Rate limit error: Rate limit reached for 10KTPM-200RPM in organization org-Y2tKyCPFO6tIjtCtOVZ7c9tr on tokens per min. Limit: 10000 / min. Please try again in 6ms. Contact us through our help center at help.openai.com if you continue to have issues.. Retrying... (1)\n",
      "Rate limit error: Rate limit reached for 10KTPM-200RPM in organization org-Y2tKyCPFO6tIjtCtOVZ7c9tr on tokens per min. Limit: 10000 / min. Please try again in 6ms. Contact us through our help center at help.openai.com if you continue to have issues.. Retrying... (1)\n",
      "Rate limit error: Rate limit reached for 10KTPM-200RPM in organization org-Y2tKyCPFO6tIjtCtOVZ7c9tr on tokens per min. Limit: 10000 / min. Please try again in 6ms. Contact us through our help center at help.openai.com if you continue to have issues.. Retrying... (1)\n",
      "Rate limit error: Rate limit reached for 10KTPM-200RPM in organization org-Y2tKyCPFO6tIjtCtOVZ7c9tr on tokens per min. Limit: 10000 / min. Please try again in 6ms. Contact us through our help center at help.openai.com if you continue to have issues.. Retrying... (1)\n",
      "Rate limit error: Rate limit reached for 10KTPM-200RPM in organization org-Y2tKyCPFO6tIjtCtOVZ7c9tr on tokens per min. Limit: 10000 / min. Please try again in 6ms. Contact us through our help center at help.openai.com if you continue to have issues.. Retrying... (1)\n",
      "Rate limit error: Rate limit reached for 10KTPM-200RPM in organization org-Y2tKyCPFO6tIjtCtOVZ7c9tr on tokens per min. Limit: 10000 / min. Please try again in 6ms. Contact us through our help center at help.openai.com if you continue to have issues.. Retrying... (1)\n",
      "Rate limit error: Rate limit reached for 10KTPM-200RPM in organization org-Y2tKyCPFO6tIjtCtOVZ7c9tr on tokens per min. Limit: 10000 / min. Please try again in 6ms. Contact us through our help center at help.openai.com if you continue to have issues.. Retrying... (1)\n",
      "Rate limit error: Rate limit reached for 10KTPM-200RPM in organization org-Y2tKyCPFO6tIjtCtOVZ7c9tr on tokens per min. Limit: 10000 / min. Please try again in 6ms. Contact us through our help center at help.openai.com if you continue to have issues.. Retrying... (1)\n",
      "Rate limit error: Rate limit reached for 10KTPM-200RPM in organization org-Y2tKyCPFO6tIjtCtOVZ7c9tr on tokens per min. Limit: 10000 / min. Please try again in 6ms. Contact us through our help center at help.openai.com if you continue to have issues.. Retrying... (1)\n",
      "Rate limit error: Rate limit reached for 10KTPM-200RPM in organization org-Y2tKyCPFO6tIjtCtOVZ7c9tr on tokens per min. Limit: 10000 / min. Please try again in 6ms. Contact us through our help center at help.openai.com if you continue to have issues.. Retrying... (1)\n",
      "Rate limit error: Rate limit reached for 10KTPM-200RPM in organization org-Y2tKyCPFO6tIjtCtOVZ7c9tr on tokens per min. Limit: 10000 / min. Please try again in 6ms. Contact us through our help center at help.openai.com if you continue to have issues.. Retrying... (1)\n",
      "Rate limit error: Rate limit reached for 10KTPM-200RPM in organization org-Y2tKyCPFO6tIjtCtOVZ7c9tr on tokens per min. Limit: 10000 / min. Please try again in 6ms. Contact us through our help center at help.openai.com if you continue to have issues.. Retrying... (1)\n",
      "Rate limit error: Rate limit reached for 10KTPM-200RPM in organization org-Y2tKyCPFO6tIjtCtOVZ7c9tr on tokens per min. Limit: 10000 / min. Please try again in 6ms. Contact us through our help center at help.openai.com if you continue to have issues.. Retrying... (1)\n"
     ]
    }
   ],
   "source": [
    "evaluator = OpenAIChatEvaluator(api_key_path=api_key_path,\n",
    "                                json_file_path=json_path, \n",
    "                                keys_to_consider=keys_to_consider,\n",
    "                                question_type=article_type,\n",
    "                                question=question,\n",
    "                                test_mode=test_mode)\n",
    "answers = evaluator.evaluate_all_files()\n",
    "evaluator.save_to_json(answers)"
   ]
  },
  {
   "cell_type": "markdown",
   "metadata": {},
   "source": [
    "04 - Convert results to a CSV"
   ]
  },
  {
   "cell_type": "code",
   "execution_count": null,
   "metadata": {},
   "outputs": [],
   "source": [
    "import numpy as np\n",
    "\n",
    "#Map responses to data\n",
    "# Define a dictionary to map keywords in order or priority to values\n",
    "keyword_mapping = {\n",
    "    0: [\"poor\", \"bad\", \"negative\", \"n\", \"no\"],\n",
    "    1: [\"good\", \"excellent\", \"positive\", \"y\", \"yes\"]\n",
    "}\n"
   ]
  },
  {
   "cell_type": "code",
   "execution_count": null,
   "metadata": {},
   "outputs": [],
   "source": [
    "json_path = r'//Users/cu135/Library/CloudStorage/OneDrive-Personal/OneDrive_Documents/Work/Software/Research/nimlab/gpt_document_reader/amnesia_cases/ocr/keyword_matching_labeled_text/text_evaluations/research_evaluations.json'"
   ]
  },
  {
   "cell_type": "code",
   "execution_count": null,
   "metadata": {},
   "outputs": [
    {
     "name": "stdout",
     "output_type": "stream",
     "text": [
      "                                                    Do you think this is reasonably free of selection bias? For example, a case series is free of bias. (Y/N).  \\\n",
      "Mosimann et al. - 2012 - Fornix infarction and ...                                                  0                                                            \n",
      "\n",
      "                                                    Do you think the history of presenting illness was reasonably described? For example, describing a patient's symptoms and circumstances of presentation are acceptable. (Y/N)  \\\n",
      "Mosimann et al. - 2012 - Fornix infarction and ...                                                  0                                                                                                                               \n",
      "\n",
      "                                                    Prioritizing implicit information, do you think diagnostic diagnostic tests relevant to the diagnosis had been completed to consolidate the diagnosis? Specific details are not necessary. For example, vascular imaging in a stroke is a reasonable workup. (Y/N).  \\\n",
      "Mosimann et al. - 2012 - Fornix infarction and ...                                                  1                                                                                                                                                                                                                     \n",
      "\n",
      "                                                    Do you think the symptom is reasonably attributable to the lesion? For example, a stroke and subsequent amnesia is highly attributable. If the word acute is used, this is a yes. (Y/N)  \\\n",
      "Mosimann et al. - 2012 - Fornix infarction and ...                                                  1                                                                                                                                         \n",
      "\n",
      "                                                    Do you think the extended patient history was well described? For example, diabetes in pas medical history, family history of strokes, or note of medications. (Y/N)  \\\n",
      "Mosimann et al. - 2012 - Fornix infarction and ...                                                  0                                                                                                                      \n",
      "\n",
      "                                                    Considering both explicit mentions and contextual clues like ordered presnetaiton of history to symptoms to workup, can you infer whether the history was presented as a timeline? For example, a description of acute neurological deficit to imaging findings to symptoms is acceptable. (Y/N)  \\\n",
      "Mosimann et al. - 2012 - Fornix infarction and ...                                                  0                                                                                                                                                                                                                                                  \n",
      "\n",
      "                                                    Prioritizing implicit contextual cues, can you infer if the neuroimaging may have been taken around the time of symptom or lesion onset? If neuroimaging is mentioned in close proximity to the description of symptoms, assume they are temporally related. (Y/N)  \\\n",
      "Mosimann et al. - 2012 - Fornix infarction and ...                                                  1                                                                                                                                                                                                                    \n",
      "\n",
      "                                                    Do you think the case has sufficient details to allow another doctor to make their own inferences? Specifics are not necessary so long as the critical information is present. For example, if the history and pertinent diagnostic information provided, this is acceptable. (Y/N)  \\\n",
      "Mosimann et al. - 2012 - Fornix infarction and ...                                                  1                                                                                                                                                                                                                                     \n",
      "\n",
      "                                                    Is the case report suitable for lesion network mapping? For example, a case describing symptoms and related neuroimaging related to symptoms is sufficient. (Y/N)  \n",
      "Mosimann et al. - 2012 - Fornix infarction and ...                                                  1                                                                                                                  \n"
     ]
    }
   ],
   "source": [
    "from calvin_utils.gpt_sys_review.json_utils import CustomSummarizer\n",
    "\n",
    "# Create an instance of CustomSummarizer\n",
    "custom_summarizer = CustomSummarizer(json_path=json_path, keyword_mapping=keyword_mapping)\n",
    "\n",
    "# Run the custom summarization and save the results to CSV\n",
    "result_df = custom_summarizer.run_custom()\n",
    "\n",
    "# Display the resulting DataFrame\n",
    "print(result_df)"
   ]
  },
  {
   "cell_type": "code",
   "execution_count": null,
   "metadata": {},
   "outputs": [],
   "source": []
  },
  {
   "cell_type": "code",
   "execution_count": null,
   "metadata": {},
   "outputs": [],
   "source": []
  }
 ],
 "metadata": {
  "kernelspec": {
   "display_name": "nimlab_py310",
   "language": "python",
   "name": "python3"
  },
  "language_info": {
   "codemirror_mode": {
    "name": "ipython",
    "version": 3
   },
   "file_extension": ".py",
   "mimetype": "text/x-python",
   "name": "python",
   "nbconvert_exporter": "python",
   "pygments_lexer": "ipython3",
   "version": "3.10.8"
  },
  "orig_nbformat": 4
 },
 "nbformat": 4,
 "nbformat_minor": 2
}
