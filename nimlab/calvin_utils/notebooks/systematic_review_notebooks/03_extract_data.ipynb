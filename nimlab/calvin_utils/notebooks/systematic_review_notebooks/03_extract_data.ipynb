{
 "cells": [
  {
   "cell_type": "markdown",
   "metadata": {},
   "source": [
    "01 - Generate JSON from Post-Inclusion/Exclusion CSV\n",
    "- Enter path to CSV which has successful articles in the index column\n",
    "- Enter path to JSON which has the articles with labeled sections"
   ]
  },
  {
   "cell_type": "code",
   "execution_count": null,
   "metadata": {},
   "outputs": [],
   "source": [
    "csv_path = \"/Users/cu135/Library/CloudStorage/OneDrive-Personal/OneDrive_Documents/Work/Software/Research/nimlab/gpt_document_reader/amnesia_cases/ocr/keyword_matching_labeled_text/text_evaluations/inclusion_exclusion_results/unfiltered_results.csv\"\n",
    "json_path = \"/Users/cu135/Library/CloudStorage/OneDrive-Personal/OneDrive_Documents/Work/Software/Research/nimlab/gpt_document_reader/amnesia_cases/ocr/keyword_matching_labeled_text/labeled_sections.json\""
   ]
  },
  {
   "cell_type": "code",
   "execution_count": null,
   "metadata": {},
   "outputs": [],
   "source": [
    "from calvin_utils.gpt_sys_review.json_utils import FilterPapers\n",
    "\n",
    "# Initialize and run the FilterPapers class\n",
    "filter_papers = FilterPapers(csv_path=csv_path, json_path=json_path)\n",
    "filter_papers.run()"
   ]
  },
  {
   "cell_type": "markdown",
   "metadata": {},
   "source": [
    "02 - Prepare Data Extraction Questions\n",
    "- Dev Note: This is a repeat class and should be inherited from a .py"
   ]
  },
  {
   "cell_type": "code",
   "execution_count": null,
   "metadata": {},
   "outputs": [],
   "source": [
    "from calvin_utils.gpt_sys_review.gpt_utils import QuestionTemplate\n",
    "\n",
    "question_template = QuestionTemplate()\n",
    "question_template.data_extraction_questions()"
   ]
  },
  {
   "cell_type": "markdown",
   "metadata": {},
   "source": [
    "Copy the Template Dict from Above and Fill it Out As per the Example"
   ]
  },
  {
   "cell_type": "code",
   "execution_count": null,
   "metadata": {},
   "outputs": [],
   "source": [
    "question = {\n",
    "    \"How affected is this study by selection bias? Little (Good). Very (Bad). Unsure (Unclear).\": \"selection_bias\",\n",
    "    \"How well was the timeline of lesion/symptom onset described? (Good/Bad/Unclear)\": \"exposure\",\n",
    "    \"How affected is this case by attribution error? Little (Good). Very (Bad). Unsure (Unclear).\": \"outcome\",\n",
    "    \"How reasonable is the attribution of the lesion/diagnosis to the symptom? (Good/Bad/Unclear)\": \"attribution_error\",\n",
    "    \"How well was the patients baseline pre-lesion described? (Good/Bad/Unclear)\": \"pre_event_assessment\",\n",
    "    \"How well was the patients outcome post-lesion described? (Good/Bad/Unclear)\": \"post_event_assessment\",\n",
    "    \"Do you think the neuroimaging was taken within temporal proximity to the lesion? Days-weeks (Good). Months-years (Bad). Unsure (Unclear).\": \"lesion_related-images\",\n",
    "    \"Do you think another practitioner would come to the same conclusion (diagnosis/attribution) that this group did? (Good/Bad/Unclear)\": \"replicability\",\n",
    "    \"How is the quality of this case overall? (Good/Bad/Unclear)\": \"overall_appraisal\"\n",
    "}"
   ]
  },
  {
   "cell_type": "markdown",
   "metadata": {},
   "source": [
    "03 - Extract Data with GPT\n"
   ]
  },
  {
   "cell_type": "code",
   "execution_count": null,
   "metadata": {},
   "outputs": [],
   "source": [
    "# Define file paths\n",
    "api_key_path = \"/Users/cu135/Library/CloudStorage/OneDrive-Personal/OneDrive_Documents/Work/Software/Research/nimlab/openai_key.txt\"\n",
    "\n",
    "# Define the keys you want to consider (exclude 'References')\n",
    "keys_to_consider = [\"Introduction\", \"Methods\", \"Results\", \"Discussion\", \"Conclusion\"]  # Add or remove keys as per your requirement\n",
    "\n",
    "# Define the type of article and questions\n",
    "article_type = \"research\""
   ]
  },
  {
   "cell_type": "code",
   "execution_count": null,
   "metadata": {},
   "outputs": [],
   "source": [
    "from calvin_utils.gpt_sys_review.gpt_utils import OpenAIChatEvaluator"
   ]
  },
  {
   "cell_type": "code",
   "execution_count": null,
   "metadata": {},
   "outputs": [],
   "source": [
    "evaluator = OpenAIChatEvaluator(api_key_path, json_path, keys_to_consider, article_type, question)\n",
    "answers = evaluator.evaluate_all_files()\n",
    "evaluator.save_to_json(answers)"
   ]
  },
  {
   "cell_type": "markdown",
   "metadata": {},
   "source": [
    "04 - Convert results to a CSV"
   ]
  },
  {
   "cell_type": "code",
   "execution_count": 1,
   "metadata": {},
   "outputs": [],
   "source": [
    "import numpy as np\n",
    "\n",
    "#Map responses to data\n",
    "# Define a dictionary to map keywords in order or priority to values\n",
    "keyword_mapping = {\n",
    "    np.nan: [\"unclear\", \"unsure\", \"un\"],\n",
    "    0: [\"poor\", \"bad\", \"negative\"],\n",
    "    1: [\"good\", \"excellent\", \"positive\"]\n",
    "}\n"
   ]
  },
  {
   "cell_type": "code",
   "execution_count": 2,
   "metadata": {},
   "outputs": [],
   "source": [
    "json_path = r'/Users/cu135/Library/CloudStorage/OneDrive-Personal/OneDrive_Documents/Work/Software/Research/nimlab/gpt_document_reader/amnesia_cases/ocr/keyword_matching_labeled_text/text_evaluations/data_extraction_results_strict/research_evaluations.json'"
   ]
  },
  {
   "cell_type": "code",
   "execution_count": 3,
   "metadata": {},
   "outputs": [
    {
     "name": "stderr",
     "output_type": "stream",
     "text": [
      "/Users/cu135/.local/lib/python3.10/site-packages/fuzzywuzzy/fuzz.py:11: UserWarning: Using slow pure-python SequenceMatcher. Install python-Levenshtein to remove this warning\n",
      "  warnings.warn('Using slow pure-python SequenceMatcher. Install python-Levenshtein to remove this warning')\n"
     ]
    },
    {
     "name": "stdout",
     "output_type": "stream",
     "text": [
      "                                                    Does the patient(s) represent(s) the whole experience of the investigator (center) or is the selection method unclear to the extent that other patients with similar presentation may not have been reported? (Good/Bad/Unclear)  \\\n",
      "Mosimann et al. - 2012 - Fornix infarction and ...                                                NaN                                                                                                                                                                                  \n",
      "Parkin - IMPAIRMENT OF MEMORY FOLLOWING DISCRET...                                                NaN                                                                                                                                                                                  \n",
      "Amnesia after right frontal subcortical lesion,...                                                NaN                                                                                                                                                                                  \n",
      "Yasuda et al. - DISSOCIATION BETWEEN SEMANTIC A...                                                NaN                                                                                                                                                                                  \n",
      "Kapur et al. - 1996 - Anterograde but not retro...                                                NaN                                                                                                                                                                                  \n",
      "...                                                                                               ...                                                                                                                                                                                  \n",
      "Schnider et al. - 1992 - Dissociation of Color ...                                                NaN                                                                                                                                                                                  \n",
      "Abe et al. - 1998 - Amnesia after a discrete ba...                                                NaN                                                                                                                                                                                  \n",
      "Coffey - 1989 - Hypothalamic and basal forebrai...                                                NaN                                                                                                                                                                                  \n",
      "Poreh et al. - 2006 - Anterograde and retrograd...                                                NaN                                                                                                                                                                                  \n",
      "Koll et al. - 2020 - Acute amnestic syndrome wi...                                                NaN                                                                                                                                                                                  \n",
      "\n",
      "                                                   Was patients causal exposure clearly described? (Good/Bad/Unclear)  \\\n",
      "Mosimann et al. - 2012 - Fornix infarction and ...                                                NaN                   \n",
      "Parkin - IMPAIRMENT OF MEMORY FOLLOWING DISCRET...                                                NaN                   \n",
      "Amnesia after right frontal subcortical lesion,...                                                NaN                   \n",
      "Yasuda et al. - DISSOCIATION BETWEEN SEMANTIC A...                                                  1                   \n",
      "Kapur et al. - 1996 - Anterograde but not retro...                                                  0                   \n",
      "...                                                                                               ...                   \n",
      "Schnider et al. - 1992 - Dissociation of Color ...                                                NaN                   \n",
      "Abe et al. - 1998 - Amnesia after a discrete ba...                                                NaN                   \n",
      "Coffey - 1989 - Hypothalamic and basal forebrai...                                                NaN                   \n",
      "Poreh et al. - 2006 - Anterograde and retrograd...                                                NaN                   \n",
      "Koll et al. - 2020 - Acute amnestic syndrome wi...                                                  1                   \n",
      "\n",
      "                                                    Were diagnostic tests or assessment methods and the results clearly described (amnesia tests)? (Good/Bad/Unclear)  \\\n",
      "Mosimann et al. - 2012 - Fornix infarction and ...                                                NaN                                                                   \n",
      "Parkin - IMPAIRMENT OF MEMORY FOLLOWING DISCRET...                                                1.0                                                                   \n",
      "Amnesia after right frontal subcortical lesion,...                                                NaN                                                                   \n",
      "Yasuda et al. - DISSOCIATION BETWEEN SEMANTIC A...                                                1.0                                                                   \n",
      "Kapur et al. - 1996 - Anterograde but not retro...                                                2.0                                                                   \n",
      "...                                                                                               ...                                                                   \n",
      "Schnider et al. - 1992 - Dissociation of Color ...                                                1.0                                                                   \n",
      "Abe et al. - 1998 - Amnesia after a discrete ba...                                                NaN                                                                   \n",
      "Coffey - 1989 - Hypothalamic and basal forebrai...                                                1.0                                                                   \n",
      "Poreh et al. - 2006 - Anterograde and retrograd...                                                1.0                                                                   \n",
      "Koll et al. - 2020 - Acute amnestic syndrome wi...                                                NaN                                                                   \n",
      "\n",
      "                                                    Were other alternative causes that may explain the observation (amnesia) ruled out? (Good/Bad/Unclear)  \\\n",
      "Mosimann et al. - 2012 - Fornix infarction and ...                                                NaN                                                        \n",
      "Parkin - IMPAIRMENT OF MEMORY FOLLOWING DISCRET...                                                NaN                                                        \n",
      "Amnesia after right frontal subcortical lesion,...                                                NaN                                                        \n",
      "Yasuda et al. - DISSOCIATION BETWEEN SEMANTIC A...                                                NaN                                                        \n",
      "Kapur et al. - 1996 - Anterograde but not retro...                                                0.0                                                        \n",
      "...                                                                                               ...                                                        \n",
      "Schnider et al. - 1992 - Dissociation of Color ...                                                NaN                                                        \n",
      "Abe et al. - 1998 - Amnesia after a discrete ba...                                                NaN                                                        \n",
      "Coffey - 1989 - Hypothalamic and basal forebrai...                                                NaN                                                        \n",
      "Poreh et al. - 2006 - Anterograde and retrograd...                                                NaN                                                        \n",
      "Koll et al. - 2020 - Acute amnestic syndrome wi...                                                NaN                                                        \n",
      "\n",
      "                                                    Were patients demographics, medical history, comobidities clearly described? (Good/Bad/Unclear)  \\\n",
      "Mosimann et al. - 2012 - Fornix infarction and ...                                                NaN                                                 \n",
      "Parkin - IMPAIRMENT OF MEMORY FOLLOWING DISCRET...                                                NaN                                                 \n",
      "Amnesia after right frontal subcortical lesion,...                                                NaN                                                 \n",
      "Yasuda et al. - DISSOCIATION BETWEEN SEMANTIC A...                                                1.0                                                 \n",
      "Kapur et al. - 1996 - Anterograde but not retro...                                                1.0                                                 \n",
      "...                                                                                               ...                                                 \n",
      "Schnider et al. - 1992 - Dissociation of Color ...                                                NaN                                                 \n",
      "Abe et al. - 1998 - Amnesia after a discrete ba...                                                NaN                                                 \n",
      "Coffey - 1989 - Hypothalamic and basal forebrai...                                                NaN                                                 \n",
      "Poreh et al. - 2006 - Anterograde and retrograd...                                                NaN                                                 \n",
      "Koll et al. - 2020 - Acute amnestic syndrome wi...                                                1.0                                                 \n",
      "\n",
      "                                                   Were patients symptoms, interventions, and clinical outcomes clearly presented as a timeline? (Good/Bad/Unclear)  \\\n",
      "Mosimann et al. - 2012 - Fornix infarction and ...                                                NaN                                                                 \n",
      "Parkin - IMPAIRMENT OF MEMORY FOLLOWING DISCRET...                                                NaN                                                                 \n",
      "Amnesia after right frontal subcortical lesion,...                                                NaN                                                                 \n",
      "Yasuda et al. - DISSOCIATION BETWEEN SEMANTIC A...                                                NaN                                                                 \n",
      "Kapur et al. - 1996 - Anterograde but not retro...                                                NaN                                                                 \n",
      "...                                                                                               ...                                                                 \n",
      "Schnider et al. - 1992 - Dissociation of Color ...                                                NaN                                                                 \n",
      "Abe et al. - 1998 - Amnesia after a discrete ba...                                                  1                                                                 \n",
      "Coffey - 1989 - Hypothalamic and basal forebrai...                                                NaN                                                                 \n",
      "Poreh et al. - 2006 - Anterograde and retrograd...                                                NaN                                                                 \n",
      "Koll et al. - 2020 - Acute amnestic syndrome wi...                                                  1                                                                 \n",
      "\n",
      "                                                    Was the lesion image taken around the time of observation (amnesia) assessment? (Good/Bad/Unclear)  \\\n",
      "Mosimann et al. - 2012 - Fornix infarction and ...                                                NaN                                                    \n",
      "Parkin - IMPAIRMENT OF MEMORY FOLLOWING DISCRET...                                                NaN                                                    \n",
      "Amnesia after right frontal subcortical lesion,...                                                1.0                                                    \n",
      "Yasuda et al. - DISSOCIATION BETWEEN SEMANTIC A...                                                1.0                                                    \n",
      "Kapur et al. - 1996 - Anterograde but not retro...                                                2.0                                                    \n",
      "...                                                                                               ...                                                    \n",
      "Schnider et al. - 1992 - Dissociation of Color ...                                                NaN                                                    \n",
      "Abe et al. - 1998 - Amnesia after a discrete ba...                                                1.0                                                    \n",
      "Coffey - 1989 - Hypothalamic and basal forebrai...                                                1.0                                                    \n",
      "Poreh et al. - 2006 - Anterograde and retrograd...                                                1.0                                                    \n",
      "Koll et al. - 2020 - Acute amnestic syndrome wi...                                                1.0                                                    \n",
      "\n",
      "                                                    Is the case(s) described with sufficient details to allow other investigators to replicate the research or to allow practitioners make inferences related to their own practice? (Good/Bad/Unclear)  \n",
      "Mosimann et al. - 2012 - Fornix infarction and ...                                                NaN                                                                                                                                                    \n",
      "Parkin - IMPAIRMENT OF MEMORY FOLLOWING DISCRET...                                                NaN                                                                                                                                                    \n",
      "Amnesia after right frontal subcortical lesion,...                                                NaN                                                                                                                                                    \n",
      "Yasuda et al. - DISSOCIATION BETWEEN SEMANTIC A...                                                NaN                                                                                                                                                    \n",
      "Kapur et al. - 1996 - Anterograde but not retro...                                                NaN                                                                                                                                                    \n",
      "...                                                                                               ...                                                                                                                                                    \n",
      "Schnider et al. - 1992 - Dissociation of Color ...                                                NaN                                                                                                                                                    \n",
      "Abe et al. - 1998 - Amnesia after a discrete ba...                                                NaN                                                                                                                                                    \n",
      "Coffey - 1989 - Hypothalamic and basal forebrai...                                                NaN                                                                                                                                                    \n",
      "Poreh et al. - 2006 - Anterograde and retrograd...                                                NaN                                                                                                                                                    \n",
      "Koll et al. - 2020 - Acute amnestic syndrome wi...                                                NaN                                                                                                                                                    \n",
      "\n",
      "[107 rows x 8 columns]\n"
     ]
    }
   ],
   "source": [
    "from calvin_utils.gpt_sys_review.json_utils import CustomSummarizer\n",
    "\n",
    "# Create an instance of CustomSummarizer\n",
    "custom_summarizer = CustomSummarizer(json_path=json_path, keyword_mapping=keyword_mapping)\n",
    "\n",
    "# Run the custom summarization and save the results to CSV\n",
    "result_df = custom_summarizer.run_custom()\n",
    "\n",
    "# Display the resulting DataFrame\n",
    "print(result_df)"
   ]
  },
  {
   "cell_type": "code",
   "execution_count": null,
   "metadata": {},
   "outputs": [],
   "source": []
  },
  {
   "cell_type": "code",
   "execution_count": null,
   "metadata": {},
   "outputs": [],
   "source": []
  }
 ],
 "metadata": {
  "kernelspec": {
   "display_name": "nimlab_py310",
   "language": "python",
   "name": "python3"
  },
  "language_info": {
   "codemirror_mode": {
    "name": "ipython",
    "version": 3
   },
   "file_extension": ".py",
   "mimetype": "text/x-python",
   "name": "python",
   "nbconvert_exporter": "python",
   "pygments_lexer": "ipython3",
   "version": "3.10.8"
  },
  "orig_nbformat": 4
 },
 "nbformat": 4,
 "nbformat_minor": 2
}
