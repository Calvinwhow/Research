{
 "cells": [
  {
   "cell_type": "code",
   "execution_count": null,
   "metadata": {},
   "outputs": [],
   "source": [
    "import openai\n",
    "import pandas as pd"
   ]
  },
  {
   "cell_type": "markdown",
   "metadata": {},
   "source": [
    "Define Your OpenAI Key"
   ]
  },
  {
   "cell_type": "code",
   "execution_count": null,
   "metadata": {},
   "outputs": [],
   "source": [
    "openai_key_path = '/Users/cu135/Library/CloudStorage/OneDrive-Personal/OneDrive_Documents/Work/Software/Research/nimlab/openai_key.txt'"
   ]
  },
  {
   "cell_type": "markdown",
   "metadata": {},
   "source": [
    "01 - Organize Abstracts"
   ]
  },
  {
   "cell_type": "code",
   "execution_count": null,
   "metadata": {},
   "outputs": [],
   "source": [
    "import openai\n",
    "import pandas as pd\n",
    "\n",
    "class TitleScreenAPIRevised:\n",
    "    def __init__(self, api_key, csv_path):\n",
    "        openai.api_key = api_key\n",
    "        self.df = pd.read_csv(csv_path)\n",
    "    \n",
    "    def basic_word_screen(self, inclusion_keywords, exclusion_keywords):\n",
    "        \"\"\"\n",
    "        Screen based on the presence of specific keywords in the title.\n",
    "        \"\"\"\n",
    "        include_mask = self.df[\"Title\"].str.contains('|'.join(inclusion_keywords), case=False, na=False)\n",
    "        exclude_mask = self.df[\"Title\"].str.contains('|'.join(exclusion_keywords), case=False, na=False)\n",
    "        \n",
    "        # Combine the masks: we want to include titles that have inclusion keywords and don't have exclusion keywords\n",
    "        self.df[\"Basic_Word_Screen\"] = (include_mask & ~exclude_mask).astype(int)\n",
    "    \n",
    "    def language_model_screen(self):\n",
    "        \"\"\"\n",
    "        Screen titles using a basic language model approach.\n",
    "        \"\"\"\n",
    "        keywords = [\"focal\", \"lesion\", \"brain\", \"death\", \"case\"]\n",
    "        self.df[\"Language_Model_Screen\"] = self.df[\"Title\"].apply(lambda title: int(any(word in title.lower() for word in keywords)))\n",
    "    \n",
    "    def evaluate_with_openai(self, title, question):\n",
    "        \"\"\"\n",
    "        Use OpenAI GPT to evaluate the title based on a posed question.\n",
    "        \"\"\"\n",
    "        prompt = f\"Title: {title}\\n{question}\\n\\nResponse (0 for No, 1 for Yes):\"\n",
    "        response = openai.Completion.create(engine=\"davinci\", prompt=prompt, max_tokens=10)\n",
    "        decision_text = response.choices[0].text.strip()\n",
    "        decision = 1 if \"1\" in decision_text else 0\n",
    "        return decision\n",
    "    \n",
    "    def openai_screen(self, question):\n",
    "        \"\"\"\n",
    "        Screen titles using OpenAI GPT based on a posed question.\n",
    "        \"\"\"\n",
    "        self.df[\"OpenAI_Screen\"] = self.df[\"Title\"].apply(lambda title: self.evaluate_with_openai(title, question))\n",
    "    \n",
    "    def to_csv(self, output_path):\n",
    "        \"\"\"\n",
    "        Save the dataframe with the screening results to a CSV.\n",
    "        \"\"\"\n",
    "        self.df.to_csv(output_path, index=False)\n",
    "\n",
    "# Example usage (commented out for reference):\n",
    "# screener = TitleScreenAPIRevised(\"YOUR_OPENAI_API_KEY\", \"/path/to/your/csvfile.csv\")\n",
    "# screener.basic_word_screen([\"focal\", \"lesion\", \"case\"], [\"review\", \"overview\"])\n",
    "# screener.language_model_screen()\n",
    "# question = \"Do you think this article has at least one case with a focal brain lesion causing brain death?\"\n",
    "# screener.openai_screen(question)\n",
    "# screener.to_csv(\"/path/to/save/screened_csvfile.csv\")\n",
    "\n",
    "\n"
   ]
  }
 ],
 "metadata": {
  "language_info": {
   "name": "python"
  },
  "orig_nbformat": 4
 },
 "nbformat": 4,
 "nbformat_minor": 2
}
