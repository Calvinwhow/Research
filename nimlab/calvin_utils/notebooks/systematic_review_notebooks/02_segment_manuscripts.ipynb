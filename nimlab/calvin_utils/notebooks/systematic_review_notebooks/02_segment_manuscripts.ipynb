{
 "cells": [
  {
   "cell_type": "markdown",
   "metadata": {},
   "source": [
    "01 - Convert PDFs to Text\n",
    "\n",
    "Define pdf_dir - this is the absolute path to the directory with all PDF files you want evaluated\n",
    "\n",
    "Define output_dir - this is the absolute path to the directory to output all the preprocessed PDF files"
   ]
  },
  {
   "cell_type": "code",
   "execution_count": 4,
   "metadata": {},
   "outputs": [],
   "source": [
    "pdf_dir = r'/Users/cu135/Library/CloudStorage/OneDrive-Personal/OneDrive_Documents/Work/Software/Research/nimlab/gpt_document_reader/amnesia_cases/papers_enrolled'\n",
    "output_dir = r\"/Users/cu135/Library/CloudStorage/OneDrive-Personal/OneDrive_Documents/Work/Software/Research/nimlab/gpt_document_reader/amnesia_cases/ocr\""
   ]
  },
  {
   "cell_type": "markdown",
   "metadata": {},
   "source": [
    "**Preprocess Using Text Extraction**"
   ]
  },
  {
   "cell_type": "markdown",
   "metadata": {},
   "source": [
    "Option A) Preprocess the PDF files with Texttractor (Fast, less generalizable)"
   ]
  },
  {
   "cell_type": "code",
   "execution_count": null,
   "metadata": {},
   "outputs": [],
   "source": [
    "from calvin_utils.gpt_sys_review.pdf_utils import PDFTextExtractor\n",
    "pdf_extractor = PDFTextExtractor()\n",
    "pdf_extractor.extract_text_from_pdf_dir(pdf_dir, output_dir)"
   ]
  },
  {
   "cell_type": "markdown",
   "metadata": {},
   "source": [
    "Option B) Prepropcess PDF Files with OCR (Slow, generalizable)"
   ]
  },
  {
   "cell_type": "code",
   "execution_count": null,
   "metadata": {},
   "outputs": [],
   "source": [
    "from calvin_utils.gpt_sys_review.pdf_utils import OCROperator\n",
    "OCROperator.extract_text_from_pdf_dir(pdf_dir, output_dir)"
   ]
  },
  {
   "cell_type": "markdown",
   "metadata": {},
   "source": [
    "02 - Preprocess the Extracted Text"
   ]
  },
  {
   "cell_type": "code",
   "execution_count": null,
   "metadata": {},
   "outputs": [],
   "source": [
    "from calvin_utils.gpt_sys_review.txt_utils import TextPreprocessor\n",
    "# Initialize the TextPreprocessor class and preprocess the files\n",
    "preprocessor = TextPreprocessor(output_dir)\n",
    "preprocessor.process_files()"
   ]
  },
  {
   "cell_type": "markdown",
   "metadata": {},
   "source": [
    "03 - Label Text Sections"
   ]
  },
  {
   "cell_type": "code",
   "execution_count": 9,
   "metadata": {},
   "outputs": [],
   "source": [
    "# Define input and output directory paths\n",
    "article_type = \"case\" \n",
    "api_key_path = \"/Users/cu135/Library/CloudStorage/OneDrive-Personal/OneDrive_Documents/Work/Software/Research/nimlab/openai_key.txt\""
   ]
  },
  {
   "cell_type": "code",
   "execution_count": 11,
   "metadata": {},
   "outputs": [
    {
     "name": "stderr",
     "output_type": "stream",
     "text": [
      "100%|██████████| 1/1 [00:04<00:00,  4.26s/it]\n",
      "100%|██████████| 1/1 [00:10<00:00, 10.52s/it]t]\n",
      "100%|██████████| 1/1 [00:05<00:00,  5.80s/it]t]\n",
      "100%|██████████| 1/1 [00:15<00:00, 15.92s/it]t]\n",
      "100%|██████████| 1/1 [00:10<00:00, 10.87s/it]t]\n",
      "100%|██████████| 1/1 [00:11<00:00, 11.75s/it]t]\n",
      "100%|██████████| 1/1 [00:04<00:00,  4.50s/it]t]\n",
      "100%|██████████| 1/1 [00:12<00:00, 12.05s/it]t]\n",
      "100%|██████████| 1/1 [00:31<00:00, 31.70s/it]t]\n",
      "100%|██████████| 1/1 [00:11<00:00, 11.88s/it]t]\n",
      "100%|██████████| 1/1 [00:09<00:00,  9.24s/it]it]\n",
      "100%|██████████| 1/1 [00:07<00:00,  7.38s/it]it]\n",
      "100%|██████████| 1/1 [00:07<00:00,  7.40s/it]it]\n",
      "100%|██████████| 1/1 [00:07<00:00,  7.34s/it]it]\n",
      " 13%|█▎        | 14/108 [02:30<14:46,  9.43s/it]"
     ]
    },
    {
     "name": "stdout",
     "output_type": "stream",
     "text": [
      "An error occurred while getting response from OpenAI: The server is overloaded or not ready yet.\n",
      "An error occurred: cannot unpack non-iterable NoneType object. Retrying Question No. 0 Attempt:(1)\n"
     ]
    },
    {
     "name": "stderr",
     "output_type": "stream",
     "text": [
      "100%|██████████| 1/1 [00:22<00:00, 22.77s/it]\n",
      "100%|██████████| 1/1 [00:00<00:00,  1.25it/s]it]\n",
      "100%|██████████| 1/1 [00:29<00:00, 29.20s/it]it]\n",
      " 17%|█▋        | 18/108 [03:23<20:20, 13.56s/it]"
     ]
    },
    {
     "name": "stdout",
     "output_type": "stream",
     "text": [
      "An error occurred while getting response from OpenAI: Request timed out: HTTPSConnectionPool(host='api.openai.com', port=443): Read timed out. (read timeout=600)\n",
      "An error occurred: cannot unpack non-iterable NoneType object. Retrying Question No. 0 Attempt:(1)\n"
     ]
    },
    {
     "name": "stderr",
     "output_type": "stream",
     "text": [
      "100%|██████████| 1/1 [10:38<00:00, 638.79s/it]\n",
      "100%|██████████| 1/1 [00:06<00:00,  6.50s/it]8s/it]\n",
      "100%|██████████| 1/1 [00:08<00:00,  8.61s/it]9s/it]\n",
      "100%|██████████| 1/1 [00:07<00:00,  7.26s/it]s/it] \n",
      "100%|██████████| 1/1 [00:05<00:00,  5.50s/it]s/it]\n",
      "100%|██████████| 1/1 [00:02<00:00,  2.37s/it]s/it]\n",
      "100%|██████████| 1/1 [00:11<00:00, 11.34s/it]it]  \n",
      "100%|██████████| 1/1 [00:10<00:00, 10.23s/it]it]\n",
      "100%|██████████| 1/1 [00:19<00:00, 19.99s/it]it]\n",
      "100%|██████████| 1/1 [00:20<00:00, 20.47s/it]it]\n",
      "100%|██████████| 1/1 [00:07<00:00,  7.26s/it]it]\n",
      "100%|██████████| 1/1 [00:04<00:00,  4.33s/it]it]\n",
      "100%|██████████| 1/1 [00:22<00:00, 22.69s/it]it]\n",
      "100%|██████████| 1/1 [00:26<00:00, 26.33s/it]it]\n",
      "100%|██████████| 1/1 [00:04<00:00,  4.37s/it]it]\n",
      " 31%|███       | 33/108 [16:40<18:39, 14.92s/it]"
     ]
    },
    {
     "name": "stdout",
     "output_type": "stream",
     "text": [
      "An error occurred while getting response from OpenAI: The server is overloaded or not ready yet.\n",
      "An error occurred: cannot unpack non-iterable NoneType object. Retrying Question No. 0 Attempt:(1)\n"
     ]
    },
    {
     "name": "stderr",
     "output_type": "stream",
     "text": [
      "100%|██████████| 1/1 [00:24<00:00, 24.43s/it]\n",
      "100%|██████████| 1/1 [00:02<00:00,  2.68s/it]it]\n",
      " 32%|███▏      | 35/108 [17:07<16:09, 13.28s/it]"
     ]
    },
    {
     "name": "stdout",
     "output_type": "stream",
     "text": [
      "An error occurred while getting response from OpenAI: Request timed out: HTTPSConnectionPool(host='api.openai.com', port=443): Read timed out. (read timeout=600)\n",
      "An error occurred: cannot unpack non-iterable NoneType object. Retrying Question No. 0 Attempt:(1)\n"
     ]
    },
    {
     "name": "stderr",
     "output_type": "stream",
     "text": [
      "100%|██████████| 1/1 [10:17<00:00, 617.34s/it]\n",
      "100%|██████████| 1/1 [00:03<00:00,  3.27s/it]6s/it]\n",
      "100%|██████████| 1/1 [00:03<00:00,  3.22s/it]1s/it]\n",
      " 35%|███▌      | 38/108 [27:31<1:53:08, 96.98s/it] "
     ]
    },
    {
     "name": "stdout",
     "output_type": "stream",
     "text": [
      "An error occurred while getting response from OpenAI: The server is overloaded or not ready yet.\n",
      "An error occurred: cannot unpack non-iterable NoneType object. Retrying Question No. 0 Attempt:(1)\n"
     ]
    },
    {
     "name": "stderr",
     "output_type": "stream",
     "text": [
      "100%|██████████| 1/1 [00:21<00:00, 21.28s/it]\n",
      "100%|██████████| 1/1 [00:06<00:00,  6.20s/it]s/it]\n",
      "100%|██████████| 1/1 [00:04<00:00,  4.65s/it]s/it]\n",
      "100%|██████████| 1/1 [00:13<00:00, 13.15s/it]it]  \n",
      "100%|██████████| 1/1 [00:20<00:00, 20.44s/it]it]\n",
      "100%|██████████| 1/1 [00:18<00:00, 18.49s/it]it]\n",
      "100%|██████████| 1/1 [00:10<00:00, 10.80s/it]it]\n",
      "100%|██████████| 1/1 [00:05<00:00,  5.14s/it]it]\n",
      "100%|██████████| 1/1 [00:10<00:00, 10.90s/it]it]\n",
      "100%|██████████| 1/1 [00:33<00:00, 33.09s/it]it]\n",
      "100%|██████████| 1/1 [00:05<00:00,  5.75s/it]it]\n",
      "100%|██████████| 1/1 [00:14<00:00, 14.64s/it]it]\n",
      "100%|██████████| 1/1 [00:11<00:00, 11.25s/it]it]\n",
      "100%|██████████| 1/1 [00:16<00:00, 16.37s/it]it]\n",
      "100%|██████████| 1/1 [00:07<00:00,  7.03s/it]it]\n",
      "100%|██████████| 1/1 [00:12<00:00, 12.61s/it]it]\n",
      "100%|██████████| 1/1 [00:31<00:00, 31.54s/it]it]\n",
      "100%|██████████| 1/1 [00:06<00:00,  6.36s/it]it]\n",
      "100%|██████████| 1/1 [00:13<00:00, 13.55s/it]it]\n",
      " 53%|█████▎    | 57/108 [31:55<12:12, 14.37s/it]"
     ]
    },
    {
     "name": "stdout",
     "output_type": "stream",
     "text": [
      "An error occurred while getting response from OpenAI: The server is overloaded or not ready yet.\n",
      "An error occurred: cannot unpack non-iterable NoneType object. Retrying Question No. 0 Attempt:(1)\n"
     ]
    },
    {
     "name": "stderr",
     "output_type": "stream",
     "text": [
      "100%|██████████| 1/1 [00:14<00:00, 14.80s/it]\n",
      "100%|██████████| 1/1 [00:08<00:00,  8.87s/it]it]\n",
      "100%|██████████| 1/1 [00:05<00:00,  5.91s/it]it]\n",
      "100%|██████████| 1/1 [00:28<00:00, 28.69s/it]it]\n",
      "100%|██████████| 1/1 [00:12<00:00, 12.65s/it]it]\n",
      "100%|██████████| 1/1 [00:06<00:00,  6.25s/it]it]\n",
      "100%|██████████| 1/1 [00:09<00:00,  9.72s/it]it]\n",
      "100%|██████████| 1/1 [00:08<00:00,  8.80s/it]it]\n",
      "100%|██████████| 1/1 [00:15<00:00, 15.53s/it]it]\n",
      "100%|██████████| 1/1 [00:08<00:00,  8.51s/it]it]\n",
      "100%|██████████| 1/1 [00:05<00:00,  5.60s/it]it]\n",
      "100%|██████████| 1/1 [00:08<00:00,  8.73s/it]it]\n",
      "100%|██████████| 1/1 [00:09<00:00,  9.57s/it]it]\n",
      "100%|██████████| 1/1 [00:11<00:00, 11.17s/it]it]\n",
      "100%|██████████| 1/1 [00:08<00:00,  8.48s/it]it]\n",
      "100%|██████████| 1/1 [00:24<00:00, 24.43s/it]it]\n",
      "100%|██████████| 1/1 [00:14<00:00, 14.03s/it]it]\n",
      "100%|██████████| 1/1 [00:05<00:00,  5.73s/it]it]\n",
      "100%|██████████| 1/1 [00:05<00:00,  5.10s/it]it]\n",
      "100%|██████████| 1/1 [00:09<00:00,  9.57s/it]it]\n",
      "100%|██████████| 1/1 [00:07<00:00,  7.25s/it]it]\n",
      "100%|██████████| 1/1 [00:13<00:00, 13.05s/it]it]\n",
      " 73%|███████▎  | 79/108 [35:58<04:54, 10.16s/it]"
     ]
    },
    {
     "name": "stdout",
     "output_type": "stream",
     "text": [
      "An error occurred while getting response from OpenAI: Request timed out: HTTPSConnectionPool(host='api.openai.com', port=443): Read timed out. (read timeout=600)\n",
      "An error occurred: cannot unpack non-iterable NoneType object. Retrying Question No. 0 Attempt:(1)\n"
     ]
    },
    {
     "name": "stderr",
     "output_type": "stream",
     "text": [
      "100%|██████████| 1/1 [10:22<00:00, 622.97s/it]\n",
      "100%|██████████| 1/1 [00:05<00:00,  5.12s/it]0s/it]\n",
      "100%|██████████| 1/1 [00:08<00:00,  8.90s/it]7s/it]\n",
      "100%|██████████| 1/1 [00:14<00:00, 14.65s/it]it]   \n",
      "100%|██████████| 1/1 [00:04<00:00,  4.28s/it]it]\n",
      "100%|██████████| 1/1 [00:21<00:00, 21.00s/it]it]\n",
      " 79%|███████▊  | 85/108 [47:15<16:35, 43.29s/it]"
     ]
    },
    {
     "name": "stdout",
     "output_type": "stream",
     "text": [
      "An error occurred while getting response from OpenAI: Request timed out: HTTPSConnectionPool(host='api.openai.com', port=443): Read timed out. (read timeout=600)\n",
      "An error occurred: cannot unpack non-iterable NoneType object. Retrying Question No. 0 Attempt:(1)\n"
     ]
    },
    {
     "name": "stderr",
     "output_type": "stream",
     "text": [
      "100%|██████████| 1/1 [10:16<00:00, 616.19s/it]\n",
      "100%|██████████| 1/1 [00:16<00:00, 16.74s/it]6s/it]\n",
      "100%|██████████| 1/1 [00:10<00:00, 10.83s/it]/it]  \n",
      "100%|██████████| 1/1 [00:23<00:00, 23.46s/it]/it]\n",
      "100%|██████████| 1/1 [00:11<00:00, 11.43s/it]it] \n",
      "100%|██████████| 1/1 [00:39<00:00, 39.15s/it]it]\n",
      " 84%|████████▍ | 91/108 [59:14<15:54, 56.14s/it]"
     ]
    },
    {
     "name": "stdout",
     "output_type": "stream",
     "text": [
      "An error occurred while getting response from OpenAI: Request timed out: HTTPSConnectionPool(host='api.openai.com', port=443): Read timed out. (read timeout=600)\n",
      "An error occurred: cannot unpack non-iterable NoneType object. Retrying Question No. 0 Attempt:(1)\n"
     ]
    },
    {
     "name": "stderr",
     "output_type": "stream",
     "text": [
      "100%|██████████| 1/1 [10:24<00:00, 624.44s/it]\n",
      "100%|██████████| 1/1 [00:05<00:00,  5.24s/it].66s/it]\n",
      "100%|██████████| 1/1 [00:04<00:00,  4.21s/it]6s/it]  \n",
      "100%|██████████| 1/1 [00:01<00:00,  1.45s/it]4s/it]\n",
      "100%|██████████| 1/1 [00:11<00:00, 11.34s/it]s/it] \n",
      "100%|██████████| 1/1 [00:02<00:00,  2.15s/it]s/it]\n",
      " 90%|████████▉ | 97/108 [1:10:03<07:43, 42.17s/it]"
     ]
    },
    {
     "name": "stdout",
     "output_type": "stream",
     "text": [
      "An error occurred while getting response from OpenAI: The server is overloaded or not ready yet.\n",
      "An error occurred: cannot unpack non-iterable NoneType object. Retrying Question No. 0 Attempt:(1)\n"
     ]
    },
    {
     "name": "stderr",
     "output_type": "stream",
     "text": [
      "100%|██████████| 1/1 [00:21<00:00, 21.17s/it]\n",
      "100%|██████████| 1/1 [00:09<00:00,  9.94s/it]s/it]\n",
      "100%|██████████| 1/1 [00:14<00:00, 14.48s/it]s/it]\n",
      "100%|██████████| 1/1 [00:02<00:00,  2.29s/it]4s/it]\n",
      "100%|██████████| 1/1 [00:20<00:00, 20.81s/it]2s/it]\n",
      "100%|██████████| 1/1 [00:01<00:00,  1.37s/it]1s/it]\n",
      "100%|██████████| 1/1 [00:09<00:00,  9.12s/it]7s/it]\n",
      "100%|██████████| 1/1 [00:07<00:00,  7.51s/it]0s/it]\n",
      "100%|██████████| 1/1 [00:05<00:00,  5.53s/it]5s/it]\n",
      " 98%|█████████▊| 106/108 [1:11:35<00:18,  9.19s/it]"
     ]
    },
    {
     "name": "stdout",
     "output_type": "stream",
     "text": [
      "An error occurred while getting response from OpenAI: The server is overloaded or not ready yet.\n",
      "An error occurred: cannot unpack non-iterable NoneType object. Retrying Question No. 0 Attempt:(1)\n"
     ]
    },
    {
     "name": "stderr",
     "output_type": "stream",
     "text": [
      "100%|██████████| 1/1 [00:14<00:00, 14.51s/it]\n",
      "100%|██████████| 1/1 [00:04<00:00,  4.26s/it]1s/it]\n",
      "100%|██████████| 108/108 [1:11:54<00:00, 39.95s/it]"
     ]
    },
    {
     "name": "stdout",
     "output_type": "stream",
     "text": [
      "Saved to: \n",
      " /Users/cu135/Library/CloudStorage/OneDrive-Personal/OneDrive_Documents/Work/Software/Research/nimlab/gpt_document_reader/amnesia_cases/ocr/../labeled_text/case_labeled_sections.json\n"
     ]
    },
    {
     "name": "stderr",
     "output_type": "stream",
     "text": [
      "\n"
     ]
    }
   ],
   "source": [
    "from calvin_utils.gpt_sys_review.json_utils import SectionLabeler\n",
    "import os\n",
    "# Initialize the SectionLabeler class and process the files\n",
    "section_labeler = SectionLabeler(folder_path=os.path.join(output_dir, 'preprocessed'), article_type=article_type, api_key_path=api_key_path)\n",
    "section_labeler.process_files()"
   ]
  },
  {
   "cell_type": "code",
   "execution_count": null,
   "metadata": {},
   "outputs": [],
   "source": []
  }
 ],
 "metadata": {
  "kernelspec": {
   "display_name": "nimlab_py310",
   "language": "python",
   "name": "python3"
  },
  "language_info": {
   "codemirror_mode": {
    "name": "ipython",
    "version": 3
   },
   "file_extension": ".py",
   "mimetype": "text/x-python",
   "name": "python",
   "nbconvert_exporter": "python",
   "pygments_lexer": "ipython3",
   "version": "3.10.8"
  },
  "orig_nbformat": 4
 },
 "nbformat": 4,
 "nbformat_minor": 2
}
