{
 "cells": [
  {
   "cell_type": "markdown",
   "metadata": {},
   "source": [
    "# Run A Mixed Effects Model\n",
    "\n",
    "### Authors: Calvin Howard.\n",
    "\n",
    "#### Last updated: July 6, 2023\n",
    "\n",
    "Use this to assess if a predictors relationship to the predictee is different between two groups. \n",
    "\n",
    "Notes:\n",
    "- To best use this notebook, you should be familar with mixed effects models"
   ]
  },
  {
   "cell_type": "markdown",
   "metadata": {},
   "source": [
    "# 00 - Import CSV with All Data\n",
    "**The CSV is expected to be in this format**\n",
    "- ID and absolute paths to niftis are critical\n",
    "```\n",
    "+-----+----------------------------+--------------+--------------+--------------+\n",
    "| ID  | Nifti_File_Path            | Covariate_1  | Covariate_2  | Covariate_3  |\n",
    "+-----+----------------------------+--------------+--------------+--------------+\n",
    "| 1   | /path/to/file1.nii.gz      | 0.5          | 1.2          | 3.4          |\n",
    "| 2   | /path/to/file2.nii.gz      | 0.7          | 1.4          | 3.1          |\n",
    "| 3   | /path/to/file3.nii.gz      | 0.6          | 1.5          | 3.5          |\n",
    "| 4   | /path/to/file4.nii.gz      | 0.9          | 1.1          | 3.2          |\n",
    "| ... | ...                        | ...          | ...          | ...          |\n",
    "+-----+----------------------------+--------------+--------------+--------------+\n",
    "```"
   ]
  },
  {
   "cell_type": "markdown",
   "metadata": {},
   "source": []
  },
  {
   "cell_type": "code",
   "execution_count": 110,
   "metadata": {},
   "outputs": [],
   "source": [
    "# Specify the path to your CSV file containing NIFTI paths\n",
    "input_csv_path = '/Users/cu135/Dropbox (Partners HealthCare)/studies/review_pyper/metadata/metrics.csv'"
   ]
  },
  {
   "cell_type": "code",
   "execution_count": 111,
   "metadata": {},
   "outputs": [],
   "source": [
    "# Specify where you want to save your results to\n",
    "out_dir = '/Users/cu135/Dropbox (Partners HealthCare)/studies/review_pyper/figures/mansucript_figures/data_extraction'"
   ]
  },
  {
   "cell_type": "code",
   "execution_count": 112,
   "metadata": {},
   "outputs": [
    {
     "data": {
      "text/html": [
       "<div>\n",
       "<style scoped>\n",
       "    .dataframe tbody tr th:only-of-type {\n",
       "        vertical-align: middle;\n",
       "    }\n",
       "\n",
       "    .dataframe tbody tr th {\n",
       "        vertical-align: top;\n",
       "    }\n",
       "\n",
       "    .dataframe thead th {\n",
       "        text-align: right;\n",
       "    }\n",
       "</style>\n",
       "<table border=\"1\" class=\"dataframe\">\n",
       "  <thead>\n",
       "    <tr style=\"text-align: right;\">\n",
       "      <th></th>\n",
       "      <th>Unnamed__0</th>\n",
       "      <th>Variable</th>\n",
       "      <th>Category</th>\n",
       "      <th>Sensitivity</th>\n",
       "      <th>Specificity</th>\n",
       "      <th>Precision</th>\n",
       "      <th>PPV</th>\n",
       "      <th>NPV</th>\n",
       "      <th>Accuracy</th>\n",
       "      <th>F1_Score</th>\n",
       "    </tr>\n",
       "  </thead>\n",
       "  <tbody>\n",
       "    <tr>\n",
       "      <th>0</th>\n",
       "      <td>0</td>\n",
       "      <td>Case</td>\n",
       "      <td>Data in Document</td>\n",
       "      <td>0.857143</td>\n",
       "      <td>1.000000</td>\n",
       "      <td>1.000000</td>\n",
       "      <td>1.000000</td>\n",
       "      <td>0.125000</td>\n",
       "      <td>0.86</td>\n",
       "      <td>0.923077</td>\n",
       "    </tr>\n",
       "    <tr>\n",
       "      <th>1</th>\n",
       "      <td>1</td>\n",
       "      <td>Amnesia Type</td>\n",
       "      <td>Data in Document</td>\n",
       "      <td>0.905263</td>\n",
       "      <td>0.400000</td>\n",
       "      <td>0.966292</td>\n",
       "      <td>0.966292</td>\n",
       "      <td>0.181818</td>\n",
       "      <td>0.88</td>\n",
       "      <td>0.934783</td>\n",
       "    </tr>\n",
       "    <tr>\n",
       "      <th>2</th>\n",
       "      <td>2</td>\n",
       "      <td>Confounding Disease</td>\n",
       "      <td>Diagnostic Inference</td>\n",
       "      <td>0.833333</td>\n",
       "      <td>0.136364</td>\n",
       "      <td>0.116279</td>\n",
       "      <td>0.116279</td>\n",
       "      <td>0.857143</td>\n",
       "      <td>0.22</td>\n",
       "      <td>0.204082</td>\n",
       "    </tr>\n",
       "    <tr>\n",
       "      <th>3</th>\n",
       "      <td>3</td>\n",
       "      <td>Amnesia Measured</td>\n",
       "      <td>Data in Document</td>\n",
       "      <td>0.965116</td>\n",
       "      <td>0.642857</td>\n",
       "      <td>0.943182</td>\n",
       "      <td>0.943182</td>\n",
       "      <td>0.750000</td>\n",
       "      <td>0.92</td>\n",
       "      <td>0.954023</td>\n",
       "    </tr>\n",
       "    <tr>\n",
       "      <th>4</th>\n",
       "      <td>4</td>\n",
       "      <td>Isolated Amnesia</td>\n",
       "      <td>Diagnostic Inference</td>\n",
       "      <td>1.000000</td>\n",
       "      <td>0.024691</td>\n",
       "      <td>0.193878</td>\n",
       "      <td>0.193878</td>\n",
       "      <td>1.000000</td>\n",
       "      <td>0.21</td>\n",
       "      <td>0.324786</td>\n",
       "    </tr>\n",
       "    <tr>\n",
       "      <th>5</th>\n",
       "      <td>5</td>\n",
       "      <td>Neuroimaging</td>\n",
       "      <td>Data in Document</td>\n",
       "      <td>0.989796</td>\n",
       "      <td>1.000000</td>\n",
       "      <td>1.000000</td>\n",
       "      <td>1.000000</td>\n",
       "      <td>0.666667</td>\n",
       "      <td>0.99</td>\n",
       "      <td>0.994872</td>\n",
       "    </tr>\n",
       "    <tr>\n",
       "      <th>6</th>\n",
       "      <td>6</td>\n",
       "      <td>Neurodegeneration</td>\n",
       "      <td>Diagnostic Inference</td>\n",
       "      <td>1.000000</td>\n",
       "      <td>0.032258</td>\n",
       "      <td>0.072165</td>\n",
       "      <td>0.072165</td>\n",
       "      <td>1.000000</td>\n",
       "      <td>0.10</td>\n",
       "      <td>0.134615</td>\n",
       "    </tr>\n",
       "    <tr>\n",
       "      <th>7</th>\n",
       "      <td>7</td>\n",
       "      <td>Atypical Amnesia</td>\n",
       "      <td>Diagnostic Inference</td>\n",
       "      <td>0.714286</td>\n",
       "      <td>0.182796</td>\n",
       "      <td>0.061728</td>\n",
       "      <td>0.061728</td>\n",
       "      <td>0.894737</td>\n",
       "      <td>0.22</td>\n",
       "      <td>0.113636</td>\n",
       "    </tr>\n",
       "    <tr>\n",
       "      <th>8</th>\n",
       "      <td>8</td>\n",
       "      <td>English</td>\n",
       "      <td>Data in Document</td>\n",
       "      <td>1.000000</td>\n",
       "      <td>1.000000</td>\n",
       "      <td>1.000000</td>\n",
       "      <td>1.000000</td>\n",
       "      <td>1.000000</td>\n",
       "      <td>1.00</td>\n",
       "      <td>1.000000</td>\n",
       "    </tr>\n",
       "    <tr>\n",
       "      <th>9</th>\n",
       "      <td>9</td>\n",
       "      <td>Bias</td>\n",
       "      <td>Case Quality</td>\n",
       "      <td>0.090909</td>\n",
       "      <td>0.641026</td>\n",
       "      <td>0.066667</td>\n",
       "      <td>0.066667</td>\n",
       "      <td>0.714286</td>\n",
       "      <td>0.52</td>\n",
       "      <td>0.076923</td>\n",
       "    </tr>\n",
       "    <tr>\n",
       "      <th>10</th>\n",
       "      <td>10</td>\n",
       "      <td>HPI</td>\n",
       "      <td>Case Quality</td>\n",
       "      <td>0.957447</td>\n",
       "      <td>0.833333</td>\n",
       "      <td>0.989011</td>\n",
       "      <td>0.989011</td>\n",
       "      <td>0.555556</td>\n",
       "      <td>0.95</td>\n",
       "      <td>0.972973</td>\n",
       "    </tr>\n",
       "    <tr>\n",
       "      <th>11</th>\n",
       "      <td>11</td>\n",
       "      <td>Workup</td>\n",
       "      <td>Case Quality</td>\n",
       "      <td>0.989362</td>\n",
       "      <td>0.500000</td>\n",
       "      <td>0.968750</td>\n",
       "      <td>0.968750</td>\n",
       "      <td>0.750000</td>\n",
       "      <td>0.96</td>\n",
       "      <td>0.978947</td>\n",
       "    </tr>\n",
       "    <tr>\n",
       "      <th>12</th>\n",
       "      <td>12</td>\n",
       "      <td>Attribution Error</td>\n",
       "      <td>Case Quality</td>\n",
       "      <td>0.870968</td>\n",
       "      <td>0.571429</td>\n",
       "      <td>0.964286</td>\n",
       "      <td>0.964286</td>\n",
       "      <td>0.250000</td>\n",
       "      <td>0.85</td>\n",
       "      <td>0.915254</td>\n",
       "    </tr>\n",
       "    <tr>\n",
       "      <th>13</th>\n",
       "      <td>13</td>\n",
       "      <td>Extended History</td>\n",
       "      <td>Case Quality</td>\n",
       "      <td>0.102273</td>\n",
       "      <td>1.000000</td>\n",
       "      <td>1.000000</td>\n",
       "      <td>1.000000</td>\n",
       "      <td>0.131868</td>\n",
       "      <td>0.21</td>\n",
       "      <td>0.185567</td>\n",
       "    </tr>\n",
       "    <tr>\n",
       "      <th>14</th>\n",
       "      <td>14</td>\n",
       "      <td>Temporality of History</td>\n",
       "      <td>Case Quality</td>\n",
       "      <td>0.954545</td>\n",
       "      <td>0.750000</td>\n",
       "      <td>0.965517</td>\n",
       "      <td>0.965517</td>\n",
       "      <td>0.692308</td>\n",
       "      <td>0.93</td>\n",
       "      <td>0.960000</td>\n",
       "    </tr>\n",
       "    <tr>\n",
       "      <th>15</th>\n",
       "      <td>15</td>\n",
       "      <td>Neuroimaging at Onset</td>\n",
       "      <td>Case Quality</td>\n",
       "      <td>0.466667</td>\n",
       "      <td>1.000000</td>\n",
       "      <td>1.000000</td>\n",
       "      <td>1.000000</td>\n",
       "      <td>0.172414</td>\n",
       "      <td>0.52</td>\n",
       "      <td>0.636364</td>\n",
       "    </tr>\n",
       "    <tr>\n",
       "      <th>16</th>\n",
       "      <td>16</td>\n",
       "      <td>Replicability</td>\n",
       "      <td>Case Quality</td>\n",
       "      <td>0.819149</td>\n",
       "      <td>0.500000</td>\n",
       "      <td>0.962500</td>\n",
       "      <td>0.962500</td>\n",
       "      <td>0.150000</td>\n",
       "      <td>0.80</td>\n",
       "      <td>0.885057</td>\n",
       "    </tr>\n",
       "    <tr>\n",
       "      <th>17</th>\n",
       "      <td>17</td>\n",
       "      <td>Suitability for LNM</td>\n",
       "      <td>Case Quality</td>\n",
       "      <td>0.766667</td>\n",
       "      <td>0.500000</td>\n",
       "      <td>0.932432</td>\n",
       "      <td>0.932432</td>\n",
       "      <td>0.192308</td>\n",
       "      <td>0.74</td>\n",
       "      <td>0.841463</td>\n",
       "    </tr>\n",
       "  </tbody>\n",
       "</table>\n",
       "</div>"
      ],
      "text/plain": [
       "    Unnamed__0                Variable              Category  Sensitivity  \\\n",
       "0            0                    Case      Data in Document     0.857143   \n",
       "1            1            Amnesia Type      Data in Document     0.905263   \n",
       "2            2     Confounding Disease  Diagnostic Inference     0.833333   \n",
       "3            3        Amnesia Measured      Data in Document     0.965116   \n",
       "4            4        Isolated Amnesia  Diagnostic Inference     1.000000   \n",
       "5            5            Neuroimaging      Data in Document     0.989796   \n",
       "6            6       Neurodegeneration  Diagnostic Inference     1.000000   \n",
       "7            7        Atypical Amnesia  Diagnostic Inference     0.714286   \n",
       "8            8                 English      Data in Document     1.000000   \n",
       "9            9                    Bias          Case Quality     0.090909   \n",
       "10          10                     HPI          Case Quality     0.957447   \n",
       "11          11                  Workup          Case Quality     0.989362   \n",
       "12          12       Attribution Error          Case Quality     0.870968   \n",
       "13          13        Extended History          Case Quality     0.102273   \n",
       "14          14  Temporality of History          Case Quality     0.954545   \n",
       "15          15   Neuroimaging at Onset          Case Quality     0.466667   \n",
       "16          16           Replicability          Case Quality     0.819149   \n",
       "17          17     Suitability for LNM          Case Quality     0.766667   \n",
       "\n",
       "    Specificity  Precision       PPV       NPV  Accuracy  F1_Score  \n",
       "0      1.000000   1.000000  1.000000  0.125000      0.86  0.923077  \n",
       "1      0.400000   0.966292  0.966292  0.181818      0.88  0.934783  \n",
       "2      0.136364   0.116279  0.116279  0.857143      0.22  0.204082  \n",
       "3      0.642857   0.943182  0.943182  0.750000      0.92  0.954023  \n",
       "4      0.024691   0.193878  0.193878  1.000000      0.21  0.324786  \n",
       "5      1.000000   1.000000  1.000000  0.666667      0.99  0.994872  \n",
       "6      0.032258   0.072165  0.072165  1.000000      0.10  0.134615  \n",
       "7      0.182796   0.061728  0.061728  0.894737      0.22  0.113636  \n",
       "8      1.000000   1.000000  1.000000  1.000000      1.00  1.000000  \n",
       "9      0.641026   0.066667  0.066667  0.714286      0.52  0.076923  \n",
       "10     0.833333   0.989011  0.989011  0.555556      0.95  0.972973  \n",
       "11     0.500000   0.968750  0.968750  0.750000      0.96  0.978947  \n",
       "12     0.571429   0.964286  0.964286  0.250000      0.85  0.915254  \n",
       "13     1.000000   1.000000  1.000000  0.131868      0.21  0.185567  \n",
       "14     0.750000   0.965517  0.965517  0.692308      0.93  0.960000  \n",
       "15     1.000000   1.000000  1.000000  0.172414      0.52  0.636364  \n",
       "16     0.500000   0.962500  0.962500  0.150000      0.80  0.885057  \n",
       "17     0.500000   0.932432  0.932432  0.192308      0.74  0.841463  "
      ]
     },
     "metadata": {},
     "output_type": "display_data"
    }
   ],
   "source": [
    "from calvin_utils.permutation_analysis_utils.statsmodels_palm import CalvinStatsmodelsPalm\n",
    "# Instantiate the PalmPrepararation class\n",
    "cal_palm = CalvinStatsmodelsPalm(input_csv_path=input_csv_path, output_dir=out_dir, sheet=None)\n",
    "# Call the process_nifti_paths method\n",
    "data_df = cal_palm.read_and_display_data()\n"
   ]
  },
  {
   "cell_type": "markdown",
   "metadata": {},
   "source": [
    "# 01 - Preprocess Your Data"
   ]
  },
  {
   "cell_type": "markdown",
   "metadata": {},
   "source": [
    "**Handle NANs**\n",
    "- Set drop_nans=True is you would like to remove NaNs from data\n",
    "- Provide a column name or a list of column names to remove NaNs from"
   ]
  },
  {
   "cell_type": "code",
   "execution_count": null,
   "metadata": {},
   "outputs": [],
   "source": [
    "data_df.columns"
   ]
  },
  {
   "cell_type": "code",
   "execution_count": null,
   "metadata": {},
   "outputs": [],
   "source": [
    "drop_list = ['Age', 'Z_Scored_Percent_Cognitive_Improvement']"
   ]
  },
  {
   "cell_type": "code",
   "execution_count": null,
   "metadata": {},
   "outputs": [],
   "source": [
    "data_df = cal_palm.drop_nans_from_columns(columns_to_drop_from=drop_list)\n",
    "display(data_df)"
   ]
  },
  {
   "cell_type": "markdown",
   "metadata": {},
   "source": [
    "**Drop Row Based on Value of Column**\n",
    "\n",
    "Define the column, condition, and value for dropping rows\n",
    "- column = 'your_column_name'\n",
    "- condition = 'above'  # Options: 'equal', 'above', 'below'"
   ]
  },
  {
   "cell_type": "code",
   "execution_count": null,
   "metadata": {},
   "outputs": [],
   "source": [
    "data_df.columns"
   ]
  },
  {
   "cell_type": "markdown",
   "metadata": {},
   "source": [
    "Set the parameters for dropping rows"
   ]
  },
  {
   "cell_type": "code",
   "execution_count": null,
   "metadata": {},
   "outputs": [],
   "source": [
    "column = 'Cohort'  # The column you'd like to evaluate\n",
    "condition = 'equal'  # The condition to check ('equal', 'above', 'below')\n",
    "value = 3  # The value to compare against"
   ]
  },
  {
   "cell_type": "code",
   "execution_count": null,
   "metadata": {},
   "outputs": [],
   "source": [
    "data_df, other_df = cal_palm.drop_rows_based_on_value(column, condition, value)\n",
    "display(data_df)"
   ]
  },
  {
   "cell_type": "markdown",
   "metadata": {},
   "source": [
    "**Standardize Data**\n",
    "- Enter Columns you Don't want to standardize into a list"
   ]
  },
  {
   "cell_type": "code",
   "execution_count": null,
   "metadata": {},
   "outputs": [],
   "source": [
    "# Remove anything you don't want to standardize\n",
    "cols_not_to_standardize = ['Age']"
   ]
  },
  {
   "cell_type": "code",
   "execution_count": null,
   "metadata": {},
   "outputs": [],
   "source": [
    "data_df = cal_palm.standardize_columns(cols_not_to_standardize)\n",
    "data_df"
   ]
  },
  {
   "cell_type": "markdown",
   "metadata": {},
   "source": [
    "Descriptive Stats"
   ]
  },
  {
   "cell_type": "code",
   "execution_count": null,
   "metadata": {},
   "outputs": [],
   "source": [
    "data_df.describe()"
   ]
  },
  {
   "cell_type": "markdown",
   "metadata": {},
   "source": [
    "# 02 Plot"
   ]
  },
  {
   "cell_type": "markdown",
   "metadata": {},
   "source": [
    "**Grouped Barplot**\n",
    "- Expects a Dataframe with a category the grouping variable that sets colour. \n",
    "- variable represents each thig to be plotted, like 'neuroimaging, bias, etc'. \n",
    "- metric is the value of the variable to be plotted."
   ]
  },
  {
   "cell_type": "code",
   "execution_count": 113,
   "metadata": {},
   "outputs": [],
   "source": [
    "import plotly.graph_objects as go\n",
    "import plotly.express as px\n",
    "import numpy as np\n",
    "import pandas as pd\n",
    "\n",
    "def plotly_grouped_radial_bar(dataframe, metric='Accuracy', category_col='Category', variable_col='Variable', title='Title Here'):\n",
    "    \"\"\"\n",
    "    Creates a grouped radial bar chart with Plotly, where each 'category' is a group with a unique color,\n",
    "    and each 'variable' within that category is an individual bar, evenly spaced around the plot.\n",
    "    \n",
    "    Args:\n",
    "        dataframe (pandas.DataFrame): DataFrame containing the data to plot.\n",
    "        metric (str): The metric to plot. Defaults to 'Accuracy'.\n",
    "        category_col (str): The column name for the grouping category.\n",
    "        variable_col (str): The column name for the individual variables.\n",
    "\n",
    "    Returns:\n",
    "        plotly.graph_objs._figure.Figure: Plotly Figure object for the radial bar chart.\n",
    "    \"\"\"\n",
    "    # Assign colors to each category for grouping\n",
    "    color_palette = px.colors.qualitative.T10\n",
    "    category_list = dataframe[category_col].unique().tolist()\n",
    "    color_dict = {category: color_palette[i % len(color_palette)] for i, category in enumerate(category_list)}\n",
    "\n",
    "    # Determine the total number of unique variables across all categories\n",
    "    total_variables = len(dataframe[variable_col].unique())\n",
    "\n",
    "    # Initialize the figure\n",
    "    fig = go.Figure()\n",
    "    \n",
    "    i = 0\n",
    "    for category in category_list:\n",
    "        category_data = dataframe[dataframe[category_col] == category]\n",
    "        category_data.sort_values(by=[metric], inplace=True)\n",
    "        fig.add_trace(go.Barpolar(\n",
    "            r=[0],\n",
    "            theta=[0],\n",
    "            name=category,\n",
    "            marker_color=color_dict[category],\n",
    "            showlegend=True\n",
    "            ))\n",
    "        for j, (idx, row) in enumerate(category_data.iterrows()):\n",
    "            # Calculate the angle for the current variable\n",
    "            angle = (i * 360) / total_variables\n",
    "\n",
    "            # Add a bar for the current variable\n",
    "            fig.add_trace(go.Barpolar(\n",
    "                r=[row[metric]],\n",
    "                theta=[angle],\n",
    "                width=[360 / total_variables],  # Slightly reduce width for spacing between bars\n",
    "                name=f\"{row[variable_col]}\",\n",
    "                marker_color=color_dict[row[category_col]],\n",
    "                marker_line_color='black',\n",
    "                marker_line_width=1,\n",
    "                opacity=0.9,\n",
    "                showlegend=False\n",
    "            ))\n",
    "            i = i+1\n",
    "\n",
    "    # Handle Legend\n",
    "    fig.update_layout(\n",
    "        legend=dict(\n",
    "            title=dict(text=variable_col),\n",
    "            itemsizing='constant',\n",
    "            orientation='h',\n",
    "            traceorder='normal',\n",
    "            font=dict(\n",
    "                size=12,\n",
    "            ),\n",
    "            x=0.5,  # Center the title\n",
    "            xanchor='center',  # Ensure the title is centered\n",
    "            yanchor='bottom'  # Position the title at the top of the plot\n",
    "            )\n",
    "    )\n",
    "    # Handle Title\n",
    "    fig.update_layout(\n",
    "    title=dict(\n",
    "        text=title,  # Replace with your title\n",
    "        x=0.5,  # Center the title\n",
    "        xanchor='center',  # Ensure the title is centered\n",
    "        yanchor='top'  # Position the title at the top of the plot\n",
    "        )\n",
    "    )\n",
    "    # Handle Colour\n",
    "    fig.update_layout(\n",
    "        polar=dict(\n",
    "            bgcolor=\"white\",  # Set the polar background color to white\n",
    "            radialaxis=dict(showgrid=True, gridcolor='gray'),  # Show radial axis grid lines\n",
    "            angularaxis=dict(showgrid=True, gridcolor='gray')  # Show angular axis grid lines\n",
    "        )\n",
    "    )\n",
    "\n",
    "    return fig"
   ]
  },
  {
   "cell_type": "code",
   "execution_count": 114,
   "metadata": {},
   "outputs": [
    {
     "data": {
      "text/plain": [
       "Index(['Unnamed__0', 'Variable', 'Category', 'Sensitivity', 'Specificity',\n",
       "       'Precision', 'PPV', 'NPV', 'Accuracy', 'F1_Score'],\n",
       "      dtype='object')"
      ]
     },
     "execution_count": 114,
     "metadata": {},
     "output_type": "execute_result"
    }
   ],
   "source": [
    "data_df.columns"
   ]
  },
  {
   "cell_type": "code",
   "execution_count": 115,
   "metadata": {},
   "outputs": [
    {
     "name": "stderr",
     "output_type": "stream",
     "text": [
      "/var/folders/82/946tskyj68b6htgvndtppmz80000gp/T/ipykernel_56917/1681291544.py:34: SettingWithCopyWarning:\n",
      "\n",
      "\n",
      "A value is trying to be set on a copy of a slice from a DataFrame\n",
      "\n",
      "See the caveats in the documentation: https://pandas.pydata.org/pandas-docs/stable/user_guide/indexing.html#returning-a-view-versus-a-copy\n",
      "\n"
     ]
    },
    {
     "data": {
      "application/vnd.plotly.v1+json": {
       "config": {
        "plotlyServerURL": "https://plot.ly"
       },
       "data": [
        {
         "marker": {
          "color": "#4C78A8"
         },
         "name": "Data in Document",
         "r": [
          0
         ],
         "showlegend": true,
         "theta": [
          0
         ],
         "type": "barpolar"
        },
        {
         "marker": {
          "color": "#4C78A8",
          "line": {
           "color": "black",
           "width": 1
          }
         },
         "name": "Case",
         "opacity": 0.9,
         "r": [
          0.86
         ],
         "showlegend": false,
         "theta": [
          0
         ],
         "type": "barpolar",
         "width": [
          20
         ]
        },
        {
         "marker": {
          "color": "#4C78A8",
          "line": {
           "color": "black",
           "width": 1
          }
         },
         "name": "Amnesia Type",
         "opacity": 0.9,
         "r": [
          0.88
         ],
         "showlegend": false,
         "theta": [
          20
         ],
         "type": "barpolar",
         "width": [
          20
         ]
        },
        {
         "marker": {
          "color": "#4C78A8",
          "line": {
           "color": "black",
           "width": 1
          }
         },
         "name": "Amnesia Measured",
         "opacity": 0.9,
         "r": [
          0.92
         ],
         "showlegend": false,
         "theta": [
          40
         ],
         "type": "barpolar",
         "width": [
          20
         ]
        },
        {
         "marker": {
          "color": "#4C78A8",
          "line": {
           "color": "black",
           "width": 1
          }
         },
         "name": "Neuroimaging",
         "opacity": 0.9,
         "r": [
          0.99
         ],
         "showlegend": false,
         "theta": [
          60
         ],
         "type": "barpolar",
         "width": [
          20
         ]
        },
        {
         "marker": {
          "color": "#4C78A8",
          "line": {
           "color": "black",
           "width": 1
          }
         },
         "name": "English",
         "opacity": 0.9,
         "r": [
          1
         ],
         "showlegend": false,
         "theta": [
          80
         ],
         "type": "barpolar",
         "width": [
          20
         ]
        },
        {
         "marker": {
          "color": "#F58518"
         },
         "name": "Diagnostic Inference",
         "r": [
          0
         ],
         "showlegend": true,
         "theta": [
          0
         ],
         "type": "barpolar"
        },
        {
         "marker": {
          "color": "#F58518",
          "line": {
           "color": "black",
           "width": 1
          }
         },
         "name": "Neurodegeneration",
         "opacity": 0.9,
         "r": [
          0.1
         ],
         "showlegend": false,
         "theta": [
          100
         ],
         "type": "barpolar",
         "width": [
          20
         ]
        },
        {
         "marker": {
          "color": "#F58518",
          "line": {
           "color": "black",
           "width": 1
          }
         },
         "name": "Isolated Amnesia",
         "opacity": 0.9,
         "r": [
          0.21
         ],
         "showlegend": false,
         "theta": [
          120
         ],
         "type": "barpolar",
         "width": [
          20
         ]
        },
        {
         "marker": {
          "color": "#F58518",
          "line": {
           "color": "black",
           "width": 1
          }
         },
         "name": "Confounding Disease",
         "opacity": 0.9,
         "r": [
          0.22
         ],
         "showlegend": false,
         "theta": [
          140
         ],
         "type": "barpolar",
         "width": [
          20
         ]
        },
        {
         "marker": {
          "color": "#F58518",
          "line": {
           "color": "black",
           "width": 1
          }
         },
         "name": "Atypical Amnesia",
         "opacity": 0.9,
         "r": [
          0.22
         ],
         "showlegend": false,
         "theta": [
          160
         ],
         "type": "barpolar",
         "width": [
          20
         ]
        },
        {
         "marker": {
          "color": "#E45756"
         },
         "name": "Case Quality",
         "r": [
          0
         ],
         "showlegend": true,
         "theta": [
          0
         ],
         "type": "barpolar"
        },
        {
         "marker": {
          "color": "#E45756",
          "line": {
           "color": "black",
           "width": 1
          }
         },
         "name": "Extended History",
         "opacity": 0.9,
         "r": [
          0.21
         ],
         "showlegend": false,
         "theta": [
          180
         ],
         "type": "barpolar",
         "width": [
          20
         ]
        },
        {
         "marker": {
          "color": "#E45756",
          "line": {
           "color": "black",
           "width": 1
          }
         },
         "name": "Bias",
         "opacity": 0.9,
         "r": [
          0.52
         ],
         "showlegend": false,
         "theta": [
          200
         ],
         "type": "barpolar",
         "width": [
          20
         ]
        },
        {
         "marker": {
          "color": "#E45756",
          "line": {
           "color": "black",
           "width": 1
          }
         },
         "name": "Neuroimaging at Onset",
         "opacity": 0.9,
         "r": [
          0.52
         ],
         "showlegend": false,
         "theta": [
          220
         ],
         "type": "barpolar",
         "width": [
          20
         ]
        },
        {
         "marker": {
          "color": "#E45756",
          "line": {
           "color": "black",
           "width": 1
          }
         },
         "name": "Suitability for LNM",
         "opacity": 0.9,
         "r": [
          0.74
         ],
         "showlegend": false,
         "theta": [
          240
         ],
         "type": "barpolar",
         "width": [
          20
         ]
        },
        {
         "marker": {
          "color": "#E45756",
          "line": {
           "color": "black",
           "width": 1
          }
         },
         "name": "Replicability",
         "opacity": 0.9,
         "r": [
          0.8
         ],
         "showlegend": false,
         "theta": [
          260
         ],
         "type": "barpolar",
         "width": [
          20
         ]
        },
        {
         "marker": {
          "color": "#E45756",
          "line": {
           "color": "black",
           "width": 1
          }
         },
         "name": "Attribution Error",
         "opacity": 0.9,
         "r": [
          0.85
         ],
         "showlegend": false,
         "theta": [
          280
         ],
         "type": "barpolar",
         "width": [
          20
         ]
        },
        {
         "marker": {
          "color": "#E45756",
          "line": {
           "color": "black",
           "width": 1
          }
         },
         "name": "Temporality of History",
         "opacity": 0.9,
         "r": [
          0.93
         ],
         "showlegend": false,
         "theta": [
          300
         ],
         "type": "barpolar",
         "width": [
          20
         ]
        },
        {
         "marker": {
          "color": "#E45756",
          "line": {
           "color": "black",
           "width": 1
          }
         },
         "name": "HPI",
         "opacity": 0.9,
         "r": [
          0.95
         ],
         "showlegend": false,
         "theta": [
          320
         ],
         "type": "barpolar",
         "width": [
          20
         ]
        },
        {
         "marker": {
          "color": "#E45756",
          "line": {
           "color": "black",
           "width": 1
          }
         },
         "name": "Workup",
         "opacity": 0.9,
         "r": [
          0.96
         ],
         "showlegend": false,
         "theta": [
          340
         ],
         "type": "barpolar",
         "width": [
          20
         ]
        }
       ],
       "layout": {
        "legend": {
         "font": {
          "size": 12
         },
         "itemsizing": "constant",
         "orientation": "h",
         "title": {
          "text": "Variable"
         },
         "traceorder": "normal",
         "x": 0.5,
         "xanchor": "center",
         "yanchor": "bottom"
        },
        "polar": {
         "angularaxis": {
          "gridcolor": "gray",
          "showgrid": true
         },
         "bgcolor": "white",
         "radialaxis": {
          "gridcolor": "gray",
          "showgrid": true
         }
        },
        "template": {
         "data": {
          "bar": [
           {
            "error_x": {
             "color": "#2a3f5f"
            },
            "error_y": {
             "color": "#2a3f5f"
            },
            "marker": {
             "line": {
              "color": "#E5ECF6",
              "width": 0.5
             },
             "pattern": {
              "fillmode": "overlay",
              "size": 10,
              "solidity": 0.2
             }
            },
            "type": "bar"
           }
          ],
          "barpolar": [
           {
            "marker": {
             "line": {
              "color": "#E5ECF6",
              "width": 0.5
             },
             "pattern": {
              "fillmode": "overlay",
              "size": 10,
              "solidity": 0.2
             }
            },
            "type": "barpolar"
           }
          ],
          "carpet": [
           {
            "aaxis": {
             "endlinecolor": "#2a3f5f",
             "gridcolor": "white",
             "linecolor": "white",
             "minorgridcolor": "white",
             "startlinecolor": "#2a3f5f"
            },
            "baxis": {
             "endlinecolor": "#2a3f5f",
             "gridcolor": "white",
             "linecolor": "white",
             "minorgridcolor": "white",
             "startlinecolor": "#2a3f5f"
            },
            "type": "carpet"
           }
          ],
          "choropleth": [
           {
            "colorbar": {
             "outlinewidth": 0,
             "ticks": ""
            },
            "type": "choropleth"
           }
          ],
          "contour": [
           {
            "colorbar": {
             "outlinewidth": 0,
             "ticks": ""
            },
            "colorscale": [
             [
              0,
              "#0d0887"
             ],
             [
              0.1111111111111111,
              "#46039f"
             ],
             [
              0.2222222222222222,
              "#7201a8"
             ],
             [
              0.3333333333333333,
              "#9c179e"
             ],
             [
              0.4444444444444444,
              "#bd3786"
             ],
             [
              0.5555555555555556,
              "#d8576b"
             ],
             [
              0.6666666666666666,
              "#ed7953"
             ],
             [
              0.7777777777777778,
              "#fb9f3a"
             ],
             [
              0.8888888888888888,
              "#fdca26"
             ],
             [
              1,
              "#f0f921"
             ]
            ],
            "type": "contour"
           }
          ],
          "contourcarpet": [
           {
            "colorbar": {
             "outlinewidth": 0,
             "ticks": ""
            },
            "type": "contourcarpet"
           }
          ],
          "heatmap": [
           {
            "colorbar": {
             "outlinewidth": 0,
             "ticks": ""
            },
            "colorscale": [
             [
              0,
              "#0d0887"
             ],
             [
              0.1111111111111111,
              "#46039f"
             ],
             [
              0.2222222222222222,
              "#7201a8"
             ],
             [
              0.3333333333333333,
              "#9c179e"
             ],
             [
              0.4444444444444444,
              "#bd3786"
             ],
             [
              0.5555555555555556,
              "#d8576b"
             ],
             [
              0.6666666666666666,
              "#ed7953"
             ],
             [
              0.7777777777777778,
              "#fb9f3a"
             ],
             [
              0.8888888888888888,
              "#fdca26"
             ],
             [
              1,
              "#f0f921"
             ]
            ],
            "type": "heatmap"
           }
          ],
          "heatmapgl": [
           {
            "colorbar": {
             "outlinewidth": 0,
             "ticks": ""
            },
            "colorscale": [
             [
              0,
              "#0d0887"
             ],
             [
              0.1111111111111111,
              "#46039f"
             ],
             [
              0.2222222222222222,
              "#7201a8"
             ],
             [
              0.3333333333333333,
              "#9c179e"
             ],
             [
              0.4444444444444444,
              "#bd3786"
             ],
             [
              0.5555555555555556,
              "#d8576b"
             ],
             [
              0.6666666666666666,
              "#ed7953"
             ],
             [
              0.7777777777777778,
              "#fb9f3a"
             ],
             [
              0.8888888888888888,
              "#fdca26"
             ],
             [
              1,
              "#f0f921"
             ]
            ],
            "type": "heatmapgl"
           }
          ],
          "histogram": [
           {
            "marker": {
             "pattern": {
              "fillmode": "overlay",
              "size": 10,
              "solidity": 0.2
             }
            },
            "type": "histogram"
           }
          ],
          "histogram2d": [
           {
            "colorbar": {
             "outlinewidth": 0,
             "ticks": ""
            },
            "colorscale": [
             [
              0,
              "#0d0887"
             ],
             [
              0.1111111111111111,
              "#46039f"
             ],
             [
              0.2222222222222222,
              "#7201a8"
             ],
             [
              0.3333333333333333,
              "#9c179e"
             ],
             [
              0.4444444444444444,
              "#bd3786"
             ],
             [
              0.5555555555555556,
              "#d8576b"
             ],
             [
              0.6666666666666666,
              "#ed7953"
             ],
             [
              0.7777777777777778,
              "#fb9f3a"
             ],
             [
              0.8888888888888888,
              "#fdca26"
             ],
             [
              1,
              "#f0f921"
             ]
            ],
            "type": "histogram2d"
           }
          ],
          "histogram2dcontour": [
           {
            "colorbar": {
             "outlinewidth": 0,
             "ticks": ""
            },
            "colorscale": [
             [
              0,
              "#0d0887"
             ],
             [
              0.1111111111111111,
              "#46039f"
             ],
             [
              0.2222222222222222,
              "#7201a8"
             ],
             [
              0.3333333333333333,
              "#9c179e"
             ],
             [
              0.4444444444444444,
              "#bd3786"
             ],
             [
              0.5555555555555556,
              "#d8576b"
             ],
             [
              0.6666666666666666,
              "#ed7953"
             ],
             [
              0.7777777777777778,
              "#fb9f3a"
             ],
             [
              0.8888888888888888,
              "#fdca26"
             ],
             [
              1,
              "#f0f921"
             ]
            ],
            "type": "histogram2dcontour"
           }
          ],
          "mesh3d": [
           {
            "colorbar": {
             "outlinewidth": 0,
             "ticks": ""
            },
            "type": "mesh3d"
           }
          ],
          "parcoords": [
           {
            "line": {
             "colorbar": {
              "outlinewidth": 0,
              "ticks": ""
             }
            },
            "type": "parcoords"
           }
          ],
          "pie": [
           {
            "automargin": true,
            "type": "pie"
           }
          ],
          "scatter": [
           {
            "fillpattern": {
             "fillmode": "overlay",
             "size": 10,
             "solidity": 0.2
            },
            "type": "scatter"
           }
          ],
          "scatter3d": [
           {
            "line": {
             "colorbar": {
              "outlinewidth": 0,
              "ticks": ""
             }
            },
            "marker": {
             "colorbar": {
              "outlinewidth": 0,
              "ticks": ""
             }
            },
            "type": "scatter3d"
           }
          ],
          "scattercarpet": [
           {
            "marker": {
             "colorbar": {
              "outlinewidth": 0,
              "ticks": ""
             }
            },
            "type": "scattercarpet"
           }
          ],
          "scattergeo": [
           {
            "marker": {
             "colorbar": {
              "outlinewidth": 0,
              "ticks": ""
             }
            },
            "type": "scattergeo"
           }
          ],
          "scattergl": [
           {
            "marker": {
             "colorbar": {
              "outlinewidth": 0,
              "ticks": ""
             }
            },
            "type": "scattergl"
           }
          ],
          "scattermapbox": [
           {
            "marker": {
             "colorbar": {
              "outlinewidth": 0,
              "ticks": ""
             }
            },
            "type": "scattermapbox"
           }
          ],
          "scatterpolar": [
           {
            "marker": {
             "colorbar": {
              "outlinewidth": 0,
              "ticks": ""
             }
            },
            "type": "scatterpolar"
           }
          ],
          "scatterpolargl": [
           {
            "marker": {
             "colorbar": {
              "outlinewidth": 0,
              "ticks": ""
             }
            },
            "type": "scatterpolargl"
           }
          ],
          "scatterternary": [
           {
            "marker": {
             "colorbar": {
              "outlinewidth": 0,
              "ticks": ""
             }
            },
            "type": "scatterternary"
           }
          ],
          "surface": [
           {
            "colorbar": {
             "outlinewidth": 0,
             "ticks": ""
            },
            "colorscale": [
             [
              0,
              "#0d0887"
             ],
             [
              0.1111111111111111,
              "#46039f"
             ],
             [
              0.2222222222222222,
              "#7201a8"
             ],
             [
              0.3333333333333333,
              "#9c179e"
             ],
             [
              0.4444444444444444,
              "#bd3786"
             ],
             [
              0.5555555555555556,
              "#d8576b"
             ],
             [
              0.6666666666666666,
              "#ed7953"
             ],
             [
              0.7777777777777778,
              "#fb9f3a"
             ],
             [
              0.8888888888888888,
              "#fdca26"
             ],
             [
              1,
              "#f0f921"
             ]
            ],
            "type": "surface"
           }
          ],
          "table": [
           {
            "cells": {
             "fill": {
              "color": "#EBF0F8"
             },
             "line": {
              "color": "white"
             }
            },
            "header": {
             "fill": {
              "color": "#C8D4E3"
             },
             "line": {
              "color": "white"
             }
            },
            "type": "table"
           }
          ]
         },
         "layout": {
          "annotationdefaults": {
           "arrowcolor": "#2a3f5f",
           "arrowhead": 0,
           "arrowwidth": 1
          },
          "autotypenumbers": "strict",
          "coloraxis": {
           "colorbar": {
            "outlinewidth": 0,
            "ticks": ""
           }
          },
          "colorscale": {
           "diverging": [
            [
             0,
             "#8e0152"
            ],
            [
             0.1,
             "#c51b7d"
            ],
            [
             0.2,
             "#de77ae"
            ],
            [
             0.3,
             "#f1b6da"
            ],
            [
             0.4,
             "#fde0ef"
            ],
            [
             0.5,
             "#f7f7f7"
            ],
            [
             0.6,
             "#e6f5d0"
            ],
            [
             0.7,
             "#b8e186"
            ],
            [
             0.8,
             "#7fbc41"
            ],
            [
             0.9,
             "#4d9221"
            ],
            [
             1,
             "#276419"
            ]
           ],
           "sequential": [
            [
             0,
             "#0d0887"
            ],
            [
             0.1111111111111111,
             "#46039f"
            ],
            [
             0.2222222222222222,
             "#7201a8"
            ],
            [
             0.3333333333333333,
             "#9c179e"
            ],
            [
             0.4444444444444444,
             "#bd3786"
            ],
            [
             0.5555555555555556,
             "#d8576b"
            ],
            [
             0.6666666666666666,
             "#ed7953"
            ],
            [
             0.7777777777777778,
             "#fb9f3a"
            ],
            [
             0.8888888888888888,
             "#fdca26"
            ],
            [
             1,
             "#f0f921"
            ]
           ],
           "sequentialminus": [
            [
             0,
             "#0d0887"
            ],
            [
             0.1111111111111111,
             "#46039f"
            ],
            [
             0.2222222222222222,
             "#7201a8"
            ],
            [
             0.3333333333333333,
             "#9c179e"
            ],
            [
             0.4444444444444444,
             "#bd3786"
            ],
            [
             0.5555555555555556,
             "#d8576b"
            ],
            [
             0.6666666666666666,
             "#ed7953"
            ],
            [
             0.7777777777777778,
             "#fb9f3a"
            ],
            [
             0.8888888888888888,
             "#fdca26"
            ],
            [
             1,
             "#f0f921"
            ]
           ]
          },
          "colorway": [
           "#636efa",
           "#EF553B",
           "#00cc96",
           "#ab63fa",
           "#FFA15A",
           "#19d3f3",
           "#FF6692",
           "#B6E880",
           "#FF97FF",
           "#FECB52"
          ],
          "font": {
           "color": "#2a3f5f"
          },
          "geo": {
           "bgcolor": "white",
           "lakecolor": "white",
           "landcolor": "#E5ECF6",
           "showlakes": true,
           "showland": true,
           "subunitcolor": "white"
          },
          "hoverlabel": {
           "align": "left"
          },
          "hovermode": "closest",
          "mapbox": {
           "style": "light"
          },
          "paper_bgcolor": "white",
          "plot_bgcolor": "#E5ECF6",
          "polar": {
           "angularaxis": {
            "gridcolor": "white",
            "linecolor": "white",
            "ticks": ""
           },
           "bgcolor": "#E5ECF6",
           "radialaxis": {
            "gridcolor": "white",
            "linecolor": "white",
            "ticks": ""
           }
          },
          "scene": {
           "xaxis": {
            "backgroundcolor": "#E5ECF6",
            "gridcolor": "white",
            "gridwidth": 2,
            "linecolor": "white",
            "showbackground": true,
            "ticks": "",
            "zerolinecolor": "white"
           },
           "yaxis": {
            "backgroundcolor": "#E5ECF6",
            "gridcolor": "white",
            "gridwidth": 2,
            "linecolor": "white",
            "showbackground": true,
            "ticks": "",
            "zerolinecolor": "white"
           },
           "zaxis": {
            "backgroundcolor": "#E5ECF6",
            "gridcolor": "white",
            "gridwidth": 2,
            "linecolor": "white",
            "showbackground": true,
            "ticks": "",
            "zerolinecolor": "white"
           }
          },
          "shapedefaults": {
           "line": {
            "color": "#2a3f5f"
           }
          },
          "ternary": {
           "aaxis": {
            "gridcolor": "white",
            "linecolor": "white",
            "ticks": ""
           },
           "baxis": {
            "gridcolor": "white",
            "linecolor": "white",
            "ticks": ""
           },
           "bgcolor": "#E5ECF6",
           "caxis": {
            "gridcolor": "white",
            "linecolor": "white",
            "ticks": ""
           }
          },
          "title": {
           "x": 0.05
          },
          "xaxis": {
           "automargin": true,
           "gridcolor": "white",
           "linecolor": "white",
           "ticks": "",
           "title": {
            "standoff": 15
           },
           "zerolinecolor": "white",
           "zerolinewidth": 2
          },
          "yaxis": {
           "automargin": true,
           "gridcolor": "white",
           "linecolor": "white",
           "ticks": "",
           "title": {
            "standoff": 15
           },
           "zerolinecolor": "white",
           "zerolinewidth": 2
          }
         }
        },
        "title": {
         "text": "Accuracy of GPT Manuscript Read",
         "x": 0.5,
         "xanchor": "center",
         "yanchor": "top"
        }
       }
      }
     },
     "metadata": {},
     "output_type": "display_data"
    }
   ],
   "source": [
    "# Usage with your dataframe\n",
    "fig = plotly_grouped_radial_bar(data_df, metric='Accuracy', category_col='Category', variable_col='Variable', title='Accuracy of GPT Manuscript Read')\n",
    "fig.show()"
   ]
  },
  {
   "cell_type": "markdown",
   "metadata": {},
   "source": [
    "**Example of Polar Barplot**"
   ]
  },
  {
   "cell_type": "code",
   "execution_count": null,
   "metadata": {},
   "outputs": [],
   "source": [
    "import plotly.graph_objects as go\n",
    "\n",
    "fig = go.Figure()\n",
    "\n",
    "fig.add_trace(go.Barpolar(\n",
    "    r=[77.5, 72.5, 70.0, 45.0, 22.5, 42.5, 40.0, 62.5],\n",
    "    name='11-14 m/s',\n",
    "    marker_color='rgb(106,81,163)'\n",
    "))\n",
    "fig.add_trace(go.Barpolar(\n",
    "    r=[57.5, 50.0, 45.0, 35.0, 20.0, 22.5, 37.5, 55.0],\n",
    "    name='8-11 m/s',\n",
    "    marker_color='rgb(158,154,200)'\n",
    "))\n",
    "fig.add_trace(go.Barpolar(\n",
    "    r=[40.0, 30.0, 30.0, 35.0, 7.5, 7.5, 32.5, 40.0],\n",
    "    name='5-8 m/s',\n",
    "    marker_color='rgb(203,201,226)'\n",
    "))\n",
    "fig.add_trace(go.Barpolar(\n",
    "    r=[20.0, 7.5, 15.0, 22.5, 2.5, 2.5, 12.5, 22.5],\n",
    "    name='< 5 m/s',\n",
    "    marker_color='rgb(242,240,247)'\n",
    "))\n",
    "\n",
    "fig.update_traces(text=['North', 'N-E', 'East', 'S-E', 'South', 'S-W', 'West', 'N-W'])\n",
    "fig.update_layout(\n",
    "    title='Wind Speed Distribution in Laurel, NE',\n",
    "    font_size=16,\n",
    "    legend_font_size=16,\n",
    "    polar_radialaxis_ticksuffix='%',\n",
    "    polar_angularaxis_rotation=90,\n",
    "\n",
    ")\n",
    "fig.show()"
   ]
  },
  {
   "cell_type": "code",
   "execution_count": null,
   "metadata": {},
   "outputs": [],
   "source": []
  }
 ],
 "metadata": {
  "kernelspec": {
   "display_name": "nimlab_py310",
   "language": "python",
   "name": "python3"
  },
  "language_info": {
   "codemirror_mode": {
    "name": "ipython",
    "version": 3
   },
   "file_extension": ".py",
   "mimetype": "text/x-python",
   "name": "python",
   "nbconvert_exporter": "python",
   "pygments_lexer": "ipython3",
   "version": "3.10.8"
  }
 },
 "nbformat": 4,
 "nbformat_minor": 4
}
