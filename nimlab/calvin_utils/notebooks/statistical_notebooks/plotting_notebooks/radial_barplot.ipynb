{
 "cells": [
  {
   "cell_type": "markdown",
   "metadata": {},
   "source": [
    "# Generate a Radial Bar Plot"
   ]
  },
  {
   "cell_type": "markdown",
   "metadata": {},
   "source": [
    "# 00 - Import CSV with All Data\n",
    "**The CSV is expected to be in this format**\n",
    "- ID and absolute paths to niftis are critical\n",
    "```\n",
    "+-----+----------------------------+--------------+--------------+--------------+\n",
    "| ID  | Nifti_File_Path            | Covariate_1  | Covariate_2  | Covariate_3  |\n",
    "+-----+----------------------------+--------------+--------------+--------------+\n",
    "| 1   | /path/to/file1.nii.gz      | 0.5          | 1.2          | 3.4          |\n",
    "| 2   | /path/to/file2.nii.gz      | 0.7          | 1.4          | 3.1          |\n",
    "| 3   | /path/to/file3.nii.gz      | 0.6          | 1.5          | 3.5          |\n",
    "| 4   | /path/to/file4.nii.gz      | 0.9          | 1.1          | 3.2          |\n",
    "| ... | ...                        | ...          | ...          | ...          |\n",
    "+-----+----------------------------+--------------+--------------+--------------+\n",
    "```"
   ]
  },
  {
   "cell_type": "markdown",
   "metadata": {},
   "source": []
  },
  {
   "cell_type": "code",
   "execution_count": 2,
   "metadata": {},
   "outputs": [],
   "source": [
    "# Specify the path to your CSV file containing NIFTI paths\n",
    "input_csv_path = '/Users/cu135/Library/CloudStorage/OneDrive-Personal/OneDrive_Documents/Work/KiTH_Solutions/Research/Clinical Trial/study_metadata/all_performances.xlsx'"
   ]
  },
  {
   "cell_type": "code",
   "execution_count": 3,
   "metadata": {},
   "outputs": [],
   "source": [
    "# Specify where you want to save your results to\n",
    "out_dir = '/Users/cu135/Dropbox (Partners HealthCare)/studies/review_pyper/figures/mansucript_figures/100_manuscript_questions'\n",
    "sheet = 'study_results'"
   ]
  },
  {
   "cell_type": "code",
   "execution_count": 4,
   "metadata": {},
   "outputs": [
    {
     "data": {
      "text/html": [
       "<div>\n",
       "<style scoped>\n",
       "    .dataframe tbody tr th:only-of-type {\n",
       "        vertical-align: middle;\n",
       "    }\n",
       "\n",
       "    .dataframe tbody tr th {\n",
       "        vertical-align: top;\n",
       "    }\n",
       "\n",
       "    .dataframe thead th {\n",
       "        text-align: right;\n",
       "    }\n",
       "</style>\n",
       "<table border=\"1\" class=\"dataframe\">\n",
       "  <thead>\n",
       "    <tr style=\"text-align: right;\">\n",
       "      <th></th>\n",
       "      <th>Name</th>\n",
       "      <th>Measurement</th>\n",
       "      <th>Cohort</th>\n",
       "      <th>Randomization_Group</th>\n",
       "      <th>Age</th>\n",
       "      <th>Cognitive_Status</th>\n",
       "      <th>Cognitive_Status_Code</th>\n",
       "      <th>Question_1</th>\n",
       "      <th>Question_2</th>\n",
       "      <th>Question_3</th>\n",
       "      <th>...</th>\n",
       "      <th>Expert_Algorithm_Equivalent</th>\n",
       "      <th>Subjective_Complaint</th>\n",
       "      <th>Attention_Complaint</th>\n",
       "      <th>Memory_Complaint</th>\n",
       "      <th>Fluency_Complaint</th>\n",
       "      <th>Language_Complaint</th>\n",
       "      <th>Visuospatial_Complaint</th>\n",
       "      <th>Impaired_on_ACE3</th>\n",
       "      <th>iADL_Impaired</th>\n",
       "      <th>ADL_Impaired</th>\n",
       "    </tr>\n",
       "  </thead>\n",
       "  <tbody>\n",
       "    <tr>\n",
       "      <th>0</th>\n",
       "      <td>NaN</td>\n",
       "      <td>patient_11</td>\n",
       "      <td>1</td>\n",
       "      <td>2.0</td>\n",
       "      <td>50</td>\n",
       "      <td>intact</td>\n",
       "      <td>1</td>\n",
       "      <td>10</td>\n",
       "      <td>3</td>\n",
       "      <td>5</td>\n",
       "      <td>...</td>\n",
       "      <td>33.0</td>\n",
       "      <td>None</td>\n",
       "      <td>NaN</td>\n",
       "      <td>NaN</td>\n",
       "      <td>NaN</td>\n",
       "      <td>NaN</td>\n",
       "      <td>NaN</td>\n",
       "      <td>No</td>\n",
       "      <td>None</td>\n",
       "      <td>None</td>\n",
       "    </tr>\n",
       "    <tr>\n",
       "      <th>1</th>\n",
       "      <td>NaN</td>\n",
       "      <td>patient_15</td>\n",
       "      <td>1</td>\n",
       "      <td>1.0</td>\n",
       "      <td>42</td>\n",
       "      <td>MCI</td>\n",
       "      <td>0</td>\n",
       "      <td>10</td>\n",
       "      <td>3</td>\n",
       "      <td>1</td>\n",
       "      <td>...</td>\n",
       "      <td>26.0</td>\n",
       "      <td>None</td>\n",
       "      <td>NaN</td>\n",
       "      <td>NaN</td>\n",
       "      <td>NaN</td>\n",
       "      <td>NaN</td>\n",
       "      <td>NaN</td>\n",
       "      <td>Yes</td>\n",
       "      <td>None</td>\n",
       "      <td>None</td>\n",
       "    </tr>\n",
       "    <tr>\n",
       "      <th>2</th>\n",
       "      <td>NaN</td>\n",
       "      <td>patient_17</td>\n",
       "      <td>1</td>\n",
       "      <td>1.0</td>\n",
       "      <td>35</td>\n",
       "      <td>MCI</td>\n",
       "      <td>0</td>\n",
       "      <td>10</td>\n",
       "      <td>3</td>\n",
       "      <td>2</td>\n",
       "      <td>...</td>\n",
       "      <td>30.0</td>\n",
       "      <td>Yes</td>\n",
       "      <td>NaN</td>\n",
       "      <td>Yes</td>\n",
       "      <td>NaN</td>\n",
       "      <td>Yes</td>\n",
       "      <td>NaN</td>\n",
       "      <td>Yes</td>\n",
       "      <td>None</td>\n",
       "      <td>None</td>\n",
       "    </tr>\n",
       "    <tr>\n",
       "      <th>3</th>\n",
       "      <td>NaN</td>\n",
       "      <td>patient_19</td>\n",
       "      <td>1</td>\n",
       "      <td>1.0</td>\n",
       "      <td>71</td>\n",
       "      <td>MCI</td>\n",
       "      <td>0</td>\n",
       "      <td>8</td>\n",
       "      <td>3</td>\n",
       "      <td>5</td>\n",
       "      <td>...</td>\n",
       "      <td>32.0</td>\n",
       "      <td>Yes</td>\n",
       "      <td>NaN</td>\n",
       "      <td>Yes</td>\n",
       "      <td>NaN</td>\n",
       "      <td>Yes</td>\n",
       "      <td>NaN</td>\n",
       "      <td>Yes</td>\n",
       "      <td>None</td>\n",
       "      <td>None</td>\n",
       "    </tr>\n",
       "    <tr>\n",
       "      <th>4</th>\n",
       "      <td>NaN</td>\n",
       "      <td>patient_24</td>\n",
       "      <td>1</td>\n",
       "      <td>2.0</td>\n",
       "      <td>48</td>\n",
       "      <td>intact</td>\n",
       "      <td>1</td>\n",
       "      <td>9</td>\n",
       "      <td>3</td>\n",
       "      <td>5</td>\n",
       "      <td>...</td>\n",
       "      <td>32.0</td>\n",
       "      <td>Yes</td>\n",
       "      <td>NaN</td>\n",
       "      <td>NaN</td>\n",
       "      <td>NaN</td>\n",
       "      <td>Yes</td>\n",
       "      <td>NaN</td>\n",
       "      <td>No</td>\n",
       "      <td>None</td>\n",
       "      <td>None</td>\n",
       "    </tr>\n",
       "    <tr>\n",
       "      <th>5</th>\n",
       "      <td>NaN</td>\n",
       "      <td>patient_25</td>\n",
       "      <td>1</td>\n",
       "      <td>1.0</td>\n",
       "      <td>53</td>\n",
       "      <td>MCI</td>\n",
       "      <td>0</td>\n",
       "      <td>10</td>\n",
       "      <td>3</td>\n",
       "      <td>1</td>\n",
       "      <td>...</td>\n",
       "      <td>28.0</td>\n",
       "      <td>Yes</td>\n",
       "      <td>NaN</td>\n",
       "      <td>Yes</td>\n",
       "      <td>NaN</td>\n",
       "      <td>NaN</td>\n",
       "      <td>NaN</td>\n",
       "      <td>Yes</td>\n",
       "      <td>None</td>\n",
       "      <td>None</td>\n",
       "    </tr>\n",
       "    <tr>\n",
       "      <th>6</th>\n",
       "      <td>NaN</td>\n",
       "      <td>patient_26</td>\n",
       "      <td>1</td>\n",
       "      <td>1.0</td>\n",
       "      <td>49</td>\n",
       "      <td>MCI</td>\n",
       "      <td>0</td>\n",
       "      <td>10</td>\n",
       "      <td>3</td>\n",
       "      <td>5</td>\n",
       "      <td>...</td>\n",
       "      <td>31.0</td>\n",
       "      <td>Yes</td>\n",
       "      <td>NaN</td>\n",
       "      <td>NaN</td>\n",
       "      <td>NaN</td>\n",
       "      <td>Yes</td>\n",
       "      <td>NaN</td>\n",
       "      <td>Yes</td>\n",
       "      <td>None</td>\n",
       "      <td>None</td>\n",
       "    </tr>\n",
       "    <tr>\n",
       "      <th>7</th>\n",
       "      <td>NaN</td>\n",
       "      <td>patient_30</td>\n",
       "      <td>1</td>\n",
       "      <td>2.0</td>\n",
       "      <td>33</td>\n",
       "      <td>intact</td>\n",
       "      <td>1</td>\n",
       "      <td>10</td>\n",
       "      <td>3</td>\n",
       "      <td>5</td>\n",
       "      <td>...</td>\n",
       "      <td>32.0</td>\n",
       "      <td>Yes</td>\n",
       "      <td>Yes</td>\n",
       "      <td>Yes</td>\n",
       "      <td>NaN</td>\n",
       "      <td>Yes</td>\n",
       "      <td>NaN</td>\n",
       "      <td>No</td>\n",
       "      <td>None</td>\n",
       "      <td>None</td>\n",
       "    </tr>\n",
       "    <tr>\n",
       "      <th>8</th>\n",
       "      <td>NaN</td>\n",
       "      <td>patient_33</td>\n",
       "      <td>1</td>\n",
       "      <td>2.0</td>\n",
       "      <td>36</td>\n",
       "      <td>MCI</td>\n",
       "      <td>0</td>\n",
       "      <td>10</td>\n",
       "      <td>3</td>\n",
       "      <td>5</td>\n",
       "      <td>...</td>\n",
       "      <td>32.0</td>\n",
       "      <td>Yes</td>\n",
       "      <td>NaN</td>\n",
       "      <td>Yes</td>\n",
       "      <td>NaN</td>\n",
       "      <td>NaN</td>\n",
       "      <td>NaN</td>\n",
       "      <td>Yes</td>\n",
       "      <td>None</td>\n",
       "      <td>None</td>\n",
       "    </tr>\n",
       "    <tr>\n",
       "      <th>9</th>\n",
       "      <td>NaN</td>\n",
       "      <td>patient_38</td>\n",
       "      <td>1</td>\n",
       "      <td>2.0</td>\n",
       "      <td>27</td>\n",
       "      <td>MCI</td>\n",
       "      <td>0</td>\n",
       "      <td>9</td>\n",
       "      <td>3</td>\n",
       "      <td>4</td>\n",
       "      <td>...</td>\n",
       "      <td>24.0</td>\n",
       "      <td>Yes</td>\n",
       "      <td>NaN</td>\n",
       "      <td>Yes</td>\n",
       "      <td>NaN</td>\n",
       "      <td>NaN</td>\n",
       "      <td>NaN</td>\n",
       "      <td>Yes</td>\n",
       "      <td>None</td>\n",
       "      <td>None</td>\n",
       "    </tr>\n",
       "    <tr>\n",
       "      <th>10</th>\n",
       "      <td>NaN</td>\n",
       "      <td>patient_40</td>\n",
       "      <td>1</td>\n",
       "      <td>1.0</td>\n",
       "      <td>51</td>\n",
       "      <td>intact</td>\n",
       "      <td>1</td>\n",
       "      <td>9</td>\n",
       "      <td>3</td>\n",
       "      <td>5</td>\n",
       "      <td>...</td>\n",
       "      <td>26.0</td>\n",
       "      <td>Yes</td>\n",
       "      <td>NaN</td>\n",
       "      <td>Yes</td>\n",
       "      <td>NaN</td>\n",
       "      <td>Yes</td>\n",
       "      <td>NaN</td>\n",
       "      <td>No</td>\n",
       "      <td>None</td>\n",
       "      <td>None</td>\n",
       "    </tr>\n",
       "    <tr>\n",
       "      <th>11</th>\n",
       "      <td>NaN</td>\n",
       "      <td>patient_42</td>\n",
       "      <td>1</td>\n",
       "      <td>1.0</td>\n",
       "      <td>46</td>\n",
       "      <td>intact</td>\n",
       "      <td>1</td>\n",
       "      <td>10</td>\n",
       "      <td>3</td>\n",
       "      <td>5</td>\n",
       "      <td>...</td>\n",
       "      <td>31.0</td>\n",
       "      <td>Yes</td>\n",
       "      <td>NaN</td>\n",
       "      <td>Yes</td>\n",
       "      <td>NaN</td>\n",
       "      <td>Yes</td>\n",
       "      <td>NaN</td>\n",
       "      <td>No</td>\n",
       "      <td>None</td>\n",
       "      <td>None</td>\n",
       "    </tr>\n",
       "    <tr>\n",
       "      <th>12</th>\n",
       "      <td>NaN</td>\n",
       "      <td>patient_47</td>\n",
       "      <td>1</td>\n",
       "      <td>1.0</td>\n",
       "      <td>37</td>\n",
       "      <td>MCI</td>\n",
       "      <td>0</td>\n",
       "      <td>9</td>\n",
       "      <td>3</td>\n",
       "      <td>4</td>\n",
       "      <td>...</td>\n",
       "      <td>30.0</td>\n",
       "      <td>No</td>\n",
       "      <td>NaN</td>\n",
       "      <td>NaN</td>\n",
       "      <td>NaN</td>\n",
       "      <td>NaN</td>\n",
       "      <td>NaN</td>\n",
       "      <td>No</td>\n",
       "      <td>None</td>\n",
       "      <td>None</td>\n",
       "    </tr>\n",
       "    <tr>\n",
       "      <th>13</th>\n",
       "      <td>NaN</td>\n",
       "      <td>patient_108</td>\n",
       "      <td>2</td>\n",
       "      <td>1.0</td>\n",
       "      <td>35</td>\n",
       "      <td>intact</td>\n",
       "      <td>1</td>\n",
       "      <td>10</td>\n",
       "      <td>3</td>\n",
       "      <td>5</td>\n",
       "      <td>...</td>\n",
       "      <td>33.0</td>\n",
       "      <td>NaN</td>\n",
       "      <td>NaN</td>\n",
       "      <td>NaN</td>\n",
       "      <td>NaN</td>\n",
       "      <td>NaN</td>\n",
       "      <td>NaN</td>\n",
       "      <td>NaN</td>\n",
       "      <td>NaN</td>\n",
       "      <td>NaN</td>\n",
       "    </tr>\n",
       "    <tr>\n",
       "      <th>14</th>\n",
       "      <td>NaN</td>\n",
       "      <td>patient_109</td>\n",
       "      <td>2</td>\n",
       "      <td>1.0</td>\n",
       "      <td>41</td>\n",
       "      <td>MCI</td>\n",
       "      <td>0</td>\n",
       "      <td>10</td>\n",
       "      <td>3</td>\n",
       "      <td>5</td>\n",
       "      <td>...</td>\n",
       "      <td>29.0</td>\n",
       "      <td>NaN</td>\n",
       "      <td>NaN</td>\n",
       "      <td>NaN</td>\n",
       "      <td>NaN</td>\n",
       "      <td>NaN</td>\n",
       "      <td>NaN</td>\n",
       "      <td>NaN</td>\n",
       "      <td>NaN</td>\n",
       "      <td>NaN</td>\n",
       "    </tr>\n",
       "    <tr>\n",
       "      <th>15</th>\n",
       "      <td>NaN</td>\n",
       "      <td>patient_106</td>\n",
       "      <td>2</td>\n",
       "      <td>1.0</td>\n",
       "      <td>39</td>\n",
       "      <td>intact</td>\n",
       "      <td>1</td>\n",
       "      <td>9</td>\n",
       "      <td>3</td>\n",
       "      <td>0</td>\n",
       "      <td>...</td>\n",
       "      <td>30.0</td>\n",
       "      <td>NaN</td>\n",
       "      <td>NaN</td>\n",
       "      <td>NaN</td>\n",
       "      <td>NaN</td>\n",
       "      <td>NaN</td>\n",
       "      <td>NaN</td>\n",
       "      <td>NaN</td>\n",
       "      <td>NaN</td>\n",
       "      <td>NaN</td>\n",
       "    </tr>\n",
       "    <tr>\n",
       "      <th>16</th>\n",
       "      <td>NaN</td>\n",
       "      <td>patient_110</td>\n",
       "      <td>2</td>\n",
       "      <td>2.0</td>\n",
       "      <td>39</td>\n",
       "      <td>intact</td>\n",
       "      <td>1</td>\n",
       "      <td>10</td>\n",
       "      <td>3</td>\n",
       "      <td>3</td>\n",
       "      <td>...</td>\n",
       "      <td>29.0</td>\n",
       "      <td>NaN</td>\n",
       "      <td>NaN</td>\n",
       "      <td>NaN</td>\n",
       "      <td>NaN</td>\n",
       "      <td>NaN</td>\n",
       "      <td>NaN</td>\n",
       "      <td>NaN</td>\n",
       "      <td>NaN</td>\n",
       "      <td>NaN</td>\n",
       "    </tr>\n",
       "    <tr>\n",
       "      <th>17</th>\n",
       "      <td>NaN</td>\n",
       "      <td>patient_104</td>\n",
       "      <td>2</td>\n",
       "      <td>1.0</td>\n",
       "      <td>63</td>\n",
       "      <td>MCI</td>\n",
       "      <td>0</td>\n",
       "      <td>10</td>\n",
       "      <td>3</td>\n",
       "      <td>0</td>\n",
       "      <td>...</td>\n",
       "      <td>26.0</td>\n",
       "      <td>NaN</td>\n",
       "      <td>NaN</td>\n",
       "      <td>NaN</td>\n",
       "      <td>NaN</td>\n",
       "      <td>NaN</td>\n",
       "      <td>NaN</td>\n",
       "      <td>NaN</td>\n",
       "      <td>NaN</td>\n",
       "      <td>NaN</td>\n",
       "    </tr>\n",
       "    <tr>\n",
       "      <th>18</th>\n",
       "      <td>NaN</td>\n",
       "      <td>patient_111</td>\n",
       "      <td>2</td>\n",
       "      <td>1.0</td>\n",
       "      <td>61</td>\n",
       "      <td>MCI</td>\n",
       "      <td>0</td>\n",
       "      <td>6</td>\n",
       "      <td>3</td>\n",
       "      <td>0</td>\n",
       "      <td>...</td>\n",
       "      <td>21.0</td>\n",
       "      <td>NaN</td>\n",
       "      <td>NaN</td>\n",
       "      <td>NaN</td>\n",
       "      <td>NaN</td>\n",
       "      <td>NaN</td>\n",
       "      <td>NaN</td>\n",
       "      <td>NaN</td>\n",
       "      <td>NaN</td>\n",
       "      <td>NaN</td>\n",
       "    </tr>\n",
       "    <tr>\n",
       "      <th>19</th>\n",
       "      <td>NaN</td>\n",
       "      <td>patient_103</td>\n",
       "      <td>2</td>\n",
       "      <td>2.0</td>\n",
       "      <td>43</td>\n",
       "      <td>MCI</td>\n",
       "      <td>0</td>\n",
       "      <td>9</td>\n",
       "      <td>3</td>\n",
       "      <td>3</td>\n",
       "      <td>...</td>\n",
       "      <td>30.0</td>\n",
       "      <td>NaN</td>\n",
       "      <td>NaN</td>\n",
       "      <td>NaN</td>\n",
       "      <td>NaN</td>\n",
       "      <td>NaN</td>\n",
       "      <td>NaN</td>\n",
       "      <td>NaN</td>\n",
       "      <td>NaN</td>\n",
       "      <td>NaN</td>\n",
       "    </tr>\n",
       "    <tr>\n",
       "      <th>20</th>\n",
       "      <td>NaN</td>\n",
       "      <td>patient_112</td>\n",
       "      <td>2</td>\n",
       "      <td>2.0</td>\n",
       "      <td>83</td>\n",
       "      <td>intact</td>\n",
       "      <td>1</td>\n",
       "      <td>9</td>\n",
       "      <td>2</td>\n",
       "      <td>5</td>\n",
       "      <td>...</td>\n",
       "      <td>30.0</td>\n",
       "      <td>NaN</td>\n",
       "      <td>NaN</td>\n",
       "      <td>NaN</td>\n",
       "      <td>NaN</td>\n",
       "      <td>NaN</td>\n",
       "      <td>NaN</td>\n",
       "      <td>NaN</td>\n",
       "      <td>NaN</td>\n",
       "      <td>NaN</td>\n",
       "    </tr>\n",
       "    <tr>\n",
       "      <th>21</th>\n",
       "      <td>NaN</td>\n",
       "      <td>patient_102</td>\n",
       "      <td>2</td>\n",
       "      <td>2.0</td>\n",
       "      <td>39</td>\n",
       "      <td>MCI</td>\n",
       "      <td>0</td>\n",
       "      <td>8</td>\n",
       "      <td>2</td>\n",
       "      <td>5</td>\n",
       "      <td>...</td>\n",
       "      <td>26.0</td>\n",
       "      <td>NaN</td>\n",
       "      <td>NaN</td>\n",
       "      <td>NaN</td>\n",
       "      <td>NaN</td>\n",
       "      <td>NaN</td>\n",
       "      <td>NaN</td>\n",
       "      <td>NaN</td>\n",
       "      <td>NaN</td>\n",
       "      <td>NaN</td>\n",
       "    </tr>\n",
       "    <tr>\n",
       "      <th>22</th>\n",
       "      <td>NaN</td>\n",
       "      <td>patient_103</td>\n",
       "      <td>2</td>\n",
       "      <td>2.0</td>\n",
       "      <td>43</td>\n",
       "      <td>MCI</td>\n",
       "      <td>0</td>\n",
       "      <td>9</td>\n",
       "      <td>3</td>\n",
       "      <td>4</td>\n",
       "      <td>...</td>\n",
       "      <td>30.0</td>\n",
       "      <td>NaN</td>\n",
       "      <td>NaN</td>\n",
       "      <td>NaN</td>\n",
       "      <td>NaN</td>\n",
       "      <td>NaN</td>\n",
       "      <td>NaN</td>\n",
       "      <td>NaN</td>\n",
       "      <td>NaN</td>\n",
       "      <td>NaN</td>\n",
       "    </tr>\n",
       "    <tr>\n",
       "      <th>23</th>\n",
       "      <td>NaN</td>\n",
       "      <td>patient_114</td>\n",
       "      <td>2</td>\n",
       "      <td>2.0</td>\n",
       "      <td>35</td>\n",
       "      <td>intact</td>\n",
       "      <td>1</td>\n",
       "      <td>10</td>\n",
       "      <td>3</td>\n",
       "      <td>5</td>\n",
       "      <td>...</td>\n",
       "      <td>32.0</td>\n",
       "      <td>NaN</td>\n",
       "      <td>NaN</td>\n",
       "      <td>NaN</td>\n",
       "      <td>NaN</td>\n",
       "      <td>NaN</td>\n",
       "      <td>NaN</td>\n",
       "      <td>NaN</td>\n",
       "      <td>NaN</td>\n",
       "      <td>NaN</td>\n",
       "    </tr>\n",
       "    <tr>\n",
       "      <th>24</th>\n",
       "      <td>NaN</td>\n",
       "      <td>patient_107</td>\n",
       "      <td>2</td>\n",
       "      <td>1.0</td>\n",
       "      <td>54</td>\n",
       "      <td>MCI</td>\n",
       "      <td>0</td>\n",
       "      <td>10</td>\n",
       "      <td>3</td>\n",
       "      <td>3</td>\n",
       "      <td>...</td>\n",
       "      <td>26.0</td>\n",
       "      <td>NaN</td>\n",
       "      <td>NaN</td>\n",
       "      <td>NaN</td>\n",
       "      <td>NaN</td>\n",
       "      <td>NaN</td>\n",
       "      <td>NaN</td>\n",
       "      <td>NaN</td>\n",
       "      <td>NaN</td>\n",
       "      <td>NaN</td>\n",
       "    </tr>\n",
       "    <tr>\n",
       "      <th>25</th>\n",
       "      <td>NaN</td>\n",
       "      <td>patient_115</td>\n",
       "      <td>2</td>\n",
       "      <td>1.0</td>\n",
       "      <td>35</td>\n",
       "      <td>intact</td>\n",
       "      <td>1</td>\n",
       "      <td>10</td>\n",
       "      <td>3</td>\n",
       "      <td>5</td>\n",
       "      <td>...</td>\n",
       "      <td>32.0</td>\n",
       "      <td>NaN</td>\n",
       "      <td>NaN</td>\n",
       "      <td>NaN</td>\n",
       "      <td>NaN</td>\n",
       "      <td>NaN</td>\n",
       "      <td>NaN</td>\n",
       "      <td>NaN</td>\n",
       "      <td>NaN</td>\n",
       "      <td>NaN</td>\n",
       "    </tr>\n",
       "    <tr>\n",
       "      <th>26</th>\n",
       "      <td>NaN</td>\n",
       "      <td>patient_119</td>\n",
       "      <td>4</td>\n",
       "      <td>2.0</td>\n",
       "      <td>37</td>\n",
       "      <td>intact</td>\n",
       "      <td>1</td>\n",
       "      <td>10</td>\n",
       "      <td>3</td>\n",
       "      <td>5</td>\n",
       "      <td>...</td>\n",
       "      <td>33.0</td>\n",
       "      <td>NaN</td>\n",
       "      <td>NaN</td>\n",
       "      <td>NaN</td>\n",
       "      <td>NaN</td>\n",
       "      <td>NaN</td>\n",
       "      <td>NaN</td>\n",
       "      <td>NaN</td>\n",
       "      <td>NaN</td>\n",
       "      <td>NaN</td>\n",
       "    </tr>\n",
       "    <tr>\n",
       "      <th>27</th>\n",
       "      <td>NaN</td>\n",
       "      <td>patient_121</td>\n",
       "      <td>4</td>\n",
       "      <td>2.0</td>\n",
       "      <td>36</td>\n",
       "      <td>intact</td>\n",
       "      <td>1</td>\n",
       "      <td>9</td>\n",
       "      <td>3</td>\n",
       "      <td>5</td>\n",
       "      <td>...</td>\n",
       "      <td>31.0</td>\n",
       "      <td>NaN</td>\n",
       "      <td>NaN</td>\n",
       "      <td>NaN</td>\n",
       "      <td>NaN</td>\n",
       "      <td>NaN</td>\n",
       "      <td>NaN</td>\n",
       "      <td>NaN</td>\n",
       "      <td>NaN</td>\n",
       "      <td>NaN</td>\n",
       "    </tr>\n",
       "    <tr>\n",
       "      <th>28</th>\n",
       "      <td>NaN</td>\n",
       "      <td>patient_122</td>\n",
       "      <td>4</td>\n",
       "      <td>1.0</td>\n",
       "      <td>35</td>\n",
       "      <td>intact</td>\n",
       "      <td>1</td>\n",
       "      <td>10</td>\n",
       "      <td>3</td>\n",
       "      <td>5</td>\n",
       "      <td>...</td>\n",
       "      <td>31.0</td>\n",
       "      <td>NaN</td>\n",
       "      <td>NaN</td>\n",
       "      <td>NaN</td>\n",
       "      <td>NaN</td>\n",
       "      <td>NaN</td>\n",
       "      <td>NaN</td>\n",
       "      <td>NaN</td>\n",
       "      <td>NaN</td>\n",
       "      <td>NaN</td>\n",
       "    </tr>\n",
       "    <tr>\n",
       "      <th>29</th>\n",
       "      <td>NaN</td>\n",
       "      <td>patient_123</td>\n",
       "      <td>4</td>\n",
       "      <td>2.0</td>\n",
       "      <td>35</td>\n",
       "      <td>intact</td>\n",
       "      <td>1</td>\n",
       "      <td>10</td>\n",
       "      <td>3</td>\n",
       "      <td>5</td>\n",
       "      <td>...</td>\n",
       "      <td>32.0</td>\n",
       "      <td>NaN</td>\n",
       "      <td>NaN</td>\n",
       "      <td>NaN</td>\n",
       "      <td>NaN</td>\n",
       "      <td>NaN</td>\n",
       "      <td>NaN</td>\n",
       "      <td>NaN</td>\n",
       "      <td>NaN</td>\n",
       "      <td>NaN</td>\n",
       "    </tr>\n",
       "    <tr>\n",
       "      <th>30</th>\n",
       "      <td>NaN</td>\n",
       "      <td>patient_126</td>\n",
       "      <td>4</td>\n",
       "      <td>1.0</td>\n",
       "      <td>37</td>\n",
       "      <td>intact</td>\n",
       "      <td>1</td>\n",
       "      <td>10</td>\n",
       "      <td>3</td>\n",
       "      <td>5</td>\n",
       "      <td>...</td>\n",
       "      <td>33.0</td>\n",
       "      <td>NaN</td>\n",
       "      <td>NaN</td>\n",
       "      <td>NaN</td>\n",
       "      <td>NaN</td>\n",
       "      <td>NaN</td>\n",
       "      <td>NaN</td>\n",
       "      <td>NaN</td>\n",
       "      <td>NaN</td>\n",
       "      <td>NaN</td>\n",
       "    </tr>\n",
       "    <tr>\n",
       "      <th>31</th>\n",
       "      <td>NaN</td>\n",
       "      <td>patient_128</td>\n",
       "      <td>4</td>\n",
       "      <td>2.0</td>\n",
       "      <td>78</td>\n",
       "      <td>intact</td>\n",
       "      <td>1</td>\n",
       "      <td>10</td>\n",
       "      <td>3</td>\n",
       "      <td>5</td>\n",
       "      <td>...</td>\n",
       "      <td>31.0</td>\n",
       "      <td>NaN</td>\n",
       "      <td>NaN</td>\n",
       "      <td>NaN</td>\n",
       "      <td>NaN</td>\n",
       "      <td>NaN</td>\n",
       "      <td>NaN</td>\n",
       "      <td>NaN</td>\n",
       "      <td>NaN</td>\n",
       "      <td>NaN</td>\n",
       "    </tr>\n",
       "    <tr>\n",
       "      <th>32</th>\n",
       "      <td>NaN</td>\n",
       "      <td>patient_130</td>\n",
       "      <td>4</td>\n",
       "      <td>1.0</td>\n",
       "      <td>47</td>\n",
       "      <td>intact</td>\n",
       "      <td>1</td>\n",
       "      <td>10</td>\n",
       "      <td>3</td>\n",
       "      <td>5</td>\n",
       "      <td>...</td>\n",
       "      <td>31.0</td>\n",
       "      <td>NaN</td>\n",
       "      <td>NaN</td>\n",
       "      <td>NaN</td>\n",
       "      <td>NaN</td>\n",
       "      <td>NaN</td>\n",
       "      <td>NaN</td>\n",
       "      <td>NaN</td>\n",
       "      <td>NaN</td>\n",
       "      <td>NaN</td>\n",
       "    </tr>\n",
       "    <tr>\n",
       "      <th>33</th>\n",
       "      <td>NaN</td>\n",
       "      <td>patient_131</td>\n",
       "      <td>4</td>\n",
       "      <td>1.0</td>\n",
       "      <td>49</td>\n",
       "      <td>intact</td>\n",
       "      <td>1</td>\n",
       "      <td>10</td>\n",
       "      <td>3</td>\n",
       "      <td>5</td>\n",
       "      <td>...</td>\n",
       "      <td>31.0</td>\n",
       "      <td>NaN</td>\n",
       "      <td>NaN</td>\n",
       "      <td>NaN</td>\n",
       "      <td>NaN</td>\n",
       "      <td>NaN</td>\n",
       "      <td>NaN</td>\n",
       "      <td>NaN</td>\n",
       "      <td>NaN</td>\n",
       "      <td>NaN</td>\n",
       "    </tr>\n",
       "    <tr>\n",
       "      <th>34</th>\n",
       "      <td>NaN</td>\n",
       "      <td>patient_132</td>\n",
       "      <td>4</td>\n",
       "      <td>2.0</td>\n",
       "      <td>45</td>\n",
       "      <td>intact</td>\n",
       "      <td>1</td>\n",
       "      <td>10</td>\n",
       "      <td>2</td>\n",
       "      <td>4</td>\n",
       "      <td>...</td>\n",
       "      <td>30.0</td>\n",
       "      <td>NaN</td>\n",
       "      <td>NaN</td>\n",
       "      <td>NaN</td>\n",
       "      <td>NaN</td>\n",
       "      <td>NaN</td>\n",
       "      <td>NaN</td>\n",
       "      <td>NaN</td>\n",
       "      <td>NaN</td>\n",
       "      <td>NaN</td>\n",
       "    </tr>\n",
       "    <tr>\n",
       "      <th>35</th>\n",
       "      <td>NaN</td>\n",
       "      <td>patient_1020</td>\n",
       "      <td>3</td>\n",
       "      <td>NaN</td>\n",
       "      <td>41</td>\n",
       "      <td>intact</td>\n",
       "      <td>1</td>\n",
       "      <td>10</td>\n",
       "      <td>3</td>\n",
       "      <td>5</td>\n",
       "      <td>...</td>\n",
       "      <td>NaN</td>\n",
       "      <td>NaN</td>\n",
       "      <td>NaN</td>\n",
       "      <td>NaN</td>\n",
       "      <td>NaN</td>\n",
       "      <td>NaN</td>\n",
       "      <td>NaN</td>\n",
       "      <td>NaN</td>\n",
       "      <td>NaN</td>\n",
       "      <td>NaN</td>\n",
       "    </tr>\n",
       "    <tr>\n",
       "      <th>36</th>\n",
       "      <td>NaN</td>\n",
       "      <td>patient_1021</td>\n",
       "      <td>3</td>\n",
       "      <td>NaN</td>\n",
       "      <td>33</td>\n",
       "      <td>intact</td>\n",
       "      <td>1</td>\n",
       "      <td>10</td>\n",
       "      <td>3</td>\n",
       "      <td>5</td>\n",
       "      <td>...</td>\n",
       "      <td>NaN</td>\n",
       "      <td>NaN</td>\n",
       "      <td>NaN</td>\n",
       "      <td>NaN</td>\n",
       "      <td>NaN</td>\n",
       "      <td>NaN</td>\n",
       "      <td>NaN</td>\n",
       "      <td>NaN</td>\n",
       "      <td>NaN</td>\n",
       "      <td>NaN</td>\n",
       "    </tr>\n",
       "    <tr>\n",
       "      <th>37</th>\n",
       "      <td>NaN</td>\n",
       "      <td>patient_1003</td>\n",
       "      <td>3</td>\n",
       "      <td>NaN</td>\n",
       "      <td>65</td>\n",
       "      <td>intact</td>\n",
       "      <td>1</td>\n",
       "      <td>10</td>\n",
       "      <td>1</td>\n",
       "      <td>1</td>\n",
       "      <td>...</td>\n",
       "      <td>NaN</td>\n",
       "      <td>NaN</td>\n",
       "      <td>NaN</td>\n",
       "      <td>NaN</td>\n",
       "      <td>NaN</td>\n",
       "      <td>NaN</td>\n",
       "      <td>NaN</td>\n",
       "      <td>NaN</td>\n",
       "      <td>NaN</td>\n",
       "      <td>NaN</td>\n",
       "    </tr>\n",
       "    <tr>\n",
       "      <th>38</th>\n",
       "      <td>NaN</td>\n",
       "      <td>patient_1004</td>\n",
       "      <td>3</td>\n",
       "      <td>NaN</td>\n",
       "      <td>70</td>\n",
       "      <td>intact</td>\n",
       "      <td>1</td>\n",
       "      <td>10</td>\n",
       "      <td>3</td>\n",
       "      <td>3</td>\n",
       "      <td>...</td>\n",
       "      <td>NaN</td>\n",
       "      <td>NaN</td>\n",
       "      <td>NaN</td>\n",
       "      <td>NaN</td>\n",
       "      <td>NaN</td>\n",
       "      <td>NaN</td>\n",
       "      <td>NaN</td>\n",
       "      <td>NaN</td>\n",
       "      <td>NaN</td>\n",
       "      <td>NaN</td>\n",
       "    </tr>\n",
       "    <tr>\n",
       "      <th>39</th>\n",
       "      <td>NaN</td>\n",
       "      <td>patient_1005</td>\n",
       "      <td>3</td>\n",
       "      <td>NaN</td>\n",
       "      <td>82</td>\n",
       "      <td>intact</td>\n",
       "      <td>1</td>\n",
       "      <td>10</td>\n",
       "      <td>1</td>\n",
       "      <td>5</td>\n",
       "      <td>...</td>\n",
       "      <td>NaN</td>\n",
       "      <td>NaN</td>\n",
       "      <td>NaN</td>\n",
       "      <td>NaN</td>\n",
       "      <td>NaN</td>\n",
       "      <td>NaN</td>\n",
       "      <td>NaN</td>\n",
       "      <td>NaN</td>\n",
       "      <td>NaN</td>\n",
       "      <td>NaN</td>\n",
       "    </tr>\n",
       "    <tr>\n",
       "      <th>40</th>\n",
       "      <td>NaN</td>\n",
       "      <td>patient_1006</td>\n",
       "      <td>3</td>\n",
       "      <td>NaN</td>\n",
       "      <td>80</td>\n",
       "      <td>intact</td>\n",
       "      <td>1</td>\n",
       "      <td>10</td>\n",
       "      <td>0</td>\n",
       "      <td>5</td>\n",
       "      <td>...</td>\n",
       "      <td>NaN</td>\n",
       "      <td>NaN</td>\n",
       "      <td>NaN</td>\n",
       "      <td>NaN</td>\n",
       "      <td>NaN</td>\n",
       "      <td>NaN</td>\n",
       "      <td>NaN</td>\n",
       "      <td>NaN</td>\n",
       "      <td>NaN</td>\n",
       "      <td>NaN</td>\n",
       "    </tr>\n",
       "    <tr>\n",
       "      <th>41</th>\n",
       "      <td>NaN</td>\n",
       "      <td>patient_1007</td>\n",
       "      <td>3</td>\n",
       "      <td>NaN</td>\n",
       "      <td>62</td>\n",
       "      <td>intact</td>\n",
       "      <td>1</td>\n",
       "      <td>10</td>\n",
       "      <td>1</td>\n",
       "      <td>5</td>\n",
       "      <td>...</td>\n",
       "      <td>NaN</td>\n",
       "      <td>NaN</td>\n",
       "      <td>NaN</td>\n",
       "      <td>NaN</td>\n",
       "      <td>NaN</td>\n",
       "      <td>NaN</td>\n",
       "      <td>NaN</td>\n",
       "      <td>NaN</td>\n",
       "      <td>NaN</td>\n",
       "      <td>NaN</td>\n",
       "    </tr>\n",
       "    <tr>\n",
       "      <th>42</th>\n",
       "      <td>NaN</td>\n",
       "      <td>patient_1008</td>\n",
       "      <td>3</td>\n",
       "      <td>NaN</td>\n",
       "      <td>52</td>\n",
       "      <td>intact</td>\n",
       "      <td>1</td>\n",
       "      <td>10</td>\n",
       "      <td>1</td>\n",
       "      <td>3</td>\n",
       "      <td>...</td>\n",
       "      <td>NaN</td>\n",
       "      <td>NaN</td>\n",
       "      <td>NaN</td>\n",
       "      <td>NaN</td>\n",
       "      <td>NaN</td>\n",
       "      <td>NaN</td>\n",
       "      <td>NaN</td>\n",
       "      <td>NaN</td>\n",
       "      <td>NaN</td>\n",
       "      <td>NaN</td>\n",
       "    </tr>\n",
       "    <tr>\n",
       "      <th>43</th>\n",
       "      <td>NaN</td>\n",
       "      <td>patient_1009</td>\n",
       "      <td>3</td>\n",
       "      <td>NaN</td>\n",
       "      <td>49</td>\n",
       "      <td>MCI</td>\n",
       "      <td>0</td>\n",
       "      <td>10</td>\n",
       "      <td>0</td>\n",
       "      <td>1</td>\n",
       "      <td>...</td>\n",
       "      <td>NaN</td>\n",
       "      <td>NaN</td>\n",
       "      <td>NaN</td>\n",
       "      <td>NaN</td>\n",
       "      <td>NaN</td>\n",
       "      <td>NaN</td>\n",
       "      <td>NaN</td>\n",
       "      <td>NaN</td>\n",
       "      <td>NaN</td>\n",
       "      <td>NaN</td>\n",
       "    </tr>\n",
       "    <tr>\n",
       "      <th>44</th>\n",
       "      <td>NaN</td>\n",
       "      <td>patient_1010</td>\n",
       "      <td>3</td>\n",
       "      <td>NaN</td>\n",
       "      <td>66</td>\n",
       "      <td>MCI</td>\n",
       "      <td>0</td>\n",
       "      <td>10</td>\n",
       "      <td>1</td>\n",
       "      <td>5</td>\n",
       "      <td>...</td>\n",
       "      <td>NaN</td>\n",
       "      <td>NaN</td>\n",
       "      <td>NaN</td>\n",
       "      <td>NaN</td>\n",
       "      <td>NaN</td>\n",
       "      <td>NaN</td>\n",
       "      <td>NaN</td>\n",
       "      <td>NaN</td>\n",
       "      <td>NaN</td>\n",
       "      <td>NaN</td>\n",
       "    </tr>\n",
       "    <tr>\n",
       "      <th>45</th>\n",
       "      <td>NaN</td>\n",
       "      <td>patient_1011</td>\n",
       "      <td>3</td>\n",
       "      <td>NaN</td>\n",
       "      <td>71</td>\n",
       "      <td>intact</td>\n",
       "      <td>1</td>\n",
       "      <td>10</td>\n",
       "      <td>1</td>\n",
       "      <td>4</td>\n",
       "      <td>...</td>\n",
       "      <td>NaN</td>\n",
       "      <td>NaN</td>\n",
       "      <td>NaN</td>\n",
       "      <td>NaN</td>\n",
       "      <td>NaN</td>\n",
       "      <td>NaN</td>\n",
       "      <td>NaN</td>\n",
       "      <td>NaN</td>\n",
       "      <td>NaN</td>\n",
       "      <td>NaN</td>\n",
       "    </tr>\n",
       "  </tbody>\n",
       "</table>\n",
       "<p>46 rows × 75 columns</p>\n",
       "</div>"
      ],
      "text/plain": [
       "    Name   Measurement  Cohort  Randomization_Group  Age Cognitive_Status  \\\n",
       "0    NaN    patient_11       1                  2.0   50           intact   \n",
       "1    NaN    patient_15       1                  1.0   42              MCI   \n",
       "2    NaN    patient_17       1                  1.0   35              MCI   \n",
       "3    NaN    patient_19       1                  1.0   71              MCI   \n",
       "4    NaN    patient_24       1                  2.0   48           intact   \n",
       "5    NaN    patient_25       1                  1.0   53              MCI   \n",
       "6    NaN    patient_26       1                  1.0   49              MCI   \n",
       "7    NaN    patient_30       1                  2.0   33           intact   \n",
       "8    NaN    patient_33       1                  2.0   36              MCI   \n",
       "9    NaN    patient_38       1                  2.0   27              MCI   \n",
       "10   NaN    patient_40       1                  1.0   51           intact   \n",
       "11   NaN    patient_42       1                  1.0   46           intact   \n",
       "12   NaN    patient_47       1                  1.0   37              MCI   \n",
       "13   NaN   patient_108       2                  1.0   35           intact   \n",
       "14   NaN   patient_109       2                  1.0   41              MCI   \n",
       "15   NaN   patient_106       2                  1.0   39           intact   \n",
       "16   NaN   patient_110       2                  2.0   39           intact   \n",
       "17   NaN   patient_104       2                  1.0   63              MCI   \n",
       "18   NaN   patient_111       2                  1.0   61              MCI   \n",
       "19   NaN   patient_103       2                  2.0   43              MCI   \n",
       "20   NaN   patient_112       2                  2.0   83           intact   \n",
       "21   NaN   patient_102       2                  2.0   39              MCI   \n",
       "22   NaN   patient_103       2                  2.0   43              MCI   \n",
       "23   NaN   patient_114       2                  2.0   35           intact   \n",
       "24   NaN   patient_107       2                  1.0   54              MCI   \n",
       "25   NaN   patient_115       2                  1.0   35           intact   \n",
       "26   NaN   patient_119       4                  2.0   37           intact   \n",
       "27   NaN   patient_121       4                  2.0   36           intact   \n",
       "28   NaN   patient_122       4                  1.0   35           intact   \n",
       "29   NaN   patient_123       4                  2.0   35           intact   \n",
       "30   NaN   patient_126       4                  1.0   37           intact   \n",
       "31   NaN   patient_128       4                  2.0   78           intact   \n",
       "32   NaN   patient_130       4                  1.0   47           intact   \n",
       "33   NaN   patient_131       4                  1.0   49           intact   \n",
       "34   NaN   patient_132       4                  2.0   45           intact   \n",
       "35   NaN  patient_1020       3                  NaN   41           intact   \n",
       "36   NaN  patient_1021       3                  NaN   33           intact   \n",
       "37   NaN  patient_1003       3                  NaN   65           intact   \n",
       "38   NaN  patient_1004       3                  NaN   70           intact   \n",
       "39   NaN  patient_1005       3                  NaN   82           intact   \n",
       "40   NaN  patient_1006       3                  NaN   80           intact   \n",
       "41   NaN  patient_1007       3                  NaN   62           intact   \n",
       "42   NaN  patient_1008       3                  NaN   52           intact   \n",
       "43   NaN  patient_1009       3                  NaN   49              MCI   \n",
       "44   NaN  patient_1010       3                  NaN   66              MCI   \n",
       "45   NaN  patient_1011       3                  NaN   71           intact   \n",
       "\n",
       "    Cognitive_Status_Code  Question_1  Question_2  Question_3  ...  \\\n",
       "0                       1          10           3           5  ...   \n",
       "1                       0          10           3           1  ...   \n",
       "2                       0          10           3           2  ...   \n",
       "3                       0           8           3           5  ...   \n",
       "4                       1           9           3           5  ...   \n",
       "5                       0          10           3           1  ...   \n",
       "6                       0          10           3           5  ...   \n",
       "7                       1          10           3           5  ...   \n",
       "8                       0          10           3           5  ...   \n",
       "9                       0           9           3           4  ...   \n",
       "10                      1           9           3           5  ...   \n",
       "11                      1          10           3           5  ...   \n",
       "12                      0           9           3           4  ...   \n",
       "13                      1          10           3           5  ...   \n",
       "14                      0          10           3           5  ...   \n",
       "15                      1           9           3           0  ...   \n",
       "16                      1          10           3           3  ...   \n",
       "17                      0          10           3           0  ...   \n",
       "18                      0           6           3           0  ...   \n",
       "19                      0           9           3           3  ...   \n",
       "20                      1           9           2           5  ...   \n",
       "21                      0           8           2           5  ...   \n",
       "22                      0           9           3           4  ...   \n",
       "23                      1          10           3           5  ...   \n",
       "24                      0          10           3           3  ...   \n",
       "25                      1          10           3           5  ...   \n",
       "26                      1          10           3           5  ...   \n",
       "27                      1           9           3           5  ...   \n",
       "28                      1          10           3           5  ...   \n",
       "29                      1          10           3           5  ...   \n",
       "30                      1          10           3           5  ...   \n",
       "31                      1          10           3           5  ...   \n",
       "32                      1          10           3           5  ...   \n",
       "33                      1          10           3           5  ...   \n",
       "34                      1          10           2           4  ...   \n",
       "35                      1          10           3           5  ...   \n",
       "36                      1          10           3           5  ...   \n",
       "37                      1          10           1           1  ...   \n",
       "38                      1          10           3           3  ...   \n",
       "39                      1          10           1           5  ...   \n",
       "40                      1          10           0           5  ...   \n",
       "41                      1          10           1           5  ...   \n",
       "42                      1          10           1           3  ...   \n",
       "43                      0          10           0           1  ...   \n",
       "44                      0          10           1           5  ...   \n",
       "45                      1          10           1           4  ...   \n",
       "\n",
       "    Expert_Algorithm_Equivalent  Subjective_Complaint  Attention_Complaint  \\\n",
       "0                          33.0                  None                  NaN   \n",
       "1                          26.0                  None                  NaN   \n",
       "2                          30.0                   Yes                  NaN   \n",
       "3                          32.0                   Yes                  NaN   \n",
       "4                          32.0                   Yes                  NaN   \n",
       "5                          28.0                   Yes                  NaN   \n",
       "6                          31.0                   Yes                  NaN   \n",
       "7                          32.0                   Yes                  Yes   \n",
       "8                          32.0                   Yes                  NaN   \n",
       "9                          24.0                   Yes                  NaN   \n",
       "10                         26.0                   Yes                  NaN   \n",
       "11                         31.0                   Yes                  NaN   \n",
       "12                         30.0                    No                  NaN   \n",
       "13                         33.0                   NaN                  NaN   \n",
       "14                         29.0                   NaN                  NaN   \n",
       "15                         30.0                   NaN                  NaN   \n",
       "16                         29.0                   NaN                  NaN   \n",
       "17                         26.0                   NaN                  NaN   \n",
       "18                         21.0                   NaN                  NaN   \n",
       "19                         30.0                   NaN                  NaN   \n",
       "20                         30.0                   NaN                  NaN   \n",
       "21                         26.0                   NaN                  NaN   \n",
       "22                         30.0                   NaN                  NaN   \n",
       "23                         32.0                   NaN                  NaN   \n",
       "24                         26.0                   NaN                  NaN   \n",
       "25                         32.0                   NaN                  NaN   \n",
       "26                         33.0                   NaN                  NaN   \n",
       "27                         31.0                   NaN                  NaN   \n",
       "28                         31.0                   NaN                  NaN   \n",
       "29                         32.0                   NaN                  NaN   \n",
       "30                         33.0                   NaN                  NaN   \n",
       "31                         31.0                   NaN                  NaN   \n",
       "32                         31.0                   NaN                  NaN   \n",
       "33                         31.0                   NaN                  NaN   \n",
       "34                         30.0                   NaN                  NaN   \n",
       "35                          NaN                   NaN                  NaN   \n",
       "36                          NaN                   NaN                  NaN   \n",
       "37                          NaN                   NaN                  NaN   \n",
       "38                          NaN                   NaN                  NaN   \n",
       "39                          NaN                   NaN                  NaN   \n",
       "40                          NaN                   NaN                  NaN   \n",
       "41                          NaN                   NaN                  NaN   \n",
       "42                          NaN                   NaN                  NaN   \n",
       "43                          NaN                   NaN                  NaN   \n",
       "44                          NaN                   NaN                  NaN   \n",
       "45                          NaN                   NaN                  NaN   \n",
       "\n",
       "    Memory_Complaint  Fluency_Complaint  Language_Complaint  \\\n",
       "0                NaN                NaN                 NaN   \n",
       "1                NaN                NaN                 NaN   \n",
       "2                Yes                NaN                 Yes   \n",
       "3                Yes                NaN                 Yes   \n",
       "4                NaN                NaN                 Yes   \n",
       "5                Yes                NaN                 NaN   \n",
       "6                NaN                NaN                 Yes   \n",
       "7                Yes                NaN                 Yes   \n",
       "8                Yes                NaN                 NaN   \n",
       "9                Yes                NaN                 NaN   \n",
       "10               Yes                NaN                 Yes   \n",
       "11               Yes                NaN                 Yes   \n",
       "12               NaN                NaN                 NaN   \n",
       "13               NaN                NaN                 NaN   \n",
       "14               NaN                NaN                 NaN   \n",
       "15               NaN                NaN                 NaN   \n",
       "16               NaN                NaN                 NaN   \n",
       "17               NaN                NaN                 NaN   \n",
       "18               NaN                NaN                 NaN   \n",
       "19               NaN                NaN                 NaN   \n",
       "20               NaN                NaN                 NaN   \n",
       "21               NaN                NaN                 NaN   \n",
       "22               NaN                NaN                 NaN   \n",
       "23               NaN                NaN                 NaN   \n",
       "24               NaN                NaN                 NaN   \n",
       "25               NaN                NaN                 NaN   \n",
       "26               NaN                NaN                 NaN   \n",
       "27               NaN                NaN                 NaN   \n",
       "28               NaN                NaN                 NaN   \n",
       "29               NaN                NaN                 NaN   \n",
       "30               NaN                NaN                 NaN   \n",
       "31               NaN                NaN                 NaN   \n",
       "32               NaN                NaN                 NaN   \n",
       "33               NaN                NaN                 NaN   \n",
       "34               NaN                NaN                 NaN   \n",
       "35               NaN                NaN                 NaN   \n",
       "36               NaN                NaN                 NaN   \n",
       "37               NaN                NaN                 NaN   \n",
       "38               NaN                NaN                 NaN   \n",
       "39               NaN                NaN                 NaN   \n",
       "40               NaN                NaN                 NaN   \n",
       "41               NaN                NaN                 NaN   \n",
       "42               NaN                NaN                 NaN   \n",
       "43               NaN                NaN                 NaN   \n",
       "44               NaN                NaN                 NaN   \n",
       "45               NaN                NaN                 NaN   \n",
       "\n",
       "    Visuospatial_Complaint  Impaired_on_ACE3  iADL_Impaired  ADL_Impaired  \n",
       "0                      NaN                No           None          None  \n",
       "1                      NaN               Yes           None          None  \n",
       "2                      NaN               Yes           None          None  \n",
       "3                      NaN               Yes           None          None  \n",
       "4                      NaN                No           None          None  \n",
       "5                      NaN               Yes           None          None  \n",
       "6                      NaN               Yes           None          None  \n",
       "7                      NaN                No           None          None  \n",
       "8                      NaN               Yes           None          None  \n",
       "9                      NaN               Yes           None          None  \n",
       "10                     NaN                No           None          None  \n",
       "11                     NaN                No           None          None  \n",
       "12                     NaN                No           None          None  \n",
       "13                     NaN               NaN            NaN           NaN  \n",
       "14                     NaN               NaN            NaN           NaN  \n",
       "15                     NaN               NaN            NaN           NaN  \n",
       "16                     NaN               NaN            NaN           NaN  \n",
       "17                     NaN               NaN            NaN           NaN  \n",
       "18                     NaN               NaN            NaN           NaN  \n",
       "19                     NaN               NaN            NaN           NaN  \n",
       "20                     NaN               NaN            NaN           NaN  \n",
       "21                     NaN               NaN            NaN           NaN  \n",
       "22                     NaN               NaN            NaN           NaN  \n",
       "23                     NaN               NaN            NaN           NaN  \n",
       "24                     NaN               NaN            NaN           NaN  \n",
       "25                     NaN               NaN            NaN           NaN  \n",
       "26                     NaN               NaN            NaN           NaN  \n",
       "27                     NaN               NaN            NaN           NaN  \n",
       "28                     NaN               NaN            NaN           NaN  \n",
       "29                     NaN               NaN            NaN           NaN  \n",
       "30                     NaN               NaN            NaN           NaN  \n",
       "31                     NaN               NaN            NaN           NaN  \n",
       "32                     NaN               NaN            NaN           NaN  \n",
       "33                     NaN               NaN            NaN           NaN  \n",
       "34                     NaN               NaN            NaN           NaN  \n",
       "35                     NaN               NaN            NaN           NaN  \n",
       "36                     NaN               NaN            NaN           NaN  \n",
       "37                     NaN               NaN            NaN           NaN  \n",
       "38                     NaN               NaN            NaN           NaN  \n",
       "39                     NaN               NaN            NaN           NaN  \n",
       "40                     NaN               NaN            NaN           NaN  \n",
       "41                     NaN               NaN            NaN           NaN  \n",
       "42                     NaN               NaN            NaN           NaN  \n",
       "43                     NaN               NaN            NaN           NaN  \n",
       "44                     NaN               NaN            NaN           NaN  \n",
       "45                     NaN               NaN            NaN           NaN  \n",
       "\n",
       "[46 rows x 75 columns]"
      ]
     },
     "metadata": {},
     "output_type": "display_data"
    }
   ],
   "source": [
    "from calvin_utils.permutation_analysis_utils.statsmodels_palm import CalvinStatsmodelsPalm\n",
    "# Instantiate the PalmPrepararation class\n",
    "cal_palm = CalvinStatsmodelsPalm(input_csv_path=input_csv_path, output_dir=out_dir, sheet=sheet)\n",
    "# Call the process_nifti_paths method\n",
    "data_df = cal_palm.read_and_display_data()"
   ]
  },
  {
   "cell_type": "markdown",
   "metadata": {},
   "source": [
    "# 01 - Preprocess Your Data"
   ]
  },
  {
   "cell_type": "markdown",
   "metadata": {},
   "source": [
    "**Handle NANs**\n",
    "- Set drop_nans=True is you would like to remove NaNs from data\n",
    "- Provide a column name or a list of column names to remove NaNs from"
   ]
  },
  {
   "cell_type": "code",
   "execution_count": 7,
   "metadata": {},
   "outputs": [
    {
     "data": {
      "text/plain": [
       "Index(['Variable', 'Inference_Range', 'Inference', 'Sensitivity',\n",
       "       'Specificity', 'Precision', 'PPV', 'NPV', 'Accuracy', 'F1_Score'],\n",
       "      dtype='object')"
      ]
     },
     "execution_count": 7,
     "metadata": {},
     "output_type": "execute_result"
    }
   ],
   "source": [
    "data_df.columns"
   ]
  },
  {
   "cell_type": "code",
   "execution_count": 22,
   "metadata": {},
   "outputs": [],
   "source": [
    "drop_list = ['ch_retro_antero']"
   ]
  },
  {
   "cell_type": "code",
   "execution_count": 23,
   "metadata": {},
   "outputs": [
    {
     "ename": "KeyError",
     "evalue": "['ch_retro_antero']",
     "output_type": "error",
     "traceback": [
      "\u001b[0;31m---------------------------------------------------------------------------\u001b[0m",
      "\u001b[0;31mKeyError\u001b[0m                                  Traceback (most recent call last)",
      "Cell \u001b[0;32mIn[23], line 1\u001b[0m\n\u001b[0;32m----> 1\u001b[0m data_df \u001b[38;5;241m=\u001b[39m \u001b[43mcal_palm\u001b[49m\u001b[38;5;241;43m.\u001b[39;49m\u001b[43mdrop_nans_from_columns\u001b[49m\u001b[43m(\u001b[49m\u001b[43mcolumns_to_drop_from\u001b[49m\u001b[38;5;241;43m=\u001b[39;49m\u001b[43mdrop_list\u001b[49m\u001b[43m)\u001b[49m\n\u001b[1;32m      2\u001b[0m display(data_df)\n",
      "File \u001b[0;32m~/Library/CloudStorage/OneDrive-Personal/OneDrive_Documents/Work/Software/Research/nimlab/calvin_utils/calvin_utils/permutation_analysis_utils/statsmodels_palm.py:60\u001b[0m, in \u001b[0;36mCalvinStatsmodelsPalm.drop_nans_from_columns\u001b[0;34m(self, columns_to_drop_from)\u001b[0m\n\u001b[1;32m     58\u001b[0m     \u001b[38;5;28;01mif\u001b[39;00m \u001b[38;5;129;01mnot\u001b[39;00m \u001b[38;5;28misinstance\u001b[39m(columns_to_drop_from, \u001b[38;5;28mlist\u001b[39m):\n\u001b[1;32m     59\u001b[0m         columns_to_drop_from \u001b[38;5;241m=\u001b[39m [columns_to_drop_from]\n\u001b[0;32m---> 60\u001b[0m     \u001b[38;5;28;43mself\u001b[39;49m\u001b[38;5;241;43m.\u001b[39;49m\u001b[43mdf\u001b[49m\u001b[38;5;241;43m.\u001b[39;49m\u001b[43mdropna\u001b[49m\u001b[43m(\u001b[49m\u001b[43msubset\u001b[49m\u001b[38;5;241;43m=\u001b[39;49m\u001b[43mcolumns_to_drop_from\u001b[49m\u001b[43m,\u001b[49m\u001b[43m \u001b[49m\u001b[43minplace\u001b[49m\u001b[38;5;241;43m=\u001b[39;49m\u001b[38;5;28;43;01mTrue\u001b[39;49;00m\u001b[43m)\u001b[49m\n\u001b[1;32m     61\u001b[0m \u001b[38;5;28;01mreturn\u001b[39;00m \u001b[38;5;28mself\u001b[39m\u001b[38;5;241m.\u001b[39mdf\n",
      "File \u001b[0;32m/usr/local/Caskroom/mambaforge/base/envs/nimlab_py310/lib/python3.10/site-packages/pandas/util/_decorators.py:331\u001b[0m, in \u001b[0;36mdeprecate_nonkeyword_arguments.<locals>.decorate.<locals>.wrapper\u001b[0;34m(*args, **kwargs)\u001b[0m\n\u001b[1;32m    325\u001b[0m \u001b[38;5;28;01mif\u001b[39;00m \u001b[38;5;28mlen\u001b[39m(args) \u001b[38;5;241m>\u001b[39m num_allow_args:\n\u001b[1;32m    326\u001b[0m     warnings\u001b[38;5;241m.\u001b[39mwarn(\n\u001b[1;32m    327\u001b[0m         msg\u001b[38;5;241m.\u001b[39mformat(arguments\u001b[38;5;241m=\u001b[39m_format_argument_list(allow_args)),\n\u001b[1;32m    328\u001b[0m         \u001b[38;5;167;01mFutureWarning\u001b[39;00m,\n\u001b[1;32m    329\u001b[0m         stacklevel\u001b[38;5;241m=\u001b[39mfind_stack_level(),\n\u001b[1;32m    330\u001b[0m     )\n\u001b[0;32m--> 331\u001b[0m \u001b[38;5;28;01mreturn\u001b[39;00m \u001b[43mfunc\u001b[49m\u001b[43m(\u001b[49m\u001b[38;5;241;43m*\u001b[39;49m\u001b[43margs\u001b[49m\u001b[43m,\u001b[49m\u001b[43m \u001b[49m\u001b[38;5;241;43m*\u001b[39;49m\u001b[38;5;241;43m*\u001b[39;49m\u001b[43mkwargs\u001b[49m\u001b[43m)\u001b[49m\n",
      "File \u001b[0;32m/usr/local/Caskroom/mambaforge/base/envs/nimlab_py310/lib/python3.10/site-packages/pandas/core/frame.py:6558\u001b[0m, in \u001b[0;36mDataFrame.dropna\u001b[0;34m(self, axis, how, thresh, subset, inplace)\u001b[0m\n\u001b[1;32m   6556\u001b[0m     check \u001b[38;5;241m=\u001b[39m indices \u001b[38;5;241m==\u001b[39m \u001b[38;5;241m-\u001b[39m\u001b[38;5;241m1\u001b[39m\n\u001b[1;32m   6557\u001b[0m     \u001b[38;5;28;01mif\u001b[39;00m check\u001b[38;5;241m.\u001b[39many():\n\u001b[0;32m-> 6558\u001b[0m         \u001b[38;5;28;01mraise\u001b[39;00m \u001b[38;5;167;01mKeyError\u001b[39;00m(np\u001b[38;5;241m.\u001b[39marray(subset)[check]\u001b[38;5;241m.\u001b[39mtolist())\n\u001b[1;32m   6559\u001b[0m     agg_obj \u001b[38;5;241m=\u001b[39m \u001b[38;5;28mself\u001b[39m\u001b[38;5;241m.\u001b[39mtake(indices, axis\u001b[38;5;241m=\u001b[39magg_axis)\n\u001b[1;32m   6561\u001b[0m \u001b[38;5;28;01mif\u001b[39;00m thresh \u001b[38;5;129;01mis\u001b[39;00m \u001b[38;5;129;01mnot\u001b[39;00m no_default:\n",
      "\u001b[0;31mKeyError\u001b[0m: ['ch_retro_antero']"
     ]
    }
   ],
   "source": [
    "data_df = cal_palm.drop_nans_from_columns(columns_to_drop_from=drop_list)\n",
    "display(data_df)"
   ]
  },
  {
   "cell_type": "markdown",
   "metadata": {},
   "source": [
    "**Drop Row Based on Value of Column**\n",
    "\n",
    "Define the column, condition, and value for dropping rows\n",
    "- column = 'your_column_name'\n",
    "- condition = 'above'  # Options: 'equal', 'above', 'below'"
   ]
  },
  {
   "cell_type": "code",
   "execution_count": 15,
   "metadata": {},
   "outputs": [
    {
     "data": {
      "text/plain": [
       "Index(['Unnamed__0', 'ch_case', 'ch_retro_antero', 'ch_confounding_disease',\n",
       "       'ch_measurement', 'ch_disproportionate_amnesia', 'ch_neuroimaging',\n",
       "       'ch_neurodegeneration', 'ch_atypical_memory', 'ch_english', 'ch_bias',\n",
       "       'ch_hpi', 'ch_workup', 'ch_attribution', 'ch_extended_history',\n",
       "       'ch_temporal_history', 'ch_neuroimaging_at_onset', 'ch_replicability',\n",
       "       'ch_lnm', 'gpt_case', 'gpt_retro_antero', 'gpt_confounding_disease',\n",
       "       'gpt_measurement', 'gpt_disproportionate_amnesia', 'gpt_neuroimaging',\n",
       "       'gpt_neurodegeneration', 'gpt_atypical_memory', 'gpt_english',\n",
       "       'gpt_bias', 'gpt_hpi', 'gpt_workup', 'gpt_attribution',\n",
       "       'gpt_extended_history', 'gpt_temporal_history',\n",
       "       'gpt_neuroimaging_at_onset', 'gpt_replicability', 'gpt_lnm'],\n",
       "      dtype='object')"
      ]
     },
     "execution_count": 15,
     "metadata": {},
     "output_type": "execute_result"
    }
   ],
   "source": [
    "data_df.columns"
   ]
  },
  {
   "cell_type": "markdown",
   "metadata": {},
   "source": [
    "Set the parameters for dropping rows"
   ]
  },
  {
   "cell_type": "code",
   "execution_count": null,
   "metadata": {},
   "outputs": [],
   "source": [
    "column = 'Cohort'  # The column you'd like to evaluate\n",
    "condition = 'equal'  # The condition to check ('equal', 'above', 'below')\n",
    "value = 3  # The value to compare against"
   ]
  },
  {
   "cell_type": "code",
   "execution_count": null,
   "metadata": {},
   "outputs": [],
   "source": [
    "data_df, other_df = cal_palm.drop_rows_based_on_value(column, condition, value)\n",
    "display(data_df)"
   ]
  },
  {
   "cell_type": "markdown",
   "metadata": {},
   "source": [
    "**Standardize Data**\n",
    "- Enter Columns you Don't want to standardize into a list"
   ]
  },
  {
   "cell_type": "code",
   "execution_count": null,
   "metadata": {},
   "outputs": [],
   "source": [
    "# Remove anything you don't want to standardize\n",
    "cols_not_to_standardize = ['Age']"
   ]
  },
  {
   "cell_type": "code",
   "execution_count": null,
   "metadata": {},
   "outputs": [],
   "source": [
    "data_df = cal_palm.standardize_columns(cols_not_to_standardize)\n",
    "data_df"
   ]
  },
  {
   "cell_type": "markdown",
   "metadata": {},
   "source": [
    "Descriptive Stats"
   ]
  },
  {
   "cell_type": "code",
   "execution_count": null,
   "metadata": {},
   "outputs": [],
   "source": [
    "data_df.describe()"
   ]
  },
  {
   "cell_type": "markdown",
   "metadata": {},
   "source": [
    "# 02 Plot"
   ]
  },
  {
   "cell_type": "markdown",
   "metadata": {},
   "source": [
    "**Grouped Barplot**\n",
    "- Expects a Dataframe with a category the grouping variable that sets colour. \n",
    "- variable represents each thig to be plotted, like 'neuroimaging, bias, etc'. \n",
    "- metric is the value of the variable to be plotted."
   ]
  },
  {
   "cell_type": "code",
   "execution_count": 30,
   "metadata": {},
   "outputs": [],
   "source": [
    "import plotly.graph_objects as go\n",
    "import plotly.express as px\n",
    "import numpy as np\n",
    "import pandas as pd\n",
    "\n",
    "def plotly_grouped_radial_bar(dataframe, metric='Accuracy', category_col='Category', variable_col='Variable', title='Title Here'):\n",
    "    \"\"\"\n",
    "    Creates a grouped radial bar chart with Plotly, where each 'category' is a group with a unique color,\n",
    "    and each 'variable' within that category is an individual bar, evenly spaced around the plot.\n",
    "    \n",
    "    Args:\n",
    "        dataframe (pandas.DataFrame): DataFrame containing the data to plot.\n",
    "        metric (str): The metric to plot. Defaults to 'Accuracy'.\n",
    "        category_col (str): The column name for the grouping category.\n",
    "        variable_col (str): The column name for the individual variables.\n",
    "\n",
    "    Returns:\n",
    "        plotly.graph_objs._figure.Figure: Plotly Figure object for the radial bar chart.\n",
    "    \"\"\"\n",
    "    # Assign colors to each category for grouping\n",
    "    color_palette = px.colors.qualitative.T10\n",
    "    category_list = dataframe[category_col].unique().tolist()\n",
    "    color_dict = {category: color_palette[i % len(color_palette)] for i, category in enumerate(category_list)}\n",
    "\n",
    "    # Determine the total number of unique variables across all categories\n",
    "    total_variables = len(dataframe[variable_col].unique())\n",
    "\n",
    "    # Initialize the figure\n",
    "    fig = go.Figure()\n",
    "    \n",
    "    i = 0\n",
    "    for category in category_list:\n",
    "        category_data = dataframe[dataframe[category_col] == category]\n",
    "        category_data.sort_values(by=[metric], inplace=True)\n",
    "        fig.add_trace(go.Barpolar(\n",
    "            r=[0],\n",
    "            theta=[0],\n",
    "            name=category,\n",
    "            marker_color=color_dict[category],\n",
    "            showlegend=True\n",
    "            ))\n",
    "        for j, (idx, row) in enumerate(category_data.iterrows()):\n",
    "            # Calculate the angle for the current variable\n",
    "            angle = (i * 360) / total_variables\n",
    "\n",
    "            # Add a bar for the current variable\n",
    "            fig.add_trace(go.Barpolar(\n",
    "                r=[row[metric]],\n",
    "                theta=[angle],\n",
    "                width=[360 / total_variables],  # Slightly reduce width for spacing between bars\n",
    "                name=f\"{row[variable_col]}\",\n",
    "                marker_color=color_dict[row[category_col]],\n",
    "                marker_line_color='black',\n",
    "                marker_line_width=1,\n",
    "                opacity=0.9,\n",
    "                showlegend=False\n",
    "            ))\n",
    "            i = i+1\n",
    "\n",
    "    # Handle Legend\n",
    "    fig.update_layout(\n",
    "        legend=dict(\n",
    "            title=dict(text=variable_col),\n",
    "            itemsizing='constant',\n",
    "            orientation='h',\n",
    "            traceorder='normal',\n",
    "            x=0.5,  # Center the title\n",
    "            xanchor='center',  # Ensure the title is centered\n",
    "            yanchor='bottom',  # Position the title at the top of the plot\n",
    "            font=dict(family=\"Myriad Pro\", color='black', size=16)\n",
    "            )\n",
    "    )\n",
    "    # Handle Title\n",
    "    fig.update_layout(\n",
    "    title=dict(\n",
    "        text=title,  # Replace with your title\n",
    "        x=0.5,  # Center the title\n",
    "        xanchor='center',  # Ensure the title is centered\n",
    "        yanchor='top',  # Position the title at the top of the plot\n",
    "        font=dict(family=\"Myriad Pro\", color='black', size=20)\n",
    "        )\n",
    "    )\n",
    "    \n",
    "    # Handle Colour\n",
    "    fig.update_layout(\n",
    "        polar=dict(\n",
    "            bgcolor=\"white\",  # Set the polar background color to white\n",
    "            radialaxis=dict(showgrid=True, gridcolor='black'),  # Show radial axis grid lines\n",
    "            angularaxis=dict(showgrid=False, gridcolor='gray', showticklabels=False)  # Show angular axis grid lines\n",
    "        ),\n",
    "        font=dict(\n",
    "            family=\"Myriad Pro\", \n",
    "            color='black'\n",
    "        )\n",
    "    )\n",
    "\n",
    "    return fig\n",
    "\n",
    "import os\n",
    "\n",
    "def save_plot_as_svg(fig, out_dir, filename='radial_barplot.svg'):\n",
    "    \"\"\"\n",
    "    Saves a Plotly figure as an SVG file in the specified directory.\n",
    "    \n",
    "    Args:\n",
    "        fig (plotly.graph_objs._figure.Figure): The Plotly figure to save.\n",
    "        out_dir (str): The directory path where the SVG file will be saved.\n",
    "        filename (str): The filename for the SVG file. Defaults to 'plot.svg'.\n",
    "    \"\"\"\n",
    "    # Ensure the output directory exists\n",
    "    os.makedirs(out_dir, exist_ok=True)\n",
    "\n",
    "    # Define the full path for the output file\n",
    "    file_path = os.path.join(out_dir, filename)\n",
    "\n",
    "    # Save the figure\n",
    "    fig.write_image(file_path, format='svg', engine='kaleido')\n",
    "\n",
    "    print(f\"Saved figure to {file_path}\")\n"
   ]
  },
  {
   "cell_type": "code",
   "execution_count": 28,
   "metadata": {},
   "outputs": [],
   "source": [
    "data_df.columns\n"
   ]
  },
  {
   "cell_type": "code",
   "execution_count": 38,
   "metadata": {},
   "outputs": [
    {
     "name": "stderr",
     "output_type": "stream",
     "text": [
      "/var/folders/82/946tskyj68b6htgvndtppmz80000gp/T/ipykernel_62307/1391363035.py:34: SettingWithCopyWarning:\n",
      "\n",
      "\n",
      "A value is trying to be set on a copy of a slice from a DataFrame\n",
      "\n",
      "See the caveats in the documentation: https://pandas.pydata.org/pandas-docs/stable/user_guide/indexing.html#returning-a-view-versus-a-copy\n",
      "\n"
     ]
    },
    {
     "data": {
      "application/vnd.plotly.v1+json": {
       "config": {
        "plotlyServerURL": "https://plot.ly"
       },
       "data": [
        {
         "marker": {
          "color": "#4C78A8"
         },
         "name": "Data in Document",
         "r": [
          0
         ],
         "showlegend": true,
         "theta": [
          0
         ],
         "type": "barpolar"
        },
        {
         "marker": {
          "color": "#4C78A8",
          "line": {
           "color": "black",
           "width": 1
          }
         },
         "name": "Memory Deficit Unmeasured",
         "opacity": 0.9,
         "r": [
          0.943181818
         ],
         "showlegend": false,
         "theta": [
          0
         ],
         "type": "barpolar",
         "width": [
          24
         ]
        },
        {
         "marker": {
          "color": "#4C78A8",
          "line": {
           "color": "black",
           "width": 1
          }
         },
         "name": "Insufficient Physical Exam",
         "opacity": 0.9,
         "r": [
          0.966292135
         ],
         "showlegend": false,
         "theta": [
          24
         ],
         "type": "barpolar",
         "width": [
          24
         ]
        },
        {
         "marker": {
          "color": "#4C78A8",
          "line": {
           "color": "black",
           "width": 1
          }
         },
         "name": "Not Amnesia Case",
         "opacity": 0.9,
         "r": [
          1
         ],
         "showlegend": false,
         "theta": [
          48
         ],
         "type": "barpolar",
         "width": [
          24
         ]
        },
        {
         "marker": {
          "color": "#4C78A8",
          "line": {
           "color": "black",
           "width": 1
          }
         },
         "name": "No Neuroimaging",
         "opacity": 0.9,
         "r": [
          1
         ],
         "showlegend": false,
         "theta": [
          72
         ],
         "type": "barpolar",
         "width": [
          24
         ]
        },
        {
         "marker": {
          "color": "#4C78A8",
          "line": {
           "color": "black",
           "width": 1
          }
         },
         "name": "Not in English",
         "opacity": 0.9,
         "r": [
          1
         ],
         "showlegend": false,
         "theta": [
          96
         ],
         "type": "barpolar",
         "width": [
          24
         ]
        },
        {
         "marker": {
          "color": "#F58518"
         },
         "name": "Diagnostic Inference",
         "r": [
          0
         ],
         "showlegend": true,
         "theta": [
          0
         ],
         "type": "barpolar"
        },
        {
         "marker": {
          "color": "#F58518",
          "line": {
           "color": "black",
           "width": 1
          }
         },
         "name": "Atypical Amnesia",
         "opacity": 0.9,
         "r": [
          0.061728395
         ],
         "showlegend": false,
         "theta": [
          120
         ],
         "type": "barpolar",
         "width": [
          24
         ]
        },
        {
         "marker": {
          "color": "#F58518",
          "line": {
           "color": "black",
           "width": 1
          }
         },
         "name": "Due to Neurodegeneration",
         "opacity": 0.9,
         "r": [
          0.072164948
         ],
         "showlegend": false,
         "theta": [
          144
         ],
         "type": "barpolar",
         "width": [
          24
         ]
        },
        {
         "marker": {
          "color": "#F58518",
          "line": {
           "color": "black",
           "width": 1
          }
         },
         "name": "Confounding Disease",
         "opacity": 0.9,
         "r": [
          0.11627907
         ],
         "showlegend": false,
         "theta": [
          168
         ],
         "type": "barpolar",
         "width": [
          24
         ]
        },
        {
         "marker": {
          "color": "#F58518",
          "line": {
           "color": "black",
           "width": 1
          }
         },
         "name": "Due to Global Cognitive Damage",
         "opacity": 0.9,
         "r": [
          0.193877551
         ],
         "showlegend": false,
         "theta": [
          192
         ],
         "type": "barpolar",
         "width": [
          24
         ]
        },
        {
         "marker": {
          "color": "#E45756"
         },
         "name": "Case Quality Inference",
         "r": [
          0
         ],
         "showlegend": true,
         "theta": [
          0
         ],
         "type": "barpolar"
        },
        {
         "marker": {
          "color": "#E45756",
          "line": {
           "color": "black",
           "width": 1
          }
         },
         "name": "Bias",
         "opacity": 0.9,
         "r": [
          0.066666667
         ],
         "showlegend": false,
         "theta": [
          216
         ],
         "type": "barpolar",
         "width": [
          24
         ]
        },
        {
         "marker": {
          "color": "#E45756",
          "line": {
           "color": "black",
           "width": 1
          }
         },
         "name": "Attribution Error",
         "opacity": 0.9,
         "r": [
          0.964285714
         ],
         "showlegend": false,
         "theta": [
          240
         ],
         "type": "barpolar",
         "width": [
          24
         ]
        },
        {
         "marker": {
          "color": "#E45756",
          "line": {
           "color": "black",
           "width": 1
          }
         },
         "name": "Workup",
         "opacity": 0.9,
         "r": [
          0.96875
         ],
         "showlegend": false,
         "theta": [
          264
         ],
         "type": "barpolar",
         "width": [
          24
         ]
        },
        {
         "marker": {
          "color": "#E45756",
          "line": {
           "color": "black",
           "width": 1
          }
         },
         "name": "HPI",
         "opacity": 0.9,
         "r": [
          0.989010989
         ],
         "showlegend": false,
         "theta": [
          288
         ],
         "type": "barpolar",
         "width": [
          24
         ]
        },
        {
         "marker": {
          "color": "#E45756",
          "line": {
           "color": "black",
           "width": 1
          }
         },
         "name": "Extended History",
         "opacity": 0.9,
         "r": [
          1
         ],
         "showlegend": false,
         "theta": [
          312
         ],
         "type": "barpolar",
         "width": [
          24
         ]
        },
        {
         "marker": {
          "color": "#E45756",
          "line": {
           "color": "black",
           "width": 1
          }
         },
         "name": "Neuroimaging at Onset",
         "opacity": 0.9,
         "r": [
          1
         ],
         "showlegend": false,
         "theta": [
          336
         ],
         "type": "barpolar",
         "width": [
          24
         ]
        }
       ],
       "layout": {
        "font": {
         "color": "black",
         "family": "Myriad Pro"
        },
        "legend": {
         "font": {
          "color": "black",
          "family": "Myriad Pro",
          "size": 16
         },
         "itemsizing": "constant",
         "orientation": "h",
         "title": {
          "text": "Variable"
         },
         "traceorder": "normal",
         "x": 0.5,
         "xanchor": "center",
         "yanchor": "bottom"
        },
        "polar": {
         "angularaxis": {
          "gridcolor": "gray",
          "showgrid": false,
          "showticklabels": false
         },
         "bgcolor": "white",
         "radialaxis": {
          "gridcolor": "black",
          "showgrid": true
         }
        },
        "template": {
         "data": {
          "bar": [
           {
            "error_x": {
             "color": "#2a3f5f"
            },
            "error_y": {
             "color": "#2a3f5f"
            },
            "marker": {
             "line": {
              "color": "#E5ECF6",
              "width": 0.5
             },
             "pattern": {
              "fillmode": "overlay",
              "size": 10,
              "solidity": 0.2
             }
            },
            "type": "bar"
           }
          ],
          "barpolar": [
           {
            "marker": {
             "line": {
              "color": "#E5ECF6",
              "width": 0.5
             },
             "pattern": {
              "fillmode": "overlay",
              "size": 10,
              "solidity": 0.2
             }
            },
            "type": "barpolar"
           }
          ],
          "carpet": [
           {
            "aaxis": {
             "endlinecolor": "#2a3f5f",
             "gridcolor": "white",
             "linecolor": "white",
             "minorgridcolor": "white",
             "startlinecolor": "#2a3f5f"
            },
            "baxis": {
             "endlinecolor": "#2a3f5f",
             "gridcolor": "white",
             "linecolor": "white",
             "minorgridcolor": "white",
             "startlinecolor": "#2a3f5f"
            },
            "type": "carpet"
           }
          ],
          "choropleth": [
           {
            "colorbar": {
             "outlinewidth": 0,
             "ticks": ""
            },
            "type": "choropleth"
           }
          ],
          "contour": [
           {
            "colorbar": {
             "outlinewidth": 0,
             "ticks": ""
            },
            "colorscale": [
             [
              0,
              "#0d0887"
             ],
             [
              0.1111111111111111,
              "#46039f"
             ],
             [
              0.2222222222222222,
              "#7201a8"
             ],
             [
              0.3333333333333333,
              "#9c179e"
             ],
             [
              0.4444444444444444,
              "#bd3786"
             ],
             [
              0.5555555555555556,
              "#d8576b"
             ],
             [
              0.6666666666666666,
              "#ed7953"
             ],
             [
              0.7777777777777778,
              "#fb9f3a"
             ],
             [
              0.8888888888888888,
              "#fdca26"
             ],
             [
              1,
              "#f0f921"
             ]
            ],
            "type": "contour"
           }
          ],
          "contourcarpet": [
           {
            "colorbar": {
             "outlinewidth": 0,
             "ticks": ""
            },
            "type": "contourcarpet"
           }
          ],
          "heatmap": [
           {
            "colorbar": {
             "outlinewidth": 0,
             "ticks": ""
            },
            "colorscale": [
             [
              0,
              "#0d0887"
             ],
             [
              0.1111111111111111,
              "#46039f"
             ],
             [
              0.2222222222222222,
              "#7201a8"
             ],
             [
              0.3333333333333333,
              "#9c179e"
             ],
             [
              0.4444444444444444,
              "#bd3786"
             ],
             [
              0.5555555555555556,
              "#d8576b"
             ],
             [
              0.6666666666666666,
              "#ed7953"
             ],
             [
              0.7777777777777778,
              "#fb9f3a"
             ],
             [
              0.8888888888888888,
              "#fdca26"
             ],
             [
              1,
              "#f0f921"
             ]
            ],
            "type": "heatmap"
           }
          ],
          "heatmapgl": [
           {
            "colorbar": {
             "outlinewidth": 0,
             "ticks": ""
            },
            "colorscale": [
             [
              0,
              "#0d0887"
             ],
             [
              0.1111111111111111,
              "#46039f"
             ],
             [
              0.2222222222222222,
              "#7201a8"
             ],
             [
              0.3333333333333333,
              "#9c179e"
             ],
             [
              0.4444444444444444,
              "#bd3786"
             ],
             [
              0.5555555555555556,
              "#d8576b"
             ],
             [
              0.6666666666666666,
              "#ed7953"
             ],
             [
              0.7777777777777778,
              "#fb9f3a"
             ],
             [
              0.8888888888888888,
              "#fdca26"
             ],
             [
              1,
              "#f0f921"
             ]
            ],
            "type": "heatmapgl"
           }
          ],
          "histogram": [
           {
            "marker": {
             "pattern": {
              "fillmode": "overlay",
              "size": 10,
              "solidity": 0.2
             }
            },
            "type": "histogram"
           }
          ],
          "histogram2d": [
           {
            "colorbar": {
             "outlinewidth": 0,
             "ticks": ""
            },
            "colorscale": [
             [
              0,
              "#0d0887"
             ],
             [
              0.1111111111111111,
              "#46039f"
             ],
             [
              0.2222222222222222,
              "#7201a8"
             ],
             [
              0.3333333333333333,
              "#9c179e"
             ],
             [
              0.4444444444444444,
              "#bd3786"
             ],
             [
              0.5555555555555556,
              "#d8576b"
             ],
             [
              0.6666666666666666,
              "#ed7953"
             ],
             [
              0.7777777777777778,
              "#fb9f3a"
             ],
             [
              0.8888888888888888,
              "#fdca26"
             ],
             [
              1,
              "#f0f921"
             ]
            ],
            "type": "histogram2d"
           }
          ],
          "histogram2dcontour": [
           {
            "colorbar": {
             "outlinewidth": 0,
             "ticks": ""
            },
            "colorscale": [
             [
              0,
              "#0d0887"
             ],
             [
              0.1111111111111111,
              "#46039f"
             ],
             [
              0.2222222222222222,
              "#7201a8"
             ],
             [
              0.3333333333333333,
              "#9c179e"
             ],
             [
              0.4444444444444444,
              "#bd3786"
             ],
             [
              0.5555555555555556,
              "#d8576b"
             ],
             [
              0.6666666666666666,
              "#ed7953"
             ],
             [
              0.7777777777777778,
              "#fb9f3a"
             ],
             [
              0.8888888888888888,
              "#fdca26"
             ],
             [
              1,
              "#f0f921"
             ]
            ],
            "type": "histogram2dcontour"
           }
          ],
          "mesh3d": [
           {
            "colorbar": {
             "outlinewidth": 0,
             "ticks": ""
            },
            "type": "mesh3d"
           }
          ],
          "parcoords": [
           {
            "line": {
             "colorbar": {
              "outlinewidth": 0,
              "ticks": ""
             }
            },
            "type": "parcoords"
           }
          ],
          "pie": [
           {
            "automargin": true,
            "type": "pie"
           }
          ],
          "scatter": [
           {
            "fillpattern": {
             "fillmode": "overlay",
             "size": 10,
             "solidity": 0.2
            },
            "type": "scatter"
           }
          ],
          "scatter3d": [
           {
            "line": {
             "colorbar": {
              "outlinewidth": 0,
              "ticks": ""
             }
            },
            "marker": {
             "colorbar": {
              "outlinewidth": 0,
              "ticks": ""
             }
            },
            "type": "scatter3d"
           }
          ],
          "scattercarpet": [
           {
            "marker": {
             "colorbar": {
              "outlinewidth": 0,
              "ticks": ""
             }
            },
            "type": "scattercarpet"
           }
          ],
          "scattergeo": [
           {
            "marker": {
             "colorbar": {
              "outlinewidth": 0,
              "ticks": ""
             }
            },
            "type": "scattergeo"
           }
          ],
          "scattergl": [
           {
            "marker": {
             "colorbar": {
              "outlinewidth": 0,
              "ticks": ""
             }
            },
            "type": "scattergl"
           }
          ],
          "scattermapbox": [
           {
            "marker": {
             "colorbar": {
              "outlinewidth": 0,
              "ticks": ""
             }
            },
            "type": "scattermapbox"
           }
          ],
          "scatterpolar": [
           {
            "marker": {
             "colorbar": {
              "outlinewidth": 0,
              "ticks": ""
             }
            },
            "type": "scatterpolar"
           }
          ],
          "scatterpolargl": [
           {
            "marker": {
             "colorbar": {
              "outlinewidth": 0,
              "ticks": ""
             }
            },
            "type": "scatterpolargl"
           }
          ],
          "scatterternary": [
           {
            "marker": {
             "colorbar": {
              "outlinewidth": 0,
              "ticks": ""
             }
            },
            "type": "scatterternary"
           }
          ],
          "surface": [
           {
            "colorbar": {
             "outlinewidth": 0,
             "ticks": ""
            },
            "colorscale": [
             [
              0,
              "#0d0887"
             ],
             [
              0.1111111111111111,
              "#46039f"
             ],
             [
              0.2222222222222222,
              "#7201a8"
             ],
             [
              0.3333333333333333,
              "#9c179e"
             ],
             [
              0.4444444444444444,
              "#bd3786"
             ],
             [
              0.5555555555555556,
              "#d8576b"
             ],
             [
              0.6666666666666666,
              "#ed7953"
             ],
             [
              0.7777777777777778,
              "#fb9f3a"
             ],
             [
              0.8888888888888888,
              "#fdca26"
             ],
             [
              1,
              "#f0f921"
             ]
            ],
            "type": "surface"
           }
          ],
          "table": [
           {
            "cells": {
             "fill": {
              "color": "#EBF0F8"
             },
             "line": {
              "color": "white"
             }
            },
            "header": {
             "fill": {
              "color": "#C8D4E3"
             },
             "line": {
              "color": "white"
             }
            },
            "type": "table"
           }
          ]
         },
         "layout": {
          "annotationdefaults": {
           "arrowcolor": "#2a3f5f",
           "arrowhead": 0,
           "arrowwidth": 1
          },
          "autotypenumbers": "strict",
          "coloraxis": {
           "colorbar": {
            "outlinewidth": 0,
            "ticks": ""
           }
          },
          "colorscale": {
           "diverging": [
            [
             0,
             "#8e0152"
            ],
            [
             0.1,
             "#c51b7d"
            ],
            [
             0.2,
             "#de77ae"
            ],
            [
             0.3,
             "#f1b6da"
            ],
            [
             0.4,
             "#fde0ef"
            ],
            [
             0.5,
             "#f7f7f7"
            ],
            [
             0.6,
             "#e6f5d0"
            ],
            [
             0.7,
             "#b8e186"
            ],
            [
             0.8,
             "#7fbc41"
            ],
            [
             0.9,
             "#4d9221"
            ],
            [
             1,
             "#276419"
            ]
           ],
           "sequential": [
            [
             0,
             "#0d0887"
            ],
            [
             0.1111111111111111,
             "#46039f"
            ],
            [
             0.2222222222222222,
             "#7201a8"
            ],
            [
             0.3333333333333333,
             "#9c179e"
            ],
            [
             0.4444444444444444,
             "#bd3786"
            ],
            [
             0.5555555555555556,
             "#d8576b"
            ],
            [
             0.6666666666666666,
             "#ed7953"
            ],
            [
             0.7777777777777778,
             "#fb9f3a"
            ],
            [
             0.8888888888888888,
             "#fdca26"
            ],
            [
             1,
             "#f0f921"
            ]
           ],
           "sequentialminus": [
            [
             0,
             "#0d0887"
            ],
            [
             0.1111111111111111,
             "#46039f"
            ],
            [
             0.2222222222222222,
             "#7201a8"
            ],
            [
             0.3333333333333333,
             "#9c179e"
            ],
            [
             0.4444444444444444,
             "#bd3786"
            ],
            [
             0.5555555555555556,
             "#d8576b"
            ],
            [
             0.6666666666666666,
             "#ed7953"
            ],
            [
             0.7777777777777778,
             "#fb9f3a"
            ],
            [
             0.8888888888888888,
             "#fdca26"
            ],
            [
             1,
             "#f0f921"
            ]
           ]
          },
          "colorway": [
           "#636efa",
           "#EF553B",
           "#00cc96",
           "#ab63fa",
           "#FFA15A",
           "#19d3f3",
           "#FF6692",
           "#B6E880",
           "#FF97FF",
           "#FECB52"
          ],
          "font": {
           "color": "#2a3f5f"
          },
          "geo": {
           "bgcolor": "white",
           "lakecolor": "white",
           "landcolor": "#E5ECF6",
           "showlakes": true,
           "showland": true,
           "subunitcolor": "white"
          },
          "hoverlabel": {
           "align": "left"
          },
          "hovermode": "closest",
          "mapbox": {
           "style": "light"
          },
          "paper_bgcolor": "white",
          "plot_bgcolor": "#E5ECF6",
          "polar": {
           "angularaxis": {
            "gridcolor": "white",
            "linecolor": "white",
            "ticks": ""
           },
           "bgcolor": "#E5ECF6",
           "radialaxis": {
            "gridcolor": "white",
            "linecolor": "white",
            "ticks": ""
           }
          },
          "scene": {
           "xaxis": {
            "backgroundcolor": "#E5ECF6",
            "gridcolor": "white",
            "gridwidth": 2,
            "linecolor": "white",
            "showbackground": true,
            "ticks": "",
            "zerolinecolor": "white"
           },
           "yaxis": {
            "backgroundcolor": "#E5ECF6",
            "gridcolor": "white",
            "gridwidth": 2,
            "linecolor": "white",
            "showbackground": true,
            "ticks": "",
            "zerolinecolor": "white"
           },
           "zaxis": {
            "backgroundcolor": "#E5ECF6",
            "gridcolor": "white",
            "gridwidth": 2,
            "linecolor": "white",
            "showbackground": true,
            "ticks": "",
            "zerolinecolor": "white"
           }
          },
          "shapedefaults": {
           "line": {
            "color": "#2a3f5f"
           }
          },
          "ternary": {
           "aaxis": {
            "gridcolor": "white",
            "linecolor": "white",
            "ticks": ""
           },
           "baxis": {
            "gridcolor": "white",
            "linecolor": "white",
            "ticks": ""
           },
           "bgcolor": "#E5ECF6",
           "caxis": {
            "gridcolor": "white",
            "linecolor": "white",
            "ticks": ""
           }
          },
          "title": {
           "x": 0.05
          },
          "xaxis": {
           "automargin": true,
           "gridcolor": "white",
           "linecolor": "white",
           "ticks": "",
           "title": {
            "standoff": 15
           },
           "zerolinecolor": "white",
           "zerolinewidth": 2
          },
          "yaxis": {
           "automargin": true,
           "gridcolor": "white",
           "linecolor": "white",
           "ticks": "",
           "title": {
            "standoff": 15
           },
           "zerolinecolor": "white",
           "zerolinewidth": 2
          }
         }
        },
        "title": {
         "font": {
          "color": "black",
          "family": "Myriad Pro",
          "size": 20
         },
         "text": "Accuracy of GPT Manuscript Read",
         "x": 0.5,
         "xanchor": "center",
         "yanchor": "top"
        }
       }
      }
     },
     "metadata": {},
     "output_type": "display_data"
    }
   ],
   "source": [
    "# Usage with your dataframe\n",
    "fig = plotly_grouped_radial_bar(data_df, metric='Precision', category_col='Inference', variable_col='Variable', title='Accuracy of GPT Manuscript Read')\n",
    "fig.show()"
   ]
  },
  {
   "cell_type": "markdown",
   "metadata": {},
   "source": [
    "When you are happy with it, save it. "
   ]
  },
  {
   "cell_type": "code",
   "execution_count": 39,
   "metadata": {},
   "outputs": [
    {
     "name": "stdout",
     "output_type": "stream",
     "text": [
      "Saved figure to /Users/cu135/Dropbox (Partners HealthCare)/studies/review_pyper/figures/mansucript_figures/100_manuscript_questions/radial_bar_plot_precision.svg\n"
     ]
    }
   ],
   "source": [
    "save_plot_as_svg(fig, out_dir,filename='radial_bar_plot_precision.svg' )"
   ]
  },
  {
   "cell_type": "markdown",
   "metadata": {},
   "source": [
    "Enjoy\n",
    "- Calvin"
   ]
  },
  {
   "cell_type": "markdown",
   "metadata": {},
   "source": []
  }
 ],
 "metadata": {
  "kernelspec": {
   "display_name": "nimlab_py310",
   "language": "python",
   "name": "python3"
  },
  "language_info": {
   "codemirror_mode": {
    "name": "ipython",
    "version": 3
   },
   "file_extension": ".py",
   "mimetype": "text/x-python",
   "name": "python",
   "nbconvert_exporter": "python",
   "pygments_lexer": "ipython3",
   "version": "3.10.8"
  }
 },
 "nbformat": 4,
 "nbformat_minor": 4
}
