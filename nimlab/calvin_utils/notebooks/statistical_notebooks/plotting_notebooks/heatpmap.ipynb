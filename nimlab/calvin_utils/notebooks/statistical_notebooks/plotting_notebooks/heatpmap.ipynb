{
 "cells": [
  {
   "cell_type": "code",
   "execution_count": 1,
   "metadata": {},
   "outputs": [],
   "source": [
    "csv_path = '/Users/cu135/Dropbox (Partners HealthCare)/studies/cognition_2023/analyses/net_similarity.csv'"
   ]
  },
  {
   "cell_type": "code",
   "execution_count": 8,
   "metadata": {},
   "outputs": [
    {
     "data": {
      "text/html": [
       "<div>\n",
       "<style scoped>\n",
       "    .dataframe tbody tr th:only-of-type {\n",
       "        vertical-align: middle;\n",
       "    }\n",
       "\n",
       "    .dataframe tbody tr th {\n",
       "        vertical-align: top;\n",
       "    }\n",
       "\n",
       "    .dataframe thead th {\n",
       "        text-align: right;\n",
       "    }\n",
       "</style>\n",
       "<table border=\"1\" class=\"dataframe\">\n",
       "  <thead>\n",
       "    <tr style=\"text-align: right;\">\n",
       "      <th></th>\n",
       "      <th>Ferguson (Stroke)</th>\n",
       "      <th>Reich (Parkinson)</th>\n",
       "      <th>Rios (Alzheimer)</th>\n",
       "    </tr>\n",
       "    <tr>\n",
       "      <th>Unnamed: 0</th>\n",
       "      <th></th>\n",
       "      <th></th>\n",
       "      <th></th>\n",
       "    </tr>\n",
       "  </thead>\n",
       "  <tbody>\n",
       "    <tr>\n",
       "      <th>Ferguson (Stroke)</th>\n",
       "      <td>1.00</td>\n",
       "      <td>0.77</td>\n",
       "      <td>0.56</td>\n",
       "    </tr>\n",
       "    <tr>\n",
       "      <th>Reich (Parkinson)</th>\n",
       "      <td>0.75</td>\n",
       "      <td>1.00</td>\n",
       "      <td>0.63</td>\n",
       "    </tr>\n",
       "    <tr>\n",
       "      <th>Rios (Alzheimer)</th>\n",
       "      <td>0.20</td>\n",
       "      <td>0.36</td>\n",
       "      <td>1.00</td>\n",
       "    </tr>\n",
       "  </tbody>\n",
       "</table>\n",
       "</div>"
      ],
      "text/plain": [
       "                   Ferguson (Stroke)  Reich (Parkinson)  Rios (Alzheimer)\n",
       "Unnamed: 0                                                               \n",
       "Ferguson (Stroke)               1.00               0.77              0.56\n",
       "Reich (Parkinson)               0.75               1.00              0.63\n",
       "Rios (Alzheimer)                0.20               0.36              1.00"
      ]
     },
     "execution_count": 8,
     "metadata": {},
     "output_type": "execute_result"
    }
   ],
   "source": [
    "import pandas as pd\n",
    "df = pd.read_csv(csv_path)\n",
    "df.set_index(\"Unnamed: 0\", inplace=True)\n",
    "\n",
    "df"
   ]
  },
  {
   "cell_type": "code",
   "execution_count": 38,
   "metadata": {},
   "outputs": [
    {
     "data": {
      "text/plain": [
       "<AxesSubplot: ylabel='Unnamed: 0'>"
      ]
     },
     "execution_count": 38,
     "metadata": {},
     "output_type": "execute_result"
    },
    {
     "data": {
      "image/png": "[encoded data removed]",
      "text/plain": [
       "<Figure size 576x432 with 2 Axes>"
      ]
     },
     "metadata": {
      "needs_background": "light"
     },
     "output_type": "display_data"
    }
   ],
   "source": [
    "#Create heatmap of correlation matrix\n",
    "import seaborn as sns\n",
    "import matplotlib.pyplot as plt\n",
    "from matplotlib.colors import LinearSegmentedColormap\n",
    "\n",
    "\n",
    "# fig = plt.figure(figsize=(15, 13))\n",
    "\n",
    "# Adjusting the palette to start with light blue at the cold end instead of a strong blue\n",
    "colors = ['#add8e6', '#ffffff', '#ff8c00', '#ff0000', '#ffff00'] # Light blue to white to orange to red to yellow\n",
    "\n",
    "# Create the colormap\n",
    "custom_lightblue_palette = LinearSegmentedColormap.from_list(\"custom_lightblue_palette\", colors, N=n_bins)\n",
    "\n",
    "# Plotting a heatmap using the adjusted palette\n",
    "fig, ax = plt.subplots(figsize=(8, 6))\n",
    "sns.heatmap(df, cmap=custom_lightblue_palette, ax=ax, cbar=True, vmin=-1, vmax=1)\n",
    "# sns.heatmap(df, cmap='icefire',square=True, linewidths=.5, cbar_kws={\"shrink\": .5}, vmin=-1, vmax=1)    "
   ]
  },
  {
   "cell_type": "code",
   "execution_count": null,
   "metadata": {},
   "outputs": [],
   "source": []
  }
 ],
 "metadata": {
  "kernelspec": {
   "display_name": "nimlab_py310",
   "language": "python",
   "name": "python3"
  },
  "language_info": {
   "codemirror_mode": {
    "name": "ipython",
    "version": 3
   },
   "file_extension": ".py",
   "mimetype": "text/x-python",
   "name": "python",
   "nbconvert_exporter": "python",
   "pygments_lexer": "ipython3",
   "version": "3.10.8"
  }
 },
 "nbformat": 4,
 "nbformat_minor": 2
}
