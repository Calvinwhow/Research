{
 "cells": [
  {
   "cell_type": "markdown",
   "metadata": {},
   "source": [
    "# Explore Data\n",
    "\n",
    "### Authors: Calvin Howard.\n",
    "\n",
    "#### Last updated: July 6, 2023\n",
    "\n",
    "Use this to assess if a predictors relationship to the predictee is different between two groups. \n",
    "\n",
    "Notes:\n",
    "- To best use this notebook, you should be familar with mixed effects models"
   ]
  },
  {
   "cell_type": "markdown",
   "metadata": {},
   "source": [
    "# 00 - Import CSV with All Data\n",
    "**The CSV is expected to be in this format**\n",
    "- ID and absolute paths to niftis are critical\n",
    "```\n",
    "+-----+----------------------------+--------------+--------------+--------------+\n",
    "| ID  | Nifti_File_Path            | Covariate_1  | Covariate_2  | Covariate_3  |\n",
    "+-----+----------------------------+--------------+--------------+--------------+\n",
    "| 1   | /path/to/file1.nii.gz      | 0.5          | 1.2          | 3.4          |\n",
    "| 2   | /path/to/file2.nii.gz      | 0.7          | 1.4          | 3.1          |\n",
    "| 3   | /path/to/file3.nii.gz      | 0.6          | 1.5          | 3.5          |\n",
    "| 4   | /path/to/file4.nii.gz      | 0.9          | 1.1          | 3.2          |\n",
    "| ... | ...                        | ...          | ...          | ...          |\n",
    "+-----+----------------------------+--------------+--------------+--------------+\n",
    "```"
   ]
  },
  {
   "cell_type": "code",
   "execution_count": 18,
   "metadata": {},
   "outputs": [],
   "source": [
    "# Specify the path to your CSV file containing NIFTI paths\n",
    "input_csv_path = '/Users/cu135/Dropbox (Partners HealthCare)/studies/cognition_2023/metadata/programming_accetpability.xlsx'"
   ]
  },
  {
   "cell_type": "code",
   "execution_count": 19,
   "metadata": {},
   "outputs": [],
   "source": [
    "# Specify where you want to save your results to\n",
    "out_dir = '/Users/cu135/Library/CloudStorage/OneDrive-Personal/OneDrive_Documents/Research/2023/subiculum_cognition_and_age/figures/Figures/prospective_pie_chart'"
   ]
  },
  {
   "cell_type": "code",
   "execution_count": 20,
   "metadata": {},
   "outputs": [
    {
     "data": {
      "text/html": [
       "<div>\n",
       "<style scoped>\n",
       "    .dataframe tbody tr th:only-of-type {\n",
       "        vertical-align: middle;\n",
       "    }\n",
       "\n",
       "    .dataframe tbody tr th {\n",
       "        vertical-align: top;\n",
       "    }\n",
       "\n",
       "    .dataframe thead th {\n",
       "        text-align: right;\n",
       "    }\n",
       "</style>\n",
       "<table border=\"1\" class=\"dataframe\">\n",
       "  <thead>\n",
       "    <tr style=\"text-align: right;\">\n",
       "      <th></th>\n",
       "      <th>SubId</th>\n",
       "      <th>City</th>\n",
       "      <th>Right_Electrode_Distance</th>\n",
       "      <th>Realistic_Distance_Estimate</th>\n",
       "      <th>Age</th>\n",
       "      <th>Distance</th>\n",
       "      <th>Count</th>\n",
       "      <th>Percent</th>\n",
       "      <th>Cumulative_Percent</th>\n",
       "    </tr>\n",
       "  </thead>\n",
       "  <tbody>\n",
       "    <tr>\n",
       "      <th>0</th>\n",
       "      <td>1</td>\n",
       "      <td>Wuzrburg</td>\n",
       "      <td>5</td>\n",
       "      <td>2</td>\n",
       "      <td>NaN</td>\n",
       "      <td>5.0</td>\n",
       "      <td>1.0</td>\n",
       "      <td>0.007353</td>\n",
       "      <td>NaN</td>\n",
       "    </tr>\n",
       "    <tr>\n",
       "      <th>1</th>\n",
       "      <td>2</td>\n",
       "      <td>Wuzrburg</td>\n",
       "      <td>4</td>\n",
       "      <td>2</td>\n",
       "      <td>NaN</td>\n",
       "      <td>4.0</td>\n",
       "      <td>0.0</td>\n",
       "      <td>0.000000</td>\n",
       "      <td>NaN</td>\n",
       "    </tr>\n",
       "    <tr>\n",
       "      <th>2</th>\n",
       "      <td>3</td>\n",
       "      <td>Wuzrburg</td>\n",
       "      <td>4</td>\n",
       "      <td>1</td>\n",
       "      <td>NaN</td>\n",
       "      <td>3.0</td>\n",
       "      <td>19.0</td>\n",
       "      <td>0.139706</td>\n",
       "      <td>0.147059</td>\n",
       "    </tr>\n",
       "    <tr>\n",
       "      <th>3</th>\n",
       "      <td>4</td>\n",
       "      <td>Wuzrburg</td>\n",
       "      <td>5</td>\n",
       "      <td>2</td>\n",
       "      <td>NaN</td>\n",
       "      <td>2.0</td>\n",
       "      <td>44.0</td>\n",
       "      <td>0.323529</td>\n",
       "      <td>0.323529</td>\n",
       "    </tr>\n",
       "    <tr>\n",
       "      <th>4</th>\n",
       "      <td>5</td>\n",
       "      <td>Wuzrburg</td>\n",
       "      <td>3</td>\n",
       "      <td>2</td>\n",
       "      <td>NaN</td>\n",
       "      <td>1.0</td>\n",
       "      <td>40.0</td>\n",
       "      <td>0.294118</td>\n",
       "      <td>0.294118</td>\n",
       "    </tr>\n",
       "    <tr>\n",
       "      <th>...</th>\n",
       "      <td>...</td>\n",
       "      <td>...</td>\n",
       "      <td>...</td>\n",
       "      <td>...</td>\n",
       "      <td>...</td>\n",
       "      <td>...</td>\n",
       "      <td>...</td>\n",
       "      <td>...</td>\n",
       "      <td>...</td>\n",
       "    </tr>\n",
       "    <tr>\n",
       "      <th>131</th>\n",
       "      <td>146</td>\n",
       "      <td>Toronto</td>\n",
       "      <td>0</td>\n",
       "      <td>0</td>\n",
       "      <td>76.0</td>\n",
       "      <td>NaN</td>\n",
       "      <td>NaN</td>\n",
       "      <td>NaN</td>\n",
       "      <td>NaN</td>\n",
       "    </tr>\n",
       "    <tr>\n",
       "      <th>132</th>\n",
       "      <td>147</td>\n",
       "      <td>Toronto</td>\n",
       "      <td>2</td>\n",
       "      <td>2</td>\n",
       "      <td>59.0</td>\n",
       "      <td>NaN</td>\n",
       "      <td>NaN</td>\n",
       "      <td>NaN</td>\n",
       "      <td>NaN</td>\n",
       "    </tr>\n",
       "    <tr>\n",
       "      <th>133</th>\n",
       "      <td>148</td>\n",
       "      <td>Toronto</td>\n",
       "      <td>2</td>\n",
       "      <td>2</td>\n",
       "      <td>51.0</td>\n",
       "      <td>NaN</td>\n",
       "      <td>NaN</td>\n",
       "      <td>NaN</td>\n",
       "      <td>NaN</td>\n",
       "    </tr>\n",
       "    <tr>\n",
       "      <th>134</th>\n",
       "      <td>149</td>\n",
       "      <td>Toronto</td>\n",
       "      <td>2</td>\n",
       "      <td>2</td>\n",
       "      <td>77.0</td>\n",
       "      <td>NaN</td>\n",
       "      <td>NaN</td>\n",
       "      <td>NaN</td>\n",
       "      <td>NaN</td>\n",
       "    </tr>\n",
       "    <tr>\n",
       "      <th>135</th>\n",
       "      <td>150</td>\n",
       "      <td>Toronto</td>\n",
       "      <td>1</td>\n",
       "      <td>1</td>\n",
       "      <td>71.0</td>\n",
       "      <td>NaN</td>\n",
       "      <td>NaN</td>\n",
       "      <td>NaN</td>\n",
       "      <td>NaN</td>\n",
       "    </tr>\n",
       "  </tbody>\n",
       "</table>\n",
       "<p>136 rows × 9 columns</p>\n",
       "</div>"
      ],
      "text/plain": [
       "     SubId      City  Right_Electrode_Distance  Realistic_Distance_Estimate  \\\n",
       "0        1  Wuzrburg                         5                            2   \n",
       "1        2  Wuzrburg                         4                            2   \n",
       "2        3  Wuzrburg                         4                            1   \n",
       "3        4  Wuzrburg                         5                            2   \n",
       "4        5  Wuzrburg                         3                            2   \n",
       "..     ...       ...                       ...                          ...   \n",
       "131    146   Toronto                         0                            0   \n",
       "132    147   Toronto                         2                            2   \n",
       "133    148   Toronto                         2                            2   \n",
       "134    149   Toronto                         2                            2   \n",
       "135    150   Toronto                         1                            1   \n",
       "\n",
       "      Age  Distance  Count   Percent  Cumulative_Percent  \n",
       "0     NaN       5.0    1.0  0.007353                 NaN  \n",
       "1     NaN       4.0    0.0  0.000000                 NaN  \n",
       "2     NaN       3.0   19.0  0.139706            0.147059  \n",
       "3     NaN       2.0   44.0  0.323529            0.323529  \n",
       "4     NaN       1.0   40.0  0.294118            0.294118  \n",
       "..    ...       ...    ...       ...                 ...  \n",
       "131  76.0       NaN    NaN       NaN                 NaN  \n",
       "132  59.0       NaN    NaN       NaN                 NaN  \n",
       "133  51.0       NaN    NaN       NaN                 NaN  \n",
       "134  77.0       NaN    NaN       NaN                 NaN  \n",
       "135  71.0       NaN    NaN       NaN                 NaN  \n",
       "\n",
       "[136 rows x 9 columns]"
      ]
     },
     "metadata": {},
     "output_type": "display_data"
    }
   ],
   "source": [
    "from calvin_utils.permutation_analysis_utils.statsmodels_palm import CalvinStatsmodelsPalm\n",
    "# Instantiate the PalmPrepararation class\n",
    "cal_palm = CalvinStatsmodelsPalm(input_csv_path=input_csv_path, output_dir=out_dir, sheet='Sheet1')\n",
    "# Call the process_nifti_paths method\n",
    "data_df = cal_palm.read_and_display_data()\n"
   ]
  },
  {
   "cell_type": "markdown",
   "metadata": {},
   "source": [
    "# 01 - Preprocess Your Data"
   ]
  },
  {
   "cell_type": "markdown",
   "metadata": {},
   "source": [
    "**Handle NANs**\n",
    "- Set drop_nans=True is you would like to remove NaNs from data\n",
    "- Provide a column name or a list of column names to remove NaNs from"
   ]
  },
  {
   "cell_type": "code",
   "execution_count": 21,
   "metadata": {},
   "outputs": [
    {
     "data": {
      "text/plain": [
       "Index(['SubId', 'City', 'Right_Electrode_Distance',\n",
       "       'Realistic_Distance_Estimate', 'Age', 'Distance', 'Count', 'Percent',\n",
       "       'Cumulative_Percent'],\n",
       "      dtype='object')"
      ]
     },
     "execution_count": 21,
     "metadata": {},
     "output_type": "execute_result"
    }
   ],
   "source": [
    "data_df.columns"
   ]
  },
  {
   "cell_type": "code",
   "execution_count": 22,
   "metadata": {},
   "outputs": [],
   "source": [
    "drop_list = ['Cumulative_Percent']"
   ]
  },
  {
   "cell_type": "code",
   "execution_count": 23,
   "metadata": {},
   "outputs": [
    {
     "data": {
      "text/html": [
       "<div>\n",
       "<style scoped>\n",
       "    .dataframe tbody tr th:only-of-type {\n",
       "        vertical-align: middle;\n",
       "    }\n",
       "\n",
       "    .dataframe tbody tr th {\n",
       "        vertical-align: top;\n",
       "    }\n",
       "\n",
       "    .dataframe thead th {\n",
       "        text-align: right;\n",
       "    }\n",
       "</style>\n",
       "<table border=\"1\" class=\"dataframe\">\n",
       "  <thead>\n",
       "    <tr style=\"text-align: right;\">\n",
       "      <th></th>\n",
       "      <th>SubId</th>\n",
       "      <th>City</th>\n",
       "      <th>Right_Electrode_Distance</th>\n",
       "      <th>Realistic_Distance_Estimate</th>\n",
       "      <th>Age</th>\n",
       "      <th>Distance</th>\n",
       "      <th>Count</th>\n",
       "      <th>Percent</th>\n",
       "      <th>Cumulative_Percent</th>\n",
       "    </tr>\n",
       "  </thead>\n",
       "  <tbody>\n",
       "    <tr>\n",
       "      <th>2</th>\n",
       "      <td>3</td>\n",
       "      <td>Wuzrburg</td>\n",
       "      <td>4</td>\n",
       "      <td>1</td>\n",
       "      <td>NaN</td>\n",
       "      <td>3.0</td>\n",
       "      <td>19.0</td>\n",
       "      <td>0.139706</td>\n",
       "      <td>0.147059</td>\n",
       "    </tr>\n",
       "    <tr>\n",
       "      <th>3</th>\n",
       "      <td>4</td>\n",
       "      <td>Wuzrburg</td>\n",
       "      <td>5</td>\n",
       "      <td>2</td>\n",
       "      <td>NaN</td>\n",
       "      <td>2.0</td>\n",
       "      <td>44.0</td>\n",
       "      <td>0.323529</td>\n",
       "      <td>0.323529</td>\n",
       "    </tr>\n",
       "    <tr>\n",
       "      <th>4</th>\n",
       "      <td>5</td>\n",
       "      <td>Wuzrburg</td>\n",
       "      <td>3</td>\n",
       "      <td>2</td>\n",
       "      <td>NaN</td>\n",
       "      <td>1.0</td>\n",
       "      <td>40.0</td>\n",
       "      <td>0.294118</td>\n",
       "      <td>0.294118</td>\n",
       "    </tr>\n",
       "    <tr>\n",
       "      <th>5</th>\n",
       "      <td>6</td>\n",
       "      <td>Wuzrburg</td>\n",
       "      <td>5</td>\n",
       "      <td>2</td>\n",
       "      <td>NaN</td>\n",
       "      <td>0.0</td>\n",
       "      <td>32.0</td>\n",
       "      <td>0.235294</td>\n",
       "      <td>0.235294</td>\n",
       "    </tr>\n",
       "  </tbody>\n",
       "</table>\n",
       "</div>"
      ],
      "text/plain": [
       "   SubId      City  Right_Electrode_Distance  Realistic_Distance_Estimate  \\\n",
       "2      3  Wuzrburg                         4                            1   \n",
       "3      4  Wuzrburg                         5                            2   \n",
       "4      5  Wuzrburg                         3                            2   \n",
       "5      6  Wuzrburg                         5                            2   \n",
       "\n",
       "   Age  Distance  Count   Percent  Cumulative_Percent  \n",
       "2  NaN       3.0   19.0  0.139706            0.147059  \n",
       "3  NaN       2.0   44.0  0.323529            0.323529  \n",
       "4  NaN       1.0   40.0  0.294118            0.294118  \n",
       "5  NaN       0.0   32.0  0.235294            0.235294  "
      ]
     },
     "metadata": {},
     "output_type": "display_data"
    }
   ],
   "source": [
    "data_df = cal_palm.drop_nans_from_columns(columns_to_drop_from=drop_list)\n",
    "display(data_df)"
   ]
  },
  {
   "cell_type": "markdown",
   "metadata": {},
   "source": [
    "**Drop Row Based on Value of Column**\n",
    "\n",
    "Define the column, condition, and value for dropping rows\n",
    "- column = 'your_column_name'\n",
    "- condition = 'above'  # Options: 'equal', 'above', 'below'"
   ]
  },
  {
   "cell_type": "code",
   "execution_count": 22,
   "metadata": {},
   "outputs": [
    {
     "data": {
      "text/plain": [
       "Index(['subject', 'CerebellumSBM', 'CerebellumCSF', 'CerebellumGM',\n",
       "       'cerebellumVisualCH', 'CerebellumWM', 'FrontalSurface', 'FrontalCSF',\n",
       "       'FrontalGM', 'frontalVisualCH', 'FrontalWM', 'InsularSurface',\n",
       "       'InsularCSF', 'InsularGM', 'InsularWM', 'InsularVisualCH', 'MTLSurface',\n",
       "       'MTLVisualCH', 'MTLCSF', 'MTLGM', 'MTLWM', 'OccipitalSurface',\n",
       "       'OccipitalCSF', 'OccipitalGM', 'occipitalVisualCH', 'OccipitalWM',\n",
       "       'ParietalSurface', 'ParietalCSF', 'ParietalGM', 'parietalVisualCH',\n",
       "       'ParietalWM', 'TemporalSurface', 'TemporalCSF', 'TemporalGM',\n",
       "       'temporalVisualCH', 'TemporalWM', 'ventricleVisualCH',\n",
       "       'SubcortexSurface', 'SubcortexSurfaceVentricle', 'SubcortexCSF',\n",
       "       'SubcortexGM', 'SubcortexWM', 'WholeBrainSurface', 'WholeBrainCSF',\n",
       "       'WholeBrainGM', 'WholeBrainWM'],\n",
       "      dtype='object')"
      ]
     },
     "execution_count": 22,
     "metadata": {},
     "output_type": "execute_result"
    }
   ],
   "source": [
    "data_df.columns"
   ]
  },
  {
   "cell_type": "markdown",
   "metadata": {},
   "source": [
    "Set the parameters for dropping rows"
   ]
  },
  {
   "cell_type": "code",
   "execution_count": 19,
   "metadata": {},
   "outputs": [],
   "source": [
    "column = 'City'  # The column you'd like to evaluate\n",
    "condition = 'not'  # The condition to check ('equal', 'above', 'below')\n",
    "value = \"Wurzburg\"  # The value to compare against"
   ]
  },
  {
   "cell_type": "code",
   "execution_count": 20,
   "metadata": {},
   "outputs": [
    {
     "data": {
      "text/html": [
       "<div>\n",
       "<style scoped>\n",
       "    .dataframe tbody tr th:only-of-type {\n",
       "        vertical-align: middle;\n",
       "    }\n",
       "\n",
       "    .dataframe tbody tr th {\n",
       "        vertical-align: top;\n",
       "    }\n",
       "\n",
       "    .dataframe thead th {\n",
       "        text-align: right;\n",
       "    }\n",
       "</style>\n",
       "<table border=\"1\" class=\"dataframe\">\n",
       "  <thead>\n",
       "    <tr style=\"text-align: right;\">\n",
       "      <th></th>\n",
       "      <th>subject</th>\n",
       "      <th>Age</th>\n",
       "      <th>Normalized_Percent_Cognitive_Improvement</th>\n",
       "      <th>Z_Scored_Percent_Cognitive_Improvement</th>\n",
       "      <th>Percent_Cognitive_Improvement</th>\n",
       "      <th>Z_Scored_Subiculum_Connectivity</th>\n",
       "      <th>Subiculum_Connectivity</th>\n",
       "      <th>Amnesia_Lesion_T_Map</th>\n",
       "      <th>Memory_Network_T</th>\n",
       "      <th>Z_Scored_Memory_Network_R</th>\n",
       "      <th>...</th>\n",
       "      <th>Subiculum_Group_By_Inflection</th>\n",
       "      <th>Cognitive_Baseline</th>\n",
       "      <th>Z_Scored_Cognitive_Baseline</th>\n",
       "      <th>Z_Scored_Cognitive_Baseline__Lower_is_Better_</th>\n",
       "      <th>Min_Max_Normalized_Baseline</th>\n",
       "      <th>MinMaxNormBaseline_Higher_is_Better</th>\n",
       "      <th>ROI_to_Alz_Max</th>\n",
       "      <th>ROI_to_PD_Max</th>\n",
       "      <th>Standardzied_AD_Max</th>\n",
       "      <th>Standardized_PD_Max</th>\n",
       "    </tr>\n",
       "  </thead>\n",
       "  <tbody>\n",
       "    <tr>\n",
       "      <th>46</th>\n",
       "      <td>1</td>\n",
       "      <td>57.0</td>\n",
       "      <td>-2.609929</td>\n",
       "      <td>-1.372562</td>\n",
       "      <td>-5.673759</td>\n",
       "      <td>1.080695</td>\n",
       "      <td>30.376565</td>\n",
       "      <td>-0.113151</td>\n",
       "      <td>0.273890</td>\n",
       "      <td>1.300775</td>\n",
       "      <td>...</td>\n",
       "      <td>High</td>\n",
       "      <td>141.0</td>\n",
       "      <td>-0.115295</td>\n",
       "      <td>-0.115295</td>\n",
       "      <td>0.625</td>\n",
       "      <td>0.625</td>\n",
       "      <td>22.020300</td>\n",
       "      <td>20.467840</td>\n",
       "      <td>1.056258</td>\n",
       "      <td>0.508516</td>\n",
       "    </tr>\n",
       "    <tr>\n",
       "      <th>47</th>\n",
       "      <td>2</td>\n",
       "      <td>50.0</td>\n",
       "      <td>0.992806</td>\n",
       "      <td>1.331414</td>\n",
       "      <td>2.158273</td>\n",
       "      <td>-0.930548</td>\n",
       "      <td>16.295870</td>\n",
       "      <td>-0.502484</td>\n",
       "      <td>-0.154892</td>\n",
       "      <td>-0.834092</td>\n",
       "      <td>...</td>\n",
       "      <td>Low</td>\n",
       "      <td>139.0</td>\n",
       "      <td>-0.935174</td>\n",
       "      <td>-0.935174</td>\n",
       "      <td>0.375</td>\n",
       "      <td>0.375</td>\n",
       "      <td>11.487188</td>\n",
       "      <td>4.942970</td>\n",
       "      <td>-0.759238</td>\n",
       "      <td>-1.629565</td>\n",
       "    </tr>\n",
       "    <tr>\n",
       "      <th>48</th>\n",
       "      <td>3</td>\n",
       "      <td>62.0</td>\n",
       "      <td>-0.638889</td>\n",
       "      <td>0.106772</td>\n",
       "      <td>-1.388889</td>\n",
       "      <td>1.155469</td>\n",
       "      <td>30.900051</td>\n",
       "      <td>-0.398033</td>\n",
       "      <td>0.030553</td>\n",
       "      <td>0.548198</td>\n",
       "      <td>...</td>\n",
       "      <td>High</td>\n",
       "      <td>144.0</td>\n",
       "      <td>1.114522</td>\n",
       "      <td>1.114522</td>\n",
       "      <td>1.000</td>\n",
       "      <td>1.000</td>\n",
       "      <td>23.013479</td>\n",
       "      <td>22.145924</td>\n",
       "      <td>1.227443</td>\n",
       "      <td>0.739621</td>\n",
       "    </tr>\n",
       "    <tr>\n",
       "      <th>49</th>\n",
       "      <td>4</td>\n",
       "      <td>50.0</td>\n",
       "      <td>-0.985714</td>\n",
       "      <td>-0.153533</td>\n",
       "      <td>-2.142857</td>\n",
       "      <td>-0.228971</td>\n",
       "      <td>21.207602</td>\n",
       "      <td>-0.426115</td>\n",
       "      <td>-0.043983</td>\n",
       "      <td>-0.295586</td>\n",
       "      <td>...</td>\n",
       "      <td>Low</td>\n",
       "      <td>140.0</td>\n",
       "      <td>-0.525235</td>\n",
       "      <td>-0.525235</td>\n",
       "      <td>0.500</td>\n",
       "      <td>0.500</td>\n",
       "      <td>12.198485</td>\n",
       "      <td>18.933435</td>\n",
       "      <td>-0.636638</td>\n",
       "      <td>0.297198</td>\n",
       "    </tr>\n",
       "    <tr>\n",
       "      <th>50</th>\n",
       "      <td>6</td>\n",
       "      <td>60.0</td>\n",
       "      <td>-0.323944</td>\n",
       "      <td>0.343149</td>\n",
       "      <td>-0.704225</td>\n",
       "      <td>0.109572</td>\n",
       "      <td>23.577739</td>\n",
       "      <td>-0.454075</td>\n",
       "      <td>-0.053915</td>\n",
       "      <td>-0.084635</td>\n",
       "      <td>...</td>\n",
       "      <td>High</td>\n",
       "      <td>142.0</td>\n",
       "      <td>0.294644</td>\n",
       "      <td>0.294644</td>\n",
       "      <td>0.750</td>\n",
       "      <td>0.750</td>\n",
       "      <td>17.634088</td>\n",
       "      <td>18.128314</td>\n",
       "      <td>0.300247</td>\n",
       "      <td>0.186317</td>\n",
       "    </tr>\n",
       "    <tr>\n",
       "      <th>51</th>\n",
       "      <td>7</td>\n",
       "      <td>73.0</td>\n",
       "      <td>-0.326241</td>\n",
       "      <td>0.341424</td>\n",
       "      <td>-0.709220</td>\n",
       "      <td>1.977842</td>\n",
       "      <td>36.657479</td>\n",
       "      <td>-0.177886</td>\n",
       "      <td>0.269167</td>\n",
       "      <td>1.688136</td>\n",
       "      <td>...</td>\n",
       "      <td>High</td>\n",
       "      <td>141.0</td>\n",
       "      <td>-0.115295</td>\n",
       "      <td>-0.115295</td>\n",
       "      <td>0.625</td>\n",
       "      <td>0.625</td>\n",
       "      <td>24.162033</td>\n",
       "      <td>27.503198</td>\n",
       "      <td>1.425409</td>\n",
       "      <td>1.477423</td>\n",
       "    </tr>\n",
       "    <tr>\n",
       "      <th>52</th>\n",
       "      <td>9</td>\n",
       "      <td>64.0</td>\n",
       "      <td>-0.985714</td>\n",
       "      <td>-0.153533</td>\n",
       "      <td>-2.142857</td>\n",
       "      <td>-0.407778</td>\n",
       "      <td>19.955774</td>\n",
       "      <td>-0.494405</td>\n",
       "      <td>-0.132818</td>\n",
       "      <td>-0.631960</td>\n",
       "      <td>...</td>\n",
       "      <td>Low</td>\n",
       "      <td>140.0</td>\n",
       "      <td>-0.525235</td>\n",
       "      <td>-0.525235</td>\n",
       "      <td>0.500</td>\n",
       "      <td>0.500</td>\n",
       "      <td>10.782803</td>\n",
       "      <td>14.964053</td>\n",
       "      <td>-0.880646</td>\n",
       "      <td>-0.249464</td>\n",
       "    </tr>\n",
       "    <tr>\n",
       "      <th>53</th>\n",
       "      <td>11</td>\n",
       "      <td>62.0</td>\n",
       "      <td>-0.319444</td>\n",
       "      <td>0.346526</td>\n",
       "      <td>-0.694444</td>\n",
       "      <td>-1.093332</td>\n",
       "      <td>15.156220</td>\n",
       "      <td>-0.507962</td>\n",
       "      <td>-0.165672</td>\n",
       "      <td>-1.049905</td>\n",
       "      <td>...</td>\n",
       "      <td>Low</td>\n",
       "      <td>144.0</td>\n",
       "      <td>1.114522</td>\n",
       "      <td>1.114522</td>\n",
       "      <td>1.000</td>\n",
       "      <td>1.000</td>\n",
       "      <td>9.653427</td>\n",
       "      <td>12.002916</td>\n",
       "      <td>-1.075306</td>\n",
       "      <td>-0.657271</td>\n",
       "    </tr>\n",
       "    <tr>\n",
       "      <th>54</th>\n",
       "      <td>12</td>\n",
       "      <td>54.0</td>\n",
       "      <td>0.000000</td>\n",
       "      <td>0.586280</td>\n",
       "      <td>0.000000</td>\n",
       "      <td>0.788134</td>\n",
       "      <td>28.328345</td>\n",
       "      <td>-0.220427</td>\n",
       "      <td>0.210477</td>\n",
       "      <td>1.138770</td>\n",
       "      <td>...</td>\n",
       "      <td>High</td>\n",
       "      <td>136.0</td>\n",
       "      <td>-2.164991</td>\n",
       "      <td>-2.164991</td>\n",
       "      <td>0.000</td>\n",
       "      <td>0.000</td>\n",
       "      <td>21.521001</td>\n",
       "      <td>21.243697</td>\n",
       "      <td>0.970198</td>\n",
       "      <td>0.615367</td>\n",
       "    </tr>\n",
       "    <tr>\n",
       "      <th>55</th>\n",
       "      <td>14</td>\n",
       "      <td>49.0</td>\n",
       "      <td>0.321678</td>\n",
       "      <td>0.827710</td>\n",
       "      <td>0.699301</td>\n",
       "      <td>-0.455880</td>\n",
       "      <td>19.619016</td>\n",
       "      <td>-0.440579</td>\n",
       "      <td>-0.072634</td>\n",
       "      <td>-0.467260</td>\n",
       "      <td>...</td>\n",
       "      <td>Low</td>\n",
       "      <td>143.0</td>\n",
       "      <td>0.704583</td>\n",
       "      <td>0.704583</td>\n",
       "      <td>0.875</td>\n",
       "      <td>0.875</td>\n",
       "      <td>10.881447</td>\n",
       "      <td>15.224677</td>\n",
       "      <td>-0.863644</td>\n",
       "      <td>-0.213571</td>\n",
       "    </tr>\n",
       "    <tr>\n",
       "      <th>56</th>\n",
       "      <td>15</td>\n",
       "      <td>46.0</td>\n",
       "      <td>-3.513889</td>\n",
       "      <td>-2.051014</td>\n",
       "      <td>-7.638889</td>\n",
       "      <td>2.357590</td>\n",
       "      <td>39.316089</td>\n",
       "      <td>0.047449</td>\n",
       "      <td>0.458081</td>\n",
       "      <td>2.442475</td>\n",
       "      <td>...</td>\n",
       "      <td>High</td>\n",
       "      <td>144.0</td>\n",
       "      <td>1.114522</td>\n",
       "      <td>1.114522</td>\n",
       "      <td>1.000</td>\n",
       "      <td>1.000</td>\n",
       "      <td>23.430082</td>\n",
       "      <td>33.143996</td>\n",
       "      <td>1.299249</td>\n",
       "      <td>2.254272</td>\n",
       "    </tr>\n",
       "    <tr>\n",
       "      <th>57</th>\n",
       "      <td>17</td>\n",
       "      <td>52.0</td>\n",
       "      <td>0.000000</td>\n",
       "      <td>0.586280</td>\n",
       "      <td>0.000000</td>\n",
       "      <td>1.029012</td>\n",
       "      <td>30.014730</td>\n",
       "      <td>-0.372396</td>\n",
       "      <td>0.061999</td>\n",
       "      <td>0.669495</td>\n",
       "      <td>...</td>\n",
       "      <td>High</td>\n",
       "      <td>144.0</td>\n",
       "      <td>1.114522</td>\n",
       "      <td>1.114522</td>\n",
       "      <td>1.000</td>\n",
       "      <td>1.000</td>\n",
       "      <td>23.655083</td>\n",
       "      <td>22.108570</td>\n",
       "      <td>1.338030</td>\n",
       "      <td>0.734477</td>\n",
       "    </tr>\n",
       "    <tr>\n",
       "      <th>58</th>\n",
       "      <td>18</td>\n",
       "      <td>46.0</td>\n",
       "      <td>0.330935</td>\n",
       "      <td>0.834658</td>\n",
       "      <td>0.719424</td>\n",
       "      <td>-1.003966</td>\n",
       "      <td>15.781874</td>\n",
       "      <td>-0.313833</td>\n",
       "      <td>0.034196</td>\n",
       "      <td>-0.232757</td>\n",
       "      <td>...</td>\n",
       "      <td>Low</td>\n",
       "      <td>139.0</td>\n",
       "      <td>-0.935174</td>\n",
       "      <td>-0.935174</td>\n",
       "      <td>0.375</td>\n",
       "      <td>0.375</td>\n",
       "      <td>10.294062</td>\n",
       "      <td>7.983811</td>\n",
       "      <td>-0.964886</td>\n",
       "      <td>-1.210781</td>\n",
       "    </tr>\n",
       "    <tr>\n",
       "      <th>59</th>\n",
       "      <td>19</td>\n",
       "      <td>64.0</td>\n",
       "      <td>-0.638889</td>\n",
       "      <td>0.106772</td>\n",
       "      <td>-1.388889</td>\n",
       "      <td>0.045394</td>\n",
       "      <td>23.128431</td>\n",
       "      <td>-0.345869</td>\n",
       "      <td>0.060492</td>\n",
       "      <td>0.304244</td>\n",
       "      <td>...</td>\n",
       "      <td>Low</td>\n",
       "      <td>144.0</td>\n",
       "      <td>1.114522</td>\n",
       "      <td>1.114522</td>\n",
       "      <td>1.000</td>\n",
       "      <td>1.000</td>\n",
       "      <td>18.597962</td>\n",
       "      <td>19.229600</td>\n",
       "      <td>0.466381</td>\n",
       "      <td>0.337986</td>\n",
       "    </tr>\n",
       "    <tr>\n",
       "      <th>60</th>\n",
       "      <td>21</td>\n",
       "      <td>58.0</td>\n",
       "      <td>-4.535211</td>\n",
       "      <td>-2.817552</td>\n",
       "      <td>-9.859155</td>\n",
       "      <td>0.457907</td>\n",
       "      <td>26.016428</td>\n",
       "      <td>-0.049282</td>\n",
       "      <td>0.333571</td>\n",
       "      <td>1.406385</td>\n",
       "      <td>...</td>\n",
       "      <td>High</td>\n",
       "      <td>142.0</td>\n",
       "      <td>0.294644</td>\n",
       "      <td>0.294644</td>\n",
       "      <td>0.750</td>\n",
       "      <td>0.750</td>\n",
       "      <td>19.765137</td>\n",
       "      <td>23.255821</td>\n",
       "      <td>0.667556</td>\n",
       "      <td>0.892476</td>\n",
       "    </tr>\n",
       "    <tr>\n",
       "      <th>61</th>\n",
       "      <td>22</td>\n",
       "      <td>57.0</td>\n",
       "      <td>0.000000</td>\n",
       "      <td>0.586280</td>\n",
       "      <td>0.000000</td>\n",
       "      <td>-0.408153</td>\n",
       "      <td>19.953155</td>\n",
       "      <td>-0.496973</td>\n",
       "      <td>-0.112231</td>\n",
       "      <td>-0.465832</td>\n",
       "      <td>...</td>\n",
       "      <td>Low</td>\n",
       "      <td>143.0</td>\n",
       "      <td>0.704583</td>\n",
       "      <td>0.704583</td>\n",
       "      <td>0.875</td>\n",
       "      <td>0.875</td>\n",
       "      <td>16.167584</td>\n",
       "      <td>17.567719</td>\n",
       "      <td>0.047479</td>\n",
       "      <td>0.109112</td>\n",
       "    </tr>\n",
       "    <tr>\n",
       "      <th>62</th>\n",
       "      <td>23</td>\n",
       "      <td>68.0</td>\n",
       "      <td>-0.652482</td>\n",
       "      <td>0.096569</td>\n",
       "      <td>-1.418440</td>\n",
       "      <td>-1.041401</td>\n",
       "      <td>15.519790</td>\n",
       "      <td>-0.520786</td>\n",
       "      <td>-0.168692</td>\n",
       "      <td>-0.899768</td>\n",
       "      <td>...</td>\n",
       "      <td>Low</td>\n",
       "      <td>141.0</td>\n",
       "      <td>-0.115295</td>\n",
       "      <td>-0.115295</td>\n",
       "      <td>0.625</td>\n",
       "      <td>0.625</td>\n",
       "      <td>10.938624</td>\n",
       "      <td>5.561032</td>\n",
       "      <td>-0.853789</td>\n",
       "      <td>-1.544445</td>\n",
       "    </tr>\n",
       "    <tr>\n",
       "      <th>64</th>\n",
       "      <td>26</td>\n",
       "      <td>79.0</td>\n",
       "      <td>0.000000</td>\n",
       "      <td>0.586280</td>\n",
       "      <td>0.000000</td>\n",
       "      <td>0.236757</td>\n",
       "      <td>24.468157</td>\n",
       "      <td>-0.276809</td>\n",
       "      <td>0.133903</td>\n",
       "      <td>0.598361</td>\n",
       "      <td>...</td>\n",
       "      <td>High</td>\n",
       "      <td>140.0</td>\n",
       "      <td>-0.525235</td>\n",
       "      <td>-0.525235</td>\n",
       "      <td>0.500</td>\n",
       "      <td>0.500</td>\n",
       "      <td>18.644419</td>\n",
       "      <td>23.314943</td>\n",
       "      <td>0.474388</td>\n",
       "      <td>0.900618</td>\n",
       "    </tr>\n",
       "    <tr>\n",
       "      <th>65</th>\n",
       "      <td>27</td>\n",
       "      <td>61.0</td>\n",
       "      <td>-0.638889</td>\n",
       "      <td>0.106772</td>\n",
       "      <td>-1.388889</td>\n",
       "      <td>-0.572833</td>\n",
       "      <td>18.800226</td>\n",
       "      <td>-0.489221</td>\n",
       "      <td>-0.112289</td>\n",
       "      <td>-0.521911</td>\n",
       "      <td>...</td>\n",
       "      <td>Low</td>\n",
       "      <td>144.0</td>\n",
       "      <td>1.114522</td>\n",
       "      <td>1.114522</td>\n",
       "      <td>1.000</td>\n",
       "      <td>1.000</td>\n",
       "      <td>14.809775</td>\n",
       "      <td>13.473033</td>\n",
       "      <td>-0.186554</td>\n",
       "      <td>-0.454807</td>\n",
       "    </tr>\n",
       "    <tr>\n",
       "      <th>66</th>\n",
       "      <td>28</td>\n",
       "      <td>56.0</td>\n",
       "      <td>1.000000</td>\n",
       "      <td>1.336814</td>\n",
       "      <td>2.173913</td>\n",
       "      <td>1.355046</td>\n",
       "      <td>32.297293</td>\n",
       "      <td>-0.413800</td>\n",
       "      <td>0.018065</td>\n",
       "      <td>0.571102</td>\n",
       "      <td>...</td>\n",
       "      <td>High</td>\n",
       "      <td>138.0</td>\n",
       "      <td>-1.345113</td>\n",
       "      <td>-1.345113</td>\n",
       "      <td>0.250</td>\n",
       "      <td>0.250</td>\n",
       "      <td>24.395433</td>\n",
       "      <td>24.956701</td>\n",
       "      <td>1.465638</td>\n",
       "      <td>1.126720</td>\n",
       "    </tr>\n",
       "    <tr>\n",
       "      <th>67</th>\n",
       "      <td>29</td>\n",
       "      <td>47.0</td>\n",
       "      <td>0.000000</td>\n",
       "      <td>0.586280</td>\n",
       "      <td>0.000000</td>\n",
       "      <td>0.886242</td>\n",
       "      <td>29.015201</td>\n",
       "      <td>-0.358253</td>\n",
       "      <td>0.072830</td>\n",
       "      <td>0.671285</td>\n",
       "      <td>...</td>\n",
       "      <td>High</td>\n",
       "      <td>141.0</td>\n",
       "      <td>-0.115295</td>\n",
       "      <td>-0.115295</td>\n",
       "      <td>0.625</td>\n",
       "      <td>0.625</td>\n",
       "      <td>21.855067</td>\n",
       "      <td>25.033790</td>\n",
       "      <td>1.027778</td>\n",
       "      <td>1.137337</td>\n",
       "    </tr>\n",
       "    <tr>\n",
       "      <th>68</th>\n",
       "      <td>30</td>\n",
       "      <td>58.0</td>\n",
       "      <td>-0.638889</td>\n",
       "      <td>0.106772</td>\n",
       "      <td>-1.388889</td>\n",
       "      <td>-0.590767</td>\n",
       "      <td>18.674670</td>\n",
       "      <td>-0.553686</td>\n",
       "      <td>-0.190240</td>\n",
       "      <td>-0.867750</td>\n",
       "      <td>...</td>\n",
       "      <td>Low</td>\n",
       "      <td>144.0</td>\n",
       "      <td>1.114522</td>\n",
       "      <td>1.114522</td>\n",
       "      <td>1.000</td>\n",
       "      <td>1.000</td>\n",
       "      <td>13.873339</td>\n",
       "      <td>15.685024</td>\n",
       "      <td>-0.347959</td>\n",
       "      <td>-0.150172</td>\n",
       "    </tr>\n",
       "    <tr>\n",
       "      <th>69</th>\n",
       "      <td>31</td>\n",
       "      <td>64.0</td>\n",
       "      <td>0.666667</td>\n",
       "      <td>1.086636</td>\n",
       "      <td>1.449275</td>\n",
       "      <td>-1.065220</td>\n",
       "      <td>15.353030</td>\n",
       "      <td>-0.505577</td>\n",
       "      <td>-0.179074</td>\n",
       "      <td>-1.118322</td>\n",
       "      <td>...</td>\n",
       "      <td>Low</td>\n",
       "      <td>138.0</td>\n",
       "      <td>-1.345113</td>\n",
       "      <td>-1.345113</td>\n",
       "      <td>0.250</td>\n",
       "      <td>0.250</td>\n",
       "      <td>10.930371</td>\n",
       "      <td>11.599140</td>\n",
       "      <td>-0.855211</td>\n",
       "      <td>-0.712879</td>\n",
       "    </tr>\n",
       "    <tr>\n",
       "      <th>70</th>\n",
       "      <td>33</td>\n",
       "      <td>60.0</td>\n",
       "      <td>-0.643357</td>\n",
       "      <td>0.103418</td>\n",
       "      <td>-1.398601</td>\n",
       "      <td>-1.108473</td>\n",
       "      <td>15.050219</td>\n",
       "      <td>-0.659502</td>\n",
       "      <td>-0.363412</td>\n",
       "      <td>-1.750573</td>\n",
       "      <td>...</td>\n",
       "      <td>Low</td>\n",
       "      <td>143.0</td>\n",
       "      <td>0.704583</td>\n",
       "      <td>0.704583</td>\n",
       "      <td>0.875</td>\n",
       "      <td>0.875</td>\n",
       "      <td>6.780175</td>\n",
       "      <td>8.774895</td>\n",
       "      <td>-1.570542</td>\n",
       "      <td>-1.101833</td>\n",
       "    </tr>\n",
       "    <tr>\n",
       "      <th>72</th>\n",
       "      <td>36</td>\n",
       "      <td>52.0</td>\n",
       "      <td>-1.286713</td>\n",
       "      <td>-0.379443</td>\n",
       "      <td>-2.797203</td>\n",
       "      <td>-0.775406</td>\n",
       "      <td>17.382020</td>\n",
       "      <td>-0.527690</td>\n",
       "      <td>-0.175144</td>\n",
       "      <td>-0.958781</td>\n",
       "      <td>...</td>\n",
       "      <td>Low</td>\n",
       "      <td>143.0</td>\n",
       "      <td>0.704583</td>\n",
       "      <td>0.704583</td>\n",
       "      <td>0.875</td>\n",
       "      <td>0.875</td>\n",
       "      <td>9.841726</td>\n",
       "      <td>16.308768</td>\n",
       "      <td>-1.042851</td>\n",
       "      <td>-0.064270</td>\n",
       "    </tr>\n",
       "    <tr>\n",
       "      <th>73</th>\n",
       "      <td>37</td>\n",
       "      <td>64.0</td>\n",
       "      <td>-0.992806</td>\n",
       "      <td>-0.158855</td>\n",
       "      <td>-2.158273</td>\n",
       "      <td>-0.690244</td>\n",
       "      <td>17.978233</td>\n",
       "      <td>-0.243491</td>\n",
       "      <td>0.103399</td>\n",
       "      <td>0.137889</td>\n",
       "      <td>...</td>\n",
       "      <td>Low</td>\n",
       "      <td>139.0</td>\n",
       "      <td>-0.935174</td>\n",
       "      <td>-0.935174</td>\n",
       "      <td>0.375</td>\n",
       "      <td>0.375</td>\n",
       "      <td>11.101963</td>\n",
       "      <td>10.543942</td>\n",
       "      <td>-0.825635</td>\n",
       "      <td>-0.858200</td>\n",
       "    </tr>\n",
       "  </tbody>\n",
       "</table>\n",
       "<p>26 rows × 40 columns</p>\n",
       "</div>"
      ],
      "text/plain": [
       "    subject   Age  Normalized_Percent_Cognitive_Improvement  \\\n",
       "46        1  57.0                                 -2.609929   \n",
       "47        2  50.0                                  0.992806   \n",
       "48        3  62.0                                 -0.638889   \n",
       "49        4  50.0                                 -0.985714   \n",
       "50        6  60.0                                 -0.323944   \n",
       "51        7  73.0                                 -0.326241   \n",
       "52        9  64.0                                 -0.985714   \n",
       "53       11  62.0                                 -0.319444   \n",
       "54       12  54.0                                  0.000000   \n",
       "55       14  49.0                                  0.321678   \n",
       "56       15  46.0                                 -3.513889   \n",
       "57       17  52.0                                  0.000000   \n",
       "58       18  46.0                                  0.330935   \n",
       "59       19  64.0                                 -0.638889   \n",
       "60       21  58.0                                 -4.535211   \n",
       "61       22  57.0                                  0.000000   \n",
       "62       23  68.0                                 -0.652482   \n",
       "64       26  79.0                                  0.000000   \n",
       "65       27  61.0                                 -0.638889   \n",
       "66       28  56.0                                  1.000000   \n",
       "67       29  47.0                                  0.000000   \n",
       "68       30  58.0                                 -0.638889   \n",
       "69       31  64.0                                  0.666667   \n",
       "70       33  60.0                                 -0.643357   \n",
       "72       36  52.0                                 -1.286713   \n",
       "73       37  64.0                                 -0.992806   \n",
       "\n",
       "    Z_Scored_Percent_Cognitive_Improvement  Percent_Cognitive_Improvement  \\\n",
       "46                               -1.372562                      -5.673759   \n",
       "47                                1.331414                       2.158273   \n",
       "48                                0.106772                      -1.388889   \n",
       "49                               -0.153533                      -2.142857   \n",
       "50                                0.343149                      -0.704225   \n",
       "51                                0.341424                      -0.709220   \n",
       "52                               -0.153533                      -2.142857   \n",
       "53                                0.346526                      -0.694444   \n",
       "54                                0.586280                       0.000000   \n",
       "55                                0.827710                       0.699301   \n",
       "56                               -2.051014                      -7.638889   \n",
       "57                                0.586280                       0.000000   \n",
       "58                                0.834658                       0.719424   \n",
       "59                                0.106772                      -1.388889   \n",
       "60                               -2.817552                      -9.859155   \n",
       "61                                0.586280                       0.000000   \n",
       "62                                0.096569                      -1.418440   \n",
       "64                                0.586280                       0.000000   \n",
       "65                                0.106772                      -1.388889   \n",
       "66                                1.336814                       2.173913   \n",
       "67                                0.586280                       0.000000   \n",
       "68                                0.106772                      -1.388889   \n",
       "69                                1.086636                       1.449275   \n",
       "70                                0.103418                      -1.398601   \n",
       "72                               -0.379443                      -2.797203   \n",
       "73                               -0.158855                      -2.158273   \n",
       "\n",
       "    Z_Scored_Subiculum_Connectivity  Subiculum_Connectivity  \\\n",
       "46                         1.080695               30.376565   \n",
       "47                        -0.930548               16.295870   \n",
       "48                         1.155469               30.900051   \n",
       "49                        -0.228971               21.207602   \n",
       "50                         0.109572               23.577739   \n",
       "51                         1.977842               36.657479   \n",
       "52                        -0.407778               19.955774   \n",
       "53                        -1.093332               15.156220   \n",
       "54                         0.788134               28.328345   \n",
       "55                        -0.455880               19.619016   \n",
       "56                         2.357590               39.316089   \n",
       "57                         1.029012               30.014730   \n",
       "58                        -1.003966               15.781874   \n",
       "59                         0.045394               23.128431   \n",
       "60                         0.457907               26.016428   \n",
       "61                        -0.408153               19.953155   \n",
       "62                        -1.041401               15.519790   \n",
       "64                         0.236757               24.468157   \n",
       "65                        -0.572833               18.800226   \n",
       "66                         1.355046               32.297293   \n",
       "67                         0.886242               29.015201   \n",
       "68                        -0.590767               18.674670   \n",
       "69                        -1.065220               15.353030   \n",
       "70                        -1.108473               15.050219   \n",
       "72                        -0.775406               17.382020   \n",
       "73                        -0.690244               17.978233   \n",
       "\n",
       "    Amnesia_Lesion_T_Map  Memory_Network_T  Z_Scored_Memory_Network_R  ...  \\\n",
       "46             -0.113151          0.273890                   1.300775  ...   \n",
       "47             -0.502484         -0.154892                  -0.834092  ...   \n",
       "48             -0.398033          0.030553                   0.548198  ...   \n",
       "49             -0.426115         -0.043983                  -0.295586  ...   \n",
       "50             -0.454075         -0.053915                  -0.084635  ...   \n",
       "51             -0.177886          0.269167                   1.688136  ...   \n",
       "52             -0.494405         -0.132818                  -0.631960  ...   \n",
       "53             -0.507962         -0.165672                  -1.049905  ...   \n",
       "54             -0.220427          0.210477                   1.138770  ...   \n",
       "55             -0.440579         -0.072634                  -0.467260  ...   \n",
       "56              0.047449          0.458081                   2.442475  ...   \n",
       "57             -0.372396          0.061999                   0.669495  ...   \n",
       "58             -0.313833          0.034196                  -0.232757  ...   \n",
       "59             -0.345869          0.060492                   0.304244  ...   \n",
       "60             -0.049282          0.333571                   1.406385  ...   \n",
       "61             -0.496973         -0.112231                  -0.465832  ...   \n",
       "62             -0.520786         -0.168692                  -0.899768  ...   \n",
       "64             -0.276809          0.133903                   0.598361  ...   \n",
       "65             -0.489221         -0.112289                  -0.521911  ...   \n",
       "66             -0.413800          0.018065                   0.571102  ...   \n",
       "67             -0.358253          0.072830                   0.671285  ...   \n",
       "68             -0.553686         -0.190240                  -0.867750  ...   \n",
       "69             -0.505577         -0.179074                  -1.118322  ...   \n",
       "70             -0.659502         -0.363412                  -1.750573  ...   \n",
       "72             -0.527690         -0.175144                  -0.958781  ...   \n",
       "73             -0.243491          0.103399                   0.137889  ...   \n",
       "\n",
       "    Subiculum_Group_By_Inflection  Cognitive_Baseline  \\\n",
       "46                           High               141.0   \n",
       "47                            Low               139.0   \n",
       "48                           High               144.0   \n",
       "49                            Low               140.0   \n",
       "50                           High               142.0   \n",
       "51                           High               141.0   \n",
       "52                            Low               140.0   \n",
       "53                            Low               144.0   \n",
       "54                           High               136.0   \n",
       "55                            Low               143.0   \n",
       "56                           High               144.0   \n",
       "57                           High               144.0   \n",
       "58                            Low               139.0   \n",
       "59                            Low               144.0   \n",
       "60                           High               142.0   \n",
       "61                            Low               143.0   \n",
       "62                            Low               141.0   \n",
       "64                           High               140.0   \n",
       "65                            Low               144.0   \n",
       "66                           High               138.0   \n",
       "67                           High               141.0   \n",
       "68                            Low               144.0   \n",
       "69                            Low               138.0   \n",
       "70                            Low               143.0   \n",
       "72                            Low               143.0   \n",
       "73                            Low               139.0   \n",
       "\n",
       "    Z_Scored_Cognitive_Baseline  \\\n",
       "46                    -0.115295   \n",
       "47                    -0.935174   \n",
       "48                     1.114522   \n",
       "49                    -0.525235   \n",
       "50                     0.294644   \n",
       "51                    -0.115295   \n",
       "52                    -0.525235   \n",
       "53                     1.114522   \n",
       "54                    -2.164991   \n",
       "55                     0.704583   \n",
       "56                     1.114522   \n",
       "57                     1.114522   \n",
       "58                    -0.935174   \n",
       "59                     1.114522   \n",
       "60                     0.294644   \n",
       "61                     0.704583   \n",
       "62                    -0.115295   \n",
       "64                    -0.525235   \n",
       "65                     1.114522   \n",
       "66                    -1.345113   \n",
       "67                    -0.115295   \n",
       "68                     1.114522   \n",
       "69                    -1.345113   \n",
       "70                     0.704583   \n",
       "72                     0.704583   \n",
       "73                    -0.935174   \n",
       "\n",
       "    Z_Scored_Cognitive_Baseline__Lower_is_Better_  \\\n",
       "46                                      -0.115295   \n",
       "47                                      -0.935174   \n",
       "48                                       1.114522   \n",
       "49                                      -0.525235   \n",
       "50                                       0.294644   \n",
       "51                                      -0.115295   \n",
       "52                                      -0.525235   \n",
       "53                                       1.114522   \n",
       "54                                      -2.164991   \n",
       "55                                       0.704583   \n",
       "56                                       1.114522   \n",
       "57                                       1.114522   \n",
       "58                                      -0.935174   \n",
       "59                                       1.114522   \n",
       "60                                       0.294644   \n",
       "61                                       0.704583   \n",
       "62                                      -0.115295   \n",
       "64                                      -0.525235   \n",
       "65                                       1.114522   \n",
       "66                                      -1.345113   \n",
       "67                                      -0.115295   \n",
       "68                                       1.114522   \n",
       "69                                      -1.345113   \n",
       "70                                       0.704583   \n",
       "72                                       0.704583   \n",
       "73                                      -0.935174   \n",
       "\n",
       "    Min_Max_Normalized_Baseline  MinMaxNormBaseline_Higher_is_Better  \\\n",
       "46                        0.625                                0.625   \n",
       "47                        0.375                                0.375   \n",
       "48                        1.000                                1.000   \n",
       "49                        0.500                                0.500   \n",
       "50                        0.750                                0.750   \n",
       "51                        0.625                                0.625   \n",
       "52                        0.500                                0.500   \n",
       "53                        1.000                                1.000   \n",
       "54                        0.000                                0.000   \n",
       "55                        0.875                                0.875   \n",
       "56                        1.000                                1.000   \n",
       "57                        1.000                                1.000   \n",
       "58                        0.375                                0.375   \n",
       "59                        1.000                                1.000   \n",
       "60                        0.750                                0.750   \n",
       "61                        0.875                                0.875   \n",
       "62                        0.625                                0.625   \n",
       "64                        0.500                                0.500   \n",
       "65                        1.000                                1.000   \n",
       "66                        0.250                                0.250   \n",
       "67                        0.625                                0.625   \n",
       "68                        1.000                                1.000   \n",
       "69                        0.250                                0.250   \n",
       "70                        0.875                                0.875   \n",
       "72                        0.875                                0.875   \n",
       "73                        0.375                                0.375   \n",
       "\n",
       "    ROI_to_Alz_Max  ROI_to_PD_Max  Standardzied_AD_Max  Standardized_PD_Max  \n",
       "46       22.020300      20.467840             1.056258             0.508516  \n",
       "47       11.487188       4.942970            -0.759238            -1.629565  \n",
       "48       23.013479      22.145924             1.227443             0.739621  \n",
       "49       12.198485      18.933435            -0.636638             0.297198  \n",
       "50       17.634088      18.128314             0.300247             0.186317  \n",
       "51       24.162033      27.503198             1.425409             1.477423  \n",
       "52       10.782803      14.964053            -0.880646            -0.249464  \n",
       "53        9.653427      12.002916            -1.075306            -0.657271  \n",
       "54       21.521001      21.243697             0.970198             0.615367  \n",
       "55       10.881447      15.224677            -0.863644            -0.213571  \n",
       "56       23.430082      33.143996             1.299249             2.254272  \n",
       "57       23.655083      22.108570             1.338030             0.734477  \n",
       "58       10.294062       7.983811            -0.964886            -1.210781  \n",
       "59       18.597962      19.229600             0.466381             0.337986  \n",
       "60       19.765137      23.255821             0.667556             0.892476  \n",
       "61       16.167584      17.567719             0.047479             0.109112  \n",
       "62       10.938624       5.561032            -0.853789            -1.544445  \n",
       "64       18.644419      23.314943             0.474388             0.900618  \n",
       "65       14.809775      13.473033            -0.186554            -0.454807  \n",
       "66       24.395433      24.956701             1.465638             1.126720  \n",
       "67       21.855067      25.033790             1.027778             1.137337  \n",
       "68       13.873339      15.685024            -0.347959            -0.150172  \n",
       "69       10.930371      11.599140            -0.855211            -0.712879  \n",
       "70        6.780175       8.774895            -1.570542            -1.101833  \n",
       "72        9.841726      16.308768            -1.042851            -0.064270  \n",
       "73       11.101963      10.543942            -0.825635            -0.858200  \n",
       "\n",
       "[26 rows x 40 columns]"
      ]
     },
     "metadata": {},
     "output_type": "display_data"
    }
   ],
   "source": [
    "data_df, other_df = cal_palm.drop_rows_based_on_value(column, condition, value)\n",
    "display(data_df)"
   ]
  },
  {
   "cell_type": "markdown",
   "metadata": {},
   "source": [
    "**Standardize Data**\n",
    "- Enter Columns you Don't want to standardize into a list"
   ]
  },
  {
   "cell_type": "code",
   "execution_count": 78,
   "metadata": {},
   "outputs": [],
   "source": [
    "# Remove anything you don't want to standardize\n",
    "cols_not_to_standardize = ['Age']"
   ]
  },
  {
   "cell_type": "code",
   "execution_count": 79,
   "metadata": {},
   "outputs": [
    {
     "name": "stdout",
     "output_type": "stream",
     "text": [
      "Unable to standardize column Disease: Could not convert ParkinsonParkinsonParkinsonParkinsonParkinsonParkinsonParkinsonParkinsonParkinsonParkinsonParkinsonParkinsonParkinsonParkinsonParkinsonParkinson to numeric\n",
      "Unable to standardize column City: Could not convert BostonBostonBostonBostonBostonBostonBostonBostonBostonBostonBostonBostonBostonBostonBostonBoston to numeric\n",
      "Unable to standardize column Age_Group: Could not convert youngyoungyoungoldyoungoldyoungyoungyoungyoungyoungyoungyoungyoungyoungyoung to numeric\n",
      "Unable to standardize column Age_And_Disease: Could not convert Parkinson_youngParkinson_youngParkinson_youngParkinson_oldParkinson_youngParkinson_oldParkinson_youngParkinson_youngParkinson_youngParkinson_youngParkinson_youngParkinson_youngParkinson_youngParkinson_youngParkinson_youngParkinson_young to numeric\n",
      "Unable to standardize column Subiculum_Group: Could not convert highhighlowlowlowlowhighhighlowlowhighlowhighhighlowhigh to numeric\n",
      "Unable to standardize column Age_Disease_and_Cohort: Could not convert Parkinson_young_BostonParkinson_young_BostonParkinson_young_BostonParkinson_old_BostonParkinson_young_BostonParkinson_old_BostonParkinson_young_BostonParkinson_young_BostonParkinson_young_BostonParkinson_young_BostonParkinson_young_BostonParkinson_young_BostonParkinson_young_BostonParkinson_young_BostonParkinson_young_BostonParkinson_young_Boston to numeric\n",
      "Unable to standardize column Subiculum_Group_By_Inflection: Could not convert HighHighLowLowLowLowHighHighLowLowHighLowHighHighLowHigh to numeric\n"
     ]
    },
    {
     "data": {
      "text/html": [
       "<div>\n",
       "<style scoped>\n",
       "    .dataframe tbody tr th:only-of-type {\n",
       "        vertical-align: middle;\n",
       "    }\n",
       "\n",
       "    .dataframe tbody tr th {\n",
       "        vertical-align: top;\n",
       "    }\n",
       "\n",
       "    .dataframe thead th {\n",
       "        text-align: right;\n",
       "    }\n",
       "</style>\n",
       "<table border=\"1\" class=\"dataframe\">\n",
       "  <thead>\n",
       "    <tr style=\"text-align: right;\">\n",
       "      <th></th>\n",
       "      <th>subject</th>\n",
       "      <th>Age</th>\n",
       "      <th>Normalized_Percent_Cognitive_Improvement</th>\n",
       "      <th>Z_Scored_Percent_Cognitive_Improvement</th>\n",
       "      <th>Percent_Cognitive_Improvement</th>\n",
       "      <th>Z_Scored_Subiculum_Connectivity</th>\n",
       "      <th>Subiculum_Connectivity</th>\n",
       "      <th>Amnesia_Lesion_T_Map</th>\n",
       "      <th>Memory_Network_T</th>\n",
       "      <th>Z_Scored_Memory_Network_R</th>\n",
       "      <th>...</th>\n",
       "      <th>Subiculum_Group_By_Inflection</th>\n",
       "      <th>Cognitive_Baseline</th>\n",
       "      <th>Z_Scored_Cognitive_Baseline</th>\n",
       "      <th>Z_Scored_Cognitive_Baseline__Lower_is_Better_</th>\n",
       "      <th>Min_Max_Normalized_Baseline</th>\n",
       "      <th>MinMaxNormBaseline_Higher_is_Better</th>\n",
       "      <th>ROI_to_Alz_Max</th>\n",
       "      <th>ROI_to_PD_Max</th>\n",
       "      <th>Standardzied_AD_Max</th>\n",
       "      <th>Standardized_PD_Max</th>\n",
       "    </tr>\n",
       "  </thead>\n",
       "  <tbody>\n",
       "    <tr>\n",
       "      <th>80</th>\n",
       "      <td>-1.652802</td>\n",
       "      <td>65.0</td>\n",
       "      <td>-0.855337</td>\n",
       "      <td>0.855337</td>\n",
       "      <td>0.447214</td>\n",
       "      <td>0.111202</td>\n",
       "      <td>-1.920852</td>\n",
       "      <td>NaN</td>\n",
       "      <td>NaN</td>\n",
       "      <td>NaN</td>\n",
       "      <td>...</td>\n",
       "      <td>High</td>\n",
       "      <td>NaN</td>\n",
       "      <td>NaN</td>\n",
       "      <td>NaN</td>\n",
       "      <td>NaN</td>\n",
       "      <td>NaN</td>\n",
       "      <td>NaN</td>\n",
       "      <td>NaN</td>\n",
       "      <td>NaN</td>\n",
       "      <td>NaN</td>\n",
       "    </tr>\n",
       "    <tr>\n",
       "      <th>82</th>\n",
       "      <td>-1.353144</td>\n",
       "      <td>69.0</td>\n",
       "      <td>0.197386</td>\n",
       "      <td>-0.197386</td>\n",
       "      <td>0.447214</td>\n",
       "      <td>0.132081</td>\n",
       "      <td>0.763335</td>\n",
       "      <td>NaN</td>\n",
       "      <td>NaN</td>\n",
       "      <td>NaN</td>\n",
       "      <td>...</td>\n",
       "      <td>High</td>\n",
       "      <td>NaN</td>\n",
       "      <td>NaN</td>\n",
       "      <td>NaN</td>\n",
       "      <td>NaN</td>\n",
       "      <td>NaN</td>\n",
       "      <td>NaN</td>\n",
       "      <td>NaN</td>\n",
       "      <td>NaN</td>\n",
       "      <td>NaN</td>\n",
       "    </tr>\n",
       "    <tr>\n",
       "      <th>83</th>\n",
       "      <td>-1.278229</td>\n",
       "      <td>67.0</td>\n",
       "      <td>0.197386</td>\n",
       "      <td>-0.197386</td>\n",
       "      <td>0.447214</td>\n",
       "      <td>-0.116636</td>\n",
       "      <td>-0.494291</td>\n",
       "      <td>NaN</td>\n",
       "      <td>NaN</td>\n",
       "      <td>NaN</td>\n",
       "      <td>...</td>\n",
       "      <td>Low</td>\n",
       "      <td>NaN</td>\n",
       "      <td>NaN</td>\n",
       "      <td>NaN</td>\n",
       "      <td>NaN</td>\n",
       "      <td>NaN</td>\n",
       "      <td>NaN</td>\n",
       "      <td>NaN</td>\n",
       "      <td>NaN</td>\n",
       "      <td>NaN</td>\n",
       "    </tr>\n",
       "    <tr>\n",
       "      <th>84</th>\n",
       "      <td>-1.053486</td>\n",
       "      <td>62.0</td>\n",
       "      <td>0.197386</td>\n",
       "      <td>-0.197386</td>\n",
       "      <td>0.447214</td>\n",
       "      <td>-2.066439</td>\n",
       "      <td>1.157517</td>\n",
       "      <td>NaN</td>\n",
       "      <td>NaN</td>\n",
       "      <td>NaN</td>\n",
       "      <td>...</td>\n",
       "      <td>Low</td>\n",
       "      <td>NaN</td>\n",
       "      <td>NaN</td>\n",
       "      <td>NaN</td>\n",
       "      <td>NaN</td>\n",
       "      <td>NaN</td>\n",
       "      <td>NaN</td>\n",
       "      <td>NaN</td>\n",
       "      <td>NaN</td>\n",
       "      <td>NaN</td>\n",
       "    </tr>\n",
       "    <tr>\n",
       "      <th>85</th>\n",
       "      <td>-0.903657</td>\n",
       "      <td>68.0</td>\n",
       "      <td>-0.855337</td>\n",
       "      <td>0.855337</td>\n",
       "      <td>0.447214</td>\n",
       "      <td>-1.210762</td>\n",
       "      <td>0.143907</td>\n",
       "      <td>NaN</td>\n",
       "      <td>NaN</td>\n",
       "      <td>NaN</td>\n",
       "      <td>...</td>\n",
       "      <td>Low</td>\n",
       "      <td>NaN</td>\n",
       "      <td>NaN</td>\n",
       "      <td>NaN</td>\n",
       "      <td>NaN</td>\n",
       "      <td>NaN</td>\n",
       "      <td>NaN</td>\n",
       "      <td>NaN</td>\n",
       "      <td>NaN</td>\n",
       "      <td>NaN</td>\n",
       "    </tr>\n",
       "    <tr>\n",
       "      <th>86</th>\n",
       "      <td>-0.678913</td>\n",
       "      <td>48.0</td>\n",
       "      <td>1.250108</td>\n",
       "      <td>-1.250108</td>\n",
       "      <td>-2.236068</td>\n",
       "      <td>-0.387030</td>\n",
       "      <td>0.350383</td>\n",
       "      <td>NaN</td>\n",
       "      <td>NaN</td>\n",
       "      <td>NaN</td>\n",
       "      <td>...</td>\n",
       "      <td>Low</td>\n",
       "      <td>NaN</td>\n",
       "      <td>NaN</td>\n",
       "      <td>NaN</td>\n",
       "      <td>NaN</td>\n",
       "      <td>NaN</td>\n",
       "      <td>NaN</td>\n",
       "      <td>NaN</td>\n",
       "      <td>NaN</td>\n",
       "      <td>NaN</td>\n",
       "    </tr>\n",
       "    <tr>\n",
       "      <th>88</th>\n",
       "      <td>-0.004682</td>\n",
       "      <td>62.0</td>\n",
       "      <td>0.197386</td>\n",
       "      <td>-0.197386</td>\n",
       "      <td>NaN</td>\n",
       "      <td>0.899908</td>\n",
       "      <td>NaN</td>\n",
       "      <td>NaN</td>\n",
       "      <td>NaN</td>\n",
       "      <td>NaN</td>\n",
       "      <td>...</td>\n",
       "      <td>High</td>\n",
       "      <td>NaN</td>\n",
       "      <td>NaN</td>\n",
       "      <td>NaN</td>\n",
       "      <td>NaN</td>\n",
       "      <td>NaN</td>\n",
       "      <td>NaN</td>\n",
       "      <td>NaN</td>\n",
       "      <td>NaN</td>\n",
       "      <td>NaN</td>\n",
       "    </tr>\n",
       "    <tr>\n",
       "      <th>89</th>\n",
       "      <td>0.145147</td>\n",
       "      <td>56.0</td>\n",
       "      <td>-1.908060</td>\n",
       "      <td>1.908060</td>\n",
       "      <td>NaN</td>\n",
       "      <td>0.421870</td>\n",
       "      <td>NaN</td>\n",
       "      <td>NaN</td>\n",
       "      <td>NaN</td>\n",
       "      <td>NaN</td>\n",
       "      <td>...</td>\n",
       "      <td>High</td>\n",
       "      <td>NaN</td>\n",
       "      <td>NaN</td>\n",
       "      <td>NaN</td>\n",
       "      <td>NaN</td>\n",
       "      <td>NaN</td>\n",
       "      <td>NaN</td>\n",
       "      <td>NaN</td>\n",
       "      <td>NaN</td>\n",
       "      <td>NaN</td>\n",
       "    </tr>\n",
       "    <tr>\n",
       "      <th>90</th>\n",
       "      <td>0.220061</td>\n",
       "      <td>60.0</td>\n",
       "      <td>0.197386</td>\n",
       "      <td>-0.197386</td>\n",
       "      <td>NaN</td>\n",
       "      <td>-0.490852</td>\n",
       "      <td>NaN</td>\n",
       "      <td>NaN</td>\n",
       "      <td>NaN</td>\n",
       "      <td>NaN</td>\n",
       "      <td>...</td>\n",
       "      <td>Low</td>\n",
       "      <td>NaN</td>\n",
       "      <td>NaN</td>\n",
       "      <td>NaN</td>\n",
       "      <td>NaN</td>\n",
       "      <td>NaN</td>\n",
       "      <td>NaN</td>\n",
       "      <td>NaN</td>\n",
       "      <td>NaN</td>\n",
       "      <td>NaN</td>\n",
       "    </tr>\n",
       "    <tr>\n",
       "      <th>91</th>\n",
       "      <td>0.444805</td>\n",
       "      <td>63.0</td>\n",
       "      <td>0.197386</td>\n",
       "      <td>-0.197386</td>\n",
       "      <td>NaN</td>\n",
       "      <td>-0.137172</td>\n",
       "      <td>NaN</td>\n",
       "      <td>NaN</td>\n",
       "      <td>NaN</td>\n",
       "      <td>NaN</td>\n",
       "      <td>...</td>\n",
       "      <td>Low</td>\n",
       "      <td>NaN</td>\n",
       "      <td>NaN</td>\n",
       "      <td>NaN</td>\n",
       "      <td>NaN</td>\n",
       "      <td>NaN</td>\n",
       "      <td>NaN</td>\n",
       "      <td>NaN</td>\n",
       "      <td>NaN</td>\n",
       "      <td>NaN</td>\n",
       "    </tr>\n",
       "    <tr>\n",
       "      <th>92</th>\n",
       "      <td>0.519720</td>\n",
       "      <td>77.0</td>\n",
       "      <td>0.197386</td>\n",
       "      <td>-0.197386</td>\n",
       "      <td>NaN</td>\n",
       "      <td>1.333451</td>\n",
       "      <td>NaN</td>\n",
       "      <td>NaN</td>\n",
       "      <td>NaN</td>\n",
       "      <td>NaN</td>\n",
       "      <td>...</td>\n",
       "      <td>High</td>\n",
       "      <td>NaN</td>\n",
       "      <td>NaN</td>\n",
       "      <td>NaN</td>\n",
       "      <td>NaN</td>\n",
       "      <td>NaN</td>\n",
       "      <td>NaN</td>\n",
       "      <td>NaN</td>\n",
       "      <td>NaN</td>\n",
       "      <td>NaN</td>\n",
       "    </tr>\n",
       "    <tr>\n",
       "      <th>93</th>\n",
       "      <td>0.669549</td>\n",
       "      <td>63.0</td>\n",
       "      <td>0.197386</td>\n",
       "      <td>-0.197386</td>\n",
       "      <td>NaN</td>\n",
       "      <td>-0.656283</td>\n",
       "      <td>NaN</td>\n",
       "      <td>NaN</td>\n",
       "      <td>NaN</td>\n",
       "      <td>NaN</td>\n",
       "      <td>...</td>\n",
       "      <td>Low</td>\n",
       "      <td>NaN</td>\n",
       "      <td>NaN</td>\n",
       "      <td>NaN</td>\n",
       "      <td>NaN</td>\n",
       "      <td>NaN</td>\n",
       "      <td>NaN</td>\n",
       "      <td>NaN</td>\n",
       "      <td>NaN</td>\n",
       "      <td>NaN</td>\n",
       "    </tr>\n",
       "    <tr>\n",
       "      <th>96</th>\n",
       "      <td>0.894292</td>\n",
       "      <td>60.0</td>\n",
       "      <td>0.197386</td>\n",
       "      <td>-0.197386</td>\n",
       "      <td>NaN</td>\n",
       "      <td>0.215367</td>\n",
       "      <td>NaN</td>\n",
       "      <td>NaN</td>\n",
       "      <td>NaN</td>\n",
       "      <td>NaN</td>\n",
       "      <td>...</td>\n",
       "      <td>High</td>\n",
       "      <td>NaN</td>\n",
       "      <td>NaN</td>\n",
       "      <td>NaN</td>\n",
       "      <td>NaN</td>\n",
       "      <td>NaN</td>\n",
       "      <td>NaN</td>\n",
       "      <td>NaN</td>\n",
       "      <td>NaN</td>\n",
       "      <td>NaN</td>\n",
       "    </tr>\n",
       "    <tr>\n",
       "      <th>98</th>\n",
       "      <td>1.119036</td>\n",
       "      <td>73.0</td>\n",
       "      <td>-1.908060</td>\n",
       "      <td>1.908060</td>\n",
       "      <td>NaN</td>\n",
       "      <td>0.443547</td>\n",
       "      <td>NaN</td>\n",
       "      <td>NaN</td>\n",
       "      <td>NaN</td>\n",
       "      <td>NaN</td>\n",
       "      <td>...</td>\n",
       "      <td>High</td>\n",
       "      <td>NaN</td>\n",
       "      <td>NaN</td>\n",
       "      <td>NaN</td>\n",
       "      <td>NaN</td>\n",
       "      <td>NaN</td>\n",
       "      <td>NaN</td>\n",
       "      <td>NaN</td>\n",
       "      <td>NaN</td>\n",
       "      <td>NaN</td>\n",
       "    </tr>\n",
       "    <tr>\n",
       "      <th>99</th>\n",
       "      <td>1.193951</td>\n",
       "      <td>68.0</td>\n",
       "      <td>0.197386</td>\n",
       "      <td>-0.197386</td>\n",
       "      <td>NaN</td>\n",
       "      <td>-0.863927</td>\n",
       "      <td>NaN</td>\n",
       "      <td>NaN</td>\n",
       "      <td>NaN</td>\n",
       "      <td>NaN</td>\n",
       "      <td>...</td>\n",
       "      <td>Low</td>\n",
       "      <td>NaN</td>\n",
       "      <td>NaN</td>\n",
       "      <td>NaN</td>\n",
       "      <td>NaN</td>\n",
       "      <td>NaN</td>\n",
       "      <td>NaN</td>\n",
       "      <td>NaN</td>\n",
       "      <td>NaN</td>\n",
       "      <td>NaN</td>\n",
       "    </tr>\n",
       "    <tr>\n",
       "      <th>105</th>\n",
       "      <td>1.718352</td>\n",
       "      <td>55.0</td>\n",
       "      <td>2.302831</td>\n",
       "      <td>-2.302831</td>\n",
       "      <td>NaN</td>\n",
       "      <td>2.371673</td>\n",
       "      <td>NaN</td>\n",
       "      <td>NaN</td>\n",
       "      <td>NaN</td>\n",
       "      <td>NaN</td>\n",
       "      <td>...</td>\n",
       "      <td>High</td>\n",
       "      <td>NaN</td>\n",
       "      <td>NaN</td>\n",
       "      <td>NaN</td>\n",
       "      <td>NaN</td>\n",
       "      <td>NaN</td>\n",
       "      <td>NaN</td>\n",
       "      <td>NaN</td>\n",
       "      <td>NaN</td>\n",
       "      <td>NaN</td>\n",
       "    </tr>\n",
       "  </tbody>\n",
       "</table>\n",
       "<p>16 rows × 40 columns</p>\n",
       "</div>"
      ],
      "text/plain": [
       "      subject   Age  Normalized_Percent_Cognitive_Improvement  \\\n",
       "80  -1.652802  65.0                                 -0.855337   \n",
       "82  -1.353144  69.0                                  0.197386   \n",
       "83  -1.278229  67.0                                  0.197386   \n",
       "84  -1.053486  62.0                                  0.197386   \n",
       "85  -0.903657  68.0                                 -0.855337   \n",
       "86  -0.678913  48.0                                  1.250108   \n",
       "88  -0.004682  62.0                                  0.197386   \n",
       "89   0.145147  56.0                                 -1.908060   \n",
       "90   0.220061  60.0                                  0.197386   \n",
       "91   0.444805  63.0                                  0.197386   \n",
       "92   0.519720  77.0                                  0.197386   \n",
       "93   0.669549  63.0                                  0.197386   \n",
       "96   0.894292  60.0                                  0.197386   \n",
       "98   1.119036  73.0                                 -1.908060   \n",
       "99   1.193951  68.0                                  0.197386   \n",
       "105  1.718352  55.0                                  2.302831   \n",
       "\n",
       "     Z_Scored_Percent_Cognitive_Improvement  Percent_Cognitive_Improvement  \\\n",
       "80                                 0.855337                       0.447214   \n",
       "82                                -0.197386                       0.447214   \n",
       "83                                -0.197386                       0.447214   \n",
       "84                                -0.197386                       0.447214   \n",
       "85                                 0.855337                       0.447214   \n",
       "86                                -1.250108                      -2.236068   \n",
       "88                                -0.197386                            NaN   \n",
       "89                                 1.908060                            NaN   \n",
       "90                                -0.197386                            NaN   \n",
       "91                                -0.197386                            NaN   \n",
       "92                                -0.197386                            NaN   \n",
       "93                                -0.197386                            NaN   \n",
       "96                                -0.197386                            NaN   \n",
       "98                                 1.908060                            NaN   \n",
       "99                                -0.197386                            NaN   \n",
       "105                               -2.302831                            NaN   \n",
       "\n",
       "     Z_Scored_Subiculum_Connectivity  Subiculum_Connectivity  \\\n",
       "80                          0.111202               -1.920852   \n",
       "82                          0.132081                0.763335   \n",
       "83                         -0.116636               -0.494291   \n",
       "84                         -2.066439                1.157517   \n",
       "85                         -1.210762                0.143907   \n",
       "86                         -0.387030                0.350383   \n",
       "88                          0.899908                     NaN   \n",
       "89                          0.421870                     NaN   \n",
       "90                         -0.490852                     NaN   \n",
       "91                         -0.137172                     NaN   \n",
       "92                          1.333451                     NaN   \n",
       "93                         -0.656283                     NaN   \n",
       "96                          0.215367                     NaN   \n",
       "98                          0.443547                     NaN   \n",
       "99                         -0.863927                     NaN   \n",
       "105                         2.371673                     NaN   \n",
       "\n",
       "     Amnesia_Lesion_T_Map  Memory_Network_T  Z_Scored_Memory_Network_R  ...  \\\n",
       "80                    NaN               NaN                        NaN  ...   \n",
       "82                    NaN               NaN                        NaN  ...   \n",
       "83                    NaN               NaN                        NaN  ...   \n",
       "84                    NaN               NaN                        NaN  ...   \n",
       "85                    NaN               NaN                        NaN  ...   \n",
       "86                    NaN               NaN                        NaN  ...   \n",
       "88                    NaN               NaN                        NaN  ...   \n",
       "89                    NaN               NaN                        NaN  ...   \n",
       "90                    NaN               NaN                        NaN  ...   \n",
       "91                    NaN               NaN                        NaN  ...   \n",
       "92                    NaN               NaN                        NaN  ...   \n",
       "93                    NaN               NaN                        NaN  ...   \n",
       "96                    NaN               NaN                        NaN  ...   \n",
       "98                    NaN               NaN                        NaN  ...   \n",
       "99                    NaN               NaN                        NaN  ...   \n",
       "105                   NaN               NaN                        NaN  ...   \n",
       "\n",
       "     Subiculum_Group_By_Inflection  Cognitive_Baseline  \\\n",
       "80                            High                 NaN   \n",
       "82                            High                 NaN   \n",
       "83                             Low                 NaN   \n",
       "84                             Low                 NaN   \n",
       "85                             Low                 NaN   \n",
       "86                             Low                 NaN   \n",
       "88                            High                 NaN   \n",
       "89                            High                 NaN   \n",
       "90                             Low                 NaN   \n",
       "91                             Low                 NaN   \n",
       "92                            High                 NaN   \n",
       "93                             Low                 NaN   \n",
       "96                            High                 NaN   \n",
       "98                            High                 NaN   \n",
       "99                             Low                 NaN   \n",
       "105                           High                 NaN   \n",
       "\n",
       "     Z_Scored_Cognitive_Baseline  \\\n",
       "80                           NaN   \n",
       "82                           NaN   \n",
       "83                           NaN   \n",
       "84                           NaN   \n",
       "85                           NaN   \n",
       "86                           NaN   \n",
       "88                           NaN   \n",
       "89                           NaN   \n",
       "90                           NaN   \n",
       "91                           NaN   \n",
       "92                           NaN   \n",
       "93                           NaN   \n",
       "96                           NaN   \n",
       "98                           NaN   \n",
       "99                           NaN   \n",
       "105                          NaN   \n",
       "\n",
       "     Z_Scored_Cognitive_Baseline__Lower_is_Better_  \\\n",
       "80                                             NaN   \n",
       "82                                             NaN   \n",
       "83                                             NaN   \n",
       "84                                             NaN   \n",
       "85                                             NaN   \n",
       "86                                             NaN   \n",
       "88                                             NaN   \n",
       "89                                             NaN   \n",
       "90                                             NaN   \n",
       "91                                             NaN   \n",
       "92                                             NaN   \n",
       "93                                             NaN   \n",
       "96                                             NaN   \n",
       "98                                             NaN   \n",
       "99                                             NaN   \n",
       "105                                            NaN   \n",
       "\n",
       "     Min_Max_Normalized_Baseline  MinMaxNormBaseline_Higher_is_Better  \\\n",
       "80                           NaN                                  NaN   \n",
       "82                           NaN                                  NaN   \n",
       "83                           NaN                                  NaN   \n",
       "84                           NaN                                  NaN   \n",
       "85                           NaN                                  NaN   \n",
       "86                           NaN                                  NaN   \n",
       "88                           NaN                                  NaN   \n",
       "89                           NaN                                  NaN   \n",
       "90                           NaN                                  NaN   \n",
       "91                           NaN                                  NaN   \n",
       "92                           NaN                                  NaN   \n",
       "93                           NaN                                  NaN   \n",
       "96                           NaN                                  NaN   \n",
       "98                           NaN                                  NaN   \n",
       "99                           NaN                                  NaN   \n",
       "105                          NaN                                  NaN   \n",
       "\n",
       "     ROI_to_Alz_Max  ROI_to_PD_Max  Standardzied_AD_Max  Standardized_PD_Max  \n",
       "80              NaN            NaN                  NaN                  NaN  \n",
       "82              NaN            NaN                  NaN                  NaN  \n",
       "83              NaN            NaN                  NaN                  NaN  \n",
       "84              NaN            NaN                  NaN                  NaN  \n",
       "85              NaN            NaN                  NaN                  NaN  \n",
       "86              NaN            NaN                  NaN                  NaN  \n",
       "88              NaN            NaN                  NaN                  NaN  \n",
       "89              NaN            NaN                  NaN                  NaN  \n",
       "90              NaN            NaN                  NaN                  NaN  \n",
       "91              NaN            NaN                  NaN                  NaN  \n",
       "92              NaN            NaN                  NaN                  NaN  \n",
       "93              NaN            NaN                  NaN                  NaN  \n",
       "96              NaN            NaN                  NaN                  NaN  \n",
       "98              NaN            NaN                  NaN                  NaN  \n",
       "99              NaN            NaN                  NaN                  NaN  \n",
       "105             NaN            NaN                  NaN                  NaN  \n",
       "\n",
       "[16 rows x 40 columns]"
      ]
     },
     "execution_count": 79,
     "metadata": {},
     "output_type": "execute_result"
    }
   ],
   "source": [
    "data_df = cal_palm.standardize_columns(cols_not_to_standardize)\n",
    "data_df"
   ]
  },
  {
   "cell_type": "markdown",
   "metadata": {},
   "source": [
    "# 1.5 - Descriptive Stats"
   ]
  },
  {
   "cell_type": "code",
   "execution_count": 23,
   "metadata": {},
   "outputs": [
    {
     "data": {
      "text/html": [
       "<div>\n",
       "<style scoped>\n",
       "    .dataframe tbody tr th:only-of-type {\n",
       "        vertical-align: middle;\n",
       "    }\n",
       "\n",
       "    .dataframe tbody tr th {\n",
       "        vertical-align: top;\n",
       "    }\n",
       "\n",
       "    .dataframe thead th {\n",
       "        text-align: right;\n",
       "    }\n",
       "</style>\n",
       "<table border=\"1\" class=\"dataframe\">\n",
       "  <thead>\n",
       "    <tr style=\"text-align: right;\">\n",
       "      <th></th>\n",
       "      <th>CerebellumSBM</th>\n",
       "      <th>CerebellumCSF</th>\n",
       "      <th>CerebellumGM</th>\n",
       "      <th>cerebellumVisualCH</th>\n",
       "      <th>CerebellumWM</th>\n",
       "      <th>FrontalSurface</th>\n",
       "      <th>FrontalCSF</th>\n",
       "      <th>FrontalGM</th>\n",
       "      <th>frontalVisualCH</th>\n",
       "      <th>FrontalWM</th>\n",
       "      <th>...</th>\n",
       "      <th>ventricleVisualCH</th>\n",
       "      <th>SubcortexSurface</th>\n",
       "      <th>SubcortexSurfaceVentricle</th>\n",
       "      <th>SubcortexCSF</th>\n",
       "      <th>SubcortexGM</th>\n",
       "      <th>SubcortexWM</th>\n",
       "      <th>WholeBrainSurface</th>\n",
       "      <th>WholeBrainCSF</th>\n",
       "      <th>WholeBrainGM</th>\n",
       "      <th>WholeBrainWM</th>\n",
       "    </tr>\n",
       "  </thead>\n",
       "  <tbody>\n",
       "    <tr>\n",
       "      <th>count</th>\n",
       "      <td>50.0</td>\n",
       "      <td>50.000000</td>\n",
       "      <td>50.000000</td>\n",
       "      <td>50.000000</td>\n",
       "      <td>50.000000</td>\n",
       "      <td>50.000000</td>\n",
       "      <td>50.000000</td>\n",
       "      <td>50.000000</td>\n",
       "      <td>50.000000</td>\n",
       "      <td>50.000000</td>\n",
       "      <td>...</td>\n",
       "      <td>50.000000</td>\n",
       "      <td>50.000000</td>\n",
       "      <td>50.0</td>\n",
       "      <td>50.000000</td>\n",
       "      <td>50.000000</td>\n",
       "      <td>50.000000</td>\n",
       "      <td>50.000000</td>\n",
       "      <td>50.000000</td>\n",
       "      <td>50.000000</td>\n",
       "      <td>50.000000</td>\n",
       "    </tr>\n",
       "    <tr>\n",
       "      <th>mean</th>\n",
       "      <td>0.0</td>\n",
       "      <td>1655.380325</td>\n",
       "      <td>107.655349</td>\n",
       "      <td>0.840000</td>\n",
       "      <td>1319.384195</td>\n",
       "      <td>-101.687390</td>\n",
       "      <td>4092.633869</td>\n",
       "      <td>204.160705</td>\n",
       "      <td>0.960000</td>\n",
       "      <td>6638.569071</td>\n",
       "      <td>...</td>\n",
       "      <td>1.020000</td>\n",
       "      <td>-72.832824</td>\n",
       "      <td>0.0</td>\n",
       "      <td>3866.310139</td>\n",
       "      <td>2064.861824</td>\n",
       "      <td>9399.078340</td>\n",
       "      <td>-286.056129</td>\n",
       "      <td>17397.190874</td>\n",
       "      <td>-1493.252885</td>\n",
       "      <td>23383.426351</td>\n",
       "    </tr>\n",
       "    <tr>\n",
       "      <th>std</th>\n",
       "      <td>0.0</td>\n",
       "      <td>5450.653538</td>\n",
       "      <td>10766.002755</td>\n",
       "      <td>0.650275</td>\n",
       "      <td>7286.948773</td>\n",
       "      <td>83.629327</td>\n",
       "      <td>11012.419753</td>\n",
       "      <td>16114.802722</td>\n",
       "      <td>0.698687</td>\n",
       "      <td>10962.588735</td>\n",
       "      <td>...</td>\n",
       "      <td>0.868731</td>\n",
       "      <td>55.325194</td>\n",
       "      <td>0.0</td>\n",
       "      <td>9437.736232</td>\n",
       "      <td>7646.536695</td>\n",
       "      <td>41518.325357</td>\n",
       "      <td>210.836863</td>\n",
       "      <td>39388.865098</td>\n",
       "      <td>55196.413423</td>\n",
       "      <td>66633.241191</td>\n",
       "    </tr>\n",
       "    <tr>\n",
       "      <th>min</th>\n",
       "      <td>0.0</td>\n",
       "      <td>-8765.419115</td>\n",
       "      <td>-26412.015930</td>\n",
       "      <td>0.000000</td>\n",
       "      <td>-14307.885460</td>\n",
       "      <td>-335.655284</td>\n",
       "      <td>-16935.218110</td>\n",
       "      <td>-40740.635520</td>\n",
       "      <td>0.000000</td>\n",
       "      <td>-16728.096790</td>\n",
       "      <td>...</td>\n",
       "      <td>0.000000</td>\n",
       "      <td>-211.028300</td>\n",
       "      <td>0.0</td>\n",
       "      <td>-4797.764963</td>\n",
       "      <td>-15512.725440</td>\n",
       "      <td>-72230.144580</td>\n",
       "      <td>-740.706545</td>\n",
       "      <td>-50519.732690</td>\n",
       "      <td>-143202.894800</td>\n",
       "      <td>-109992.038300</td>\n",
       "    </tr>\n",
       "    <tr>\n",
       "      <th>25%</th>\n",
       "      <td>0.0</td>\n",
       "      <td>-2311.770645</td>\n",
       "      <td>-4505.828557</td>\n",
       "      <td>0.000000</td>\n",
       "      <td>-3224.098053</td>\n",
       "      <td>-119.289151</td>\n",
       "      <td>-4607.428430</td>\n",
       "      <td>-10001.926703</td>\n",
       "      <td>0.250000</td>\n",
       "      <td>-32.853210</td>\n",
       "      <td>...</td>\n",
       "      <td>0.000000</td>\n",
       "      <td>-123.482326</td>\n",
       "      <td>0.0</td>\n",
       "      <td>-1120.418129</td>\n",
       "      <td>-1786.015749</td>\n",
       "      <td>-27185.931928</td>\n",
       "      <td>-383.927404</td>\n",
       "      <td>-11205.534057</td>\n",
       "      <td>-32150.369580</td>\n",
       "      <td>-23858.689988</td>\n",
       "    </tr>\n",
       "    <tr>\n",
       "      <th>50%</th>\n",
       "      <td>0.0</td>\n",
       "      <td>881.012102</td>\n",
       "      <td>-1286.185966</td>\n",
       "      <td>1.000000</td>\n",
       "      <td>1049.373776</td>\n",
       "      <td>-80.562716</td>\n",
       "      <td>3737.062386</td>\n",
       "      <td>1246.144081</td>\n",
       "      <td>1.000000</td>\n",
       "      <td>5230.567472</td>\n",
       "      <td>...</td>\n",
       "      <td>1.000000</td>\n",
       "      <td>-55.701697</td>\n",
       "      <td>0.0</td>\n",
       "      <td>201.688561</td>\n",
       "      <td>1651.106867</td>\n",
       "      <td>12531.413275</td>\n",
       "      <td>-234.914356</td>\n",
       "      <td>12361.866855</td>\n",
       "      <td>848.580664</td>\n",
       "      <td>29370.577105</td>\n",
       "    </tr>\n",
       "    <tr>\n",
       "      <th>75%</th>\n",
       "      <td>0.0</td>\n",
       "      <td>5010.196432</td>\n",
       "      <td>5020.997462</td>\n",
       "      <td>1.000000</td>\n",
       "      <td>4792.182967</td>\n",
       "      <td>-35.798727</td>\n",
       "      <td>11682.016182</td>\n",
       "      <td>8393.297360</td>\n",
       "      <td>1.000000</td>\n",
       "      <td>14892.589045</td>\n",
       "      <td>...</td>\n",
       "      <td>2.000000</td>\n",
       "      <td>-27.728269</td>\n",
       "      <td>0.0</td>\n",
       "      <td>6312.230860</td>\n",
       "      <td>5095.023978</td>\n",
       "      <td>37439.187950</td>\n",
       "      <td>-108.553234</td>\n",
       "      <td>46595.119550</td>\n",
       "      <td>29087.186380</td>\n",
       "      <td>66299.998122</td>\n",
       "    </tr>\n",
       "    <tr>\n",
       "      <th>max</th>\n",
       "      <td>0.0</td>\n",
       "      <td>21528.922020</td>\n",
       "      <td>25114.113290</td>\n",
       "      <td>2.000000</td>\n",
       "      <td>21345.037160</td>\n",
       "      <td>-18.170561</td>\n",
       "      <td>32409.225480</td>\n",
       "      <td>36997.985770</td>\n",
       "      <td>2.000000</td>\n",
       "      <td>27764.291620</td>\n",
       "      <td>...</td>\n",
       "      <td>3.000000</td>\n",
       "      <td>-7.110089</td>\n",
       "      <td>0.0</td>\n",
       "      <td>53880.811260</td>\n",
       "      <td>23793.286440</td>\n",
       "      <td>89324.463280</td>\n",
       "      <td>-42.407528</td>\n",
       "      <td>121852.711500</td>\n",
       "      <td>112180.981200</td>\n",
       "      <td>155590.197100</td>\n",
       "    </tr>\n",
       "  </tbody>\n",
       "</table>\n",
       "<p>8 rows × 45 columns</p>\n",
       "</div>"
      ],
      "text/plain": [
       "       CerebellumSBM  CerebellumCSF  CerebellumGM  cerebellumVisualCH  \\\n",
       "count           50.0      50.000000     50.000000           50.000000   \n",
       "mean             0.0    1655.380325    107.655349            0.840000   \n",
       "std              0.0    5450.653538  10766.002755            0.650275   \n",
       "min              0.0   -8765.419115 -26412.015930            0.000000   \n",
       "25%              0.0   -2311.770645  -4505.828557            0.000000   \n",
       "50%              0.0     881.012102  -1286.185966            1.000000   \n",
       "75%              0.0    5010.196432   5020.997462            1.000000   \n",
       "max              0.0   21528.922020  25114.113290            2.000000   \n",
       "\n",
       "       CerebellumWM  FrontalSurface    FrontalCSF     FrontalGM  \\\n",
       "count     50.000000       50.000000     50.000000     50.000000   \n",
       "mean    1319.384195     -101.687390   4092.633869    204.160705   \n",
       "std     7286.948773       83.629327  11012.419753  16114.802722   \n",
       "min   -14307.885460     -335.655284 -16935.218110 -40740.635520   \n",
       "25%    -3224.098053     -119.289151  -4607.428430 -10001.926703   \n",
       "50%     1049.373776      -80.562716   3737.062386   1246.144081   \n",
       "75%     4792.182967      -35.798727  11682.016182   8393.297360   \n",
       "max    21345.037160      -18.170561  32409.225480  36997.985770   \n",
       "\n",
       "       frontalVisualCH     FrontalWM  ...  ventricleVisualCH  \\\n",
       "count        50.000000     50.000000  ...          50.000000   \n",
       "mean          0.960000   6638.569071  ...           1.020000   \n",
       "std           0.698687  10962.588735  ...           0.868731   \n",
       "min           0.000000 -16728.096790  ...           0.000000   \n",
       "25%           0.250000    -32.853210  ...           0.000000   \n",
       "50%           1.000000   5230.567472  ...           1.000000   \n",
       "75%           1.000000  14892.589045  ...           2.000000   \n",
       "max           2.000000  27764.291620  ...           3.000000   \n",
       "\n",
       "       SubcortexSurface  SubcortexSurfaceVentricle  SubcortexCSF  \\\n",
       "count         50.000000                       50.0     50.000000   \n",
       "mean         -72.832824                        0.0   3866.310139   \n",
       "std           55.325194                        0.0   9437.736232   \n",
       "min         -211.028300                        0.0  -4797.764963   \n",
       "25%         -123.482326                        0.0  -1120.418129   \n",
       "50%          -55.701697                        0.0    201.688561   \n",
       "75%          -27.728269                        0.0   6312.230860   \n",
       "max           -7.110089                        0.0  53880.811260   \n",
       "\n",
       "        SubcortexGM   SubcortexWM  WholeBrainSurface  WholeBrainCSF  \\\n",
       "count     50.000000     50.000000          50.000000      50.000000   \n",
       "mean    2064.861824   9399.078340        -286.056129   17397.190874   \n",
       "std     7646.536695  41518.325357         210.836863   39388.865098   \n",
       "min   -15512.725440 -72230.144580        -740.706545  -50519.732690   \n",
       "25%    -1786.015749 -27185.931928        -383.927404  -11205.534057   \n",
       "50%     1651.106867  12531.413275        -234.914356   12361.866855   \n",
       "75%     5095.023978  37439.187950        -108.553234   46595.119550   \n",
       "max    23793.286440  89324.463280         -42.407528  121852.711500   \n",
       "\n",
       "        WholeBrainGM   WholeBrainWM  \n",
       "count      50.000000      50.000000  \n",
       "mean    -1493.252885   23383.426351  \n",
       "std     55196.413423   66633.241191  \n",
       "min   -143202.894800 -109992.038300  \n",
       "25%    -32150.369580  -23858.689988  \n",
       "50%       848.580664   29370.577105  \n",
       "75%     29087.186380   66299.998122  \n",
       "max    112180.981200  155590.197100  \n",
       "\n",
       "[8 rows x 45 columns]"
      ]
     },
     "execution_count": 23,
     "metadata": {},
     "output_type": "execute_result"
    }
   ],
   "source": [
    "data_df.describe()"
   ]
  },
  {
   "cell_type": "markdown",
   "metadata": {},
   "source": [
    "# 02 - Visualize 3D Data"
   ]
  },
  {
   "cell_type": "code",
   "execution_count": 24,
   "metadata": {},
   "outputs": [],
   "source": [
    "import plotly.express as px\n",
    "\n",
    "def generate_scatterplot(dataframe, data_dict, correlation, palette, out_dir):\n",
    "    \"\"\"\n",
    "    Generates a 3D scatter plot from the given DataFrame and saves it to the specified directory.\n",
    "\n",
    "    Parameters:\n",
    "    - dataframe: pandas DataFrame containing the data.\n",
    "    - data_dict: Dictionary with one key-value pair, where the key is the dependent variable \n",
    "                 and the value is a list of independent variables (length should be 2 for 3D scatter).\n",
    "    - x_label, y_label, z_label: Labels for the x, y, and z axes.\n",
    "    - correlation: Whether to display correlation information on the plot (True/False).\n",
    "    - palette: Color palette for the plot.\n",
    "    - out_dir: Directory path where the plot image will be saved.\n",
    "    \"\"\"\n",
    "    dependent_var = list(data_dict.keys())[0]\n",
    "    independent_vars = data_dict[dependent_var]\n",
    "\n",
    "    if len(independent_vars) != 2:\n",
    "        raise ValueError(\"Independent variable list must contain exactly two elements for 3D scatter plot.\")\n",
    "\n",
    "    fig = px.scatter_3d(dataframe, x=independent_vars[0], y=independent_vars[1], z=dependent_var,\n",
    "                        color=dependent_var, color_continuous_scale=palette)\n",
    "\n",
    "    # Set the labels\n",
    "    fig.update_layout(scene=dict(\n",
    "        xaxis_title=independent_vars[0],\n",
    "        yaxis_title=independent_vars[1],\n",
    "        zaxis_title=dependent_var\n",
    "    ))\n",
    "\n",
    "    # Optionally, add correlation info as annotation\n",
    "    if correlation:\n",
    "        # Compute and display correlation (requires additional implementation)\n",
    "        pass\n",
    "\n",
    "    # Save the plot to the output directory\n",
    "    fig.write_image(f\"{out_dir}/3d_scatter_plot.png\")\n",
    "\n",
    "    return fig"
   ]
  },
  {
   "cell_type": "code",
   "execution_count": 25,
   "metadata": {},
   "outputs": [
    {
     "data": {
      "text/plain": [
       "Index(['subject', 'CerebellumSBM', 'CerebellumCSF', 'CerebellumGM',\n",
       "       'cerebellumVisualCH', 'CerebellumWM', 'FrontalSurface', 'FrontalCSF',\n",
       "       'FrontalGM', 'frontalVisualCH', 'FrontalWM', 'InsularSurface',\n",
       "       'InsularCSF', 'InsularGM', 'InsularWM', 'InsularVisualCH', 'MTLSurface',\n",
       "       'MTLVisualCH', 'MTLCSF', 'MTLGM', 'MTLWM', 'OccipitalSurface',\n",
       "       'OccipitalCSF', 'OccipitalGM', 'occipitalVisualCH', 'OccipitalWM',\n",
       "       'ParietalSurface', 'ParietalCSF', 'ParietalGM', 'parietalVisualCH',\n",
       "       'ParietalWM', 'TemporalSurface', 'TemporalCSF', 'TemporalGM',\n",
       "       'temporalVisualCH', 'TemporalWM', 'ventricleVisualCH',\n",
       "       'SubcortexSurface', 'SubcortexSurfaceVentricle', 'SubcortexCSF',\n",
       "       'SubcortexGM', 'SubcortexWM', 'WholeBrainSurface', 'WholeBrainCSF',\n",
       "       'WholeBrainGM', 'WholeBrainWM'],\n",
       "      dtype='object')"
      ]
     },
     "execution_count": 25,
     "metadata": {},
     "output_type": "execute_result"
    }
   ],
   "source": [
    "data_df.columns"
   ]
  },
  {
   "cell_type": "code",
   "execution_count": 30,
   "metadata": {},
   "outputs": [],
   "source": [
    "data_dict = {'ventricleVisualCH': ['SubcortexSurface', 'SubcortexCSF']}"
   ]
  },
  {
   "cell_type": "code",
   "execution_count": 31,
   "metadata": {},
   "outputs": [
    {
     "data": {
      "application/vnd.plotly.v1+json": {
       "config": {
        "plotlyServerURL": "https://plot.ly"
       },
       "data": [
        {
         "hovertemplate": "SubcortexSurface=%{x}<br>SubcortexCSF=%{y}<br>ventricleVisualCH=%{marker.color}<extra></extra>",
         "legendgroup": "",
         "marker": {
          "color": [
           0,
           1,
           2,
           2,
           0,
           0,
           2,
           2,
           2,
           1,
           2,
           2,
           2,
           2,
           1,
           0,
           1,
           2,
           0,
           0,
           2,
           2,
           0,
           1,
           1,
           1,
           2,
           1,
           0,
           1,
           0,
           2,
           0,
           0,
           2,
           0,
           0,
           1,
           1,
           1,
           0,
           2,
           0,
           3,
           0,
           1,
           1,
           1,
           1,
           0
          ],
          "coloraxis": "coloraxis",
          "symbol": "circle"
         },
         "mode": "markers",
         "name": "",
         "scene": "scene",
         "showlegend": false,
         "type": "scatter3d",
         "x": [
          -35.25480138,
          -13.20448504,
          -68.25299757,
          -202.1810083,
          -19.54754985,
          -67.15386063,
          -52.1167143,
          -211.0282999,
          -154.4061524,
          -8.889043993,
          -44.44624754,
          -129.0061642,
          -44.62257323,
          -142.2114256,
          -26.1920549,
          -119.4440847,
          -49.50902005,
          -80.46518896,
          -20.23657758,
          -29.92086212,
          -27.98267024,
          -22.9132032,
          -10.51165886,
          -80.67669399,
          -145.5955233,
          -27.64346909,
          -29.0634721,
          -17.16977372,
          -129.7163399,
          -66.90856584,
          -7.342072254,
          -25.24978493,
          -71.34137359,
          -18.26353907,
          -146.1657097,
          -86.22894157,
          -37.95505327,
          -39.97298515,
          -59.2866799,
          -72.69728013,
          -178.8143742,
          -146.9621282,
          -49.35264536,
          -81.04054357,
          -7.110089212,
          -130.4662924,
          -124.8284065,
          -86.32720008,
          -149.0462598,
          -46.91935233
         ],
         "y": [
          -4797.764963,
          -2518.736433,
          3965.441263,
          6595.846832,
          -2723.32755,
          -2620.341147,
          121.589366,
          15110.70483,
          14045.26833,
          -3033.169861,
          14216.69535,
          6362.419626,
          -15.26901049,
          4918.534584,
          -981.5990192,
          -2502.509464,
          1551.213581,
          16068.44366,
          -2328.737161,
          -3660.420297,
          13263.1962,
          6161.664563,
          -4353.272496,
          8107.157272,
          7944.613777,
          -270.6543536,
          20157.11233,
          1294.087356,
          -881.7990038,
          -370.6349991,
          -1184.32538,
          12402.6083,
          -316.8127694,
          -4482.243785,
          8310.033496,
          1681.51168,
          -693.0184675,
          513.5341166,
          259.6064231,
          4829.943692,
          3853.987859,
          4478.931266,
          10.70173042,
          53880.81126,
          143.7706983,
          -790.7974461,
          -113.7900975,
          5587.761354,
          -2715.768966,
          -1166.691165
         ],
         "z": [
          0,
          1,
          2,
          2,
          0,
          0,
          2,
          2,
          2,
          1,
          2,
          2,
          2,
          2,
          1,
          0,
          1,
          2,
          0,
          0,
          2,
          2,
          0,
          1,
          1,
          1,
          2,
          1,
          0,
          1,
          0,
          2,
          0,
          0,
          2,
          0,
          0,
          1,
          1,
          1,
          0,
          2,
          0,
          3,
          0,
          1,
          1,
          1,
          1,
          0
         ]
        }
       ],
       "layout": {
        "coloraxis": {
         "colorbar": {
          "title": {
           "text": "ventricleVisualCH"
          }
         },
         "colorscale": [
          [
           0,
           "rgb(255,245,240)"
          ],
          [
           0.125,
           "rgb(254,224,210)"
          ],
          [
           0.25,
           "rgb(252,187,161)"
          ],
          [
           0.375,
           "rgb(252,146,114)"
          ],
          [
           0.5,
           "rgb(251,106,74)"
          ],
          [
           0.625,
           "rgb(239,59,44)"
          ],
          [
           0.75,
           "rgb(203,24,29)"
          ],
          [
           0.875,
           "rgb(165,15,21)"
          ],
          [
           1,
           "rgb(103,0,13)"
          ]
         ]
        },
        "legend": {
         "tracegroupgap": 0
        },
        "margin": {
         "t": 60
        },
        "scene": {
         "domain": {
          "x": [
           0,
           1
          ],
          "y": [
           0,
           1
          ]
         },
         "xaxis": {
          "title": {
           "text": "SubcortexSurface"
          }
         },
         "yaxis": {
          "title": {
           "text": "SubcortexCSF"
          }
         },
         "zaxis": {
          "title": {
           "text": "ventricleVisualCH"
          }
         }
        },
        "template": {
         "data": {
          "bar": [
           {
            "error_x": {
             "color": "#2a3f5f"
            },
            "error_y": {
             "color": "#2a3f5f"
            },
            "marker": {
             "line": {
              "color": "#E5ECF6",
              "width": 0.5
             },
             "pattern": {
              "fillmode": "overlay",
              "size": 10,
              "solidity": 0.2
             }
            },
            "type": "bar"
           }
          ],
          "barpolar": [
           {
            "marker": {
             "line": {
              "color": "#E5ECF6",
              "width": 0.5
             },
             "pattern": {
              "fillmode": "overlay",
              "size": 10,
              "solidity": 0.2
             }
            },
            "type": "barpolar"
           }
          ],
          "carpet": [
           {
            "aaxis": {
             "endlinecolor": "#2a3f5f",
             "gridcolor": "white",
             "linecolor": "white",
             "minorgridcolor": "white",
             "startlinecolor": "#2a3f5f"
            },
            "baxis": {
             "endlinecolor": "#2a3f5f",
             "gridcolor": "white",
             "linecolor": "white",
             "minorgridcolor": "white",
             "startlinecolor": "#2a3f5f"
            },
            "type": "carpet"
           }
          ],
          "choropleth": [
           {
            "colorbar": {
             "outlinewidth": 0,
             "ticks": ""
            },
            "type": "choropleth"
           }
          ],
          "contour": [
           {
            "colorbar": {
             "outlinewidth": 0,
             "ticks": ""
            },
            "colorscale": [
             [
              0,
              "#0d0887"
             ],
             [
              0.1111111111111111,
              "#46039f"
             ],
             [
              0.2222222222222222,
              "#7201a8"
             ],
             [
              0.3333333333333333,
              "#9c179e"
             ],
             [
              0.4444444444444444,
              "#bd3786"
             ],
             [
              0.5555555555555556,
              "#d8576b"
             ],
             [
              0.6666666666666666,
              "#ed7953"
             ],
             [
              0.7777777777777778,
              "#fb9f3a"
             ],
             [
              0.8888888888888888,
              "#fdca26"
             ],
             [
              1,
              "#f0f921"
             ]
            ],
            "type": "contour"
           }
          ],
          "contourcarpet": [
           {
            "colorbar": {
             "outlinewidth": 0,
             "ticks": ""
            },
            "type": "contourcarpet"
           }
          ],
          "heatmap": [
           {
            "colorbar": {
             "outlinewidth": 0,
             "ticks": ""
            },
            "colorscale": [
             [
              0,
              "#0d0887"
             ],
             [
              0.1111111111111111,
              "#46039f"
             ],
             [
              0.2222222222222222,
              "#7201a8"
             ],
             [
              0.3333333333333333,
              "#9c179e"
             ],
             [
              0.4444444444444444,
              "#bd3786"
             ],
             [
              0.5555555555555556,
              "#d8576b"
             ],
             [
              0.6666666666666666,
              "#ed7953"
             ],
             [
              0.7777777777777778,
              "#fb9f3a"
             ],
             [
              0.8888888888888888,
              "#fdca26"
             ],
             [
              1,
              "#f0f921"
             ]
            ],
            "type": "heatmap"
           }
          ],
          "heatmapgl": [
           {
            "colorbar": {
             "outlinewidth": 0,
             "ticks": ""
            },
            "colorscale": [
             [
              0,
              "#0d0887"
             ],
             [
              0.1111111111111111,
              "#46039f"
             ],
             [
              0.2222222222222222,
              "#7201a8"
             ],
             [
              0.3333333333333333,
              "#9c179e"
             ],
             [
              0.4444444444444444,
              "#bd3786"
             ],
             [
              0.5555555555555556,
              "#d8576b"
             ],
             [
              0.6666666666666666,
              "#ed7953"
             ],
             [
              0.7777777777777778,
              "#fb9f3a"
             ],
             [
              0.8888888888888888,
              "#fdca26"
             ],
             [
              1,
              "#f0f921"
             ]
            ],
            "type": "heatmapgl"
           }
          ],
          "histogram": [
           {
            "marker": {
             "pattern": {
              "fillmode": "overlay",
              "size": 10,
              "solidity": 0.2
             }
            },
            "type": "histogram"
           }
          ],
          "histogram2d": [
           {
            "colorbar": {
             "outlinewidth": 0,
             "ticks": ""
            },
            "colorscale": [
             [
              0,
              "#0d0887"
             ],
             [
              0.1111111111111111,
              "#46039f"
             ],
             [
              0.2222222222222222,
              "#7201a8"
             ],
             [
              0.3333333333333333,
              "#9c179e"
             ],
             [
              0.4444444444444444,
              "#bd3786"
             ],
             [
              0.5555555555555556,
              "#d8576b"
             ],
             [
              0.6666666666666666,
              "#ed7953"
             ],
             [
              0.7777777777777778,
              "#fb9f3a"
             ],
             [
              0.8888888888888888,
              "#fdca26"
             ],
             [
              1,
              "#f0f921"
             ]
            ],
            "type": "histogram2d"
           }
          ],
          "histogram2dcontour": [
           {
            "colorbar": {
             "outlinewidth": 0,
             "ticks": ""
            },
            "colorscale": [
             [
              0,
              "#0d0887"
             ],
             [
              0.1111111111111111,
              "#46039f"
             ],
             [
              0.2222222222222222,
              "#7201a8"
             ],
             [
              0.3333333333333333,
              "#9c179e"
             ],
             [
              0.4444444444444444,
              "#bd3786"
             ],
             [
              0.5555555555555556,
              "#d8576b"
             ],
             [
              0.6666666666666666,
              "#ed7953"
             ],
             [
              0.7777777777777778,
              "#fb9f3a"
             ],
             [
              0.8888888888888888,
              "#fdca26"
             ],
             [
              1,
              "#f0f921"
             ]
            ],
            "type": "histogram2dcontour"
           }
          ],
          "mesh3d": [
           {
            "colorbar": {
             "outlinewidth": 0,
             "ticks": ""
            },
            "type": "mesh3d"
           }
          ],
          "parcoords": [
           {
            "line": {
             "colorbar": {
              "outlinewidth": 0,
              "ticks": ""
             }
            },
            "type": "parcoords"
           }
          ],
          "pie": [
           {
            "automargin": true,
            "type": "pie"
           }
          ],
          "scatter": [
           {
            "fillpattern": {
             "fillmode": "overlay",
             "size": 10,
             "solidity": 0.2
            },
            "type": "scatter"
           }
          ],
          "scatter3d": [
           {
            "line": {
             "colorbar": {
              "outlinewidth": 0,
              "ticks": ""
             }
            },
            "marker": {
             "colorbar": {
              "outlinewidth": 0,
              "ticks": ""
             }
            },
            "type": "scatter3d"
           }
          ],
          "scattercarpet": [
           {
            "marker": {
             "colorbar": {
              "outlinewidth": 0,
              "ticks": ""
             }
            },
            "type": "scattercarpet"
           }
          ],
          "scattergeo": [
           {
            "marker": {
             "colorbar": {
              "outlinewidth": 0,
              "ticks": ""
             }
            },
            "type": "scattergeo"
           }
          ],
          "scattergl": [
           {
            "marker": {
             "colorbar": {
              "outlinewidth": 0,
              "ticks": ""
             }
            },
            "type": "scattergl"
           }
          ],
          "scattermapbox": [
           {
            "marker": {
             "colorbar": {
              "outlinewidth": 0,
              "ticks": ""
             }
            },
            "type": "scattermapbox"
           }
          ],
          "scatterpolar": [
           {
            "marker": {
             "colorbar": {
              "outlinewidth": 0,
              "ticks": ""
             }
            },
            "type": "scatterpolar"
           }
          ],
          "scatterpolargl": [
           {
            "marker": {
             "colorbar": {
              "outlinewidth": 0,
              "ticks": ""
             }
            },
            "type": "scatterpolargl"
           }
          ],
          "scatterternary": [
           {
            "marker": {
             "colorbar": {
              "outlinewidth": 0,
              "ticks": ""
             }
            },
            "type": "scatterternary"
           }
          ],
          "surface": [
           {
            "colorbar": {
             "outlinewidth": 0,
             "ticks": ""
            },
            "colorscale": [
             [
              0,
              "#0d0887"
             ],
             [
              0.1111111111111111,
              "#46039f"
             ],
             [
              0.2222222222222222,
              "#7201a8"
             ],
             [
              0.3333333333333333,
              "#9c179e"
             ],
             [
              0.4444444444444444,
              "#bd3786"
             ],
             [
              0.5555555555555556,
              "#d8576b"
             ],
             [
              0.6666666666666666,
              "#ed7953"
             ],
             [
              0.7777777777777778,
              "#fb9f3a"
             ],
             [
              0.8888888888888888,
              "#fdca26"
             ],
             [
              1,
              "#f0f921"
             ]
            ],
            "type": "surface"
           }
          ],
          "table": [
           {
            "cells": {
             "fill": {
              "color": "#EBF0F8"
             },
             "line": {
              "color": "white"
             }
            },
            "header": {
             "fill": {
              "color": "#C8D4E3"
             },
             "line": {
              "color": "white"
             }
            },
            "type": "table"
           }
          ]
         },
         "layout": {
          "annotationdefaults": {
           "arrowcolor": "#2a3f5f",
           "arrowhead": 0,
           "arrowwidth": 1
          },
          "autotypenumbers": "strict",
          "coloraxis": {
           "colorbar": {
            "outlinewidth": 0,
            "ticks": ""
           }
          },
          "colorscale": {
           "diverging": [
            [
             0,
             "#8e0152"
            ],
            [
             0.1,
             "#c51b7d"
            ],
            [
             0.2,
             "#de77ae"
            ],
            [
             0.3,
             "#f1b6da"
            ],
            [
             0.4,
             "#fde0ef"
            ],
            [
             0.5,
             "#f7f7f7"
            ],
            [
             0.6,
             "#e6f5d0"
            ],
            [
             0.7,
             "#b8e186"
            ],
            [
             0.8,
             "#7fbc41"
            ],
            [
             0.9,
             "#4d9221"
            ],
            [
             1,
             "#276419"
            ]
           ],
           "sequential": [
            [
             0,
             "#0d0887"
            ],
            [
             0.1111111111111111,
             "#46039f"
            ],
            [
             0.2222222222222222,
             "#7201a8"
            ],
            [
             0.3333333333333333,
             "#9c179e"
            ],
            [
             0.4444444444444444,
             "#bd3786"
            ],
            [
             0.5555555555555556,
             "#d8576b"
            ],
            [
             0.6666666666666666,
             "#ed7953"
            ],
            [
             0.7777777777777778,
             "#fb9f3a"
            ],
            [
             0.8888888888888888,
             "#fdca26"
            ],
            [
             1,
             "#f0f921"
            ]
           ],
           "sequentialminus": [
            [
             0,
             "#0d0887"
            ],
            [
             0.1111111111111111,
             "#46039f"
            ],
            [
             0.2222222222222222,
             "#7201a8"
            ],
            [
             0.3333333333333333,
             "#9c179e"
            ],
            [
             0.4444444444444444,
             "#bd3786"
            ],
            [
             0.5555555555555556,
             "#d8576b"
            ],
            [
             0.6666666666666666,
             "#ed7953"
            ],
            [
             0.7777777777777778,
             "#fb9f3a"
            ],
            [
             0.8888888888888888,
             "#fdca26"
            ],
            [
             1,
             "#f0f921"
            ]
           ]
          },
          "colorway": [
           "#636efa",
           "#EF553B",
           "#00cc96",
           "#ab63fa",
           "#FFA15A",
           "#19d3f3",
           "#FF6692",
           "#B6E880",
           "#FF97FF",
           "#FECB52"
          ],
          "font": {
           "color": "#2a3f5f"
          },
          "geo": {
           "bgcolor": "white",
           "lakecolor": "white",
           "landcolor": "#E5ECF6",
           "showlakes": true,
           "showland": true,
           "subunitcolor": "white"
          },
          "hoverlabel": {
           "align": "left"
          },
          "hovermode": "closest",
          "mapbox": {
           "style": "light"
          },
          "paper_bgcolor": "white",
          "plot_bgcolor": "#E5ECF6",
          "polar": {
           "angularaxis": {
            "gridcolor": "white",
            "linecolor": "white",
            "ticks": ""
           },
           "bgcolor": "#E5ECF6",
           "radialaxis": {
            "gridcolor": "white",
            "linecolor": "white",
            "ticks": ""
           }
          },
          "scene": {
           "xaxis": {
            "backgroundcolor": "#E5ECF6",
            "gridcolor": "white",
            "gridwidth": 2,
            "linecolor": "white",
            "showbackground": true,
            "ticks": "",
            "zerolinecolor": "white"
           },
           "yaxis": {
            "backgroundcolor": "#E5ECF6",
            "gridcolor": "white",
            "gridwidth": 2,
            "linecolor": "white",
            "showbackground": true,
            "ticks": "",
            "zerolinecolor": "white"
           },
           "zaxis": {
            "backgroundcolor": "#E5ECF6",
            "gridcolor": "white",
            "gridwidth": 2,
            "linecolor": "white",
            "showbackground": true,
            "ticks": "",
            "zerolinecolor": "white"
           }
          },
          "shapedefaults": {
           "line": {
            "color": "#2a3f5f"
           }
          },
          "ternary": {
           "aaxis": {
            "gridcolor": "white",
            "linecolor": "white",
            "ticks": ""
           },
           "baxis": {
            "gridcolor": "white",
            "linecolor": "white",
            "ticks": ""
           },
           "bgcolor": "#E5ECF6",
           "caxis": {
            "gridcolor": "white",
            "linecolor": "white",
            "ticks": ""
           }
          },
          "title": {
           "x": 0.05
          },
          "xaxis": {
           "automargin": true,
           "gridcolor": "white",
           "linecolor": "white",
           "ticks": "",
           "title": {
            "standoff": 15
           },
           "zerolinecolor": "white",
           "zerolinewidth": 2
          },
          "yaxis": {
           "automargin": true,
           "gridcolor": "white",
           "linecolor": "white",
           "ticks": "",
           "title": {
            "standoff": 15
           },
           "zerolinecolor": "white",
           "zerolinewidth": 2
          }
         }
        }
       }
      }
     },
     "metadata": {},
     "output_type": "display_data"
    }
   ],
   "source": [
    "# Example usage\n",
    "plot = generate_scatterplot(dataframe=data_df, \n",
    "                            data_dict=data_dict,\n",
    "                            correlation=True,\n",
    "                            palette='Reds',\n",
    "                            out_dir=out_dir)\n",
    "plot"
   ]
  },
  {
   "cell_type": "markdown",
   "metadata": {},
   "source": [
    "# 03 - Visualize Distribution"
   ]
  },
  {
   "cell_type": "code",
   "execution_count": 14,
   "metadata": {},
   "outputs": [
    {
     "data": {
      "text/plain": [
       "Index(['subject', 'Age', 'Normalized_Percent_Cognitive_Improvement',\n",
       "       'Z_Scored_Percent_Cognitive_Improvement',\n",
       "       'Percent_Cognitive_Improvement', 'Z_Scored_Subiculum_Connectivity',\n",
       "       'Subiculum_Connectivity', 'Amnesia_Lesion_T_Map', 'Memory_Network_T',\n",
       "       'Z_Scored_Memory_Network_R', 'Memory_Network_R',\n",
       "       'Subiculum_Grey_Matter', 'Subiculum_White_Matter', 'Subiculum_CSF',\n",
       "       'Subiculum_Total', 'Standardized_Age',\n",
       "       'Standardized_Percent_Improvement',\n",
       "       'Standardized_Subiculum_Connectivity',\n",
       "       'Standardized_Subiculum_Grey_Matter',\n",
       "       'Standardized_Subiculum_White_Matter', 'Standardized_Subiculum_CSF',\n",
       "       'Standardized_Subiculum_Total', 'Disease', 'Cohort', 'City',\n",
       "       'Inclusion_Cohort', 'Age_Group', 'Age_And_Disease', 'Subiculum_Group',\n",
       "       'Age_Disease_and_Cohort', 'Subiculum_Group_By_Inflection',\n",
       "       'Cognitive_Baseline', 'Z_Scored_Cognitive_Baseline'],\n",
       "      dtype='object')"
      ]
     },
     "execution_count": 14,
     "metadata": {},
     "output_type": "execute_result"
    }
   ],
   "source": [
    "data_df.columns"
   ]
  },
  {
   "cell_type": "code",
   "execution_count": 62,
   "metadata": {},
   "outputs": [],
   "source": [
    "scatter_variable = 'Z_Scored_Cognitive_Baseline'\n",
    "categorical_variable = 'Disease'"
   ]
  },
  {
   "cell_type": "code",
   "execution_count": 63,
   "metadata": {},
   "outputs": [],
   "source": [
    "import seaborn as sns\n",
    "import matplotlib.pyplot as plt\n",
    "import matplotlib.colors as mcolors\n",
    "import matplotlib.cm as cm\n",
    "import numpy as np\n",
    "import os\n",
    "\n",
    "def create_custom_stripplot(data, x_variable, y_variable, hue_change_value, out_dir=None):\n",
    "    sns.set(style=\"white\")\n",
    "\n",
    "    # Get/set params for the color mapping\n",
    "    vcenter = hue_change_value\n",
    "    vmin, vmax = data[y_variable].min(), data[y_variable].max()\n",
    "    normalize = mcolors.TwoSlopeNorm(vcenter=vcenter, vmin=vmin, vmax=vmax)\n",
    "    colormap = cm.coolwarm\n",
    "\n",
    "    # Create a scatter plot with custom color mapping\n",
    "    plt.figure(figsize=(6, 6))\n",
    "    ax = sns.scatterplot(\n",
    "        x=x_variable,\n",
    "        y=y_variable,\n",
    "        data=data,\n",
    "        c=data[y_variable],\n",
    "        norm=normalize,\n",
    "        cmap=colormap,\n",
    "    )\n",
    "    ax.axhline(y=vcenter, color='gray', linestyle='--')\n",
    "\n",
    "    # Tweak the points to mimic `sns.stripplot`\n",
    "    pts = ax.collections[0]\n",
    "    pts.set_offsets(pts.get_offsets() + np.c_[np.random.uniform(-0.1, 0.1, len(data)), np.zeros(len(data))])\n",
    "    ax.margins(x=0.15)\n",
    "\n",
    "    scalarmappable = cm.ScalarMappable(norm=normalize, cmap=colormap)\n",
    "    scalarmappable.set_array(data[y_variable])\n",
    "\n",
    "    # Add a colorbar\n",
    "    cbar = plt.colorbar(scalarmappable, ax=ax)\n",
    "    cbar.set_label(y_variable)\n",
    "\n",
    "    plt.title(f'Strip Plot of {y_variable} by {x_variable} with Hue Change at {hue_change_value}')\n",
    "    plt.xticks(rotation=45)\n",
    "    plt.tight_layout()\n",
    "    sns.despine()\n",
    "    \n",
    "    # Save the figure if out_dir is provided\n",
    "    if out_dir:\n",
    "        os.makedirs(out_dir, exist_ok=True)\n",
    "        plt.savefig(f\"{out_dir}/strip_plot.png\", bbox_inches='tight')\n",
    "        plt.savefig(f\"{out_dir}/strip_plot.svg\", bbox_inches='tight')\n",
    "        print(f'Saved to {out_dir}/strip_plot.svg')\n",
    "    else:\n",
    "        plt.show()"
   ]
  },
  {
   "cell_type": "code",
   "execution_count": 58,
   "metadata": {},
   "outputs": [
    {
     "ename": "ValueError",
     "evalue": "vmin, vcenter, and vmax must be in ascending order",
     "output_type": "error",
     "traceback": [
      "\u001b[0;31m---------------------------------------------------------------------------\u001b[0m",
      "\u001b[0;31mValueError\u001b[0m                                Traceback (most recent call last)",
      "\u001b[1;32m/Users/cu135/Library/CloudStorage/OneDrive-Personal/OneDrive_Documents/Work/Software/Research/nimlab/calvin_utils/notebooks/statistical_notebooks/exploratory_analyses/data_exploration.ipynb Cell 30\u001b[0m line \u001b[0;36m2\n\u001b[1;32m      <a href='vscode-notebook-cell:/Users/cu135/Library/CloudStorage/OneDrive-Personal/OneDrive_Documents/Work/Software/Research/nimlab/calvin_utils/notebooks/statistical_notebooks/exploratory_analyses/data_exploration.ipynb#X45sZmlsZQ%3D%3D?line=0'>1</a>\u001b[0m \u001b[39m# Example usage:\u001b[39;00m\n\u001b[0;32m----> <a href='vscode-notebook-cell:/Users/cu135/Library/CloudStorage/OneDrive-Personal/OneDrive_Documents/Work/Software/Research/nimlab/calvin_utils/notebooks/statistical_notebooks/exploratory_analyses/data_exploration.ipynb#X45sZmlsZQ%3D%3D?line=1'>2</a>\u001b[0m create_custom_stripplot(data_df, categorical_variable, scatter_variable, \u001b[39m0\u001b[39;49m, out_dir\u001b[39m=\u001b[39;49mout_dir)\n",
      "\u001b[1;32m/Users/cu135/Library/CloudStorage/OneDrive-Personal/OneDrive_Documents/Work/Software/Research/nimlab/calvin_utils/notebooks/statistical_notebooks/exploratory_analyses/data_exploration.ipynb Cell 30\u001b[0m line \u001b[0;36m1\n\u001b[1;32m     <a href='vscode-notebook-cell:/Users/cu135/Library/CloudStorage/OneDrive-Personal/OneDrive_Documents/Work/Software/Research/nimlab/calvin_utils/notebooks/statistical_notebooks/exploratory_analyses/data_exploration.ipynb#X45sZmlsZQ%3D%3D?line=11'>12</a>\u001b[0m vcenter \u001b[39m=\u001b[39m hue_change_value\n\u001b[1;32m     <a href='vscode-notebook-cell:/Users/cu135/Library/CloudStorage/OneDrive-Personal/OneDrive_Documents/Work/Software/Research/nimlab/calvin_utils/notebooks/statistical_notebooks/exploratory_analyses/data_exploration.ipynb#X45sZmlsZQ%3D%3D?line=12'>13</a>\u001b[0m vmin, vmax \u001b[39m=\u001b[39m data[y_variable]\u001b[39m.\u001b[39mmin(), data[y_variable]\u001b[39m.\u001b[39mmax()\n\u001b[0;32m---> <a href='vscode-notebook-cell:/Users/cu135/Library/CloudStorage/OneDrive-Personal/OneDrive_Documents/Work/Software/Research/nimlab/calvin_utils/notebooks/statistical_notebooks/exploratory_analyses/data_exploration.ipynb#X45sZmlsZQ%3D%3D?line=13'>14</a>\u001b[0m normalize \u001b[39m=\u001b[39m mcolors\u001b[39m.\u001b[39;49mTwoSlopeNorm(vcenter\u001b[39m=\u001b[39;49mvcenter, vmin\u001b[39m=\u001b[39;49mvmin, vmax\u001b[39m=\u001b[39;49mvmax)\n\u001b[1;32m     <a href='vscode-notebook-cell:/Users/cu135/Library/CloudStorage/OneDrive-Personal/OneDrive_Documents/Work/Software/Research/nimlab/calvin_utils/notebooks/statistical_notebooks/exploratory_analyses/data_exploration.ipynb#X45sZmlsZQ%3D%3D?line=14'>15</a>\u001b[0m colormap \u001b[39m=\u001b[39m cm\u001b[39m.\u001b[39mcoolwarm\n\u001b[1;32m     <a href='vscode-notebook-cell:/Users/cu135/Library/CloudStorage/OneDrive-Personal/OneDrive_Documents/Work/Software/Research/nimlab/calvin_utils/notebooks/statistical_notebooks/exploratory_analyses/data_exploration.ipynb#X45sZmlsZQ%3D%3D?line=16'>17</a>\u001b[0m \u001b[39m# Create a scatter plot with custom color mapping\u001b[39;00m\n",
      "File \u001b[0;32m/usr/local/Caskroom/mambaforge/base/envs/nimlab_py310/lib/python3.10/site-packages/matplotlib/colors.py:1430\u001b[0m, in \u001b[0;36mTwoSlopeNorm.__init__\u001b[0;34m(self, vcenter, vmin, vmax)\u001b[0m\n\u001b[1;32m   1427\u001b[0m     \u001b[39mraise\u001b[39;00m \u001b[39mValueError\u001b[39;00m(\u001b[39m'\u001b[39m\u001b[39mvmin, vcenter, and vmax must be in \u001b[39m\u001b[39m'\u001b[39m\n\u001b[1;32m   1428\u001b[0m                      \u001b[39m'\u001b[39m\u001b[39mascending order\u001b[39m\u001b[39m'\u001b[39m)\n\u001b[1;32m   1429\u001b[0m \u001b[39mif\u001b[39;00m vcenter \u001b[39mis\u001b[39;00m \u001b[39mnot\u001b[39;00m \u001b[39mNone\u001b[39;00m \u001b[39mand\u001b[39;00m vmin \u001b[39mis\u001b[39;00m \u001b[39mnot\u001b[39;00m \u001b[39mNone\u001b[39;00m \u001b[39mand\u001b[39;00m vcenter \u001b[39m<\u001b[39m\u001b[39m=\u001b[39m vmin:\n\u001b[0;32m-> 1430\u001b[0m     \u001b[39mraise\u001b[39;00m \u001b[39mValueError\u001b[39;00m(\u001b[39m'\u001b[39m\u001b[39mvmin, vcenter, and vmax must be in \u001b[39m\u001b[39m'\u001b[39m\n\u001b[1;32m   1431\u001b[0m                      \u001b[39m'\u001b[39m\u001b[39mascending order\u001b[39m\u001b[39m'\u001b[39m)\n",
      "\u001b[0;31mValueError\u001b[0m: vmin, vcenter, and vmax must be in ascending order"
     ]
    }
   ],
   "source": [
    "# Example usage:\n",
    "create_custom_stripplot(data_df, categorical_variable, scatter_variable, 0, out_dir=out_dir)"
   ]
  },
  {
   "cell_type": "code",
   "execution_count": 64,
   "metadata": {},
   "outputs": [],
   "source": [
    "import seaborn as sns\n",
    "import matplotlib.pyplot as plt\n",
    "import os\n",
    "\n",
    "def create_distribution_violin_plot(data, x_variable, y_variable, hue_change_value, out_dir=None):\n",
    "    sns.set(style=\"white\")\n",
    "    plt.figure(figsize=(5, 6))\n",
    "\n",
    "    # Create the violin plot with specified parameters\n",
    "    sns.violinplot(data=data, x=x_variable, y=y_variable, hue=x_variable, width=.9, cut=2, split=False, inner='box', palette='Greys', alpha=0.1)\n",
    "\n",
    "    # Create the swarm plot on top of the violin plot\n",
    "    sns.swarmplot(data=data, x=x_variable, y=y_variable, hue=x_variable, palette=['red', 'blue'], alpha=0.7)\n",
    "\n",
    "    plt.title(f'Strip Plot with Hemi Violin of {y_variable} by {x_variable} with Hue Change at {hue_change_value}')\n",
    "    plt.xticks(rotation=45)\n",
    "    plt.tight_layout()\n",
    "    \n",
    "    # Save the figure if out_dir is provided\n",
    "    if out_dir:\n",
    "        os.makedirs(out_dir, exist_ok=True)\n",
    "        plt.savefig(f\"{out_dir}/distribution_violin.png\", bbox_inches='tight')\n",
    "        plt.savefig(f\"{out_dir}/distribution_violin.svg\", bbox_inches='tight')\n",
    "        print(f'Saved to {out_dir}/distribution_violin.svg')\n",
    "    else:\n",
    "        plt.show()\n",
    "\n"
   ]
  },
  {
   "cell_type": "code",
   "execution_count": 65,
   "metadata": {},
   "outputs": [
    {
     "name": "stdout",
     "output_type": "stream",
     "text": [
      "Saved to /Users/cu135/Library/CloudStorage/OneDrive-Personal/OneDrive_Documents/Research/2023/subiculum_cognition_and_age/figures/Figures/figure_four/raws/distribution_violin.svg\n"
     ]
    },
    {
     "data": {
      "image/png": "[encoded data removed]",
      "text/plain": [
       "<Figure size 360x432 with 1 Axes>"
      ]
     },
     "metadata": {},
     "output_type": "display_data"
    }
   ],
   "source": [
    "# Example usage:\n",
    "create_distribution_violin_plot(data_df, categorical_variable, scatter_variable, None, out_dir=out_dir)"
   ]
  },
  {
   "cell_type": "markdown",
   "metadata": {},
   "source": [
    "# Create Pie Chart"
   ]
  },
  {
   "cell_type": "code",
   "execution_count": 26,
   "metadata": {},
   "outputs": [
    {
     "data": {
      "image/png": "[encoded data removed]",
      "text/plain": [
       "<Figure size 576x576 with 1 Axes>"
      ]
     },
     "metadata": {},
     "output_type": "display_data"
    }
   ],
   "source": [
    "import os\n",
    "import pandas as pd\n",
    "import matplotlib.pyplot as plt\n",
    "\n",
    "def create_pie_chart(series, out_dir=None):\n",
    "    \"\"\"\n",
    "    Takes a pandas Series and generates a pie chart using the Tab10 colormap.\n",
    "    \n",
    "    Parameters:\n",
    "    series (pandas.Series): The input series where the index will be used as labels and the values as sizes.\n",
    "    out_dir (str, optional): Directory to save the pie chart images. Saves in both PNG and SVG formats if provided.\n",
    "    \"\"\"\n",
    "    # Check if the input is a pandas Series\n",
    "    if not isinstance(series, pd.Series):\n",
    "        raise ValueError(\"The input must be a pandas Series.\")\n",
    "    \n",
    "    # Set the Tab10 colormap\n",
    "    cmap = plt.get_cmap(\"tab10\")\n",
    "    colors = cmap(range(len(series)))\n",
    "    \n",
    "    # Generate the pie chart\n",
    "    fig, ax = plt.subplots(figsize=(8, 8))  # Set the figure size for better visibility\n",
    "    wedges, texts, autotexts = ax.pie(series, labels=series.index, autopct='%1.1f%%', startangle=140, colors=colors)\n",
    "    \n",
    "    # Add legend, which can be edited later by accessing the `legend` object\n",
    "    ax.legend(wedges, series.index, title=\"Categories\", loc=\"center left\", bbox_to_anchor=(1, 0, 0.5, 1))\n",
    "    \n",
    "    plt.setp(autotexts, size=8, weight=\"bold\")\n",
    "    ax.set_title(\"Pie Chart\")\n",
    "    plt.axis('equal')  # Equal aspect ratio ensures that pie is drawn as a circle.\n",
    "    \n",
    "    # Save figures if out_dir is provided\n",
    "    if out_dir is not None:\n",
    "        if not os.path.exists(out_dir):\n",
    "            os.makedirs(out_dir)\n",
    "        plt.savefig(os.path.join(out_dir, 'pie.png'))\n",
    "        plt.savefig(os.path.join(out_dir, 'pie.svg'))\n",
    "\n",
    "    plt.show()\n",
    "\n",
    "# Example usage with a sample pandas Series\n",
    "sample_series = pd.Series([10, 20, 30, 40], index=['A', 'B', 'C', 'D'])\n",
    "\n",
    "# You can specify an output directory where the pie chart images will be saved, or use None to only display the chart\n",
    "create_pie_chart(sample_series, out_dir=None)\n"
   ]
  },
  {
   "cell_type": "code",
   "execution_count": 27,
   "metadata": {},
   "outputs": [
    {
     "data": {
      "image/png": "[encoded data removed]",
      "text/plain": [
       "<Figure size 576x576 with 1 Axes>"
      ]
     },
     "metadata": {},
     "output_type": "display_data"
    }
   ],
   "source": [
    "create_pie_chart(data_df['Percent'], out_dir=out_dir)"
   ]
  },
  {
   "cell_type": "markdown",
   "metadata": {},
   "source": [
    "\n"
   ]
  }
 ],
 "metadata": {
  "kernelspec": {
   "display_name": "nimlab_py310",
   "language": "python",
   "name": "python3"
  },
  "language_info": {
   "codemirror_mode": {
    "name": "ipython",
    "version": 3
   },
   "file_extension": ".py",
   "mimetype": "text/x-python",
   "name": "python",
   "nbconvert_exporter": "python",
   "pygments_lexer": "ipython3",
   "version": "3.10.8"
  }
 },
 "nbformat": 4,
 "nbformat_minor": 4
}
