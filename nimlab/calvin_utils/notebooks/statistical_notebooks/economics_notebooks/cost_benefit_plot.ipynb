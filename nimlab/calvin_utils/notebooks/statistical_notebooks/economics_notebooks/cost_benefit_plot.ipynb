{
 "cells": [
  {
   "cell_type": "markdown",
   "metadata": {},
   "source": [
    "# Run A Mixed Effects Model\n",
    "\n",
    "### Authors: Calvin Howard.\n",
    "\n",
    "#### Last updated: July 6, 2023\n",
    "\n",
    "Use this to assess if a predictors relationship to the predictee is different between two groups. \n",
    "\n",
    "Notes:\n",
    "- To best use this notebook, you should be familar with mixed effects models"
   ]
  },
  {
   "cell_type": "markdown",
   "metadata": {},
   "source": [
    "# 00 - Import CSV with All Data\n",
    "**The CSV is expected to be in this format**\n",
    "- ID and absolute paths to niftis are critical\n",
    "```\n",
    "+-----+----------------------------+--------------+--------------+--------------+\n",
    "| ID  | Nifti_File_Path            | Covariate_1  | Covariate_2  | Covariate_3  |\n",
    "+-----+----------------------------+--------------+--------------+--------------+\n",
    "| 1   | /path/to/file1.nii.gz      | 0.5          | 1.2          | 3.4          |\n",
    "| 2   | /path/to/file2.nii.gz      | 0.7          | 1.4          | 3.1          |\n",
    "| 3   | /path/to/file3.nii.gz      | 0.6          | 1.5          | 3.5          |\n",
    "| 4   | /path/to/file4.nii.gz      | 0.9          | 1.1          | 3.2          |\n",
    "| ... | ...                        | ...          | ...          | ...          |\n",
    "+-----+----------------------------+--------------+--------------+--------------+\n",
    "```"
   ]
  },
  {
   "cell_type": "code",
   "execution_count": 38,
   "metadata": {},
   "outputs": [],
   "source": [
    "# Specify the path to your CSV file containing NIFTI paths\n",
    "input_csv_path = '/Users/cu135/Dropbox (Partners HealthCare)/studies/review_pyper/metadata/cost_benefit_analysis.csv'"
   ]
  },
  {
   "cell_type": "code",
   "execution_count": 46,
   "metadata": {},
   "outputs": [],
   "source": [
    "# Specify where you want to save your results to\n",
    "out_dir = '/Users/cu135/Dropbox (Partners HealthCare)/studies/review_pyper/figures/mansucript_figures/cost_benefit'"
   ]
  },
  {
   "cell_type": "code",
   "execution_count": 40,
   "metadata": {},
   "outputs": [
    {
     "data": {
      "text/html": [
       "<div>\n",
       "<style scoped>\n",
       "    .dataframe tbody tr th:only-of-type {\n",
       "        vertical-align: middle;\n",
       "    }\n",
       "\n",
       "    .dataframe tbody tr th {\n",
       "        vertical-align: top;\n",
       "    }\n",
       "\n",
       "    .dataframe thead th {\n",
       "        text-align: right;\n",
       "    }\n",
       "</style>\n",
       "<table border=\"1\" class=\"dataframe\">\n",
       "  <thead>\n",
       "    <tr style=\"text-align: right;\">\n",
       "      <th></th>\n",
       "      <th>Comparison</th>\n",
       "      <th>Time</th>\n",
       "      <th>Money</th>\n",
       "      <th>Cost_per_Case</th>\n",
       "      <th>Cases</th>\n",
       "      <th>Time_per_Case</th>\n",
       "    </tr>\n",
       "  </thead>\n",
       "  <tbody>\n",
       "    <tr>\n",
       "      <th>0</th>\n",
       "      <td>Human</td>\n",
       "      <td>17.0</td>\n",
       "      <td>340</td>\n",
       "      <td>3.4</td>\n",
       "      <td>100</td>\n",
       "      <td>0.170</td>\n",
       "    </tr>\n",
       "    <tr>\n",
       "      <th>1</th>\n",
       "      <td>ReviewPyper</td>\n",
       "      <td>2.5</td>\n",
       "      <td>290</td>\n",
       "      <td>2.9</td>\n",
       "      <td>100</td>\n",
       "      <td>0.025</td>\n",
       "    </tr>\n",
       "  </tbody>\n",
       "</table>\n",
       "</div>"
      ],
      "text/plain": [
       "    Comparison  Time  Money  Cost_per_Case  Cases  Time_per_Case\n",
       "0        Human  17.0    340            3.4    100          0.170\n",
       "1  ReviewPyper   2.5    290            2.9    100          0.025"
      ]
     },
     "metadata": {},
     "output_type": "display_data"
    }
   ],
   "source": [
    "from calvin_utils.permutation_analysis_utils.statsmodels_palm import CalvinStatsmodelsPalm\n",
    "# Instantiate the PalmPrepararation class\n",
    "cal_palm = CalvinStatsmodelsPalm(input_csv_path=input_csv_path, output_dir=out_dir, sheet=None)\n",
    "# Call the process_nifti_paths method\n",
    "data_df = cal_palm.read_and_display_data()\n"
   ]
  },
  {
   "cell_type": "markdown",
   "metadata": {},
   "source": [
    "# 01 - Preprocess Your Data"
   ]
  },
  {
   "cell_type": "markdown",
   "metadata": {},
   "source": [
    "**Handle NANs**\n",
    "- Set drop_nans=True is you would like to remove NaNs from data\n",
    "- Provide a column name or a list of column names to remove NaNs from"
   ]
  },
  {
   "cell_type": "code",
   "execution_count": null,
   "metadata": {},
   "outputs": [],
   "source": [
    "data_df.columns"
   ]
  },
  {
   "cell_type": "code",
   "execution_count": null,
   "metadata": {},
   "outputs": [],
   "source": [
    "drop_list = ['Age', 'Z_Scored_Percent_Cognitive_Improvement']"
   ]
  },
  {
   "cell_type": "code",
   "execution_count": null,
   "metadata": {},
   "outputs": [],
   "source": [
    "data_df = cal_palm.drop_nans_from_columns(columns_to_drop_from=drop_list)\n",
    "display(data_df)"
   ]
  },
  {
   "cell_type": "markdown",
   "metadata": {},
   "source": [
    "**Drop Row Based on Value of Column**\n",
    "\n",
    "Define the column, condition, and value for dropping rows\n",
    "- column = 'your_column_name'\n",
    "- condition = 'above'  # Options: 'equal', 'above', 'below'"
   ]
  },
  {
   "cell_type": "code",
   "execution_count": null,
   "metadata": {},
   "outputs": [],
   "source": [
    "data_df.columns"
   ]
  },
  {
   "cell_type": "markdown",
   "metadata": {},
   "source": [
    "Set the parameters for dropping rows"
   ]
  },
  {
   "cell_type": "code",
   "execution_count": null,
   "metadata": {},
   "outputs": [],
   "source": [
    "column = 'Cohort'  # The column you'd like to evaluate\n",
    "condition = 'equal'  # The condition to check ('equal', 'above', 'below')\n",
    "value = 3  # The value to compare against"
   ]
  },
  {
   "cell_type": "code",
   "execution_count": null,
   "metadata": {},
   "outputs": [],
   "source": [
    "data_df, other_df = cal_palm.drop_rows_based_on_value(column, condition, value)\n",
    "display(data_df)"
   ]
  },
  {
   "cell_type": "markdown",
   "metadata": {},
   "source": [
    "**Standardize Data**\n",
    "- Enter Columns you Don't want to standardize into a list"
   ]
  },
  {
   "cell_type": "code",
   "execution_count": null,
   "metadata": {},
   "outputs": [],
   "source": [
    "# Remove anything you don't want to standardize\n",
    "cols_not_to_standardize = ['Age']"
   ]
  },
  {
   "cell_type": "code",
   "execution_count": null,
   "metadata": {},
   "outputs": [],
   "source": [
    "data_df = cal_palm.standardize_columns(cols_not_to_standardize)\n",
    "data_df"
   ]
  },
  {
   "cell_type": "markdown",
   "metadata": {},
   "source": [
    "Descriptive Stats"
   ]
  },
  {
   "cell_type": "code",
   "execution_count": null,
   "metadata": {},
   "outputs": [],
   "source": [
    "data_df.describe()"
   ]
  },
  {
   "cell_type": "markdown",
   "metadata": {},
   "source": [
    "# 02 - Generate Cost Benefit Curve"
   ]
  },
  {
   "cell_type": "code",
   "execution_count": 58,
   "metadata": {},
   "outputs": [],
   "source": [
    "import os\n",
    "import pandas as pd\n",
    "import numpy as np\n",
    "import seaborn as sns\n",
    "import matplotlib.pyplot as plt\n",
    "\n",
    "class CostBenefit():    \n",
    "    @staticmethod\n",
    "    def plot_cost_benefit_curve(df, variable_col, slope_col='Cost per Case', x_max=100, x_label='Number of Cases', y_label='Cost'):\n",
    "        \"\"\"\n",
    "        Plot a cost-benefit curve using Seaborn for multiple slopes.\n",
    "\n",
    "        Args:\n",
    "        df (pd.DataFrame): DataFrame containing the slopes for the cost-benefit curve.\n",
    "        variable_col (str): Column name for the variable values.\n",
    "        slope_col (str): Column name for the slope values.\n",
    "        x_max (int): The maximum value for the x-axis (number of cases).\n",
    "        x_label (str): Label for the x-axis.\n",
    "        y_label (str): Label for the y-axis.\n",
    "        \"\"\"\n",
    "        # Create a DataFrame to hold the x values and corresponding cost values for each slope\n",
    "        x_vals = np.arange(0, x_max + 1)\n",
    "        slopes = df[slope_col].values\n",
    "        variables = df[variable_col].values\n",
    "        cost_vals = np.outer(slopes, x_vals)\n",
    "\n",
    "        # Create a long-form DataFrame suitable for Seaborn's lineplot\n",
    "        plot_data = pd.DataFrame(cost_vals, columns=x_vals)\n",
    "        plot_data[variable_col] = variables\n",
    "        melted_data = plot_data.melt(id_vars=[variable_col], var_name=x_label, value_name=y_label)\n",
    "\n",
    "        # Create the line plot\n",
    "        sns.set_style('white')\n",
    "        sns.set_palette=('tab10')\n",
    "        fig = plt.figure(figsize=(8, 6))\n",
    "        sns.lineplot(data=melted_data, x=x_label, y=y_label, hue=variable_col)\n",
    "        sns.despine()\n",
    "\n",
    "        # Customize the plot\n",
    "        plt.title('Cost-Benefit Curve')\n",
    "        plt.legend(title=variable_col, frameon=False)\n",
    "        plt.grid(False)\n",
    "\n",
    "        # Show the plot\n",
    "        plt.show()\n",
    "        return fig\n",
    "    \n",
    "    @staticmethod\n",
    "    def save_fig(fig, out_dir=None):\n",
    "        if out_dir is not None:\n",
    "            out_dir\n",
    "            subdir = \"cost_benefit_plots\"\n",
    "            os.makedirs(os.path.join(out_dir, subdir), exist_ok=True)\n",
    "\n",
    "            file_name_png = f\"cost_benefit.png\"\n",
    "            file_name_svg = f\"cost_benefit.svg\"\n",
    "            path_png = os.path.join(out_dir, subdir, file_name_png)\n",
    "            path_svg = os.path.join(out_dir, subdir, file_name_svg)\n",
    "\n",
    "            fig.savefig(path_png, format='png')\n",
    "            fig.savefig(path_svg, format='svg')\n",
    "            print('Saved to: ', path_png)\n"
   ]
  },
  {
   "cell_type": "code",
   "execution_count": 60,
   "metadata": {},
   "outputs": [
    {
     "data": {
      "image/png": "[encoded data removed]",
      "text/plain": [
       "<Figure size 576x432 with 1 Axes>"
      ]
     },
     "metadata": {},
     "output_type": "display_data"
    },
    {
     "name": "stdout",
     "output_type": "stream",
     "text": [
      "Saved to:  /Users/cu135/Dropbox (Partners HealthCare)/studies/review_pyper/figures/mansucript_figures/cost_benefit/cost_benefit_plots/cost_benefit.png\n"
     ]
    }
   ],
   "source": [
    "fig = CostBenefit.plot_cost_benefit_curve(data_df, variable_col='Comparison', slope_col='Cost_per_Case', x_max=100, x_label='Completed Manuscripts', y_label='Cost (USD)')\n",
    "CostBenefit.save_fig(fig, out_dir)"
   ]
  },
  {
   "cell_type": "code",
   "execution_count": null,
   "metadata": {},
   "outputs": [],
   "source": []
  }
 ],
 "metadata": {
  "kernelspec": {
   "display_name": "nimlab_py310",
   "language": "python",
   "name": "python3"
  },
  "language_info": {
   "codemirror_mode": {
    "name": "ipython",
    "version": 3
   },
   "file_extension": ".py",
   "mimetype": "text/x-python",
   "name": "python",
   "nbconvert_exporter": "python",
   "pygments_lexer": "ipython3",
   "version": "3.10.8"
  }
 },
 "nbformat": 4,
 "nbformat_minor": 4
}
