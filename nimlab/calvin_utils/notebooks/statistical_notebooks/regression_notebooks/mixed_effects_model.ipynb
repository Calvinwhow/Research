{
 "cells": [
  {
   "cell_type": "markdown",
   "metadata": {},
   "source": [
    "# Run A Mixed Effects Model\n",
    "\n",
    "### Authors: Calvin Howard.\n",
    "\n",
    "#### Last updated: July 6, 2023\n",
    "\n",
    "Use this to assess if a predictors relationship to the predictee is different between two groups. \n",
    "\n",
    "Notes:\n",
    "- To best use this notebook, you should be familar with mixed effects models"
   ]
  },
  {
   "cell_type": "markdown",
   "metadata": {},
   "source": [
    "# 00 - Import CSV with All Data\n",
    "**The CSV is expected to be in this format**\n",
    "- ID and absolute paths to niftis are critical\n",
    "```\n",
    "+-----+----------------------------+--------------+--------------+--------------+\n",
    "| ID  | Nifti_File_Path            | Covariate_1  | Covariate_2  | Covariate_3  |\n",
    "+-----+----------------------------+--------------+--------------+--------------+\n",
    "| 1   | /path/to/file1.nii.gz      | 0.5          | 1.2          | 3.4          |\n",
    "| 2   | /path/to/file2.nii.gz      | 0.7          | 1.4          | 3.1          |\n",
    "| 3   | /path/to/file3.nii.gz      | 0.6          | 1.5          | 3.5          |\n",
    "| 4   | /path/to/file4.nii.gz      | 0.9          | 1.1          | 3.2          |\n",
    "| ... | ...                        | ...          | ...          | ...          |\n",
    "+-----+----------------------------+--------------+--------------+--------------+\n",
    "```"
   ]
  },
  {
   "cell_type": "code",
   "execution_count": null,
   "metadata": {},
   "outputs": [],
   "source": [
    "# Specify the path to your CSV file containing NIFTI paths\n",
    "input_csv_path = '/Users/cu135/Dropbox (Partners HealthCare)/studies/cognition_2023/metadata/master_list_proper_subjects.xlsx'"
   ]
  },
  {
   "cell_type": "code",
   "execution_count": null,
   "metadata": {},
   "outputs": [],
   "source": [
    "# Specify where you want to save your results to\n",
    "out_dir = '/Users/cu135/Library/CloudStorage/OneDrive-Personal/OneDrive_Documents/Research/2023/subiculum_cognition_and_age/figures/Figures/retrospective_cohorts_figure/mixed_effect_analyses'"
   ]
  },
  {
   "cell_type": "code",
   "execution_count": null,
   "metadata": {},
   "outputs": [],
   "source": [
    "from calvin_utils.permutation_analysis_utils.statsmodels_palm import CalvinStatsmodelsPalm\n",
    "# Instantiate the PalmPrepararation class\n",
    "cal_palm = CalvinStatsmodelsPalm(input_csv_path=input_csv_path, output_dir=out_dir, sheet='master_list_proper_subjects')\n",
    "# Call the process_nifti_paths method\n",
    "data_df = cal_palm.read_and_display_data()\n"
   ]
  },
  {
   "cell_type": "markdown",
   "metadata": {},
   "source": [
    "# 01 - Preprocess Your Data"
   ]
  },
  {
   "cell_type": "markdown",
   "metadata": {},
   "source": [
    "**Handle NANs**\n",
    "- Set drop_nans=True is you would like to remove NaNs from data\n",
    "- Provide a column name or a list of column names to remove NaNs from"
   ]
  },
  {
   "cell_type": "code",
   "execution_count": null,
   "metadata": {},
   "outputs": [],
   "source": [
    "data_df.columns"
   ]
  },
  {
   "cell_type": "code",
   "execution_count": null,
   "metadata": {},
   "outputs": [],
   "source": [
    "drop_list = ['Z_Scored_Subiculum_Connectivity_T', 'Age', 'Z_Scored_Percent_Cognitive_Improvement']"
   ]
  },
  {
   "cell_type": "code",
   "execution_count": null,
   "metadata": {},
   "outputs": [],
   "source": [
    "data_df = cal_palm.drop_nans_from_columns(columns_to_drop_from=drop_list)\n",
    "display(data_df)"
   ]
  },
  {
   "cell_type": "markdown",
   "metadata": {},
   "source": [
    "**Drop Row Based on Value of Column**\n",
    "\n",
    "Define the column, condition, and value for dropping rows\n",
    "- column = 'your_column_name'\n",
    "- condition = 'above'  # Options: 'equal', 'above', 'below'"
   ]
  },
  {
   "cell_type": "code",
   "execution_count": null,
   "metadata": {},
   "outputs": [],
   "source": [
    "data_df.columns"
   ]
  },
  {
   "cell_type": "markdown",
   "metadata": {},
   "source": [
    "Set the parameters for dropping rows"
   ]
  },
  {
   "cell_type": "code",
   "execution_count": null,
   "metadata": {},
   "outputs": [],
   "source": [
    "column = 'City'  # The column you'd like to evaluate\n",
    "condition = 'equal'  # The condition to check ('equal', 'above', 'below')\n",
    "value = 'Boston'  # The value to compare against"
   ]
  },
  {
   "cell_type": "code",
   "execution_count": null,
   "metadata": {},
   "outputs": [],
   "source": [
    "data_df, dropped_df = cal_palm.drop_rows_based_on_value(column, condition, value)"
   ]
  },
  {
   "cell_type": "markdown",
   "metadata": {},
   "source": [
    "**Standardize Data**\n",
    "- Enter Columns you Don't want to standardize into a list"
   ]
  },
  {
   "cell_type": "code",
   "execution_count": null,
   "metadata": {},
   "outputs": [],
   "source": [
    "# Remove anything you don't want to standardize\n",
    "cols_not_to_standardize = None #['']"
   ]
  },
  {
   "cell_type": "code",
   "execution_count": null,
   "metadata": {},
   "outputs": [],
   "source": [
    "data_df = cal_palm.standardize_columns(cols_not_to_standardize)\n",
    "data_df"
   ]
  },
  {
   "cell_type": "markdown",
   "metadata": {},
   "source": [
    "# 02 - Define Your Formula\n",
    "\n",
    "This is the formula relating outcome to predictors, and takes the form:\n",
    "- y = B0 + B1 + B2 + B3 + . . . BN\n",
    "\n",
    "It is defined using the columns of your dataframe instead of the variables above:\n",
    "- 'Apples_Picked ~ hours_worked + owns_apple_picking_machine'\n",
    "\n",
    "____\n",
    "Use the printout below to design your formula. \n",
    "- Left of the \"~\" symbol is the thing to be predicted. \n",
    "- Right of the \"~\" symbol are the predictors. \n",
    "- \":\" indicates an interaction between two things. \n",
    "- \"*\" indicates and interactions AND it accounts for the simple effects too. \n",
    "- \"+\" indicates that you want to add another predictor. "
   ]
  },
  {
   "cell_type": "code",
   "execution_count": null,
   "metadata": {},
   "outputs": [],
   "source": [
    "data_df.columns"
   ]
  },
  {
   "cell_type": "code",
   "execution_count": null,
   "metadata": {},
   "outputs": [],
   "source": [
    "formula = \"Z_Scored_Percent_Cognitive_Improvement ~ Age*Z_Scored_Subiculum_Connectivity_T\""
   ]
  },
  {
   "cell_type": "markdown",
   "metadata": {},
   "source": [
    "# 03 - Visualize Your Design Matrix\n",
    "\n",
    "This is the explanatory variable half of your regression formula\n",
    "_______________________________________________________\n",
    "Create Design Matrix: Use the create_design_matrix method. You can provide a list of formula variables which correspond to column names in your dataframe.\n",
    "\n",
    "- design_matrix = palm.create_design_matrix(formula_vars=[\"var1\", \"var2\", \"var1*var2\"])\n",
    "- To include interaction terms, use * between variables, like \"var1*var2\".\n",
    "- By default, an intercept will be added unless you set intercept=False\n",
    "- **don't explicitly add the 'intercept' column. I'll do it for you.**"
   ]
  },
  {
   "cell_type": "code",
   "execution_count": null,
   "metadata": {},
   "outputs": [],
   "source": [
    "# Define the design matrix\n",
    "outcome_matrix, design_matrix = cal_palm.define_design_matrix(formula, data_df)\n",
    "design_matrix"
   ]
  },
  {
   "cell_type": "markdown",
   "metadata": {},
   "source": [
    "# 04 - Visualize Your Dependent Variable\n",
    "\n",
    "I have generated this for you based on the formula you provided"
   ]
  },
  {
   "cell_type": "code",
   "execution_count": null,
   "metadata": {},
   "outputs": [],
   "source": [
    "outcome_matrix"
   ]
  },
  {
   "cell_type": "markdown",
   "metadata": {},
   "source": [
    "# 05 - Define your Groups to Assess Between"
   ]
  },
  {
   "cell_type": "code",
   "execution_count": null,
   "metadata": {},
   "outputs": [],
   "source": [
    "data_df.columns"
   ]
  },
  {
   "cell_type": "code",
   "execution_count": null,
   "metadata": {},
   "outputs": [],
   "source": [
    "groups = 'City'"
   ]
  },
  {
   "cell_type": "markdown",
   "metadata": {},
   "source": [
    "# 06 - Are You Allowing Random Intercepts?\n",
    "- Set this to False if you do not want to do this. However, it is generally best to define a random intercept in a mixed effects model."
   ]
  },
  {
   "cell_type": "code",
   "execution_count": null,
   "metadata": {},
   "outputs": [],
   "source": [
    "random_intercepts = True"
   ]
  },
  {
   "cell_type": "markdown",
   "metadata": {},
   "source": [
    "# 07 - What Columns Would You Like to Perform Random Slopes On?\n",
    "- Set this to None if you would not like to set random slopes.\n",
    "- Set to a list of column names that you would like to test."
   ]
  },
  {
   "cell_type": "code",
   "execution_count": null,
   "metadata": {},
   "outputs": [],
   "source": [
    "design_matrix.columns"
   ]
  },
  {
   "cell_type": "code",
   "execution_count": null,
   "metadata": {},
   "outputs": [],
   "source": [
    "random_slopes = None"
   ]
  },
  {
   "cell_type": "markdown",
   "metadata": {},
   "source": [
    "# 07 - Run The Model"
   ]
  },
  {
   "cell_type": "code",
   "execution_count": null,
   "metadata": {},
   "outputs": [],
   "source": [
    "try:\n",
    "    print('Running original mixed effects model.')\n",
    "    result = cal_palm.run_mixed_effects_model(y=outcome_matrix, X=design_matrix, groups=groups, random_intercepts=random_intercepts, random_slopes=random_slopes)\n",
    "except:\n",
    "    import statsmodels.api as sm\n",
    "    import statsmodels.formula.api as smf\n",
    "    try:\n",
    "        print(f'Excepting and running with: \\n - random slopes for variable: {random_slopes} \\n - random intercepts for group: {groups}')\n",
    "        mixed_lm = smf.mixedlm(formula, data_df, groups=groups, re_formula = f\"~{random_slopes}\")\n",
    "        result = mixed_lm.fit(method=[\"lbfgs\"])\n",
    "    except:\n",
    "        print(f'Excepting and running with: \\n - no random slopes \\n - random intercepts for group: {groups}')\n",
    "        mixed_lm = smf.mixedlm(formula, data_df, groups=groups)\n",
    "        result = mixed_lm.fit()"
   ]
  },
  {
   "cell_type": "markdown",
   "metadata": {},
   "source": [
    "**Manual Mixed Effects**\n",
    "\n",
    "-ONLY RUN IF ABOVE FAILED\n",
    "\n",
    "- **Mixed Effects Formula Structure**\n",
    "- outcome ~ regressor_1 + regressor_2 + (1 + regressor_2 | group)\n",
    "    - the ( | ) statement is the random effects statement. \n",
    "    - 1 (random intercept) or 0 (fixed intercept) indicates the random intercept\n",
    "    - regressor_2 indicates the random slope for the regressor of interest. \n",
    "    - group is simply the group. So, this random effect is calculated | (per) group. \n",
    "\n",
    "Statsmodels Command Structure\n",
    "- formula is the string: \"outcome ~ regressor_1 + regressor_2\" from outcome ~ regressor_1 + regressor_2 + (1 + regressor_2 | group)\n",
    "- random intercepts is defined as \"groups=group\" from  outcome ~ regressor_1 + regressor_2 + (1 + regressor_2 | group)\n",
    "- random slopes is defined as \"re_formula=~regressor_2\"  outcome ~ regressor_1 + regressor_2 + (1 + regressor_2 | group)"
   ]
  },
  {
   "cell_type": "code",
   "execution_count": null,
   "metadata": {},
   "outputs": [],
   "source": [
    "backup_formula = \"Z_Scored_Percent_Cognitive_Improvement ~ Age*Z_Scored_Subiculum_Connectivity_T\""
   ]
  },
  {
   "cell_type": "code",
   "execution_count": null,
   "metadata": {},
   "outputs": [],
   "source": [
    "groups='City'"
   ]
  },
  {
   "cell_type": "markdown",
   "metadata": {},
   "source": [
    "Set to None if you would like to remove random slopes"
   ]
  },
  {
   "cell_type": "code",
   "execution_count": null,
   "metadata": {},
   "outputs": [],
   "source": [
    "re_formula=None"
   ]
  },
  {
   "cell_type": "code",
   "execution_count": null,
   "metadata": {},
   "outputs": [],
   "source": [
    "data_df"
   ]
  },
  {
   "cell_type": "code",
   "execution_count": null,
   "metadata": {},
   "outputs": [],
   "source": [
    "import statsmodels.formula.api as smf\n",
    "mixed_lm = smf.mixedlm(backup_formula, data_df, groups=data_df[groups], re_formula=re_formula)\n",
    "result = mixed_lm.fit()"
   ]
  },
  {
   "cell_type": "markdown",
   "metadata": {},
   "source": [
    "# 08 - View Results\n",
    "- If \"converged: No\" reported in below results, be extremely cautious in interpretation. \n",
    "    - I would suggest simplifying until you achieve convergence. "
   ]
  },
  {
   "cell_type": "code",
   "execution_count": null,
   "metadata": {},
   "outputs": [],
   "source": [
    "print(result.summary())"
   ]
  },
  {
   "cell_type": "markdown",
   "metadata": {},
   "source": [
    "# plot Random Effects"
   ]
  },
  {
   "cell_type": "code",
   "execution_count": null,
   "metadata": {},
   "outputs": [],
   "source": [
    "for k, v in result.random_effects.items():\n",
    "    print(k)\n",
    "    print(v)"
   ]
  },
  {
   "cell_type": "markdown",
   "metadata": {},
   "source": [
    "Select one of the random effects above to plot. "
   ]
  },
  {
   "cell_type": "code",
   "execution_count": null,
   "metadata": {},
   "outputs": [],
   "source": [
    "effect_to_plot='Age:Z_Scored_Subiculum_Connectivity_T'"
   ]
  },
  {
   "cell_type": "code",
   "execution_count": null,
   "metadata": {},
   "outputs": [],
   "source": [
    "import matplotlib.pyplot as plt\n",
    "import seaborn as sns\n",
    "\n",
    "# Create an empty list to store interaction effects\n",
    "interaction_effects = []\n",
    "\n",
    "# Loop through the groups and extract interaction effects\n",
    "for group, effects in result.random_effects.items():\n",
    "    interaction_effect = effects[effect_to_plot]\n",
    "    interaction_effects.append(interaction_effect)\n",
    "\n",
    "# Create a boxplot with groups side-by-side\n",
    "plt.figure(figsize=(10, 6))\n",
    "sns.boxplot(x=list(result.random_effects.keys()), y=interaction_effects)\n",
    "\n",
    "plt.xlabel('Group')\n",
    "plt.ylabel(f'Random Effect: {effect_to_plot}')\n",
    "plt.title('Distribution of Random Effects by Group')\n",
    "\n",
    "plt.xticks(rotation=45)\n",
    "plt.show()\n",
    "\n"
   ]
  },
  {
   "cell_type": "markdown",
   "metadata": {},
   "source": [
    "More"
   ]
  },
  {
   "cell_type": "code",
   "execution_count": null,
   "metadata": {},
   "outputs": [],
   "source": [
    "import matplotlib.pyplot as plt\n",
    "import seaborn as sns\n",
    "import pandas as pd\n",
    "\n",
    "# Assuming 'result' is the output from your mixedlm fit\n",
    "model_result = result  # Use your model fit result\n",
    "\n",
    "# 1. Fixed Effects Coefficients Plot\n",
    "fe_params = model_result.params\n",
    "conf_int = model_result.conf_int()\n",
    "errors = conf_int[1] - fe_params\n",
    "\n",
    "plt.errorbar(fe_params.index, fe_params, yerr=errors, fmt='o')\n",
    "plt.axhline(0, color='black', linestyle='--')\n",
    "plt.title('Fixed Effects Coefficients')\n",
    "plt.xticks(rotation=45)\n",
    "plt.show()\n",
    "\n",
    "# 2. Random Effects Plot\n",
    "# This example assumes one random intercept per group\n",
    "re_params = pd.DataFrame([dict(re) for re in model_result.random_effects.values()])\n",
    "re_params['group'] = model_result.random_effects.keys()\n",
    "\n",
    "sns.stripplot(x='group', y='Intercept', data=re_params)\n",
    "plt.title('Random Intercepts per Group')\n",
    "plt.xticks(rotation=45)\n",
    "plt.show()\n"
   ]
  },
  {
   "cell_type": "markdown",
   "metadata": {},
   "source": [
    "# Generate a Profile Plot\n",
    "- This is a plot which generates an estimated marginal mean across a set number of categories/factors\n",
    "- The `marginal_scenarios_dict` should be carefully set up to include all predictors you wish to analyze. \n",
    "          Continuous variables should have the value 'continuous', and categorical variables should list all categories \n",
    "          you wish to iterate over.\n",
    "\n",
    "note: i suspect the profile plot is struggling with mixed effect smodels as it is not setting the random effects appropriately. "
   ]
  },
  {
   "cell_type": "code",
   "execution_count": null,
   "metadata": {},
   "outputs": [],
   "source": [
    "marginal_scenarios_dict = {'City': ['Wurzburg', 'Toronto', 'Queensland'], 'Age': [47, 83], 'Z_Scored_Subiculum_Connectivity_T':['continuous']}"
   ]
  },
  {
   "cell_type": "code",
   "execution_count": null,
   "metadata": {},
   "outputs": [],
   "source": [
    "formula"
   ]
  },
  {
   "cell_type": "code",
   "execution_count": null,
   "metadata": {},
   "outputs": [],
   "source": [
    "from calvin_utils.statistical_utils.statistical_measurements import ProfilePlot\n",
    "factor_plot = ProfilePlot(formula, data_df, model=result, data_range=(-3, 3), marginal_scenarios_dict=marginal_scenarios_dict, marginal_method='mean' )\n",
    "factor_plot.run()\n"
   ]
  },
  {
   "cell_type": "markdown",
   "metadata": {},
   "source": [
    "# Run it in R\n",
    "- Rpy2 is a mess. So just use R Studio's lmer package, plot with ggplot, and emmeans for the analysis"
   ]
  },
  {
   "cell_type": "code",
   "execution_count": null,
   "metadata": {},
   "outputs": [],
   "source": [
    "import rpy2\n",
    "import rpy2.robjects as robjects\n"
   ]
  },
  {
   "cell_type": "code",
   "execution_count": null,
   "metadata": {},
   "outputs": [],
   "source": [
    "import rpy2.robjects.packages as rpackages\n",
    "\n",
    "# Utility function to check for and install R packages\n",
    "def install_r_packages(package_names):\n",
    "    utils = rpackages.importr('utils')\n",
    "    for package in package_names:\n",
    "        if not rpackages.isinstalled(package):\n",
    "            utils.install_packages(package)\n",
    "\n",
    "# Install R packages required for your analysis\n",
    "# install_r_packages(['lme4', 'emmeans', 'ggplot2'])\n",
    "install_r_packages(['lazyeval'])\n",
    "\n"
   ]
  },
  {
   "cell_type": "code",
   "execution_count": null,
   "metadata": {},
   "outputs": [],
   "source": [
    "import rpy2.robjects as ro\n",
    "# Define and execute the R command to get the version string\n",
    "ro.r('''\n",
    "R_version <- R.version.string\n",
    "''')\n",
    "\n",
    "# Retrieve the version string from R's global environment and print it\n",
    "R_version = ro.r['R_version'][0]\n",
    "print(f\"The R version used by rpy2 is: {R_version}\")\n"
   ]
  },
  {
   "cell_type": "code",
   "execution_count": null,
   "metadata": {},
   "outputs": [],
   "source": [
    "from rpy2.robjects import pandas2ri\n",
    "# Convert the DataFrame to an R dataframe\n",
    "pandas2ri.activate()\n",
    "r_dataframe = pandas2ri.py2rpy(data_df)\n",
    "ro.r.assign('r_df', r_dataframe)"
   ]
  },
  {
   "cell_type": "code",
   "execution_count": null,
   "metadata": {},
   "outputs": [],
   "source": [
    "# Define and fit the model in R\n",
    "import rpy2.robjects as ro\n",
    "\n",
    "# Set the CRAN repository to ensure you're getting the packages from CRAN\n",
    "ro.r('''\n",
    "options(repos = \"https://cran.r-project.org/\")\n",
    "''')\n",
    "\n",
    "# Reinstall 'Matrix' from sources. This step ensures you have the latest version compatible with your R setup.\n",
    "ro.r('''\n",
    "install.packages(\"Matrix\", type = \"source\")\n",
    "''')\n",
    "\n",
    "# Reinstall 'lme4' from sources. This is crucial since 'lme4' depends on 'Matrix' and must be compatible with its ABI.\n",
    "ro.r('''\n",
    "install.packages(\"lme4\", type = \"source\")\n",
    "''')\n",
    "\n",
    "print(\"Reinstallation of 'Matrix' and 'lme4' from source completed.\")\n",
    "\n",
    "ro.r('''\n",
    "model <- lmer(Z_Scored_Percent_Cognitive_Improvement ~ Age * Z_Scored_Subiculum_Connectivity_T + (1|City), data = r_df)\n",
    "''')\n"
   ]
  },
  {
   "cell_type": "code",
   "execution_count": null,
   "metadata": {},
   "outputs": [],
   "source": [
    "import rpy2.robjects.lib.ggplot2 as ggplot2\n",
    "gp = ggplot2.ggplot(mtcars)\n"
   ]
  },
  {
   "cell_type": "code",
   "execution_count": null,
   "metadata": {},
   "outputs": [],
   "source": [
    "import rpy2.robjects as ro\n",
    "from rpy2.robjects.packages import importr\n",
    "import rpy2.robjects.lib.ggplot2 as ggplot2\n",
    "\n",
    "# Activate automatic conversion of pandas objects to R data.frames\n",
    "\n",
    "# Import R packages\n",
    "utils = importr('utils')\n",
    "base = importr('base')\n",
    "\n",
    "# Install R packages (if not already installed)\n",
    "# utils.install_packages('lme4')\n",
    "utils.install_packages('emmeans')\n",
    "# utils.install_packages('ggplot2')\n",
    "# utils.install_packages('lazyeval')\n",
    "\n",
    "# Import R packages\n",
    "lme4 = importr('lme4')\n",
    "emmeans = importr('emmeans')\n",
    "# ggplot2 = importr('ggplot2')\n",
    "\n",
    "# Load your DataFrame here\n",
    "# df = your_dataframe\n",
    "\n",
    "\n",
    "\n",
    "\n",
    "# Calculate EMMs using the 'emmeans' package\n",
    "ro.r('''\n",
    "emm_res <- emmeans(model, specs = ~ category * category2)\n",
    "''')\n",
    "\n",
    "# Plot the EMMs using 'ggplot2'\n",
    "ro.r('''\n",
    "plot <- plot(emm_res) + ggtitle(\"Estimated Marginal Means with CI\") + theme_minimal()\n",
    "print(plot)\n",
    "''')\n"
   ]
  },
  {
   "cell_type": "code",
   "execution_count": null,
   "metadata": {},
   "outputs": [],
   "source": [
    "# Calculate EMMs using the 'emmeans' package\n",
    "ro.r('''\n",
    "emm_res <- emmeans(model, specs = pairwise ~ Age * Z_Scored_Subiculum_Connectivity_T)\n",
    "''')\n",
    "\n",
    "# Plot the EMMs using 'ggplot2'\n",
    "ro.r('''\n",
    "plot <- plot(emm_res) + ggtitle(\"Estimated Marginal Means with CI\") + theme_minimal()\n",
    "print(plot)\n",
    "''')\n"
   ]
  },
  {
   "cell_type": "code",
   "execution_count": null,
   "metadata": {},
   "outputs": [],
   "source": [
    "data_df.columns"
   ]
  },
  {
   "cell_type": "code",
   "execution_count": null,
   "metadata": {},
   "outputs": [],
   "source": [
    "data_df['test'].isna().sum()"
   ]
  },
  {
   "cell_type": "code",
   "execution_count": null,
   "metadata": {},
   "outputs": [],
   "source": [
    "import pingouin as pg\n",
    "\n",
    "pg.mixed_anova(data=data_df, dv='Z_Scored_Percent_Cognitive_Improvement', between='Age_Disease_and_Cohort', within='Subiculum_Group_By_Inflection_Point', subject='test')"
   ]
  },
  {
   "cell_type": "code",
   "execution_count": null,
   "metadata": {},
   "outputs": [],
   "source": []
  }
 ],
 "metadata": {
  "kernelspec": {
   "display_name": "nimlab_py310",
   "language": "python",
   "name": "python3"
  },
  "language_info": {
   "codemirror_mode": {
    "name": "ipython",
    "version": 3
   },
   "file_extension": ".py",
   "mimetype": "text/x-python",
   "name": "python",
   "nbconvert_exporter": "python",
   "pygments_lexer": "ipython3",
   "version": "3.10.8"
  }
 },
 "nbformat": 4,
 "nbformat_minor": 4
}
