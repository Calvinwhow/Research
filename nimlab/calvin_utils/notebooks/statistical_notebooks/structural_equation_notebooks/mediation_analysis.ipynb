{
 "cells": [
  {
   "attachments": {},
   "cell_type": "markdown",
   "metadata": {},
   "source": [
    "# Mediation, Moderation, and Conditional Process Analyses"
   ]
  },
  {
   "attachments": {},
   "cell_type": "markdown",
   "metadata": {},
   "source": [
    "Mediation and moderation are two distinct concepts in statistics that help in understanding the relationships among three or more variables. Mediation deals with explaining the underlying process through which an independent variable (X) influences a dependent variable (Y). Moderation, on the other hand, addresses how the relationship between X and Y changes based on the level of a third variable, known as the moderator (W).\n",
    "\n",
    "**Mediation Analysis**:\n",
    "\n",
    "In mediation analysis, we are interested in whether the relationship between X and Y is explained (or mediated) through another variable, called the mediator (M).\n",
    "\n",
    "- **Path a**: The independent variable (X) affects the mediator (M). This is the \"a\" path.\n",
    "- **Path b**: The mediator (M) affects the dependent variable (Y). This is the \"b\" path.\n",
    "- **Path c'**: There might also be a direct effect of X on Y that doesn't go through the mediator. This is the \"c'\" path or direct effect.\n",
    "\n",
    "```\n",
    "X ---(a)---> M ---(b)---> Y\n",
    " \\                        /\n",
    "  ---------(c')----------\n",
    "```\n",
    "\n",
    "The indirect effect is a*b, which is the portion of the effect of X on Y that is transmitted through the mediator M. The total effect of X on Y is the sum of the indirect effect and the direct effect (c').\n",
    "\n",
    "**Moderated Mediation Analysis**:\n",
    "\n",
    "Moderated mediation incorporates the idea that the mediation process itself can be contingent upon the levels of another variable (W), known as the moderator. In other words, the indirect effect of X on Y through M may change depending on the level of W.\n",
    "\n",
    "```\n",
    "X ---(a)---> M ---(b)---> Y\n",
    "|            | \n",
    "|------(W)---|\n",
    " \\                        /\n",
    "  ---------(c')----------\n",
    "```\n",
    "\n",
    "**Interpreting the Results**:\n",
    "\n",
    "In the results of a moderated mediation analysis, you'll encounter several terms:\n",
    "\n",
    "- ACME (control/treated): Average Causal Mediation Effects. This represents the average effect of the independent variable on the dependent variable through the mediator.\n",
    "- ADE (control/treated): Average Direct Effects. This represents the average direct effect of the independent variable on the dependent variable not through the mediator.\n",
    "- Total effect: Sum of ACME and ADE, representing the total effect of the independent variable on the dependent variable.\n",
    "- Prop. mediated (control/treated): Proportion of the total effect that is mediated by the mediator.\n",
    "- The 'control' and 'treated' distinction in ACME and ADE accounts for possible treatment or intervention that could affect the mediation. If there's no treatment/intervention involved, they will be the same.\n",
    "- Lower CI bound and Upper CI bound represent the lower and upper bounds of the confidence interval for the estimates.\n",
    "- P-value: Indicates the statistical significance of the estimates. A lower p-value (<0.05) typically indicates a statistically significant effect.\n",
    "\n",
    "- Control: baseline regression without effect of the mediator\n",
    "- Treatment: mediated regression wherein the mediator is accounted for\n",
    " \n",
    "\n",
    "**Identifying Partial Mediations**:\n",
    "\n",
    "In partial mediation, the mediator explains some, but not all, of the relationship between the independent variable (exposure) and the dependent variable (outcome). Here's how you can identify partial mediation:\n",
    "\n",
    "Significant Direct Effect (ADE): In partial mediation, the direct effect of the independent variable on the dependent variable remains significant even after accounting for the mediator. This means that there is still a direct path from the independent variable to the dependent variable that is not explained by the mediator.\n",
    "\n",
    "Significant Indirect Effect (ACME): The indirect effect through the mediator must also be significant. This means that the mediator is explaining part of the relationship between the independent variable and the dependent variable.\n",
    "\n",
    "Total Effect > Direct Effect: The total effect of the independent variable on the dependent variable (before the mediator is added to the model) is generally greater than the direct effect (after accounting for the mediator). This shows that the mediator is explaining some portion of the effect.\n",
    "\n",
    "In the results you usually get from mediation analysis, check for the following:\n",
    "\n",
    "ADE (average direct effect) should be significant.\n",
    "ACME (average causal mediation effect) should be significant.\n",
    "The total effect should be greater than the direct effect, indicating that some portion of the effect is being accounted for by the mediator.\n",
    "In summary, partial mediation is present when both the direct and indirect paths are significant, but the inclusion of the mediator in the model reduces the direct effect of the independent variable on the dependent variable (without rendering it non-significant).\n",
    "\n",
    "**Identifying a Mediated Exposure**:\n",
    "\n",
    "If the exposure was being mediated, you would expect to see:\n",
    "\n",
    "A significant ACME (Average Causal Mediation Effect) - This indicates that the mediator is having a significant effect in the relationship between the exposure and the outcome.\n",
    "\n",
    "A significant proportion mediated - This tells you the proportion of the total effect that is mediated. If this is significant, it implies that a noteworthy part of the relationship between the exposure and the outcome is occurring through the mediator.\n",
    "\n",
    "Also, keep in mind that the proportion mediated can be positive or negative, and this would indicate whether the mediator is increasing or decreasing the effect of the exposure on the outcome."
   ]
  },
  {
   "cell_type": "code",
   "execution_count": null,
   "metadata": {},
   "outputs": [],
   "source": [
    "#Imports\n",
    "import os\n",
    "import glob as glob\n",
    "from pathlib import Path\n",
    "\n",
    "from sklearn.model_selection import train_test_split\n",
    "from sklearn.linear_model import LinearRegression\n",
    "from sklearn.metrics import mean_squared_error, mean_absolute_error\n",
    "\n",
    "import numpy as np\n",
    "np.set_printoptions(precision=3, suppress=True)\n",
    "import pandas as pd\n",
    "\n",
    "from matplotlib import pyplot as plt\n",
    "import seaborn as sns\n",
    "#Calculate Correlation\n",
    "from scipy.stats import pearsonr\n",
    "import os\n",
    "import glob\n",
    "import pandas as pd\n",
    "import numpy as np\n",
    "from matplotlib import pyplot as plt\n",
    "import platform"
   ]
  },
  {
   "cell_type": "code",
   "execution_count": null,
   "metadata": {},
   "outputs": [],
   "source": [
    "analysis = 'mediated_moderation_analysis'\n",
    "data_path = r'/Users/cu135/Dropbox (Partners HealthCare)/resources/datasets/BIDS_AD_DBS_FORNIX/clinical_analyses/ses-01/sub-all/all_data/all_metadata_spreadsheet.csv'\n",
    "out_dir = os.path.join(data_path.split('.')[0], f'{analysis}')\n",
    "\n",
    "save = True\n",
    "if os.path.exists(out_dir):\n",
    "    pass\n",
    "else:\n",
    "    os.makedirs(out_dir)"
   ]
  },
  {
   "cell_type": "code",
   "execution_count": null,
   "metadata": {},
   "outputs": [],
   "source": [
    "#----------------------------------------------------------------user input above----------------------------------------------------------------\n",
    "from calvin_utils.file_utils.dataframe_utilities import preprocess_colnames_for_regression\n",
    "data_df = preprocess_colnames_for_regression(pd.read_csv(data_path))\n",
    "data_df.head(1)"
   ]
  },
  {
   "attachments": {},
   "cell_type": "markdown",
   "metadata": {},
   "source": [
    "Data Cleaning"
   ]
  },
  {
   "cell_type": "code",
   "execution_count": null,
   "metadata": {},
   "outputs": [],
   "source": [
    "#Select specific subgroup\n",
    "# outlier_index = (data_df['percent_change_adascog11'] <= -50)\n",
    "# data_df = data_df.loc[outlier_index, :]\n",
    "\n",
    "#Remove outlier\n",
    "outlier_index=[11, 47, 48, 49]\n",
    "data_df = data_df.drop(index=outlier_index)\n",
    "data_df.reset_index(drop=True, inplace=True)\n",
    "\n",
    "data_df.head(2)"
   ]
  },
  {
   "cell_type": "code",
   "execution_count": null,
   "metadata": {},
   "outputs": [],
   "source": [
    "\n",
    "#Rename the outcome variable\n",
    "outcome_variable = data_df.pop('%_Change_from_baseline_(ADAS_Cog11)')\n",
    "data_df['outcome'] = outcome_variable"
   ]
  },
  {
   "cell_type": "code",
   "execution_count": null,
   "metadata": {},
   "outputs": [],
   "source": [
    "#Standardize the data\n",
    "preserved_df = data_df.copy()\n",
    "from sklearn.preprocessing import StandardScaler\n",
    "\n",
    "\n",
    "# Remove anything you don't want to standardize\n",
    "cols_not_to_standardize = ['Patient_#_CDR,_ADAS', 'Disease']\n",
    "# Select the columns to be standardized\n",
    "if cols_not_to_standardize[0] is not None:\n",
    "    cols_to_standardize = [col for col in data_df.columns if col not in cols_not_to_standardize]\n",
    "else:\n",
    "    print('Will not standardize')\n",
    "# Standardize\n",
    "scaler = StandardScaler()\n",
    "data_df[cols_to_standardize] = scaler.fit_transform(data_df[cols_to_standardize])\n",
    "\n",
    "\n",
    "\n",
    "\n",
    "#Drop NAN\n",
    "# data_df = data_df.dropna()\n",
    "data_df"
   ]
  },
  {
   "cell_type": "code",
   "execution_count": null,
   "metadata": {},
   "outputs": [],
   "source": [
    "# One-hot encode as needed\n",
    "# data_df['interaction'] = data_df['Subiculum_Grey_Matter']*data_df['Subiculum_Connectivity']\n",
    "data_df['Disease'] = np.where(data_df['Disease'] == 'Alzheimer', 1, 0)\n",
    "# data_df['Age'] = np.where(data_df['Age'] <= 65, 0, 1)\n",
    "\n",
    "data_df"
   ]
  },
  {
   "attachments": {},
   "cell_type": "markdown",
   "metadata": {},
   "source": [
    "Select Specific Rows"
   ]
  },
  {
   "cell_type": "code",
   "execution_count": null,
   "metadata": {},
   "outputs": [],
   "source": [
    "#Drop a specific set of rows\n",
    "# data_df = data_df[data_df['Age'] > 65]\n",
    "data_df = data_df[data_df['Disease'] == 1]\n",
    "data_df"
   ]
  },
  {
   "attachments": {},
   "cell_type": "markdown",
   "metadata": {},
   "source": [
    "Select Specific Columns"
   ]
  },
  {
   "cell_type": "code",
   "execution_count": null,
   "metadata": {},
   "outputs": [],
   "source": [
    "print(data_df.columns)\n"
   ]
  },
  {
   "cell_type": "code",
   "execution_count": null,
   "metadata": {},
   "outputs": [],
   "source": [
    "# Tailor the Dataframe\n",
    "# data_df = data_df.loc[:, ['Age', 'Mesial_Temporal_Grade', 'Frontal', 'Temporal',\n",
    "#        'Parietal', 'Occipital', 'Cerebellar', 'Subiculum_Connectivity',\n",
    "#        'Hippocampal_CSF', 'Hippocampal_Grey_Matter',\n",
    "#        'Hippocampal_White_Matter', 'outcome']]\n",
    "data_df"
   ]
  },
  {
   "attachments": {},
   "cell_type": "markdown",
   "metadata": {},
   "source": [
    "Single Variable Mediation Analysis\n",
    "\n",
    "Model Shape:\n",
    "```\n",
    " Age ---(an)---> Atrophy Region n ---(bn)---> Outcome\n",
    "  \\                                          /\n",
    "   -------------------(c')-------------------\n",
    "```\n",
    "\n",
    "Description\n",
    "- This uses partial regressions to essentially (explain in a reductive manner) to what degree an independent variable's relationship with a dependent variable can be replaced by a 'mediator variable'. \n",
    "- Said another way, how much is the effect of x upon y mediated by z?"
   ]
  },
  {
   "cell_type": "code",
   "execution_count": null,
   "metadata": {},
   "outputs": [],
   "source": [
    "import pandas as pd\n",
    "import statsmodels.api as sm\n",
    "from statsmodels.genmod.generalized_linear_model import GLM\n",
    "from statsmodels.genmod.families import Gaussian\n",
    "from statsmodels.stats.mediation import Mediation\n",
    "\n",
    "def perform_mediation_analysis(dataframe, exposure, mediator, dependent_variable):\n",
    "    # Step 1: Fit the mediator model\n",
    "    # Mediator ~ Independent Variable\n",
    "    mediator_model = GLM.from_formula(f\"{mediator} ~ {exposure}\", data=dataframe, family=Gaussian())\n",
    "    \n",
    "    # Step 2: Fit the outcome model\n",
    "    # Dependent Variable ~ Independent Variable + Mediator\n",
    "    outcome_model = GLM.from_formula(f\"{dependent_variable} ~ {exposure} + {mediator}\", data=dataframe, family=Gaussian())\n",
    "    \n",
    "    # Step 3: Perform mediation analysis\n",
    "    med = Mediation(outcome_model, mediator_model, exposure=exposure, mediator=mediator)\n",
    "    try:\n",
    "        med_result = med.fit()\n",
    "        # Step 4: Print the results\n",
    "        print(f'Mediation of {exposure} by {mediator}:')\n",
    "        print(med_result.summary())\n",
    "    except:\n",
    "        print(f\"Mediation failed, perfect separation detected. Aborting assessment of {mediator}.\")\n",
    "\n",
    "# Example usage:\n",
    "# Assuming your DataFrame is named df, and the columns of interest are 'age', 'brain_atrophy', and 'dependent_variable'\n",
    "# perform_mediation_analysis(data_df, \n",
    "                        #    exposure = 'age', \n",
    "                        #    mediator = 'brain_atrophy', \n",
    "                        #    dependent_variable='dependent_variable')\n"
   ]
  },
  {
   "cell_type": "code",
   "execution_count": null,
   "metadata": {},
   "outputs": [],
   "source": [
    "data_df.columns"
   ]
  },
  {
   "cell_type": "code",
   "execution_count": null,
   "metadata": {},
   "outputs": [],
   "source": [
    "perform_mediation_analysis(data_df, \n",
    "                           exposure = 'Age', \n",
    "                           mediator = 'Hippocampus', \n",
    "                           dependent_variable='outcome')"
   ]
  },
  {
   "cell_type": "markdown",
   "metadata": {},
   "source": [
    "Run the above code on an entire spreadsheet"
   ]
  },
  {
   "cell_type": "code",
   "execution_count": null,
   "metadata": {},
   "outputs": [],
   "source": [
    "[perform_mediation_analysis(data_df, exposure='Age', mediator=f'{col}', dependent_variable='outcome') for col in data_df.columns]"
   ]
  },
  {
   "attachments": {},
   "cell_type": "markdown",
   "metadata": {},
   "source": [
    "__________\n",
    "**Multivariate Mediation Analysis (Independent)**\n",
    "\n",
    "**NOTE**\n",
    "This is not a proper 'multivariate mediation analysis'.\n",
    "It does something slightly different: it performs individual mediation analyses for each mediator, while controlling for the exposure. This is different from assessing the conglomerate mediation effect of all mediators acting in unison.\n",
    "\n",
    "\n",
    "To investigate whether the effect of an independent variable on an outcome variable is fully mediated through multiple variables (e.g., atrophy in different brain regions), you would want to conduct a multiple mediator analysis.\n",
    "\n",
    "In a multiple mediator analysis, you examine the indirect effects of an independent variable (in this case, age) on a dependent variable through several mediators simultaneously. This allows you to estimate the portion of the effect of the independent variable that is transmitted through each mediator and whether, when taken together, these mediators account for the entirety of the effect.\n",
    "\n",
    "In your case, the different atrophy regions will serve as multiple mediators. Here’s how this might look diagrammatically:\n",
    "\n",
    "```\n",
    " Age ---(a1)---> Atrophy Region 1 ---(b1)---> Outcome\n",
    "  |           |\n",
    " Age ---(a2)---> Atrophy Region 2 ---(b2)---> Outcome\n",
    "  |           |\n",
    "   ...       ...\n",
    " Age ---(an)---> Atrophy Region n ---(bn)---> Outcome\n",
    "  \\                                          /\n",
    "   -------------------(c')-------------------\n",
    "```\n",
    "\n",
    "In this example, each atrophy region (1 through n) is a mediator. The indirect effect of age on the outcome through each atrophy region is a_i * b_i, and the total indirect effect is the sum of all these individual indirect effects. If this total indirect effect is significant and accounts for most of the effect of age on the outcome, and the direct effect (c') is non-significant, it indicates full mediation.\n",
    "\n",
    "You can perform multiple mediator analysis using the same statistical tools you use for single mediator analysis, but you will need to include multiple mediators in your model. This can be done using statistical software such as R, SAS, or Python's statsmodels. I have implemented this below using statsmodels.\n",
    "\n",
    "Here's how the mediation model is constructed in conceptual terms:\n",
    "\n",
    "1. Fit a model for each mediator (Atrophy Region 1, Atrophy Region 2, ..., Atrophy Region n) as a function of the independent variable, Age.\n",
    "2. Fit a model for the outcome as a function of Age and all atrophy regions.\n",
    "3. Estimate the indirect effect of Age on the outcome through each atrophy region and sum them to get the total indirect effect.\n",
    "4. Compare the total indirect effect to the total effect of Age on the outcome to determine the proportion mediated.\n",
    "\n",
    "By performing this analysis, you can ascertain whether the combined atrophy in different regions fully mediates the effect of age on the outcome variable. If you also have a moderation effect to consider (such as subiculum connectivity), this would be a moderated multiple mediation analysis. In this case, the indirect effects and the direct effect may change at different levels of the moderator.\n",
    "\n",
    "I have generated code which will run mutliple mediation analyses independently, but will therefor not be able to tell you how they sum to contribute to the proportion of the independent variable mediated by them. this is perform_individual_multiple_mediator_analysis. Python does not have a combined multiple mediator analysis supported, so I have developed one. It is perform_combined_multiple_mediator_analysis. Please use with caution. "
   ]
  },
  {
   "cell_type": "code",
   "execution_count": null,
   "metadata": {},
   "outputs": [],
   "source": [
    "import pandas as pd\n",
    "import statsmodels.api as sm\n",
    "from statsmodels.genmod.generalized_linear_model import GLM\n",
    "from statsmodels.genmod.families import Gaussian\n",
    "from statsmodels.stats.mediation import Mediation\n",
    "\n",
    "def perform_individual_multiple_mediator_analysis(dataframe, exposure, mediator_list, outcome):\n",
    "    # Check if mediator_cols is a list, if not, convert it to a list\n",
    "    if not isinstance(mediator_list, list):\n",
    "        mediator_list = [mediator_list]\n",
    "    \n",
    "    # Convert mediator columns into formula expression\n",
    "    mediator_expression = ' + '.join(mediator_list)\n",
    "    \n",
    "    # Step 1: Fit the mediator models\n",
    "    # Mediators ~ Independent Variable\n",
    "    mediator_models = [GLM.from_formula(f\"{mediator} ~ {exposure}\", data=dataframe, family=Gaussian()) for mediator in mediator_list]\n",
    "    \n",
    "    # Step 2: Fit the outcome model\n",
    "    # Dependent Variable ~ Independent Variable + Mediators\n",
    "    outcome_model = GLM.from_formula(f\"{outcome} ~ {exposure} + {mediator_expression}\", data=dataframe, family=Gaussian())\n",
    "    \n",
    "    # Step 3: Perform mediation analysis for each mediator\n",
    "    for mediator, mediator_model in zip(mediator_list, mediator_models):\n",
    "        med = Mediation(outcome_model, mediator_model, exposure=exposure, mediator=mediator)\n",
    "        med_result = med.fit()\n",
    "        \n",
    "        # Step 4: Print the results for each mediator\n",
    "        print(f\"Mediation analysis for mediator: {mediator}\")\n",
    "        print(med_result.summary())\n",
    "        print(\"\\n\")"
   ]
  },
  {
   "cell_type": "code",
   "execution_count": null,
   "metadata": {},
   "outputs": [],
   "source": [
    "data_df.columns"
   ]
  },
  {
   "cell_type": "code",
   "execution_count": null,
   "metadata": {},
   "outputs": [],
   "source": [
    "perform_individual_multiple_mediator_analysis(data_df, \n",
    "                                   exposure='Age', \n",
    "                                   mediator_list=['Hippocampus', 'Cerebellum', 'Frontal', 'Parietal',\n",
    "       'Temporal', 'Occipital'], \n",
    "                                   outcome='outcome')"
   ]
  },
  {
   "attachments": {},
   "cell_type": "markdown",
   "metadata": {},
   "source": [
    "_____\n",
    "**Multivariate Mediation Analysis**\n",
    "Based on Preacher and Hayes 2008, Asymptotic Asymptotic and resampling strategies for assessing and comparing indirect effects in multiple mediator models\n",
    "\n",
    "**NOTE**: This is a proper multivariate mediation analysis\n",
    "\n",
    "Model Explanation:\n",
    "In a multiple mediation analysis, you are interested in investigating the indirect effects of an independent variable (exposure) on a dependent variable (outcome) through more than one mediator simultaneously. You are also interested in the direct effect of the independent variable on the dependent variable, controlling for the mediators. This analysis helps in understanding how different mediators may carry the influence of an independent variable to a dependent variable.\n",
    "\n",
    "Model Form:\n",
    "```\n",
    "Independent Variable (IV) -----(c')------> Dependent Variable (DV)\n",
    "    |        |        |                       ^      ^         ^\n",
    "    |        |        | (a1)                  |      |         |\n",
    "    |        |        v                       |      |         |\n",
    "    |        |        Mediator 1 --(b1)-------|      |         |\n",
    "    |        |                                       |         |\n",
    "    |        | (a2)                                  |         |\n",
    "    |        v                                       |         |\n",
    "    |    Mediator 2 --------(b2)---------------------|         |\n",
    "    |                                                          |\n",
    "    ...                                                        |\n",
    "    |                                                          |\n",
    "    | (ak)                                                     |\n",
    "    v                                                          |\n",
    "Mediator k --------(bk)----------------------------------------|\n",
    "```\n",
    "In this diagram:\n",
    "\n",
    "IV represents the independent variable.\n",
    "Mediator 1, Mediator 2, ..., Mediator k represent the k mediators in the model.\n",
    "DV represents the dependent variable.\n",
    "The path labeled a1 represents the effect of the IV on Mediator 1. Similarly, a2 represents the effect of the IV on Mediator 2, and so on.\n",
    "The path labeled b1 represents the effect of Mediator 1 on the DV, controlling for other mediators and the IV. Similarly, b2 represents the effect of Mediator 2 on the DV, controlling for other mediators and the IV, and so on.\n",
    "The path labeled c' represents the direct effect of the IV on the DV, controlling for all the mediators.\n",
    "\n",
    "**Technical Notes**\n",
    "\n",
    "This is not formally implemented in Python as well as in R, so this is Calvin's custom code. Use with care.\n",
    "This is a more 'true' multivariate mediation analysis than the one above"
   ]
  },
  {
   "attachments": {},
   "cell_type": "markdown",
   "metadata": {},
   "source": [
    "**Technical Explanation**\n",
    "The perform_multiple_mediation_analysis function is designed to perform a multiple mediation analysis to estimate the joint indirect effects of an exposure variable through multiple mediators on a dependent variable. This is achieved through the use of bootstrapping.\n",
    "\n",
    "Bootstrapping is a statistical technique where resampling of the dataset is done with replacement to estimate the sampling distribution of a statistic. In the case of multiple mediation analysis, it's used to estimate the joint indirect effects of mediators.\n",
    "\n",
    "In the function, for each bootstrap sample, the dataset is resampled with replacement. For each mediator, a simple linear regression is performed to estimate the path from the exposure variable to the mediator, denoted as 'a' paths. The product of these 'a' paths is computed, as this represents the joint effect of the exposure on all the mediators.\n",
    "\n",
    "Next, a multiple regression is performed with the dependent variable as the response, and the mediators and exposure as predictors. The coefficients for the mediators represent the effect of the mediators on the dependent variable, controlling for the exposure, denoted as 'b' paths. The sum of these 'b' paths is computed.\n",
    "\n",
    "The indirect effect for the bootstrap sample is then calculated as the product of the 'a' paths and the 'b' path sum. This process is repeated for a specified number of bootstrap samples (default is 5000), and the mean indirect effect is calculated from these bootstrap samples.\n",
    "\n",
    "Finally, the function prints the mean indirect effect and its 95% confidence interval, which is estimated using the 2.5th and 97.5th percentiles of the bootstrap indirect effects.\n",
    "\n",
    "This approach provides an approximate estimate of the joint indirect effect through multiple mediators and allows for the calculation of confidence intervals around this effect."
   ]
  },
  {
   "cell_type": "code",
   "execution_count": null,
   "metadata": {},
   "outputs": [],
   "source": [
    "import numpy as np\n",
    "import pandas as pd\n",
    "from statsmodels.formula.api import ols\n",
    "\n",
    "def calculate_confidence_intervals(ab_paths, total_indirect_effects, mediators):\n",
    "    \"\"\"\n",
    "    Calculates the confidence intervals and p-value based on the bootstrapped samples.\n",
    "\n",
    "    Parameters:\n",
    "    - ab_paths: list of lists containing the bootstrapped ab paths for each mediator.\n",
    "    - total_indirect_effects: list of bootstrapped summed ab paths.\n",
    "    - mediators: list of mediator names.\n",
    "\n",
    "    Returns:\n",
    "    - DataFrame with the mean indirect effect, confidence intervals, and p-values for each mediator and the total indirect effect.\n",
    "    \"\"\"\n",
    "\n",
    "    ab_path_values = np.array(ab_paths)\n",
    "    total_indirect_effects = np.array(total_indirect_effects)\n",
    "\n",
    "    # Calculate mean indirect effect and confidence intervals for each mediator\n",
    "    mean_ab_paths = np.mean(ab_path_values, axis=0)\n",
    "    lower_bounds = np.percentile(ab_path_values, 2.5, axis=0)\n",
    "    upper_bounds = np.percentile(ab_path_values, 97.5, axis=0)\n",
    "\n",
    "    # Calculate p-values for each mediator\n",
    "    ab_path_p_values = [np.mean(np.sign(mean_ab_paths[i]) * ab_path_values[:, i] <= 0) for i in range(len(mean_ab_paths))]\n",
    "\n",
    "\n",
    "    # Calculate mean indirect effect and confidence intervals for the total indirect effect\n",
    "    mean_total_indirect_effect = np.mean(total_indirect_effects)\n",
    "    lower_bound_total = np.percentile(total_indirect_effects, 2.5)\n",
    "    upper_bound_total = np.percentile(total_indirect_effects, 97.5)\n",
    "    p_value_total = np.mean(total_indirect_effects > 0) if np.mean(total_indirect_effects) < 0 else np.mean(total_indirect_effects <= 1)\n",
    "\n",
    "    # Create DataFrame to store the results\n",
    "    result_df = pd.DataFrame({\n",
    "        'Point Estimate': np.concatenate((mean_ab_paths, [mean_total_indirect_effect])),\n",
    "        '2.5th Percentile': np.concatenate((lower_bounds, [lower_bound_total])),\n",
    "        '97.5th Percentile': np.concatenate((upper_bounds, [upper_bound_total])),\n",
    "        'P-value': ab_path_p_values + [p_value_total]\n",
    "    }, index=mediators + ['Total Indirect Effect'])\n",
    "\n",
    "    return result_df\n",
    "\n",
    "\n",
    "def perform_multiple_mediation_analysis(dataframe, exposure, mediators, dependent_variable, bootstrap_samples=5000):\n",
    "    \"\"\"\n",
    "    Performs a multiple mediation analysis by estimating the joint indirect effects of an exposure variable\n",
    "    through multiple mediators on a dependent variable using bootstrapping.\n",
    "\n",
    "    Parameters:\n",
    "    - dataframe: DataFrame containing the data.\n",
    "    - exposure: str, column name of the exposure variable.\n",
    "    - mediators: list, column names of the mediator variables.\n",
    "    - dependent_variable: str, column name of the dependent variable.\n",
    "    - bootstrap_samples: int, optional, number of bootstrap samples to be used (default is 5000).\n",
    "\n",
    "    Returns:\n",
    "    - DataFrame with the mean indirect effect, confidence intervals, and p-values for each mediator and the total indirect effect.\n",
    "\n",
    "    Example Usage:\n",
    "    result_df = perform_multiple_mediation_analysis(data_df, exposure='Age',\n",
    "                                                    mediators=['Brain_Lobe1', 'Brain_Lobe2'],\n",
    "                                                    dependent_variable='outcome')\n",
    "    \"\"\"\n",
    "\n",
    "    # Perform multiple mediation analysis\n",
    "    ab_paths, total_indirect_effects = [], []\n",
    "\n",
    "    # Loop over each bootstrap sample\n",
    "    for i in range(bootstrap_samples):\n",
    "        # Resample the data with replacement\n",
    "        sample = dataframe.sample(frac=1, replace=True)\n",
    "\n",
    "        # Paths from exposure to mediators and from mediators to DV\n",
    "        ab_paths_sample = [ols(f\"{mediator} ~ {exposure}\", data=sample).fit().params[exposure] *\n",
    "                           ols(f\"{dependent_variable} ~ {mediator} + {exposure}\", data=sample).fit().params[mediator]\n",
    "                           for mediator in mediators]\n",
    "\n",
    "        # Sum the individual indirect effects for this bootstrap sample\n",
    "        total_indirect_effect = sum(ab_paths_sample)\n",
    "\n",
    "        # Append the ab paths and total indirect effect to the lists\n",
    "        ab_paths.append(ab_paths_sample)\n",
    "        total_indirect_effects.append(total_indirect_effect)\n",
    "\n",
    "    # Calculate confidence intervals and p-values\n",
    "    result_df = calculate_confidence_intervals(ab_paths, total_indirect_effects, mediators)\n",
    "\n",
    "    return result_df\n",
    "\n"
   ]
  },
  {
   "cell_type": "code",
   "execution_count": null,
   "metadata": {},
   "outputs": [],
   "source": [
    "data_df.columns"
   ]
  },
  {
   "cell_type": "code",
   "execution_count": null,
   "metadata": {},
   "outputs": [],
   "source": [
    "result_df = perform_multiple_mediation_analysis(data_df, \n",
    "                                    exposure='Age', \n",
    "                                    mediators=['Hippocampus', 'Cerebellum', 'Frontal', 'Parietal',\n",
    "       'Temporal', 'Occipital']\n",
    "                                               , \n",
    "                                    dependent_variable='outcome',\n",
    "                                    bootstrap_samples=10000)\n",
    "result_df"
   ]
  },
  {
   "attachments": {},
   "cell_type": "markdown",
   "metadata": {},
   "source": [
    "# First Stage Model Moderated Mediation Analyses\n",
    "\n",
    "Model Structure:\n",
    "```\n",
    " #Age ---(a1)------> Mediator ---(b1)---> Outcome\n",
    "  |       |                                                                        \n",
    "   ---(Moderator)\n",
    "```\n",
    "This is a 'first-stage model'\n",
    "\n",
    "First Stage Moderated Mediation: basically just checks if the mediation is dependent on a moderator relating the independent variable to the mediator. Essentially, it's an interaction effect. "
   ]
  },
  {
   "cell_type": "code",
   "execution_count": null,
   "metadata": {},
   "outputs": [],
   "source": [
    "import pandas as pd\n",
    "import statsmodels.api as sm\n",
    "from statsmodels.genmod.generalized_linear_model import GLM\n",
    "from statsmodels.genmod.families import Gaussian\n",
    "from statsmodels.stats.mediation import Mediation\n",
    "\n",
    "def first_stage_moderated_mediation(dataframe, exposure, moderator, mediator, dependent_variable):\n",
    "    \"\"\"\n",
    "    This function performs a moderated_mediation analysis on the provided data.\n",
    "    \n",
    "    Parameters:\n",
    "    - dataframe: DataFrame containing the data.\n",
    "    - exposure: str, column name of the independent variable (e.g., 'Age').\n",
    "    - moderator: str, column name of the moderator variable, the variable interacting with the independent variable (e.g., 'Subiculum_Connectivity').\n",
    "    - mediator: str, column name of the mediator variable, the variable acting through the independent variable (e.g., 'Hippocampus').\n",
    "    - dependent_variable: str, column name of the dependent variable (e.g., 'outcome').\n",
    "       \n",
    "    Example Usage:\n",
    "    perform_moderation_analysis(data_df, independent_variable='Age', moderator='Subiculum_Connectivity', mediator='Hippocampus', dependent_variable='outcome')\n",
    "    \"\"\"\n",
    "    \n",
    "    # Step 1: Fit the mediator model with interaction term\n",
    "    # Mediator ~ IV + Moderator + IV*Moderator\n",
    "    mediator_model = GLM.from_formula(f\"{mediator} ~ {exposure} + {moderator} + {exposure}:{moderator}\", data=dataframe, family=Gaussian())\n",
    "    \n",
    "    # Step 2: Fit the outcome model with mediator\n",
    "    # Dependent Variable ~ IV + Moderator + IV*Moderator + Mediator\n",
    "    outcome_model = GLM.from_formula(f\"{dependent_variable} ~ {exposure} + {moderator} + {exposure}:{moderator} + {mediator}\", data=dataframe, family=Gaussian())\n",
    "    \n",
    "    # Step 3: Perform mediation analysis\n",
    "    med = Mediation(outcome_model, mediator_model, exposure=exposure, mediator=mediator)\n",
    "    try:\n",
    "        med_result = med.fit()\n",
    "        print(f'Exposure {exposure} moderated by {moderator} mediated by {mediator}')\n",
    "        print(med_result.summary())\n",
    "        return med_result\n",
    "    except:\n",
    "        print(f'Perfect separation detected, aborting {mediator}')\n",
    "        return\n"
   ]
  },
  {
   "cell_type": "code",
   "execution_count": null,
   "metadata": {},
   "outputs": [],
   "source": [
    "data_df.columns"
   ]
  },
  {
   "cell_type": "code",
   "execution_count": null,
   "metadata": {},
   "outputs": [],
   "source": [
    "# Example usage:\n",
    "# Assuming your DataFrame is named data_df, and you're investigating if 'Hippocampus' mediates the relationship between 'Age' and 'outcome', with 'Subiculum_Connectivity' as a moderator.\n",
    "mediation_results = first_stage_moderated_mediation(data_df, \n",
    "                                     exposure='Age', \n",
    "                                     moderator='Subiculum_Connectivity', \n",
    "                                     mediator='Hippocampus_Damage_Score', \n",
    "                                     dependent_variable='outcome')\n",
    "mediation_results.summary()"
   ]
  },
  {
   "cell_type": "code",
   "execution_count": null,
   "metadata": {},
   "outputs": [],
   "source": [
    "[first_stage_moderated_mediation(data_df, exposure='Age', moderator='Subiculum_Connectivity', mediator=f'{col}', dependent_variable='outcome') for col in data_df.columns]"
   ]
  },
  {
   "attachments": {},
   "cell_type": "markdown",
   "metadata": {},
   "source": [
    "_____________________\n",
    "Second Stage Model Moderated Mediation\n",
    "\n",
    "The moderation is on the path from the independent variable (age) to the mediator (atrophy region). This type of model is often termed as a first-stage moderated mediation. The moderation in this case can show if the relationship between age and the atrophy region varies at different levels of another variable (the moderator).\n",
    "\n",
    "This is model is not natively supported in Python, thus I have developed it myself. \n",
    "Highly complex and experimental model. Use with caution. \n",
    "\n",
    "\n",
    "Model Structure:\n",
    "```\n",
    " #Age ---(a1)------> Mediator ---(b1)---> Outcome\n",
    "  |                                  |\n",
    "  |                                  |\n",
    "   |                                 |\n",
    "   ---(Moderator)---------------------\n",
    "```\n",
    "Second Stage Moderated Mediation: When the moderation is occurring in the second part of the mediation process, it is called second stage moderated mediation. In this case, the relationship between the mediator (M) and the dependent variable (DV) depends on the moderator. This is sometimes referred to as \"moderated b path.\"\n"
   ]
  },
  {
   "cell_type": "code",
   "execution_count": null,
   "metadata": {},
   "outputs": [],
   "source": [
    "import pandas as pd\n",
    "import statsmodels.api as sm\n",
    "from statsmodels.genmod.generalized_linear_model import GLM\n",
    "from statsmodels.genmod.families import Gaussian\n",
    "from statsmodels.stats.mediation import Mediation\n",
    "\n",
    "import pandas as pd\n",
    "import statsmodels.api as sm\n",
    "from statsmodels.genmod.generalized_linear_model import GLM\n",
    "from statsmodels.genmod.families import Gaussian\n",
    "from statsmodels.stats.mediation import Mediation\n",
    "\n",
    "def second_stage_moderated_mediation(dataframe, exposure, moderator, mediator, dependent_variable):\n",
    "    \"\"\"\n",
    "    This function performs a moderated mediation analysis on the provided data.\n",
    "    \n",
    "    Parameters:\n",
    "    - dataframe: DataFrame containing the data.\n",
    "    - independent_variable: str, column name of the independent variable (e.g., 'Age').\n",
    "    - moderator: str, column name of the moderator variable, the variable interacting with the independent variable (e.g., 'Subiculum_Connectivity').\n",
    "    - mediator: str, column name of the mediator variable, the variable acting through the independent variable (e.g., 'Hippocampus').\n",
    "    - dependent_variable: str, column name of the dependent variable (e.g., 'outcome').\n",
    "       \n",
    "    Example Usage:\n",
    "    perform_moderated_mediation_analysis(data_df, independent_variable='Age', moderator='Subiculum_Connectivity', mediator='Hippocampus', dependent_variable='outcome')\n",
    "    \"\"\"\n",
    "    \n",
    "    # Step 1: Fit the mediator model with interaction term\n",
    "    # Mediator ~ IV\n",
    "    mediator_model = GLM.from_formula(f\"{mediator} ~ {exposure}\", data=dataframe, family=Gaussian())\n",
    "    \n",
    "    # Step 2: Fit the outcome model with mediator\n",
    "    # Dependent Variable ~ IV + Moderator + IV*Moderator + Mediator\n",
    "    outcome_model = GLM.from_formula(f\"{dependent_variable} ~ {exposure} + {moderator} + {mediator}:{moderator} + {mediator}\", data=dataframe, family=Gaussian())\n",
    "\n",
    "    # Step 3: Perform mediation analysis\n",
    "    med = Mediation(outcome_model, mediator_model, exposure=exposure, mediator=mediator)\n",
    "    try:\n",
    "        med_result = med.fit()\n",
    "        print(f'Exposure {exposure} mediated by {mediator} and then moderated by {moderator}')\n",
    "        print(med_result.summary())\n",
    "        return med_result\n",
    "    except:\n",
    "        print(f'Perfect separation detected, aborting {mediator}')\n",
    "        return np.NaN\n",
    "     "
   ]
  },
  {
   "cell_type": "code",
   "execution_count": null,
   "metadata": {},
   "outputs": [],
   "source": [
    "med_result = second_stage_moderated_mediation(data_df, \n",
    "                                exposure='Age', \n",
    "                                moderator='Subiculum_Connectivity', \n",
    "                                mediator='Hippocampus_Damage_Score', \n",
    "                                dependent_variable='outcome')\n",
    "med_result.summary()"
   ]
  },
  {
   "cell_type": "markdown",
   "metadata": {},
   "source": [
    "Run the code above for an entire spreadsheet"
   ]
  },
  {
   "cell_type": "code",
   "execution_count": null,
   "metadata": {},
   "outputs": [],
   "source": [
    "[second_stage_moderated_mediation(data_df, exposure='Age', moderator='Subiculum_Connectivity', mediator=f'{col}', dependent_variable='outcome') for col in data_df.columns]"
   ]
  },
  {
   "cell_type": "markdown",
   "metadata": {},
   "source": [
    "# Mediated Moderation Analyses"
   ]
  },
  {
   "cell_type": "markdown",
   "metadata": {},
   "source": [
    "**Classic Mediated Moderation**\n",
    "\n",
    "The indirect effect of the exposure on the outcome through the mediator is conditional based on the levels of the moderator."
   ]
  },
  {
   "cell_type": "code",
   "execution_count": null,
   "metadata": {},
   "outputs": [],
   "source": [
    "import pandas as pd\n",
    "import statsmodels.api as sm\n",
    "from statsmodels.genmod.generalized_linear_model import GLM\n",
    "from statsmodels.genmod.families import Gaussian\n",
    "from statsmodels.stats.mediation import Mediation\n",
    "\n",
    "def perform_mediated_moderation_analysis(dataframe, exposure, mediator, moderator, dependent_variable):\n",
    "    # Step 1: Fit the mediator model\n",
    "    # Mediator ~ Independent Variable * Moderator\n",
    "    mediator_model = GLM.from_formula(f\"{mediator} ~ {exposure} * {moderator}\", data=dataframe, family=Gaussian())\n",
    "    \n",
    "    # Step 2: Fit the outcome model\n",
    "    # Dependent Variable ~ Independent Variable + Mediator + Independent Variable * Moderator + Mediator * Moderator\n",
    "    outcome_model = GLM.from_formula(f\"{dependent_variable} ~ {exposure} + {mediator} + {exposure}:{moderator} + {mediator}:{moderator}\", data=dataframe, family=Gaussian())\n",
    "    \n",
    "    # Step 3: Perform mediation analysis\n",
    "    med = Mediation(outcome_model, mediator_model, exposure=exposure, mediator=mediator)\n",
    "    try:\n",
    "        med_result = med.fit()\n",
    "        # Step 4: Print the results\n",
    "        print(f'Mediated Moderation of {exposure} by {mediator} with {moderator} as the moderator:')\n",
    "        print(med_result.summary())\n",
    "    except:\n",
    "        print(f\"Mediated Moderation failed, perfect separation detected. Aborting assessment of {mediator}.\")\n",
    "\n",
    "# Example usage:\n",
    "# Assuming your DataFrame is named df, and the columns of interest are 'DBS', 'brain_atrophy', 'age', and 'dependent_variable'\n",
    "# perform_mediated_moderation_analysis(data_df, \n",
    "#                                      exposure = 'DBS', \n",
    "#                                      mediator = 'brain_atrophy', \n",
    "#                                      moderator = 'age',\n",
    "#                                      dependent_variable='dependent_variable')\n"
   ]
  },
  {
   "cell_type": "code",
   "execution_count": null,
   "metadata": {},
   "outputs": [],
   "source": [
    "data_df.columns"
   ]
  },
  {
   "cell_type": "markdown",
   "metadata": {},
   "source": [
    "Run Everything!"
   ]
  },
  {
   "cell_type": "code",
   "execution_count": 33,
   "metadata": {},
   "outputs": [
    {
     "name": "stderr",
     "output_type": "stream",
     "text": [
      "100%|██████████| 5000/5000 [00:30<00:00, 162.58it/s]\n"
     ]
    },
    {
     "name": "stdout",
     "output_type": "stream",
     "text": [
      "5000\n",
      "                 Point Estimate  2.5th Percentile  97.5th Percentile  P-value\n",
      "Frontal_Atrophy        0.001085         -0.087468           0.094363    0.498\n"
     ]
    },
    {
     "name": "stderr",
     "output_type": "stream",
     "text": [
      "100%|██████████| 5000/5000 [00:29<00:00, 169.67it/s]\n"
     ]
    },
    {
     "name": "stdout",
     "output_type": "stream",
     "text": [
      "5000\n",
      "                Point Estimate  2.5th Percentile  97.5th Percentile  P-value\n",
      "Insula_Atrophy       -0.022052         -0.145237           0.064394   0.3368\n"
     ]
    },
    {
     "name": "stderr",
     "output_type": "stream",
     "text": [
      "100%|██████████| 5000/5000 [00:27<00:00, 181.92it/s]\n"
     ]
    },
    {
     "name": "stdout",
     "output_type": "stream",
     "text": [
      "5000\n",
      "                  Point Estimate  2.5th Percentile  97.5th Percentile  P-value\n",
      "Temporal_Atrophy        0.009189          -0.09796           0.141378   0.4594\n"
     ]
    },
    {
     "name": "stderr",
     "output_type": "stream",
     "text": [
      "100%|██████████| 5000/5000 [00:29<00:00, 170.87it/s]\n"
     ]
    },
    {
     "name": "stdout",
     "output_type": "stream",
     "text": [
      "5000\n",
      "                    Point Estimate  2.5th Percentile  97.5th Percentile  \\\n",
      "Cerebellar_Atrophy       -0.035617         -0.173971           0.101012   \n",
      "\n",
      "                    P-value  \n",
      "Cerebellar_Atrophy   0.2618  \n"
     ]
    },
    {
     "name": "stderr",
     "output_type": "stream",
     "text": [
      "100%|██████████| 5000/5000 [00:27<00:00, 183.59it/s]\n"
     ]
    },
    {
     "name": "stdout",
     "output_type": "stream",
     "text": [
      "5000\n",
      "                   Point Estimate  2.5th Percentile  97.5th Percentile  \\\n",
      "Subiculum_Atrophy       -0.008233         -0.071343           0.046988   \n",
      "\n",
      "                   P-value  \n",
      "Subiculum_Atrophy     0.33  \n"
     ]
    },
    {
     "name": "stderr",
     "output_type": "stream",
     "text": [
      "100%|██████████| 5000/5000 [00:26<00:00, 185.92it/s]\n"
     ]
    },
    {
     "name": "stdout",
     "output_type": "stream",
     "text": [
      "5000\n",
      "                   Point Estimate  2.5th Percentile  97.5th Percentile  \\\n",
      "Occipital_Atrophy       -0.000225         -0.077882           0.076912   \n",
      "\n",
      "                   P-value  \n",
      "Occipital_Atrophy   0.4924  \n"
     ]
    },
    {
     "name": "stderr",
     "output_type": "stream",
     "text": [
      "100%|██████████| 5000/5000 [00:27<00:00, 179.31it/s]\n"
     ]
    },
    {
     "name": "stdout",
     "output_type": "stream",
     "text": [
      "5000\n",
      "                  Point Estimate  2.5th Percentile  97.5th Percentile  P-value\n",
      "Parietal_Atrophy        0.049708         -0.040379           0.213681   0.1836\n"
     ]
    },
    {
     "name": "stderr",
     "output_type": "stream",
     "text": [
      "100%|██████████| 5000/5000 [00:27<00:00, 179.89it/s]\n"
     ]
    },
    {
     "name": "stdout",
     "output_type": "stream",
     "text": [
      "5000\n",
      "                      Point Estimate  2.5th Percentile  97.5th Percentile  \\\n",
      "Total_Atrophy_Voxels        -0.00716         -0.103371           0.068506   \n",
      "\n",
      "                      P-value  \n",
      "Total_Atrophy_Voxels    0.443  \n"
     ]
    },
    {
     "name": "stderr",
     "output_type": "stream",
     "text": [
      "100%|██████████| 5000/5000 [00:27<00:00, 182.93it/s]\n"
     ]
    },
    {
     "name": "stdout",
     "output_type": "stream",
     "text": [
      "5000\n",
      "                     Point Estimate  2.5th Percentile  97.5th Percentile  \\\n",
      "Visual_Connectivity       -0.047191         -0.200306            0.01681   \n",
      "\n",
      "                     P-value  \n",
      "Visual_Connectivity   0.1284  \n"
     ]
    },
    {
     "name": "stderr",
     "output_type": "stream",
     "text": [
      "100%|██████████| 5000/5000 [00:27<00:00, 183.14it/s]\n"
     ]
    },
    {
     "name": "stdout",
     "output_type": "stream",
     "text": [
      "5000\n",
      "                          Point Estimate  2.5th Percentile  97.5th Percentile  \\\n",
      "Somatomotor_Connectivity       -0.044902         -0.255268           0.082914   \n",
      "\n",
      "                          P-value  \n",
      "Somatomotor_Connectivity   0.2322  \n"
     ]
    },
    {
     "name": "stderr",
     "output_type": "stream",
     "text": [
      "100%|██████████| 5000/5000 [00:26<00:00, 189.05it/s]\n"
     ]
    },
    {
     "name": "stdout",
     "output_type": "stream",
     "text": [
      "5000\n",
      "                               Point Estimate  2.5th Percentile  \\\n",
      "Dorsal_Attention_Connectivity       -0.009477         -0.106211   \n",
      "\n",
      "                               97.5th Percentile  P-value  \n",
      "Dorsal_Attention_Connectivity           0.068056   0.4146  \n"
     ]
    },
    {
     "name": "stderr",
     "output_type": "stream",
     "text": [
      "100%|██████████| 5000/5000 [00:25<00:00, 194.04it/s]\n"
     ]
    },
    {
     "name": "stdout",
     "output_type": "stream",
     "text": [
      "5000\n",
      "                                Point Estimate  2.5th Percentile  \\\n",
      "Ventral_Attention_Connectivity       -0.010031         -0.128162   \n",
      "\n",
      "                                97.5th Percentile  P-value  \n",
      "Ventral_Attention_Connectivity           0.057994    0.402  \n"
     ]
    },
    {
     "name": "stderr",
     "output_type": "stream",
     "text": [
      "100%|██████████| 5000/5000 [00:25<00:00, 194.04it/s]\n"
     ]
    },
    {
     "name": "stdout",
     "output_type": "stream",
     "text": [
      "5000\n",
      "                     Point Estimate  2.5th Percentile  97.5th Percentile  \\\n",
      "Limbic_Connectivity       -0.034214         -0.263206           0.062135   \n",
      "\n",
      "                     P-value  \n",
      "Limbic_Connectivity    0.338  \n"
     ]
    },
    {
     "name": "stderr",
     "output_type": "stream",
     "text": [
      "100%|██████████| 5000/5000 [00:26<00:00, 191.91it/s]\n"
     ]
    },
    {
     "name": "stdout",
     "output_type": "stream",
     "text": [
      "5000\n",
      "                             Point Estimate  2.5th Percentile  \\\n",
      "Frontoparietal_Connectivity       -0.058399         -0.250162   \n",
      "\n",
      "                             97.5th Percentile  P-value  \n",
      "Frontoparietal_Connectivity           0.024952   0.1394  \n"
     ]
    },
    {
     "name": "stderr",
     "output_type": "stream",
     "text": [
      "100%|██████████| 5000/5000 [00:26<00:00, 187.57it/s]\n"
     ]
    },
    {
     "name": "stdout",
     "output_type": "stream",
     "text": [
      "5000\n",
      "                      Point Estimate  2.5th Percentile  97.5th Percentile  \\\n",
      "Default_Connectivity       -0.009754         -0.108431            0.06989   \n",
      "\n",
      "                      P-value  \n",
      "Default_Connectivity    0.422  \n"
     ]
    },
    {
     "name": "stderr",
     "output_type": "stream",
     "text": [
      "100%|██████████| 5000/5000 [00:26<00:00, 188.95it/s]\n"
     ]
    },
    {
     "name": "stdout",
     "output_type": "stream",
     "text": [
      "5000\n",
      "                 Point Estimate  2.5th Percentile  97.5th Percentile  P-value\n",
      "Default_Atrophy       -0.022967         -0.113557           0.050132     0.23\n"
     ]
    },
    {
     "name": "stderr",
     "output_type": "stream",
     "text": [
      "100%|██████████| 5000/5000 [00:25<00:00, 195.46it/s]\n"
     ]
    },
    {
     "name": "stdout",
     "output_type": "stream",
     "text": [
      "5000\n",
      "                Point Estimate  2.5th Percentile  97.5th Percentile  P-value\n",
      "Visual_Atrophy       -0.012781         -0.101024           0.070015   0.3328\n"
     ]
    },
    {
     "name": "stderr",
     "output_type": "stream",
     "text": [
      "100%|██████████| 5000/5000 [00:25<00:00, 198.31it/s]\n"
     ]
    },
    {
     "name": "stdout",
     "output_type": "stream",
     "text": [
      "5000\n",
      "                Point Estimate  2.5th Percentile  97.5th Percentile  P-value\n",
      "Limbic_Atrophy       -0.024156         -0.133016           0.076631   0.2854\n"
     ]
    },
    {
     "name": "stderr",
     "output_type": "stream",
     "text": [
      "100%|██████████| 5000/5000 [00:25<00:00, 194.64it/s]\n"
     ]
    },
    {
     "name": "stdout",
     "output_type": "stream",
     "text": [
      "5000\n",
      "                     Point Estimate  2.5th Percentile  97.5th Percentile  \\\n",
      "Somatomotor_Atrophy       -0.009497         -0.105316            0.06026   \n",
      "\n",
      "                     P-value  \n",
      "Somatomotor_Atrophy   0.4184  \n"
     ]
    },
    {
     "name": "stderr",
     "output_type": "stream",
     "text": [
      "100%|██████████| 5000/5000 [00:27<00:00, 183.52it/s]\n"
     ]
    },
    {
     "name": "stdout",
     "output_type": "stream",
     "text": [
      "5000\n",
      "                          Point Estimate  2.5th Percentile  97.5th Percentile  \\\n",
      "Dorsal_Attention_Atrophy        0.005637         -0.059217           0.088266   \n",
      "\n",
      "                          P-value  \n",
      "Dorsal_Attention_Atrophy   0.4604  \n"
     ]
    },
    {
     "name": "stderr",
     "output_type": "stream",
     "text": [
      "100%|██████████| 5000/5000 [00:26<00:00, 191.08it/s]\n"
     ]
    },
    {
     "name": "stdout",
     "output_type": "stream",
     "text": [
      "5000\n",
      "                           Point Estimate  2.5th Percentile  \\\n",
      "Ventral_Attention_Atrophy       -0.012403          -0.09323   \n",
      "\n",
      "                           97.5th Percentile  P-value  \n",
      "Ventral_Attention_Atrophy           0.053645    0.351  \n"
     ]
    },
    {
     "name": "stderr",
     "output_type": "stream",
     "text": [
      "100%|██████████| 5000/5000 [00:28<00:00, 173.57it/s]\n"
     ]
    },
    {
     "name": "stdout",
     "output_type": "stream",
     "text": [
      "5000\n",
      "                        Point Estimate  2.5th Percentile  97.5th Percentile  \\\n",
      "Frontoparietal_Atrophy       -0.010426         -0.095348           0.065185   \n",
      "\n",
      "                        P-value  \n",
      "Frontoparietal_Atrophy    0.365  \n"
     ]
    },
    {
     "name": "stderr",
     "output_type": "stream",
     "text": [
      "100%|██████████| 5000/5000 [00:26<00:00, 189.06it/s]\n"
     ]
    },
    {
     "name": "stdout",
     "output_type": "stream",
     "text": [
      "5000\n",
      "                     Point Estimate  2.5th Percentile  97.5th Percentile  \\\n",
      "Null_Memory_Atrophy        -0.00472          -0.14205           0.127265   \n",
      "\n",
      "                     P-value  \n",
      "Null_Memory_Atrophy   0.4744  \n"
     ]
    },
    {
     "name": "stderr",
     "output_type": "stream",
     "text": [
      "100%|██████████| 5000/5000 [00:25<00:00, 195.20it/s]\n"
     ]
    },
    {
     "name": "stdout",
     "output_type": "stream",
     "text": [
      "5000\n",
      "                               Point Estimate  2.5th Percentile  \\\n",
      "Anticorrelated_Memory_Atrophy        0.003702          -0.05594   \n",
      "\n",
      "                               97.5th Percentile  P-value  \n",
      "Anticorrelated_Memory_Atrophy           0.071167   0.4522  \n"
     ]
    },
    {
     "name": "stderr",
     "output_type": "stream",
     "text": [
      "100%|██████████| 5000/5000 [00:26<00:00, 190.94it/s]\n"
     ]
    },
    {
     "name": "stdout",
     "output_type": "stream",
     "text": [
      "5000\n",
      "                           Point Estimate  2.5th Percentile  \\\n",
      "Correlated_Memory_Atrophy        -0.01059         -0.154981   \n",
      "\n",
      "                           97.5th Percentile  P-value  \n",
      "Correlated_Memory_Atrophy           0.098621   0.4464  \n"
     ]
    },
    {
     "name": "stderr",
     "output_type": "stream",
     "text": [
      "100%|██████████| 5000/5000 [00:29<00:00, 171.85it/s]\n"
     ]
    },
    {
     "name": "stdout",
     "output_type": "stream",
     "text": [
      "5000\n",
      "                                    Point Estimate  2.5th Percentile  \\\n",
      "Absolute_Correlated_Memory_Network       -0.002289         -0.098381   \n",
      "\n",
      "                                    97.5th Percentile  P-value  \n",
      "Absolute_Correlated_Memory_Network           0.083479   0.4962  \n"
     ]
    },
    {
     "name": "stderr",
     "output_type": "stream",
     "text": [
      "100%|██████████| 5000/5000 [00:28<00:00, 177.25it/s]"
     ]
    },
    {
     "name": "stdout",
     "output_type": "stream",
     "text": [
      "5000\n",
      "             Point Estimate  2.5th Percentile  97.5th Percentile  P-value\n",
      "Whole_Brain       -0.002864         -0.128024           0.112406   0.4812\n"
     ]
    },
    {
     "name": "stderr",
     "output_type": "stream",
     "text": [
      "\n"
     ]
    }
   ],
   "source": [
    "for col in data_df.columns[6:-1]:\n",
    "    print(perform_mediated_moderation_analysis(data_df, \n",
    "                                     exposure='Subiculum_Connectivity', \n",
    "                                     mediator=f'{col}', \n",
    "                                     moderator='Age', \n",
    "                                     dependent_variable='outcome'))"
   ]
  },
  {
   "cell_type": "markdown",
   "metadata": {},
   "source": [
    "Run One Thing!"
   ]
  },
  {
   "cell_type": "code",
   "execution_count": 31,
   "metadata": {},
   "outputs": [
    {
     "name": "stderr",
     "output_type": "stream",
     "text": [
      "100%|██████████| 5000/5000 [00:28<00:00, 174.42it/s]"
     ]
    },
    {
     "name": "stdout",
     "output_type": "stream",
     "text": [
      "5000\n"
     ]
    },
    {
     "name": "stderr",
     "output_type": "stream",
     "text": [
      "\n"
     ]
    },
    {
     "data": {
      "text/html": [
       "<div>\n",
       "<style scoped>\n",
       "    .dataframe tbody tr th:only-of-type {\n",
       "        vertical-align: middle;\n",
       "    }\n",
       "\n",
       "    .dataframe tbody tr th {\n",
       "        vertical-align: top;\n",
       "    }\n",
       "\n",
       "    .dataframe thead th {\n",
       "        text-align: right;\n",
       "    }\n",
       "</style>\n",
       "<table border=\"1\" class=\"dataframe\">\n",
       "  <thead>\n",
       "    <tr style=\"text-align: right;\">\n",
       "      <th></th>\n",
       "      <th>Point Estimate</th>\n",
       "      <th>2.5th Percentile</th>\n",
       "      <th>97.5th Percentile</th>\n",
       "      <th>P-value</th>\n",
       "    </tr>\n",
       "  </thead>\n",
       "  <tbody>\n",
       "    <tr>\n",
       "      <th>Baseline</th>\n",
       "      <td>-0.00777</td>\n",
       "      <td>-0.152222</td>\n",
       "      <td>0.107049</td>\n",
       "      <td>0.504</td>\n",
       "    </tr>\n",
       "  </tbody>\n",
       "</table>\n",
       "</div>"
      ],
      "text/plain": [
       "          Point Estimate  2.5th Percentile  97.5th Percentile  P-value\n",
       "Baseline        -0.00777         -0.152222           0.107049    0.504"
      ]
     },
     "execution_count": 31,
     "metadata": {},
     "output_type": "execute_result"
    }
   ],
   "source": [
    "perform_mediated_moderation_analysis(data_df, \n",
    "                                     exposure='Subiculum_Connectivity', \n",
    "                                     mediator='Baseline', \n",
    "                                     moderator='Age', \n",
    "                                     dependent_variable='outcome')"
   ]
  },
  {
   "cell_type": "markdown",
   "metadata": {},
   "source": [
    "**Partial Mediated Moderation**\n",
    "\n",
    "Assess the effect of the exposure or the moderator indepdendently through the mediator upon the outcome. "
   ]
  },
  {
   "cell_type": "markdown",
   "metadata": {},
   "source": [
    "Based on Edwards and Lambert 2007, Methods for integrating moderation and mediation: A general analytical framework using moderated path analysis.\n",
    "\n",
    "Author: Calvin Howard\n",
    "\n",
    "NOTE: This is a proper mediated moderation analysis\n",
    "\n",
    "Model Explanation:\n",
    "A mediated moderation analysis explores how the effect of an independent variable (exposure) on a dependent variable (outcome) is moderated by a third variable, and this moderation effect is mediated by a fourth variable. Essentially, it helps to understand how the interaction between an independent variable and a moderator influences a dependent variable through a mediator. In short: is the moderation (interaction effect) attributable to something else (mediator).\n",
    "\n",
    "Model Form:\n",
    "```\n",
    "Independent Variable (IV) ---(a)--> Mediator (M) ---(b)--> Dependent Variable (DV)\n",
    "                      |                            ^\n",
    "                      |                            |\n",
    "                      |                            |\n",
    "                      |---(c)----> Moderator (Mod) |\n",
    "                      |                            |\n",
    "                      |-----------------(d)--------|\n",
    "```\n",
    "In this diagram:\n",
    "\n",
    "IV represents the independent variable.\n",
    "M represents the mediator in the model.\n",
    "Mod represents the moderator in the model.\n",
    "DV represents the dependent variable.\n",
    "The path labeled (a) represents the effect of the IV on M.\n",
    "The path labeled (b) represents the effect of M on the DV, controlling for the IV and Mod.\n",
    "The path labeled (c) represents the effect of the IV on Mod.\n",
    "The path labeled (d) represents the interaction between IV and Mod affecting the DV, controlling for M.\n",
    "\n",
    "Technical Notes\n",
    "\n",
    "This is not formally implemented in Python as well as in R, so this is custom code. Use with care.\n",
    "\n",
    "Technical Explanation\n",
    "The perform_mediated_moderation_analysis function is designed to perform a mediated moderation analysis to estimate the joint indirect effects of an exposure variable through a mediator on a dependent variable, considering the moderating effect of another variable. This is achieved through the use of bootstrapping.\n",
    "\n",
    "Bootstrapping is a statistical technique where resampling of the dataset is done with replacement to estimate the sampling distribution of a statistic. In the case of mediated moderation analysis, it's used to estimate the joint indirect effects.\n",
    "\n",
    "In the function, for each bootstrap sample, the dataset is resampled with replacement. Then, a simple linear regression model is fitted to estimate the path from the moderator variable to the mediator, denoted as 'a' path. The interaction between exposure and mediator is estimated using a multiple linear regression model with the dependent variable as the response, and the exposure, mediator, moderator, interaction of exposure and mediator, and interaction of exposure and moderator as predictors. The product of the 'a' path and the interaction effect represent the indirect effect for this bootstrap sample.\n",
    "\n",
    "This process is repeated for a specified number of bootstrap samples (default is 5000), and the mean indirect effect is calculated from these bootstrap samples.\n",
    "\n",
    "Finally, the function prints the mean indirect effect and its 95% confidence interval, which is estimated using the 2.5th and 97.5th percentiles of the bootstrap indirect effects.\n",
    "\n",
    "This approach provides an approximate estimate of the joint indirect effect through a mediator and allows for the calculation of confidence intervals around this effect."
   ]
  },
  {
   "cell_type": "code",
   "execution_count": null,
   "metadata": {},
   "outputs": [],
   "source": [
    "def calculate_confidence_intervals(ab_paths, mediators):\n",
    "    \"\"\"\n",
    "    Calculates the confidence intervals and p-value based on the bootstrapped samples.\n",
    "\n",
    "    Parameters:\n",
    "    - ab_paths: list of lists containing the bootstrapped ab paths for each mediator.\n",
    "    - total_indirect_effects: list of bootstrapped summed ab paths.\n",
    "    - mediators: list of mediator names.\n",
    "\n",
    "    Returns:\n",
    "    - DataFrame with the mean indirect effect, confidence intervals, and p-values for each mediator and the total indirect effect.\n",
    "    \"\"\"\n",
    "    ab_path_values = np.array(ab_paths)\n",
    "\n",
    "    # Check if there's only one mediator\n",
    "    if isinstance(mediators, str):\n",
    "        mediators = [mediators]\n",
    "\n",
    "    # Calculate mean indirect effect and confidence intervals for each mediator\n",
    "    mean_ab_paths = np.mean(ab_path_values, axis=0)\n",
    "    lower_bounds = np.percentile(ab_path_values, 2.5, axis=0)\n",
    "    upper_bounds = np.percentile(ab_path_values, 97.5, axis=0)\n",
    "\n",
    "    # Calculate p-values for each mediator\n",
    "    ab_path_p_values = [np.mean(np.sign(mean_ab_paths) * ab_path_values <= 0)]\n",
    "\n",
    "    # Create DataFrame to store the results\n",
    "    result_df = pd.DataFrame({\n",
    "        'Point Estimate': mean_ab_paths,\n",
    "        '2.5th Percentile': lower_bounds,\n",
    "        '97.5th Percentile': upper_bounds,\n",
    "        'P-value': ab_path_p_values\n",
    "    }, index=mediators)\n",
    "\n",
    "    return result_df\n"
   ]
  },
  {
   "cell_type": "code",
   "execution_count": null,
   "metadata": {},
   "outputs": [],
   "source": [
    "import numpy as np\n",
    "import pandas as pd\n",
    "from tqdm import tqdm\n",
    "from statsmodels.formula.api import ols\n",
    "def perform_partial_mediated_moderation_analysis(dataframe, exposure, mediator, moderator, dependent_variable, bootstrap_samples=5000):\n",
    "    \"\"\"\n",
    "    Performs a partial mediated moderation analysis by estimating the joint indirect effects of an exposure variable\n",
    "    through a mediator on a dependent variable using bootstrapping, considering the moderating effect of another variable.\n",
    "\n",
    "    Parameters:\n",
    "    - dataframe: DataFrame containing the data.\n",
    "    - exposure: str, column name of the exposure variable.\n",
    "    - mediator: str, column name of the mediator variable.\n",
    "    - moderator: str, column name of the moderator variable.\n",
    "    - dependent_variable: str, column name of the dependent variable.\n",
    "    - bootstrap_samples: int, optional, number of bootstrap samples to be used (default is 5000).\n",
    "\n",
    "    Returns:\n",
    "    - DataFrame with the mean indirect effect, confidence intervals, and p-values for the indirect effect.\n",
    "\n",
    "    Example Usage:\n",
    "    result_df = perform_mediated_moderation_analysis(data_df, exposure='Age',\n",
    "                                                     mediator='Brain_Lobe',\n",
    "                                                     moderator='Stimulation',\n",
    "                                                     dependent_variable='Outcome')\n",
    "    \"\"\"\n",
    "\n",
    "    ab_paths = []\n",
    "\n",
    "    # Loop over each bootstrap sample\n",
    "    for i in tqdm(range(bootstrap_samples)):\n",
    "        # Resample the data with replacement\n",
    "        sample = dataframe.sample(frac=1, replace=True)\n",
    "\n",
    "        # Fit the models and calculate the indirect effect for this bootstrap sample\n",
    "        model_M = ols(f\"{mediator} ~ {moderator}\", data=sample).fit()\n",
    "        model_Y = ols(f\"{dependent_variable} ~ {exposure} + {mediator} + {moderator} + {exposure}:{mediator} + {exposure}:{moderator}\", data=sample).fit()\n",
    "\n",
    "        indirect_effect = model_M.params[moderator] * model_Y.params[f'{exposure}:{mediator}']\n",
    "\n",
    "        # Append the indirect effect to the list\n",
    "        ab_paths.append(indirect_effect)\n",
    "    print(len(ab_paths))\n",
    "    # Calculate confidence intervals and p-values\n",
    "    result_df = calculate_confidence_intervals(ab_paths, mediators=mediator)\n",
    "\n",
    "    return result_df\n"
   ]
  },
  {
   "cell_type": "code",
   "execution_count": null,
   "metadata": {},
   "outputs": [],
   "source": [
    "data_df.columns"
   ]
  },
  {
   "cell_type": "code",
   "execution_count": null,
   "metadata": {},
   "outputs": [],
   "source": [
    "perform_partial_mediated_moderation_analysis(dataframe=data_df, \n",
    "                                             exposure='Subiculum_Connectivity', \n",
    "                                             mediator='Abs_Stim_Composite_Atophy_SpCorrel', \n",
    "                                             moderator='Age', \n",
    "                                             dependent_variable='outcome', \n",
    "                                             bootstrap_samples=10000)"
   ]
  },
  {
   "attachments": {},
   "cell_type": "markdown",
   "metadata": {},
   "source": [
    "# Conditional Process Analysis\n",
    "Based on Preacher and Hayes 2008, Asymptotic Asymptotic and resampling strategies for assessing and comparing indirect effects in multiple mediator models"
   ]
  },
  {
   "attachments": {},
   "cell_type": "markdown",
   "metadata": {},
   "source": [
    "__________  \n",
    "Multiple Mediators and Moderation Analysis\n",
    "Also known as a conditional process analysis\n",
    "the two code segments below will vary the moderator, \n",
    "1) allowing the moderator to interact with the exposure upon mediators,\n",
    "or \n",
    "2) allowing the moderator to interact with the mediators upon outcome. "
   ]
  },
  {
   "attachments": {},
   "cell_type": "markdown",
   "metadata": {},
   "source": [
    "**Multiple Mediator Analysis with First Stager Moderator**:\n",
    "\n",
    "This code estimates the joint indirect effects of an exposure variable through multiple mediators on a dependent variable while considering the moderation effect of a specified moderator variable.\n",
    "\n",
    "In this code, similar to the previous code, the function loops over each bootstrap sample and computes the indirect effects for each mediator, considering the moderation effect of the specified moderator variable in the first stage. It calculates the total indirect effect as the sum of the individual indirect effects for each mediator. The mean indirect effect, 95% confidence interval, and p-value are then calculated based on the bootstrap samples.\n",
    "\n",
    "The inclusion of the moderator variable and its interaction with the exposure variable in the first stage allows for examining how the mediation effects may vary based on different levels of the moderator. By considering the moderation effect at the first stage, this analysis investigates the conditional indirect effects of the exposure through the mediators.\n"
   ]
  },
  {
   "cell_type": "code",
   "execution_count": null,
   "metadata": {},
   "outputs": [],
   "source": [
    "import numpy as np\n",
    "import pandas as pd\n",
    "import statsmodels.api as sm\n",
    "from statsmodels.formula.api import ols\n",
    "\n",
    "def perform_multiple_mediation_first_stage_moderator_analysis(dataframe, exposure, mediators, moderator, dependent_variable, bootstrap_samples=5000):\n",
    "    \"\"\"\n",
    "    Performs a multiple mediation analysis by estimating the joint indirect effects of an exposure variable\n",
    "    through multiple mediators on a dependent variable using bootstrapping.\n",
    "\n",
    "    Parameters:\n",
    "    - dataframe: DataFrame containing the data.\n",
    "    - exposure: str, column name of the exposure variable (e.g., 'Age').\n",
    "    - mediators: list, column names of the mediator variables (e.g., ['Brain_Lobe1', 'Brain_Lobe2']).\n",
    "    - moderator: str, column name of the moderator variable.\n",
    "    - dependent_variable: str, column name of the dependent variable (e.g., 'outcome').\n",
    "    - bootstrap_samples: int, optional, number of bootstrap samples to be used (default is 5000).\n",
    "\n",
    "    Returns:\n",
    "    - None. Prints the mean indirect effect and 95% confidence interval.\n",
    "\n",
    "    Example Usage:\n",
    "    perform_multiple_mediation_analysis(data_df, exposure='Age', mediators=['Brain_Lobe1', 'Brain_Lobe2'], dependent_variable='outcome')\n",
    "    \"\"\"\n",
    "\n",
    "    ab_paths, total_indirect_effects = [], []\n",
    "    \n",
    "    # Loop over each bootstrap sample\n",
    "    for i in range(bootstrap_samples):\n",
    "        # Resample the data with replacement\n",
    "        sample = dataframe.sample(frac=1, replace=True)\n",
    "        # Paths from exposure to mediators and from mediators to DV\n",
    "        ab_paths_sample = [ols(f\"{mediator} ~ {exposure} + {moderator} + {exposure}:{moderator}\", data=sample).fit().params[exposure] * \n",
    "                    ols(f\"{dependent_variable} ~ {exposure} + {moderator} + {exposure}:{moderator} + {mediator}\", data=sample).fit().params[mediator]\n",
    "                    for mediator in mediators]\n",
    "        \n",
    "        # Sum the individual indirect effects for this bootstrap sample\n",
    "        total_indirect_effect = sum(ab_paths_sample)\n",
    "        ab_paths.append(ab_paths_sample)\n",
    "        total_indirect_effects.append(total_indirect_effect)\n",
    "    \n",
    "    # Calculate confidence intervals and p-values\n",
    "    result_df = calculate_confidence_intervals(ab_paths, total_indirect_effects, mediators)\n",
    "\n",
    "    return result_df\n"
   ]
  },
  {
   "cell_type": "code",
   "execution_count": null,
   "metadata": {},
   "outputs": [],
   "source": [
    "print(data_df.columns)"
   ]
  },
  {
   "cell_type": "code",
   "execution_count": null,
   "metadata": {},
   "outputs": [],
   "source": [
    "perform_multiple_mediation_first_stage_moderator_analysis(data_df, \n",
    "                                                    exposure='Age', \n",
    "                                                    moderator='Subiculum_Connectivity', \n",
    "                                                    mediators= ['Hippocampus', 'Cerebellum', 'Frontal', 'Parietal',\n",
    "       'Temporal', 'Occipital'], \n",
    "                                                    dependent_variable='outcome',\n",
    "                                                    bootstrap_samples=10000)"
   ]
  },
  {
   "attachments": {},
   "cell_type": "markdown",
   "metadata": {},
   "source": [
    "--------------------\n",
    "Moderated Mulitple Mediation Analysis, but with all mediators combined instead of run individually\n",
    "- This is not supported natively in Python libraries, so I have developed it myself. \n",
    "\n",
    "Experimental, please use with caution. "
   ]
  },
  {
   "attachments": {},
   "cell_type": "markdown",
   "metadata": {},
   "source": [
    "_____\n",
    "**Multiple Mediator Analysis with Second Stage Moderator**\n",
    "\n",
    "\n",
    "In this code, the function loops over each bootstrap sample and computes the indirect effects for each mediator, taking into account the moderation effect of the specified moderator variable. It calculates the total indirect effect as the sum of the individual indirect effects for each mediator. The mean indirect effect, 95% confidence interval, and p-value are then calculated based on the bootstrap samples.\n",
    "\n",
    "The addition of the moderator variable in the second-stage analysis allows for assessing how the mediation effects may vary across different levels of the moderator. By including the moderator variable and its interaction with the mediators, the analysis investigates whether the indirect effects of the exposure through the mediators differ depending on the levels of the moderator.\n",
    "\n",
    "Overall, this code provides a way to examine multiple mediation effects while considering a second-stage moderation analysis to explore potential moderation effects."
   ]
  },
  {
   "cell_type": "code",
   "execution_count": null,
   "metadata": {},
   "outputs": [],
   "source": [
    "import numpy as np\n",
    "import pandas as pd\n",
    "import statsmodels.api as sm\n",
    "from statsmodels.formula.api import ols\n",
    "\n",
    "def perform_multiple_mediation_second_stage_moderator_analysis(dataframe, exposure, mediators, moderator, dependent_variable, bootstrap_samples=5000):\n",
    "    \"\"\"\n",
    "    Performs a multiple mediation analysis by estimating the joint indirect effects of an exposure variable\n",
    "    through multiple mediators on a dependent variable using bootstrapping.\n",
    "\n",
    "    Parameters:\n",
    "    - dataframe: DataFrame containing the data.\n",
    "    - exposure: str, column name of the exposure variable (e.g., 'Age').\n",
    "    - mediators: list, column names of the mediator variables (e.g., ['Brain_Lobe1', 'Brain_Lobe2']).\n",
    "    - moderator: str, column name of the moderator variable.\n",
    "    - dependent_variable: str, column name of the dependent variable (e.g., 'outcome').\n",
    "    - bootstrap_samples: int, optional, number of bootstrap samples to be used (default is 5000).\n",
    "\n",
    "    Returns:\n",
    "    - None. Prints the mean indirect effect and 95% confidence interval.\n",
    "\n",
    "    Example Usage:\n",
    "    perform_multiple_mediation_analysis(data_df, exposure='Age', mediators=['Brain_Lobe1', 'Brain_Lobe2'], dependent_variable='outcome')\n",
    "    \"\"\"\n",
    "\n",
    "    ab_paths, total_indirect_effects = [], []\n",
    "    \n",
    "    # Loop over each bootstrap sample\n",
    "    for i in range(bootstrap_samples):\n",
    "        # Resample the data with replacement\n",
    "        sample = dataframe.sample(frac=1, replace=True)\n",
    "        # Paths from exposure to mediators and from mediators to DV\n",
    "        ab_paths_sample = [ols(f\"{mediator} ~ {exposure}\", data=sample).fit().params[exposure] * \n",
    "                    ols(f\"{dependent_variable} ~ {exposure} + {moderator} + {mediator}:{moderator} + {mediator}\", data=sample).fit().params[mediator]\n",
    "                    for mediator in mediators]\n",
    "        \n",
    "        # Sum the individual indirect effects for this bootstrap sample\n",
    "        total_indirect_effect = sum(ab_paths_sample)\n",
    "        ab_paths.append(ab_paths_sample)\n",
    "        total_indirect_effects.append(total_indirect_effect)\n",
    "    \n",
    "    # Calculate confidence intervals and p-values\n",
    "    result_df = calculate_confidence_intervals(ab_paths, total_indirect_effects, mediators)\n",
    "\n",
    "\n",
    "    return result_df\n"
   ]
  },
  {
   "cell_type": "code",
   "execution_count": null,
   "metadata": {},
   "outputs": [],
   "source": [
    "perform_multiple_mediation_second_stage_moderator_analysis(data_df, \n",
    "                                               exposure = 'Age', \n",
    "                                               moderator = 'Subiculum_Connectivity', \n",
    "                                               mediators= ['Hippocampus', 'Cerebellum', 'Frontal', 'Parietal',\n",
    "       'Temporal', 'Occipital'], \n",
    "                                                    dependent_variable='outcome',\n",
    "                                                    bootstrap_samples=10000)"
   ]
  },
  {
   "cell_type": "code",
   "execution_count": null,
   "metadata": {},
   "outputs": [],
   "source": [
    "data_df.columns"
   ]
  },
  {
   "cell_type": "code",
   "execution_count": null,
   "metadata": {},
   "outputs": [],
   "source": [
    "results_df = perform_mediated_moderation_analysis(dataframe = data_df,\n",
    "                                                  exposure = 'Subiculum_Connectivity', \n",
    "                                                  mediator = 'Subiculum_Damage_Score', \n",
    "                                                  moderator = 'Age', \n",
    "                                                  dependent_variable ='outcome', \n",
    "                                                  bootstrap_samples=5000)\n",
    "results_df"
   ]
  },
  {
   "cell_type": "markdown",
   "metadata": {},
   "source": [
    "# Complex Models"
   ]
  },
  {
   "cell_type": "markdown",
   "metadata": {},
   "source": [
    "**Mediated Moderator Analysis AKA Second Stage Moderation Mediation**\n",
    "\n",
    "The indirect effect of the moderator on the outcome through the mediator is conditional on the exposure and its interactions with the mediator and the moderator.\n",
    "_____\n",
    "\n",
    "Let's break this down:\n",
    "\n",
    "Similar to my previous examples, we will use the same variables. This model suggests that:\n",
    "\n",
    "Age (the initial moderator) interacts with DBS (the exposure) to influence the outcome.\n",
    "However, the moderation effect of age might not be the \"true\" or direct moderation. Instead, it might be that something underlying age (another variable) is what's truly driving this moderation.\n",
    "In terms of a pathway:\n",
    "\n",
    "DBS influences the outcome.\n",
    "The effect of DBS on the outcome varies based on age.\n",
    "However, the moderating effect of age is itself influenced (or mediated) by another variable. This other variable could be a more direct measure or something that captures the biological, psychological, or physiological changes that come with age.\n",
    "Here's a step-by-step breakdown of the model:\n",
    "\n",
    "Mediator Model (for the \"true\" underlying mediator of age's moderation):\n",
    "- Mediator is predicted by age.\n",
    "\n",
    "Outcome Model:\n",
    "- Outcome is predicted by DBS, the mediator, age, and interactions between DBS and both age and the mediator.\n",
    "This model seeks to understand if the interaction between age and DBS is not just because of chronological age itself but due to some underlying factor associated with age.\n",
    "\n",
    "Is it just a mediated moderation?\n",
    "It's close but slightly different. In a typical mediated moderation:\n",
    "\n",
    "The exposure affects the mediator.\n",
    "The mediator, the exposure, and their interaction influence the outcome.In the Second Stage Moderation Mediation:\n",
    "\n",
    "Age (the moderator) affects the mediator.\n",
    "The mediator, the exposure (DBS), age, and their interactions influence the outcome."
   ]
  },
  {
   "cell_type": "code",
   "execution_count": 35,
   "metadata": {},
   "outputs": [],
   "source": [
    "import pandas as pd\n",
    "import statsmodels.api as sm\n",
    "from statsmodels.formula.api import ols\n",
    "from statsmodels.stats.mediation import Mediation\n",
    "\n",
    "def mediated_moderator_analysis(dataframe, exposure, mediator, moderator, dependent_variable, bootstrap_samples=5000):\n",
    "    \"\"\"\n",
    "    Performs a mediated moderator analysis.\n",
    "\n",
    "    Returns:\n",
    "    - DataFrame with the mean indirect effect, confidence intervals, and p-values for the indirect effect.\n",
    "\n",
    "    Example Usage:\n",
    "    result_df = mediated_moderator_analysis(data_df, exposure='DBS',\n",
    "                                            mediator='UnderlyingVariable',\n",
    "                                            moderator='Age',\n",
    "                                            dependent_variable='Outcome')\n",
    "    \"\"\"\n",
    "\n",
    "    ab_paths = []\n",
    "\n",
    "    # Loop over each bootstrap sample\n",
    "    for i in range(bootstrap_samples):\n",
    "        # Resample the data with replacement\n",
    "        sample = dataframe.sample(frac=1, replace=True)\n",
    "\n",
    "        # Fit the mediator model: Mediator ~ Moderator\n",
    "        model_M = ols(f\"{mediator} ~ {moderator}\", data=sample).fit()\n",
    "\n",
    "        # Fit the outcome model: Outcome ~ Exposure + Mediator + Moderator + Exposure:Mediator + Exposure:Moderator\n",
    "        model_Y = ols(f\"{dependent_variable} ~ {exposure} + {mediator} + {moderator} + {exposure}:{mediator} + {exposure}:{moderator}\", data=sample).fit()\n",
    "\n",
    "        # Calculate the indirect effect for this bootstrap sample\n",
    "        indirect_effect = model_M.params[moderator] * (model_Y.params[exposure] + model_Y.params[f'{exposure}:{mediator}'])\n",
    "\n",
    "        # Append the indirect effect to the list\n",
    "        ab_paths.append(indirect_effect)\n",
    "\n",
    "    # Calculate confidence intervals and p-values\n",
    "    result_df = calculate_confidence_intervals(ab_paths, mediators=mediator)\n",
    "\n",
    "    return result_df\n"
   ]
  },
  {
   "cell_type": "code",
   "execution_count": 36,
   "metadata": {},
   "outputs": [
    {
     "data": {
      "text/plain": [
       "Index(['subject_id', 'Age', 'Baseline', 'Subiculum_Connectivity',\n",
       "       'Abs_Stim_Composite_Atophy_SpCorrel',\n",
       "       'Raw_Stim_Composite_Atrophy_SpCorrel', 'Frontal_Atrophy',\n",
       "       'Insula_Atrophy', 'Temporal_Atrophy', 'Cerebellar_Atrophy',\n",
       "       'Subiculum_Atrophy', 'Occipital_Atrophy', 'Parietal_Atrophy',\n",
       "       'Total_Atrophy_Voxels', 'Visual_Connectivity',\n",
       "       'Somatomotor_Connectivity', 'Dorsal_Attention_Connectivity',\n",
       "       'Ventral_Attention_Connectivity', 'Limbic_Connectivity',\n",
       "       'Frontoparietal_Connectivity', 'Default_Connectivity',\n",
       "       'Default_Atrophy', 'Visual_Atrophy', 'Limbic_Atrophy',\n",
       "       'Somatomotor_Atrophy', 'Dorsal_Attention_Atrophy',\n",
       "       'Ventral_Attention_Atrophy', 'Frontoparietal_Atrophy',\n",
       "       'Null_Memory_Atrophy', 'Anticorrelated_Memory_Atrophy',\n",
       "       'Correlated_Memory_Atrophy', 'Absolute_Correlated_Memory_Network',\n",
       "       'Whole_Brain', 'outcome'],\n",
       "      dtype='object')"
      ]
     },
     "execution_count": 36,
     "metadata": {},
     "output_type": "execute_result"
    }
   ],
   "source": [
    "data_df.columns"
   ]
  },
  {
   "cell_type": "code",
   "execution_count": 40,
   "metadata": {},
   "outputs": [
    {
     "data": {
      "text/html": [
       "<div>\n",
       "<style scoped>\n",
       "    .dataframe tbody tr th:only-of-type {\n",
       "        vertical-align: middle;\n",
       "    }\n",
       "\n",
       "    .dataframe tbody tr th {\n",
       "        vertical-align: top;\n",
       "    }\n",
       "\n",
       "    .dataframe thead th {\n",
       "        text-align: right;\n",
       "    }\n",
       "</style>\n",
       "<table border=\"1\" class=\"dataframe\">\n",
       "  <thead>\n",
       "    <tr style=\"text-align: right;\">\n",
       "      <th></th>\n",
       "      <th>Point Estimate</th>\n",
       "      <th>2.5th Percentile</th>\n",
       "      <th>97.5th Percentile</th>\n",
       "      <th>P-value</th>\n",
       "    </tr>\n",
       "  </thead>\n",
       "  <tbody>\n",
       "    <tr>\n",
       "      <th>Whole_Brain</th>\n",
       "      <td>0.023983</td>\n",
       "      <td>-0.122532</td>\n",
       "      <td>0.237675</td>\n",
       "      <td>0.417</td>\n",
       "    </tr>\n",
       "  </tbody>\n",
       "</table>\n",
       "</div>"
      ],
      "text/plain": [
       "             Point Estimate  2.5th Percentile  97.5th Percentile  P-value\n",
       "Whole_Brain        0.023983         -0.122532           0.237675    0.417"
      ]
     },
     "execution_count": 40,
     "metadata": {},
     "output_type": "execute_result"
    }
   ],
   "source": [
    "mediated_moderator_analysis(dataframe=data_df, \n",
    "                            exposure='Subiculum_Connectivity', \n",
    "                            mediator='Whole_Brain', \n",
    "                            moderator='Age', \n",
    "                            dependent_variable='outcome', \n",
    "                            bootstrap_samples=5000)"
   ]
  },
  {
   "cell_type": "code",
   "execution_count": null,
   "metadata": {},
   "outputs": [],
   "source": []
  }
 ],
 "metadata": {
  "kernelspec": {
   "display_name": "nimlab_py310",
   "language": "python",
   "name": "python3"
  },
  "language_info": {
   "codemirror_mode": {
    "name": "ipython",
    "version": 3
   },
   "file_extension": ".py",
   "mimetype": "text/x-python",
   "name": "python",
   "nbconvert_exporter": "python",
   "pygments_lexer": "ipython3",
   "version": "3.10.8"
  },
  "orig_nbformat": 4
 },
 "nbformat": 4,
 "nbformat_minor": 2
}
