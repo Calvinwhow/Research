{
 "cells": [
  {
   "cell_type": "markdown",
   "metadata": {},
   "source": [
    "Imports"
   ]
  },
  {
   "cell_type": "code",
   "execution_count": 272,
   "metadata": {},
   "outputs": [],
   "source": [
    "import pandas as pd"
   ]
  },
  {
   "cell_type": "code",
   "execution_count": 273,
   "metadata": {},
   "outputs": [],
   "source": [
    "df = pd.read_csv('/Users/cu135/Dropbox (Partners HealthCare)/resources/datasets/BIDS_PD_DBS_STN_WURZBURG/metadata/subject_age_and_atrophy_index.csv')"
   ]
  },
  {
   "cell_type": "markdown",
   "metadata": {},
   "source": [
    "# 01 - Find Instrumental Variables"
   ]
  },
  {
   "cell_type": "code",
   "execution_count": 274,
   "metadata": {},
   "outputs": [],
   "source": [
    "import pandas as pd\n",
    "import scipy.stats as stats\n",
    "from tqdm import tqdm\n",
    "import numpy as np\n",
    "\n",
    "class CorrelationFilter:\n",
    "    \"\"\"\n",
    "    A class for filtering rows of a DataFrame based on correlation p-values for independent and dependent variables.\n",
    "\n",
    "    Parameters:\n",
    "        df (pd.DataFrame): The input DataFrame containing variables to be correlated.\n",
    "        method (function): The correlation method to use (e.g., stats.spearmanr).\n",
    "        independent_variable (str): The name of the independent variable for filtering.\n",
    "        dependent_variable (str): The name of the dependent variable for filtering.\n",
    "\n",
    "    Methods:\n",
    "        calculate_correlations(): Calculate correlation coefficients and p-values for all variable pairs.\n",
    "        filter_correlations(): Filter rows based on p-values for the independent and dependent variables.\n",
    "\n",
    "    Example:\n",
    "        corr_filter = CorrelationFilter(df, stats.spearmanr, 'Independent_Variable', 'Dependent_Variable')\n",
    "        filtered_rows = corr_filter.filter_correlations()\n",
    "    \"\"\"\n",
    "\n",
    "    def __init__(self, df, method, independent_variable, dependent_variable):\n",
    "        \"\"\"\n",
    "        Initialize the CorrelationFilter class with the input DataFrame and settings.\n",
    "\n",
    "        Args:\n",
    "            df (pd.DataFrame): The input DataFrame containing variables to be correlated.\n",
    "            method (function): The correlation method to use (e.g., stats.spearmanr).\n",
    "            independent_variable (str): The name of the independent variable for filtering.\n",
    "            dependent_variable (str): The name of the dependent variable for filtering.\n",
    "        \"\"\"\n",
    "        self.df = df\n",
    "        if method == 'pearson':\n",
    "            self.method = stats.pearsonr\n",
    "            print('Running pearson correlation. Setting NaN and Inf values to 0')\n",
    "            self.df = self.df.fillna(0).replace([np.inf, -np.inf], 0)\n",
    "        elif method == 'spearman':\n",
    "            self.method = stats.spearmanr\n",
    "        else:\n",
    "            raise ValueError(f\"Unknown method {method}, choose 'pearsonr' or 'spearman'\")\n",
    "        self.independent_variable = independent_variable\n",
    "        self.dependent_variable = dependent_variable\n",
    "\n",
    "    def calculate_correlations(self):\n",
    "        \"\"\"\n",
    "        Calculate correlation coefficients and p-values for all variable pairs in the DataFrame.\n",
    "\n",
    "        Returns:\n",
    "            correlation_matrix (pd.DataFrame): A DataFrame containing correlation coefficients.\n",
    "            p_value_matrix (pd.DataFrame): A DataFrame containing p-values for correlations.\n",
    "        \"\"\"\n",
    "        # Initialize empty correlation and p-value matrices\n",
    "        num_cols = len(self.df.columns)\n",
    "        correlation_matrix = pd.DataFrame(index=self.df.columns, columns=self.df.columns)\n",
    "        p_value_matrix = pd.DataFrame(index=self.df.columns, columns=self.df.columns)\n",
    "\n",
    "        # Calculate correlation coefficients and p-values\n",
    "        \n",
    "        for i in tqdm(range(num_cols)):\n",
    "            for j in range(i+1, num_cols):\n",
    "                col1 = self.df.iloc[:, i]\n",
    "                col2 = self.df.iloc[:, j]\n",
    "                try:\n",
    "                    corr, p_value = self.method(col1, col2)\n",
    "                except:\n",
    "                    corr = np.nan\n",
    "                    p_value = np.nan\n",
    "                correlation_matrix.iloc[i, j] = corr\n",
    "                correlation_matrix.iloc[j, i] = corr\n",
    "                p_value_matrix.iloc[i, j] = p_value\n",
    "                p_value_matrix.iloc[j, i] = p_value\n",
    "\n",
    "        return correlation_matrix, p_value_matrix\n",
    "\n",
    "    def filter_correlations(self):\n",
    "        \"\"\"\n",
    "        Filter rows based on p-values for the independent and dependent variables.\n",
    "\n",
    "        Returns:\n",
    "            filtered_rows (pd.DataFrame): Rows of the correlation matrix that meet the criteria.\n",
    "        \"\"\"\n",
    "        # Calculate correlations\n",
    "        correlation_matrix, p_value_matrix = self.calculate_correlations()\n",
    "\n",
    "        # Filter rows based on p-values for independent and dependent variables\n",
    "        independent_variable_p_values = p_value_matrix.loc[:, self.independent_variable]\n",
    "        dependent_variable_p_values = p_value_matrix.loc[:, self.dependent_variable]\n",
    "\n",
    "        # Rows that meet the criteria\n",
    "        filtered_p_matrix = p_value_matrix[\n",
    "            (independent_variable_p_values <= 0.05) & (dependent_variable_p_values > 0.05)\n",
    "        ]\n",
    "        \n",
    "        # Extract the indices of rows and columns to keep\n",
    "        filtered_indices = filtered_p_matrix.index\n",
    "\n",
    "        # Use the indices to filter the correlation DataFrame\n",
    "        filtered_correlation_matrix = correlation_matrix.loc[filtered_indices, [self.independent_variable, self.dependent_variable]]\n",
    "\n",
    "\n",
    "        return filtered_p_matrix, filtered_correlation_matrix\n",
    "\n",
    "# Usage example:\n",
    "# corr_filter = CorrelationFilter(df, stats.spearmanr, 'Independent_Variable', 'Dependent_Variable')\n",
    "# filtered_rows = corr_filter.filter_correlations()\n"
   ]
  },
  {
   "cell_type": "markdown",
   "metadata": {},
   "source": [
    "Display Variables"
   ]
  },
  {
   "cell_type": "code",
   "execution_count": 275,
   "metadata": {},
   "outputs": [
    {
     "data": {
      "text/plain": [
       "['subject',\n",
       " 'Age',\n",
       " 'Atrophy Pattern Index',\n",
       " 'Z-Scored Atrophy Pattern Index',\n",
       " 'Percent Improvement UPDRS3',\n",
       " 'Disease Duration',\n",
       " 'Sex',\n",
       " 'Cognitive Cohort ID',\n",
       " 'percent_improvement_mdrs',\n",
       " 'Subiculum Connectivity',\n",
       " 'Total Atrophied Voxels',\n",
       " 'Temporal',\n",
       " 'Frontal',\n",
       " 'Parietal',\n",
       " 'Cerebellum',\n",
       " 'Insula',\n",
       " 'Occipital',\n",
       " 'Temporal Z',\n",
       " 'Frontal Z',\n",
       " 'Parietal Z',\n",
       " 'Cerebellum Z',\n",
       " 'Insula Z',\n",
       " 'Occipital Z',\n",
       " '3rd Ventricle',\n",
       " '4th Ventricle',\n",
       " 'Right Accumbens Area',\n",
       " 'Left Accumbens Area',\n",
       " 'Right Amygdala',\n",
       " 'Left Amygdala',\n",
       " 'Brain Stem',\n",
       " 'Right Caudate',\n",
       " 'Left Caudate',\n",
       " 'Right Cerebellum Exterior',\n",
       " 'Left Cerebellum Exterior',\n",
       " 'Right Cerebellum White Matter',\n",
       " 'Left Cerebellum White Matter',\n",
       " 'Right Cerebral White Matter',\n",
       " 'Left Cerebral White Matter',\n",
       " 'CSF',\n",
       " 'Right Hippocampus',\n",
       " 'Left Hippocampus',\n",
       " 'Right Inf Lat Vent',\n",
       " 'Left Inf Lat Vent',\n",
       " 'Right Lateral Ventricle',\n",
       " 'Left Lateral Ventricle',\n",
       " 'Right Pallidum',\n",
       " 'Left Pallidum',\n",
       " 'Right Putamen',\n",
       " 'Left Putamen',\n",
       " 'Right Thalamus Proper',\n",
       " 'Left Thalamus Proper',\n",
       " 'Right Ventral DC',\n",
       " 'Left Ventral DC',\n",
       " 'Right vessel',\n",
       " 'Left vessel',\n",
       " 'Optic Chiasm',\n",
       " 'Cerebellar Vermal Lobules I-V',\n",
       " 'Cerebellar Vermal Lobules VI-VII',\n",
       " 'Cerebellar Vermal Lobules VIII-X',\n",
       " 'Left Basal Forebrain',\n",
       " 'Right Basal Forebrain',\n",
       " 'Right ACgG anterior cingulate gyrus',\n",
       " 'Left ACgG anterior cingulate gyrus',\n",
       " 'Right AIns anterior insula',\n",
       " 'Left AIns anterior insula',\n",
       " 'Right AOrG anterior orbital gyrus',\n",
       " 'Left AOrG anterior orbital gyrus',\n",
       " 'Right AnG angular gyrus',\n",
       " 'Left AnG angular gyrus',\n",
       " 'Right Calc calcarine cortex',\n",
       " 'Left Calc calcarine cortex',\n",
       " 'Right CO central operculum',\n",
       " 'Left CO central operculum',\n",
       " 'Right Cun cuneus',\n",
       " 'Left Cun cuneus',\n",
       " 'Right Ent entorhinal area',\n",
       " 'Left Ent entorhinal area',\n",
       " 'Right FO frontal operculum',\n",
       " 'Left FO frontal operculum',\n",
       " 'Right FRP frontal pole',\n",
       " 'Left FRP frontal pole',\n",
       " 'Right FuG fusiform gyrus',\n",
       " 'Left FuG fusiform gyrus',\n",
       " 'Right GRe gyrus rectus',\n",
       " 'Left GRe gyrus rectus',\n",
       " 'Right IOG inferior occipital gyrus',\n",
       " 'Left IOG inferior occipital gyrus',\n",
       " 'Right ITG inferior temporal gyrus',\n",
       " 'Left ITG inferior temporal gyrus',\n",
       " 'Right LiG lingual gyrus',\n",
       " 'Left LiG lingual gyrus',\n",
       " 'Right LOrG lateral orbital gyrus',\n",
       " 'Left LOrG lateral orbital gyrus',\n",
       " 'Right MCgG middle cingulate gyrus',\n",
       " 'Left MCgG middle cingulate gyrus',\n",
       " 'Right MFC medial frontal cortex',\n",
       " 'Left MFC medial frontal cortex',\n",
       " 'Right MFG middle frontal gyrus',\n",
       " 'Left MFG middle frontal gyrus',\n",
       " 'Right MOG middle occipital gyrus',\n",
       " 'Left MOG middle occipital gyrus',\n",
       " 'Right MOrG medial orbital gyrus',\n",
       " 'Left MOrG medial orbital gyrus',\n",
       " 'Right MPoG postcentral gyrus medial segment',\n",
       " 'Left MPoG postcentral gyrus medial segment',\n",
       " 'Right MPrG precentral gyrus medial segment',\n",
       " 'Left MPrG precentral gyrus medial segment',\n",
       " 'Right MSFG superior frontal gyrus medial segment',\n",
       " 'Left MSFG superior frontal gyrus medial segment',\n",
       " 'Right MTG middle temporal gyrus',\n",
       " 'Left MTG middle temporal gyrus',\n",
       " 'Right OCP occipital pole',\n",
       " 'Left OCP occipital pole',\n",
       " 'Right OFuG occipital fusiform gyrus',\n",
       " 'Left OFuG occipital fusiform gyrus',\n",
       " 'Right OpIFG opercular part of the inferior frontal gyrus',\n",
       " 'Left OpIFG opercular part of the inferior frontal gyrus',\n",
       " 'Right OrIFG orbital part of the inferior frontal gyrus',\n",
       " 'Left OrIFG orbital part of the inferior frontal gyrus',\n",
       " 'Right PCgG posterior cingulate gyrus',\n",
       " 'Left PCgG posterior cingulate gyrus',\n",
       " 'Right PCu precuneus',\n",
       " 'Left PCu precuneus',\n",
       " 'Right PHG parahippocampal gyrus',\n",
       " 'Left PHG parahippocampal gyrus',\n",
       " 'Right PIns posterior insula',\n",
       " 'Left PIns posterior insula',\n",
       " 'Right PO parietal operculum',\n",
       " 'Left PO parietal operculum',\n",
       " 'Right PoG postcentral gyrus',\n",
       " 'Left PoG postcentral gyrus',\n",
       " 'Right POrG posterior orbital gyrus',\n",
       " 'Left POrG posterior orbital gyrus',\n",
       " 'Right PP planum polare',\n",
       " 'Left PP planum polare',\n",
       " 'Right PrG precentral gyrus',\n",
       " 'Left PrG precentral gyrus',\n",
       " 'Right PT planum temporale',\n",
       " 'Left PT planum temporale',\n",
       " 'Right SCA subcallosal area',\n",
       " 'Left SCA subcallosal area',\n",
       " 'Right SFG superior frontal gyrus',\n",
       " 'Left SFG superior frontal gyrus',\n",
       " 'Right SMC supplementary motor cortex',\n",
       " 'Left SMC supplementary motor cortex',\n",
       " 'Right SMG supramarginal gyrus',\n",
       " 'Left SMG supramarginal gyrus',\n",
       " 'Right SOG superior occipital gyrus',\n",
       " 'Left SOG superior occipital gyrus',\n",
       " 'Right SPL superior parietal lobule',\n",
       " 'Left SPL superior parietal lobule',\n",
       " 'Right STG superior temporal gyrus',\n",
       " 'Left STG superior temporal gyrus',\n",
       " 'Right TMP temporal pole',\n",
       " 'Left TMP temporal pole',\n",
       " 'Right TrIFG triangular part of the inferior frontal gyrus',\n",
       " 'Left TrIFG triangular part of the inferior frontal gyrus',\n",
       " 'Right TTG transverse temporal gyrus',\n",
       " 'Left TTG transverse temporal gyrus',\n",
       " 'Cat12 Unstd Temporal',\n",
       " 'Cat12 Unstd Parietal',\n",
       " 'Cat12 Unstd Occ.',\n",
       " 'Cat12 Unstd. Insula',\n",
       " 'Cat12 Unstd. Frontal',\n",
       " 'Cat12 Unstd Cereb']"
      ]
     },
     "execution_count": 275,
     "metadata": {},
     "output_type": "execute_result"
    }
   ],
   "source": [
    "[col for col in df.columns]"
   ]
  },
  {
   "cell_type": "markdown",
   "metadata": {},
   "source": [
    "Choose and independent variable and a dependent variable\n",
    "\n",
    "The independent variable is the thing which causes the dependent variable. \n",
    "\n",
    "Thus, in this example, if we are interested in the causal effect of age on the pattern of atrophy in a human brain, define age as the independent variable and some metric of atrophy pattern as the dependent variable."
   ]
  },
  {
   "cell_type": "code",
   "execution_count": 276,
   "metadata": {},
   "outputs": [],
   "source": [
    "independent_variable = 'Age'\n",
    "dependent_variable = 'Atrophy Pattern Index'"
   ]
  },
  {
   "cell_type": "markdown",
   "metadata": {},
   "source": [
    "How would you like to assess the variables?\n",
    "\n",
    "correlation methods:\n",
    "\n",
    "'pearson' - will be more affected by outliers, potentially giving significant results due to outlier. For normal data. \n",
    "\n",
    "'spearman' - will be les affected by outliers, potentially mitigating effects of outliers. For non-normal data."
   ]
  },
  {
   "cell_type": "code",
   "execution_count": 277,
   "metadata": {},
   "outputs": [],
   "source": [
    "correlation_method = 'pearson'"
   ]
  },
  {
   "cell_type": "markdown",
   "metadata": {},
   "source": [
    "Find Instrumental Variables"
   ]
  },
  {
   "cell_type": "code",
   "execution_count": 278,
   "metadata": {},
   "outputs": [
    {
     "name": "stdout",
     "output_type": "stream",
     "text": [
      "Running pearson correlation. Setting NaN and Inf values to 0\n"
     ]
    },
    {
     "name": "stderr",
     "output_type": "stream",
     "text": [
      "  0%|          | 0/165 [00:00<?, ?it/s]/usr/local/Caskroom/mambaforge/base/envs/nimlab_py310/lib/python3.10/site-packages/scipy/stats/_stats_py.py:4427: ConstantInputWarning: An input array is constant; the correlation coefficient is not defined.\n",
      "  warnings.warn(stats.ConstantInputWarning(msg))\n",
      "100%|██████████| 165/165 [00:03<00:00, 54.88it/s] \n"
     ]
    }
   ],
   "source": [
    "corr_filter = CorrelationFilter(df, correlation_method, independent_variable, dependent_variable)\n",
    "filtered_p_values_df, filtered_correlation_values_df = corr_filter.filter_correlations()"
   ]
  },
  {
   "cell_type": "markdown",
   "metadata": {},
   "source": [
    "Display p-Value Results"
   ]
  },
  {
   "cell_type": "code",
   "execution_count": 279,
   "metadata": {},
   "outputs": [
    {
     "data": {
      "text/html": [
       "<div>\n",
       "<style scoped>\n",
       "    .dataframe tbody tr th:only-of-type {\n",
       "        vertical-align: middle;\n",
       "    }\n",
       "\n",
       "    .dataframe tbody tr th {\n",
       "        vertical-align: top;\n",
       "    }\n",
       "\n",
       "    .dataframe thead th {\n",
       "        text-align: right;\n",
       "    }\n",
       "</style>\n",
       "<table border=\"1\" class=\"dataframe\">\n",
       "  <thead>\n",
       "    <tr style=\"text-align: right;\">\n",
       "      <th></th>\n",
       "      <th>Atrophy Pattern Index</th>\n",
       "      <th>Age</th>\n",
       "    </tr>\n",
       "  </thead>\n",
       "  <tbody>\n",
       "  </tbody>\n",
       "</table>\n",
       "</div>"
      ],
      "text/plain": [
       "Empty DataFrame\n",
       "Columns: [Atrophy Pattern Index, Age]\n",
       "Index: []"
      ]
     },
     "execution_count": 279,
     "metadata": {},
     "output_type": "execute_result"
    }
   ],
   "source": [
    "filtered_p_values_df.loc[:, [dependent_variable, independent_variable]]"
   ]
  },
  {
   "cell_type": "code",
   "execution_count": 280,
   "metadata": {},
   "outputs": [
    {
     "data": {
      "text/html": [
       "<div>\n",
       "<style scoped>\n",
       "    .dataframe tbody tr th:only-of-type {\n",
       "        vertical-align: middle;\n",
       "    }\n",
       "\n",
       "    .dataframe tbody tr th {\n",
       "        vertical-align: top;\n",
       "    }\n",
       "\n",
       "    .dataframe thead th {\n",
       "        text-align: right;\n",
       "    }\n",
       "</style>\n",
       "<table border=\"1\" class=\"dataframe\">\n",
       "  <thead>\n",
       "    <tr style=\"text-align: right;\">\n",
       "      <th></th>\n",
       "      <th>Age</th>\n",
       "      <th>Atrophy Pattern Index</th>\n",
       "    </tr>\n",
       "  </thead>\n",
       "  <tbody>\n",
       "  </tbody>\n",
       "</table>\n",
       "</div>"
      ],
      "text/plain": [
       "Empty DataFrame\n",
       "Columns: [Age, Atrophy Pattern Index]\n",
       "Index: []"
      ]
     },
     "execution_count": 280,
     "metadata": {},
     "output_type": "execute_result"
    }
   ],
   "source": [
    "filtered_correlation_values_df"
   ]
  },
  {
   "cell_type": "markdown",
   "metadata": {},
   "source": [
    "# 02 - Run Instrumental Variable Analysis"
   ]
  },
  {
   "cell_type": "markdown",
   "metadata": {},
   "source": [
    "Define Instrumental Variables in a List\n",
    "\n",
    "instr_var_list = ['Parietal Atrophy', 'Frontal Atrophy']\n",
    "\n",
    "instr_var_list = filtered_p_values_df.index.to_list() <--- this will use all possible instrumental variables."
   ]
  },
  {
   "cell_type": "code",
   "execution_count": 281,
   "metadata": {},
   "outputs": [],
   "source": [
    "instr_var_list = filtered_p_values_df.index.to_list()\n",
    "\n",
    "# instr_var_list =  ['Parietal']#, 'Limbic Atrophy'] #, 'Right ACgG anterior cingulate gyrus', 'Left MFC medial frontal cortex', 'Right POrG posterior orbital gyrus', 'Left SCA subcallosal area', 'Left SPL superior parietal lobule', 'Left TTG transverse temporal gyrus']"
   ]
  },
  {
   "cell_type": "markdown",
   "metadata": {},
   "source": [
    "Define Variables"
   ]
  },
  {
   "cell_type": "markdown",
   "metadata": {},
   "source": [
    "Run Instrumental Variable Analysis"
   ]
  },
  {
   "cell_type": "code",
   "execution_count": 282,
   "metadata": {},
   "outputs": [
    {
     "ename": "LinAlgError",
     "evalue": "Singular matrix",
     "output_type": "error",
     "traceback": [
      "\u001b[0;31m---------------------------------------------------------------------------\u001b[0m",
      "\u001b[0;31mLinAlgError\u001b[0m                               Traceback (most recent call last)",
      "\u001b[1;32m/Users/cu135/Library/CloudStorage/OneDrive-Personal/OneDrive_Documents/Work/Software/Research/nimlab/calvin_utils/notebooks/statistical_notebooks/structural_equation_notebooks/instrumental_variable_analysis.ipynb Cell 22\u001b[0m line \u001b[0;36m4\n\u001b[1;32m      <a href='vscode-notebook-cell:/Users/cu135/Library/CloudStorage/OneDrive-Personal/OneDrive_Documents/Work/Software/Research/nimlab/calvin_utils/notebooks/statistical_notebooks/structural_equation_notebooks/instrumental_variable_analysis.ipynb#W1sZmlsZQ%3D%3D?line=0'>1</a>\u001b[0m \u001b[39mfrom\u001b[39;00m \u001b[39mstatsmodels\u001b[39;00m\u001b[39m.\u001b[39;00m\u001b[39msandbox\u001b[39;00m\u001b[39m.\u001b[39;00m\u001b[39mregression\u001b[39;00m\u001b[39m.\u001b[39;00m\u001b[39mgmm\u001b[39;00m \u001b[39mimport\u001b[39;00m IV2SLS\n\u001b[1;32m      <a href='vscode-notebook-cell:/Users/cu135/Library/CloudStorage/OneDrive-Personal/OneDrive_Documents/Work/Software/Research/nimlab/calvin_utils/notebooks/statistical_notebooks/structural_equation_notebooks/instrumental_variable_analysis.ipynb#W1sZmlsZQ%3D%3D?line=2'>3</a>\u001b[0m iv_model \u001b[39m=\u001b[39m IV2SLS(endog\u001b[39m=\u001b[39mdf[dependent_variable], exog\u001b[39m=\u001b[39mdf[independent_variable], instrument\u001b[39m=\u001b[39mdf[instr_var_list])\n\u001b[0;32m----> <a href='vscode-notebook-cell:/Users/cu135/Library/CloudStorage/OneDrive-Personal/OneDrive_Documents/Work/Software/Research/nimlab/calvin_utils/notebooks/statistical_notebooks/structural_equation_notebooks/instrumental_variable_analysis.ipynb#W1sZmlsZQ%3D%3D?line=3'>4</a>\u001b[0m iv_results \u001b[39m=\u001b[39m iv_model\u001b[39m.\u001b[39;49mfit()\n\u001b[1;32m      <a href='vscode-notebook-cell:/Users/cu135/Library/CloudStorage/OneDrive-Personal/OneDrive_Documents/Work/Software/Research/nimlab/calvin_utils/notebooks/statistical_notebooks/structural_equation_notebooks/instrumental_variable_analysis.ipynb#W1sZmlsZQ%3D%3D?line=5'>6</a>\u001b[0m \u001b[39m# Display the summary\u001b[39;00m\n\u001b[1;32m      <a href='vscode-notebook-cell:/Users/cu135/Library/CloudStorage/OneDrive-Personal/OneDrive_Documents/Work/Software/Research/nimlab/calvin_utils/notebooks/statistical_notebooks/structural_equation_notebooks/instrumental_variable_analysis.ipynb#W1sZmlsZQ%3D%3D?line=6'>7</a>\u001b[0m \u001b[39mprint\u001b[39m(iv_results\u001b[39m.\u001b[39msummary2())\n",
      "File \u001b[0;32m/usr/local/Caskroom/mambaforge/base/envs/nimlab_py310/lib/python3.10/site-packages/statsmodels/sandbox/regression/gmm.py:148\u001b[0m, in \u001b[0;36mIV2SLS.fit\u001b[0;34m(self)\u001b[0m\n\u001b[1;32m    146\u001b[0m Ftx \u001b[39m=\u001b[39m np\u001b[39m.\u001b[39mdot(F\u001b[39m.\u001b[39mT, x)\n\u001b[1;32m    147\u001b[0m Fty \u001b[39m=\u001b[39m np\u001b[39m.\u001b[39mdot(F\u001b[39m.\u001b[39mT, y)\n\u001b[0;32m--> 148\u001b[0m params \u001b[39m=\u001b[39m np\u001b[39m.\u001b[39;49mlinalg\u001b[39m.\u001b[39;49msolve(FtF, Fty)\n\u001b[1;32m    149\u001b[0m Ftxinv \u001b[39m=\u001b[39m np\u001b[39m.\u001b[39mlinalg\u001b[39m.\u001b[39minv(Ftx)\n\u001b[1;32m    150\u001b[0m \u001b[39mself\u001b[39m\u001b[39m.\u001b[39mnormalized_cov_params \u001b[39m=\u001b[39m np\u001b[39m.\u001b[39mdot(Ftxinv\u001b[39m.\u001b[39mT, np\u001b[39m.\u001b[39mdot(FtF, Ftxinv))\n",
      "File \u001b[0;32m<__array_function__ internals>:180\u001b[0m, in \u001b[0;36msolve\u001b[0;34m(*args, **kwargs)\u001b[0m\n",
      "File \u001b[0;32m/usr/local/Caskroom/mambaforge/base/envs/nimlab_py310/lib/python3.10/site-packages/numpy/linalg/linalg.py:400\u001b[0m, in \u001b[0;36msolve\u001b[0;34m(a, b)\u001b[0m\n\u001b[1;32m    398\u001b[0m signature \u001b[39m=\u001b[39m \u001b[39m'\u001b[39m\u001b[39mDD->D\u001b[39m\u001b[39m'\u001b[39m \u001b[39mif\u001b[39;00m isComplexType(t) \u001b[39melse\u001b[39;00m \u001b[39m'\u001b[39m\u001b[39mdd->d\u001b[39m\u001b[39m'\u001b[39m\n\u001b[1;32m    399\u001b[0m extobj \u001b[39m=\u001b[39m get_linalg_error_extobj(_raise_linalgerror_singular)\n\u001b[0;32m--> 400\u001b[0m r \u001b[39m=\u001b[39m gufunc(a, b, signature\u001b[39m=\u001b[39;49msignature, extobj\u001b[39m=\u001b[39;49mextobj)\n\u001b[1;32m    402\u001b[0m \u001b[39mreturn\u001b[39;00m wrap(r\u001b[39m.\u001b[39mastype(result_t, copy\u001b[39m=\u001b[39m\u001b[39mFalse\u001b[39;00m))\n",
      "File \u001b[0;32m/usr/local/Caskroom/mambaforge/base/envs/nimlab_py310/lib/python3.10/site-packages/numpy/linalg/linalg.py:89\u001b[0m, in \u001b[0;36m_raise_linalgerror_singular\u001b[0;34m(err, flag)\u001b[0m\n\u001b[1;32m     88\u001b[0m \u001b[39mdef\u001b[39;00m \u001b[39m_raise_linalgerror_singular\u001b[39m(err, flag):\n\u001b[0;32m---> 89\u001b[0m     \u001b[39mraise\u001b[39;00m LinAlgError(\u001b[39m\"\u001b[39m\u001b[39mSingular matrix\u001b[39m\u001b[39m\"\u001b[39m)\n",
      "\u001b[0;31mLinAlgError\u001b[0m: Singular matrix"
     ]
    }
   ],
   "source": [
    "from statsmodels.sandbox.regression.gmm import IV2SLS\n",
    "\n",
    "iv_model = IV2SLS(endog=df[dependent_variable], exog=df[independent_variable], instrument=df[instr_var_list])\n",
    "iv_results = iv_model.fit()\n",
    "\n",
    "# Display the summary\n",
    "print(iv_results.summary2())"
   ]
  },
  {
   "cell_type": "code",
   "execution_count": null,
   "metadata": {},
   "outputs": [],
   "source": []
  },
  {
   "cell_type": "code",
   "execution_count": null,
   "metadata": {},
   "outputs": [],
   "source": []
  }
 ],
 "metadata": {
  "kernelspec": {
   "display_name": "nimlab_py310",
   "language": "python",
   "name": "python3"
  },
  "language_info": {
   "codemirror_mode": {
    "name": "ipython",
    "version": 3
   },
   "file_extension": ".py",
   "mimetype": "text/x-python",
   "name": "python",
   "nbconvert_exporter": "python",
   "pygments_lexer": "ipython3",
   "version": "3.10.8"
  },
  "orig_nbformat": 4
 },
 "nbformat": 4,
 "nbformat_minor": 2
}
