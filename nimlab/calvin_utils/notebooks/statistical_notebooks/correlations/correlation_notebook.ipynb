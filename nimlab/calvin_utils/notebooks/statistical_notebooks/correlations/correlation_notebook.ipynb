{
 "cells": [
  {
   "cell_type": "markdown",
   "metadata": {},
   "source": [
    "# Run Correlation-Based Analyses\n",
    "\n",
    "### Authors: Calvin Howard.\n",
    "\n",
    "#### Last updated: July 6, 2023\n",
    "\n",
    "Use this to assess if a correlation between a dependent variable and an independent variable is statistically significant using permutation analysis. \n",
    "\n",
    "Further, follow this up with a contrast analysis which sees which categorical variables have significantly different correlations from each other. \n",
    "\n",
    "Notes:\n",
    "- To best use this notebook, you should be familar with mixed effects models"
   ]
  },
  {
   "cell_type": "markdown",
   "metadata": {},
   "source": [
    "# 00 - Import CSV with All Data\n",
    "**The CSV is expected to be in this format**\n",
    "- ID and absolute paths to niftis are critical\n",
    "```\n",
    "+-----+----------------------------+--------------+--------------+--------------+\n",
    "| ID  | Nifti_File_Path            | Covariate_1  | Covariate_2  | Covariate_3  |\n",
    "+-----+----------------------------+--------------+--------------+--------------+\n",
    "| 1   | /path/to/file1.nii.gz      | 0.5          | 1.2          | 3.4          |\n",
    "| 2   | /path/to/file2.nii.gz      | 0.7          | 1.4          | 3.1          |\n",
    "| 3   | /path/to/file3.nii.gz      | 0.6          | 1.5          | 3.5          |\n",
    "| 4   | /path/to/file4.nii.gz      | 0.9          | 1.1          | 3.2          |\n",
    "| ... | ...                        | ...          | ...          | ...          |\n",
    "+-----+----------------------------+--------------+--------------+--------------+\n",
    "```"
   ]
  },
  {
   "cell_type": "code",
   "execution_count": null,
   "metadata": {},
   "outputs": [],
   "source": [
    "# Specify the path to your CSV file containing NIFTI paths\n",
    "input_csv_path = '/Users/cu135/Dropbox (Partners HealthCare)/studies/cognition_2023/metadata/master_list_proper_subjects.xlsx'"
   ]
  },
  {
   "cell_type": "code",
   "execution_count": null,
   "metadata": {},
   "outputs": [],
   "source": [
    "# Specify where you want to save your results to\n",
    "out_dir = '/Users/cu135/Library/CloudStorage/OneDrive-Personal/OneDrive_Documents/Research/2023/subiculum_cognition_and_age/figures/Figures/supplements/age_does_not_crr_with_conn'"
   ]
  },
  {
   "cell_type": "code",
   "execution_count": null,
   "metadata": {},
   "outputs": [],
   "source": [
    "from calvin_utils.permutation_analysis_utils.statsmodels_palm import CalvinStatsmodelsPalm\n",
    "# Instantiate the PalmPrepararation class\n",
    "cal_palm = CalvinStatsmodelsPalm(input_csv_path=input_csv_path, output_dir=out_dir, sheet='master_list_proper_subjects')\n",
    "# Call the process_nifti_paths method\n",
    "data_df = cal_palm.read_and_display_data()\n"
   ]
  },
  {
   "cell_type": "markdown",
   "metadata": {},
   "source": [
    "\n",
    "# 01 - Preprocess Your Data"
   ]
  },
  {
   "cell_type": "markdown",
   "metadata": {},
   "source": [
    "**Handle NANs**\n",
    "- Set drop_nans=True is you would like to remove NaNs from data\n",
    "- Provide a column name or a list of column names to remove NaNs from"
   ]
  },
  {
   "cell_type": "code",
   "execution_count": null,
   "metadata": {},
   "outputs": [],
   "source": [
    "data_df.columns"
   ]
  },
  {
   "cell_type": "code",
   "execution_count": null,
   "metadata": {},
   "outputs": [],
   "source": [
    "drop_list = ['Z_Scored_Percent_Cognitive_Improvement', 'Subiculum_Connectivity_T', 'Age']"
   ]
  },
  {
   "cell_type": "code",
   "execution_count": null,
   "metadata": {},
   "outputs": [],
   "source": [
    "data_df = cal_palm.drop_nans_from_columns(columns_to_drop_from=drop_list)\n",
    "display(data_df)"
   ]
  },
  {
   "cell_type": "markdown",
   "metadata": {},
   "source": [
    "**Drop Row Based on Value of Column**\n",
    "\n",
    "Define the column, condition, and value for dropping rows\n",
    "- column = 'your_column_name'\n",
    "- condition = 'above'  # Options: 'equal', 'above', 'below'"
   ]
  },
  {
   "cell_type": "markdown",
   "metadata": {},
   "source": [
    "Set the parameters for dropping rows"
   ]
  },
  {
   "cell_type": "code",
   "execution_count": null,
   "metadata": {},
   "outputs": [],
   "source": [
    "column = 'City'  # The column you'd like to evaluate\n",
    "condition = 'equal'  # Thecondition to check ('equal', 'above', 'below', 'not')\n",
    "value = 'Boston' # The value to compare against"
   ]
  },
  {
   "cell_type": "code",
   "execution_count": null,
   "metadata": {},
   "outputs": [],
   "source": [
    "data_df, other_df = cal_palm.drop_rows_based_on_value(column, condition, value)\n",
    "data_df"
   ]
  },
  {
   "cell_type": "markdown",
   "metadata": {},
   "source": [
    "**Standardize Data**\n",
    "- Enter Columns you Don't want to standardize into a list"
   ]
  },
  {
   "cell_type": "code",
   "execution_count": null,
   "metadata": {},
   "outputs": [],
   "source": [
    "# Remove anything you don't want to standardize\n",
    "cols_not_to_standardize = ['Age',  'Subiculum_Connectivity_T']"
   ]
  },
  {
   "cell_type": "code",
   "execution_count": null,
   "metadata": {},
   "outputs": [],
   "source": [
    "data_df = cal_palm.standardize_columns(cols_not_to_standardize)\n",
    "data_df"
   ]
  },
  {
   "cell_type": "code",
   "execution_count": null,
   "metadata": {},
   "outputs": [],
   "source": [
    "data_df.describe()"
   ]
  },
  {
   "cell_type": "markdown",
   "metadata": {},
   "source": [
    "Miscellaneous Configurations"
   ]
  },
  {
   "cell_type": "code",
   "execution_count": null,
   "metadata": {},
   "outputs": [],
   "source": [
    "data_df.columns"
   ]
  },
  {
   "cell_type": "code",
   "execution_count": null,
   "metadata": {},
   "outputs": [],
   "source": [
    "list_values = ['MTLSurface', 'MTLGM', 'MTLWM']"
   ]
  },
  {
   "cell_type": "code",
   "execution_count": null,
   "metadata": {},
   "outputs": [],
   "source": [
    "[listval for listval in list_values]"
   ]
  },
  {
   "cell_type": "code",
   "execution_count": null,
   "metadata": {},
   "outputs": [],
   "source": [
    "# Assuming data_df is your DataFrame\n",
    "for column in data_df.columns:\n",
    "    for val in list_values:\n",
    "        if val == column:\n",
    "            data_df[column] = data_df[column] * -1\n"
   ]
  },
  {
   "cell_type": "markdown",
   "metadata": {},
   "source": [
    "# 02 - Perform Basic Correlation"
   ]
  },
  {
   "cell_type": "code",
   "execution_count": null,
   "metadata": {},
   "outputs": [],
   "source": [
    "import pandas as pd\n",
    "import os\n",
    "import seaborn as sns\n",
    "import matplotlib.pyplot as plt\n",
    "from scipy.stats import spearmanr, pearsonr, kendalltau\n",
    "\n",
    "class ScatterplotGenerator:\n",
    "    def __init__(self, dataframe, data_dict, x_label='xlabel', y_label='ylabel', correlation='pearson', palette='tab10', out_dir=None, rows_per_fig=2, cols_per_fig=3, ylim=None):\n",
    "        self.dataframe = dataframe\n",
    "        self.data_dict = data_dict\n",
    "        self.x_label = x_label\n",
    "        self.y_label = y_label\n",
    "        self.correlation = correlation\n",
    "        self.out_dir = out_dir if out_dir else 'scatterplot_figures'\n",
    "        self.palette = palette\n",
    "        self.rows_per_fig = rows_per_fig\n",
    "        self.cols_per_fig = cols_per_fig\n",
    "        self.figures = []\n",
    "        self.ylim=ylim\n",
    "\n",
    "    def set_palette(self):\n",
    "        sns.set_style('white')\n",
    "        if isinstance(self.palette, str) and self.palette.startswith('#'):\n",
    "            sns.set_palette(sns.color_palette([self.palette]))\n",
    "        else:\n",
    "            sns.set_palette(self.palette, 1, desat=1)\n",
    "\n",
    "    def plot_scatter_with_kde(self):\n",
    "        fig, axes = plt.subplots(self.rows_per_fig, self.cols_per_fig, figsize=(self.cols_per_fig * 5, self.rows_per_fig * 5))\n",
    "        axes = axes.flatten()\n",
    "        current_ax = 0\n",
    "\n",
    "        for dependent_var, independent_vars in self.data_dict.items():\n",
    "            self.dependent_var=dependent_var\n",
    "            for independent_var in independent_vars:\n",
    "                if current_ax >= len(axes):\n",
    "                    self.figures.append(fig)\n",
    "                    fig, axes = plt.subplots(self.rows_per_fig, self.cols_per_fig, figsize=(self.cols_per_fig * 5, self.rows_per_fig * 5))\n",
    "                    axes = axes.flatten()\n",
    "                    current_ax = 0\n",
    "\n",
    "                sns.regplot(x=independent_var, y=dependent_var, data=self.dataframe, ax=axes[current_ax])\n",
    "\n",
    "                if self.correlation == 'pearson':\n",
    "                    r, p = pearsonr(self.dataframe[independent_var], self.dataframe[dependent_var])\n",
    "                elif self.correlation == 'spearman':\n",
    "                    r, p = spearmanr(self.dataframe[independent_var], self.dataframe[dependent_var])\n",
    "                elif self.correlation == 'kendall':\n",
    "                    r, p = kendalltau(self.dataframe[independent_var], self.dataframe[dependent_var])\n",
    "                else:\n",
    "                    raise ValueError(f'Correlation {self.correlation} not specified, please select \"pearson\", \"kendall\" or \"spearman\"')\n",
    "                \n",
    "                if self.ylim is not None:\n",
    "                    axes[current_ax].set_ylim(self.ylim[0], self.ylim[1])\n",
    "                \n",
    "                axes[current_ax].set_title(independent_var)\n",
    "                axes[current_ax].annotate(f\"{self.correlation.capitalize()} r = {r:.2f}, p = {p:.3f}\", xy=(.05, .95), xycoords='axes fraction', horizontalalignment='left', verticalalignment='top')\n",
    "                axes[current_ax].set_xlabel(self.x_label)\n",
    "                axes[current_ax].set_ylabel(self.y_label)\n",
    "\n",
    "                current_ax += 1\n",
    "\n",
    "        self.figures.append(fig)  # Append the last figure\n",
    "\n",
    "    def save_plots(self):\n",
    "        if self.out_dir:\n",
    "            os.makedirs(self.out_dir, exist_ok=True)\n",
    "            for i, fig in enumerate(self.figures):\n",
    "                fig.savefig(os.path.join(self.out_dir, f'{self.dependent_var}{i}.png'))\n",
    "                fig.savefig(os.path.join(self.out_dir, f'{self.dependent_var}{i}.svg'))\n",
    "                print(f'Figure saved to: {os.path.join(self.out_dir, f\"{self.dependent_var}{i}\")}')\n",
    "                plt.show()\n",
    "\n",
    "    def run(self):\n",
    "        self.set_palette()\n",
    "        self.plot_scatter_with_kde()\n",
    "        self.save_plots()\n"
   ]
  },
  {
   "cell_type": "markdown",
   "metadata": {},
   "source": [
    "Define Variables to Correlate\n",
    "- "
   ]
  },
  {
   "cell_type": "markdown",
   "metadata": {},
   "source": [
    "Variables to Correlate\n",
    "- dependent_variable = 'Z_Scored_Percent_Cognitive_Improvement'\n",
    "- independent_variable_list = ['Z_Scored_Cognitive_Baseline']\n"
   ]
  },
  {
   "cell_type": "code",
   "execution_count": null,
   "metadata": {},
   "outputs": [],
   "source": [
    "data_df.columns"
   ]
  },
  {
   "cell_type": "code",
   "execution_count": null,
   "metadata": {},
   "outputs": [],
   "source": [
    "dependent_variable = 'Age'\n",
    "independent_variable_list = ['Subiculum_Connectivity_T', 'Memory_Network_T']"
   ]
  },
  {
   "cell_type": "markdown",
   "metadata": {},
   "source": [
    "Choose Correlation Method\n",
    "- Options: 'spearman', 'pearson', 'kendall'"
   ]
  },
  {
   "cell_type": "code",
   "execution_count": null,
   "metadata": {},
   "outputs": [],
   "source": [
    "correlation = 'pearson'"
   ]
  },
  {
   "cell_type": "markdown",
   "metadata": {},
   "source": [
    "Define plot Labels\n",
    "- These are the axes"
   ]
  },
  {
   "cell_type": "code",
   "execution_count": null,
   "metadata": {},
   "outputs": [],
   "source": [
    "# Axis Labels\n",
    "x_label = 'Connectivity'\n",
    "y_label = 'Z-Scored Cognitive Improvement (MDRS)'"
   ]
  },
  {
   "cell_type": "markdown",
   "metadata": {},
   "source": [
    "Run the Correlation"
   ]
  },
  {
   "cell_type": "code",
   "execution_count": null,
   "metadata": {},
   "outputs": [],
   "source": [
    "# Usage Example\n",
    "generator = ScatterplotGenerator(dataframe=data_df, data_dict={dependent_variable: independent_variable_list}, \n",
    "                                 x_label=x_label, y_label=y_label, correlation=correlation, \n",
    "                                 out_dir=out_dir, palette='Blues',\n",
    "                                 rows_per_fig=1, cols_per_fig=2,\n",
    "                                 ylim=None)\n",
    "generator.run()"
   ]
  },
  {
   "cell_type": "markdown",
   "metadata": {},
   "source": [
    "Run for a Bunch of Dependent Variables"
   ]
  },
  {
   "cell_type": "code",
   "execution_count": null,
   "metadata": {},
   "outputs": [],
   "source": [
    "dep_vars = ['Subiculum_Connectivity_T', 'Memory_Network_T']\n",
    "independent_variable_list = ['Age']"
   ]
  },
  {
   "cell_type": "code",
   "execution_count": null,
   "metadata": {},
   "outputs": [],
   "source": [
    "for dep_var in dep_vars:\n",
    "    generator = ScatterplotGenerator(dataframe=data_df, data_dict={dep_var: independent_variable_list}, \n",
    "                                 x_label=x_label, y_label=dep_var, correlation=correlation, \n",
    "                                 out_dir=out_dir, palette='Blues',\n",
    "                                 rows_per_fig=1, cols_per_fig=2,\n",
    "                                 ylim=None)\n",
    "    generator.run()"
   ]
  },
  {
   "cell_type": "markdown",
   "metadata": {},
   "source": [
    "# 03 - Run ANCOVA-Style Analysis Using Correlation\n",
    "- AKA a 'Delta-R Analysis'"
   ]
  },
  {
   "cell_type": "code",
   "execution_count": 26,
   "metadata": {},
   "outputs": [],
   "source": [
    "from statannotations.Annotator import Annotator\n",
    "import pandas as pd\n",
    "import numpy as np\n",
    "from tqdm import tqdm\n",
    "import itertools\n",
    "import random\n",
    "import matplotlib.pyplot as plt\n",
    "import seaborn as sns\n",
    "\n",
    "class ANCOVACorrelation:\n",
    "    \"\"\"\n",
    "    Params:\n",
    "        similarity: Bool\n",
    "            - This determins if the delta-r analysis will be performed to assess if the correlations are MORE SIMILAR THAN EXPECTED.\n",
    "            - Defaults to False, which evalutes if they are MORE DIFFERENCE THAN EXPECTED. \n",
    "        two_tail: Bool\n",
    "            - This determines if a two-tailed p-value derivation will be performed. \n",
    "            - Set to false to generate a one-tail. \n",
    "    \"\"\"\n",
    "    def __init__(self, df, dependent_variable, independent_variable, categorical_variable, spearman=False, out_dir=None, n_permutations=10000, similarity=False, two_tail=True):\n",
    "        self.df = df\n",
    "        self.dependent_variable = dependent_variable\n",
    "        self.independent_variable = independent_variable\n",
    "        self.categorical_variable = categorical_variable\n",
    "        self.out_dir = out_dir\n",
    "        self.similarity = similarity\n",
    "        self.two_tail = two_tail\n",
    "        # Initialize a dictionary to store dataframes for each category\n",
    "        self.category_dataframes = {}\n",
    "        \n",
    "        # Initialize a dictionary to store observed correlations\n",
    "        self.observed_correlations = {}\n",
    "        \n",
    "        # Call the segregator function to split the data\n",
    "        self.segregate_data()\n",
    "        self.spearman=spearman\n",
    "        \n",
    "        self.n_permutations=n_permutations\n",
    "    \n",
    "    def segregate_data(self):\n",
    "        # Group the data by unique values of the categorical variable\n",
    "        unique_categories = self.df[self.categorical_variable].unique()\n",
    "        \n",
    "        # Create separate dataframes for each category\n",
    "        for category in unique_categories:\n",
    "            self.category_dataframes[category] = self.df[self.df[self.categorical_variable] == category]\n",
    "    \n",
    "    def calculate_correlation(self, category):\n",
    "        # Calculate the correlation between independent and dependent variables for a given category\n",
    "        category_df = self.category_dataframes.get(category)\n",
    "        if category_df is not None:\n",
    "            if self.spearman:\n",
    "                correlation = category_df[self.independent_variable].corr(category_df[self.dependent_variable], method='spearman')\n",
    "            else:\n",
    "                correlation = category_df[self.independent_variable].corr(category_df[self.dependent_variable])\n",
    "            self.observed_correlations[category] = correlation\n",
    "        else:\n",
    "            print(f\"Category '{category}' not found in the data.\")\n",
    "\n",
    "            \n",
    "    def calculate_observed_r_values(self):\n",
    "        # Calculate observed r values for each category and store them\n",
    "        self.observed_correlations = {}\n",
    "        for category in self.category_dataframes.keys():\n",
    "            correlation = self.calculate_correlation(category)\n",
    "            if correlation is not None:\n",
    "                self.observed_correlations[category] = correlation\n",
    "\n",
    "    def permute_and_calculate_correlations(self):\n",
    "        # Initialize a dictionary to store permuted correlations for each category\n",
    "        self.permuted_correlations = {category: [] for category in self.category_dataframes.keys()}\n",
    "\n",
    "        for _ in tqdm(range(self.n_permutations), desc=\"Permutations\"):\n",
    "            # Create a copy of the original data to permute\n",
    "            permuted_data = self.df.copy()\n",
    "\n",
    "            # Loop through each category's dataframe\n",
    "            for category, category_df in self.category_dataframes.items():\n",
    "                # Permute the outcomes (dependent variable) within the category's dataframe\n",
    "                category_outcomes = category_df[self.dependent_variable].values\n",
    "                random.shuffle(category_outcomes)\n",
    "                permuted_data.loc[category_df.index, self.dependent_variable] = category_outcomes\n",
    "\n",
    "                # Calculate and store the correlation with the independent variable\n",
    "                correlation = category_df[self.independent_variable].corr(permuted_data.loc[category_df.index, self.dependent_variable])\n",
    "                self.permuted_correlations[category].append(correlation)\n",
    "                \n",
    "    def calculate_p_values(self):\n",
    "        '''\n",
    "        This calculate a two-tailed p-value.\n",
    "        '''\n",
    "        # Initialize a dictionary to store p-values for each category\n",
    "        self.p_values = {category: None for category in self.category_dataframes.keys()}\n",
    "\n",
    "        for category in self.category_dataframes.keys():\n",
    "            observed_val = self.observed_correlations[category]\n",
    "            permuted_dist = self.permuted_correlations[category]\n",
    "\n",
    "            # Calculate the p-value\n",
    "            p_value = np.mean(np.array(np.abs(permuted_dist)) > np.abs(observed_val))\n",
    "\n",
    "            self.p_values[category] = p_value\n",
    "            \n",
    "    def calculate_delta_r(self):\n",
    "        # Initialize a dictionary to store Delta-R values and their significance for each category combination\n",
    "        self.delta_r_values = {}\n",
    "        \n",
    "        # Get all unique combinations of categories\n",
    "        category_combinations = list(itertools.combinations(self.category_dataframes.keys(), 2))\n",
    "\n",
    "        for category1, category2 in category_combinations:\n",
    "            observed_val1 = self.observed_correlations[category1]\n",
    "            observed_val2 = self.observed_correlations[category2]\n",
    "\n",
    "            # Get the permuted distributions for both categories\n",
    "            permuted_dist1 = self.permuted_correlations[category1]\n",
    "            permuted_dist2 = self.permuted_correlations[category2]\n",
    "\n",
    "            delta_r = observed_val1 - observed_val2\n",
    "            delta_r_permuted = np.array(permuted_dist1) - np.array(permuted_dist2)\n",
    "\n",
    "            # Calculate the significance using a two-tailed test\n",
    "            if self.two_tail:\n",
    "                delta_r = np.abs(delta_r)\n",
    "                delta_r_permuted = np.abs(delta_r_permuted)\n",
    "            if self.similarity:\n",
    "                p_value = np.mean(delta_r_permuted < delta_r)\n",
    "            else:\n",
    "                p_value = np.mean(delta_r_permuted > delta_r)\n",
    "            # Store the Delta-R value and its significance\n",
    "            self.delta_r_values[(category1, category2)] = {\n",
    "                'delta_r': delta_r,\n",
    "                'p_value': p_value\n",
    "            }\n",
    "\n",
    "    def plot_correlations(self):\n",
    "        # Convert observed correlations data to a DataFrame\n",
    "        observed_data = pd.DataFrame({\n",
    "            'Category': self.observed_correlations.keys(),\n",
    "            'Correlation': self.observed_correlations.values()\n",
    "        })\n",
    "\n",
    "        # Set style and increase font size\n",
    "        sns.set_style(\"white\")\n",
    "        # sns.set(font_scale=1)\n",
    "\n",
    "        # Create the bar plot using the observed data\n",
    "        sns.barplot(x='Category', y='Correlation', data=observed_data, palette='tab10')\n",
    "        sns.despine()\n",
    "        # # Add p-value annotations using Annotator\n",
    "        p_values = [self.delta_r_values[comb]['p_value'] for comb in self.delta_r_values]\n",
    "        combinations = [f'{comb[0]} vs {comb[1]}' for comb in self.delta_r_values]\n",
    "        data = pd.DataFrame({'Combination': combinations, 'p-value': p_values})\n",
    "        # annotator = Annotator(ax=ax, data=data, x='Combination', y='p-value', loc='outside', fontsize=12)\n",
    "\n",
    "        # Save the figure if out_dir is provided\n",
    "        if self.out_dir:\n",
    "            plt.savefig(f\"{self.out_dir}/delta_correlation_plot.png\", bbox_inches='tight')\n",
    "            plt.savefig(f\"{self.out_dir}/delta_correlation_plot.svg\", bbox_inches='tight')\n",
    "            print(f'Saved to {self.out_dir}/delta_correlation_plot.svg')\n",
    "\n",
    "        # Show the plot\n",
    "        plt.show()\n",
    "        return observed_data, data\n",
    "        \n",
    "    def run(self):\n",
    "        self.segregate_data()\n",
    "        self.calculate_observed_r_values()\n",
    "        self.permute_and_calculate_correlations()\n",
    "        self.calculate_p_values()\n",
    "        self.calculate_delta_r()\n",
    "        single_data, delta_data = self.plot_correlations()\n",
    "        return single_data, delta_data\n",
    "\n",
    "    def create_combined_plot(self, group_variable, dependent_variable):\n",
    "        sns.set()\n",
    "\n",
    "        fig, ax = plt.subplots(nrows=len(self.df[group_variable].unique()), sharex=True)\n",
    "        ax[-1].set_xlabel(dependent_variable)\n",
    "\n",
    "        for i, group_val in enumerate(self.df[group_variable].unique()):\n",
    "            group_data = self.df[self.df[group_variable] == group_val][dependent_variable]\n",
    "            jittered_group_data = group_data + 0.1 * (2 * random.random() - 1)  # Add small vertical jitter\n",
    "            ax[i].scatter(jittered_group_data, [0] * len(group_data))\n",
    "            sns.kdeplot(group_data, ax=ax[i], shade=False, legend=False)\n",
    "            ax[i].set_yticks([])\n",
    "            ax[i].set_ylim(-0.01)\n",
    "            ax[i].set_ylabel(f'{group_variable} ' + str(group_val))\n",
    "\n",
    "        plt.show()\n",
    "        \n",
    "    def plot_correlations_with_lmplot(self, palette='Tab10'):\n",
    "        # Using seaborn's lmplot to plot linear regression lines for each category\n",
    "        if self.spearman:\n",
    "            print('Have rank-transformed data for visualization of Spearman correlation.')\n",
    "            self.df = self.df.rank()\n",
    "        lm = sns.lmplot(x=self.independent_variable, y=self.dependent_variable, \n",
    "                        hue=self.categorical_variable, data=self.df, \n",
    "                        aspect=1.5, height=5, palette=palette, legend=False, ci=0)\n",
    "\n",
    "        # Enhancements for better readability\n",
    "        lm.set_xlabels(f\"{self.independent_variable}\")\n",
    "        lm.set_ylabels(f\"{self.dependent_variable}\")\n",
    "        plt.title(\"Correlation Split by Category\")\n",
    "        plt.legend()\n",
    "        # Save the figure if out_dir is provided\n",
    "        if self.out_dir:\n",
    "            plt.savefig(f\"{self.out_dir}/delta_correlation_plot.png\", bbox_inches='tight')\n",
    "            plt.savefig(f\"{self.out_dir}/delta_correlation_plot.svg\", bbox_inches='tight')\n",
    "            print(f'Saved to {self.out_dir}/delta_correlation_plot.svg')\n",
    "        plt.show()"
   ]
  },
  {
   "cell_type": "code",
   "execution_count": 22,
   "metadata": {},
   "outputs": [
    {
     "data": {
      "text/plain": [
       "Index(['subject', 'Age', 'Normalized_Percent_Cognitive_Improvement',\n",
       "       'Z_Scored_Percent_Cognitive_Improvement_By_Origin_Group',\n",
       "       'Z_Scored_Percent_Cognitive_Improvement',\n",
       "       'Percent_Cognitive_Improvement',\n",
       "       'Z_Scored_Subiculum_T_By_Origin_Group_',\n",
       "       'Z_Scored_Subiculum_Connectivity_T', 'Subiculum_Connectivity_T',\n",
       "       'Amnesia_Lesion_T_Map', 'Memory_Network_T', 'Z_Scored_Memory_Network_R',\n",
       "       'Memory_Network_R', 'Subiculum_Grey_Matter', 'Subiculum_White_Matter',\n",
       "       'Subiculum_CSF', 'Subiculum_Total', 'Standardized_Age',\n",
       "       'Standardized_Percent_Improvement',\n",
       "       'Standardized_Subiculum_Connectivity',\n",
       "       'Standardized_Subiculum_Grey_Matter',\n",
       "       'Standardized_Subiculum_White_Matter', 'Standardized_Subiculum_CSF',\n",
       "       'Standardized_Subiculum_Total', 'Disease', 'Cohort', 'City',\n",
       "       'Inclusion_Cohort', 'Age_Group', 'Age_And_Disease',\n",
       "       'Age_Disease_and_Cohort', 'Subiculum_Group_By_Z_Score_Sign',\n",
       "       'Subiculum_Group_By_Inflection_Point', 'Cognitive_Outcome', 'StimMatch',\n",
       "       'Values_for_Prospective', 'Cognitive_Baseline', 'Cognitive_Score_1_Yr',\n",
       "       'Abs_Cognitive_Improve', 'Cognitive_Improve',\n",
       "       'Z_Scored_Cognitive_Baseline',\n",
       "       'Z_Scored_Cognitive_Baseline__Lower_is_Better_',\n",
       "       'Min_Max_Normalized_Baseline', 'MinMaxNormBaseline_Higher_is_Better',\n",
       "       'ROI_to_Alz_Max', 'ROI_to_PD_Max', 'Standardzied_AD_Max',\n",
       "       'Standardized_PD_Max'],\n",
       "      dtype='object')"
      ]
     },
     "execution_count": 22,
     "metadata": {},
     "output_type": "execute_result"
    }
   ],
   "source": [
    "data_df.columns"
   ]
  },
  {
   "cell_type": "markdown",
   "metadata": {},
   "source": [
    "Enter Variables\n",
    "- dependent_variable: the name of the dependent variable\n",
    "- independent_variable: the name of the independent variable\n",
    "- categorical_variable: the column containing categorical information. This may be strings or numbers. "
   ]
  },
  {
   "cell_type": "code",
   "execution_count": null,
   "metadata": {},
   "outputs": [],
   "source": [
    "data_df.columns"
   ]
  },
  {
   "cell_type": "code",
   "execution_count": 23,
   "metadata": {},
   "outputs": [],
   "source": [
    "dependent_variable = 'Z_Scored_Percent_Cognitive_Improvement'\n",
    "independent_variable = 'Subiculum_Connectivity_T'\n",
    "categorical_variable = 'Age_Disease_and_Cohort'"
   ]
  },
  {
   "cell_type": "markdown",
   "metadata": {},
   "source": [
    "Do You Want to Run A Spearman Correlation?"
   ]
  },
  {
   "cell_type": "code",
   "execution_count": 28,
   "metadata": {},
   "outputs": [],
   "source": [
    "spearman = False\n",
    "two_tail = False\n",
    "similarity = True"
   ]
  },
  {
   "cell_type": "markdown",
   "metadata": {},
   "source": [
    "# 04 - Run the Correlational ANCOVA"
   ]
  },
  {
   "cell_type": "code",
   "execution_count": 29,
   "metadata": {},
   "outputs": [
    {
     "name": "stderr",
     "output_type": "stream",
     "text": [
      "Permutations: 100%|██████████| 10000/10000 [00:28<00:00, 356.35it/s]\n"
     ]
    },
    {
     "name": "stdout",
     "output_type": "stream",
     "text": [
      "Saved to /Users/cu135/Library/CloudStorage/OneDrive-Personal/OneDrive_Documents/Research/2023/subiculum_cognition_and_age/figures/Figures/supplements/age_does_not_crr_with_conn/delta_correlation_plot.svg\n"
     ]
    },
    {
     "data": {
      "image/png": "[encoded data removed]",
      "text/plain": [
       "<Figure size 432x288 with 1 Axes>"
      ]
     },
     "metadata": {},
     "output_type": "display_data"
    },
    {
     "data": {
      "text/html": [
       "<div>\n",
       "<style scoped>\n",
       "    .dataframe tbody tr th:only-of-type {\n",
       "        vertical-align: middle;\n",
       "    }\n",
       "\n",
       "    .dataframe tbody tr th {\n",
       "        vertical-align: top;\n",
       "    }\n",
       "\n",
       "    .dataframe thead th {\n",
       "        text-align: right;\n",
       "    }\n",
       "</style>\n",
       "<table border=\"1\" class=\"dataframe\">\n",
       "  <thead>\n",
       "    <tr style=\"text-align: right;\">\n",
       "      <th></th>\n",
       "      <th>Combination</th>\n",
       "      <th>p-value</th>\n",
       "    </tr>\n",
       "  </thead>\n",
       "  <tbody>\n",
       "    <tr>\n",
       "      <th>0</th>\n",
       "      <td>Toronto_young_Alzheimer vs Toronto_old_Alzheimer</td>\n",
       "      <td>0.0481</td>\n",
       "    </tr>\n",
       "    <tr>\n",
       "      <th>1</th>\n",
       "      <td>Toronto_young_Alzheimer vs Wurzburg_young_Park...</td>\n",
       "      <td>0.7651</td>\n",
       "    </tr>\n",
       "    <tr>\n",
       "      <th>2</th>\n",
       "      <td>Toronto_young_Alzheimer vs Wurzburg_old_Parkinson</td>\n",
       "      <td>0.3084</td>\n",
       "    </tr>\n",
       "    <tr>\n",
       "      <th>3</th>\n",
       "      <td>Toronto_young_Alzheimer vs Queensland_old_Park...</td>\n",
       "      <td>0.3197</td>\n",
       "    </tr>\n",
       "    <tr>\n",
       "      <th>4</th>\n",
       "      <td>Toronto_young_Alzheimer vs Queensland_young_Pa...</td>\n",
       "      <td>0.1675</td>\n",
       "    </tr>\n",
       "    <tr>\n",
       "      <th>5</th>\n",
       "      <td>Toronto_old_Alzheimer vs Wurzburg_young_Parkinson</td>\n",
       "      <td>0.9979</td>\n",
       "    </tr>\n",
       "    <tr>\n",
       "      <th>6</th>\n",
       "      <td>Toronto_old_Alzheimer vs Wurzburg_old_Parkinson</td>\n",
       "      <td>0.4997</td>\n",
       "    </tr>\n",
       "    <tr>\n",
       "      <th>7</th>\n",
       "      <td>Toronto_old_Alzheimer vs Queensland_old_Parkinson</td>\n",
       "      <td>0.9363</td>\n",
       "    </tr>\n",
       "    <tr>\n",
       "      <th>8</th>\n",
       "      <td>Toronto_old_Alzheimer vs Queensland_young_Park...</td>\n",
       "      <td>0.8002</td>\n",
       "    </tr>\n",
       "    <tr>\n",
       "      <th>9</th>\n",
       "      <td>Wurzburg_young_Parkinson vs Wurzburg_old_Parki...</td>\n",
       "      <td>0.1717</td>\n",
       "    </tr>\n",
       "    <tr>\n",
       "      <th>10</th>\n",
       "      <td>Wurzburg_young_Parkinson vs Queensland_old_Par...</td>\n",
       "      <td>0.0725</td>\n",
       "    </tr>\n",
       "    <tr>\n",
       "      <th>11</th>\n",
       "      <td>Wurzburg_young_Parkinson vs Queensland_young_P...</td>\n",
       "      <td>0.0247</td>\n",
       "    </tr>\n",
       "    <tr>\n",
       "      <th>12</th>\n",
       "      <td>Wurzburg_old_Parkinson vs Queensland_old_Parki...</td>\n",
       "      <td>0.5942</td>\n",
       "    </tr>\n",
       "    <tr>\n",
       "      <th>13</th>\n",
       "      <td>Wurzburg_old_Parkinson vs Queensland_young_Par...</td>\n",
       "      <td>0.5278</td>\n",
       "    </tr>\n",
       "    <tr>\n",
       "      <th>14</th>\n",
       "      <td>Queensland_old_Parkinson vs Queensland_young_P...</td>\n",
       "      <td>0.2602</td>\n",
       "    </tr>\n",
       "  </tbody>\n",
       "</table>\n",
       "</div>"
      ],
      "text/plain": [
       "                                          Combination  p-value\n",
       "0    Toronto_young_Alzheimer vs Toronto_old_Alzheimer   0.0481\n",
       "1   Toronto_young_Alzheimer vs Wurzburg_young_Park...   0.7651\n",
       "2   Toronto_young_Alzheimer vs Wurzburg_old_Parkinson   0.3084\n",
       "3   Toronto_young_Alzheimer vs Queensland_old_Park...   0.3197\n",
       "4   Toronto_young_Alzheimer vs Queensland_young_Pa...   0.1675\n",
       "5   Toronto_old_Alzheimer vs Wurzburg_young_Parkinson   0.9979\n",
       "6     Toronto_old_Alzheimer vs Wurzburg_old_Parkinson   0.4997\n",
       "7   Toronto_old_Alzheimer vs Queensland_old_Parkinson   0.9363\n",
       "8   Toronto_old_Alzheimer vs Queensland_young_Park...   0.8002\n",
       "9   Wurzburg_young_Parkinson vs Wurzburg_old_Parki...   0.1717\n",
       "10  Wurzburg_young_Parkinson vs Queensland_old_Par...   0.0725\n",
       "11  Wurzburg_young_Parkinson vs Queensland_young_P...   0.0247\n",
       "12  Wurzburg_old_Parkinson vs Queensland_old_Parki...   0.5942\n",
       "13  Wurzburg_old_Parkinson vs Queensland_young_Par...   0.5278\n",
       "14  Queensland_old_Parkinson vs Queensland_young_P...   0.2602"
      ]
     },
     "execution_count": 29,
     "metadata": {},
     "output_type": "execute_result"
    }
   ],
   "source": [
    "delta_r = ANCOVACorrelation(df=data_df, dependent_variable=dependent_variable, independent_variable=independent_variable, categorical_variable=categorical_variable, out_dir=out_dir, spearman=spearman,\n",
    "                            n_permutations=10000, similarity=similarity, two_tail=two_tail)\n",
    "single_data, delta_data = delta_r.run()\n",
    "delta_data"
   ]
  },
  {
   "cell_type": "markdown",
   "metadata": {},
   "source": [
    "Save the Output CSV"
   ]
  },
  {
   "cell_type": "code",
   "execution_count": null,
   "metadata": {},
   "outputs": [],
   "source": [
    "import os\n",
    "print(os.path.join(out_dir, 'vent.csv'))\n",
    "delta_data.to_csv(os.path.join(out_dir, 'vent.csv'))"
   ]
  },
  {
   "cell_type": "markdown",
   "metadata": {},
   "source": [
    "Visualize Scatter"
   ]
  },
  {
   "cell_type": "code",
   "execution_count": null,
   "metadata": {},
   "outputs": [],
   "source": [
    "delta_r.plot_correlations_with_lmplot(palette='Set1')"
   ]
  },
  {
   "cell_type": "code",
   "execution_count": null,
   "metadata": {},
   "outputs": [],
   "source": [
    "single_data"
   ]
  },
  {
   "cell_type": "markdown",
   "metadata": {},
   "source": [
    "# 05 - Delta Scatterplot (Pretty)"
   ]
  },
  {
   "cell_type": "code",
   "execution_count": null,
   "metadata": {},
   "outputs": [],
   "source": [
    "# Redefining the class and its methods\n",
    "import numpy as np\n",
    "import matplotlib.pyplot as plt\n",
    "from scipy.stats import t\n",
    "import seaborn as sns\n",
    "class ScatterWithConfidence:\n",
    "    def __init__(self, data_df):\n",
    "        self.data_df = data_df\n",
    "\n",
    "    @staticmethod\n",
    "    def compute_analytic_confidence_interval(x, y, x_vals):\n",
    "        slope, intercept = np.polyfit(x, y, 1)\n",
    "        y_fit = slope * x_vals + intercept\n",
    "        \n",
    "        residuals = y - (slope * x + intercept)\n",
    "        stderr = np.sqrt(np.sum(residuals**2) / (len(y) - 2))\n",
    "        \n",
    "        t_value = t.ppf(0.975, df=len(x)-2)\n",
    "        ci = t_value * stderr * np.sqrt(1/len(x) + (x_vals - np.mean(x))**2 / np.sum((x - np.mean(x))**2))\n",
    "        \n",
    "        upper_bound = y_fit + ci\n",
    "        lower_bound = y_fit - ci\n",
    "        \n",
    "        return y_fit, lower_bound, upper_bound\n",
    "\n",
    "    def permute_data_and_difference_in_pearson_r(self, x_one, x_two, split_by, split_value, n_permutations=1000, permute_columns=[]):\n",
    "        original_diff = self.data_df[self.data_df[split_by] < split_value][x_one].corr(self.data_df[self.data_df[split_by] < split_value][x_two]) - \\\n",
    "                       self.data_df[self.data_df[split_by] >= split_value][x_one].corr(self.data_df[self.data_df[split_by] >= split_value][x_two])\n",
    "\n",
    "        permuted_diffs = []\n",
    "\n",
    "        for _ in range(n_permutations):\n",
    "            permuted_df = self.data_df.copy()\n",
    "            for column in permute_columns:\n",
    "                permuted_df[column] = np.random.permutation(permuted_df[column].values)\n",
    "            \n",
    "            diff = permuted_df[permuted_df[split_by] < split_value][x_one].corr(permuted_df[permuted_df[split_by] < split_value][x_two]) - \\\n",
    "                   permuted_df[permuted_df[split_by] >= split_value][x_one].corr(permuted_df[permuted_df[split_by] >= split_value][x_two])\n",
    "            \n",
    "            permuted_diffs.append(diff)\n",
    "\n",
    "        p_value = np.mean([diff <= original_diff for diff in permuted_diffs])\n",
    "        return original_diff, p_value\n",
    "\n",
    "    def plot_with_analytic_ci_manual_pvalue(self, x_one, x_two, \n",
    "                                            split_by, split_value, \n",
    "                                            x_label='X1', y_label='X2', \n",
    "                                            upper_split_legend='Above Split', lower_split_legend='Below Split',\n",
    "                                            alpha=0.3, manual_p_value=None, permute_column=None, \n",
    "                                            save=False, out_dir=None,\n",
    "                                            colour1='red', colour2='blue'):\n",
    "        fig, ax = plt.subplots(figsize=(6, 5))\n",
    "        \n",
    "        group1 = self.data_df[self.data_df[split_by] < split_value]\n",
    "        group2 = self.data_df[self.data_df[split_by] >= split_value]\n",
    "\n",
    "        ax.scatter(group1[x_one], group1[x_two], color=colour1, label=lower_split_legend, s=40, alpha=alpha, marker='o')\n",
    "        ax.scatter(group2[x_one], group2[x_two], color=colour2, label=upper_split_legend, s=40, alpha=alpha, marker='o')\n",
    "        \n",
    "        x_vals = np.linspace(self.data_df[x_one].min(), self.data_df[x_one].max(), 400)\n",
    "        \n",
    "        for group, color in [(group1, colour1), (group2, colour2)]:\n",
    "            y_fit, lower_bound, upper_bound = self.compute_analytic_confidence_interval(group[x_one], group[x_two], x_vals)\n",
    "            ax.plot(x_vals, y_fit, color=color)\n",
    "            # ax.fill_between(x_vals, lower_bound, upper_bound, color=color, alpha=alpha/4)\n",
    "        \n",
    "        if manual_p_value is None:\n",
    "            if permute_column:\n",
    "                rho, manual_p_value = self.permute_data_and_difference_in_pearson_r(x_one, x_two, split_by, split_value, n_permutations=10000, permute_columns=[permute_column])\n",
    "            else:\n",
    "                rho, manual_p_value = self.permute_data_and_difference_in_pearson_r(x_one, x_two, split_by, split_value, n_permutations=10000, permute_columns=[x_one, x_two, split_by])\n",
    "        \n",
    "        ax.set_title(f\"\\u0394 r = {rho:.2f} , p = {manual_p_value:.4f}\")\n",
    "        ax.set_ylabel(y_label)\n",
    "        ax.set_xlabel(x_label)\n",
    "        ax.legend(loc='best', frameon=False)\n",
    "        ax.grid(False)\n",
    "        sns.despine(ax=ax)\n",
    "        \n",
    "        if save and out_dir is not None:\n",
    "            plt.savefig(f\"{out_dir}/scatter_with_polyfit_and_analytic_ci.png\", bbox_inches='tight')\n",
    "            plt.savefig(f\"{out_dir}/scatter_with_polyfit_and_analytic_ci.svg\", bbox_inches='tight')\n",
    "            print(f'Saved to {out_dir}/scatter_with_polyfit_and_analytic_ci.svg')\n",
    "        return fig\n",
    "    \n",
    "class DeltaCorrelation(ScatterWithConfidence):\n",
    "    def __init__(self, data_df):\n",
    "        super().__init__(data_df)\n",
    "\n",
    "    def plot_histogram_of_delta_r(self, x_one, x_two, split_by, split_value, n_permutations=1000, \n",
    "                                permute_columns=[], bins=50, one_tail=False, color_palette='dark'):\n",
    "        # Generate the empirical distribution of delta_r\n",
    "        delta_rs = []\n",
    "        for _ in range(n_permutations):\n",
    "            permuted_df = self.data_df.copy()\n",
    "            for column in permute_columns:\n",
    "                permuted_df[column] = np.random.permutation(permuted_df[column].values)\n",
    "\n",
    "            delta_r = permuted_df[permuted_df[split_by] < split_value][x_one].corr(permuted_df[permuted_df[split_by] < split_value][x_two]) - \\\n",
    "                    permuted_df[permuted_df[split_by] >= split_value][x_one].corr(permuted_df[permuted_df[split_by] >= split_value][x_two])\n",
    "            delta_rs.append(delta_r)\n",
    "\n",
    "        # Calculate the observed delta_r\n",
    "        observed_delta_r, _ = self.permute_data_and_difference_in_pearson_r(x_one, x_two, split_by, split_value, permute_columns=permute_columns)\n",
    "\n",
    "        if one_tail:\n",
    "            observed_delta_r = np.abs(observed_delta_r)\n",
    "            delta_rs = np.abs(delta_rs)\n",
    "\n",
    "        # Calculate p-value\n",
    "        if one_tail:\n",
    "            p_value = np.mean([delta_r >= observed_delta_r for delta_r in delta_rs])\n",
    "        else:\n",
    "            p_value = np.mean([delta_r <= observed_delta_r for delta_r in delta_rs])\n",
    "\n",
    "        # Generate the displot (KDE + Histogram) using Seaborn\n",
    "        sns.set_palette(color_palette)\n",
    "        current_palette = sns.color_palette(color_palette)\n",
    "        chosen_color = current_palette[4]\n",
    "        plt.figure(figsize=(6, 5))\n",
    "        g = sns.displot(delta_rs, kde=True, bins=bins, label=\"Empirical $\\\\Delta r$ Distribution\", element=\"step\",color='blue', alpha=.6)\n",
    "        plt.axvline(x=observed_delta_r, color='red', linestyle='-', linewidth=1.5, label=f\"Observed $\\\\Delta r$\", alpha=0.6)\n",
    "        plt.title(f\"$\\\\Delta r$ = {observed_delta_r}, p = {p_value}\")\n",
    "        plt.xlabel(\"$\\\\Delta r$\")\n",
    "        plt.ylabel(\"Count\")\n",
    "        plt.legend()\n",
    "        \n",
    "        fig = g.fig\n",
    "        \n",
    "        fig.savefig(f\"{out_dir}/hist_kde.png\", bbox_inches='tight')\n",
    "        fig.savefig(f\"{out_dir}/hist_kde.svg\", bbox_inches='tight')\n",
    "        print(f'Saved to {out_dir}/hist_kde.svg')\n",
    "    \n"
   ]
  },
  {
   "cell_type": "code",
   "execution_count": null,
   "metadata": {},
   "outputs": [],
   "source": [
    "data_df.columns"
   ]
  },
  {
   "cell_type": "code",
   "execution_count": null,
   "metadata": {},
   "outputs": [],
   "source": [
    "data_df = data_df.loc[:, ['TOTAL11', 'CerebellumSBM',\n",
    "       'CerebellumCSF', 'CerebellumGM', 'CerebellumWM', 'FrontalSurface',\n",
    "       'FrontalCSF', 'FrontalGM', 'FrontalWM', 'MTLCSF', 'MTLGM', 'MTLWM',\n",
    "       'OccipitalSurface', 'OccipitalCSF', 'OccipitalGM', 'OccipitalWM',\n",
    "       'ParietalSurface', 'ParietalCSF', 'ParietalGM', 'ParietalWM',\n",
    "       'SubcortexSurfaceVentricle', 'SubcortexCSF',\n",
    "       'SubcortexGM', 'SubcortexWM', 'temp_ins_csf', 'temp_ins_gm',\n",
    "       'temp_ins_wm', 'temp_ins_surface']]"
   ]
  },
  {
   "cell_type": "markdown",
   "metadata": {},
   "source": [
    "Data To Plot"
   ]
  },
  {
   "cell_type": "code",
   "execution_count": null,
   "metadata": {},
   "outputs": [],
   "source": [
    "# Data Variables\n",
    "dependent_variable = 'Z_Scored_Percent_Cognitive_Improvement'\n",
    "independent_variable = 'Z_Scored_Subiculum_Connectivity'\n",
    "split_by_var = 'Cohort' # This is the column which contains the values you are going to split the data by \n",
    "split_value_var = 1.5 # This is the value which will be used to determine how rows of the given column split the entire dataset"
   ]
  },
  {
   "cell_type": "markdown",
   "metadata": {},
   "source": [
    "Labels for Plot"
   ]
  },
  {
   "cell_type": "code",
   "execution_count": null,
   "metadata": {},
   "outputs": [],
   "source": [
    "# Plotting Variables\n",
    "x_label = 'Standardized Subiculum Connectivity'\n",
    "y_label = 'Standardized Percent Improvement'\n",
    "legend_string_for_lower_split='Alzheimer Disease'\n",
    "legend_string_for_upper_split='Parkinson Disease'"
   ]
  },
  {
   "cell_type": "code",
   "execution_count": null,
   "metadata": {},
   "outputs": [],
   "source": [
    "delta_sctr = ScatterWithConfidence(data_df)\n",
    "delta_sctr_plot = delta_sctr.plot_with_analytic_ci_manual_pvalue(\n",
    "                                            x_one=independent_variable, x_two=dependent_variable,\n",
    "                                            split_by=split_by_var, split_value=split_value_var,\n",
    "                                            x_label=x_label, y_label=y_label,\n",
    "                                            upper_split_legend=legend_string_for_upper_split, lower_split_legend=legend_string_for_lower_split,\n",
    "                                            alpha=0.3, manual_p_value=None, permute_column=None,\n",
    "                                            save=True, out_dir=out_dir,\n",
    "                                            colour1='#FF0000', colour2='#0000FF')"
   ]
  },
  {
   "cell_type": "code",
   "execution_count": null,
   "metadata": {},
   "outputs": [],
   "source": [
    "# Create an object from the new Seaborn-based class\n",
    "histogram_plotter_seaborn = DeltaCorrelation(data_df)\n",
    "\n",
    "# Generate the histogram using Seaborn\n",
    "fig = histogram_plotter_seaborn.plot_histogram_of_delta_r(x_one=independent_variable, x_two=dependent_variable, \n",
    "                                                    split_by=split_by_var, split_value=split_value_var, \n",
    "                                                    n_permutations=10000, \n",
    "                                                    permute_columns=[independent_variable, dependent_variable, split_by_var], \n",
    "                                                    bins=50,\n",
    "                                                    one_tail=True, \n",
    "                                                    color_palette='coolwarm')"
   ]
  },
  {
   "cell_type": "markdown",
   "metadata": {},
   "source": [
    "# Correlation Matrix and Heatmap"
   ]
  },
  {
   "cell_type": "code",
   "execution_count": null,
   "metadata": {},
   "outputs": [],
   "source": [
    "import pandas as pd\n",
    "import seaborn as sns\n",
    "import matplotlib.pyplot as plt\n",
    "\n",
    "def plot_correlation_heatmap(dataframe):\n",
    "    # Calculate the correlation matrix\n",
    "    corr_matrix = dataframe.corr()\n",
    "\n",
    "    # Create a heatmap\n",
    "    plt.figure(figsize=(20, 16))\n",
    "    sns.heatmap(corr_matrix, annot=False, fmt=\".2f\", cmap='coolwarm', square=True, cbar_kws={'shrink': .5})\n",
    "\n",
    "    # Adjust the layout\n",
    "    plt.xticks(rotation=45, ha='right')\n",
    "    plt.yticks(rotation=0)\n",
    "    plt.title('Correlation Heatmap')\n",
    "\n",
    "    # Show the plot\n",
    "    plt.show()\n"
   ]
  },
  {
   "cell_type": "code",
   "execution_count": null,
   "metadata": {},
   "outputs": [],
   "source": [
    "# Example usage\n",
    "sorted_columns = sorted(data_df.columns)\n",
    "data_df_sorted = data_df[sorted_columns]\n",
    "plot_correlation_heatmap(data_df)"
   ]
  },
  {
   "cell_type": "markdown",
   "metadata": {},
   "source": [
    "# Canonical Correlation"
   ]
  },
  {
   "cell_type": "code",
   "execution_count": null,
   "metadata": {},
   "outputs": [],
   "source": [
    "from sklearn.cross_decomposition import CCA\n",
    "\n",
    "def perform_cca(data_df, set1_columns, set2_columns):\n",
    "    \"\"\"\n",
    "    Perform Canonical Correlation Analysis (CCA) between two sets of columns in a DataFrame.\n",
    "\n",
    "    Parameters:\n",
    "        data_df (pd.DataFrame): The DataFrame containing the data.\n",
    "        set1_columns (list): List of column names for the first set of variables.\n",
    "        set2_columns (list): List of column names for the second set of variables.\n",
    "\n",
    "    Returns:\n",
    "        cca (CCA): The CCA model object.\n",
    "        cca_results (dict): A dictionary containing the CCA results.\n",
    "    \"\"\"\n",
    "    # Extract the specified sets of columns from the DataFrame\n",
    "    set1_data = data_df[set1_columns]\n",
    "    set2_data = data_df[set2_columns]\n",
    "\n",
    "    # Initialize the CCA model\n",
    "    cca = CCA(n_components=min(len(set1_columns), len(set2_columns)))\n",
    "\n",
    "    # Fit the CCA model to the data\n",
    "    cca.fit(set1_data, set2_data)\n",
    "\n",
    "    # Transform the data using CCA\n",
    "    set1_transformed, set2_transformed = cca.transform(set1_data, set2_data)\n",
    "\n",
    "    # Calculate canonical correlations from singular values\n",
    "    canonical_correlations = cca.singular_values_\n",
    "\n",
    "    # Store the CCA results in a dictionary\n",
    "    cca_results = {\n",
    "        'Canonical Correlations': canonical_correlations,\n",
    "        'Set 1 Transformed': set1_transformed,\n",
    "        'Set 2 Transformed': set2_transformed\n",
    "    }\n",
    "\n",
    "    return cca, cca_results"
   ]
  },
  {
   "cell_type": "markdown",
   "metadata": {},
   "source": [
    "define 2 lists\n",
    "- 1 is the first set to CCA\n",
    "- 2 is the second set to CCA"
   ]
  },
  {
   "cell_type": "code",
   "execution_count": null,
   "metadata": {},
   "outputs": [],
   "source": [
    "data_df.columns"
   ]
  },
  {
   "cell_type": "code",
   "execution_count": null,
   "metadata": {},
   "outputs": [],
   "source": [
    "templist = []\n",
    "for val in data_df.columns:\n",
    "    if 'CSF' in val:\n",
    "        templist.insert(-1, val)\n",
    "print(templist)"
   ]
  },
  {
   "cell_type": "code",
   "execution_count": null,
   "metadata": {},
   "outputs": [],
   "source": [
    "list1 = ['frontal', 'temporal', 'parietal', 'occipital',\n",
    "       'cerebellum', 'Mesial_Temporal', 'ventricle']\n",
    "list2 = ['frontal_eh', 'temporal_eh', 'parietal_eh',\n",
    "       'occipital_eh', 'cerebellum_eh']"
   ]
  },
  {
   "cell_type": "code",
   "execution_count": null,
   "metadata": {},
   "outputs": [],
   "source": [
    "from sklearn.cross_decomposition import CCA\n",
    "\n",
    "def perform_cca(data_df, set1_columns, set2_columns):\n",
    "    \"\"\"\n",
    "    Perform Canonical Correlation Analysis (CCA) between two sets of columns in a DataFrame.\n",
    "\n",
    "    Parameters:\n",
    "        data_df (pd.DataFrame): The DataFrame containing the data.\n",
    "        set1_columns (list): List of column names for the first set of variables.\n",
    "        set2_columns (list): List of column names for the second set of variables.\n",
    "\n",
    "    Returns:\n",
    "        cca (CCA): The CCA model object.\n",
    "        cca_results (dict): A dictionary containing the CCA results.\n",
    "    \"\"\"\n",
    "    # Extract the specified sets of columns from the DataFrame\n",
    "    set1_data = data_df[set1_columns]\n",
    "    set2_data = data_df[set2_columns]\n",
    "\n",
    "    # Initialize the CCA model\n",
    "    cca = CCA(n_components=min(len(set1_columns), len(set2_columns)))\n",
    "\n",
    "    # Fit the CCA model to the data\n",
    "    cca.fit(set1_data, set2_data)\n",
    "\n",
    "    # Calculate canonical correlations using the score method\n",
    "    canonical_correlations = cca.score(set1_data, set2_data)\n",
    "\n",
    "    # Store the CCA results in a dictionary\n",
    "    cca_results = {\n",
    "        'Canonical Correlations': canonical_correlations\n",
    "    }\n",
    "\n",
    "    return cca, cca_results\n"
   ]
  },
  {
   "cell_type": "code",
   "execution_count": null,
   "metadata": {},
   "outputs": [],
   "source": [
    "cca, cca_results = perform_cca(data_df, set1_columns=list1, set2_columns=list2)\n",
    "cca_results"
   ]
  },
  {
   "cell_type": "code",
   "execution_count": null,
   "metadata": {},
   "outputs": [],
   "source": []
  },
  {
   "cell_type": "code",
   "execution_count": null,
   "metadata": {},
   "outputs": [],
   "source": []
  }
 ],
 "metadata": {
  "kernelspec": {
   "display_name": "nimlab_py310",
   "language": "python",
   "name": "python3"
  },
  "language_info": {
   "codemirror_mode": {
    "name": "ipython",
    "version": 3
   },
   "file_extension": ".py",
   "mimetype": "text/x-python",
   "name": "python",
   "nbconvert_exporter": "python",
   "pygments_lexer": "ipython3",
   "version": "3.10.8"
  }
 },
 "nbformat": 4,
 "nbformat_minor": 4
}
