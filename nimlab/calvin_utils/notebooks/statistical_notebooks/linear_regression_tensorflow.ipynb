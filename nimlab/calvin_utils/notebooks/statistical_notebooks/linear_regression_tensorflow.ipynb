{
 "cells": [
  {
   "cell_type": "code",
   "execution_count": null,
   "metadata": {},
   "outputs": [],
   "source": [
    "#Prep and visualize data for TF\n",
    "import tensorflow as tf\n",
    "print(tf.__version__)\n",
    "from tensorflow.keras.layers import Normalization\n",
    "from tensorflow.keras import Sequential\n",
    "from tensorflow import keras\n",
    "from tensorflow.keras import layers\n",
    "\n",
    "\n",
    "tf_data = data_df #pd.concat([y_df, x_df], axis=1)\n",
    "train_data = tf_data.sample(frac=1.0, random_state=0)\n",
    "#Use below for normal non-LOO training\n",
    "test_data = tf_data.drop(train_data.index)\n",
    "#use below for LOO training\n",
    "test_data = train_data.drop([0]) #integer represents the index\n",
    "\n",
    "colnames = train_data.columns\n",
    "newnames = []\n",
    "for name in colnames:\n",
    "    arb = os.path.basename(name).split('.nii')[0]\n",
    "    newnames.append(arb)\n",
    "train_data.columns = newnames\n",
    "train_data.tail()\n",
    "\n",
    "snsfig = sns.pairplot(train_data)\n",
    "snsfig"
   ]
  },
  {
   "cell_type": "code",
   "execution_count": null,
   "metadata": {},
   "outputs": [],
   "source": [
    "#Describe the statistics of the data\n",
    "data_description = train_data.describe().transpose()\n",
    "display(data_description)"
   ]
  },
  {
   "cell_type": "code",
   "execution_count": null,
   "metadata": {},
   "outputs": [],
   "source": [
    "#Remove the Y Variable\n",
    "train_fx = train_data.copy()\n",
    "test_fx = test_data.copy()\n",
    "\n",
    "train_labels = train_fx.pop(newnames[0]) #remove the y variable\n",
    "test_label = test_fx.pop(newnames[0]) #remove y vars\n",
    "\n",
    "#Normalize the data\n",
    "train_data.describe().transpose()[['mean', 'std']] #Visualize key info\n",
    "normalizer = tf.keras.layers.Normalization(axis=1)\n",
    "normalizer.adapt(np.array(train_fx))\n",
    "\n",
    "first = np.array(train_fx[:1])\n",
    "\n",
    "with np.printoptions(precision=2, suppress=True):\n",
    "    print('Original:', first)\n",
    "    print('Normalized:', normalizer(first).numpy())\n"
   ]
  },
  {
   "cell_type": "code",
   "execution_count": null,
   "metadata": {},
   "outputs": [],
   "source": [
    "#Train the Linear Regression\n",
    "linear_model = tf.keras.Sequential([normalizer, layers.Dense(units=1)])\n",
    "linear_model.summary()"
   ]
  },
  {
   "cell_type": "code",
   "execution_count": null,
   "metadata": {},
   "outputs": [],
   "source": [
    "print('Model shape below, should be shape=(# vars, 1)')\n",
    "linear_model.layers[1].kernel "
   ]
  },
  {
   "cell_type": "code",
   "execution_count": null,
   "metadata": {},
   "outputs": [],
   "source": [
    "linear_model.compile(\n",
    "    optimizer=tf.keras.optimizers.Adam(learning_rate=.5), \n",
    "    loss='mean_absolute_error')\n",
    "print('compiled')"
   ]
  },
  {
   "cell_type": "code",
   "execution_count": null,
   "metadata": {},
   "outputs": [],
   "source": [
    "history = linear_model.fit(\n",
    "    train_fx,\n",
    "    train_labels,\n",
    "    epochs=200,\n",
    "    # Suppress logging.\n",
    "    verbose=0,\n",
    "    # Calculate validation results on 20% of the training data.\n",
    "    validation_split = 0.0)\n",
    "\n",
    "hist = pd.DataFrame(history.history)\n",
    "hist['epoch'] = history.epoch"
   ]
  },
  {
   "cell_type": "code",
   "execution_count": null,
   "metadata": {},
   "outputs": [],
   "source": [
    "def plot_loss(history):\n",
    "  train_plot = plt.figure()\n",
    "  plt.plot(history.history['loss'], label='loss')\n",
    "  # plt.plot(history.history['val_loss'], label='validation_loss')\n",
    "  plt.ylim([0, 50])\n",
    "  plt.xlabel('Epoch')\n",
    "  plt.ylabel('Error [% Change ADAS]')\n",
    "  plt.legend()\n",
    "  plt.grid(True)\n",
    "  return train_plot\n",
    "\n",
    "train_plot = plot_loss(history)\n",
    "train_plot\n",
    "\n",
    "test_results = {}\n",
    "test_results['linear_model'] = linear_model.evaluate(test_fx, test_label, verbose=0)\n",
    "print('%Loss: ', test_results)"
   ]
  },
  {
   "cell_type": "code",
   "execution_count": null,
   "metadata": {},
   "outputs": [],
   "source": [
    "#Make Predictions\n",
    "try:\n",
    "    test_predictions = linear_model.predict(test_fx).flatten()\n",
    "    pears, p = pearsonr(test_predictions, test_label)\n",
    "\n",
    "    test_plot = plt.figure()\n",
    "    plt.axes(aspect='equal')\n",
    "    plt.scatter(test_label, test_predictions)\n",
    "    plt.title((f'Corr Coeff: {pears} | P Value: {p}'))\n",
    "    plt.xlabel('True Vals [% Change ADAS]')\n",
    "    plt.ylabel('Predicted [% Change ADAS]')\n",
    "    lims = [-200, 200]\n",
    "    plt.xlim(lims)\n",
    "    plt.ylim(lims)\n",
    "    arb = plt.plot(lims, lims)\n",
    "    # yname = newnames[0]\n",
    "except:\n",
    "    print('Cannot make predictions')"
   ]
  },
  {
   "cell_type": "code",
   "execution_count": null,
   "metadata": {},
   "outputs": [],
   "source": [
    "new_df = tf_data.copy()\n",
    "all_y = new_df.pop(newnames[0])\n",
    "all_y.tail()\n",
    "all_x = new_df\n",
    "all_x.tail()\n",
    "overall = linear_model.predict(all_x).flatten()\n",
    "pearson1, r = pearsonr(overall, all_y)\n",
    "print('total corr coef: ', pearson1, ' p: ', r)\n",
    "\n",
    "\n",
    "#Demosntrate on Overall Data\n",
    "overall_plot = plt.figure()\n",
    "plt.axes(aspect='equal')\n",
    "plt.scatter(all_y, overall)\n",
    "plt.title((f'Corr Coeff: {pearson1} | P Value: {r}'))\n",
    "plt.xlabel('True Vals [% Change ADAS]')\n",
    "plt.ylabel('Predicted [% Change ADAS]')\n",
    "lims = [-210, 210]\n",
    "plt.xlim(lims)\n",
    "plt.ylim(lims)\n",
    "arb = plt.plot(lims, lims)"
   ]
  },
  {
   "cell_type": "code",
   "execution_count": null,
   "metadata": {},
   "outputs": [],
   "source": [
    "try:\n",
    "    error = test_predictions - test_label\n",
    "    error_plot = plt.figure()\n",
    "    plt.hist(error, bins=25)\n",
    "    plt.xlabel('Prediction Error [% Change]')\n",
    "    arb = plt.ylabel('Count')\n",
    "except:\n",
    "    print('Cannot make error plot')"
   ]
  },
  {
   "cell_type": "code",
   "execution_count": null,
   "metadata": {},
   "outputs": [],
   "source": [
    "#Prep Dir\n",
    "if os.path.isdir(out_dir) == False:\n",
    "    os.mkdir(out_dir)\n",
    "out_path = os.path.join(out_dir, analysis_name)\n",
    "\n",
    "#Save Regression Figures\n",
    "try:\n",
    "    train_plot.savefig((out_path+'_train_plot.png'))\n",
    "except:\n",
    "    print('no train plot')\n",
    "\n",
    "try:\n",
    "    test_plot.savefig((out_path+'_test_plot.png'))\n",
    "except:\n",
    "    print('no test plot')\n",
    "\n",
    "try:\n",
    "    overall_plot.savefig(out_path+'_overall_plot.png')\n",
    "except:\n",
    "    print('no overall plot')\n",
    "\n",
    "try:\n",
    "    error_plot.savefig(out_path+'_error_plot.png')\n",
    "except:\n",
    "    print('no error plot')"
   ]
  },
  {
   "cell_type": "code",
   "execution_count": null,
   "metadata": {},
   "outputs": [],
   "source": [
    "#Save model for future predictions\n",
    "linear_model.save(out_path+'_regression_model')"
   ]
  },
  {
   "cell_type": "code",
   "execution_count": null,
   "metadata": {},
   "outputs": [],
   "source": [
    "#Save predictions to csv\n",
    "predictions_csv = pd.DataFrame({'predictions': overall, 'actuals': all_y})\n",
    "predictions_csv.tail()\n",
    "predictions_csv.to_csv(out_path + '_overall_predictions.csv')"
   ]
  },
  {
   "cell_type": "code",
   "execution_count": null,
   "metadata": {},
   "outputs": [],
   "source": [
    "# Save Pairplot and \n",
    "try:\n",
    "    snsfig.savefig(out_path+'_pairplot.png')\n",
    "except:\n",
    "    print('no pairplot')\n",
    "try:\n",
    "    data_description.to_csv(out_path+'data_description.csv')\n",
    "except:\n",
    "    print('no data_description')"
   ]
  }
 ],
 "metadata": {
  "kernelspec": {
   "display_name": "nimlab_py310",
   "language": "python",
   "name": "python3"
  },
  "language_info": {
   "name": "python",
   "version": "3.10.8"
  },
  "orig_nbformat": 4,
  "vscode": {
   "interpreter": {
    "hash": "62880161f19d28ddb8a8f59c63374d84ace356c39e36cc839cb3fb3bb03fb010"
   }
  }
 },
 "nbformat": 4,
 "nbformat_minor": 2
}
