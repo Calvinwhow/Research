{
 "cells": [
  {
   "cell_type": "code",
   "execution_count": 4,
   "metadata": {},
   "outputs": [],
   "source": [
    "import os"
   ]
  },
  {
   "cell_type": "code",
   "execution_count": 12,
   "metadata": {},
   "outputs": [],
   "source": [
    "input_csv = '/Users/cu135/Library/CloudStorage/OneDrive-Personal/OneDrive_Documents/Research/2023/autonomous_cognitive_examination_rct/figures/old_mean_sem_median_per_outcomes/question_scores.csv'\n",
    "sheet = None\n",
    "out_dir = '/Users/cu135/Library/CloudStorage/OneDrive-Personal/OneDrive_Documents/Research/2023/autonomous_cognitive_examination_rct/figures/median_testing_redone/grammar_tables/questions'\n",
    "# '/Users/cu135/Library/CloudStorage/OneDrive-Personal/OneDrive_Documents/Research/2023/autonomous_cognitive_examination_rct/figures/mean_sem_median_per_outcomes/cognitive_domains.csv'"
   ]
  },
  {
   "cell_type": "code",
   "execution_count": 13,
   "metadata": {},
   "outputs": [
    {
     "data": {
      "text/html": [
       "<div>\n",
       "<style scoped>\n",
       "    .dataframe tbody tr th:only-of-type {\n",
       "        vertical-align: middle;\n",
       "    }\n",
       "\n",
       "    .dataframe tbody tr th {\n",
       "        vertical-align: top;\n",
       "    }\n",
       "\n",
       "    .dataframe thead th {\n",
       "        text-align: right;\n",
       "    }\n",
       "</style>\n",
       "<table border=\"1\" class=\"dataframe\">\n",
       "  <thead>\n",
       "    <tr style=\"text-align: right;\">\n",
       "      <th></th>\n",
       "      <th>Question</th>\n",
       "      <th>ACoE</th>\n",
       "      <th>ACE-3</th>\n",
       "      <th>p-value</th>\n",
       "    </tr>\n",
       "  </thead>\n",
       "  <tbody>\n",
       "    <tr>\n",
       "      <th>0</th>\n",
       "      <td>1</td>\n",
       "      <td>9.63 +/- 0.11 (10.0)</td>\n",
       "      <td>9.69 +/- 0.15 (10.0)</td>\n",
       "      <td>&gt; 0.05</td>\n",
       "    </tr>\n",
       "    <tr>\n",
       "      <th>1</th>\n",
       "      <td>2</td>\n",
       "      <td>2.54 +/- 0.13 (3.0)</td>\n",
       "      <td>2.97 +/- 0.03 (3.0)</td>\n",
       "      <td>&gt; 0.05</td>\n",
       "    </tr>\n",
       "    <tr>\n",
       "      <th>2</th>\n",
       "      <td>3</td>\n",
       "      <td>3.93 +/- 0.24 (5.0)</td>\n",
       "      <td>4.23 +/- 0.21 (5.0)</td>\n",
       "      <td>&gt; 0.05</td>\n",
       "    </tr>\n",
       "    <tr>\n",
       "      <th>3</th>\n",
       "      <td>4</td>\n",
       "      <td>2.35 +/- 0.15 (3.0)</td>\n",
       "      <td>2.71 +/- 0.11 (3.0)</td>\n",
       "      <td>&gt; 0.05</td>\n",
       "    </tr>\n",
       "    <tr>\n",
       "      <th>4</th>\n",
       "      <td>5</td>\n",
       "      <td>10.24 +/- 0.54 (11.0)</td>\n",
       "      <td>11.23 +/- 0.43 (12.0)</td>\n",
       "      <td>&gt; 0.05</td>\n",
       "    </tr>\n",
       "    <tr>\n",
       "      <th>5</th>\n",
       "      <td>6</td>\n",
       "      <td>5.09 +/- 0.33 (6.0)</td>\n",
       "      <td>5.97 +/- 0.22 (7.0)</td>\n",
       "      <td>&gt; 0.05</td>\n",
       "    </tr>\n",
       "    <tr>\n",
       "      <th>6</th>\n",
       "      <td>7</td>\n",
       "      <td>2.72 +/- 0.15 (3.0)</td>\n",
       "      <td>3.03 +/- 0.15 (3.0)</td>\n",
       "      <td>&gt; 0.05</td>\n",
       "    </tr>\n",
       "    <tr>\n",
       "      <th>7</th>\n",
       "      <td>8</td>\n",
       "      <td>2.43 +/- 0.11 (3.0)</td>\n",
       "      <td>2.89 +/- 0.05 (3.0)</td>\n",
       "      <td>&gt; 0.05</td>\n",
       "    </tr>\n",
       "    <tr>\n",
       "      <th>8</th>\n",
       "      <td>9</td>\n",
       "      <td>1.59 +/- 0.1 (2.0)</td>\n",
       "      <td>1.86 +/- 0.06 (2.0)</td>\n",
       "      <td>&gt; 0.05</td>\n",
       "    </tr>\n",
       "    <tr>\n",
       "      <th>9</th>\n",
       "      <td>10</td>\n",
       "      <td>1.78 +/- 0.07 (2.0)</td>\n",
       "      <td>1.8 +/- 0.07 (2.0)</td>\n",
       "      <td>&gt; 0.05</td>\n",
       "    </tr>\n",
       "    <tr>\n",
       "      <th>10</th>\n",
       "      <td>11</td>\n",
       "      <td>1.83 +/- 0.06 (2.0)</td>\n",
       "      <td>1.89 +/- 0.05 (2.0)</td>\n",
       "      <td>&gt; 0.05</td>\n",
       "    </tr>\n",
       "    <tr>\n",
       "      <th>11</th>\n",
       "      <td>12</td>\n",
       "      <td>11.0 +/- 0.32 (12.0)</td>\n",
       "      <td>11.14 +/- 0.3 (12.0)</td>\n",
       "      <td>&gt; 0.05</td>\n",
       "    </tr>\n",
       "    <tr>\n",
       "      <th>12</th>\n",
       "      <td>13</td>\n",
       "      <td>3.74 +/- 0.09 (4.0)</td>\n",
       "      <td>3.6 +/- 0.12 (4.0)</td>\n",
       "      <td>&gt; 0.05</td>\n",
       "    </tr>\n",
       "    <tr>\n",
       "      <th>13</th>\n",
       "      <td>14</td>\n",
       "      <td>0.54 +/- 0.07 (1.0)</td>\n",
       "      <td>0.6 +/- 0.08 (1.0)</td>\n",
       "      <td>&gt; 0.05</td>\n",
       "    </tr>\n",
       "    <tr>\n",
       "      <th>14</th>\n",
       "      <td>15</td>\n",
       "      <td>6.89 +/- 0.16 (6.5)</td>\n",
       "      <td>7.03 +/- 0.26 (8.0)</td>\n",
       "      <td>&gt; 0.05</td>\n",
       "    </tr>\n",
       "    <tr>\n",
       "      <th>15</th>\n",
       "      <td>16</td>\n",
       "      <td>3.76 +/- 0.09 (4.0)</td>\n",
       "      <td>3.8 +/- 0.1 (4.0)</td>\n",
       "      <td>&gt; 0.05</td>\n",
       "    </tr>\n",
       "    <tr>\n",
       "      <th>16</th>\n",
       "      <td>17</td>\n",
       "      <td>3.76 +/- 0.1 (4.0)</td>\n",
       "      <td>3.8 +/- 0.12 (4.0)</td>\n",
       "      <td>&gt; 0.05</td>\n",
       "    </tr>\n",
       "    <tr>\n",
       "      <th>17</th>\n",
       "      <td>18</td>\n",
       "      <td>4.0 +/- 0.36 (4.0)</td>\n",
       "      <td>4.34 +/- 0.44 (5.0)</td>\n",
       "      <td>&gt; 0.05</td>\n",
       "    </tr>\n",
       "    <tr>\n",
       "      <th>18</th>\n",
       "      <td>19</td>\n",
       "      <td>4.2 +/- 0.18 (5.0)</td>\n",
       "      <td>4.54 +/- 0.13 (5.0)</td>\n",
       "      <td>&gt; 0.05</td>\n",
       "    </tr>\n",
       "  </tbody>\n",
       "</table>\n",
       "</div>"
      ],
      "text/plain": [
       "    Question                   ACoE                  ACE-3 p-value\n",
       "0          1   9.63 +/- 0.11 (10.0)   9.69 +/- 0.15 (10.0)  > 0.05\n",
       "1          2    2.54 +/- 0.13 (3.0)    2.97 +/- 0.03 (3.0)  > 0.05\n",
       "2          3    3.93 +/- 0.24 (5.0)    4.23 +/- 0.21 (5.0)  > 0.05\n",
       "3          4    2.35 +/- 0.15 (3.0)    2.71 +/- 0.11 (3.0)  > 0.05\n",
       "4          5  10.24 +/- 0.54 (11.0)  11.23 +/- 0.43 (12.0)  > 0.05\n",
       "5          6    5.09 +/- 0.33 (6.0)    5.97 +/- 0.22 (7.0)  > 0.05\n",
       "6          7    2.72 +/- 0.15 (3.0)    3.03 +/- 0.15 (3.0)  > 0.05\n",
       "7          8    2.43 +/- 0.11 (3.0)    2.89 +/- 0.05 (3.0)  > 0.05\n",
       "8          9     1.59 +/- 0.1 (2.0)    1.86 +/- 0.06 (2.0)  > 0.05\n",
       "9         10    1.78 +/- 0.07 (2.0)     1.8 +/- 0.07 (2.0)  > 0.05\n",
       "10        11    1.83 +/- 0.06 (2.0)    1.89 +/- 0.05 (2.0)  > 0.05\n",
       "11        12   11.0 +/- 0.32 (12.0)   11.14 +/- 0.3 (12.0)  > 0.05\n",
       "12        13    3.74 +/- 0.09 (4.0)     3.6 +/- 0.12 (4.0)  > 0.05\n",
       "13        14    0.54 +/- 0.07 (1.0)     0.6 +/- 0.08 (1.0)  > 0.05\n",
       "14        15    6.89 +/- 0.16 (6.5)    7.03 +/- 0.26 (8.0)  > 0.05\n",
       "15        16    3.76 +/- 0.09 (4.0)      3.8 +/- 0.1 (4.0)  > 0.05\n",
       "16        17     3.76 +/- 0.1 (4.0)     3.8 +/- 0.12 (4.0)  > 0.05\n",
       "17        18     4.0 +/- 0.36 (4.0)    4.34 +/- 0.44 (5.0)  > 0.05\n",
       "18        19     4.2 +/- 0.18 (5.0)    4.54 +/- 0.13 (5.0)  > 0.05"
      ]
     },
     "execution_count": 13,
     "metadata": {},
     "output_type": "execute_result"
    }
   ],
   "source": [
    "import pandas as pd\n",
    "df = pd.read_csv(input_csv)\n",
    "# df.reset_index(drop=True, inplace=True)\n",
    "df"
   ]
  },
  {
   "cell_type": "code",
   "execution_count": 14,
   "metadata": {},
   "outputs": [
    {
     "data": {
      "text/plain": [
       "'/Users/cu135/Library/CloudStorage/OneDrive-Personal/OneDrive_Documents/Research/2023/autonomous_cognitive_examination_rct/figures/median_testing_redone/grammar_tables/questions'"
      ]
     },
     "execution_count": 14,
     "metadata": {},
     "output_type": "execute_result"
    }
   ],
   "source": [
    "out_dir"
   ]
  },
  {
   "cell_type": "code",
   "execution_count": 15,
   "metadata": {},
   "outputs": [
    {
     "name": "stderr",
     "output_type": "stream",
     "text": [
      "/var/folders/82/946tskyj68b6htgvndtppmz80000gp/T/ipykernel_75741/363702035.py:2: FutureWarning: In future versions `DataFrame.to_latex` is expected to utilise the base implementation of `Styler.to_latex` for formatting and rendering. The arguments signature may therefore change. It is recommended instead to use `DataFrame.style.to_latex` which also contains additional functionality.\n",
      "  df.to_latex(os.path.join(f'{file_without_extention}.tex'))\n"
     ]
    }
   ],
   "source": [
    "file_without_extention = out_dir\n",
    "df.to_latex(os.path.join(f'{file_without_extention}.tex'))\n",
    "\n",
    "with open(f'{file_without_extention}.tex', \"r\") as f:\n",
    "    data = f.read()\n",
    "\n",
    "data = (r\"\\documentclass{standalone}\" + '\\n' +\n",
    "        r\"\\usepackage{booktabs}\" + '\\n' +\n",
    "        r\"\\begin{document}\" + '\\n' +\n",
    "        data +\n",
    "        r\"\\end{document}\")\n",
    "with open(f'{file_without_extention}.tex', \"w\") as f:\n",
    "    f.write(data)\n"
   ]
  },
  {
   "cell_type": "code",
   "execution_count": 16,
   "metadata": {},
   "outputs": [],
   "source": [
    "import subprocess\n",
    "\n",
    "def run_pdflatex(tex_file):\n",
    "    directory = os.path.dirname(tex_file)\n",
    "    print('dir:', directory)\n",
    "    process = subprocess.Popen(['pdflatex', tex_file], stdout=subprocess.PIPE, stderr=subprocess.PIPE)\n",
    "    stdout, stderr = process.communicate()\n",
    "    return stdout, stderr\n",
    "def run_pdfpng(file_without_extention):\n",
    "    process = subprocess.run([\"convert\", \"-density\", \"300\", f'{file_without_extention}.pdf', f'{file_without_extention}.png'], stdout=subprocess.PIPE, stderr=subprocess.PIPE)\n",
    "    stdout, stderr = process.stdout, process.stderr\n",
    "    return stdout, stderr"
   ]
  },
  {
   "cell_type": "code",
   "execution_count": 17,
   "metadata": {},
   "outputs": [
    {
     "data": {
      "text/plain": [
       "'/Users/cu135/Library/CloudStorage/OneDrive-Personal/OneDrive_Documents/Research/2023/autonomous_cognitive_examination_rct/figures/median_testing_redone/grammar_tables/questions'"
      ]
     },
     "execution_count": 17,
     "metadata": {},
     "output_type": "execute_result"
    }
   ],
   "source": [
    "file_without_extention"
   ]
  },
  {
   "cell_type": "code",
   "execution_count": 18,
   "metadata": {},
   "outputs": [
    {
     "name": "stdout",
     "output_type": "stream",
     "text": [
      "dir: /Users/cu135/Library/CloudStorage/OneDrive-Personal/OneDrive_Documents/Research/2023/autonomous_cognitive_examination_rct/figures/median_testing_redone/grammar_tables\n",
      "Output:  b'This is pdfTeX, Version 3.141592653-2.6-1.40.26 (TeX Live 2024/Homebrew) (preloaded format=pdflatex)\\n restricted \\\\write18 enabled.\\nentering extended mode\\n\\n(/Users/cu135/Library/CloudStorage/OneDrive-Personal/OneDrive_Documents/Researc\\nh/2023/autonomous_cognitive_examination_rct/figures/median_testing_redone/gramm\\nar_tables/questions.tex\\nLaTeX2e <2023-11-01> patch level 1\\nL3 programming layer <2024-02-20>\\n\\n(/opt/homebrew/Cellar/texlive/20240312/share/texmf-dist/tex/latex/standalone/st\\nandalone.cls\\nDocument Class: standalone 2022/10/10 v1.3b Class to compile TeX sub-files stan\\ndalone\\n\\n(/opt/homebrew/Cellar/texlive/20240312/share/texmf-dist/tex/latex/tools/shelles\\nc.sty)\\n(/opt/homebrew/Cellar/texlive/20240312/share/texmf-dist/tex/generic/iftex/iflua\\ntex.sty\\n(/opt/homebrew/Cellar/texlive/20240312/share/texmf-dist/tex/generic/iftex/iftex\\n.sty))\\n(/opt/homebrew/Cellar/texlive/20240312/share/texmf-dist/tex/latex/xkeyval/xkeyv\\nal.sty\\n(/opt/homebrew/Cellar/texlive/20240312/share/texmf-dist/tex/generic/xkeyval/xke\\nyval.tex\\n(/opt/homebrew/Cellar/texlive/20240312/share/texmf-dist/tex/generic/xkeyval/xkv\\nutils.tex\\n(/opt/homebrew/Cellar/texlive/20240312/share/texmf-dist/tex/generic/xkeyval/key\\nval.tex))))\\n(/opt/homebrew/Cellar/texlive/20240312/share/texmf-dist/tex/latex/standalone/st\\nandalone.cfg)\\n(/opt/homebrew/Cellar/texlive/20240312/share/texmf-dist/tex/latex/base/article.\\ncls\\nDocument Class: article 2023/05/17 v1.4n Standard LaTeX document class\\n\\n(/opt/homebrew/Cellar/texlive/20240312/share/texmf-dist/tex/latex/base/size10.c\\nlo)))\\n(/opt/homebrew/Cellar/texlive/20240312/share/texmf-dist/tex/latex/booktabs/book\\ntabs.sty)\\n(/opt/homebrew/Cellar/texlive/20240312/share/texmf-dist/tex/latex/l3backend/l3b\\nackend-pdftex.def)\\nNo file questions.aux.\\n[1{/opt/homebrew/Cellar/texlive/20240312/share/texmf-dist/fonts/map/pdftex/updm\\nap/pdftex.map}] (./questions.aux) )</opt/homebrew/Cellar/texlive/20240312/share\\n/texmf-dist/fonts/type1/public/amsfonts/cm/cmr10.pfb>\\nOutput written on questions.pdf (1 page, 17353 bytes).\\nTranscript written on questions.log.\\n'\n",
      "Output:  b''\n"
     ]
    }
   ],
   "source": [
    "# # Convert the .tex file to a .pdf file\n",
    "stdout, stderr = run_pdflatex(f'{file_without_extention}.tex')\n",
    "if stderr:\n",
    "    print('Error: ', stderr)\n",
    "else:\n",
    "    print('Output: ', stdout)\n",
    "\n",
    "# Convert the .pdf file to a .png file\n",
    "stdout, stderr = run_pdfpng(f'{os.path.basename(out_dir)}')\n",
    "if stderr:\n",
    "    print('Error: ', stderr)\n",
    "else:\n",
    "    print('Output: ', stdout)\n",
    "# !convert -density 300 table.pdf -quality 90 table.png"
   ]
  },
  {
   "cell_type": "code",
   "execution_count": null,
   "metadata": {},
   "outputs": [],
   "source": [
    "#Move files and close\n",
    "import shutil\n",
    "shutil.move(os.path.basename(f'{os.path.basename(out_dir)}.png'), out_dir)\n",
    "shutil.move(os.path.basename(f'{os.path.basename(out_dir)}.pdf'), out_dir)"
   ]
  },
  {
   "cell_type": "code",
   "execution_count": null,
   "metadata": {},
   "outputs": [],
   "source": []
  },
  {
   "cell_type": "code",
   "execution_count": null,
   "metadata": {},
   "outputs": [],
   "source": []
  },
  {
   "cell_type": "code",
   "execution_count": null,
   "metadata": {},
   "outputs": [],
   "source": []
  },
  {
   "cell_type": "code",
   "execution_count": null,
   "metadata": {},
   "outputs": [],
   "source": []
  }
 ],
 "metadata": {
  "kernelspec": {
   "display_name": "nimlab_py310",
   "language": "python",
   "name": "python3"
  },
  "language_info": {
   "codemirror_mode": {
    "name": "ipython",
    "version": 3
   },
   "file_extension": ".py",
   "mimetype": "text/x-python",
   "name": "python",
   "nbconvert_exporter": "python",
   "pygments_lexer": "ipython3",
   "version": "3.10.8"
  },
  "orig_nbformat": 4,
  "vscode": {
   "interpreter": {
    "hash": "62880161f19d28ddb8a8f59c63374d84ace356c39e36cc839cb3fb3bb03fb010"
   }
  }
 },
 "nbformat": 4,
 "nbformat_minor": 2
}
