{
 "cells": [
  {
   "cell_type": "markdown",
   "metadata": {},
   "source": [
    "# Perform Surface Network Mapping 'Overlap' Experiment\n",
    "\n",
    "### Authors: William Drew, Alexander Cohen, Christopher Lin\n",
    "\n",
    "Notes:\n",
    "- This notebook requires the NIMLAB Python 3 environment as a kernel. Directions at: (https://github.com/nimlab/software_env)\n",
    "- This notebook is a combination of the old Simple Analysis Notebook and the overlap_maps notebooks (does the same thing)."
   ]
  },
  {
   "cell_type": "code",
   "execution_count": null,
   "metadata": {},
   "outputs": [],
   "source": [
    "## Packages and environmental settings:\n",
    "\n",
    "##Packages:\n",
    "import os\n",
    "import numpy as np\n",
    "import pandas as pd\n",
    "import nibabel as nib\n",
    "from tqdm import tqdm\n",
    "from matplotlib import pyplot as plt\n",
    "from nilearn import image, plotting, regions, datasets\n",
    "from nimlab import datasets as nimds\n",
    "from nimlab import functions as nimf\n",
    "from nimlab import surface as nimsurf\n",
    "fsaverage = datasets.fetch_surf_fsaverage(\"fsaverage5\")\n",
    "%matplotlib inline"
   ]
  },
  {
   "cell_type": "markdown",
   "metadata": {},
   "source": [
    "# Input/Output Setup"
   ]
  },
  {
   "cell_type": "markdown",
   "metadata": {},
   "source": [
    "### 1. Provide your email address for future reference:"
   ]
  },
  {
   "cell_type": "code",
   "execution_count": null,
   "metadata": {},
   "outputs": [],
   "source": [
    "# Enter your email address here in quotes:\n",
    "creator_email = \"wdrew@bwh.harvard.edu\""
   ]
  },
  {
   "cell_type": "markdown",
   "metadata": {},
   "source": [
    "### 2. Where are your data? and where do you want the results to go?\n",
    "NOTE: Provide a csv file created from the `Preprocessing` or `xnat_grabber` notebooks that points to your Lesions and fcMaps (will also work with older csv files from `xnat_gate`)."
   ]
  },
  {
   "cell_type": "code",
   "execution_count": null,
   "metadata": {},
   "outputs": [],
   "source": [
    "# Specify the path to your dataset.csv file\n",
    "\n",
    "dataset_csv = \"\"\n",
    "output_dir = \"\"\n",
    "\n",
    "# EXAMPLE dataset_csv = \"Prosopagnosia_w_Yeo1000.csv\"\n",
    "# EXAMPLE output_dir = \"2_LNM_of_Prosopagnosia_w_Yeo1000\"\n",
    "\n",
    "if not os.path.exists(output_dir):\n",
    "    os.makedirs(output_dir)\n",
    "\n",
    "img_csv = pd.read_csv(dataset_csv)\n",
    "print(\"I found\", len(img_csv), \"participants:\")\n",
    "img_csv.head()"
   ]
  },
  {
   "cell_type": "markdown",
   "metadata": {},
   "source": [
    "# Before we look at the *lesion network* overlap, let's review the *lesion* overlap map"
   ]
  },
  {
   "cell_type": "code",
   "execution_count": null,
   "metadata": {},
   "outputs": [],
   "source": [
    "# Generate an \"N-image\" and a \"Coverage Map\", then show me:\n",
    "lh_lesions = [nib.load(entry).agg_data() for entry in img_csv['roi_fs5_L']]\n",
    "rh_lesions = [nib.load(entry).agg_data() for entry in img_csv['roi_fs5_R']]\n",
    "\n",
    "lh_lesion_overlap = nimsurf.new_gifti_image(np.mean(lh_lesions, axis=0) * len(img_csv))\n",
    "rh_lesion_overlap = nimsurf.new_gifti_image(np.mean(rh_lesions, axis=0) * len(img_csv))\n",
    "\n",
    "lh_lesion_mask = nimsurf.new_gifti_image(lh_lesion_overlap.agg_data() >= 1)\n",
    "rh_lesion_mask = nimsurf.new_gifti_image(rh_lesion_overlap.agg_data() >= 1)\n",
    "\n",
    "fig, ax = plt.subplots(4,2,subplot_kw=dict(projection='3d'),figsize=(8,12))\n",
    "fig.tight_layout()\n",
    "plotting.plot_surf_stat_map(fsaverage.pial_left, lh_lesion_overlap.agg_data(), hemi=\"left\", view=\"lateral\", axes=ax[0,0],cmap=\"Spectral_r\",title='ROI Overlap');\n",
    "plotting.plot_surf_stat_map(fsaverage.pial_right, rh_lesion_overlap.agg_data(), hemi=\"right\", view=\"lateral\", axes=ax[0,1],cmap=\"Spectral_r\");\n",
    "plotting.plot_surf_stat_map(fsaverage.pial_left, lh_lesion_overlap.agg_data(), hemi=\"left\", view=\"medial\", axes=ax[1,0],cmap=\"Spectral_r\");\n",
    "plotting.plot_surf_stat_map(fsaverage.pial_right, rh_lesion_overlap.agg_data(), hemi=\"right\", view=\"medial\", axes=ax[1,1],cmap=\"Spectral_r\");\n",
    "plotting.plot_surf_stat_map(fsaverage.pial_left, lh_lesion_mask.agg_data(), hemi=\"left\", view=\"lateral\", axes=ax[2,0],cmap=\"bwr\",title='ROI Coverage');\n",
    "plotting.plot_surf_stat_map(fsaverage.pial_right, rh_lesion_mask.agg_data(), hemi=\"right\", view=\"lateral\", axes=ax[2,1],cmap=\"bwr\");\n",
    "plotting.plot_surf_stat_map(fsaverage.pial_left, lh_lesion_mask.agg_data(), hemi=\"left\", view=\"medial\", axes=ax[3,0],cmap=\"bwr\");\n",
    "plotting.plot_surf_stat_map(fsaverage.pial_right, rh_lesion_mask.agg_data(), hemi=\"right\", view=\"medial\", axes=ax[3,1],cmap=\"bwr\");"
   ]
  },
  {
   "cell_type": "markdown",
   "metadata": {},
   "source": [
    "# Lesion Network Mapping"
   ]
  },
  {
   "cell_type": "markdown",
   "metadata": {},
   "source": [
    "### 1. Load the fcMap Tmaps and generate a plot relating T-thresholds to the maximum percentage of overlap\n",
    "#### Select a brain mask for visualization\n",
    "- Default brain mask is `MNI152_T1_2mm_brain_mask_dil`\n",
    "- A more strict brain mask option available is `MNI152_T1_2mm_brain_mask`\n",
    "- Additional options are listed in `nimfs.check_mask()` or you can specify a path to a binary mask of your choosing\n",
    "    \n",
    "NOTES:\n",
    "- This can be useful for selecting an appropriate threshold.\n",
    "- See [Cohen and Fox, 2020](https://doi.org/10.1093/brain/awaa095) for details.\n"
   ]
  },
  {
   "cell_type": "code",
   "execution_count": null,
   "metadata": {},
   "outputs": [],
   "source": [
    "# Specify the range of T score levels to test as (start, end+1, increment).\n",
    "\n",
    "t_levels = range(4,16,1)\n",
    "# EXAMPLE t_levels = range(4,16,1)\n",
    "\n",
    "# You can change this mask to a more restrictive one for visualization purposes\n",
    "# Can be a name of a mask in nimlab.datasets or a path to a binary mask nifti file.\n",
    "lh_mask=\"fs5_mask_lh\"\n",
    "rh_mask=\"fs5_mask_rh\"\n",
    "\n",
    "lh_t_maps = list(img_csv['surfLhT'])\n",
    "rh_t_maps = list(img_csv['surfRhT'])\n",
    "\n",
    "max_positives = []\n",
    "max_negatives = []\n",
    "for t in tqdm(t_levels):\n",
    "    lh_pos_overlap, lh_neg_overlap = nimsurf.get_pos_neg_overlap_maps(lh_t_maps, t, mask = lh_mask) \n",
    "    rh_pos_overlap, rh_neg_overlap = nimsurf.get_pos_neg_overlap_maps(rh_t_maps, t, mask = rh_mask) \n",
    "    max_positives.append(np.max([np.nanmax(lh_pos_overlap.agg_data()), np.nanmax(rh_pos_overlap.agg_data())]))\n",
    "    max_negatives.append(np.max([np.nanmax(lh_neg_overlap.agg_data()), np.nanmax(rh_neg_overlap.agg_data())]))\n",
    "\n",
    "\n",
    "plt.plot(t_levels, max_positives, label='Positive')\n",
    "plt.plot(t_levels, max_negatives, label='Negative')\n",
    "plt.title(\"T-score levels vs. peak LNM overlap\")\n",
    "plt.xlabel(\"T-score threshold\")\n",
    "plt.ylabel(\"Max overlap\")\n",
    "plt.legend();"
   ]
  },
  {
   "cell_type": "markdown",
   "metadata": {},
   "source": [
    "### 2. At a specific threshold, show me the spatial overlap at various percentages\n",
    "\n",
    "NOTES:\n",
    "- We have typically considered a rough guideline of $\\geq$90-95% overlap to be important (100% is easiest to interpret of course)\n",
    "- Be mindful of how you think about thresholds for the overlap:\n",
    "  - Here, I have modified the code to show voxels **$\\geq$ instead of $\\gt$thresholds**, so if a voxel is present in exactly 75% of subjects, I am displaying it here.\n",
    "  - FSLeyes (and nilearn) default to show data $\\gt$threshold, so if you load the `LNM_fraction_xxx.nii.gz` and set the range to 0.75 to 1, you are viewing voxels **$\\gt$0.75, not $\\geq$0.75**.\n",
    "  - `direction` defaults to `\"twosided\"`, which considers both positive and negative connectivity when calculating overlaps. You can also set `direction` to `\"positive\"` or `\"negative\"` to consider only positive or negative connectivity when calculating overlaps, respectively.\n",
    "  - `mode` defaults to `\"fraction\"`, which plots the overlap maps as a fraction of the total number of subjects. You can also set `mode` to `\"count\"` to plot the overlap maps as a count of the number of subjects that overlap at any particular region. \n"
   ]
  },
  {
   "cell_type": "code",
   "execution_count": null,
   "metadata": {},
   "outputs": [],
   "source": [
    "# Specify a T-score threshold\n",
    "\n",
    "T_level = 9\n",
    "# EXAMPLE T_level = 9\n",
    "\n",
    "# Specify a range of overlap fractions to examine\n",
    "range_to_examine = np.linspace(0.75,1,6)\n",
    "\n",
    "nimsurf.plot_overlap_surface_map_to_screen(\n",
    "    lh_t_maps, rh_t_maps, T_level, range_to_examine, lh_mask = lh_mask, rh_mask = rh_mask,\n",
    "    direction = \"twosided\",\n",
    "    mode = \"fraction\"\n",
    ")"
   ]
  },
  {
   "cell_type": "markdown",
   "metadata": {},
   "source": [
    "### 3. Final required step: Write your overlap maps to files\n",
    "\n",
    "NOTE: I put this in a separate cell, so you can re-run the prior cell multiple times to view the differences. Once you've selected the T-score thresholds you want to use, specify them below to write the overlap maps to files\n",
    "- `direction` defaults to `\"twosided\"`, which considers both positive and negative connectivity when calculating overlaps. You can also set `direction` to `\"positive\"` or `\"negative\"` to consider only positive or negative connectivity when calculating overlaps, respectively."
   ]
  },
  {
   "cell_type": "code",
   "execution_count": null,
   "metadata": {},
   "outputs": [],
   "source": [
    "# Specify the specific T-score thresholds you want to print in the array here:\n",
    "for t in [5, 7, 9]:\n",
    "    print(\"Writing Files for a T>\",str(t))\n",
    "    nimsurf.write_overlap_map_to_file(\n",
    "        lh_t_maps,\n",
    "        rh_t_maps,\n",
    "        t,\n",
    "        output_dir,\n",
    "        lh_mask=\"fs5_mask_lh\",\n",
    "        rh_mask=\"fs5_mask_rh\",\n",
    "        direction=\"twosided\",\n",
    "    )"
   ]
  }
 ],
 "metadata": {
  "kernelspec": {
   "display_name": "Py3.9 Nimlab",
   "language": "python",
   "name": "nimlab"
  },
  "language_info": {
   "codemirror_mode": {
    "name": "ipython",
    "version": 3
   },
   "file_extension": ".py",
   "mimetype": "text/x-python",
   "name": "python",
   "nbconvert_exporter": "python",
   "pygments_lexer": "ipython3",
   "version": "3.9.16"
  }
 },
 "nbformat": 4,
 "nbformat_minor": 4
}
