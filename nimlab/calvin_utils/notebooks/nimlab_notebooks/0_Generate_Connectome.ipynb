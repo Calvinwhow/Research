{
 "cells": [
  {
   "cell_type": "markdown",
   "metadata": {},
   "source": [
    "Generate Connectome from Niftis\n",
    "====\n",
    "\n",
    "This notebook generates a connectome set for use with connectome_quick from 4d Nifti files"
   ]
  },
  {
   "cell_type": "code",
   "execution_count": null,
   "metadata": {
    "tags": [
     "imports"
    ]
   },
   "outputs": [],
   "source": [
    "import os \n",
    "import glob\n",
    "import multiprocessing\n",
    "import numpy as np\n",
    "from nilearn import image, maskers\n",
    "from tqdm import tqdm \n",
    "from natsort import natsorted\n",
    "from nimlab import datasets\n",
    "\n",
    "\n",
    "# Don't be a pest when multiprocessing\n",
    "os.nice(19)\n",
    "\n",
    "# Function that transforms a set of nifti files to an npy file and a norms file for use with connectome_quick\n",
    "# args is a tuple in the form (files[], subject_name, mask_file, output_dir)\n",
    "def transform(args):\n",
    "    files = args[0] \n",
    "    subject_name = args[1]\n",
    "    mask_file = args[2]\n",
    "    output_dir = args[3]\n",
    "    subject_img = image.concat_imgs(files)\n",
    "    masker = maskers.NiftiMasker(mask_file, standardize=False)\n",
    "    masked = masker.fit_transform(subject_img)\n",
    "    norms = np.linalg.norm(masked, axis = 0)\n",
    "    np.save(os.path.join(output_dir,subject_name),masked.astype('float16'))\n",
    "    np.save(os.path.join(output_dir,subject_name+'_norms'),norms.astype('float16'))"
   ]
  },
  {
   "cell_type": "markdown",
   "metadata": {},
   "source": [
    "## 1. Gather the files you want to convert from nifti to numpy arrays and specify where you want the output to go"
   ]
  },
  {
   "cell_type": "code",
   "execution_count": null,
   "metadata": {},
   "outputs": [],
   "source": [
    "# Get the files to be transformed, you may need wildcards, two examples provided:\n",
    "# files = natsorted(glob.glob(\"/lab-share/Neuro-Cohen-e2/Public/projects/GSP/CBIG_fMRI_preprocess_Legacy_GSP_500M/sub*/vol/sub*gz\"))\n",
    "# files = natsorted(glob.glob(\"/data/nimlab/Yeo_1000_nii/vol/*\"))\n",
    "\n",
    "input_dir = '/Volumes/Drobo/Research/collections/GSPtest'\n",
    "output_dir = '/Volumes/Drobo/Research/connectomes/GSPtest'\n",
    "\n",
    "# All NIMLAB analyses have used the FSL 2mm_brain_mask_dil file since shifting to python code (older analyses used the 222.nii.gz mask as in Lead-DBS)\n",
    "mask_img = datasets.get_img_path(\"MNI152_T1_2mm_brain_mask_dil\")\n",
    "\n",
    "files = natsorted(glob.glob(os.path.join(input_dir,\"sub*/vol/sub*.nii.gz\")))\n",
    "print(files[:5])\n",
    "\n",
    "if not os.path.exists(output_dir):\n",
    "    os.makedirs(output_dir)"
   ]
  },
  {
   "cell_type": "markdown",
   "metadata": {},
   "source": [
    "## 2. Generate a list of unique subject names (which we will then use to combine runs within subjects)"
   ]
  },
  {
   "cell_type": "code",
   "execution_count": null,
   "metadata": {},
   "outputs": [],
   "source": [
    "# Get unique subject names from dataset. This cell requires the user to change it based on the naming scheme of the files\n",
    "# For instance, for files named: sub-0003_bld002_rest_skip4_stc_mc_bp_0.0001_0.08_resid_FS1mm_MNI1mm_MNI2mm_sm7_finalmask.nii.gz\n",
    "# sub = f.split('/')[-1].split('_bld')[0]   will split the files using '_bld' and take what's before it to be the subject name\n",
    "\n",
    "subjects = []\n",
    "for f in files:\n",
    "    sub = f.split('/')[-1].split('_bld')[0]\n",
    "    subjects.append(sub)\n",
    "unique_subjects = list(set(subjects))\n",
    "print(len(unique_subjects))"
   ]
  },
  {
   "cell_type": "markdown",
   "metadata": {},
   "source": [
    "## 3. Makes a list of runs for each subject and set-up the arguments for conversion"
   ]
  },
  {
   "cell_type": "code",
   "execution_count": null,
   "metadata": {},
   "outputs": [],
   "source": [
    "# The transform function expects lists of runs that belong to the same subject so that they can be concatenated. \n",
    "# Since every dataset may have different naming conventions, you will have to test this yourself. 's' is the subject name.\n",
    "\n",
    "subject_args = []\n",
    "for s in unique_subjects:\n",
    "    runs = natsorted(glob.glob(os.path.join(input_dir,s+'*','vol',s+'*')))\n",
    "    subject_args.append((runs, s, mask_img, output_dir))\n",
    "\n",
    "# show the results for the first five subjects\n",
    "print(subject_args[:5])\n",
    "                     \n",
    "# make sure we got everyone\n",
    "number_of_subjects = len(subject_args)\n",
    "print(number_of_subjects)"
   ]
  },
  {
   "cell_type": "markdown",
   "metadata": {},
   "source": [
    "## 4. Run the conversion in serial or parallel as able for your computer (you want processes <= the number of cores you have access to)"
   ]
  },
  {
   "cell_type": "code",
   "execution_count": null,
   "metadata": {},
   "outputs": [],
   "source": [
    "# Convert it!\n",
    "\n",
    "## One at a time (but without depending on multiprocessing.Pool)\n",
    "\n",
    "for i in tqdm(subject_args):\n",
    "    transform(i)\n",
    "\n",
    "    \n",
    "## Run all at once (as long as your python environment is set up correctly)\n",
    "\n",
    "# pool = multiprocessing.Pool(processes=6)\n",
    "# list(tqdm(pool.imap(transform, subject_args), total=number_of_subjects))\n",
    "# pool.close()\n",
    "# pool.join()"
   ]
  }
 ],
 "metadata": {
  "celltoolbar": "Tags",
  "kernelspec": {
   "display_name": "Py3.9 Nimlab",
   "language": "python",
   "name": "nimlab"
  },
  "language_info": {
   "codemirror_mode": {
    "name": "ipython",
    "version": 3
   },
   "file_extension": ".py",
   "mimetype": "text/x-python",
   "name": "python",
   "nbconvert_exporter": "python",
   "pygments_lexer": "ipython3",
   "version": "3.9.15"
  }
 },
 "nbformat": 4,
 "nbformat_minor": 4
}
