{
 "cells": [
  {
   "cell_type": "code",
   "execution_count": 2,
   "metadata": {},
   "outputs": [],
   "source": [
    "from nimlab import datasets as nimds\n",
    "import numpy as np\n",
    "from nilearn import image, plotting, maskers\n",
    "import nibabel as nib\n",
    "import os\n",
    "import pandas as pd\n",
    "import glob\n",
    "import platform\n",
    "import warnings\n",
    "warnings.filterwarnings('ignore')\n",
    "import nilearn"
   ]
  },
  {
   "cell_type": "markdown",
   "metadata": {},
   "source": [
    "Set BIDS Directory Information"
   ]
  },
  {
   "cell_type": "code",
   "execution_count": 4,
   "metadata": {},
   "outputs": [
    {
     "name": "stdout",
     "output_type": "stream",
     "text": [
      "Will save to:  /Users/cu135/Dropbox (Partners HealthCare)/resources/datasets/BIDS_AD_DBS_FORNIX/neuroimaging_analyses/ses-01/sub-all/spatial_correlation\n"
     ]
    }
   ],
   "source": [
    "## Paths Input Here\n",
    "bids_base_directory = '/Users/cu135/Dropbox (Partners HealthCare)/resources/datasets/BIDS_AD_DBS_FORNIX'\n",
    "session_number = '01'\n",
    "#----------------------------------------------------------------DO NOT TOUCH\n",
    "out_dir = os.path.join(bids_base_directory, 'neuroimaging_analyses', (f'ses-{session_number}'), 'sub-all', 'spatial_correlation')\n",
    "print('Will save to: ', out_dir)\n",
    "os.makedirs(out_dir, exist_ok=True)"
   ]
  },
  {
   "cell_type": "markdown",
   "metadata": {},
   "source": [
    "**Import The First Matrix**"
   ]
  },
  {
   "cell_type": "markdown",
   "metadata": {},
   "source": [
    "Enter Information Relating to the Path of the First Set of Niftis"
   ]
  },
  {
   "cell_type": "code",
   "execution_count": 5,
   "metadata": {},
   "outputs": [],
   "source": [
    "basename_target_1 = r'/Users/cu135/Dropbox (Partners HealthCare)/resources/datasets/BIDS_AD_DBS_FORNIX/derivatives/response_topology/voxelwise_glm/stim_by_age/corrected_p_vals'\n",
    "file_pattern_target_1 = r'nilean_corrected_fpr_p_values.nii.gz'\n"
   ]
  },
  {
   "cell_type": "markdown",
   "metadata": {},
   "source": [
    "Enter Information Regarding How You Want to Handle the Niftis"
   ]
  },
  {
   "cell_type": "code",
   "execution_count": 6,
   "metadata": {},
   "outputs": [],
   "source": [
    "remove_zero = False\n",
    "z_score_df1 = False\n",
    "rfz_transform_target1 = False\n",
    "threshold_df1 = False\n",
    "take_absolute_value = False"
   ]
  },
  {
   "cell_type": "markdown",
   "metadata": {},
   "source": [
    "Import the Niftis"
   ]
  },
  {
   "cell_type": "code",
   "execution_count": 7,
   "metadata": {},
   "outputs": [],
   "source": [
    "import numpy as np\n",
    "from calvin_utils.file_utils.import_matrices import import_matrices_from_folder\n",
    "from calvin_utils.nifti_utils.matrix_utilities import threshold_matrix\n",
    "\n",
    "def process_matrices(\n",
    "    basename_target, \n",
    "    file_pattern_target, \n",
    "    z_score_df=False, \n",
    "    rfz_transform_target=False, \n",
    "    threshold_df=False, \n",
    "    take_absolute_value=True\n",
    "):\n",
    "    \"\"\"\n",
    "    Process matrices from a given directory and file pattern.\n",
    "    \n",
    "    Parameters:\n",
    "    - basename_target (str): Path to the directory containing the matrices.\n",
    "    - file_pattern_target (str): File pattern to match matrices.\n",
    "    - remove_zero (bool, optional): A flag which, if implemented, would remove zero values. Default is False.\n",
    "    - z_score_df (bool, optional): Apply z-scoring to the matrices. Default is False.\n",
    "    - rfz_transform_target (bool, optional): Apply Fisher's r-to-z transformation to the matrices. Default is False.\n",
    "    - threshold_df (bool, optional): Apply thresholding to the matrices. Default is False.\n",
    "    - take_absolute_value (bool, optional): Convert matrix values to their absolute values. Default is True.\n",
    "    \n",
    "    Returns:\n",
    "    - DataFrame: Processed matrices\n",
    "    \"\"\"\n",
    "    \n",
    "    matrix_df = import_matrices_from_folder(connectivity_path=basename_target, file_pattern=file_pattern_target)\n",
    "    \n",
    "    if z_score_df:\n",
    "        from calvin_utils.statistical_utils.z_score_matrix import z_score_matrix\n",
    "        for col in matrix_df.columns:\n",
    "            matrix_df[col] = matrix_df[col].apply(lambda x: z_score_matrix(x))\n",
    "    \n",
    "    if rfz_transform_target:\n",
    "        from calvin_utils.statistical_utils.fisher_z_transform import fisher_z_transform\n",
    "        for col in matrix_df.columns:\n",
    "            matrix_df[col] = matrix_df[col].apply(lambda x: fisher_z_transform(x))\n",
    "    \n",
    "    if threshold_df:\n",
    "        matrix_df = threshold_matrix(matrix_df, threshold=2, probability=False, direction='keep_greater')\n",
    "    \n",
    "    if take_absolute_value:\n",
    "        matrix_df = np.abs(matrix_df)\n",
    "    \n",
    "    return matrix_df\n"
   ]
  },
  {
   "cell_type": "code",
   "execution_count": 8,
   "metadata": {},
   "outputs": [
    {
     "name": "stdout",
     "output_type": "stream",
     "text": [
      "I will search:  /Users/cu135/Dropbox (Partners HealthCare)/resources/datasets/BIDS_AD_DBS_FORNIX/derivatives/response_topology/voxelwise_glm/stim_by_age/corrected_p_vals/nilean_corrected_fpr_p_values.nii.gz\n"
     ]
    },
    {
     "data": {
      "text/html": [
       "<div>\n",
       "<style scoped>\n",
       "    .dataframe tbody tr th:only-of-type {\n",
       "        vertical-align: middle;\n",
       "    }\n",
       "\n",
       "    .dataframe tbody tr th {\n",
       "        vertical-align: top;\n",
       "    }\n",
       "\n",
       "    .dataframe thead th {\n",
       "        text-align: right;\n",
       "    }\n",
       "</style>\n",
       "<table border=\"1\" class=\"dataframe\">\n",
       "  <thead>\n",
       "    <tr style=\"text-align: right;\">\n",
       "      <th></th>\n",
       "      <th>nilean_corrected_fpr_p_values.nii.gz</th>\n",
       "    </tr>\n",
       "  </thead>\n",
       "  <tbody>\n",
       "    <tr>\n",
       "      <th>902626</th>\n",
       "      <td>0.0</td>\n",
       "    </tr>\n",
       "    <tr>\n",
       "      <th>902627</th>\n",
       "      <td>0.0</td>\n",
       "    </tr>\n",
       "    <tr>\n",
       "      <th>902628</th>\n",
       "      <td>0.0</td>\n",
       "    </tr>\n",
       "  </tbody>\n",
       "</table>\n",
       "</div>"
      ],
      "text/plain": [
       "        nilean_corrected_fpr_p_values.nii.gz\n",
       "902626                                   0.0\n",
       "902627                                   0.0\n",
       "902628                                   0.0"
      ]
     },
     "execution_count": 8,
     "metadata": {},
     "output_type": "execute_result"
    }
   ],
   "source": [
    "matrix_df1 = process_matrices(\n",
    "    basename_target=basename_target_1,\n",
    "    file_pattern_target=file_pattern_target_1,\n",
    "    z_score_df=z_score_df1,\n",
    "    rfz_transform_target=rfz_transform_target1,\n",
    "    threshold_df=threshold_df1,\n",
    "    take_absolute_value=take_absolute_value,\n",
    ")\n",
    "matrix_df1.tail(3)"
   ]
  },
  {
   "cell_type": "markdown",
   "metadata": {},
   "source": [
    "**Import the Second Matrix**"
   ]
  },
  {
   "cell_type": "markdown",
   "metadata": {},
   "source": [
    "Enter Information Relating to the Path of the First Set of Niftis"
   ]
  },
  {
   "cell_type": "code",
   "execution_count": 9,
   "metadata": {},
   "outputs": [],
   "source": [
    "basename_target_2 = r'/Users/cu135/Dropbox (Partners HealthCare)/resources/published_networks/niftis'\n",
    "file_pattern_target_2 = r'Memory Network.nii'"
   ]
  },
  {
   "cell_type": "markdown",
   "metadata": {},
   "source": [
    "Enter Information Regarding How You Want to Handle the Niftis"
   ]
  },
  {
   "cell_type": "code",
   "execution_count": 10,
   "metadata": {},
   "outputs": [],
   "source": [
    "z_score_df2 = False\n",
    "rfz_transform_target2 = False\n",
    "threshold_df2 = False\n",
    "take_absolute_value2 = False"
   ]
  },
  {
   "cell_type": "markdown",
   "metadata": {},
   "source": [
    "Import the Niftis"
   ]
  },
  {
   "cell_type": "code",
   "execution_count": 38,
   "metadata": {},
   "outputs": [
    {
     "name": "stdout",
     "output_type": "stream",
     "text": [
      "I will search:  /Users/cu135/Dropbox (Partners HealthCare)/resources/published_networks/niftis/Memory Network.nii\n"
     ]
    }
   ],
   "source": [
    "matrix_df2 = process_matrices(\n",
    "    basename_target=basename_target_2,\n",
    "    file_pattern_target=file_pattern_target_2,\n",
    "    z_score_df=z_score_df2,\n",
    "    rfz_transform_target=rfz_transform_target2,\n",
    "    threshold_df=threshold_df2,\n",
    "    take_absolute_value=take_absolute_value2,\n",
    ")\n",
    "matrix_df2.tail(3)\n",
    "\n",
    "matrix_df2 = matrix_df2.abs()"
   ]
  },
  {
   "cell_type": "markdown",
   "metadata": {},
   "source": [
    "Merge Dataframes"
   ]
  },
  {
   "cell_type": "code",
   "execution_count": 39,
   "metadata": {},
   "outputs": [],
   "source": [
    "import pandas as pd\n",
    "import numpy as np\n",
    "\n",
    "def join_dataframes(matrix_df1, matrix_df2):\n",
    "    \"\"\"\n",
    "    Joins two dataframes side by side and returns the merged dataframe.\n",
    "    \n",
    "    Parameters:\n",
    "    - matrix_df1 (DataFrame): The first dataframe to join.\n",
    "    - matrix_df2 (DataFrame): The second dataframe to join.\n",
    "    \n",
    "    Returns:\n",
    "    - DataFrame: The merged dataframe created by joining matrix_df1 and matrix_df2 side by side.\n",
    "    \"\"\"\n",
    "    \n",
    "    # Reset indexes of the input dataframes\n",
    "    matrix_df1.reset_index()\n",
    "    matrix_df2.reset_index()\n",
    "    \n",
    "    # Print lengths of the dataframes\n",
    "    print('df1 len: ', len(matrix_df1), ' matrix_df2 len: ', len(matrix_df2))\n",
    "    \n",
    "    # Concatenate the dataframes side by side\n",
    "    merged_df = pd.concat([matrix_df1, matrix_df2], axis=1, ignore_index=False)\n",
    "    \n",
    "    # Print the number of non-zero elements in the last column\n",
    "    print('Nonzero values in last column: ', np.count_nonzero(merged_df.iloc[:,-1]))\n",
    "    try:\n",
    "        merged_df.pop('index')\n",
    "    except:\n",
    "        pass\n",
    "    return merged_df\n",
    "\n",
    "# Example usage:\n",
    "# Assuming matrix_df1 and matrix_df2 are already defined\n",
    "# result_df = join_dataframes(matrix_df1, matrix_df2)\n"
   ]
  },
  {
   "cell_type": "code",
   "execution_count": 40,
   "metadata": {},
   "outputs": [
    {
     "name": "stdout",
     "output_type": "stream",
     "text": [
      "df1 len:  902629  matrix_df2 len:  902629\n",
      "Nonzero values in last column:  292019\n"
     ]
    },
    {
     "data": {
      "text/html": [
       "<div>\n",
       "<style scoped>\n",
       "    .dataframe tbody tr th:only-of-type {\n",
       "        vertical-align: middle;\n",
       "    }\n",
       "\n",
       "    .dataframe tbody tr th {\n",
       "        vertical-align: top;\n",
       "    }\n",
       "\n",
       "    .dataframe thead th {\n",
       "        text-align: right;\n",
       "    }\n",
       "</style>\n",
       "<table border=\"1\" class=\"dataframe\">\n",
       "  <thead>\n",
       "    <tr style=\"text-align: right;\">\n",
       "      <th></th>\n",
       "      <th>nilean_corrected_fpr_p_values.nii.gz</th>\n",
       "      <th>Memory Network.nii</th>\n",
       "    </tr>\n",
       "  </thead>\n",
       "  <tbody>\n",
       "    <tr>\n",
       "      <th>0</th>\n",
       "      <td>0.0</td>\n",
       "      <td>0.0</td>\n",
       "    </tr>\n",
       "    <tr>\n",
       "      <th>1</th>\n",
       "      <td>0.0</td>\n",
       "      <td>0.0</td>\n",
       "    </tr>\n",
       "    <tr>\n",
       "      <th>2</th>\n",
       "      <td>0.0</td>\n",
       "      <td>0.0</td>\n",
       "    </tr>\n",
       "    <tr>\n",
       "      <th>3</th>\n",
       "      <td>0.0</td>\n",
       "      <td>0.0</td>\n",
       "    </tr>\n",
       "    <tr>\n",
       "      <th>4</th>\n",
       "      <td>0.0</td>\n",
       "      <td>0.0</td>\n",
       "    </tr>\n",
       "    <tr>\n",
       "      <th>...</th>\n",
       "      <td>...</td>\n",
       "      <td>...</td>\n",
       "    </tr>\n",
       "    <tr>\n",
       "      <th>902624</th>\n",
       "      <td>0.0</td>\n",
       "      <td>0.0</td>\n",
       "    </tr>\n",
       "    <tr>\n",
       "      <th>902625</th>\n",
       "      <td>0.0</td>\n",
       "      <td>0.0</td>\n",
       "    </tr>\n",
       "    <tr>\n",
       "      <th>902626</th>\n",
       "      <td>0.0</td>\n",
       "      <td>0.0</td>\n",
       "    </tr>\n",
       "    <tr>\n",
       "      <th>902627</th>\n",
       "      <td>0.0</td>\n",
       "      <td>0.0</td>\n",
       "    </tr>\n",
       "    <tr>\n",
       "      <th>902628</th>\n",
       "      <td>0.0</td>\n",
       "      <td>0.0</td>\n",
       "    </tr>\n",
       "  </tbody>\n",
       "</table>\n",
       "<p>902629 rows × 2 columns</p>\n",
       "</div>"
      ],
      "text/plain": [
       "        nilean_corrected_fpr_p_values.nii.gz  Memory Network.nii\n",
       "0                                        0.0                 0.0\n",
       "1                                        0.0                 0.0\n",
       "2                                        0.0                 0.0\n",
       "3                                        0.0                 0.0\n",
       "4                                        0.0                 0.0\n",
       "...                                      ...                 ...\n",
       "902624                                   0.0                 0.0\n",
       "902625                                   0.0                 0.0\n",
       "902626                                   0.0                 0.0\n",
       "902627                                   0.0                 0.0\n",
       "902628                                   0.0                 0.0\n",
       "\n",
       "[902629 rows x 2 columns]"
      ]
     },
     "execution_count": 40,
     "metadata": {},
     "output_type": "execute_result"
    }
   ],
   "source": [
    "merged_df = join_dataframes(matrix_df1, matrix_df2)\n",
    "merged_df"
   ]
  },
  {
   "cell_type": "markdown",
   "metadata": {},
   "source": [
    "Mask Within A Given Template Space"
   ]
  },
  {
   "cell_type": "code",
   "execution_count": 41,
   "metadata": {},
   "outputs": [],
   "source": [
    "import numpy as np\n",
    "from nimlab import datasets as nimds\n",
    "from nilearn import image\n",
    "\n",
    "def apply_mask_to_dataframe(merged_df, mask_path=None):\n",
    "    \"\"\"\n",
    "    Apply a mask to a dataframe using either a provided mask or the default MNI ICBM152 mask.\n",
    "    \n",
    "    Parameters:\n",
    "    - merged_df (DataFrame): The dataframe to which the mask should be applied.\n",
    "    - mask_path (str, optional): The path to the mask image. If not provided, the MNI ICBM152 mask will be used.\n",
    "    \n",
    "    Returns:\n",
    "    - DataFrame: The masked dataframe containing only the rows specified by the mask.\n",
    "    \n",
    "    Example usage:\n",
    "    >>> masked_df = apply_mask_to_dataframe(merged_df, mask_path=None)\n",
    "    \"\"\"\n",
    "    \n",
    "    # Load the mask data based on the provided mask_path or use default mask\n",
    "    if mask_path is not None:\n",
    "        brain_indices = np.where(image.load_img(mask_path).get_fdata().flatten() > 0)[0]\n",
    "    else:\n",
    "        mni_mask = nimds.get_img(\"mni_icbm152\")\n",
    "        mask_data = mni_mask.get_fdata().flatten()\n",
    "        brain_indices = np.where(mask_data > 0)[0]\n",
    "    \n",
    "    # Apply the mask to the dataframe\n",
    "    masked_df = merged_df.iloc[brain_indices]\n",
    "    \n",
    "    return masked_df\n",
    "\n",
    "\n"
   ]
  },
  {
   "cell_type": "code",
   "execution_count": 42,
   "metadata": {},
   "outputs": [
    {
     "data": {
      "text/html": [
       "<div>\n",
       "<style scoped>\n",
       "    .dataframe tbody tr th:only-of-type {\n",
       "        vertical-align: middle;\n",
       "    }\n",
       "\n",
       "    .dataframe tbody tr th {\n",
       "        vertical-align: top;\n",
       "    }\n",
       "\n",
       "    .dataframe thead th {\n",
       "        text-align: right;\n",
       "    }\n",
       "</style>\n",
       "<table border=\"1\" class=\"dataframe\">\n",
       "  <thead>\n",
       "    <tr style=\"text-align: right;\">\n",
       "      <th></th>\n",
       "      <th>nilean_corrected_fpr_p_values.nii.gz</th>\n",
       "      <th>Memory Network.nii</th>\n",
       "    </tr>\n",
       "  </thead>\n",
       "  <tbody>\n",
       "    <tr>\n",
       "      <th>93491</th>\n",
       "      <td>0.0</td>\n",
       "      <td>0.057329</td>\n",
       "    </tr>\n",
       "    <tr>\n",
       "      <th>93492</th>\n",
       "      <td>0.0</td>\n",
       "      <td>0.063376</td>\n",
       "    </tr>\n",
       "    <tr>\n",
       "      <th>93493</th>\n",
       "      <td>0.0</td>\n",
       "      <td>0.070855</td>\n",
       "    </tr>\n",
       "    <tr>\n",
       "      <th>93582</th>\n",
       "      <td>0.0</td>\n",
       "      <td>0.053693</td>\n",
       "    </tr>\n",
       "    <tr>\n",
       "      <th>93583</th>\n",
       "      <td>0.0</td>\n",
       "      <td>0.058415</td>\n",
       "    </tr>\n",
       "    <tr>\n",
       "      <th>...</th>\n",
       "      <td>...</td>\n",
       "      <td>...</td>\n",
       "    </tr>\n",
       "    <tr>\n",
       "      <th>798193</th>\n",
       "      <td>0.0</td>\n",
       "      <td>0.023294</td>\n",
       "    </tr>\n",
       "    <tr>\n",
       "      <th>798281</th>\n",
       "      <td>0.0</td>\n",
       "      <td>0.032668</td>\n",
       "    </tr>\n",
       "    <tr>\n",
       "      <th>798282</th>\n",
       "      <td>0.0</td>\n",
       "      <td>0.035310</td>\n",
       "    </tr>\n",
       "    <tr>\n",
       "      <th>798283</th>\n",
       "      <td>0.0</td>\n",
       "      <td>0.039092</td>\n",
       "    </tr>\n",
       "    <tr>\n",
       "      <th>798373</th>\n",
       "      <td>0.0</td>\n",
       "      <td>0.049377</td>\n",
       "    </tr>\n",
       "  </tbody>\n",
       "</table>\n",
       "<p>225222 rows × 2 columns</p>\n",
       "</div>"
      ],
      "text/plain": [
       "        nilean_corrected_fpr_p_values.nii.gz  Memory Network.nii\n",
       "93491                                    0.0            0.057329\n",
       "93492                                    0.0            0.063376\n",
       "93493                                    0.0            0.070855\n",
       "93582                                    0.0            0.053693\n",
       "93583                                    0.0            0.058415\n",
       "...                                      ...                 ...\n",
       "798193                                   0.0            0.023294\n",
       "798281                                   0.0            0.032668\n",
       "798282                                   0.0            0.035310\n",
       "798283                                   0.0            0.039092\n",
       "798373                                   0.0            0.049377\n",
       "\n",
       "[225222 rows x 2 columns]"
      ]
     },
     "execution_count": 42,
     "metadata": {},
     "output_type": "execute_result"
    }
   ],
   "source": [
    "masked_df = apply_mask_to_dataframe(merged_df, mask_path=None)\n",
    "masked_df"
   ]
  },
  {
   "cell_type": "markdown",
   "metadata": {},
   "source": [
    "**Perform Correlation**\n",
    "\n",
    "method_choices:\n",
    "- 0 = pearson\n",
    "- 1 = spearman\n",
    "- 2 = kendall"
   ]
  },
  {
   "cell_type": "code",
   "execution_count": 43,
   "metadata": {},
   "outputs": [],
   "source": [
    "method_choice = 0\n",
    "only_compare_nonzero_voxels=True"
   ]
  },
  {
   "cell_type": "code",
   "execution_count": 44,
   "metadata": {},
   "outputs": [],
   "source": [
    "import pandas as pd\n",
    "from tqdm import tqdm\n",
    "from natsort import natsorted\n",
    "\n",
    "def compute_correlation(df, method_choice=0, only_compare_nonzero_voxels=False):\n",
    "    \"\"\"\n",
    "    Compute correlations among columns of a DataFrame using a specified method.\n",
    "    When only_compare_nonzero_voxels is True, only pairs of non-zero voxels are used for the computation.\n",
    "    \n",
    "    Parameters:\n",
    "    - df (DataFrame): The dataframe for which correlations should be computed.\n",
    "    - method_choice (int, optional): An integer indicating the correlation method to be used. \n",
    "                                     0: Pearson (default), 1: Spearman, 2: Kendall.\n",
    "    - only_compare_nonzero_voxels (bool, optional): Flag to determine whether to compute correlations \n",
    "                                                    considering only non-zero voxels. Default is False.\n",
    "    \n",
    "    Returns:\n",
    "    - DataFrame: The correlation matrix.\n",
    "    \n",
    "    Example usage:\n",
    "    >>> corr_matrix = compute_correlation(df, method_choice=0, only_compare_nonzero_voxels=True)\n",
    "    \"\"\"\n",
    "    \n",
    "    methods = ['pearson', 'spearman', 'kendall']\n",
    "    method = methods[method_choice]\n",
    "    \n",
    "    # If only_compare_nonzero_voxels is False, compute the correlation in the usual manner\n",
    "    if not only_compare_nonzero_voxels:\n",
    "        return df.corr(method=method), method\n",
    "    else:\n",
    "        columns = df.columns\n",
    "        n = len(columns)\n",
    "        \n",
    "        # Initialize a dataframe to store the results\n",
    "        corr_df = pd.DataFrame(index=columns, columns=columns, dtype='float64')\n",
    "        \n",
    "        # Iterate over each pair of columns\n",
    "        for i in tqdm(range(n)):\n",
    "            for j in range(i, n):\n",
    "                # Filter rows where both columns have non-zero values\n",
    "                temp_df = df[(df[columns[i]] != 0) & (df[columns[j]] != 0)]\n",
    "                \n",
    "                # Compute correlation for the filtered rows\n",
    "                corr_value = temp_df[[columns[i], columns[j]]].corr(method=method).iloc[0, 1]\n",
    "                \n",
    "                # Assign the computed value to the result dataframe\n",
    "                corr_df.iloc[i, j] = corr_value\n",
    "                corr_df.iloc[j, i] = corr_value\n",
    "                \n",
    "    #Sort the Dataframe            \n",
    "    corr_df = corr_df.reindex(index=natsorted(corr_df.index))\n",
    "    corr_df = corr_df.reindex(columns=natsorted(corr_df.columns))\n",
    "    return corr_df, method\n"
   ]
  },
  {
   "cell_type": "code",
   "execution_count": 49,
   "metadata": {},
   "outputs": [],
   "source": [
    "only_compare_nonzero_voxels=True"
   ]
  },
  {
   "cell_type": "code",
   "execution_count": 50,
   "metadata": {},
   "outputs": [
    {
     "name": "stderr",
     "output_type": "stream",
     "text": [
      "100%|██████████| 2/2 [00:00<00:00, 155.68it/s]\n"
     ]
    },
    {
     "data": {
      "text/html": [
       "<div>\n",
       "<style scoped>\n",
       "    .dataframe tbody tr th:only-of-type {\n",
       "        vertical-align: middle;\n",
       "    }\n",
       "\n",
       "    .dataframe tbody tr th {\n",
       "        vertical-align: top;\n",
       "    }\n",
       "\n",
       "    .dataframe thead th {\n",
       "        text-align: right;\n",
       "    }\n",
       "</style>\n",
       "<table border=\"1\" class=\"dataframe\">\n",
       "  <thead>\n",
       "    <tr style=\"text-align: right;\">\n",
       "      <th></th>\n",
       "      <th>Memory Network.nii</th>\n",
       "      <th>nilean_corrected_fpr_p_values.nii.gz</th>\n",
       "    </tr>\n",
       "  </thead>\n",
       "  <tbody>\n",
       "    <tr>\n",
       "      <th>Memory Network.nii</th>\n",
       "      <td>1.000000</td>\n",
       "      <td>-0.117012</td>\n",
       "    </tr>\n",
       "    <tr>\n",
       "      <th>nilean_corrected_fpr_p_values.nii.gz</th>\n",
       "      <td>-0.117012</td>\n",
       "      <td>1.000000</td>\n",
       "    </tr>\n",
       "  </tbody>\n",
       "</table>\n",
       "</div>"
      ],
      "text/plain": [
       "                                      Memory Network.nii  \\\n",
       "Memory Network.nii                              1.000000   \n",
       "nilean_corrected_fpr_p_values.nii.gz           -0.117012   \n",
       "\n",
       "                                      nilean_corrected_fpr_p_values.nii.gz  \n",
       "Memory Network.nii                                               -0.117012  \n",
       "nilean_corrected_fpr_p_values.nii.gz                              1.000000  "
      ]
     },
     "execution_count": 50,
     "metadata": {},
     "output_type": "execute_result"
    }
   ],
   "source": [
    "corr_df, method = compute_correlation(masked_df, method_choice=method_choice, \n",
    "                                      only_compare_nonzero_voxels=only_compare_nonzero_voxels)\n",
    "corr_df"
   ]
  },
  {
   "cell_type": "markdown",
   "metadata": {},
   "source": [
    "**Visualize the Correlation Matrix**"
   ]
  },
  {
   "cell_type": "code",
   "execution_count": 51,
   "metadata": {},
   "outputs": [
    {
     "data": {
      "text/plain": [
       "<AxesSubplot: >"
      ]
     },
     "execution_count": 51,
     "metadata": {},
     "output_type": "execute_result"
    },
    {
     "data": {
      "image/png": "[encoded data removed]",
      "text/plain": [
       "<Figure size 1500x1300 with 2 Axes>"
      ]
     },
     "metadata": {},
     "output_type": "display_data"
    }
   ],
   "source": [
    "#Create heatmap of correlation matrix\n",
    "import seaborn as sns\n",
    "import matplotlib.pyplot as plt\n",
    "\n",
    "fig = plt.figure(figsize=(15, 13))\n",
    "sns.heatmap(corr_df, cmap='ocean_hot',square=True, linewidths=.5, cbar_kws={\"shrink\": .5}, vmin=-1, vmax=1)          "
   ]
  },
  {
   "cell_type": "markdown",
   "metadata": {},
   "source": [
    "**Save The Figure & Dataframe**\n",
    "- enter the name of your comparison below"
   ]
  },
  {
   "cell_type": "code",
   "execution_count": 138,
   "metadata": {},
   "outputs": [],
   "source": [
    "import os\n",
    "\n",
    "def save_correlation_results(corr_df, fig, out_dir, comparison, save=False, method_choice=0):\n",
    "    \"\"\"\n",
    "    Save the correlation dataframe and figure to specified output directory.\n",
    "    \n",
    "    Parameters:\n",
    "    - out_dir (str): The base directory where the results should be saved.\n",
    "    - comparison (str): The specific comparison or sub-directory under out_dir.\n",
    "    - save (bool, optional): Flag to determine whether to save results. Default is False.\n",
    "    - method_choice (int, optional): An integer indicating the correlation method used. \n",
    "                                     0: Pearson (default), 1: Spearman, 2: Kendall.\n",
    "    \n",
    "    Example usage:\n",
    "    >>> save_correlation_results('/path/to/output', 'specific_comparison', save=True, method_choice=1)\n",
    "    \"\"\"\n",
    "    \n",
    "    if save:\n",
    "        out_dir = os.path.join(out_dir, comparison)\n",
    "        os.makedirs(out_dir, exist_ok=True)\n",
    "\n",
    "        corr_df.to_csv(os.path.join(out_dir, f'{method_choice}_correlation_df.csv'))\n",
    "        fig.savefig(os.path.join(out_dir, f'{method_choice}_correlation_matrix.png'))\n",
    "        print('saved to ' + os.path.join(out_dir, f'{method_choice}_correlation_matrix.png'))\n"
   ]
  },
  {
   "cell_type": "code",
   "execution_count": 139,
   "metadata": {},
   "outputs": [],
   "source": [
    "comparison = 'z_score_atrophy_index'\n",
    "save_results = True"
   ]
  },
  {
   "cell_type": "code",
   "execution_count": 140,
   "metadata": {},
   "outputs": [
    {
     "name": "stdout",
     "output_type": "stream",
     "text": [
      "saved to /Users/cu135/Dropbox (Partners HealthCare)/resources/datasets/BIDS_PD_DBS_STN_WURZBURG/neuroimaging_analyses/ses-01/sub-all/spatial_correlation/z_score_atrophy_index/0_correlation_matrix.png\n"
     ]
    }
   ],
   "source": [
    "save_correlation_results(corr_df=corr_df, fig=fig, out_dir=out_dir, comparison=comparison, save=save_results, method_choice=method_choice)"
   ]
  },
  {
   "cell_type": "markdown",
   "metadata": {},
   "source": [
    "**Extract the Cross-Correlation Matrix**"
   ]
  },
  {
   "cell_type": "code",
   "execution_count": 62,
   "metadata": {},
   "outputs": [],
   "source": [
    "def extract_cross_correlation_diagonal(corr_df):\n",
    "    \"\"\"\n",
    "    Extracts the diagonal of the cross-correlation from the given correlation matrix.\n",
    "    \n",
    "    Parameters:\n",
    "    - corr_df (DataFrame): The correlation matrix.\n",
    "    \n",
    "    Returns:\n",
    "    - DataFrame: The diagonal of the cross-correlation with the patient identifiers as the index.\n",
    "    \n",
    "    Example usage:\n",
    "    >>> cross_corr_diag = extract_cross_correlation_diagonal(corr_df)\n",
    "    \"\"\"\n",
    "    \n",
    "    # Assuming the dataframe is square and has an even number of columns,\n",
    "    # split it into two equal parts\n",
    "    n = len(corr_df)\n",
    "    half_n = n // 2\n",
    "    \n",
    "    # Extract the values from the intersection of the rows of the first dataset \n",
    "    # and the columns of the second dataset\n",
    "    cross_corr_values = [corr_df.iloc[i, i + half_n] for i in range(half_n)]\n",
    "    \n",
    "    # Convert to DataFrame while maintaining the index from the original corr_df\n",
    "    cross_corr_df = pd.DataFrame(cross_corr_values, index=corr_df.index[:half_n], columns=[\"Cross-Correlation\"])\n",
    "    \n",
    "    return cross_corr_df\n",
    "\n"
   ]
  },
  {
   "cell_type": "code",
   "execution_count": 64,
   "metadata": {},
   "outputs": [
    {
     "data": {
      "text/html": [
       "<div>\n",
       "<style scoped>\n",
       "    .dataframe tbody tr th:only-of-type {\n",
       "        vertical-align: middle;\n",
       "    }\n",
       "\n",
       "    .dataframe tbody tr th {\n",
       "        vertical-align: top;\n",
       "    }\n",
       "\n",
       "    .dataframe thead th {\n",
       "        text-align: right;\n",
       "    }\n",
       "</style>\n",
       "<table border=\"1\" class=\"dataframe\">\n",
       "  <thead>\n",
       "    <tr style=\"text-align: right;\">\n",
       "      <th></th>\n",
       "      <th>Cross-Correlation</th>\n",
       "    </tr>\n",
       "  </thead>\n",
       "  <tbody>\n",
       "    <tr>\n",
       "      <th>generated_nifti.nii</th>\n",
       "      <td>-0.222022</td>\n",
       "    </tr>\n",
       "    <tr>\n",
       "      <th>sub-01-mwp1glanat_resampled.nii</th>\n",
       "      <td>0.707479</td>\n",
       "    </tr>\n",
       "    <tr>\n",
       "      <th>sub-02-mwp1glanat_resampled.nii</th>\n",
       "      <td>0.729065</td>\n",
       "    </tr>\n",
       "    <tr>\n",
       "      <th>sub-03-mwp1glanat_resampled.nii</th>\n",
       "      <td>0.707234</td>\n",
       "    </tr>\n",
       "    <tr>\n",
       "      <th>sub-04-mwp1glanat_resampled.nii</th>\n",
       "      <td>0.713028</td>\n",
       "    </tr>\n",
       "    <tr>\n",
       "      <th>sub-05-mwp1glanat_resampled.nii</th>\n",
       "      <td>0.703514</td>\n",
       "    </tr>\n",
       "    <tr>\n",
       "      <th>sub-06-mwp1glanat_resampled.nii</th>\n",
       "      <td>0.699636</td>\n",
       "    </tr>\n",
       "    <tr>\n",
       "      <th>sub-07-mwp1glanat_resampled.nii</th>\n",
       "      <td>0.689816</td>\n",
       "    </tr>\n",
       "    <tr>\n",
       "      <th>sub-08-mwp1glanat_resampled.nii</th>\n",
       "      <td>0.715738</td>\n",
       "    </tr>\n",
       "    <tr>\n",
       "      <th>sub-09-mwp1glanat_resampled.nii</th>\n",
       "      <td>0.725327</td>\n",
       "    </tr>\n",
       "    <tr>\n",
       "      <th>sub-10-mwp1glanat_resampled.nii</th>\n",
       "      <td>0.692701</td>\n",
       "    </tr>\n",
       "    <tr>\n",
       "      <th>sub-11-mwp1glanat_resampled.nii</th>\n",
       "      <td>0.685427</td>\n",
       "    </tr>\n",
       "    <tr>\n",
       "      <th>sub-12-mwp1glanat_resampled.nii</th>\n",
       "      <td>0.704846</td>\n",
       "    </tr>\n",
       "    <tr>\n",
       "      <th>sub-13-mwp1glanat_resampled.nii</th>\n",
       "      <td>0.110251</td>\n",
       "    </tr>\n",
       "    <tr>\n",
       "      <th>sub-14-mwp1glanat_resampled.nii</th>\n",
       "      <td>0.721255</td>\n",
       "    </tr>\n",
       "    <tr>\n",
       "      <th>sub-15-mwp1glanat_resampled.nii</th>\n",
       "      <td>0.713735</td>\n",
       "    </tr>\n",
       "    <tr>\n",
       "      <th>sub-16-mwp1glanat_resampled.nii</th>\n",
       "      <td>0.710194</td>\n",
       "    </tr>\n",
       "  </tbody>\n",
       "</table>\n",
       "</div>"
      ],
      "text/plain": [
       "                                 Cross-Correlation\n",
       "generated_nifti.nii                      -0.222022\n",
       "sub-01-mwp1glanat_resampled.nii           0.707479\n",
       "sub-02-mwp1glanat_resampled.nii           0.729065\n",
       "sub-03-mwp1glanat_resampled.nii           0.707234\n",
       "sub-04-mwp1glanat_resampled.nii           0.713028\n",
       "sub-05-mwp1glanat_resampled.nii           0.703514\n",
       "sub-06-mwp1glanat_resampled.nii           0.699636\n",
       "sub-07-mwp1glanat_resampled.nii           0.689816\n",
       "sub-08-mwp1glanat_resampled.nii           0.715738\n",
       "sub-09-mwp1glanat_resampled.nii           0.725327\n",
       "sub-10-mwp1glanat_resampled.nii           0.692701\n",
       "sub-11-mwp1glanat_resampled.nii           0.685427\n",
       "sub-12-mwp1glanat_resampled.nii           0.704846\n",
       "sub-13-mwp1glanat_resampled.nii           0.110251\n",
       "sub-14-mwp1glanat_resampled.nii           0.721255\n",
       "sub-15-mwp1glanat_resampled.nii           0.713735\n",
       "sub-16-mwp1glanat_resampled.nii           0.710194"
      ]
     },
     "execution_count": 64,
     "metadata": {},
     "output_type": "execute_result"
    }
   ],
   "source": [
    "cross_corr_diagonal_df = extract_cross_correlation_diagonal(corr_df)\n",
    "cross_corr_diagonal_df"
   ]
  },
  {
   "cell_type": "code",
   "execution_count": 65,
   "metadata": {},
   "outputs": [
    {
     "data": {
      "text/plain": [
       "<AxesSubplot: >"
      ]
     },
     "execution_count": 65,
     "metadata": {},
     "output_type": "execute_result"
    },
    {
     "data": {
      "image/png": "[encoded data removed]",
      "text/plain": [
       "<Figure size 1500x1300 with 2 Axes>"
      ]
     },
     "metadata": {},
     "output_type": "display_data"
    }
   ],
   "source": [
    "#Create heatmap of correlation matrix\n",
    "import seaborn as sns\n",
    "import matplotlib.pyplot as plt\n",
    "\n",
    "fig = plt.figure(figsize=(15, 13))\n",
    "sns.heatmap(cross_corr_diagonal_df, cmap='ocean_hot',square=True, linewidths=.5, cbar_kws={\"shrink\": .5}, vmin=-1, vmax=1)       "
   ]
  },
  {
   "cell_type": "markdown",
   "metadata": {},
   "source": [
    "Save Results"
   ]
  },
  {
   "cell_type": "code",
   "execution_count": 339,
   "metadata": {},
   "outputs": [],
   "source": [
    "import os\n",
    "\n",
    "def save_cross_correlation_results(corr_df, fig, out_dir, comparison, save=False, method_choice=0):\n",
    "    \"\"\"\n",
    "    Save the correlation dataframe and figure to specified output directory.\n",
    "    \n",
    "    Parameters:\n",
    "    - out_dir (str): The base directory where the results should be saved.\n",
    "    - comparison (str): The specific comparison or sub-directory under out_dir.\n",
    "    - save (bool, optional): Flag to determine whether to save results. Default is False.\n",
    "    - method_choice (int, optional): An integer indicating the correlation method used. \n",
    "                                     0: Pearson (default), 1: Spearman, 2: Kendall.\n",
    "    \n",
    "    Example usage:\n",
    "    >>> save_correlation_results('/path/to/output', 'specific_comparison', save=True, method_choice=1)\n",
    "    \"\"\"\n",
    "    \n",
    "    if save:\n",
    "        out_dir = os.path.join(out_dir, comparison)\n",
    "        os.makedirs(out_dir, exist_ok=True)\n",
    "\n",
    "        corr_df.to_csv(os.path.join(out_dir, f'{method_choice}_cross_correlation_df.csv'))\n",
    "        fig.savefig(os.path.join(out_dir, f'{method_choice}_cross_correlation_matrix.png'))\n",
    "        print('saved to ' + os.path.join(out_dir, f'{method_choice}_cross_correlation_matrix.png'))"
   ]
  },
  {
   "cell_type": "code",
   "execution_count": 340,
   "metadata": {},
   "outputs": [],
   "source": [
    "save_results = True"
   ]
  },
  {
   "cell_type": "code",
   "execution_count": 341,
   "metadata": {},
   "outputs": [
    {
     "name": "stdout",
     "output_type": "stream",
     "text": [
      "saved to /Users/cu135/Dropbox (Partners HealthCare)/resources/datasets/BIDS_AD_DBS_FORNIX/neuroimaging_analyses/ses-01/sub-all/spatial_correlation/composite_atrophy_vs_connectivity_raw/0_cross_correlation_matrix.png\n"
     ]
    }
   ],
   "source": [
    "save_cross_correlation_results(corr_df=cross_corr_diagonal_df, fig=fig, out_dir=out_dir, comparison=comparison, save=save_results, method_choice=method_choice)"
   ]
  },
  {
   "attachments": {},
   "cell_type": "markdown",
   "metadata": {},
   "source": [
    "## Show Specific Heatmap"
   ]
  },
  {
   "cell_type": "code",
   "execution_count": 342,
   "metadata": {},
   "outputs": [
    {
     "name": "stdout",
     "output_type": "stream",
     "text": [
      "Index(['101_vat_seed_compound_fMRI_efield_func_seed_T.nii',\n",
      "       '102_vat_seed_compound_fMRI_efield_func_seed_T.nii',\n",
      "       '103_vat_seed_compound_fMRI_efield_func_seed_T.nii',\n",
      "       '104_vat_seed_compound_fMRI_efield_func_seed_T.nii',\n",
      "       '105_vat_seed_compound_fMRI_efield_func_seed_T.nii',\n",
      "       '106_vat_seed_compound_fMRI_efield_func_seed_T.nii',\n",
      "       '107_vat_seed_compound_fMRI_efield_func_seed_T.nii',\n",
      "       '108_vat_seed_compound_fMRI_efield_func_seed_T.nii',\n",
      "       '109_vat_seed_compound_fMRI_efield_func_seed_T.nii',\n",
      "       '110_vat_seed_compound_fMRI_efield_func_seed_T.nii',\n",
      "       '111_vat_seed_compound_fMRI_efield_func_seed_T.nii',\n",
      "       '112_vat_seed_compound_fMRI_efield_func_seed_T.nii',\n",
      "       '113_vat_seed_compound_fMRI_efield_func_seed_T.nii',\n",
      "       '114_vat_seed_compound_fMRI_efield_func_seed_T.nii',\n",
      "       '115_vat_seed_compound_fMRI_efield_func_seed_T.nii',\n",
      "       '116_vat_seed_compound_fMRI_efield_func_seed_T.nii',\n",
      "       '118_vat_seed_compound_fMRI_efield_func_seed_T.nii',\n",
      "       '119_vat_seed_compound_fMRI_efield_func_seed_T.nii',\n",
      "       '120_vat_seed_compound_fMRI_efield_func_seed_T.nii',\n",
      "       '121_vat_seed_compound_fMRI_efield_func_seed_T.nii',\n",
      "       '122_vat_seed_compound_fMRI_efield_func_seed_T.nii',\n",
      "       '123_vat_seed_compound_fMRI_efield_func_seed_T.nii',\n",
      "       '124_vat_seed_compound_fMRI_efield_func_seed_T.nii',\n",
      "       '125_vat_seed_compound_fMRI_efield_func_seed_T.nii',\n",
      "       '126_vat_seed_compound_fMRI_efield_func_seed_T.nii',\n",
      "       '127_vat_seed_compound_fMRI_efield_func_seed_T.nii',\n",
      "       '128_vat_seed_compound_fMRI_efield_func_seed_T.nii',\n",
      "       '129_vat_seed_compound_fMRI_efield_func_seed_T.nii',\n",
      "       '130_vat_seed_compound_fMRI_efield_func_seed_T.nii',\n",
      "       '131_vat_seed_compound_fMRI_efield_func_seed_T.nii',\n",
      "       '133_vat_seed_compound_fMRI_efield_func_seed_T.nii',\n",
      "       '134_vat_seed_compound_fMRI_efield_func_seed_T.nii',\n",
      "       '135_vat_seed_compound_fMRI_efield_func_seed_T.nii',\n",
      "       '137_vat_seed_compound_fMRI_efield_func_seed_T.nii',\n",
      "       '138_vat_seed_compound_fMRI_efield_func_seed_T.nii',\n",
      "       '139_vat_seed_compound_fMRI_efield_func_seed_T.nii',\n",
      "       '140_vat_seed_compound_fMRI_efield_func_seed_T.nii',\n",
      "       '141_vat_seed_compound_fMRI_efield_func_seed_T.nii',\n",
      "       '142_vat_seed_compound_fMRI_efield_func_seed_T.nii',\n",
      "       '143_vat_seed_compound_fMRI_efield_func_seed_T.nii',\n",
      "       '144_vat_seed_compound_fMRI_efield_func_seed_T.nii',\n",
      "       '145_vat_seed_compound_fMRI_efield_func_seed_T.nii',\n",
      "       '146_vat_seed_compound_fMRI_efield_func_seed_T.nii',\n",
      "       '147_vat_seed_compound_fMRI_efield_func_seed_T.nii',\n",
      "       '148_vat_seed_compound_fMRI_efield_func_seed_T.nii',\n",
      "       '149_vat_seed_compound_fMRI_efield_func_seed_T.nii',\n",
      "       '150_vat_seed_compound_fMRI_efield_func_seed_T.nii',\n",
      "       '1201_vat_seed_compound_fMRI_efield_func_seed_T.nii',\n",
      "       '1202_vat_seed_compound_fMRI_efield_func_seed_T.nii',\n",
      "       '1203_vat_seed_compound_fMRI_efield_func_seed_T.nii',\n",
      "       'sub-101_composite_generated_nifti.nii',\n",
      "       'sub-102_composite_generated_nifti.nii',\n",
      "       'sub-103_composite_generated_nifti.nii',\n",
      "       'sub-104_composite_generated_nifti.nii',\n",
      "       'sub-105_composite_generated_nifti.nii',\n",
      "       'sub-106_composite_generated_nifti.nii',\n",
      "       'sub-107_composite_generated_nifti.nii',\n",
      "       'sub-108_composite_generated_nifti.nii',\n",
      "       'sub-109_composite_generated_nifti.nii',\n",
      "       'sub-110_composite_generated_nifti.nii',\n",
      "       'sub-111_composite_generated_nifti.nii',\n",
      "       'sub-112_composite_generated_nifti.nii',\n",
      "       'sub-113_composite_generated_nifti.nii',\n",
      "       'sub-114_composite_generated_nifti.nii',\n",
      "       'sub-115_composite_generated_nifti.nii',\n",
      "       'sub-116_composite_generated_nifti.nii',\n",
      "       'sub-118_composite_generated_nifti.nii',\n",
      "       'sub-119_composite_generated_nifti.nii',\n",
      "       'sub-120_composite_generated_nifti.nii',\n",
      "       'sub-121_composite_generated_nifti.nii',\n",
      "       'sub-122_composite_generated_nifti.nii',\n",
      "       'sub-123_composite_generated_nifti.nii',\n",
      "       'sub-124_composite_generated_nifti.nii',\n",
      "       'sub-125_composite_generated_nifti.nii',\n",
      "       'sub-126_composite_generated_nifti.nii',\n",
      "       'sub-127_composite_generated_nifti.nii',\n",
      "       'sub-128_composite_generated_nifti.nii',\n",
      "       'sub-129_composite_generated_nifti.nii',\n",
      "       'sub-130_composite_generated_nifti.nii',\n",
      "       'sub-131_composite_generated_nifti.nii',\n",
      "       'sub-133_composite_generated_nifti.nii',\n",
      "       'sub-134_composite_generated_nifti.nii',\n",
      "       'sub-135_composite_generated_nifti.nii',\n",
      "       'sub-137_composite_generated_nifti.nii',\n",
      "       'sub-138_composite_generated_nifti.nii',\n",
      "       'sub-139_composite_generated_nifti.nii',\n",
      "       'sub-140_composite_generated_nifti.nii',\n",
      "       'sub-141_composite_generated_nifti.nii',\n",
      "       'sub-142_composite_generated_nifti.nii',\n",
      "       'sub-143_composite_generated_nifti.nii',\n",
      "       'sub-144_composite_generated_nifti.nii',\n",
      "       'sub-145_composite_generated_nifti.nii',\n",
      "       'sub-146_composite_generated_nifti.nii',\n",
      "       'sub-147_composite_generated_nifti.nii',\n",
      "       'sub-148_composite_generated_nifti.nii',\n",
      "       'sub-149_composite_generated_nifti.nii',\n",
      "       'sub-150_composite_generated_nifti.nii',\n",
      "       'sub-1201_composite_generated_nifti.nii',\n",
      "       'sub-1202_composite_generated_nifti.nii',\n",
      "       'sub-1203_composite_generated_nifti.nii'],\n",
      "      dtype='object')\n"
     ]
    }
   ],
   "source": [
    "print(corr_df.columns)"
   ]
  },
  {
   "cell_type": "code",
   "execution_count": 343,
   "metadata": {},
   "outputs": [
    {
     "ename": "KeyError",
     "evalue": "'generated_nifti.nii'",
     "output_type": "error",
     "traceback": [
      "\u001b[0;31m---------------------------------------------------------------------------\u001b[0m",
      "\u001b[0;31mKeyError\u001b[0m                                  Traceback (most recent call last)",
      "File \u001b[0;32m/usr/local/Caskroom/mambaforge/base/envs/nimlab_py310/lib/python3.10/site-packages/pandas/core/indexes/base.py:3803\u001b[0m, in \u001b[0;36mIndex.get_loc\u001b[0;34m(self, key, method, tolerance)\u001b[0m\n\u001b[1;32m   3802\u001b[0m \u001b[39mtry\u001b[39;00m:\n\u001b[0;32m-> 3803\u001b[0m     \u001b[39mreturn\u001b[39;00m \u001b[39mself\u001b[39;49m\u001b[39m.\u001b[39;49m_engine\u001b[39m.\u001b[39;49mget_loc(casted_key)\n\u001b[1;32m   3804\u001b[0m \u001b[39mexcept\u001b[39;00m \u001b[39mKeyError\u001b[39;00m \u001b[39mas\u001b[39;00m err:\n",
      "File \u001b[0;32m/usr/local/Caskroom/mambaforge/base/envs/nimlab_py310/lib/python3.10/site-packages/pandas/_libs/index.pyx:138\u001b[0m, in \u001b[0;36mpandas._libs.index.IndexEngine.get_loc\u001b[0;34m()\u001b[0m\n",
      "File \u001b[0;32m/usr/local/Caskroom/mambaforge/base/envs/nimlab_py310/lib/python3.10/site-packages/pandas/_libs/index.pyx:165\u001b[0m, in \u001b[0;36mpandas._libs.index.IndexEngine.get_loc\u001b[0;34m()\u001b[0m\n",
      "File \u001b[0;32mpandas/_libs/hashtable_class_helper.pxi:5745\u001b[0m, in \u001b[0;36mpandas._libs.hashtable.PyObjectHashTable.get_item\u001b[0;34m()\u001b[0m\n",
      "File \u001b[0;32mpandas/_libs/hashtable_class_helper.pxi:5753\u001b[0m, in \u001b[0;36mpandas._libs.hashtable.PyObjectHashTable.get_item\u001b[0;34m()\u001b[0m\n",
      "\u001b[0;31mKeyError\u001b[0m: 'generated_nifti.nii'",
      "\nThe above exception was the direct cause of the following exception:\n",
      "\u001b[0;31mKeyError\u001b[0m                                  Traceback (most recent call last)",
      "Cell \u001b[0;32mIn[343], line 9\u001b[0m\n\u001b[1;32m      7\u001b[0m \u001b[39m#---isolate network of interest and remove those not of interest\u001b[39;00m\n\u001b[1;32m      8\u001b[0m corr_df_2 \u001b[39m=\u001b[39m corr_df\u001b[39m.\u001b[39mcopy()\n\u001b[0;32m----> 9\u001b[0m corr_df_2 \u001b[39m=\u001b[39m pd\u001b[39m.\u001b[39mDataFrame(corr_df_2\u001b[39m.\u001b[39;49mloc[:, network_of_interest])\n\u001b[1;32m     10\u001b[0m \u001b[39mif\u001b[39;00m networks_of_disinterest[\u001b[39m0\u001b[39m] \u001b[39mis\u001b[39;00m \u001b[39mnot\u001b[39;00m \u001b[39mNone\u001b[39;00m:\n\u001b[1;32m     11\u001b[0m     \u001b[39mfor\u001b[39;00m network \u001b[39min\u001b[39;00m networks_of_disinterest:\n",
      "File \u001b[0;32m/usr/local/Caskroom/mambaforge/base/envs/nimlab_py310/lib/python3.10/site-packages/pandas/core/indexing.py:1067\u001b[0m, in \u001b[0;36m_LocationIndexer.__getitem__\u001b[0;34m(self, key)\u001b[0m\n\u001b[1;32m   1065\u001b[0m     \u001b[39mif\u001b[39;00m \u001b[39mself\u001b[39m\u001b[39m.\u001b[39m_is_scalar_access(key):\n\u001b[1;32m   1066\u001b[0m         \u001b[39mreturn\u001b[39;00m \u001b[39mself\u001b[39m\u001b[39m.\u001b[39mobj\u001b[39m.\u001b[39m_get_value(\u001b[39m*\u001b[39mkey, takeable\u001b[39m=\u001b[39m\u001b[39mself\u001b[39m\u001b[39m.\u001b[39m_takeable)\n\u001b[0;32m-> 1067\u001b[0m     \u001b[39mreturn\u001b[39;00m \u001b[39mself\u001b[39;49m\u001b[39m.\u001b[39;49m_getitem_tuple(key)\n\u001b[1;32m   1068\u001b[0m \u001b[39melse\u001b[39;00m:\n\u001b[1;32m   1069\u001b[0m     \u001b[39m# we by definition only have the 0th axis\u001b[39;00m\n\u001b[1;32m   1070\u001b[0m     axis \u001b[39m=\u001b[39m \u001b[39mself\u001b[39m\u001b[39m.\u001b[39maxis \u001b[39mor\u001b[39;00m \u001b[39m0\u001b[39m\n",
      "File \u001b[0;32m/usr/local/Caskroom/mambaforge/base/envs/nimlab_py310/lib/python3.10/site-packages/pandas/core/indexing.py:1247\u001b[0m, in \u001b[0;36m_LocIndexer._getitem_tuple\u001b[0;34m(self, tup)\u001b[0m\n\u001b[1;32m   1245\u001b[0m \u001b[39mwith\u001b[39;00m suppress(IndexingError):\n\u001b[1;32m   1246\u001b[0m     tup \u001b[39m=\u001b[39m \u001b[39mself\u001b[39m\u001b[39m.\u001b[39m_expand_ellipsis(tup)\n\u001b[0;32m-> 1247\u001b[0m     \u001b[39mreturn\u001b[39;00m \u001b[39mself\u001b[39;49m\u001b[39m.\u001b[39;49m_getitem_lowerdim(tup)\n\u001b[1;32m   1249\u001b[0m \u001b[39m# no multi-index, so validate all of the indexers\u001b[39;00m\n\u001b[1;32m   1250\u001b[0m tup \u001b[39m=\u001b[39m \u001b[39mself\u001b[39m\u001b[39m.\u001b[39m_validate_tuple_indexer(tup)\n",
      "File \u001b[0;32m/usr/local/Caskroom/mambaforge/base/envs/nimlab_py310/lib/python3.10/site-packages/pandas/core/indexing.py:967\u001b[0m, in \u001b[0;36m_LocationIndexer._getitem_lowerdim\u001b[0;34m(self, tup)\u001b[0m\n\u001b[1;32m    963\u001b[0m \u001b[39mfor\u001b[39;00m i, key \u001b[39min\u001b[39;00m \u001b[39menumerate\u001b[39m(tup):\n\u001b[1;32m    964\u001b[0m     \u001b[39mif\u001b[39;00m is_label_like(key):\n\u001b[1;32m    965\u001b[0m         \u001b[39m# We don't need to check for tuples here because those are\u001b[39;00m\n\u001b[1;32m    966\u001b[0m         \u001b[39m#  caught by the _is_nested_tuple_indexer check above.\u001b[39;00m\n\u001b[0;32m--> 967\u001b[0m         section \u001b[39m=\u001b[39m \u001b[39mself\u001b[39;49m\u001b[39m.\u001b[39;49m_getitem_axis(key, axis\u001b[39m=\u001b[39;49mi)\n\u001b[1;32m    969\u001b[0m         \u001b[39m# We should never have a scalar section here, because\u001b[39;00m\n\u001b[1;32m    970\u001b[0m         \u001b[39m#  _getitem_lowerdim is only called after a check for\u001b[39;00m\n\u001b[1;32m    971\u001b[0m         \u001b[39m#  is_scalar_access, which that would be.\u001b[39;00m\n\u001b[1;32m    972\u001b[0m         \u001b[39mif\u001b[39;00m section\u001b[39m.\u001b[39mndim \u001b[39m==\u001b[39m \u001b[39mself\u001b[39m\u001b[39m.\u001b[39mndim:\n\u001b[1;32m    973\u001b[0m             \u001b[39m# we're in the middle of slicing through a MultiIndex\u001b[39;00m\n\u001b[1;32m    974\u001b[0m             \u001b[39m# revise the key wrt to `section` by inserting an _NS\u001b[39;00m\n",
      "File \u001b[0;32m/usr/local/Caskroom/mambaforge/base/envs/nimlab_py310/lib/python3.10/site-packages/pandas/core/indexing.py:1312\u001b[0m, in \u001b[0;36m_LocIndexer._getitem_axis\u001b[0;34m(self, key, axis)\u001b[0m\n\u001b[1;32m   1310\u001b[0m \u001b[39m# fall thru to straight lookup\u001b[39;00m\n\u001b[1;32m   1311\u001b[0m \u001b[39mself\u001b[39m\u001b[39m.\u001b[39m_validate_key(key, axis)\n\u001b[0;32m-> 1312\u001b[0m \u001b[39mreturn\u001b[39;00m \u001b[39mself\u001b[39;49m\u001b[39m.\u001b[39;49m_get_label(key, axis\u001b[39m=\u001b[39;49maxis)\n",
      "File \u001b[0;32m/usr/local/Caskroom/mambaforge/base/envs/nimlab_py310/lib/python3.10/site-packages/pandas/core/indexing.py:1260\u001b[0m, in \u001b[0;36m_LocIndexer._get_label\u001b[0;34m(self, label, axis)\u001b[0m\n\u001b[1;32m   1258\u001b[0m \u001b[39mdef\u001b[39;00m \u001b[39m_get_label\u001b[39m(\u001b[39mself\u001b[39m, label, axis: \u001b[39mint\u001b[39m):\n\u001b[1;32m   1259\u001b[0m     \u001b[39m# GH#5567 this will fail if the label is not present in the axis.\u001b[39;00m\n\u001b[0;32m-> 1260\u001b[0m     \u001b[39mreturn\u001b[39;00m \u001b[39mself\u001b[39;49m\u001b[39m.\u001b[39;49mobj\u001b[39m.\u001b[39;49mxs(label, axis\u001b[39m=\u001b[39;49maxis)\n",
      "File \u001b[0;32m/usr/local/Caskroom/mambaforge/base/envs/nimlab_py310/lib/python3.10/site-packages/pandas/core/generic.py:4041\u001b[0m, in \u001b[0;36mNDFrame.xs\u001b[0;34m(self, key, axis, level, drop_level)\u001b[0m\n\u001b[1;32m   4039\u001b[0m \u001b[39mif\u001b[39;00m axis \u001b[39m==\u001b[39m \u001b[39m1\u001b[39m:\n\u001b[1;32m   4040\u001b[0m     \u001b[39mif\u001b[39;00m drop_level:\n\u001b[0;32m-> 4041\u001b[0m         \u001b[39mreturn\u001b[39;00m \u001b[39mself\u001b[39;49m[key]\n\u001b[1;32m   4042\u001b[0m     index \u001b[39m=\u001b[39m \u001b[39mself\u001b[39m\u001b[39m.\u001b[39mcolumns\n\u001b[1;32m   4043\u001b[0m \u001b[39melse\u001b[39;00m:\n",
      "File \u001b[0;32m/usr/local/Caskroom/mambaforge/base/envs/nimlab_py310/lib/python3.10/site-packages/pandas/core/frame.py:3805\u001b[0m, in \u001b[0;36mDataFrame.__getitem__\u001b[0;34m(self, key)\u001b[0m\n\u001b[1;32m   3803\u001b[0m \u001b[39mif\u001b[39;00m \u001b[39mself\u001b[39m\u001b[39m.\u001b[39mcolumns\u001b[39m.\u001b[39mnlevels \u001b[39m>\u001b[39m \u001b[39m1\u001b[39m:\n\u001b[1;32m   3804\u001b[0m     \u001b[39mreturn\u001b[39;00m \u001b[39mself\u001b[39m\u001b[39m.\u001b[39m_getitem_multilevel(key)\n\u001b[0;32m-> 3805\u001b[0m indexer \u001b[39m=\u001b[39m \u001b[39mself\u001b[39;49m\u001b[39m.\u001b[39;49mcolumns\u001b[39m.\u001b[39;49mget_loc(key)\n\u001b[1;32m   3806\u001b[0m \u001b[39mif\u001b[39;00m is_integer(indexer):\n\u001b[1;32m   3807\u001b[0m     indexer \u001b[39m=\u001b[39m [indexer]\n",
      "File \u001b[0;32m/usr/local/Caskroom/mambaforge/base/envs/nimlab_py310/lib/python3.10/site-packages/pandas/core/indexes/base.py:3805\u001b[0m, in \u001b[0;36mIndex.get_loc\u001b[0;34m(self, key, method, tolerance)\u001b[0m\n\u001b[1;32m   3803\u001b[0m     \u001b[39mreturn\u001b[39;00m \u001b[39mself\u001b[39m\u001b[39m.\u001b[39m_engine\u001b[39m.\u001b[39mget_loc(casted_key)\n\u001b[1;32m   3804\u001b[0m \u001b[39mexcept\u001b[39;00m \u001b[39mKeyError\u001b[39;00m \u001b[39mas\u001b[39;00m err:\n\u001b[0;32m-> 3805\u001b[0m     \u001b[39mraise\u001b[39;00m \u001b[39mKeyError\u001b[39;00m(key) \u001b[39mfrom\u001b[39;00m \u001b[39merr\u001b[39;00m\n\u001b[1;32m   3806\u001b[0m \u001b[39mexcept\u001b[39;00m \u001b[39mTypeError\u001b[39;00m:\n\u001b[1;32m   3807\u001b[0m     \u001b[39m# If we have a listlike key, _check_indexing_error will raise\u001b[39;00m\n\u001b[1;32m   3808\u001b[0m     \u001b[39m#  InvalidIndexError. Otherwise we fall through and re-raise\u001b[39;00m\n\u001b[1;32m   3809\u001b[0m     \u001b[39m#  the TypeError.\u001b[39;00m\n\u001b[1;32m   3810\u001b[0m     \u001b[39mself\u001b[39m\u001b[39m.\u001b[39m_check_indexing_error(key)\n",
      "\u001b[0;31mKeyError\u001b[0m: 'generated_nifti.nii'"
     ]
    }
   ],
   "source": [
    "#Enter networks of interest\n",
    "network_of_interest = 'generated_nifti.nii'\n",
    "networks_of_disinterest = [\n",
    "    None   \n",
    "]\n",
    "\n",
    "#---isolate network of interest and remove those not of interest\n",
    "corr_df_2 = corr_df.copy()\n",
    "corr_df_2 = pd.DataFrame(corr_df_2.loc[:, network_of_interest])\n",
    "if networks_of_disinterest[0] is not None:\n",
    "    for network in networks_of_disinterest:\n",
    "        corr_df_2.drop(network, inplace=True)\n",
    "#Sort the dataframe by descending order\n",
    "corr_df_2 = corr_df_2.sort_values(network_of_interest)\n",
    "#Remove .nii from file names\n",
    "for name in corr_df_2.columns.values:\n",
    "    newname = name.split('.nii')[0]\n",
    "    corr_df_2 = corr_df_2.rename({name: newname}, axis='columns')\n",
    "for name in corr_df_2.index.values:\n",
    "    newname = name.split('.nii')[0]\n",
    "    corr_df_2 = corr_df_2.rename({name: newname}, axis='index')\n",
    "\n",
    "#---Visualize the new data\n",
    "#Create heatmap of correlation matrix\n",
    "import seaborn as sns\n",
    "import matplotlib.pyplot as plt\n",
    "\n",
    "fig = plt.figure(figsize=(15, 13))\n",
    "\n",
    "sns.heatmap(corr_df_2, cmap='ocean_hot',square=True, linewidths=.5, cbar_kws={\"shrink\": .5}, vmin=-1, vmax=1)\n",
    "\n",
    "#Save results\n",
    "fig.savefig(out_dir + f'/spcorrel_{network_of_interest}.png')\n",
    "fig.savefig(out_dir + f'/spcorrel_{network_of_interest}.svg')\n",
    "corr_df_2.to_csv(out_dir + f'/spcorrel_{network_of_interest}.csv')\n",
    "display(corr_df_2)\n",
    "print(out_dir)"
   ]
  },
  {
   "cell_type": "code",
   "execution_count": null,
   "metadata": {},
   "outputs": [],
   "source": []
  },
  {
   "cell_type": "code",
   "execution_count": null,
   "metadata": {},
   "outputs": [],
   "source": []
  }
 ],
 "metadata": {
  "kernelspec": {
   "display_name": "nimlab_py310",
   "language": "python",
   "name": "python3"
  },
  "language_info": {
   "codemirror_mode": {
    "name": "ipython",
    "version": 3
   },
   "file_extension": ".py",
   "mimetype": "text/x-python",
   "name": "python",
   "nbconvert_exporter": "python",
   "pygments_lexer": "ipython3",
   "version": "3.10.8"
  },
  "orig_nbformat": 4,
  "vscode": {
   "interpreter": {
    "hash": "62880161f19d28ddb8a8f59c63374d84ace356c39e36cc839cb3fb3bb03fb010"
   }
  }
 },
 "nbformat": 4,
 "nbformat_minor": 2
}
