{
 "cells": [
  {
   "cell_type": "markdown",
   "metadata": {},
   "source": [
    "# 00 - Preparation"
   ]
  },
  {
   "cell_type": "code",
   "execution_count": 83,
   "metadata": {},
   "outputs": [],
   "source": [
    "from nimlab import datasets as nimds\n",
    "import numpy as np\n",
    "from nilearn import image, plotting, maskers\n",
    "import nibabel as nib\n",
    "import os\n",
    "import pandas as pd\n",
    "import glob\n",
    "import platform\n",
    "import warnings\n",
    "warnings.filterwarnings('ignore')\n",
    "import nilearn"
   ]
  },
  {
   "cell_type": "markdown",
   "metadata": {},
   "source": [
    "Set BIDS Directory Information"
   ]
  },
  {
   "cell_type": "code",
   "execution_count": 84,
   "metadata": {},
   "outputs": [
    {
     "name": "stdout",
     "output_type": "stream",
     "text": [
      "Will save to:  /Users/cu135/Dropbox (Partners HealthCare)/studies/cognition_2023/analyses/neuroimaging_analyses/ses-01/sub-all/spatial_correlation\n"
     ]
    }
   ],
   "source": [
    "## Paths Input Here\n",
    "bids_base_directory = '/Users/cu135/Dropbox (Partners HealthCare)/studies/cognition_2023/analyses'\n",
    "session_number = '01'\n",
    "#----------------------------------------------------------------DO NOT TOUCH\n",
    "out_dir = os.path.join(bids_base_directory, 'neuroimaging_analyses', (f'ses-{session_number}'), 'sub-all', 'spatial_correlation')\n",
    "print('Will save to: ', out_dir)\n",
    "os.makedirs(out_dir, exist_ok=True)"
   ]
  },
  {
   "cell_type": "markdown",
   "metadata": {},
   "source": [
    "# 01 - Imports"
   ]
  },
  {
   "cell_type": "code",
   "execution_count": null,
   "metadata": {},
   "outputs": [],
   "source": []
  },
  {
   "cell_type": "markdown",
   "metadata": {},
   "source": [
    "**A) Import Niftis from Folders**"
   ]
  },
  {
   "cell_type": "markdown",
   "metadata": {},
   "source": [
    "**Import The First Matrix**"
   ]
  },
  {
   "cell_type": "markdown",
   "metadata": {},
   "source": [
    "Enter Information Relating to the Path of the First Set of Niftis"
   ]
  },
  {
   "cell_type": "code",
   "execution_count": 85,
   "metadata": {},
   "outputs": [],
   "source": [
    "basename_target_1 = r'/Users/cu135/Dropbox (Partners HealthCare)/resources/published_networks/niftis'\n",
    "file_pattern_target_1 = r'R-Map.nii*'\n",
    "\n",
    "# '/Users/cu135/Dropbox (Partners HealthCare)/resources/datasets/BIDS_PD_DBS_STN_WURZBURG/derivatives/fourth_level/response_topology/voxelwise_glm/stim_by_age/t_values_interaction/regression_map/t_statistic'"
   ]
  },
  {
   "cell_type": "markdown",
   "metadata": {},
   "source": [
    "Enter Information Regarding How You Want to Handle the Niftis"
   ]
  },
  {
   "cell_type": "code",
   "execution_count": 86,
   "metadata": {},
   "outputs": [],
   "source": [
    "remove_zero = False\n",
    "z_score_df1 = False\n",
    "rfz_transform_target1 = False\n",
    "threshold_df1 = False\n",
    "take_absolute_value = False"
   ]
  },
  {
   "cell_type": "markdown",
   "metadata": {},
   "source": [
    "Import the Niftis"
   ]
  },
  {
   "cell_type": "code",
   "execution_count": 87,
   "metadata": {},
   "outputs": [],
   "source": [
    "import numpy as np\n",
    "from calvin_utils.file_utils.import_matrices import import_matrices_from_folder\n",
    "from calvin_utils.nifti_utils.matrix_utilities import threshold_matrix\n",
    "\n",
    "def process_matrices(\n",
    "    basename_target, \n",
    "    file_pattern_target, \n",
    "    z_score_df=False, \n",
    "    rfz_transform_target=False, \n",
    "    threshold_df=False, \n",
    "    take_absolute_value=True\n",
    "):\n",
    "    \"\"\"\n",
    "    Process matrices from a given directory and file pattern.\n",
    "    \n",
    "    Parameters:\n",
    "    - basename_target (str): Path to the directory containing the matrices.\n",
    "    - file_pattern_target (str): File pattern to match matrices.\n",
    "    - remove_zero (bool, optional): A flag which, if implemented, would remove zero values. Default is False.\n",
    "    - z_score_df (bool, optional): Apply z-scoring to the matrices. Default is False.\n",
    "    - rfz_transform_target (bool, optional): Apply Fisher's r-to-z transformation to the matrices. Default is False.\n",
    "    - threshold_df (bool, optional): Apply thresholding to the matrices. Default is False.\n",
    "    - take_absolute_value (bool, optional): Convert matrix values to their absolute values. Default is True.\n",
    "    \n",
    "    Returns:\n",
    "    - DataFrame: Processed matrices\n",
    "    \"\"\"\n",
    "    \n",
    "    matrix_df = import_matrices_from_folder(connectivity_path=basename_target, file_pattern=file_pattern_target)\n",
    "    \n",
    "    if z_score_df:\n",
    "        from calvin_utils.statistical_utils.z_score_matrix import z_score_matrix\n",
    "        for col in matrix_df.columns:\n",
    "            matrix_df[col] = matrix_df[col].apply(lambda x: z_score_matrix(x))\n",
    "    \n",
    "    if rfz_transform_target:\n",
    "        from calvin_utils.statistical_utils.fisher_z_transform import fisher_z_transform\n",
    "        for col in matrix_df.columns:\n",
    "            matrix_df[col] = matrix_df[col].apply(lambda x: fisher_z_transform(x))\n",
    "    \n",
    "    if threshold_df:\n",
    "        matrix_df = threshold_matrix(matrix_df, threshold=2, probability=False, direction='keep_greater')\n",
    "    \n",
    "    if take_absolute_value:\n",
    "        matrix_df = np.abs(matrix_df)\n",
    "    \n",
    "    return matrix_df\n"
   ]
  },
  {
   "cell_type": "code",
   "execution_count": 88,
   "metadata": {},
   "outputs": [
    {
     "name": "stdout",
     "output_type": "stream",
     "text": [
      "I will search:  /Users/cu135/Dropbox (Partners HealthCare)/resources/published_networks/niftis/R-Map.nii*\n"
     ]
    },
    {
     "data": {
      "text/html": [
       "<div>\n",
       "<style scoped>\n",
       "    .dataframe tbody tr th:only-of-type {\n",
       "        vertical-align: middle;\n",
       "    }\n",
       "\n",
       "    .dataframe tbody tr th {\n",
       "        vertical-align: top;\n",
       "    }\n",
       "\n",
       "    .dataframe thead th {\n",
       "        text-align: right;\n",
       "    }\n",
       "</style>\n",
       "<table border=\"1\" class=\"dataframe\">\n",
       "  <thead>\n",
       "    <tr style=\"text-align: right;\">\n",
       "      <th></th>\n",
       "      <th>R-Map.nii</th>\n",
       "    </tr>\n",
       "  </thead>\n",
       "  <tbody>\n",
       "    <tr>\n",
       "      <th>902626</th>\n",
       "      <td>NaN</td>\n",
       "    </tr>\n",
       "    <tr>\n",
       "      <th>902627</th>\n",
       "      <td>NaN</td>\n",
       "    </tr>\n",
       "    <tr>\n",
       "      <th>902628</th>\n",
       "      <td>NaN</td>\n",
       "    </tr>\n",
       "  </tbody>\n",
       "</table>\n",
       "</div>"
      ],
      "text/plain": [
       "        R-Map.nii\n",
       "902626        NaN\n",
       "902627        NaN\n",
       "902628        NaN"
      ]
     },
     "execution_count": 88,
     "metadata": {},
     "output_type": "execute_result"
    }
   ],
   "source": [
    "matrix_df1 = process_matrices(\n",
    "    basename_target=basename_target_1,\n",
    "    file_pattern_target=file_pattern_target_1,\n",
    "    z_score_df=z_score_df1,\n",
    "    rfz_transform_target=rfz_transform_target1,\n",
    "    threshold_df=threshold_df1,\n",
    "    take_absolute_value=take_absolute_value,\n",
    ")\n",
    "matrix_df1.tail(3)"
   ]
  },
  {
   "cell_type": "markdown",
   "metadata": {},
   "source": [
    "**Import the Second Matrix**"
   ]
  },
  {
   "cell_type": "markdown",
   "metadata": {},
   "source": [
    "Enter Information Relating to the Path of the First Set of Niftis"
   ]
  },
  {
   "cell_type": "code",
   "execution_count": 89,
   "metadata": {},
   "outputs": [],
   "source": [
    "basename_target_2 = r'/Users/cu135/Dropbox (Partners HealthCare)/resources/published_networks/niftis'\n",
    "file_pattern_target_2 = r'*Cognitive Decline Network.nii*'\n"
   ]
  },
  {
   "cell_type": "markdown",
   "metadata": {},
   "source": [
    "Enter Information Regarding How You Want to Handle the Niftis"
   ]
  },
  {
   "cell_type": "code",
   "execution_count": 90,
   "metadata": {},
   "outputs": [],
   "source": [
    "z_score_df2 = False\n",
    "rfz_transform_target2 = False\n",
    "threshold_df2 = False\n",
    "take_absolute_value2 = False"
   ]
  },
  {
   "cell_type": "markdown",
   "metadata": {},
   "source": [
    "Import the Niftis"
   ]
  },
  {
   "cell_type": "code",
   "execution_count": 91,
   "metadata": {},
   "outputs": [
    {
     "name": "stdout",
     "output_type": "stream",
     "text": [
      "I will search:  /Users/cu135/Dropbox (Partners HealthCare)/resources/published_networks/niftis/*Cognitive Decline Network.nii*\n"
     ]
    },
    {
     "data": {
      "text/html": [
       "<div>\n",
       "<style scoped>\n",
       "    .dataframe tbody tr th:only-of-type {\n",
       "        vertical-align: middle;\n",
       "    }\n",
       "\n",
       "    .dataframe tbody tr th {\n",
       "        vertical-align: top;\n",
       "    }\n",
       "\n",
       "    .dataframe thead th {\n",
       "        text-align: right;\n",
       "    }\n",
       "</style>\n",
       "<table border=\"1\" class=\"dataframe\">\n",
       "  <thead>\n",
       "    <tr style=\"text-align: right;\">\n",
       "      <th></th>\n",
       "      <th>Cognitive Decline Network.nii</th>\n",
       "    </tr>\n",
       "  </thead>\n",
       "  <tbody>\n",
       "    <tr>\n",
       "      <th>902626</th>\n",
       "      <td>0.0</td>\n",
       "    </tr>\n",
       "    <tr>\n",
       "      <th>902627</th>\n",
       "      <td>0.0</td>\n",
       "    </tr>\n",
       "    <tr>\n",
       "      <th>902628</th>\n",
       "      <td>0.0</td>\n",
       "    </tr>\n",
       "  </tbody>\n",
       "</table>\n",
       "</div>"
      ],
      "text/plain": [
       "        Cognitive Decline Network.nii\n",
       "902626                            0.0\n",
       "902627                            0.0\n",
       "902628                            0.0"
      ]
     },
     "execution_count": 91,
     "metadata": {},
     "output_type": "execute_result"
    }
   ],
   "source": [
    "matrix_df2 = process_matrices(\n",
    "    basename_target=basename_target_2,\n",
    "    file_pattern_target=file_pattern_target_2,\n",
    "    z_score_df=z_score_df2,\n",
    "    rfz_transform_target=rfz_transform_target2,\n",
    "    threshold_df=threshold_df2,\n",
    "    take_absolute_value=take_absolute_value2,\n",
    ")\n",
    "matrix_df2.tail(3)"
   ]
  },
  {
   "cell_type": "markdown",
   "metadata": {},
   "source": [
    "Merge Dataframes"
   ]
  },
  {
   "cell_type": "code",
   "execution_count": 92,
   "metadata": {},
   "outputs": [],
   "source": [
    "import pandas as pd\n",
    "import numpy as np\n",
    "\n",
    "def join_dataframes(matrix_df1, matrix_df2):\n",
    "    \"\"\"\n",
    "    Joins two dataframes side by side and returns the merged dataframe.\n",
    "    \n",
    "    Parameters:\n",
    "    - matrix_df1 (DataFrame): The first dataframe to join.\n",
    "    - matrix_df2 (DataFrame): The second dataframe to join.\n",
    "    \n",
    "    Returns:\n",
    "    - DataFrame: The merged dataframe created by joining matrix_df1 and matrix_df2 side by side.\n",
    "    \"\"\"\n",
    "    \n",
    "    # Reset indexes of the input dataframes\n",
    "    matrix_df1.reset_index()\n",
    "    matrix_df2.reset_index()\n",
    "    \n",
    "    # Print lengths of the dataframes\n",
    "    print('df1 len: ', len(matrix_df1), ' matrix_df2 len: ', len(matrix_df2))\n",
    "    \n",
    "    # Concatenate the dataframes side by side\n",
    "    merged_df = pd.concat([matrix_df1, matrix_df2], axis=1, ignore_index=False)\n",
    "    \n",
    "    # Print the number of non-zero elements in the last column\n",
    "    print('Nonzero values in last column: ', np.count_nonzero(merged_df.iloc[:,-1]))\n",
    "    try:\n",
    "        merged_df.pop('index')\n",
    "    except:\n",
    "        pass\n",
    "    return merged_df\n",
    "\n",
    "# Example usage:\n",
    "# Assuming matrix_df1 and matrix_df2 are already defined\n",
    "# result_df = join_dataframes(matrix_df1, matrix_df2)\n"
   ]
  },
  {
   "cell_type": "code",
   "execution_count": 93,
   "metadata": {},
   "outputs": [
    {
     "name": "stdout",
     "output_type": "stream",
     "text": [
      "df1 len:  902629  matrix_df2 len:  902629\n",
      "Nonzero values in last column:  292019\n"
     ]
    },
    {
     "data": {
      "text/html": [
       "<div>\n",
       "<style scoped>\n",
       "    .dataframe tbody tr th:only-of-type {\n",
       "        vertical-align: middle;\n",
       "    }\n",
       "\n",
       "    .dataframe tbody tr th {\n",
       "        vertical-align: top;\n",
       "    }\n",
       "\n",
       "    .dataframe thead th {\n",
       "        text-align: right;\n",
       "    }\n",
       "</style>\n",
       "<table border=\"1\" class=\"dataframe\">\n",
       "  <thead>\n",
       "    <tr style=\"text-align: right;\">\n",
       "      <th></th>\n",
       "      <th>R-Map.nii</th>\n",
       "      <th>Cognitive Decline Network.nii</th>\n",
       "    </tr>\n",
       "  </thead>\n",
       "  <tbody>\n",
       "    <tr>\n",
       "      <th>0</th>\n",
       "      <td>NaN</td>\n",
       "      <td>0.0</td>\n",
       "    </tr>\n",
       "    <tr>\n",
       "      <th>1</th>\n",
       "      <td>NaN</td>\n",
       "      <td>0.0</td>\n",
       "    </tr>\n",
       "    <tr>\n",
       "      <th>2</th>\n",
       "      <td>NaN</td>\n",
       "      <td>0.0</td>\n",
       "    </tr>\n",
       "    <tr>\n",
       "      <th>3</th>\n",
       "      <td>NaN</td>\n",
       "      <td>0.0</td>\n",
       "    </tr>\n",
       "    <tr>\n",
       "      <th>4</th>\n",
       "      <td>NaN</td>\n",
       "      <td>0.0</td>\n",
       "    </tr>\n",
       "    <tr>\n",
       "      <th>...</th>\n",
       "      <td>...</td>\n",
       "      <td>...</td>\n",
       "    </tr>\n",
       "    <tr>\n",
       "      <th>902624</th>\n",
       "      <td>NaN</td>\n",
       "      <td>0.0</td>\n",
       "    </tr>\n",
       "    <tr>\n",
       "      <th>902625</th>\n",
       "      <td>NaN</td>\n",
       "      <td>0.0</td>\n",
       "    </tr>\n",
       "    <tr>\n",
       "      <th>902626</th>\n",
       "      <td>NaN</td>\n",
       "      <td>0.0</td>\n",
       "    </tr>\n",
       "    <tr>\n",
       "      <th>902627</th>\n",
       "      <td>NaN</td>\n",
       "      <td>0.0</td>\n",
       "    </tr>\n",
       "    <tr>\n",
       "      <th>902628</th>\n",
       "      <td>NaN</td>\n",
       "      <td>0.0</td>\n",
       "    </tr>\n",
       "  </tbody>\n",
       "</table>\n",
       "<p>902629 rows × 2 columns</p>\n",
       "</div>"
      ],
      "text/plain": [
       "        R-Map.nii  Cognitive Decline Network.nii\n",
       "0             NaN                            0.0\n",
       "1             NaN                            0.0\n",
       "2             NaN                            0.0\n",
       "3             NaN                            0.0\n",
       "4             NaN                            0.0\n",
       "...           ...                            ...\n",
       "902624        NaN                            0.0\n",
       "902625        NaN                            0.0\n",
       "902626        NaN                            0.0\n",
       "902627        NaN                            0.0\n",
       "902628        NaN                            0.0\n",
       "\n",
       "[902629 rows x 2 columns]"
      ]
     },
     "execution_count": 93,
     "metadata": {},
     "output_type": "execute_result"
    }
   ],
   "source": [
    "merged_df = join_dataframes(matrix_df1, matrix_df2)\n",
    "merged_df"
   ]
  },
  {
   "cell_type": "markdown",
   "metadata": {},
   "source": [
    "**B) Import Niftis from a CSV**"
   ]
  },
  {
   "cell_type": "code",
   "execution_count": 94,
   "metadata": {},
   "outputs": [],
   "source": [
    "# from calvin_utils.file_utils.import_matrices import import_matrices_from_csv\n",
    "# merged_df = import_matrices_from_csv('/Users/cu135/Dropbox (Partners HealthCare)/studies/ccm_memory/metadata/path_to_sante_rho_maps.csv')\n",
    "# merged_df"
   ]
  },
  {
   "cell_type": "markdown",
   "metadata": {},
   "source": [
    "from calvin_utils.file_utils import import_matrices_from_csv\n"
   ]
  },
  {
   "cell_type": "markdown",
   "metadata": {},
   "source": [
    "Mask Within A Given Template Space"
   ]
  },
  {
   "cell_type": "markdown",
   "metadata": {},
   "source": [
    "# 02 - Masking"
   ]
  },
  {
   "cell_type": "code",
   "execution_count": 95,
   "metadata": {},
   "outputs": [],
   "source": [
    "import numpy as np\n",
    "from nimlab import datasets as nimds\n",
    "from nilearn import image\n",
    "\n",
    "def apply_mask_to_dataframe(merged_df, mask_path=None):\n",
    "    \"\"\"\n",
    "    Apply a mask to a dataframe using either a provided mask or the default MNI ICBM152 mask.\n",
    "    \n",
    "    Parameters:\n",
    "    - merged_df (DataFrame): The dataframe to which the mask should be applied.\n",
    "    - mask_path (str, optional): The path to the mask image. If not provided, the MNI ICBM152 mask will be used.\n",
    "    \n",
    "    Returns:\n",
    "    - DataFrame: The masked dataframe containing only the rows specified by the mask.\n",
    "    \n",
    "    Example usage:\n",
    "    >>> masked_df = apply_mask_to_dataframe(merged_df, mask_path=None)\n",
    "    \"\"\"\n",
    "    \n",
    "    # Load the mask data based on the provided mask_path or use default mask\n",
    "    if mask_path is not None:\n",
    "        brain_indices = np.where(image.load_img(mask_path).get_fdata().flatten() > 0)[0]\n",
    "    else:\n",
    "        mni_mask = nimds.get_img(\"mni_icbm152\")\n",
    "        mask_data = mni_mask.get_fdata().flatten()\n",
    "        brain_indices = np.where(mask_data > 0)[0]\n",
    "    \n",
    "    # Apply the mask to the dataframe\n",
    "    masked_df = merged_df.iloc[brain_indices]\n",
    "    \n",
    "    return masked_df\n",
    "\n",
    "\n"
   ]
  },
  {
   "cell_type": "code",
   "execution_count": 96,
   "metadata": {},
   "outputs": [
    {
     "data": {
      "text/html": [
       "<div>\n",
       "<style scoped>\n",
       "    .dataframe tbody tr th:only-of-type {\n",
       "        vertical-align: middle;\n",
       "    }\n",
       "\n",
       "    .dataframe tbody tr th {\n",
       "        vertical-align: top;\n",
       "    }\n",
       "\n",
       "    .dataframe thead th {\n",
       "        text-align: right;\n",
       "    }\n",
       "</style>\n",
       "<table border=\"1\" class=\"dataframe\">\n",
       "  <thead>\n",
       "    <tr style=\"text-align: right;\">\n",
       "      <th></th>\n",
       "      <th>R-Map.nii</th>\n",
       "      <th>Cognitive Decline Network.nii</th>\n",
       "    </tr>\n",
       "  </thead>\n",
       "  <tbody>\n",
       "    <tr>\n",
       "      <th>93491</th>\n",
       "      <td>0.094367</td>\n",
       "      <td>0.570032</td>\n",
       "    </tr>\n",
       "    <tr>\n",
       "      <th>93492</th>\n",
       "      <td>0.128375</td>\n",
       "      <td>0.536076</td>\n",
       "    </tr>\n",
       "    <tr>\n",
       "      <th>93493</th>\n",
       "      <td>0.080418</td>\n",
       "      <td>0.476371</td>\n",
       "    </tr>\n",
       "    <tr>\n",
       "      <th>93582</th>\n",
       "      <td>0.139315</td>\n",
       "      <td>0.563881</td>\n",
       "    </tr>\n",
       "    <tr>\n",
       "      <th>93583</th>\n",
       "      <td>0.155893</td>\n",
       "      <td>0.522268</td>\n",
       "    </tr>\n",
       "    <tr>\n",
       "      <th>...</th>\n",
       "      <td>...</td>\n",
       "      <td>...</td>\n",
       "    </tr>\n",
       "    <tr>\n",
       "      <th>798193</th>\n",
       "      <td>0.173082</td>\n",
       "      <td>0.601621</td>\n",
       "    </tr>\n",
       "    <tr>\n",
       "      <th>798281</th>\n",
       "      <td>0.167732</td>\n",
       "      <td>0.625353</td>\n",
       "    </tr>\n",
       "    <tr>\n",
       "      <th>798282</th>\n",
       "      <td>0.154430</td>\n",
       "      <td>0.627296</td>\n",
       "    </tr>\n",
       "    <tr>\n",
       "      <th>798283</th>\n",
       "      <td>0.156658</td>\n",
       "      <td>0.617005</td>\n",
       "    </tr>\n",
       "    <tr>\n",
       "      <th>798373</th>\n",
       "      <td>0.165563</td>\n",
       "      <td>0.615674</td>\n",
       "    </tr>\n",
       "  </tbody>\n",
       "</table>\n",
       "<p>225222 rows × 2 columns</p>\n",
       "</div>"
      ],
      "text/plain": [
       "        R-Map.nii  Cognitive Decline Network.nii\n",
       "93491    0.094367                       0.570032\n",
       "93492    0.128375                       0.536076\n",
       "93493    0.080418                       0.476371\n",
       "93582    0.139315                       0.563881\n",
       "93583    0.155893                       0.522268\n",
       "...           ...                            ...\n",
       "798193   0.173082                       0.601621\n",
       "798281   0.167732                       0.625353\n",
       "798282   0.154430                       0.627296\n",
       "798283   0.156658                       0.617005\n",
       "798373   0.165563                       0.615674\n",
       "\n",
       "[225222 rows x 2 columns]"
      ]
     },
     "execution_count": 96,
     "metadata": {},
     "output_type": "execute_result"
    }
   ],
   "source": [
    "masked_df = apply_mask_to_dataframe(merged_df, mask_path=None)\n",
    "masked_df\n"
   ]
  },
  {
   "cell_type": "markdown",
   "metadata": {},
   "source": [
    "Transform the Data"
   ]
  },
  {
   "cell_type": "code",
   "execution_count": 97,
   "metadata": {},
   "outputs": [],
   "source": [
    "# masked_df = masked_df.abs()\n",
    "# masked_df[masked_df < 3] = 0 \n",
    "# masked_df.max()"
   ]
  },
  {
   "cell_type": "markdown",
   "metadata": {},
   "source": [
    "# 03 - Spatial Correlation"
   ]
  },
  {
   "cell_type": "markdown",
   "metadata": {},
   "source": [
    "**Perform Correlation**\n",
    "\n",
    "method_choices:\n",
    "- 0 = pearson\n",
    "- 1 = spearman\n",
    "- 2 = kendall"
   ]
  },
  {
   "cell_type": "code",
   "execution_count": 98,
   "metadata": {},
   "outputs": [],
   "source": [
    "method_choice = 0\n",
    "only_compare_nonzero_voxels=False"
   ]
  },
  {
   "cell_type": "code",
   "execution_count": 99,
   "metadata": {},
   "outputs": [],
   "source": [
    "import pandas as pd\n",
    "from tqdm import tqdm\n",
    "from natsort import natsorted\n",
    "\n",
    "def compute_correlation(df, method_choice=0, only_compare_nonzero_voxels=False):\n",
    "    \"\"\"\n",
    "    Compute correlations among columns of a DataFrame using a specified method.\n",
    "    When only_compare_nonzero_voxels is True, only pairs of non-zero voxels are used for the computation.\n",
    "    \n",
    "    Parameters:\n",
    "    - df (DataFrame): The dataframe for which correlations should be computed.\n",
    "    - method_choice (int, optional): An integer indicating the correlation method to be used. \n",
    "                                     0: Pearson (default), 1: Spearman, 2: Kendall.\n",
    "    - only_compare_nonzero_voxels (bool, optional): Flag to determine whether to compute correlations \n",
    "                                                    considering only non-zero voxels. Default is False.\n",
    "    \n",
    "    Returns:\n",
    "    - DataFrame: The correlation matrix.\n",
    "    \n",
    "    Example usage:\n",
    "    >>> corr_matrix = compute_correlation(df, method_choice=0, only_compare_nonzero_voxels=True)\n",
    "    \"\"\"\n",
    "    \n",
    "    methods = ['pearson', 'spearman', 'kendall']\n",
    "    method = methods[method_choice]\n",
    "    \n",
    "    # If only_compare_nonzero_voxels is False, compute the correlation in the usual manner\n",
    "    if not only_compare_nonzero_voxels:\n",
    "        return df.corr(method=method), method\n",
    "    else:\n",
    "        columns = df.columns\n",
    "        n = len(columns)\n",
    "        \n",
    "        # Initialize a dataframe to store the results\n",
    "        corr_df = pd.DataFrame(index=columns, columns=columns, dtype='float64')\n",
    "        \n",
    "        # Iterate over each pair of columns\n",
    "        for i in tqdm(range(n)):\n",
    "            for j in range(i, n):\n",
    "                # Filter rows where both columns have non-zero values\n",
    "                temp_df = df[(df[columns[i]] != 0) & (df[columns[j]] != 0)]\n",
    "                \n",
    "                # Compute correlation for the filtered rows\n",
    "                corr_value = temp_df[[columns[i], columns[j]]].corr(method=method).iloc[0, 1]\n",
    "                \n",
    "                # Assign the computed value to the result dataframe\n",
    "                corr_df.iloc[i, j] = corr_value\n",
    "                corr_df.iloc[j, i] = corr_value\n",
    "                \n",
    "    #Sort the Dataframe            \n",
    "    corr_df = corr_df.reindex(index=natsorted(corr_df.index))\n",
    "    corr_df = corr_df.reindex(columns=natsorted(corr_df.columns))\n",
    "    return corr_df, method\n"
   ]
  },
  {
   "cell_type": "code",
   "execution_count": 100,
   "metadata": {},
   "outputs": [],
   "source": [
    "only_compare_nonzero_voxels=False"
   ]
  },
  {
   "cell_type": "code",
   "execution_count": 101,
   "metadata": {},
   "outputs": [
    {
     "data": {
      "text/html": [
       "<div>\n",
       "<style scoped>\n",
       "    .dataframe tbody tr th:only-of-type {\n",
       "        vertical-align: middle;\n",
       "    }\n",
       "\n",
       "    .dataframe tbody tr th {\n",
       "        vertical-align: top;\n",
       "    }\n",
       "\n",
       "    .dataframe thead th {\n",
       "        text-align: right;\n",
       "    }\n",
       "</style>\n",
       "<table border=\"1\" class=\"dataframe\">\n",
       "  <thead>\n",
       "    <tr style=\"text-align: right;\">\n",
       "      <th></th>\n",
       "      <th>R-Map.nii</th>\n",
       "      <th>Cognitive Decline Network.nii</th>\n",
       "    </tr>\n",
       "  </thead>\n",
       "  <tbody>\n",
       "    <tr>\n",
       "      <th>R-Map.nii</th>\n",
       "      <td>1.000000</td>\n",
       "      <td>0.364934</td>\n",
       "    </tr>\n",
       "    <tr>\n",
       "      <th>Cognitive Decline Network.nii</th>\n",
       "      <td>0.364934</td>\n",
       "      <td>1.000000</td>\n",
       "    </tr>\n",
       "  </tbody>\n",
       "</table>\n",
       "</div>"
      ],
      "text/plain": [
       "                               R-Map.nii  Cognitive Decline Network.nii\n",
       "R-Map.nii                       1.000000                       0.364934\n",
       "Cognitive Decline Network.nii   0.364934                       1.000000"
      ]
     },
     "execution_count": 101,
     "metadata": {},
     "output_type": "execute_result"
    }
   ],
   "source": [
    "corr_df, method = compute_correlation(masked_df, method_choice=method_choice, \n",
    "                                      only_compare_nonzero_voxels=only_compare_nonzero_voxels)\n",
    "corr_df"
   ]
  },
  {
   "cell_type": "markdown",
   "metadata": {},
   "source": [
    "**Visualize the Correlation Matrix**"
   ]
  },
  {
   "cell_type": "code",
   "execution_count": 102,
   "metadata": {},
   "outputs": [
    {
     "data": {
      "text/plain": [
       "<AxesSubplot: >"
      ]
     },
     "execution_count": 102,
     "metadata": {},
     "output_type": "execute_result"
    },
    {
     "data": {
      "image/png": "[encoded data removed]",
      "text/plain": [
       "<Figure size 1500x1300 with 2 Axes>"
      ]
     },
     "metadata": {},
     "output_type": "display_data"
    }
   ],
   "source": [
    "#Create heatmap of correlation matrix\n",
    "import seaborn as sns\n",
    "import matplotlib.pyplot as plt\n",
    "\n",
    "fig = plt.figure(figsize=(15, 13))\n",
    "sns.heatmap(corr_df, cmap='ocean_hot',square=True, linewidths=.5, cbar_kws={\"shrink\": .5}, vmin=-1, vmax=1)          "
   ]
  },
  {
   "cell_type": "markdown",
   "metadata": {},
   "source": [
    "**Save The Figure & Dataframe**\n",
    "- enter the name of your comparison below"
   ]
  },
  {
   "cell_type": "code",
   "execution_count": null,
   "metadata": {},
   "outputs": [],
   "source": [
    "import os\n",
    "\n",
    "def save_correlation_results(corr_df, fig, out_dir, comparison, save=False, method_choice=0):\n",
    "    \"\"\"\n",
    "    Save the correlation dataframe and figure to specified output directory.\n",
    "    \n",
    "    Parameters:\n",
    "    - out_dir (str): The base directory where the results should be saved.\n",
    "    - comparison (str): The specific comparison or sub-directory under out_dir.\n",
    "    - save (bool, optional): Flag to determine whether to save results. Default is False.\n",
    "    - method_choice (int, optional): An integer indicating the correlation method used. \n",
    "                                     0: Pearson (default), 1: Spearman, 2: Kendall.\n",
    "    \n",
    "    Example usage:\n",
    "    >>> save_correlation_results('/path/to/output', 'specific_comparison', save=True, method_choice=1)\n",
    "    \"\"\"\n",
    "    \n",
    "    if save:\n",
    "        out_dir = os.path.join(out_dir, comparison)\n",
    "        os.makedirs(out_dir, exist_ok=True)\n",
    "\n",
    "        corr_df.to_csv(os.path.join(out_dir, f'{method_choice}_correlation_df.csv'))\n",
    "        fig.savefig(os.path.join(out_dir, f'{method_choice}_correlation_matrix.png'))\n",
    "        print('saved to ' + os.path.join(out_dir, f'{method_choice}_correlation_matrix.png'))\n"
   ]
  },
  {
   "cell_type": "code",
   "execution_count": null,
   "metadata": {},
   "outputs": [],
   "source": [
    "comparison = 'z_score_atrophy_index'\n",
    "save_results = True"
   ]
  },
  {
   "cell_type": "code",
   "execution_count": null,
   "metadata": {},
   "outputs": [],
   "source": [
    "save_correlation_results(corr_df=corr_df, fig=fig, out_dir=out_dir, comparison=comparison, save=save_results, method_choice=method_choice)"
   ]
  },
  {
   "cell_type": "markdown",
   "metadata": {},
   "source": [
    "**Extract the Cross-Correlation Matrix**"
   ]
  },
  {
   "cell_type": "code",
   "execution_count": null,
   "metadata": {},
   "outputs": [],
   "source": [
    "def extract_cross_correlation_diagonal(corr_df):\n",
    "    \"\"\"\n",
    "    Extracts the diagonal of the cross-correlation from the given correlation matrix.\n",
    "    \n",
    "    Parameters:\n",
    "    - corr_df (DataFrame): The correlation matrix.\n",
    "    \n",
    "    Returns:\n",
    "    - DataFrame: The diagonal of the cross-correlation with the patient identifiers as the index.\n",
    "    \n",
    "    Example usage:\n",
    "    >>> cross_corr_diag = extract_cross_correlation_diagonal(corr_df)\n",
    "    \"\"\"\n",
    "    \n",
    "    # Assuming the dataframe is square and has an even number of columns,\n",
    "    # split it into two equal parts\n",
    "    n = len(corr_df)\n",
    "    half_n = n // 2\n",
    "    \n",
    "    # Extract the values from the intersection of the rows of the first dataset \n",
    "    # and the columns of the second dataset\n",
    "    cross_corr_values = [corr_df.iloc[i, i + half_n] for i in range(half_n)]\n",
    "    \n",
    "    # Convert to DataFrame while maintaining the index from the original corr_df\n",
    "    cross_corr_df = pd.DataFrame(cross_corr_values, index=corr_df.index[:half_n], columns=[\"Cross-Correlation\"])\n",
    "    \n",
    "    return cross_corr_df\n",
    "\n"
   ]
  },
  {
   "cell_type": "code",
   "execution_count": null,
   "metadata": {},
   "outputs": [],
   "source": [
    "cross_corr_diagonal_df = extract_cross_correlation_diagonal(corr_df)\n",
    "cross_corr_diagonal_df"
   ]
  },
  {
   "cell_type": "code",
   "execution_count": null,
   "metadata": {},
   "outputs": [],
   "source": [
    "#Create heatmap of correlation matrix\n",
    "import seaborn as sns\n",
    "import matplotlib.pyplot as plt\n",
    "\n",
    "fig = plt.figure(figsize=(15, 13))\n",
    "sns.heatmap(cross_corr_diagonal_df, cmap='ocean_hot',square=True, linewidths=.5, cbar_kws={\"shrink\": .5}, vmin=-1, vmax=1)       "
   ]
  },
  {
   "cell_type": "markdown",
   "metadata": {},
   "source": [
    "Save Results"
   ]
  },
  {
   "cell_type": "code",
   "execution_count": 110,
   "metadata": {},
   "outputs": [],
   "source": [
    "import os\n",
    "\n",
    "def save_cross_correlation_results(corr_df, fig, out_dir, comparison, save=False, method_choice=0):\n",
    "    \"\"\"\n",
    "    Save the correlation dataframe and figure to specified output directory.\n",
    "    \n",
    "    Parameters:\n",
    "    - out_dir (str): The base directory where the results should be saved.\n",
    "    - comparison (str): The specific comparison or sub-directory under out_dir.\n",
    "    - save (bool, optional): Flag to determine whether to save results. Default is False.\n",
    "    - method_choice (int, optional): An integer indicating the correlation method used. \n",
    "                                     0: Pearson (default), 1: Spearman, 2: Kendall.\n",
    "    \n",
    "    Example usage:\n",
    "    >>> save_correlation_results('/path/to/output', 'specific_comparison', save=True, method_choice=1)\n",
    "    \"\"\"\n",
    "    \n",
    "    if save:\n",
    "        out_dir = os.path.join(out_dir, comparison)\n",
    "        os.makedirs(out_dir, exist_ok=True)\n",
    "\n",
    "        corr_df.to_csv(os.path.join(out_dir, f'{method_choice}_cross_correlation_df.csv'))\n",
    "        fig.savefig(os.path.join(out_dir, f'{method_choice}_cross_correlation_matrix.png'))\n",
    "        print('saved to ' + os.path.join(out_dir, f'{method_choice}_cross_correlation_matrix.png'))"
   ]
  },
  {
   "cell_type": "code",
   "execution_count": 111,
   "metadata": {},
   "outputs": [],
   "source": [
    "save_results = True"
   ]
  },
  {
   "cell_type": "code",
   "execution_count": null,
   "metadata": {},
   "outputs": [],
   "source": [
    "save_cross_correlation_results(corr_df=cross_corr_diagonal_df, fig=fig, out_dir=out_dir, comparison=comparison, save=save_results, method_choice=method_choice)"
   ]
  },
  {
   "cell_type": "markdown",
   "metadata": {},
   "source": [
    "# 04 - Permute Spatial Correlation"
   ]
  },
  {
   "cell_type": "code",
   "execution_count": 193,
   "metadata": {},
   "outputs": [],
   "source": [
    "import pandas as pd\n",
    "from tqdm import tqdm\n",
    "from natsort import natsorted\n",
    "import numpy as np\n",
    "\n",
    "class PermutedSpatialCorrelation:\n",
    "    def __init__(self, dataframe, n_permutations=1000):\n",
    "        self.dataframe = dataframe\n",
    "        self.n_permutations = n_permutations\n",
    "        self.permuted_correlations = []\n",
    "        self.observed_correlation = None\n",
    "\n",
    "    def compute_correlation(self, df, method_choice=0, only_compare_nonzero_voxels=False):\n",
    "        \"\"\"\n",
    "        Compute correlations among columns of a DataFrame using a specified method.\n",
    "        When only_compare_nonzero_voxels is True, only pairs of non-zero voxels are used for the computation.\n",
    "        \n",
    "        Parameters:\n",
    "        - df (DataFrame): The dataframe for which correlations should be computed.\n",
    "        - method_choice (int, optional): An integer indicating the correlation method to be used. \n",
    "                                        0: Pearson (default), 1: Spearman, 2: Kendall.\n",
    "        - only_compare_nonzero_voxels (bool, optional): Flag to determine whether to compute correlations \n",
    "                                                        considering only non-zero voxels. Default is False.\n",
    "        \n",
    "        Returns:\n",
    "        - DataFrame: The correlation matrix.\n",
    "        \n",
    "        Example usage:\n",
    "        >>> corr_matrix = compute_correlation(df, method_choice=0, only_compare_nonzero_voxels=True)\n",
    "        \"\"\"\n",
    "        \n",
    "        methods = ['pearson', 'spearman', 'kendall']\n",
    "        method = methods[method_choice]\n",
    "        \n",
    "        # If only_compare_nonzero_voxels is False, compute the correlation in the usual manner\n",
    "        if not only_compare_nonzero_voxels:\n",
    "            return df.corr(method=method), method\n",
    "        else:\n",
    "            columns = df.columns\n",
    "            n = len(columns)\n",
    "            \n",
    "            # Initialize a dataframe to store the results\n",
    "            corr_df = pd.DataFrame(index=columns, columns=columns, dtype='float64')\n",
    "            \n",
    "            # Iterate over each pair of columns\n",
    "            for i in tqdm(range(n)):\n",
    "                for j in range(i, n):\n",
    "                    # Filter rows where both columns have non-zero values\n",
    "                    temp_df = df[(df[columns[i]] != 0) & (df[columns[j]] != 0)]\n",
    "                    \n",
    "                    # Compute correlation for the filtered rows\n",
    "                    corr_value = temp_df[[columns[i], columns[j]]].corr(method=method).iloc[0, 1]\n",
    "                    \n",
    "                    # Assign the computed value to the result dataframe\n",
    "                    corr_df.iloc[i, j] = corr_value\n",
    "                    corr_df.iloc[j, i] = corr_value\n",
    "                    \n",
    "        #Sort the Dataframe            \n",
    "        corr_df = corr_df.reindex(index=natsorted(corr_df.index))\n",
    "        corr_df = corr_df.reindex(columns=natsorted(corr_df.columns))\n",
    "        return corr_df, method\n",
    "\n",
    "\n",
    "    def permute_column(self, column):\n",
    "        return np.random.permutation(column)\n",
    "\n",
    "    def permute_and_correlate(self):\n",
    "        permuted_df = self.dataframe.copy()\n",
    "        for col in permuted_df.columns:\n",
    "            permuted_df[col] = self.permute_column(permuted_df[col])\n",
    "        permuted_corr, _ = self.compute_correlation(permuted_df)\n",
    "        return permuted_corr\n",
    "\n",
    "    def run_permutations(self):\n",
    "        self.observed_correlation, _ = self.compute_correlation(self.dataframe)\n",
    "        for _ in tqdm(range(self.n_permutations)):\n",
    "            permuted_corr = self.permute_and_correlate()\n",
    "            self.permuted_correlations.append(permuted_corr)\n",
    "\n",
    "    def compute_p_value(self):\n",
    "        if self.observed_correlation is None:\n",
    "            raise ValueError(\"Run permutations first to compute observed correlation.\")\n",
    "        p_values = pd.DataFrame(index=self.dataframe.columns, columns=self.dataframe.columns)\n",
    "        for i, col_i in enumerate(self.dataframe.columns):\n",
    "            for j, col_j in enumerate(self.dataframe.columns):\n",
    "                bool_array = [permuted_corr.iloc[i, j] > self.observed_correlation.iloc[i, j]\n",
    "                              for permuted_corr in self.permuted_correlations]\n",
    "                p_values.iloc[i, j] = np.mean(bool_array)\n",
    "        return p_values\n",
    "\n",
    "    def run(self):\n",
    "        self.run_permutations()\n",
    "        p_values = self.compute_p_value()\n",
    "        return p_values, self.observed_correlation\n",
    "\n",
    "# Usage:\n",
    "# Create an instance of the class\n",
    "# psc = PermutedSpatialCorrelation(dataframe, n_permutations=1000)\n",
    "# p_values, observed_corr = psc.run()"
   ]
  },
  {
   "cell_type": "code",
   "execution_count": 194,
   "metadata": {},
   "outputs": [
    {
     "name": "stderr",
     "output_type": "stream",
     "text": [
      "100%|██████████| 10000/10000 [02:14<00:00, 74.09it/s]\n"
     ]
    },
    {
     "data": {
      "text/html": [
       "<div>\n",
       "<style scoped>\n",
       "    .dataframe tbody tr th:only-of-type {\n",
       "        vertical-align: middle;\n",
       "    }\n",
       "\n",
       "    .dataframe tbody tr th {\n",
       "        vertical-align: top;\n",
       "    }\n",
       "\n",
       "    .dataframe thead th {\n",
       "        text-align: right;\n",
       "    }\n",
       "</style>\n",
       "<table border=\"1\" class=\"dataframe\">\n",
       "  <thead>\n",
       "    <tr style=\"text-align: right;\">\n",
       "      <th></th>\n",
       "      <th>alzheimer_disease_interaction.nii</th>\n",
       "      <th>Memory Network T Conn.nii</th>\n",
       "    </tr>\n",
       "  </thead>\n",
       "  <tbody>\n",
       "    <tr>\n",
       "      <th>alzheimer_disease_interaction.nii</th>\n",
       "      <td>0.0</td>\n",
       "      <td>0.0</td>\n",
       "    </tr>\n",
       "    <tr>\n",
       "      <th>Memory Network T Conn.nii</th>\n",
       "      <td>0.0</td>\n",
       "      <td>0.0</td>\n",
       "    </tr>\n",
       "  </tbody>\n",
       "</table>\n",
       "</div>"
      ],
      "text/plain": [
       "                                  alzheimer_disease_interaction.nii  \\\n",
       "alzheimer_disease_interaction.nii                               0.0   \n",
       "Memory Network T Conn.nii                                       0.0   \n",
       "\n",
       "                                  Memory Network T Conn.nii  \n",
       "alzheimer_disease_interaction.nii                       0.0  \n",
       "Memory Network T Conn.nii                               0.0  "
      ]
     },
     "execution_count": 194,
     "metadata": {},
     "output_type": "execute_result"
    }
   ],
   "source": [
    "psc = PermutedSpatialCorrelation(masked_df, n_permutations=10000)\n",
    "p_values, observed_corr = psc.run()\n",
    "p_values"
   ]
  },
  {
   "attachments": {},
   "cell_type": "markdown",
   "metadata": {},
   "source": [
    "## Show Specific Heatmap"
   ]
  },
  {
   "cell_type": "code",
   "execution_count": 50,
   "metadata": {},
   "outputs": [
    {
     "name": "stdout",
     "output_type": "stream",
     "text": [
      "Index(['MDST43_seed_compound_fMRI_T.nii.gz',\n",
      "       'MDST04_seed_compound_fMRI_T.nii.gz',\n",
      "       'MDST12_seed_compound_fMRI_T.nii.gz',\n",
      "       'MDST01_seed_compound_fMRI_T.nii.gz',\n",
      "       'MDST28_seed_compound_fMRI_T.nii.gz',\n",
      "       'MDST17_seed_compound_fMRI_T.nii.gz',\n",
      "       'MDST18_seed_compound_fMRI_T.nii.gz',\n",
      "       'MDST31_seed_compound_fMRI_T.nii.gz',\n",
      "       'MDST27_seed_compound_fMRI_T.nii.gz',\n",
      "       'MDST34_seed_compound_fMRI_T.nii.gz',\n",
      "       'MDST22_seed_compound_fMRI_T.nii.gz',\n",
      "       'MDST29_seed_compound_fMRI_T.nii.gz',\n",
      "       'MDST23_seed_compound_fMRI_T.nii.gz',\n",
      "       'MDST19_seed_compound_fMRI_T.nii.gz',\n",
      "       'MDST30_seed_compound_fMRI_T.nii.gz',\n",
      "       'MDST26_seed_compound_fMRI_T.nii.gz',\n",
      "       'MDST33_seed_compound_fMRI_T.nii.gz',\n",
      "       'MDST36_seed_compound_fMRI_T.nii.gz',\n",
      "       'MDST09_seed_compound_fMRI_T.nii.gz',\n",
      "       'MDST06_seed_compound_fMRI_T.nii.gz',\n",
      "       'MDST39_seed_compound_fMRI_T.nii.gz',\n",
      "       'MDST44_seed_compound_fMRI_T.nii.gz',\n",
      "       'MDST03_seed_compound_fMRI_T.nii.gz',\n",
      "       'MDST15_seed_compound_fMRI_T.nii.gz',\n",
      "       'MDST37_seed_compound_fMRI_T.nii.gz',\n",
      "       'MDST21_seed_compound_fMRI_T.nii.gz',\n",
      "       'MDST24_seed_compound_fMRI_T.nii.gz',\n",
      "       'MDST02_seed_compound_fMRI_T.nii.gz',\n",
      "       'MDST14_seed_compound_fMRI_T.nii.gz',\n",
      "       'MDST07_seed_compound_fMRI_T.nii.gz',\n",
      "       'MDST38_seed_compound_fMRI_T.nii.gz',\n",
      "       'MDST11_seed_compound_fMRI_T.nii.gz', 'Lesions Causing Amnesia.nii'],\n",
      "      dtype='object')\n"
     ]
    }
   ],
   "source": [
    "print(corr_df.columns)"
   ]
  },
  {
   "cell_type": "code",
   "execution_count": 51,
   "metadata": {},
   "outputs": [
    {
     "data": {
      "text/html": [
       "<div>\n",
       "<style scoped>\n",
       "    .dataframe tbody tr th:only-of-type {\n",
       "        vertical-align: middle;\n",
       "    }\n",
       "\n",
       "    .dataframe tbody tr th {\n",
       "        vertical-align: top;\n",
       "    }\n",
       "\n",
       "    .dataframe thead th {\n",
       "        text-align: right;\n",
       "    }\n",
       "</style>\n",
       "<table border=\"1\" class=\"dataframe\">\n",
       "  <thead>\n",
       "    <tr style=\"text-align: right;\">\n",
       "      <th></th>\n",
       "      <th>Lesions Causing Amnesia</th>\n",
       "    </tr>\n",
       "  </thead>\n",
       "  <tbody>\n",
       "    <tr>\n",
       "      <th>MDST33_seed_compound_fMRI_T</th>\n",
       "      <td>-0.659502</td>\n",
       "    </tr>\n",
       "    <tr>\n",
       "      <th>MDST38_seed_compound_fMRI_T</th>\n",
       "      <td>-0.639372</td>\n",
       "    </tr>\n",
       "    <tr>\n",
       "      <th>MDST30_seed_compound_fMRI_T</th>\n",
       "      <td>-0.553686</td>\n",
       "    </tr>\n",
       "    <tr>\n",
       "      <th>MDST36_seed_compound_fMRI_T</th>\n",
       "      <td>-0.527690</td>\n",
       "    </tr>\n",
       "    <tr>\n",
       "      <th>MDST23_seed_compound_fMRI_T</th>\n",
       "      <td>-0.520786</td>\n",
       "    </tr>\n",
       "    <tr>\n",
       "      <th>MDST11_seed_compound_fMRI_T</th>\n",
       "      <td>-0.507962</td>\n",
       "    </tr>\n",
       "    <tr>\n",
       "      <th>MDST31_seed_compound_fMRI_T</th>\n",
       "      <td>-0.505577</td>\n",
       "    </tr>\n",
       "    <tr>\n",
       "      <th>MDST02_seed_compound_fMRI_T</th>\n",
       "      <td>-0.502484</td>\n",
       "    </tr>\n",
       "    <tr>\n",
       "      <th>MDST22_seed_compound_fMRI_T</th>\n",
       "      <td>-0.496973</td>\n",
       "    </tr>\n",
       "    <tr>\n",
       "      <th>MDST09_seed_compound_fMRI_T</th>\n",
       "      <td>-0.494405</td>\n",
       "    </tr>\n",
       "    <tr>\n",
       "      <th>MDST43_seed_compound_fMRI_T</th>\n",
       "      <td>-0.493639</td>\n",
       "    </tr>\n",
       "    <tr>\n",
       "      <th>MDST27_seed_compound_fMRI_T</th>\n",
       "      <td>-0.489221</td>\n",
       "    </tr>\n",
       "    <tr>\n",
       "      <th>MDST44_seed_compound_fMRI_T</th>\n",
       "      <td>-0.463787</td>\n",
       "    </tr>\n",
       "    <tr>\n",
       "      <th>MDST06_seed_compound_fMRI_T</th>\n",
       "      <td>-0.454075</td>\n",
       "    </tr>\n",
       "    <tr>\n",
       "      <th>MDST14_seed_compound_fMRI_T</th>\n",
       "      <td>-0.440579</td>\n",
       "    </tr>\n",
       "    <tr>\n",
       "      <th>MDST24_seed_compound_fMRI_T</th>\n",
       "      <td>-0.434313</td>\n",
       "    </tr>\n",
       "    <tr>\n",
       "      <th>MDST04_seed_compound_fMRI_T</th>\n",
       "      <td>-0.426115</td>\n",
       "    </tr>\n",
       "    <tr>\n",
       "      <th>MDST28_seed_compound_fMRI_T</th>\n",
       "      <td>-0.413800</td>\n",
       "    </tr>\n",
       "    <tr>\n",
       "      <th>MDST03_seed_compound_fMRI_T</th>\n",
       "      <td>-0.398033</td>\n",
       "    </tr>\n",
       "    <tr>\n",
       "      <th>MDST17_seed_compound_fMRI_T</th>\n",
       "      <td>-0.372396</td>\n",
       "    </tr>\n",
       "    <tr>\n",
       "      <th>MDST29_seed_compound_fMRI_T</th>\n",
       "      <td>-0.358253</td>\n",
       "    </tr>\n",
       "    <tr>\n",
       "      <th>MDST19_seed_compound_fMRI_T</th>\n",
       "      <td>-0.345869</td>\n",
       "    </tr>\n",
       "    <tr>\n",
       "      <th>MDST18_seed_compound_fMRI_T</th>\n",
       "      <td>-0.313833</td>\n",
       "    </tr>\n",
       "    <tr>\n",
       "      <th>MDST39_seed_compound_fMRI_T</th>\n",
       "      <td>-0.293216</td>\n",
       "    </tr>\n",
       "    <tr>\n",
       "      <th>MDST34_seed_compound_fMRI_T</th>\n",
       "      <td>-0.277802</td>\n",
       "    </tr>\n",
       "    <tr>\n",
       "      <th>MDST26_seed_compound_fMRI_T</th>\n",
       "      <td>-0.276809</td>\n",
       "    </tr>\n",
       "    <tr>\n",
       "      <th>MDST37_seed_compound_fMRI_T</th>\n",
       "      <td>-0.243491</td>\n",
       "    </tr>\n",
       "    <tr>\n",
       "      <th>MDST12_seed_compound_fMRI_T</th>\n",
       "      <td>-0.220427</td>\n",
       "    </tr>\n",
       "    <tr>\n",
       "      <th>MDST07_seed_compound_fMRI_T</th>\n",
       "      <td>-0.177886</td>\n",
       "    </tr>\n",
       "    <tr>\n",
       "      <th>MDST01_seed_compound_fMRI_T</th>\n",
       "      <td>-0.113151</td>\n",
       "    </tr>\n",
       "    <tr>\n",
       "      <th>MDST21_seed_compound_fMRI_T</th>\n",
       "      <td>-0.049282</td>\n",
       "    </tr>\n",
       "    <tr>\n",
       "      <th>MDST15_seed_compound_fMRI_T</th>\n",
       "      <td>0.047449</td>\n",
       "    </tr>\n",
       "    <tr>\n",
       "      <th>Lesions Causing Amnesia</th>\n",
       "      <td>1.000000</td>\n",
       "    </tr>\n",
       "  </tbody>\n",
       "</table>\n",
       "</div>"
      ],
      "text/plain": [
       "                             Lesions Causing Amnesia\n",
       "MDST33_seed_compound_fMRI_T                -0.659502\n",
       "MDST38_seed_compound_fMRI_T                -0.639372\n",
       "MDST30_seed_compound_fMRI_T                -0.553686\n",
       "MDST36_seed_compound_fMRI_T                -0.527690\n",
       "MDST23_seed_compound_fMRI_T                -0.520786\n",
       "MDST11_seed_compound_fMRI_T                -0.507962\n",
       "MDST31_seed_compound_fMRI_T                -0.505577\n",
       "MDST02_seed_compound_fMRI_T                -0.502484\n",
       "MDST22_seed_compound_fMRI_T                -0.496973\n",
       "MDST09_seed_compound_fMRI_T                -0.494405\n",
       "MDST43_seed_compound_fMRI_T                -0.493639\n",
       "MDST27_seed_compound_fMRI_T                -0.489221\n",
       "MDST44_seed_compound_fMRI_T                -0.463787\n",
       "MDST06_seed_compound_fMRI_T                -0.454075\n",
       "MDST14_seed_compound_fMRI_T                -0.440579\n",
       "MDST24_seed_compound_fMRI_T                -0.434313\n",
       "MDST04_seed_compound_fMRI_T                -0.426115\n",
       "MDST28_seed_compound_fMRI_T                -0.413800\n",
       "MDST03_seed_compound_fMRI_T                -0.398033\n",
       "MDST17_seed_compound_fMRI_T                -0.372396\n",
       "MDST29_seed_compound_fMRI_T                -0.358253\n",
       "MDST19_seed_compound_fMRI_T                -0.345869\n",
       "MDST18_seed_compound_fMRI_T                -0.313833\n",
       "MDST39_seed_compound_fMRI_T                -0.293216\n",
       "MDST34_seed_compound_fMRI_T                -0.277802\n",
       "MDST26_seed_compound_fMRI_T                -0.276809\n",
       "MDST37_seed_compound_fMRI_T                -0.243491\n",
       "MDST12_seed_compound_fMRI_T                -0.220427\n",
       "MDST07_seed_compound_fMRI_T                -0.177886\n",
       "MDST01_seed_compound_fMRI_T                -0.113151\n",
       "MDST21_seed_compound_fMRI_T                -0.049282\n",
       "MDST15_seed_compound_fMRI_T                 0.047449\n",
       "Lesions Causing Amnesia                     1.000000"
      ]
     },
     "metadata": {},
     "output_type": "display_data"
    },
    {
     "name": "stdout",
     "output_type": "stream",
     "text": [
      "/Users/cu135/Dropbox (Partners HealthCare)/resources/datasets/BIDS_PD_DBS_STN_WURZBURG/neuroimaging_analyses/ses-01/sub-all/spatial_correlation\n"
     ]
    },
    {
     "data": {
      "image/png": "[encoded data removed]",
      "text/plain": [
       "<Figure size 1500x1300 with 2 Axes>"
      ]
     },
     "metadata": {},
     "output_type": "display_data"
    }
   ],
   "source": [
    "#Enter networks of interest\n",
    "network_of_interest = 'Lesions Causing Amnesia.nii'\n",
    "networks_of_disinterest = [\n",
    "    None   \n",
    "]\n",
    "\n",
    "#---isolate network of interest and remove those not of interest\n",
    "corr_df_2 = corr_df.copy()\n",
    "corr_df_2 = pd.DataFrame(corr_df_2.loc[:, network_of_interest])\n",
    "if networks_of_disinterest[0] is not None:\n",
    "    for network in networks_of_disinterest:\n",
    "        corr_df_2.drop(network, inplace=True)\n",
    "#Sort the dataframe by descending order\n",
    "corr_df_2 = corr_df_2.sort_values(network_of_interest)\n",
    "#Remove .nii from file names\n",
    "for name in corr_df_2.columns.values:\n",
    "    newname = name.split('.nii')[0]\n",
    "    corr_df_2 = corr_df_2.rename({name: newname}, axis='columns')\n",
    "for name in corr_df_2.index.values:\n",
    "    newname = name.split('.nii')[0]\n",
    "    corr_df_2 = corr_df_2.rename({name: newname}, axis='index')\n",
    "\n",
    "#---Visualize the new data\n",
    "#Create heatmap of correlation matrix\n",
    "import seaborn as sns\n",
    "import matplotlib.pyplot as plt\n",
    "\n",
    "fig = plt.figure(figsize=(15, 13))\n",
    "\n",
    "sns.heatmap(corr_df_2, cmap='ocean_hot',square=True, linewidths=.5, cbar_kws={\"shrink\": .5}, vmin=-1, vmax=1)\n",
    "\n",
    "#Save results\n",
    "fig.savefig(out_dir + f'/spcorrel_{network_of_interest}.png')\n",
    "fig.savefig(out_dir + f'/spcorrel_{network_of_interest}.svg')\n",
    "corr_df_2.to_csv(out_dir + f'/spcorrel_{network_of_interest}.csv')\n",
    "display(corr_df_2)\n",
    "print(out_dir)"
   ]
  },
  {
   "cell_type": "markdown",
   "metadata": {},
   "source": [
    "# Compute Agreement"
   ]
  },
  {
   "cell_type": "code",
   "execution_count": 97,
   "metadata": {},
   "outputs": [],
   "source": [
    "def compute_agreement(df, method_choice='dice'):\n",
    "    \"\"\"\n",
    "    Compute agreement among columns of a DataFrame using a specified method.\n",
    "    \n",
    "    Parameters:\n",
    "    - df (DataFrame): The dataframe for which agreement should be computed.\n",
    "    - method_choice (str, optional): A string indicating the agreement method to be used. \n",
    "                                     'dice': Dice Coefficient, 'jaccard': Jaccard Index, 'percent': % Agreement\n",
    "    \n",
    "    Returns:\n",
    "    - Tuple(DataFrame, DataFrame, DataFrame): Positive agreement matrix, Negative agreement matrix, Overall agreement matrix.\n",
    "    \"\"\"\n",
    "    \n",
    "    columns = df.columns\n",
    "    n = len(columns)\n",
    "    \n",
    "    # Initialize dataframes to store the results\n",
    "    pos_corr_df = pd.DataFrame(index=columns, columns=columns, dtype='float64') if method_choice != 'percent' else None\n",
    "    neg_corr_df = pd.DataFrame(index=columns, columns=columns, dtype='float64') if method_choice != 'percent' else None\n",
    "    overall_corr_df = pd.DataFrame(index=columns, columns=columns, dtype='float64')\n",
    "    \n",
    "    # Binarize the DataFrame\n",
    "    bin_df = df.applymap(lambda x: 1 if x > 0 else (-1 if x < 0 else 0))\n",
    "    \n",
    "    # Iterate over each pair of columns\n",
    "    for i in range(n):\n",
    "        for j in range(i, n):\n",
    "            \n",
    "            col1, col2 = columns[i], columns[j]\n",
    "            \n",
    "            # Indices where both columns have the same sign (either both positive or both negative)\n",
    "            same_sign = (bin_df[col1] == bin_df[col2]) & (bin_df[col1] != 0)\n",
    "            \n",
    "            # Indices where both columns are positive, negative, or any\n",
    "            both_pos = (bin_df[col1] == 1) & (bin_df[col2] == 1)\n",
    "            both_neg = (bin_df[col1] == -1) & (bin_df[col2] == -1)\n",
    "            \n",
    "            if method_choice == 'dice':\n",
    "                # Dice Coefficient\n",
    "                pos_value = 2 * both_pos.sum() / (bin_df[col1].eq(1).sum() + bin_df[col2].eq(1).sum())\n",
    "                neg_value = 2 * both_neg.sum() / (bin_df[col1].eq(-1).sum() + bin_df[col2].eq(-1).sum())\n",
    "                \n",
    "            elif method_choice == 'jaccard':\n",
    "                # Jaccard Index\n",
    "                pos_value = both_pos.sum() / ((bin_df[col1] == 1) | (bin_df[col2] == 1)).sum()\n",
    "                neg_value = both_neg.sum() / ((bin_df[col1] == -1) | (bin_df[col2] == -1)).sum()\n",
    "                \n",
    "            elif method_choice == 'percent':\n",
    "                # % Agreement of voxels sharing the same sign\n",
    "                overall_value = same_sign.sum() / len(bin_df)\n",
    "                overall_corr_df.loc[col1, col2] = overall_value\n",
    "                overall_corr_df.loc[col2, col1] = overall_value\n",
    "                continue\n",
    "            \n",
    "            overall_value = (pos_value + neg_value) / 2\n",
    "            \n",
    "            # Update DataFrames\n",
    "            if pos_corr_df is not None:\n",
    "                pos_corr_df.loc[col1, col2] = pos_value\n",
    "                pos_corr_df.loc[col2, col1] = pos_value\n",
    "            if neg_corr_df is not None:\n",
    "                neg_corr_df.loc[col1, col2] = neg_value\n",
    "                neg_corr_df.loc[col2, col1] = neg_value\n",
    "            overall_corr_df.loc[col1, col2] = overall_value\n",
    "            overall_corr_df.loc[col2, col1] = overall_value\n",
    "    \n",
    "    return pos_corr_df, neg_corr_df, overall_corr_df\n"
   ]
  },
  {
   "cell_type": "code",
   "execution_count": 109,
   "metadata": {},
   "outputs": [],
   "source": [
    "pos_corr_df, neg_corr_df, overall_corr_df = compute_agreement(masked_df, 'jaccard')"
   ]
  },
  {
   "cell_type": "markdown",
   "metadata": {},
   "source": [
    "Positive Agreement"
   ]
  },
  {
   "cell_type": "code",
   "execution_count": 110,
   "metadata": {},
   "outputs": [
    {
     "data": {
      "text/html": [
       "<div>\n",
       "<style scoped>\n",
       "    .dataframe tbody tr th:only-of-type {\n",
       "        vertical-align: middle;\n",
       "    }\n",
       "\n",
       "    .dataframe tbody tr th {\n",
       "        vertical-align: top;\n",
       "    }\n",
       "\n",
       "    .dataframe thead th {\n",
       "        text-align: right;\n",
       "    }\n",
       "</style>\n",
       "<table border=\"1\" class=\"dataframe\">\n",
       "  <thead>\n",
       "    <tr style=\"text-align: right;\">\n",
       "      <th></th>\n",
       "      <th>generated_nifti.nii</th>\n",
       "      <th>generated_nifti.nii</th>\n",
       "    </tr>\n",
       "  </thead>\n",
       "  <tbody>\n",
       "    <tr>\n",
       "      <th>generated_nifti.nii</th>\n",
       "      <td>1.0</td>\n",
       "      <td>1.0</td>\n",
       "    </tr>\n",
       "    <tr>\n",
       "      <th>generated_nifti.nii</th>\n",
       "      <td>1.0</td>\n",
       "      <td>1.0</td>\n",
       "    </tr>\n",
       "  </tbody>\n",
       "</table>\n",
       "</div>"
      ],
      "text/plain": [
       "                     generated_nifti.nii  generated_nifti.nii\n",
       "generated_nifti.nii                  1.0                  1.0\n",
       "generated_nifti.nii                  1.0                  1.0"
      ]
     },
     "metadata": {},
     "output_type": "display_data"
    }
   ],
   "source": [
    "display(pos_corr_df)"
   ]
  },
  {
   "cell_type": "code",
   "execution_count": 111,
   "metadata": {},
   "outputs": [
    {
     "data": {
      "text/plain": [
       "<AxesSubplot: >"
      ]
     },
     "execution_count": 111,
     "metadata": {},
     "output_type": "execute_result"
    },
    {
     "data": {
      "image/png": "[encoded data removed]",
      "text/plain": [
       "<Figure size 1500x1300 with 2 Axes>"
      ]
     },
     "metadata": {},
     "output_type": "display_data"
    }
   ],
   "source": [
    "#Create heatmap of correlation matrix\n",
    "import seaborn as sns\n",
    "import matplotlib.pyplot as plt\n",
    "\n",
    "fig = plt.figure(figsize=(15, 13))\n",
    "sns.heatmap(pos_corr_df, cmap='ocean_hot',square=True, linewidths=.5, cbar_kws={\"shrink\": .5}, vmin=-1, vmax=1)    "
   ]
  },
  {
   "cell_type": "markdown",
   "metadata": {},
   "source": [
    "Negative Agreement"
   ]
  },
  {
   "cell_type": "code",
   "execution_count": 112,
   "metadata": {},
   "outputs": [
    {
     "data": {
      "text/html": [
       "<div>\n",
       "<style scoped>\n",
       "    .dataframe tbody tr th:only-of-type {\n",
       "        vertical-align: middle;\n",
       "    }\n",
       "\n",
       "    .dataframe tbody tr th {\n",
       "        vertical-align: top;\n",
       "    }\n",
       "\n",
       "    .dataframe thead th {\n",
       "        text-align: right;\n",
       "    }\n",
       "</style>\n",
       "<table border=\"1\" class=\"dataframe\">\n",
       "  <thead>\n",
       "    <tr style=\"text-align: right;\">\n",
       "      <th></th>\n",
       "      <th>generated_nifti.nii</th>\n",
       "      <th>generated_nifti.nii</th>\n",
       "    </tr>\n",
       "  </thead>\n",
       "  <tbody>\n",
       "    <tr>\n",
       "      <th>generated_nifti.nii</th>\n",
       "      <td>1.0</td>\n",
       "      <td>1.0</td>\n",
       "    </tr>\n",
       "    <tr>\n",
       "      <th>generated_nifti.nii</th>\n",
       "      <td>1.0</td>\n",
       "      <td>1.0</td>\n",
       "    </tr>\n",
       "  </tbody>\n",
       "</table>\n",
       "</div>"
      ],
      "text/plain": [
       "                     generated_nifti.nii  generated_nifti.nii\n",
       "generated_nifti.nii                  1.0                  1.0\n",
       "generated_nifti.nii                  1.0                  1.0"
      ]
     },
     "metadata": {},
     "output_type": "display_data"
    }
   ],
   "source": [
    "display(neg_corr_df)"
   ]
  },
  {
   "cell_type": "code",
   "execution_count": 113,
   "metadata": {},
   "outputs": [
    {
     "data": {
      "text/plain": [
       "<AxesSubplot: >"
      ]
     },
     "execution_count": 113,
     "metadata": {},
     "output_type": "execute_result"
    },
    {
     "data": {
      "image/png": "[encoded data removed]",
      "text/plain": [
       "<Figure size 1500x1300 with 2 Axes>"
      ]
     },
     "metadata": {},
     "output_type": "display_data"
    }
   ],
   "source": [
    "#Create heatmap of correlation matrix\n",
    "import seaborn as sns\n",
    "import matplotlib.pyplot as plt\n",
    "\n",
    "fig = plt.figure(figsize=(15, 13))\n",
    "sns.heatmap(neg_corr_df, cmap='ocean_hot',square=True, linewidths=.5, cbar_kws={\"shrink\": .5}, vmin=-1, vmax=1)    "
   ]
  },
  {
   "cell_type": "markdown",
   "metadata": {},
   "source": [
    "Overall Agreement"
   ]
  },
  {
   "cell_type": "code",
   "execution_count": 114,
   "metadata": {},
   "outputs": [
    {
     "data": {
      "text/html": [
       "<div>\n",
       "<style scoped>\n",
       "    .dataframe tbody tr th:only-of-type {\n",
       "        vertical-align: middle;\n",
       "    }\n",
       "\n",
       "    .dataframe tbody tr th {\n",
       "        vertical-align: top;\n",
       "    }\n",
       "\n",
       "    .dataframe thead th {\n",
       "        text-align: right;\n",
       "    }\n",
       "</style>\n",
       "<table border=\"1\" class=\"dataframe\">\n",
       "  <thead>\n",
       "    <tr style=\"text-align: right;\">\n",
       "      <th></th>\n",
       "      <th>generated_nifti.nii</th>\n",
       "      <th>generated_nifti.nii</th>\n",
       "    </tr>\n",
       "  </thead>\n",
       "  <tbody>\n",
       "    <tr>\n",
       "      <th>generated_nifti.nii</th>\n",
       "      <td>1.0</td>\n",
       "      <td>1.0</td>\n",
       "    </tr>\n",
       "    <tr>\n",
       "      <th>generated_nifti.nii</th>\n",
       "      <td>1.0</td>\n",
       "      <td>1.0</td>\n",
       "    </tr>\n",
       "  </tbody>\n",
       "</table>\n",
       "</div>"
      ],
      "text/plain": [
       "                     generated_nifti.nii  generated_nifti.nii\n",
       "generated_nifti.nii                  1.0                  1.0\n",
       "generated_nifti.nii                  1.0                  1.0"
      ]
     },
     "metadata": {},
     "output_type": "display_data"
    }
   ],
   "source": [
    "display(overall_corr_df)"
   ]
  },
  {
   "cell_type": "code",
   "execution_count": 115,
   "metadata": {},
   "outputs": [
    {
     "data": {
      "text/plain": [
       "<AxesSubplot: >"
      ]
     },
     "execution_count": 115,
     "metadata": {},
     "output_type": "execute_result"
    },
    {
     "data": {
      "image/png": "[encoded data removed]",
      "text/plain": [
       "<Figure size 1500x1300 with 2 Axes>"
      ]
     },
     "metadata": {},
     "output_type": "display_data"
    }
   ],
   "source": [
    "#Create heatmap of correlation matrix\n",
    "import seaborn as sns\n",
    "import matplotlib.pyplot as plt\n",
    "\n",
    "fig = plt.figure(figsize=(15, 13))\n",
    "sns.heatmap(overall_corr_df, cmap='ocean_hot',square=True, linewidths=.5, cbar_kws={\"shrink\": .5}, vmin=-1, vmax=1)    "
   ]
  },
  {
   "cell_type": "code",
   "execution_count": 116,
   "metadata": {},
   "outputs": [
    {
     "data": {
      "text/html": [
       "<div>\n",
       "<style scoped>\n",
       "    .dataframe tbody tr th:only-of-type {\n",
       "        vertical-align: middle;\n",
       "    }\n",
       "\n",
       "    .dataframe tbody tr th {\n",
       "        vertical-align: top;\n",
       "    }\n",
       "\n",
       "    .dataframe thead th {\n",
       "        text-align: right;\n",
       "    }\n",
       "</style>\n",
       "<table border=\"1\" class=\"dataframe\">\n",
       "  <thead>\n",
       "    <tr style=\"text-align: right;\">\n",
       "      <th></th>\n",
       "      <th>generated_nifti.nii</th>\n",
       "      <th>generated_nifti.nii</th>\n",
       "    </tr>\n",
       "  </thead>\n",
       "  <tbody>\n",
       "    <tr>\n",
       "      <th>93491</th>\n",
       "      <td>-0.989210</td>\n",
       "      <td>1.346053</td>\n",
       "    </tr>\n",
       "    <tr>\n",
       "      <th>93492</th>\n",
       "      <td>-1.040569</td>\n",
       "      <td>1.514402</td>\n",
       "    </tr>\n",
       "    <tr>\n",
       "      <th>93493</th>\n",
       "      <td>-1.096370</td>\n",
       "      <td>1.591010</td>\n",
       "    </tr>\n",
       "    <tr>\n",
       "      <th>93582</th>\n",
       "      <td>-0.721671</td>\n",
       "      <td>1.347226</td>\n",
       "    </tr>\n",
       "    <tr>\n",
       "      <th>93583</th>\n",
       "      <td>-0.776775</td>\n",
       "      <td>1.414933</td>\n",
       "    </tr>\n",
       "    <tr>\n",
       "      <th>...</th>\n",
       "      <td>...</td>\n",
       "      <td>...</td>\n",
       "    </tr>\n",
       "    <tr>\n",
       "      <th>798193</th>\n",
       "      <td>0.220610</td>\n",
       "      <td>1.091347</td>\n",
       "    </tr>\n",
       "    <tr>\n",
       "      <th>798281</th>\n",
       "      <td>1.807527</td>\n",
       "      <td>0.713016</td>\n",
       "    </tr>\n",
       "    <tr>\n",
       "      <th>798282</th>\n",
       "      <td>1.370872</td>\n",
       "      <td>0.812782</td>\n",
       "    </tr>\n",
       "    <tr>\n",
       "      <th>798283</th>\n",
       "      <td>0.782001</td>\n",
       "      <td>0.946431</td>\n",
       "    </tr>\n",
       "    <tr>\n",
       "      <th>798373</th>\n",
       "      <td>1.217446</td>\n",
       "      <td>0.816425</td>\n",
       "    </tr>\n",
       "  </tbody>\n",
       "</table>\n",
       "<p>225222 rows × 2 columns</p>\n",
       "</div>"
      ],
      "text/plain": [
       "        generated_nifti.nii  generated_nifti.nii\n",
       "93491             -0.989210             1.346053\n",
       "93492             -1.040569             1.514402\n",
       "93493             -1.096370             1.591010\n",
       "93582             -0.721671             1.347226\n",
       "93583             -0.776775             1.414933\n",
       "...                     ...                  ...\n",
       "798193             0.220610             1.091347\n",
       "798281             1.807527             0.713016\n",
       "798282             1.370872             0.812782\n",
       "798283             0.782001             0.946431\n",
       "798373             1.217446             0.816425\n",
       "\n",
       "[225222 rows x 2 columns]"
      ]
     },
     "execution_count": 116,
     "metadata": {},
     "output_type": "execute_result"
    }
   ],
   "source": [
    "masked_df"
   ]
  },
  {
   "cell_type": "code",
   "execution_count": null,
   "metadata": {},
   "outputs": [],
   "source": []
  }
 ],
 "metadata": {
  "kernelspec": {
   "display_name": "nimlab_py310",
   "language": "python",
   "name": "python3"
  },
  "language_info": {
   "codemirror_mode": {
    "name": "ipython",
    "version": 3
   },
   "file_extension": ".py",
   "mimetype": "text/x-python",
   "name": "python",
   "nbconvert_exporter": "python",
   "pygments_lexer": "ipython3",
   "version": "3.10.8"
  },
  "orig_nbformat": 4,
  "vscode": {
   "interpreter": {
    "hash": "62880161f19d28ddb8a8f59c63374d84ace356c39e36cc839cb3fb3bb03fb010"
   }
  }
 },
 "nbformat": 4,
 "nbformat_minor": 2
}
