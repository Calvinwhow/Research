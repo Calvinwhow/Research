{
 "cells": [
  {
   "cell_type": "markdown",
   "metadata": {},
   "source": [
    "# Run Any Kind of OLS Regression (ANOVA, GLM, etc.)\n",
    "\n",
    "### Authors: Calvin Howard.\n",
    "\n",
    "#### Last updated: July 6, 2023\n",
    "\n",
    "Use this to run/test a statistical model (e.g., regression or T-tests) on a spreadsheet.\n",
    "\n",
    "Notes:\n",
    "- To best use this notebook, you should be familar with GLM design and Contrast Matrix design. See this webpage to get started:\n",
    "[FSL's GLM page](https://fsl.fmrib.ox.ac.uk/fsl/fslwiki/GLM)"
   ]
  },
  {
   "cell_type": "markdown",
   "metadata": {},
   "source": []
  },
  {
   "cell_type": "markdown",
   "metadata": {},
   "source": [
    "# 00 - Import CSV with All Data\n",
    "**The CSV is expected to be in this format**\n",
    "- ID and absolute paths to niftis are critical\n",
    "```\n",
    "+-----+----------------------------+--------------+--------------+--------------+\n",
    "| ID  | Nifti_File_Path            | Covariate_1  | Covariate_2  | Covariate_3  |\n",
    "+-----+----------------------------+--------------+--------------+--------------+\n",
    "| 1   | /path/to/file1.nii.gz      | 0.5          | 1.2          | 3.4          |\n",
    "| 2   | /path/to/file2.nii.gz      | 0.7          | 1.4          | 3.1          |\n",
    "| 3   | /path/to/file3.nii.gz      | 0.6          | 1.5          | 3.5          |\n",
    "| 4   | /path/to/file4.nii.gz      | 0.9          | 1.1          | 3.2          |\n",
    "| ... | ...                        | ...          | ...          | ...          |\n",
    "+-----+----------------------------+--------------+--------------+--------------+\n",
    "```"
   ]
  },
  {
   "cell_type": "markdown",
   "metadata": {},
   "source": [
    "Prep Output Direction"
   ]
  },
  {
   "cell_type": "code",
   "execution_count": null,
   "metadata": {},
   "outputs": [],
   "source": [
    "# Specify where you want to save your results to\n",
    "out_dir = '/Users/cu135/Dropbox (Partners HealthCare)/studies/voxelwise_lin_reg'"
   ]
  },
  {
   "cell_type": "markdown",
   "metadata": {},
   "source": [
    "Import Data"
   ]
  },
  {
   "cell_type": "code",
   "execution_count": null,
   "metadata": {},
   "outputs": [],
   "source": [
    "# Specify the path to your CSV file containing NIFTI paths\n",
    "input_csv_path = '/Users/cu135/Dropbox (Partners HealthCare)/studies/voxelwise_lin_reg/experimental_group_master_list.csv'\n",
    "sheet = None"
   ]
  },
  {
   "cell_type": "code",
   "execution_count": null,
   "metadata": {},
   "outputs": [],
   "source": [
    "from calvin_utils.permutation_analysis_utils.statsmodels_palm import CalvinStatsmodelsPalm\n",
    "# Instantiate the PalmPrepararation class\n",
    "cal_palm = CalvinStatsmodelsPalm(input_csv_path=input_csv_path, output_dir=out_dir, sheet=sheet)\n",
    "# Call the process_nifti_paths method\n",
    "data_df = cal_palm.read_and_display_data()"
   ]
  },
  {
   "cell_type": "markdown",
   "metadata": {},
   "source": [
    "\n",
    "# 01 - Preprocess Your Data"
   ]
  },
  {
   "cell_type": "markdown",
   "metadata": {},
   "source": [
    "**Handle NANs**\n",
    "- Set drop_nans=True is you would like to remove NaNs from data\n",
    "- Provide a column name or a list of column names to remove NaNs from"
   ]
  },
  {
   "cell_type": "code",
   "execution_count": null,
   "metadata": {},
   "outputs": [],
   "source": [
    "data_df.columns"
   ]
  },
  {
   "cell_type": "code",
   "execution_count": null,
   "metadata": {},
   "outputs": [],
   "source": [
    "drop_list = ['Age', 'TOTALMOD']"
   ]
  },
  {
   "cell_type": "code",
   "execution_count": null,
   "metadata": {},
   "outputs": [],
   "source": [
    "data_df = cal_palm.drop_nans_from_columns(columns_to_drop_from=drop_list)"
   ]
  },
  {
   "cell_type": "markdown",
   "metadata": {},
   "source": [
    "**Drop Row Based on Value of Column**\n",
    "\n",
    "Define the column, condition, and value for dropping rows\n",
    "- column = 'your_column_name'\n",
    "- condition = 'above'  # Options: 'equal', 'above', 'below'"
   ]
  },
  {
   "cell_type": "code",
   "execution_count": null,
   "metadata": {},
   "outputs": [],
   "source": [
    "data_df.columns"
   ]
  },
  {
   "cell_type": "markdown",
   "metadata": {},
   "source": [
    "Set the parameters for dropping rows"
   ]
  },
  {
   "cell_type": "code",
   "execution_count": null,
   "metadata": {},
   "outputs": [],
   "source": [
    "column = 'City'  # The column you'd like to evaluate\n",
    "condition = 'not'  # The condition to check ('equal', 'above', 'below', 'not')\n",
    "value = 'Toronto' # The value to drop if found"
   ]
  },
  {
   "cell_type": "code",
   "execution_count": null,
   "metadata": {},
   "outputs": [],
   "source": [
    "data_df, other_df = cal_palm.drop_rows_based_on_value(column, condition, value)\n",
    "display(data_df)"
   ]
  },
  {
   "cell_type": "markdown",
   "metadata": {},
   "source": [
    "**Standardize Data**\n",
    "- Enter Columns you Don't want to standardize into a list"
   ]
  },
  {
   "cell_type": "code",
   "execution_count": null,
   "metadata": {},
   "outputs": [],
   "source": [
    "# Remove anything you don't want to standardize\n",
    "cols_not_to_standardize = None # ['Z_Scored_Percent_Cognitive_Improvement_By_Origin_Group', 'Z_Scored_Subiculum_T_By_Origin_Group_'] #['Age']"
   ]
  },
  {
   "cell_type": "code",
   "execution_count": null,
   "metadata": {},
   "outputs": [],
   "source": [
    "data_df = cal_palm.standardize_columns(cols_not_to_standardize)\n",
    "data_df"
   ]
  },
  {
   "cell_type": "code",
   "execution_count": null,
   "metadata": {},
   "outputs": [],
   "source": [
    "data_df.columns"
   ]
  },
  {
   "cell_type": "markdown",
   "metadata": {},
   "source": [
    "# 02 - Define Your Formula\n",
    "\n",
    "This is the formula relating outcome to predictors, and takes the form:\n",
    "- y = B0 + B1 + B2 + B3 + . . . BN\n",
    "\n",
    "It is defined using the columns of your dataframe instead of the variables above:\n",
    "- 'Apples_Picked ~ hours_worked + owns_apple_picking_machine'\n",
    "\n",
    "____\n",
    "**ANOVA**\n",
    "- Tests differences in means for one categorical variable.\n",
    "- formula = 'Outcome ~ C(Group1)'\n",
    "\n",
    "**2-Way ANOVA**\n",
    "- Tests differences in means for two categorical variables without interaction.\n",
    "- formula = 'Outcome ~ C(Group1) + C(Group2)'\n",
    "\n",
    "**2-Way ANOVA with Interaction**\n",
    "- Tests for interaction effects between two categorical variables.\n",
    "- formula = 'Outcome ~ C(Group1) * C(Group2)'\n",
    "\n",
    "**ANCOVA**\n",
    "- Similar to ANOVA, but includes a covariate to control for its effect.\n",
    "- formula = 'Outcome ~ C(Group1) + Covariate'\n",
    "\n",
    "**2-Way ANCOVA**\n",
    "- Extends ANCOVA with two categorical variables and their interaction, controlling for a covariate.\n",
    "- formula = 'Outcome ~ C(Group1) * C(Group2) + Covariate'\n",
    "\n",
    "**Multiple Regression**\n",
    "- Assesses the impact of multiple predictors on an outcome.\n",
    "- formula = 'Outcome ~ Predictor1 + Predictor2'\n",
    "\n",
    "**Simple Linear Regression**\n",
    "- Assesses the impact of a single predictor on an outcome.\n",
    "- formula = 'Outcome ~ Predictor'\n",
    "\n",
    "**MANOVA**\n",
    "- Assesses multiple dependent variables across groups.\n",
    "- Note: Not typically set up with a formula in statsmodels. Requires specialized functions.\n",
    "\n",
    "____\n",
    "Use the printout below to design your formula. \n",
    "- Left of the \"~\" symbol is the thing to be predicted. \n",
    "- Right of the \"~\" symbol are the predictors. \n",
    "- \":\" indicates an interaction between two things. \n",
    "- \"*\" indicates and interactions AND it accounts for the simple effects too. \n",
    "- \"+\" indicates that you want to add another predictor. "
   ]
  },
  {
   "cell_type": "code",
   "execution_count": null,
   "metadata": {},
   "outputs": [],
   "source": [
    "data_df.columns"
   ]
  },
  {
   "cell_type": "code",
   "execution_count": null,
   "metadata": {},
   "outputs": [],
   "source": [
    "formula = \"TOTALMOD ~ local_z6_csf_paths + Age + Sex\""
   ]
  },
  {
   "cell_type": "markdown",
   "metadata": {},
   "source": [
    "# 02 - Visualize Your Design Matrix\n",
    "\n",
    "This is the explanatory variable half of your regression formula\n",
    "_______________________________________________________\n",
    "Create Design Matrix: Use the create_design_matrix method. You can provide a list of formula variables which correspond to column names in your dataframe.\n",
    "\n",
    "- voxelwise_variable = name of the variable in your formula which contains nifti paths.\n",
    "- By default, an intercept will be added unless you set intercept=False\n",
    "- **don't explicitly add the 'intercept' column. I'll do it for you.**"
   ]
  },
  {
   "cell_type": "code",
   "execution_count": null,
   "metadata": {},
   "outputs": [],
   "source": [
    "voxelwise_variable='local_z6_csf_paths'"
   ]
  },
  {
   "cell_type": "code",
   "execution_count": null,
   "metadata": {},
   "outputs": [],
   "source": [
    "# Define the design matrix\n",
    "outcome_matrix, design_matrix = cal_palm.define_design_matrix(formula, data_df, voxelwise_variable=voxelwise_variable)\n",
    "design_matrix"
   ]
  },
  {
   "cell_type": "markdown",
   "metadata": {},
   "source": [
    "# 03 - Visualize Your Dependent Variable\n",
    "\n",
    "I have generated this for you based on the formula you provided"
   ]
  },
  {
   "cell_type": "code",
   "execution_count": null,
   "metadata": {},
   "outputs": [],
   "source": [
    "outcome_matrix"
   ]
  },
  {
   "cell_type": "markdown",
   "metadata": {},
   "source": [
    "# 04 - Generate Nifti Files"
   ]
  },
  {
   "cell_type": "code",
   "execution_count": null,
   "metadata": {},
   "outputs": [],
   "source": [
    "cal_palm.generate_voxelwise_cov_4d_nifti(design_matrix, voxelwise_variable)\n",
    "cal_palm.generate_univariate_4d_niftis(design_matrix, voxelwise_variable)\n",
    "cal_palm.generate_4d_dependent_variable_nifti(outcome_matrix, design_matrix, voxelwise_variable)"
   ]
  },
  {
   "cell_type": "markdown",
   "metadata": {},
   "source": [
    "# 05 - Run the Regression\n",
    "- Going to use manual linear regression here to vectorize and maintain speed. \n",
    "    - Will be necessary to compare to a voxelwise for-looped linear regression\n",
    "    this may actually be too computationally intensive to achieve with complete matrix multiplication, at least locally."
   ]
  },
  {
   "cell_type": "markdown",
   "metadata": {},
   "source": [
    "SLOW AND CHEAP FOR LOOP. 90S PER EVALUATION \n",
    "- THIS IS LIKELY IDEAL DUE TO NATURE OF CPUS ON CLUSTER. SMALL RAM, MANY CPUS, WILL TOLERATE THIS METHOD WELL AND WE WILL GET LOTS OF RESOURCES ALLOCATED EASILY. \n",
    "- "
   ]
  },
  {
   "cell_type": "code",
   "execution_count": null,
   "metadata": {},
   "outputs": [],
   "source": [
    "## Manual Code Exposed Prior to Cleaned OOP \n",
    "import numpy as np\n",
    "import nibabel as nib\n",
    "import os\n",
    "from sklearn.linear_model import LinearRegression\n",
    "from tqdm import tqdm\n",
    "\n",
    "\n",
    "# 1 - IMPORT THE ARRAYS\n",
    "## this will be output by organized lists returned from the 4D array generator step previously. \n",
    "Y_arr = nib.load('/Users/cu135/Dropbox (Partners HealthCare)/studies/voxelwise_lin_reg/4d_niftis/TOTALMOD.nii').get_fdata()\n",
    "X0 = nib.load('/Users/cu135/Dropbox (Partners HealthCare)/studies/voxelwise_lin_reg/4d_niftis/Intercept.nii').get_fdata()\n",
    "X1 = nib.load('/Users/cu135/Dropbox (Partners HealthCare)/studies/voxelwise_lin_reg/4d_niftis/local_z6_csf_paths.nii').get_fdata()\n",
    "X2 = nib.load('/Users/cu135/Dropbox (Partners HealthCare)/studies/voxelwise_lin_reg/4d_niftis/Age.nii').get_fdata()\n",
    "X3 = nib.load('/Users/cu135/Dropbox (Partners HealthCare)/studies/voxelwise_lin_reg/4d_niftis/Sex[T.M].nii').get_fdata()\n",
    "\n",
    "# 2 - RESHAPE ARRAYS INTO ARRAYS OF SHAPE = (VOXELS, PATIENTS) \n",
    "X0 = X0.reshape(-1, X0.shape[-1])\n",
    "X1 = X1.reshape(-1, X1.shape[-1])\n",
    "X2 = X2.reshape(-1, X2.shape[-1])\n",
    "X3 = X3.reshape(-1, X3.shape[-1])\n",
    "Y = Y_arr.reshape(-1, Y_arr.shape[-1])\n",
    "\n",
    "# 2.5 - MASK\n",
    "mask = nib.load('/Users/cu135/Library/CloudStorage/OneDrive-Personal/OneDrive_Documents/Work/Software/Research/nimlab/nimlab/data/MNI152_T1_2mm_brain_mask.nii').get_fdata().reshape(-1, 1)\n",
    "mask_indices = mask > 0\n",
    "mask_indices = mask_indices.flatten()\n",
    "\n",
    "# Apply mask\n",
    "X0 = X0[mask_indices]\n",
    "X1 = X1[mask_indices]\n",
    "X2 = X2[mask_indices]\n",
    "X3 = X3[mask_indices]\n",
    "Y = Y[mask_indices]\n",
    "print(X0.shape,X1.shape,X2.shape,X3.shape,Y.shape)\n",
    "\n",
    "# 3 - COMBINE THEM IN THE 3RD DIMENSION (3D design matrix), SHAPE = [VOXELS, PATIENTS, COVARIATES]\n",
    "X_ARR = np.concatenate((X0[:, :, np.newaxis], X1[:, :, np.newaxis], X2[:, :, np.newaxis], X3[:, :, np.newaxis]), axis=2)\n",
    "print(X_ARR.shape)\n",
    "\n",
    "# 4 - REGRESS\n",
    "# Initialize an empty array to store coefficients for each voxel\n",
    "coefficients = np.zeros((X_ARR.shape[0], X_ARR.shape[2]))\n",
    "t_values = np.zeros((X_ARR.shape[0], X_ARR.shape[2]))\n",
    "\n",
    "# Iterate over each voxel and perform regression\n",
    "for voxel_idx in tqdm(range(X_ARR.shape[0]), desc='Voxels'):\n",
    "    X_voxel = X_ARR[voxel_idx, :, :]\n",
    "    Y_voxel = Y[voxel_idx, :].reshape(-1, 1)  # Reshape Y_voxel to have two dimensions\n",
    "\n",
    "    # Perform regression\n",
    "    reg = LinearRegression().fit(X_voxel, Y_voxel)\n",
    "\n",
    "    # Coefficients\n",
    "    coefficients[voxel_idx, :] = reg.coef_.flatten()\n",
    "    try:\n",
    "        # Compute standard errors of coefficients\n",
    "        var_beta = np.diag(np.dot(X_voxel, np.dot(np.linalg.inv(np.dot(X_voxel.T, X_voxel)), X_voxel.T)))\n",
    "\n",
    "        # Calculate standard errors of coefficients\n",
    "        std_err = np.sqrt(var_beta)\n",
    "\n",
    "        # Calculate t-values\n",
    "        t_values[voxel_idx, :] = coefficients[voxel_idx, :] / std_err\n",
    "    # The prediction of variance of the coefficient using X(X*X')-1X can be unstable. \n",
    "    except:\n",
    "        t_values[voxel_idx, :] = 0\n",
    "    "
   ]
  },
  {
   "cell_type": "markdown",
   "metadata": {},
   "source": [
    "SUPER FAST, SUPER EXPENSIVE MEMORY VERSION < 60S"
   ]
  },
  {
   "cell_type": "code",
   "execution_count": null,
   "metadata": {},
   "outputs": [],
   "source": [
    "## Manual Code Exposed Prior to Cleaned OOP \n",
    "import numpy as np\n",
    "import nibabel as nib\n",
    "import os\n",
    "\n",
    "## Manual Code Exposed Prior to Cleaned OOP \n",
    "import numpy as np\n",
    "import nibabel as nib\n",
    "import os\n",
    "from sklearn.linear_model import LinearRegression\n",
    "from tqdm import tqdm\n",
    "\n",
    "\n",
    "# 1 - IMPORT THE ARRAYS\n",
    "## this will be output by organized lists returned from the 4D array generator step previously. \n",
    "Y_arr = nib.load('/Users/cu135/Dropbox (Partners HealthCare)/studies/voxelwise_lin_reg/4d_niftis/TOTALMOD.nii').get_fdata()\n",
    "X0 = nib.load('/Users/cu135/Dropbox (Partners HealthCare)/studies/voxelwise_lin_reg/4d_niftis/Intercept.nii').get_fdata()\n",
    "X1 = nib.load('/Users/cu135/Dropbox (Partners HealthCare)/studies/voxelwise_lin_reg/4d_niftis/local_z6_csf_paths.nii').get_fdata()\n",
    "X2 = nib.load('/Users/cu135/Dropbox (Partners HealthCare)/studies/voxelwise_lin_reg/4d_niftis/Age.nii').get_fdata()\n",
    "X3 = nib.load('/Users/cu135/Dropbox (Partners HealthCare)/studies/voxelwise_lin_reg/4d_niftis/Sex[T.M].nii').get_fdata()\n",
    "\n",
    "# 2 - RESHAPE ARRAYS INTO ARRAYS OF SHAPE = (VOXELS, PATIENTS) \n",
    "X0 = X0.reshape(-1, X0.shape[-1])\n",
    "X1 = X1.reshape(-1, X1.shape[-1])\n",
    "X2 = X2.reshape(-1, X2.shape[-1])\n",
    "X3 = X3.reshape(-1, X3.shape[-1])\n",
    "Y = Y_arr.reshape(-1, Y_arr.shape[-1])\n",
    "\n",
    "# 2.5 - MASK\n",
    "mask = nib.load('/Users/cu135/Library/CloudStorage/OneDrive-Personal/OneDrive_Documents/Work/Software/Research/nimlab/nimlab/data/MNI152_T1_2mm_brain_mask.nii').get_fdata().reshape(-1, 1)\n",
    "mask_indices = mask > 0\n",
    "mask_indices = mask_indices.flatten()\n",
    "\n",
    "# Apply mask\n",
    "X0 = X0[mask_indices]\n",
    "X1 = X1[mask_indices]\n",
    "X2 = X2[mask_indices]\n",
    "X3 = X3[mask_indices]\n",
    "Y = Y[mask_indices]\n",
    "\n",
    "# 3 - COMBINE THEM IN THE 3RD DIMENSION (3D design matrix), SHAPE = [VOXELS, PATIENTS, COVARIATES]\n",
    "X_ARR = np.vstack((X0, X1, X2, X3)).T\n",
    "\n",
    "# 4 - PERFORM A 3-DIMENSIONAL NORMAL EQUATION CALCULATION OF BETAS. SUPER FAST. LOTS OF MEMORY.\n",
    "betas = np.linalg.inv(X_ARR.T @ X_ARR) @ X_ARR.T @ Y\n",
    "\n",
    "print(\"Coefficients for the first voxel:\", betas)"
   ]
  },
  {
   "cell_type": "markdown",
   "metadata": {},
   "source": [
    "# 06 - Permutation\n",
    "- convert above code to a script. \n",
    "- send the 4d niftis to server using \n",
    "     - calvin_utils/notebooks/neuroimaging_notebooks/server_submission_notebooks/submit_multiprocessed_voxelwise_analysis.ipynb\n",
    "- engage 10K permutations using script above on server.\n",
    "    - Save each T-value output to tmp dir. \n",
    "    - concat 10K t-val niftis. \n",
    "    - P-values with \n",
    "        - percentile = np.mean(t_val_empiric.nii>t_val_observed.nii)\n",
    "        - p_vals = percentile > 5\n",
    "        - thresh_t_vals = t_val_observed[p_vals]\n",
    "- Done."
   ]
  },
  {
   "cell_type": "markdown",
   "metadata": {},
   "source": []
  },
  {
   "cell_type": "code",
   "execution_count": null,
   "metadata": {},
   "outputs": [],
   "source": []
  },
  {
   "cell_type": "markdown",
   "metadata": {},
   "source": []
  },
  {
   "cell_type": "code",
   "execution_count": null,
   "metadata": {},
   "outputs": [],
   "source": []
  }
 ],
 "metadata": {
  "kernelspec": {
   "display_name": "nimlab_py310",
   "language": "python",
   "name": "python3"
  },
  "language_info": {
   "codemirror_mode": {
    "name": "ipython",
    "version": 3
   },
   "file_extension": ".py",
   "mimetype": "text/x-python",
   "name": "python",
   "nbconvert_exporter": "python",
   "pygments_lexer": "ipython3",
   "version": "3.10.8"
  }
 },
 "nbformat": 4,
 "nbformat_minor": 4
}
