{
 "cells": [
  {
   "cell_type": "markdown",
   "metadata": {},
   "source": [
    "# 01 - Import the Nifti Files"
   ]
  },
  {
   "cell_type": "code",
   "execution_count": null,
   "metadata": {},
   "outputs": [],
   "source": [
    "from calvin_utils.file_utils.import_matrices import import_matrices_from_csv\n",
    "data_df = import_matrices_from_csv('/Users/cu135/Dropbox (Partners HealthCare)/studies/ccm_memory/metadata/master_file_nifti_paths.csv')\n",
    "data_df"
   ]
  },
  {
   "cell_type": "markdown",
   "metadata": {},
   "source": [
    "# 02 - Mask the Nifti Files"
   ]
  },
  {
   "cell_type": "code",
   "execution_count": null,
   "metadata": {},
   "outputs": [],
   "source": [
    "from calvin_utils.nifti_utils.matrix_utilities import apply_mask_to_dataframe\n",
    "data_df = apply_mask_to_dataframe(data_df, mask_path=None)\n",
    "data_df"
   ]
  },
  {
   "cell_type": "markdown",
   "metadata": {},
   "source": [
    "# 03 - Fisher Z Transform the Nifti Files"
   ]
  },
  {
   "cell_type": "code",
   "execution_count": null,
   "metadata": {},
   "outputs": [],
   "source": [
    "from calvin_utils.nifti_utils.matrix_utilities import fisher_z_transform\n",
    "data_df = data_df.apply(fisher_z_transform)\n"
   ]
  },
  {
   "cell_type": "markdown",
   "metadata": {},
   "source": [
    "# 04 - Unmask the Dataframe"
   ]
  },
  {
   "cell_type": "code",
   "execution_count": null,
   "metadata": {},
   "outputs": [],
   "source": [
    "data_df"
   ]
  },
  {
   "cell_type": "code",
   "execution_count": null,
   "metadata": {},
   "outputs": [],
   "source": [
    "from calvin_utils.nifti_utils.matrix_utilities import unmask_matrix_v2\n",
    "data_df = unmask_matrix_v2(df_1=data_df, mask_path=None)\n",
    "data_df"
   ]
  },
  {
   "cell_type": "markdown",
   "metadata": {},
   "source": [
    "# 05 - Save the Fisher Z Transformed Nifti Files\n",
    "\n",
    "out_dir vs use_colnames_as_paths\n",
    "\n",
    "- use_colnames_as_paths: Uses DataFrame column names as save paths for NIfTI files.\n",
    "- Use out_dir for uniform storage. Use use_colnames_as_paths for custom, per-file storage paths. Assumes each column name is a full path."
   ]
  },
  {
   "cell_type": "code",
   "execution_count": null,
   "metadata": {},
   "outputs": [],
   "source": [
    "from calvin_utils.nifti_utils.generate_nifti import NiftiDataFrameHandler\n",
    "# Initialize the object\n",
    "handler = NiftiDataFrameHandler(data_df, \n",
    "                                out_dir=\"/Users/cu135/Dropbox (Partners HealthCare)/studies/ccm_memory/neuroimaging/derivatives/memory_maps/rFz\", \n",
    "                                use_colnames_as_paths=False)\n",
    "\n",
    "# Run the pipeline\n",
    "handler.run()\n"
   ]
  },
  {
   "cell_type": "markdown",
   "metadata": {},
   "source": [
    "Your Files have been Fisher Z transformed and saved.\n",
    "Enjoy.\n",
    "\n",
    "--Calvin"
   ]
  }
 ],
 "metadata": {
  "kernelspec": {
   "display_name": "nimlab_py310",
   "language": "python",
   "name": "python3"
  },
  "language_info": {
   "codemirror_mode": {
    "name": "ipython",
    "version": 3
   },
   "file_extension": ".py",
   "mimetype": "text/x-python",
   "name": "python",
   "nbconvert_exporter": "python",
   "pygments_lexer": "ipython3",
   "version": "3.10.8"
  },
  "orig_nbformat": 4
 },
 "nbformat": 4,
 "nbformat_minor": 2
}
