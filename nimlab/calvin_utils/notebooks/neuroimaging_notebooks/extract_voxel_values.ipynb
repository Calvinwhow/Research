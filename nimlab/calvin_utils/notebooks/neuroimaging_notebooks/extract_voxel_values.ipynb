{
 "cells": [
  {
   "cell_type": "code",
   "execution_count": null,
   "metadata": {},
   "outputs": [],
   "source": []
  },
  {
   "cell_type": "code",
   "execution_count": 1,
   "metadata": {},
   "outputs": [],
   "source": [
    "import nibabel as nib\n",
    "import pandas as pd\n",
    "import numpy as np\n",
    "\n",
    "def extract_values_from_coordinates(file_paths, coordinates, example_img_path):\n",
    "    \"\"\"\n",
    "    Extract values from NIfTI files based on MNI coordinates and store them in a Pandas DataFrame.\n",
    "    \n",
    "    Parameters:\n",
    "        file_paths (list): List of paths to the NIfTI files.\n",
    "        coordinates (list): List of dictionaries containing MNI coordinates in the form {'x': x_val, 'y': y_val, 'z': z_val}.\n",
    "        example_img_path (str): Path to an example NIfTI image to get the affine matrix from.\n",
    "        \n",
    "    Returns:\n",
    "        pd.DataFrame: DataFrame with NIfTI file paths as rows and coordinates as columns.\n",
    "    \"\"\"\n",
    "    # Load the example NIfTI file to get the affine matrix\n",
    "    example_img = nib.load(example_img_path)\n",
    "    affine = example_img.affine\n",
    "    inv_affine = np.linalg.inv(affine)\n",
    "    \n",
    "    # Initialize an empty DataFrame\n",
    "    df = pd.DataFrame(index=file_paths)\n",
    "    \n",
    "    for coord in coordinates:\n",
    "        col_name = f\"x{coord['x']}_y{coord['y']}_z{coord['z']}\"\n",
    "        values = []\n",
    "        \n",
    "        for file_path in file_paths:\n",
    "            try:\n",
    "                img = nib.load(file_path)\n",
    "            except FileNotFoundError:\n",
    "                print(f\"File not found: {file_path}\")\n",
    "                continue\n",
    "            \n",
    "            data = img.get_fdata()\n",
    "            \n",
    "            mni_coord = np.array([coord['x'], coord['y'], coord['z'], 1])\n",
    "            voxel_coord = np.dot(inv_affine, mni_coord)\n",
    "            i, j, k, _ = np.round(voxel_coord).astype(int)\n",
    "            \n",
    "            try:\n",
    "                value = data[i, j, k]\n",
    "            except IndexError:\n",
    "                print(f\"Invalid coordinate {coord} for file {file_path}\")\n",
    "                value = np.nan\n",
    "            \n",
    "            values.append(value)\n",
    "        \n",
    "        df[col_name] = values\n",
    "    \n",
    "    return df\n"
   ]
  },
  {
   "cell_type": "code",
   "execution_count": null,
   "metadata": {},
   "outputs": [],
   "source": []
  }
 ],
 "metadata": {
  "kernelspec": {
   "display_name": "nimlab_py310",
   "language": "python",
   "name": "python3"
  },
  "language_info": {
   "codemirror_mode": {
    "name": "ipython",
    "version": 3
   },
   "file_extension": ".py",
   "mimetype": "text/x-python",
   "name": "python",
   "nbconvert_exporter": "python",
   "pygments_lexer": "ipython3",
   "version": "3.10.8"
  },
  "orig_nbformat": 4
 },
 "nbformat": 4,
 "nbformat_minor": 2
}
