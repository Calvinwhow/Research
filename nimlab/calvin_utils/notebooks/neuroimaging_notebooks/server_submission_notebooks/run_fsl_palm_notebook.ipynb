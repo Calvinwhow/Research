{
 "cells": [
  {
   "cell_type": "markdown",
   "metadata": {},
   "source": [
    "# Run FSL Palm\n",
    "\n",
    "### Authors: Calvin Howard\n",
    "\n",
    "#### Last updated: July 6, 2023\n",
    "\n",
    "Use this to run/test a statistical model (e.g., regression or T-tests) on lesion network maps (or lesions alone!) using PALM, potentially taking into account specific covariates of interest and/or nuisance regressors.\n",
    "\n",
    "Notes:\n",
    "- To best use this notebook, you should be familar with GLM design and Contrast Matrix design. See this webpage to get started:\n",
    "[FSL's GLM page](https://fsl.fmrib.ox.ac.uk/fsl/fslwiki/GLM)\n",
    "- This notebook is a combination of the old PALM Notebooks and Christopher's palm_analysis notebooks (does the same thing) and requires the NIMLAB Python 3 environment as a kernel. Directions are on the [NIMLAB software_env README.md](https://github.com/nimlab/software_env)\n",
    "- You will need a csv file that provides the paths to your fcMaps, usually created from the [Preprocessing](https://github.com/nimlab/templates/blob/master/py3_notebooks/1_Preprocessing_LesionQA_fcSurfBcbLqtGen_nimtrack.ipynb) notebook.\n",
    "- Christopher wrote up a really nice description of how to modify code to set up your design matrix within the notebook here: [PALM-Analysis](https://github.com/nimlab/documentation/wiki/PALM-experimental-designs)\n",
    "- I would also recommend reviewing Fred's [slides](https://github.com/nimlab/documentation/blob/master/presentations/presentation_palm_multidataset_analyses_labmeeting_13.4.2020.pdf) from his May 2020 lab meeting For details regarding the difference between implementing a random effects and fixed effects analysis and use of exchangeability blocks"
   ]
  },
  {
   "cell_type": "code",
   "execution_count": null,
   "metadata": {},
   "outputs": [],
   "source": [
    "## Packages and environmental settings:\n",
    "\n",
    "##Packages:\n",
    "import os\n",
    "import sys\n",
    "import shutil\n",
    "import numpy as np\n",
    "import pandas as pd\n",
    "from tqdm import tqdm\n",
    "from matplotlib import pyplot as plt\n",
    "from nimlab import software as sf\n",
    "from nimlab import datasets as nimds\n",
    "from nilearn import image, plotting\n",
    "\n",
    "%matplotlib inline"
   ]
  },
  {
   "cell_type": "markdown",
   "metadata": {},
   "source": [
    "# 01 - Create Dependent Variable"
   ]
  },
  {
   "cell_type": "markdown",
   "metadata": {},
   "source": [
    "Option A - Provide a list of Nifti Files"
   ]
  },
  {
   "cell_type": "code",
   "execution_count": null,
   "metadata": {},
   "outputs": [],
   "source": [
    "# Specify the path to your CSV file containing NIFTI paths\n",
    "nifti_path_csv = '/Users/cu135/Dropbox (Partners HealthCare)/studies/ccm_memory/metadata/master_file_nifti_paths_for_palm.csv'\n",
    "output_directory = \"/Users/cu135/Dropbox (Partners HealthCare)/studies/ccm_memory/neuroimaging/derivatives/palm\""
   ]
  },
  {
   "cell_type": "code",
   "execution_count": null,
   "metadata": {
    "tags": []
   },
   "outputs": [],
   "source": [
    "from calvin_utils.permutation_analysis_utils.palm_utils import PalmPreparation\n",
    "\n",
    "# Instantiate the PalmPrepararation class\n",
    "palm_prep = PalmPreparation(out_dir=output_directory)\n",
    "\n",
    "# Call the process_nifti_paths method\n",
    "nifti_df, ordered_nifti_list = palm_prep.process_nifti_paths(nifti_path_csv)\n",
    "\n",
    "# Display nifti_df\n",
    "print(nifti_df)\n"
   ]
  },
  {
   "cell_type": "markdown",
   "metadata": {},
   "source": [
    "Option B - Manual Creation of Voxelwise Target\n",
    "\n",
    "Under work. "
   ]
  },
  {
   "cell_type": "markdown",
   "metadata": {},
   "source": [
    "Preparation of Non-Voxelwise Explanatory Variables"
   ]
  },
  {
   "cell_type": "code",
   "execution_count": null,
   "metadata": {},
   "outputs": [],
   "source": [
    "from calvin_utils.file_utils.dataframe_utilities import preprocess_colnames_for_regression\n",
    "out_dir = '/PHShome/cu135/permutation_tests/fsl_palm'\n",
    "path_to_clinical_data = '/PHShome/cu135/datasets/ad_dns/grey_matter_damage_score_and_outcomes.csv'\n",
    "clinical_df = preprocess_colnames_for_regression(pd.read_csv(path_to_clinical_data))\n",
    "clinical_df.columns"
   ]
  },
  {
   "cell_type": "markdown",
   "metadata": {},
   "source": [
    "Formula-based derivation of design matrix"
   ]
  },
  {
   "cell_type": "code",
   "execution_count": null,
   "metadata": {},
   "outputs": [],
   "source": [
    "# Define the explanatory variable formula\n",
    "# Each variable must be defined as 'Q(\"var_1\"). Interactions are defined as 'Q(\"var_1\"):'Q(\"var_2\")\n",
    "formula_vars = [\n",
    "'Age'\n",
    "]\n",
    "# Define the column containing th subject id\n",
    "subject_id_column = 'Patient___CDR__ADAS'\n",
    "\n",
    "\n",
    "# Create the design matrix#----------------------------------------------------------------\n",
    "design_matrix = create_design_matrix(formula_vars, clinical_df, subject_id_column)\n",
    "# Display the design matrix\n",
    "design_matrix\n"
   ]
  },
  {
   "cell_type": "markdown",
   "metadata": {},
   "source": [
    "Create Voxelwise Explanatory Variables"
   ]
  },
  {
   "cell_type": "code",
   "execution_count": null,
   "metadata": {},
   "outputs": [],
   "source": [
    "nifti_path_dictionary = {\n",
    "    'connectivity': '/PHShome/cu135/memory/file_paths/paths_to__.csv'\n",
    "}\n",
    "#----------------------------------------------------------------DO NOT TOUCH----------------------------------------------------------------\n",
    "# Extracting a dataframe of voxelwise nifti data \n",
    "print('This is the updated design matrix, including voxelwise data as niftis')\n",
    "updated_design_matrix = design_matrix.copy()\n",
    "for k, v in nifti_path_dictionary.items():\n",
    "    _, nifti_df = process_nifti_paths(v);\n",
    "    nifti_df.rename(columns={'nifti_path': k}, inplace=True)\n",
    "    nifti_df.set_index('subject_id', inplace=True, drop=True)\n",
    "    nifti_df.index = nifti_df.index.astype(int)\n",
    "    updated_design_matrix = updated_design_matrix.merge(nifti_df, left_index=True, right_index=True)\n",
    "updated_design_matrix"
   ]
  },
  {
   "cell_type": "markdown",
   "metadata": {},
   "source": [
    "Generate 4-dimensional Niftis for Explanatory variables"
   ]
  },
  {
   "cell_type": "code",
   "execution_count": null,
   "metadata": {},
   "outputs": [],
   "source": [
    "nifti_design_matrix = generate_4d_explanatory_variable_niftis(design_matrix=updated_design_matrix, mask_img=MNI_brain_mask, out_dir=out_dir)\n",
    "nifti_design_matrix"
   ]
  },
  {
   "cell_type": "markdown",
   "metadata": {},
   "source": [
    "Define Interactions In the Data"
   ]
  },
  {
   "cell_type": "code",
   "execution_count": null,
   "metadata": {},
   "outputs": [],
   "source": [
    "interaction_pairs = [\n",
    "    ('Age', 'Age'),\n",
    "    ('Age', 'connectivity')\n",
    "]\n",
    "\n",
    "#----------------------------------------------------------------Do NOT TOUCH_----------------------------------------------------------------\n",
    "if interaction_pairs[0] is not None: \n",
    "    interaction_design_matrix = generate_interaction_design_matrix(nifti_design_matrix, interaction_terms=interaction_pairs)\n",
    "else:\n",
    "    interaction_design_matrix = nifti_design_matrix\n",
    "\n",
    "unique_columns = set(interaction_design_matrix.columns) - set(design_matrix.columns)\n",
    "final_design_matrix = design_matrix.copy()\n",
    "for column in unique_columns:\n",
    "    for col in interaction_design_matrix.columns:\n",
    "        if col in column:\n",
    "            img = nib.load(interaction_design_matrix[column].values[0])\n",
    "            img_data = img.get_fdata()\n",
    "\n",
    "            # Compute mean value for each i in 4th dimension\n",
    "            img_df = pd.DataFrame(img_data.reshape(-1, img_data.shape[3])).dropna()\n",
    "            \n",
    "            brain_mask_data = np.nan_to_num(MNI_brain_mask.get_fdata(), nan=0, posinf=0, neginf=0)\n",
    "            img_df_masked = img_df[brain_mask_data.flatten() > 0]\n",
    "            mean_values = np.nanmean(img_df_masked.values, axis=(0))\n",
    "            \n",
    "            # Create a new column in final_design_matrix with the mean values\n",
    "            final_design_matrix[f'voxelwise_{column}'] = mean_values\n",
    "        else:\n",
    "            continue\n",
    "if 'Intercept' in final_design_matrix.columns:\n",
    "    voxelwise_evs = [(interaction_design_matrix[column].values[0], final_design_matrix.columns.get_loc(f'voxelwise_{column}')) for column in unique_columns]\n",
    "else:\n",
    "    voxelwise_evs = [(interaction_design_matrix[column].values[0], final_design_matrix.columns.get_loc(f'voxelwise_{column}')+1) for column in unique_columns]\n",
    "print('These are the files that will be passed as a voxelwise explanatory variable (a voxelwise_ev): \\n')\n",
    "[print(f'file: {voxelwise_ev[0]} at column {voxelwise_ev[1]} in the design matrix \\n') for voxelwise_ev in voxelwise_evs]\n",
    "final_design_matrix\n",
    "\n"
   ]
  },
  {
   "cell_type": "code",
   "execution_count": null,
   "metadata": {},
   "outputs": [],
   "source": [
    "print('These are the files that will be passed as a voxelwise explanatory variable (a voxelwise_ev): \\n')\n",
    "[print(f'file: {voxelwise_ev[0]} at column {voxelwise_ev[1]} in the design matrix \\n') for voxelwise_ev in voxelwise_evs]\n",
    "final_design_matrix"
   ]
  },
  {
   "cell_type": "code",
   "execution_count": null,
   "metadata": {},
   "outputs": [],
   "source": [
    "# Each variable must be defined as 'Q(\"var_1\"). Interactions are defined as 'Q(\"var_1\"):'Q(\"var_2\")\n",
    "dependent_variable = [\n",
    "'__Change_from_baseline__ADAS_Cog11_'\n",
    "]\n",
    "# Define the column containing th subject id\n",
    "subject_id_column = 'Patient___CDR__ADAS'\n",
    "\n",
    "\n",
    "#----------------------------------------------------------------\n",
    "dependent_df = create_design_matrix(dependent_variable, clinical_df, subject_id_column)\n",
    "# Ensure the subjects used correspond identically to the design_matrix. \n",
    "# Compare the indices of dependent_df and final_design_matrix\n",
    "if not dependent_df.index.equals(final_design_matrix.index):\n",
    "    raise ValueError(\"Indices of dependent_df and final_design_matrix do not match.\")\n",
    "\n",
    "# Resample dependent_df based on final_design_matrix.index if the indices are not identical\n",
    "if not dependent_df.index.equals(final_design_matrix.index):\n",
    "    dependent_df = dependent_df.loc[final_design_matrix.index].copy()\n",
    "\n",
    "# Display the design matrix\n",
    "dependent_df.pop('Intercept')\n",
    "dependent_df"
   ]
  },
  {
   "cell_type": "code",
   "execution_count": null,
   "metadata": {},
   "outputs": [],
   "source": [
    "#---------------------------------------------------------DO NOT MODIFY--------------------------------------------------------\n",
    "ordered_image_list = generate_dependent_variable_niftis(dependent_df, mask_img=MNI_brain_mask, out_dir=out_dir)\n",
    "print('Below is the ordered list of niftis which will be passed as the dependent variable')\n",
    "ordered_image_list\n",
    "len(ordered_image_list)"
   ]
  },
  {
   "cell_type": "markdown",
   "metadata": {},
   "source": [
    "# 02 - Generate Design Matrix"
   ]
  },
  {
   "cell_type": "markdown",
   "metadata": {},
   "source": [
    "create_design_matrix(self, \n",
    "formula_vars=None, \n",
    "data_df=None, \n",
    "subject_id_column=None, \n",
    "subject_ids=None):"
   ]
  },
  {
   "cell_type": "code",
   "execution_count": null,
   "metadata": {},
   "outputs": [],
   "source": [
    "# Call the create_design_matrix method to generate a design matrix with only an intercept\n",
    "design_matrix = palm_prep.create_design_matrix(subject_ids=nifti_df['subject_id'].tolist())\n",
    "\n",
    "# Display the design matrix\n",
    "print(design_matrix)"
   ]
  },
  {
   "cell_type": "markdown",
   "metadata": {},
   "source": [
    "# 03 - Generate Contrast Matrix"
   ]
  },
  {
   "cell_type": "markdown",
   "metadata": {},
   "source": [
    "Generate a Contrast Matrix\n",
    "- This is different from the contrast matrices used in cell-means regressions such as in PALM, but it is much more powerful. \n",
    "\n",
    "\n",
    "\n",
    "For more information on contrast matrices, please refer to this: https://cran.r-project.org/web/packages/codingMatrices/vignettes/codingMatrices.pdf\n",
    "\n",
    "Generally, these drastically effect the results of ANOVA. However, they are mereley a nuisance for a regression.\n",
    "In essence, they assess the coefficients of a given\n",
    "\n",
    "________________________________________________________________\n",
    "A coding matrix (a contrast matrix if it sums to zero) is simply a way of defining what coefficients to evaluate and how to evaluate them. \n",
    "If a coefficient is set to 1 and everything else is set to zero, we are taking the mean of the coefficient's means and assessing if they significantly\n",
    "deviate from zero--IE we are checking if it had a significant impact on the ability to predict the depdendent variable.\n",
    "If a coefficient is set to 1, another is -1, and others are 0, we are assessing how the means of the two coefficients deviate from eachother. \n",
    "If several coefficients are 1 and several others are -1, we are assessing how the group-level means of the two coefficients deviate from eachother.\n",
    "If a group of coefficients are 1, a group is -1, and a group is 0, we are only assessing how the groups +1 and -1 have differing means. \n",
    "\n",
    "1: This value indicates that the corresponding variable's coefficient in the model is included in the contrast. It means you are interested in estimating the effect of that variable.\n",
    "\n",
    "0: This value indicates that the corresponding variable's coefficient in the model is not included in the contrast. It means you are not interested in estimating the effect of that variable.\n",
    "\n",
    "-1: This value indicates that the corresponding variable's coefficient in the model is included in the contrast, but with an opposite sign. It means you are interested in estimating the negative effect of that variable.\n",
    "\n",
    "----------------------------------------------------------------\n",
    "The contrast matrix is typically a matrix with dimensions (number of contrasts) x (number of regression coefficients). Each row of the contrast matrix represents a contrast or comparison you want to test.\n",
    "\n",
    "For example, let's say you have the following regression coefficients in your model:\n",
    "\n",
    "Intercept, Age, connectivity, Age_interaction_connectivity\n",
    "A contrast matric has dimensions of [n_predictors, n_experiments] where each experiment is a contrast\n",
    "\n",
    "If you want to test the hypothesis that the effect of Age is significant, you can set up a contrast matrix with a row that specifies this contrast (actually an averaging vector):\n",
    "```\n",
    "[0,1,0,0]. This is an averaging vector because it sums to 1\n",
    "```\n",
    "This contrast will test the coefficient corresponding to the Age variable against zero.\n",
    "\n",
    "\n",
    "If you want to test the hypothesis that the effect of Age is different from the effect of connectivity, you can set up a contrast matrix with two rows:\n",
    "```\n",
    "[0,1,−1,0]. This is a contrast because it sums to 0\n",
    "```\n",
    "\n",
    "Thus, if you want to see if any given effect is significant compared to the intercept (average), you can use the following contrast matrix:\n",
    "```\n",
    "[1,0,0,0]\n",
    "[-1,1,0,0]\n",
    "[-1,0,1,0]\n",
    "[-1,0,0,1] actually a coding matrix of averaging vectors\n",
    "```\n",
    "\n",
    "The first row tests the coefficient for Age against zero, and the second row tests the coefficient for connectivity against zero. The difference between the two coefficients can then be assessed.\n",
    "_____\n",
    "You can define any number of contrasts in the contrast matrix to test different hypotheses or comparisons of interest in your regression analysis.\n",
    "\n",
    "It's important to note that the specific contrasts you choose depend on your research questions and hypotheses. You should carefully consider the comparisons you want to make and design the contrast matrix accordingly.\n",
    "\n",
    "- Examples:\n",
    "    - [Two Sample T-Test](https://fsl.fmrib.ox.ac.uk/fsl/fslwiki/GLM#Two-Group_Difference_.28Two-Sample_Unpaired_T-Test.29)\n",
    "    - [One Sample with Covariate](https://fsl.fmrib.ox.ac.uk/fsl/fslwiki/GLM#Single-Group_Average_with_Additional_Covariate)"
   ]
  },
  {
   "cell_type": "code",
   "execution_count": null,
   "metadata": {},
   "outputs": [],
   "source": [
    "# Generate the basic contrast matrix and display it\n",
    "contrast_matrix = palm_prep.generate_basic_contrast_matrix(design_matrix)\n",
    "\n",
    "# If you want to modify the contrast_matrix, do it here\n",
    "# contrast_matrix = "
   ]
  },
  {
   "cell_type": "code",
   "execution_count": null,
   "metadata": {},
   "outputs": [],
   "source": [
    "# Save the contrast matrix to a CSV file\n",
    "contrast_matrix = palm_prep.save_contrast_matrix_to_csv(design_matrix=design_matrix, contrast_matrix=contrast_matrix, file_name=\"palm_contrast_matrix.csv\")"
   ]
  },
  {
   "cell_type": "markdown",
   "metadata": {},
   "source": [
    "# 04 - Exchangeability Blocks (optional)"
   ]
  },
  {
   "cell_type": "markdown",
   "metadata": {},
   "source": [
    "Optional - Exchangability Blocks\n",
    "- This is optional and for when you are doing a 'meta-analysis' of multiple data types, e.g. strokes and DBS sites\n",
    "- This is a column of integers that can usually be generated from the dataset names. Details on the [PALM website](https://fsl.fmrib.ox.ac.uk/fsl/fslwiki/PALM/ExchangeabilityBlocks)\n",
    "- To use this, add the following to the `call_palm` command below `eb=eb_matrix`."
   ]
  },
  {
   "cell_type": "code",
   "execution_count": null,
   "metadata": {},
   "outputs": [],
   "source": [
    "### This is just an example, you will have to edit to adapt to your data, \n",
    "### but it should be integers, starting with 1,2,3....\n",
    "\n",
    "# coding_key = {\"Prosopagnosia_w_Yeo1000\": 1,\n",
    "#              \"Corbetta_Lesions\": 1,\n",
    "#              \"DBS_dataset\": 2\n",
    "#              }\n",
    "\n",
    "# eb_matrix = pd.DataFrame()\n",
    "# eb_matrix = clean_df['dataset'].replace(coding_key)\n",
    "# display(eb_matrix)"
   ]
  },
  {
   "cell_type": "markdown",
   "metadata": {},
   "source": [
    "# 05 - Submit to PALM"
   ]
  },
  {
   "cell_type": "code",
   "execution_count": null,
   "metadata": {},
   "outputs": [],
   "source": [
    "# Edit this according to documentation page\n",
    "cluster_username = 'cu135'\n",
    "cluster_email = 'choward12@bwh.harvard.edu'\n",
    "number_of_permutations=10000"
   ]
  },
  {
   "cell_type": "code",
   "execution_count": null,
   "metadata": {},
   "outputs": [],
   "source": [
    "# Current best default settings:\n",
    "# palm_prep = PalmPreparation(out_dir=output_directory)\n",
    "palm_prep.calvins_call_palm(input_imgs=ordered_nifti_list,\n",
    "             design_matrix=design_matrix,\n",
    "             contrast_matrix=contrast_matrix,\n",
    "             working_directory=None,\n",
    "             output_directory=None,\n",
    "             iterations=number_of_permutations,\n",
    "             accel=\"tail\",\n",
    "             voxelwise_evs=None,\n",
    "             eb=None,\n",
    "             mask=\"\",\n",
    "             save_1p=True,\n",
    "             logp=False,\n",
    "             tfce=False,\n",
    "             ise_flag=False,\n",
    "             two_tailed_flag=True,\n",
    "             corrcon_flag=False,\n",
    "             fdr_flag=False,\n",
    "             cluster_name=\"erisone\",\n",
    "             username=cluster_username,\n",
    "             cluster_email=cluster_email,\n",
    "             queue=\"normal\",\n",
    "             cores=\"1\",\n",
    "             memory=\"6000\",\n",
    "             dryrun=False,\n",
    "             job_name=\"fsl_palm\",\n",
    "             job_time=\"\",\n",
    "             num_nodes=\"\",\n",
    "             num_tasks=\"\",\n",
    "             x11_forwarding=\"\",\n",
    "             service_class=\"\",\n",
    "             debug=False,\n",
    "             extra=\"\"\n",
    "    )"
   ]
  },
  {
   "cell_type": "markdown",
   "metadata": {},
   "source": [
    "Results\n",
    "\n",
    "Notes: \n",
    "- I have intentionally left the function definition here so that you can modify it as needed. Note the option for slices, cmap, and vmax are currently set inside the function to keep all the maps comparable. If this is clunkly, we can change this.\n",
    "- Note the p-value is given as 1-p (so put 0.95 for p<0.05...)"
   ]
  },
  {
   "cell_type": "code",
   "execution_count": null,
   "metadata": {},
   "outputs": [],
   "source": [
    "# Function that thresholds Tmaps using a specified p-value map and alpha level\n",
    "def thresholded_PALM_Tmap(output_dir,tvalue_file='_vox_tstat.nii', pvalue_file='_vox_tstat_fwep.nii', threshold='0.95',showT=False):\n",
    "    tvalue_map = image.math_img(\"a*b\",a=os.path.join(output_dir,tvalue_file),b=MNI_brain_mask)\n",
    "    pvalue_map = os.path.join(output_dir,pvalue_file)\n",
    "    pvalue_mask = image.math_img(f'MNI_brain_mask * img > {threshold}', img=pvalue_map, MNI_brain_mask=MNI_brain_mask)\n",
    "    combined = image.math_img(\"a*b\",a=tvalue_map,b=pvalue_mask)\n",
    "    print(\"There are\",np.sum(pvalue_mask.get_fdata()),\"non-zero voxels in this maps\")\n",
    "    if showT:\n",
    "        plotting.plot_stat_map(tvalue_map, \n",
    "                display_mode=\"z\", cut_coords=[-42,-24,-12,0,12,24,42,54], cmap=\"cold_hot\", colorbar=True, title=tvalue_file, vmax=6)\n",
    "    plotting.plot_stat_map(combined, \n",
    "                display_mode=\"z\", cut_coords=[-42,-24,-12,0,12,24,42,54], cmap=\"cold_hot\", colorbar=True,title=pvalue_file, vmax=6)\n",
    "\n",
    "    \n",
    "print(\"FWE\")\n",
    "thresholded_PALM_Tmap(output_dir,tvalue_file='_vox_tstat_c2.nii', pvalue_file='_vox_tstat_fwep_c2.nii', threshold='0.95',showT=True)\n",
    "\n",
    "print(\"FDR\")\n",
    "thresholded_PALM_Tmap(output_dir,tvalue_file='_vox_tstat.nii', pvalue_file='_vox_tstat_fdrp.nii', threshold='0.95')\n",
    "\n",
    "print(\"uncorrected\")\n",
    "thresholded_PALM_Tmap(output_dir,tvalue_file='_vox_tstat.nii', pvalue_file='_vox_tstat_uncp.nii', threshold='0.95')\n",
    "\n",
    "# print(\"TFCE FWE\")\n",
    "# thresholded_PALM_Tmap(output_dir,tvalue_file='_tfce_tstat.nii', pvalue_file='_tfce_tstat_fwep.nii', threshold='0.95')"
   ]
  },
  {
   "cell_type": "markdown",
   "metadata": {},
   "source": [
    "Clean Up"
   ]
  },
  {
   "cell_type": "code",
   "execution_count": null,
   "metadata": {},
   "outputs": [],
   "source": [
    "# Clean up the big temporary file to keep result directories small:\n",
    "try:\n",
    "    os.remove(os.path.join(working_dir,'concat.nii'))\n",
    "except:\n",
    "    print('No concat file to delete.')"
   ]
  }
 ],
 "metadata": {
  "kernelspec": {
   "display_name": "nimlab_py310",
   "language": "python",
   "name": "python3"
  },
  "language_info": {
   "codemirror_mode": {
    "name": "ipython",
    "version": 3
   },
   "file_extension": ".py",
   "mimetype": "text/x-python",
   "name": "python",
   "nbconvert_exporter": "python",
   "pygments_lexer": "ipython3",
   "version": "3.10.8"
  }
 },
 "nbformat": 4,
 "nbformat_minor": 4
}
