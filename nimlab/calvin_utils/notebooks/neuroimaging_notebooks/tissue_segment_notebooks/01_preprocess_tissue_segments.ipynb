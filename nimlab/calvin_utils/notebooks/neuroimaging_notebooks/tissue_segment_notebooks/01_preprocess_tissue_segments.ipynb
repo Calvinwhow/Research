{
 "cells": [
  {
   "cell_type": "markdown",
   "metadata": {},
   "source": [
    "Imports"
   ]
  },
  {
   "cell_type": "code",
   "execution_count": null,
   "metadata": {},
   "outputs": [],
   "source": [
    "\n",
    "import os\n",
    "import glob\n",
    "import pandas as pd\n",
    "import numpy as np\n",
    "from matplotlib import pyplot as plt\n",
    "import platform\n",
    "import warnings\n",
    "warnings.filterwarnings('ignore')\n",
    "import seaborn as sns\n",
    "\n",
    "from sklearn.decomposition import PCA\n",
    "subject_id = '<subject_id>'"
   ]
  },
  {
   "cell_type": "markdown",
   "metadata": {},
   "source": [
    "Here's a brief markup that explains the purpose and usage of the `segments_dict`:\n",
    "\n",
    "---\n",
    "\n",
    "## Neuroimaging File Extraction Dictionary\n",
    "\n",
    "The `segments_dict` is a predefined dictionary structured to facilitate the extraction of specific types of neuroimaging files. Each key in the dictionary represents a distinct neuroimaging segment, and its associated value is another dictionary containing the following fields:\n",
    "\n",
    "- **path**: This should be filled with the absolute path to the base directory containing the neuroimaging files for the corresponding segment. \n",
    "- **glob_name_pattern**: This is the string pattern that will be used to \"glob\" or search for the specific files within the provided path. It helps in identifying and extracting the desired files based on their naming conventions.\n",
    "\n",
    "Here's a breakdown of the segments and their respective fields:\n",
    "\n",
    "### 1. Cerebrospinal Fluid (CSF)\n",
    "- **path**: Absolute path to the base directory containing CSF files.\n",
    "- **glob_name_pattern**: File pattern to search for CSF files.\n",
    "\n",
    "### 2. Grey Matter\n",
    "- **path**: Absolute path to the base directory containing grey matter files.\n",
    "- **glob_name_pattern**: File pattern to search for grey matter files.\n",
    "\n",
    "### 3. White Matter\n",
    "- **path**: Absolute path to the base directory containing white matter files.\n",
    "- **glob_name_pattern**: File pattern to search for white matter files.\n",
    "\n",
    "---\n",
    "\n",
    "**Instructions**: Please fill out the `path` and `glob_name_pattern` fields for each segment in the `segments_dict`. This will ensure that the extraction process can locate and identify the appropriate neuroimaging files for further analysis.\n",
    "\n",
    "---"
   ]
  },
  {
   "cell_type": "markdown",
   "metadata": {},
   "source": [
    "Define Nifti Information"
   ]
  },
  {
   "cell_type": "code",
   "execution_count": null,
   "metadata": {},
   "outputs": [],
   "source": [
    "base_directory = r'/Users/cu135/Dropbox (Partners HealthCare)/resources/datasets/ADNI/NIFTIS/true_control/cat_12_results/cat_12mri'\n",
    "grey_matter_glob_name_pattern = '*mwp1*'\n",
    "white_matter_glob_name_pattern = '*mwp2*'\n",
    "csf_glob_name_pattern = '*mwp3*'"
   ]
  },
  {
   "cell_type": "markdown",
   "metadata": {},
   "source": [
    "Downsample Niftis"
   ]
  },
  {
   "cell_type": "code",
   "execution_count": null,
   "metadata": {},
   "outputs": [],
   "source": [
    "import os\n",
    "import glob\n",
    "from nilearn import image as nli\n",
    "from nilearn.image import resample_to_img\n",
    "import nibabel as nib\n",
    "import nibabel.processing\n",
    "from tqdm import tqdm\n",
    "from nimlab import datasets as nimds\n",
    "\n",
    "\n",
    "def downsample_image(input_path, output_path):\n",
    "    \"\"\"\n",
    "    Function to downsample a 3D image to a new voxel size using a target affine.\n",
    "    \n",
    "    Args:\n",
    "    input_path (str): Filepath to the input image.\n",
    "    output_path (str): Filepath to save the output image.\n",
    "    target_voxel_size (list): Target voxels to resample to.\n",
    "    \"\"\"\n",
    "    # Load the image\n",
    "    img = nib.load(input_path)\n",
    "    mni_mask = nimds.get_img(\"mni_icbm152\")\n",
    "    \n",
    "    # Downsample the image using the target affine\n",
    "    resampled_img = resample_to_img(img, mni_mask)\n",
    "\n",
    "    # Save the downsampled image\n",
    "    nib.save(resampled_img, output_path)\n",
    "    \n",
    "mni_mask = nimds.get_img(\"mni_icbm152\")\n",
    "mask_data = mni_mask.get_fdata().flatten()\n",
    "\n",
    "def downsample_to_mni152_images_in_folder(input_folder_pattern, dry_run=True):\n",
    "    \"\"\"\n",
    "    Function to downsample all 3D images in a folder to a new voxel size.\n",
    "    \n",
    "    Args:\n",
    "    input_folder_pattern (str): Glob pattern to find the input images.\n",
    "    target_voxel_size (list): Target voxels to resample to.\n",
    "    \"\"\"\n",
    "    # Find all input image filepaths\n",
    "    input_filepaths = glob.glob(input_folder_pattern)\n",
    "    print('Will search:, ', input_folder_pattern)\n",
    "\n",
    "    # Loop over each input image\n",
    "    output_path_list = []\n",
    "    for input_path in tqdm(input_filepaths):\n",
    "        # Define the output path\n",
    "        base, ext = os.path.splitext(input_path)\n",
    "        if ext == '.gz':\n",
    "            base, ext2 = os.path.splitext(base)\n",
    "            ext = ext2 + ext\n",
    "        output_path = base + '_resampled' + ext\n",
    "\n",
    "        # Downsample the image\n",
    "        if dry_run:\n",
    "            pass\n",
    "        else:\n",
    "            downsample_image(input_path, output_path)\n",
    "        output_path_list.append(output_path)\n",
    "    \n",
    "    return output_path_list\n",
    "\n",
    "\n",
    "# Usage:\n",
    "# downsample_images_in_folder('/path/to/your/images/*/*/anat/*mwp1*.nii', '/path/to/target/resolution/image.nii')"
   ]
  },
  {
   "cell_type": "code",
   "execution_count": null,
   "metadata": {},
   "outputs": [],
   "source": [
    "def downsample_images_to_mni152(base_directory, grey_matter_glob_name_pattern, white_matter_glob_name_pattern, csf_glob_name_pattern):\n",
    "    \"\"\"\n",
    "    Downsamples images to MNI152 standard space and saves them in a specified directory.\n",
    "    \n",
    "    Parameters:\n",
    "    - base_directory (str): The base directory where the images are located.\n",
    "    - grey_matter_glob_name_pattern (str): Glob pattern for grey matter data.\n",
    "    - white_matter_glob_name_pattern (str): Glob pattern for white matter data.\n",
    "    - csf_glob_name_pattern (str): Glob pattern for cerebrospinal fluid data.\n",
    "    \n",
    "    Returns:\n",
    "    - dict: A dictionary containing paths of the downsampled images for each segment.\n",
    "    \"\"\"\n",
    "    \n",
    "    segments_dict = {\n",
    "        'grey_matter': {'path': base_directory, 'glob_name_pattern': grey_matter_glob_name_pattern},\n",
    "        'white_matter': {'path': base_directory, 'glob_name_pattern': white_matter_glob_name_pattern},\n",
    "        'cerebrospinal_fluid': {'path': base_directory, 'glob_name_pattern': csf_glob_name_pattern}\n",
    "    }\n",
    "\n",
    "    output_paths_dict = {}\n",
    "\n",
    "    for k, v in segments_dict.items():\n",
    "        output_paths_dict[k] = downsample_to_mni152_images_in_folder(os.path.join(v['path'], v['glob_name_pattern']), dry_run=False)\n",
    "        print(f'Downsampled {k} segment data \\n ')\n",
    "        print(f'Saved files to {output_paths_dict[k]}')\n",
    "        print('-------------------------------- \\n')\n",
    "\n",
    "    return output_paths_dict\n"
   ]
  },
  {
   "cell_type": "code",
   "execution_count": null,
   "metadata": {},
   "outputs": [],
   "source": [
    "output_paths = downsample_images_to_mni152(base_directory, grey_matter_glob_name_pattern, white_matter_glob_name_pattern, csf_glob_name_pattern)"
   ]
  },
  {
   "cell_type": "code",
   "execution_count": null,
   "metadata": {},
   "outputs": [],
   "source": [
    "segments_dict = {\n",
    "    'grey_matter': {'path': base_directory, 'glob_name_pattern': grey_matter_glob_name_pattern},\n",
    "    'white_matter': {'path': base_directory, 'glob_name_pattern': white_matter_glob_name_pattern},\n",
    "    'cerebrospinal_fluid': {'path': base_directory, 'glob_name_pattern': csf_glob_name_pattern}\n",
    "}\n",
    "\n",
    "output_paths_dict = {}\n",
    "\n",
    "for k, v in segments_dict.items():\n",
    "    output_paths_dict[k] = downsample_to_mni152_images_in_folder(os.path.join(v['path'], v['glob_name_pattern']), dry_run = False)\n",
    "    print(f'Downsampled {k} segment data \\n ')\n",
    "    print(f'Saved files to {v}')\n",
    "    print('-------------------------------- \\n')"
   ]
  },
  {
   "cell_type": "markdown",
   "metadata": {},
   "source": [
    "Your files have now been downsampled to 2x2x2mm resolution.\n",
    "Carry on to Notebook 02 to derive atrophy seeds\n",
    "\n",
    "-Calvin"
   ]
  }
 ],
 "metadata": {
  "kernelspec": {
   "display_name": "nimlab_py310",
   "language": "python",
   "name": "python3"
  },
  "language_info": {
   "codemirror_mode": {
    "name": "ipython",
    "version": 3
   },
   "file_extension": ".py",
   "mimetype": "text/x-python",
   "name": "python",
   "nbconvert_exporter": "python",
   "pygments_lexer": "ipython3",
   "version": "3.10.8"
  },
  "orig_nbformat": 4
 },
 "nbformat": 4,
 "nbformat_minor": 2
}
