{
 "cells": [
  {
   "cell_type": "markdown",
   "metadata": {},
   "source": [
    "Imports"
   ]
  },
  {
   "cell_type": "code",
   "execution_count": 1,
   "metadata": {},
   "outputs": [],
   "source": [
    "import warnings\n",
    "warnings.filterwarnings('ignore')"
   ]
  },
  {
   "cell_type": "markdown",
   "metadata": {},
   "source": [
    "Here's a brief markup that explains the purpose and usage of the `segments_dict`:\n",
    "\n",
    "---\n",
    "\n",
    "## Neuroimaging File Extraction Dictionary\n",
    "\n",
    "The `segments_dict` is a predefined dictionary structured to facilitate the extraction of specific types of neuroimaging files. Each key in the dictionary represents a distinct neuroimaging segment, and its associated value is another dictionary containing the following fields:\n",
    "\n",
    "- **path**: This should be filled with the absolute path to the base directory containing the neuroimaging files for the corresponding tissue segment. \n",
    "- **glob_name_pattern**: This is the string pattern that will be used to \"glob\" or search for the specific files within the provided path. It helps in identifying and extracting the desired files based on their naming conventions.\n",
    "\n",
    "Here's a breakdown of the segments and their respective fields:\n",
    "\n",
    "### 1. Cerebrospinal Fluid (CSF)\n",
    "- **path**: Absolute path to the base directory containing CSF files.\n",
    "- **glob_name_pattern**: File pattern to search for CSF files.\n",
    "\n",
    "### 2. Grey Matter\n",
    "- **path**: Absolute path to the base directory containing grey matter files.\n",
    "- **glob_name_pattern**: File pattern to search for grey matter files.\n",
    "\n",
    "### 3. White Matter\n",
    "- **path**: Absolute path to the base directory containing white matter files.\n",
    "- **glob_name_pattern**: File pattern to search for white matter files.\n",
    "\n",
    "---\n",
    "\n",
    "**Instructions**: Please fill out the `path` and `glob_name_pattern` fields for each segment in the `segments_dict`. This will ensure that the extraction process can locate and identify the appropriate neuroimaging files for further analysis.\n",
    "\n",
    "---"
   ]
  },
  {
   "cell_type": "markdown",
   "metadata": {},
   "source": [
    "Define Nifti Information"
   ]
  },
  {
   "cell_type": "code",
   "execution_count": 6,
   "metadata": {},
   "outputs": [],
   "source": [
    "base_directory = r'/Users/cu135/Dropbox (Partners HealthCare)/resources/datasets/mgh_ftd'\n",
    "grey_matter_glob_name_pattern = 'mri/mwp1*'\n",
    "white_matter_glob_name_pattern = 'mri/mwp2*'\n",
    "csf_glob_name_pattern = 'mri/mwp3*'"
   ]
  },
  {
   "cell_type": "markdown",
   "metadata": {},
   "source": [
    "Downsample Niftis"
   ]
  },
  {
   "cell_type": "code",
   "execution_count": 7,
   "metadata": {},
   "outputs": [],
   "source": [
    "import os\n",
    "import glob\n",
    "from nilearn import image as nli\n",
    "from nilearn.image import resample_to_img\n",
    "import nibabel as nib\n",
    "import nibabel.processing\n",
    "from tqdm import tqdm\n",
    "from nimlab import datasets as nimds\n",
    "\n",
    "\n",
    "def downsample_image(input_path, output_path):\n",
    "    \"\"\"\n",
    "    Function to downsample a 3D image to a new voxel size using a target affine.\n",
    "    \n",
    "    Args:\n",
    "    input_path (str): Filepath to the input image.\n",
    "    output_path (str): Filepath to save the output image.\n",
    "    target_voxel_size (list): Target voxels to resample to.\n",
    "    \"\"\"\n",
    "    # Load the image\n",
    "    img = nib.load(input_path)\n",
    "    mni_mask = nimds.get_img(\"mni_icbm152\")\n",
    "    \n",
    "    # Downsample the image using the target affine\n",
    "    resampled_img = resample_to_img(img, mni_mask)\n",
    "\n",
    "    # Save the downsampled image\n",
    "    nib.save(resampled_img, output_path)\n",
    "    \n",
    "mni_mask = nimds.get_img(\"mni_icbm152\")\n",
    "mask_data = mni_mask.get_fdata().flatten()\n",
    "\n",
    "def downsample_to_mni152_images_in_folder(input_folder_pattern, dry_run=True):\n",
    "    \"\"\"\n",
    "    Function to downsample all 3D images in a folder to a new voxel size.\n",
    "    \n",
    "    Args:\n",
    "    input_folder_pattern (str): Glob pattern to find the input images.\n",
    "    target_voxel_size (list): Target voxels to resample to.\n",
    "    \"\"\"\n",
    "    # Find all input image filepaths\n",
    "    input_filepaths = glob.glob(input_folder_pattern)\n",
    "    print('Will search:, ', input_folder_pattern)\n",
    "\n",
    "    # Loop over each input image\n",
    "    output_path_list = []\n",
    "    for input_path in tqdm(input_filepaths):\n",
    "        # Define the output path\n",
    "        base, ext = os.path.splitext(input_path)\n",
    "        if ext == '.gz':\n",
    "            base, ext2 = os.path.splitext(base)\n",
    "            ext = ext2 + ext\n",
    "        output_path = base + '_resampled' + ext\n",
    "\n",
    "        # Downsample the image\n",
    "        if dry_run:\n",
    "            pass\n",
    "        else:\n",
    "            downsample_image(input_path, output_path)\n",
    "        output_path_list.append(output_path)\n",
    "    \n",
    "    return output_path_list\n",
    "\n",
    "\n",
    "# Usage:\n",
    "# downsample_images_in_folder('/path/to/your/images/*/*/anat/*mwp1*.nii', '/path/to/target/resolution/image.nii')"
   ]
  },
  {
   "cell_type": "code",
   "execution_count": 8,
   "metadata": {},
   "outputs": [],
   "source": [
    "def downsample_images_to_mni152(base_directory, grey_matter_glob_name_pattern, white_matter_glob_name_pattern, csf_glob_name_pattern):\n",
    "    \"\"\"\n",
    "    Downsamples images to MNI152 standard space and saves them in a specified directory.\n",
    "    \n",
    "    Parameters:\n",
    "    - base_directory (str): The base directory where the images are located.\n",
    "    - grey_matter_glob_name_pattern (str): Glob pattern for grey matter data.\n",
    "    - white_matter_glob_name_pattern (str): Glob pattern for white matter data.\n",
    "    - csf_glob_name_pattern (str): Glob pattern for cerebrospinal fluid data.\n",
    "    \n",
    "    Returns:\n",
    "    - dict: A dictionary containing paths of the downsampled images for each segment.\n",
    "    \"\"\"\n",
    "    \n",
    "    segments_dict = {\n",
    "        'grey_matter': {'path': base_directory, 'glob_name_pattern': grey_matter_glob_name_pattern},\n",
    "        'white_matter': {'path': base_directory, 'glob_name_pattern': white_matter_glob_name_pattern},\n",
    "        'cerebrospinal_fluid': {'path': base_directory, 'glob_name_pattern': csf_glob_name_pattern}\n",
    "    }\n",
    "\n",
    "    output_paths_dict = {}\n",
    "\n",
    "    for k, v in segments_dict.items():\n",
    "        output_paths_dict[k] = downsample_to_mni152_images_in_folder(os.path.join(v['path'], v['glob_name_pattern']), dry_run=False)\n",
    "        print(f'Downsampled {k} segment data \\n ')\n",
    "        print(f'Saved files to {output_paths_dict[k]}')\n",
    "        print('-------------------------------- \\n')\n",
    "\n",
    "    return output_paths_dict\n"
   ]
  },
  {
   "cell_type": "code",
   "execution_count": 9,
   "metadata": {},
   "outputs": [
    {
     "name": "stdout",
     "output_type": "stream",
     "text": [
      "Will search:,  /Users/cu135/Dropbox (Partners HealthCare)/resources/datasets/mgh_ftd/mri/mwp1*\n"
     ]
    },
    {
     "name": "stderr",
     "output_type": "stream",
     "text": [
      "100%|██████████| 13/13 [00:07<00:00,  1.72it/s]\n"
     ]
    },
    {
     "name": "stdout",
     "output_type": "stream",
     "text": [
      "Downsampled grey_matter segment data \n",
      " \n",
      "Saved files to ['/Users/cu135/Dropbox (Partners HealthCare)/resources/datasets/mgh_ftd/mri/mwp17_Dicom_t1_mprage_cor_p2_iso_1.0_20210601163753_15_Crop_1_resampled.nii', '/Users/cu135/Dropbox (Partners HealthCare)/resources/datasets/mgh_ftd/mri/mwp12_Dicom_COR_FSPGR_BRAVO_20151010124429_7_Crop_1_resampled.nii', '/Users/cu135/Dropbox (Partners HealthCare)/resources/datasets/mgh_ftd/mri/mwp18_Dicom_t1_mprage_cor_p2_iso_1.0_20190219110928_8_Crop_1_resampled.nii', '/Users/cu135/Dropbox (Partners HealthCare)/resources/datasets/mgh_ftd/mri/mwp16_Dicom_Cor_T1_SPGR_20160831131900_5_Crop_1_resampled.nii', '/Users/cu135/Dropbox (Partners HealthCare)/resources/datasets/mgh_ftd/mri/mwp15_Dicom_MP-RAGE-NEW_20160226111830_4_Crop_1_resampled.nii', '/Users/cu135/Dropbox (Partners HealthCare)/resources/datasets/mgh_ftd/mri/mwp13_Dicom_3D_COR_T1_MP-RAGE_20220714111911_5_Crop_1_resampled.nii', '/Users/cu135/Dropbox (Partners HealthCare)/resources/datasets/mgh_ftd/mri/mwp19_Dicom_3D_COR_T1_MP-RAGE_20220314111205_5_Crop_1_resampled.nii', '/Users/cu135/Dropbox (Partners HealthCare)/resources/datasets/mgh_ftd/mri/mwp11_Dicom_3D_T1_SG(MPRAGE)_NEW_20181016122847_9000_Crop_1_resampled.nii', '/Users/cu135/Dropbox (Partners HealthCare)/resources/datasets/mgh_ftd/mri/mwp14_Dicom_MP-RAGE-NEW_20180205145012_5_Crop_1_resampled.nii', '/Users/cu135/Dropbox (Partners HealthCare)/resources/datasets/mgh_ftd/mri/mwp112_Dicom_t2_spc_da-fl_sag_p2_iso_1.0_20161226140204_12_Crop_1_resampled.nii', '/Users/cu135/Dropbox (Partners HealthCare)/resources/datasets/mgh_ftd/mri/mwp12_Dicom_Sag_CUBE_FLAIR_20151010124429_5_Crop_1_resampled.nii', '/Users/cu135/Dropbox (Partners HealthCare)/resources/datasets/mgh_ftd/mri/mwp111_Dicom_t1_space_ir_cor_p2_iso_20211203105200_9_real_Crop_1_resampled.nii', '/Users/cu135/Dropbox (Partners HealthCare)/resources/datasets/mgh_ftd/mri/mwp11_Dicom_3D_FLAIR_SG_(MPV)_NEW_20181016122847_5000_Crop_1_resampled.nii']\n",
      "-------------------------------- \n",
      "\n",
      "Will search:,  /Users/cu135/Dropbox (Partners HealthCare)/resources/datasets/mgh_ftd/mri/mwp2*\n"
     ]
    },
    {
     "name": "stderr",
     "output_type": "stream",
     "text": [
      "100%|██████████| 13/13 [00:07<00:00,  1.75it/s]\n"
     ]
    },
    {
     "name": "stdout",
     "output_type": "stream",
     "text": [
      "Downsampled white_matter segment data \n",
      " \n",
      "Saved files to ['/Users/cu135/Dropbox (Partners HealthCare)/resources/datasets/mgh_ftd/mri/mwp25_Dicom_MP-RAGE-NEW_20160226111830_4_Crop_1_resampled.nii', '/Users/cu135/Dropbox (Partners HealthCare)/resources/datasets/mgh_ftd/mri/mwp22_Dicom_COR_FSPGR_BRAVO_20151010124429_7_Crop_1_resampled.nii', '/Users/cu135/Dropbox (Partners HealthCare)/resources/datasets/mgh_ftd/mri/mwp27_Dicom_t1_mprage_cor_p2_iso_1.0_20210601163753_15_Crop_1_resampled.nii', '/Users/cu135/Dropbox (Partners HealthCare)/resources/datasets/mgh_ftd/mri/mwp28_Dicom_t1_mprage_cor_p2_iso_1.0_20190219110928_8_Crop_1_resampled.nii', '/Users/cu135/Dropbox (Partners HealthCare)/resources/datasets/mgh_ftd/mri/mwp24_Dicom_MP-RAGE-NEW_20180205145012_5_Crop_1_resampled.nii', '/Users/cu135/Dropbox (Partners HealthCare)/resources/datasets/mgh_ftd/mri/mwp23_Dicom_3D_COR_T1_MP-RAGE_20220714111911_5_Crop_1_resampled.nii', '/Users/cu135/Dropbox (Partners HealthCare)/resources/datasets/mgh_ftd/mri/mwp29_Dicom_3D_COR_T1_MP-RAGE_20220314111205_5_Crop_1_resampled.nii', '/Users/cu135/Dropbox (Partners HealthCare)/resources/datasets/mgh_ftd/mri/mwp21_Dicom_3D_FLAIR_SG_(MPV)_NEW_20181016122847_5000_Crop_1_resampled.nii', '/Users/cu135/Dropbox (Partners HealthCare)/resources/datasets/mgh_ftd/mri/mwp212_Dicom_t2_spc_da-fl_sag_p2_iso_1.0_20161226140204_12_Crop_1_resampled.nii', '/Users/cu135/Dropbox (Partners HealthCare)/resources/datasets/mgh_ftd/mri/mwp21_Dicom_3D_T1_SG(MPRAGE)_NEW_20181016122847_9000_Crop_1_resampled.nii', '/Users/cu135/Dropbox (Partners HealthCare)/resources/datasets/mgh_ftd/mri/mwp22_Dicom_Sag_CUBE_FLAIR_20151010124429_5_Crop_1_resampled.nii', '/Users/cu135/Dropbox (Partners HealthCare)/resources/datasets/mgh_ftd/mri/mwp26_Dicom_Cor_T1_SPGR_20160831131900_5_Crop_1_resampled.nii', '/Users/cu135/Dropbox (Partners HealthCare)/resources/datasets/mgh_ftd/mri/mwp211_Dicom_t1_space_ir_cor_p2_iso_20211203105200_9_real_Crop_1_resampled.nii']\n",
      "-------------------------------- \n",
      "\n",
      "Will search:,  /Users/cu135/Dropbox (Partners HealthCare)/resources/datasets/mgh_ftd/mri/mwp3*\n"
     ]
    },
    {
     "name": "stderr",
     "output_type": "stream",
     "text": [
      "100%|██████████| 13/13 [00:07<00:00,  1.76it/s]"
     ]
    },
    {
     "name": "stdout",
     "output_type": "stream",
     "text": [
      "Downsampled cerebrospinal_fluid segment data \n",
      " \n",
      "Saved files to ['/Users/cu135/Dropbox (Partners HealthCare)/resources/datasets/mgh_ftd/mri/mwp36_Dicom_Cor_T1_SPGR_20160831131900_5_Crop_1_resampled.nii', '/Users/cu135/Dropbox (Partners HealthCare)/resources/datasets/mgh_ftd/mri/mwp312_Dicom_t2_spc_da-fl_sag_p2_iso_1.0_20161226140204_12_Crop_1_resampled.nii', '/Users/cu135/Dropbox (Partners HealthCare)/resources/datasets/mgh_ftd/mri/mwp38_Dicom_t1_mprage_cor_p2_iso_1.0_20190219110928_8_Crop_1_resampled.nii', '/Users/cu135/Dropbox (Partners HealthCare)/resources/datasets/mgh_ftd/mri/mwp311_Dicom_t1_space_ir_cor_p2_iso_20211203105200_9_real_Crop_1_resampled.nii', '/Users/cu135/Dropbox (Partners HealthCare)/resources/datasets/mgh_ftd/mri/mwp33_Dicom_3D_COR_T1_MP-RAGE_20220714111911_5_Crop_1_resampled.nii', '/Users/cu135/Dropbox (Partners HealthCare)/resources/datasets/mgh_ftd/mri/mwp32_Dicom_COR_FSPGR_BRAVO_20151010124429_7_Crop_1_resampled.nii', '/Users/cu135/Dropbox (Partners HealthCare)/resources/datasets/mgh_ftd/mri/mwp34_Dicom_MP-RAGE-NEW_20180205145012_5_Crop_1_resampled.nii', '/Users/cu135/Dropbox (Partners HealthCare)/resources/datasets/mgh_ftd/mri/mwp37_Dicom_t1_mprage_cor_p2_iso_1.0_20210601163753_15_Crop_1_resampled.nii', '/Users/cu135/Dropbox (Partners HealthCare)/resources/datasets/mgh_ftd/mri/mwp39_Dicom_3D_COR_T1_MP-RAGE_20220314111205_5_Crop_1_resampled.nii', '/Users/cu135/Dropbox (Partners HealthCare)/resources/datasets/mgh_ftd/mri/mwp31_Dicom_3D_FLAIR_SG_(MPV)_NEW_20181016122847_5000_Crop_1_resampled.nii', '/Users/cu135/Dropbox (Partners HealthCare)/resources/datasets/mgh_ftd/mri/mwp31_Dicom_3D_T1_SG(MPRAGE)_NEW_20181016122847_9000_Crop_1_resampled.nii', '/Users/cu135/Dropbox (Partners HealthCare)/resources/datasets/mgh_ftd/mri/mwp32_Dicom_Sag_CUBE_FLAIR_20151010124429_5_Crop_1_resampled.nii', '/Users/cu135/Dropbox (Partners HealthCare)/resources/datasets/mgh_ftd/mri/mwp35_Dicom_MP-RAGE-NEW_20160226111830_4_Crop_1_resampled.nii']\n",
      "-------------------------------- \n",
      "\n"
     ]
    },
    {
     "name": "stderr",
     "output_type": "stream",
     "text": [
      "\n"
     ]
    }
   ],
   "source": [
    "output_paths = downsample_images_to_mni152(base_directory, grey_matter_glob_name_pattern, white_matter_glob_name_pattern, csf_glob_name_pattern)"
   ]
  },
  {
   "cell_type": "markdown",
   "metadata": {},
   "source": [
    "If you are running this off a cloud, make sure your files are available locally."
   ]
  },
  {
   "cell_type": "code",
   "execution_count": 10,
   "metadata": {},
   "outputs": [
    {
     "name": "stdout",
     "output_type": "stream",
     "text": [
      "Will search:,  /Users/cu135/Dropbox (Partners HealthCare)/resources/datasets/mgh_ftd/mri/mwp1*\n"
     ]
    },
    {
     "name": "stderr",
     "output_type": "stream",
     "text": [
      "100%|██████████| 26/26 [00:07<00:00,  3.44it/s]\n"
     ]
    },
    {
     "name": "stdout",
     "output_type": "stream",
     "text": [
      "Downsampled grey_matter segment data \n",
      " \n",
      "Saved files to {'path': '/Users/cu135/Dropbox (Partners HealthCare)/resources/datasets/mgh_ftd', 'glob_name_pattern': 'mri/mwp1*'}\n",
      "-------------------------------- \n",
      "\n",
      "Will search:,  /Users/cu135/Dropbox (Partners HealthCare)/resources/datasets/mgh_ftd/mri/mwp2*\n"
     ]
    },
    {
     "name": "stderr",
     "output_type": "stream",
     "text": [
      "100%|██████████| 26/26 [00:07<00:00,  3.50it/s]\n"
     ]
    },
    {
     "name": "stdout",
     "output_type": "stream",
     "text": [
      "Downsampled white_matter segment data \n",
      " \n",
      "Saved files to {'path': '/Users/cu135/Dropbox (Partners HealthCare)/resources/datasets/mgh_ftd', 'glob_name_pattern': 'mri/mwp2*'}\n",
      "-------------------------------- \n",
      "\n",
      "Will search:,  /Users/cu135/Dropbox (Partners HealthCare)/resources/datasets/mgh_ftd/mri/mwp3*\n"
     ]
    },
    {
     "name": "stderr",
     "output_type": "stream",
     "text": [
      "100%|██████████| 26/26 [00:07<00:00,  3.47it/s]"
     ]
    },
    {
     "name": "stdout",
     "output_type": "stream",
     "text": [
      "Downsampled cerebrospinal_fluid segment data \n",
      " \n",
      "Saved files to {'path': '/Users/cu135/Dropbox (Partners HealthCare)/resources/datasets/mgh_ftd', 'glob_name_pattern': 'mri/mwp3*'}\n",
      "-------------------------------- \n",
      "\n"
     ]
    },
    {
     "name": "stderr",
     "output_type": "stream",
     "text": [
      "\n"
     ]
    }
   ],
   "source": [
    "segments_dict = {\n",
    "    'grey_matter': {'path': base_directory, 'glob_name_pattern': grey_matter_glob_name_pattern},\n",
    "    'white_matter': {'path': base_directory, 'glob_name_pattern': white_matter_glob_name_pattern},\n",
    "    'cerebrospinal_fluid': {'path': base_directory, 'glob_name_pattern': csf_glob_name_pattern}\n",
    "}\n",
    "\n",
    "output_paths_dict = {}\n",
    "\n",
    "for k, v in segments_dict.items():\n",
    "    output_paths_dict[k] = downsample_to_mni152_images_in_folder(os.path.join(v['path'], v['glob_name_pattern']), dry_run = False)\n",
    "    print(f'Downsampled {k} segment data \\n ')\n",
    "    print(f'Saved files to {v}')\n",
    "    print('-------------------------------- \\n')"
   ]
  },
  {
   "cell_type": "markdown",
   "metadata": {},
   "source": [
    "Your files have now been downsampled to 2x2x2mm resolution.\n",
    "Carry on to Notebook 02 to derive atrophy seeds\n",
    "\n",
    "-Calvin"
   ]
  },
  {
   "cell_type": "markdown",
   "metadata": {},
   "source": []
  }
 ],
 "metadata": {
  "kernelspec": {
   "display_name": "nimlab_py310",
   "language": "python",
   "name": "python3"
  },
  "language_info": {
   "codemirror_mode": {
    "name": "ipython",
    "version": 3
   },
   "file_extension": ".py",
   "mimetype": "text/x-python",
   "name": "python",
   "nbconvert_exporter": "python",
   "pygments_lexer": "ipython3",
   "version": "3.10.8"
  },
  "orig_nbformat": 4
 },
 "nbformat": 4,
 "nbformat_minor": 2
}
