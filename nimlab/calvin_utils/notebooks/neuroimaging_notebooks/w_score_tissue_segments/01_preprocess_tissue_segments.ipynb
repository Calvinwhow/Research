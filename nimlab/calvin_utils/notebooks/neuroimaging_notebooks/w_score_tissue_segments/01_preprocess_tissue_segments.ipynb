{
 "cells": [
  {
   "cell_type": "markdown",
   "metadata": {},
   "source": [
    "Imports"
   ]
  },
  {
   "cell_type": "code",
   "execution_count": 1,
   "metadata": {},
   "outputs": [],
   "source": [
    "import warnings\n",
    "warnings.filterwarnings('ignore')"
   ]
  },
  {
   "cell_type": "markdown",
   "metadata": {},
   "source": [
    "Here's a brief markup that explains the purpose and usage of the `segments_dict`:\n",
    "\n",
    "---\n",
    "\n",
    "## Neuroimaging File Extraction Dictionary\n",
    "\n",
    "The `segments_dict` is a predefined dictionary structured to facilitate the extraction of specific types of neuroimaging files. Each key in the dictionary represents a distinct neuroimaging segment, and its associated value is another dictionary containing the following fields:\n",
    "\n",
    "- **path**: This should be filled with the absolute path to the base directory containing the neuroimaging files for the corresponding tissue segment. \n",
    "- **glob_name_pattern**: This is the string pattern that will be used to \"glob\" or search for the specific files within the provided path. It helps in identifying and extracting the desired files based on their naming conventions.\n",
    "\n",
    "Here's a breakdown of the segments and their respective fields:\n",
    "\n",
    "### 1. Cerebrospinal Fluid (CSF)\n",
    "- **path**: Absolute path to the base directory containing CSF files.\n",
    "- **glob_name_pattern**: File pattern to search for CSF files.\n",
    "\n",
    "### 2. Grey Matter\n",
    "- **path**: Absolute path to the base directory containing grey matter files.\n",
    "- **glob_name_pattern**: File pattern to search for grey matter files.\n",
    "\n",
    "### 3. White Matter\n",
    "- **path**: Absolute path to the base directory containing white matter files.\n",
    "- **glob_name_pattern**: File pattern to search for white matter files.\n",
    "\n",
    "---\n",
    "\n",
    "**Instructions**: Please fill out the `path` and `glob_name_pattern` fields for each segment in the `segments_dict`. This will ensure that the extraction process can locate and identify the appropriate neuroimaging files for further analysis.\n",
    "\n",
    "---"
   ]
  },
  {
   "cell_type": "markdown",
   "metadata": {},
   "source": [
    "Define Nifti Information"
   ]
  },
  {
   "cell_type": "code",
   "execution_count": 10,
   "metadata": {},
   "outputs": [],
   "source": [
    "base_directory = r'/Volumes/One Touch/resources/adni/neuroimaging/true_control/anat'\n",
    "grey_matter_glob_name_pattern = 'mri/smwp1*'\n",
    "white_matter_glob_name_pattern = 'mri/smwp2*'\n",
    "csf_glob_name_pattern = 'mri/smwp3*'"
   ]
  },
  {
   "cell_type": "markdown",
   "metadata": {},
   "source": [
    "Downsample Niftis"
   ]
  },
  {
   "cell_type": "code",
   "execution_count": 11,
   "metadata": {},
   "outputs": [],
   "source": [
    "import os\n",
    "import glob\n",
    "from nilearn import image as nli\n",
    "from nilearn.image import resample_to_img\n",
    "import nibabel as nib\n",
    "import nibabel.processing\n",
    "from tqdm import tqdm\n",
    "from nimlab import datasets as nimds\n",
    "\n",
    "\n",
    "def downsample_image(input_path, output_path):\n",
    "    \"\"\"\n",
    "    Function to downsample a 3D image to a new voxel size using a target affine.\n",
    "    \n",
    "    Args:\n",
    "    input_path (str): Filepath to the input image.\n",
    "    output_path (str): Filepath to save the output image.\n",
    "    target_voxel_size (list): Target voxels to resample to.\n",
    "    \"\"\"\n",
    "    # Load the image\n",
    "    img = nib.load(input_path)\n",
    "    mni_mask = nimds.get_img(\"mni_icbm152\")\n",
    "    \n",
    "    # Downsample the image using the target affine\n",
    "    resampled_img = resample_to_img(img, mni_mask)\n",
    "\n",
    "    # Save the downsampled image\n",
    "    nib.save(resampled_img, output_path)\n",
    "    \n",
    "mni_mask = nimds.get_img(\"mni_icbm152\")\n",
    "mask_data = mni_mask.get_fdata().flatten()\n",
    "\n",
    "def downsample_to_mni152_images_in_folder(input_folder_pattern, dry_run=True):\n",
    "    \"\"\"\n",
    "    Function to downsample all 3D images in a folder to a new voxel size.\n",
    "    \n",
    "    Args:\n",
    "    input_folder_pattern (str): Glob pattern to find the input images.\n",
    "    target_voxel_size (list): Target voxels to resample to.\n",
    "    \"\"\"\n",
    "    # Find all input image filepaths\n",
    "    input_filepaths = glob.glob(input_folder_pattern)\n",
    "    print('Will search:, ', input_folder_pattern)\n",
    "\n",
    "    # Loop over each input image\n",
    "    output_path_list = []\n",
    "    for input_path in tqdm(input_filepaths):\n",
    "        # Define the output path\n",
    "        base, ext = os.path.splitext(input_path)\n",
    "        if ext == '.gz':\n",
    "            base, ext2 = os.path.splitext(base)\n",
    "            ext = ext2 + ext\n",
    "        output_path = base + '_resampled' + ext\n",
    "\n",
    "        # Downsample the image\n",
    "        if dry_run:\n",
    "            pass\n",
    "        else:\n",
    "            downsample_image(input_path, output_path)\n",
    "        output_path_list.append(output_path)\n",
    "    \n",
    "    return output_path_list\n",
    "\n",
    "\n",
    "# Usage:\n",
    "# downsample_images_in_folder('/path/to/your/images/*/*/anat/*mwp1*.nii', '/path/to/target/resolution/image.nii')"
   ]
  },
  {
   "cell_type": "code",
   "execution_count": 12,
   "metadata": {},
   "outputs": [],
   "source": [
    "def downsample_images_to_mni152(base_directory, grey_matter_glob_name_pattern, white_matter_glob_name_pattern, csf_glob_name_pattern):\n",
    "    \"\"\"\n",
    "    Downsamples images to MNI152 standard space and saves them in a specified directory.\n",
    "    \n",
    "    Parameters:\n",
    "    - base_directory (str): The base directory where the images are located.\n",
    "    - grey_matter_glob_name_pattern (str): Glob pattern for grey matter data.\n",
    "    - white_matter_glob_name_pattern (str): Glob pattern for white matter data.\n",
    "    - csf_glob_name_pattern (str): Glob pattern for cerebrospinal fluid data.\n",
    "    \n",
    "    Returns:\n",
    "    - dict: A dictionary containing paths of the downsampled images for each segment.\n",
    "    \"\"\"\n",
    "    \n",
    "    segments_dict = {\n",
    "        'grey_matter': {'path': base_directory, 'glob_name_pattern': grey_matter_glob_name_pattern},\n",
    "        'white_matter': {'path': base_directory, 'glob_name_pattern': white_matter_glob_name_pattern},\n",
    "        'cerebrospinal_fluid': {'path': base_directory, 'glob_name_pattern': csf_glob_name_pattern}\n",
    "    }\n",
    "\n",
    "    output_paths_dict = {}\n",
    "\n",
    "    for k, v in segments_dict.items():\n",
    "        output_paths_dict[k] = downsample_to_mni152_images_in_folder(os.path.join(v['path'], v['glob_name_pattern']), dry_run=False)\n",
    "        print(f'Downsampled {k} segment data \\n ')\n",
    "        print(f'Saved files to {output_paths_dict[k]}')\n",
    "        print('-------------------------------- \\n')\n",
    "\n",
    "    return output_paths_dict\n"
   ]
  },
  {
   "cell_type": "code",
   "execution_count": 13,
   "metadata": {},
   "outputs": [
    {
     "name": "stdout",
     "output_type": "stream",
     "text": [
      "Will search:,  /Volumes/One Touch/resources/adni/neuroimaging/true_control/anat/mri/smwp1*\n"
     ]
    },
    {
     "name": "stderr",
     "output_type": "stream",
     "text": [
      "100%|██████████| 136/136 [01:50<00:00,  1.23it/s]\n"
     ]
    },
    {
     "name": "stdout",
     "output_type": "stream",
     "text": [
      "Downsampled grey_matter segment data \n",
      " \n",
      "Saved files to ['/Volumes/One Touch/resources/adni/neuroimaging/true_control/anat/mri/smwp1002_S_4270_resampled.nii', '/Volumes/One Touch/resources/adni/neuroimaging/true_control/anat/mri/smwp1006_S_4150_resampled.nii', '/Volumes/One Touch/resources/adni/neuroimaging/true_control/anat/mri/smwp1006_S_4357_resampled.nii', '/Volumes/One Touch/resources/adni/neuroimaging/true_control/anat/mri/smwp1006_S_4449_resampled.nii', '/Volumes/One Touch/resources/adni/neuroimaging/true_control/anat/mri/smwp1006_S_4485_resampled.nii', '/Volumes/One Touch/resources/adni/neuroimaging/true_control/anat/mri/smwp1009_S_4337_resampled.nii', '/Volumes/One Touch/resources/adni/neuroimaging/true_control/anat/mri/smwp1009_S_4388_resampled.nii', '/Volumes/One Touch/resources/adni/neuroimaging/true_control/anat/mri/smwp1009_S_4612_resampled.nii', '/Volumes/One Touch/resources/adni/neuroimaging/true_control/anat/mri/smwp1010_S_4345_resampled.nii', '/Volumes/One Touch/resources/adni/neuroimaging/true_control/anat/mri/smwp1010_S_4442_resampled.nii', '/Volumes/One Touch/resources/adni/neuroimaging/true_control/anat/mri/smwp1011_S_4075_resampled.nii', '/Volumes/One Touch/resources/adni/neuroimaging/true_control/anat/mri/smwp1011_S_4105_resampled.nii', '/Volumes/One Touch/resources/adni/neuroimaging/true_control/anat/mri/smwp1011_S_4120_resampled.nii', '/Volumes/One Touch/resources/adni/neuroimaging/true_control/anat/mri/smwp1011_S_4222_resampled.nii', '/Volumes/One Touch/resources/adni/neuroimaging/true_control/anat/mri/smwp1011_S_4278_resampled.nii', '/Volumes/One Touch/resources/adni/neuroimaging/true_control/anat/mri/smwp1012_S_4026_resampled.nii', '/Volumes/One Touch/resources/adni/neuroimaging/true_control/anat/mri/smwp1012_S_4545_resampled.nii', '/Volumes/One Touch/resources/adni/neuroimaging/true_control/anat/mri/smwp1012_S_4643_resampled.nii', '/Volumes/One Touch/resources/adni/neuroimaging/true_control/anat/mri/smwp1013_S_4579_resampled.nii', '/Volumes/One Touch/resources/adni/neuroimaging/true_control/anat/mri/smwp1013_S_4580_resampled.nii', '/Volumes/One Touch/resources/adni/neuroimaging/true_control/anat/mri/smwp1013_S_4616_resampled.nii', '/Volumes/One Touch/resources/adni/neuroimaging/true_control/anat/mri/smwp1014_S_4080_resampled.nii', '/Volumes/One Touch/resources/adni/neuroimaging/true_control/anat/mri/smwp1014_S_4093_resampled.nii', '/Volumes/One Touch/resources/adni/neuroimaging/true_control/anat/mri/smwp1014_S_4401_resampled.nii', '/Volumes/One Touch/resources/adni/neuroimaging/true_control/anat/mri/smwp1014_S_4576_resampled.nii', '/Volumes/One Touch/resources/adni/neuroimaging/true_control/anat/mri/smwp1014_S_4577_resampled.nii', '/Volumes/One Touch/resources/adni/neuroimaging/true_control/anat/mri/smwp1018_S_4257_resampled.nii', '/Volumes/One Touch/resources/adni/neuroimaging/true_control/anat/mri/smwp1018_S_4313_resampled.nii', '/Volumes/One Touch/resources/adni/neuroimaging/true_control/anat/mri/smwp1018_S_4349_resampled.nii', '/Volumes/One Touch/resources/adni/neuroimaging/true_control/anat/mri/smwp1018_S_4399_resampled.nii', '/Volumes/One Touch/resources/adni/neuroimaging/true_control/anat/mri/smwp1018_S_4400_resampled.nii', '/Volumes/One Touch/resources/adni/neuroimaging/true_control/anat/mri/smwp1019_S_4367_resampled.nii', '/Volumes/One Touch/resources/adni/neuroimaging/true_control/anat/mri/smwp1019_S_4835_resampled.nii', '/Volumes/One Touch/resources/adni/neuroimaging/true_control/anat/mri/smwp1022_S_4173_resampled.nii', '/Volumes/One Touch/resources/adni/neuroimaging/true_control/anat/mri/smwp1022_S_4196_resampled.nii', '/Volumes/One Touch/resources/adni/neuroimaging/true_control/anat/mri/smwp1022_S_4266_resampled.nii', '/Volumes/One Touch/resources/adni/neuroimaging/true_control/anat/mri/smwp1022_S_4291_resampled.nii', '/Volumes/One Touch/resources/adni/neuroimaging/true_control/anat/mri/smwp1022_S_4320_resampled.nii', '/Volumes/One Touch/resources/adni/neuroimaging/true_control/anat/mri/smwp1023_S_4020_resampled.nii', '/Volumes/One Touch/resources/adni/neuroimaging/true_control/anat/mri/smwp1023_S_4164_resampled.nii', '/Volumes/One Touch/resources/adni/neuroimaging/true_control/anat/mri/smwp1023_S_4448_resampled.nii', '/Volumes/One Touch/resources/adni/neuroimaging/true_control/anat/mri/smwp1024_S_4084_resampled.nii', '/Volumes/One Touch/resources/adni/neuroimaging/true_control/anat/mri/smwp1024_S_4158_resampled.nii', '/Volumes/One Touch/resources/adni/neuroimaging/true_control/anat/mri/smwp1031_S_4021_resampled.nii', '/Volumes/One Touch/resources/adni/neuroimaging/true_control/anat/mri/smwp1031_S_4032_resampled.nii', '/Volumes/One Touch/resources/adni/neuroimaging/true_control/anat/mri/smwp1031_S_4218_resampled.nii', '/Volumes/One Touch/resources/adni/neuroimaging/true_control/anat/mri/smwp1031_S_4474_resampled.nii', '/Volumes/One Touch/resources/adni/neuroimaging/true_control/anat/mri/smwp1031_S_4496_resampled.nii', '/Volumes/One Touch/resources/adni/neuroimaging/true_control/anat/mri/smwp1032_S_4277_resampled.nii', '/Volumes/One Touch/resources/adni/neuroimaging/true_control/anat/mri/smwp1032_S_4348_resampled.nii', '/Volumes/One Touch/resources/adni/neuroimaging/true_control/anat/mri/smwp1032_S_4386_resampled.nii', '/Volumes/One Touch/resources/adni/neuroimaging/true_control/anat/mri/smwp1032_S_4429_resampled.nii', '/Volumes/One Touch/resources/adni/neuroimaging/true_control/anat/mri/smwp1032_S_4921_resampled.nii', '/Volumes/One Touch/resources/adni/neuroimaging/true_control/anat/mri/smwp1033_S_4176_resampled.nii', '/Volumes/One Touch/resources/adni/neuroimaging/true_control/anat/mri/smwp1033_S_4177_resampled.nii', '/Volumes/One Touch/resources/adni/neuroimaging/true_control/anat/mri/smwp1033_S_4179_resampled.nii', '/Volumes/One Touch/resources/adni/neuroimaging/true_control/anat/mri/smwp1033_S_4505_resampled.nii', '/Volumes/One Touch/resources/adni/neuroimaging/true_control/anat/mri/smwp1033_S_4508_resampled.nii', '/Volumes/One Touch/resources/adni/neuroimaging/true_control/anat/mri/smwp1035_S_4082_resampled.nii', '/Volumes/One Touch/resources/adni/neuroimaging/true_control/anat/mri/smwp1035_S_4464_resampled.nii', '/Volumes/One Touch/resources/adni/neuroimaging/true_control/anat/mri/smwp1036_S_4389_resampled.nii', '/Volumes/One Touch/resources/adni/neuroimaging/true_control/anat/mri/smwp1036_S_4491_resampled.nii', '/Volumes/One Touch/resources/adni/neuroimaging/true_control/anat/mri/smwp1036_S_4878_resampled.nii', '/Volumes/One Touch/resources/adni/neuroimaging/true_control/anat/mri/smwp1037_S_4028_resampled.nii', '/Volumes/One Touch/resources/adni/neuroimaging/true_control/anat/mri/smwp1037_S_4071_resampled.nii', '/Volumes/One Touch/resources/adni/neuroimaging/true_control/anat/mri/smwp1037_S_4308_resampled.nii', '/Volumes/One Touch/resources/adni/neuroimaging/true_control/anat/mri/smwp1037_S_4410_resampled.nii', '/Volumes/One Touch/resources/adni/neuroimaging/true_control/anat/mri/smwp1041_S_4014_resampled.nii', '/Volumes/One Touch/resources/adni/neuroimaging/true_control/anat/mri/smwp1041_S_4037_resampled.nii', '/Volumes/One Touch/resources/adni/neuroimaging/true_control/anat/mri/smwp1041_S_4060_resampled.nii', '/Volumes/One Touch/resources/adni/neuroimaging/true_control/anat/mri/smwp1041_S_4200_resampled.nii', '/Volumes/One Touch/resources/adni/neuroimaging/true_control/anat/mri/smwp1041_S_4427_resampled.nii', '/Volumes/One Touch/resources/adni/neuroimaging/true_control/anat/mri/smwp1053_S_4578_resampled.nii', '/Volumes/One Touch/resources/adni/neuroimaging/true_control/anat/mri/smwp1068_S_4174_resampled.nii', '/Volumes/One Touch/resources/adni/neuroimaging/true_control/anat/mri/smwp1068_S_4340_resampled.nii', '/Volumes/One Touch/resources/adni/neuroimaging/true_control/anat/mri/smwp1068_S_4424_resampled.nii', '/Volumes/One Touch/resources/adni/neuroimaging/true_control/anat/mri/smwp1070_S_4856_resampled.nii', '/Volumes/One Touch/resources/adni/neuroimaging/true_control/anat/mri/smwp1070_S_5040_resampled.nii', '/Volumes/One Touch/resources/adni/neuroimaging/true_control/anat/mri/smwp1072_S_4103_resampled.nii', '/Volumes/One Touch/resources/adni/neuroimaging/true_control/anat/mri/smwp1072_S_4391_resampled.nii', '/Volumes/One Touch/resources/adni/neuroimaging/true_control/anat/mri/smwp1073_S_4155_resampled.nii', '/Volumes/One Touch/resources/adni/neuroimaging/true_control/anat/mri/smwp1073_S_4382_resampled.nii', '/Volumes/One Touch/resources/adni/neuroimaging/true_control/anat/mri/smwp1073_S_4393_resampled.nii', '/Volumes/One Touch/resources/adni/neuroimaging/true_control/anat/mri/smwp1073_S_4552_resampled.nii', '/Volumes/One Touch/resources/adni/neuroimaging/true_control/anat/mri/smwp1073_S_4559_resampled.nii', '/Volumes/One Touch/resources/adni/neuroimaging/true_control/anat/mri/smwp1073_S_4739_resampled.nii', '/Volumes/One Touch/resources/adni/neuroimaging/true_control/anat/mri/smwp1073_S_4762_resampled.nii', '/Volumes/One Touch/resources/adni/neuroimaging/true_control/anat/mri/smwp1073_S_4795_resampled.nii', '/Volumes/One Touch/resources/adni/neuroimaging/true_control/anat/mri/smwp1073_S_5023_resampled.nii', '/Volumes/One Touch/resources/adni/neuroimaging/true_control/anat/mri/smwp1082_S_4090_resampled.nii', '/Volumes/One Touch/resources/adni/neuroimaging/true_control/anat/mri/smwp1082_S_4208_resampled.nii', '/Volumes/One Touch/resources/adni/neuroimaging/true_control/anat/mri/smwp1082_S_4224_resampled.nii', '/Volumes/One Touch/resources/adni/neuroimaging/true_control/anat/mri/smwp1082_S_4339_resampled.nii', '/Volumes/One Touch/resources/adni/neuroimaging/true_control/anat/mri/smwp1082_S_4428_resampled.nii', '/Volumes/One Touch/resources/adni/neuroimaging/true_control/anat/mri/smwp1099_S_4076_resampled.nii', '/Volumes/One Touch/resources/adni/neuroimaging/true_control/anat/mri/smwp1099_S_4086_resampled.nii', '/Volumes/One Touch/resources/adni/neuroimaging/true_control/anat/mri/smwp1099_S_4104_resampled.nii', '/Volumes/One Touch/resources/adni/neuroimaging/true_control/anat/mri/smwp1100_S_4469_resampled.nii', '/Volumes/One Touch/resources/adni/neuroimaging/true_control/anat/mri/smwp1116_S_4010_resampled.nii', '/Volumes/One Touch/resources/adni/neuroimaging/true_control/anat/mri/smwp1116_S_4043_resampled.nii', '/Volumes/One Touch/resources/adni/neuroimaging/true_control/anat/mri/smwp1116_S_4092_resampled.nii', '/Volumes/One Touch/resources/adni/neuroimaging/true_control/anat/mri/smwp1116_S_4453_resampled.nii', '/Volumes/One Touch/resources/adni/neuroimaging/true_control/anat/mri/smwp1116_S_4483_resampled.nii', '/Volumes/One Touch/resources/adni/neuroimaging/true_control/anat/mri/smwp1116_S_4855_resampled.nii', '/Volumes/One Touch/resources/adni/neuroimaging/true_control/anat/mri/smwp1123_S_4362_resampled.nii', '/Volumes/One Touch/resources/adni/neuroimaging/true_control/anat/mri/smwp1128_S_4586_resampled.nii', '/Volumes/One Touch/resources/adni/neuroimaging/true_control/anat/mri/smwp1128_S_4599_resampled.nii', '/Volumes/One Touch/resources/adni/neuroimaging/true_control/anat/mri/smwp1128_S_4607_resampled.nii', '/Volumes/One Touch/resources/adni/neuroimaging/true_control/anat/mri/smwp1128_S_4609_resampled.nii', '/Volumes/One Touch/resources/adni/neuroimaging/true_control/anat/mri/smwp1128_S_4832_resampled.nii', '/Volumes/One Touch/resources/adni/neuroimaging/true_control/anat/mri/smwp1130_S_4343_resampled.nii', '/Volumes/One Touch/resources/adni/neuroimaging/true_control/anat/mri/smwp1130_S_4352_resampled.nii', '/Volumes/One Touch/resources/adni/neuroimaging/true_control/anat/mri/smwp1135_S_4446_resampled.nii', '/Volumes/One Touch/resources/adni/neuroimaging/true_control/anat/mri/smwp1135_S_4566_resampled.nii', '/Volumes/One Touch/resources/adni/neuroimaging/true_control/anat/mri/smwp1135_S_4598_resampled.nii', '/Volumes/One Touch/resources/adni/neuroimaging/true_control/anat/mri/smwp1136_S_4269_resampled.nii', '/Volumes/One Touch/resources/adni/neuroimaging/true_control/anat/mri/smwp1136_S_4433_resampled.nii', '/Volumes/One Touch/resources/adni/neuroimaging/true_control/anat/mri/smwp1137_S_4466_resampled.nii', '/Volumes/One Touch/resources/adni/neuroimaging/true_control/anat/mri/smwp1137_S_4482_resampled.nii', '/Volumes/One Touch/resources/adni/neuroimaging/true_control/anat/mri/smwp1137_S_4520_resampled.nii', '/Volumes/One Touch/resources/adni/neuroimaging/true_control/anat/mri/smwp1137_S_4587_resampled.nii', '/Volumes/One Touch/resources/adni/neuroimaging/true_control/anat/mri/smwp1137_S_4632_resampled.nii', '/Volumes/One Touch/resources/adni/neuroimaging/true_control/anat/mri/smwp1153_S_4125_resampled.nii', '/Volumes/One Touch/resources/adni/neuroimaging/true_control/anat/mri/smwp1153_S_4139_resampled.nii', '/Volumes/One Touch/resources/adni/neuroimaging/true_control/anat/mri/smwp1153_S_4151_resampled.nii', '/Volumes/One Touch/resources/adni/neuroimaging/true_control/anat/mri/smwp1153_S_4372_resampled.nii', '/Volumes/One Touch/resources/adni/neuroimaging/true_control/anat/mri/smwp1941_S_4066_resampled.nii', '/Volumes/One Touch/resources/adni/neuroimaging/true_control/anat/mri/smwp1941_S_4100_resampled.nii', '/Volumes/One Touch/resources/adni/neuroimaging/true_control/anat/mri/smwp1941_S_4255_resampled.nii', '/Volumes/One Touch/resources/adni/neuroimaging/true_control/anat/mri/smwp1941_S_4292_resampled.nii', '/Volumes/One Touch/resources/adni/neuroimaging/true_control/anat/mri/smwp1941_S_4365_resampled.nii', '/Volumes/One Touch/resources/adni/neuroimaging/true_control/anat/mri/smwp1941_S_4376_resampled.nii', '/Volumes/One Touch/resources/adni/neuroimaging/true_control/anat/mri/smwp1002_S_4213_resampled.nii', '/Volumes/One Touch/resources/adni/neuroimaging/true_control/anat/mri/smwp1002_S_4225_resampled.nii', '/Volumes/One Touch/resources/adni/neuroimaging/true_control/anat/mri/smwp1002_S_4262_resampled.nii', '/Volumes/One Touch/resources/adni/neuroimaging/true_control/anat/mri/smwp1002_S_4264_resampled.nii']\n",
      "-------------------------------- \n",
      "\n",
      "Will search:,  /Volumes/One Touch/resources/adni/neuroimaging/true_control/anat/mri/smwp2*\n"
     ]
    },
    {
     "name": "stderr",
     "output_type": "stream",
     "text": [
      "100%|██████████| 136/136 [01:49<00:00,  1.24it/s]\n"
     ]
    },
    {
     "name": "stdout",
     "output_type": "stream",
     "text": [
      "Downsampled white_matter segment data \n",
      " \n",
      "Saved files to ['/Volumes/One Touch/resources/adni/neuroimaging/true_control/anat/mri/smwp2002_S_4213_resampled.nii', '/Volumes/One Touch/resources/adni/neuroimaging/true_control/anat/mri/smwp2002_S_4225_resampled.nii', '/Volumes/One Touch/resources/adni/neuroimaging/true_control/anat/mri/smwp2002_S_4262_resampled.nii', '/Volumes/One Touch/resources/adni/neuroimaging/true_control/anat/mri/smwp2002_S_4264_resampled.nii', '/Volumes/One Touch/resources/adni/neuroimaging/true_control/anat/mri/smwp2002_S_4270_resampled.nii', '/Volumes/One Touch/resources/adni/neuroimaging/true_control/anat/mri/smwp2006_S_4150_resampled.nii', '/Volumes/One Touch/resources/adni/neuroimaging/true_control/anat/mri/smwp2006_S_4357_resampled.nii', '/Volumes/One Touch/resources/adni/neuroimaging/true_control/anat/mri/smwp2006_S_4449_resampled.nii', '/Volumes/One Touch/resources/adni/neuroimaging/true_control/anat/mri/smwp2006_S_4485_resampled.nii', '/Volumes/One Touch/resources/adni/neuroimaging/true_control/anat/mri/smwp2009_S_4337_resampled.nii', '/Volumes/One Touch/resources/adni/neuroimaging/true_control/anat/mri/smwp2009_S_4388_resampled.nii', '/Volumes/One Touch/resources/adni/neuroimaging/true_control/anat/mri/smwp2009_S_4612_resampled.nii', '/Volumes/One Touch/resources/adni/neuroimaging/true_control/anat/mri/smwp2010_S_4345_resampled.nii', '/Volumes/One Touch/resources/adni/neuroimaging/true_control/anat/mri/smwp2010_S_4442_resampled.nii', '/Volumes/One Touch/resources/adni/neuroimaging/true_control/anat/mri/smwp2011_S_4075_resampled.nii', '/Volumes/One Touch/resources/adni/neuroimaging/true_control/anat/mri/smwp2011_S_4105_resampled.nii', '/Volumes/One Touch/resources/adni/neuroimaging/true_control/anat/mri/smwp2011_S_4120_resampled.nii', '/Volumes/One Touch/resources/adni/neuroimaging/true_control/anat/mri/smwp2011_S_4222_resampled.nii', '/Volumes/One Touch/resources/adni/neuroimaging/true_control/anat/mri/smwp2011_S_4278_resampled.nii', '/Volumes/One Touch/resources/adni/neuroimaging/true_control/anat/mri/smwp2012_S_4026_resampled.nii', '/Volumes/One Touch/resources/adni/neuroimaging/true_control/anat/mri/smwp2012_S_4545_resampled.nii', '/Volumes/One Touch/resources/adni/neuroimaging/true_control/anat/mri/smwp2012_S_4643_resampled.nii', '/Volumes/One Touch/resources/adni/neuroimaging/true_control/anat/mri/smwp2013_S_4579_resampled.nii', '/Volumes/One Touch/resources/adni/neuroimaging/true_control/anat/mri/smwp2013_S_4580_resampled.nii', '/Volumes/One Touch/resources/adni/neuroimaging/true_control/anat/mri/smwp2013_S_4616_resampled.nii', '/Volumes/One Touch/resources/adni/neuroimaging/true_control/anat/mri/smwp2014_S_4080_resampled.nii', '/Volumes/One Touch/resources/adni/neuroimaging/true_control/anat/mri/smwp2014_S_4093_resampled.nii', '/Volumes/One Touch/resources/adni/neuroimaging/true_control/anat/mri/smwp2014_S_4401_resampled.nii', '/Volumes/One Touch/resources/adni/neuroimaging/true_control/anat/mri/smwp2014_S_4576_resampled.nii', '/Volumes/One Touch/resources/adni/neuroimaging/true_control/anat/mri/smwp2014_S_4577_resampled.nii', '/Volumes/One Touch/resources/adni/neuroimaging/true_control/anat/mri/smwp2018_S_4257_resampled.nii', '/Volumes/One Touch/resources/adni/neuroimaging/true_control/anat/mri/smwp2018_S_4313_resampled.nii', '/Volumes/One Touch/resources/adni/neuroimaging/true_control/anat/mri/smwp2018_S_4349_resampled.nii', '/Volumes/One Touch/resources/adni/neuroimaging/true_control/anat/mri/smwp2018_S_4399_resampled.nii', '/Volumes/One Touch/resources/adni/neuroimaging/true_control/anat/mri/smwp2018_S_4400_resampled.nii', '/Volumes/One Touch/resources/adni/neuroimaging/true_control/anat/mri/smwp2019_S_4367_resampled.nii', '/Volumes/One Touch/resources/adni/neuroimaging/true_control/anat/mri/smwp2019_S_4835_resampled.nii', '/Volumes/One Touch/resources/adni/neuroimaging/true_control/anat/mri/smwp2022_S_4173_resampled.nii', '/Volumes/One Touch/resources/adni/neuroimaging/true_control/anat/mri/smwp2022_S_4196_resampled.nii', '/Volumes/One Touch/resources/adni/neuroimaging/true_control/anat/mri/smwp2022_S_4266_resampled.nii', '/Volumes/One Touch/resources/adni/neuroimaging/true_control/anat/mri/smwp2022_S_4291_resampled.nii', '/Volumes/One Touch/resources/adni/neuroimaging/true_control/anat/mri/smwp2022_S_4320_resampled.nii', '/Volumes/One Touch/resources/adni/neuroimaging/true_control/anat/mri/smwp2023_S_4020_resampled.nii', '/Volumes/One Touch/resources/adni/neuroimaging/true_control/anat/mri/smwp2023_S_4164_resampled.nii', '/Volumes/One Touch/resources/adni/neuroimaging/true_control/anat/mri/smwp2023_S_4448_resampled.nii', '/Volumes/One Touch/resources/adni/neuroimaging/true_control/anat/mri/smwp2024_S_4084_resampled.nii', '/Volumes/One Touch/resources/adni/neuroimaging/true_control/anat/mri/smwp2024_S_4158_resampled.nii', '/Volumes/One Touch/resources/adni/neuroimaging/true_control/anat/mri/smwp2031_S_4021_resampled.nii', '/Volumes/One Touch/resources/adni/neuroimaging/true_control/anat/mri/smwp2031_S_4032_resampled.nii', '/Volumes/One Touch/resources/adni/neuroimaging/true_control/anat/mri/smwp2031_S_4218_resampled.nii', '/Volumes/One Touch/resources/adni/neuroimaging/true_control/anat/mri/smwp2031_S_4474_resampled.nii', '/Volumes/One Touch/resources/adni/neuroimaging/true_control/anat/mri/smwp2031_S_4496_resampled.nii', '/Volumes/One Touch/resources/adni/neuroimaging/true_control/anat/mri/smwp2032_S_4277_resampled.nii', '/Volumes/One Touch/resources/adni/neuroimaging/true_control/anat/mri/smwp2032_S_4348_resampled.nii', '/Volumes/One Touch/resources/adni/neuroimaging/true_control/anat/mri/smwp2032_S_4386_resampled.nii', '/Volumes/One Touch/resources/adni/neuroimaging/true_control/anat/mri/smwp2032_S_4429_resampled.nii', '/Volumes/One Touch/resources/adni/neuroimaging/true_control/anat/mri/smwp2032_S_4921_resampled.nii', '/Volumes/One Touch/resources/adni/neuroimaging/true_control/anat/mri/smwp2033_S_4176_resampled.nii', '/Volumes/One Touch/resources/adni/neuroimaging/true_control/anat/mri/smwp2033_S_4177_resampled.nii', '/Volumes/One Touch/resources/adni/neuroimaging/true_control/anat/mri/smwp2033_S_4179_resampled.nii', '/Volumes/One Touch/resources/adni/neuroimaging/true_control/anat/mri/smwp2033_S_4505_resampled.nii', '/Volumes/One Touch/resources/adni/neuroimaging/true_control/anat/mri/smwp2033_S_4508_resampled.nii', '/Volumes/One Touch/resources/adni/neuroimaging/true_control/anat/mri/smwp2035_S_4082_resampled.nii', '/Volumes/One Touch/resources/adni/neuroimaging/true_control/anat/mri/smwp2035_S_4464_resampled.nii', '/Volumes/One Touch/resources/adni/neuroimaging/true_control/anat/mri/smwp2036_S_4389_resampled.nii', '/Volumes/One Touch/resources/adni/neuroimaging/true_control/anat/mri/smwp2036_S_4491_resampled.nii', '/Volumes/One Touch/resources/adni/neuroimaging/true_control/anat/mri/smwp2036_S_4878_resampled.nii', '/Volumes/One Touch/resources/adni/neuroimaging/true_control/anat/mri/smwp2037_S_4028_resampled.nii', '/Volumes/One Touch/resources/adni/neuroimaging/true_control/anat/mri/smwp2037_S_4071_resampled.nii', '/Volumes/One Touch/resources/adni/neuroimaging/true_control/anat/mri/smwp2037_S_4308_resampled.nii', '/Volumes/One Touch/resources/adni/neuroimaging/true_control/anat/mri/smwp2037_S_4410_resampled.nii', '/Volumes/One Touch/resources/adni/neuroimaging/true_control/anat/mri/smwp2041_S_4014_resampled.nii', '/Volumes/One Touch/resources/adni/neuroimaging/true_control/anat/mri/smwp2041_S_4037_resampled.nii', '/Volumes/One Touch/resources/adni/neuroimaging/true_control/anat/mri/smwp2041_S_4060_resampled.nii', '/Volumes/One Touch/resources/adni/neuroimaging/true_control/anat/mri/smwp2041_S_4200_resampled.nii', '/Volumes/One Touch/resources/adni/neuroimaging/true_control/anat/mri/smwp2041_S_4427_resampled.nii', '/Volumes/One Touch/resources/adni/neuroimaging/true_control/anat/mri/smwp2053_S_4578_resampled.nii', '/Volumes/One Touch/resources/adni/neuroimaging/true_control/anat/mri/smwp2068_S_4174_resampled.nii', '/Volumes/One Touch/resources/adni/neuroimaging/true_control/anat/mri/smwp2068_S_4340_resampled.nii', '/Volumes/One Touch/resources/adni/neuroimaging/true_control/anat/mri/smwp2068_S_4424_resampled.nii', '/Volumes/One Touch/resources/adni/neuroimaging/true_control/anat/mri/smwp2070_S_4856_resampled.nii', '/Volumes/One Touch/resources/adni/neuroimaging/true_control/anat/mri/smwp2070_S_5040_resampled.nii', '/Volumes/One Touch/resources/adni/neuroimaging/true_control/anat/mri/smwp2072_S_4103_resampled.nii', '/Volumes/One Touch/resources/adni/neuroimaging/true_control/anat/mri/smwp2072_S_4391_resampled.nii', '/Volumes/One Touch/resources/adni/neuroimaging/true_control/anat/mri/smwp2073_S_4155_resampled.nii', '/Volumes/One Touch/resources/adni/neuroimaging/true_control/anat/mri/smwp2073_S_4382_resampled.nii', '/Volumes/One Touch/resources/adni/neuroimaging/true_control/anat/mri/smwp2073_S_4393_resampled.nii', '/Volumes/One Touch/resources/adni/neuroimaging/true_control/anat/mri/smwp2073_S_4552_resampled.nii', '/Volumes/One Touch/resources/adni/neuroimaging/true_control/anat/mri/smwp2073_S_4559_resampled.nii', '/Volumes/One Touch/resources/adni/neuroimaging/true_control/anat/mri/smwp2073_S_4739_resampled.nii', '/Volumes/One Touch/resources/adni/neuroimaging/true_control/anat/mri/smwp2073_S_4762_resampled.nii', '/Volumes/One Touch/resources/adni/neuroimaging/true_control/anat/mri/smwp2073_S_4795_resampled.nii', '/Volumes/One Touch/resources/adni/neuroimaging/true_control/anat/mri/smwp2073_S_5023_resampled.nii', '/Volumes/One Touch/resources/adni/neuroimaging/true_control/anat/mri/smwp2082_S_4090_resampled.nii', '/Volumes/One Touch/resources/adni/neuroimaging/true_control/anat/mri/smwp2082_S_4208_resampled.nii', '/Volumes/One Touch/resources/adni/neuroimaging/true_control/anat/mri/smwp2082_S_4224_resampled.nii', '/Volumes/One Touch/resources/adni/neuroimaging/true_control/anat/mri/smwp2082_S_4339_resampled.nii', '/Volumes/One Touch/resources/adni/neuroimaging/true_control/anat/mri/smwp2082_S_4428_resampled.nii', '/Volumes/One Touch/resources/adni/neuroimaging/true_control/anat/mri/smwp2099_S_4076_resampled.nii', '/Volumes/One Touch/resources/adni/neuroimaging/true_control/anat/mri/smwp2099_S_4086_resampled.nii', '/Volumes/One Touch/resources/adni/neuroimaging/true_control/anat/mri/smwp2099_S_4104_resampled.nii', '/Volumes/One Touch/resources/adni/neuroimaging/true_control/anat/mri/smwp2100_S_4469_resampled.nii', '/Volumes/One Touch/resources/adni/neuroimaging/true_control/anat/mri/smwp2116_S_4010_resampled.nii', '/Volumes/One Touch/resources/adni/neuroimaging/true_control/anat/mri/smwp2116_S_4043_resampled.nii', '/Volumes/One Touch/resources/adni/neuroimaging/true_control/anat/mri/smwp2116_S_4092_resampled.nii', '/Volumes/One Touch/resources/adni/neuroimaging/true_control/anat/mri/smwp2116_S_4453_resampled.nii', '/Volumes/One Touch/resources/adni/neuroimaging/true_control/anat/mri/smwp2116_S_4483_resampled.nii', '/Volumes/One Touch/resources/adni/neuroimaging/true_control/anat/mri/smwp2116_S_4855_resampled.nii', '/Volumes/One Touch/resources/adni/neuroimaging/true_control/anat/mri/smwp2123_S_4362_resampled.nii', '/Volumes/One Touch/resources/adni/neuroimaging/true_control/anat/mri/smwp2128_S_4586_resampled.nii', '/Volumes/One Touch/resources/adni/neuroimaging/true_control/anat/mri/smwp2128_S_4599_resampled.nii', '/Volumes/One Touch/resources/adni/neuroimaging/true_control/anat/mri/smwp2128_S_4607_resampled.nii', '/Volumes/One Touch/resources/adni/neuroimaging/true_control/anat/mri/smwp2128_S_4609_resampled.nii', '/Volumes/One Touch/resources/adni/neuroimaging/true_control/anat/mri/smwp2128_S_4832_resampled.nii', '/Volumes/One Touch/resources/adni/neuroimaging/true_control/anat/mri/smwp2130_S_4343_resampled.nii', '/Volumes/One Touch/resources/adni/neuroimaging/true_control/anat/mri/smwp2130_S_4352_resampled.nii', '/Volumes/One Touch/resources/adni/neuroimaging/true_control/anat/mri/smwp2135_S_4446_resampled.nii', '/Volumes/One Touch/resources/adni/neuroimaging/true_control/anat/mri/smwp2135_S_4566_resampled.nii', '/Volumes/One Touch/resources/adni/neuroimaging/true_control/anat/mri/smwp2135_S_4598_resampled.nii', '/Volumes/One Touch/resources/adni/neuroimaging/true_control/anat/mri/smwp2136_S_4269_resampled.nii', '/Volumes/One Touch/resources/adni/neuroimaging/true_control/anat/mri/smwp2136_S_4433_resampled.nii', '/Volumes/One Touch/resources/adni/neuroimaging/true_control/anat/mri/smwp2137_S_4466_resampled.nii', '/Volumes/One Touch/resources/adni/neuroimaging/true_control/anat/mri/smwp2137_S_4482_resampled.nii', '/Volumes/One Touch/resources/adni/neuroimaging/true_control/anat/mri/smwp2137_S_4520_resampled.nii', '/Volumes/One Touch/resources/adni/neuroimaging/true_control/anat/mri/smwp2137_S_4587_resampled.nii', '/Volumes/One Touch/resources/adni/neuroimaging/true_control/anat/mri/smwp2137_S_4632_resampled.nii', '/Volumes/One Touch/resources/adni/neuroimaging/true_control/anat/mri/smwp2153_S_4125_resampled.nii', '/Volumes/One Touch/resources/adni/neuroimaging/true_control/anat/mri/smwp2153_S_4139_resampled.nii', '/Volumes/One Touch/resources/adni/neuroimaging/true_control/anat/mri/smwp2153_S_4151_resampled.nii', '/Volumes/One Touch/resources/adni/neuroimaging/true_control/anat/mri/smwp2153_S_4372_resampled.nii', '/Volumes/One Touch/resources/adni/neuroimaging/true_control/anat/mri/smwp2941_S_4066_resampled.nii', '/Volumes/One Touch/resources/adni/neuroimaging/true_control/anat/mri/smwp2941_S_4100_resampled.nii', '/Volumes/One Touch/resources/adni/neuroimaging/true_control/anat/mri/smwp2941_S_4255_resampled.nii', '/Volumes/One Touch/resources/adni/neuroimaging/true_control/anat/mri/smwp2941_S_4292_resampled.nii', '/Volumes/One Touch/resources/adni/neuroimaging/true_control/anat/mri/smwp2941_S_4365_resampled.nii', '/Volumes/One Touch/resources/adni/neuroimaging/true_control/anat/mri/smwp2941_S_4376_resampled.nii']\n",
      "-------------------------------- \n",
      "\n",
      "Will search:,  /Volumes/One Touch/resources/adni/neuroimaging/true_control/anat/mri/smwp3*\n"
     ]
    },
    {
     "name": "stderr",
     "output_type": "stream",
     "text": [
      "100%|██████████| 136/136 [01:53<00:00,  1.20it/s]"
     ]
    },
    {
     "name": "stdout",
     "output_type": "stream",
     "text": [
      "Downsampled cerebrospinal_fluid segment data \n",
      " \n",
      "Saved files to ['/Volumes/One Touch/resources/adni/neuroimaging/true_control/anat/mri/smwp3002_S_4213_resampled.nii', '/Volumes/One Touch/resources/adni/neuroimaging/true_control/anat/mri/smwp3002_S_4225_resampled.nii', '/Volumes/One Touch/resources/adni/neuroimaging/true_control/anat/mri/smwp3002_S_4262_resampled.nii', '/Volumes/One Touch/resources/adni/neuroimaging/true_control/anat/mri/smwp3002_S_4264_resampled.nii', '/Volumes/One Touch/resources/adni/neuroimaging/true_control/anat/mri/smwp3002_S_4270_resampled.nii', '/Volumes/One Touch/resources/adni/neuroimaging/true_control/anat/mri/smwp3006_S_4150_resampled.nii', '/Volumes/One Touch/resources/adni/neuroimaging/true_control/anat/mri/smwp3006_S_4357_resampled.nii', '/Volumes/One Touch/resources/adni/neuroimaging/true_control/anat/mri/smwp3006_S_4449_resampled.nii', '/Volumes/One Touch/resources/adni/neuroimaging/true_control/anat/mri/smwp3006_S_4485_resampled.nii', '/Volumes/One Touch/resources/adni/neuroimaging/true_control/anat/mri/smwp3009_S_4337_resampled.nii', '/Volumes/One Touch/resources/adni/neuroimaging/true_control/anat/mri/smwp3009_S_4388_resampled.nii', '/Volumes/One Touch/resources/adni/neuroimaging/true_control/anat/mri/smwp3009_S_4612_resampled.nii', '/Volumes/One Touch/resources/adni/neuroimaging/true_control/anat/mri/smwp3010_S_4345_resampled.nii', '/Volumes/One Touch/resources/adni/neuroimaging/true_control/anat/mri/smwp3010_S_4442_resampled.nii', '/Volumes/One Touch/resources/adni/neuroimaging/true_control/anat/mri/smwp3011_S_4075_resampled.nii', '/Volumes/One Touch/resources/adni/neuroimaging/true_control/anat/mri/smwp3011_S_4105_resampled.nii', '/Volumes/One Touch/resources/adni/neuroimaging/true_control/anat/mri/smwp3011_S_4120_resampled.nii', '/Volumes/One Touch/resources/adni/neuroimaging/true_control/anat/mri/smwp3011_S_4222_resampled.nii', '/Volumes/One Touch/resources/adni/neuroimaging/true_control/anat/mri/smwp3011_S_4278_resampled.nii', '/Volumes/One Touch/resources/adni/neuroimaging/true_control/anat/mri/smwp3012_S_4026_resampled.nii', '/Volumes/One Touch/resources/adni/neuroimaging/true_control/anat/mri/smwp3012_S_4545_resampled.nii', '/Volumes/One Touch/resources/adni/neuroimaging/true_control/anat/mri/smwp3012_S_4643_resampled.nii', '/Volumes/One Touch/resources/adni/neuroimaging/true_control/anat/mri/smwp3013_S_4579_resampled.nii', '/Volumes/One Touch/resources/adni/neuroimaging/true_control/anat/mri/smwp3013_S_4580_resampled.nii', '/Volumes/One Touch/resources/adni/neuroimaging/true_control/anat/mri/smwp3013_S_4616_resampled.nii', '/Volumes/One Touch/resources/adni/neuroimaging/true_control/anat/mri/smwp3014_S_4080_resampled.nii', '/Volumes/One Touch/resources/adni/neuroimaging/true_control/anat/mri/smwp3014_S_4093_resampled.nii', '/Volumes/One Touch/resources/adni/neuroimaging/true_control/anat/mri/smwp3014_S_4401_resampled.nii', '/Volumes/One Touch/resources/adni/neuroimaging/true_control/anat/mri/smwp3014_S_4576_resampled.nii', '/Volumes/One Touch/resources/adni/neuroimaging/true_control/anat/mri/smwp3014_S_4577_resampled.nii', '/Volumes/One Touch/resources/adni/neuroimaging/true_control/anat/mri/smwp3018_S_4257_resampled.nii', '/Volumes/One Touch/resources/adni/neuroimaging/true_control/anat/mri/smwp3018_S_4313_resampled.nii', '/Volumes/One Touch/resources/adni/neuroimaging/true_control/anat/mri/smwp3018_S_4349_resampled.nii', '/Volumes/One Touch/resources/adni/neuroimaging/true_control/anat/mri/smwp3018_S_4399_resampled.nii', '/Volumes/One Touch/resources/adni/neuroimaging/true_control/anat/mri/smwp3018_S_4400_resampled.nii', '/Volumes/One Touch/resources/adni/neuroimaging/true_control/anat/mri/smwp3019_S_4367_resampled.nii', '/Volumes/One Touch/resources/adni/neuroimaging/true_control/anat/mri/smwp3019_S_4835_resampled.nii', '/Volumes/One Touch/resources/adni/neuroimaging/true_control/anat/mri/smwp3022_S_4173_resampled.nii', '/Volumes/One Touch/resources/adni/neuroimaging/true_control/anat/mri/smwp3022_S_4196_resampled.nii', '/Volumes/One Touch/resources/adni/neuroimaging/true_control/anat/mri/smwp3022_S_4266_resampled.nii', '/Volumes/One Touch/resources/adni/neuroimaging/true_control/anat/mri/smwp3022_S_4291_resampled.nii', '/Volumes/One Touch/resources/adni/neuroimaging/true_control/anat/mri/smwp3022_S_4320_resampled.nii', '/Volumes/One Touch/resources/adni/neuroimaging/true_control/anat/mri/smwp3023_S_4020_resampled.nii', '/Volumes/One Touch/resources/adni/neuroimaging/true_control/anat/mri/smwp3023_S_4164_resampled.nii', '/Volumes/One Touch/resources/adni/neuroimaging/true_control/anat/mri/smwp3023_S_4448_resampled.nii', '/Volumes/One Touch/resources/adni/neuroimaging/true_control/anat/mri/smwp3024_S_4084_resampled.nii', '/Volumes/One Touch/resources/adni/neuroimaging/true_control/anat/mri/smwp3024_S_4158_resampled.nii', '/Volumes/One Touch/resources/adni/neuroimaging/true_control/anat/mri/smwp3031_S_4021_resampled.nii', '/Volumes/One Touch/resources/adni/neuroimaging/true_control/anat/mri/smwp3031_S_4032_resampled.nii', '/Volumes/One Touch/resources/adni/neuroimaging/true_control/anat/mri/smwp3031_S_4218_resampled.nii', '/Volumes/One Touch/resources/adni/neuroimaging/true_control/anat/mri/smwp3031_S_4474_resampled.nii', '/Volumes/One Touch/resources/adni/neuroimaging/true_control/anat/mri/smwp3031_S_4496_resampled.nii', '/Volumes/One Touch/resources/adni/neuroimaging/true_control/anat/mri/smwp3032_S_4277_resampled.nii', '/Volumes/One Touch/resources/adni/neuroimaging/true_control/anat/mri/smwp3032_S_4348_resampled.nii', '/Volumes/One Touch/resources/adni/neuroimaging/true_control/anat/mri/smwp3032_S_4386_resampled.nii', '/Volumes/One Touch/resources/adni/neuroimaging/true_control/anat/mri/smwp3032_S_4429_resampled.nii', '/Volumes/One Touch/resources/adni/neuroimaging/true_control/anat/mri/smwp3032_S_4921_resampled.nii', '/Volumes/One Touch/resources/adni/neuroimaging/true_control/anat/mri/smwp3033_S_4176_resampled.nii', '/Volumes/One Touch/resources/adni/neuroimaging/true_control/anat/mri/smwp3033_S_4177_resampled.nii', '/Volumes/One Touch/resources/adni/neuroimaging/true_control/anat/mri/smwp3033_S_4179_resampled.nii', '/Volumes/One Touch/resources/adni/neuroimaging/true_control/anat/mri/smwp3033_S_4505_resampled.nii', '/Volumes/One Touch/resources/adni/neuroimaging/true_control/anat/mri/smwp3033_S_4508_resampled.nii', '/Volumes/One Touch/resources/adni/neuroimaging/true_control/anat/mri/smwp3035_S_4082_resampled.nii', '/Volumes/One Touch/resources/adni/neuroimaging/true_control/anat/mri/smwp3035_S_4464_resampled.nii', '/Volumes/One Touch/resources/adni/neuroimaging/true_control/anat/mri/smwp3036_S_4389_resampled.nii', '/Volumes/One Touch/resources/adni/neuroimaging/true_control/anat/mri/smwp3036_S_4491_resampled.nii', '/Volumes/One Touch/resources/adni/neuroimaging/true_control/anat/mri/smwp3036_S_4878_resampled.nii', '/Volumes/One Touch/resources/adni/neuroimaging/true_control/anat/mri/smwp3037_S_4028_resampled.nii', '/Volumes/One Touch/resources/adni/neuroimaging/true_control/anat/mri/smwp3037_S_4071_resampled.nii', '/Volumes/One Touch/resources/adni/neuroimaging/true_control/anat/mri/smwp3037_S_4308_resampled.nii', '/Volumes/One Touch/resources/adni/neuroimaging/true_control/anat/mri/smwp3037_S_4410_resampled.nii', '/Volumes/One Touch/resources/adni/neuroimaging/true_control/anat/mri/smwp3041_S_4014_resampled.nii', '/Volumes/One Touch/resources/adni/neuroimaging/true_control/anat/mri/smwp3041_S_4037_resampled.nii', '/Volumes/One Touch/resources/adni/neuroimaging/true_control/anat/mri/smwp3041_S_4060_resampled.nii', '/Volumes/One Touch/resources/adni/neuroimaging/true_control/anat/mri/smwp3041_S_4200_resampled.nii', '/Volumes/One Touch/resources/adni/neuroimaging/true_control/anat/mri/smwp3041_S_4427_resampled.nii', '/Volumes/One Touch/resources/adni/neuroimaging/true_control/anat/mri/smwp3053_S_4578_resampled.nii', '/Volumes/One Touch/resources/adni/neuroimaging/true_control/anat/mri/smwp3068_S_4174_resampled.nii', '/Volumes/One Touch/resources/adni/neuroimaging/true_control/anat/mri/smwp3068_S_4340_resampled.nii', '/Volumes/One Touch/resources/adni/neuroimaging/true_control/anat/mri/smwp3068_S_4424_resampled.nii', '/Volumes/One Touch/resources/adni/neuroimaging/true_control/anat/mri/smwp3070_S_4856_resampled.nii', '/Volumes/One Touch/resources/adni/neuroimaging/true_control/anat/mri/smwp3070_S_5040_resampled.nii', '/Volumes/One Touch/resources/adni/neuroimaging/true_control/anat/mri/smwp3072_S_4103_resampled.nii', '/Volumes/One Touch/resources/adni/neuroimaging/true_control/anat/mri/smwp3072_S_4391_resampled.nii', '/Volumes/One Touch/resources/adni/neuroimaging/true_control/anat/mri/smwp3073_S_4155_resampled.nii', '/Volumes/One Touch/resources/adni/neuroimaging/true_control/anat/mri/smwp3073_S_4382_resampled.nii', '/Volumes/One Touch/resources/adni/neuroimaging/true_control/anat/mri/smwp3073_S_4393_resampled.nii', '/Volumes/One Touch/resources/adni/neuroimaging/true_control/anat/mri/smwp3073_S_4552_resampled.nii', '/Volumes/One Touch/resources/adni/neuroimaging/true_control/anat/mri/smwp3073_S_4559_resampled.nii', '/Volumes/One Touch/resources/adni/neuroimaging/true_control/anat/mri/smwp3073_S_4739_resampled.nii', '/Volumes/One Touch/resources/adni/neuroimaging/true_control/anat/mri/smwp3073_S_4762_resampled.nii', '/Volumes/One Touch/resources/adni/neuroimaging/true_control/anat/mri/smwp3073_S_4795_resampled.nii', '/Volumes/One Touch/resources/adni/neuroimaging/true_control/anat/mri/smwp3073_S_5023_resampled.nii', '/Volumes/One Touch/resources/adni/neuroimaging/true_control/anat/mri/smwp3082_S_4090_resampled.nii', '/Volumes/One Touch/resources/adni/neuroimaging/true_control/anat/mri/smwp3082_S_4208_resampled.nii', '/Volumes/One Touch/resources/adni/neuroimaging/true_control/anat/mri/smwp3082_S_4224_resampled.nii', '/Volumes/One Touch/resources/adni/neuroimaging/true_control/anat/mri/smwp3082_S_4339_resampled.nii', '/Volumes/One Touch/resources/adni/neuroimaging/true_control/anat/mri/smwp3082_S_4428_resampled.nii', '/Volumes/One Touch/resources/adni/neuroimaging/true_control/anat/mri/smwp3099_S_4076_resampled.nii', '/Volumes/One Touch/resources/adni/neuroimaging/true_control/anat/mri/smwp3099_S_4086_resampled.nii', '/Volumes/One Touch/resources/adni/neuroimaging/true_control/anat/mri/smwp3099_S_4104_resampled.nii', '/Volumes/One Touch/resources/adni/neuroimaging/true_control/anat/mri/smwp3100_S_4469_resampled.nii', '/Volumes/One Touch/resources/adni/neuroimaging/true_control/anat/mri/smwp3116_S_4010_resampled.nii', '/Volumes/One Touch/resources/adni/neuroimaging/true_control/anat/mri/smwp3116_S_4043_resampled.nii', '/Volumes/One Touch/resources/adni/neuroimaging/true_control/anat/mri/smwp3116_S_4092_resampled.nii', '/Volumes/One Touch/resources/adni/neuroimaging/true_control/anat/mri/smwp3116_S_4453_resampled.nii', '/Volumes/One Touch/resources/adni/neuroimaging/true_control/anat/mri/smwp3116_S_4483_resampled.nii', '/Volumes/One Touch/resources/adni/neuroimaging/true_control/anat/mri/smwp3116_S_4855_resampled.nii', '/Volumes/One Touch/resources/adni/neuroimaging/true_control/anat/mri/smwp3123_S_4362_resampled.nii', '/Volumes/One Touch/resources/adni/neuroimaging/true_control/anat/mri/smwp3128_S_4586_resampled.nii', '/Volumes/One Touch/resources/adni/neuroimaging/true_control/anat/mri/smwp3128_S_4599_resampled.nii', '/Volumes/One Touch/resources/adni/neuroimaging/true_control/anat/mri/smwp3128_S_4607_resampled.nii', '/Volumes/One Touch/resources/adni/neuroimaging/true_control/anat/mri/smwp3128_S_4609_resampled.nii', '/Volumes/One Touch/resources/adni/neuroimaging/true_control/anat/mri/smwp3128_S_4832_resampled.nii', '/Volumes/One Touch/resources/adni/neuroimaging/true_control/anat/mri/smwp3130_S_4343_resampled.nii', '/Volumes/One Touch/resources/adni/neuroimaging/true_control/anat/mri/smwp3130_S_4352_resampled.nii', '/Volumes/One Touch/resources/adni/neuroimaging/true_control/anat/mri/smwp3135_S_4446_resampled.nii', '/Volumes/One Touch/resources/adni/neuroimaging/true_control/anat/mri/smwp3135_S_4566_resampled.nii', '/Volumes/One Touch/resources/adni/neuroimaging/true_control/anat/mri/smwp3135_S_4598_resampled.nii', '/Volumes/One Touch/resources/adni/neuroimaging/true_control/anat/mri/smwp3136_S_4269_resampled.nii', '/Volumes/One Touch/resources/adni/neuroimaging/true_control/anat/mri/smwp3136_S_4433_resampled.nii', '/Volumes/One Touch/resources/adni/neuroimaging/true_control/anat/mri/smwp3137_S_4466_resampled.nii', '/Volumes/One Touch/resources/adni/neuroimaging/true_control/anat/mri/smwp3137_S_4482_resampled.nii', '/Volumes/One Touch/resources/adni/neuroimaging/true_control/anat/mri/smwp3137_S_4520_resampled.nii', '/Volumes/One Touch/resources/adni/neuroimaging/true_control/anat/mri/smwp3137_S_4587_resampled.nii', '/Volumes/One Touch/resources/adni/neuroimaging/true_control/anat/mri/smwp3137_S_4632_resampled.nii', '/Volumes/One Touch/resources/adni/neuroimaging/true_control/anat/mri/smwp3153_S_4125_resampled.nii', '/Volumes/One Touch/resources/adni/neuroimaging/true_control/anat/mri/smwp3153_S_4139_resampled.nii', '/Volumes/One Touch/resources/adni/neuroimaging/true_control/anat/mri/smwp3153_S_4151_resampled.nii', '/Volumes/One Touch/resources/adni/neuroimaging/true_control/anat/mri/smwp3153_S_4372_resampled.nii', '/Volumes/One Touch/resources/adni/neuroimaging/true_control/anat/mri/smwp3941_S_4066_resampled.nii', '/Volumes/One Touch/resources/adni/neuroimaging/true_control/anat/mri/smwp3941_S_4100_resampled.nii', '/Volumes/One Touch/resources/adni/neuroimaging/true_control/anat/mri/smwp3941_S_4255_resampled.nii', '/Volumes/One Touch/resources/adni/neuroimaging/true_control/anat/mri/smwp3941_S_4292_resampled.nii', '/Volumes/One Touch/resources/adni/neuroimaging/true_control/anat/mri/smwp3941_S_4365_resampled.nii', '/Volumes/One Touch/resources/adni/neuroimaging/true_control/anat/mri/smwp3941_S_4376_resampled.nii']\n",
      "-------------------------------- \n",
      "\n"
     ]
    },
    {
     "name": "stderr",
     "output_type": "stream",
     "text": [
      "\n"
     ]
    }
   ],
   "source": [
    "output_paths = downsample_images_to_mni152(base_directory, grey_matter_glob_name_pattern, white_matter_glob_name_pattern, csf_glob_name_pattern)"
   ]
  },
  {
   "cell_type": "markdown",
   "metadata": {},
   "source": [
    "If you are running this off a cloud, make sure your files are available locally.\n",
    "\n",
    "- The purpose of the below code is not well documented."
   ]
  },
  {
   "cell_type": "code",
   "execution_count": 11,
   "metadata": {},
   "outputs": [
    {
     "name": "stdout",
     "output_type": "stream",
     "text": [
      "Will search:,  /Users/cu135/Dropbox (Partners HealthCare)/studies/atrophy_seeds_2023/Figures/hummingbird_for_shan/derivatives/mri/mwp1*\n"
     ]
    },
    {
     "name": "stderr",
     "output_type": "stream",
     "text": [
      "100%|██████████| 2/2 [00:00<00:00,  4.19it/s]\n"
     ]
    },
    {
     "name": "stdout",
     "output_type": "stream",
     "text": [
      "Downsampled grey_matter segment data \n",
      " \n",
      "Saved files to {'path': '/Users/cu135/Dropbox (Partners HealthCare)/studies/atrophy_seeds_2023/Figures/hummingbird_for_shan/derivatives', 'glob_name_pattern': 'mri/mwp1*'}\n",
      "-------------------------------- \n",
      "\n",
      "Will search:,  /Users/cu135/Dropbox (Partners HealthCare)/studies/atrophy_seeds_2023/Figures/hummingbird_for_shan/derivatives/mri/mwp2*\n"
     ]
    },
    {
     "name": "stderr",
     "output_type": "stream",
     "text": [
      "100%|██████████| 2/2 [00:00<00:00,  4.38it/s]\n"
     ]
    },
    {
     "name": "stdout",
     "output_type": "stream",
     "text": [
      "Downsampled white_matter segment data \n",
      " \n",
      "Saved files to {'path': '/Users/cu135/Dropbox (Partners HealthCare)/studies/atrophy_seeds_2023/Figures/hummingbird_for_shan/derivatives', 'glob_name_pattern': 'mri/mwp2*'}\n",
      "-------------------------------- \n",
      "\n",
      "Will search:,  /Users/cu135/Dropbox (Partners HealthCare)/studies/atrophy_seeds_2023/Figures/hummingbird_for_shan/derivatives/mri/mwp3*\n"
     ]
    },
    {
     "name": "stderr",
     "output_type": "stream",
     "text": [
      "100%|██████████| 2/2 [00:00<00:00,  4.10it/s]"
     ]
    },
    {
     "name": "stdout",
     "output_type": "stream",
     "text": [
      "Downsampled cerebrospinal_fluid segment data \n",
      " \n",
      "Saved files to {'path': '/Users/cu135/Dropbox (Partners HealthCare)/studies/atrophy_seeds_2023/Figures/hummingbird_for_shan/derivatives', 'glob_name_pattern': 'mri/mwp3*'}\n",
      "-------------------------------- \n",
      "\n"
     ]
    },
    {
     "name": "stderr",
     "output_type": "stream",
     "text": [
      "\n"
     ]
    }
   ],
   "source": [
    "segments_dict = {\n",
    "    'grey_matter': {'path': base_directory, 'glob_name_pattern': grey_matter_glob_name_pattern},\n",
    "    'white_matter': {'path': base_directory, 'glob_name_pattern': white_matter_glob_name_pattern},\n",
    "    'cerebrospinal_fluid': {'path': base_directory, 'glob_name_pattern': csf_glob_name_pattern}\n",
    "}\n",
    "\n",
    "output_paths_dict = {}\n",
    "\n",
    "for k, v in segments_dict.items():\n",
    "    output_paths_dict[k] = downsample_to_mni152_images_in_folder(os.path.join(v['path'], v['glob_name_pattern']), dry_run = False)\n",
    "    print(f'Downsampled {k} segment data \\n ')\n",
    "    print(f'Saved files to {v}')\n",
    "    print('-------------------------------- \\n')"
   ]
  },
  {
   "cell_type": "markdown",
   "metadata": {},
   "source": [
    "Your files have now been downsampled to 2x2x2mm resolution.\n",
    "Carry on to Notebook 02 to derive atrophy seeds\n",
    "\n",
    "-Calvin"
   ]
  },
  {
   "cell_type": "markdown",
   "metadata": {},
   "source": []
  }
 ],
 "metadata": {
  "kernelspec": {
   "display_name": "nimlab_py310",
   "language": "python",
   "name": "python3"
  },
  "language_info": {
   "codemirror_mode": {
    "name": "ipython",
    "version": 3
   },
   "file_extension": ".py",
   "mimetype": "text/x-python",
   "name": "python",
   "nbconvert_exporter": "python",
   "pygments_lexer": "ipython3",
   "version": "3.10.8"
  },
  "orig_nbformat": 4
 },
 "nbformat": 4,
 "nbformat_minor": 2
}
