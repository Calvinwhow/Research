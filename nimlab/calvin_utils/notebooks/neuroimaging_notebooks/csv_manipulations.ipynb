{
 "cells": [
  {
   "cell_type": "code",
   "execution_count": 1,
   "metadata": {},
   "outputs": [],
   "source": [
    "import pandas as pd\n",
    "import os\n",
    "\n",
    "def add_subject_column(csv_path):\n",
    "    pd.read_csv(csv_path).assign(subject=lambda df: df.iloc[:, 0].apply(lambda x: os.path.basename(x).split('.nii')[0])).to_csv(csv_path.replace('.csv', '_and_subjects.csv'), index=False)\n",
    "\n",
    "# Example usage:\n",
    "# add_subject_column('your_file_path_here.csv')\n"
   ]
  },
  {
   "cell_type": "code",
   "execution_count": 2,
   "metadata": {},
   "outputs": [],
   "source": [
    "csv_path = '/Users/cu135/Dropbox (Partners HealthCare)/studies/atrophy_seeds_2023/analyses/paths_to_niftis_for_elmira'"
   ]
  },
  {
   "cell_type": "code",
   "execution_count": 3,
   "metadata": {},
   "outputs": [],
   "source": [
    "add_subject_column(csv_path)"
   ]
  },
  {
   "cell_type": "markdown",
   "metadata": {},
   "source": [
    "Merge two CSVs"
   ]
  },
  {
   "cell_type": "code",
   "execution_count": 13,
   "metadata": {},
   "outputs": [],
   "source": [
    "csv_1 = '/Users/cu135/Dropbox (Partners HealthCare)/resources/datasets/ADNI/metadata/cleaned_information/all_adni_patient_diagnoses.csv'\n",
    "csv_2 = '/Users/cu135/Dropbox (Partners HealthCare)/resources/datasets/ADNI/metadata/nifti_paths/paths_to_t1_files_and_subjects.csv'\n",
    "merge_column = 'PTID'\n",
    "save_path = '/Users/cu135/Dropbox (Partners HealthCare)/resources/datasets/ADNI/metadata/cleaned_information/master_spreadsheet.csv'"
   ]
  },
  {
   "cell_type": "markdown",
   "metadata": {},
   "source": [
    "Unconditional Merge"
   ]
  },
  {
   "cell_type": "code",
   "execution_count": 12,
   "metadata": {},
   "outputs": [],
   "source": [
    "merged_df = pd.merge(pd.read_csv(csv_1), pd.read_csv(csv_2), on=merge_column).to_csv(save_path, index=False)\n"
   ]
  },
  {
   "cell_type": "markdown",
   "metadata": {},
   "source": [
    "Conditional Merge"
   ]
  },
  {
   "cell_type": "code",
   "execution_count": 48,
   "metadata": {},
   "outputs": [],
   "source": [
    "csv_1 = '/Users/cu135/Dropbox (Partners HealthCare)/resources/datasets/ADNI/metadata/cleaned_information/master_spreadsheet_6mo_12mo_change.csv'\n",
    "csv_2 = '/Users/cu135/Dropbox (Partners HealthCare)/resources/datasets/ADNI/metadata/nifti_paths/paths_to_corrected_gm_vbm_files_and_subjects.csv'\n",
    "merge_column = 'PTID'\n",
    "save_path = '/Users/cu135/Dropbox (Partners HealthCare)/resources/datasets/ADNI/metadata/cleaned_information/master_spreadsheet_6mo_12mo_change_uncgm.csv'\n",
    "condition_column_in_first_csv = 'VISCODE'\n",
    "condition_to_keep_merges_on = 'bl'\n",
    "columns_to_conditionally_merge = ['local_path_spm_gm_vol_uncorrected']"
   ]
  },
  {
   "cell_type": "code",
   "execution_count": 49,
   "metadata": {},
   "outputs": [],
   "source": [
    "# Read both CSV files into DataFrames\n",
    "df_paths = pd.read_csv(csv_1)\n",
    "df_patient = pd.read_csv(csv_2)\n",
    "\n",
    "# Merge the DataFrames on 'PTID', keeping all records\n",
    "merged_df = pd.merge(df_patient, df_paths, on=merge_column, how='left')\n",
    "\n",
    "# Loop through each column in the list and apply the condition\n",
    "condition = (merged_df[condition_column_in_first_csv] == condition_to_keep_merges_on)\n",
    "for col in columns_to_conditionally_merge:\n",
    "    merged_df.loc[~condition, col] = None\n",
    "\n",
    "# Save the merged DataFrame to 'total.csv'\n",
    "merged_df.to_csv(save_path, index=False)\n"
   ]
  },
  {
   "cell_type": "markdown",
   "metadata": {},
   "source": [
    "Remove Every Nth Row of a DataFrame"
   ]
  },
  {
   "cell_type": "code",
   "execution_count": 24,
   "metadata": {},
   "outputs": [],
   "source": [
    "csv_1 = '/Users/cu135/Dropbox (Partners HealthCare)/resources/datasets/ADNI/metadata/cleaned_information/ADNI1_1_yearpercent_change_adas_scores.csv'"
   ]
  },
  {
   "cell_type": "code",
   "execution_count": 25,
   "metadata": {},
   "outputs": [],
   "source": [
    "# Read the first CSV into a DataFrame\n",
    "df1 = pd.read_csv(csv_1)\n",
    "\n",
    "# Remove every even-indexed row\n",
    "filtered_df = df1.iloc[1::2]\n",
    "\n",
    "# Save the filtered DataFrame\n",
    "filtered_df.to_csv(csv_1.replace('.csv', '_filtered.csv'), index=False)"
   ]
  },
  {
   "cell_type": "markdown",
   "metadata": {},
   "source": [
    "Copy Random Subsample of Niftis to A Directory"
   ]
  },
  {
   "cell_type": "code",
   "execution_count": 50,
   "metadata": {},
   "outputs": [],
   "source": [
    "import pandas as pd\n",
    "import os\n",
    "import shutil\n",
    "\n",
    "def sample_and_copy_files(csv_path, column_name, N, target_dir):\n",
    "    # Read the CSV file into a DataFrame\n",
    "    df = pd.read_csv(csv_path)\n",
    "    \n",
    "    # Drop NaN values from the specified column\n",
    "    df = df.dropna(subset=[column_name])\n",
    "    \n",
    "    # Sample N random rows from the specified column\n",
    "    sampled_paths = df[column_name].sample(n=N)\n",
    "    \n",
    "    # Create the target directory if it doesn't exist\n",
    "    if not os.path.exists(target_dir):\n",
    "        os.makedirs(target_dir)\n",
    "    \n",
    "    # Copy each sampled file to the target directory\n",
    "    for path in sampled_paths:\n",
    "        if os.path.exists(path):  # Check if the file exists\n",
    "            shutil.copy(path, target_dir)\n",
    "        else:\n",
    "            print(f\"File not found: {path}\")\n"
   ]
  },
  {
   "cell_type": "code",
   "execution_count": 51,
   "metadata": {},
   "outputs": [],
   "source": [
    "# Your specified variables\n",
    "csv_path = '/Users/cu135/Dropbox (Partners HealthCare)/resources/datasets/ADNI/metadata/cleaned_information/master_spreadsheet_6mo_12mo_change.csv'\n",
    "column_name = 'local_paths_to_t1_file'\n",
    "N = 50  # Number of samples\n",
    "target_dir = '/Users/cu135/Dropbox (Partners HealthCare)/studies/atrophy_seeds_2023/for_elmira'\n"
   ]
  },
  {
   "cell_type": "code",
   "execution_count": 52,
   "metadata": {},
   "outputs": [],
   "source": [
    "# Call the function\n",
    "sample_and_copy_files(csv_path, column_name, N, target_dir)\n"
   ]
  },
  {
   "cell_type": "code",
   "execution_count": null,
   "metadata": {},
   "outputs": [],
   "source": []
  }
 ],
 "metadata": {
  "kernelspec": {
   "display_name": "nimlab_py310",
   "language": "python",
   "name": "python3"
  },
  "language_info": {
   "codemirror_mode": {
    "name": "ipython",
    "version": 3
   },
   "file_extension": ".py",
   "mimetype": "text/x-python",
   "name": "python",
   "nbconvert_exporter": "python",
   "pygments_lexer": "ipython3",
   "version": "3.10.8"
  }
 },
 "nbformat": 4,
 "nbformat_minor": 2
}
