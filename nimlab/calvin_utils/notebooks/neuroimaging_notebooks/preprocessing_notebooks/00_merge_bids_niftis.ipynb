{
 "cells": [
  {
   "cell_type": "code",
   "execution_count": 11,
   "metadata": {},
   "outputs": [
    {
     "name": "stderr",
     "output_type": "stream",
     "text": [
      "  0%|          | 0/61 [00:00<?, ?it/s]"
     ]
    },
    {
     "name": "stdout",
     "output_type": "stream",
     "text": [
      "Attempting to import from: /Users/cu135/Dropbox (Partners HealthCare)/resources/datasets/Queensland_PD_DBS_STN/BIDSdata/derivatives/leaddbs/sub-LeadDBS034/stimulations/MNI152NLin2009bAsym/gs_2023Aysu/*sim-binary_model-simbio_hemi-*_mni152*.nii\n"
     ]
    },
    {
     "data": {
      "text/plain": [
       "array([0., 0., 0., ..., 0., 0., 0.])"
      ]
     },
     "metadata": {},
     "output_type": "display_data"
    },
    {
     "name": "stderr",
     "output_type": "stream",
     "text": [
      "  3%|▎         | 2/61 [00:00<00:07,  8.39it/s]"
     ]
    },
    {
     "name": "stdout",
     "output_type": "stream",
     "text": [
      "Image saved to: \n",
      " /Users/cu135/Dropbox (Partners HealthCare)/resources/datasets/Queensland_PD_DBS_STN/BIDSdata/derivatives/leaddbs/sub-LeadDBS034/stimulations/MNI152NLin2009bAsym/gs_2023Aysu\n",
      "\n",
      " ***Processed: /Users/cu135/Dropbox (Partners HealthCare)/resources/datasets/Queensland_PD_DBS_STN/BIDSdata/derivatives/leaddbs/sub-LeadDBS034\n",
      "Attempting to import from: /Users/cu135/Dropbox (Partners HealthCare)/resources/datasets/Queensland_PD_DBS_STN/BIDSdata/derivatives/leaddbs/sub-LeadDBS060/stimulations/MNI152NLin2009bAsym/gs_2023Aysu/*sim-binary_model-simbio_hemi-*_mni152*.nii\n"
     ]
    },
    {
     "data": {
      "text/plain": [
       "array([0., 0., 0., ..., 0., 0., 0.])"
      ]
     },
     "metadata": {},
     "output_type": "display_data"
    },
    {
     "name": "stderr",
     "output_type": "stream",
     "text": [
      "  5%|▍         | 3/61 [00:00<00:10,  5.79it/s]"
     ]
    },
    {
     "name": "stdout",
     "output_type": "stream",
     "text": [
      "Image saved to: \n",
      " /Users/cu135/Dropbox (Partners HealthCare)/resources/datasets/Queensland_PD_DBS_STN/BIDSdata/derivatives/leaddbs/sub-LeadDBS060/stimulations/MNI152NLin2009bAsym/gs_2023Aysu\n",
      "\n",
      " ***Processed: /Users/cu135/Dropbox (Partners HealthCare)/resources/datasets/Queensland_PD_DBS_STN/BIDSdata/derivatives/leaddbs/sub-LeadDBS060\n",
      "Attempting to import from: /Users/cu135/Dropbox (Partners HealthCare)/resources/datasets/Queensland_PD_DBS_STN/BIDSdata/derivatives/leaddbs/sub-LeadDBS058/stimulations/MNI152NLin2009bAsym/gs_2023Aysu/*sim-binary_model-simbio_hemi-*_mni152*.nii\n"
     ]
    },
    {
     "data": {
      "text/plain": [
       "array([0., 0., 0., ..., 0., 0., 0.])"
      ]
     },
     "metadata": {},
     "output_type": "display_data"
    },
    {
     "name": "stderr",
     "output_type": "stream",
     "text": [
      "  7%|▋         | 4/61 [00:00<00:12,  4.75it/s]"
     ]
    },
    {
     "name": "stdout",
     "output_type": "stream",
     "text": [
      "Image saved to: \n",
      " /Users/cu135/Dropbox (Partners HealthCare)/resources/datasets/Queensland_PD_DBS_STN/BIDSdata/derivatives/leaddbs/sub-LeadDBS058/stimulations/MNI152NLin2009bAsym/gs_2023Aysu\n",
      "\n",
      " ***Processed: /Users/cu135/Dropbox (Partners HealthCare)/resources/datasets/Queensland_PD_DBS_STN/BIDSdata/derivatives/leaddbs/sub-LeadDBS058\n",
      "Attempting to import from: /Users/cu135/Dropbox (Partners HealthCare)/resources/datasets/Queensland_PD_DBS_STN/BIDSdata/derivatives/leaddbs/sub-LeadDBS067/stimulations/MNI152NLin2009bAsym/gs_2023Aysu/*sim-binary_model-simbio_hemi-*_mni152*.nii\n"
     ]
    },
    {
     "data": {
      "text/plain": [
       "array([0., 0., 0., ..., 0., 0., 0.])"
      ]
     },
     "metadata": {},
     "output_type": "display_data"
    },
    {
     "name": "stderr",
     "output_type": "stream",
     "text": [
      "  8%|▊         | 5/61 [00:01<00:12,  4.45it/s]"
     ]
    },
    {
     "name": "stdout",
     "output_type": "stream",
     "text": [
      "Image saved to: \n",
      " /Users/cu135/Dropbox (Partners HealthCare)/resources/datasets/Queensland_PD_DBS_STN/BIDSdata/derivatives/leaddbs/sub-LeadDBS067/stimulations/MNI152NLin2009bAsym/gs_2023Aysu\n",
      "\n",
      " ***Processed: /Users/cu135/Dropbox (Partners HealthCare)/resources/datasets/Queensland_PD_DBS_STN/BIDSdata/derivatives/leaddbs/sub-LeadDBS067\n",
      "Attempting to import from: /Users/cu135/Dropbox (Partners HealthCare)/resources/datasets/Queensland_PD_DBS_STN/BIDSdata/derivatives/leaddbs/sub-LeadDBS051/stimulations/MNI152NLin2009bAsym/gs_2023Aysu/*sim-binary_model-simbio_hemi-*_mni152*.nii\n"
     ]
    },
    {
     "data": {
      "text/plain": [
       "array([0., 0., 0., ..., 0., 0., 0.])"
      ]
     },
     "metadata": {},
     "output_type": "display_data"
    },
    {
     "name": "stderr",
     "output_type": "stream",
     "text": [
      " 10%|▉         | 6/61 [00:01<00:13,  4.17it/s]"
     ]
    },
    {
     "name": "stdout",
     "output_type": "stream",
     "text": [
      "Image saved to: \n",
      " /Users/cu135/Dropbox (Partners HealthCare)/resources/datasets/Queensland_PD_DBS_STN/BIDSdata/derivatives/leaddbs/sub-LeadDBS051/stimulations/MNI152NLin2009bAsym/gs_2023Aysu\n",
      "\n",
      " ***Processed: /Users/cu135/Dropbox (Partners HealthCare)/resources/datasets/Queensland_PD_DBS_STN/BIDSdata/derivatives/leaddbs/sub-LeadDBS051\n",
      "Attempting to import from: /Users/cu135/Dropbox (Partners HealthCare)/resources/datasets/Queensland_PD_DBS_STN/BIDSdata/derivatives/leaddbs/sub-LeadDBS069/stimulations/MNI152NLin2009bAsym/gs_2023Aysu/*sim-binary_model-simbio_hemi-*_mni152*.nii\n"
     ]
    },
    {
     "data": {
      "text/plain": [
       "array([0., 0., 0., ..., 0., 0., 0.])"
      ]
     },
     "metadata": {},
     "output_type": "display_data"
    },
    {
     "name": "stderr",
     "output_type": "stream",
     "text": [
      " 11%|█▏        | 7/61 [00:01<00:13,  4.11it/s]"
     ]
    },
    {
     "name": "stdout",
     "output_type": "stream",
     "text": [
      "Image saved to: \n",
      " /Users/cu135/Dropbox (Partners HealthCare)/resources/datasets/Queensland_PD_DBS_STN/BIDSdata/derivatives/leaddbs/sub-LeadDBS069/stimulations/MNI152NLin2009bAsym/gs_2023Aysu\n",
      "\n",
      " ***Processed: /Users/cu135/Dropbox (Partners HealthCare)/resources/datasets/Queensland_PD_DBS_STN/BIDSdata/derivatives/leaddbs/sub-LeadDBS069\n",
      "Attempting to import from: /Users/cu135/Dropbox (Partners HealthCare)/resources/datasets/Queensland_PD_DBS_STN/BIDSdata/derivatives/leaddbs/sub-LeadDBS056/stimulations/MNI152NLin2009bAsym/gs_2023Aysu/*sim-binary_model-simbio_hemi-*_mni152*.nii\n"
     ]
    },
    {
     "data": {
      "text/plain": [
       "array([0., 0., 0., ..., 0., 0., 0.])"
      ]
     },
     "metadata": {},
     "output_type": "display_data"
    },
    {
     "name": "stderr",
     "output_type": "stream",
     "text": [
      " 13%|█▎        | 8/61 [00:01<00:13,  3.94it/s]"
     ]
    },
    {
     "name": "stdout",
     "output_type": "stream",
     "text": [
      "Image saved to: \n",
      " /Users/cu135/Dropbox (Partners HealthCare)/resources/datasets/Queensland_PD_DBS_STN/BIDSdata/derivatives/leaddbs/sub-LeadDBS056/stimulations/MNI152NLin2009bAsym/gs_2023Aysu\n",
      "\n",
      " ***Processed: /Users/cu135/Dropbox (Partners HealthCare)/resources/datasets/Queensland_PD_DBS_STN/BIDSdata/derivatives/leaddbs/sub-LeadDBS056\n",
      "Attempting to import from: /Users/cu135/Dropbox (Partners HealthCare)/resources/datasets/Queensland_PD_DBS_STN/BIDSdata/derivatives/leaddbs/sub-LeadDBS035/stimulations/MNI152NLin2009bAsym/gs_2023Aysu/*sim-binary_model-simbio_hemi-*_mni152*.nii\n"
     ]
    },
    {
     "data": {
      "text/plain": [
       "array([0., 0., 0., ..., 0., 0., 0.])"
      ]
     },
     "metadata": {},
     "output_type": "display_data"
    },
    {
     "name": "stderr",
     "output_type": "stream",
     "text": [
      " 15%|█▍        | 9/61 [00:02<00:13,  3.73it/s]"
     ]
    },
    {
     "name": "stdout",
     "output_type": "stream",
     "text": [
      "Image saved to: \n",
      " /Users/cu135/Dropbox (Partners HealthCare)/resources/datasets/Queensland_PD_DBS_STN/BIDSdata/derivatives/leaddbs/sub-LeadDBS035/stimulations/MNI152NLin2009bAsym/gs_2023Aysu\n",
      "\n",
      " ***Processed: /Users/cu135/Dropbox (Partners HealthCare)/resources/datasets/Queensland_PD_DBS_STN/BIDSdata/derivatives/leaddbs/sub-LeadDBS035\n",
      "Attempting to import from: /Users/cu135/Dropbox (Partners HealthCare)/resources/datasets/Queensland_PD_DBS_STN/BIDSdata/derivatives/leaddbs/sub-LeadDBS068/stimulations/MNI152NLin2009bAsym/gs_2023Aysu/*sim-binary_model-simbio_hemi-*_mni152*.nii\n"
     ]
    },
    {
     "data": {
      "text/plain": [
       "array([0., 0., 0., ..., 0., 0., 0.])"
      ]
     },
     "metadata": {},
     "output_type": "display_data"
    },
    {
     "name": "stderr",
     "output_type": "stream",
     "text": [
      " 16%|█▋        | 10/61 [00:02<00:14,  3.60it/s]"
     ]
    },
    {
     "name": "stdout",
     "output_type": "stream",
     "text": [
      "Image saved to: \n",
      " /Users/cu135/Dropbox (Partners HealthCare)/resources/datasets/Queensland_PD_DBS_STN/BIDSdata/derivatives/leaddbs/sub-LeadDBS068/stimulations/MNI152NLin2009bAsym/gs_2023Aysu\n",
      "\n",
      " ***Processed: /Users/cu135/Dropbox (Partners HealthCare)/resources/datasets/Queensland_PD_DBS_STN/BIDSdata/derivatives/leaddbs/sub-LeadDBS068\n",
      "Attempting to import from: /Users/cu135/Dropbox (Partners HealthCare)/resources/datasets/Queensland_PD_DBS_STN/BIDSdata/derivatives/leaddbs/sub-LeadDBS057/stimulations/MNI152NLin2009bAsym/gs_2023Aysu/*sim-binary_model-simbio_hemi-*_mni152*.nii\n"
     ]
    },
    {
     "data": {
      "text/plain": [
       "array([0., 0., 0., ..., 0., 0., 0.])"
      ]
     },
     "metadata": {},
     "output_type": "display_data"
    },
    {
     "name": "stderr",
     "output_type": "stream",
     "text": [
      " 18%|█▊        | 11/61 [00:02<00:13,  3.61it/s]"
     ]
    },
    {
     "name": "stdout",
     "output_type": "stream",
     "text": [
      "Image saved to: \n",
      " /Users/cu135/Dropbox (Partners HealthCare)/resources/datasets/Queensland_PD_DBS_STN/BIDSdata/derivatives/leaddbs/sub-LeadDBS057/stimulations/MNI152NLin2009bAsym/gs_2023Aysu\n",
      "\n",
      " ***Processed: /Users/cu135/Dropbox (Partners HealthCare)/resources/datasets/Queensland_PD_DBS_STN/BIDSdata/derivatives/leaddbs/sub-LeadDBS057\n",
      "Attempting to import from: /Users/cu135/Dropbox (Partners HealthCare)/resources/datasets/Queensland_PD_DBS_STN/BIDSdata/derivatives/leaddbs/sub-LeadDBS050/stimulations/MNI152NLin2009bAsym/gs_2023Aysu/*sim-binary_model-simbio_hemi-*_mni152*.nii\n"
     ]
    },
    {
     "data": {
      "text/plain": [
       "array([0., 0., 0., ..., 0., 0., 0.])"
      ]
     },
     "metadata": {},
     "output_type": "display_data"
    },
    {
     "name": "stderr",
     "output_type": "stream",
     "text": [
      " 20%|█▉        | 12/61 [00:02<00:13,  3.62it/s]"
     ]
    },
    {
     "name": "stdout",
     "output_type": "stream",
     "text": [
      "Image saved to: \n",
      " /Users/cu135/Dropbox (Partners HealthCare)/resources/datasets/Queensland_PD_DBS_STN/BIDSdata/derivatives/leaddbs/sub-LeadDBS050/stimulations/MNI152NLin2009bAsym/gs_2023Aysu\n",
      "\n",
      " ***Processed: /Users/cu135/Dropbox (Partners HealthCare)/resources/datasets/Queensland_PD_DBS_STN/BIDSdata/derivatives/leaddbs/sub-LeadDBS050\n",
      "Attempting to import from: /Users/cu135/Dropbox (Partners HealthCare)/resources/datasets/Queensland_PD_DBS_STN/BIDSdata/derivatives/leaddbs/sub-LeadDBS066/stimulations/MNI152NLin2009bAsym/gs_2023Aysu/*sim-binary_model-simbio_hemi-*_mni152*.nii\n"
     ]
    },
    {
     "data": {
      "text/plain": [
       "array([0., 0., 0., ..., 0., 0., 0.])"
      ]
     },
     "metadata": {},
     "output_type": "display_data"
    },
    {
     "name": "stderr",
     "output_type": "stream",
     "text": [
      " 21%|██▏       | 13/61 [00:03<00:12,  3.73it/s]"
     ]
    },
    {
     "name": "stdout",
     "output_type": "stream",
     "text": [
      "Image saved to: \n",
      " /Users/cu135/Dropbox (Partners HealthCare)/resources/datasets/Queensland_PD_DBS_STN/BIDSdata/derivatives/leaddbs/sub-LeadDBS066/stimulations/MNI152NLin2009bAsym/gs_2023Aysu\n",
      "\n",
      " ***Processed: /Users/cu135/Dropbox (Partners HealthCare)/resources/datasets/Queensland_PD_DBS_STN/BIDSdata/derivatives/leaddbs/sub-LeadDBS066\n",
      "Attempting to import from: /Users/cu135/Dropbox (Partners HealthCare)/resources/datasets/Queensland_PD_DBS_STN/BIDSdata/derivatives/leaddbs/sub-LeadDBS061/stimulations/MNI152NLin2009bAsym/gs_2023Aysu/*sim-binary_model-simbio_hemi-*_mni152*.nii\n"
     ]
    },
    {
     "data": {
      "text/plain": [
       "array([0., 0., 0., ..., 0., 0., 0.])"
      ]
     },
     "metadata": {},
     "output_type": "display_data"
    },
    {
     "name": "stderr",
     "output_type": "stream",
     "text": [
      " 23%|██▎       | 14/61 [00:03<00:12,  3.74it/s]"
     ]
    },
    {
     "name": "stdout",
     "output_type": "stream",
     "text": [
      "Image saved to: \n",
      " /Users/cu135/Dropbox (Partners HealthCare)/resources/datasets/Queensland_PD_DBS_STN/BIDSdata/derivatives/leaddbs/sub-LeadDBS061/stimulations/MNI152NLin2009bAsym/gs_2023Aysu\n",
      "\n",
      " ***Processed: /Users/cu135/Dropbox (Partners HealthCare)/resources/datasets/Queensland_PD_DBS_STN/BIDSdata/derivatives/leaddbs/sub-LeadDBS061\n",
      "Attempting to import from: /Users/cu135/Dropbox (Partners HealthCare)/resources/datasets/Queensland_PD_DBS_STN/BIDSdata/derivatives/leaddbs/sub-LeadDBS043/stimulations/MNI152NLin2009bAsym/gs_2023Aysu/*sim-binary_model-simbio_hemi-*_mni152*.nii\n"
     ]
    },
    {
     "data": {
      "text/plain": [
       "array([0., 0., 0., ..., 0., 0., 0.])"
      ]
     },
     "metadata": {},
     "output_type": "display_data"
    },
    {
     "name": "stderr",
     "output_type": "stream",
     "text": [
      " 25%|██▍       | 15/61 [00:03<00:12,  3.70it/s]"
     ]
    },
    {
     "name": "stdout",
     "output_type": "stream",
     "text": [
      "Image saved to: \n",
      " /Users/cu135/Dropbox (Partners HealthCare)/resources/datasets/Queensland_PD_DBS_STN/BIDSdata/derivatives/leaddbs/sub-LeadDBS043/stimulations/MNI152NLin2009bAsym/gs_2023Aysu\n",
      "\n",
      " ***Processed: /Users/cu135/Dropbox (Partners HealthCare)/resources/datasets/Queensland_PD_DBS_STN/BIDSdata/derivatives/leaddbs/sub-LeadDBS043\n",
      "Attempting to import from: /Users/cu135/Dropbox (Partners HealthCare)/resources/datasets/Queensland_PD_DBS_STN/BIDSdata/derivatives/leaddbs/sub-LeadDBS088/stimulations/MNI152NLin2009bAsym/gs_2023Aysu/*sim-binary_model-simbio_hemi-*_mni152*.nii\n"
     ]
    },
    {
     "data": {
      "text/plain": [
       "array([0., 0., 0., ..., 0., 0., 0.])"
      ]
     },
     "metadata": {},
     "output_type": "display_data"
    },
    {
     "name": "stderr",
     "output_type": "stream",
     "text": [
      " 26%|██▌       | 16/61 [00:04<00:12,  3.66it/s]"
     ]
    },
    {
     "name": "stdout",
     "output_type": "stream",
     "text": [
      "Image saved to: \n",
      " /Users/cu135/Dropbox (Partners HealthCare)/resources/datasets/Queensland_PD_DBS_STN/BIDSdata/derivatives/leaddbs/sub-LeadDBS088/stimulations/MNI152NLin2009bAsym/gs_2023Aysu\n",
      "\n",
      " ***Processed: /Users/cu135/Dropbox (Partners HealthCare)/resources/datasets/Queensland_PD_DBS_STN/BIDSdata/derivatives/leaddbs/sub-LeadDBS088\n",
      "Attempting to import from: /Users/cu135/Dropbox (Partners HealthCare)/resources/datasets/Queensland_PD_DBS_STN/BIDSdata/derivatives/leaddbs/sub-LeadDBS044/stimulations/MNI152NLin2009bAsym/gs_2023Aysu/*sim-binary_model-simbio_hemi-*_mni152*.nii\n"
     ]
    },
    {
     "data": {
      "text/plain": [
       "array([0., 0., 0., ..., 0., 0., 0.])"
      ]
     },
     "metadata": {},
     "output_type": "display_data"
    },
    {
     "name": "stderr",
     "output_type": "stream",
     "text": [
      " 28%|██▊       | 17/61 [00:04<00:12,  3.67it/s]"
     ]
    },
    {
     "name": "stdout",
     "output_type": "stream",
     "text": [
      "Image saved to: \n",
      " /Users/cu135/Dropbox (Partners HealthCare)/resources/datasets/Queensland_PD_DBS_STN/BIDSdata/derivatives/leaddbs/sub-LeadDBS044/stimulations/MNI152NLin2009bAsym/gs_2023Aysu\n",
      "\n",
      " ***Processed: /Users/cu135/Dropbox (Partners HealthCare)/resources/datasets/Queensland_PD_DBS_STN/BIDSdata/derivatives/leaddbs/sub-LeadDBS044\n",
      "Attempting to import from: /Users/cu135/Dropbox (Partners HealthCare)/resources/datasets/Queensland_PD_DBS_STN/BIDSdata/derivatives/leaddbs/sub-LeadDBS086/stimulations/MNI152NLin2009bAsym/gs_2023Aysu/*sim-binary_model-simbio_hemi-*_mni152*.nii\n"
     ]
    },
    {
     "data": {
      "text/plain": [
       "array([0., 0., 0., ..., 0., 0., 0.])"
      ]
     },
     "metadata": {},
     "output_type": "display_data"
    },
    {
     "name": "stderr",
     "output_type": "stream",
     "text": [
      " 30%|██▉       | 18/61 [00:04<00:11,  3.67it/s]"
     ]
    },
    {
     "name": "stdout",
     "output_type": "stream",
     "text": [
      "Image saved to: \n",
      " /Users/cu135/Dropbox (Partners HealthCare)/resources/datasets/Queensland_PD_DBS_STN/BIDSdata/derivatives/leaddbs/sub-LeadDBS086/stimulations/MNI152NLin2009bAsym/gs_2023Aysu\n",
      "\n",
      " ***Processed: /Users/cu135/Dropbox (Partners HealthCare)/resources/datasets/Queensland_PD_DBS_STN/BIDSdata/derivatives/leaddbs/sub-LeadDBS086\n",
      "Attempting to import from: /Users/cu135/Dropbox (Partners HealthCare)/resources/datasets/Queensland_PD_DBS_STN/BIDSdata/derivatives/leaddbs/sub-LeadDBS072/stimulations/MNI152NLin2009bAsym/gs_2023Aysu/*sim-binary_model-simbio_hemi-*_mni152*.nii\n"
     ]
    },
    {
     "data": {
      "text/plain": [
       "array([0., 0., 0., ..., 0., 0., 0.])"
      ]
     },
     "metadata": {},
     "output_type": "display_data"
    },
    {
     "name": "stderr",
     "output_type": "stream",
     "text": [
      " 31%|███       | 19/61 [00:04<00:11,  3.68it/s]"
     ]
    },
    {
     "name": "stdout",
     "output_type": "stream",
     "text": [
      "Image saved to: \n",
      " /Users/cu135/Dropbox (Partners HealthCare)/resources/datasets/Queensland_PD_DBS_STN/BIDSdata/derivatives/leaddbs/sub-LeadDBS072/stimulations/MNI152NLin2009bAsym/gs_2023Aysu\n",
      "\n",
      " ***Processed: /Users/cu135/Dropbox (Partners HealthCare)/resources/datasets/Queensland_PD_DBS_STN/BIDSdata/derivatives/leaddbs/sub-LeadDBS072\n",
      "Attempting to import from: /Users/cu135/Dropbox (Partners HealthCare)/resources/datasets/Queensland_PD_DBS_STN/BIDSdata/derivatives/leaddbs/sub-LeadDBS075/stimulations/MNI152NLin2009bAsym/gs_2023Aysu/*sim-binary_model-simbio_hemi-*_mni152*.nii\n"
     ]
    },
    {
     "data": {
      "text/plain": [
       "array([0., 0., 0., ..., 0., 0., 0.])"
      ]
     },
     "metadata": {},
     "output_type": "display_data"
    },
    {
     "name": "stderr",
     "output_type": "stream",
     "text": [
      " 33%|███▎      | 20/61 [00:05<00:11,  3.61it/s]"
     ]
    },
    {
     "name": "stdout",
     "output_type": "stream",
     "text": [
      "Image saved to: \n",
      " /Users/cu135/Dropbox (Partners HealthCare)/resources/datasets/Queensland_PD_DBS_STN/BIDSdata/derivatives/leaddbs/sub-LeadDBS075/stimulations/MNI152NLin2009bAsym/gs_2023Aysu\n",
      "\n",
      " ***Processed: /Users/cu135/Dropbox (Partners HealthCare)/resources/datasets/Queensland_PD_DBS_STN/BIDSdata/derivatives/leaddbs/sub-LeadDBS075\n",
      "Attempting to import from: /Users/cu135/Dropbox (Partners HealthCare)/resources/datasets/Queensland_PD_DBS_STN/BIDSdata/derivatives/leaddbs/sub-LeadDBS081/stimulations/MNI152NLin2009bAsym/gs_2023Aysu/*sim-binary_model-simbio_hemi-*_mni152*.nii\n"
     ]
    },
    {
     "data": {
      "text/plain": [
       "array([0., 0., 0., ..., 0., 0., 0.])"
      ]
     },
     "metadata": {},
     "output_type": "display_data"
    },
    {
     "name": "stderr",
     "output_type": "stream",
     "text": [
      " 34%|███▍      | 21/61 [00:05<00:11,  3.52it/s]"
     ]
    },
    {
     "name": "stdout",
     "output_type": "stream",
     "text": [
      "Image saved to: \n",
      " /Users/cu135/Dropbox (Partners HealthCare)/resources/datasets/Queensland_PD_DBS_STN/BIDSdata/derivatives/leaddbs/sub-LeadDBS081/stimulations/MNI152NLin2009bAsym/gs_2023Aysu\n",
      "\n",
      " ***Processed: /Users/cu135/Dropbox (Partners HealthCare)/resources/datasets/Queensland_PD_DBS_STN/BIDSdata/derivatives/leaddbs/sub-LeadDBS081\n",
      "Attempting to import from: /Users/cu135/Dropbox (Partners HealthCare)/resources/datasets/Queensland_PD_DBS_STN/BIDSdata/derivatives/leaddbs/sub-LeadDBS080/stimulations/MNI152NLin2009bAsym/gs_2023Aysu/*sim-binary_model-simbio_hemi-*_mni152*.nii\n"
     ]
    },
    {
     "data": {
      "text/plain": [
       "array([0., 0., 0., ..., 0., 0., 0.])"
      ]
     },
     "metadata": {},
     "output_type": "display_data"
    },
    {
     "name": "stderr",
     "output_type": "stream",
     "text": [
      " 36%|███▌      | 22/61 [00:05<00:11,  3.54it/s]"
     ]
    },
    {
     "name": "stdout",
     "output_type": "stream",
     "text": [
      "Image saved to: \n",
      " /Users/cu135/Dropbox (Partners HealthCare)/resources/datasets/Queensland_PD_DBS_STN/BIDSdata/derivatives/leaddbs/sub-LeadDBS080/stimulations/MNI152NLin2009bAsym/gs_2023Aysu\n",
      "\n",
      " ***Processed: /Users/cu135/Dropbox (Partners HealthCare)/resources/datasets/Queensland_PD_DBS_STN/BIDSdata/derivatives/leaddbs/sub-LeadDBS080\n",
      "Attempting to import from: /Users/cu135/Dropbox (Partners HealthCare)/resources/datasets/Queensland_PD_DBS_STN/BIDSdata/derivatives/leaddbs/sub-LeadDBS074/stimulations/MNI152NLin2009bAsym/gs_2023Aysu/*sim-binary_model-simbio_hemi-*_mni152*.nii\n"
     ]
    },
    {
     "data": {
      "text/plain": [
       "array([0., 0., 0., ..., 0., 0., 0.])"
      ]
     },
     "metadata": {},
     "output_type": "display_data"
    },
    {
     "name": "stderr",
     "output_type": "stream",
     "text": [
      " 38%|███▊      | 23/61 [00:05<00:10,  3.68it/s]"
     ]
    },
    {
     "name": "stdout",
     "output_type": "stream",
     "text": [
      "Image saved to: \n",
      " /Users/cu135/Dropbox (Partners HealthCare)/resources/datasets/Queensland_PD_DBS_STN/BIDSdata/derivatives/leaddbs/sub-LeadDBS074/stimulations/MNI152NLin2009bAsym/gs_2023Aysu\n",
      "\n",
      " ***Processed: /Users/cu135/Dropbox (Partners HealthCare)/resources/datasets/Queensland_PD_DBS_STN/BIDSdata/derivatives/leaddbs/sub-LeadDBS074\n",
      "Attempting to import from: /Users/cu135/Dropbox (Partners HealthCare)/resources/datasets/Queensland_PD_DBS_STN/BIDSdata/derivatives/leaddbs/sub-LeadDBS073/stimulations/MNI152NLin2009bAsym/gs_2023Aysu/*sim-binary_model-simbio_hemi-*_mni152*.nii\n"
     ]
    },
    {
     "data": {
      "text/plain": [
       "array([0., 0., 0., ..., 0., 0., 0.])"
      ]
     },
     "metadata": {},
     "output_type": "display_data"
    },
    {
     "name": "stderr",
     "output_type": "stream",
     "text": [
      " 39%|███▉      | 24/61 [00:06<00:09,  3.73it/s]"
     ]
    },
    {
     "name": "stdout",
     "output_type": "stream",
     "text": [
      "Image saved to: \n",
      " /Users/cu135/Dropbox (Partners HealthCare)/resources/datasets/Queensland_PD_DBS_STN/BIDSdata/derivatives/leaddbs/sub-LeadDBS073/stimulations/MNI152NLin2009bAsym/gs_2023Aysu\n",
      "\n",
      " ***Processed: /Users/cu135/Dropbox (Partners HealthCare)/resources/datasets/Queensland_PD_DBS_STN/BIDSdata/derivatives/leaddbs/sub-LeadDBS073\n",
      "Attempting to import from: /Users/cu135/Dropbox (Partners HealthCare)/resources/datasets/Queensland_PD_DBS_STN/BIDSdata/derivatives/leaddbs/sub-LeadDBS087/stimulations/MNI152NLin2009bAsym/gs_2023Aysu/*sim-binary_model-simbio_hemi-*_mni152*.nii\n"
     ]
    },
    {
     "data": {
      "text/plain": [
       "array([0., 0., 0., ..., 0., 0., 0.])"
      ]
     },
     "metadata": {},
     "output_type": "display_data"
    },
    {
     "name": "stderr",
     "output_type": "stream",
     "text": [
      " 41%|████      | 25/61 [00:06<00:09,  3.80it/s]"
     ]
    },
    {
     "name": "stdout",
     "output_type": "stream",
     "text": [
      "Image saved to: \n",
      " /Users/cu135/Dropbox (Partners HealthCare)/resources/datasets/Queensland_PD_DBS_STN/BIDSdata/derivatives/leaddbs/sub-LeadDBS087/stimulations/MNI152NLin2009bAsym/gs_2023Aysu\n",
      "\n",
      " ***Processed: /Users/cu135/Dropbox (Partners HealthCare)/resources/datasets/Queensland_PD_DBS_STN/BIDSdata/derivatives/leaddbs/sub-LeadDBS087\n",
      "Attempting to import from: /Users/cu135/Dropbox (Partners HealthCare)/resources/datasets/Queensland_PD_DBS_STN/BIDSdata/derivatives/leaddbs/sub-LeadDBS045/stimulations/MNI152NLin2009bAsym/gs_2023Aysu/*sim-binary_model-simbio_hemi-*_mni152*.nii\n"
     ]
    },
    {
     "data": {
      "text/plain": [
       "array([0., 0., 0., ..., 0., 0., 0.])"
      ]
     },
     "metadata": {},
     "output_type": "display_data"
    },
    {
     "name": "stderr",
     "output_type": "stream",
     "text": [
      " 43%|████▎     | 26/61 [00:06<00:09,  3.78it/s]"
     ]
    },
    {
     "name": "stdout",
     "output_type": "stream",
     "text": [
      "Image saved to: \n",
      " /Users/cu135/Dropbox (Partners HealthCare)/resources/datasets/Queensland_PD_DBS_STN/BIDSdata/derivatives/leaddbs/sub-LeadDBS045/stimulations/MNI152NLin2009bAsym/gs_2023Aysu\n",
      "\n",
      " ***Processed: /Users/cu135/Dropbox (Partners HealthCare)/resources/datasets/Queensland_PD_DBS_STN/BIDSdata/derivatives/leaddbs/sub-LeadDBS045\n",
      "Attempting to import from: /Users/cu135/Dropbox (Partners HealthCare)/resources/datasets/Queensland_PD_DBS_STN/BIDSdata/derivatives/leaddbs/sub-LeadDBS042/stimulations/MNI152NLin2009bAsym/gs_2023Aysu/*sim-binary_model-simbio_hemi-*_mni152*.nii\n"
     ]
    },
    {
     "data": {
      "text/plain": [
       "array([0., 0., 0., ..., 0., 0., 0.])"
      ]
     },
     "metadata": {},
     "output_type": "display_data"
    },
    {
     "name": "stderr",
     "output_type": "stream",
     "text": [
      " 44%|████▍     | 27/61 [00:06<00:08,  3.90it/s]"
     ]
    },
    {
     "name": "stdout",
     "output_type": "stream",
     "text": [
      "Image saved to: \n",
      " /Users/cu135/Dropbox (Partners HealthCare)/resources/datasets/Queensland_PD_DBS_STN/BIDSdata/derivatives/leaddbs/sub-LeadDBS042/stimulations/MNI152NLin2009bAsym/gs_2023Aysu\n",
      "\n",
      " ***Processed: /Users/cu135/Dropbox (Partners HealthCare)/resources/datasets/Queensland_PD_DBS_STN/BIDSdata/derivatives/leaddbs/sub-LeadDBS042\n",
      "Attempting to import from: /Users/cu135/Dropbox (Partners HealthCare)/resources/datasets/Queensland_PD_DBS_STN/BIDSdata/derivatives/leaddbs/sub-LeadDBS089/stimulations/MNI152NLin2009bAsym/gs_2023Aysu/*sim-binary_model-simbio_hemi-*_mni152*.nii\n"
     ]
    },
    {
     "data": {
      "text/plain": [
       "array([0., 0., 0., ..., 0., 0., 0.])"
      ]
     },
     "metadata": {},
     "output_type": "display_data"
    },
    {
     "name": "stderr",
     "output_type": "stream",
     "text": [
      " 46%|████▌     | 28/61 [00:07<00:08,  3.99it/s]"
     ]
    },
    {
     "name": "stdout",
     "output_type": "stream",
     "text": [
      "Image saved to: \n",
      " /Users/cu135/Dropbox (Partners HealthCare)/resources/datasets/Queensland_PD_DBS_STN/BIDSdata/derivatives/leaddbs/sub-LeadDBS089/stimulations/MNI152NLin2009bAsym/gs_2023Aysu\n",
      "\n",
      " ***Processed: /Users/cu135/Dropbox (Partners HealthCare)/resources/datasets/Queensland_PD_DBS_STN/BIDSdata/derivatives/leaddbs/sub-LeadDBS089\n",
      "Attempting to import from: /Users/cu135/Dropbox (Partners HealthCare)/resources/datasets/Queensland_PD_DBS_STN/BIDSdata/derivatives/leaddbs/sub-LeadDBS029/stimulations/MNI152NLin2009bAsym/gs_2023Aysu/*sim-binary_model-simbio_hemi-*_mni152*.nii\n"
     ]
    },
    {
     "data": {
      "text/plain": [
       "array([0., 0., 0., ..., 0., 0., 0.])"
      ]
     },
     "metadata": {},
     "output_type": "display_data"
    },
    {
     "name": "stderr",
     "output_type": "stream",
     "text": [
      " 48%|████▊     | 29/61 [00:07<00:07,  4.01it/s]"
     ]
    },
    {
     "name": "stdout",
     "output_type": "stream",
     "text": [
      "Image saved to: \n",
      " /Users/cu135/Dropbox (Partners HealthCare)/resources/datasets/Queensland_PD_DBS_STN/BIDSdata/derivatives/leaddbs/sub-LeadDBS029/stimulations/MNI152NLin2009bAsym/gs_2023Aysu\n",
      "\n",
      " ***Processed: /Users/cu135/Dropbox (Partners HealthCare)/resources/datasets/Queensland_PD_DBS_STN/BIDSdata/derivatives/leaddbs/sub-LeadDBS029\n",
      "Missing file(s) in /Users/cu135/Dropbox (Partners HealthCare)/resources/datasets/Queensland_PD_DBS_STN/BIDSdata/derivatives/leaddbs/logs\n",
      "Attempting to import from: /Users/cu135/Dropbox (Partners HealthCare)/resources/datasets/Queensland_PD_DBS_STN/BIDSdata/derivatives/leaddbs/sub-LeadDBS064/stimulations/MNI152NLin2009bAsym/gs_2023Aysu/*sim-binary_model-simbio_hemi-*_mni152*.nii\n"
     ]
    },
    {
     "data": {
      "text/plain": [
       "array([0., 0., 0., ..., 0., 0., 0.])"
      ]
     },
     "metadata": {},
     "output_type": "display_data"
    },
    {
     "name": "stderr",
     "output_type": "stream",
     "text": [
      " 51%|█████     | 31/61 [00:07<00:05,  5.28it/s]"
     ]
    },
    {
     "name": "stdout",
     "output_type": "stream",
     "text": [
      "Image saved to: \n",
      " /Users/cu135/Dropbox (Partners HealthCare)/resources/datasets/Queensland_PD_DBS_STN/BIDSdata/derivatives/leaddbs/sub-LeadDBS064/stimulations/MNI152NLin2009bAsym/gs_2023Aysu\n",
      "\n",
      " ***Processed: /Users/cu135/Dropbox (Partners HealthCare)/resources/datasets/Queensland_PD_DBS_STN/BIDSdata/derivatives/leaddbs/sub-LeadDBS064\n",
      "Attempting to import from: /Users/cu135/Dropbox (Partners HealthCare)/resources/datasets/Queensland_PD_DBS_STN/BIDSdata/derivatives/leaddbs/sub-LeadDBS063/stimulations/MNI152NLin2009bAsym/gs_2023Aysu/*sim-binary_model-simbio_hemi-*_mni152*.nii\n"
     ]
    },
    {
     "data": {
      "text/plain": [
       "array([0., 0., 0., ..., 0., 0., 0.])"
      ]
     },
     "metadata": {},
     "output_type": "display_data"
    },
    {
     "name": "stderr",
     "output_type": "stream",
     "text": [
      " 52%|█████▏    | 32/61 [00:07<00:06,  4.74it/s]"
     ]
    },
    {
     "name": "stdout",
     "output_type": "stream",
     "text": [
      "Image saved to: \n",
      " /Users/cu135/Dropbox (Partners HealthCare)/resources/datasets/Queensland_PD_DBS_STN/BIDSdata/derivatives/leaddbs/sub-LeadDBS063/stimulations/MNI152NLin2009bAsym/gs_2023Aysu\n",
      "\n",
      " ***Processed: /Users/cu135/Dropbox (Partners HealthCare)/resources/datasets/Queensland_PD_DBS_STN/BIDSdata/derivatives/leaddbs/sub-LeadDBS063\n",
      "Attempting to import from: /Users/cu135/Dropbox (Partners HealthCare)/resources/datasets/Queensland_PD_DBS_STN/BIDSdata/derivatives/leaddbs/sub-LeadDBS055/stimulations/MNI152NLin2009bAsym/gs_2023Aysu/*sim-binary_model-simbio_hemi-*_mni152*.nii\n"
     ]
    },
    {
     "data": {
      "text/plain": [
       "array([0., 0., 0., ..., 0., 0., 0.])"
      ]
     },
     "metadata": {},
     "output_type": "display_data"
    },
    {
     "name": "stderr",
     "output_type": "stream",
     "text": [
      " 54%|█████▍    | 33/61 [00:08<00:06,  4.39it/s]"
     ]
    },
    {
     "name": "stdout",
     "output_type": "stream",
     "text": [
      "Image saved to: \n",
      " /Users/cu135/Dropbox (Partners HealthCare)/resources/datasets/Queensland_PD_DBS_STN/BIDSdata/derivatives/leaddbs/sub-LeadDBS055/stimulations/MNI152NLin2009bAsym/gs_2023Aysu\n",
      "\n",
      " ***Processed: /Users/cu135/Dropbox (Partners HealthCare)/resources/datasets/Queensland_PD_DBS_STN/BIDSdata/derivatives/leaddbs/sub-LeadDBS055\n",
      "Attempting to import from: /Users/cu135/Dropbox (Partners HealthCare)/resources/datasets/Queensland_PD_DBS_STN/BIDSdata/derivatives/leaddbs/sub-LeadDBS052/stimulations/MNI152NLin2009bAsym/gs_2023Aysu/*sim-binary_model-simbio_hemi-*_mni152*.nii\n"
     ]
    },
    {
     "data": {
      "text/plain": [
       "array([0., 0., 0., ..., 0., 0., 0.])"
      ]
     },
     "metadata": {},
     "output_type": "display_data"
    },
    {
     "name": "stderr",
     "output_type": "stream",
     "text": [
      " 56%|█████▌    | 34/61 [00:08<00:06,  4.27it/s]"
     ]
    },
    {
     "name": "stdout",
     "output_type": "stream",
     "text": [
      "Image saved to: \n",
      " /Users/cu135/Dropbox (Partners HealthCare)/resources/datasets/Queensland_PD_DBS_STN/BIDSdata/derivatives/leaddbs/sub-LeadDBS052/stimulations/MNI152NLin2009bAsym/gs_2023Aysu\n",
      "\n",
      " ***Processed: /Users/cu135/Dropbox (Partners HealthCare)/resources/datasets/Queensland_PD_DBS_STN/BIDSdata/derivatives/leaddbs/sub-LeadDBS052\n",
      "Attempting to import from: /Users/cu135/Dropbox (Partners HealthCare)/resources/datasets/Queensland_PD_DBS_STN/BIDSdata/derivatives/leaddbs/sub-LeadDBS039/stimulations/MNI152NLin2009bAsym/gs_2023Aysu/*sim-binary_model-simbio_hemi-*_mni152*.nii\n"
     ]
    },
    {
     "data": {
      "text/plain": [
       "array([0., 0., 0., ..., 0., 0., 0.])"
      ]
     },
     "metadata": {},
     "output_type": "display_data"
    },
    {
     "name": "stderr",
     "output_type": "stream",
     "text": [
      " 57%|█████▋    | 35/61 [00:08<00:06,  4.20it/s]"
     ]
    },
    {
     "name": "stdout",
     "output_type": "stream",
     "text": [
      "Image saved to: \n",
      " /Users/cu135/Dropbox (Partners HealthCare)/resources/datasets/Queensland_PD_DBS_STN/BIDSdata/derivatives/leaddbs/sub-LeadDBS039/stimulations/MNI152NLin2009bAsym/gs_2023Aysu\n",
      "\n",
      " ***Processed: /Users/cu135/Dropbox (Partners HealthCare)/resources/datasets/Queensland_PD_DBS_STN/BIDSdata/derivatives/leaddbs/sub-LeadDBS039\n",
      "Attempting to import from: /Users/cu135/Dropbox (Partners HealthCare)/resources/datasets/Queensland_PD_DBS_STN/BIDSdata/derivatives/leaddbs/sub-LeadDBS037/stimulations/MNI152NLin2009bAsym/gs_2023Aysu/*sim-binary_model-simbio_hemi-*_mni152*.nii\n"
     ]
    },
    {
     "data": {
      "text/plain": [
       "array([0., 0., 0., ..., 0., 0., 0.])"
      ]
     },
     "metadata": {},
     "output_type": "display_data"
    },
    {
     "name": "stderr",
     "output_type": "stream",
     "text": [
      " 59%|█████▉    | 36/61 [00:09<00:06,  4.09it/s]"
     ]
    },
    {
     "name": "stdout",
     "output_type": "stream",
     "text": [
      "Image saved to: \n",
      " /Users/cu135/Dropbox (Partners HealthCare)/resources/datasets/Queensland_PD_DBS_STN/BIDSdata/derivatives/leaddbs/sub-LeadDBS037/stimulations/MNI152NLin2009bAsym/gs_2023Aysu\n",
      "\n",
      " ***Processed: /Users/cu135/Dropbox (Partners HealthCare)/resources/datasets/Queensland_PD_DBS_STN/BIDSdata/derivatives/leaddbs/sub-LeadDBS037\n",
      "Attempting to import from: /Users/cu135/Dropbox (Partners HealthCare)/resources/datasets/Queensland_PD_DBS_STN/BIDSdata/derivatives/leaddbs/sub-LeadDBS030/stimulations/MNI152NLin2009bAsym/gs_2023Aysu/*sim-binary_model-simbio_hemi-*_mni152*.nii\n"
     ]
    },
    {
     "data": {
      "text/plain": [
       "array([0., 0., 0., ..., 0., 0., 0.])"
      ]
     },
     "metadata": {},
     "output_type": "display_data"
    },
    {
     "name": "stderr",
     "output_type": "stream",
     "text": [
      " 61%|██████    | 37/61 [00:09<00:05,  4.06it/s]"
     ]
    },
    {
     "name": "stdout",
     "output_type": "stream",
     "text": [
      "Image saved to: \n",
      " /Users/cu135/Dropbox (Partners HealthCare)/resources/datasets/Queensland_PD_DBS_STN/BIDSdata/derivatives/leaddbs/sub-LeadDBS030/stimulations/MNI152NLin2009bAsym/gs_2023Aysu\n",
      "\n",
      " ***Processed: /Users/cu135/Dropbox (Partners HealthCare)/resources/datasets/Queensland_PD_DBS_STN/BIDSdata/derivatives/leaddbs/sub-LeadDBS030\n",
      "Attempting to import from: /Users/cu135/Dropbox (Partners HealthCare)/resources/datasets/Queensland_PD_DBS_STN/BIDSdata/derivatives/leaddbs/sub-LeadDBS053/stimulations/MNI152NLin2009bAsym/gs_2023Aysu/*sim-binary_model-simbio_hemi-*_mni152*.nii\n"
     ]
    },
    {
     "data": {
      "text/plain": [
       "array([0., 0., 0., ..., 0., 0., 0.])"
      ]
     },
     "metadata": {},
     "output_type": "display_data"
    },
    {
     "name": "stderr",
     "output_type": "stream",
     "text": [
      " 62%|██████▏   | 38/61 [00:09<00:05,  3.99it/s]"
     ]
    },
    {
     "name": "stdout",
     "output_type": "stream",
     "text": [
      "Image saved to: \n",
      " /Users/cu135/Dropbox (Partners HealthCare)/resources/datasets/Queensland_PD_DBS_STN/BIDSdata/derivatives/leaddbs/sub-LeadDBS053/stimulations/MNI152NLin2009bAsym/gs_2023Aysu\n",
      "\n",
      " ***Processed: /Users/cu135/Dropbox (Partners HealthCare)/resources/datasets/Queensland_PD_DBS_STN/BIDSdata/derivatives/leaddbs/sub-LeadDBS053\n",
      "Attempting to import from: /Users/cu135/Dropbox (Partners HealthCare)/resources/datasets/Queensland_PD_DBS_STN/BIDSdata/derivatives/leaddbs/sub-LeadDBS054/stimulations/MNI152NLin2009bAsym/gs_2023Aysu/*sim-binary_model-simbio_hemi-*_mni152*.nii\n"
     ]
    },
    {
     "data": {
      "text/plain": [
       "array([0., 0., 0., ..., 0., 0., 0.])"
      ]
     },
     "metadata": {},
     "output_type": "display_data"
    },
    {
     "name": "stderr",
     "output_type": "stream",
     "text": [
      " 64%|██████▍   | 39/61 [00:09<00:05,  3.91it/s]"
     ]
    },
    {
     "name": "stdout",
     "output_type": "stream",
     "text": [
      "Image saved to: \n",
      " /Users/cu135/Dropbox (Partners HealthCare)/resources/datasets/Queensland_PD_DBS_STN/BIDSdata/derivatives/leaddbs/sub-LeadDBS054/stimulations/MNI152NLin2009bAsym/gs_2023Aysu\n",
      "\n",
      " ***Processed: /Users/cu135/Dropbox (Partners HealthCare)/resources/datasets/Queensland_PD_DBS_STN/BIDSdata/derivatives/leaddbs/sub-LeadDBS054\n",
      "Attempting to import from: /Users/cu135/Dropbox (Partners HealthCare)/resources/datasets/Queensland_PD_DBS_STN/BIDSdata/derivatives/leaddbs/sub-LeadDBS062/stimulations/MNI152NLin2009bAsym/gs_2023Aysu/*sim-binary_model-simbio_hemi-*_mni152*.nii\n"
     ]
    },
    {
     "data": {
      "text/plain": [
       "array([0., 0., 0., ..., 0., 0., 0.])"
      ]
     },
     "metadata": {},
     "output_type": "display_data"
    },
    {
     "name": "stderr",
     "output_type": "stream",
     "text": [
      " 66%|██████▌   | 40/61 [00:10<00:05,  3.92it/s]"
     ]
    },
    {
     "name": "stdout",
     "output_type": "stream",
     "text": [
      "Image saved to: \n",
      " /Users/cu135/Dropbox (Partners HealthCare)/resources/datasets/Queensland_PD_DBS_STN/BIDSdata/derivatives/leaddbs/sub-LeadDBS062/stimulations/MNI152NLin2009bAsym/gs_2023Aysu\n",
      "\n",
      " ***Processed: /Users/cu135/Dropbox (Partners HealthCare)/resources/datasets/Queensland_PD_DBS_STN/BIDSdata/derivatives/leaddbs/sub-LeadDBS062\n",
      "Attempting to import from: /Users/cu135/Dropbox (Partners HealthCare)/resources/datasets/Queensland_PD_DBS_STN/BIDSdata/derivatives/leaddbs/sub-LeadDBS091/stimulations/MNI152NLin2009bAsym/gs_2023Aysu/*sim-binary_model-simbio_hemi-*_mni152*.nii\n"
     ]
    },
    {
     "data": {
      "text/plain": [
       "array([0., 0., 0., ..., 0., 0., 0.])"
      ]
     },
     "metadata": {},
     "output_type": "display_data"
    },
    {
     "name": "stderr",
     "output_type": "stream",
     "text": [
      " 67%|██████▋   | 41/61 [00:10<00:05,  3.94it/s]"
     ]
    },
    {
     "name": "stdout",
     "output_type": "stream",
     "text": [
      "Image saved to: \n",
      " /Users/cu135/Dropbox (Partners HealthCare)/resources/datasets/Queensland_PD_DBS_STN/BIDSdata/derivatives/leaddbs/sub-LeadDBS091/stimulations/MNI152NLin2009bAsym/gs_2023Aysu\n",
      "\n",
      " ***Processed: /Users/cu135/Dropbox (Partners HealthCare)/resources/datasets/Queensland_PD_DBS_STN/BIDSdata/derivatives/leaddbs/sub-LeadDBS091\n",
      "Attempting to import from: /Users/cu135/Dropbox (Partners HealthCare)/resources/datasets/Queensland_PD_DBS_STN/BIDSdata/derivatives/leaddbs/sub-LeadDBS065/stimulations/MNI152NLin2009bAsym/gs_2023Aysu/*sim-binary_model-simbio_hemi-*_mni152*.nii\n"
     ]
    },
    {
     "data": {
      "text/plain": [
       "array([0., 0., 0., ..., 0., 0., 0.])"
      ]
     },
     "metadata": {},
     "output_type": "display_data"
    },
    {
     "name": "stderr",
     "output_type": "stream",
     "text": [
      " 69%|██████▉   | 42/61 [00:10<00:04,  3.92it/s]"
     ]
    },
    {
     "name": "stdout",
     "output_type": "stream",
     "text": [
      "Image saved to: \n",
      " /Users/cu135/Dropbox (Partners HealthCare)/resources/datasets/Queensland_PD_DBS_STN/BIDSdata/derivatives/leaddbs/sub-LeadDBS065/stimulations/MNI152NLin2009bAsym/gs_2023Aysu\n",
      "\n",
      " ***Processed: /Users/cu135/Dropbox (Partners HealthCare)/resources/datasets/Queensland_PD_DBS_STN/BIDSdata/derivatives/leaddbs/sub-LeadDBS065\n",
      "Attempting to import from: /Users/cu135/Dropbox (Partners HealthCare)/resources/datasets/Queensland_PD_DBS_STN/BIDSdata/derivatives/leaddbs/sub-LeadDBS031/stimulations/MNI152NLin2009bAsym/gs_2023Aysu/*sim-binary_model-simbio_hemi-*_mni152*.nii\n"
     ]
    },
    {
     "data": {
      "text/plain": [
       "array([0., 0., 0., ..., 0., 0., 0.])"
      ]
     },
     "metadata": {},
     "output_type": "display_data"
    },
    {
     "name": "stderr",
     "output_type": "stream",
     "text": [
      " 70%|███████   | 43/61 [00:10<00:04,  3.83it/s]"
     ]
    },
    {
     "name": "stdout",
     "output_type": "stream",
     "text": [
      "Image saved to: \n",
      " /Users/cu135/Dropbox (Partners HealthCare)/resources/datasets/Queensland_PD_DBS_STN/BIDSdata/derivatives/leaddbs/sub-LeadDBS031/stimulations/MNI152NLin2009bAsym/gs_2023Aysu\n",
      "\n",
      " ***Processed: /Users/cu135/Dropbox (Partners HealthCare)/resources/datasets/Queensland_PD_DBS_STN/BIDSdata/derivatives/leaddbs/sub-LeadDBS031\n",
      "Attempting to import from: /Users/cu135/Dropbox (Partners HealthCare)/resources/datasets/Queensland_PD_DBS_STN/BIDSdata/derivatives/leaddbs/sub-LeadDBS036/stimulations/MNI152NLin2009bAsym/gs_2023Aysu/*sim-binary_model-simbio_hemi-*_mni152*.nii\n"
     ]
    },
    {
     "data": {
      "text/plain": [
       "array([0., 0., 0., ..., 0., 0., 0.])"
      ]
     },
     "metadata": {},
     "output_type": "display_data"
    },
    {
     "name": "stderr",
     "output_type": "stream",
     "text": [
      " 72%|███████▏  | 44/61 [00:11<00:04,  3.88it/s]"
     ]
    },
    {
     "name": "stdout",
     "output_type": "stream",
     "text": [
      "Image saved to: \n",
      " /Users/cu135/Dropbox (Partners HealthCare)/resources/datasets/Queensland_PD_DBS_STN/BIDSdata/derivatives/leaddbs/sub-LeadDBS036/stimulations/MNI152NLin2009bAsym/gs_2023Aysu\n",
      "\n",
      " ***Processed: /Users/cu135/Dropbox (Partners HealthCare)/resources/datasets/Queensland_PD_DBS_STN/BIDSdata/derivatives/leaddbs/sub-LeadDBS036\n",
      "Attempting to import from: /Users/cu135/Dropbox (Partners HealthCare)/resources/datasets/Queensland_PD_DBS_STN/BIDSdata/derivatives/leaddbs/sub-LeadDBS038/stimulations/MNI152NLin2009bAsym/gs_2023Aysu/*sim-binary_model-simbio_hemi-*_mni152*.nii\n"
     ]
    },
    {
     "data": {
      "text/plain": [
       "array([0., 0., 0., ..., 0., 0., 0.])"
      ]
     },
     "metadata": {},
     "output_type": "display_data"
    },
    {
     "name": "stderr",
     "output_type": "stream",
     "text": [
      " 74%|███████▍  | 45/61 [00:11<00:04,  3.83it/s]"
     ]
    },
    {
     "name": "stdout",
     "output_type": "stream",
     "text": [
      "Image saved to: \n",
      " /Users/cu135/Dropbox (Partners HealthCare)/resources/datasets/Queensland_PD_DBS_STN/BIDSdata/derivatives/leaddbs/sub-LeadDBS038/stimulations/MNI152NLin2009bAsym/gs_2023Aysu\n",
      "\n",
      " ***Processed: /Users/cu135/Dropbox (Partners HealthCare)/resources/datasets/Queensland_PD_DBS_STN/BIDSdata/derivatives/leaddbs/sub-LeadDBS038\n",
      "Attempting to import from: /Users/cu135/Dropbox (Partners HealthCare)/resources/datasets/Queensland_PD_DBS_STN/BIDSdata/derivatives/leaddbs/sub-LeadDBS047/stimulations/MNI152NLin2009bAsym/gs_2023Aysu/*sim-binary_model-simbio_hemi-*_mni152*.nii\n"
     ]
    },
    {
     "data": {
      "text/plain": [
       "array([0., 0., 0., ..., 0., 0., 0.])"
      ]
     },
     "metadata": {},
     "output_type": "display_data"
    },
    {
     "name": "stderr",
     "output_type": "stream",
     "text": [
      " 75%|███████▌  | 46/61 [00:11<00:03,  3.86it/s]"
     ]
    },
    {
     "name": "stdout",
     "output_type": "stream",
     "text": [
      "Image saved to: \n",
      " /Users/cu135/Dropbox (Partners HealthCare)/resources/datasets/Queensland_PD_DBS_STN/BIDSdata/derivatives/leaddbs/sub-LeadDBS047/stimulations/MNI152NLin2009bAsym/gs_2023Aysu\n",
      "\n",
      " ***Processed: /Users/cu135/Dropbox (Partners HealthCare)/resources/datasets/Queensland_PD_DBS_STN/BIDSdata/derivatives/leaddbs/sub-LeadDBS047\n",
      "Attempting to import from: /Users/cu135/Dropbox (Partners HealthCare)/resources/datasets/Queensland_PD_DBS_STN/BIDSdata/derivatives/leaddbs/sub-LeadDBS078/stimulations/MNI152NLin2009bAsym/gs_2023Aysu/*sim-binary_model-simbio_hemi-*_mni152*.nii\n"
     ]
    },
    {
     "data": {
      "text/plain": [
       "array([0., 0., 0., ..., 0., 0., 0.])"
      ]
     },
     "metadata": {},
     "output_type": "display_data"
    },
    {
     "name": "stderr",
     "output_type": "stream",
     "text": [
      " 77%|███████▋  | 47/61 [00:11<00:03,  3.92it/s]"
     ]
    },
    {
     "name": "stdout",
     "output_type": "stream",
     "text": [
      "Image saved to: \n",
      " /Users/cu135/Dropbox (Partners HealthCare)/resources/datasets/Queensland_PD_DBS_STN/BIDSdata/derivatives/leaddbs/sub-LeadDBS078/stimulations/MNI152NLin2009bAsym/gs_2023Aysu\n",
      "\n",
      " ***Processed: /Users/cu135/Dropbox (Partners HealthCare)/resources/datasets/Queensland_PD_DBS_STN/BIDSdata/derivatives/leaddbs/sub-LeadDBS078\n",
      "Attempting to import from: /Users/cu135/Dropbox (Partners HealthCare)/resources/datasets/Queensland_PD_DBS_STN/BIDSdata/derivatives/leaddbs/sub-LeadDBS040/stimulations/MNI152NLin2009bAsym/gs_2023Aysu/*sim-binary_model-simbio_hemi-*_mni152*.nii\n"
     ]
    },
    {
     "data": {
      "text/plain": [
       "array([0., 0., 0., ..., 0., 0., 0.])"
      ]
     },
     "metadata": {},
     "output_type": "display_data"
    },
    {
     "name": "stderr",
     "output_type": "stream",
     "text": [
      " 79%|███████▊  | 48/61 [00:12<00:03,  3.86it/s]"
     ]
    },
    {
     "name": "stdout",
     "output_type": "stream",
     "text": [
      "Image saved to: \n",
      " /Users/cu135/Dropbox (Partners HealthCare)/resources/datasets/Queensland_PD_DBS_STN/BIDSdata/derivatives/leaddbs/sub-LeadDBS040/stimulations/MNI152NLin2009bAsym/gs_2023Aysu\n",
      "\n",
      " ***Processed: /Users/cu135/Dropbox (Partners HealthCare)/resources/datasets/Queensland_PD_DBS_STN/BIDSdata/derivatives/leaddbs/sub-LeadDBS040\n",
      "Attempting to import from: /Users/cu135/Dropbox (Partners HealthCare)/resources/datasets/Queensland_PD_DBS_STN/BIDSdata/derivatives/leaddbs/sub-LeadDBS076/stimulations/MNI152NLin2009bAsym/gs_2023Aysu/*sim-binary_model-simbio_hemi-*_mni152*.nii\n"
     ]
    },
    {
     "data": {
      "text/plain": [
       "array([0., 0., 0., ..., 0., 0., 0.])"
      ]
     },
     "metadata": {},
     "output_type": "display_data"
    },
    {
     "name": "stderr",
     "output_type": "stream",
     "text": [
      " 80%|████████  | 49/61 [00:12<00:03,  3.72it/s]"
     ]
    },
    {
     "name": "stdout",
     "output_type": "stream",
     "text": [
      "Image saved to: \n",
      " /Users/cu135/Dropbox (Partners HealthCare)/resources/datasets/Queensland_PD_DBS_STN/BIDSdata/derivatives/leaddbs/sub-LeadDBS076/stimulations/MNI152NLin2009bAsym/gs_2023Aysu\n",
      "\n",
      " ***Processed: /Users/cu135/Dropbox (Partners HealthCare)/resources/datasets/Queensland_PD_DBS_STN/BIDSdata/derivatives/leaddbs/sub-LeadDBS076\n",
      "Attempting to import from: /Users/cu135/Dropbox (Partners HealthCare)/resources/datasets/Queensland_PD_DBS_STN/BIDSdata/derivatives/leaddbs/sub-LeadDBS082/stimulations/MNI152NLin2009bAsym/gs_2023Aysu/*sim-binary_model-simbio_hemi-*_mni152*.nii\n"
     ]
    },
    {
     "data": {
      "text/plain": [
       "array([0., 0., 0., ..., 0., 0., 0.])"
      ]
     },
     "metadata": {},
     "output_type": "display_data"
    },
    {
     "name": "stderr",
     "output_type": "stream",
     "text": [
      " 82%|████████▏ | 50/61 [00:12<00:02,  3.78it/s]"
     ]
    },
    {
     "name": "stdout",
     "output_type": "stream",
     "text": [
      "Image saved to: \n",
      " /Users/cu135/Dropbox (Partners HealthCare)/resources/datasets/Queensland_PD_DBS_STN/BIDSdata/derivatives/leaddbs/sub-LeadDBS082/stimulations/MNI152NLin2009bAsym/gs_2023Aysu\n",
      "\n",
      " ***Processed: /Users/cu135/Dropbox (Partners HealthCare)/resources/datasets/Queensland_PD_DBS_STN/BIDSdata/derivatives/leaddbs/sub-LeadDBS082\n",
      "Attempting to import from: /Users/cu135/Dropbox (Partners HealthCare)/resources/datasets/Queensland_PD_DBS_STN/BIDSdata/derivatives/leaddbs/sub-LeadDBS049/stimulations/MNI152NLin2009bAsym/gs_2023Aysu/*sim-binary_model-simbio_hemi-*_mni152*.nii\n"
     ]
    },
    {
     "data": {
      "text/plain": [
       "array([0., 0., 0., ..., 0., 0., 0.])"
      ]
     },
     "metadata": {},
     "output_type": "display_data"
    },
    {
     "name": "stderr",
     "output_type": "stream",
     "text": [
      " 84%|████████▎ | 51/61 [00:12<00:02,  3.74it/s]"
     ]
    },
    {
     "name": "stdout",
     "output_type": "stream",
     "text": [
      "Image saved to: \n",
      " /Users/cu135/Dropbox (Partners HealthCare)/resources/datasets/Queensland_PD_DBS_STN/BIDSdata/derivatives/leaddbs/sub-LeadDBS049/stimulations/MNI152NLin2009bAsym/gs_2023Aysu\n",
      "\n",
      " ***Processed: /Users/cu135/Dropbox (Partners HealthCare)/resources/datasets/Queensland_PD_DBS_STN/BIDSdata/derivatives/leaddbs/sub-LeadDBS049\n",
      "Attempting to import from: /Users/cu135/Dropbox (Partners HealthCare)/resources/datasets/Queensland_PD_DBS_STN/BIDSdata/derivatives/leaddbs/sub-LeadDBS085/stimulations/MNI152NLin2009bAsym/gs_2023Aysu/*sim-binary_model-simbio_hemi-*_mni152*.nii\n"
     ]
    },
    {
     "data": {
      "text/plain": [
       "array([0., 0., 0., ..., 0., 0., 0.])"
      ]
     },
     "metadata": {},
     "output_type": "display_data"
    },
    {
     "name": "stderr",
     "output_type": "stream",
     "text": [
      " 85%|████████▌ | 52/61 [00:13<00:02,  3.77it/s]"
     ]
    },
    {
     "name": "stdout",
     "output_type": "stream",
     "text": [
      "Image saved to: \n",
      " /Users/cu135/Dropbox (Partners HealthCare)/resources/datasets/Queensland_PD_DBS_STN/BIDSdata/derivatives/leaddbs/sub-LeadDBS085/stimulations/MNI152NLin2009bAsym/gs_2023Aysu\n",
      "\n",
      " ***Processed: /Users/cu135/Dropbox (Partners HealthCare)/resources/datasets/Queensland_PD_DBS_STN/BIDSdata/derivatives/leaddbs/sub-LeadDBS085\n",
      "Attempting to import from: /Users/cu135/Dropbox (Partners HealthCare)/resources/datasets/Queensland_PD_DBS_STN/BIDSdata/derivatives/leaddbs/sub-LeadDBS071/stimulations/MNI152NLin2009bAsym/gs_2023Aysu/*sim-binary_model-simbio_hemi-*_mni152*.nii\n"
     ]
    },
    {
     "data": {
      "text/plain": [
       "array([0., 0., 0., ..., 0., 0., 0.])"
      ]
     },
     "metadata": {},
     "output_type": "display_data"
    },
    {
     "name": "stderr",
     "output_type": "stream",
     "text": [
      " 87%|████████▋ | 53/61 [00:13<00:02,  3.92it/s]"
     ]
    },
    {
     "name": "stdout",
     "output_type": "stream",
     "text": [
      "Image saved to: \n",
      " /Users/cu135/Dropbox (Partners HealthCare)/resources/datasets/Queensland_PD_DBS_STN/BIDSdata/derivatives/leaddbs/sub-LeadDBS071/stimulations/MNI152NLin2009bAsym/gs_2023Aysu\n",
      "\n",
      " ***Processed: /Users/cu135/Dropbox (Partners HealthCare)/resources/datasets/Queensland_PD_DBS_STN/BIDSdata/derivatives/leaddbs/sub-LeadDBS071\n",
      "Attempting to import from: /Users/cu135/Dropbox (Partners HealthCare)/resources/datasets/Queensland_PD_DBS_STN/BIDSdata/derivatives/leaddbs/sub-LeadDBS070/stimulations/MNI152NLin2009bAsym/gs_2023Aysu/*sim-binary_model-simbio_hemi-*_mni152*.nii\n"
     ]
    },
    {
     "data": {
      "text/plain": [
       "array([0., 0., 0., ..., 0., 0., 0.])"
      ]
     },
     "metadata": {},
     "output_type": "display_data"
    },
    {
     "name": "stderr",
     "output_type": "stream",
     "text": [
      " 89%|████████▊ | 54/61 [00:13<00:01,  3.96it/s]"
     ]
    },
    {
     "name": "stdout",
     "output_type": "stream",
     "text": [
      "Image saved to: \n",
      " /Users/cu135/Dropbox (Partners HealthCare)/resources/datasets/Queensland_PD_DBS_STN/BIDSdata/derivatives/leaddbs/sub-LeadDBS070/stimulations/MNI152NLin2009bAsym/gs_2023Aysu\n",
      "\n",
      " ***Processed: /Users/cu135/Dropbox (Partners HealthCare)/resources/datasets/Queensland_PD_DBS_STN/BIDSdata/derivatives/leaddbs/sub-LeadDBS070\n",
      "Attempting to import from: /Users/cu135/Dropbox (Partners HealthCare)/resources/datasets/Queensland_PD_DBS_STN/BIDSdata/derivatives/leaddbs/sub-LeadDBS084/stimulations/MNI152NLin2009bAsym/gs_2023Aysu/*sim-binary_model-simbio_hemi-*_mni152*.nii\n"
     ]
    },
    {
     "data": {
      "text/plain": [
       "array([0., 0., 0., ..., 0., 0., 0.])"
      ]
     },
     "metadata": {},
     "output_type": "display_data"
    },
    {
     "name": "stderr",
     "output_type": "stream",
     "text": [
      " 90%|█████████ | 55/61 [00:13<00:01,  4.03it/s]"
     ]
    },
    {
     "name": "stdout",
     "output_type": "stream",
     "text": [
      "Image saved to: \n",
      " /Users/cu135/Dropbox (Partners HealthCare)/resources/datasets/Queensland_PD_DBS_STN/BIDSdata/derivatives/leaddbs/sub-LeadDBS084/stimulations/MNI152NLin2009bAsym/gs_2023Aysu\n",
      "\n",
      " ***Processed: /Users/cu135/Dropbox (Partners HealthCare)/resources/datasets/Queensland_PD_DBS_STN/BIDSdata/derivatives/leaddbs/sub-LeadDBS084\n",
      "Attempting to import from: /Users/cu135/Dropbox (Partners HealthCare)/resources/datasets/Queensland_PD_DBS_STN/BIDSdata/derivatives/leaddbs/sub-LeadDBS083/stimulations/MNI152NLin2009bAsym/gs_2023Aysu/*sim-binary_model-simbio_hemi-*_mni152*.nii\n"
     ]
    },
    {
     "data": {
      "text/plain": [
       "array([0., 0., 0., ..., 0., 0., 0.])"
      ]
     },
     "metadata": {},
     "output_type": "display_data"
    },
    {
     "name": "stderr",
     "output_type": "stream",
     "text": [
      " 92%|█████████▏| 56/61 [00:14<00:01,  4.02it/s]"
     ]
    },
    {
     "name": "stdout",
     "output_type": "stream",
     "text": [
      "Image saved to: \n",
      " /Users/cu135/Dropbox (Partners HealthCare)/resources/datasets/Queensland_PD_DBS_STN/BIDSdata/derivatives/leaddbs/sub-LeadDBS083/stimulations/MNI152NLin2009bAsym/gs_2023Aysu\n",
      "\n",
      " ***Processed: /Users/cu135/Dropbox (Partners HealthCare)/resources/datasets/Queensland_PD_DBS_STN/BIDSdata/derivatives/leaddbs/sub-LeadDBS083\n",
      "Attempting to import from: /Users/cu135/Dropbox (Partners HealthCare)/resources/datasets/Queensland_PD_DBS_STN/BIDSdata/derivatives/leaddbs/sub-LeadDBS077/stimulations/MNI152NLin2009bAsym/gs_2023Aysu/*sim-binary_model-simbio_hemi-*_mni152*.nii\n"
     ]
    },
    {
     "data": {
      "text/plain": [
       "array([0., 0., 0., ..., 0., 0., 0.])"
      ]
     },
     "metadata": {},
     "output_type": "display_data"
    },
    {
     "name": "stderr",
     "output_type": "stream",
     "text": [
      " 93%|█████████▎| 57/61 [00:14<00:00,  4.06it/s]"
     ]
    },
    {
     "name": "stdout",
     "output_type": "stream",
     "text": [
      "Image saved to: \n",
      " /Users/cu135/Dropbox (Partners HealthCare)/resources/datasets/Queensland_PD_DBS_STN/BIDSdata/derivatives/leaddbs/sub-LeadDBS077/stimulations/MNI152NLin2009bAsym/gs_2023Aysu\n",
      "\n",
      " ***Processed: /Users/cu135/Dropbox (Partners HealthCare)/resources/datasets/Queensland_PD_DBS_STN/BIDSdata/derivatives/leaddbs/sub-LeadDBS077\n",
      "Attempting to import from: /Users/cu135/Dropbox (Partners HealthCare)/resources/datasets/Queensland_PD_DBS_STN/BIDSdata/derivatives/leaddbs/sub-LeadDBS048/stimulations/MNI152NLin2009bAsym/gs_2023Aysu/*sim-binary_model-simbio_hemi-*_mni152*.nii\n"
     ]
    },
    {
     "data": {
      "text/plain": [
       "array([0., 0., 0., ..., 0., 0., 0.])"
      ]
     },
     "metadata": {},
     "output_type": "display_data"
    },
    {
     "name": "stderr",
     "output_type": "stream",
     "text": [
      " 95%|█████████▌| 58/61 [00:14<00:00,  4.08it/s]"
     ]
    },
    {
     "name": "stdout",
     "output_type": "stream",
     "text": [
      "Image saved to: \n",
      " /Users/cu135/Dropbox (Partners HealthCare)/resources/datasets/Queensland_PD_DBS_STN/BIDSdata/derivatives/leaddbs/sub-LeadDBS048/stimulations/MNI152NLin2009bAsym/gs_2023Aysu\n",
      "\n",
      " ***Processed: /Users/cu135/Dropbox (Partners HealthCare)/resources/datasets/Queensland_PD_DBS_STN/BIDSdata/derivatives/leaddbs/sub-LeadDBS048\n",
      "Attempting to import from: /Users/cu135/Dropbox (Partners HealthCare)/resources/datasets/Queensland_PD_DBS_STN/BIDSdata/derivatives/leaddbs/sub-LeadDBS041/stimulations/MNI152NLin2009bAsym/gs_2023Aysu/*sim-binary_model-simbio_hemi-*_mni152*.nii\n"
     ]
    },
    {
     "data": {
      "text/plain": [
       "array([0., 0., 0., ..., 0., 0., 0.])"
      ]
     },
     "metadata": {},
     "output_type": "display_data"
    },
    {
     "name": "stderr",
     "output_type": "stream",
     "text": [
      " 97%|█████████▋| 59/61 [00:14<00:00,  4.01it/s]"
     ]
    },
    {
     "name": "stdout",
     "output_type": "stream",
     "text": [
      "Image saved to: \n",
      " /Users/cu135/Dropbox (Partners HealthCare)/resources/datasets/Queensland_PD_DBS_STN/BIDSdata/derivatives/leaddbs/sub-LeadDBS041/stimulations/MNI152NLin2009bAsym/gs_2023Aysu\n",
      "\n",
      " ***Processed: /Users/cu135/Dropbox (Partners HealthCare)/resources/datasets/Queensland_PD_DBS_STN/BIDSdata/derivatives/leaddbs/sub-LeadDBS041\n",
      "Attempting to import from: /Users/cu135/Dropbox (Partners HealthCare)/resources/datasets/Queensland_PD_DBS_STN/BIDSdata/derivatives/leaddbs/sub-LeadDBS046/stimulations/MNI152NLin2009bAsym/gs_2023Aysu/*sim-binary_model-simbio_hemi-*_mni152*.nii\n"
     ]
    },
    {
     "data": {
      "text/plain": [
       "array([0., 0., 0., ..., 0., 0., 0.])"
      ]
     },
     "metadata": {},
     "output_type": "display_data"
    },
    {
     "name": "stderr",
     "output_type": "stream",
     "text": [
      " 98%|█████████▊| 60/61 [00:15<00:00,  4.04it/s]"
     ]
    },
    {
     "name": "stdout",
     "output_type": "stream",
     "text": [
      "Image saved to: \n",
      " /Users/cu135/Dropbox (Partners HealthCare)/resources/datasets/Queensland_PD_DBS_STN/BIDSdata/derivatives/leaddbs/sub-LeadDBS046/stimulations/MNI152NLin2009bAsym/gs_2023Aysu\n",
      "\n",
      " ***Processed: /Users/cu135/Dropbox (Partners HealthCare)/resources/datasets/Queensland_PD_DBS_STN/BIDSdata/derivatives/leaddbs/sub-LeadDBS046\n",
      "Attempting to import from: /Users/cu135/Dropbox (Partners HealthCare)/resources/datasets/Queensland_PD_DBS_STN/BIDSdata/derivatives/leaddbs/sub-LeadDBS079/stimulations/MNI152NLin2009bAsym/gs_2023Aysu/*sim-binary_model-simbio_hemi-*_mni152*.nii\n"
     ]
    },
    {
     "data": {
      "text/plain": [
       "array([0., 0., 0., ..., 0., 0., 0.])"
      ]
     },
     "metadata": {},
     "output_type": "display_data"
    },
    {
     "name": "stderr",
     "output_type": "stream",
     "text": [
      "100%|██████████| 61/61 [00:15<00:00,  3.96it/s]"
     ]
    },
    {
     "name": "stdout",
     "output_type": "stream",
     "text": [
      "Image saved to: \n",
      " /Users/cu135/Dropbox (Partners HealthCare)/resources/datasets/Queensland_PD_DBS_STN/BIDSdata/derivatives/leaddbs/sub-LeadDBS079/stimulations/MNI152NLin2009bAsym/gs_2023Aysu\n",
      "\n",
      " ***Processed: /Users/cu135/Dropbox (Partners HealthCare)/resources/datasets/Queensland_PD_DBS_STN/BIDSdata/derivatives/leaddbs/sub-LeadDBS079\n"
     ]
    },
    {
     "name": "stderr",
     "output_type": "stream",
     "text": [
      "\n"
     ]
    }
   ],
   "source": [
    "from glob import glob\n",
    "import subprocess\n",
    "import os \n",
    "from nilearn.image import resample_to_img\n",
    "import nibabel as nib\n",
    "from tqdm import tqdm\n",
    "from nimlab import datasets as nimds\n",
    "\n",
    "\n",
    "from calvin_utils.nifti_utils.generate_nifti import nifti_from_matrix\n",
    "from calvin_utils.file_utils.import_functions import GiiNiiFileImport\n",
    "\n",
    "\n",
    "def downsample_image(input_path, output_path):\n",
    "    \"\"\"\n",
    "    Function to downsample a 3D image to a new voxel size using a target affine.\n",
    "    \n",
    "    Args:\n",
    "    input_path (str): Filepath to the input image.\n",
    "    output_path (str): Filepath to save the output image.\n",
    "    target_voxel_size (list): Target voxels to resample to.\n",
    "    \"\"\"\n",
    "    # Load the image\n",
    "    img = nib.load(input_path)\n",
    "    mni_mask = nimds.get_img(\"mni_icbm152\")\n",
    "    \n",
    "    # Downsample the image using the target affine\n",
    "    resampled_img = resample_to_img(img, mni_mask)\n",
    "\n",
    "    # Save the downsampled image\n",
    "    nib.save(resampled_img, output_path)\n",
    "# User-defined variables\n",
    "root_dir = r\"/Users/cu135/Dropbox (Partners HealthCare)/resources/datasets/Queensland_PD_DBS_STN/BIDSdata/derivatives/leaddbs\"\n",
    "file_pattern_1 = r\"/stimulations/MNI152NLin2009bAsym/gs_2023Aysu/*sim-binary_model-simbio_hemi-R.nii\"\n",
    "file_pattern_2 = r\"/stimulations/MNI152NLin2009bAsym/gs_2023Aysu/*sim-binary_model-simbio_hemi-L.nii\"\n",
    "output_file_pattern = r\"sim-efield_model-simbio_hemi-bl.nii\"\n",
    "\n",
    "# Path to MNI template\n",
    "mni_template_path = r\"/Users/cu135/Dropbox (Partners HealthCare)/resources/mni_spaces/mni_icbm152_nlin_sym_09b_nifti/mni_icbm152_nlin_sym_09b/mni_icbm152_t1_tal_nlin_sym_09b_hires.nii\"\n",
    "\n",
    "for sub_dir in tqdm(os.listdir(root_dir)):\n",
    "    sub_dir_path = os.path.join(root_dir, sub_dir)\n",
    "    if not os.path.isdir(sub_dir_path):\n",
    "        continue\n",
    "    # print(\"Subdirpath:\", os.path.join(root_dir, sub_dir))\n",
    "    files1 = glob(root_dir+\"/\"+sub_dir+file_pattern_1)\n",
    "    files2 = glob(root_dir+\"/\"+sub_dir+file_pattern_2)\n",
    "\n",
    "    if files1 and files2:\n",
    "        # Extract identified files\n",
    "        file1 = files1[0]\n",
    "        file2 = files2[0]\n",
    "        \n",
    "        # Prepare Output File\n",
    "        output_dir = os.path.dirname(file1)\n",
    "        output_file_with_subject = os.path.basename(sub_dir_path)+\"_\"+output_file_pattern\n",
    "        \n",
    "        # Prepare backup file name\n",
    "        copyfile1 = file1.split('.nii')[0] + \"_copy.nii\"\n",
    "        copyfile2 = file2.split('.nii')[0] + \"_copy.nii\"\n",
    "        \n",
    "        # Copy files to create backups\n",
    "        # shutil.copyfile(file1, copyfile1)\n",
    "        # shutil.copyfile(file2, copyfile2)\n",
    "        \n",
    "        # Identify the resampled file name\n",
    "        resamp1 = copyfile1.split('.nii')[0]+\"_resampled.nii\"\n",
    "        resamp2 = copyfile2.split('.nii')[0]+\"_resampled.nii\"\n",
    "        \n",
    "        # Attempt resampling to MNI space to fix bad headers\n",
    "        subprocess.run([\"flirt\", \"-in\", copyfile1, \"-ref\", mni_template_path, \"-out\", resamp1], check=True)\n",
    "        subprocess.run([\"flirt\", \"-in\", copyfile2, \"-ref\", mni_template_path, \"-out\", resamp2], check=True)\n",
    "        \n",
    "        # Identify the downsampled file name\n",
    "        downfile1 = resamp1.split('.nii')[0]+\"_mni152.nii\"\n",
    "        downfile2 = resamp2.split('.nii')[0]+\"_mni152.nii\"\n",
    "        \n",
    "        # Add the aligned files\n",
    "        downsample_image(resamp1, downfile1)\n",
    "        downsample_image(resamp2, downfile2)\n",
    "        \n",
    "        try:\n",
    "            importer = GiiNiiFileImport(os.path.dirname(downfile1), file_pattern=\"*sim-binary_model-simbio_hemi-*_mni152*.nii\")\n",
    "            imports = importer.run()\n",
    "            imports[\"summated\"] = imports.iloc[:,0] + imports.iloc[:,1]\n",
    "            display(imports[\"summated\"].to_numpy())\n",
    "            \n",
    "            nifti_from_matrix(matrix=imports[\"summated\"].to_numpy(), output_file=output_dir, output_name=output_file_with_subject, reference=\"MNI\")\n",
    "            \n",
    "            # Clean up and remove the copy files. \n",
    "            os.remove(copyfile1)\n",
    "            os.remove(copyfile2)\n",
    "            os.remove(resamp1)\n",
    "            os.remove(resamp2)            \n",
    "            os.remove(downfile1)\n",
    "            os.remove(downfile2)\n",
    "            \n",
    "            print(f\"\\n ***Processed: {sub_dir_path}\")\n",
    "            \n",
    "        except subprocess.CalledProcessError as e:\n",
    "            print(f\"Error processing {sub_dir_path}: {e}\")\n",
    "    else:\n",
    "        print(f\"Missing file(s) in {sub_dir_path}\")"
   ]
  },
  {
   "cell_type": "code",
   "execution_count": null,
   "metadata": {},
   "outputs": [],
   "source": []
  }
 ],
 "metadata": {
  "kernelspec": {
   "display_name": "nimlab_py310",
   "language": "python",
   "name": "python3"
  },
  "language_info": {
   "codemirror_mode": {
    "name": "ipython",
    "version": 3
   },
   "file_extension": ".py",
   "mimetype": "text/x-python",
   "name": "python",
   "nbconvert_exporter": "python",
   "pygments_lexer": "ipython3",
   "version": "3.10.8"
  }
 },
 "nbformat": 4,
 "nbformat_minor": 2
}
