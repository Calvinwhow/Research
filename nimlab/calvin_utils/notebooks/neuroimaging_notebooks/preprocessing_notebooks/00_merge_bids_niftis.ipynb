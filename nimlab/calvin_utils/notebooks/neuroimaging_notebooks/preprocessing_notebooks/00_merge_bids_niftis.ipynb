{
 "cells": [
  {
   "cell_type": "markdown",
   "metadata": {},
   "source": [
    "# 01 - Process and Merge VTAs\n",
    "- Use if left and right VTAs are separate"
   ]
  },
  {
   "cell_type": "code",
   "execution_count": 36,
   "metadata": {},
   "outputs": [],
   "source": [
    "from glob import glob\n",
    "import subprocess\n",
    "import os \n",
    "from nilearn.image import resample_to_img\n",
    "import nibabel as nib\n",
    "from tqdm import tqdm\n",
    "import shutil \n",
    "from nimlab import datasets as nimds\n",
    "\n",
    "\n",
    "from calvin_utils.nifti_utils.generate_nifti import nifti_from_matrix\n",
    "from calvin_utils.file_utils.import_functions import GiiNiiFileImport\n",
    "\n",
    "\n",
    "def downsample_image(input_path, output_path):\n",
    "    \"\"\"\n",
    "    Function to downsample a 3D image to a new voxel size using a target affine.\n",
    "    \n",
    "    Args:\n",
    "    input_path (str): Filepath to the input image.\n",
    "    output_path (str): Filepath to save the output image.\n",
    "    target_voxel_size (list): Target voxels to resample to.\n",
    "    \"\"\"\n",
    "    # Load the image\n",
    "    img = nib.load(input_path)\n",
    "    mni_mask = nimds.get_img(\"mni_icbm152\")\n",
    "    \n",
    "    # Downsample the image using the target affine\n",
    "    resampled_img = resample_to_img(img, mni_mask)\n",
    "\n",
    "    # Save the downsampled image\n",
    "    nib.save(resampled_img, output_path)\n",
    "    \n",
    "def prepare_backup_files(file_in):\n",
    "    # Prepare backup file name\n",
    "    copyfile_name = file_in.split('.nii')[0] + \"_copy.nii\"\n",
    "    # Copy files to create backups\n",
    "    shutil.copyfile(file_in, copyfile_name)\n",
    "    return copyfile_name\n",
    "    \n",
    "    \n",
    "def warp_nifti(copyfile, mni_template_path):\n",
    "    # Attempt resampling to MNI space to fix bad headers\n",
    "    subprocess.run([\"flirt\", \"-in\", copyfile, \"-ref\", mni_template_path, \"-out\", copyfile], check=True)\n",
    "            \n",
    "\n",
    "def merge_files(root_dir, file_pattern_1, file_pattern_2, output_file_pattern, mni_template_path=None, dry_run=True):\n",
    "    for sub_dir in tqdm(os.listdir(root_dir)):\n",
    "        sub_dir_path = os.path.join(root_dir, sub_dir)\n",
    "        if not os.path.isdir(sub_dir_path):\n",
    "            continue            \n",
    "        files1 = glob(root_dir+\"/\"+sub_dir+file_pattern_1)\n",
    "        files2 = glob(root_dir+\"/\"+sub_dir+file_pattern_2)\n",
    "        \n",
    "        if dry_run: \n",
    "            print(\"Searching: \", sub_dir_path)\n",
    "            print(\"Found first set: \", files1)\n",
    "            print(\"Found second set: \", files1)\n",
    "\n",
    "        if files1 and files2 and not dry_run:\n",
    "            # Extract identified files\n",
    "            file1 = files1[0]\n",
    "            file2 = files2[0]\n",
    "            \n",
    "            # Prepare Output File\n",
    "            output_dir = os.path.dirname(file1)\n",
    "            output_file_with_subject = os.path.basename(sub_dir_path)+\"_\"+output_file_pattern\n",
    "            \n",
    "            # Prepare Backup Files\n",
    "            copyfile1 = prepare_backup_files(file1)\n",
    "            copyfile2 = prepare_backup_files(file2)\n",
    "            \n",
    "            # Re-register if neded\n",
    "            if mni_template_path is not None:\n",
    "                warp_nifti(copyfile=copyfile1, mni_template_path=mni_template_path)\n",
    "                warp_nifti(copyfile=copyfile2, mni_template_path=mni_template_path)\n",
    "            \n",
    "            # Identify the downsampled file name\n",
    "            downfile1 = copyfile1.split('.nii')[0]+\"_mni152.nii\"\n",
    "            downfile2 = copyfile2.split('.nii')[0]+\"_mni152.nii\"\n",
    "            \n",
    "            # Add the aligned files\n",
    "            downsample_image(copyfile1, downfile1)\n",
    "            downsample_image(copyfile2, downfile2)\n",
    "            \n",
    "            try:\n",
    "                importer = GiiNiiFileImport(os.path.dirname(downfile1), file_pattern=\"*copy_mni152.nii\")\n",
    "                imports = importer.run()\n",
    "                imports[\"summated\"] = imports.iloc[:,0] + imports.iloc[:,1]\n",
    "                \n",
    "                nifti_from_matrix(matrix=imports[\"summated\"].to_numpy(), output_file=output_dir, output_name=output_file_with_subject, reference=\"MNI\")\n",
    "                \n",
    "                # Clean up and remove the copy files. \n",
    "                os.remove(copyfile1)\n",
    "                os.remove(copyfile2)\n",
    "                os.remove(downfile1)\n",
    "                os.remove(downfile2)\n",
    "                \n",
    "                print(f\"\\n ***Processed: {sub_dir_path}\")\n",
    "                \n",
    "            except subprocess.CalledProcessError as e:\n",
    "                print(f\"Error processing {sub_dir_path}: {e}\")\n",
    "        elif dry_run:\n",
    "            pass\n",
    "        else:\n",
    "            print(f\"Missing file(s) in {sub_dir_path}\")"
   ]
  },
  {
   "cell_type": "markdown",
   "metadata": {},
   "source": [
    "Set MNI Template path to None unless you are doing fancy re-registrations. First attempt default"
   ]
  },
  {
   "cell_type": "code",
   "execution_count": 37,
   "metadata": {},
   "outputs": [],
   "source": [
    "# User-defined variables\n",
    "root_dir = r\"/Volumes/One Touch/BWH_PD_DBS_MixedTarget/vtas\"\n",
    "file_pattern_1 = r\"/*/*hemi-R.nii\"\n",
    "file_pattern_2 = r\"/*/*hemi-L.nii\"\n",
    "output_file_pattern = r\"sim-efield_model-simbio_hemi-bl.nii\"\n",
    "\n",
    "# Path to MNI template\n",
    "mni_template_path =None"
   ]
  },
  {
   "cell_type": "code",
   "execution_count": 38,
   "metadata": {},
   "outputs": [],
   "source": [
    "dry_run=False"
   ]
  },
  {
   "cell_type": "code",
   "execution_count": 39,
   "metadata": {},
   "outputs": [
    {
     "name": "stderr",
     "output_type": "stream",
     "text": [
      "  0%|          | 0/134 [00:00<?, ?it/s]"
     ]
    },
    {
     "name": "stdout",
     "output_type": "stream",
     "text": [
      "Attempting to import from: /Volumes/One Touch/BWH_PD_DBS_MixedTarget/vtas/sub-0037/stimulation/*copy_mni152.nii\n",
      "        sub-CbctDbs0037_hemi-R_copy_mni152.nii  \\\n",
      "0                                          0.0   \n",
      "1                                          0.0   \n",
      "2                                          0.0   \n",
      "3                                          0.0   \n",
      "4                                          0.0   \n",
      "...                                        ...   \n",
      "902624                                     0.0   \n",
      "902625                                     0.0   \n",
      "902626                                     0.0   \n",
      "902627                                     0.0   \n",
      "902628                                     0.0   \n",
      "\n",
      "        sub-CbctDbs0037_hemi-L_copy_mni152.nii  \n",
      "0                                          0.0  \n",
      "1                                          0.0  \n",
      "2                                          0.0  \n",
      "3                                          0.0  \n",
      "4                                          0.0  \n",
      "...                                        ...  \n",
      "902624                                     0.0  \n",
      "902625                                     0.0  \n",
      "902626                                     0.0  \n",
      "902627                                     0.0  \n",
      "902628                                     0.0  \n",
      "\n",
      "[902629 rows x 2 columns]\n"
     ]
    },
    {
     "data": {
      "text/plain": [
       "array([0., 0., 0., ..., 0., 0., 0.])"
      ]
     },
     "metadata": {},
     "output_type": "display_data"
    },
    {
     "name": "stdout",
     "output_type": "stream",
     "text": [
      "Image saved to: \n",
      " /Volumes/One Touch/BWH_PD_DBS_MixedTarget/vtas/sub-0037/stimulation\n"
     ]
    },
    {
     "name": "stderr",
     "output_type": "stream",
     "text": [
      "  1%|          | 1/134 [00:02<05:56,  2.68s/it]"
     ]
    },
    {
     "name": "stdout",
     "output_type": "stream",
     "text": [
      "\n",
      " ***Processed: /Volumes/One Touch/BWH_PD_DBS_MixedTarget/vtas/sub-0037\n",
      "Attempting to import from: /Volumes/One Touch/BWH_PD_DBS_MixedTarget/vtas/sub-0039/stimulation/*copy_mni152.nii\n",
      "        sub-CbctDbs0039_hemi-R_copy_mni152.nii  \\\n",
      "0                                          0.0   \n",
      "1                                          0.0   \n",
      "2                                          0.0   \n",
      "3                                          0.0   \n",
      "4                                          0.0   \n",
      "...                                        ...   \n",
      "902624                                     0.0   \n",
      "902625                                     0.0   \n",
      "902626                                     0.0   \n",
      "902627                                     0.0   \n",
      "902628                                     0.0   \n",
      "\n",
      "        sub-CbctDbs0039_hemi-L_copy_mni152.nii  \n",
      "0                                          0.0  \n",
      "1                                          0.0  \n",
      "2                                          0.0  \n",
      "3                                          0.0  \n",
      "4                                          0.0  \n",
      "...                                        ...  \n",
      "902624                                     0.0  \n",
      "902625                                     0.0  \n",
      "902626                                     0.0  \n",
      "902627                                     0.0  \n",
      "902628                                     0.0  \n",
      "\n",
      "[902629 rows x 2 columns]\n"
     ]
    },
    {
     "data": {
      "text/plain": [
       "array([0., 0., 0., ..., 0., 0., 0.])"
      ]
     },
     "metadata": {},
     "output_type": "display_data"
    },
    {
     "name": "stderr",
     "output_type": "stream",
     "text": [
      "  1%|▏         | 2/134 [00:06<07:50,  3.56s/it]"
     ]
    },
    {
     "name": "stdout",
     "output_type": "stream",
     "text": [
      "Image saved to: \n",
      " /Volumes/One Touch/BWH_PD_DBS_MixedTarget/vtas/sub-0039/stimulation\n",
      "\n",
      " ***Processed: /Volumes/One Touch/BWH_PD_DBS_MixedTarget/vtas/sub-0039\n",
      "Attempting to import from: /Volumes/One Touch/BWH_PD_DBS_MixedTarget/vtas/sub-0040/stimulation/*copy_mni152.nii\n",
      "        sub-CbctDbs0040_hemi-R_copy_mni152.nii  \\\n",
      "0                                          0.0   \n",
      "1                                          0.0   \n",
      "2                                          0.0   \n",
      "3                                          0.0   \n",
      "4                                          0.0   \n",
      "...                                        ...   \n",
      "902624                                     0.0   \n",
      "902625                                     0.0   \n",
      "902626                                     0.0   \n",
      "902627                                     0.0   \n",
      "902628                                     0.0   \n",
      "\n",
      "        sub-CbctDbs0040_hemi-L_copy_mni152.nii  \n",
      "0                                          0.0  \n",
      "1                                          0.0  \n",
      "2                                          0.0  \n",
      "3                                          0.0  \n",
      "4                                          0.0  \n",
      "...                                        ...  \n",
      "902624                                     0.0  \n",
      "902625                                     0.0  \n",
      "902626                                     0.0  \n",
      "902627                                     0.0  \n",
      "902628                                     0.0  \n",
      "\n",
      "[902629 rows x 2 columns]\n"
     ]
    },
    {
     "data": {
      "text/plain": [
       "array([0., 0., 0., ..., 0., 0., 0.])"
      ]
     },
     "metadata": {},
     "output_type": "display_data"
    },
    {
     "name": "stdout",
     "output_type": "stream",
     "text": [
      "Image saved to: \n",
      " /Volumes/One Touch/BWH_PD_DBS_MixedTarget/vtas/sub-0040/stimulation\n"
     ]
    },
    {
     "name": "stderr",
     "output_type": "stream",
     "text": [
      "  2%|▏         | 3/134 [00:10<07:55,  3.63s/it]"
     ]
    },
    {
     "name": "stdout",
     "output_type": "stream",
     "text": [
      "\n",
      " ***Processed: /Volumes/One Touch/BWH_PD_DBS_MixedTarget/vtas/sub-0040\n",
      "Attempting to import from: /Volumes/One Touch/BWH_PD_DBS_MixedTarget/vtas/sub-0041/stimulation/*copy_mni152.nii\n",
      "        sub-CbctDbs0041_hemi-R_copy_mni152.nii  \\\n",
      "0                                          0.0   \n",
      "1                                          0.0   \n",
      "2                                          0.0   \n",
      "3                                          0.0   \n",
      "4                                          0.0   \n",
      "...                                        ...   \n",
      "902624                                     0.0   \n",
      "902625                                     0.0   \n",
      "902626                                     0.0   \n",
      "902627                                     0.0   \n",
      "902628                                     0.0   \n",
      "\n",
      "        sub-CbctDbs0041_hemi-L_copy_mni152.nii  \n",
      "0                                          0.0  \n",
      "1                                          0.0  \n",
      "2                                          0.0  \n",
      "3                                          0.0  \n",
      "4                                          0.0  \n",
      "...                                        ...  \n",
      "902624                                     0.0  \n",
      "902625                                     0.0  \n",
      "902626                                     0.0  \n",
      "902627                                     0.0  \n",
      "902628                                     0.0  \n",
      "\n",
      "[902629 rows x 2 columns]\n"
     ]
    },
    {
     "data": {
      "text/plain": [
       "array([0., 0., 0., ..., 0., 0., 0.])"
      ]
     },
     "metadata": {},
     "output_type": "display_data"
    },
    {
     "name": "stderr",
     "output_type": "stream",
     "text": [
      "  3%|▎         | 4/134 [00:14<08:10,  3.77s/it]"
     ]
    },
    {
     "name": "stdout",
     "output_type": "stream",
     "text": [
      "Image saved to: \n",
      " /Volumes/One Touch/BWH_PD_DBS_MixedTarget/vtas/sub-0041/stimulation\n",
      "\n",
      " ***Processed: /Volumes/One Touch/BWH_PD_DBS_MixedTarget/vtas/sub-0041\n",
      "Attempting to import from: /Volumes/One Touch/BWH_PD_DBS_MixedTarget/vtas/sub-0043/stimulation/*copy_mni152.nii\n",
      "        sub-CbctDbs0043_hemi-R_copy_mni152.nii  \\\n",
      "0                                          0.0   \n",
      "1                                          0.0   \n",
      "2                                          0.0   \n",
      "3                                          0.0   \n",
      "4                                          0.0   \n",
      "...                                        ...   \n",
      "902624                                     0.0   \n",
      "902625                                     0.0   \n",
      "902626                                     0.0   \n",
      "902627                                     0.0   \n",
      "902628                                     0.0   \n",
      "\n",
      "        sub-CbctDbs0043_hemi-L_copy_mni152.nii  \n",
      "0                                          0.0  \n",
      "1                                          0.0  \n",
      "2                                          0.0  \n",
      "3                                          0.0  \n",
      "4                                          0.0  \n",
      "...                                        ...  \n",
      "902624                                     0.0  \n",
      "902625                                     0.0  \n",
      "902626                                     0.0  \n",
      "902627                                     0.0  \n",
      "902628                                     0.0  \n",
      "\n",
      "[902629 rows x 2 columns]\n"
     ]
    },
    {
     "data": {
      "text/plain": [
       "array([0., 0., 0., ..., 0., 0., 0.])"
      ]
     },
     "metadata": {},
     "output_type": "display_data"
    },
    {
     "name": "stdout",
     "output_type": "stream",
     "text": [
      "Image saved to: \n",
      " /Volumes/One Touch/BWH_PD_DBS_MixedTarget/vtas/sub-0043/stimulation\n"
     ]
    },
    {
     "name": "stderr",
     "output_type": "stream",
     "text": [
      "  4%|▎         | 5/134 [00:17<07:41,  3.57s/it]"
     ]
    },
    {
     "name": "stdout",
     "output_type": "stream",
     "text": [
      "\n",
      " ***Processed: /Volumes/One Touch/BWH_PD_DBS_MixedTarget/vtas/sub-0043\n",
      "Attempting to import from: /Volumes/One Touch/BWH_PD_DBS_MixedTarget/vtas/sub-0044/stimulation/*copy_mni152.nii\n",
      "        sub-CbctDbs0044_hemi-R_copy_mni152.nii  \\\n",
      "0                                          0.0   \n",
      "1                                          0.0   \n",
      "2                                          0.0   \n",
      "3                                          0.0   \n",
      "4                                          0.0   \n",
      "...                                        ...   \n",
      "902624                                     0.0   \n",
      "902625                                     0.0   \n",
      "902626                                     0.0   \n",
      "902627                                     0.0   \n",
      "902628                                     0.0   \n",
      "\n",
      "        sub-CbctDbs0044_hemi-L_copy_mni152.nii  \n",
      "0                                          0.0  \n",
      "1                                          0.0  \n",
      "2                                          0.0  \n",
      "3                                          0.0  \n",
      "4                                          0.0  \n",
      "...                                        ...  \n",
      "902624                                     0.0  \n",
      "902625                                     0.0  \n",
      "902626                                     0.0  \n",
      "902627                                     0.0  \n",
      "902628                                     0.0  \n",
      "\n",
      "[902629 rows x 2 columns]\n"
     ]
    },
    {
     "data": {
      "text/plain": [
       "array([0., 0., 0., ..., 0., 0., 0.])"
      ]
     },
     "metadata": {},
     "output_type": "display_data"
    },
    {
     "name": "stdout",
     "output_type": "stream",
     "text": [
      "Image saved to: \n",
      " /Volumes/One Touch/BWH_PD_DBS_MixedTarget/vtas/sub-0044/stimulation\n"
     ]
    },
    {
     "name": "stderr",
     "output_type": "stream",
     "text": [
      "  4%|▍         | 6/134 [00:21<07:52,  3.70s/it]"
     ]
    },
    {
     "name": "stdout",
     "output_type": "stream",
     "text": [
      "\n",
      " ***Processed: /Volumes/One Touch/BWH_PD_DBS_MixedTarget/vtas/sub-0044\n",
      "Attempting to import from: /Volumes/One Touch/BWH_PD_DBS_MixedTarget/vtas/sub-0045/stimulation/*copy_mni152.nii\n",
      "        sub-CbctDbs0045_hemi-R_copy_mni152.nii  \\\n",
      "0                                          0.0   \n",
      "1                                          0.0   \n",
      "2                                          0.0   \n",
      "3                                          0.0   \n",
      "4                                          0.0   \n",
      "...                                        ...   \n",
      "902624                                     0.0   \n",
      "902625                                     0.0   \n",
      "902626                                     0.0   \n",
      "902627                                     0.0   \n",
      "902628                                     0.0   \n",
      "\n",
      "        sub-CbctDbs0045_hemi-L_copy_mni152.nii  \n",
      "0                                          0.0  \n",
      "1                                          0.0  \n",
      "2                                          0.0  \n",
      "3                                          0.0  \n",
      "4                                          0.0  \n",
      "...                                        ...  \n",
      "902624                                     0.0  \n",
      "902625                                     0.0  \n",
      "902626                                     0.0  \n",
      "902627                                     0.0  \n",
      "902628                                     0.0  \n",
      "\n",
      "[902629 rows x 2 columns]\n"
     ]
    },
    {
     "data": {
      "text/plain": [
       "array([0., 0., 0., ..., 0., 0., 0.])"
      ]
     },
     "metadata": {},
     "output_type": "display_data"
    },
    {
     "name": "stdout",
     "output_type": "stream",
     "text": [
      "Image saved to: \n",
      " /Volumes/One Touch/BWH_PD_DBS_MixedTarget/vtas/sub-0045/stimulation\n"
     ]
    },
    {
     "name": "stderr",
     "output_type": "stream",
     "text": [
      "  5%|▌         | 7/134 [00:25<07:53,  3.73s/it]"
     ]
    },
    {
     "name": "stdout",
     "output_type": "stream",
     "text": [
      "\n",
      " ***Processed: /Volumes/One Touch/BWH_PD_DBS_MixedTarget/vtas/sub-0045\n",
      "Attempting to import from: /Volumes/One Touch/BWH_PD_DBS_MixedTarget/vtas/sub-0046/stimulation/*copy_mni152.nii\n",
      "        sub-CbctDbs0046_hemi-R_copy_mni152.nii  \\\n",
      "0                                          0.0   \n",
      "1                                          0.0   \n",
      "2                                          0.0   \n",
      "3                                          0.0   \n",
      "4                                          0.0   \n",
      "...                                        ...   \n",
      "902624                                     0.0   \n",
      "902625                                     0.0   \n",
      "902626                                     0.0   \n",
      "902627                                     0.0   \n",
      "902628                                     0.0   \n",
      "\n",
      "        sub-CbctDbs0046_hemi-L_copy_mni152.nii  \n",
      "0                                          0.0  \n",
      "1                                          0.0  \n",
      "2                                          0.0  \n",
      "3                                          0.0  \n",
      "4                                          0.0  \n",
      "...                                        ...  \n",
      "902624                                     0.0  \n",
      "902625                                     0.0  \n",
      "902626                                     0.0  \n",
      "902627                                     0.0  \n",
      "902628                                     0.0  \n",
      "\n",
      "[902629 rows x 2 columns]\n"
     ]
    },
    {
     "data": {
      "text/plain": [
       "array([0., 0., 0., ..., 0., 0., 0.])"
      ]
     },
     "metadata": {},
     "output_type": "display_data"
    },
    {
     "name": "stderr",
     "output_type": "stream",
     "text": [
      "  6%|▌         | 8/134 [00:34<11:02,  5.26s/it]"
     ]
    },
    {
     "name": "stdout",
     "output_type": "stream",
     "text": [
      "Image saved to: \n",
      " /Volumes/One Touch/BWH_PD_DBS_MixedTarget/vtas/sub-0046/stimulation\n",
      "\n",
      " ***Processed: /Volumes/One Touch/BWH_PD_DBS_MixedTarget/vtas/sub-0046\n",
      "Attempting to import from: /Volumes/One Touch/BWH_PD_DBS_MixedTarget/vtas/sub-0047/stimulation/*copy_mni152.nii\n",
      "        sub-CbctDbs0047_hemi-R_copy_mni152.nii  \\\n",
      "0                                          0.0   \n",
      "1                                          0.0   \n",
      "2                                          0.0   \n",
      "3                                          0.0   \n",
      "4                                          0.0   \n",
      "...                                        ...   \n",
      "902624                                     0.0   \n",
      "902625                                     0.0   \n",
      "902626                                     0.0   \n",
      "902627                                     0.0   \n",
      "902628                                     0.0   \n",
      "\n",
      "        sub-CbctDbs0047_hemi-L_copy_mni152.nii  \n",
      "0                                          0.0  \n",
      "1                                          0.0  \n",
      "2                                          0.0  \n",
      "3                                          0.0  \n",
      "4                                          0.0  \n",
      "...                                        ...  \n",
      "902624                                     0.0  \n",
      "902625                                     0.0  \n",
      "902626                                     0.0  \n",
      "902627                                     0.0  \n",
      "902628                                     0.0  \n",
      "\n",
      "[902629 rows x 2 columns]\n"
     ]
    },
    {
     "data": {
      "text/plain": [
       "array([0., 0., 0., ..., 0., 0., 0.])"
      ]
     },
     "metadata": {},
     "output_type": "display_data"
    },
    {
     "name": "stdout",
     "output_type": "stream",
     "text": [
      "Image saved to: \n",
      " /Volumes/One Touch/BWH_PD_DBS_MixedTarget/vtas/sub-0047/stimulation\n"
     ]
    },
    {
     "name": "stderr",
     "output_type": "stream",
     "text": [
      "  7%|▋         | 9/134 [00:44<14:00,  6.73s/it]"
     ]
    },
    {
     "name": "stdout",
     "output_type": "stream",
     "text": [
      "\n",
      " ***Processed: /Volumes/One Touch/BWH_PD_DBS_MixedTarget/vtas/sub-0047\n",
      "Attempting to import from: /Volumes/One Touch/BWH_PD_DBS_MixedTarget/vtas/sub-0048/stimulation/*copy_mni152.nii\n",
      "        sub-CbctDbs0048_hemi-R_copy_mni152.nii  \\\n",
      "0                                          0.0   \n",
      "1                                          0.0   \n",
      "2                                          0.0   \n",
      "3                                          0.0   \n",
      "4                                          0.0   \n",
      "...                                        ...   \n",
      "902624                                     0.0   \n",
      "902625                                     0.0   \n",
      "902626                                     0.0   \n",
      "902627                                     0.0   \n",
      "902628                                     0.0   \n",
      "\n",
      "        sub-CbctDbs0048_hemi-L_copy_mni152.nii  \n",
      "0                                          0.0  \n",
      "1                                          0.0  \n",
      "2                                          0.0  \n",
      "3                                          0.0  \n",
      "4                                          0.0  \n",
      "...                                        ...  \n",
      "902624                                     0.0  \n",
      "902625                                     0.0  \n",
      "902626                                     0.0  \n",
      "902627                                     0.0  \n",
      "902628                                     0.0  \n",
      "\n",
      "[902629 rows x 2 columns]\n"
     ]
    },
    {
     "data": {
      "text/plain": [
       "array([0., 0., 0., ..., 0., 0., 0.])"
      ]
     },
     "metadata": {},
     "output_type": "display_data"
    },
    {
     "name": "stdout",
     "output_type": "stream",
     "text": [
      "Image saved to: \n",
      " /Volumes/One Touch/BWH_PD_DBS_MixedTarget/vtas/sub-0048/stimulation\n"
     ]
    },
    {
     "name": "stderr",
     "output_type": "stream",
     "text": [
      "  7%|▋         | 10/134 [00:50<13:55,  6.74s/it]"
     ]
    },
    {
     "name": "stdout",
     "output_type": "stream",
     "text": [
      "\n",
      " ***Processed: /Volumes/One Touch/BWH_PD_DBS_MixedTarget/vtas/sub-0048\n",
      "Attempting to import from: /Volumes/One Touch/BWH_PD_DBS_MixedTarget/vtas/sub-0049/stimulation/*copy_mni152.nii\n",
      "        sub-CbctDbs0049_hemi-R_copy_mni152.nii  \\\n",
      "0                                          0.0   \n",
      "1                                          0.0   \n",
      "2                                          0.0   \n",
      "3                                          0.0   \n",
      "4                                          0.0   \n",
      "...                                        ...   \n",
      "902624                                     0.0   \n",
      "902625                                     0.0   \n",
      "902626                                     0.0   \n",
      "902627                                     0.0   \n",
      "902628                                     0.0   \n",
      "\n",
      "        sub-CbctDbs0049_hemi-L_copy_mni152.nii  \n",
      "0                                          0.0  \n",
      "1                                          0.0  \n",
      "2                                          0.0  \n",
      "3                                          0.0  \n",
      "4                                          0.0  \n",
      "...                                        ...  \n",
      "902624                                     0.0  \n",
      "902625                                     0.0  \n",
      "902626                                     0.0  \n",
      "902627                                     0.0  \n",
      "902628                                     0.0  \n",
      "\n",
      "[902629 rows x 2 columns]\n"
     ]
    },
    {
     "data": {
      "text/plain": [
       "array([0., 0., 0., ..., 0., 0., 0.])"
      ]
     },
     "metadata": {},
     "output_type": "display_data"
    },
    {
     "name": "stdout",
     "output_type": "stream",
     "text": [
      "Image saved to: \n",
      " /Volumes/One Touch/BWH_PD_DBS_MixedTarget/vtas/sub-0049/stimulation\n"
     ]
    },
    {
     "name": "stderr",
     "output_type": "stream",
     "text": [
      "  8%|▊         | 11/134 [00:56<12:54,  6.30s/it]"
     ]
    },
    {
     "name": "stdout",
     "output_type": "stream",
     "text": [
      "\n",
      " ***Processed: /Volumes/One Touch/BWH_PD_DBS_MixedTarget/vtas/sub-0049\n",
      "Attempting to import from: /Volumes/One Touch/BWH_PD_DBS_MixedTarget/vtas/sub-0051/stimulation/*copy_mni152.nii\n",
      "        sub-CbctDbs0051_hemi-R_copy_mni152.nii  \\\n",
      "0                                          0.0   \n",
      "1                                          0.0   \n",
      "2                                          0.0   \n",
      "3                                          0.0   \n",
      "4                                          0.0   \n",
      "...                                        ...   \n",
      "902624                                     0.0   \n",
      "902625                                     0.0   \n",
      "902626                                     0.0   \n",
      "902627                                     0.0   \n",
      "902628                                     0.0   \n",
      "\n",
      "        sub-CbctDbs0051_hemi-L_copy_mni152.nii  \n",
      "0                                          0.0  \n",
      "1                                          0.0  \n",
      "2                                          0.0  \n",
      "3                                          0.0  \n",
      "4                                          0.0  \n",
      "...                                        ...  \n",
      "902624                                     0.0  \n",
      "902625                                     0.0  \n",
      "902626                                     0.0  \n",
      "902627                                     0.0  \n",
      "902628                                     0.0  \n",
      "\n",
      "[902629 rows x 2 columns]\n"
     ]
    },
    {
     "data": {
      "text/plain": [
       "array([0., 0., 0., ..., 0., 0., 0.])"
      ]
     },
     "metadata": {},
     "output_type": "display_data"
    },
    {
     "name": "stderr",
     "output_type": "stream",
     "text": [
      "  9%|▉         | 12/134 [01:05<14:41,  7.22s/it]"
     ]
    },
    {
     "name": "stdout",
     "output_type": "stream",
     "text": [
      "Image saved to: \n",
      " /Volumes/One Touch/BWH_PD_DBS_MixedTarget/vtas/sub-0051/stimulation\n",
      "\n",
      " ***Processed: /Volumes/One Touch/BWH_PD_DBS_MixedTarget/vtas/sub-0051\n",
      "Attempting to import from: /Volumes/One Touch/BWH_PD_DBS_MixedTarget/vtas/sub-0052/stimulation/*copy_mni152.nii\n",
      "        sub-CbctDbs0052_hemi-R_copy_mni152.nii  \\\n",
      "0                                          0.0   \n",
      "1                                          0.0   \n",
      "2                                          0.0   \n",
      "3                                          0.0   \n",
      "4                                          0.0   \n",
      "...                                        ...   \n",
      "902624                                     0.0   \n",
      "902625                                     0.0   \n",
      "902626                                     0.0   \n",
      "902627                                     0.0   \n",
      "902628                                     0.0   \n",
      "\n",
      "        sub-CbctDbs0052_hemi-L_copy_mni152.nii  \n",
      "0                                          0.0  \n",
      "1                                          0.0  \n",
      "2                                          0.0  \n",
      "3                                          0.0  \n",
      "4                                          0.0  \n",
      "...                                        ...  \n",
      "902624                                     0.0  \n",
      "902625                                     0.0  \n",
      "902626                                     0.0  \n",
      "902627                                     0.0  \n",
      "902628                                     0.0  \n",
      "\n",
      "[902629 rows x 2 columns]\n"
     ]
    },
    {
     "data": {
      "text/plain": [
       "array([0., 0., 0., ..., 0., 0., 0.])"
      ]
     },
     "metadata": {},
     "output_type": "display_data"
    },
    {
     "name": "stderr",
     "output_type": "stream",
     "text": [
      " 10%|▉         | 13/134 [01:12<14:10,  7.03s/it]"
     ]
    },
    {
     "name": "stdout",
     "output_type": "stream",
     "text": [
      "Image saved to: \n",
      " /Volumes/One Touch/BWH_PD_DBS_MixedTarget/vtas/sub-0052/stimulation\n",
      "\n",
      " ***Processed: /Volumes/One Touch/BWH_PD_DBS_MixedTarget/vtas/sub-0052\n",
      "Attempting to import from: /Volumes/One Touch/BWH_PD_DBS_MixedTarget/vtas/sub-0053/stimulation/*copy_mni152.nii\n",
      "        sub-CbctDbs0053_hemi-R_copy_mni152.nii  \\\n",
      "0                                          0.0   \n",
      "1                                          0.0   \n",
      "2                                          0.0   \n",
      "3                                          0.0   \n",
      "4                                          0.0   \n",
      "...                                        ...   \n",
      "902624                                     0.0   \n",
      "902625                                     0.0   \n",
      "902626                                     0.0   \n",
      "902627                                     0.0   \n",
      "902628                                     0.0   \n",
      "\n",
      "        sub-CbctDbs0053_hemi-L_copy_mni152.nii  \n",
      "0                                          0.0  \n",
      "1                                          0.0  \n",
      "2                                          0.0  \n",
      "3                                          0.0  \n",
      "4                                          0.0  \n",
      "...                                        ...  \n",
      "902624                                     0.0  \n",
      "902625                                     0.0  \n",
      "902626                                     0.0  \n",
      "902627                                     0.0  \n",
      "902628                                     0.0  \n",
      "\n",
      "[902629 rows x 2 columns]\n"
     ]
    },
    {
     "data": {
      "text/plain": [
       "array([0., 0., 0., ..., 0., 0., 0.])"
      ]
     },
     "metadata": {},
     "output_type": "display_data"
    },
    {
     "name": "stderr",
     "output_type": "stream",
     "text": [
      " 10%|█         | 14/134 [01:18<13:58,  6.99s/it]"
     ]
    },
    {
     "name": "stdout",
     "output_type": "stream",
     "text": [
      "Image saved to: \n",
      " /Volumes/One Touch/BWH_PD_DBS_MixedTarget/vtas/sub-0053/stimulation\n",
      "\n",
      " ***Processed: /Volumes/One Touch/BWH_PD_DBS_MixedTarget/vtas/sub-0053\n",
      "Attempting to import from: /Volumes/One Touch/BWH_PD_DBS_MixedTarget/vtas/sub-0054/stimulation/*copy_mni152.nii\n",
      "        sub-CbctDbs0054_hemi-R_copy_mni152.nii  \\\n",
      "0                                          0.0   \n",
      "1                                          0.0   \n",
      "2                                          0.0   \n",
      "3                                          0.0   \n",
      "4                                          0.0   \n",
      "...                                        ...   \n",
      "902624                                     0.0   \n",
      "902625                                     0.0   \n",
      "902626                                     0.0   \n",
      "902627                                     0.0   \n",
      "902628                                     0.0   \n",
      "\n",
      "        sub-CbctDbs0054_hemi-L_copy_mni152.nii  \n",
      "0                                          0.0  \n",
      "1                                          0.0  \n",
      "2                                          0.0  \n",
      "3                                          0.0  \n",
      "4                                          0.0  \n",
      "...                                        ...  \n",
      "902624                                     0.0  \n",
      "902625                                     0.0  \n",
      "902626                                     0.0  \n",
      "902627                                     0.0  \n",
      "902628                                     0.0  \n",
      "\n",
      "[902629 rows x 2 columns]\n"
     ]
    },
    {
     "data": {
      "text/plain": [
       "array([0., 0., 0., ..., 0., 0., 0.])"
      ]
     },
     "metadata": {},
     "output_type": "display_data"
    },
    {
     "name": "stderr",
     "output_type": "stream",
     "text": [
      " 11%|█         | 15/134 [01:25<13:45,  6.93s/it]"
     ]
    },
    {
     "name": "stdout",
     "output_type": "stream",
     "text": [
      "Image saved to: \n",
      " /Volumes/One Touch/BWH_PD_DBS_MixedTarget/vtas/sub-0054/stimulation\n",
      "\n",
      " ***Processed: /Volumes/One Touch/BWH_PD_DBS_MixedTarget/vtas/sub-0054\n",
      "Attempting to import from: /Volumes/One Touch/BWH_PD_DBS_MixedTarget/vtas/sub-0055/stimulation/*copy_mni152.nii\n",
      "        sub-CbctDbs0055_hemi-R_copy_mni152.nii  \\\n",
      "0                                          0.0   \n",
      "1                                          0.0   \n",
      "2                                          0.0   \n",
      "3                                          0.0   \n",
      "4                                          0.0   \n",
      "...                                        ...   \n",
      "902624                                     0.0   \n",
      "902625                                     0.0   \n",
      "902626                                     0.0   \n",
      "902627                                     0.0   \n",
      "902628                                     0.0   \n",
      "\n",
      "        sub-CbctDbs0055_hemi-L_copy_mni152.nii  \n",
      "0                                          0.0  \n",
      "1                                          0.0  \n",
      "2                                          0.0  \n",
      "3                                          0.0  \n",
      "4                                          0.0  \n",
      "...                                        ...  \n",
      "902624                                     0.0  \n",
      "902625                                     0.0  \n",
      "902626                                     0.0  \n",
      "902627                                     0.0  \n",
      "902628                                     0.0  \n",
      "\n",
      "[902629 rows x 2 columns]\n"
     ]
    },
    {
     "data": {
      "text/plain": [
       "array([0., 0., 0., ..., 0., 0., 0.])"
      ]
     },
     "metadata": {},
     "output_type": "display_data"
    },
    {
     "name": "stderr",
     "output_type": "stream",
     "text": [
      " 12%|█▏        | 16/134 [01:33<14:23,  7.32s/it]"
     ]
    },
    {
     "name": "stdout",
     "output_type": "stream",
     "text": [
      "Image saved to: \n",
      " /Volumes/One Touch/BWH_PD_DBS_MixedTarget/vtas/sub-0055/stimulation\n",
      "\n",
      " ***Processed: /Volumes/One Touch/BWH_PD_DBS_MixedTarget/vtas/sub-0055\n",
      "Attempting to import from: /Volumes/One Touch/BWH_PD_DBS_MixedTarget/vtas/sub-0056/stimulation/*copy_mni152.nii\n",
      "        sub-CbctDbs0056_hemi-R_copy_mni152.nii  \\\n",
      "0                                          0.0   \n",
      "1                                          0.0   \n",
      "2                                          0.0   \n",
      "3                                          0.0   \n",
      "4                                          0.0   \n",
      "...                                        ...   \n",
      "902624                                     0.0   \n",
      "902625                                     0.0   \n",
      "902626                                     0.0   \n",
      "902627                                     0.0   \n",
      "902628                                     0.0   \n",
      "\n",
      "        sub-CbctDbs0056_hemi-L_copy_mni152.nii  \n",
      "0                                          0.0  \n",
      "1                                          0.0  \n",
      "2                                          0.0  \n",
      "3                                          0.0  \n",
      "4                                          0.0  \n",
      "...                                        ...  \n",
      "902624                                     0.0  \n",
      "902625                                     0.0  \n",
      "902626                                     0.0  \n",
      "902627                                     0.0  \n",
      "902628                                     0.0  \n",
      "\n",
      "[902629 rows x 2 columns]\n"
     ]
    },
    {
     "data": {
      "text/plain": [
       "array([0., 0., 0., ..., 0., 0., 0.])"
      ]
     },
     "metadata": {},
     "output_type": "display_data"
    },
    {
     "name": "stdout",
     "output_type": "stream",
     "text": [
      "Image saved to: \n",
      " /Volumes/One Touch/BWH_PD_DBS_MixedTarget/vtas/sub-0056/stimulation\n"
     ]
    },
    {
     "name": "stderr",
     "output_type": "stream",
     "text": [
      " 13%|█▎        | 17/134 [01:40<13:55,  7.14s/it]"
     ]
    },
    {
     "name": "stdout",
     "output_type": "stream",
     "text": [
      "\n",
      " ***Processed: /Volumes/One Touch/BWH_PD_DBS_MixedTarget/vtas/sub-0056\n",
      "Attempting to import from: /Volumes/One Touch/BWH_PD_DBS_MixedTarget/vtas/sub-0057/stimulation/*copy_mni152.nii\n",
      "        sub-CbctDbs0057_hemi-R_copy_mni152.nii  \\\n",
      "0                                          0.0   \n",
      "1                                          0.0   \n",
      "2                                          0.0   \n",
      "3                                          0.0   \n",
      "4                                          0.0   \n",
      "...                                        ...   \n",
      "902624                                     0.0   \n",
      "902625                                     0.0   \n",
      "902626                                     0.0   \n",
      "902627                                     0.0   \n",
      "902628                                     0.0   \n",
      "\n",
      "        sub-CbctDbs0057_hemi-L_copy_mni152.nii  \n",
      "0                                          0.0  \n",
      "1                                          0.0  \n",
      "2                                          0.0  \n",
      "3                                          0.0  \n",
      "4                                          0.0  \n",
      "...                                        ...  \n",
      "902624                                     0.0  \n",
      "902625                                     0.0  \n",
      "902626                                     0.0  \n",
      "902627                                     0.0  \n",
      "902628                                     0.0  \n",
      "\n",
      "[902629 rows x 2 columns]\n"
     ]
    },
    {
     "data": {
      "text/plain": [
       "array([0., 0., 0., ..., 0., 0., 0.])"
      ]
     },
     "metadata": {},
     "output_type": "display_data"
    },
    {
     "name": "stderr",
     "output_type": "stream",
     "text": [
      " 13%|█▎        | 18/134 [01:49<14:46,  7.64s/it]"
     ]
    },
    {
     "name": "stdout",
     "output_type": "stream",
     "text": [
      "Image saved to: \n",
      " /Volumes/One Touch/BWH_PD_DBS_MixedTarget/vtas/sub-0057/stimulation\n",
      "\n",
      " ***Processed: /Volumes/One Touch/BWH_PD_DBS_MixedTarget/vtas/sub-0057\n",
      "Attempting to import from: /Volumes/One Touch/BWH_PD_DBS_MixedTarget/vtas/sub-0058/stimulation/*copy_mni152.nii\n",
      "        sub-CbctDbs0058_hemi-R_copy_mni152.nii  \\\n",
      "0                                          0.0   \n",
      "1                                          0.0   \n",
      "2                                          0.0   \n",
      "3                                          0.0   \n",
      "4                                          0.0   \n",
      "...                                        ...   \n",
      "902624                                     0.0   \n",
      "902625                                     0.0   \n",
      "902626                                     0.0   \n",
      "902627                                     0.0   \n",
      "902628                                     0.0   \n",
      "\n",
      "        sub-CbctDbs0058_hemi-L_copy_mni152.nii  \n",
      "0                                          0.0  \n",
      "1                                          0.0  \n",
      "2                                          0.0  \n",
      "3                                          0.0  \n",
      "4                                          0.0  \n",
      "...                                        ...  \n",
      "902624                                     0.0  \n",
      "902625                                     0.0  \n",
      "902626                                     0.0  \n",
      "902627                                     0.0  \n",
      "902628                                     0.0  \n",
      "\n",
      "[902629 rows x 2 columns]\n"
     ]
    },
    {
     "data": {
      "text/plain": [
       "array([0., 0., 0., ..., 0., 0., 0.])"
      ]
     },
     "metadata": {},
     "output_type": "display_data"
    },
    {
     "name": "stderr",
     "output_type": "stream",
     "text": [
      " 14%|█▍        | 19/134 [01:56<14:26,  7.54s/it]"
     ]
    },
    {
     "name": "stdout",
     "output_type": "stream",
     "text": [
      "Image saved to: \n",
      " /Volumes/One Touch/BWH_PD_DBS_MixedTarget/vtas/sub-0058/stimulation\n",
      "\n",
      " ***Processed: /Volumes/One Touch/BWH_PD_DBS_MixedTarget/vtas/sub-0058\n",
      "Attempting to import from: /Volumes/One Touch/BWH_PD_DBS_MixedTarget/vtas/sub-0059/stimulation/*copy_mni152.nii\n",
      "        sub-CbctDbs0059_hemi-R_copy_mni152.nii  \\\n",
      "0                                          0.0   \n",
      "1                                          0.0   \n",
      "2                                          0.0   \n",
      "3                                          0.0   \n",
      "4                                          0.0   \n",
      "...                                        ...   \n",
      "902624                                     0.0   \n",
      "902625                                     0.0   \n",
      "902626                                     0.0   \n",
      "902627                                     0.0   \n",
      "902628                                     0.0   \n",
      "\n",
      "        sub-CbctDbs0059_hemi-L_copy_mni152.nii  \n",
      "0                                          0.0  \n",
      "1                                          0.0  \n",
      "2                                          0.0  \n",
      "3                                          0.0  \n",
      "4                                          0.0  \n",
      "...                                        ...  \n",
      "902624                                     0.0  \n",
      "902625                                     0.0  \n",
      "902626                                     0.0  \n",
      "902627                                     0.0  \n",
      "902628                                     0.0  \n",
      "\n",
      "[902629 rows x 2 columns]\n"
     ]
    },
    {
     "data": {
      "text/plain": [
       "array([0., 0., 0., ..., 0., 0., 0.])"
      ]
     },
     "metadata": {},
     "output_type": "display_data"
    },
    {
     "name": "stderr",
     "output_type": "stream",
     "text": [
      " 15%|█▍        | 20/134 [02:02<13:28,  7.10s/it]"
     ]
    },
    {
     "name": "stdout",
     "output_type": "stream",
     "text": [
      "Image saved to: \n",
      " /Volumes/One Touch/BWH_PD_DBS_MixedTarget/vtas/sub-0059/stimulation\n",
      "\n",
      " ***Processed: /Volumes/One Touch/BWH_PD_DBS_MixedTarget/vtas/sub-0059\n",
      "Attempting to import from: /Volumes/One Touch/BWH_PD_DBS_MixedTarget/vtas/sub-0060/stimulation/*copy_mni152.nii\n",
      "        sub-CbctDbs0060_hemi-R_copy_mni152.nii  \\\n",
      "0                                          0.0   \n",
      "1                                          0.0   \n",
      "2                                          0.0   \n",
      "3                                          0.0   \n",
      "4                                          0.0   \n",
      "...                                        ...   \n",
      "902624                                     0.0   \n",
      "902625                                     0.0   \n",
      "902626                                     0.0   \n",
      "902627                                     0.0   \n",
      "902628                                     0.0   \n",
      "\n",
      "        sub-CbctDbs0060_hemi-L_copy_mni152.nii  \n",
      "0                                          0.0  \n",
      "1                                          0.0  \n",
      "2                                          0.0  \n",
      "3                                          0.0  \n",
      "4                                          0.0  \n",
      "...                                        ...  \n",
      "902624                                     0.0  \n",
      "902625                                     0.0  \n",
      "902626                                     0.0  \n",
      "902627                                     0.0  \n",
      "902628                                     0.0  \n",
      "\n",
      "[902629 rows x 2 columns]\n"
     ]
    },
    {
     "data": {
      "text/plain": [
       "array([0., 0., 0., ..., 0., 0., 0.])"
      ]
     },
     "metadata": {},
     "output_type": "display_data"
    },
    {
     "name": "stderr",
     "output_type": "stream",
     "text": [
      " 16%|█▌        | 21/134 [02:04<10:20,  5.49s/it]"
     ]
    },
    {
     "name": "stdout",
     "output_type": "stream",
     "text": [
      "Image saved to: \n",
      " /Volumes/One Touch/BWH_PD_DBS_MixedTarget/vtas/sub-0060/stimulation\n",
      "\n",
      " ***Processed: /Volumes/One Touch/BWH_PD_DBS_MixedTarget/vtas/sub-0060\n",
      "Attempting to import from: /Volumes/One Touch/BWH_PD_DBS_MixedTarget/vtas/sub-0061/stimulation/*copy_mni152.nii\n",
      "        sub-CbctDbs0061_hemi-R_copy_mni152.nii  \\\n",
      "0                                          0.0   \n",
      "1                                          0.0   \n",
      "2                                          0.0   \n",
      "3                                          0.0   \n",
      "4                                          0.0   \n",
      "...                                        ...   \n",
      "902624                                     0.0   \n",
      "902625                                     0.0   \n",
      "902626                                     0.0   \n",
      "902627                                     0.0   \n",
      "902628                                     0.0   \n",
      "\n",
      "        sub-CbctDbs0061_hemi-L_copy_mni152.nii  \n",
      "0                                          0.0  \n",
      "1                                          0.0  \n",
      "2                                          0.0  \n",
      "3                                          0.0  \n",
      "4                                          0.0  \n",
      "...                                        ...  \n",
      "902624                                     0.0  \n",
      "902625                                     0.0  \n",
      "902626                                     0.0  \n",
      "902627                                     0.0  \n",
      "902628                                     0.0  \n",
      "\n",
      "[902629 rows x 2 columns]\n"
     ]
    },
    {
     "data": {
      "text/plain": [
       "array([0., 0., 0., ..., 0., 0., 0.])"
      ]
     },
     "metadata": {},
     "output_type": "display_data"
    },
    {
     "name": "stderr",
     "output_type": "stream",
     "text": [
      " 16%|█▋        | 22/134 [02:06<08:21,  4.47s/it]"
     ]
    },
    {
     "name": "stdout",
     "output_type": "stream",
     "text": [
      "Image saved to: \n",
      " /Volumes/One Touch/BWH_PD_DBS_MixedTarget/vtas/sub-0061/stimulation\n",
      "\n",
      " ***Processed: /Volumes/One Touch/BWH_PD_DBS_MixedTarget/vtas/sub-0061\n",
      "Attempting to import from: /Volumes/One Touch/BWH_PD_DBS_MixedTarget/vtas/sub-0062/stimulation/*copy_mni152.nii\n",
      "        sub-CbctDbs0062_hemi-R_copy_mni152.nii  \\\n",
      "0                                          0.0   \n",
      "1                                          0.0   \n",
      "2                                          0.0   \n",
      "3                                          0.0   \n",
      "4                                          0.0   \n",
      "...                                        ...   \n",
      "902624                                     0.0   \n",
      "902625                                     0.0   \n",
      "902626                                     0.0   \n",
      "902627                                     0.0   \n",
      "902628                                     0.0   \n",
      "\n",
      "        sub-CbctDbs0062_hemi-L_copy_mni152.nii  \n",
      "0                                          0.0  \n",
      "1                                          0.0  \n",
      "2                                          0.0  \n",
      "3                                          0.0  \n",
      "4                                          0.0  \n",
      "...                                        ...  \n",
      "902624                                     0.0  \n",
      "902625                                     0.0  \n",
      "902626                                     0.0  \n",
      "902627                                     0.0  \n",
      "902628                                     0.0  \n",
      "\n",
      "[902629 rows x 2 columns]\n"
     ]
    },
    {
     "data": {
      "text/plain": [
       "array([0., 0., 0., ..., 0., 0., 0.])"
      ]
     },
     "metadata": {},
     "output_type": "display_data"
    },
    {
     "name": "stderr",
     "output_type": "stream",
     "text": [
      " 17%|█▋        | 23/134 [02:11<08:21,  4.52s/it]"
     ]
    },
    {
     "name": "stdout",
     "output_type": "stream",
     "text": [
      "Image saved to: \n",
      " /Volumes/One Touch/BWH_PD_DBS_MixedTarget/vtas/sub-0062/stimulation\n",
      "\n",
      " ***Processed: /Volumes/One Touch/BWH_PD_DBS_MixedTarget/vtas/sub-0062\n",
      "Attempting to import from: /Volumes/One Touch/BWH_PD_DBS_MixedTarget/vtas/sub-0064/stimulation/*copy_mni152.nii\n",
      "        sub-CbctDbs0064_hemi-R_copy_mni152.nii  \\\n",
      "0                                          0.0   \n",
      "1                                          0.0   \n",
      "2                                          0.0   \n",
      "3                                          0.0   \n",
      "4                                          0.0   \n",
      "...                                        ...   \n",
      "902624                                     0.0   \n",
      "902625                                     0.0   \n",
      "902626                                     0.0   \n",
      "902627                                     0.0   \n",
      "902628                                     0.0   \n",
      "\n",
      "        sub-CbctDbs0064_hemi-L_copy_mni152.nii  \n",
      "0                                          0.0  \n",
      "1                                          0.0  \n",
      "2                                          0.0  \n",
      "3                                          0.0  \n",
      "4                                          0.0  \n",
      "...                                        ...  \n",
      "902624                                     0.0  \n",
      "902625                                     0.0  \n",
      "902626                                     0.0  \n",
      "902627                                     0.0  \n",
      "902628                                     0.0  \n",
      "\n",
      "[902629 rows x 2 columns]\n"
     ]
    },
    {
     "data": {
      "text/plain": [
       "array([0., 0., 0., ..., 0., 0., 0.])"
      ]
     },
     "metadata": {},
     "output_type": "display_data"
    },
    {
     "name": "stdout",
     "output_type": "stream",
     "text": [
      "Image saved to: \n",
      " /Volumes/One Touch/BWH_PD_DBS_MixedTarget/vtas/sub-0064/stimulation\n"
     ]
    },
    {
     "name": "stderr",
     "output_type": "stream",
     "text": [
      " 18%|█▊        | 24/134 [02:23<12:16,  6.69s/it]"
     ]
    },
    {
     "name": "stdout",
     "output_type": "stream",
     "text": [
      "\n",
      " ***Processed: /Volumes/One Touch/BWH_PD_DBS_MixedTarget/vtas/sub-0064\n",
      "Attempting to import from: /Volumes/One Touch/BWH_PD_DBS_MixedTarget/vtas/sub-0066/stimulation/*copy_mni152.nii\n",
      "        sub-CbctDbs0066_hemi-R_copy_mni152.nii  \\\n",
      "0                                          0.0   \n",
      "1                                          0.0   \n",
      "2                                          0.0   \n",
      "3                                          0.0   \n",
      "4                                          0.0   \n",
      "...                                        ...   \n",
      "902624                                     0.0   \n",
      "902625                                     0.0   \n",
      "902626                                     0.0   \n",
      "902627                                     0.0   \n",
      "902628                                     0.0   \n",
      "\n",
      "        sub-CbctDbs0066_hemi-L_copy_mni152.nii  \n",
      "0                                          0.0  \n",
      "1                                          0.0  \n",
      "2                                          0.0  \n",
      "3                                          0.0  \n",
      "4                                          0.0  \n",
      "...                                        ...  \n",
      "902624                                     0.0  \n",
      "902625                                     0.0  \n",
      "902626                                     0.0  \n",
      "902627                                     0.0  \n",
      "902628                                     0.0  \n",
      "\n",
      "[902629 rows x 2 columns]\n"
     ]
    },
    {
     "data": {
      "text/plain": [
       "array([0., 0., 0., ..., 0., 0., 0.])"
      ]
     },
     "metadata": {},
     "output_type": "display_data"
    },
    {
     "name": "stderr",
     "output_type": "stream",
     "text": [
      " 19%|█▊        | 25/134 [02:33<14:25,  7.94s/it]"
     ]
    },
    {
     "name": "stdout",
     "output_type": "stream",
     "text": [
      "Image saved to: \n",
      " /Volumes/One Touch/BWH_PD_DBS_MixedTarget/vtas/sub-0066/stimulation\n",
      "\n",
      " ***Processed: /Volumes/One Touch/BWH_PD_DBS_MixedTarget/vtas/sub-0066\n",
      "Attempting to import from: /Volumes/One Touch/BWH_PD_DBS_MixedTarget/vtas/sub-0067/stimulation/*copy_mni152.nii\n",
      "        sub-CbctDbs0067_hemi-R_copy_mni152.nii  \\\n",
      "0                                          0.0   \n",
      "1                                          0.0   \n",
      "2                                          0.0   \n",
      "3                                          0.0   \n",
      "4                                          0.0   \n",
      "...                                        ...   \n",
      "902624                                     0.0   \n",
      "902625                                     0.0   \n",
      "902626                                     0.0   \n",
      "902627                                     0.0   \n",
      "902628                                     0.0   \n",
      "\n",
      "        sub-CbctDbs0067_hemi-L_copy_mni152.nii  \n",
      "0                                          0.0  \n",
      "1                                          0.0  \n",
      "2                                          0.0  \n",
      "3                                          0.0  \n",
      "4                                          0.0  \n",
      "...                                        ...  \n",
      "902624                                     0.0  \n",
      "902625                                     0.0  \n",
      "902626                                     0.0  \n",
      "902627                                     0.0  \n",
      "902628                                     0.0  \n",
      "\n",
      "[902629 rows x 2 columns]\n"
     ]
    },
    {
     "data": {
      "text/plain": [
       "array([0., 0., 0., ..., 0., 0., 0.])"
      ]
     },
     "metadata": {},
     "output_type": "display_data"
    },
    {
     "name": "stdout",
     "output_type": "stream",
     "text": [
      "Image saved to: \n",
      " /Volumes/One Touch/BWH_PD_DBS_MixedTarget/vtas/sub-0067/stimulation\n"
     ]
    },
    {
     "name": "stderr",
     "output_type": "stream",
     "text": [
      " 19%|█▉        | 26/134 [02:43<15:19,  8.51s/it]"
     ]
    },
    {
     "name": "stdout",
     "output_type": "stream",
     "text": [
      "\n",
      " ***Processed: /Volumes/One Touch/BWH_PD_DBS_MixedTarget/vtas/sub-0067\n",
      "Missing file(s) in /Volumes/One Touch/BWH_PD_DBS_MixedTarget/vtas/sub-0068\n",
      "Attempting to import from: /Volumes/One Touch/BWH_PD_DBS_MixedTarget/vtas/sub-0071/stimulation/*copy_mni152.nii\n",
      "        sub-CbctDbs0071_hemi-R_copy_mni152.nii  \\\n",
      "0                                          0.0   \n",
      "1                                          0.0   \n",
      "2                                          0.0   \n",
      "3                                          0.0   \n",
      "4                                          0.0   \n",
      "...                                        ...   \n",
      "902624                                     0.0   \n",
      "902625                                     0.0   \n",
      "902626                                     0.0   \n",
      "902627                                     0.0   \n",
      "902628                                     0.0   \n",
      "\n",
      "        sub-CbctDbs0071_hemi-L_copy_mni152.nii  \n",
      "0                                          0.0  \n",
      "1                                          0.0  \n",
      "2                                          0.0  \n",
      "3                                          0.0  \n",
      "4                                          0.0  \n",
      "...                                        ...  \n",
      "902624                                     0.0  \n",
      "902625                                     0.0  \n",
      "902626                                     0.0  \n",
      "902627                                     0.0  \n",
      "902628                                     0.0  \n",
      "\n",
      "[902629 rows x 2 columns]\n"
     ]
    },
    {
     "data": {
      "text/plain": [
       "array([0., 0., 0., ..., 0., 0., 0.])"
      ]
     },
     "metadata": {},
     "output_type": "display_data"
    },
    {
     "name": "stdout",
     "output_type": "stream",
     "text": [
      "Image saved to: \n",
      " /Volumes/One Touch/BWH_PD_DBS_MixedTarget/vtas/sub-0071/stimulation\n"
     ]
    },
    {
     "name": "stderr",
     "output_type": "stream",
     "text": [
      " 21%|██        | 28/134 [02:50<10:57,  6.20s/it]"
     ]
    },
    {
     "name": "stdout",
     "output_type": "stream",
     "text": [
      "\n",
      " ***Processed: /Volumes/One Touch/BWH_PD_DBS_MixedTarget/vtas/sub-0071\n",
      "Attempting to import from: /Volumes/One Touch/BWH_PD_DBS_MixedTarget/vtas/sub-0072/stimulation/*copy_mni152.nii\n",
      "        sub-CbctDbs0072_hemi-R_copy_mni152.nii  \\\n",
      "0                                          0.0   \n",
      "1                                          0.0   \n",
      "2                                          0.0   \n",
      "3                                          0.0   \n",
      "4                                          0.0   \n",
      "...                                        ...   \n",
      "902624                                     0.0   \n",
      "902625                                     0.0   \n",
      "902626                                     0.0   \n",
      "902627                                     0.0   \n",
      "902628                                     0.0   \n",
      "\n",
      "        sub-CbctDbs0072_hemi-L_copy_mni152.nii  \n",
      "0                                          0.0  \n",
      "1                                          0.0  \n",
      "2                                          0.0  \n",
      "3                                          0.0  \n",
      "4                                          0.0  \n",
      "...                                        ...  \n",
      "902624                                     0.0  \n",
      "902625                                     0.0  \n",
      "902626                                     0.0  \n",
      "902627                                     0.0  \n",
      "902628                                     0.0  \n",
      "\n",
      "[902629 rows x 2 columns]\n"
     ]
    },
    {
     "data": {
      "text/plain": [
       "array([0., 0., 0., ..., 0., 0., 0.])"
      ]
     },
     "metadata": {},
     "output_type": "display_data"
    },
    {
     "name": "stderr",
     "output_type": "stream",
     "text": [
      " 22%|██▏       | 29/134 [02:57<11:00,  6.30s/it]"
     ]
    },
    {
     "name": "stdout",
     "output_type": "stream",
     "text": [
      "Image saved to: \n",
      " /Volumes/One Touch/BWH_PD_DBS_MixedTarget/vtas/sub-0072/stimulation\n",
      "\n",
      " ***Processed: /Volumes/One Touch/BWH_PD_DBS_MixedTarget/vtas/sub-0072\n",
      "Attempting to import from: /Volumes/One Touch/BWH_PD_DBS_MixedTarget/vtas/sub-0073/stimulation/*copy_mni152.nii\n",
      "        sub-CbctDbs0073_hemi-R_copy_mni152.nii  \\\n",
      "0                                          0.0   \n",
      "1                                          0.0   \n",
      "2                                          0.0   \n",
      "3                                          0.0   \n",
      "4                                          0.0   \n",
      "...                                        ...   \n",
      "902624                                     0.0   \n",
      "902625                                     0.0   \n",
      "902626                                     0.0   \n",
      "902627                                     0.0   \n",
      "902628                                     0.0   \n",
      "\n",
      "        sub-CbctDbs0073_hemi-L_copy_mni152.nii  \n",
      "0                                          0.0  \n",
      "1                                          0.0  \n",
      "2                                          0.0  \n",
      "3                                          0.0  \n",
      "4                                          0.0  \n",
      "...                                        ...  \n",
      "902624                                     0.0  \n",
      "902625                                     0.0  \n",
      "902626                                     0.0  \n",
      "902627                                     0.0  \n",
      "902628                                     0.0  \n",
      "\n",
      "[902629 rows x 2 columns]\n"
     ]
    },
    {
     "data": {
      "text/plain": [
       "array([0., 0., 0., ..., 0., 0., 0.])"
      ]
     },
     "metadata": {},
     "output_type": "display_data"
    },
    {
     "name": "stdout",
     "output_type": "stream",
     "text": [
      "Image saved to: \n",
      " /Volumes/One Touch/BWH_PD_DBS_MixedTarget/vtas/sub-0073/stimulation\n"
     ]
    },
    {
     "name": "stderr",
     "output_type": "stream",
     "text": [
      " 22%|██▏       | 30/134 [03:00<09:35,  5.53s/it]"
     ]
    },
    {
     "name": "stdout",
     "output_type": "stream",
     "text": [
      "\n",
      " ***Processed: /Volumes/One Touch/BWH_PD_DBS_MixedTarget/vtas/sub-0073\n",
      "Attempting to import from: /Volumes/One Touch/BWH_PD_DBS_MixedTarget/vtas/sub-0074/stimulation/*copy_mni152.nii\n",
      "        sub-CbctDbs0074_hemi-R_copy_mni152.nii  \\\n",
      "0                                          0.0   \n",
      "1                                          0.0   \n",
      "2                                          0.0   \n",
      "3                                          0.0   \n",
      "4                                          0.0   \n",
      "...                                        ...   \n",
      "902624                                     0.0   \n",
      "902625                                     0.0   \n",
      "902626                                     0.0   \n",
      "902627                                     0.0   \n",
      "902628                                     0.0   \n",
      "\n",
      "        sub-CbctDbs0074_hemi-L_copy_mni152.nii  \n",
      "0                                          0.0  \n",
      "1                                          0.0  \n",
      "2                                          0.0  \n",
      "3                                          0.0  \n",
      "4                                          0.0  \n",
      "...                                        ...  \n",
      "902624                                     0.0  \n",
      "902625                                     0.0  \n",
      "902626                                     0.0  \n",
      "902627                                     0.0  \n",
      "902628                                     0.0  \n",
      "\n",
      "[902629 rows x 2 columns]\n"
     ]
    },
    {
     "data": {
      "text/plain": [
       "array([0., 0., 0., ..., 0., 0., 0.])"
      ]
     },
     "metadata": {},
     "output_type": "display_data"
    },
    {
     "name": "stdout",
     "output_type": "stream",
     "text": [
      "Image saved to: \n",
      " /Volumes/One Touch/BWH_PD_DBS_MixedTarget/vtas/sub-0074/stimulation\n"
     ]
    },
    {
     "name": "stderr",
     "output_type": "stream",
     "text": [
      " 23%|██▎       | 31/134 [03:05<08:59,  5.24s/it]"
     ]
    },
    {
     "name": "stdout",
     "output_type": "stream",
     "text": [
      "\n",
      " ***Processed: /Volumes/One Touch/BWH_PD_DBS_MixedTarget/vtas/sub-0074\n",
      "Attempting to import from: /Volumes/One Touch/BWH_PD_DBS_MixedTarget/vtas/sub-0075/stimulation/*copy_mni152.nii\n",
      "        sub-CbctDbs0075_hemi-R_copy_mni152.nii  \\\n",
      "0                                          0.0   \n",
      "1                                          0.0   \n",
      "2                                          0.0   \n",
      "3                                          0.0   \n",
      "4                                          0.0   \n",
      "...                                        ...   \n",
      "902624                                     0.0   \n",
      "902625                                     0.0   \n",
      "902626                                     0.0   \n",
      "902627                                     0.0   \n",
      "902628                                     0.0   \n",
      "\n",
      "        sub-CbctDbs0075_hemi-L_copy_mni152.nii  \n",
      "0                                          0.0  \n",
      "1                                          0.0  \n",
      "2                                          0.0  \n",
      "3                                          0.0  \n",
      "4                                          0.0  \n",
      "...                                        ...  \n",
      "902624                                     0.0  \n",
      "902625                                     0.0  \n",
      "902626                                     0.0  \n",
      "902627                                     0.0  \n",
      "902628                                     0.0  \n",
      "\n",
      "[902629 rows x 2 columns]\n"
     ]
    },
    {
     "data": {
      "text/plain": [
       "array([0., 0., 0., ..., 0., 0., 0.])"
      ]
     },
     "metadata": {},
     "output_type": "display_data"
    },
    {
     "name": "stderr",
     "output_type": "stream",
     "text": [
      " 24%|██▍       | 32/134 [03:06<06:57,  4.10s/it]"
     ]
    },
    {
     "name": "stdout",
     "output_type": "stream",
     "text": [
      "Image saved to: \n",
      " /Volumes/One Touch/BWH_PD_DBS_MixedTarget/vtas/sub-0075/stimulation\n",
      "\n",
      " ***Processed: /Volumes/One Touch/BWH_PD_DBS_MixedTarget/vtas/sub-0075\n",
      "Attempting to import from: /Volumes/One Touch/BWH_PD_DBS_MixedTarget/vtas/sub-0076/stimulation/*copy_mni152.nii\n",
      "        sub-CbctDbs0076_hemi-R_copy_mni152.nii  \\\n",
      "0                                          0.0   \n",
      "1                                          0.0   \n",
      "2                                          0.0   \n",
      "3                                          0.0   \n",
      "4                                          0.0   \n",
      "...                                        ...   \n",
      "902624                                     0.0   \n",
      "902625                                     0.0   \n",
      "902626                                     0.0   \n",
      "902627                                     0.0   \n",
      "902628                                     0.0   \n",
      "\n",
      "        sub-CbctDbs0076_hemi-L_copy_mni152.nii  \n",
      "0                                          0.0  \n",
      "1                                          0.0  \n",
      "2                                          0.0  \n",
      "3                                          0.0  \n",
      "4                                          0.0  \n",
      "...                                        ...  \n",
      "902624                                     0.0  \n",
      "902625                                     0.0  \n",
      "902626                                     0.0  \n",
      "902627                                     0.0  \n",
      "902628                                     0.0  \n",
      "\n",
      "[902629 rows x 2 columns]\n"
     ]
    },
    {
     "data": {
      "text/plain": [
       "array([0., 0., 0., ..., 0., 0., 0.])"
      ]
     },
     "metadata": {},
     "output_type": "display_data"
    },
    {
     "name": "stdout",
     "output_type": "stream",
     "text": [
      "Image saved to: \n",
      " /Volumes/One Touch/BWH_PD_DBS_MixedTarget/vtas/sub-0076/stimulation\n"
     ]
    },
    {
     "name": "stderr",
     "output_type": "stream",
     "text": [
      " 25%|██▍       | 33/134 [03:13<08:13,  4.89s/it]"
     ]
    },
    {
     "name": "stdout",
     "output_type": "stream",
     "text": [
      "\n",
      " ***Processed: /Volumes/One Touch/BWH_PD_DBS_MixedTarget/vtas/sub-0076\n",
      "Attempting to import from: /Volumes/One Touch/BWH_PD_DBS_MixedTarget/vtas/sub-0077/stimulation/*copy_mni152.nii\n",
      "        sub-CbctDbs0077_hemi-R_copy_mni152.nii  \\\n",
      "0                                          0.0   \n",
      "1                                          0.0   \n",
      "2                                          0.0   \n",
      "3                                          0.0   \n",
      "4                                          0.0   \n",
      "...                                        ...   \n",
      "902624                                     0.0   \n",
      "902625                                     0.0   \n",
      "902626                                     0.0   \n",
      "902627                                     0.0   \n",
      "902628                                     0.0   \n",
      "\n",
      "        sub-CbctDbs0077_hemi-L_copy_mni152.nii  \n",
      "0                                          0.0  \n",
      "1                                          0.0  \n",
      "2                                          0.0  \n",
      "3                                          0.0  \n",
      "4                                          0.0  \n",
      "...                                        ...  \n",
      "902624                                     0.0  \n",
      "902625                                     0.0  \n",
      "902626                                     0.0  \n",
      "902627                                     0.0  \n",
      "902628                                     0.0  \n",
      "\n",
      "[902629 rows x 2 columns]\n"
     ]
    },
    {
     "data": {
      "text/plain": [
       "array([0., 0., 0., ..., 0., 0., 0.])"
      ]
     },
     "metadata": {},
     "output_type": "display_data"
    },
    {
     "name": "stdout",
     "output_type": "stream",
     "text": [
      "Image saved to: \n",
      " /Volumes/One Touch/BWH_PD_DBS_MixedTarget/vtas/sub-0077/stimulation\n"
     ]
    },
    {
     "name": "stderr",
     "output_type": "stream",
     "text": [
      " 25%|██▌       | 34/134 [03:16<07:26,  4.46s/it]"
     ]
    },
    {
     "name": "stdout",
     "output_type": "stream",
     "text": [
      "\n",
      " ***Processed: /Volumes/One Touch/BWH_PD_DBS_MixedTarget/vtas/sub-0077\n",
      "Attempting to import from: /Volumes/One Touch/BWH_PD_DBS_MixedTarget/vtas/sub-0078/stimulation/*copy_mni152.nii\n",
      "        sub-CbctDbs0078_hemi-R_copy_mni152.nii  \\\n",
      "0                                          0.0   \n",
      "1                                          0.0   \n",
      "2                                          0.0   \n",
      "3                                          0.0   \n",
      "4                                          0.0   \n",
      "...                                        ...   \n",
      "902624                                     0.0   \n",
      "902625                                     0.0   \n",
      "902626                                     0.0   \n",
      "902627                                     0.0   \n",
      "902628                                     0.0   \n",
      "\n",
      "        sub-CbctDbs0078_hemi-L_copy_mni152.nii  \n",
      "0                                          0.0  \n",
      "1                                          0.0  \n",
      "2                                          0.0  \n",
      "3                                          0.0  \n",
      "4                                          0.0  \n",
      "...                                        ...  \n",
      "902624                                     0.0  \n",
      "902625                                     0.0  \n",
      "902626                                     0.0  \n",
      "902627                                     0.0  \n",
      "902628                                     0.0  \n",
      "\n",
      "[902629 rows x 2 columns]\n"
     ]
    },
    {
     "data": {
      "text/plain": [
       "array([0., 0., 0., ..., 0., 0., 0.])"
      ]
     },
     "metadata": {},
     "output_type": "display_data"
    },
    {
     "name": "stderr",
     "output_type": "stream",
     "text": [
      " 26%|██▌       | 35/134 [03:19<06:42,  4.06s/it]"
     ]
    },
    {
     "name": "stdout",
     "output_type": "stream",
     "text": [
      "Image saved to: \n",
      " /Volumes/One Touch/BWH_PD_DBS_MixedTarget/vtas/sub-0078/stimulation\n",
      "\n",
      " ***Processed: /Volumes/One Touch/BWH_PD_DBS_MixedTarget/vtas/sub-0078\n",
      "Attempting to import from: /Volumes/One Touch/BWH_PD_DBS_MixedTarget/vtas/sub-0079/stimulation/*copy_mni152.nii\n",
      "        sub-CbctDbs0079_hemi-R_copy_mni152.nii  \\\n",
      "0                                          0.0   \n",
      "1                                          0.0   \n",
      "2                                          0.0   \n",
      "3                                          0.0   \n",
      "4                                          0.0   \n",
      "...                                        ...   \n",
      "902624                                     0.0   \n",
      "902625                                     0.0   \n",
      "902626                                     0.0   \n",
      "902627                                     0.0   \n",
      "902628                                     0.0   \n",
      "\n",
      "        sub-CbctDbs0079_hemi-L_copy_mni152.nii  \n",
      "0                                          0.0  \n",
      "1                                          0.0  \n",
      "2                                          0.0  \n",
      "3                                          0.0  \n",
      "4                                          0.0  \n",
      "...                                        ...  \n",
      "902624                                     0.0  \n",
      "902625                                     0.0  \n",
      "902626                                     0.0  \n",
      "902627                                     0.0  \n",
      "902628                                     0.0  \n",
      "\n",
      "[902629 rows x 2 columns]\n"
     ]
    },
    {
     "data": {
      "text/plain": [
       "array([0., 0., 0., ..., 0., 0., 0.])"
      ]
     },
     "metadata": {},
     "output_type": "display_data"
    },
    {
     "name": "stdout",
     "output_type": "stream",
     "text": [
      "Image saved to: \n",
      " /Volumes/One Touch/BWH_PD_DBS_MixedTarget/vtas/sub-0079/stimulation\n"
     ]
    },
    {
     "name": "stderr",
     "output_type": "stream",
     "text": [
      " 27%|██▋       | 36/134 [03:22<06:13,  3.81s/it]"
     ]
    },
    {
     "name": "stdout",
     "output_type": "stream",
     "text": [
      "\n",
      " ***Processed: /Volumes/One Touch/BWH_PD_DBS_MixedTarget/vtas/sub-0079\n",
      "Attempting to import from: /Volumes/One Touch/BWH_PD_DBS_MixedTarget/vtas/sub-0080/stimulation/*copy_mni152.nii\n",
      "        sub-CbctDbs0080_hemi-R_copy_mni152.nii  \\\n",
      "0                                          0.0   \n",
      "1                                          0.0   \n",
      "2                                          0.0   \n",
      "3                                          0.0   \n",
      "4                                          0.0   \n",
      "...                                        ...   \n",
      "902624                                     0.0   \n",
      "902625                                     0.0   \n",
      "902626                                     0.0   \n",
      "902627                                     0.0   \n",
      "902628                                     0.0   \n",
      "\n",
      "        sub-CbctDbs0080_hemi-L_copy_mni152.nii  \n",
      "0                                          0.0  \n",
      "1                                          0.0  \n",
      "2                                          0.0  \n",
      "3                                          0.0  \n",
      "4                                          0.0  \n",
      "...                                        ...  \n",
      "902624                                     0.0  \n",
      "902625                                     0.0  \n",
      "902626                                     0.0  \n",
      "902627                                     0.0  \n",
      "902628                                     0.0  \n",
      "\n",
      "[902629 rows x 2 columns]\n"
     ]
    },
    {
     "data": {
      "text/plain": [
       "array([0., 0., 0., ..., 0., 0., 0.])"
      ]
     },
     "metadata": {},
     "output_type": "display_data"
    },
    {
     "name": "stderr",
     "output_type": "stream",
     "text": [
      " 28%|██▊       | 37/134 [03:25<05:42,  3.53s/it]"
     ]
    },
    {
     "name": "stdout",
     "output_type": "stream",
     "text": [
      "Image saved to: \n",
      " /Volumes/One Touch/BWH_PD_DBS_MixedTarget/vtas/sub-0080/stimulation\n",
      "\n",
      " ***Processed: /Volumes/One Touch/BWH_PD_DBS_MixedTarget/vtas/sub-0080\n",
      "Attempting to import from: /Volumes/One Touch/BWH_PD_DBS_MixedTarget/vtas/sub-0081/stimulation/*copy_mni152.nii\n",
      "        sub-CbctDbs0081_hemi-R_copy_mni152.nii  \\\n",
      "0                                          0.0   \n",
      "1                                          0.0   \n",
      "2                                          0.0   \n",
      "3                                          0.0   \n",
      "4                                          0.0   \n",
      "...                                        ...   \n",
      "902624                                     0.0   \n",
      "902625                                     0.0   \n",
      "902626                                     0.0   \n",
      "902627                                     0.0   \n",
      "902628                                     0.0   \n",
      "\n",
      "        sub-CbctDbs0081_hemi-L_copy_mni152.nii  \n",
      "0                                          0.0  \n",
      "1                                          0.0  \n",
      "2                                          0.0  \n",
      "3                                          0.0  \n",
      "4                                          0.0  \n",
      "...                                        ...  \n",
      "902624                                     0.0  \n",
      "902625                                     0.0  \n",
      "902626                                     0.0  \n",
      "902627                                     0.0  \n",
      "902628                                     0.0  \n",
      "\n",
      "[902629 rows x 2 columns]\n"
     ]
    },
    {
     "data": {
      "text/plain": [
       "array([0., 0., 0., ..., 0., 0., 0.])"
      ]
     },
     "metadata": {},
     "output_type": "display_data"
    },
    {
     "name": "stderr",
     "output_type": "stream",
     "text": [
      " 28%|██▊       | 38/134 [03:29<05:51,  3.66s/it]"
     ]
    },
    {
     "name": "stdout",
     "output_type": "stream",
     "text": [
      "Image saved to: \n",
      " /Volumes/One Touch/BWH_PD_DBS_MixedTarget/vtas/sub-0081/stimulation\n",
      "\n",
      " ***Processed: /Volumes/One Touch/BWH_PD_DBS_MixedTarget/vtas/sub-0081\n",
      "Attempting to import from: /Volumes/One Touch/BWH_PD_DBS_MixedTarget/vtas/sub-0082/stimulation/*copy_mni152.nii\n",
      "        sub-CbctDbs0082_hemi-R_copy_mni152.nii  \\\n",
      "0                                          0.0   \n",
      "1                                          0.0   \n",
      "2                                          0.0   \n",
      "3                                          0.0   \n",
      "4                                          0.0   \n",
      "...                                        ...   \n",
      "902624                                     0.0   \n",
      "902625                                     0.0   \n",
      "902626                                     0.0   \n",
      "902627                                     0.0   \n",
      "902628                                     0.0   \n",
      "\n",
      "        sub-CbctDbs0082_hemi-L_copy_mni152.nii  \n",
      "0                                          0.0  \n",
      "1                                          0.0  \n",
      "2                                          0.0  \n",
      "3                                          0.0  \n",
      "4                                          0.0  \n",
      "...                                        ...  \n",
      "902624                                     0.0  \n",
      "902625                                     0.0  \n",
      "902626                                     0.0  \n",
      "902627                                     0.0  \n",
      "902628                                     0.0  \n",
      "\n",
      "[902629 rows x 2 columns]\n"
     ]
    },
    {
     "data": {
      "text/plain": [
       "array([0., 0., 0., ..., 0., 0., 0.])"
      ]
     },
     "metadata": {},
     "output_type": "display_data"
    },
    {
     "name": "stderr",
     "output_type": "stream",
     "text": [
      " 29%|██▉       | 39/134 [03:35<06:45,  4.27s/it]"
     ]
    },
    {
     "name": "stdout",
     "output_type": "stream",
     "text": [
      "Image saved to: \n",
      " /Volumes/One Touch/BWH_PD_DBS_MixedTarget/vtas/sub-0082/stimulation\n",
      "\n",
      " ***Processed: /Volumes/One Touch/BWH_PD_DBS_MixedTarget/vtas/sub-0082\n",
      "Attempting to import from: /Volumes/One Touch/BWH_PD_DBS_MixedTarget/vtas/sub-0084/stimulation/*copy_mni152.nii\n",
      "        sub-CbctDbs0084_hemi-R_copy_mni152.nii  \\\n",
      "0                                          0.0   \n",
      "1                                          0.0   \n",
      "2                                          0.0   \n",
      "3                                          0.0   \n",
      "4                                          0.0   \n",
      "...                                        ...   \n",
      "902624                                     0.0   \n",
      "902625                                     0.0   \n",
      "902626                                     0.0   \n",
      "902627                                     0.0   \n",
      "902628                                     0.0   \n",
      "\n",
      "        sub-CbctDbs0084_hemi-L_copy_mni152.nii  \n",
      "0                                          0.0  \n",
      "1                                          0.0  \n",
      "2                                          0.0  \n",
      "3                                          0.0  \n",
      "4                                          0.0  \n",
      "...                                        ...  \n",
      "902624                                     0.0  \n",
      "902625                                     0.0  \n",
      "902626                                     0.0  \n",
      "902627                                     0.0  \n",
      "902628                                     0.0  \n",
      "\n",
      "[902629 rows x 2 columns]\n"
     ]
    },
    {
     "data": {
      "text/plain": [
       "array([0., 0., 0., ..., 0., 0., 0.])"
      ]
     },
     "metadata": {},
     "output_type": "display_data"
    },
    {
     "name": "stderr",
     "output_type": "stream",
     "text": [
      " 30%|██▉       | 40/134 [03:40<07:12,  4.60s/it]"
     ]
    },
    {
     "name": "stdout",
     "output_type": "stream",
     "text": [
      "Image saved to: \n",
      " /Volumes/One Touch/BWH_PD_DBS_MixedTarget/vtas/sub-0084/stimulation\n",
      "\n",
      " ***Processed: /Volumes/One Touch/BWH_PD_DBS_MixedTarget/vtas/sub-0084\n",
      "Attempting to import from: /Volumes/One Touch/BWH_PD_DBS_MixedTarget/vtas/sub-0085/stimulation/*copy_mni152.nii\n",
      "        sub-CbctDbs0085_hemi-R_copy_mni152.nii  \\\n",
      "0                                          0.0   \n",
      "1                                          0.0   \n",
      "2                                          0.0   \n",
      "3                                          0.0   \n",
      "4                                          0.0   \n",
      "...                                        ...   \n",
      "902624                                     0.0   \n",
      "902625                                     0.0   \n",
      "902626                                     0.0   \n",
      "902627                                     0.0   \n",
      "902628                                     0.0   \n",
      "\n",
      "        sub-CbctDbs0085_hemi-L_copy_mni152.nii  \n",
      "0                                          0.0  \n",
      "1                                          0.0  \n",
      "2                                          0.0  \n",
      "3                                          0.0  \n",
      "4                                          0.0  \n",
      "...                                        ...  \n",
      "902624                                     0.0  \n",
      "902625                                     0.0  \n",
      "902626                                     0.0  \n",
      "902627                                     0.0  \n",
      "902628                                     0.0  \n",
      "\n",
      "[902629 rows x 2 columns]\n"
     ]
    },
    {
     "data": {
      "text/plain": [
       "array([0., 0., 0., ..., 0., 0., 0.])"
      ]
     },
     "metadata": {},
     "output_type": "display_data"
    },
    {
     "name": "stderr",
     "output_type": "stream",
     "text": [
      " 31%|███       | 41/134 [03:46<07:30,  4.85s/it]"
     ]
    },
    {
     "name": "stdout",
     "output_type": "stream",
     "text": [
      "Image saved to: \n",
      " /Volumes/One Touch/BWH_PD_DBS_MixedTarget/vtas/sub-0085/stimulation\n",
      "\n",
      " ***Processed: /Volumes/One Touch/BWH_PD_DBS_MixedTarget/vtas/sub-0085\n",
      "Attempting to import from: /Volumes/One Touch/BWH_PD_DBS_MixedTarget/vtas/sub-0088/stimulation/*copy_mni152.nii\n",
      "        sub-CbctDbs0088_hemi-R_copy_mni152.nii  \\\n",
      "0                                          0.0   \n",
      "1                                          0.0   \n",
      "2                                          0.0   \n",
      "3                                          0.0   \n",
      "4                                          0.0   \n",
      "...                                        ...   \n",
      "902624                                     0.0   \n",
      "902625                                     0.0   \n",
      "902626                                     0.0   \n",
      "902627                                     0.0   \n",
      "902628                                     0.0   \n",
      "\n",
      "        sub-CbctDbs0088_hemi-L_copy_mni152.nii  \n",
      "0                                          0.0  \n",
      "1                                          0.0  \n",
      "2                                          0.0  \n",
      "3                                          0.0  \n",
      "4                                          0.0  \n",
      "...                                        ...  \n",
      "902624                                     0.0  \n",
      "902625                                     0.0  \n",
      "902626                                     0.0  \n",
      "902627                                     0.0  \n",
      "902628                                     0.0  \n",
      "\n",
      "[902629 rows x 2 columns]\n"
     ]
    },
    {
     "data": {
      "text/plain": [
       "array([0., 0., 0., ..., 0., 0., 0.])"
      ]
     },
     "metadata": {},
     "output_type": "display_data"
    },
    {
     "name": "stderr",
     "output_type": "stream",
     "text": [
      " 31%|███▏      | 42/134 [03:50<07:17,  4.75s/it]"
     ]
    },
    {
     "name": "stdout",
     "output_type": "stream",
     "text": [
      "Image saved to: \n",
      " /Volumes/One Touch/BWH_PD_DBS_MixedTarget/vtas/sub-0088/stimulation\n",
      "\n",
      " ***Processed: /Volumes/One Touch/BWH_PD_DBS_MixedTarget/vtas/sub-0088\n",
      "Attempting to import from: /Volumes/One Touch/BWH_PD_DBS_MixedTarget/vtas/sub-0090/stimulation/*copy_mni152.nii\n",
      "        sub-CbctDbs0090_hemi-R_copy_mni152.nii  \\\n",
      "0                                          0.0   \n",
      "1                                          0.0   \n",
      "2                                          0.0   \n",
      "3                                          0.0   \n",
      "4                                          0.0   \n",
      "...                                        ...   \n",
      "902624                                     0.0   \n",
      "902625                                     0.0   \n",
      "902626                                     0.0   \n",
      "902627                                     0.0   \n",
      "902628                                     0.0   \n",
      "\n",
      "        sub-CbctDbs0090_hemi-L_copy_mni152.nii  \n",
      "0                                          0.0  \n",
      "1                                          0.0  \n",
      "2                                          0.0  \n",
      "3                                          0.0  \n",
      "4                                          0.0  \n",
      "...                                        ...  \n",
      "902624                                     0.0  \n",
      "902625                                     0.0  \n",
      "902626                                     0.0  \n",
      "902627                                     0.0  \n",
      "902628                                     0.0  \n",
      "\n",
      "[902629 rows x 2 columns]\n"
     ]
    },
    {
     "data": {
      "text/plain": [
       "array([0., 0., 0., ..., 0., 0., 0.])"
      ]
     },
     "metadata": {},
     "output_type": "display_data"
    },
    {
     "name": "stdout",
     "output_type": "stream",
     "text": [
      "Image saved to: \n",
      " /Volumes/One Touch/BWH_PD_DBS_MixedTarget/vtas/sub-0090/stimulation\n"
     ]
    },
    {
     "name": "stderr",
     "output_type": "stream",
     "text": [
      " 32%|███▏      | 43/134 [04:03<10:43,  7.07s/it]"
     ]
    },
    {
     "name": "stdout",
     "output_type": "stream",
     "text": [
      "\n",
      " ***Processed: /Volumes/One Touch/BWH_PD_DBS_MixedTarget/vtas/sub-0090\n",
      "Attempting to import from: /Volumes/One Touch/BWH_PD_DBS_MixedTarget/vtas/sub-0091/stimulation/*copy_mni152.nii\n",
      "        sub-CbctDbs0091_hemi-R_copy_mni152.nii  \\\n",
      "0                                          0.0   \n",
      "1                                          0.0   \n",
      "2                                          0.0   \n",
      "3                                          0.0   \n",
      "4                                          0.0   \n",
      "...                                        ...   \n",
      "902624                                     0.0   \n",
      "902625                                     0.0   \n",
      "902626                                     0.0   \n",
      "902627                                     0.0   \n",
      "902628                                     0.0   \n",
      "\n",
      "        sub-CbctDbs0091_hemi-L_copy_mni152.nii  \n",
      "0                                          0.0  \n",
      "1                                          0.0  \n",
      "2                                          0.0  \n",
      "3                                          0.0  \n",
      "4                                          0.0  \n",
      "...                                        ...  \n",
      "902624                                     0.0  \n",
      "902625                                     0.0  \n",
      "902626                                     0.0  \n",
      "902627                                     0.0  \n",
      "902628                                     0.0  \n",
      "\n",
      "[902629 rows x 2 columns]\n"
     ]
    },
    {
     "data": {
      "text/plain": [
       "array([0., 0., 0., ..., 0., 0., 0.])"
      ]
     },
     "metadata": {},
     "output_type": "display_data"
    },
    {
     "name": "stdout",
     "output_type": "stream",
     "text": [
      "Image saved to: \n",
      " /Volumes/One Touch/BWH_PD_DBS_MixedTarget/vtas/sub-0091/stimulation\n"
     ]
    },
    {
     "name": "stderr",
     "output_type": "stream",
     "text": [
      " 33%|███▎      | 44/134 [04:10<10:52,  7.25s/it]"
     ]
    },
    {
     "name": "stdout",
     "output_type": "stream",
     "text": [
      "\n",
      " ***Processed: /Volumes/One Touch/BWH_PD_DBS_MixedTarget/vtas/sub-0091\n",
      "Attempting to import from: /Volumes/One Touch/BWH_PD_DBS_MixedTarget/vtas/sub-0092/stimulation/*copy_mni152.nii\n",
      "        sub-CbctDbs0092_hemi-R_copy_mni152.nii  \\\n",
      "0                                          0.0   \n",
      "1                                          0.0   \n",
      "2                                          0.0   \n",
      "3                                          0.0   \n",
      "4                                          0.0   \n",
      "...                                        ...   \n",
      "902624                                     0.0   \n",
      "902625                                     0.0   \n",
      "902626                                     0.0   \n",
      "902627                                     0.0   \n",
      "902628                                     0.0   \n",
      "\n",
      "        sub-CbctDbs0092_hemi-L_copy_mni152.nii  \n",
      "0                                          0.0  \n",
      "1                                          0.0  \n",
      "2                                          0.0  \n",
      "3                                          0.0  \n",
      "4                                          0.0  \n",
      "...                                        ...  \n",
      "902624                                     0.0  \n",
      "902625                                     0.0  \n",
      "902626                                     0.0  \n",
      "902627                                     0.0  \n",
      "902628                                     0.0  \n",
      "\n",
      "[902629 rows x 2 columns]\n"
     ]
    },
    {
     "data": {
      "text/plain": [
       "array([0., 0., 0., ..., 0., 0., 0.])"
      ]
     },
     "metadata": {},
     "output_type": "display_data"
    },
    {
     "name": "stderr",
     "output_type": "stream",
     "text": [
      " 34%|███▎      | 45/134 [04:18<10:49,  7.29s/it]"
     ]
    },
    {
     "name": "stdout",
     "output_type": "stream",
     "text": [
      "Image saved to: \n",
      " /Volumes/One Touch/BWH_PD_DBS_MixedTarget/vtas/sub-0092/stimulation\n",
      "\n",
      " ***Processed: /Volumes/One Touch/BWH_PD_DBS_MixedTarget/vtas/sub-0092\n",
      "Attempting to import from: /Volumes/One Touch/BWH_PD_DBS_MixedTarget/vtas/sub-0093/stimulation/*copy_mni152.nii\n",
      "        sub-CbctDbs0093_hemi-R_copy_mni152.nii  \\\n",
      "0                                          0.0   \n",
      "1                                          0.0   \n",
      "2                                          0.0   \n",
      "3                                          0.0   \n",
      "4                                          0.0   \n",
      "...                                        ...   \n",
      "902624                                     0.0   \n",
      "902625                                     0.0   \n",
      "902626                                     0.0   \n",
      "902627                                     0.0   \n",
      "902628                                     0.0   \n",
      "\n",
      "        sub-CbctDbs0093_hemi-L_copy_mni152.nii  \n",
      "0                                          0.0  \n",
      "1                                          0.0  \n",
      "2                                          0.0  \n",
      "3                                          0.0  \n",
      "4                                          0.0  \n",
      "...                                        ...  \n",
      "902624                                     0.0  \n",
      "902625                                     0.0  \n",
      "902626                                     0.0  \n",
      "902627                                     0.0  \n",
      "902628                                     0.0  \n",
      "\n",
      "[902629 rows x 2 columns]\n"
     ]
    },
    {
     "data": {
      "text/plain": [
       "array([0., 0., 0., ..., 0., 0., 0.])"
      ]
     },
     "metadata": {},
     "output_type": "display_data"
    },
    {
     "name": "stderr",
     "output_type": "stream",
     "text": [
      " 34%|███▍      | 46/134 [04:23<09:58,  6.80s/it]"
     ]
    },
    {
     "name": "stdout",
     "output_type": "stream",
     "text": [
      "Image saved to: \n",
      " /Volumes/One Touch/BWH_PD_DBS_MixedTarget/vtas/sub-0093/stimulation\n",
      "\n",
      " ***Processed: /Volumes/One Touch/BWH_PD_DBS_MixedTarget/vtas/sub-0093\n",
      "Attempting to import from: /Volumes/One Touch/BWH_PD_DBS_MixedTarget/vtas/sub-0095/stimulation/*copy_mni152.nii\n",
      "        sub-CbctDbs0095_hemi-R_copy_mni152.nii  \\\n",
      "0                                          0.0   \n",
      "1                                          0.0   \n",
      "2                                          0.0   \n",
      "3                                          0.0   \n",
      "4                                          0.0   \n",
      "...                                        ...   \n",
      "902624                                     0.0   \n",
      "902625                                     0.0   \n",
      "902626                                     0.0   \n",
      "902627                                     0.0   \n",
      "902628                                     0.0   \n",
      "\n",
      "        sub-CbctDbs0095_hemi-L_copy_mni152.nii  \n",
      "0                                          0.0  \n",
      "1                                          0.0  \n",
      "2                                          0.0  \n",
      "3                                          0.0  \n",
      "4                                          0.0  \n",
      "...                                        ...  \n",
      "902624                                     0.0  \n",
      "902625                                     0.0  \n",
      "902626                                     0.0  \n",
      "902627                                     0.0  \n",
      "902628                                     0.0  \n",
      "\n",
      "[902629 rows x 2 columns]\n"
     ]
    },
    {
     "data": {
      "text/plain": [
       "array([0., 0., 0., ..., 0., 0., 0.])"
      ]
     },
     "metadata": {},
     "output_type": "display_data"
    },
    {
     "name": "stderr",
     "output_type": "stream",
     "text": [
      " 35%|███▌      | 47/134 [04:28<09:02,  6.23s/it]"
     ]
    },
    {
     "name": "stdout",
     "output_type": "stream",
     "text": [
      "Image saved to: \n",
      " /Volumes/One Touch/BWH_PD_DBS_MixedTarget/vtas/sub-0095/stimulation\n",
      "\n",
      " ***Processed: /Volumes/One Touch/BWH_PD_DBS_MixedTarget/vtas/sub-0095\n",
      "Attempting to import from: /Volumes/One Touch/BWH_PD_DBS_MixedTarget/vtas/sub-0096/stimulation/*copy_mni152.nii\n",
      "        sub-CbctDbs0096_hemi-R_copy_mni152.nii  \\\n",
      "0                                          0.0   \n",
      "1                                          0.0   \n",
      "2                                          0.0   \n",
      "3                                          0.0   \n",
      "4                                          0.0   \n",
      "...                                        ...   \n",
      "902624                                     0.0   \n",
      "902625                                     0.0   \n",
      "902626                                     0.0   \n",
      "902627                                     0.0   \n",
      "902628                                     0.0   \n",
      "\n",
      "        sub-CbctDbs0096_hemi-L_copy_mni152.nii  \n",
      "0                                          0.0  \n",
      "1                                          0.0  \n",
      "2                                          0.0  \n",
      "3                                          0.0  \n",
      "4                                          0.0  \n",
      "...                                        ...  \n",
      "902624                                     0.0  \n",
      "902625                                     0.0  \n",
      "902626                                     0.0  \n",
      "902627                                     0.0  \n",
      "902628                                     0.0  \n",
      "\n",
      "[902629 rows x 2 columns]\n"
     ]
    },
    {
     "data": {
      "text/plain": [
       "array([0., 0., 0., ..., 0., 0., 0.])"
      ]
     },
     "metadata": {},
     "output_type": "display_data"
    },
    {
     "name": "stdout",
     "output_type": "stream",
     "text": [
      "Image saved to: \n",
      " /Volumes/One Touch/BWH_PD_DBS_MixedTarget/vtas/sub-0096/stimulation\n"
     ]
    },
    {
     "name": "stderr",
     "output_type": "stream",
     "text": [
      " 36%|███▌      | 48/134 [04:33<08:01,  5.59s/it]"
     ]
    },
    {
     "name": "stdout",
     "output_type": "stream",
     "text": [
      "\n",
      " ***Processed: /Volumes/One Touch/BWH_PD_DBS_MixedTarget/vtas/sub-0096\n",
      "Attempting to import from: /Volumes/One Touch/BWH_PD_DBS_MixedTarget/vtas/sub-0097/stimulation/*copy_mni152.nii\n",
      "        sub-CbctDbs0097_hemi-R_copy_mni152.nii  \\\n",
      "0                                          0.0   \n",
      "1                                          0.0   \n",
      "2                                          0.0   \n",
      "3                                          0.0   \n",
      "4                                          0.0   \n",
      "...                                        ...   \n",
      "902624                                     0.0   \n",
      "902625                                     0.0   \n",
      "902626                                     0.0   \n",
      "902627                                     0.0   \n",
      "902628                                     0.0   \n",
      "\n",
      "        sub-CbctDbs0097_hemi-L_copy_mni152.nii  \n",
      "0                                          0.0  \n",
      "1                                          0.0  \n",
      "2                                          0.0  \n",
      "3                                          0.0  \n",
      "4                                          0.0  \n",
      "...                                        ...  \n",
      "902624                                     0.0  \n",
      "902625                                     0.0  \n",
      "902626                                     0.0  \n",
      "902627                                     0.0  \n",
      "902628                                     0.0  \n",
      "\n",
      "[902629 rows x 2 columns]\n"
     ]
    },
    {
     "data": {
      "text/plain": [
       "array([0., 0., 0., ..., 0., 0., 0.])"
      ]
     },
     "metadata": {},
     "output_type": "display_data"
    },
    {
     "name": "stderr",
     "output_type": "stream",
     "text": [
      " 37%|███▋      | 49/134 [04:42<09:39,  6.82s/it]"
     ]
    },
    {
     "name": "stdout",
     "output_type": "stream",
     "text": [
      "Image saved to: \n",
      " /Volumes/One Touch/BWH_PD_DBS_MixedTarget/vtas/sub-0097/stimulation\n",
      "\n",
      " ***Processed: /Volumes/One Touch/BWH_PD_DBS_MixedTarget/vtas/sub-0097\n",
      "Attempting to import from: /Volumes/One Touch/BWH_PD_DBS_MixedTarget/vtas/sub-0098/stimulation/*copy_mni152.nii\n",
      "        sub-CbctDbs0098_hemi-R_copy_mni152.nii  \\\n",
      "0                                          0.0   \n",
      "1                                          0.0   \n",
      "2                                          0.0   \n",
      "3                                          0.0   \n",
      "4                                          0.0   \n",
      "...                                        ...   \n",
      "902624                                     0.0   \n",
      "902625                                     0.0   \n",
      "902626                                     0.0   \n",
      "902627                                     0.0   \n",
      "902628                                     0.0   \n",
      "\n",
      "        sub-CbctDbs0098_hemi-L_copy_mni152.nii  \n",
      "0                                          0.0  \n",
      "1                                          0.0  \n",
      "2                                          0.0  \n",
      "3                                          0.0  \n",
      "4                                          0.0  \n",
      "...                                        ...  \n",
      "902624                                     0.0  \n",
      "902625                                     0.0  \n",
      "902626                                     0.0  \n",
      "902627                                     0.0  \n",
      "902628                                     0.0  \n",
      "\n",
      "[902629 rows x 2 columns]\n"
     ]
    },
    {
     "data": {
      "text/plain": [
       "array([0., 0., 0., ..., 0., 0., 0.])"
      ]
     },
     "metadata": {},
     "output_type": "display_data"
    },
    {
     "name": "stdout",
     "output_type": "stream",
     "text": [
      "Image saved to: \n",
      " /Volumes/One Touch/BWH_PD_DBS_MixedTarget/vtas/sub-0098/stimulation\n"
     ]
    },
    {
     "name": "stderr",
     "output_type": "stream",
     "text": [
      " 37%|███▋      | 50/134 [04:52<10:38,  7.60s/it]"
     ]
    },
    {
     "name": "stdout",
     "output_type": "stream",
     "text": [
      "\n",
      " ***Processed: /Volumes/One Touch/BWH_PD_DBS_MixedTarget/vtas/sub-0098\n",
      "Attempting to import from: /Volumes/One Touch/BWH_PD_DBS_MixedTarget/vtas/sub-0099/stimulation/*copy_mni152.nii\n",
      "        sub-CbctDbs0099_hemi-R_copy_mni152.nii  \\\n",
      "0                                          0.0   \n",
      "1                                          0.0   \n",
      "2                                          0.0   \n",
      "3                                          0.0   \n",
      "4                                          0.0   \n",
      "...                                        ...   \n",
      "902624                                     0.0   \n",
      "902625                                     0.0   \n",
      "902626                                     0.0   \n",
      "902627                                     0.0   \n",
      "902628                                     0.0   \n",
      "\n",
      "        sub-CbctDbs0099_hemi-L_copy_mni152.nii  \n",
      "0                                          0.0  \n",
      "1                                          0.0  \n",
      "2                                          0.0  \n",
      "3                                          0.0  \n",
      "4                                          0.0  \n",
      "...                                        ...  \n",
      "902624                                     0.0  \n",
      "902625                                     0.0  \n",
      "902626                                     0.0  \n",
      "902627                                     0.0  \n",
      "902628                                     0.0  \n",
      "\n",
      "[902629 rows x 2 columns]\n"
     ]
    },
    {
     "data": {
      "text/plain": [
       "array([0., 0., 0., ..., 0., 0., 0.])"
      ]
     },
     "metadata": {},
     "output_type": "display_data"
    },
    {
     "name": "stderr",
     "output_type": "stream",
     "text": [
      " 38%|███▊      | 51/134 [04:59<10:23,  7.51s/it]"
     ]
    },
    {
     "name": "stdout",
     "output_type": "stream",
     "text": [
      "Image saved to: \n",
      " /Volumes/One Touch/BWH_PD_DBS_MixedTarget/vtas/sub-0099/stimulation\n",
      "\n",
      " ***Processed: /Volumes/One Touch/BWH_PD_DBS_MixedTarget/vtas/sub-0099\n",
      "Attempting to import from: /Volumes/One Touch/BWH_PD_DBS_MixedTarget/vtas/sub-0101/stimulation/*copy_mni152.nii\n",
      "        sub-CbctDbs0101_hemi-R_copy_mni152.nii  \\\n",
      "0                                          0.0   \n",
      "1                                          0.0   \n",
      "2                                          0.0   \n",
      "3                                          0.0   \n",
      "4                                          0.0   \n",
      "...                                        ...   \n",
      "902624                                     0.0   \n",
      "902625                                     0.0   \n",
      "902626                                     0.0   \n",
      "902627                                     0.0   \n",
      "902628                                     0.0   \n",
      "\n",
      "        sub-CbctDbs0101_hemi-L_copy_mni152.nii  \n",
      "0                                          0.0  \n",
      "1                                          0.0  \n",
      "2                                          0.0  \n",
      "3                                          0.0  \n",
      "4                                          0.0  \n",
      "...                                        ...  \n",
      "902624                                     0.0  \n",
      "902625                                     0.0  \n",
      "902626                                     0.0  \n",
      "902627                                     0.0  \n",
      "902628                                     0.0  \n",
      "\n",
      "[902629 rows x 2 columns]\n"
     ]
    },
    {
     "data": {
      "text/plain": [
       "array([0., 0., 0., ..., 0., 0., 0.])"
      ]
     },
     "metadata": {},
     "output_type": "display_data"
    },
    {
     "name": "stdout",
     "output_type": "stream",
     "text": [
      "Image saved to: \n",
      " /Volumes/One Touch/BWH_PD_DBS_MixedTarget/vtas/sub-0101/stimulation\n"
     ]
    },
    {
     "name": "stderr",
     "output_type": "stream",
     "text": [
      " 39%|███▉      | 52/134 [05:08<10:49,  7.92s/it]"
     ]
    },
    {
     "name": "stdout",
     "output_type": "stream",
     "text": [
      "\n",
      " ***Processed: /Volumes/One Touch/BWH_PD_DBS_MixedTarget/vtas/sub-0101\n",
      "Attempting to import from: /Volumes/One Touch/BWH_PD_DBS_MixedTarget/vtas/sub-0102/stimulation/*copy_mni152.nii\n",
      "        sub-CbctDbs0102_hemi-R_copy_mni152.nii  \\\n",
      "0                                          0.0   \n",
      "1                                          0.0   \n",
      "2                                          0.0   \n",
      "3                                          0.0   \n",
      "4                                          0.0   \n",
      "...                                        ...   \n",
      "902624                                     0.0   \n",
      "902625                                     0.0   \n",
      "902626                                     0.0   \n",
      "902627                                     0.0   \n",
      "902628                                     0.0   \n",
      "\n",
      "        sub-CbctDbs0102_hemi-L_copy_mni152.nii  \n",
      "0                                          0.0  \n",
      "1                                          0.0  \n",
      "2                                          0.0  \n",
      "3                                          0.0  \n",
      "4                                          0.0  \n",
      "...                                        ...  \n",
      "902624                                     0.0  \n",
      "902625                                     0.0  \n",
      "902626                                     0.0  \n",
      "902627                                     0.0  \n",
      "902628                                     0.0  \n",
      "\n",
      "[902629 rows x 2 columns]\n"
     ]
    },
    {
     "data": {
      "text/plain": [
       "array([0., 0., 0., ..., 0., 0., 0.])"
      ]
     },
     "metadata": {},
     "output_type": "display_data"
    },
    {
     "name": "stderr",
     "output_type": "stream",
     "text": [
      " 40%|███▉      | 53/134 [05:15<10:19,  7.65s/it]"
     ]
    },
    {
     "name": "stdout",
     "output_type": "stream",
     "text": [
      "Image saved to: \n",
      " /Volumes/One Touch/BWH_PD_DBS_MixedTarget/vtas/sub-0102/stimulation\n",
      "\n",
      " ***Processed: /Volumes/One Touch/BWH_PD_DBS_MixedTarget/vtas/sub-0102\n",
      "Attempting to import from: /Volumes/One Touch/BWH_PD_DBS_MixedTarget/vtas/sub-0103/stimulation/*copy_mni152.nii\n",
      "        sub-CbctDbs0103_hemi-R_copy_mni152.nii  \\\n",
      "0                                          0.0   \n",
      "1                                          0.0   \n",
      "2                                          0.0   \n",
      "3                                          0.0   \n",
      "4                                          0.0   \n",
      "...                                        ...   \n",
      "902624                                     0.0   \n",
      "902625                                     0.0   \n",
      "902626                                     0.0   \n",
      "902627                                     0.0   \n",
      "902628                                     0.0   \n",
      "\n",
      "        sub-CbctDbs0103_hemi-L_copy_mni152.nii  \n",
      "0                                          0.0  \n",
      "1                                          0.0  \n",
      "2                                          0.0  \n",
      "3                                          0.0  \n",
      "4                                          0.0  \n",
      "...                                        ...  \n",
      "902624                                     0.0  \n",
      "902625                                     0.0  \n",
      "902626                                     0.0  \n",
      "902627                                     0.0  \n",
      "902628                                     0.0  \n",
      "\n",
      "[902629 rows x 2 columns]\n"
     ]
    },
    {
     "data": {
      "text/plain": [
       "array([0., 0., 0., ..., 0., 0., 0.])"
      ]
     },
     "metadata": {},
     "output_type": "display_data"
    },
    {
     "name": "stderr",
     "output_type": "stream",
     "text": [
      " 40%|████      | 54/134 [05:19<08:48,  6.60s/it]"
     ]
    },
    {
     "name": "stdout",
     "output_type": "stream",
     "text": [
      "Image saved to: \n",
      " /Volumes/One Touch/BWH_PD_DBS_MixedTarget/vtas/sub-0103/stimulation\n",
      "\n",
      " ***Processed: /Volumes/One Touch/BWH_PD_DBS_MixedTarget/vtas/sub-0103\n",
      "Attempting to import from: /Volumes/One Touch/BWH_PD_DBS_MixedTarget/vtas/sub-0104/stimulation/*copy_mni152.nii\n",
      "        sub-CbctDbs0104_hemi-R_copy_mni152.nii  \\\n",
      "0                                          0.0   \n",
      "1                                          0.0   \n",
      "2                                          0.0   \n",
      "3                                          0.0   \n",
      "4                                          0.0   \n",
      "...                                        ...   \n",
      "902624                                     0.0   \n",
      "902625                                     0.0   \n",
      "902626                                     0.0   \n",
      "902627                                     0.0   \n",
      "902628                                     0.0   \n",
      "\n",
      "        sub-CbctDbs0104_hemi-L_copy_mni152.nii  \n",
      "0                                          0.0  \n",
      "1                                          0.0  \n",
      "2                                          0.0  \n",
      "3                                          0.0  \n",
      "4                                          0.0  \n",
      "...                                        ...  \n",
      "902624                                     0.0  \n",
      "902625                                     0.0  \n",
      "902626                                     0.0  \n",
      "902627                                     0.0  \n",
      "902628                                     0.0  \n",
      "\n",
      "[902629 rows x 2 columns]\n"
     ]
    },
    {
     "data": {
      "text/plain": [
       "array([0., 0., 0., ..., 0., 0., 0.])"
      ]
     },
     "metadata": {},
     "output_type": "display_data"
    },
    {
     "name": "stdout",
     "output_type": "stream",
     "text": [
      "Image saved to: \n",
      " /Volumes/One Touch/BWH_PD_DBS_MixedTarget/vtas/sub-0104/stimulation\n"
     ]
    },
    {
     "name": "stderr",
     "output_type": "stream",
     "text": [
      " 41%|████      | 55/134 [05:23<07:29,  5.69s/it]"
     ]
    },
    {
     "name": "stdout",
     "output_type": "stream",
     "text": [
      "\n",
      " ***Processed: /Volumes/One Touch/BWH_PD_DBS_MixedTarget/vtas/sub-0104\n",
      "Attempting to import from: /Volumes/One Touch/BWH_PD_DBS_MixedTarget/vtas/sub-0115/stimulation/*copy_mni152.nii\n",
      "        sub-CbctDbs0115_hemi-R_copy_mni152.nii  \\\n",
      "0                                          0.0   \n",
      "1                                          0.0   \n",
      "2                                          0.0   \n",
      "3                                          0.0   \n",
      "4                                          0.0   \n",
      "...                                        ...   \n",
      "902624                                     0.0   \n",
      "902625                                     0.0   \n",
      "902626                                     0.0   \n",
      "902627                                     0.0   \n",
      "902628                                     0.0   \n",
      "\n",
      "        sub-CbctDbs0115_hemi-L_copy_mni152.nii  \n",
      "0                                          0.0  \n",
      "1                                          0.0  \n",
      "2                                          0.0  \n",
      "3                                          0.0  \n",
      "4                                          0.0  \n",
      "...                                        ...  \n",
      "902624                                     0.0  \n",
      "902625                                     0.0  \n",
      "902626                                     0.0  \n",
      "902627                                     0.0  \n",
      "902628                                     0.0  \n",
      "\n",
      "[902629 rows x 2 columns]\n"
     ]
    },
    {
     "data": {
      "text/plain": [
       "array([0., 0., 0., ..., 0., 0., 0.])"
      ]
     },
     "metadata": {},
     "output_type": "display_data"
    },
    {
     "name": "stderr",
     "output_type": "stream",
     "text": [
      " 42%|████▏     | 56/134 [05:30<08:04,  6.22s/it]"
     ]
    },
    {
     "name": "stdout",
     "output_type": "stream",
     "text": [
      "Image saved to: \n",
      " /Volumes/One Touch/BWH_PD_DBS_MixedTarget/vtas/sub-0115/stimulation\n",
      "\n",
      " ***Processed: /Volumes/One Touch/BWH_PD_DBS_MixedTarget/vtas/sub-0115\n",
      "Attempting to import from: /Volumes/One Touch/BWH_PD_DBS_MixedTarget/vtas/sub-0120/stimulation/*copy_mni152.nii\n",
      "        sub-CbctDbs0120_hemi-R_copy_mni152.nii  \\\n",
      "0                                          0.0   \n",
      "1                                          0.0   \n",
      "2                                          0.0   \n",
      "3                                          0.0   \n",
      "4                                          0.0   \n",
      "...                                        ...   \n",
      "902624                                     0.0   \n",
      "902625                                     0.0   \n",
      "902626                                     0.0   \n",
      "902627                                     0.0   \n",
      "902628                                     0.0   \n",
      "\n",
      "        sub-CbctDbs0120_hemi-L_copy_mni152.nii  \n",
      "0                                          0.0  \n",
      "1                                          0.0  \n",
      "2                                          0.0  \n",
      "3                                          0.0  \n",
      "4                                          0.0  \n",
      "...                                        ...  \n",
      "902624                                     0.0  \n",
      "902625                                     0.0  \n",
      "902626                                     0.0  \n",
      "902627                                     0.0  \n",
      "902628                                     0.0  \n",
      "\n",
      "[902629 rows x 2 columns]\n"
     ]
    },
    {
     "data": {
      "text/plain": [
       "array([0., 0., 0., ..., 0., 0., 0.])"
      ]
     },
     "metadata": {},
     "output_type": "display_data"
    },
    {
     "name": "stderr",
     "output_type": "stream",
     "text": [
      " 43%|████▎     | 57/134 [05:39<09:01,  7.04s/it]"
     ]
    },
    {
     "name": "stdout",
     "output_type": "stream",
     "text": [
      "Image saved to: \n",
      " /Volumes/One Touch/BWH_PD_DBS_MixedTarget/vtas/sub-0120/stimulation\n",
      "\n",
      " ***Processed: /Volumes/One Touch/BWH_PD_DBS_MixedTarget/vtas/sub-0120\n",
      "Attempting to import from: /Volumes/One Touch/BWH_PD_DBS_MixedTarget/vtas/sub-0126/stimulation/*copy_mni152.nii\n",
      "        sub-CbctDbs0126_hemi-R_copy_mni152.nii  \\\n",
      "0                                          0.0   \n",
      "1                                          0.0   \n",
      "2                                          0.0   \n",
      "3                                          0.0   \n",
      "4                                          0.0   \n",
      "...                                        ...   \n",
      "902624                                     0.0   \n",
      "902625                                     0.0   \n",
      "902626                                     0.0   \n",
      "902627                                     0.0   \n",
      "902628                                     0.0   \n",
      "\n",
      "        sub-CbctDbs0126_hemi-L_copy_mni152.nii  \n",
      "0                                          0.0  \n",
      "1                                          0.0  \n",
      "2                                          0.0  \n",
      "3                                          0.0  \n",
      "4                                          0.0  \n",
      "...                                        ...  \n",
      "902624                                     0.0  \n",
      "902625                                     0.0  \n",
      "902626                                     0.0  \n",
      "902627                                     0.0  \n",
      "902628                                     0.0  \n",
      "\n",
      "[902629 rows x 2 columns]\n"
     ]
    },
    {
     "data": {
      "text/plain": [
       "array([0., 0., 0., ..., 0., 0., 0.])"
      ]
     },
     "metadata": {},
     "output_type": "display_data"
    },
    {
     "name": "stderr",
     "output_type": "stream",
     "text": [
      " 43%|████▎     | 58/134 [05:49<10:14,  8.09s/it]"
     ]
    },
    {
     "name": "stdout",
     "output_type": "stream",
     "text": [
      "Image saved to: \n",
      " /Volumes/One Touch/BWH_PD_DBS_MixedTarget/vtas/sub-0126/stimulation\n",
      "\n",
      " ***Processed: /Volumes/One Touch/BWH_PD_DBS_MixedTarget/vtas/sub-0126\n",
      "Attempting to import from: /Volumes/One Touch/BWH_PD_DBS_MixedTarget/vtas/sub-0127/stimulation/*copy_mni152.nii\n",
      "        sub-CbctDbs0127_hemi-R_copy_mni152.nii  \\\n",
      "0                                          0.0   \n",
      "1                                          0.0   \n",
      "2                                          0.0   \n",
      "3                                          0.0   \n",
      "4                                          0.0   \n",
      "...                                        ...   \n",
      "902624                                     0.0   \n",
      "902625                                     0.0   \n",
      "902626                                     0.0   \n",
      "902627                                     0.0   \n",
      "902628                                     0.0   \n",
      "\n",
      "        sub-CbctDbs0127_hemi-L_copy_mni152.nii  \n",
      "0                                          0.0  \n",
      "1                                          0.0  \n",
      "2                                          0.0  \n",
      "3                                          0.0  \n",
      "4                                          0.0  \n",
      "...                                        ...  \n",
      "902624                                     0.0  \n",
      "902625                                     0.0  \n",
      "902626                                     0.0  \n",
      "902627                                     0.0  \n",
      "902628                                     0.0  \n",
      "\n",
      "[902629 rows x 2 columns]\n"
     ]
    },
    {
     "data": {
      "text/plain": [
       "array([0., 0., 0., ..., 0., 0., 0.])"
      ]
     },
     "metadata": {},
     "output_type": "display_data"
    },
    {
     "name": "stderr",
     "output_type": "stream",
     "text": [
      " 44%|████▍     | 59/134 [05:58<10:17,  8.23s/it]"
     ]
    },
    {
     "name": "stdout",
     "output_type": "stream",
     "text": [
      "Image saved to: \n",
      " /Volumes/One Touch/BWH_PD_DBS_MixedTarget/vtas/sub-0127/stimulation\n",
      "\n",
      " ***Processed: /Volumes/One Touch/BWH_PD_DBS_MixedTarget/vtas/sub-0127\n",
      "Attempting to import from: /Volumes/One Touch/BWH_PD_DBS_MixedTarget/vtas/sub-0128/stimulation/*copy_mni152.nii\n",
      "        sub-CbctDbs0128_hemi-R_copy_mni152.nii  \\\n",
      "0                                          0.0   \n",
      "1                                          0.0   \n",
      "2                                          0.0   \n",
      "3                                          0.0   \n",
      "4                                          0.0   \n",
      "...                                        ...   \n",
      "902624                                     0.0   \n",
      "902625                                     0.0   \n",
      "902626                                     0.0   \n",
      "902627                                     0.0   \n",
      "902628                                     0.0   \n",
      "\n",
      "        sub-CbctDbs0128_hemi-L_copy_mni152.nii  \n",
      "0                                          0.0  \n",
      "1                                          0.0  \n",
      "2                                          0.0  \n",
      "3                                          0.0  \n",
      "4                                          0.0  \n",
      "...                                        ...  \n",
      "902624                                     0.0  \n",
      "902625                                     0.0  \n",
      "902626                                     0.0  \n",
      "902627                                     0.0  \n",
      "902628                                     0.0  \n",
      "\n",
      "[902629 rows x 2 columns]\n"
     ]
    },
    {
     "data": {
      "text/plain": [
       "array([0., 0., 0., ..., 0., 0., 0.])"
      ]
     },
     "metadata": {},
     "output_type": "display_data"
    },
    {
     "name": "stderr",
     "output_type": "stream",
     "text": [
      " 45%|████▍     | 60/134 [06:02<08:25,  6.83s/it]"
     ]
    },
    {
     "name": "stdout",
     "output_type": "stream",
     "text": [
      "Image saved to: \n",
      " /Volumes/One Touch/BWH_PD_DBS_MixedTarget/vtas/sub-0128/stimulation\n",
      "\n",
      " ***Processed: /Volumes/One Touch/BWH_PD_DBS_MixedTarget/vtas/sub-0128\n",
      "Attempting to import from: /Volumes/One Touch/BWH_PD_DBS_MixedTarget/vtas/sub-0129/stimulation/*copy_mni152.nii\n",
      "        sub-CbctDbs0129_hemi-R_copy_mni152.nii  \\\n",
      "0                                          0.0   \n",
      "1                                          0.0   \n",
      "2                                          0.0   \n",
      "3                                          0.0   \n",
      "4                                          0.0   \n",
      "...                                        ...   \n",
      "902624                                     0.0   \n",
      "902625                                     0.0   \n",
      "902626                                     0.0   \n",
      "902627                                     0.0   \n",
      "902628                                     0.0   \n",
      "\n",
      "        sub-CbctDbs0129_hemi-L_copy_mni152.nii  \n",
      "0                                          0.0  \n",
      "1                                          0.0  \n",
      "2                                          0.0  \n",
      "3                                          0.0  \n",
      "4                                          0.0  \n",
      "...                                        ...  \n",
      "902624                                     0.0  \n",
      "902625                                     0.0  \n",
      "902626                                     0.0  \n",
      "902627                                     0.0  \n",
      "902628                                     0.0  \n",
      "\n",
      "[902629 rows x 2 columns]\n"
     ]
    },
    {
     "data": {
      "text/plain": [
       "array([0., 0., 0., ..., 0., 0., 0.])"
      ]
     },
     "metadata": {},
     "output_type": "display_data"
    },
    {
     "name": "stderr",
     "output_type": "stream",
     "text": [
      " 46%|████▌     | 61/134 [06:06<07:34,  6.22s/it]"
     ]
    },
    {
     "name": "stdout",
     "output_type": "stream",
     "text": [
      "Image saved to: \n",
      " /Volumes/One Touch/BWH_PD_DBS_MixedTarget/vtas/sub-0129/stimulation\n",
      "\n",
      " ***Processed: /Volumes/One Touch/BWH_PD_DBS_MixedTarget/vtas/sub-0129\n",
      "Attempting to import from: /Volumes/One Touch/BWH_PD_DBS_MixedTarget/vtas/sub-0131/stimulation/*copy_mni152.nii\n",
      "        sub-CbctDbs0131_hemi-R_copy_mni152.nii  \\\n",
      "0                                          0.0   \n",
      "1                                          0.0   \n",
      "2                                          0.0   \n",
      "3                                          0.0   \n",
      "4                                          0.0   \n",
      "...                                        ...   \n",
      "902624                                     0.0   \n",
      "902625                                     0.0   \n",
      "902626                                     0.0   \n",
      "902627                                     0.0   \n",
      "902628                                     0.0   \n",
      "\n",
      "        sub-CbctDbs0131_hemi-L_copy_mni152.nii  \n",
      "0                                          0.0  \n",
      "1                                          0.0  \n",
      "2                                          0.0  \n",
      "3                                          0.0  \n",
      "4                                          0.0  \n",
      "...                                        ...  \n",
      "902624                                     0.0  \n",
      "902625                                     0.0  \n",
      "902626                                     0.0  \n",
      "902627                                     0.0  \n",
      "902628                                     0.0  \n",
      "\n",
      "[902629 rows x 2 columns]\n"
     ]
    },
    {
     "data": {
      "text/plain": [
       "array([0., 0., 0., ..., 0., 0., 0.])"
      ]
     },
     "metadata": {},
     "output_type": "display_data"
    },
    {
     "name": "stdout",
     "output_type": "stream",
     "text": [
      "Image saved to: \n",
      " /Volumes/One Touch/BWH_PD_DBS_MixedTarget/vtas/sub-0131/stimulation\n"
     ]
    },
    {
     "name": "stderr",
     "output_type": "stream",
     "text": [
      " 46%|████▋     | 62/134 [06:16<08:49,  7.35s/it]"
     ]
    },
    {
     "name": "stdout",
     "output_type": "stream",
     "text": [
      "\n",
      " ***Processed: /Volumes/One Touch/BWH_PD_DBS_MixedTarget/vtas/sub-0131\n",
      "Attempting to import from: /Volumes/One Touch/BWH_PD_DBS_MixedTarget/vtas/sub-0152/stimulation/*copy_mni152.nii\n",
      "        sub-CbctDbs0152_hemi-R_copy_mni152.nii  \\\n",
      "0                                          0.0   \n",
      "1                                          0.0   \n",
      "2                                          0.0   \n",
      "3                                          0.0   \n",
      "4                                          0.0   \n",
      "...                                        ...   \n",
      "902624                                     0.0   \n",
      "902625                                     0.0   \n",
      "902626                                     0.0   \n",
      "902627                                     0.0   \n",
      "902628                                     0.0   \n",
      "\n",
      "        sub-CbctDbs0152_hemi-L_copy_mni152.nii  \n",
      "0                                          0.0  \n",
      "1                                          0.0  \n",
      "2                                          0.0  \n",
      "3                                          0.0  \n",
      "4                                          0.0  \n",
      "...                                        ...  \n",
      "902624                                     0.0  \n",
      "902625                                     0.0  \n",
      "902626                                     0.0  \n",
      "902627                                     0.0  \n",
      "902628                                     0.0  \n",
      "\n",
      "[902629 rows x 2 columns]\n"
     ]
    },
    {
     "data": {
      "text/plain": [
       "array([0., 0., 0., ..., 0., 0., 0.])"
      ]
     },
     "metadata": {},
     "output_type": "display_data"
    },
    {
     "name": "stderr",
     "output_type": "stream",
     "text": [
      " 47%|████▋     | 63/134 [06:22<08:10,  6.90s/it]"
     ]
    },
    {
     "name": "stdout",
     "output_type": "stream",
     "text": [
      "Image saved to: \n",
      " /Volumes/One Touch/BWH_PD_DBS_MixedTarget/vtas/sub-0152/stimulation\n",
      "\n",
      " ***Processed: /Volumes/One Touch/BWH_PD_DBS_MixedTarget/vtas/sub-0152\n",
      "Attempting to import from: /Volumes/One Touch/BWH_PD_DBS_MixedTarget/vtas/sub-0156/stimulation/*copy_mni152.nii\n",
      "        sub-CbctDbs0156_hemi-R_copy_mni152.nii  \\\n",
      "0                                          0.0   \n",
      "1                                          0.0   \n",
      "2                                          0.0   \n",
      "3                                          0.0   \n",
      "4                                          0.0   \n",
      "...                                        ...   \n",
      "902624                                     0.0   \n",
      "902625                                     0.0   \n",
      "902626                                     0.0   \n",
      "902627                                     0.0   \n",
      "902628                                     0.0   \n",
      "\n",
      "        sub-CbctDbs0156_hemi-L_copy_mni152.nii  \n",
      "0                                          0.0  \n",
      "1                                          0.0  \n",
      "2                                          0.0  \n",
      "3                                          0.0  \n",
      "4                                          0.0  \n",
      "...                                        ...  \n",
      "902624                                     0.0  \n",
      "902625                                     0.0  \n",
      "902626                                     0.0  \n",
      "902627                                     0.0  \n",
      "902628                                     0.0  \n",
      "\n",
      "[902629 rows x 2 columns]\n"
     ]
    },
    {
     "data": {
      "text/plain": [
       "array([0., 0., 0., ..., 0., 0., 0.])"
      ]
     },
     "metadata": {},
     "output_type": "display_data"
    },
    {
     "name": "stderr",
     "output_type": "stream",
     "text": [
      " 48%|████▊     | 64/134 [06:31<08:45,  7.51s/it]"
     ]
    },
    {
     "name": "stdout",
     "output_type": "stream",
     "text": [
      "Image saved to: \n",
      " /Volumes/One Touch/BWH_PD_DBS_MixedTarget/vtas/sub-0156/stimulation\n",
      "\n",
      " ***Processed: /Volumes/One Touch/BWH_PD_DBS_MixedTarget/vtas/sub-0156\n",
      "Attempting to import from: /Volumes/One Touch/BWH_PD_DBS_MixedTarget/vtas/sub-0160/stimulation/*copy_mni152.nii\n",
      "        sub-CbctDbs0160_hemi-R_copy_mni152.nii  \\\n",
      "0                                          0.0   \n",
      "1                                          0.0   \n",
      "2                                          0.0   \n",
      "3                                          0.0   \n",
      "4                                          0.0   \n",
      "...                                        ...   \n",
      "902624                                     0.0   \n",
      "902625                                     0.0   \n",
      "902626                                     0.0   \n",
      "902627                                     0.0   \n",
      "902628                                     0.0   \n",
      "\n",
      "        sub-CbctDbs0160_hemi-L_copy_mni152.nii  \n",
      "0                                          0.0  \n",
      "1                                          0.0  \n",
      "2                                          0.0  \n",
      "3                                          0.0  \n",
      "4                                          0.0  \n",
      "...                                        ...  \n",
      "902624                                     0.0  \n",
      "902625                                     0.0  \n",
      "902626                                     0.0  \n",
      "902627                                     0.0  \n",
      "902628                                     0.0  \n",
      "\n",
      "[902629 rows x 2 columns]\n"
     ]
    },
    {
     "data": {
      "text/plain": [
       "array([0., 0., 0., ..., 0., 0., 0.])"
      ]
     },
     "metadata": {},
     "output_type": "display_data"
    },
    {
     "name": "stderr",
     "output_type": "stream",
     "text": [
      " 49%|████▊     | 65/134 [06:38<08:18,  7.22s/it]"
     ]
    },
    {
     "name": "stdout",
     "output_type": "stream",
     "text": [
      "Image saved to: \n",
      " /Volumes/One Touch/BWH_PD_DBS_MixedTarget/vtas/sub-0160/stimulation\n",
      "\n",
      " ***Processed: /Volumes/One Touch/BWH_PD_DBS_MixedTarget/vtas/sub-0160\n",
      "Attempting to import from: /Volumes/One Touch/BWH_PD_DBS_MixedTarget/vtas/sub-0171/stimulation/*copy_mni152.nii\n",
      "        sub-CbctDbs0171_hemi-R_copy_mni152.nii  \\\n",
      "0                                          0.0   \n",
      "1                                          0.0   \n",
      "2                                          0.0   \n",
      "3                                          0.0   \n",
      "4                                          0.0   \n",
      "...                                        ...   \n",
      "902624                                     0.0   \n",
      "902625                                     0.0   \n",
      "902626                                     0.0   \n",
      "902627                                     0.0   \n",
      "902628                                     0.0   \n",
      "\n",
      "        sub-CbctDbs0171_hemi-L_copy_mni152.nii  \n",
      "0                                          0.0  \n",
      "1                                          0.0  \n",
      "2                                          0.0  \n",
      "3                                          0.0  \n",
      "4                                          0.0  \n",
      "...                                        ...  \n",
      "902624                                     0.0  \n",
      "902625                                     0.0  \n",
      "902626                                     0.0  \n",
      "902627                                     0.0  \n",
      "902628                                     0.0  \n",
      "\n",
      "[902629 rows x 2 columns]\n"
     ]
    },
    {
     "data": {
      "text/plain": [
       "array([0., 0., 0., ..., 0., 0., 0.])"
      ]
     },
     "metadata": {},
     "output_type": "display_data"
    },
    {
     "name": "stderr",
     "output_type": "stream",
     "text": [
      " 49%|████▉     | 66/134 [06:43<07:39,  6.76s/it]"
     ]
    },
    {
     "name": "stdout",
     "output_type": "stream",
     "text": [
      "Image saved to: \n",
      " /Volumes/One Touch/BWH_PD_DBS_MixedTarget/vtas/sub-0171/stimulation\n",
      "\n",
      " ***Processed: /Volumes/One Touch/BWH_PD_DBS_MixedTarget/vtas/sub-0171\n",
      "Attempting to import from: /Volumes/One Touch/BWH_PD_DBS_MixedTarget/vtas/sub-0173/stimulation/*copy_mni152.nii\n",
      "        sub-CbctDbs0173_hemi-R_copy_mni152.nii  \\\n",
      "0                                          0.0   \n",
      "1                                          0.0   \n",
      "2                                          0.0   \n",
      "3                                          0.0   \n",
      "4                                          0.0   \n",
      "...                                        ...   \n",
      "902624                                     0.0   \n",
      "902625                                     0.0   \n",
      "902626                                     0.0   \n",
      "902627                                     0.0   \n",
      "902628                                     0.0   \n",
      "\n",
      "        sub-CbctDbs0173_hemi-L_copy_mni152.nii  \n",
      "0                                          0.0  \n",
      "1                                          0.0  \n",
      "2                                          0.0  \n",
      "3                                          0.0  \n",
      "4                                          0.0  \n",
      "...                                        ...  \n",
      "902624                                     0.0  \n",
      "902625                                     0.0  \n",
      "902626                                     0.0  \n",
      "902627                                     0.0  \n",
      "902628                                     0.0  \n",
      "\n",
      "[902629 rows x 2 columns]\n"
     ]
    },
    {
     "data": {
      "text/plain": [
       "array([0., 0., 0., ..., 0., 0., 0.])"
      ]
     },
     "metadata": {},
     "output_type": "display_data"
    },
    {
     "name": "stdout",
     "output_type": "stream",
     "text": [
      "Image saved to: \n",
      " /Volumes/One Touch/BWH_PD_DBS_MixedTarget/vtas/sub-0173/stimulation\n"
     ]
    },
    {
     "name": "stderr",
     "output_type": "stream",
     "text": [
      " 50%|█████     | 67/134 [06:52<08:05,  7.25s/it]"
     ]
    },
    {
     "name": "stdout",
     "output_type": "stream",
     "text": [
      "\n",
      " ***Processed: /Volumes/One Touch/BWH_PD_DBS_MixedTarget/vtas/sub-0173\n",
      "Attempting to import from: /Volumes/One Touch/BWH_PD_DBS_MixedTarget/vtas/sub-0174/stimulation/*copy_mni152.nii\n",
      "        sub-CbctDbs0174_hemi-R_copy_mni152.nii  \\\n",
      "0                                          0.0   \n",
      "1                                          0.0   \n",
      "2                                          0.0   \n",
      "3                                          0.0   \n",
      "4                                          0.0   \n",
      "...                                        ...   \n",
      "902624                                     0.0   \n",
      "902625                                     0.0   \n",
      "902626                                     0.0   \n",
      "902627                                     0.0   \n",
      "902628                                     0.0   \n",
      "\n",
      "        sub-CbctDbs0174_hemi-L_copy_mni152.nii  \n",
      "0                                          0.0  \n",
      "1                                          0.0  \n",
      "2                                          0.0  \n",
      "3                                          0.0  \n",
      "4                                          0.0  \n",
      "...                                        ...  \n",
      "902624                                     0.0  \n",
      "902625                                     0.0  \n",
      "902626                                     0.0  \n",
      "902627                                     0.0  \n",
      "902628                                     0.0  \n",
      "\n",
      "[902629 rows x 2 columns]\n"
     ]
    },
    {
     "data": {
      "text/plain": [
       "array([0., 0., 0., ..., 0., 0., 0.])"
      ]
     },
     "metadata": {},
     "output_type": "display_data"
    },
    {
     "name": "stderr",
     "output_type": "stream",
     "text": [
      " 51%|█████     | 68/134 [06:58<07:35,  6.90s/it]"
     ]
    },
    {
     "name": "stdout",
     "output_type": "stream",
     "text": [
      "Image saved to: \n",
      " /Volumes/One Touch/BWH_PD_DBS_MixedTarget/vtas/sub-0174/stimulation\n",
      "\n",
      " ***Processed: /Volumes/One Touch/BWH_PD_DBS_MixedTarget/vtas/sub-0174\n",
      "Attempting to import from: /Volumes/One Touch/BWH_PD_DBS_MixedTarget/vtas/sub-0176/stimulation/*copy_mni152.nii\n",
      "        sub-CbctDbs0176_hemi-R_copy_mni152.nii  \\\n",
      "0                                          0.0   \n",
      "1                                          0.0   \n",
      "2                                          0.0   \n",
      "3                                          0.0   \n",
      "4                                          0.0   \n",
      "...                                        ...   \n",
      "902624                                     0.0   \n",
      "902625                                     0.0   \n",
      "902626                                     0.0   \n",
      "902627                                     0.0   \n",
      "902628                                     0.0   \n",
      "\n",
      "        sub-CbctDbs0176_hemi-L_copy_mni152.nii  \n",
      "0                                          0.0  \n",
      "1                                          0.0  \n",
      "2                                          0.0  \n",
      "3                                          0.0  \n",
      "4                                          0.0  \n",
      "...                                        ...  \n",
      "902624                                     0.0  \n",
      "902625                                     0.0  \n",
      "902626                                     0.0  \n",
      "902627                                     0.0  \n",
      "902628                                     0.0  \n",
      "\n",
      "[902629 rows x 2 columns]\n"
     ]
    },
    {
     "data": {
      "text/plain": [
       "array([0., 0., 0., ..., 0., 0., 0.])"
      ]
     },
     "metadata": {},
     "output_type": "display_data"
    },
    {
     "name": "stderr",
     "output_type": "stream",
     "text": [
      " 51%|█████▏    | 69/134 [07:05<07:36,  7.02s/it]"
     ]
    },
    {
     "name": "stdout",
     "output_type": "stream",
     "text": [
      "Image saved to: \n",
      " /Volumes/One Touch/BWH_PD_DBS_MixedTarget/vtas/sub-0176/stimulation\n",
      "\n",
      " ***Processed: /Volumes/One Touch/BWH_PD_DBS_MixedTarget/vtas/sub-0176\n",
      "Attempting to import from: /Volumes/One Touch/BWH_PD_DBS_MixedTarget/vtas/sub-0180/stimulation/*copy_mni152.nii\n",
      "        sub-CbctDbs0180_hemi-R_copy_mni152.nii  \\\n",
      "0                                          0.0   \n",
      "1                                          0.0   \n",
      "2                                          0.0   \n",
      "3                                          0.0   \n",
      "4                                          0.0   \n",
      "...                                        ...   \n",
      "902624                                     0.0   \n",
      "902625                                     0.0   \n",
      "902626                                     0.0   \n",
      "902627                                     0.0   \n",
      "902628                                     0.0   \n",
      "\n",
      "        sub-CbctDbs0180_hemi-L_copy_mni152.nii  \n",
      "0                                          0.0  \n",
      "1                                          0.0  \n",
      "2                                          0.0  \n",
      "3                                          0.0  \n",
      "4                                          0.0  \n",
      "...                                        ...  \n",
      "902624                                     0.0  \n",
      "902625                                     0.0  \n",
      "902626                                     0.0  \n",
      "902627                                     0.0  \n",
      "902628                                     0.0  \n",
      "\n",
      "[902629 rows x 2 columns]\n"
     ]
    },
    {
     "data": {
      "text/plain": [
       "array([0., 0., 0., ..., 0., 0., 0.])"
      ]
     },
     "metadata": {},
     "output_type": "display_data"
    },
    {
     "name": "stderr",
     "output_type": "stream",
     "text": [
      " 52%|█████▏    | 70/134 [07:10<06:49,  6.39s/it]"
     ]
    },
    {
     "name": "stdout",
     "output_type": "stream",
     "text": [
      "Image saved to: \n",
      " /Volumes/One Touch/BWH_PD_DBS_MixedTarget/vtas/sub-0180/stimulation\n",
      "\n",
      " ***Processed: /Volumes/One Touch/BWH_PD_DBS_MixedTarget/vtas/sub-0180\n",
      "Attempting to import from: /Volumes/One Touch/BWH_PD_DBS_MixedTarget/vtas/sub-0181/stimulation/*copy_mni152.nii\n",
      "        sub-CbctDbs0181_hemi-R_copy_mni152.nii  \\\n",
      "0                                          0.0   \n",
      "1                                          0.0   \n",
      "2                                          0.0   \n",
      "3                                          0.0   \n",
      "4                                          0.0   \n",
      "...                                        ...   \n",
      "902624                                     0.0   \n",
      "902625                                     0.0   \n",
      "902626                                     0.0   \n",
      "902627                                     0.0   \n",
      "902628                                     0.0   \n",
      "\n",
      "        sub-CbctDbs0181_hemi-L_copy_mni152.nii  \n",
      "0                                          0.0  \n",
      "1                                          0.0  \n",
      "2                                          0.0  \n",
      "3                                          0.0  \n",
      "4                                          0.0  \n",
      "...                                        ...  \n",
      "902624                                     0.0  \n",
      "902625                                     0.0  \n",
      "902626                                     0.0  \n",
      "902627                                     0.0  \n",
      "902628                                     0.0  \n",
      "\n",
      "[902629 rows x 2 columns]\n"
     ]
    },
    {
     "data": {
      "text/plain": [
       "array([0., 0., 0., ..., 0., 0., 0.])"
      ]
     },
     "metadata": {},
     "output_type": "display_data"
    },
    {
     "name": "stderr",
     "output_type": "stream",
     "text": [
      " 53%|█████▎    | 71/134 [07:15<06:17,  5.98s/it]"
     ]
    },
    {
     "name": "stdout",
     "output_type": "stream",
     "text": [
      "Image saved to: \n",
      " /Volumes/One Touch/BWH_PD_DBS_MixedTarget/vtas/sub-0181/stimulation\n",
      "\n",
      " ***Processed: /Volumes/One Touch/BWH_PD_DBS_MixedTarget/vtas/sub-0181\n",
      "Attempting to import from: /Volumes/One Touch/BWH_PD_DBS_MixedTarget/vtas/sub-0184/stimulation/*copy_mni152.nii\n",
      "        sub-CbctDbs0184_hemi-R_copy_mni152.nii  \\\n",
      "0                                          0.0   \n",
      "1                                          0.0   \n",
      "2                                          0.0   \n",
      "3                                          0.0   \n",
      "4                                          0.0   \n",
      "...                                        ...   \n",
      "902624                                     0.0   \n",
      "902625                                     0.0   \n",
      "902626                                     0.0   \n",
      "902627                                     0.0   \n",
      "902628                                     0.0   \n",
      "\n",
      "        sub-CbctDbs0184_hemi-L_copy_mni152.nii  \n",
      "0                                          0.0  \n",
      "1                                          0.0  \n",
      "2                                          0.0  \n",
      "3                                          0.0  \n",
      "4                                          0.0  \n",
      "...                                        ...  \n",
      "902624                                     0.0  \n",
      "902625                                     0.0  \n",
      "902626                                     0.0  \n",
      "902627                                     0.0  \n",
      "902628                                     0.0  \n",
      "\n",
      "[902629 rows x 2 columns]\n"
     ]
    },
    {
     "data": {
      "text/plain": [
       "array([0., 0., 0., ..., 0., 0., 0.])"
      ]
     },
     "metadata": {},
     "output_type": "display_data"
    },
    {
     "name": "stderr",
     "output_type": "stream",
     "text": [
      " 54%|█████▎    | 72/134 [07:19<05:36,  5.43s/it]"
     ]
    },
    {
     "name": "stdout",
     "output_type": "stream",
     "text": [
      "Image saved to: \n",
      " /Volumes/One Touch/BWH_PD_DBS_MixedTarget/vtas/sub-0184/stimulation\n",
      "\n",
      " ***Processed: /Volumes/One Touch/BWH_PD_DBS_MixedTarget/vtas/sub-0184\n",
      "Attempting to import from: /Volumes/One Touch/BWH_PD_DBS_MixedTarget/vtas/sub-0185/stimulation/*copy_mni152.nii\n",
      "        sub-CbctDbs0185_hemi-R_copy_mni152.nii  \\\n",
      "0                                          0.0   \n",
      "1                                          0.0   \n",
      "2                                          0.0   \n",
      "3                                          0.0   \n",
      "4                                          0.0   \n",
      "...                                        ...   \n",
      "902624                                     0.0   \n",
      "902625                                     0.0   \n",
      "902626                                     0.0   \n",
      "902627                                     0.0   \n",
      "902628                                     0.0   \n",
      "\n",
      "        sub-CbctDbs0185_hemi-L_copy_mni152.nii  \n",
      "0                                          0.0  \n",
      "1                                          0.0  \n",
      "2                                          0.0  \n",
      "3                                          0.0  \n",
      "4                                          0.0  \n",
      "...                                        ...  \n",
      "902624                                     0.0  \n",
      "902625                                     0.0  \n",
      "902626                                     0.0  \n",
      "902627                                     0.0  \n",
      "902628                                     0.0  \n",
      "\n",
      "[902629 rows x 2 columns]\n"
     ]
    },
    {
     "data": {
      "text/plain": [
       "array([0., 0., 0., ..., 0., 0., 0.])"
      ]
     },
     "metadata": {},
     "output_type": "display_data"
    },
    {
     "name": "stderr",
     "output_type": "stream",
     "text": [
      " 54%|█████▍    | 73/134 [07:26<05:54,  5.81s/it]"
     ]
    },
    {
     "name": "stdout",
     "output_type": "stream",
     "text": [
      "Image saved to: \n",
      " /Volumes/One Touch/BWH_PD_DBS_MixedTarget/vtas/sub-0185/stimulation\n",
      "\n",
      " ***Processed: /Volumes/One Touch/BWH_PD_DBS_MixedTarget/vtas/sub-0185\n",
      "Attempting to import from: /Volumes/One Touch/BWH_PD_DBS_MixedTarget/vtas/sub-0186/stimulation/*copy_mni152.nii\n",
      "        sub-CbctDbs0186_hemi-R_copy_mni152.nii  \\\n",
      "0                                          0.0   \n",
      "1                                          0.0   \n",
      "2                                          0.0   \n",
      "3                                          0.0   \n",
      "4                                          0.0   \n",
      "...                                        ...   \n",
      "902624                                     0.0   \n",
      "902625                                     0.0   \n",
      "902626                                     0.0   \n",
      "902627                                     0.0   \n",
      "902628                                     0.0   \n",
      "\n",
      "        sub-CbctDbs0186_hemi-L_copy_mni152.nii  \n",
      "0                                          0.0  \n",
      "1                                          0.0  \n",
      "2                                          0.0  \n",
      "3                                          0.0  \n",
      "4                                          0.0  \n",
      "...                                        ...  \n",
      "902624                                     0.0  \n",
      "902625                                     0.0  \n",
      "902626                                     0.0  \n",
      "902627                                     0.0  \n",
      "902628                                     0.0  \n",
      "\n",
      "[902629 rows x 2 columns]\n"
     ]
    },
    {
     "data": {
      "text/plain": [
       "array([0., 0., 0., ..., 0., 0., 0.])"
      ]
     },
     "metadata": {},
     "output_type": "display_data"
    },
    {
     "name": "stderr",
     "output_type": "stream",
     "text": [
      " 55%|█████▌    | 74/134 [07:35<06:38,  6.65s/it]"
     ]
    },
    {
     "name": "stdout",
     "output_type": "stream",
     "text": [
      "Image saved to: \n",
      " /Volumes/One Touch/BWH_PD_DBS_MixedTarget/vtas/sub-0186/stimulation\n",
      "\n",
      " ***Processed: /Volumes/One Touch/BWH_PD_DBS_MixedTarget/vtas/sub-0186\n",
      "Attempting to import from: /Volumes/One Touch/BWH_PD_DBS_MixedTarget/vtas/sub-0187/stimulation/*copy_mni152.nii\n",
      "        sub-CbctDbs0187_hemi-R_copy_mni152.nii  \\\n",
      "0                                          0.0   \n",
      "1                                          0.0   \n",
      "2                                          0.0   \n",
      "3                                          0.0   \n",
      "4                                          0.0   \n",
      "...                                        ...   \n",
      "902624                                     0.0   \n",
      "902625                                     0.0   \n",
      "902626                                     0.0   \n",
      "902627                                     0.0   \n",
      "902628                                     0.0   \n",
      "\n",
      "        sub-CbctDbs0187_hemi-L_copy_mni152.nii  \n",
      "0                                          0.0  \n",
      "1                                          0.0  \n",
      "2                                          0.0  \n",
      "3                                          0.0  \n",
      "4                                          0.0  \n",
      "...                                        ...  \n",
      "902624                                     0.0  \n",
      "902625                                     0.0  \n",
      "902626                                     0.0  \n",
      "902627                                     0.0  \n",
      "902628                                     0.0  \n",
      "\n",
      "[902629 rows x 2 columns]\n"
     ]
    },
    {
     "data": {
      "text/plain": [
       "array([0., 0., 0., ..., 0., 0., 0.])"
      ]
     },
     "metadata": {},
     "output_type": "display_data"
    },
    {
     "name": "stderr",
     "output_type": "stream",
     "text": [
      " 56%|█████▌    | 75/134 [07:42<06:41,  6.81s/it]"
     ]
    },
    {
     "name": "stdout",
     "output_type": "stream",
     "text": [
      "Image saved to: \n",
      " /Volumes/One Touch/BWH_PD_DBS_MixedTarget/vtas/sub-0187/stimulation\n",
      "\n",
      " ***Processed: /Volumes/One Touch/BWH_PD_DBS_MixedTarget/vtas/sub-0187\n",
      "Attempting to import from: /Volumes/One Touch/BWH_PD_DBS_MixedTarget/vtas/sub-0190/stimulation/*copy_mni152.nii\n",
      "        sub-CbctDbs0190_hemi-R_copy_mni152.nii  \\\n",
      "0                                          0.0   \n",
      "1                                          0.0   \n",
      "2                                          0.0   \n",
      "3                                          0.0   \n",
      "4                                          0.0   \n",
      "...                                        ...   \n",
      "902624                                     0.0   \n",
      "902625                                     0.0   \n",
      "902626                                     0.0   \n",
      "902627                                     0.0   \n",
      "902628                                     0.0   \n",
      "\n",
      "        sub-CbctDbs0190_hemi-L_copy_mni152.nii  \n",
      "0                                          0.0  \n",
      "1                                          0.0  \n",
      "2                                          0.0  \n",
      "3                                          0.0  \n",
      "4                                          0.0  \n",
      "...                                        ...  \n",
      "902624                                     0.0  \n",
      "902625                                     0.0  \n",
      "902626                                     0.0  \n",
      "902627                                     0.0  \n",
      "902628                                     0.0  \n",
      "\n",
      "[902629 rows x 2 columns]\n"
     ]
    },
    {
     "data": {
      "text/plain": [
       "array([0., 0., 0., ..., 0., 0., 0.])"
      ]
     },
     "metadata": {},
     "output_type": "display_data"
    },
    {
     "name": "stdout",
     "output_type": "stream",
     "text": [
      "Image saved to: \n",
      " /Volumes/One Touch/BWH_PD_DBS_MixedTarget/vtas/sub-0190/stimulation\n"
     ]
    },
    {
     "name": "stderr",
     "output_type": "stream",
     "text": [
      " 57%|█████▋    | 76/134 [07:51<07:23,  7.64s/it]"
     ]
    },
    {
     "name": "stdout",
     "output_type": "stream",
     "text": [
      "\n",
      " ***Processed: /Volumes/One Touch/BWH_PD_DBS_MixedTarget/vtas/sub-0190\n",
      "Attempting to import from: /Volumes/One Touch/BWH_PD_DBS_MixedTarget/vtas/sub-0201/stimulation/*copy_mni152.nii\n",
      "        sub-CbctDbs0201_hemi-R_copy_mni152.nii  \\\n",
      "0                                          0.0   \n",
      "1                                          0.0   \n",
      "2                                          0.0   \n",
      "3                                          0.0   \n",
      "4                                          0.0   \n",
      "...                                        ...   \n",
      "902624                                     0.0   \n",
      "902625                                     0.0   \n",
      "902626                                     0.0   \n",
      "902627                                     0.0   \n",
      "902628                                     0.0   \n",
      "\n",
      "        sub-CbctDbs0201_hemi-L_copy_mni152.nii  \n",
      "0                                          0.0  \n",
      "1                                          0.0  \n",
      "2                                          0.0  \n",
      "3                                          0.0  \n",
      "4                                          0.0  \n",
      "...                                        ...  \n",
      "902624                                     0.0  \n",
      "902625                                     0.0  \n",
      "902626                                     0.0  \n",
      "902627                                     0.0  \n",
      "902628                                     0.0  \n",
      "\n",
      "[902629 rows x 2 columns]\n"
     ]
    },
    {
     "data": {
      "text/plain": [
       "array([0., 0., 0., ..., 0., 0., 0.])"
      ]
     },
     "metadata": {},
     "output_type": "display_data"
    },
    {
     "name": "stderr",
     "output_type": "stream",
     "text": [
      " 57%|█████▋    | 77/134 [07:59<07:07,  7.50s/it]"
     ]
    },
    {
     "name": "stdout",
     "output_type": "stream",
     "text": [
      "Image saved to: \n",
      " /Volumes/One Touch/BWH_PD_DBS_MixedTarget/vtas/sub-0201/stimulation\n",
      "\n",
      " ***Processed: /Volumes/One Touch/BWH_PD_DBS_MixedTarget/vtas/sub-0201\n",
      "Attempting to import from: /Volumes/One Touch/BWH_PD_DBS_MixedTarget/vtas/sub-0203/stimulation/*copy_mni152.nii\n",
      "        sub-CbctDbs0203_hemi-R_copy_mni152.nii  \\\n",
      "0                                          0.0   \n",
      "1                                          0.0   \n",
      "2                                          0.0   \n",
      "3                                          0.0   \n",
      "4                                          0.0   \n",
      "...                                        ...   \n",
      "902624                                     0.0   \n",
      "902625                                     0.0   \n",
      "902626                                     0.0   \n",
      "902627                                     0.0   \n",
      "902628                                     0.0   \n",
      "\n",
      "        sub-CbctDbs0203_hemi-L_copy_mni152.nii  \n",
      "0                                          0.0  \n",
      "1                                          0.0  \n",
      "2                                          0.0  \n",
      "3                                          0.0  \n",
      "4                                          0.0  \n",
      "...                                        ...  \n",
      "902624                                     0.0  \n",
      "902625                                     0.0  \n",
      "902626                                     0.0  \n",
      "902627                                     0.0  \n",
      "902628                                     0.0  \n",
      "\n",
      "[902629 rows x 2 columns]\n"
     ]
    },
    {
     "data": {
      "text/plain": [
       "array([0., 0., 0., ..., 0., 0., 0.])"
      ]
     },
     "metadata": {},
     "output_type": "display_data"
    },
    {
     "name": "stderr",
     "output_type": "stream",
     "text": [
      " 58%|█████▊    | 78/134 [08:06<06:59,  7.49s/it]"
     ]
    },
    {
     "name": "stdout",
     "output_type": "stream",
     "text": [
      "Image saved to: \n",
      " /Volumes/One Touch/BWH_PD_DBS_MixedTarget/vtas/sub-0203/stimulation\n",
      "\n",
      " ***Processed: /Volumes/One Touch/BWH_PD_DBS_MixedTarget/vtas/sub-0203\n",
      "Attempting to import from: /Volumes/One Touch/BWH_PD_DBS_MixedTarget/vtas/sub-0205/stimulation/*copy_mni152.nii\n",
      "        sub-CbctDbs0205_hemi-R_copy_mni152.nii  \\\n",
      "0                                          0.0   \n",
      "1                                          0.0   \n",
      "2                                          0.0   \n",
      "3                                          0.0   \n",
      "4                                          0.0   \n",
      "...                                        ...   \n",
      "902624                                     0.0   \n",
      "902625                                     0.0   \n",
      "902626                                     0.0   \n",
      "902627                                     0.0   \n",
      "902628                                     0.0   \n",
      "\n",
      "        sub-CbctDbs0205_hemi-L_copy_mni152.nii  \n",
      "0                                          0.0  \n",
      "1                                          0.0  \n",
      "2                                          0.0  \n",
      "3                                          0.0  \n",
      "4                                          0.0  \n",
      "...                                        ...  \n",
      "902624                                     0.0  \n",
      "902625                                     0.0  \n",
      "902626                                     0.0  \n",
      "902627                                     0.0  \n",
      "902628                                     0.0  \n",
      "\n",
      "[902629 rows x 2 columns]\n"
     ]
    },
    {
     "data": {
      "text/plain": [
       "array([0., 0., 0., ..., 0., 0., 0.])"
      ]
     },
     "metadata": {},
     "output_type": "display_data"
    },
    {
     "name": "stdout",
     "output_type": "stream",
     "text": [
      "Image saved to: \n",
      " /Volumes/One Touch/BWH_PD_DBS_MixedTarget/vtas/sub-0205/stimulation\n"
     ]
    },
    {
     "name": "stderr",
     "output_type": "stream",
     "text": [
      " 59%|█████▉    | 79/134 [08:13<06:51,  7.48s/it]"
     ]
    },
    {
     "name": "stdout",
     "output_type": "stream",
     "text": [
      "\n",
      " ***Processed: /Volumes/One Touch/BWH_PD_DBS_MixedTarget/vtas/sub-0205\n",
      "Attempting to import from: /Volumes/One Touch/BWH_PD_DBS_MixedTarget/vtas/sub-0206/stimulation/*copy_mni152.nii\n",
      "        sub-CbctDbs0206_hemi-R_copy_mni152.nii  \\\n",
      "0                                          0.0   \n",
      "1                                          0.0   \n",
      "2                                          0.0   \n",
      "3                                          0.0   \n",
      "4                                          0.0   \n",
      "...                                        ...   \n",
      "902624                                     0.0   \n",
      "902625                                     0.0   \n",
      "902626                                     0.0   \n",
      "902627                                     0.0   \n",
      "902628                                     0.0   \n",
      "\n",
      "        sub-CbctDbs0206_hemi-L_copy_mni152.nii  \n",
      "0                                          0.0  \n",
      "1                                          0.0  \n",
      "2                                          0.0  \n",
      "3                                          0.0  \n",
      "4                                          0.0  \n",
      "...                                        ...  \n",
      "902624                                     0.0  \n",
      "902625                                     0.0  \n",
      "902626                                     0.0  \n",
      "902627                                     0.0  \n",
      "902628                                     0.0  \n",
      "\n",
      "[902629 rows x 2 columns]\n"
     ]
    },
    {
     "data": {
      "text/plain": [
       "array([0., 0., 0., ..., 0., 0., 0.])"
      ]
     },
     "metadata": {},
     "output_type": "display_data"
    },
    {
     "name": "stderr",
     "output_type": "stream",
     "text": [
      " 60%|█████▉    | 80/134 [08:21<06:51,  7.62s/it]"
     ]
    },
    {
     "name": "stdout",
     "output_type": "stream",
     "text": [
      "Image saved to: \n",
      " /Volumes/One Touch/BWH_PD_DBS_MixedTarget/vtas/sub-0206/stimulation\n",
      "\n",
      " ***Processed: /Volumes/One Touch/BWH_PD_DBS_MixedTarget/vtas/sub-0206\n",
      "Attempting to import from: /Volumes/One Touch/BWH_PD_DBS_MixedTarget/vtas/sub-0208/stimulation/*copy_mni152.nii\n",
      "        sub-CbctDbs0208_hemi-R_copy_mni152.nii  \\\n",
      "0                                          0.0   \n",
      "1                                          0.0   \n",
      "2                                          0.0   \n",
      "3                                          0.0   \n",
      "4                                          0.0   \n",
      "...                                        ...   \n",
      "902624                                     0.0   \n",
      "902625                                     0.0   \n",
      "902626                                     0.0   \n",
      "902627                                     0.0   \n",
      "902628                                     0.0   \n",
      "\n",
      "        sub-CbctDbs0208_hemi-L_copy_mni152.nii  \n",
      "0                                          0.0  \n",
      "1                                          0.0  \n",
      "2                                          0.0  \n",
      "3                                          0.0  \n",
      "4                                          0.0  \n",
      "...                                        ...  \n",
      "902624                                     0.0  \n",
      "902625                                     0.0  \n",
      "902626                                     0.0  \n",
      "902627                                     0.0  \n",
      "902628                                     0.0  \n",
      "\n",
      "[902629 rows x 2 columns]\n"
     ]
    },
    {
     "data": {
      "text/plain": [
       "array([0., 0., 0., ..., 0., 0., 0.])"
      ]
     },
     "metadata": {},
     "output_type": "display_data"
    },
    {
     "name": "stdout",
     "output_type": "stream",
     "text": [
      "Image saved to: \n",
      " /Volumes/One Touch/BWH_PD_DBS_MixedTarget/vtas/sub-0208/stimulation\n"
     ]
    },
    {
     "name": "stderr",
     "output_type": "stream",
     "text": [
      " 60%|██████    | 81/134 [08:24<05:18,  6.00s/it]"
     ]
    },
    {
     "name": "stdout",
     "output_type": "stream",
     "text": [
      "\n",
      " ***Processed: /Volumes/One Touch/BWH_PD_DBS_MixedTarget/vtas/sub-0208\n",
      "Attempting to import from: /Volumes/One Touch/BWH_PD_DBS_MixedTarget/vtas/sub-0209/stimulation/*copy_mni152.nii\n",
      "        sub-CbctDbs0209_hemi-R_copy_mni152.nii  \\\n",
      "0                                          0.0   \n",
      "1                                          0.0   \n",
      "2                                          0.0   \n",
      "3                                          0.0   \n",
      "4                                          0.0   \n",
      "...                                        ...   \n",
      "902624                                     0.0   \n",
      "902625                                     0.0   \n",
      "902626                                     0.0   \n",
      "902627                                     0.0   \n",
      "902628                                     0.0   \n",
      "\n",
      "        sub-CbctDbs0209_hemi-L_copy_mni152.nii  \n",
      "0                                          0.0  \n",
      "1                                          0.0  \n",
      "2                                          0.0  \n",
      "3                                          0.0  \n",
      "4                                          0.0  \n",
      "...                                        ...  \n",
      "902624                                     0.0  \n",
      "902625                                     0.0  \n",
      "902626                                     0.0  \n",
      "902627                                     0.0  \n",
      "902628                                     0.0  \n",
      "\n",
      "[902629 rows x 2 columns]\n"
     ]
    },
    {
     "data": {
      "text/plain": [
       "array([0., 0., 0., ..., 0., 0., 0.])"
      ]
     },
     "metadata": {},
     "output_type": "display_data"
    },
    {
     "name": "stderr",
     "output_type": "stream",
     "text": [
      " 61%|██████    | 82/134 [08:27<04:32,  5.25s/it]"
     ]
    },
    {
     "name": "stdout",
     "output_type": "stream",
     "text": [
      "Image saved to: \n",
      " /Volumes/One Touch/BWH_PD_DBS_MixedTarget/vtas/sub-0209/stimulation\n",
      "\n",
      " ***Processed: /Volumes/One Touch/BWH_PD_DBS_MixedTarget/vtas/sub-0209\n",
      "Attempting to import from: /Volumes/One Touch/BWH_PD_DBS_MixedTarget/vtas/sub-0211/stimulation/*copy_mni152.nii\n",
      "        sub-CbctDbs0211_hemi-R_copy_mni152.nii  \\\n",
      "0                                          0.0   \n",
      "1                                          0.0   \n",
      "2                                          0.0   \n",
      "3                                          0.0   \n",
      "4                                          0.0   \n",
      "...                                        ...   \n",
      "902624                                     0.0   \n",
      "902625                                     0.0   \n",
      "902626                                     0.0   \n",
      "902627                                     0.0   \n",
      "902628                                     0.0   \n",
      "\n",
      "        sub-CbctDbs0211_hemi-L_copy_mni152.nii  \n",
      "0                                          0.0  \n",
      "1                                          0.0  \n",
      "2                                          0.0  \n",
      "3                                          0.0  \n",
      "4                                          0.0  \n",
      "...                                        ...  \n",
      "902624                                     0.0  \n",
      "902625                                     0.0  \n",
      "902626                                     0.0  \n",
      "902627                                     0.0  \n",
      "902628                                     0.0  \n",
      "\n",
      "[902629 rows x 2 columns]\n"
     ]
    },
    {
     "data": {
      "text/plain": [
       "array([0., 0., 0., ..., 0., 0., 0.])"
      ]
     },
     "metadata": {},
     "output_type": "display_data"
    },
    {
     "name": "stdout",
     "output_type": "stream",
     "text": [
      "Image saved to: \n",
      " /Volumes/One Touch/BWH_PD_DBS_MixedTarget/vtas/sub-0211/stimulation\n"
     ]
    },
    {
     "name": "stderr",
     "output_type": "stream",
     "text": [
      " 62%|██████▏   | 83/134 [08:30<03:55,  4.62s/it]"
     ]
    },
    {
     "name": "stdout",
     "output_type": "stream",
     "text": [
      "\n",
      " ***Processed: /Volumes/One Touch/BWH_PD_DBS_MixedTarget/vtas/sub-0211\n",
      "Attempting to import from: /Volumes/One Touch/BWH_PD_DBS_MixedTarget/vtas/sub-0214/stimulation/*copy_mni152.nii\n",
      "        sub-CbctDbs0214_hemi-R_copy_mni152.nii  \\\n",
      "0                                          0.0   \n",
      "1                                          0.0   \n",
      "2                                          0.0   \n",
      "3                                          0.0   \n",
      "4                                          0.0   \n",
      "...                                        ...   \n",
      "902624                                     0.0   \n",
      "902625                                     0.0   \n",
      "902626                                     0.0   \n",
      "902627                                     0.0   \n",
      "902628                                     0.0   \n",
      "\n",
      "        sub-CbctDbs0214_hemi-L_copy_mni152.nii  \n",
      "0                                          0.0  \n",
      "1                                          0.0  \n",
      "2                                          0.0  \n",
      "3                                          0.0  \n",
      "4                                          0.0  \n",
      "...                                        ...  \n",
      "902624                                     0.0  \n",
      "902625                                     0.0  \n",
      "902626                                     0.0  \n",
      "902627                                     0.0  \n",
      "902628                                     0.0  \n",
      "\n",
      "[902629 rows x 2 columns]\n"
     ]
    },
    {
     "data": {
      "text/plain": [
       "array([0., 0., 0., ..., 0., 0., 0.])"
      ]
     },
     "metadata": {},
     "output_type": "display_data"
    },
    {
     "name": "stderr",
     "output_type": "stream",
     "text": [
      " 63%|██████▎   | 84/134 [08:34<03:32,  4.26s/it]"
     ]
    },
    {
     "name": "stdout",
     "output_type": "stream",
     "text": [
      "Image saved to: \n",
      " /Volumes/One Touch/BWH_PD_DBS_MixedTarget/vtas/sub-0214/stimulation\n",
      "\n",
      " ***Processed: /Volumes/One Touch/BWH_PD_DBS_MixedTarget/vtas/sub-0214\n",
      "Attempting to import from: /Volumes/One Touch/BWH_PD_DBS_MixedTarget/vtas/sub-0215/stimulation/*copy_mni152.nii\n",
      "        sub-CbctDbs0215_hemi-R_copy_mni152.nii  \\\n",
      "0                                          0.0   \n",
      "1                                          0.0   \n",
      "2                                          0.0   \n",
      "3                                          0.0   \n",
      "4                                          0.0   \n",
      "...                                        ...   \n",
      "902624                                     0.0   \n",
      "902625                                     0.0   \n",
      "902626                                     0.0   \n",
      "902627                                     0.0   \n",
      "902628                                     0.0   \n",
      "\n",
      "        sub-CbctDbs0215_hemi-L_copy_mni152.nii  \n",
      "0                                          0.0  \n",
      "1                                          0.0  \n",
      "2                                          0.0  \n",
      "3                                          0.0  \n",
      "4                                          0.0  \n",
      "...                                        ...  \n",
      "902624                                     0.0  \n",
      "902625                                     0.0  \n",
      "902626                                     0.0  \n",
      "902627                                     0.0  \n",
      "902628                                     0.0  \n",
      "\n",
      "[902629 rows x 2 columns]\n"
     ]
    },
    {
     "data": {
      "text/plain": [
       "array([0., 0., 0., ..., 0., 0., 0.])"
      ]
     },
     "metadata": {},
     "output_type": "display_data"
    },
    {
     "name": "stdout",
     "output_type": "stream",
     "text": [
      "Image saved to: \n",
      " /Volumes/One Touch/BWH_PD_DBS_MixedTarget/vtas/sub-0215/stimulation\n"
     ]
    },
    {
     "name": "stderr",
     "output_type": "stream",
     "text": [
      " 63%|██████▎   | 85/134 [08:38<03:30,  4.30s/it]"
     ]
    },
    {
     "name": "stdout",
     "output_type": "stream",
     "text": [
      "\n",
      " ***Processed: /Volumes/One Touch/BWH_PD_DBS_MixedTarget/vtas/sub-0215\n",
      "Attempting to import from: /Volumes/One Touch/BWH_PD_DBS_MixedTarget/vtas/sub-0221/stimulation/*copy_mni152.nii\n",
      "        sub-CbctDbs0221_hemi-R_copy_mni152.nii  \\\n",
      "0                                          0.0   \n",
      "1                                          0.0   \n",
      "2                                          0.0   \n",
      "3                                          0.0   \n",
      "4                                          0.0   \n",
      "...                                        ...   \n",
      "902624                                     0.0   \n",
      "902625                                     0.0   \n",
      "902626                                     0.0   \n",
      "902627                                     0.0   \n",
      "902628                                     0.0   \n",
      "\n",
      "        sub-CbctDbs0221_hemi-L_copy_mni152.nii  \n",
      "0                                          0.0  \n",
      "1                                          0.0  \n",
      "2                                          0.0  \n",
      "3                                          0.0  \n",
      "4                                          0.0  \n",
      "...                                        ...  \n",
      "902624                                     0.0  \n",
      "902625                                     0.0  \n",
      "902626                                     0.0  \n",
      "902627                                     0.0  \n",
      "902628                                     0.0  \n",
      "\n",
      "[902629 rows x 2 columns]\n"
     ]
    },
    {
     "data": {
      "text/plain": [
       "array([0., 0., 0., ..., 0., 0., 0.])"
      ]
     },
     "metadata": {},
     "output_type": "display_data"
    },
    {
     "name": "stdout",
     "output_type": "stream",
     "text": [
      "Image saved to: \n",
      " /Volumes/One Touch/BWH_PD_DBS_MixedTarget/vtas/sub-0221/stimulation\n"
     ]
    },
    {
     "name": "stderr",
     "output_type": "stream",
     "text": [
      " 64%|██████▍   | 86/134 [08:45<03:58,  4.96s/it]"
     ]
    },
    {
     "name": "stdout",
     "output_type": "stream",
     "text": [
      "\n",
      " ***Processed: /Volumes/One Touch/BWH_PD_DBS_MixedTarget/vtas/sub-0221\n",
      "Attempting to import from: /Volumes/One Touch/BWH_PD_DBS_MixedTarget/vtas/sub-0223/stimulation/*copy_mni152.nii\n",
      "        sub-CbctDbs0223_hemi-R_copy_mni152.nii  \\\n",
      "0                                          0.0   \n",
      "1                                          0.0   \n",
      "2                                          0.0   \n",
      "3                                          0.0   \n",
      "4                                          0.0   \n",
      "...                                        ...   \n",
      "902624                                     0.0   \n",
      "902625                                     0.0   \n",
      "902626                                     0.0   \n",
      "902627                                     0.0   \n",
      "902628                                     0.0   \n",
      "\n",
      "        sub-CbctDbs0223_hemi-L_copy_mni152.nii  \n",
      "0                                          0.0  \n",
      "1                                          0.0  \n",
      "2                                          0.0  \n",
      "3                                          0.0  \n",
      "4                                          0.0  \n",
      "...                                        ...  \n",
      "902624                                     0.0  \n",
      "902625                                     0.0  \n",
      "902626                                     0.0  \n",
      "902627                                     0.0  \n",
      "902628                                     0.0  \n",
      "\n",
      "[902629 rows x 2 columns]\n"
     ]
    },
    {
     "data": {
      "text/plain": [
       "array([0., 0., 0., ..., 0., 0., 0.])"
      ]
     },
     "metadata": {},
     "output_type": "display_data"
    },
    {
     "name": "stderr",
     "output_type": "stream",
     "text": [
      " 65%|██████▍   | 87/134 [08:53<04:42,  6.01s/it]"
     ]
    },
    {
     "name": "stdout",
     "output_type": "stream",
     "text": [
      "Image saved to: \n",
      " /Volumes/One Touch/BWH_PD_DBS_MixedTarget/vtas/sub-0223/stimulation\n",
      "\n",
      " ***Processed: /Volumes/One Touch/BWH_PD_DBS_MixedTarget/vtas/sub-0223\n",
      "Attempting to import from: /Volumes/One Touch/BWH_PD_DBS_MixedTarget/vtas/sub-0224/stimulation/*copy_mni152.nii\n",
      "        sub-CbctDbs0224_hemi-R_copy_mni152.nii  \\\n",
      "0                                          0.0   \n",
      "1                                          0.0   \n",
      "2                                          0.0   \n",
      "3                                          0.0   \n",
      "4                                          0.0   \n",
      "...                                        ...   \n",
      "902624                                     0.0   \n",
      "902625                                     0.0   \n",
      "902626                                     0.0   \n",
      "902627                                     0.0   \n",
      "902628                                     0.0   \n",
      "\n",
      "        sub-CbctDbs0224_hemi-L_copy_mni152.nii  \n",
      "0                                          0.0  \n",
      "1                                          0.0  \n",
      "2                                          0.0  \n",
      "3                                          0.0  \n",
      "4                                          0.0  \n",
      "...                                        ...  \n",
      "902624                                     0.0  \n",
      "902625                                     0.0  \n",
      "902626                                     0.0  \n",
      "902627                                     0.0  \n",
      "902628                                     0.0  \n",
      "\n",
      "[902629 rows x 2 columns]\n"
     ]
    },
    {
     "data": {
      "text/plain": [
       "array([0., 0., 0., ..., 0., 0., 0.])"
      ]
     },
     "metadata": {},
     "output_type": "display_data"
    },
    {
     "name": "stdout",
     "output_type": "stream",
     "text": [
      "Image saved to: \n",
      " /Volumes/One Touch/BWH_PD_DBS_MixedTarget/vtas/sub-0224/stimulation\n"
     ]
    },
    {
     "name": "stderr",
     "output_type": "stream",
     "text": [
      " 66%|██████▌   | 88/134 [09:02<05:11,  6.77s/it]"
     ]
    },
    {
     "name": "stdout",
     "output_type": "stream",
     "text": [
      "\n",
      " ***Processed: /Volumes/One Touch/BWH_PD_DBS_MixedTarget/vtas/sub-0224\n",
      "Attempting to import from: /Volumes/One Touch/BWH_PD_DBS_MixedTarget/vtas/sub-0230/stimulation/*copy_mni152.nii\n",
      "        sub-CbctDbs0230_hemi-R_copy_mni152.nii  \\\n",
      "0                                          0.0   \n",
      "1                                          0.0   \n",
      "2                                          0.0   \n",
      "3                                          0.0   \n",
      "4                                          0.0   \n",
      "...                                        ...   \n",
      "902624                                     0.0   \n",
      "902625                                     0.0   \n",
      "902626                                     0.0   \n",
      "902627                                     0.0   \n",
      "902628                                     0.0   \n",
      "\n",
      "        sub-CbctDbs0230_hemi-L_copy_mni152.nii  \n",
      "0                                          0.0  \n",
      "1                                          0.0  \n",
      "2                                          0.0  \n",
      "3                                          0.0  \n",
      "4                                          0.0  \n",
      "...                                        ...  \n",
      "902624                                     0.0  \n",
      "902625                                     0.0  \n",
      "902626                                     0.0  \n",
      "902627                                     0.0  \n",
      "902628                                     0.0  \n",
      "\n",
      "[902629 rows x 2 columns]\n"
     ]
    },
    {
     "data": {
      "text/plain": [
       "array([0., 0., 0., ..., 0., 0., 0.])"
      ]
     },
     "metadata": {},
     "output_type": "display_data"
    },
    {
     "name": "stderr",
     "output_type": "stream",
     "text": [
      " 66%|██████▋   | 89/134 [09:09<05:12,  6.94s/it]"
     ]
    },
    {
     "name": "stdout",
     "output_type": "stream",
     "text": [
      "Image saved to: \n",
      " /Volumes/One Touch/BWH_PD_DBS_MixedTarget/vtas/sub-0230/stimulation\n",
      "\n",
      " ***Processed: /Volumes/One Touch/BWH_PD_DBS_MixedTarget/vtas/sub-0230\n",
      "Attempting to import from: /Volumes/One Touch/BWH_PD_DBS_MixedTarget/vtas/sub-0231/stimulation/*copy_mni152.nii\n",
      "        sub-CbctDbs0231_hemi-R_copy_mni152.nii  \\\n",
      "0                                          0.0   \n",
      "1                                          0.0   \n",
      "2                                          0.0   \n",
      "3                                          0.0   \n",
      "4                                          0.0   \n",
      "...                                        ...   \n",
      "902624                                     0.0   \n",
      "902625                                     0.0   \n",
      "902626                                     0.0   \n",
      "902627                                     0.0   \n",
      "902628                                     0.0   \n",
      "\n",
      "        sub-CbctDbs0231_hemi-L_copy_mni152.nii  \n",
      "0                                          0.0  \n",
      "1                                          0.0  \n",
      "2                                          0.0  \n",
      "3                                          0.0  \n",
      "4                                          0.0  \n",
      "...                                        ...  \n",
      "902624                                     0.0  \n",
      "902625                                     0.0  \n",
      "902626                                     0.0  \n",
      "902627                                     0.0  \n",
      "902628                                     0.0  \n",
      "\n",
      "[902629 rows x 2 columns]\n"
     ]
    },
    {
     "data": {
      "text/plain": [
       "array([0., 0., 0., ..., 0., 0., 0.])"
      ]
     },
     "metadata": {},
     "output_type": "display_data"
    },
    {
     "name": "stderr",
     "output_type": "stream",
     "text": [
      " 67%|██████▋   | 90/134 [09:12<04:11,  5.72s/it]"
     ]
    },
    {
     "name": "stdout",
     "output_type": "stream",
     "text": [
      "Image saved to: \n",
      " /Volumes/One Touch/BWH_PD_DBS_MixedTarget/vtas/sub-0231/stimulation\n",
      "\n",
      " ***Processed: /Volumes/One Touch/BWH_PD_DBS_MixedTarget/vtas/sub-0231\n",
      "Attempting to import from: /Volumes/One Touch/BWH_PD_DBS_MixedTarget/vtas/sub-0232/stimulation/*copy_mni152.nii\n",
      "        sub-CbctDbs0232_hemi-R_copy_mni152.nii  \\\n",
      "0                                          0.0   \n",
      "1                                          0.0   \n",
      "2                                          0.0   \n",
      "3                                          0.0   \n",
      "4                                          0.0   \n",
      "...                                        ...   \n",
      "902624                                     0.0   \n",
      "902625                                     0.0   \n",
      "902626                                     0.0   \n",
      "902627                                     0.0   \n",
      "902628                                     0.0   \n",
      "\n",
      "        sub-CbctDbs0232_hemi-L_copy_mni152.nii  \n",
      "0                                          0.0  \n",
      "1                                          0.0  \n",
      "2                                          0.0  \n",
      "3                                          0.0  \n",
      "4                                          0.0  \n",
      "...                                        ...  \n",
      "902624                                     0.0  \n",
      "902625                                     0.0  \n",
      "902626                                     0.0  \n",
      "902627                                     0.0  \n",
      "902628                                     0.0  \n",
      "\n",
      "[902629 rows x 2 columns]\n"
     ]
    },
    {
     "data": {
      "text/plain": [
       "array([0., 0., 0., ..., 0., 0., 0.])"
      ]
     },
     "metadata": {},
     "output_type": "display_data"
    },
    {
     "name": "stdout",
     "output_type": "stream",
     "text": [
      "Image saved to: \n",
      " /Volumes/One Touch/BWH_PD_DBS_MixedTarget/vtas/sub-0232/stimulation\n"
     ]
    },
    {
     "name": "stderr",
     "output_type": "stream",
     "text": [
      " 68%|██████▊   | 91/134 [09:18<04:07,  5.76s/it]"
     ]
    },
    {
     "name": "stdout",
     "output_type": "stream",
     "text": [
      "\n",
      " ***Processed: /Volumes/One Touch/BWH_PD_DBS_MixedTarget/vtas/sub-0232\n",
      "Attempting to import from: /Volumes/One Touch/BWH_PD_DBS_MixedTarget/vtas/sub-0233/stimulation/*copy_mni152.nii\n",
      "        sub-CbctDbs0233_hemi-R_copy_mni152.nii  \\\n",
      "0                                          0.0   \n",
      "1                                          0.0   \n",
      "2                                          0.0   \n",
      "3                                          0.0   \n",
      "4                                          0.0   \n",
      "...                                        ...   \n",
      "902624                                     0.0   \n",
      "902625                                     0.0   \n",
      "902626                                     0.0   \n",
      "902627                                     0.0   \n",
      "902628                                     0.0   \n",
      "\n",
      "        sub-CbctDbs0233_hemi-L_copy_mni152.nii  \n",
      "0                                          0.0  \n",
      "1                                          0.0  \n",
      "2                                          0.0  \n",
      "3                                          0.0  \n",
      "4                                          0.0  \n",
      "...                                        ...  \n",
      "902624                                     0.0  \n",
      "902625                                     0.0  \n",
      "902626                                     0.0  \n",
      "902627                                     0.0  \n",
      "902628                                     0.0  \n",
      "\n",
      "[902629 rows x 2 columns]\n"
     ]
    },
    {
     "data": {
      "text/plain": [
       "array([0., 0., 0., ..., 0., 0., 0.])"
      ]
     },
     "metadata": {},
     "output_type": "display_data"
    },
    {
     "name": "stdout",
     "output_type": "stream",
     "text": [
      "Image saved to: \n",
      " /Volumes/One Touch/BWH_PD_DBS_MixedTarget/vtas/sub-0233/stimulation\n"
     ]
    },
    {
     "name": "stderr",
     "output_type": "stream",
     "text": [
      " 69%|██████▊   | 92/134 [09:27<04:53,  6.98s/it]"
     ]
    },
    {
     "name": "stdout",
     "output_type": "stream",
     "text": [
      "\n",
      " ***Processed: /Volumes/One Touch/BWH_PD_DBS_MixedTarget/vtas/sub-0233\n",
      "Attempting to import from: /Volumes/One Touch/BWH_PD_DBS_MixedTarget/vtas/sub-0235/stimulation/*copy_mni152.nii\n",
      "        sub-CbctDbs0235_hemi-R_copy_mni152.nii  \\\n",
      "0                                          0.0   \n",
      "1                                          0.0   \n",
      "2                                          0.0   \n",
      "3                                          0.0   \n",
      "4                                          0.0   \n",
      "...                                        ...   \n",
      "902624                                     0.0   \n",
      "902625                                     0.0   \n",
      "902626                                     0.0   \n",
      "902627                                     0.0   \n",
      "902628                                     0.0   \n",
      "\n",
      "        sub-CbctDbs0235_hemi-L_copy_mni152.nii  \n",
      "0                                          0.0  \n",
      "1                                          0.0  \n",
      "2                                          0.0  \n",
      "3                                          0.0  \n",
      "4                                          0.0  \n",
      "...                                        ...  \n",
      "902624                                     0.0  \n",
      "902625                                     0.0  \n",
      "902626                                     0.0  \n",
      "902627                                     0.0  \n",
      "902628                                     0.0  \n",
      "\n",
      "[902629 rows x 2 columns]\n"
     ]
    },
    {
     "data": {
      "text/plain": [
       "array([0., 0., 0., ..., 0., 0., 0.])"
      ]
     },
     "metadata": {},
     "output_type": "display_data"
    },
    {
     "name": "stdout",
     "output_type": "stream",
     "text": [
      "Image saved to: \n",
      " /Volumes/One Touch/BWH_PD_DBS_MixedTarget/vtas/sub-0235/stimulation\n"
     ]
    },
    {
     "name": "stderr",
     "output_type": "stream",
     "text": [
      " 69%|██████▉   | 93/134 [09:35<04:53,  7.17s/it]"
     ]
    },
    {
     "name": "stdout",
     "output_type": "stream",
     "text": [
      "\n",
      " ***Processed: /Volumes/One Touch/BWH_PD_DBS_MixedTarget/vtas/sub-0235\n",
      "Attempting to import from: /Volumes/One Touch/BWH_PD_DBS_MixedTarget/vtas/sub-0237/stimulation/*copy_mni152.nii\n",
      "        sub-CbctDbs0237_hemi-R_copy_mni152.nii  \\\n",
      "0                                          0.0   \n",
      "1                                          0.0   \n",
      "2                                          0.0   \n",
      "3                                          0.0   \n",
      "4                                          0.0   \n",
      "...                                        ...   \n",
      "902624                                     0.0   \n",
      "902625                                     0.0   \n",
      "902626                                     0.0   \n",
      "902627                                     0.0   \n",
      "902628                                     0.0   \n",
      "\n",
      "        sub-CbctDbs0237_hemi-L_copy_mni152.nii  \n",
      "0                                          0.0  \n",
      "1                                          0.0  \n",
      "2                                          0.0  \n",
      "3                                          0.0  \n",
      "4                                          0.0  \n",
      "...                                        ...  \n",
      "902624                                     0.0  \n",
      "902625                                     0.0  \n",
      "902626                                     0.0  \n",
      "902627                                     0.0  \n",
      "902628                                     0.0  \n",
      "\n",
      "[902629 rows x 2 columns]\n"
     ]
    },
    {
     "data": {
      "text/plain": [
       "array([0., 0., 0., ..., 0., 0., 0.])"
      ]
     },
     "metadata": {},
     "output_type": "display_data"
    },
    {
     "name": "stderr",
     "output_type": "stream",
     "text": [
      " 70%|███████   | 94/134 [09:37<03:39,  5.50s/it]"
     ]
    },
    {
     "name": "stdout",
     "output_type": "stream",
     "text": [
      "Image saved to: \n",
      " /Volumes/One Touch/BWH_PD_DBS_MixedTarget/vtas/sub-0237/stimulation\n",
      "\n",
      " ***Processed: /Volumes/One Touch/BWH_PD_DBS_MixedTarget/vtas/sub-0237\n",
      "Attempting to import from: /Volumes/One Touch/BWH_PD_DBS_MixedTarget/vtas/sub-0238/stimulation/*copy_mni152.nii\n",
      "        sub-CbctDbs0238_hemi-R_copy_mni152.nii  \\\n",
      "0                                          0.0   \n",
      "1                                          0.0   \n",
      "2                                          0.0   \n",
      "3                                          0.0   \n",
      "4                                          0.0   \n",
      "...                                        ...   \n",
      "902624                                     0.0   \n",
      "902625                                     0.0   \n",
      "902626                                     0.0   \n",
      "902627                                     0.0   \n",
      "902628                                     0.0   \n",
      "\n",
      "        sub-CbctDbs0238_hemi-L_copy_mni152.nii  \n",
      "0                                          0.0  \n",
      "1                                          0.0  \n",
      "2                                          0.0  \n",
      "3                                          0.0  \n",
      "4                                          0.0  \n",
      "...                                        ...  \n",
      "902624                                     0.0  \n",
      "902625                                     0.0  \n",
      "902626                                     0.0  \n",
      "902627                                     0.0  \n",
      "902628                                     0.0  \n",
      "\n",
      "[902629 rows x 2 columns]\n"
     ]
    },
    {
     "data": {
      "text/plain": [
       "array([0., 0., 0., ..., 0., 0., 0.])"
      ]
     },
     "metadata": {},
     "output_type": "display_data"
    },
    {
     "name": "stderr",
     "output_type": "stream",
     "text": [
      " 71%|███████   | 95/134 [09:41<03:20,  5.13s/it]"
     ]
    },
    {
     "name": "stdout",
     "output_type": "stream",
     "text": [
      "Image saved to: \n",
      " /Volumes/One Touch/BWH_PD_DBS_MixedTarget/vtas/sub-0238/stimulation\n",
      "\n",
      " ***Processed: /Volumes/One Touch/BWH_PD_DBS_MixedTarget/vtas/sub-0238\n",
      "Attempting to import from: /Volumes/One Touch/BWH_PD_DBS_MixedTarget/vtas/sub-0242/stimulation/*copy_mni152.nii\n",
      "        sub-CbctDbs0242_hemi-R_copy_mni152.nii  \\\n",
      "0                                          0.0   \n",
      "1                                          0.0   \n",
      "2                                          0.0   \n",
      "3                                          0.0   \n",
      "4                                          0.0   \n",
      "...                                        ...   \n",
      "902624                                     0.0   \n",
      "902625                                     0.0   \n",
      "902626                                     0.0   \n",
      "902627                                     0.0   \n",
      "902628                                     0.0   \n",
      "\n",
      "        sub-CbctDbs0242_hemi-L_copy_mni152.nii  \n",
      "0                                          0.0  \n",
      "1                                          0.0  \n",
      "2                                          0.0  \n",
      "3                                          0.0  \n",
      "4                                          0.0  \n",
      "...                                        ...  \n",
      "902624                                     0.0  \n",
      "902625                                     0.0  \n",
      "902626                                     0.0  \n",
      "902627                                     0.0  \n",
      "902628                                     0.0  \n",
      "\n",
      "[902629 rows x 2 columns]\n"
     ]
    },
    {
     "data": {
      "text/plain": [
       "array([0., 0., 0., ..., 0., 0., 0.])"
      ]
     },
     "metadata": {},
     "output_type": "display_data"
    },
    {
     "name": "stderr",
     "output_type": "stream",
     "text": [
      " 72%|███████▏  | 96/134 [09:44<02:56,  4.63s/it]"
     ]
    },
    {
     "name": "stdout",
     "output_type": "stream",
     "text": [
      "Image saved to: \n",
      " /Volumes/One Touch/BWH_PD_DBS_MixedTarget/vtas/sub-0242/stimulation\n",
      "\n",
      " ***Processed: /Volumes/One Touch/BWH_PD_DBS_MixedTarget/vtas/sub-0242\n",
      "Attempting to import from: /Volumes/One Touch/BWH_PD_DBS_MixedTarget/vtas/sub-0243/stimulation/*copy_mni152.nii\n",
      "        sub-CbctDbs0243_hemi-R_copy_mni152.nii  \\\n",
      "0                                          0.0   \n",
      "1                                          0.0   \n",
      "2                                          0.0   \n",
      "3                                          0.0   \n",
      "4                                          0.0   \n",
      "...                                        ...   \n",
      "902624                                     0.0   \n",
      "902625                                     0.0   \n",
      "902626                                     0.0   \n",
      "902627                                     0.0   \n",
      "902628                                     0.0   \n",
      "\n",
      "        sub-CbctDbs0243_hemi-L_copy_mni152.nii  \n",
      "0                                          0.0  \n",
      "1                                          0.0  \n",
      "2                                          0.0  \n",
      "3                                          0.0  \n",
      "4                                          0.0  \n",
      "...                                        ...  \n",
      "902624                                     0.0  \n",
      "902625                                     0.0  \n",
      "902626                                     0.0  \n",
      "902627                                     0.0  \n",
      "902628                                     0.0  \n",
      "\n",
      "[902629 rows x 2 columns]\n"
     ]
    },
    {
     "data": {
      "text/plain": [
       "array([0., 0., 0., ..., 0., 0., 0.])"
      ]
     },
     "metadata": {},
     "output_type": "display_data"
    },
    {
     "name": "stderr",
     "output_type": "stream",
     "text": [
      " 72%|███████▏  | 97/134 [09:46<02:18,  3.75s/it]"
     ]
    },
    {
     "name": "stdout",
     "output_type": "stream",
     "text": [
      "Image saved to: \n",
      " /Volumes/One Touch/BWH_PD_DBS_MixedTarget/vtas/sub-0243/stimulation\n",
      "\n",
      " ***Processed: /Volumes/One Touch/BWH_PD_DBS_MixedTarget/vtas/sub-0243\n",
      "Missing file(s) in /Volumes/One Touch/BWH_PD_DBS_MixedTarget/vtas/sub-0246\n",
      "Attempting to import from: /Volumes/One Touch/BWH_PD_DBS_MixedTarget/vtas/sub-0247/stimulation/*copy_mni152.nii\n",
      "        sub-CbctDbs0247_hemi-R_copy_mni152.nii  \\\n",
      "0                                          0.0   \n",
      "1                                          0.0   \n",
      "2                                          0.0   \n",
      "3                                          0.0   \n",
      "4                                          0.0   \n",
      "...                                        ...   \n",
      "902624                                     0.0   \n",
      "902625                                     0.0   \n",
      "902626                                     0.0   \n",
      "902627                                     0.0   \n",
      "902628                                     0.0   \n",
      "\n",
      "        sub-CbctDbs0247_hemi-L_copy_mni152.nii  \n",
      "0                                          0.0  \n",
      "1                                          0.0  \n",
      "2                                          0.0  \n",
      "3                                          0.0  \n",
      "4                                          0.0  \n",
      "...                                        ...  \n",
      "902624                                     0.0  \n",
      "902625                                     0.0  \n",
      "902626                                     0.0  \n",
      "902627                                     0.0  \n",
      "902628                                     0.0  \n",
      "\n",
      "[902629 rows x 2 columns]\n"
     ]
    },
    {
     "data": {
      "text/plain": [
       "array([0., 0., 0., ..., 0., 0., 0.])"
      ]
     },
     "metadata": {},
     "output_type": "display_data"
    },
    {
     "name": "stdout",
     "output_type": "stream",
     "text": [
      "Image saved to: \n",
      " /Volumes/One Touch/BWH_PD_DBS_MixedTarget/vtas/sub-0247/stimulation\n"
     ]
    },
    {
     "name": "stderr",
     "output_type": "stream",
     "text": [
      " 74%|███████▍  | 99/134 [09:54<02:10,  3.72s/it]"
     ]
    },
    {
     "name": "stdout",
     "output_type": "stream",
     "text": [
      "\n",
      " ***Processed: /Volumes/One Touch/BWH_PD_DBS_MixedTarget/vtas/sub-0247\n",
      "Attempting to import from: /Volumes/One Touch/BWH_PD_DBS_MixedTarget/vtas/sub-0248/stimulation/*copy_mni152.nii\n",
      "        sub-CbctDbs0248_hemi-R_copy_mni152.nii  \\\n",
      "0                                          0.0   \n",
      "1                                          0.0   \n",
      "2                                          0.0   \n",
      "3                                          0.0   \n",
      "4                                          0.0   \n",
      "...                                        ...   \n",
      "902624                                     0.0   \n",
      "902625                                     0.0   \n",
      "902626                                     0.0   \n",
      "902627                                     0.0   \n",
      "902628                                     0.0   \n",
      "\n",
      "        sub-CbctDbs0248_hemi-L_copy_mni152.nii  \n",
      "0                                          0.0  \n",
      "1                                          0.0  \n",
      "2                                          0.0  \n",
      "3                                          0.0  \n",
      "4                                          0.0  \n",
      "...                                        ...  \n",
      "902624                                     0.0  \n",
      "902625                                     0.0  \n",
      "902626                                     0.0  \n",
      "902627                                     0.0  \n",
      "902628                                     0.0  \n",
      "\n",
      "[902629 rows x 2 columns]\n"
     ]
    },
    {
     "data": {
      "text/plain": [
       "array([0., 0., 0., ..., 0., 0., 0.])"
      ]
     },
     "metadata": {},
     "output_type": "display_data"
    },
    {
     "name": "stderr",
     "output_type": "stream",
     "text": [
      " 75%|███████▍  | 100/134 [09:59<02:21,  4.17s/it]"
     ]
    },
    {
     "name": "stdout",
     "output_type": "stream",
     "text": [
      "Image saved to: \n",
      " /Volumes/One Touch/BWH_PD_DBS_MixedTarget/vtas/sub-0248/stimulation\n",
      "\n",
      " ***Processed: /Volumes/One Touch/BWH_PD_DBS_MixedTarget/vtas/sub-0248\n",
      "Attempting to import from: /Volumes/One Touch/BWH_PD_DBS_MixedTarget/vtas/sub-0249/stimulation/*copy_mni152.nii\n",
      "        sub-CbctDbs0249_hemi-R_copy_mni152.nii  \\\n",
      "0                                          0.0   \n",
      "1                                          0.0   \n",
      "2                                          0.0   \n",
      "3                                          0.0   \n",
      "4                                          0.0   \n",
      "...                                        ...   \n",
      "902624                                     0.0   \n",
      "902625                                     0.0   \n",
      "902626                                     0.0   \n",
      "902627                                     0.0   \n",
      "902628                                     0.0   \n",
      "\n",
      "        sub-CbctDbs0249_hemi-L_copy_mni152.nii  \n",
      "0                                          0.0  \n",
      "1                                          0.0  \n",
      "2                                          0.0  \n",
      "3                                          0.0  \n",
      "4                                          0.0  \n",
      "...                                        ...  \n",
      "902624                                     0.0  \n",
      "902625                                     0.0  \n",
      "902626                                     0.0  \n",
      "902627                                     0.0  \n",
      "902628                                     0.0  \n",
      "\n",
      "[902629 rows x 2 columns]\n"
     ]
    },
    {
     "data": {
      "text/plain": [
       "array([0., 0., 0., ..., 0., 0., 0.])"
      ]
     },
     "metadata": {},
     "output_type": "display_data"
    },
    {
     "name": "stdout",
     "output_type": "stream",
     "text": [
      "Image saved to: \n",
      " /Volumes/One Touch/BWH_PD_DBS_MixedTarget/vtas/sub-0249/stimulation\n"
     ]
    },
    {
     "name": "stderr",
     "output_type": "stream",
     "text": [
      " 75%|███████▌  | 101/134 [10:04<02:27,  4.46s/it]"
     ]
    },
    {
     "name": "stdout",
     "output_type": "stream",
     "text": [
      "\n",
      " ***Processed: /Volumes/One Touch/BWH_PD_DBS_MixedTarget/vtas/sub-0249\n",
      "Attempting to import from: /Volumes/One Touch/BWH_PD_DBS_MixedTarget/vtas/sub-0251/stimulation/*copy_mni152.nii\n",
      "        sub-CbctDbs0251_hemi-R_copy_mni152.nii  \\\n",
      "0                                          0.0   \n",
      "1                                          0.0   \n",
      "2                                          0.0   \n",
      "3                                          0.0   \n",
      "4                                          0.0   \n",
      "...                                        ...   \n",
      "902624                                     0.0   \n",
      "902625                                     0.0   \n",
      "902626                                     0.0   \n",
      "902627                                     0.0   \n",
      "902628                                     0.0   \n",
      "\n",
      "        sub-CbctDbs0251_hemi-L_copy_mni152.nii  \n",
      "0                                          0.0  \n",
      "1                                          0.0  \n",
      "2                                          0.0  \n",
      "3                                          0.0  \n",
      "4                                          0.0  \n",
      "...                                        ...  \n",
      "902624                                     0.0  \n",
      "902625                                     0.0  \n",
      "902626                                     0.0  \n",
      "902627                                     0.0  \n",
      "902628                                     0.0  \n",
      "\n",
      "[902629 rows x 2 columns]\n"
     ]
    },
    {
     "data": {
      "text/plain": [
       "array([0., 0., 0., ..., 0., 0., 0.])"
      ]
     },
     "metadata": {},
     "output_type": "display_data"
    },
    {
     "name": "stdout",
     "output_type": "stream",
     "text": [
      "Image saved to: \n",
      " /Volumes/One Touch/BWH_PD_DBS_MixedTarget/vtas/sub-0251/stimulation\n"
     ]
    },
    {
     "name": "stderr",
     "output_type": "stream",
     "text": [
      " 76%|███████▌  | 102/134 [10:11<02:41,  5.06s/it]"
     ]
    },
    {
     "name": "stdout",
     "output_type": "stream",
     "text": [
      "\n",
      " ***Processed: /Volumes/One Touch/BWH_PD_DBS_MixedTarget/vtas/sub-0251\n",
      "Attempting to import from: /Volumes/One Touch/BWH_PD_DBS_MixedTarget/vtas/sub-0254/stimulation/*copy_mni152.nii\n",
      "        sub-CbctDbs0254_hemi-R_copy_mni152.nii  \\\n",
      "0                                          0.0   \n",
      "1                                          0.0   \n",
      "2                                          0.0   \n",
      "3                                          0.0   \n",
      "4                                          0.0   \n",
      "...                                        ...   \n",
      "902624                                     0.0   \n",
      "902625                                     0.0   \n",
      "902626                                     0.0   \n",
      "902627                                     0.0   \n",
      "902628                                     0.0   \n",
      "\n",
      "        sub-CbctDbs0254_hemi-L_copy_mni152.nii  \n",
      "0                                          0.0  \n",
      "1                                          0.0  \n",
      "2                                          0.0  \n",
      "3                                          0.0  \n",
      "4                                          0.0  \n",
      "...                                        ...  \n",
      "902624                                     0.0  \n",
      "902625                                     0.0  \n",
      "902626                                     0.0  \n",
      "902627                                     0.0  \n",
      "902628                                     0.0  \n",
      "\n",
      "[902629 rows x 2 columns]\n"
     ]
    },
    {
     "data": {
      "text/plain": [
       "array([0., 0., 0., ..., 0., 0., 0.])"
      ]
     },
     "metadata": {},
     "output_type": "display_data"
    },
    {
     "name": "stdout",
     "output_type": "stream",
     "text": [
      "Image saved to: \n",
      " /Volumes/One Touch/BWH_PD_DBS_MixedTarget/vtas/sub-0254/stimulation\n"
     ]
    },
    {
     "name": "stderr",
     "output_type": "stream",
     "text": [
      " 77%|███████▋  | 103/134 [10:18<02:55,  5.65s/it]"
     ]
    },
    {
     "name": "stdout",
     "output_type": "stream",
     "text": [
      "\n",
      " ***Processed: /Volumes/One Touch/BWH_PD_DBS_MixedTarget/vtas/sub-0254\n",
      "Attempting to import from: /Volumes/One Touch/BWH_PD_DBS_MixedTarget/vtas/sub-0255/stimulation/*copy_mni152.nii\n",
      "        sub-CbctDbs0255_hemi-R_copy_mni152.nii  \\\n",
      "0                                          0.0   \n",
      "1                                          0.0   \n",
      "2                                          0.0   \n",
      "3                                          0.0   \n",
      "4                                          0.0   \n",
      "...                                        ...   \n",
      "902624                                     0.0   \n",
      "902625                                     0.0   \n",
      "902626                                     0.0   \n",
      "902627                                     0.0   \n",
      "902628                                     0.0   \n",
      "\n",
      "        sub-CbctDbs0255_hemi-L_copy_mni152.nii  \n",
      "0                                          0.0  \n",
      "1                                          0.0  \n",
      "2                                          0.0  \n",
      "3                                          0.0  \n",
      "4                                          0.0  \n",
      "...                                        ...  \n",
      "902624                                     0.0  \n",
      "902625                                     0.0  \n",
      "902626                                     0.0  \n",
      "902627                                     0.0  \n",
      "902628                                     0.0  \n",
      "\n",
      "[902629 rows x 2 columns]\n"
     ]
    },
    {
     "data": {
      "text/plain": [
       "array([0., 0., 0., ..., 0., 0., 0.])"
      ]
     },
     "metadata": {},
     "output_type": "display_data"
    },
    {
     "name": "stdout",
     "output_type": "stream",
     "text": [
      "Image saved to: \n",
      " /Volumes/One Touch/BWH_PD_DBS_MixedTarget/vtas/sub-0255/stimulation\n"
     ]
    },
    {
     "name": "stderr",
     "output_type": "stream",
     "text": [
      " 78%|███████▊  | 104/134 [10:26<03:05,  6.19s/it]"
     ]
    },
    {
     "name": "stdout",
     "output_type": "stream",
     "text": [
      "\n",
      " ***Processed: /Volumes/One Touch/BWH_PD_DBS_MixedTarget/vtas/sub-0255\n",
      "Attempting to import from: /Volumes/One Touch/BWH_PD_DBS_MixedTarget/vtas/sub-0256/stimulation/*copy_mni152.nii\n",
      "        sub-CbctDbs0256_hemi-R_copy_mni152.nii  \\\n",
      "0                                          0.0   \n",
      "1                                          0.0   \n",
      "2                                          0.0   \n",
      "3                                          0.0   \n",
      "4                                          0.0   \n",
      "...                                        ...   \n",
      "902624                                     0.0   \n",
      "902625                                     0.0   \n",
      "902626                                     0.0   \n",
      "902627                                     0.0   \n",
      "902628                                     0.0   \n",
      "\n",
      "        sub-CbctDbs0256_hemi-L_copy_mni152.nii  \n",
      "0                                          0.0  \n",
      "1                                          0.0  \n",
      "2                                          0.0  \n",
      "3                                          0.0  \n",
      "4                                          0.0  \n",
      "...                                        ...  \n",
      "902624                                     0.0  \n",
      "902625                                     0.0  \n",
      "902626                                     0.0  \n",
      "902627                                     0.0  \n",
      "902628                                     0.0  \n",
      "\n",
      "[902629 rows x 2 columns]\n"
     ]
    },
    {
     "data": {
      "text/plain": [
       "array([0., 0., 0., ..., 0., 0., 0.])"
      ]
     },
     "metadata": {},
     "output_type": "display_data"
    },
    {
     "name": "stdout",
     "output_type": "stream",
     "text": [
      "Image saved to: \n",
      " /Volumes/One Touch/BWH_PD_DBS_MixedTarget/vtas/sub-0256/stimulation\n"
     ]
    },
    {
     "name": "stderr",
     "output_type": "stream",
     "text": [
      " 78%|███████▊  | 105/134 [10:36<03:33,  7.35s/it]"
     ]
    },
    {
     "name": "stdout",
     "output_type": "stream",
     "text": [
      "\n",
      " ***Processed: /Volumes/One Touch/BWH_PD_DBS_MixedTarget/vtas/sub-0256\n",
      "Attempting to import from: /Volumes/One Touch/BWH_PD_DBS_MixedTarget/vtas/sub-0257/stimulation/*copy_mni152.nii\n",
      "        sub-CbctDbs0257_hemi-R_copy_mni152.nii  \\\n",
      "0                                          0.0   \n",
      "1                                          0.0   \n",
      "2                                          0.0   \n",
      "3                                          0.0   \n",
      "4                                          0.0   \n",
      "...                                        ...   \n",
      "902624                                     0.0   \n",
      "902625                                     0.0   \n",
      "902626                                     0.0   \n",
      "902627                                     0.0   \n",
      "902628                                     0.0   \n",
      "\n",
      "        sub-CbctDbs0257_hemi-L_copy_mni152.nii  \n",
      "0                                          0.0  \n",
      "1                                          0.0  \n",
      "2                                          0.0  \n",
      "3                                          0.0  \n",
      "4                                          0.0  \n",
      "...                                        ...  \n",
      "902624                                     0.0  \n",
      "902625                                     0.0  \n",
      "902626                                     0.0  \n",
      "902627                                     0.0  \n",
      "902628                                     0.0  \n",
      "\n",
      "[902629 rows x 2 columns]\n"
     ]
    },
    {
     "data": {
      "text/plain": [
       "array([0., 0., 0., ..., 0., 0., 0.])"
      ]
     },
     "metadata": {},
     "output_type": "display_data"
    },
    {
     "name": "stderr",
     "output_type": "stream",
     "text": [
      " 79%|███████▉  | 106/134 [10:43<03:27,  7.43s/it]"
     ]
    },
    {
     "name": "stdout",
     "output_type": "stream",
     "text": [
      "Image saved to: \n",
      " /Volumes/One Touch/BWH_PD_DBS_MixedTarget/vtas/sub-0257/stimulation\n",
      "\n",
      " ***Processed: /Volumes/One Touch/BWH_PD_DBS_MixedTarget/vtas/sub-0257\n",
      "Attempting to import from: /Volumes/One Touch/BWH_PD_DBS_MixedTarget/vtas/sub-0258/stimulation/*copy_mni152.nii\n",
      "        sub-CbctDbs0258_hemi-R_copy_mni152.nii  \\\n",
      "0                                          0.0   \n",
      "1                                          0.0   \n",
      "2                                          0.0   \n",
      "3                                          0.0   \n",
      "4                                          0.0   \n",
      "...                                        ...   \n",
      "902624                                     0.0   \n",
      "902625                                     0.0   \n",
      "902626                                     0.0   \n",
      "902627                                     0.0   \n",
      "902628                                     0.0   \n",
      "\n",
      "        sub-CbctDbs0258_hemi-L_copy_mni152.nii  \n",
      "0                                          0.0  \n",
      "1                                          0.0  \n",
      "2                                          0.0  \n",
      "3                                          0.0  \n",
      "4                                          0.0  \n",
      "...                                        ...  \n",
      "902624                                     0.0  \n",
      "902625                                     0.0  \n",
      "902626                                     0.0  \n",
      "902627                                     0.0  \n",
      "902628                                     0.0  \n",
      "\n",
      "[902629 rows x 2 columns]\n"
     ]
    },
    {
     "data": {
      "text/plain": [
       "array([0., 0., 0., ..., 0., 0., 0.])"
      ]
     },
     "metadata": {},
     "output_type": "display_data"
    },
    {
     "name": "stderr",
     "output_type": "stream",
     "text": [
      " 80%|███████▉  | 107/134 [10:52<03:29,  7.77s/it]"
     ]
    },
    {
     "name": "stdout",
     "output_type": "stream",
     "text": [
      "Image saved to: \n",
      " /Volumes/One Touch/BWH_PD_DBS_MixedTarget/vtas/sub-0258/stimulation\n",
      "\n",
      " ***Processed: /Volumes/One Touch/BWH_PD_DBS_MixedTarget/vtas/sub-0258\n",
      "Attempting to import from: /Volumes/One Touch/BWH_PD_DBS_MixedTarget/vtas/sub-0260/stimulation/*copy_mni152.nii\n",
      "        sub-CbctDbs0260_hemi-R_copy_mni152.nii  \\\n",
      "0                                          0.0   \n",
      "1                                          0.0   \n",
      "2                                          0.0   \n",
      "3                                          0.0   \n",
      "4                                          0.0   \n",
      "...                                        ...   \n",
      "902624                                     0.0   \n",
      "902625                                     0.0   \n",
      "902626                                     0.0   \n",
      "902627                                     0.0   \n",
      "902628                                     0.0   \n",
      "\n",
      "        sub-CbctDbs0260_hemi-L_copy_mni152.nii  \n",
      "0                                          0.0  \n",
      "1                                          0.0  \n",
      "2                                          0.0  \n",
      "3                                          0.0  \n",
      "4                                          0.0  \n",
      "...                                        ...  \n",
      "902624                                     0.0  \n",
      "902625                                     0.0  \n",
      "902626                                     0.0  \n",
      "902627                                     0.0  \n",
      "902628                                     0.0  \n",
      "\n",
      "[902629 rows x 2 columns]\n"
     ]
    },
    {
     "data": {
      "text/plain": [
       "array([0., 0., 0., ..., 0., 0., 0.])"
      ]
     },
     "metadata": {},
     "output_type": "display_data"
    },
    {
     "name": "stderr",
     "output_type": "stream",
     "text": [
      " 81%|████████  | 108/134 [11:01<03:27,  7.97s/it]"
     ]
    },
    {
     "name": "stdout",
     "output_type": "stream",
     "text": [
      "Image saved to: \n",
      " /Volumes/One Touch/BWH_PD_DBS_MixedTarget/vtas/sub-0260/stimulation\n",
      "\n",
      " ***Processed: /Volumes/One Touch/BWH_PD_DBS_MixedTarget/vtas/sub-0260\n",
      "Attempting to import from: /Volumes/One Touch/BWH_PD_DBS_MixedTarget/vtas/sub-0261/stimulation/*copy_mni152.nii\n",
      "        sub-CbctDbs0261_hemi-R_copy_mni152.nii  \\\n",
      "0                                          0.0   \n",
      "1                                          0.0   \n",
      "2                                          0.0   \n",
      "3                                          0.0   \n",
      "4                                          0.0   \n",
      "...                                        ...   \n",
      "902624                                     0.0   \n",
      "902625                                     0.0   \n",
      "902626                                     0.0   \n",
      "902627                                     0.0   \n",
      "902628                                     0.0   \n",
      "\n",
      "        sub-CbctDbs0261_hemi-L_copy_mni152.nii  \n",
      "0                                          0.0  \n",
      "1                                          0.0  \n",
      "2                                          0.0  \n",
      "3                                          0.0  \n",
      "4                                          0.0  \n",
      "...                                        ...  \n",
      "902624                                     0.0  \n",
      "902625                                     0.0  \n",
      "902626                                     0.0  \n",
      "902627                                     0.0  \n",
      "902628                                     0.0  \n",
      "\n",
      "[902629 rows x 2 columns]\n"
     ]
    },
    {
     "data": {
      "text/plain": [
       "array([0., 0., 0., ..., 0., 0., 0.])"
      ]
     },
     "metadata": {},
     "output_type": "display_data"
    },
    {
     "name": "stdout",
     "output_type": "stream",
     "text": [
      "Image saved to: \n",
      " /Volumes/One Touch/BWH_PD_DBS_MixedTarget/vtas/sub-0261/stimulation\n"
     ]
    },
    {
     "name": "stderr",
     "output_type": "stream",
     "text": [
      " 81%|████████▏ | 109/134 [11:07<03:06,  7.48s/it]"
     ]
    },
    {
     "name": "stdout",
     "output_type": "stream",
     "text": [
      "\n",
      " ***Processed: /Volumes/One Touch/BWH_PD_DBS_MixedTarget/vtas/sub-0261\n",
      "Attempting to import from: /Volumes/One Touch/BWH_PD_DBS_MixedTarget/vtas/sub-0264/stimulation/*copy_mni152.nii\n",
      "        sub-CbctDbs0264_hemi-R_copy_mni152.nii  \\\n",
      "0                                          0.0   \n",
      "1                                          0.0   \n",
      "2                                          0.0   \n",
      "3                                          0.0   \n",
      "4                                          0.0   \n",
      "...                                        ...   \n",
      "902624                                     0.0   \n",
      "902625                                     0.0   \n",
      "902626                                     0.0   \n",
      "902627                                     0.0   \n",
      "902628                                     0.0   \n",
      "\n",
      "        sub-CbctDbs0264_hemi-L_copy_mni152.nii  \n",
      "0                                          0.0  \n",
      "1                                          0.0  \n",
      "2                                          0.0  \n",
      "3                                          0.0  \n",
      "4                                          0.0  \n",
      "...                                        ...  \n",
      "902624                                     0.0  \n",
      "902625                                     0.0  \n",
      "902626                                     0.0  \n",
      "902627                                     0.0  \n",
      "902628                                     0.0  \n",
      "\n",
      "[902629 rows x 2 columns]\n"
     ]
    },
    {
     "data": {
      "text/plain": [
       "array([0., 0., 0., ..., 0., 0., 0.])"
      ]
     },
     "metadata": {},
     "output_type": "display_data"
    },
    {
     "name": "stdout",
     "output_type": "stream",
     "text": [
      "Image saved to: \n",
      " /Volumes/One Touch/BWH_PD_DBS_MixedTarget/vtas/sub-0264/stimulation\n"
     ]
    },
    {
     "name": "stderr",
     "output_type": "stream",
     "text": [
      " 82%|████████▏ | 110/134 [11:13<02:46,  6.94s/it]"
     ]
    },
    {
     "name": "stdout",
     "output_type": "stream",
     "text": [
      "\n",
      " ***Processed: /Volumes/One Touch/BWH_PD_DBS_MixedTarget/vtas/sub-0264\n",
      "Attempting to import from: /Volumes/One Touch/BWH_PD_DBS_MixedTarget/vtas/sub-0265/stimulation/*copy_mni152.nii\n",
      "        sub-CbctDbs0265_hemi-R_copy_mni152.nii  \\\n",
      "0                                          0.0   \n",
      "1                                          0.0   \n",
      "2                                          0.0   \n",
      "3                                          0.0   \n",
      "4                                          0.0   \n",
      "...                                        ...   \n",
      "902624                                     0.0   \n",
      "902625                                     0.0   \n",
      "902626                                     0.0   \n",
      "902627                                     0.0   \n",
      "902628                                     0.0   \n",
      "\n",
      "        sub-CbctDbs0265_hemi-L_copy_mni152.nii  \n",
      "0                                          0.0  \n",
      "1                                          0.0  \n",
      "2                                          0.0  \n",
      "3                                          0.0  \n",
      "4                                          0.0  \n",
      "...                                        ...  \n",
      "902624                                     0.0  \n",
      "902625                                     0.0  \n",
      "902626                                     0.0  \n",
      "902627                                     0.0  \n",
      "902628                                     0.0  \n",
      "\n",
      "[902629 rows x 2 columns]\n"
     ]
    },
    {
     "data": {
      "text/plain": [
       "array([0., 0., 0., ..., 0., 0., 0.])"
      ]
     },
     "metadata": {},
     "output_type": "display_data"
    },
    {
     "name": "stdout",
     "output_type": "stream",
     "text": [
      "Image saved to: \n",
      " /Volumes/One Touch/BWH_PD_DBS_MixedTarget/vtas/sub-0265/stimulation\n"
     ]
    },
    {
     "name": "stderr",
     "output_type": "stream",
     "text": [
      " 83%|████████▎ | 111/134 [11:24<03:11,  8.34s/it]"
     ]
    },
    {
     "name": "stdout",
     "output_type": "stream",
     "text": [
      "\n",
      " ***Processed: /Volumes/One Touch/BWH_PD_DBS_MixedTarget/vtas/sub-0265\n",
      "Attempting to import from: /Volumes/One Touch/BWH_PD_DBS_MixedTarget/vtas/sub-0266/stimulation/*copy_mni152.nii\n",
      "        sub-CbctDbs0266_hemi-R_copy_mni152.nii  \\\n",
      "0                                          0.0   \n",
      "1                                          0.0   \n",
      "2                                          0.0   \n",
      "3                                          0.0   \n",
      "4                                          0.0   \n",
      "...                                        ...   \n",
      "902624                                     0.0   \n",
      "902625                                     0.0   \n",
      "902626                                     0.0   \n",
      "902627                                     0.0   \n",
      "902628                                     0.0   \n",
      "\n",
      "        sub-CbctDbs0266_hemi-L_copy_mni152.nii  \n",
      "0                                          0.0  \n",
      "1                                          0.0  \n",
      "2                                          0.0  \n",
      "3                                          0.0  \n",
      "4                                          0.0  \n",
      "...                                        ...  \n",
      "902624                                     0.0  \n",
      "902625                                     0.0  \n",
      "902626                                     0.0  \n",
      "902627                                     0.0  \n",
      "902628                                     0.0  \n",
      "\n",
      "[902629 rows x 2 columns]\n"
     ]
    },
    {
     "data": {
      "text/plain": [
       "array([0., 0., 0., ..., 0., 0., 0.])"
      ]
     },
     "metadata": {},
     "output_type": "display_data"
    },
    {
     "name": "stdout",
     "output_type": "stream",
     "text": [
      "Image saved to: \n",
      " /Volumes/One Touch/BWH_PD_DBS_MixedTarget/vtas/sub-0266/stimulation\n"
     ]
    },
    {
     "name": "stderr",
     "output_type": "stream",
     "text": [
      " 84%|████████▎ | 112/134 [11:34<03:14,  8.84s/it]"
     ]
    },
    {
     "name": "stdout",
     "output_type": "stream",
     "text": [
      "\n",
      " ***Processed: /Volumes/One Touch/BWH_PD_DBS_MixedTarget/vtas/sub-0266\n",
      "Attempting to import from: /Volumes/One Touch/BWH_PD_DBS_MixedTarget/vtas/sub-0267/stimulation/*copy_mni152.nii\n",
      "        sub-CbctDbs0267_hemi-R_copy_mni152.nii  \\\n",
      "0                                          0.0   \n",
      "1                                          0.0   \n",
      "2                                          0.0   \n",
      "3                                          0.0   \n",
      "4                                          0.0   \n",
      "...                                        ...   \n",
      "902624                                     0.0   \n",
      "902625                                     0.0   \n",
      "902626                                     0.0   \n",
      "902627                                     0.0   \n",
      "902628                                     0.0   \n",
      "\n",
      "        sub-CbctDbs0267_hemi-L_copy_mni152.nii  \n",
      "0                                          0.0  \n",
      "1                                          0.0  \n",
      "2                                          0.0  \n",
      "3                                          0.0  \n",
      "4                                          0.0  \n",
      "...                                        ...  \n",
      "902624                                     0.0  \n",
      "902625                                     0.0  \n",
      "902626                                     0.0  \n",
      "902627                                     0.0  \n",
      "902628                                     0.0  \n",
      "\n",
      "[902629 rows x 2 columns]\n"
     ]
    },
    {
     "data": {
      "text/plain": [
       "array([0., 0., 0., ..., 0., 0., 0.])"
      ]
     },
     "metadata": {},
     "output_type": "display_data"
    },
    {
     "name": "stderr",
     "output_type": "stream",
     "text": [
      " 84%|████████▍ | 113/134 [11:41<02:51,  8.16s/it]"
     ]
    },
    {
     "name": "stdout",
     "output_type": "stream",
     "text": [
      "Image saved to: \n",
      " /Volumes/One Touch/BWH_PD_DBS_MixedTarget/vtas/sub-0267/stimulation\n",
      "\n",
      " ***Processed: /Volumes/One Touch/BWH_PD_DBS_MixedTarget/vtas/sub-0267\n",
      "Attempting to import from: /Volumes/One Touch/BWH_PD_DBS_MixedTarget/vtas/sub-0270/stimulation/*copy_mni152.nii\n",
      "        sub-CbctDbs0270_hemi-R_copy_mni152.nii  \\\n",
      "0                                          0.0   \n",
      "1                                          0.0   \n",
      "2                                          0.0   \n",
      "3                                          0.0   \n",
      "4                                          0.0   \n",
      "...                                        ...   \n",
      "902624                                     0.0   \n",
      "902625                                     0.0   \n",
      "902626                                     0.0   \n",
      "902627                                     0.0   \n",
      "902628                                     0.0   \n",
      "\n",
      "        sub-CbctDbs0270_hemi-L_copy_mni152.nii  \n",
      "0                                          0.0  \n",
      "1                                          0.0  \n",
      "2                                          0.0  \n",
      "3                                          0.0  \n",
      "4                                          0.0  \n",
      "...                                        ...  \n",
      "902624                                     0.0  \n",
      "902625                                     0.0  \n",
      "902626                                     0.0  \n",
      "902627                                     0.0  \n",
      "902628                                     0.0  \n",
      "\n",
      "[902629 rows x 2 columns]\n"
     ]
    },
    {
     "data": {
      "text/plain": [
       "array([0., 0., 0., ..., 0., 0., 0.])"
      ]
     },
     "metadata": {},
     "output_type": "display_data"
    },
    {
     "name": "stderr",
     "output_type": "stream",
     "text": [
      " 85%|████████▌ | 114/134 [11:47<02:29,  7.48s/it]"
     ]
    },
    {
     "name": "stdout",
     "output_type": "stream",
     "text": [
      "Image saved to: \n",
      " /Volumes/One Touch/BWH_PD_DBS_MixedTarget/vtas/sub-0270/stimulation\n",
      "\n",
      " ***Processed: /Volumes/One Touch/BWH_PD_DBS_MixedTarget/vtas/sub-0270\n",
      "Attempting to import from: /Volumes/One Touch/BWH_PD_DBS_MixedTarget/vtas/sub-0272/stimulation/*copy_mni152.nii\n",
      "        sub-CbctDbs0272_hemi-R_copy_mni152.nii  \\\n",
      "0                                          0.0   \n",
      "1                                          0.0   \n",
      "2                                          0.0   \n",
      "3                                          0.0   \n",
      "4                                          0.0   \n",
      "...                                        ...   \n",
      "902624                                     0.0   \n",
      "902625                                     0.0   \n",
      "902626                                     0.0   \n",
      "902627                                     0.0   \n",
      "902628                                     0.0   \n",
      "\n",
      "        sub-CbctDbs0272_hemi-L_copy_mni152.nii  \n",
      "0                                          0.0  \n",
      "1                                          0.0  \n",
      "2                                          0.0  \n",
      "3                                          0.0  \n",
      "4                                          0.0  \n",
      "...                                        ...  \n",
      "902624                                     0.0  \n",
      "902625                                     0.0  \n",
      "902626                                     0.0  \n",
      "902627                                     0.0  \n",
      "902628                                     0.0  \n",
      "\n",
      "[902629 rows x 2 columns]\n"
     ]
    },
    {
     "data": {
      "text/plain": [
       "array([0., 0., 0., ..., 0., 0., 0.])"
      ]
     },
     "metadata": {},
     "output_type": "display_data"
    },
    {
     "name": "stdout",
     "output_type": "stream",
     "text": [
      "Image saved to: \n",
      " /Volumes/One Touch/BWH_PD_DBS_MixedTarget/vtas/sub-0272/stimulation\n"
     ]
    },
    {
     "name": "stderr",
     "output_type": "stream",
     "text": [
      " 86%|████████▌ | 115/134 [11:52<02:12,  6.95s/it]"
     ]
    },
    {
     "name": "stdout",
     "output_type": "stream",
     "text": [
      "\n",
      " ***Processed: /Volumes/One Touch/BWH_PD_DBS_MixedTarget/vtas/sub-0272\n",
      "Attempting to import from: /Volumes/One Touch/BWH_PD_DBS_MixedTarget/vtas/sub-0280/stimulation/*copy_mni152.nii\n",
      "        sub-CbctDbs0280_hemi-R_copy_mni152.nii  \\\n",
      "0                                          0.0   \n",
      "1                                          0.0   \n",
      "2                                          0.0   \n",
      "3                                          0.0   \n",
      "4                                          0.0   \n",
      "...                                        ...   \n",
      "902624                                     0.0   \n",
      "902625                                     0.0   \n",
      "902626                                     0.0   \n",
      "902627                                     0.0   \n",
      "902628                                     0.0   \n",
      "\n",
      "        sub-CbctDbs0280_hemi-L_copy_mni152.nii  \n",
      "0                                          0.0  \n",
      "1                                          0.0  \n",
      "2                                          0.0  \n",
      "3                                          0.0  \n",
      "4                                          0.0  \n",
      "...                                        ...  \n",
      "902624                                     0.0  \n",
      "902625                                     0.0  \n",
      "902626                                     0.0  \n",
      "902627                                     0.0  \n",
      "902628                                     0.0  \n",
      "\n",
      "[902629 rows x 2 columns]\n"
     ]
    },
    {
     "data": {
      "text/plain": [
       "array([0., 0., 0., ..., 0., 0., 0.])"
      ]
     },
     "metadata": {},
     "output_type": "display_data"
    },
    {
     "name": "stderr",
     "output_type": "stream",
     "text": [
      " 87%|████████▋ | 116/134 [12:01<02:12,  7.36s/it]"
     ]
    },
    {
     "name": "stdout",
     "output_type": "stream",
     "text": [
      "Image saved to: \n",
      " /Volumes/One Touch/BWH_PD_DBS_MixedTarget/vtas/sub-0280/stimulation\n",
      "\n",
      " ***Processed: /Volumes/One Touch/BWH_PD_DBS_MixedTarget/vtas/sub-0280\n",
      "Attempting to import from: /Volumes/One Touch/BWH_PD_DBS_MixedTarget/vtas/sub-0281/stimulation/*copy_mni152.nii\n",
      "        sub-CbctDbs0281_hemi-R_copy_mni152.nii  \\\n",
      "0                                          0.0   \n",
      "1                                          0.0   \n",
      "2                                          0.0   \n",
      "3                                          0.0   \n",
      "4                                          0.0   \n",
      "...                                        ...   \n",
      "902624                                     0.0   \n",
      "902625                                     0.0   \n",
      "902626                                     0.0   \n",
      "902627                                     0.0   \n",
      "902628                                     0.0   \n",
      "\n",
      "        sub-CbctDbs0281_hemi-L_copy_mni152.nii  \n",
      "0                                          0.0  \n",
      "1                                          0.0  \n",
      "2                                          0.0  \n",
      "3                                          0.0  \n",
      "4                                          0.0  \n",
      "...                                        ...  \n",
      "902624                                     0.0  \n",
      "902625                                     0.0  \n",
      "902626                                     0.0  \n",
      "902627                                     0.0  \n",
      "902628                                     0.0  \n",
      "\n",
      "[902629 rows x 2 columns]\n"
     ]
    },
    {
     "data": {
      "text/plain": [
       "array([0., 0., 0., ..., 0., 0., 0.])"
      ]
     },
     "metadata": {},
     "output_type": "display_data"
    },
    {
     "name": "stderr",
     "output_type": "stream",
     "text": [
      " 87%|████████▋ | 117/134 [12:07<02:00,  7.10s/it]"
     ]
    },
    {
     "name": "stdout",
     "output_type": "stream",
     "text": [
      "Image saved to: \n",
      " /Volumes/One Touch/BWH_PD_DBS_MixedTarget/vtas/sub-0281/stimulation\n",
      "\n",
      " ***Processed: /Volumes/One Touch/BWH_PD_DBS_MixedTarget/vtas/sub-0281\n",
      "Attempting to import from: /Volumes/One Touch/BWH_PD_DBS_MixedTarget/vtas/sub-0282/stimulation/*copy_mni152.nii\n",
      "        sub-CbctDbs0282_hemi-R_copy_mni152.nii  \\\n",
      "0                                          0.0   \n",
      "1                                          0.0   \n",
      "2                                          0.0   \n",
      "3                                          0.0   \n",
      "4                                          0.0   \n",
      "...                                        ...   \n",
      "902624                                     0.0   \n",
      "902625                                     0.0   \n",
      "902626                                     0.0   \n",
      "902627                                     0.0   \n",
      "902628                                     0.0   \n",
      "\n",
      "        sub-CbctDbs0282_hemi-L_copy_mni152.nii  \n",
      "0                                          0.0  \n",
      "1                                          0.0  \n",
      "2                                          0.0  \n",
      "3                                          0.0  \n",
      "4                                          0.0  \n",
      "...                                        ...  \n",
      "902624                                     0.0  \n",
      "902625                                     0.0  \n",
      "902626                                     0.0  \n",
      "902627                                     0.0  \n",
      "902628                                     0.0  \n",
      "\n",
      "[902629 rows x 2 columns]\n"
     ]
    },
    {
     "data": {
      "text/plain": [
       "array([0., 0., 0., ..., 0., 0., 0.])"
      ]
     },
     "metadata": {},
     "output_type": "display_data"
    },
    {
     "name": "stderr",
     "output_type": "stream",
     "text": [
      " 88%|████████▊ | 118/134 [12:12<01:40,  6.30s/it]"
     ]
    },
    {
     "name": "stdout",
     "output_type": "stream",
     "text": [
      "Image saved to: \n",
      " /Volumes/One Touch/BWH_PD_DBS_MixedTarget/vtas/sub-0282/stimulation\n",
      "\n",
      " ***Processed: /Volumes/One Touch/BWH_PD_DBS_MixedTarget/vtas/sub-0282\n",
      "Attempting to import from: /Volumes/One Touch/BWH_PD_DBS_MixedTarget/vtas/sub-0283/stimulation/*copy_mni152.nii\n",
      "        sub-CbctDbs0283_hemi-R_copy_mni152.nii  \\\n",
      "0                                          0.0   \n",
      "1                                          0.0   \n",
      "2                                          0.0   \n",
      "3                                          0.0   \n",
      "4                                          0.0   \n",
      "...                                        ...   \n",
      "902624                                     0.0   \n",
      "902625                                     0.0   \n",
      "902626                                     0.0   \n",
      "902627                                     0.0   \n",
      "902628                                     0.0   \n",
      "\n",
      "        sub-CbctDbs0283_hemi-L_copy_mni152.nii  \n",
      "0                                          0.0  \n",
      "1                                          0.0  \n",
      "2                                          0.0  \n",
      "3                                          0.0  \n",
      "4                                          0.0  \n",
      "...                                        ...  \n",
      "902624                                     0.0  \n",
      "902625                                     0.0  \n",
      "902626                                     0.0  \n",
      "902627                                     0.0  \n",
      "902628                                     0.0  \n",
      "\n",
      "[902629 rows x 2 columns]\n"
     ]
    },
    {
     "data": {
      "text/plain": [
       "array([0., 0., 0., ..., 0., 0., 0.])"
      ]
     },
     "metadata": {},
     "output_type": "display_data"
    },
    {
     "name": "stderr",
     "output_type": "stream",
     "text": [
      " 89%|████████▉ | 119/134 [12:18<01:34,  6.30s/it]"
     ]
    },
    {
     "name": "stdout",
     "output_type": "stream",
     "text": [
      "Image saved to: \n",
      " /Volumes/One Touch/BWH_PD_DBS_MixedTarget/vtas/sub-0283/stimulation\n",
      "\n",
      " ***Processed: /Volumes/One Touch/BWH_PD_DBS_MixedTarget/vtas/sub-0283\n",
      "Attempting to import from: /Volumes/One Touch/BWH_PD_DBS_MixedTarget/vtas/sub-0287/stimulation/*copy_mni152.nii\n",
      "        sub-CbctDbs0287_hemi-R_copy_mni152.nii  \\\n",
      "0                                          0.0   \n",
      "1                                          0.0   \n",
      "2                                          0.0   \n",
      "3                                          0.0   \n",
      "4                                          0.0   \n",
      "...                                        ...   \n",
      "902624                                     0.0   \n",
      "902625                                     0.0   \n",
      "902626                                     0.0   \n",
      "902627                                     0.0   \n",
      "902628                                     0.0   \n",
      "\n",
      "        sub-CbctDbs0287_hemi-L_copy_mni152.nii  \n",
      "0                                          0.0  \n",
      "1                                          0.0  \n",
      "2                                          0.0  \n",
      "3                                          0.0  \n",
      "4                                          0.0  \n",
      "...                                        ...  \n",
      "902624                                     0.0  \n",
      "902625                                     0.0  \n",
      "902626                                     0.0  \n",
      "902627                                     0.0  \n",
      "902628                                     0.0  \n",
      "\n",
      "[902629 rows x 2 columns]\n"
     ]
    },
    {
     "data": {
      "text/plain": [
       "array([0., 0., 0., ..., 0., 0., 0.])"
      ]
     },
     "metadata": {},
     "output_type": "display_data"
    },
    {
     "name": "stderr",
     "output_type": "stream",
     "text": [
      " 90%|████████▉ | 120/134 [12:23<01:22,  5.89s/it]"
     ]
    },
    {
     "name": "stdout",
     "output_type": "stream",
     "text": [
      "Image saved to: \n",
      " /Volumes/One Touch/BWH_PD_DBS_MixedTarget/vtas/sub-0287/stimulation\n",
      "\n",
      " ***Processed: /Volumes/One Touch/BWH_PD_DBS_MixedTarget/vtas/sub-0287\n",
      "Attempting to import from: /Volumes/One Touch/BWH_PD_DBS_MixedTarget/vtas/sub-0288/stimulation/*copy_mni152.nii\n",
      "        sub-CbctDbs0288_hemi-R_copy_mni152.nii  \\\n",
      "0                                          0.0   \n",
      "1                                          0.0   \n",
      "2                                          0.0   \n",
      "3                                          0.0   \n",
      "4                                          0.0   \n",
      "...                                        ...   \n",
      "902624                                     0.0   \n",
      "902625                                     0.0   \n",
      "902626                                     0.0   \n",
      "902627                                     0.0   \n",
      "902628                                     0.0   \n",
      "\n",
      "        sub-CbctDbs0288_hemi-L_copy_mni152.nii  \n",
      "0                                          0.0  \n",
      "1                                          0.0  \n",
      "2                                          0.0  \n",
      "3                                          0.0  \n",
      "4                                          0.0  \n",
      "...                                        ...  \n",
      "902624                                     0.0  \n",
      "902625                                     0.0  \n",
      "902626                                     0.0  \n",
      "902627                                     0.0  \n",
      "902628                                     0.0  \n",
      "\n",
      "[902629 rows x 2 columns]\n"
     ]
    },
    {
     "data": {
      "text/plain": [
       "array([0., 0., 0., ..., 0., 0., 0.])"
      ]
     },
     "metadata": {},
     "output_type": "display_data"
    },
    {
     "name": "stderr",
     "output_type": "stream",
     "text": [
      " 90%|█████████ | 121/134 [12:29<01:16,  5.86s/it]"
     ]
    },
    {
     "name": "stdout",
     "output_type": "stream",
     "text": [
      "Image saved to: \n",
      " /Volumes/One Touch/BWH_PD_DBS_MixedTarget/vtas/sub-0288/stimulation\n",
      "\n",
      " ***Processed: /Volumes/One Touch/BWH_PD_DBS_MixedTarget/vtas/sub-0288\n",
      "Attempting to import from: /Volumes/One Touch/BWH_PD_DBS_MixedTarget/vtas/sub-0289/stimulation/*copy_mni152.nii\n",
      "        sub-CbctDbs0289_hemi-R_copy_mni152.nii  \\\n",
      "0                                          0.0   \n",
      "1                                          0.0   \n",
      "2                                          0.0   \n",
      "3                                          0.0   \n",
      "4                                          0.0   \n",
      "...                                        ...   \n",
      "902624                                     0.0   \n",
      "902625                                     0.0   \n",
      "902626                                     0.0   \n",
      "902627                                     0.0   \n",
      "902628                                     0.0   \n",
      "\n",
      "        sub-CbctDbs0289_hemi-L_copy_mni152.nii  \n",
      "0                                          0.0  \n",
      "1                                          0.0  \n",
      "2                                          0.0  \n",
      "3                                          0.0  \n",
      "4                                          0.0  \n",
      "...                                        ...  \n",
      "902624                                     0.0  \n",
      "902625                                     0.0  \n",
      "902626                                     0.0  \n",
      "902627                                     0.0  \n",
      "902628                                     0.0  \n",
      "\n",
      "[902629 rows x 2 columns]\n"
     ]
    },
    {
     "data": {
      "text/plain": [
       "array([0., 0., 0., ..., 0., 0., 0.])"
      ]
     },
     "metadata": {},
     "output_type": "display_data"
    },
    {
     "name": "stderr",
     "output_type": "stream",
     "text": [
      " 91%|█████████ | 122/134 [12:38<01:22,  6.85s/it]"
     ]
    },
    {
     "name": "stdout",
     "output_type": "stream",
     "text": [
      "Image saved to: \n",
      " /Volumes/One Touch/BWH_PD_DBS_MixedTarget/vtas/sub-0289/stimulation\n",
      "\n",
      " ***Processed: /Volumes/One Touch/BWH_PD_DBS_MixedTarget/vtas/sub-0289\n",
      "Attempting to import from: /Volumes/One Touch/BWH_PD_DBS_MixedTarget/vtas/sub-0290/stimulation/*copy_mni152.nii\n",
      "        sub-CbctDbs0290_hemi-R_copy_mni152.nii  \\\n",
      "0                                          0.0   \n",
      "1                                          0.0   \n",
      "2                                          0.0   \n",
      "3                                          0.0   \n",
      "4                                          0.0   \n",
      "...                                        ...   \n",
      "902624                                     0.0   \n",
      "902625                                     0.0   \n",
      "902626                                     0.0   \n",
      "902627                                     0.0   \n",
      "902628                                     0.0   \n",
      "\n",
      "        sub-CbctDbs0290_hemi-L_copy_mni152.nii  \n",
      "0                                          0.0  \n",
      "1                                          0.0  \n",
      "2                                          0.0  \n",
      "3                                          0.0  \n",
      "4                                          0.0  \n",
      "...                                        ...  \n",
      "902624                                     0.0  \n",
      "902625                                     0.0  \n",
      "902626                                     0.0  \n",
      "902627                                     0.0  \n",
      "902628                                     0.0  \n",
      "\n",
      "[902629 rows x 2 columns]\n"
     ]
    },
    {
     "data": {
      "text/plain": [
       "array([0., 0., 0., ..., 0., 0., 0.])"
      ]
     },
     "metadata": {},
     "output_type": "display_data"
    },
    {
     "name": "stderr",
     "output_type": "stream",
     "text": [
      " 92%|█████████▏| 123/134 [12:45<01:17,  7.04s/it]"
     ]
    },
    {
     "name": "stdout",
     "output_type": "stream",
     "text": [
      "Image saved to: \n",
      " /Volumes/One Touch/BWH_PD_DBS_MixedTarget/vtas/sub-0290/stimulation\n",
      "\n",
      " ***Processed: /Volumes/One Touch/BWH_PD_DBS_MixedTarget/vtas/sub-0290\n",
      "Attempting to import from: /Volumes/One Touch/BWH_PD_DBS_MixedTarget/vtas/sub-0291/stimulation/*copy_mni152.nii\n",
      "        sub-CbctDbs0291_hemi-R_copy_mni152.nii  \\\n",
      "0                                          0.0   \n",
      "1                                          0.0   \n",
      "2                                          0.0   \n",
      "3                                          0.0   \n",
      "4                                          0.0   \n",
      "...                                        ...   \n",
      "902624                                     0.0   \n",
      "902625                                     0.0   \n",
      "902626                                     0.0   \n",
      "902627                                     0.0   \n",
      "902628                                     0.0   \n",
      "\n",
      "        sub-CbctDbs0291_hemi-L_copy_mni152.nii  \n",
      "0                                          0.0  \n",
      "1                                          0.0  \n",
      "2                                          0.0  \n",
      "3                                          0.0  \n",
      "4                                          0.0  \n",
      "...                                        ...  \n",
      "902624                                     0.0  \n",
      "902625                                     0.0  \n",
      "902626                                     0.0  \n",
      "902627                                     0.0  \n",
      "902628                                     0.0  \n",
      "\n",
      "[902629 rows x 2 columns]\n"
     ]
    },
    {
     "data": {
      "text/plain": [
       "array([0., 0., 0., ..., 0., 0., 0.])"
      ]
     },
     "metadata": {},
     "output_type": "display_data"
    },
    {
     "name": "stderr",
     "output_type": "stream",
     "text": [
      " 93%|█████████▎| 124/134 [12:53<01:13,  7.38s/it]"
     ]
    },
    {
     "name": "stdout",
     "output_type": "stream",
     "text": [
      "Image saved to: \n",
      " /Volumes/One Touch/BWH_PD_DBS_MixedTarget/vtas/sub-0291/stimulation\n",
      "\n",
      " ***Processed: /Volumes/One Touch/BWH_PD_DBS_MixedTarget/vtas/sub-0291\n",
      "Attempting to import from: /Volumes/One Touch/BWH_PD_DBS_MixedTarget/vtas/sub-0293/stimulation/*copy_mni152.nii\n",
      "        sub-CbctDbs0293_hemi-R_copy_mni152.nii  \\\n",
      "0                                          0.0   \n",
      "1                                          0.0   \n",
      "2                                          0.0   \n",
      "3                                          0.0   \n",
      "4                                          0.0   \n",
      "...                                        ...   \n",
      "902624                                     0.0   \n",
      "902625                                     0.0   \n",
      "902626                                     0.0   \n",
      "902627                                     0.0   \n",
      "902628                                     0.0   \n",
      "\n",
      "        sub-CbctDbs0293_hemi-L_copy_mni152.nii  \n",
      "0                                          0.0  \n",
      "1                                          0.0  \n",
      "2                                          0.0  \n",
      "3                                          0.0  \n",
      "4                                          0.0  \n",
      "...                                        ...  \n",
      "902624                                     0.0  \n",
      "902625                                     0.0  \n",
      "902626                                     0.0  \n",
      "902627                                     0.0  \n",
      "902628                                     0.0  \n",
      "\n",
      "[902629 rows x 2 columns]\n"
     ]
    },
    {
     "data": {
      "text/plain": [
       "array([0., 0., 0., ..., 0., 0., 0.])"
      ]
     },
     "metadata": {},
     "output_type": "display_data"
    },
    {
     "name": "stdout",
     "output_type": "stream",
     "text": [
      "Image saved to: \n",
      " /Volumes/One Touch/BWH_PD_DBS_MixedTarget/vtas/sub-0293/stimulation\n"
     ]
    },
    {
     "name": "stderr",
     "output_type": "stream",
     "text": [
      " 93%|█████████▎| 125/134 [13:03<01:12,  8.08s/it]"
     ]
    },
    {
     "name": "stdout",
     "output_type": "stream",
     "text": [
      "\n",
      " ***Processed: /Volumes/One Touch/BWH_PD_DBS_MixedTarget/vtas/sub-0293\n",
      "Attempting to import from: /Volumes/One Touch/BWH_PD_DBS_MixedTarget/vtas/sub-0294/stimulation/*copy_mni152.nii\n",
      "        sub-CbctDbs0294_hemi-R_copy_mni152.nii  \\\n",
      "0                                          0.0   \n",
      "1                                          0.0   \n",
      "2                                          0.0   \n",
      "3                                          0.0   \n",
      "4                                          0.0   \n",
      "...                                        ...   \n",
      "902624                                     0.0   \n",
      "902625                                     0.0   \n",
      "902626                                     0.0   \n",
      "902627                                     0.0   \n",
      "902628                                     0.0   \n",
      "\n",
      "        sub-CbctDbs0294_hemi-L_copy_mni152.nii  \n",
      "0                                          0.0  \n",
      "1                                          0.0  \n",
      "2                                          0.0  \n",
      "3                                          0.0  \n",
      "4                                          0.0  \n",
      "...                                        ...  \n",
      "902624                                     0.0  \n",
      "902625                                     0.0  \n",
      "902626                                     0.0  \n",
      "902627                                     0.0  \n",
      "902628                                     0.0  \n",
      "\n",
      "[902629 rows x 2 columns]\n"
     ]
    },
    {
     "data": {
      "text/plain": [
       "array([0., 0., 0., ..., 0., 0., 0.])"
      ]
     },
     "metadata": {},
     "output_type": "display_data"
    },
    {
     "name": "stderr",
     "output_type": "stream",
     "text": [
      " 94%|█████████▍| 126/134 [13:10<01:02,  7.77s/it]"
     ]
    },
    {
     "name": "stdout",
     "output_type": "stream",
     "text": [
      "Image saved to: \n",
      " /Volumes/One Touch/BWH_PD_DBS_MixedTarget/vtas/sub-0294/stimulation\n",
      "\n",
      " ***Processed: /Volumes/One Touch/BWH_PD_DBS_MixedTarget/vtas/sub-0294\n",
      "Attempting to import from: /Volumes/One Touch/BWH_PD_DBS_MixedTarget/vtas/sub-0298/stimulation/*copy_mni152.nii\n",
      "        sub-CbctDbs0298_hemi-R_copy_mni152.nii  \\\n",
      "0                                          0.0   \n",
      "1                                          0.0   \n",
      "2                                          0.0   \n",
      "3                                          0.0   \n",
      "4                                          0.0   \n",
      "...                                        ...   \n",
      "902624                                     0.0   \n",
      "902625                                     0.0   \n",
      "902626                                     0.0   \n",
      "902627                                     0.0   \n",
      "902628                                     0.0   \n",
      "\n",
      "        sub-CbctDbs0298_hemi-L_copy_mni152.nii  \n",
      "0                                          0.0  \n",
      "1                                          0.0  \n",
      "2                                          0.0  \n",
      "3                                          0.0  \n",
      "4                                          0.0  \n",
      "...                                        ...  \n",
      "902624                                     0.0  \n",
      "902625                                     0.0  \n",
      "902626                                     0.0  \n",
      "902627                                     0.0  \n",
      "902628                                     0.0  \n",
      "\n",
      "[902629 rows x 2 columns]\n"
     ]
    },
    {
     "data": {
      "text/plain": [
       "array([0., 0., 0., ..., 0., 0., 0.])"
      ]
     },
     "metadata": {},
     "output_type": "display_data"
    },
    {
     "name": "stderr",
     "output_type": "stream",
     "text": [
      " 95%|█████████▍| 127/134 [13:22<01:02,  8.95s/it]"
     ]
    },
    {
     "name": "stdout",
     "output_type": "stream",
     "text": [
      "Image saved to: \n",
      " /Volumes/One Touch/BWH_PD_DBS_MixedTarget/vtas/sub-0298/stimulation\n",
      "\n",
      " ***Processed: /Volumes/One Touch/BWH_PD_DBS_MixedTarget/vtas/sub-0298\n",
      "Attempting to import from: /Volumes/One Touch/BWH_PD_DBS_MixedTarget/vtas/sub-0300/stimulation/*copy_mni152.nii\n",
      "        sub-CbctDbs0300_hemi-R_copy_mni152.nii  \\\n",
      "0                                          0.0   \n",
      "1                                          0.0   \n",
      "2                                          0.0   \n",
      "3                                          0.0   \n",
      "4                                          0.0   \n",
      "...                                        ...   \n",
      "902624                                     0.0   \n",
      "902625                                     0.0   \n",
      "902626                                     0.0   \n",
      "902627                                     0.0   \n",
      "902628                                     0.0   \n",
      "\n",
      "        sub-CbctDbs0300_hemi-L_copy_mni152.nii  \n",
      "0                                          0.0  \n",
      "1                                          0.0  \n",
      "2                                          0.0  \n",
      "3                                          0.0  \n",
      "4                                          0.0  \n",
      "...                                        ...  \n",
      "902624                                     0.0  \n",
      "902625                                     0.0  \n",
      "902626                                     0.0  \n",
      "902627                                     0.0  \n",
      "902628                                     0.0  \n",
      "\n",
      "[902629 rows x 2 columns]\n"
     ]
    },
    {
     "data": {
      "text/plain": [
       "array([0., 0., 0., ..., 0., 0., 0.])"
      ]
     },
     "metadata": {},
     "output_type": "display_data"
    },
    {
     "name": "stdout",
     "output_type": "stream",
     "text": [
      "Image saved to: \n",
      " /Volumes/One Touch/BWH_PD_DBS_MixedTarget/vtas/sub-0300/stimulation\n"
     ]
    },
    {
     "name": "stderr",
     "output_type": "stream",
     "text": [
      " 96%|█████████▌| 128/134 [13:32<00:55,  9.24s/it]"
     ]
    },
    {
     "name": "stdout",
     "output_type": "stream",
     "text": [
      "\n",
      " ***Processed: /Volumes/One Touch/BWH_PD_DBS_MixedTarget/vtas/sub-0300\n",
      "Attempting to import from: /Volumes/One Touch/BWH_PD_DBS_MixedTarget/vtas/sub-0301/stimulation/*copy_mni152.nii\n",
      "        sub-CbctDbs0301_hemi-R_copy_mni152.nii  \\\n",
      "0                                          0.0   \n",
      "1                                          0.0   \n",
      "2                                          0.0   \n",
      "3                                          0.0   \n",
      "4                                          0.0   \n",
      "...                                        ...   \n",
      "902624                                     0.0   \n",
      "902625                                     0.0   \n",
      "902626                                     0.0   \n",
      "902627                                     0.0   \n",
      "902628                                     0.0   \n",
      "\n",
      "        sub-CbctDbs0301_hemi-L_copy_mni152.nii  \n",
      "0                                          0.0  \n",
      "1                                          0.0  \n",
      "2                                          0.0  \n",
      "3                                          0.0  \n",
      "4                                          0.0  \n",
      "...                                        ...  \n",
      "902624                                     0.0  \n",
      "902625                                     0.0  \n",
      "902626                                     0.0  \n",
      "902627                                     0.0  \n",
      "902628                                     0.0  \n",
      "\n",
      "[902629 rows x 2 columns]\n"
     ]
    },
    {
     "data": {
      "text/plain": [
       "array([0., 0., 0., ..., 0., 0., 0.])"
      ]
     },
     "metadata": {},
     "output_type": "display_data"
    },
    {
     "name": "stdout",
     "output_type": "stream",
     "text": [
      "Image saved to: \n",
      " /Volumes/One Touch/BWH_PD_DBS_MixedTarget/vtas/sub-0301/stimulation\n"
     ]
    },
    {
     "name": "stderr",
     "output_type": "stream",
     "text": [
      " 96%|█████████▋| 129/134 [13:43<00:48,  9.79s/it]"
     ]
    },
    {
     "name": "stdout",
     "output_type": "stream",
     "text": [
      "\n",
      " ***Processed: /Volumes/One Touch/BWH_PD_DBS_MixedTarget/vtas/sub-0301\n",
      "Attempting to import from: /Volumes/One Touch/BWH_PD_DBS_MixedTarget/vtas/sub-0302/stimulation/*copy_mni152.nii\n",
      "        sub-CbctDbs0302_hemi-R_copy_mni152.nii  \\\n",
      "0                                          0.0   \n",
      "1                                          0.0   \n",
      "2                                          0.0   \n",
      "3                                          0.0   \n",
      "4                                          0.0   \n",
      "...                                        ...   \n",
      "902624                                     0.0   \n",
      "902625                                     0.0   \n",
      "902626                                     0.0   \n",
      "902627                                     0.0   \n",
      "902628                                     0.0   \n",
      "\n",
      "        sub-CbctDbs0302_hemi-L_copy_mni152.nii  \n",
      "0                                          0.0  \n",
      "1                                          0.0  \n",
      "2                                          0.0  \n",
      "3                                          0.0  \n",
      "4                                          0.0  \n",
      "...                                        ...  \n",
      "902624                                     0.0  \n",
      "902625                                     0.0  \n",
      "902626                                     0.0  \n",
      "902627                                     0.0  \n",
      "902628                                     0.0  \n",
      "\n",
      "[902629 rows x 2 columns]\n"
     ]
    },
    {
     "data": {
      "text/plain": [
       "array([0., 0., 0., ..., 0., 0., 0.])"
      ]
     },
     "metadata": {},
     "output_type": "display_data"
    },
    {
     "name": "stdout",
     "output_type": "stream",
     "text": [
      "Image saved to: \n",
      " /Volumes/One Touch/BWH_PD_DBS_MixedTarget/vtas/sub-0302/stimulation\n"
     ]
    },
    {
     "name": "stderr",
     "output_type": "stream",
     "text": [
      " 97%|█████████▋| 130/134 [13:53<00:39,  9.83s/it]"
     ]
    },
    {
     "name": "stdout",
     "output_type": "stream",
     "text": [
      "\n",
      " ***Processed: /Volumes/One Touch/BWH_PD_DBS_MixedTarget/vtas/sub-0302\n",
      "Attempting to import from: /Volumes/One Touch/BWH_PD_DBS_MixedTarget/vtas/sub-0305/stimulation/*copy_mni152.nii\n",
      "        sub-CbctDbs0305_hemi-R_copy_mni152.nii  \\\n",
      "0                                          0.0   \n",
      "1                                          0.0   \n",
      "2                                          0.0   \n",
      "3                                          0.0   \n",
      "4                                          0.0   \n",
      "...                                        ...   \n",
      "902624                                     0.0   \n",
      "902625                                     0.0   \n",
      "902626                                     0.0   \n",
      "902627                                     0.0   \n",
      "902628                                     0.0   \n",
      "\n",
      "        sub-CbctDbs0305_hemi-L_copy_mni152.nii  \n",
      "0                                          0.0  \n",
      "1                                          0.0  \n",
      "2                                          0.0  \n",
      "3                                          0.0  \n",
      "4                                          0.0  \n",
      "...                                        ...  \n",
      "902624                                     0.0  \n",
      "902625                                     0.0  \n",
      "902626                                     0.0  \n",
      "902627                                     0.0  \n",
      "902628                                     0.0  \n",
      "\n",
      "[902629 rows x 2 columns]\n"
     ]
    },
    {
     "data": {
      "text/plain": [
       "array([0., 0., 0., ..., 0., 0., 0.])"
      ]
     },
     "metadata": {},
     "output_type": "display_data"
    },
    {
     "name": "stdout",
     "output_type": "stream",
     "text": [
      "Image saved to: \n",
      " /Volumes/One Touch/BWH_PD_DBS_MixedTarget/vtas/sub-0305/stimulation\n"
     ]
    },
    {
     "name": "stderr",
     "output_type": "stream",
     "text": [
      " 98%|█████████▊| 131/134 [14:03<00:29,  9.90s/it]"
     ]
    },
    {
     "name": "stdout",
     "output_type": "stream",
     "text": [
      "\n",
      " ***Processed: /Volumes/One Touch/BWH_PD_DBS_MixedTarget/vtas/sub-0305\n",
      "Attempting to import from: /Volumes/One Touch/BWH_PD_DBS_MixedTarget/vtas/sub-0307/stimulation/*copy_mni152.nii\n",
      "        sub-CbctDbs0307_hemi-R_copy_mni152.nii  \\\n",
      "0                                          0.0   \n",
      "1                                          0.0   \n",
      "2                                          0.0   \n",
      "3                                          0.0   \n",
      "4                                          0.0   \n",
      "...                                        ...   \n",
      "902624                                     0.0   \n",
      "902625                                     0.0   \n",
      "902626                                     0.0   \n",
      "902627                                     0.0   \n",
      "902628                                     0.0   \n",
      "\n",
      "        sub-CbctDbs0307_hemi-L_copy_mni152.nii  \n",
      "0                                          0.0  \n",
      "1                                          0.0  \n",
      "2                                          0.0  \n",
      "3                                          0.0  \n",
      "4                                          0.0  \n",
      "...                                        ...  \n",
      "902624                                     0.0  \n",
      "902625                                     0.0  \n",
      "902626                                     0.0  \n",
      "902627                                     0.0  \n",
      "902628                                     0.0  \n",
      "\n",
      "[902629 rows x 2 columns]\n"
     ]
    },
    {
     "data": {
      "text/plain": [
       "array([0., 0., 0., ..., 0., 0., 0.])"
      ]
     },
     "metadata": {},
     "output_type": "display_data"
    },
    {
     "name": "stderr",
     "output_type": "stream",
     "text": [
      " 99%|█████████▊| 132/134 [14:10<00:18,  9.17s/it]"
     ]
    },
    {
     "name": "stdout",
     "output_type": "stream",
     "text": [
      "Image saved to: \n",
      " /Volumes/One Touch/BWH_PD_DBS_MixedTarget/vtas/sub-0307/stimulation\n",
      "\n",
      " ***Processed: /Volumes/One Touch/BWH_PD_DBS_MixedTarget/vtas/sub-0307\n",
      "Attempting to import from: /Volumes/One Touch/BWH_PD_DBS_MixedTarget/vtas/sub-0311/stimulation/*copy_mni152.nii\n",
      "        sub-CbctDbs0311_hemi-R_copy_mni152.nii  \\\n",
      "0                                          0.0   \n",
      "1                                          0.0   \n",
      "2                                          0.0   \n",
      "3                                          0.0   \n",
      "4                                          0.0   \n",
      "...                                        ...   \n",
      "902624                                     0.0   \n",
      "902625                                     0.0   \n",
      "902626                                     0.0   \n",
      "902627                                     0.0   \n",
      "902628                                     0.0   \n",
      "\n",
      "        sub-CbctDbs0311_hemi-L_copy_mni152.nii  \n",
      "0                                          0.0  \n",
      "1                                          0.0  \n",
      "2                                          0.0  \n",
      "3                                          0.0  \n",
      "4                                          0.0  \n",
      "...                                        ...  \n",
      "902624                                     0.0  \n",
      "902625                                     0.0  \n",
      "902626                                     0.0  \n",
      "902627                                     0.0  \n",
      "902628                                     0.0  \n",
      "\n",
      "[902629 rows x 2 columns]\n"
     ]
    },
    {
     "data": {
      "text/plain": [
       "array([0., 0., 0., ..., 0., 0., 0.])"
      ]
     },
     "metadata": {},
     "output_type": "display_data"
    },
    {
     "name": "stdout",
     "output_type": "stream",
     "text": [
      "Image saved to: \n",
      " /Volumes/One Touch/BWH_PD_DBS_MixedTarget/vtas/sub-0311/stimulation\n"
     ]
    },
    {
     "name": "stderr",
     "output_type": "stream",
     "text": [
      " 99%|█████████▉| 133/134 [14:20<00:09,  9.26s/it]"
     ]
    },
    {
     "name": "stdout",
     "output_type": "stream",
     "text": [
      "\n",
      " ***Processed: /Volumes/One Touch/BWH_PD_DBS_MixedTarget/vtas/sub-0311\n",
      "Attempting to import from: /Volumes/One Touch/BWH_PD_DBS_MixedTarget/vtas/sub-0316/stimulation/*copy_mni152.nii\n",
      "        sub-CbctDbs0316_hemi-R_copy_mni152.nii  \\\n",
      "0                                          0.0   \n",
      "1                                          0.0   \n",
      "2                                          0.0   \n",
      "3                                          0.0   \n",
      "4                                          0.0   \n",
      "...                                        ...   \n",
      "902624                                     0.0   \n",
      "902625                                     0.0   \n",
      "902626                                     0.0   \n",
      "902627                                     0.0   \n",
      "902628                                     0.0   \n",
      "\n",
      "        sub-CbctDbs0316_hemi-L_copy_mni152.nii  \n",
      "0                                          0.0  \n",
      "1                                          0.0  \n",
      "2                                          0.0  \n",
      "3                                          0.0  \n",
      "4                                          0.0  \n",
      "...                                        ...  \n",
      "902624                                     0.0  \n",
      "902625                                     0.0  \n",
      "902626                                     0.0  \n",
      "902627                                     0.0  \n",
      "902628                                     0.0  \n",
      "\n",
      "[902629 rows x 2 columns]\n"
     ]
    },
    {
     "data": {
      "text/plain": [
       "array([0., 0., 0., ..., 0., 0., 0.])"
      ]
     },
     "metadata": {},
     "output_type": "display_data"
    },
    {
     "name": "stdout",
     "output_type": "stream",
     "text": [
      "Image saved to: \n",
      " /Volumes/One Touch/BWH_PD_DBS_MixedTarget/vtas/sub-0316/stimulation\n"
     ]
    },
    {
     "name": "stderr",
     "output_type": "stream",
     "text": [
      "100%|██████████| 134/134 [14:28<00:00,  6.48s/it]"
     ]
    },
    {
     "name": "stdout",
     "output_type": "stream",
     "text": [
      "\n",
      " ***Processed: /Volumes/One Touch/BWH_PD_DBS_MixedTarget/vtas/sub-0316\n"
     ]
    },
    {
     "name": "stderr",
     "output_type": "stream",
     "text": [
      "\n"
     ]
    }
   ],
   "source": [
    "merge_files(root_dir=root_dir, file_pattern_1=file_pattern_1, file_pattern_2=file_pattern_2, output_file_pattern=output_file_pattern, mni_template_path=mni_template_path, dry_run=dry_run)"
   ]
  }
 ],
 "metadata": {
  "kernelspec": {
   "display_name": "nimlab_py310",
   "language": "python",
   "name": "python3"
  },
  "language_info": {
   "codemirror_mode": {
    "name": "ipython",
    "version": 3
   },
   "file_extension": ".py",
   "mimetype": "text/x-python",
   "name": "python",
   "nbconvert_exporter": "python",
   "pygments_lexer": "ipython3",
   "version": "3.10.8"
  }
 },
 "nbformat": 4,
 "nbformat_minor": 2
}
