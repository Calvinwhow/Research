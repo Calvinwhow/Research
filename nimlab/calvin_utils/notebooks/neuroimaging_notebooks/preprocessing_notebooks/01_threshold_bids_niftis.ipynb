{
 "cells": [
  {
   "cell_type": "markdown",
   "metadata": {},
   "source": [
    "- root_dir: the base of the BIDS directory.\n",
    "- file_pattern: the wildcarded matching pattern for the base file. \n",
    "- output_file_name: the name of your output file. "
   ]
  },
  {
   "cell_type": "code",
   "execution_count": 20,
   "metadata": {},
   "outputs": [],
   "source": [
    "root_dir = r\"/Users/cu135/Dropbox (Partners HealthCare)/resources/datasets/Queensland_PD_DBS_STN/BIDSdata/derivatives/leaddbs\"\n",
    "file_pattern = r\"stimulations/MNI152NLin2009bAsym/gs_2023Aysu/*_sim-efield_model-simbio_hemi-bl.nii_generated_nifti.nii\"\n",
    "output_file_name = r\"_sim-binary_model-simbio_hemi-bl_preprocessed\""
   ]
  },
  {
   "cell_type": "code",
   "execution_count": 25,
   "metadata": {},
   "outputs": [],
   "source": [
    "import os \n",
    "import subprocess\n",
    "import numpy as np\n",
    "from tqdm import tqdm\n",
    "from glob import glob\n",
    "from calvin_utils.nifti_utils.generate_nifti import nifti_from_matrix\n",
    "from calvin_utils.file_utils.import_functions import GiiNiiFileImport\n",
    "\n",
    "def threshold_niftis_in_bids(root_dir=root_dir, file_pattern=file_pattern, output_file_name=output_file_name, threshold=0.05):\n",
    "    '''\n",
    "    Function to iterate over each subject in a BIDS directory, import them, threshold, and save the thresholded nifti file. \n",
    "    \n",
    "    Will by default threshold everything to a value over 0.2 and binarize. \n",
    "    '''\n",
    "\n",
    "    for sub_dir in tqdm(os.listdir(root_dir)):\n",
    "        sub_dir_path = os.path.join(root_dir, sub_dir)\n",
    "        if not os.path.isdir(sub_dir_path):\n",
    "            continue\n",
    "        \n",
    "        # recursively glob all intermediate directories to the file pattern target.\n",
    "        files1 = glob(root_dir+\"/\"+sub_dir+\"**/\"+file_pattern)\n",
    "\n",
    "        # If identified, begin processing\n",
    "        if files1:\n",
    "            # Extract identified files\n",
    "            file1 = files1[0]\n",
    "            try:\n",
    "                # Import the nifti and manipulate it\n",
    "                importer = GiiNiiFileImport(os.path.dirname(file1), file_pattern=os.path.basename(file1))\n",
    "                imports = importer.run()\n",
    "                imports[\"thresholded\"] = np.where(imports.iloc[:,0]>threshold, 1, 0)\n",
    "                \n",
    "                # Prepare Output File\n",
    "                output_dir = os.path.dirname(file1)\n",
    "                output_file_with_subject = os.path.basename(sub_dir_path)+\"_\"+output_file_name\n",
    "                nifti_from_matrix(matrix=imports[\"thresholded\"].to_numpy(), output_file=output_dir, output_name=output_file_with_subject, reference=\"MNI\")\n",
    "                \n",
    "                print(f\"\\n ***Processed: {sub_dir_path}\")\n",
    "                \n",
    "            except subprocess.CalledProcessError as e:\n",
    "                print(f\"Error processing {sub_dir_path}: {e}\")\n",
    "        else:\n",
    "            print(f\"Missing file(s) in {sub_dir_path}\")"
   ]
  },
  {
   "cell_type": "code",
   "execution_count": 26,
   "metadata": {},
   "outputs": [
    {
     "name": "stderr",
     "output_type": "stream",
     "text": [
      "  5%|▍         | 3/61 [00:00<00:02, 22.14it/s]"
     ]
    },
    {
     "name": "stdout",
     "output_type": "stream",
     "text": [
      "Attempting to import from: /Users/cu135/Dropbox (Partners HealthCare)/resources/datasets/Queensland_PD_DBS_STN/BIDSdata/derivatives/leaddbs/sub-LeadDBS034/stimulations/MNI152NLin2009bAsym/gs_2023Aysu/sub-LeadDBS034_sim-efield_model-simbio_hemi-bl.nii_generated_nifti.nii\n",
      "Image saved to: \n",
      " /Users/cu135/Dropbox (Partners HealthCare)/resources/datasets/Queensland_PD_DBS_STN/BIDSdata/derivatives/leaddbs/sub-LeadDBS034/stimulations/MNI152NLin2009bAsym/gs_2023Aysu\n",
      "\n",
      " ***Processed: /Users/cu135/Dropbox (Partners HealthCare)/resources/datasets/Queensland_PD_DBS_STN/BIDSdata/derivatives/leaddbs/sub-LeadDBS034\n",
      "Attempting to import from: /Users/cu135/Dropbox (Partners HealthCare)/resources/datasets/Queensland_PD_DBS_STN/BIDSdata/derivatives/leaddbs/sub-LeadDBS060/stimulations/MNI152NLin2009bAsym/gs_2023Aysu/sub-LeadDBS060_sim-efield_model-simbio_hemi-bl.nii_generated_nifti.nii\n",
      "Image saved to: \n",
      " /Users/cu135/Dropbox (Partners HealthCare)/resources/datasets/Queensland_PD_DBS_STN/BIDSdata/derivatives/leaddbs/sub-LeadDBS060/stimulations/MNI152NLin2009bAsym/gs_2023Aysu\n",
      "\n",
      " ***Processed: /Users/cu135/Dropbox (Partners HealthCare)/resources/datasets/Queensland_PD_DBS_STN/BIDSdata/derivatives/leaddbs/sub-LeadDBS060\n",
      "Attempting to import from: /Users/cu135/Dropbox (Partners HealthCare)/resources/datasets/Queensland_PD_DBS_STN/BIDSdata/derivatives/leaddbs/sub-LeadDBS058/stimulations/MNI152NLin2009bAsym/gs_2023Aysu/sub-LeadDBS058_sim-efield_model-simbio_hemi-bl.nii_generated_nifti.nii\n"
     ]
    },
    {
     "name": "stderr",
     "output_type": "stream",
     "text": [
      " 10%|▉         | 6/61 [00:00<00:03, 16.82it/s]"
     ]
    },
    {
     "name": "stdout",
     "output_type": "stream",
     "text": [
      "Image saved to: \n",
      " /Users/cu135/Dropbox (Partners HealthCare)/resources/datasets/Queensland_PD_DBS_STN/BIDSdata/derivatives/leaddbs/sub-LeadDBS058/stimulations/MNI152NLin2009bAsym/gs_2023Aysu\n",
      "\n",
      " ***Processed: /Users/cu135/Dropbox (Partners HealthCare)/resources/datasets/Queensland_PD_DBS_STN/BIDSdata/derivatives/leaddbs/sub-LeadDBS058\n",
      "Attempting to import from: /Users/cu135/Dropbox (Partners HealthCare)/resources/datasets/Queensland_PD_DBS_STN/BIDSdata/derivatives/leaddbs/sub-LeadDBS067/stimulations/MNI152NLin2009bAsym/gs_2023Aysu/sub-LeadDBS067_sim-efield_model-simbio_hemi-bl.nii_generated_nifti.nii\n",
      "Image saved to: \n",
      " /Users/cu135/Dropbox (Partners HealthCare)/resources/datasets/Queensland_PD_DBS_STN/BIDSdata/derivatives/leaddbs/sub-LeadDBS067/stimulations/MNI152NLin2009bAsym/gs_2023Aysu\n",
      "\n",
      " ***Processed: /Users/cu135/Dropbox (Partners HealthCare)/resources/datasets/Queensland_PD_DBS_STN/BIDSdata/derivatives/leaddbs/sub-LeadDBS067\n",
      "Attempting to import from: /Users/cu135/Dropbox (Partners HealthCare)/resources/datasets/Queensland_PD_DBS_STN/BIDSdata/derivatives/leaddbs/sub-LeadDBS051/stimulations/MNI152NLin2009bAsym/gs_2023Aysu/sub-LeadDBS051_sim-efield_model-simbio_hemi-bl.nii_generated_nifti.nii\n",
      "Image saved to: \n",
      " /Users/cu135/Dropbox (Partners HealthCare)/resources/datasets/Queensland_PD_DBS_STN/BIDSdata/derivatives/leaddbs/sub-LeadDBS051/stimulations/MNI152NLin2009bAsym/gs_2023Aysu\n",
      "\n",
      " ***Processed: /Users/cu135/Dropbox (Partners HealthCare)/resources/datasets/Queensland_PD_DBS_STN/BIDSdata/derivatives/leaddbs/sub-LeadDBS051\n",
      "Attempting to import from: /Users/cu135/Dropbox (Partners HealthCare)/resources/datasets/Queensland_PD_DBS_STN/BIDSdata/derivatives/leaddbs/sub-LeadDBS069/stimulations/MNI152NLin2009bAsym/gs_2023Aysu/sub-LeadDBS069_sim-efield_model-simbio_hemi-bl.nii_generated_nifti.nii\n"
     ]
    },
    {
     "name": "stderr",
     "output_type": "stream",
     "text": [
      " 13%|█▎        | 8/61 [00:00<00:03, 16.00it/s]"
     ]
    },
    {
     "name": "stdout",
     "output_type": "stream",
     "text": [
      "Image saved to: \n",
      " /Users/cu135/Dropbox (Partners HealthCare)/resources/datasets/Queensland_PD_DBS_STN/BIDSdata/derivatives/leaddbs/sub-LeadDBS069/stimulations/MNI152NLin2009bAsym/gs_2023Aysu\n",
      "\n",
      " ***Processed: /Users/cu135/Dropbox (Partners HealthCare)/resources/datasets/Queensland_PD_DBS_STN/BIDSdata/derivatives/leaddbs/sub-LeadDBS069\n",
      "Attempting to import from: /Users/cu135/Dropbox (Partners HealthCare)/resources/datasets/Queensland_PD_DBS_STN/BIDSdata/derivatives/leaddbs/sub-LeadDBS056/stimulations/MNI152NLin2009bAsym/gs_2023Aysu/sub-LeadDBS056_sim-efield_model-simbio_hemi-bl.nii_generated_nifti.nii\n",
      "Image saved to: \n",
      " /Users/cu135/Dropbox (Partners HealthCare)/resources/datasets/Queensland_PD_DBS_STN/BIDSdata/derivatives/leaddbs/sub-LeadDBS056/stimulations/MNI152NLin2009bAsym/gs_2023Aysu\n",
      "\n",
      " ***Processed: /Users/cu135/Dropbox (Partners HealthCare)/resources/datasets/Queensland_PD_DBS_STN/BIDSdata/derivatives/leaddbs/sub-LeadDBS056\n",
      "Attempting to import from: /Users/cu135/Dropbox (Partners HealthCare)/resources/datasets/Queensland_PD_DBS_STN/BIDSdata/derivatives/leaddbs/sub-LeadDBS035/stimulations/MNI152NLin2009bAsym/gs_2023Aysu/sub-LeadDBS035_sim-efield_model-simbio_hemi-bl.nii_generated_nifti.nii\n",
      "Image saved to: \n",
      " /Users/cu135/Dropbox (Partners HealthCare)/resources/datasets/Queensland_PD_DBS_STN/BIDSdata/derivatives/leaddbs/sub-LeadDBS035/stimulations/MNI152NLin2009bAsym/gs_2023Aysu\n",
      "\n",
      " ***Processed: /Users/cu135/Dropbox (Partners HealthCare)/resources/datasets/Queensland_PD_DBS_STN/BIDSdata/derivatives/leaddbs/sub-LeadDBS035\n",
      "Attempting to import from: /Users/cu135/Dropbox (Partners HealthCare)/resources/datasets/Queensland_PD_DBS_STN/BIDSdata/derivatives/leaddbs/sub-LeadDBS068/stimulations/MNI152NLin2009bAsym/gs_2023Aysu/sub-LeadDBS068_sim-efield_model-simbio_hemi-bl.nii_generated_nifti.nii\n"
     ]
    },
    {
     "name": "stderr",
     "output_type": "stream",
     "text": [
      " 20%|█▉        | 12/61 [00:00<00:03, 14.95it/s]"
     ]
    },
    {
     "name": "stdout",
     "output_type": "stream",
     "text": [
      "Image saved to: \n",
      " /Users/cu135/Dropbox (Partners HealthCare)/resources/datasets/Queensland_PD_DBS_STN/BIDSdata/derivatives/leaddbs/sub-LeadDBS068/stimulations/MNI152NLin2009bAsym/gs_2023Aysu\n",
      "\n",
      " ***Processed: /Users/cu135/Dropbox (Partners HealthCare)/resources/datasets/Queensland_PD_DBS_STN/BIDSdata/derivatives/leaddbs/sub-LeadDBS068\n",
      "Attempting to import from: /Users/cu135/Dropbox (Partners HealthCare)/resources/datasets/Queensland_PD_DBS_STN/BIDSdata/derivatives/leaddbs/sub-LeadDBS057/stimulations/MNI152NLin2009bAsym/gs_2023Aysu/sub-LeadDBS057_sim-efield_model-simbio_hemi-bl.nii_generated_nifti.nii\n",
      "Image saved to: \n",
      " /Users/cu135/Dropbox (Partners HealthCare)/resources/datasets/Queensland_PD_DBS_STN/BIDSdata/derivatives/leaddbs/sub-LeadDBS057/stimulations/MNI152NLin2009bAsym/gs_2023Aysu\n",
      "\n",
      " ***Processed: /Users/cu135/Dropbox (Partners HealthCare)/resources/datasets/Queensland_PD_DBS_STN/BIDSdata/derivatives/leaddbs/sub-LeadDBS057\n",
      "Attempting to import from: /Users/cu135/Dropbox (Partners HealthCare)/resources/datasets/Queensland_PD_DBS_STN/BIDSdata/derivatives/leaddbs/sub-LeadDBS050/stimulations/MNI152NLin2009bAsym/gs_2023Aysu/sub-LeadDBS050_sim-efield_model-simbio_hemi-bl.nii_generated_nifti.nii\n",
      "Image saved to: \n",
      " /Users/cu135/Dropbox (Partners HealthCare)/resources/datasets/Queensland_PD_DBS_STN/BIDSdata/derivatives/leaddbs/sub-LeadDBS050/stimulations/MNI152NLin2009bAsym/gs_2023Aysu\n",
      "\n",
      " ***Processed: /Users/cu135/Dropbox (Partners HealthCare)/resources/datasets/Queensland_PD_DBS_STN/BIDSdata/derivatives/leaddbs/sub-LeadDBS050\n",
      "Attempting to import from: /Users/cu135/Dropbox (Partners HealthCare)/resources/datasets/Queensland_PD_DBS_STN/BIDSdata/derivatives/leaddbs/sub-LeadDBS066/stimulations/MNI152NLin2009bAsym/gs_2023Aysu/sub-LeadDBS066_sim-efield_model-simbio_hemi-bl.nii_generated_nifti.nii\n"
     ]
    },
    {
     "name": "stderr",
     "output_type": "stream",
     "text": [
      " 23%|██▎       | 14/61 [00:00<00:03, 14.39it/s]"
     ]
    },
    {
     "name": "stdout",
     "output_type": "stream",
     "text": [
      "Image saved to: \n",
      " /Users/cu135/Dropbox (Partners HealthCare)/resources/datasets/Queensland_PD_DBS_STN/BIDSdata/derivatives/leaddbs/sub-LeadDBS066/stimulations/MNI152NLin2009bAsym/gs_2023Aysu\n",
      "\n",
      " ***Processed: /Users/cu135/Dropbox (Partners HealthCare)/resources/datasets/Queensland_PD_DBS_STN/BIDSdata/derivatives/leaddbs/sub-LeadDBS066\n",
      "Attempting to import from: /Users/cu135/Dropbox (Partners HealthCare)/resources/datasets/Queensland_PD_DBS_STN/BIDSdata/derivatives/leaddbs/sub-LeadDBS061/stimulations/MNI152NLin2009bAsym/gs_2023Aysu/sub-LeadDBS061_sim-efield_model-simbio_hemi-bl.nii_generated_nifti.nii\n",
      "Image saved to: \n",
      " /Users/cu135/Dropbox (Partners HealthCare)/resources/datasets/Queensland_PD_DBS_STN/BIDSdata/derivatives/leaddbs/sub-LeadDBS061/stimulations/MNI152NLin2009bAsym/gs_2023Aysu\n",
      "\n",
      " ***Processed: /Users/cu135/Dropbox (Partners HealthCare)/resources/datasets/Queensland_PD_DBS_STN/BIDSdata/derivatives/leaddbs/sub-LeadDBS061\n",
      "Attempting to import from: /Users/cu135/Dropbox (Partners HealthCare)/resources/datasets/Queensland_PD_DBS_STN/BIDSdata/derivatives/leaddbs/sub-LeadDBS043/stimulations/MNI152NLin2009bAsym/gs_2023Aysu/sub-LeadDBS043_sim-efield_model-simbio_hemi-bl.nii_generated_nifti.nii\n",
      "Image saved to: \n",
      " /Users/cu135/Dropbox (Partners HealthCare)/resources/datasets/Queensland_PD_DBS_STN/BIDSdata/derivatives/leaddbs/sub-LeadDBS043/stimulations/MNI152NLin2009bAsym/gs_2023Aysu\n",
      "\n",
      " ***Processed: /Users/cu135/Dropbox (Partners HealthCare)/resources/datasets/Queensland_PD_DBS_STN/BIDSdata/derivatives/leaddbs/sub-LeadDBS043\n",
      "Attempting to import from: /Users/cu135/Dropbox (Partners HealthCare)/resources/datasets/Queensland_PD_DBS_STN/BIDSdata/derivatives/leaddbs/sub-LeadDBS088/stimulations/MNI152NLin2009bAsym/gs_2023Aysu/sub-LeadDBS088_sim-efield_model-simbio_hemi-bl.nii_generated_nifti.nii\n"
     ]
    },
    {
     "name": "stderr",
     "output_type": "stream",
     "text": [
      " 30%|██▉       | 18/61 [00:01<00:03, 14.16it/s]"
     ]
    },
    {
     "name": "stdout",
     "output_type": "stream",
     "text": [
      "Image saved to: \n",
      " /Users/cu135/Dropbox (Partners HealthCare)/resources/datasets/Queensland_PD_DBS_STN/BIDSdata/derivatives/leaddbs/sub-LeadDBS088/stimulations/MNI152NLin2009bAsym/gs_2023Aysu\n",
      "\n",
      " ***Processed: /Users/cu135/Dropbox (Partners HealthCare)/resources/datasets/Queensland_PD_DBS_STN/BIDSdata/derivatives/leaddbs/sub-LeadDBS088\n",
      "Attempting to import from: /Users/cu135/Dropbox (Partners HealthCare)/resources/datasets/Queensland_PD_DBS_STN/BIDSdata/derivatives/leaddbs/sub-LeadDBS044/stimulations/MNI152NLin2009bAsym/gs_2023Aysu/sub-LeadDBS044_sim-efield_model-simbio_hemi-bl.nii_generated_nifti.nii\n",
      "Image saved to: \n",
      " /Users/cu135/Dropbox (Partners HealthCare)/resources/datasets/Queensland_PD_DBS_STN/BIDSdata/derivatives/leaddbs/sub-LeadDBS044/stimulations/MNI152NLin2009bAsym/gs_2023Aysu\n",
      "\n",
      " ***Processed: /Users/cu135/Dropbox (Partners HealthCare)/resources/datasets/Queensland_PD_DBS_STN/BIDSdata/derivatives/leaddbs/sub-LeadDBS044\n",
      "Attempting to import from: /Users/cu135/Dropbox (Partners HealthCare)/resources/datasets/Queensland_PD_DBS_STN/BIDSdata/derivatives/leaddbs/sub-LeadDBS086/stimulations/MNI152NLin2009bAsym/gs_2023Aysu/sub-LeadDBS086_sim-efield_model-simbio_hemi-bl.nii_generated_nifti.nii\n",
      "Image saved to: \n",
      " /Users/cu135/Dropbox (Partners HealthCare)/resources/datasets/Queensland_PD_DBS_STN/BIDSdata/derivatives/leaddbs/sub-LeadDBS086/stimulations/MNI152NLin2009bAsym/gs_2023Aysu\n",
      "\n",
      " ***Processed: /Users/cu135/Dropbox (Partners HealthCare)/resources/datasets/Queensland_PD_DBS_STN/BIDSdata/derivatives/leaddbs/sub-LeadDBS086\n",
      "Attempting to import from: /Users/cu135/Dropbox (Partners HealthCare)/resources/datasets/Queensland_PD_DBS_STN/BIDSdata/derivatives/leaddbs/sub-LeadDBS072/stimulations/MNI152NLin2009bAsym/gs_2023Aysu/sub-LeadDBS072_sim-efield_model-simbio_hemi-bl.nii_generated_nifti.nii\n",
      "Image saved to: \n",
      " /Users/cu135/Dropbox (Partners HealthCare)/resources/datasets/Queensland_PD_DBS_STN/BIDSdata/derivatives/leaddbs/sub-LeadDBS072/stimulations/MNI152NLin2009bAsym/gs_2023Aysu\n",
      "\n",
      " ***Processed: /Users/cu135/Dropbox (Partners HealthCare)/resources/datasets/Queensland_PD_DBS_STN/BIDSdata/derivatives/leaddbs/sub-LeadDBS072\n",
      "Attempting to import from: /Users/cu135/Dropbox (Partners HealthCare)/resources/datasets/Queensland_PD_DBS_STN/BIDSdata/derivatives/leaddbs/sub-LeadDBS075/stimulations/MNI152NLin2009bAsym/gs_2023Aysu/sub-LeadDBS075_sim-efield_model-simbio_hemi-bl.nii_generated_nifti.nii\n"
     ]
    },
    {
     "name": "stderr",
     "output_type": "stream",
     "text": [
      " 36%|███▌      | 22/61 [00:01<00:02, 14.55it/s]"
     ]
    },
    {
     "name": "stdout",
     "output_type": "stream",
     "text": [
      "Image saved to: \n",
      " /Users/cu135/Dropbox (Partners HealthCare)/resources/datasets/Queensland_PD_DBS_STN/BIDSdata/derivatives/leaddbs/sub-LeadDBS075/stimulations/MNI152NLin2009bAsym/gs_2023Aysu\n",
      "\n",
      " ***Processed: /Users/cu135/Dropbox (Partners HealthCare)/resources/datasets/Queensland_PD_DBS_STN/BIDSdata/derivatives/leaddbs/sub-LeadDBS075\n",
      "Attempting to import from: /Users/cu135/Dropbox (Partners HealthCare)/resources/datasets/Queensland_PD_DBS_STN/BIDSdata/derivatives/leaddbs/sub-LeadDBS081/stimulations/MNI152NLin2009bAsym/gs_2023Aysu/sub-LeadDBS081_sim-efield_model-simbio_hemi-bl.nii_generated_nifti.nii\n",
      "Image saved to: \n",
      " /Users/cu135/Dropbox (Partners HealthCare)/resources/datasets/Queensland_PD_DBS_STN/BIDSdata/derivatives/leaddbs/sub-LeadDBS081/stimulations/MNI152NLin2009bAsym/gs_2023Aysu\n",
      "\n",
      " ***Processed: /Users/cu135/Dropbox (Partners HealthCare)/resources/datasets/Queensland_PD_DBS_STN/BIDSdata/derivatives/leaddbs/sub-LeadDBS081\n",
      "Attempting to import from: /Users/cu135/Dropbox (Partners HealthCare)/resources/datasets/Queensland_PD_DBS_STN/BIDSdata/derivatives/leaddbs/sub-LeadDBS080/stimulations/MNI152NLin2009bAsym/gs_2023Aysu/sub-LeadDBS080_sim-efield_model-simbio_hemi-bl.nii_generated_nifti.nii\n",
      "Image saved to: \n",
      " /Users/cu135/Dropbox (Partners HealthCare)/resources/datasets/Queensland_PD_DBS_STN/BIDSdata/derivatives/leaddbs/sub-LeadDBS080/stimulations/MNI152NLin2009bAsym/gs_2023Aysu\n",
      "\n",
      " ***Processed: /Users/cu135/Dropbox (Partners HealthCare)/resources/datasets/Queensland_PD_DBS_STN/BIDSdata/derivatives/leaddbs/sub-LeadDBS080\n",
      "Attempting to import from: /Users/cu135/Dropbox (Partners HealthCare)/resources/datasets/Queensland_PD_DBS_STN/BIDSdata/derivatives/leaddbs/sub-LeadDBS074/stimulations/MNI152NLin2009bAsym/gs_2023Aysu/sub-LeadDBS074_sim-efield_model-simbio_hemi-bl.nii_generated_nifti.nii\n"
     ]
    },
    {
     "name": "stderr",
     "output_type": "stream",
     "text": [
      " 39%|███▉      | 24/61 [00:01<00:02, 14.32it/s]"
     ]
    },
    {
     "name": "stdout",
     "output_type": "stream",
     "text": [
      "Image saved to: \n",
      " /Users/cu135/Dropbox (Partners HealthCare)/resources/datasets/Queensland_PD_DBS_STN/BIDSdata/derivatives/leaddbs/sub-LeadDBS074/stimulations/MNI152NLin2009bAsym/gs_2023Aysu\n",
      "\n",
      " ***Processed: /Users/cu135/Dropbox (Partners HealthCare)/resources/datasets/Queensland_PD_DBS_STN/BIDSdata/derivatives/leaddbs/sub-LeadDBS074\n",
      "Attempting to import from: /Users/cu135/Dropbox (Partners HealthCare)/resources/datasets/Queensland_PD_DBS_STN/BIDSdata/derivatives/leaddbs/sub-LeadDBS073/stimulations/MNI152NLin2009bAsym/gs_2023Aysu/sub-LeadDBS073_sim-efield_model-simbio_hemi-bl.nii_generated_nifti.nii\n",
      "Image saved to: \n",
      " /Users/cu135/Dropbox (Partners HealthCare)/resources/datasets/Queensland_PD_DBS_STN/BIDSdata/derivatives/leaddbs/sub-LeadDBS073/stimulations/MNI152NLin2009bAsym/gs_2023Aysu\n",
      "\n",
      " ***Processed: /Users/cu135/Dropbox (Partners HealthCare)/resources/datasets/Queensland_PD_DBS_STN/BIDSdata/derivatives/leaddbs/sub-LeadDBS073\n",
      "Attempting to import from: /Users/cu135/Dropbox (Partners HealthCare)/resources/datasets/Queensland_PD_DBS_STN/BIDSdata/derivatives/leaddbs/sub-LeadDBS087/stimulations/MNI152NLin2009bAsym/gs_2023Aysu/sub-LeadDBS087_sim-efield_model-simbio_hemi-bl.nii_generated_nifti.nii\n",
      "Image saved to: \n",
      " /Users/cu135/Dropbox (Partners HealthCare)/resources/datasets/Queensland_PD_DBS_STN/BIDSdata/derivatives/leaddbs/sub-LeadDBS087/stimulations/MNI152NLin2009bAsym/gs_2023Aysu\n",
      "\n",
      " ***Processed: /Users/cu135/Dropbox (Partners HealthCare)/resources/datasets/Queensland_PD_DBS_STN/BIDSdata/derivatives/leaddbs/sub-LeadDBS087\n",
      "Attempting to import from: /Users/cu135/Dropbox (Partners HealthCare)/resources/datasets/Queensland_PD_DBS_STN/BIDSdata/derivatives/leaddbs/sub-LeadDBS045/stimulations/MNI152NLin2009bAsym/gs_2023Aysu/sub-LeadDBS045_sim-efield_model-simbio_hemi-bl.nii_generated_nifti.nii\n"
     ]
    },
    {
     "name": "stderr",
     "output_type": "stream",
     "text": [
      " 46%|████▌     | 28/61 [00:01<00:02, 14.33it/s]"
     ]
    },
    {
     "name": "stdout",
     "output_type": "stream",
     "text": [
      "Image saved to: \n",
      " /Users/cu135/Dropbox (Partners HealthCare)/resources/datasets/Queensland_PD_DBS_STN/BIDSdata/derivatives/leaddbs/sub-LeadDBS045/stimulations/MNI152NLin2009bAsym/gs_2023Aysu\n",
      "\n",
      " ***Processed: /Users/cu135/Dropbox (Partners HealthCare)/resources/datasets/Queensland_PD_DBS_STN/BIDSdata/derivatives/leaddbs/sub-LeadDBS045\n",
      "Attempting to import from: /Users/cu135/Dropbox (Partners HealthCare)/resources/datasets/Queensland_PD_DBS_STN/BIDSdata/derivatives/leaddbs/sub-LeadDBS042/stimulations/MNI152NLin2009bAsym/gs_2023Aysu/sub-LeadDBS042_sim-efield_model-simbio_hemi-bl.nii_generated_nifti.nii\n",
      "Image saved to: \n",
      " /Users/cu135/Dropbox (Partners HealthCare)/resources/datasets/Queensland_PD_DBS_STN/BIDSdata/derivatives/leaddbs/sub-LeadDBS042/stimulations/MNI152NLin2009bAsym/gs_2023Aysu\n",
      "\n",
      " ***Processed: /Users/cu135/Dropbox (Partners HealthCare)/resources/datasets/Queensland_PD_DBS_STN/BIDSdata/derivatives/leaddbs/sub-LeadDBS042\n",
      "Attempting to import from: /Users/cu135/Dropbox (Partners HealthCare)/resources/datasets/Queensland_PD_DBS_STN/BIDSdata/derivatives/leaddbs/sub-LeadDBS089/stimulations/MNI152NLin2009bAsym/gs_2023Aysu/sub-LeadDBS089_sim-efield_model-simbio_hemi-bl.nii_generated_nifti.nii\n",
      "Image saved to: \n",
      " /Users/cu135/Dropbox (Partners HealthCare)/resources/datasets/Queensland_PD_DBS_STN/BIDSdata/derivatives/leaddbs/sub-LeadDBS089/stimulations/MNI152NLin2009bAsym/gs_2023Aysu\n",
      "\n",
      " ***Processed: /Users/cu135/Dropbox (Partners HealthCare)/resources/datasets/Queensland_PD_DBS_STN/BIDSdata/derivatives/leaddbs/sub-LeadDBS089\n",
      "Attempting to import from: /Users/cu135/Dropbox (Partners HealthCare)/resources/datasets/Queensland_PD_DBS_STN/BIDSdata/derivatives/leaddbs/sub-LeadDBS029/stimulations/MNI152NLin2009bAsym/gs_2023Aysu/sub-LeadDBS029_sim-efield_model-simbio_hemi-bl.nii_generated_nifti.nii\n"
     ]
    },
    {
     "name": "stderr",
     "output_type": "stream",
     "text": [
      " 51%|█████     | 31/61 [00:02<00:01, 16.46it/s]"
     ]
    },
    {
     "name": "stdout",
     "output_type": "stream",
     "text": [
      "Image saved to: \n",
      " /Users/cu135/Dropbox (Partners HealthCare)/resources/datasets/Queensland_PD_DBS_STN/BIDSdata/derivatives/leaddbs/sub-LeadDBS029/stimulations/MNI152NLin2009bAsym/gs_2023Aysu\n",
      "\n",
      " ***Processed: /Users/cu135/Dropbox (Partners HealthCare)/resources/datasets/Queensland_PD_DBS_STN/BIDSdata/derivatives/leaddbs/sub-LeadDBS029\n",
      "Missing file(s) in /Users/cu135/Dropbox (Partners HealthCare)/resources/datasets/Queensland_PD_DBS_STN/BIDSdata/derivatives/leaddbs/logs\n",
      "Attempting to import from: /Users/cu135/Dropbox (Partners HealthCare)/resources/datasets/Queensland_PD_DBS_STN/BIDSdata/derivatives/leaddbs/sub-LeadDBS064/stimulations/MNI152NLin2009bAsym/gs_2023Aysu/sub-LeadDBS064_sim-efield_model-simbio_hemi-bl.nii_generated_nifti.nii\n",
      "Image saved to: \n",
      " /Users/cu135/Dropbox (Partners HealthCare)/resources/datasets/Queensland_PD_DBS_STN/BIDSdata/derivatives/leaddbs/sub-LeadDBS064/stimulations/MNI152NLin2009bAsym/gs_2023Aysu\n",
      "\n",
      " ***Processed: /Users/cu135/Dropbox (Partners HealthCare)/resources/datasets/Queensland_PD_DBS_STN/BIDSdata/derivatives/leaddbs/sub-LeadDBS064\n",
      "Attempting to import from: /Users/cu135/Dropbox (Partners HealthCare)/resources/datasets/Queensland_PD_DBS_STN/BIDSdata/derivatives/leaddbs/sub-LeadDBS063/stimulations/MNI152NLin2009bAsym/gs_2023Aysu/sub-LeadDBS063_sim-efield_model-simbio_hemi-bl.nii_generated_nifti.nii\n",
      "Image saved to: \n",
      " /Users/cu135/Dropbox (Partners HealthCare)/resources/datasets/Queensland_PD_DBS_STN/BIDSdata/derivatives/leaddbs/sub-LeadDBS063/stimulations/MNI152NLin2009bAsym/gs_2023Aysu\n",
      "\n",
      " ***Processed: /Users/cu135/Dropbox (Partners HealthCare)/resources/datasets/Queensland_PD_DBS_STN/BIDSdata/derivatives/leaddbs/sub-LeadDBS063\n",
      "Attempting to import from: /Users/cu135/Dropbox (Partners HealthCare)/resources/datasets/Queensland_PD_DBS_STN/BIDSdata/derivatives/leaddbs/sub-LeadDBS055/stimulations/MNI152NLin2009bAsym/gs_2023Aysu/sub-LeadDBS055_sim-efield_model-simbio_hemi-bl.nii_generated_nifti.nii\n"
     ]
    },
    {
     "name": "stderr",
     "output_type": "stream",
     "text": [
      " 57%|█████▋    | 35/61 [00:02<00:01, 15.46it/s]"
     ]
    },
    {
     "name": "stdout",
     "output_type": "stream",
     "text": [
      "Image saved to: \n",
      " /Users/cu135/Dropbox (Partners HealthCare)/resources/datasets/Queensland_PD_DBS_STN/BIDSdata/derivatives/leaddbs/sub-LeadDBS055/stimulations/MNI152NLin2009bAsym/gs_2023Aysu\n",
      "\n",
      " ***Processed: /Users/cu135/Dropbox (Partners HealthCare)/resources/datasets/Queensland_PD_DBS_STN/BIDSdata/derivatives/leaddbs/sub-LeadDBS055\n",
      "Attempting to import from: /Users/cu135/Dropbox (Partners HealthCare)/resources/datasets/Queensland_PD_DBS_STN/BIDSdata/derivatives/leaddbs/sub-LeadDBS052/stimulations/MNI152NLin2009bAsym/gs_2023Aysu/sub-LeadDBS052_sim-efield_model-simbio_hemi-bl.nii_generated_nifti.nii\n",
      "Image saved to: \n",
      " /Users/cu135/Dropbox (Partners HealthCare)/resources/datasets/Queensland_PD_DBS_STN/BIDSdata/derivatives/leaddbs/sub-LeadDBS052/stimulations/MNI152NLin2009bAsym/gs_2023Aysu\n",
      "\n",
      " ***Processed: /Users/cu135/Dropbox (Partners HealthCare)/resources/datasets/Queensland_PD_DBS_STN/BIDSdata/derivatives/leaddbs/sub-LeadDBS052\n",
      "Attempting to import from: /Users/cu135/Dropbox (Partners HealthCare)/resources/datasets/Queensland_PD_DBS_STN/BIDSdata/derivatives/leaddbs/sub-LeadDBS039/stimulations/MNI152NLin2009bAsym/gs_2023Aysu/sub-LeadDBS039_sim-efield_model-simbio_hemi-bl.nii_generated_nifti.nii\n",
      "Image saved to: \n",
      " /Users/cu135/Dropbox (Partners HealthCare)/resources/datasets/Queensland_PD_DBS_STN/BIDSdata/derivatives/leaddbs/sub-LeadDBS039/stimulations/MNI152NLin2009bAsym/gs_2023Aysu\n",
      "\n",
      " ***Processed: /Users/cu135/Dropbox (Partners HealthCare)/resources/datasets/Queensland_PD_DBS_STN/BIDSdata/derivatives/leaddbs/sub-LeadDBS039\n",
      "Attempting to import from: /Users/cu135/Dropbox (Partners HealthCare)/resources/datasets/Queensland_PD_DBS_STN/BIDSdata/derivatives/leaddbs/sub-LeadDBS037/stimulations/MNI152NLin2009bAsym/gs_2023Aysu/sub-LeadDBS037_sim-efield_model-simbio_hemi-bl.nii_generated_nifti.nii\n"
     ]
    },
    {
     "name": "stderr",
     "output_type": "stream",
     "text": [
      " 61%|██████    | 37/61 [00:02<00:01, 14.99it/s]"
     ]
    },
    {
     "name": "stdout",
     "output_type": "stream",
     "text": [
      "Image saved to: \n",
      " /Users/cu135/Dropbox (Partners HealthCare)/resources/datasets/Queensland_PD_DBS_STN/BIDSdata/derivatives/leaddbs/sub-LeadDBS037/stimulations/MNI152NLin2009bAsym/gs_2023Aysu\n",
      "\n",
      " ***Processed: /Users/cu135/Dropbox (Partners HealthCare)/resources/datasets/Queensland_PD_DBS_STN/BIDSdata/derivatives/leaddbs/sub-LeadDBS037\n",
      "Attempting to import from: /Users/cu135/Dropbox (Partners HealthCare)/resources/datasets/Queensland_PD_DBS_STN/BIDSdata/derivatives/leaddbs/sub-LeadDBS030/stimulations/MNI152NLin2009bAsym/gs_2023Aysu/sub-LeadDBS030_sim-efield_model-simbio_hemi-bl.nii_generated_nifti.nii\n",
      "Image saved to: \n",
      " /Users/cu135/Dropbox (Partners HealthCare)/resources/datasets/Queensland_PD_DBS_STN/BIDSdata/derivatives/leaddbs/sub-LeadDBS030/stimulations/MNI152NLin2009bAsym/gs_2023Aysu\n",
      "\n",
      " ***Processed: /Users/cu135/Dropbox (Partners HealthCare)/resources/datasets/Queensland_PD_DBS_STN/BIDSdata/derivatives/leaddbs/sub-LeadDBS030\n",
      "Attempting to import from: /Users/cu135/Dropbox (Partners HealthCare)/resources/datasets/Queensland_PD_DBS_STN/BIDSdata/derivatives/leaddbs/sub-LeadDBS053/stimulations/MNI152NLin2009bAsym/gs_2023Aysu/sub-LeadDBS053_sim-efield_model-simbio_hemi-bl.nii_generated_nifti.nii\n",
      "Image saved to: \n",
      " /Users/cu135/Dropbox (Partners HealthCare)/resources/datasets/Queensland_PD_DBS_STN/BIDSdata/derivatives/leaddbs/sub-LeadDBS053/stimulations/MNI152NLin2009bAsym/gs_2023Aysu\n",
      "\n",
      " ***Processed: /Users/cu135/Dropbox (Partners HealthCare)/resources/datasets/Queensland_PD_DBS_STN/BIDSdata/derivatives/leaddbs/sub-LeadDBS053\n",
      "Attempting to import from: /Users/cu135/Dropbox (Partners HealthCare)/resources/datasets/Queensland_PD_DBS_STN/BIDSdata/derivatives/leaddbs/sub-LeadDBS054/stimulations/MNI152NLin2009bAsym/gs_2023Aysu/sub-LeadDBS054_sim-efield_model-simbio_hemi-bl.nii_generated_nifti.nii\n"
     ]
    },
    {
     "name": "stderr",
     "output_type": "stream",
     "text": [
      " 67%|██████▋   | 41/61 [00:02<00:01, 14.98it/s]"
     ]
    },
    {
     "name": "stdout",
     "output_type": "stream",
     "text": [
      "Image saved to: \n",
      " /Users/cu135/Dropbox (Partners HealthCare)/resources/datasets/Queensland_PD_DBS_STN/BIDSdata/derivatives/leaddbs/sub-LeadDBS054/stimulations/MNI152NLin2009bAsym/gs_2023Aysu\n",
      "\n",
      " ***Processed: /Users/cu135/Dropbox (Partners HealthCare)/resources/datasets/Queensland_PD_DBS_STN/BIDSdata/derivatives/leaddbs/sub-LeadDBS054\n",
      "Attempting to import from: /Users/cu135/Dropbox (Partners HealthCare)/resources/datasets/Queensland_PD_DBS_STN/BIDSdata/derivatives/leaddbs/sub-LeadDBS062/stimulations/MNI152NLin2009bAsym/gs_2023Aysu/sub-LeadDBS062_sim-efield_model-simbio_hemi-bl.nii_generated_nifti.nii\n",
      "Image saved to: \n",
      " /Users/cu135/Dropbox (Partners HealthCare)/resources/datasets/Queensland_PD_DBS_STN/BIDSdata/derivatives/leaddbs/sub-LeadDBS062/stimulations/MNI152NLin2009bAsym/gs_2023Aysu\n",
      "\n",
      " ***Processed: /Users/cu135/Dropbox (Partners HealthCare)/resources/datasets/Queensland_PD_DBS_STN/BIDSdata/derivatives/leaddbs/sub-LeadDBS062\n",
      "Attempting to import from: /Users/cu135/Dropbox (Partners HealthCare)/resources/datasets/Queensland_PD_DBS_STN/BIDSdata/derivatives/leaddbs/sub-LeadDBS091/stimulations/MNI152NLin2009bAsym/gs_2023Aysu/sub-LeadDBS091_sim-efield_model-simbio_hemi-bl.nii_generated_nifti.nii\n",
      "Image saved to: \n",
      " /Users/cu135/Dropbox (Partners HealthCare)/resources/datasets/Queensland_PD_DBS_STN/BIDSdata/derivatives/leaddbs/sub-LeadDBS091/stimulations/MNI152NLin2009bAsym/gs_2023Aysu\n",
      "\n",
      " ***Processed: /Users/cu135/Dropbox (Partners HealthCare)/resources/datasets/Queensland_PD_DBS_STN/BIDSdata/derivatives/leaddbs/sub-LeadDBS091\n",
      "Attempting to import from: /Users/cu135/Dropbox (Partners HealthCare)/resources/datasets/Queensland_PD_DBS_STN/BIDSdata/derivatives/leaddbs/sub-LeadDBS065/stimulations/MNI152NLin2009bAsym/gs_2023Aysu/sub-LeadDBS065_sim-efield_model-simbio_hemi-bl.nii_generated_nifti.nii\n",
      "Image saved to: \n",
      " /Users/cu135/Dropbox (Partners HealthCare)/resources/datasets/Queensland_PD_DBS_STN/BIDSdata/derivatives/leaddbs/sub-LeadDBS065/stimulations/MNI152NLin2009bAsym/gs_2023Aysu\n",
      "\n",
      " ***Processed: /Users/cu135/Dropbox (Partners HealthCare)/resources/datasets/Queensland_PD_DBS_STN/BIDSdata/derivatives/leaddbs/sub-LeadDBS065\n",
      "Attempting to import from: /Users/cu135/Dropbox (Partners HealthCare)/resources/datasets/Queensland_PD_DBS_STN/BIDSdata/derivatives/leaddbs/sub-LeadDBS031/stimulations/MNI152NLin2009bAsym/gs_2023Aysu/sub-LeadDBS031_sim-efield_model-simbio_hemi-bl.nii_generated_nifti.nii\n"
     ]
    },
    {
     "name": "stderr",
     "output_type": "stream",
     "text": [
      " 74%|███████▍  | 45/61 [00:03<00:01, 14.59it/s]"
     ]
    },
    {
     "name": "stdout",
     "output_type": "stream",
     "text": [
      "Image saved to: \n",
      " /Users/cu135/Dropbox (Partners HealthCare)/resources/datasets/Queensland_PD_DBS_STN/BIDSdata/derivatives/leaddbs/sub-LeadDBS031/stimulations/MNI152NLin2009bAsym/gs_2023Aysu\n",
      "\n",
      " ***Processed: /Users/cu135/Dropbox (Partners HealthCare)/resources/datasets/Queensland_PD_DBS_STN/BIDSdata/derivatives/leaddbs/sub-LeadDBS031\n",
      "Attempting to import from: /Users/cu135/Dropbox (Partners HealthCare)/resources/datasets/Queensland_PD_DBS_STN/BIDSdata/derivatives/leaddbs/sub-LeadDBS036/stimulations/MNI152NLin2009bAsym/gs_2023Aysu/sub-LeadDBS036_sim-efield_model-simbio_hemi-bl.nii_generated_nifti.nii\n",
      "Image saved to: \n",
      " /Users/cu135/Dropbox (Partners HealthCare)/resources/datasets/Queensland_PD_DBS_STN/BIDSdata/derivatives/leaddbs/sub-LeadDBS036/stimulations/MNI152NLin2009bAsym/gs_2023Aysu\n",
      "\n",
      " ***Processed: /Users/cu135/Dropbox (Partners HealthCare)/resources/datasets/Queensland_PD_DBS_STN/BIDSdata/derivatives/leaddbs/sub-LeadDBS036\n",
      "Attempting to import from: /Users/cu135/Dropbox (Partners HealthCare)/resources/datasets/Queensland_PD_DBS_STN/BIDSdata/derivatives/leaddbs/sub-LeadDBS038/stimulations/MNI152NLin2009bAsym/gs_2023Aysu/sub-LeadDBS038_sim-efield_model-simbio_hemi-bl.nii_generated_nifti.nii\n",
      "Image saved to: \n",
      " /Users/cu135/Dropbox (Partners HealthCare)/resources/datasets/Queensland_PD_DBS_STN/BIDSdata/derivatives/leaddbs/sub-LeadDBS038/stimulations/MNI152NLin2009bAsym/gs_2023Aysu\n",
      "\n",
      " ***Processed: /Users/cu135/Dropbox (Partners HealthCare)/resources/datasets/Queensland_PD_DBS_STN/BIDSdata/derivatives/leaddbs/sub-LeadDBS038\n",
      "Attempting to import from: /Users/cu135/Dropbox (Partners HealthCare)/resources/datasets/Queensland_PD_DBS_STN/BIDSdata/derivatives/leaddbs/sub-LeadDBS047/stimulations/MNI152NLin2009bAsym/gs_2023Aysu/sub-LeadDBS047_sim-efield_model-simbio_hemi-bl.nii_generated_nifti.nii\n"
     ]
    },
    {
     "name": "stderr",
     "output_type": "stream",
     "text": [
      " 77%|███████▋  | 47/61 [00:03<00:00, 14.49it/s]"
     ]
    },
    {
     "name": "stdout",
     "output_type": "stream",
     "text": [
      "Image saved to: \n",
      " /Users/cu135/Dropbox (Partners HealthCare)/resources/datasets/Queensland_PD_DBS_STN/BIDSdata/derivatives/leaddbs/sub-LeadDBS047/stimulations/MNI152NLin2009bAsym/gs_2023Aysu\n",
      "\n",
      " ***Processed: /Users/cu135/Dropbox (Partners HealthCare)/resources/datasets/Queensland_PD_DBS_STN/BIDSdata/derivatives/leaddbs/sub-LeadDBS047\n",
      "Attempting to import from: /Users/cu135/Dropbox (Partners HealthCare)/resources/datasets/Queensland_PD_DBS_STN/BIDSdata/derivatives/leaddbs/sub-LeadDBS078/stimulations/MNI152NLin2009bAsym/gs_2023Aysu/sub-LeadDBS078_sim-efield_model-simbio_hemi-bl.nii_generated_nifti.nii\n",
      "Image saved to: \n",
      " /Users/cu135/Dropbox (Partners HealthCare)/resources/datasets/Queensland_PD_DBS_STN/BIDSdata/derivatives/leaddbs/sub-LeadDBS078/stimulations/MNI152NLin2009bAsym/gs_2023Aysu\n",
      "\n",
      " ***Processed: /Users/cu135/Dropbox (Partners HealthCare)/resources/datasets/Queensland_PD_DBS_STN/BIDSdata/derivatives/leaddbs/sub-LeadDBS078\n",
      "Attempting to import from: /Users/cu135/Dropbox (Partners HealthCare)/resources/datasets/Queensland_PD_DBS_STN/BIDSdata/derivatives/leaddbs/sub-LeadDBS040/stimulations/MNI152NLin2009bAsym/gs_2023Aysu/sub-LeadDBS040_sim-efield_model-simbio_hemi-bl.nii_generated_nifti.nii\n",
      "Image saved to: \n",
      " /Users/cu135/Dropbox (Partners HealthCare)/resources/datasets/Queensland_PD_DBS_STN/BIDSdata/derivatives/leaddbs/sub-LeadDBS040/stimulations/MNI152NLin2009bAsym/gs_2023Aysu\n",
      "\n",
      " ***Processed: /Users/cu135/Dropbox (Partners HealthCare)/resources/datasets/Queensland_PD_DBS_STN/BIDSdata/derivatives/leaddbs/sub-LeadDBS040\n",
      "Attempting to import from: /Users/cu135/Dropbox (Partners HealthCare)/resources/datasets/Queensland_PD_DBS_STN/BIDSdata/derivatives/leaddbs/sub-LeadDBS076/stimulations/MNI152NLin2009bAsym/gs_2023Aysu/sub-LeadDBS076_sim-efield_model-simbio_hemi-bl.nii_generated_nifti.nii\n"
     ]
    },
    {
     "name": "stderr",
     "output_type": "stream",
     "text": [
      " 84%|████████▎ | 51/61 [00:03<00:00, 15.01it/s]"
     ]
    },
    {
     "name": "stdout",
     "output_type": "stream",
     "text": [
      "Image saved to: \n",
      " /Users/cu135/Dropbox (Partners HealthCare)/resources/datasets/Queensland_PD_DBS_STN/BIDSdata/derivatives/leaddbs/sub-LeadDBS076/stimulations/MNI152NLin2009bAsym/gs_2023Aysu\n",
      "\n",
      " ***Processed: /Users/cu135/Dropbox (Partners HealthCare)/resources/datasets/Queensland_PD_DBS_STN/BIDSdata/derivatives/leaddbs/sub-LeadDBS076\n",
      "Attempting to import from: /Users/cu135/Dropbox (Partners HealthCare)/resources/datasets/Queensland_PD_DBS_STN/BIDSdata/derivatives/leaddbs/sub-LeadDBS082/stimulations/MNI152NLin2009bAsym/gs_2023Aysu/sub-LeadDBS082_sim-efield_model-simbio_hemi-bl.nii_generated_nifti.nii\n",
      "Image saved to: \n",
      " /Users/cu135/Dropbox (Partners HealthCare)/resources/datasets/Queensland_PD_DBS_STN/BIDSdata/derivatives/leaddbs/sub-LeadDBS082/stimulations/MNI152NLin2009bAsym/gs_2023Aysu\n",
      "\n",
      " ***Processed: /Users/cu135/Dropbox (Partners HealthCare)/resources/datasets/Queensland_PD_DBS_STN/BIDSdata/derivatives/leaddbs/sub-LeadDBS082\n",
      "Attempting to import from: /Users/cu135/Dropbox (Partners HealthCare)/resources/datasets/Queensland_PD_DBS_STN/BIDSdata/derivatives/leaddbs/sub-LeadDBS049/stimulations/MNI152NLin2009bAsym/gs_2023Aysu/sub-LeadDBS049_sim-efield_model-simbio_hemi-bl.nii_generated_nifti.nii\n",
      "Image saved to: \n",
      " /Users/cu135/Dropbox (Partners HealthCare)/resources/datasets/Queensland_PD_DBS_STN/BIDSdata/derivatives/leaddbs/sub-LeadDBS049/stimulations/MNI152NLin2009bAsym/gs_2023Aysu\n",
      "\n",
      " ***Processed: /Users/cu135/Dropbox (Partners HealthCare)/resources/datasets/Queensland_PD_DBS_STN/BIDSdata/derivatives/leaddbs/sub-LeadDBS049\n",
      "Attempting to import from: /Users/cu135/Dropbox (Partners HealthCare)/resources/datasets/Queensland_PD_DBS_STN/BIDSdata/derivatives/leaddbs/sub-LeadDBS085/stimulations/MNI152NLin2009bAsym/gs_2023Aysu/sub-LeadDBS085_sim-efield_model-simbio_hemi-bl.nii_generated_nifti.nii\n",
      "Image saved to: \n",
      " /Users/cu135/Dropbox (Partners HealthCare)/resources/datasets/Queensland_PD_DBS_STN/BIDSdata/derivatives/leaddbs/sub-LeadDBS085/stimulations/MNI152NLin2009bAsym/gs_2023Aysu\n",
      "\n",
      " ***Processed: /Users/cu135/Dropbox (Partners HealthCare)/resources/datasets/Queensland_PD_DBS_STN/BIDSdata/derivatives/leaddbs/sub-LeadDBS085\n",
      "Attempting to import from: /Users/cu135/Dropbox (Partners HealthCare)/resources/datasets/Queensland_PD_DBS_STN/BIDSdata/derivatives/leaddbs/sub-LeadDBS071/stimulations/MNI152NLin2009bAsym/gs_2023Aysu/sub-LeadDBS071_sim-efield_model-simbio_hemi-bl.nii_generated_nifti.nii\n"
     ]
    },
    {
     "name": "stderr",
     "output_type": "stream",
     "text": [
      " 90%|█████████ | 55/61 [00:03<00:00, 14.69it/s]"
     ]
    },
    {
     "name": "stdout",
     "output_type": "stream",
     "text": [
      "Image saved to: \n",
      " /Users/cu135/Dropbox (Partners HealthCare)/resources/datasets/Queensland_PD_DBS_STN/BIDSdata/derivatives/leaddbs/sub-LeadDBS071/stimulations/MNI152NLin2009bAsym/gs_2023Aysu\n",
      "\n",
      " ***Processed: /Users/cu135/Dropbox (Partners HealthCare)/resources/datasets/Queensland_PD_DBS_STN/BIDSdata/derivatives/leaddbs/sub-LeadDBS071\n",
      "Attempting to import from: /Users/cu135/Dropbox (Partners HealthCare)/resources/datasets/Queensland_PD_DBS_STN/BIDSdata/derivatives/leaddbs/sub-LeadDBS070/stimulations/MNI152NLin2009bAsym/gs_2023Aysu/sub-LeadDBS070_sim-efield_model-simbio_hemi-bl.nii_generated_nifti.nii\n",
      "Image saved to: \n",
      " /Users/cu135/Dropbox (Partners HealthCare)/resources/datasets/Queensland_PD_DBS_STN/BIDSdata/derivatives/leaddbs/sub-LeadDBS070/stimulations/MNI152NLin2009bAsym/gs_2023Aysu\n",
      "\n",
      " ***Processed: /Users/cu135/Dropbox (Partners HealthCare)/resources/datasets/Queensland_PD_DBS_STN/BIDSdata/derivatives/leaddbs/sub-LeadDBS070\n",
      "Attempting to import from: /Users/cu135/Dropbox (Partners HealthCare)/resources/datasets/Queensland_PD_DBS_STN/BIDSdata/derivatives/leaddbs/sub-LeadDBS084/stimulations/MNI152NLin2009bAsym/gs_2023Aysu/sub-LeadDBS084_sim-efield_model-simbio_hemi-bl.nii_generated_nifti.nii\n",
      "Image saved to: \n",
      " /Users/cu135/Dropbox (Partners HealthCare)/resources/datasets/Queensland_PD_DBS_STN/BIDSdata/derivatives/leaddbs/sub-LeadDBS084/stimulations/MNI152NLin2009bAsym/gs_2023Aysu\n",
      "\n",
      " ***Processed: /Users/cu135/Dropbox (Partners HealthCare)/resources/datasets/Queensland_PD_DBS_STN/BIDSdata/derivatives/leaddbs/sub-LeadDBS084\n",
      "Attempting to import from: /Users/cu135/Dropbox (Partners HealthCare)/resources/datasets/Queensland_PD_DBS_STN/BIDSdata/derivatives/leaddbs/sub-LeadDBS083/stimulations/MNI152NLin2009bAsym/gs_2023Aysu/sub-LeadDBS083_sim-efield_model-simbio_hemi-bl.nii_generated_nifti.nii\n"
     ]
    },
    {
     "name": "stderr",
     "output_type": "stream",
     "text": [
      " 97%|█████████▋| 59/61 [00:03<00:00, 14.67it/s]"
     ]
    },
    {
     "name": "stdout",
     "output_type": "stream",
     "text": [
      "Image saved to: \n",
      " /Users/cu135/Dropbox (Partners HealthCare)/resources/datasets/Queensland_PD_DBS_STN/BIDSdata/derivatives/leaddbs/sub-LeadDBS083/stimulations/MNI152NLin2009bAsym/gs_2023Aysu\n",
      "\n",
      " ***Processed: /Users/cu135/Dropbox (Partners HealthCare)/resources/datasets/Queensland_PD_DBS_STN/BIDSdata/derivatives/leaddbs/sub-LeadDBS083\n",
      "Attempting to import from: /Users/cu135/Dropbox (Partners HealthCare)/resources/datasets/Queensland_PD_DBS_STN/BIDSdata/derivatives/leaddbs/sub-LeadDBS077/stimulations/MNI152NLin2009bAsym/gs_2023Aysu/sub-LeadDBS077_sim-efield_model-simbio_hemi-bl.nii_generated_nifti.nii\n",
      "Image saved to: \n",
      " /Users/cu135/Dropbox (Partners HealthCare)/resources/datasets/Queensland_PD_DBS_STN/BIDSdata/derivatives/leaddbs/sub-LeadDBS077/stimulations/MNI152NLin2009bAsym/gs_2023Aysu\n",
      "\n",
      " ***Processed: /Users/cu135/Dropbox (Partners HealthCare)/resources/datasets/Queensland_PD_DBS_STN/BIDSdata/derivatives/leaddbs/sub-LeadDBS077\n",
      "Attempting to import from: /Users/cu135/Dropbox (Partners HealthCare)/resources/datasets/Queensland_PD_DBS_STN/BIDSdata/derivatives/leaddbs/sub-LeadDBS048/stimulations/MNI152NLin2009bAsym/gs_2023Aysu/sub-LeadDBS048_sim-efield_model-simbio_hemi-bl.nii_generated_nifti.nii\n",
      "Image saved to: \n",
      " /Users/cu135/Dropbox (Partners HealthCare)/resources/datasets/Queensland_PD_DBS_STN/BIDSdata/derivatives/leaddbs/sub-LeadDBS048/stimulations/MNI152NLin2009bAsym/gs_2023Aysu\n",
      "\n",
      " ***Processed: /Users/cu135/Dropbox (Partners HealthCare)/resources/datasets/Queensland_PD_DBS_STN/BIDSdata/derivatives/leaddbs/sub-LeadDBS048\n",
      "Attempting to import from: /Users/cu135/Dropbox (Partners HealthCare)/resources/datasets/Queensland_PD_DBS_STN/BIDSdata/derivatives/leaddbs/sub-LeadDBS041/stimulations/MNI152NLin2009bAsym/gs_2023Aysu/sub-LeadDBS041_sim-efield_model-simbio_hemi-bl.nii_generated_nifti.nii\n",
      "Image saved to: \n",
      " /Users/cu135/Dropbox (Partners HealthCare)/resources/datasets/Queensland_PD_DBS_STN/BIDSdata/derivatives/leaddbs/sub-LeadDBS041/stimulations/MNI152NLin2009bAsym/gs_2023Aysu\n",
      "\n",
      " ***Processed: /Users/cu135/Dropbox (Partners HealthCare)/resources/datasets/Queensland_PD_DBS_STN/BIDSdata/derivatives/leaddbs/sub-LeadDBS041\n"
     ]
    },
    {
     "name": "stderr",
     "output_type": "stream",
     "text": [
      "100%|██████████| 61/61 [00:04<00:00, 14.91it/s]"
     ]
    },
    {
     "name": "stdout",
     "output_type": "stream",
     "text": [
      "Attempting to import from: /Users/cu135/Dropbox (Partners HealthCare)/resources/datasets/Queensland_PD_DBS_STN/BIDSdata/derivatives/leaddbs/sub-LeadDBS046/stimulations/MNI152NLin2009bAsym/gs_2023Aysu/sub-LeadDBS046_sim-efield_model-simbio_hemi-bl.nii_generated_nifti.nii\n",
      "Image saved to: \n",
      " /Users/cu135/Dropbox (Partners HealthCare)/resources/datasets/Queensland_PD_DBS_STN/BIDSdata/derivatives/leaddbs/sub-LeadDBS046/stimulations/MNI152NLin2009bAsym/gs_2023Aysu\n",
      "\n",
      " ***Processed: /Users/cu135/Dropbox (Partners HealthCare)/resources/datasets/Queensland_PD_DBS_STN/BIDSdata/derivatives/leaddbs/sub-LeadDBS046\n",
      "Attempting to import from: /Users/cu135/Dropbox (Partners HealthCare)/resources/datasets/Queensland_PD_DBS_STN/BIDSdata/derivatives/leaddbs/sub-LeadDBS079/stimulations/MNI152NLin2009bAsym/gs_2023Aysu/sub-LeadDBS079_sim-efield_model-simbio_hemi-bl.nii_generated_nifti.nii\n",
      "Image saved to: \n",
      " /Users/cu135/Dropbox (Partners HealthCare)/resources/datasets/Queensland_PD_DBS_STN/BIDSdata/derivatives/leaddbs/sub-LeadDBS079/stimulations/MNI152NLin2009bAsym/gs_2023Aysu\n",
      "\n",
      " ***Processed: /Users/cu135/Dropbox (Partners HealthCare)/resources/datasets/Queensland_PD_DBS_STN/BIDSdata/derivatives/leaddbs/sub-LeadDBS079\n"
     ]
    },
    {
     "name": "stderr",
     "output_type": "stream",
     "text": [
      "\n"
     ]
    }
   ],
   "source": [
    "threshold_niftis_in_bids(root_dir=root_dir, file_pattern=file_pattern, output_file_name=output_file_name, threshold=0.2)"
   ]
  },
  {
   "cell_type": "code",
   "execution_count": null,
   "metadata": {},
   "outputs": [],
   "source": []
  }
 ],
 "metadata": {
  "kernelspec": {
   "display_name": "nimlab_py310",
   "language": "python",
   "name": "python3"
  },
  "language_info": {
   "codemirror_mode": {
    "name": "ipython",
    "version": 3
   },
   "file_extension": ".py",
   "mimetype": "text/x-python",
   "name": "python",
   "nbconvert_exporter": "python",
   "pygments_lexer": "ipython3",
   "version": "3.10.8"
  }
 },
 "nbformat": 4,
 "nbformat_minor": 2
}
