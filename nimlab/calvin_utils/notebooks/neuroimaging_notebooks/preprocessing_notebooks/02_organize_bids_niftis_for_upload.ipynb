{
 "cells": [
  {
   "cell_type": "markdown",
   "metadata": {},
   "source": [
    "- root_dir: the base of the BIDS directory.\n",
    "- file_pattern: the wildcarded matching pattern for the base file. \n",
    "- destination folder is the singular folder you would like all the niftis to be copied to. "
   ]
  },
  {
   "cell_type": "code",
   "execution_count": 4,
   "metadata": {},
   "outputs": [],
   "source": [
    "destination_folder = \"/Users/cu135/Dropbox (Partners HealthCare)/resources/datasets/Queensland_PD_DBS_STN/BIDSdata/derivatives/compound_vtas\"\n",
    "root_dir = r\"/Users/cu135/Dropbox (Partners HealthCare)/resources/datasets/Queensland_PD_DBS_STN/BIDSdata/derivatives/leaddbs\"\n",
    "file_pattern = r\"*preprocessed_generated*\""
   ]
  },
  {
   "cell_type": "code",
   "execution_count": 5,
   "metadata": {},
   "outputs": [],
   "source": [
    "import os\n",
    "from glob import glob\n",
    "import shutil\n",
    "from tqdm import tqdm\n",
    "\n",
    "def copy_files_to_new_location(root_dir, file_pattern, new_location):\n",
    "    \"\"\"\n",
    "    Copies files matching a given pattern from a root directory to a new location.\n",
    "    \"\"\"\n",
    "    if not os.path.exists(new_location):\n",
    "        os.makedirs(new_location)\n",
    "\n",
    "    for sub_dir in tqdm(os.listdir(root_dir)):\n",
    "        sub_dir_path = os.path.join(root_dir, sub_dir)\n",
    "        if not os.path.isdir(sub_dir_path):\n",
    "            continue\n",
    "\n",
    "        files_to_copy = glob(os.path.join(sub_dir_path, \"**\", file_pattern), recursive=True)\n",
    "\n",
    "        for file in files_to_copy:\n",
    "            shutil.copy(file, new_location)\n",
    "            print(f\"Copied {file} to {new_location}\")\n",
    "\n",
    "# Example usage\n",
    "# copy_files_to_new_location(\"/path/to/root_dir\", \"*.nii\", \"/path/to/new_location\")"
   ]
  },
  {
   "cell_type": "code",
   "execution_count": 6,
   "metadata": {},
   "outputs": [
    {
     "name": "stderr",
     "output_type": "stream",
     "text": [
      " 33%|███▎      | 20/61 [00:00<00:00, 195.26it/s]"
     ]
    },
    {
     "name": "stdout",
     "output_type": "stream",
     "text": [
      "Copied /Users/cu135/Dropbox (Partners HealthCare)/resources/datasets/Queensland_PD_DBS_STN/BIDSdata/derivatives/leaddbs/sub-LeadDBS034/stimulations/MNI152NLin2009bAsym/gs_2023Aysu/sub-LeadDBS034__sim-binary_model-simbio_hemi-bl_preprocessed_generated_nifti.nii to /Users/cu135/Dropbox (Partners HealthCare)/resources/datasets/Queensland_PD_DBS_STN/BIDSdata/derivatives/compound_vtas\n",
      "Copied /Users/cu135/Dropbox (Partners HealthCare)/resources/datasets/Queensland_PD_DBS_STN/BIDSdata/derivatives/leaddbs/sub-LeadDBS060/stimulations/MNI152NLin2009bAsym/gs_2023Aysu/sub-LeadDBS060__sim-binary_model-simbio_hemi-bl_preprocessed_generated_nifti.nii to /Users/cu135/Dropbox (Partners HealthCare)/resources/datasets/Queensland_PD_DBS_STN/BIDSdata/derivatives/compound_vtas\n",
      "Copied /Users/cu135/Dropbox (Partners HealthCare)/resources/datasets/Queensland_PD_DBS_STN/BIDSdata/derivatives/leaddbs/sub-LeadDBS058/stimulations/MNI152NLin2009bAsym/gs_2023Aysu/sub-LeadDBS058__sim-binary_model-simbio_hemi-bl_preprocessed_generated_nifti.nii to /Users/cu135/Dropbox (Partners HealthCare)/resources/datasets/Queensland_PD_DBS_STN/BIDSdata/derivatives/compound_vtas\n",
      "Copied /Users/cu135/Dropbox (Partners HealthCare)/resources/datasets/Queensland_PD_DBS_STN/BIDSdata/derivatives/leaddbs/sub-LeadDBS067/stimulations/MNI152NLin2009bAsym/gs_2023Aysu/sub-LeadDBS067__sim-binary_model-simbio_hemi-bl_preprocessed_generated_nifti.nii to /Users/cu135/Dropbox (Partners HealthCare)/resources/datasets/Queensland_PD_DBS_STN/BIDSdata/derivatives/compound_vtas\n",
      "Copied /Users/cu135/Dropbox (Partners HealthCare)/resources/datasets/Queensland_PD_DBS_STN/BIDSdata/derivatives/leaddbs/sub-LeadDBS051/stimulations/MNI152NLin2009bAsym/gs_2023Aysu/sub-LeadDBS051__sim-binary_model-simbio_hemi-bl_preprocessed_generated_nifti.nii to /Users/cu135/Dropbox (Partners HealthCare)/resources/datasets/Queensland_PD_DBS_STN/BIDSdata/derivatives/compound_vtas\n",
      "Copied /Users/cu135/Dropbox (Partners HealthCare)/resources/datasets/Queensland_PD_DBS_STN/BIDSdata/derivatives/leaddbs/sub-LeadDBS069/stimulations/MNI152NLin2009bAsym/gs_2023Aysu/sub-LeadDBS069__sim-binary_model-simbio_hemi-bl_preprocessed_generated_nifti.nii to /Users/cu135/Dropbox (Partners HealthCare)/resources/datasets/Queensland_PD_DBS_STN/BIDSdata/derivatives/compound_vtas\n",
      "Copied /Users/cu135/Dropbox (Partners HealthCare)/resources/datasets/Queensland_PD_DBS_STN/BIDSdata/derivatives/leaddbs/sub-LeadDBS056/stimulations/MNI152NLin2009bAsym/gs_2023Aysu/sub-LeadDBS056__sim-binary_model-simbio_hemi-bl_preprocessed_generated_nifti.nii to /Users/cu135/Dropbox (Partners HealthCare)/resources/datasets/Queensland_PD_DBS_STN/BIDSdata/derivatives/compound_vtas\n",
      "Copied /Users/cu135/Dropbox (Partners HealthCare)/resources/datasets/Queensland_PD_DBS_STN/BIDSdata/derivatives/leaddbs/sub-LeadDBS035/stimulations/MNI152NLin2009bAsym/gs_2023Aysu/sub-LeadDBS035__sim-binary_model-simbio_hemi-bl_preprocessed_generated_nifti.nii to /Users/cu135/Dropbox (Partners HealthCare)/resources/datasets/Queensland_PD_DBS_STN/BIDSdata/derivatives/compound_vtas\n",
      "Copied /Users/cu135/Dropbox (Partners HealthCare)/resources/datasets/Queensland_PD_DBS_STN/BIDSdata/derivatives/leaddbs/sub-LeadDBS068/stimulations/MNI152NLin2009bAsym/gs_2023Aysu/sub-LeadDBS068__sim-binary_model-simbio_hemi-bl_preprocessed_generated_nifti.nii to /Users/cu135/Dropbox (Partners HealthCare)/resources/datasets/Queensland_PD_DBS_STN/BIDSdata/derivatives/compound_vtas\n",
      "Copied /Users/cu135/Dropbox (Partners HealthCare)/resources/datasets/Queensland_PD_DBS_STN/BIDSdata/derivatives/leaddbs/sub-LeadDBS057/stimulations/MNI152NLin2009bAsym/gs_2023Aysu/sub-LeadDBS057__sim-binary_model-simbio_hemi-bl_preprocessed_generated_nifti.nii to /Users/cu135/Dropbox (Partners HealthCare)/resources/datasets/Queensland_PD_DBS_STN/BIDSdata/derivatives/compound_vtas\n",
      "Copied /Users/cu135/Dropbox (Partners HealthCare)/resources/datasets/Queensland_PD_DBS_STN/BIDSdata/derivatives/leaddbs/sub-LeadDBS050/stimulations/MNI152NLin2009bAsym/gs_2023Aysu/sub-LeadDBS050__sim-binary_model-simbio_hemi-bl_preprocessed_generated_nifti.nii to /Users/cu135/Dropbox (Partners HealthCare)/resources/datasets/Queensland_PD_DBS_STN/BIDSdata/derivatives/compound_vtas\n",
      "Copied /Users/cu135/Dropbox (Partners HealthCare)/resources/datasets/Queensland_PD_DBS_STN/BIDSdata/derivatives/leaddbs/sub-LeadDBS066/stimulations/MNI152NLin2009bAsym/gs_2023Aysu/sub-LeadDBS066__sim-binary_model-simbio_hemi-bl_preprocessed_generated_nifti.nii to /Users/cu135/Dropbox (Partners HealthCare)/resources/datasets/Queensland_PD_DBS_STN/BIDSdata/derivatives/compound_vtas\n",
      "Copied /Users/cu135/Dropbox (Partners HealthCare)/resources/datasets/Queensland_PD_DBS_STN/BIDSdata/derivatives/leaddbs/sub-LeadDBS061/stimulations/MNI152NLin2009bAsym/gs_2023Aysu/sub-LeadDBS061__sim-binary_model-simbio_hemi-bl_preprocessed_generated_nifti.nii to /Users/cu135/Dropbox (Partners HealthCare)/resources/datasets/Queensland_PD_DBS_STN/BIDSdata/derivatives/compound_vtas\n",
      "Copied /Users/cu135/Dropbox (Partners HealthCare)/resources/datasets/Queensland_PD_DBS_STN/BIDSdata/derivatives/leaddbs/sub-LeadDBS043/stimulations/MNI152NLin2009bAsym/gs_2023Aysu/sub-LeadDBS043__sim-binary_model-simbio_hemi-bl_preprocessed_generated_nifti.nii to /Users/cu135/Dropbox (Partners HealthCare)/resources/datasets/Queensland_PD_DBS_STN/BIDSdata/derivatives/compound_vtas\n",
      "Copied /Users/cu135/Dropbox (Partners HealthCare)/resources/datasets/Queensland_PD_DBS_STN/BIDSdata/derivatives/leaddbs/sub-LeadDBS088/stimulations/MNI152NLin2009bAsym/gs_2023Aysu/sub-LeadDBS088__sim-binary_model-simbio_hemi-bl_preprocessed_generated_nifti.nii to /Users/cu135/Dropbox (Partners HealthCare)/resources/datasets/Queensland_PD_DBS_STN/BIDSdata/derivatives/compound_vtas\n",
      "Copied /Users/cu135/Dropbox (Partners HealthCare)/resources/datasets/Queensland_PD_DBS_STN/BIDSdata/derivatives/leaddbs/sub-LeadDBS044/stimulations/MNI152NLin2009bAsym/gs_2023Aysu/sub-LeadDBS044__sim-binary_model-simbio_hemi-bl_preprocessed_generated_nifti.nii to /Users/cu135/Dropbox (Partners HealthCare)/resources/datasets/Queensland_PD_DBS_STN/BIDSdata/derivatives/compound_vtas\n",
      "Copied /Users/cu135/Dropbox (Partners HealthCare)/resources/datasets/Queensland_PD_DBS_STN/BIDSdata/derivatives/leaddbs/sub-LeadDBS086/stimulations/MNI152NLin2009bAsym/gs_2023Aysu/sub-LeadDBS086__sim-binary_model-simbio_hemi-bl_preprocessed_generated_nifti.nii to /Users/cu135/Dropbox (Partners HealthCare)/resources/datasets/Queensland_PD_DBS_STN/BIDSdata/derivatives/compound_vtas\n",
      "Copied /Users/cu135/Dropbox (Partners HealthCare)/resources/datasets/Queensland_PD_DBS_STN/BIDSdata/derivatives/leaddbs/sub-LeadDBS072/stimulations/MNI152NLin2009bAsym/gs_2023Aysu/sub-LeadDBS072__sim-binary_model-simbio_hemi-bl_preprocessed_generated_nifti.nii to /Users/cu135/Dropbox (Partners HealthCare)/resources/datasets/Queensland_PD_DBS_STN/BIDSdata/derivatives/compound_vtas\n",
      "Copied /Users/cu135/Dropbox (Partners HealthCare)/resources/datasets/Queensland_PD_DBS_STN/BIDSdata/derivatives/leaddbs/sub-LeadDBS075/stimulations/MNI152NLin2009bAsym/gs_2023Aysu/sub-LeadDBS075__sim-binary_model-simbio_hemi-bl_preprocessed_generated_nifti.nii to /Users/cu135/Dropbox (Partners HealthCare)/resources/datasets/Queensland_PD_DBS_STN/BIDSdata/derivatives/compound_vtas\n",
      "Copied /Users/cu135/Dropbox (Partners HealthCare)/resources/datasets/Queensland_PD_DBS_STN/BIDSdata/derivatives/leaddbs/sub-LeadDBS081/stimulations/MNI152NLin2009bAsym/gs_2023Aysu/sub-LeadDBS081__sim-binary_model-simbio_hemi-bl_preprocessed_generated_nifti.nii to /Users/cu135/Dropbox (Partners HealthCare)/resources/datasets/Queensland_PD_DBS_STN/BIDSdata/derivatives/compound_vtas\n",
      "Copied /Users/cu135/Dropbox (Partners HealthCare)/resources/datasets/Queensland_PD_DBS_STN/BIDSdata/derivatives/leaddbs/sub-LeadDBS080/stimulations/MNI152NLin2009bAsym/gs_2023Aysu/sub-LeadDBS080__sim-binary_model-simbio_hemi-bl_preprocessed_generated_nifti.nii to /Users/cu135/Dropbox (Partners HealthCare)/resources/datasets/Queensland_PD_DBS_STN/BIDSdata/derivatives/compound_vtas\n",
      "Copied /Users/cu135/Dropbox (Partners HealthCare)/resources/datasets/Queensland_PD_DBS_STN/BIDSdata/derivatives/leaddbs/sub-LeadDBS074/stimulations/MNI152NLin2009bAsym/gs_2023Aysu/sub-LeadDBS074__sim-binary_model-simbio_hemi-bl_preprocessed_generated_nifti.nii to /Users/cu135/Dropbox (Partners HealthCare)/resources/datasets/Queensland_PD_DBS_STN/BIDSdata/derivatives/compound_vtas\n",
      "Copied /Users/cu135/Dropbox (Partners HealthCare)/resources/datasets/Queensland_PD_DBS_STN/BIDSdata/derivatives/leaddbs/sub-LeadDBS073/stimulations/MNI152NLin2009bAsym/gs_2023Aysu/sub-LeadDBS073__sim-binary_model-simbio_hemi-bl_preprocessed_generated_nifti.nii to /Users/cu135/Dropbox (Partners HealthCare)/resources/datasets/Queensland_PD_DBS_STN/BIDSdata/derivatives/compound_vtas\n",
      "Copied /Users/cu135/Dropbox (Partners HealthCare)/resources/datasets/Queensland_PD_DBS_STN/BIDSdata/derivatives/leaddbs/sub-LeadDBS087/stimulations/MNI152NLin2009bAsym/gs_2023Aysu/sub-LeadDBS087__sim-binary_model-simbio_hemi-bl_preprocessed_generated_nifti.nii to /Users/cu135/Dropbox (Partners HealthCare)/resources/datasets/Queensland_PD_DBS_STN/BIDSdata/derivatives/compound_vtas\n",
      "Copied /Users/cu135/Dropbox (Partners HealthCare)/resources/datasets/Queensland_PD_DBS_STN/BIDSdata/derivatives/leaddbs/sub-LeadDBS045/stimulations/MNI152NLin2009bAsym/gs_2023Aysu/sub-LeadDBS045__sim-binary_model-simbio_hemi-bl_preprocessed_generated_nifti.nii to /Users/cu135/Dropbox (Partners HealthCare)/resources/datasets/Queensland_PD_DBS_STN/BIDSdata/derivatives/compound_vtas\n",
      "Copied /Users/cu135/Dropbox (Partners HealthCare)/resources/datasets/Queensland_PD_DBS_STN/BIDSdata/derivatives/leaddbs/sub-LeadDBS042/stimulations/MNI152NLin2009bAsym/gs_2023Aysu/sub-LeadDBS042__sim-binary_model-simbio_hemi-bl_preprocessed_generated_nifti.nii to /Users/cu135/Dropbox (Partners HealthCare)/resources/datasets/Queensland_PD_DBS_STN/BIDSdata/derivatives/compound_vtas\n",
      "Copied /Users/cu135/Dropbox (Partners HealthCare)/resources/datasets/Queensland_PD_DBS_STN/BIDSdata/derivatives/leaddbs/sub-LeadDBS089/stimulations/MNI152NLin2009bAsym/gs_2023Aysu/sub-LeadDBS089__sim-binary_model-simbio_hemi-bl_preprocessed_generated_nifti.nii to /Users/cu135/Dropbox (Partners HealthCare)/resources/datasets/Queensland_PD_DBS_STN/BIDSdata/derivatives/compound_vtas\n",
      "Copied /Users/cu135/Dropbox (Partners HealthCare)/resources/datasets/Queensland_PD_DBS_STN/BIDSdata/derivatives/leaddbs/sub-LeadDBS029/stimulations/MNI152NLin2009bAsym/gs_2023Aysu/sub-LeadDBS029__sim-binary_model-simbio_hemi-bl_preprocessed_generated_nifti.nii to /Users/cu135/Dropbox (Partners HealthCare)/resources/datasets/Queensland_PD_DBS_STN/BIDSdata/derivatives/compound_vtas\n",
      "Copied /Users/cu135/Dropbox (Partners HealthCare)/resources/datasets/Queensland_PD_DBS_STN/BIDSdata/derivatives/leaddbs/sub-LeadDBS064/stimulations/MNI152NLin2009bAsym/gs_2023Aysu/sub-LeadDBS064__sim-binary_model-simbio_hemi-bl_preprocessed_generated_nifti.nii to /Users/cu135/Dropbox (Partners HealthCare)/resources/datasets/Queensland_PD_DBS_STN/BIDSdata/derivatives/compound_vtas\n",
      "Copied /Users/cu135/Dropbox (Partners HealthCare)/resources/datasets/Queensland_PD_DBS_STN/BIDSdata/derivatives/leaddbs/sub-LeadDBS063/stimulations/MNI152NLin2009bAsym/gs_2023Aysu/sub-LeadDBS063__sim-binary_model-simbio_hemi-bl_preprocessed_generated_nifti.nii to /Users/cu135/Dropbox (Partners HealthCare)/resources/datasets/Queensland_PD_DBS_STN/BIDSdata/derivatives/compound_vtas\n",
      "Copied /Users/cu135/Dropbox (Partners HealthCare)/resources/datasets/Queensland_PD_DBS_STN/BIDSdata/derivatives/leaddbs/sub-LeadDBS055/stimulations/MNI152NLin2009bAsym/gs_2023Aysu/sub-LeadDBS055__sim-binary_model-simbio_hemi-bl_preprocessed_generated_nifti.nii to /Users/cu135/Dropbox (Partners HealthCare)/resources/datasets/Queensland_PD_DBS_STN/BIDSdata/derivatives/compound_vtas\n",
      "Copied /Users/cu135/Dropbox (Partners HealthCare)/resources/datasets/Queensland_PD_DBS_STN/BIDSdata/derivatives/leaddbs/sub-LeadDBS052/stimulations/MNI152NLin2009bAsym/gs_2023Aysu/sub-LeadDBS052__sim-binary_model-simbio_hemi-bl_preprocessed_generated_nifti.nii to /Users/cu135/Dropbox (Partners HealthCare)/resources/datasets/Queensland_PD_DBS_STN/BIDSdata/derivatives/compound_vtas\n",
      "Copied /Users/cu135/Dropbox (Partners HealthCare)/resources/datasets/Queensland_PD_DBS_STN/BIDSdata/derivatives/leaddbs/sub-LeadDBS039/stimulations/MNI152NLin2009bAsym/gs_2023Aysu/sub-LeadDBS039__sim-binary_model-simbio_hemi-bl_preprocessed_generated_nifti.nii to /Users/cu135/Dropbox (Partners HealthCare)/resources/datasets/Queensland_PD_DBS_STN/BIDSdata/derivatives/compound_vtas\n",
      "Copied /Users/cu135/Dropbox (Partners HealthCare)/resources/datasets/Queensland_PD_DBS_STN/BIDSdata/derivatives/leaddbs/sub-LeadDBS037/stimulations/MNI152NLin2009bAsym/gs_2023Aysu/sub-LeadDBS037__sim-binary_model-simbio_hemi-bl_preprocessed_generated_nifti.nii to /Users/cu135/Dropbox (Partners HealthCare)/resources/datasets/Queensland_PD_DBS_STN/BIDSdata/derivatives/compound_vtas\n",
      "Copied /Users/cu135/Dropbox (Partners HealthCare)/resources/datasets/Queensland_PD_DBS_STN/BIDSdata/derivatives/leaddbs/sub-LeadDBS030/stimulations/MNI152NLin2009bAsym/gs_2023Aysu/sub-LeadDBS030__sim-binary_model-simbio_hemi-bl_preprocessed_generated_nifti.nii to /Users/cu135/Dropbox (Partners HealthCare)/resources/datasets/Queensland_PD_DBS_STN/BIDSdata/derivatives/compound_vtas\n",
      "Copied /Users/cu135/Dropbox (Partners HealthCare)/resources/datasets/Queensland_PD_DBS_STN/BIDSdata/derivatives/leaddbs/sub-LeadDBS053/stimulations/MNI152NLin2009bAsym/gs_2023Aysu/sub-LeadDBS053__sim-binary_model-simbio_hemi-bl_preprocessed_generated_nifti.nii to /Users/cu135/Dropbox (Partners HealthCare)/resources/datasets/Queensland_PD_DBS_STN/BIDSdata/derivatives/compound_vtas\n",
      "Copied /Users/cu135/Dropbox (Partners HealthCare)/resources/datasets/Queensland_PD_DBS_STN/BIDSdata/derivatives/leaddbs/sub-LeadDBS054/stimulations/MNI152NLin2009bAsym/gs_2023Aysu/sub-LeadDBS054__sim-binary_model-simbio_hemi-bl_preprocessed_generated_nifti.nii to /Users/cu135/Dropbox (Partners HealthCare)/resources/datasets/Queensland_PD_DBS_STN/BIDSdata/derivatives/compound_vtas\n"
     ]
    },
    {
     "name": "stderr",
     "output_type": "stream",
     "text": [
      "100%|██████████| 61/61 [00:00<00:00, 171.39it/s]"
     ]
    },
    {
     "name": "stdout",
     "output_type": "stream",
     "text": [
      "Copied /Users/cu135/Dropbox (Partners HealthCare)/resources/datasets/Queensland_PD_DBS_STN/BIDSdata/derivatives/leaddbs/sub-LeadDBS062/stimulations/MNI152NLin2009bAsym/gs_2023Aysu/sub-LeadDBS062__sim-binary_model-simbio_hemi-bl_preprocessed_generated_nifti.nii to /Users/cu135/Dropbox (Partners HealthCare)/resources/datasets/Queensland_PD_DBS_STN/BIDSdata/derivatives/compound_vtas\n",
      "Copied /Users/cu135/Dropbox (Partners HealthCare)/resources/datasets/Queensland_PD_DBS_STN/BIDSdata/derivatives/leaddbs/sub-LeadDBS091/stimulations/MNI152NLin2009bAsym/gs_2023Aysu/sub-LeadDBS091__sim-binary_model-simbio_hemi-bl_preprocessed_generated_nifti.nii to /Users/cu135/Dropbox (Partners HealthCare)/resources/datasets/Queensland_PD_DBS_STN/BIDSdata/derivatives/compound_vtas\n",
      "Copied /Users/cu135/Dropbox (Partners HealthCare)/resources/datasets/Queensland_PD_DBS_STN/BIDSdata/derivatives/leaddbs/sub-LeadDBS065/stimulations/MNI152NLin2009bAsym/gs_2023Aysu/sub-LeadDBS065__sim-binary_model-simbio_hemi-bl_preprocessed_generated_nifti.nii to /Users/cu135/Dropbox (Partners HealthCare)/resources/datasets/Queensland_PD_DBS_STN/BIDSdata/derivatives/compound_vtas\n",
      "Copied /Users/cu135/Dropbox (Partners HealthCare)/resources/datasets/Queensland_PD_DBS_STN/BIDSdata/derivatives/leaddbs/sub-LeadDBS031/stimulations/MNI152NLin2009bAsym/gs_2023Aysu/sub-LeadDBS031__sim-binary_model-simbio_hemi-bl_preprocessed_generated_nifti.nii to /Users/cu135/Dropbox (Partners HealthCare)/resources/datasets/Queensland_PD_DBS_STN/BIDSdata/derivatives/compound_vtas\n",
      "Copied /Users/cu135/Dropbox (Partners HealthCare)/resources/datasets/Queensland_PD_DBS_STN/BIDSdata/derivatives/leaddbs/sub-LeadDBS036/stimulations/MNI152NLin2009bAsym/gs_2023Aysu/sub-LeadDBS036__sim-binary_model-simbio_hemi-bl_preprocessed_generated_nifti.nii to /Users/cu135/Dropbox (Partners HealthCare)/resources/datasets/Queensland_PD_DBS_STN/BIDSdata/derivatives/compound_vtas\n",
      "Copied /Users/cu135/Dropbox (Partners HealthCare)/resources/datasets/Queensland_PD_DBS_STN/BIDSdata/derivatives/leaddbs/sub-LeadDBS038/stimulations/MNI152NLin2009bAsym/gs_2023Aysu/sub-LeadDBS038__sim-binary_model-simbio_hemi-bl_preprocessed_generated_nifti.nii to /Users/cu135/Dropbox (Partners HealthCare)/resources/datasets/Queensland_PD_DBS_STN/BIDSdata/derivatives/compound_vtas\n",
      "Copied /Users/cu135/Dropbox (Partners HealthCare)/resources/datasets/Queensland_PD_DBS_STN/BIDSdata/derivatives/leaddbs/sub-LeadDBS047/stimulations/MNI152NLin2009bAsym/gs_2023Aysu/sub-LeadDBS047__sim-binary_model-simbio_hemi-bl_preprocessed_generated_nifti.nii to /Users/cu135/Dropbox (Partners HealthCare)/resources/datasets/Queensland_PD_DBS_STN/BIDSdata/derivatives/compound_vtas\n",
      "Copied /Users/cu135/Dropbox (Partners HealthCare)/resources/datasets/Queensland_PD_DBS_STN/BIDSdata/derivatives/leaddbs/sub-LeadDBS078/stimulations/MNI152NLin2009bAsym/gs_2023Aysu/sub-LeadDBS078__sim-binary_model-simbio_hemi-bl_preprocessed_generated_nifti.nii to /Users/cu135/Dropbox (Partners HealthCare)/resources/datasets/Queensland_PD_DBS_STN/BIDSdata/derivatives/compound_vtas\n",
      "Copied /Users/cu135/Dropbox (Partners HealthCare)/resources/datasets/Queensland_PD_DBS_STN/BIDSdata/derivatives/leaddbs/sub-LeadDBS040/stimulations/MNI152NLin2009bAsym/gs_2023Aysu/sub-LeadDBS040__sim-binary_model-simbio_hemi-bl_preprocessed_generated_nifti.nii to /Users/cu135/Dropbox (Partners HealthCare)/resources/datasets/Queensland_PD_DBS_STN/BIDSdata/derivatives/compound_vtas\n",
      "Copied /Users/cu135/Dropbox (Partners HealthCare)/resources/datasets/Queensland_PD_DBS_STN/BIDSdata/derivatives/leaddbs/sub-LeadDBS076/stimulations/MNI152NLin2009bAsym/gs_2023Aysu/sub-LeadDBS076__sim-binary_model-simbio_hemi-bl_preprocessed_generated_nifti.nii to /Users/cu135/Dropbox (Partners HealthCare)/resources/datasets/Queensland_PD_DBS_STN/BIDSdata/derivatives/compound_vtas\n",
      "Copied /Users/cu135/Dropbox (Partners HealthCare)/resources/datasets/Queensland_PD_DBS_STN/BIDSdata/derivatives/leaddbs/sub-LeadDBS082/stimulations/MNI152NLin2009bAsym/gs_2023Aysu/sub-LeadDBS082__sim-binary_model-simbio_hemi-bl_preprocessed_generated_nifti.nii to /Users/cu135/Dropbox (Partners HealthCare)/resources/datasets/Queensland_PD_DBS_STN/BIDSdata/derivatives/compound_vtas\n",
      "Copied /Users/cu135/Dropbox (Partners HealthCare)/resources/datasets/Queensland_PD_DBS_STN/BIDSdata/derivatives/leaddbs/sub-LeadDBS049/stimulations/MNI152NLin2009bAsym/gs_2023Aysu/sub-LeadDBS049__sim-binary_model-simbio_hemi-bl_preprocessed_generated_nifti.nii to /Users/cu135/Dropbox (Partners HealthCare)/resources/datasets/Queensland_PD_DBS_STN/BIDSdata/derivatives/compound_vtas\n",
      "Copied /Users/cu135/Dropbox (Partners HealthCare)/resources/datasets/Queensland_PD_DBS_STN/BIDSdata/derivatives/leaddbs/sub-LeadDBS085/stimulations/MNI152NLin2009bAsym/gs_2023Aysu/sub-LeadDBS085__sim-binary_model-simbio_hemi-bl_preprocessed_generated_nifti.nii to /Users/cu135/Dropbox (Partners HealthCare)/resources/datasets/Queensland_PD_DBS_STN/BIDSdata/derivatives/compound_vtas\n",
      "Copied /Users/cu135/Dropbox (Partners HealthCare)/resources/datasets/Queensland_PD_DBS_STN/BIDSdata/derivatives/leaddbs/sub-LeadDBS071/stimulations/MNI152NLin2009bAsym/gs_2023Aysu/sub-LeadDBS071__sim-binary_model-simbio_hemi-bl_preprocessed_generated_nifti.nii to /Users/cu135/Dropbox (Partners HealthCare)/resources/datasets/Queensland_PD_DBS_STN/BIDSdata/derivatives/compound_vtas\n",
      "Copied /Users/cu135/Dropbox (Partners HealthCare)/resources/datasets/Queensland_PD_DBS_STN/BIDSdata/derivatives/leaddbs/sub-LeadDBS070/stimulations/MNI152NLin2009bAsym/gs_2023Aysu/sub-LeadDBS070__sim-binary_model-simbio_hemi-bl_preprocessed_generated_nifti.nii to /Users/cu135/Dropbox (Partners HealthCare)/resources/datasets/Queensland_PD_DBS_STN/BIDSdata/derivatives/compound_vtas\n",
      "Copied /Users/cu135/Dropbox (Partners HealthCare)/resources/datasets/Queensland_PD_DBS_STN/BIDSdata/derivatives/leaddbs/sub-LeadDBS084/stimulations/MNI152NLin2009bAsym/gs_2023Aysu/sub-LeadDBS084__sim-binary_model-simbio_hemi-bl_preprocessed_generated_nifti.nii to /Users/cu135/Dropbox (Partners HealthCare)/resources/datasets/Queensland_PD_DBS_STN/BIDSdata/derivatives/compound_vtas\n",
      "Copied /Users/cu135/Dropbox (Partners HealthCare)/resources/datasets/Queensland_PD_DBS_STN/BIDSdata/derivatives/leaddbs/sub-LeadDBS083/stimulations/MNI152NLin2009bAsym/gs_2023Aysu/sub-LeadDBS083__sim-binary_model-simbio_hemi-bl_preprocessed_generated_nifti.nii to /Users/cu135/Dropbox (Partners HealthCare)/resources/datasets/Queensland_PD_DBS_STN/BIDSdata/derivatives/compound_vtas\n",
      "Copied /Users/cu135/Dropbox (Partners HealthCare)/resources/datasets/Queensland_PD_DBS_STN/BIDSdata/derivatives/leaddbs/sub-LeadDBS077/stimulations/MNI152NLin2009bAsym/gs_2023Aysu/sub-LeadDBS077__sim-binary_model-simbio_hemi-bl_preprocessed_generated_nifti.nii to /Users/cu135/Dropbox (Partners HealthCare)/resources/datasets/Queensland_PD_DBS_STN/BIDSdata/derivatives/compound_vtas\n",
      "Copied /Users/cu135/Dropbox (Partners HealthCare)/resources/datasets/Queensland_PD_DBS_STN/BIDSdata/derivatives/leaddbs/sub-LeadDBS048/stimulations/MNI152NLin2009bAsym/gs_2023Aysu/sub-LeadDBS048__sim-binary_model-simbio_hemi-bl_preprocessed_generated_nifti.nii to /Users/cu135/Dropbox (Partners HealthCare)/resources/datasets/Queensland_PD_DBS_STN/BIDSdata/derivatives/compound_vtas\n",
      "Copied /Users/cu135/Dropbox (Partners HealthCare)/resources/datasets/Queensland_PD_DBS_STN/BIDSdata/derivatives/leaddbs/sub-LeadDBS041/stimulations/MNI152NLin2009bAsym/gs_2023Aysu/sub-LeadDBS041__sim-binary_model-simbio_hemi-bl_preprocessed_generated_nifti.nii to /Users/cu135/Dropbox (Partners HealthCare)/resources/datasets/Queensland_PD_DBS_STN/BIDSdata/derivatives/compound_vtas\n",
      "Copied /Users/cu135/Dropbox (Partners HealthCare)/resources/datasets/Queensland_PD_DBS_STN/BIDSdata/derivatives/leaddbs/sub-LeadDBS046/stimulations/MNI152NLin2009bAsym/gs_2023Aysu/sub-LeadDBS046__sim-binary_model-simbio_hemi-bl_preprocessed_generated_nifti.nii to /Users/cu135/Dropbox (Partners HealthCare)/resources/datasets/Queensland_PD_DBS_STN/BIDSdata/derivatives/compound_vtas\n",
      "Copied /Users/cu135/Dropbox (Partners HealthCare)/resources/datasets/Queensland_PD_DBS_STN/BIDSdata/derivatives/leaddbs/sub-LeadDBS079/stimulations/MNI152NLin2009bAsym/gs_2023Aysu/sub-LeadDBS079__sim-binary_model-simbio_hemi-bl_preprocessed_generated_nifti.nii to /Users/cu135/Dropbox (Partners HealthCare)/resources/datasets/Queensland_PD_DBS_STN/BIDSdata/derivatives/compound_vtas\n"
     ]
    },
    {
     "name": "stderr",
     "output_type": "stream",
     "text": [
      "\n"
     ]
    }
   ],
   "source": [
    "copy_files_to_new_location(root_dir=root_dir, file_pattern=file_pattern, new_location=destination_folder)"
   ]
  },
  {
   "cell_type": "code",
   "execution_count": null,
   "metadata": {},
   "outputs": [],
   "source": []
  }
 ],
 "metadata": {
  "kernelspec": {
   "display_name": "nimlab_py310",
   "language": "python",
   "name": "python3"
  },
  "language_info": {
   "codemirror_mode": {
    "name": "ipython",
    "version": 3
   },
   "file_extension": ".py",
   "mimetype": "text/x-python",
   "name": "python",
   "nbconvert_exporter": "python",
   "pygments_lexer": "ipython3",
   "version": "3.10.8"
  }
 },
 "nbformat": 4,
 "nbformat_minor": 2
}
