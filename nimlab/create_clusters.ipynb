{
 "cells": [
  {
   "cell_type": "code",
   "execution_count": 1,
   "metadata": {},
   "outputs": [],
   "source": [
    "from calvin_utils.convolve_extract_clusters import convolve_extract_clusters"
   ]
  },
  {
   "cell_type": "code",
   "execution_count": 4,
   "metadata": {},
   "outputs": [],
   "source": [
    "nifti = r'/Users/cu135/Dropbox (Partners HealthCare)/memory/functional_networks/rios_2022_networks/nonoverlap_maps/rios_worst_responder_top_responder_nonoverlap_map/rios_worst_responder_top_responder_nonoverlap_map_improve_nonoverlap.nii'"
   ]
  },
  {
   "cell_type": "code",
   "execution_count": 5,
   "metadata": {},
   "outputs": [
    {
     "name": "stdout",
     "output_type": "stream",
     "text": [
      "Number clusters:  26\n",
      "Cluster 1 is size: 345\n",
      "(91, 109, 91)\n",
      "File: cluster_1\n",
      "saved to:  /Users/cu135/Dropbox (Partners HealthCare)/memory/functional_networks/rios_2022_networks/nonoverlap_maps/rios_worst_responder_top_responder_nonoverlap_map/rios_worst_responder_top_responder_nonoverlap_map_improve_nonoverlap_clustered_rois\n",
      "Cluster 2 is size: 208\n",
      "(91, 109, 91)\n",
      "File: cluster_2\n",
      "saved to:  /Users/cu135/Dropbox (Partners HealthCare)/memory/functional_networks/rios_2022_networks/nonoverlap_maps/rios_worst_responder_top_responder_nonoverlap_map/rios_worst_responder_top_responder_nonoverlap_map_improve_nonoverlap_clustered_rois\n",
      "Cluster 3 is size: 27\n",
      "(91, 109, 91)\n",
      "File: cluster_3\n",
      "saved to:  /Users/cu135/Dropbox (Partners HealthCare)/memory/functional_networks/rios_2022_networks/nonoverlap_maps/rios_worst_responder_top_responder_nonoverlap_map/rios_worst_responder_top_responder_nonoverlap_map_improve_nonoverlap_clustered_rois\n",
      "Cluster 4 is size: 66\n",
      "(91, 109, 91)\n",
      "File: cluster_4\n",
      "saved to:  /Users/cu135/Dropbox (Partners HealthCare)/memory/functional_networks/rios_2022_networks/nonoverlap_maps/rios_worst_responder_top_responder_nonoverlap_map/rios_worst_responder_top_responder_nonoverlap_map_improve_nonoverlap_clustered_rois\n",
      "Cluster 5 is size: 119\n",
      "(91, 109, 91)\n",
      "File: cluster_5\n",
      "saved to:  /Users/cu135/Dropbox (Partners HealthCare)/memory/functional_networks/rios_2022_networks/nonoverlap_maps/rios_worst_responder_top_responder_nonoverlap_map/rios_worst_responder_top_responder_nonoverlap_map_improve_nonoverlap_clustered_rois\n",
      "Cluster 6 is size: 124\n",
      "(91, 109, 91)\n",
      "File: cluster_6\n",
      "saved to:  /Users/cu135/Dropbox (Partners HealthCare)/memory/functional_networks/rios_2022_networks/nonoverlap_maps/rios_worst_responder_top_responder_nonoverlap_map/rios_worst_responder_top_responder_nonoverlap_map_improve_nonoverlap_clustered_rois\n",
      "Cluster 7 is size: 454\n",
      "(91, 109, 91)\n",
      "File: cluster_7\n",
      "saved to:  /Users/cu135/Dropbox (Partners HealthCare)/memory/functional_networks/rios_2022_networks/nonoverlap_maps/rios_worst_responder_top_responder_nonoverlap_map/rios_worst_responder_top_responder_nonoverlap_map_improve_nonoverlap_clustered_rois\n",
      "Cluster 8 is size: 119\n",
      "(91, 109, 91)\n",
      "File: cluster_8\n",
      "saved to:  /Users/cu135/Dropbox (Partners HealthCare)/memory/functional_networks/rios_2022_networks/nonoverlap_maps/rios_worst_responder_top_responder_nonoverlap_map/rios_worst_responder_top_responder_nonoverlap_map_improve_nonoverlap_clustered_rois\n",
      "Cluster 9 is size: 67\n",
      "(91, 109, 91)\n",
      "File: cluster_9\n",
      "saved to:  /Users/cu135/Dropbox (Partners HealthCare)/memory/functional_networks/rios_2022_networks/nonoverlap_maps/rios_worst_responder_top_responder_nonoverlap_map/rios_worst_responder_top_responder_nonoverlap_map_improve_nonoverlap_clustered_rois\n",
      "Cluster 10 is size: 282\n",
      "(91, 109, 91)\n",
      "File: cluster_10\n",
      "saved to:  /Users/cu135/Dropbox (Partners HealthCare)/memory/functional_networks/rios_2022_networks/nonoverlap_maps/rios_worst_responder_top_responder_nonoverlap_map/rios_worst_responder_top_responder_nonoverlap_map_improve_nonoverlap_clustered_rois\n",
      "Cluster 11 is size: 36\n",
      "(91, 109, 91)\n",
      "File: cluster_11\n",
      "saved to:  /Users/cu135/Dropbox (Partners HealthCare)/memory/functional_networks/rios_2022_networks/nonoverlap_maps/rios_worst_responder_top_responder_nonoverlap_map/rios_worst_responder_top_responder_nonoverlap_map_improve_nonoverlap_clustered_rois\n",
      "Cluster 12 is size: 339\n",
      "(91, 109, 91)\n",
      "File: cluster_12\n",
      "saved to:  /Users/cu135/Dropbox (Partners HealthCare)/memory/functional_networks/rios_2022_networks/nonoverlap_maps/rios_worst_responder_top_responder_nonoverlap_map/rios_worst_responder_top_responder_nonoverlap_map_improve_nonoverlap_clustered_rois\n",
      "Cluster 13 is size: 51\n",
      "(91, 109, 91)\n",
      "File: cluster_13\n",
      "saved to:  /Users/cu135/Dropbox (Partners HealthCare)/memory/functional_networks/rios_2022_networks/nonoverlap_maps/rios_worst_responder_top_responder_nonoverlap_map/rios_worst_responder_top_responder_nonoverlap_map_improve_nonoverlap_clustered_rois\n",
      "Cluster 14 is size: 46\n",
      "(91, 109, 91)\n",
      "File: cluster_14\n",
      "saved to:  /Users/cu135/Dropbox (Partners HealthCare)/memory/functional_networks/rios_2022_networks/nonoverlap_maps/rios_worst_responder_top_responder_nonoverlap_map/rios_worst_responder_top_responder_nonoverlap_map_improve_nonoverlap_clustered_rois\n",
      "Cluster 15 is size: 27\n",
      "(91, 109, 91)\n",
      "File: cluster_15\n",
      "saved to:  /Users/cu135/Dropbox (Partners HealthCare)/memory/functional_networks/rios_2022_networks/nonoverlap_maps/rios_worst_responder_top_responder_nonoverlap_map/rios_worst_responder_top_responder_nonoverlap_map_improve_nonoverlap_clustered_rois\n",
      "Cluster 16 is size: 355\n",
      "(91, 109, 91)\n",
      "File: cluster_16\n",
      "saved to:  /Users/cu135/Dropbox (Partners HealthCare)/memory/functional_networks/rios_2022_networks/nonoverlap_maps/rios_worst_responder_top_responder_nonoverlap_map/rios_worst_responder_top_responder_nonoverlap_map_improve_nonoverlap_clustered_rois\n",
      "Cluster 17 is size: 66\n",
      "(91, 109, 91)\n",
      "File: cluster_17\n",
      "saved to:  /Users/cu135/Dropbox (Partners HealthCare)/memory/functional_networks/rios_2022_networks/nonoverlap_maps/rios_worst_responder_top_responder_nonoverlap_map/rios_worst_responder_top_responder_nonoverlap_map_improve_nonoverlap_clustered_rois\n",
      "Cluster 18 is size: 113\n",
      "(91, 109, 91)\n",
      "File: cluster_18\n",
      "saved to:  /Users/cu135/Dropbox (Partners HealthCare)/memory/functional_networks/rios_2022_networks/nonoverlap_maps/rios_worst_responder_top_responder_nonoverlap_map/rios_worst_responder_top_responder_nonoverlap_map_improve_nonoverlap_clustered_rois\n",
      "Cluster 19 is size: 240\n",
      "(91, 109, 91)\n",
      "File: cluster_19\n",
      "saved to:  /Users/cu135/Dropbox (Partners HealthCare)/memory/functional_networks/rios_2022_networks/nonoverlap_maps/rios_worst_responder_top_responder_nonoverlap_map/rios_worst_responder_top_responder_nonoverlap_map_improve_nonoverlap_clustered_rois\n",
      "Cluster 20 is size: 81\n",
      "(91, 109, 91)\n",
      "File: cluster_20\n",
      "saved to:  /Users/cu135/Dropbox (Partners HealthCare)/memory/functional_networks/rios_2022_networks/nonoverlap_maps/rios_worst_responder_top_responder_nonoverlap_map/rios_worst_responder_top_responder_nonoverlap_map_improve_nonoverlap_clustered_rois\n",
      "Cluster 21 is size: 45\n",
      "(91, 109, 91)\n",
      "File: cluster_21\n",
      "saved to:  /Users/cu135/Dropbox (Partners HealthCare)/memory/functional_networks/rios_2022_networks/nonoverlap_maps/rios_worst_responder_top_responder_nonoverlap_map/rios_worst_responder_top_responder_nonoverlap_map_improve_nonoverlap_clustered_rois\n",
      "Cluster 22 is size: 36\n",
      "(91, 109, 91)\n",
      "File: cluster_22\n",
      "saved to:  /Users/cu135/Dropbox (Partners HealthCare)/memory/functional_networks/rios_2022_networks/nonoverlap_maps/rios_worst_responder_top_responder_nonoverlap_map/rios_worst_responder_top_responder_nonoverlap_map_improve_nonoverlap_clustered_rois\n",
      "Cluster 23 is size: 181\n",
      "(91, 109, 91)\n",
      "File: cluster_23\n",
      "saved to:  /Users/cu135/Dropbox (Partners HealthCare)/memory/functional_networks/rios_2022_networks/nonoverlap_maps/rios_worst_responder_top_responder_nonoverlap_map/rios_worst_responder_top_responder_nonoverlap_map_improve_nonoverlap_clustered_rois\n",
      "Cluster 24 is size: 45\n",
      "(91, 109, 91)\n",
      "File: cluster_24\n",
      "saved to:  /Users/cu135/Dropbox (Partners HealthCare)/memory/functional_networks/rios_2022_networks/nonoverlap_maps/rios_worst_responder_top_responder_nonoverlap_map/rios_worst_responder_top_responder_nonoverlap_map_improve_nonoverlap_clustered_rois\n",
      "Cluster 25 is size: 36\n",
      "(91, 109, 91)\n",
      "File: cluster_25\n",
      "saved to:  /Users/cu135/Dropbox (Partners HealthCare)/memory/functional_networks/rios_2022_networks/nonoverlap_maps/rios_worst_responder_top_responder_nonoverlap_map/rios_worst_responder_top_responder_nonoverlap_map_improve_nonoverlap_clustered_rois\n",
      "Cluster 26 is size: 1090\n",
      "(91, 109, 91)\n",
      "File: cluster_26\n",
      "saved to:  /Users/cu135/Dropbox (Partners HealthCare)/memory/functional_networks/rios_2022_networks/nonoverlap_maps/rios_worst_responder_top_responder_nonoverlap_map/rios_worst_responder_top_responder_nonoverlap_map_improve_nonoverlap_clustered_rois\n"
     ]
    }
   ],
   "source": [
    "dict_out = convolve_extract_clusters(nifti_file=nifti)"
   ]
  },
  {
   "cell_type": "code",
   "execution_count": null,
   "metadata": {},
   "outputs": [],
   "source": []
  }
 ],
 "metadata": {
  "kernelspec": {
   "display_name": "Python3.10 (nimlab)",
   "language": "python",
   "name": "nimlab_py310"
  },
  "language_info": {
   "codemirror_mode": {
    "name": "ipython",
    "version": 3
   },
   "file_extension": ".py",
   "mimetype": "text/x-python",
   "name": "python",
   "nbconvert_exporter": "python",
   "pygments_lexer": "ipython3",
   "version": "3.10.8 | packaged by conda-forge | (main, Nov 22 2022, 08:27:35) [Clang 14.0.6 ]"
  },
  "orig_nbformat": 4,
  "vscode": {
   "interpreter": {
    "hash": "62880161f19d28ddb8a8f59c63374d84ace356c39e36cc839cb3fb3bb03fb010"
   }
  }
 },
 "nbformat": 4,
 "nbformat_minor": 2
}
