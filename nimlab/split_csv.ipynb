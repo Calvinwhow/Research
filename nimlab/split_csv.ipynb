{
 "cells": [
  {
   "cell_type": "code",
   "execution_count": 17,
   "metadata": {},
   "outputs": [],
   "source": [
    "import pandas as pd\n",
    "import numpy as np\n",
    "import os"
   ]
  },
  {
   "cell_type": "markdown",
   "metadata": {},
   "source": [
    "## Explanation"
   ]
  },
  {
   "cell_type": "code",
   "execution_count": 18,
   "metadata": {},
   "outputs": [
    {
     "data": {
      "text/plain": [
       "'\\nThis IPYNB is developed to split 2 original csvs into 2 small csvs, each\\nThe split is designed by the index of a variable within one of the csvs\\n\\nThe original implementation is to split %Change ADAS11 and values of functional connectivity\\nby the age of each patient \\n'"
      ]
     },
     "execution_count": 18,
     "metadata": {},
     "output_type": "execute_result"
    }
   ],
   "source": [
    "'''\n",
    "This IPYNB is developed to split 2 original csvs into 2 small csvs, each\n",
    "The split is designed by the index of a variable within one of the csvs\n",
    "\n",
    "The original implementation is to split %Change ADAS11 and values of functional connectivity\n",
    "by the age of each patient \n",
    "'''"
   ]
  },
  {
   "cell_type": "markdown",
   "metadata": {},
   "source": [
    "## User Input"
   ]
  },
  {
   "cell_type": "code",
   "execution_count": 19,
   "metadata": {},
   "outputs": [],
   "source": [
    "y_val_csv = r'C:\\Users\\calvin.howard\\Dropbox (Partners HealthCare)\\memory\\patient_data\\adas_and_age_values.csv' #csv path to concat\n",
    "#y_val_csv = '<path to y vals>'\n",
    "y_cols = [2, 5] #enter target data columns (indexed from 0)\n",
    "#If unsure what column to use, remove usecols statement, run display, and find the one you want \n",
    "\n",
    "#X Vals from a specific analysis for split\n",
    "x_val_csv = r'C:\\Users\\calvin.howard\\Dropbox (Partners HealthCare)\\memory\\analyses\\spcorrel\\vtafxconn-yeoseed\\combined.csv'\n",
    "x_cols = [1] #enter target data columns (indexed from 0)\n",
    "\n",
    "out_dir = r'C:\\Users\\calvin.howard\\Dropbox (Partners HealthCare)\\memory\\analyses\\spcorrel\\vtafxconn-yeoseed\\patient_data'\n",
    "split1 = '_fxconn-seed_spcorrel_over_65'\n",
    "split2 = '_fxconn-seed_spcorrel_underequal_65'"
   ]
  },
  {
   "cell_type": "markdown",
   "metadata": {},
   "source": [
    "## Y Vals Prep"
   ]
  },
  {
   "cell_type": "code",
   "execution_count": 20,
   "metadata": {},
   "outputs": [
    {
     "data": {
      "text/html": [
       "<div>\n",
       "<style scoped>\n",
       "    .dataframe tbody tr th:only-of-type {\n",
       "        vertical-align: middle;\n",
       "    }\n",
       "\n",
       "    .dataframe tbody tr th {\n",
       "        vertical-align: top;\n",
       "    }\n",
       "\n",
       "    .dataframe thead th {\n",
       "        text-align: right;\n",
       "    }\n",
       "</style>\n",
       "<table border=\"1\" class=\"dataframe\">\n",
       "  <thead>\n",
       "    <tr style=\"text-align: right;\">\n",
       "      <th></th>\n",
       "      <th>% Change from baseline (ADAS-Cog11)</th>\n",
       "    </tr>\n",
       "  </thead>\n",
       "  <tbody>\n",
       "    <tr>\n",
       "      <th>45</th>\n",
       "      <td>-54.545455</td>\n",
       "    </tr>\n",
       "    <tr>\n",
       "      <th>46</th>\n",
       "      <td>-4.761905</td>\n",
       "    </tr>\n",
       "    <tr>\n",
       "      <th>47</th>\n",
       "      <td>-207.692308</td>\n",
       "    </tr>\n",
       "    <tr>\n",
       "      <th>48</th>\n",
       "      <td>-90.000000</td>\n",
       "    </tr>\n",
       "    <tr>\n",
       "      <th>49</th>\n",
       "      <td>13.636364</td>\n",
       "    </tr>\n",
       "  </tbody>\n",
       "</table>\n",
       "</div>"
      ],
      "text/plain": [
       "    % Change from baseline (ADAS-Cog11)\n",
       "45                           -54.545455\n",
       "46                            -4.761905\n",
       "47                          -207.692308\n",
       "48                           -90.000000\n",
       "49                            13.636364"
      ]
     },
     "execution_count": 20,
     "metadata": {},
     "output_type": "execute_result"
    }
   ],
   "source": [
    "y_df = pd.read_csv(y_val_csv, usecols=y_cols)\n",
    "z_df = y_df.pop('Age at DOS')\n",
    "y_df.tail(5)"
   ]
  },
  {
   "cell_type": "code",
   "execution_count": 21,
   "metadata": {},
   "outputs": [
    {
     "name": "stdout",
     "output_type": "stream",
     "text": [
      "No. datapoints in y_vals:  50\n",
      "[-21.428571428571427, -36.36363636363637, -78.94736842105263, -129.41176470588235, -10.526315789473683, -38.46153846153847, -15.384615384615383, -29.166666666666668, -30.434782608695656, -84.61538461538461, 41.66666666666667, 9.333333333333336, -60.0, -16.129032258064516, -48.27586206896552, -36.84210526315789, -3.125, -81.25, -7.142857142857135, -2.255639097744353, -73.33333333333334, -27.77777777777778, -4.3478260869565215, -140.0, 54.54545454545454, -18.75, -37.5, -100.0, -76.47058823529412, -20.833333333333336, -35.714285714285715, -7.142857142857142, -40.0, 6.25, 29.411764705882355, -45.71428571428572, -77.27272727272727, -9.523809523809524, -105.88235294117648, 18.181818181818183, 0.0, 5.555555555555555, 6.25, -61.53846153846154, 5.555555555555555, -54.54545454545454, -4.761904761904762, -207.6923076923077, -90.0, 13.636363636363637]\n"
     ]
    }
   ],
   "source": [
    "#Use Above to Determine Calculation Method\n",
    "ycolumn_of_interest = '% Change from baseline (ADAS-Cog11)'\n",
    "y_vals = y_df[ycolumn_of_interest].values.tolist()\n",
    "print('No. datapoints in y_vals: ', len(y_vals))\n",
    "print(y_vals)"
   ]
  },
  {
   "cell_type": "markdown",
   "metadata": {},
   "source": [
    "## X Vals Prep"
   ]
  },
  {
   "cell_type": "code",
   "execution_count": 22,
   "metadata": {},
   "outputs": [
    {
     "name": "stdout",
     "output_type": "stream",
     "text": [
      "excepted\n"
     ]
    },
    {
     "name": "stderr",
     "output_type": "stream",
     "text": [
      "C:\\Users\\calvin.howard\\AppData\\Local\\Temp\\ipykernel_34884\\3055273927.py:25: FutureWarning: DataFrame.set_axis 'inplace' keyword is deprecated and will be removed in a future version. Use `obj = obj.set_axis(..., copy=False)` instead\n",
      "  x_df = x_df.set_axis(newname, axis=1, inplace=False)\n"
     ]
    },
    {
     "data": {
      "text/html": [
       "<div>\n",
       "<style scoped>\n",
       "    .dataframe tbody tr th:only-of-type {\n",
       "        vertical-align: middle;\n",
       "    }\n",
       "\n",
       "    .dataframe tbody tr th {\n",
       "        vertical-align: top;\n",
       "    }\n",
       "\n",
       "    .dataframe thead th {\n",
       "        text-align: right;\n",
       "    }\n",
       "</style>\n",
       "<table border=\"1\" class=\"dataframe\">\n",
       "  <thead>\n",
       "    <tr style=\"text-align: right;\">\n",
       "      <th></th>\n",
       "      <th>07_default</th>\n",
       "      <th>03_dorsal_attention</th>\n",
       "      <th>06_frontoparietal</th>\n",
       "      <th>05_limbic</th>\n",
       "      <th>02_somatomotor</th>\n",
       "      <th>04_ventral_attention</th>\n",
       "      <th>01_visual</th>\n",
       "      <th>memory_roi</th>\n",
       "    </tr>\n",
       "  </thead>\n",
       "  <tbody>\n",
       "    <tr>\n",
       "      <th>0</th>\n",
       "      <td>0.123595</td>\n",
       "      <td>-0.185848</td>\n",
       "      <td>-0.319114</td>\n",
       "      <td>0.403479</td>\n",
       "      <td>-0.064180</td>\n",
       "      <td>-0.279105</td>\n",
       "      <td>-0.020203</td>\n",
       "      <td>-0.000290</td>\n",
       "    </tr>\n",
       "    <tr>\n",
       "      <th>1</th>\n",
       "      <td>0.157970</td>\n",
       "      <td>-0.226478</td>\n",
       "      <td>-0.302486</td>\n",
       "      <td>0.422265</td>\n",
       "      <td>-0.046235</td>\n",
       "      <td>-0.242403</td>\n",
       "      <td>-0.083459</td>\n",
       "      <td>-0.000305</td>\n",
       "    </tr>\n",
       "    <tr>\n",
       "      <th>2</th>\n",
       "      <td>0.193393</td>\n",
       "      <td>-0.230646</td>\n",
       "      <td>-0.309104</td>\n",
       "      <td>0.386459</td>\n",
       "      <td>-0.064274</td>\n",
       "      <td>-0.283953</td>\n",
       "      <td>-0.075493</td>\n",
       "      <td>-0.000289</td>\n",
       "    </tr>\n",
       "  </tbody>\n",
       "</table>\n",
       "</div>"
      ],
      "text/plain": [
       "   07_default  03_dorsal_attention  06_frontoparietal  05_limbic  \\\n",
       "0    0.123595            -0.185848          -0.319114   0.403479   \n",
       "1    0.157970            -0.226478          -0.302486   0.422265   \n",
       "2    0.193393            -0.230646          -0.309104   0.386459   \n",
       "\n",
       "   02_somatomotor  04_ventral_attention  01_visual  memory_roi  \n",
       "0       -0.064180             -0.279105  -0.020203   -0.000290  \n",
       "1       -0.046235             -0.242403  -0.083459   -0.000305  \n",
       "2       -0.064274             -0.283953  -0.075493   -0.000289  "
      ]
     },
     "execution_count": 22,
     "metadata": {},
     "output_type": "execute_result"
    }
   ],
   "source": [
    "x_roi_names = r'C:\\Users\\calvin.howard\\Dropbox (Partners HealthCare)\\memory\\analyses\\roi-roi_correl\\matrix_corrMx_names.csv'\n",
    "#roi_names = '<path to roi name location>'\n",
    "\n",
    "try:\n",
    "    name_df = pd.read_csv(x_roi_names, names=['arb'], header=None)\n",
    "    name_df.tail(5)\n",
    "    colnames = name_df.arb.values.tolist()\n",
    "    newname = []\n",
    "    for name in colnames:\n",
    "        arb = os.path.basename(name).split('.nii')[0]\n",
    "        arb = arb[0:8]\n",
    "        newname.append(arb)\n",
    "    #print('NAMES: ', newname)\n",
    "\n",
    "    x_df = pd.read_csv(x_val_csv, names=newname, header=None)\n",
    "    x_df.index = newname\n",
    "except:\n",
    "    print('excepted')\n",
    "    x_df = pd.read_csv(x_val_csv)\n",
    "    colnames = x_df.columns.values\n",
    "    newname = []\n",
    "    for name in colnames:\n",
    "        arb = os.path.basename(name).split('.nii')[0]\n",
    "        newname.append(arb)\n",
    "    x_df = x_df.set_axis(newname, axis=1, inplace=False)\n",
    "    x_df.pop('roi')\n",
    "\n",
    "x_df.head(3)"
   ]
  },
  {
   "cell_type": "code",
   "execution_count": 23,
   "metadata": {},
   "outputs": [
    {
     "name": "stdout",
     "output_type": "stream",
     "text": [
      "excepted\n"
     ]
    },
    {
     "data": {
      "text/html": [
       "<div>\n",
       "<style scoped>\n",
       "    .dataframe tbody tr th:only-of-type {\n",
       "        vertical-align: middle;\n",
       "    }\n",
       "\n",
       "    .dataframe tbody tr th {\n",
       "        vertical-align: top;\n",
       "    }\n",
       "\n",
       "    .dataframe thead th {\n",
       "        text-align: right;\n",
       "    }\n",
       "</style>\n",
       "<table border=\"1\" class=\"dataframe\">\n",
       "  <thead>\n",
       "    <tr style=\"text-align: right;\">\n",
       "      <th></th>\n",
       "      <th>07_default</th>\n",
       "      <th>03_dorsal_attention</th>\n",
       "      <th>06_frontoparietal</th>\n",
       "      <th>05_limbic</th>\n",
       "      <th>02_somatomotor</th>\n",
       "      <th>04_ventral_attention</th>\n",
       "      <th>01_visual</th>\n",
       "      <th>memory_roi</th>\n",
       "    </tr>\n",
       "  </thead>\n",
       "  <tbody>\n",
       "    <tr>\n",
       "      <th>0</th>\n",
       "      <td>0.123595</td>\n",
       "      <td>-0.185848</td>\n",
       "      <td>-0.319114</td>\n",
       "      <td>0.403479</td>\n",
       "      <td>-0.064180</td>\n",
       "      <td>-0.279105</td>\n",
       "      <td>-0.020203</td>\n",
       "      <td>-0.000290</td>\n",
       "    </tr>\n",
       "    <tr>\n",
       "      <th>1</th>\n",
       "      <td>0.157970</td>\n",
       "      <td>-0.226478</td>\n",
       "      <td>-0.302486</td>\n",
       "      <td>0.422265</td>\n",
       "      <td>-0.046235</td>\n",
       "      <td>-0.242403</td>\n",
       "      <td>-0.083459</td>\n",
       "      <td>-0.000305</td>\n",
       "    </tr>\n",
       "    <tr>\n",
       "      <th>2</th>\n",
       "      <td>0.193393</td>\n",
       "      <td>-0.230646</td>\n",
       "      <td>-0.309104</td>\n",
       "      <td>0.386459</td>\n",
       "      <td>-0.064274</td>\n",
       "      <td>-0.283953</td>\n",
       "      <td>-0.075493</td>\n",
       "      <td>-0.000289</td>\n",
       "    </tr>\n",
       "  </tbody>\n",
       "</table>\n",
       "</div>"
      ],
      "text/plain": [
       "   07_default  03_dorsal_attention  06_frontoparietal  05_limbic  \\\n",
       "0    0.123595            -0.185848          -0.319114   0.403479   \n",
       "1    0.157970            -0.226478          -0.302486   0.422265   \n",
       "2    0.193393            -0.230646          -0.309104   0.386459   \n",
       "\n",
       "   02_somatomotor  04_ventral_attention  01_visual  memory_roi  \n",
       "0       -0.064180             -0.279105  -0.020203   -0.000290  \n",
       "1       -0.046235             -0.242403  -0.083459   -0.000305  \n",
       "2       -0.064274             -0.283953  -0.075493   -0.000289  "
      ]
     },
     "execution_count": 23,
     "metadata": {},
     "output_type": "execute_result"
    }
   ],
   "source": [
    "#----- OPTION B CONT'D -----\n",
    "## Use the above dataframe to select the data you desire\n",
    "#USER INPUT BELOW\n",
    "try:\n",
    "    # column_of_interest = 8\n",
    "    # row_of_interest = 8\n",
    "    x_df = x_df.iloc[row_of_interest:,:column_of_interest]\n",
    "except:\n",
    "    print('excepted')\n",
    "x_df = x_df.reset_index(drop=True)\n",
    "x_df.head(3)"
   ]
  },
  {
   "cell_type": "markdown",
   "metadata": {},
   "source": [
    "## New DF Prep"
   ]
  },
  {
   "cell_type": "code",
   "execution_count": 24,
   "metadata": {},
   "outputs": [
    {
     "name": "stdout",
     "output_type": "stream",
     "text": [
      "No. datapoints in z_vals:  50\n",
      "[62, 77, 76, 65, 50, 66, 64, 60, 72, 72, 62, 69, 69, 67, 60, 67, 52, 75, 78, 74, 76, 68, 72, 58, 47, 61, 73, 69, 74, 72, 69, 66, 68, 74, 66, 57, 57, 72, 58, 73, 72, 77, 71, 79, 74, 76, 59, 51, 77, 71]\n"
     ]
    },
    {
     "data": {
      "text/plain": [
       "47    51\n",
       "48    77\n",
       "49    71\n",
       "Name: Age at DOS, dtype: int64"
      ]
     },
     "execution_count": 24,
     "metadata": {},
     "output_type": "execute_result"
    }
   ],
   "source": [
    "# Prepare Third Variable\n",
    "z_vals = z_df.values.tolist()\n",
    "print('No. datapoints in z_vals: ', len(z_vals))\n",
    "print(z_vals)\n",
    "z_df.tail(3)"
   ]
  },
  {
   "cell_type": "code",
   "execution_count": 25,
   "metadata": {},
   "outputs": [
    {
     "name": "stderr",
     "output_type": "stream",
     "text": [
      "C:\\Users\\calvin.howard\\AppData\\Local\\Temp\\ipykernel_34884\\4141452559.py:20: FutureWarning: DataFrame.set_axis 'inplace' keyword is deprecated and will be removed in a future version. Use `obj = obj.set_axis(..., copy=False)` instead\n",
      "  x_df_over_65 = x_df_over_65.set_axis(col_names, axis=1, inplace=False)\n",
      "C:\\Users\\calvin.howard\\AppData\\Local\\Temp\\ipykernel_34884\\4141452559.py:21: FutureWarning: DataFrame.set_axis 'inplace' keyword is deprecated and will be removed in a future version. Use `obj = obj.set_axis(..., copy=False)` instead\n",
      "  x_df_under_65 = x_df_under_65.set_axis(col_names, axis=1, inplace=False)\n"
     ]
    }
   ],
   "source": [
    "#Manipute by z vals\n",
    "y_df_over_65 = pd.DataFrame()\n",
    "y_df_under_65 = pd.DataFrame()\n",
    "\n",
    "col_names = x_df.columns.values\n",
    "x_df_over_65 = pd.DataFrame()\n",
    "x_df_under_65 = pd.DataFrame()\n",
    "#THE BELOW LOOP WILL CREATE NEW DATASETS DETERMINED BY THE Z VALUE: AGE. \n",
    "for i in range(0, len(y_df)):\n",
    "    y_val = y_df.iloc[i, ::]\n",
    "    x_val = x_df.iloc[i, :8].tolist()\n",
    "    x_val_df = pd.DataFrame({'arb_vals': x_val})\n",
    "    if z_vals[i] > 65:\n",
    "        y_df_over_65 = pd.concat([y_df_over_65, y_val], ignore_index=True)\n",
    "        x_df_over_65 = pd.concat([x_df_over_65, x_val_df.T], ignore_index=True)\n",
    "    elif z_vals[i] <= 65:\n",
    "        y_df_under_65 = pd.concat([y_df_under_65, y_val], ignore_index=True)\n",
    "        x_df_under_65 = pd.concat([x_df_under_65, x_val_df.T], ignore_index=True)\n",
    "\n",
    "x_df_over_65 = x_df_over_65.set_axis(col_names, axis=1, inplace=False)\n",
    "x_df_under_65 = x_df_under_65.set_axis(col_names, axis=1, inplace=False)\n"
   ]
  },
  {
   "cell_type": "code",
   "execution_count": 26,
   "metadata": {},
   "outputs": [
    {
     "data": {
      "text/html": [
       "<div>\n",
       "<style scoped>\n",
       "    .dataframe tbody tr th:only-of-type {\n",
       "        vertical-align: middle;\n",
       "    }\n",
       "\n",
       "    .dataframe tbody tr th {\n",
       "        vertical-align: top;\n",
       "    }\n",
       "\n",
       "    .dataframe thead th {\n",
       "        text-align: right;\n",
       "    }\n",
       "</style>\n",
       "<table border=\"1\" class=\"dataframe\">\n",
       "  <thead>\n",
       "    <tr style=\"text-align: right;\">\n",
       "      <th></th>\n",
       "      <th>07_default</th>\n",
       "      <th>03_dorsal_attention</th>\n",
       "      <th>06_frontoparietal</th>\n",
       "      <th>05_limbic</th>\n",
       "      <th>02_somatomotor</th>\n",
       "      <th>04_ventral_attention</th>\n",
       "      <th>01_visual</th>\n",
       "      <th>memory_roi</th>\n",
       "    </tr>\n",
       "  </thead>\n",
       "  <tbody>\n",
       "    <tr>\n",
       "      <th>31</th>\n",
       "      <td>0.167144</td>\n",
       "      <td>-0.232348</td>\n",
       "      <td>-0.284720</td>\n",
       "      <td>0.385470</td>\n",
       "      <td>-0.153628</td>\n",
       "      <td>-0.285333</td>\n",
       "      <td>-0.092568</td>\n",
       "      <td>-0.000789</td>\n",
       "    </tr>\n",
       "    <tr>\n",
       "      <th>32</th>\n",
       "      <td>0.166037</td>\n",
       "      <td>-0.238015</td>\n",
       "      <td>-0.261801</td>\n",
       "      <td>0.362411</td>\n",
       "      <td>-0.177686</td>\n",
       "      <td>-0.287834</td>\n",
       "      <td>-0.108910</td>\n",
       "      <td>-0.001678</td>\n",
       "    </tr>\n",
       "    <tr>\n",
       "      <th>33</th>\n",
       "      <td>0.264055</td>\n",
       "      <td>-0.330895</td>\n",
       "      <td>-0.133133</td>\n",
       "      <td>0.213248</td>\n",
       "      <td>-0.202720</td>\n",
       "      <td>-0.198908</td>\n",
       "      <td>-0.260176</td>\n",
       "      <td>-0.001270</td>\n",
       "    </tr>\n",
       "  </tbody>\n",
       "</table>\n",
       "</div>"
      ],
      "text/plain": [
       "    07_default  03_dorsal_attention  06_frontoparietal  05_limbic  \\\n",
       "31    0.167144            -0.232348          -0.284720   0.385470   \n",
       "32    0.166037            -0.238015          -0.261801   0.362411   \n",
       "33    0.264055            -0.330895          -0.133133   0.213248   \n",
       "\n",
       "    02_somatomotor  04_ventral_attention  01_visual  memory_roi  \n",
       "31       -0.153628             -0.285333  -0.092568   -0.000789  \n",
       "32       -0.177686             -0.287834  -0.108910   -0.001678  \n",
       "33       -0.202720             -0.198908  -0.260176   -0.001270  "
      ]
     },
     "execution_count": 26,
     "metadata": {},
     "output_type": "execute_result"
    }
   ],
   "source": [
    "#Check Data\n",
    "x_df_over_65.tail(3)"
   ]
  },
  {
   "cell_type": "code",
   "execution_count": 27,
   "metadata": {},
   "outputs": [
    {
     "data": {
      "text/html": [
       "<div>\n",
       "<style scoped>\n",
       "    .dataframe tbody tr th:only-of-type {\n",
       "        vertical-align: middle;\n",
       "    }\n",
       "\n",
       "    .dataframe tbody tr th {\n",
       "        vertical-align: top;\n",
       "    }\n",
       "\n",
       "    .dataframe thead th {\n",
       "        text-align: right;\n",
       "    }\n",
       "</style>\n",
       "<table border=\"1\" class=\"dataframe\">\n",
       "  <thead>\n",
       "    <tr style=\"text-align: right;\">\n",
       "      <th></th>\n",
       "      <th>0</th>\n",
       "    </tr>\n",
       "  </thead>\n",
       "  <tbody>\n",
       "    <tr>\n",
       "      <th>31</th>\n",
       "      <td>-54.545455</td>\n",
       "    </tr>\n",
       "    <tr>\n",
       "      <th>32</th>\n",
       "      <td>-90.000000</td>\n",
       "    </tr>\n",
       "    <tr>\n",
       "      <th>33</th>\n",
       "      <td>13.636364</td>\n",
       "    </tr>\n",
       "  </tbody>\n",
       "</table>\n",
       "</div>"
      ],
      "text/plain": [
       "            0\n",
       "31 -54.545455\n",
       "32 -90.000000\n",
       "33  13.636364"
      ]
     },
     "execution_count": 27,
     "metadata": {},
     "output_type": "execute_result"
    }
   ],
   "source": [
    "#Check Data\n",
    "y_df_over_65.tail(3)"
   ]
  },
  {
   "cell_type": "code",
   "execution_count": 28,
   "metadata": {},
   "outputs": [
    {
     "data": {
      "text/html": [
       "<div>\n",
       "<style scoped>\n",
       "    .dataframe tbody tr th:only-of-type {\n",
       "        vertical-align: middle;\n",
       "    }\n",
       "\n",
       "    .dataframe tbody tr th {\n",
       "        vertical-align: top;\n",
       "    }\n",
       "\n",
       "    .dataframe thead th {\n",
       "        text-align: right;\n",
       "    }\n",
       "</style>\n",
       "<table border=\"1\" class=\"dataframe\">\n",
       "  <thead>\n",
       "    <tr style=\"text-align: right;\">\n",
       "      <th></th>\n",
       "      <th>07_default</th>\n",
       "      <th>03_dorsal_attention</th>\n",
       "      <th>06_frontoparietal</th>\n",
       "      <th>05_limbic</th>\n",
       "      <th>02_somatomotor</th>\n",
       "      <th>04_ventral_attention</th>\n",
       "      <th>01_visual</th>\n",
       "      <th>memory_roi</th>\n",
       "    </tr>\n",
       "  </thead>\n",
       "  <tbody>\n",
       "    <tr>\n",
       "      <th>13</th>\n",
       "      <td>0.225401</td>\n",
       "      <td>-0.258135</td>\n",
       "      <td>-0.285020</td>\n",
       "      <td>0.368540</td>\n",
       "      <td>-0.078414</td>\n",
       "      <td>-0.277158</td>\n",
       "      <td>-0.120098</td>\n",
       "      <td>-0.000590</td>\n",
       "    </tr>\n",
       "    <tr>\n",
       "      <th>14</th>\n",
       "      <td>0.282465</td>\n",
       "      <td>-0.286615</td>\n",
       "      <td>-0.243887</td>\n",
       "      <td>0.324204</td>\n",
       "      <td>-0.065468</td>\n",
       "      <td>-0.254178</td>\n",
       "      <td>-0.184414</td>\n",
       "      <td>-0.000281</td>\n",
       "    </tr>\n",
       "    <tr>\n",
       "      <th>15</th>\n",
       "      <td>0.184575</td>\n",
       "      <td>-0.253650</td>\n",
       "      <td>-0.249294</td>\n",
       "      <td>0.346458</td>\n",
       "      <td>-0.180154</td>\n",
       "      <td>-0.278252</td>\n",
       "      <td>-0.132433</td>\n",
       "      <td>-0.001336</td>\n",
       "    </tr>\n",
       "  </tbody>\n",
       "</table>\n",
       "</div>"
      ],
      "text/plain": [
       "    07_default  03_dorsal_attention  06_frontoparietal  05_limbic  \\\n",
       "13    0.225401            -0.258135          -0.285020   0.368540   \n",
       "14    0.282465            -0.286615          -0.243887   0.324204   \n",
       "15    0.184575            -0.253650          -0.249294   0.346458   \n",
       "\n",
       "    02_somatomotor  04_ventral_attention  01_visual  memory_roi  \n",
       "13       -0.078414             -0.277158  -0.120098   -0.000590  \n",
       "14       -0.065468             -0.254178  -0.184414   -0.000281  \n",
       "15       -0.180154             -0.278252  -0.132433   -0.001336  "
      ]
     },
     "execution_count": 28,
     "metadata": {},
     "output_type": "execute_result"
    }
   ],
   "source": [
    "#Check Data\n",
    "x_df_under_65.tail(3)"
   ]
  },
  {
   "cell_type": "code",
   "execution_count": 29,
   "metadata": {},
   "outputs": [
    {
     "data": {
      "text/html": [
       "<div>\n",
       "<style scoped>\n",
       "    .dataframe tbody tr th:only-of-type {\n",
       "        vertical-align: middle;\n",
       "    }\n",
       "\n",
       "    .dataframe tbody tr th {\n",
       "        vertical-align: top;\n",
       "    }\n",
       "\n",
       "    .dataframe thead th {\n",
       "        text-align: right;\n",
       "    }\n",
       "</style>\n",
       "<table border=\"1\" class=\"dataframe\">\n",
       "  <thead>\n",
       "    <tr style=\"text-align: right;\">\n",
       "      <th></th>\n",
       "      <th>0</th>\n",
       "    </tr>\n",
       "  </thead>\n",
       "  <tbody>\n",
       "    <tr>\n",
       "      <th>13</th>\n",
       "      <td>-105.882353</td>\n",
       "    </tr>\n",
       "    <tr>\n",
       "      <th>14</th>\n",
       "      <td>-4.761905</td>\n",
       "    </tr>\n",
       "    <tr>\n",
       "      <th>15</th>\n",
       "      <td>-207.692308</td>\n",
       "    </tr>\n",
       "  </tbody>\n",
       "</table>\n",
       "</div>"
      ],
      "text/plain": [
       "             0\n",
       "13 -105.882353\n",
       "14   -4.761905\n",
       "15 -207.692308"
      ]
     },
     "execution_count": 29,
     "metadata": {},
     "output_type": "execute_result"
    }
   ],
   "source": [
    "#Check Data\n",
    "y_df_under_65.tail(3)"
   ]
  },
  {
   "cell_type": "markdown",
   "metadata": {},
   "source": [
    "## Save and Finish"
   ]
  },
  {
   "cell_type": "code",
   "execution_count": 30,
   "metadata": {},
   "outputs": [
    {
     "name": "stdout",
     "output_type": "stream",
     "text": [
      "x_df__fxconn-seed_spcorrel_over_65 saved to:  C:\\Users\\calvin.howard\\Dropbox (Partners HealthCare)\\memory\\analyses\\spcorrel\\vtafxconn-yeoseed\\patient_data_fxconn-seed_spcorrel_over_65_xvals.csv\n",
      "y_df__fxconn-seed_spcorrel_over_65 saved to:  C:\\Users\\calvin.howard\\Dropbox (Partners HealthCare)\\memory\\analyses\\spcorrel\\vtafxconn-yeoseed\\patient_data_fxconn-seed_spcorrel_over_65_yvals.csv\n",
      "x_df__fxconn-seed_spcorrel_underequal_65 saved to:  C:\\Users\\calvin.howard\\Dropbox (Partners HealthCare)\\memory\\analyses\\spcorrel\\vtafxconn-yeoseed\\patient_data_fxconn-seed_spcorrel_underequal_65_xvals.csv\n",
      "y_df__fxconn-seed_spcorrel_underequal_65 saved to:  C:\\Users\\calvin.howard\\Dropbox (Partners HealthCare)\\memory\\analyses\\spcorrel\\vtafxconn-yeoseed\\patient_data_fxconn-seed_spcorrel_underequal_65_yvals.csv\n"
     ]
    }
   ],
   "source": [
    "if os.path.isdir(out_dir) != True:\n",
    "    os.mkdir(out_dir)\n",
    "\n",
    "x_df_over_65.to_csv(out_dir+split1+'_xvals.csv')\n",
    "print(f'x_df_{split1} saved to: ', (out_dir+split1+'_xvals.csv'))\n",
    "y_df_over_65.to_csv(out_dir+split1+'_yvals.csv')\n",
    "print(f'y_df_{split1} saved to: ', (out_dir+split1+'_yvals.csv'))\n",
    "\n",
    "x_df_under_65.to_csv(out_dir+split2+'_xvals.csv')\n",
    "print(f'x_df_{split2} saved to: ', (out_dir+split2+'_xvals.csv'))\n",
    "y_df_under_65.to_csv(out_dir+split2+'_yvals.csv')\n",
    "print(f'y_df_{split2} saved to: ', (out_dir+split2+'_yvals.csv'))"
   ]
  },
  {
   "cell_type": "code",
   "execution_count": null,
   "metadata": {},
   "outputs": [],
   "source": []
  }
 ],
 "metadata": {
  "kernelspec": {
   "display_name": "Python 3.10.0 64-bit",
   "language": "python",
   "name": "python3"
  },
  "language_info": {
   "codemirror_mode": {
    "name": "ipython",
    "version": 3
   },
   "file_extension": ".py",
   "mimetype": "text/x-python",
   "name": "python",
   "nbconvert_exporter": "python",
   "pygments_lexer": "ipython3",
   "version": "3.10.0"
  },
  "orig_nbformat": 4,
  "vscode": {
   "interpreter": {
    "hash": "7eee8108913a7dea3e2010d5f96fd6c90213f2c789e5d6204b74f9901449ce6b"
   }
  }
 },
 "nbformat": 4,
 "nbformat_minor": 2
}
