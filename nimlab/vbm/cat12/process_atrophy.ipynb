{
 "cells": [
  {
   "cell_type": "markdown",
   "metadata": {},
   "source": [
    "# 0 - VBM Introduction"
   ]
  },
  {
   "cell_type": "code",
   "execution_count": null,
   "metadata": {},
   "outputs": [],
   "source": []
  },
  {
   "cell_type": "markdown",
   "metadata": {},
   "source": [
    "# 1 - Code Definition\n",
    "- I am leaving the code directly here so you do not need to install anything.\n",
    "- Code is also exposed so you can edit as needed."
   ]
  },
  {
   "cell_type": "code",
   "execution_count": 1,
   "metadata": {},
   "outputs": [],
   "source": [
    "import os\n",
    "import sys\n",
    "import platform\n",
    "import subprocess\n",
    "\n",
    "class CalvinVBM:\n",
    "    \"\"\"\n",
    "    CalvinVBM is a class for orchestrating neuroimaging data processing using Docker.\n",
    "    It facilitates building Docker images and running Docker containers on individual directories containing NIfTI files.\n",
    "    \"\"\"\n",
    "\n",
    "    @staticmethod\n",
    "    def build_docker_image(dockerfile_path):\n",
    "        \"\"\"\n",
    "        Builds the Docker image from the specified Dockerfile.\n",
    "\n",
    "        Args:\n",
    "            dockerfile_path (str): The path to the Dockerfile.\n",
    "        \"\"\"\n",
    "        try:\n",
    "            print(\"Building Docker image...\")\n",
    "            subprocess.call(f\"docker build -t cat12:latest -f {dockerfile_path} .\", shell=True, stdout=None, stderr=None)\n",
    "            # subprocess.run([\"docker\", \"build\", \"-t\", \"cat12:latest\", \"-f\", dockerfile_path, \".\"], check=True)\n",
    "            print(\"Docker image built successfully.\")\n",
    "        except subprocess.CalledProcessError as e:\n",
    "            print(f\"An error occurred while building the Docker image: {e}\")\n",
    "            sys.exit(1)\n",
    "\n",
    "    @staticmethod\n",
    "    def convert_path_for_docker(path):\n",
    "        \"\"\"\n",
    "        Converts a Windows path to a Docker-compatible path (if running on Windows).\n",
    "\n",
    "        Args:\n",
    "            path (str): The original file system path.\n",
    "\n",
    "        Returns:\n",
    "            str: The converted path suitable for Docker volume mounting.\n",
    "        \"\"\"\n",
    "        if platform.system() == \"Windows\":\n",
    "            return path.replace(\"\\\\\", \"/\") #.replace(\"C:\", \"C\")\n",
    "        return path\n",
    "\n",
    "    @staticmethod\n",
    "    def run_docker_on_folder(folder_path):\n",
    "        \"\"\"\n",
    "        Runs the Docker container on the specified folder containing NIfTI files.\n",
    "\n",
    "        Args:\n",
    "            folder_path (str): The path to the folder containing NIfTI files.\n",
    "        \"\"\"\n",
    "        try:\n",
    "            docker_path = CalvinVBM.convert_path_for_docker(folder_path)\n",
    "            print(f\"Processing folder with Docker: {folder_path}\")\n",
    "            subprocess.run([\"docker\", \"run\", \"--rm\", \"-v\", f\"{docker_path}:/data\", \"cat12:latest\"], check=True)\n",
    "            print(f\"Finished processing: {folder_path}\")\n",
    "        except subprocess.CalledProcessError as e:\n",
    "            print(f\"An error occurred while processing {folder_path} with Docker: {e}\")\n",
    "\n",
    "    @staticmethod\n",
    "    def submit_hpc_jobs(data_dir, docker_script_path, job_script_path):\n",
    "        \"\"\"\n",
    "        Submits jobs to an HPC scheduler for processing each subdirectory \n",
    "        in the specified data directory.\n",
    "\n",
    "        Args:\n",
    "            data_dir (str): The path to the directory containing subdirectories with NIfTI files.\n",
    "            docker_script_path (str): The path to the Docker run script.\n",
    "            job_script_path (str): The path to the job submission script for HPC.\n",
    "        \"\"\"\n",
    "        # Ensure the data directory exists\n",
    "        if not os.path.isdir(data_dir):\n",
    "            print(f\"Data directory does not exist: {data_dir}\")\n",
    "            sys.exit(1)\n",
    "\n",
    "        # Iterate over all subdirectories and submit a job for each\n",
    "        for folder_name in os.listdir(data_dir):\n",
    "            folder_path = os.path.join(data_dir, folder_name)\n",
    "            if os.path.isdir(folder_path):\n",
    "                CalvinVBM.submit_hpc_job(folder_path, docker_script_path, job_script_path)\n",
    "\n",
    "    @staticmethod\n",
    "    def submit_hpc_job(folder_path, docker_script_path, job_script_path):\n",
    "        \"\"\"\n",
    "        Submits a single job to an HPC scheduler for processing a given folder.\n",
    "\n",
    "        Args:\n",
    "            folder_path (str): The path to the folder to process.\n",
    "            docker_script_path (str): The path to the Docker run script.\n",
    "            job_script_path (str): The path to the job submission script for HPC.\n",
    "        \"\"\"\n",
    "        try:\n",
    "            print(f\"Submitting job for folder: {folder_path}\")\n",
    "            # Replace the following line with your HPC's job submission command\n",
    "            subprocess.run([\n",
    "                \"bsub\", \"-J\", \"cat12_job\", \n",
    "                \"-o\", \"/path/to/output.txt\", \n",
    "                \"-e\", \"/path/to/error.txt\", \n",
    "                \"-q\", \"normal\", \n",
    "                \"-R\", \"rusage[mem=6000]\", \n",
    "                \"python\", docker_script_path, folder_path\n",
    "            ], check=True)\n",
    "        except subprocess.CalledProcessError as e:\n",
    "            print(f\"An error occurred while submitting {folder_path}: {e}\")\n",
    "\n",
    "\n",
    "\n",
    "# if __name__ == \"__main__\":\n",
    "#     if len(sys.argv) != 3:\n",
    "#         print(\"Usage: python calvin_vbm.py <path_to_data_directory> <path_to_dockerfile>\")\n",
    "#         sys.exit(1)\n",
    "\n",
    "#     data_directory = sys.argv[1]\n",
    "#     dockerfile_path = sys.argv[2]\n",
    "\n",
    "#     CalvinVBM.submit_jobs(data_directory, dockerfile_path)\n",
    "\n"
   ]
  },
  {
   "cell_type": "markdown",
   "metadata": {},
   "source": [
    "# 02 - Execution"
   ]
  },
  {
   "cell_type": "markdown",
   "metadata": {},
   "source": [
    "**Option 1) Submit Jobs to Server**\n",
    "- This uses LSF Job Schedler-style submission. \n",
    "- You must run this off a server which has LSF installed, such as Harvard's ERISTwo.\n",
    "- Some clusters will not work well with Docker, and Singularity will be required. This is pending. "
   ]
  },
  {
   "cell_type": "markdown",
   "metadata": {},
   "source": [
    "**Option 2 - Run A Single Folder of Nifti Files**\n",
    "- This does not submit to cluster. It is stable and will run on your machine. "
   ]
  },
  {
   "cell_type": "markdown",
   "metadata": {},
   "source": [
    "Define the folder with the Niftis in it"
   ]
  },
  {
   "cell_type": "code",
   "execution_count": 2,
   "metadata": {},
   "outputs": [],
   "source": [
    "folder_path = r'C:\\Users\\Calvin\\Documents\\Software\\Research\\nimlab\\vbm\\cat12\\test'"
   ]
  },
  {
   "cell_type": "markdown",
   "metadata": {},
   "source": [
    "Run Docker\n",
    "- Estimated 15 minutes per Nifti file. "
   ]
  },
  {
   "cell_type": "code",
   "execution_count": 3,
   "metadata": {},
   "outputs": [
    {
     "name": "stdout",
     "output_type": "stream",
     "text": [
      "Building Docker image...\n",
      "Docker image built successfully.\n",
      "Processing folder with Docker: C:\\Users\\Calvin\\Documents\\Software\\Research\\nimlab\\vbm\\cat12\\test\n",
      "Finished processing: C:\\Users\\Calvin\\Documents\\Software\\Research\\nimlab\\vbm\\cat12\\test\n"
     ]
    }
   ],
   "source": [
    "CalvinVBM.build_docker_image(dockerfile_path=r\"C:\\Users\\Calvin\\Documents\\Software\\Research\\nimlab\\vbm\\cat12\\containers\\Dockerfile.cat12\")\n",
    "CalvinVBM.run_docker_on_folder(folder_path=folder_path)"
   ]
  },
  {
   "cell_type": "markdown",
   "metadata": {},
   "source": [
    "**Option 3 - Multiprocess a Folder of Nifti Files**\n",
    "- This is stable\n",
    "- Will not provide Total Intracranial Volume. You will need to get it from reports/<file>.xml if you want to correct for Total Intracranial Volume\n",
    "- This may strain your computer. However it will run locally"
   ]
  },
  {
   "cell_type": "markdown",
   "metadata": {},
   "source": [
    "Define the folder with the Niftis in it"
   ]
  },
  {
   "cell_type": "code",
   "execution_count": null,
   "metadata": {},
   "outputs": [],
   "source": [
    "folder_path = r'C:\\Users\\Calvin\\Documents\\Software\\Research\\nimlab\\vbm\\cat12\\test'"
   ]
  },
  {
   "cell_type": "markdown",
   "metadata": {},
   "source": [
    "Run Docker\n",
    "- Estimated 15 minutes per Nifti file.\n",
    "- using 4 processors.\n",
    "- Expected time to completiong = number of file / processors * 15 minutes"
   ]
  },
  {
   "cell_type": "code",
   "execution_count": null,
   "metadata": {},
   "outputs": [],
   "source": [
    "CalvinVBM.build_docker_image(dockerfile_path=r\"C:\\Users\\Calvin\\Documents\\Software\\Research\\nimlab\\vbm\\cat12\\containers\\Dockerfile.cat12_parallel\")\n",
    "CalvinVBM.run_docker_on_folder(folder_path=folder_path)"
   ]
  },
  {
   "cell_type": "markdown",
   "metadata": {},
   "source": [
    "Your VBM is now running. \n",
    " - Calvin Howard\n",
    " - e: choward12@bwh.harvard.edu"
   ]
  }
 ],
 "metadata": {
  "kernelspec": {
   "display_name": "Python 3",
   "language": "python",
   "name": "python3"
  },
  "language_info": {
   "codemirror_mode": {
    "name": "ipython",
    "version": 3
   },
   "file_extension": ".py",
   "mimetype": "text/x-python",
   "name": "python",
   "nbconvert_exporter": "python",
   "pygments_lexer": "ipython3",
   "version": "3.11.6"
  }
 },
 "nbformat": 4,
 "nbformat_minor": 2
}
