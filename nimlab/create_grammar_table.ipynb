{
 "cells": [
  {
   "cell_type": "code",
   "execution_count": 37,
   "metadata": {},
   "outputs": [],
   "source": [
    "import os\n",
    "import pandas as pd\n",
    "import platform\n"
   ]
  },
  {
   "cell_type": "code",
   "execution_count": 38,
   "metadata": {},
   "outputs": [
    {
     "name": "stdout",
     "output_type": "stream",
     "text": [
      "I have set pathnames in the Mac style\n",
      "/Users/cu135/Library/CloudStorage/OneDrive-Personal/OneDrive_Documents/Research/2023/rapid_dementia_screen/grammar_tables/all_patients\n"
     ]
    }
   ],
   "source": [
    "## Paths Input Here\n",
    "analysis = 'grammar_tables/all_patients'\n",
    "if platform.uname().system == 'Darwin': #------------------------------Mac OS X---------------------------------------------------------------\n",
    "    conn_path = r'/Users/cu135/Library/CloudStorage/OneDrive-Personal/OneDrive_Documents/Research/2023/rapid_dementia_screen/main_group.csv'\n",
    "    out_name = os.path.basename(conn_path).split('.csv')[0]\n",
    "    out_dir = os.path.join(os.path.dirname(conn_path), analysis)\n",
    "    print('I have set pathnames in the Mac style')\n",
    "else: #----------------------------------------------------------------Windows----------------------------------------------------------------\n",
    "    conn_path = r'C:\\Users\\calvin.howard\\Dropbox (Partners HealthCare)\\memory\\analyses\\roi-roi_correl\\matrix_corrMx_AvgR.csv'\n",
    "    clin_path = r'C:\\Users\\calvin.howard\\Dropbox (Partners HealthCare)\\memory\\patient_data\\AD_Clinical_Data_CDR_ADAS_COG_13.xlsx'\n",
    "    # clin_path = 'path to clinical values'\n",
    "    out_dir = r'C:\\Users\\calvin.howard\\Dropbox (Partners HealthCare)\\memory\\analyses\\AD_to_memory_net'\n",
    "    #out_dir = r'path to out dir here'\n",
    "    x_roi_names = r'C:\\Users\\calvin.howard\\Dropbox (Partners HealthCare)\\memory\\analyses\\roi-roi_correl\\matrix_corrMx_names.csv'\n",
    "    #roi_names = '<path to roi name location>'\n",
    "    print('I have set pathnames in the Windows style')\n",
    "if os.path.isdir(out_dir) != True:\n",
    "    os.makedirs(out_dir)\n",
    "print(out_dir)"
   ]
  },
  {
   "cell_type": "code",
   "execution_count": 39,
   "metadata": {},
   "outputs": [
    {
     "data": {
      "text/html": [
       "<div>\n",
       "<style scoped>\n",
       "    .dataframe tbody tr th:only-of-type {\n",
       "        vertical-align: middle;\n",
       "    }\n",
       "\n",
       "    .dataframe tbody tr th {\n",
       "        vertical-align: top;\n",
       "    }\n",
       "\n",
       "    .dataframe thead th {\n",
       "        text-align: right;\n",
       "    }\n",
       "</style>\n",
       "<table border=\"1\" class=\"dataframe\">\n",
       "  <thead>\n",
       "    <tr style=\"text-align: right;\">\n",
       "      <th></th>\n",
       "      <th>Threshold</th>\n",
       "      <th>Accuracy</th>\n",
       "      <th>Sensitivity</th>\n",
       "      <th>Specificity</th>\n",
       "      <th>Negative Predictive Value</th>\n",
       "      <th>Positive Predictive Value</th>\n",
       "    </tr>\n",
       "  </thead>\n",
       "  <tbody>\n",
       "    <tr>\n",
       "      <th>0</th>\n",
       "      <td>0.500</td>\n",
       "      <td>0.65</td>\n",
       "      <td>0.06</td>\n",
       "      <td>1.00</td>\n",
       "      <td>0.64</td>\n",
       "      <td>1.00</td>\n",
       "    </tr>\n",
       "    <tr>\n",
       "      <th>1</th>\n",
       "      <td>0.750</td>\n",
       "      <td>0.74</td>\n",
       "      <td>0.82</td>\n",
       "      <td>0.69</td>\n",
       "      <td>0.87</td>\n",
       "      <td>0.61</td>\n",
       "    </tr>\n",
       "    <tr>\n",
       "      <th>2</th>\n",
       "      <td>0.875</td>\n",
       "      <td>0.76</td>\n",
       "      <td>0.94</td>\n",
       "      <td>0.66</td>\n",
       "      <td>0.95</td>\n",
       "      <td>0.62</td>\n",
       "    </tr>\n",
       "    <tr>\n",
       "      <th>3</th>\n",
       "      <td>1.000</td>\n",
       "      <td>0.37</td>\n",
       "      <td>1.00</td>\n",
       "      <td>0.00</td>\n",
       "      <td>0.00</td>\n",
       "      <td>0.37</td>\n",
       "    </tr>\n",
       "  </tbody>\n",
       "</table>\n",
       "</div>"
      ],
      "text/plain": [
       "   Threshold  Accuracy  Sensitivity  Specificity  Negative Predictive Value  \\\n",
       "0      0.500      0.65         0.06         1.00                       0.64   \n",
       "1      0.750      0.74         0.82         0.69                       0.87   \n",
       "2      0.875      0.76         0.94         0.66                       0.95   \n",
       "3      1.000      0.37         1.00         0.00                       0.00   \n",
       "\n",
       "   Positive Predictive Value  \n",
       "0                       1.00  \n",
       "1                       0.61  \n",
       "2                       0.62  \n",
       "3                       0.37  "
      ]
     },
     "metadata": {},
     "output_type": "display_data"
    }
   ],
   "source": [
    "sort = True\n",
    "\n",
    "#----------------------------------------------------------------User Input Above----------------------------------------------------------------\n",
    "try:\n",
    "    sheet_name = 'AD_Clinical_Scores'\n",
    "    alphab_cols = 'B, C, D, E, F, G, J, V'\n",
    "    data_df = pd.read_excel(conn_path, sheet_name=sheet_name, usecols=alphab_cols, nrows=50)\n",
    "    if sort:\n",
    "        data_df.sort_values(by='Patient # CDR, ADAS', ascending=True, inplace=True)\n",
    "        data_df.reset_index(inplace=True, drop=True)\n",
    "        # clin_df = clin_df.set_index('Patient # CDR, ADAS')\n",
    "\n",
    "    #Remove outlier\n",
    "    outlier_index=[11, 47, 48, 49]\n",
    "    data_df = data_df.drop(index=outlier_index)\n",
    "\n",
    "    #Handle NaNs\n",
    "    #Drop NANs\n",
    "    # data_df.dropna(inplace=True)\n",
    "    data_df.pop('Patient # CDR, ADAS')\n",
    "    data_df.pop('Baseline CDR (sum of squares)')\n",
    "    data_df.pop('% Change from baseline (CDR)')\n",
    "except:\n",
    "    data_df = pd.read_csv(conn_path)\n",
    "display(data_df)"
   ]
  },
  {
   "cell_type": "code",
   "execution_count": 40,
   "metadata": {},
   "outputs": [],
   "source": [
    "# sample_size_df = data_df.describe().transpose()\n",
    "# display(sample_size_df)\n",
    "sample_size_df = data_df\n",
    "# sample_size_df.set_index(sample_size_df.columns[0], drop=True, inplace=True)\n",
    "# sample_size_df"
   ]
  },
  {
   "cell_type": "code",
   "execution_count": 41,
   "metadata": {},
   "outputs": [
    {
     "data": {
      "text/html": [
       "<div>\n",
       "<style scoped>\n",
       "    .dataframe tbody tr th:only-of-type {\n",
       "        vertical-align: middle;\n",
       "    }\n",
       "\n",
       "    .dataframe tbody tr th {\n",
       "        vertical-align: top;\n",
       "    }\n",
       "\n",
       "    .dataframe thead th {\n",
       "        text-align: right;\n",
       "    }\n",
       "</style>\n",
       "<table border=\"1\" class=\"dataframe\">\n",
       "  <thead>\n",
       "    <tr style=\"text-align: right;\">\n",
       "      <th></th>\n",
       "      <th>Threshold</th>\n",
       "      <th>Accuracy</th>\n",
       "      <th>Sensitivity</th>\n",
       "      <th>Specificity</th>\n",
       "      <th>Negative Predictive Value</th>\n",
       "      <th>Positive Predictive Value</th>\n",
       "    </tr>\n",
       "  </thead>\n",
       "  <tbody>\n",
       "    <tr>\n",
       "      <th>0</th>\n",
       "      <td>0.500</td>\n",
       "      <td>0.65</td>\n",
       "      <td>0.06</td>\n",
       "      <td>1.00</td>\n",
       "      <td>0.64</td>\n",
       "      <td>1.00</td>\n",
       "    </tr>\n",
       "    <tr>\n",
       "      <th>1</th>\n",
       "      <td>0.750</td>\n",
       "      <td>0.74</td>\n",
       "      <td>0.82</td>\n",
       "      <td>0.69</td>\n",
       "      <td>0.87</td>\n",
       "      <td>0.61</td>\n",
       "    </tr>\n",
       "    <tr>\n",
       "      <th>2</th>\n",
       "      <td>0.875</td>\n",
       "      <td>0.76</td>\n",
       "      <td>0.94</td>\n",
       "      <td>0.66</td>\n",
       "      <td>0.95</td>\n",
       "      <td>0.62</td>\n",
       "    </tr>\n",
       "    <tr>\n",
       "      <th>3</th>\n",
       "      <td>1.000</td>\n",
       "      <td>0.37</td>\n",
       "      <td>1.00</td>\n",
       "      <td>0.00</td>\n",
       "      <td>0.00</td>\n",
       "      <td>0.37</td>\n",
       "    </tr>\n",
       "  </tbody>\n",
       "</table>\n",
       "</div>"
      ],
      "text/plain": [
       "   Threshold  Accuracy  Sensitivity  Specificity  Negative Predictive Value  \\\n",
       "0      0.500      0.65         0.06         1.00                       0.64   \n",
       "1      0.750      0.74         0.82         0.69                       0.87   \n",
       "2      0.875      0.76         0.94         0.66                       0.95   \n",
       "3      1.000      0.37         1.00         0.00                       0.00   \n",
       "\n",
       "   Positive Predictive Value  \n",
       "0                       1.00  \n",
       "1                       0.61  \n",
       "2                       0.62  \n",
       "3                       0.37  "
      ]
     },
     "metadata": {},
     "output_type": "display_data"
    }
   ],
   "source": [
    "import pandas as pd\n",
    "def trial_information(*args):\n",
    "    grouping_variable = 'Trial'\n",
    "    interest_variable = 'Patient # CDR, ADAS'\n",
    "\n",
    "    ##----------------------------------------------------------------User Input Above----------------------------------------------------------------\n",
    "    # Group the data by the \"Trial\" column and get the unique values of \"Patient # CDR, ADAS\"\n",
    "    grouped = data_df.groupby(grouping_variable)[interest_variable].unique()\n",
    "\n",
    "    # Write a string that describes the range of values for each trial\n",
    "    grouped = grouped.apply(lambda x: [str(i) for i in x])\n",
    "    grouped = grouped.apply(lambda x: \"Patients \" + \", \".join(x[:-1]) + \" to \" + x[-1] if len(x) > 1 else \"Patient \" + x[0])\n",
    "\n",
    "    # Group the data by the \"Trial\" column and count the number of occurrences of each value\n",
    "    sample_size_df = data_df.groupby(\"Trial\").size().reset_index(name='Sample Size')\n",
    "    sample_size_df[\"Patients\"] = grouped.values\n",
    "# Show the result\n",
    "display(sample_size_df)"
   ]
  },
  {
   "cell_type": "code",
   "execution_count": 42,
   "metadata": {},
   "outputs": [
    {
     "name": "stderr",
     "output_type": "stream",
     "text": [
      "/var/folders/82/946tskyj68b6htgvndtppmz80000gp/T/ipykernel_84589/1755550286.py:2: FutureWarning: In future versions `DataFrame.to_latex` is expected to utilise the base implementation of `Styler.to_latex` for formatting and rendering. The arguments signature may therefore change. It is recommended instead to use `DataFrame.style.to_latex` which also contains additional functionality.\n",
      "  sample_size_df.to_latex(os.path.join(f'{file_without_extention}.tex'))\n"
     ]
    }
   ],
   "source": [
    "file_without_extention = out_dir\n",
    "sample_size_df.to_latex(os.path.join(f'{file_without_extention}.tex'))\n",
    "\n",
    "with open(f'{file_without_extention}.tex', \"r\") as f:\n",
    "    data = f.read()\n",
    "\n",
    "data = (r\"\\documentclass{standalone}\" + '\\n' +\n",
    "        r\"\\usepackage{booktabs}\" + '\\n' +\n",
    "        r\"\\begin{document}\" + '\\n' +\n",
    "        data +\n",
    "        r\"\\end{document}\")\n",
    "\n",
    "with open(f'{file_without_extention}.tex', \"w\") as f:\n",
    "    f.write(data)\n"
   ]
  },
  {
   "cell_type": "code",
   "execution_count": 43,
   "metadata": {},
   "outputs": [],
   "source": [
    "import subprocess\n",
    "\n",
    "def run_pdflatex(tex_file):\n",
    "    directory = os.path.dirname(tex_file)\n",
    "    print('dir:', directory)\n",
    "    process = subprocess.Popen(['pdflatex', tex_file], stdout=subprocess.PIPE, stderr=subprocess.PIPE)\n",
    "    stdout, stderr = process.communicate()\n",
    "    return stdout, stderr\n",
    "def run_pdfpng(file_without_extention):\n",
    "    process = subprocess.run([\"convert\", \"-density\", \"300\", f'{file_without_extention}.pdf', f'{file_without_extention}.png'], stdout=subprocess.PIPE, stderr=subprocess.PIPE)\n",
    "    stdout, stderr = process.stdout, process.stderr\n",
    "    return stdout, stderr"
   ]
  },
  {
   "cell_type": "code",
   "execution_count": 44,
   "metadata": {},
   "outputs": [
    {
     "name": "stdout",
     "output_type": "stream",
     "text": [
      "dir: /Users/cu135/Library/CloudStorage/OneDrive-Personal/OneDrive_Documents/Research/2023/rapid_dementia_screen/grammar_tables\n",
      "Output:  b'This is pdfTeX, Version 3.141592653-2.6-1.40.24 (TeX Live 2022/Homebrew) (preloaded format=pdflatex)\\n restricted \\\\write18 enabled.\\nentering extended mode\\n\\n(/Users/cu135/Library/CloudStorage/OneDrive-Personal/OneDrive_Documents/Researc\\nh/2023/rapid_dementia_screen/grammar_tables/all_patients.tex\\nLaTeX2e <2021-11-15> patch level 1\\nL3 programming layer <2022-02-24>\\n(/opt/homebrew/Cellar/texlive/20220321_4/share/texmf-dist/tex/latex/standalone/\\nstandalone.cls\\nDocument Class: standalone 2018/03/26 v1.3a Class to compile TeX sub-files stan\\ndalone\\n\\n(/opt/homebrew/Cellar/texlive/20220321_4/share/texmf-dist/tex/latex/tools/shell\\nesc.sty)\\n(/opt/homebrew/Cellar/texlive/20220321_4/share/texmf-dist/tex/generic/iftex/ifl\\nuatex.sty\\n(/opt/homebrew/Cellar/texlive/20220321_4/share/texmf-dist/tex/generic/iftex/ift\\nex.sty))\\n(/opt/homebrew/Cellar/texlive/20220321_4/share/texmf-dist/tex/latex/xkeyval/xke\\nyval.sty\\n(/opt/homebrew/Cellar/texlive/20220321_4/share/texmf-dist/tex/generic/xkeyval/x\\nkeyval.tex\\n(/opt/homebrew/Cellar/texlive/20220321_4/share/texmf-dist/tex/generic/xkeyval/x\\nkvutils.tex\\n(/opt/homebrew/Cellar/texlive/20220321_4/share/texmf-dist/tex/generic/xkeyval/k\\neyval.tex))))\\n(/opt/homebrew/Cellar/texlive/20220321_4/share/texmf-dist/tex/latex/standalone/\\nstandalone.cfg)\\n(/opt/homebrew/Cellar/texlive/20220321_4/share/texmf-dist/tex/latex/base/articl\\ne.cls\\nDocument Class: article 2021/10/04 v1.4n Standard LaTeX document class\\n\\n(/opt/homebrew/Cellar/texlive/20220321_4/share/texmf-dist/tex/latex/base/size10\\n.clo)))\\n(/opt/homebrew/Cellar/texlive/20220321_4/share/texmf-dist/tex/latex/booktabs/bo\\noktabs.sty)\\n(/opt/homebrew/Cellar/texlive/20220321_4/share/texmf-dist/tex/latex/l3backend/l\\n3backend-pdftex.def)\\nNo file all_patients.aux.\\n[1{/opt/homebrew/Cellar/texlive/20220321_4/share/texmf-dist/fonts/map/pdftex/up\\ndmap/pdftex.map}] (./all_patients.aux) )</opt/homebrew/Cellar/texlive/20220321_\\n4/share/texmf-dist/fonts/type1/public/amsfonts/cm/cmr10.pfb>\\nOutput written on all_patients.pdf (1 page, 18415 bytes).\\nTranscript written on all_patients.log.\\n'\n",
      "Error:  b\"convert: profile 'icc': 'RGB ': RGB color space not permitted on grayscale PNG `all_patients.png' @ warning/png.c/MagickPNGWarningHandler/1526.\\n\"\n"
     ]
    }
   ],
   "source": [
    "# # Convert the .tex file to a .pdf file\n",
    "stdout, stderr = run_pdflatex(f'{file_without_extention}.tex')\n",
    "if stderr:\n",
    "    print('Error: ', stderr)\n",
    "else:\n",
    "    print('Output: ', stdout)\n",
    "\n",
    "# Convert the .pdf file to a .png file\n",
    "stdout, stderr = run_pdfpng(f'{os.path.basename(analysis)}')\n",
    "if stderr:\n",
    "    print('Error: ', stderr)\n",
    "else:\n",
    "    print('Output: ', stdout)\n",
    "# !convert -density 300 table.pdf -quality 90 table.png"
   ]
  },
  {
   "cell_type": "code",
   "execution_count": 45,
   "metadata": {},
   "outputs": [
    {
     "data": {
      "text/plain": [
       "'/Users/cu135/Library/CloudStorage/OneDrive-Personal/OneDrive_Documents/Research/2023/rapid_dementia_screen/grammar_tables/all_patients/all_patients.pdf'"
      ]
     },
     "execution_count": 45,
     "metadata": {},
     "output_type": "execute_result"
    }
   ],
   "source": [
    "#Move files and close\n",
    "import shutil\n",
    "shutil.move(os.path.basename(f'{os.path.basename(analysis)}.png'), out_dir)\n",
    "shutil.move(os.path.basename(f'{os.path.basename(analysis)}.pdf'), out_dir)"
   ]
  },
  {
   "cell_type": "code",
   "execution_count": null,
   "metadata": {},
   "outputs": [],
   "source": []
  }
 ],
 "metadata": {
  "kernelspec": {
   "display_name": "nimlab_py310",
   "language": "python",
   "name": "python3"
  },
  "language_info": {
   "codemirror_mode": {
    "name": "ipython",
    "version": 3
   },
   "file_extension": ".py",
   "mimetype": "text/x-python",
   "name": "python",
   "nbconvert_exporter": "python",
   "pygments_lexer": "ipython3",
   "version": "3.10.8"
  },
  "orig_nbformat": 4,
  "vscode": {
   "interpreter": {
    "hash": "62880161f19d28ddb8a8f59c63374d84ace356c39e36cc839cb3fb3bb03fb010"
   }
  }
 },
 "nbformat": 4,
 "nbformat_minor": 2
}
